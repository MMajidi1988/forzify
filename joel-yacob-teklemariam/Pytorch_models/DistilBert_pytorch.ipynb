{
 "cells": [
  {
   "cell_type": "code",
   "execution_count": 1,
   "metadata": {
    "colab": {
     "base_uri": "https://localhost:8080/"
    },
    "id": "SLzVi8Kp9pVm",
    "outputId": "aecd2c69-ffd5-419c-cd3e-73baace250b2"
   },
   "outputs": [],
   "source": [
    "#!pip3 install accelerate transformers[pytorch] PyTorch optuna wandb datasets"
   ]
  },
  {
   "cell_type": "code",
   "execution_count": 2,
   "metadata": {
    "id": "VtpDhi8-ZWHF"
   },
   "outputs": [
    {
     "name": "stderr",
     "output_type": "stream",
     "text": [
      "/net/fs-2/scale/OrionStore/Scratch/joteklem/MyCondaEnvironments/Python3.11/orion_env/lib/python3.11/site-packages/tqdm/auto.py:21: TqdmWarning: IProgress not found. Please update jupyter and ipywidgets. See https://ipywidgets.readthedocs.io/en/stable/user_install.html\n",
      "  from .autonotebook import tqdm as notebook_tqdm\n",
      "Failed to detect the name of this notebook, you can set it manually with the WANDB_NOTEBOOK_NAME environment variable to enable code saving.\n",
      "\u001b[34m\u001b[1mwandb\u001b[0m: Currently logged in as: \u001b[33mjoelyacob91\u001b[0m (\u001b[33mmaster-2024\u001b[0m). Use \u001b[1m`wandb login --relogin`\u001b[0m to force relogin\n",
      "2024-04-18 15:00:14.811905: I tensorflow/core/platform/cpu_feature_guard.cc:182] This TensorFlow binary is optimized to use available CPU instructions in performance-critical operations.\n",
      "To enable the following instructions: SSE4.1 SSE4.2 AVX AVX2 FMA, in other operations, rebuild TensorFlow with the appropriate compiler flags.\n"
     ]
    }
   ],
   "source": [
    "import numpy as np\n",
    "import pandas as pd\n",
    "import matplotlib.pyplot as plt\n",
    "%matplotlib inline\n",
    "import seaborn as sns\n",
    "import optuna \n",
    "from optuna import trial\n",
    "import random\n",
    "import os \n",
    "import pickle\n",
    "\n",
    "import torch.cuda\n",
    "import torch\n",
    "from torch import nn\n",
    "\n",
    "import wandb\n",
    "wandb.login()\n",
    "\n",
    "from transformers import AutoTokenizer, AutoModelForSequenceClassification\n",
    "from transformers import TrainingArguments, Trainer\n",
    "from transformers import TrainerCallback\n",
    "from transformers import set_seed\n",
    "\n",
    "from sklearn.metrics import (accuracy_score,\n",
    "                            f1_score,\n",
    "                            precision_score,\n",
    "                            recall_score,\n",
    "                            precision_recall_curve,\n",
    "                            auc, \n",
    "                            confusion_matrix,\n",
    "                            ConfusionMatrixDisplay,\n",
    "                            balanced_accuracy_score,\n",
    "                            classification_report)\n",
    "\n",
    "from sklearn.model_selection import train_test_split\n",
    "\n",
    "from datasets import Dataset, DatasetDict\n",
    "from accelerate import Accelerator\n",
    "from numpy.random import seed\n",
    "from lightning.pytorch import seed_everything\n",
    "import time"
   ]
  },
  {
   "cell_type": "code",
   "execution_count": 3,
   "metadata": {
    "id": "7jfhuu0IZWHI"
   },
   "outputs": [],
   "source": [
    "model_ckpt = \"distilbert-base-uncased\""
   ]
  },
  {
   "cell_type": "code",
   "execution_count": 4,
   "metadata": {
    "id": "_8XsTvaVLZRg"
   },
   "outputs": [],
   "source": [
    "def model_init():\n",
    "    device = torch.device(\"cuda\" if torch.cuda.is_available() else \"cpu\")\n",
    "    model = AutoModelForSequenceClassification.from_pretrained(model_ckpt, num_labels=3)\n",
    "    model.to(device)\n",
    "    return model"
   ]
  },
  {
   "cell_type": "code",
   "execution_count": 5,
   "metadata": {
    "colab": {
     "base_uri": "https://localhost:8080/"
    },
    "id": "_U-kewIsLsRq",
    "outputId": "94123c8a-5ece-43df-b8d7-caf837b24c91"
   },
   "outputs": [
    {
     "name": "stderr",
     "output_type": "stream",
     "text": [
      "Some weights of DistilBertForSequenceClassification were not initialized from the model checkpoint at distilbert-base-uncased and are newly initialized: ['classifier.bias', 'classifier.weight', 'pre_classifier.bias', 'pre_classifier.weight']\n",
      "You should probably TRAIN this model on a down-stream task to be able to use it for predictions and inference.\n"
     ]
    },
    {
     "data": {
      "text/plain": [
       "DistilBertForSequenceClassification(\n",
       "  (distilbert): DistilBertModel(\n",
       "    (embeddings): Embeddings(\n",
       "      (word_embeddings): Embedding(30522, 768, padding_idx=0)\n",
       "      (position_embeddings): Embedding(512, 768)\n",
       "      (LayerNorm): LayerNorm((768,), eps=1e-12, elementwise_affine=True)\n",
       "      (dropout): Dropout(p=0.1, inplace=False)\n",
       "    )\n",
       "    (transformer): Transformer(\n",
       "      (layer): ModuleList(\n",
       "        (0-5): 6 x TransformerBlock(\n",
       "          (attention): MultiHeadSelfAttention(\n",
       "            (dropout): Dropout(p=0.1, inplace=False)\n",
       "            (q_lin): Linear(in_features=768, out_features=768, bias=True)\n",
       "            (k_lin): Linear(in_features=768, out_features=768, bias=True)\n",
       "            (v_lin): Linear(in_features=768, out_features=768, bias=True)\n",
       "            (out_lin): Linear(in_features=768, out_features=768, bias=True)\n",
       "          )\n",
       "          (sa_layer_norm): LayerNorm((768,), eps=1e-12, elementwise_affine=True)\n",
       "          (ffn): FFN(\n",
       "            (dropout): Dropout(p=0.1, inplace=False)\n",
       "            (lin1): Linear(in_features=768, out_features=3072, bias=True)\n",
       "            (lin2): Linear(in_features=3072, out_features=768, bias=True)\n",
       "            (activation): GELUActivation()\n",
       "          )\n",
       "          (output_layer_norm): LayerNorm((768,), eps=1e-12, elementwise_affine=True)\n",
       "        )\n",
       "      )\n",
       "    )\n",
       "  )\n",
       "  (pre_classifier): Linear(in_features=768, out_features=768, bias=True)\n",
       "  (classifier): Linear(in_features=768, out_features=3, bias=True)\n",
       "  (dropout): Dropout(p=0.2, inplace=False)\n",
       ")"
      ]
     },
     "execution_count": 5,
     "metadata": {},
     "output_type": "execute_result"
    }
   ],
   "source": [
    "model_init()"
   ]
  },
  {
   "cell_type": "code",
   "execution_count": 6,
   "metadata": {
    "colab": {
     "base_uri": "https://localhost:8080/"
    },
    "id": "89oNEKxtZWHJ",
    "outputId": "d5842bff-f368-4eca-936b-5cfcbbe62c41"
   },
   "outputs": [
    {
     "name": "stdout",
     "output_type": "stream",
     "text": [
      "Thu Apr 18 15:00:39 2024       \n",
      "+---------------------------------------------------------------------------------------+\n",
      "| NVIDIA-SMI 535.154.05             Driver Version: 535.154.05   CUDA Version: 12.2     |\n",
      "|-----------------------------------------+----------------------+----------------------+\n",
      "| GPU  Name                 Persistence-M | Bus-Id        Disp.A | Volatile Uncorr. ECC |\n",
      "| Fan  Temp   Perf          Pwr:Usage/Cap |         Memory-Usage | GPU-Util  Compute M. |\n",
      "|                                         |                      |               MIG M. |\n",
      "|=========================================+======================+======================|\n",
      "|   0  Quadro RTX 8000                On  | 00000000:81:00.0 Off |                  Off |\n",
      "| 33%   30C    P2              52W / 260W |   9937MiB / 49152MiB |      9%      Default |\n",
      "|                                         |                      |                  N/A |\n",
      "+-----------------------------------------+----------------------+----------------------+\n",
      "|   1  Quadro RTX 8000                On  | 00000000:A1:00.0 Off |                  Off |\n",
      "| 33%   29C    P8              12W / 260W |      0MiB / 49152MiB |      0%      Default |\n",
      "|                                         |                      |                  N/A |\n",
      "+-----------------------------------------+----------------------+----------------------+\n",
      "                                                                                         \n",
      "+---------------------------------------------------------------------------------------+\n",
      "| Processes:                                                                            |\n",
      "|  GPU   GI   CI        PID   Type   Process name                            GPU Memory |\n",
      "|        ID   ID                                                             Usage      |\n",
      "|=======================================================================================|\n",
      "|    0   N/A  N/A     11010      C   ...nts/Python3.11/orion_env/bin/python      454MiB |\n",
      "|    0   N/A  N/A     45707      C   ...nts/Python3.11/orion_env/bin/python     9480MiB |\n",
      "+---------------------------------------------------------------------------------------+\n"
     ]
    }
   ],
   "source": [
    "!nvidia-smi"
   ]
  },
  {
   "cell_type": "code",
   "execution_count": 7,
   "metadata": {
    "colab": {
     "base_uri": "https://localhost:8080/"
    },
    "id": "w5uQGOyYZWHK",
    "outputId": "50a3dcec-3cf1-4407-baf4-cea4aa7f9205"
   },
   "outputs": [
    {
     "name": "stdout",
     "output_type": "stream",
     "text": [
      "1\n"
     ]
    }
   ],
   "source": [
    "print(torch.cuda.device_count())"
   ]
  },
  {
   "cell_type": "code",
   "execution_count": 8,
   "metadata": {},
   "outputs": [
    {
     "name": "stdout",
     "output_type": "stream",
     "text": [
      "/net/fs-2/scale/OrionStore/Home/joteklem/Pytorch_models\n"
     ]
    }
   ],
   "source": [
    "print(os.getcwd())"
   ]
  },
  {
   "cell_type": "code",
   "execution_count": 9,
   "metadata": {},
   "outputs": [
    {
     "data": {
      "text/plain": [
       "DatasetDict({\n",
       "    train: Dataset({\n",
       "        features: ['text', 'labels', 'input_ids', 'token_type_ids', 'attention_mask'],\n",
       "        num_rows: 10078\n",
       "    })\n",
       "    validation: Dataset({\n",
       "        features: ['text', 'labels', 'input_ids', 'token_type_ids', 'attention_mask'],\n",
       "        num_rows: 3360\n",
       "    })\n",
       "    test: Dataset({\n",
       "        features: ['text', 'labels', 'input_ids', 'token_type_ids', 'attention_mask'],\n",
       "        num_rows: 3360\n",
       "    })\n",
       "})"
      ]
     },
     "execution_count": 9,
     "metadata": {},
     "output_type": "execute_result"
    }
   ],
   "source": [
    "with open('/net/fs-2/scale/OrionStore/Home/joteklem/Preprocessing/BERT_dataset_15.pkl', 'rb') as f:\n",
    "    encoded_dataset_15 = pickle.load(f)\n",
    "encoded_dataset_15"
   ]
  },
  {
   "cell_type": "code",
   "execution_count": 10,
   "metadata": {},
   "outputs": [
    {
     "data": {
      "text/plain": [
       "DatasetDict({\n",
       "    train: Dataset({\n",
       "        features: ['text', 'labels', 'input_ids', 'token_type_ids', 'attention_mask'],\n",
       "        num_rows: 10128\n",
       "    })\n",
       "    validation: Dataset({\n",
       "        features: ['text', 'labels', 'input_ids', 'token_type_ids', 'attention_mask'],\n",
       "        num_rows: 3376\n",
       "    })\n",
       "    test: Dataset({\n",
       "        features: ['text', 'labels', 'input_ids', 'token_type_ids', 'attention_mask'],\n",
       "        num_rows: 3376\n",
       "    })\n",
       "})"
      ]
     },
     "execution_count": 10,
     "metadata": {},
     "output_type": "execute_result"
    }
   ],
   "source": [
    "with open('/net/fs-2/scale/OrionStore/Home/joteklem/Preprocessing/BERT_dataset_30.pkl', 'rb') as f:\n",
    "    encoded_dataset_30 = pickle.load(f)\n",
    "encoded_dataset_30"
   ]
  },
  {
   "cell_type": "code",
   "execution_count": 11,
   "metadata": {},
   "outputs": [],
   "source": [
    "tokenizer = AutoTokenizer.from_pretrained(model_ckpt)"
   ]
  },
  {
   "cell_type": "code",
   "execution_count": 12,
   "metadata": {},
   "outputs": [],
   "source": [
    "#encoded_df_15 = pd.read_csv('/net/fs-2/scale/OrionStore/Home/joteklem/Datasets/all_leagues_df_15sec.csv')\n",
    "#encoded_df_15['encoded_label'] = encoded_df_15['label'].astype('category').cat.codes\n",
    "#encoded_df_15 = encoded_df_15[['ASR_text', 'encoded_label']]\n",
    "#encoded_df_15.columns"
   ]
  },
  {
   "cell_type": "code",
   "execution_count": 13,
   "metadata": {},
   "outputs": [],
   "source": [
    "#encoded_df_30 = pd.read_csv('/net/fs-2/scale/OrionStore/Home/joteklem/Datasets/all_leagues_df_30sec.csv')\n",
    "#encoded_df_30['encoded_label'] = encoded_df_30['label'].astype('category').cat.codes\n",
    "#encoded_df_30 = encoded_df_30[['ASR_text', 'encoded_label']]\n",
    "#encoded_df_30.columns"
   ]
  },
  {
   "cell_type": "code",
   "execution_count": 14,
   "metadata": {
    "colab": {
     "base_uri": "https://localhost:8080/"
    },
    "id": "mcEGMOpvfA86",
    "outputId": "ae20acb3-96b6-425f-f34e-d86e0588fd95"
   },
   "outputs": [],
   "source": [
    "#class_weights_15 = (1 - (encoded_df_15['encoded_label'].value_counts().sort_index() / len(encoded_df_15['encoded_label']))).values\n",
    "#class_weights_15"
   ]
  },
  {
   "cell_type": "code",
   "execution_count": 15,
   "metadata": {
    "colab": {
     "base_uri": "https://localhost:8080/"
    },
    "id": "mcEGMOpvfA86",
    "outputId": "ae20acb3-96b6-425f-f34e-d86e0588fd95"
   },
   "outputs": [],
   "source": [
    "#class_weights_30 = (1 - (encoded_df_30['encoded_label'].value_counts().sort_index() / len(encoded_df_30['encoded_label']))).values\n",
    "#class_weights_30"
   ]
  },
  {
   "cell_type": "code",
   "execution_count": 16,
   "metadata": {},
   "outputs": [],
   "source": [
    "# Since they are the approximately the same we can have the same class weight for bothn of the classes."
   ]
  },
  {
   "cell_type": "code",
   "execution_count": 17,
   "metadata": {
    "colab": {
     "base_uri": "https://localhost:8080/"
    },
    "id": "37lq987JfUha",
    "outputId": "3a360e99-faa6-4adb-bbcf-4742748e5820"
   },
   "outputs": [],
   "source": [
    "#class_weights = class_weights_15\n",
    "#class_weights = torch.from_numpy(class_weights_15).float().to('cuda')\n",
    "#class_weights"
   ]
  },
  {
   "cell_type": "code",
   "execution_count": 18,
   "metadata": {
    "id": "IRWJYLpkiSAC"
   },
   "outputs": [],
   "source": [
    "#class WeightedLossTrainer(Trainer):\n",
    "#  def Loss(self, model, input, return_outputs=False):\n",
    "\n",
    "    # Feed input to model and extract logits\n",
    "#    outputs = model(**inputs)\n",
    "#    logits = outputs.get('logits')\n",
    "\n",
    "    # Extract labels\n",
    "#    labels = inputs.get('labels')\n",
    "\n",
    "    # Define loss function with class weights\n",
    "#    loss_func = nn.CrossEntropyLoss(weight=class_weights)\n",
    "\n",
    "    # Compute loss\n",
    "#    loss = loss_func(logits, labels)\n",
    "\n",
    "#    return (loss, ouputs) if return_outputs else loss"
   ]
  },
  {
   "cell_type": "code",
   "execution_count": 19,
   "metadata": {
    "id": "aAvk7gyvZWHU"
   },
   "outputs": [],
   "source": [
    "def compute_metrics(eval_pred):\n",
    "    predictions, labels = eval_pred\n",
    "    preds = predictions.argmax(-1)\n",
    "\n",
    "    # F1-Score\n",
    "    f1 = f1_score(labels, preds, average=\"weighted\", zero_division=0)\n",
    "    f1_macro = f1_score(labels, preds, average=\"macro\", zero_division=0)\n",
    "    f1_micro = f1_score(labels, preds, average=\"micro\", zero_division=0)\n",
    "\n",
    "    # Precision\n",
    "    #precision = precision_score(labels, preds, average='weighted')\n",
    "    #precision_macro = precision_score(labels, preds, average='macro')\n",
    "    #precision_micro = precision_score(labels, preds, average='micro')\n",
    "\n",
    "    # Recall\n",
    "    #recall = recall_score(labels, preds, average='weighted')\n",
    "    #recall_macro = recall_score(labels, preds, average='macro')\n",
    "    #recall_micro = recall_score(labels, preds, average='micro')\n",
    "\n",
    "    # Accuracy\n",
    "    acc = accuracy_score(labels, preds)\n",
    "    bal_acc = balanced_accuracy_score(labels, preds)\n",
    "\n",
    "    # Classification report \n",
    "    class_report = classification_report(labels, preds, output_dict=True, zero_division=0)\n",
    "    \n",
    "    return {\"Accuracy\": acc,\n",
    "            \"Balanced accuracy\": bal_acc,\n",
    "            \"F1 weighted\": f1,\n",
    "            'F1 macro':f1_macro,\n",
    "            'F1 micro':f1_micro,\n",
    "            #'Recall': recall,\n",
    "            #'Precision': precision,\n",
    "            \"Classification Report\": class_report}"
   ]
  },
  {
   "cell_type": "code",
   "execution_count": 20,
   "metadata": {},
   "outputs": [],
   "source": [
    "class LossTrackingCallback(TrainerCallback):\n",
    "    \"\"\"Logs aggregate metrics after each epoch.\"\"\"\n",
    "    def __init__(self):\n",
    "        super().__init__()\n",
    "        # Initialize lists to store all values temporarily\n",
    "        self._training_losses = []\n",
    "        self._validation_losses = []\n",
    "        # Initialize variables to store final or average values\n",
    "        self.final_training_loss = None\n",
    "        self.final_validation_loss = None\n",
    "\n",
    "    def on_epoch_end(self, args, state, control, **kwargs):\n",
    "        # Compute final or average losses here and store them in instance variables\n",
    "        if self._training_losses:\n",
    "            self.final_training_loss = self._training_losses[-1] \n",
    "        if self._validation_losses:\n",
    "            self.final_validation_loss = self._validation_losses[-1]  \n",
    "\n",
    "    def on_log(self, args, state, control, logs=None, **kwargs):\n",
    "        # Temporarily store all loss values\n",
    "        if 'loss' in logs:\n",
    "            self._training_losses.append(logs['loss'])\n",
    "        if 'eval_loss' in logs:\n",
    "            self._validation_losses.append(logs['eval_loss'])\n",
    "\n",
    "loss_metric = LossTrackingCallback()"
   ]
  },
  {
   "cell_type": "code",
   "execution_count": 21,
   "metadata": {},
   "outputs": [],
   "source": [
    "class OptunaCallback(TrainerCallback):\n",
    "    def __init__(self, trial):\n",
    "        self.trial = trial\n",
    "\n",
    "    def on_evaluate(self, args, state, control, metrics=None, **kwargs):\n",
    "        # Report the intermediate value to Optuna\n",
    "        self.trial.report(metrics['eval_F1 weighted'], step=state.epoch)\n",
    "        # Check if the current trial should be pruned\n",
    "        if self.trial.should_prune():\n",
    "            raise optuna.exceptions.TrialPruned()"
   ]
  },
  {
   "cell_type": "code",
   "execution_count": 22,
   "metadata": {},
   "outputs": [],
   "source": [
    "\n",
    "def objective_closure(data):\n",
    "    \"\"\"\n",
    "    A closure for the objective function to include the dataset.\n",
    "    \"\"\"\n",
    "    def objective(trial):\n",
    "        \n",
    "        wandb.init(project='DistilBERT', config=trial.params, name=f\"trial-{trial.number}\")\n",
    "         \n",
    "        print(f\"Starting trial {trial.number}\")\n",
    "        \n",
    "        # Hyperparameter suggestions\n",
    "        learning_rate = trial.suggest_float(\"learning_rate\", 1e-5, 1e-3, log=True)\n",
    "        per_device_train_batch_size = trial.suggest_categorical(\"per_device_train_batch_size\", [8, 16, 32])\n",
    "        weight_decay = trial.suggest_float(\"weight_decay\", 0.0, 0.3)\n",
    "        num_train_epochs = trial.suggest_categorical('num_train_epochs', [2, 3, 4, 5])\n",
    "        warmup_steps = trial.suggest_int('warmup_steps', 0, 500)\n",
    "    \n",
    "        model_name = f\"{model_ckpt}-finetuned-ASR_text\"\n",
    "        \n",
    "        # Setup training arguments\n",
    "        training_args = TrainingArguments(\n",
    "            output_dir=model_name,  \n",
    "            num_train_epochs=num_train_epochs,\n",
    "            learning_rate=learning_rate,\n",
    "            per_device_train_batch_size=per_device_train_batch_size,\n",
    "            per_device_eval_batch_size=per_device_train_batch_size,\n",
    "            weight_decay=weight_decay,\n",
    "            warmup_steps=warmup_steps,\n",
    "            evaluation_strategy=\"epoch\",\n",
    "            gradient_accumulation_steps=2,\n",
    "            fp16=True,\n",
    "            disable_tqdm=False,\n",
    "            logging_steps=len(data['train']) // per_device_train_batch_size,\n",
    "            log_level=\"error\",\n",
    "            report_to=\"wandb\", \n",
    "            seed=23\n",
    "        )\n",
    "    \n",
    "        # Initialize the Trainer\n",
    "        trainer = Trainer(\n",
    "            model_init=model_init,\n",
    "            args=training_args,\n",
    "            compute_metrics=compute_metrics,\n",
    "            train_dataset=data['train'],\n",
    "            eval_dataset=data['validation'],\n",
    "            callbacks=[OptunaCallback(trial),loss_metric],\n",
    "            tokenizer=tokenizer,\n",
    "        )\n",
    "    \n",
    "        # Train the model\n",
    "        trainer.train()\n",
    "    \n",
    "        # Evaluate the model\n",
    "        eval_results = trainer.evaluate()\n",
    "\n",
    "        # Retrieve metrics for multi-objective optimization\n",
    "        f1_macro = eval_results.get('eval_F1 macro')\n",
    "        trial.set_user_attr('eval_F1 macro',f1_macro)\n",
    "        \n",
    "        training_loss = loss_metric.final_training_loss\n",
    "        validation_loss = loss_metric.final_validation_loss\n",
    "\n",
    "        # Check if the current trial is the best\n",
    "        if trial.should_prune():\n",
    "            raise optuna.exceptions.TrialPruned()\n",
    "\n",
    "        print(f\"Completed trial {trial.number}\")\n",
    "\n",
    "        wandb.log({\"Macro F1 score\": f1_macro})\n",
    "        wandb.log({\"Training loss\":training_loss, \"Validation loss\":validation_loss})\n",
    "            \n",
    "        wandb.finish()\n",
    "        \n",
    "        # Return the primary metric for optimization\n",
    "        return f1_macro\n",
    "     \n",
    "    return objective"
   ]
  },
  {
   "cell_type": "code",
   "execution_count": 23,
   "metadata": {},
   "outputs": [
    {
     "name": "stderr",
     "output_type": "stream",
     "text": [
      "[I 2024-04-18 15:00:41,935] A new study created in RDB with name: DistilBERT_15_study\n",
      "[I 2024-04-18 15:00:42,815] A new study created in RDB with name: DistilBERT_30_study\n"
     ]
    }
   ],
   "source": [
    "# Seed\n",
    "sampler = optuna.samplers.TPESampler(seed=42)\n",
    "\n",
    "# Enable Optuna's default logging\n",
    "optuna.logging.enable_default_handler()\n",
    "\n",
    "# Create the study with a pruner\n",
    "pruner = optuna.pruners.MedianPruner()\n",
    "\n",
    "study_15 = optuna.create_study(\n",
    "    direction=\"maximize\",\n",
    "    study_name='DistilBERT_15_study',\n",
    "    storage='sqlite:///DistilBERT_15.db',\n",
    "    pruner=pruner, sampler=sampler\n",
    ")\n",
    "\n",
    "study_30 = optuna.create_study(\n",
    "    direction=\"maximize\",\n",
    "    study_name='DistilBERT_30_study',\n",
    "    storage='sqlite:///DistilBERT_30.db',\n",
    "    pruner=pruner, sampler=sampler\n",
    ")"
   ]
  },
  {
   "cell_type": "code",
   "execution_count": 24,
   "metadata": {},
   "outputs": [
    {
     "data": {
      "text/html": [
       "wandb version 0.16.6 is available!  To upgrade, please run:\n",
       " $ pip install wandb --upgrade"
      ],
      "text/plain": [
       "<IPython.core.display.HTML object>"
      ]
     },
     "metadata": {},
     "output_type": "display_data"
    },
    {
     "data": {
      "text/html": [
       "Tracking run with wandb version 0.16.4"
      ],
      "text/plain": [
       "<IPython.core.display.HTML object>"
      ]
     },
     "metadata": {},
     "output_type": "display_data"
    },
    {
     "data": {
      "text/html": [
       "Run data is saved locally in <code>/net/fs-2/scale/OrionStore/Home/joteklem/Pytorch_models/wandb/run-20240418_150042-vzxyy4zf</code>"
      ],
      "text/plain": [
       "<IPython.core.display.HTML object>"
      ]
     },
     "metadata": {},
     "output_type": "display_data"
    },
    {
     "data": {
      "text/html": [
       "Syncing run <strong><a href='https://wandb.ai/master-2024/DistilBERT/runs/vzxyy4zf' target=\"_blank\">trial-0</a></strong> to <a href='https://wandb.ai/master-2024/DistilBERT' target=\"_blank\">Weights & Biases</a> (<a href='https://wandb.me/run' target=\"_blank\">docs</a>)<br/>"
      ],
      "text/plain": [
       "<IPython.core.display.HTML object>"
      ]
     },
     "metadata": {},
     "output_type": "display_data"
    },
    {
     "data": {
      "text/html": [
       " View project at <a href='https://wandb.ai/master-2024/DistilBERT' target=\"_blank\">https://wandb.ai/master-2024/DistilBERT</a>"
      ],
      "text/plain": [
       "<IPython.core.display.HTML object>"
      ]
     },
     "metadata": {},
     "output_type": "display_data"
    },
    {
     "data": {
      "text/html": [
       " View run at <a href='https://wandb.ai/master-2024/DistilBERT/runs/vzxyy4zf' target=\"_blank\">https://wandb.ai/master-2024/DistilBERT/runs/vzxyy4zf</a>"
      ],
      "text/plain": [
       "<IPython.core.display.HTML object>"
      ]
     },
     "metadata": {},
     "output_type": "display_data"
    },
    {
     "name": "stderr",
     "output_type": "stream",
     "text": [
      "/net/fs-2/scale/OrionStore/Scratch/joteklem/MyCondaEnvironments/Python3.11/orion_env/lib/python3.11/site-packages/accelerate/accelerator.py:432: FutureWarning: Passing the following arguments to `Accelerator` is deprecated and will be removed in version 1.0 of Accelerate: dict_keys(['dispatch_batches', 'split_batches', 'even_batches', 'use_seedable_sampler']). Please pass an `accelerate.DataLoaderConfiguration` instead: \n",
      "dataloader_config = DataLoaderConfiguration(dispatch_batches=None, split_batches=False, even_batches=True, use_seedable_sampler=True)\n",
      "  warnings.warn(\n",
      "Detected kernel version 3.10.0, which is below the recommended minimum of 5.5.0; this can cause the process to hang. It is recommended to upgrade the kernel to the minimum version or higher.\n"
     ]
    },
    {
     "name": "stdout",
     "output_type": "stream",
     "text": [
      "Starting trial 0\n"
     ]
    },
    {
     "data": {
      "text/html": [
       "\n",
       "    <div>\n",
       "      \n",
       "      <progress value='2520' max='2520' style='width:300px; height:20px; vertical-align: middle;'></progress>\n",
       "      [2520/2520 03:02, Epoch 4/4]\n",
       "    </div>\n",
       "    <table border=\"1\" class=\"dataframe\">\n",
       "  <thead>\n",
       " <tr style=\"text-align: left;\">\n",
       "      <th>Epoch</th>\n",
       "      <th>Training Loss</th>\n",
       "      <th>Validation Loss</th>\n",
       "      <th>Accuracy</th>\n",
       "      <th>Balanced accuracy</th>\n",
       "      <th>F1 weighted</th>\n",
       "      <th>F1 macro</th>\n",
       "      <th>F1 micro</th>\n",
       "      <th>Classification report</th>\n",
       "    </tr>\n",
       "  </thead>\n",
       "  <tbody>\n",
       "    <tr>\n",
       "      <td>1</td>\n",
       "      <td>No log</td>\n",
       "      <td>0.544798</td>\n",
       "      <td>0.805655</td>\n",
       "      <td>0.687572</td>\n",
       "      <td>0.799250</td>\n",
       "      <td>0.717206</td>\n",
       "      <td>0.805655</td>\n",
       "      <td>{'0': {'precision': 0.7282608695652174, 'recall': 0.6714922048997772, 'f1-score': 0.6987253765932793, 'support': 898.0}, '1': {'precision': 0.8403614457831325, 'recall': 0.9087947882736156, 'f1-score': 0.8732394366197183, 'support': 2149.0}, '2': {'precision': 0.7259615384615384, 'recall': 0.48242811501597443, 'f1-score': 0.5796545105566219, 'support': 313.0}, 'accuracy': 0.8056547619047619, 'macro avg': {'precision': 0.7648612846032962, 'recall': 0.6875717027297892, 'f1-score': 0.7172064412565398, 'support': 3360.0}, 'weighted avg': {'precision': 0.7997443361297555, 'recall': 0.8056547619047619, 'f1-score': 0.7992496426430838, 'support': 3360.0}}</td>\n",
       "    </tr>\n",
       "    <tr>\n",
       "      <td>2</td>\n",
       "      <td>0.551600</td>\n",
       "      <td>0.500080</td>\n",
       "      <td>0.814583</td>\n",
       "      <td>0.719088</td>\n",
       "      <td>0.810121</td>\n",
       "      <td>0.744162</td>\n",
       "      <td>0.814583</td>\n",
       "      <td>{'0': {'precision': 0.7302551640340219, 'recall': 0.6692650334075724, 'f1-score': 0.6984311446833237, 'support': 898.0}, '1': {'precision': 0.8511101436656509, 'recall': 0.9097254536993951, 'f1-score': 0.8794421952316689, 'support': 2149.0}, '2': {'precision': 0.7541666666666667, 'recall': 0.5782747603833865, 'f1-score': 0.6546112115732369, 'support': 313.0}, 'accuracy': 0.8145833333333333, 'macro avg': {'precision': 0.7785106581221131, 'recall': 0.719088415830118, 'f1-score': 0.744161517162743, 'support': 3360.0}, 'weighted avg': {'precision': 0.8097794650912804, 'recall': 0.8145833333333333, 'f1-score': 0.8101207603276502, 'support': 3360.0}}</td>\n",
       "    </tr>\n",
       "    <tr>\n",
       "      <td>3</td>\n",
       "      <td>0.551600</td>\n",
       "      <td>0.584649</td>\n",
       "      <td>0.805952</td>\n",
       "      <td>0.752099</td>\n",
       "      <td>0.806129</td>\n",
       "      <td>0.747509</td>\n",
       "      <td>0.805952</td>\n",
       "      <td>{'0': {'precision': 0.7055492638731596, 'recall': 0.6937639198218263, 'f1-score': 0.699606962380685, 'support': 898.0}, '1': {'precision': 0.8708624708624708, 'recall': 0.8692415076779898, 'f1-score': 0.8700512342803912, 'support': 2149.0}, '2': {'precision': 0.6536144578313253, 'recall': 0.6932907348242812, 'f1-score': 0.6728682170542635, 'support': 313.0}, 'accuracy': 0.805952380952381, 'macro avg': {'precision': 0.7433420641889853, 'recall': 0.7520987207746991, 'f1-score': 0.74750880457178, 'support': 3360.0}, 'weighted avg': {'precision': 0.8064428613520095, 'recall': 0.805952380952381, 'f1-score': 0.8061294364953573, 'support': 3360.0}}</td>\n",
       "    </tr>\n",
       "    <tr>\n",
       "      <td>4</td>\n",
       "      <td>0.224700</td>\n",
       "      <td>0.762726</td>\n",
       "      <td>0.810417</td>\n",
       "      <td>0.739140</td>\n",
       "      <td>0.808290</td>\n",
       "      <td>0.750727</td>\n",
       "      <td>0.810417</td>\n",
       "      <td>{'0': {'precision': 0.7149587750294464, 'recall': 0.6759465478841871, 'f1-score': 0.6949055523755009, 'support': 898.0}, '1': {'precision': 0.8585541086663673, 'recall': 0.8897161470451372, 'f1-score': 0.8738574040219377, 'support': 2149.0}, '2': {'precision': 0.7183098591549296, 'recall': 0.6517571884984026, 'f1-score': 0.6834170854271358, 'support': 313.0}, 'accuracy': 0.8104166666666667, 'macro avg': {'precision': 0.7639409142835811, 'recall': 0.7391399611425756, 'f1-score': 0.7507266806081914, 'support': 3360.0}, 'weighted avg': {'precision': 0.8071121266118925, 'recall': 0.8104166666666667, 'f1-score': 0.8082899687544755, 'support': 3360.0}}</td>\n",
       "    </tr>\n",
       "  </tbody>\n",
       "</table><p>"
      ],
      "text/plain": [
       "<IPython.core.display.HTML object>"
      ]
     },
     "metadata": {},
     "output_type": "display_data"
    },
    {
     "data": {
      "text/html": [
       "\n",
       "    <div>\n",
       "      \n",
       "      <progress value='420' max='420' style='width:300px; height:20px; vertical-align: middle;'></progress>\n",
       "      [420/420 00:02]\n",
       "    </div>\n",
       "    "
      ],
      "text/plain": [
       "<IPython.core.display.HTML object>"
      ]
     },
     "metadata": {},
     "output_type": "display_data"
    },
    {
     "name": "stderr",
     "output_type": "stream",
     "text": [
      "/net/fs-2/scale/OrionStore/Scratch/joteklem/MyCondaEnvironments/Python3.11/orion_env/lib/python3.11/site-packages/optuna/trial/_trial.py:499: UserWarning: The reported value is ignored because this `step` 4.0 is already reported.\n",
      "  warnings.warn(\n"
     ]
    },
    {
     "name": "stdout",
     "output_type": "stream",
     "text": [
      "Completed trial 0\n"
     ]
    },
    {
     "data": {
      "text/html": [
       "<style>\n",
       "    table.wandb td:nth-child(1) { padding: 0 10px; text-align: left ; width: auto;} td:nth-child(2) {text-align: left ; width: 100%}\n",
       "    .wandb-row { display: flex; flex-direction: row; flex-wrap: wrap; justify-content: flex-start; width: 100% }\n",
       "    .wandb-col { display: flex; flex-direction: column; flex-basis: 100%; flex: 1; padding: 10px; }\n",
       "    </style>\n",
       "<div class=\"wandb-row\"><div class=\"wandb-col\"><h3>Run history:</h3><br/><table class=\"wandb\"><tr><td>Macro F1 score</td><td>▁</td></tr><tr><td>Training loss</td><td>▁</td></tr><tr><td>Validation loss</td><td>▁</td></tr><tr><td>eval/Accuracy</td><td>▁█▁▅▅</td></tr><tr><td>eval/Balanced accuracy</td><td>▁▄█▇▇</td></tr><tr><td>eval/F1 macro</td><td>▁▇▇██</td></tr><tr><td>eval/F1 micro</td><td>▁█▁▅▅</td></tr><tr><td>eval/F1 weighted</td><td>▁█▅▇▇</td></tr><tr><td>eval/loss</td><td>▂▁▃██</td></tr><tr><td>eval/runtime</td><td>▂█▁▁▂</td></tr><tr><td>eval/samples_per_second</td><td>▇▁██▇</td></tr><tr><td>eval/steps_per_second</td><td>▇▁██▇</td></tr><tr><td>train/epoch</td><td>▁▃▃▆████</td></tr><tr><td>train/global_step</td><td>▁▃▃▆██████</td></tr><tr><td>train/grad_norm</td><td>█▁</td></tr><tr><td>train/learning_rate</td><td>█▁</td></tr><tr><td>train/loss</td><td>█▁</td></tr><tr><td>train/total_flos</td><td>▁</td></tr><tr><td>train/train_loss</td><td>▁</td></tr><tr><td>train/train_runtime</td><td>▁</td></tr><tr><td>train/train_samples_per_second</td><td>▁</td></tr><tr><td>train/train_steps_per_second</td><td>▁</td></tr></table><br/></div><div class=\"wandb-col\"><h3>Run summary:</h3><br/><table class=\"wandb\"><tr><td>Macro F1 score</td><td>0.75073</td></tr><tr><td>Training loss</td><td>0.2247</td></tr><tr><td>Validation loss</td><td>0.58465</td></tr><tr><td>eval/Accuracy</td><td>0.81042</td></tr><tr><td>eval/Balanced accuracy</td><td>0.73914</td></tr><tr><td>eval/F1 macro</td><td>0.75073</td></tr><tr><td>eval/F1 micro</td><td>0.81042</td></tr><tr><td>eval/F1 weighted</td><td>0.80829</td></tr><tr><td>eval/loss</td><td>0.76273</td></tr><tr><td>eval/runtime</td><td>2.779</td></tr><tr><td>eval/samples_per_second</td><td>1209.065</td></tr><tr><td>eval/steps_per_second</td><td>151.133</td></tr><tr><td>train/epoch</td><td>4.0</td></tr><tr><td>train/global_step</td><td>2520</td></tr><tr><td>train/grad_norm</td><td>1.25013</td></tr><tr><td>train/learning_rate</td><td>0.0</td></tr><tr><td>train/loss</td><td>0.2247</td></tr><tr><td>train/total_flos</td><td>677787224339340.0</td></tr><tr><td>train/train_loss</td><td>0.388</td></tr><tr><td>train/train_runtime</td><td>183.5603</td></tr><tr><td>train/train_samples_per_second</td><td>219.612</td></tr><tr><td>train/train_steps_per_second</td><td>13.728</td></tr></table><br/></div></div>"
      ],
      "text/plain": [
       "<IPython.core.display.HTML object>"
      ]
     },
     "metadata": {},
     "output_type": "display_data"
    },
    {
     "data": {
      "text/html": [
       " View run <strong style=\"color:#cdcd00\">trial-0</strong> at: <a href='https://wandb.ai/master-2024/DistilBERT/runs/vzxyy4zf' target=\"_blank\">https://wandb.ai/master-2024/DistilBERT/runs/vzxyy4zf</a><br/>Synced 5 W&B file(s), 0 media file(s), 0 artifact file(s) and 0 other file(s)"
      ],
      "text/plain": [
       "<IPython.core.display.HTML object>"
      ]
     },
     "metadata": {},
     "output_type": "display_data"
    },
    {
     "data": {
      "text/html": [
       "Find logs at: <code>./wandb/run-20240418_150042-vzxyy4zf/logs</code>"
      ],
      "text/plain": [
       "<IPython.core.display.HTML object>"
      ]
     },
     "metadata": {},
     "output_type": "display_data"
    },
    {
     "name": "stderr",
     "output_type": "stream",
     "text": [
      "[I 2024-04-18 15:03:58,825] Trial 0 finished with value: 0.7507266806081914 and parameters: {'learning_rate': 5.6115164153345e-05, 'per_device_train_batch_size': 8, 'weight_decay': 0.04680559213273095, 'num_train_epochs': 4, 'warmup_steps': 354}. Best is trial 0 with value: 0.7507266806081914.\n"
     ]
    },
    {
     "data": {
      "text/html": [
       "wandb version 0.16.6 is available!  To upgrade, please run:\n",
       " $ pip install wandb --upgrade"
      ],
      "text/plain": [
       "<IPython.core.display.HTML object>"
      ]
     },
     "metadata": {},
     "output_type": "display_data"
    },
    {
     "data": {
      "text/html": [
       "Tracking run with wandb version 0.16.4"
      ],
      "text/plain": [
       "<IPython.core.display.HTML object>"
      ]
     },
     "metadata": {},
     "output_type": "display_data"
    },
    {
     "data": {
      "text/html": [
       "Run data is saved locally in <code>/net/fs-2/scale/OrionStore/Home/joteklem/Pytorch_models/wandb/run-20240418_150358-oel0l06y</code>"
      ],
      "text/plain": [
       "<IPython.core.display.HTML object>"
      ]
     },
     "metadata": {},
     "output_type": "display_data"
    },
    {
     "data": {
      "text/html": [
       "Syncing run <strong><a href='https://wandb.ai/master-2024/DistilBERT/runs/oel0l06y' target=\"_blank\">trial-1</a></strong> to <a href='https://wandb.ai/master-2024/DistilBERT' target=\"_blank\">Weights & Biases</a> (<a href='https://wandb.me/run' target=\"_blank\">docs</a>)<br/>"
      ],
      "text/plain": [
       "<IPython.core.display.HTML object>"
      ]
     },
     "metadata": {},
     "output_type": "display_data"
    },
    {
     "data": {
      "text/html": [
       " View project at <a href='https://wandb.ai/master-2024/DistilBERT' target=\"_blank\">https://wandb.ai/master-2024/DistilBERT</a>"
      ],
      "text/plain": [
       "<IPython.core.display.HTML object>"
      ]
     },
     "metadata": {},
     "output_type": "display_data"
    },
    {
     "data": {
      "text/html": [
       " View run at <a href='https://wandb.ai/master-2024/DistilBERT/runs/oel0l06y' target=\"_blank\">https://wandb.ai/master-2024/DistilBERT/runs/oel0l06y</a>"
      ],
      "text/plain": [
       "<IPython.core.display.HTML object>"
      ]
     },
     "metadata": {},
     "output_type": "display_data"
    },
    {
     "name": "stderr",
     "output_type": "stream",
     "text": [
      "/net/fs-2/scale/OrionStore/Scratch/joteklem/MyCondaEnvironments/Python3.11/orion_env/lib/python3.11/site-packages/accelerate/accelerator.py:432: FutureWarning: Passing the following arguments to `Accelerator` is deprecated and will be removed in version 1.0 of Accelerate: dict_keys(['dispatch_batches', 'split_batches', 'even_batches', 'use_seedable_sampler']). Please pass an `accelerate.DataLoaderConfiguration` instead: \n",
      "dataloader_config = DataLoaderConfiguration(dispatch_batches=None, split_batches=False, even_batches=True, use_seedable_sampler=True)\n",
      "  warnings.warn(\n",
      "Detected kernel version 3.10.0, which is below the recommended minimum of 5.5.0; this can cause the process to hang. It is recommended to upgrade the kernel to the minimum version or higher.\n"
     ]
    },
    {
     "name": "stdout",
     "output_type": "stream",
     "text": [
      "Starting trial 1\n"
     ]
    },
    {
     "data": {
      "text/html": [
       "\n",
       "    <div>\n",
       "      \n",
       "      <progress value='2520' max='2520' style='width:300px; height:20px; vertical-align: middle;'></progress>\n",
       "      [2520/2520 03:01, Epoch 4/4]\n",
       "    </div>\n",
       "    <table border=\"1\" class=\"dataframe\">\n",
       "  <thead>\n",
       " <tr style=\"text-align: left;\">\n",
       "      <th>Epoch</th>\n",
       "      <th>Training Loss</th>\n",
       "      <th>Validation Loss</th>\n",
       "      <th>Accuracy</th>\n",
       "      <th>Balanced accuracy</th>\n",
       "      <th>F1 weighted</th>\n",
       "      <th>F1 macro</th>\n",
       "      <th>F1 micro</th>\n",
       "      <th>Classification report</th>\n",
       "    </tr>\n",
       "  </thead>\n",
       "  <tbody>\n",
       "    <tr>\n",
       "      <td>1</td>\n",
       "      <td>No log</td>\n",
       "      <td>0.539622</td>\n",
       "      <td>0.798810</td>\n",
       "      <td>0.649225</td>\n",
       "      <td>0.787532</td>\n",
       "      <td>0.686756</td>\n",
       "      <td>0.798810</td>\n",
       "      <td>{'0': {'precision': 0.7181705809641533, 'recall': 0.6469933184855234, 'f1-score': 0.6807264206209724, 'support': 898.0}, '1': {'precision': 0.8277731442869057, 'recall': 0.9236854350860866, 'f1-score': 0.8731031449307237, 'support': 2149.0}, '2': {'precision': 0.7712418300653595, 'recall': 0.3769968051118211, 'f1-score': 0.5064377682403433, 'support': 313.0}, 'accuracy': 0.7988095238095239, 'macro avg': {'precision': 0.7723951851054728, 'recall': 0.6492251862278103, 'f1-score': 0.6867557779306798, 'support': 3360.0}, 'weighted avg': {'precision': 0.7932143933300083, 'recall': 0.7988095238095239, 'f1-score': 0.7875315492955315, 'support': 3360.0}}</td>\n",
       "    </tr>\n",
       "    <tr>\n",
       "      <td>2</td>\n",
       "      <td>0.581200</td>\n",
       "      <td>0.503151</td>\n",
       "      <td>0.814583</td>\n",
       "      <td>0.718656</td>\n",
       "      <td>0.809875</td>\n",
       "      <td>0.741857</td>\n",
       "      <td>0.814583</td>\n",
       "      <td>{'0': {'precision': 0.7496871088861077, 'recall': 0.6670378619153675, 'f1-score': 0.7059516794342959, 'support': 898.0}, '1': {'precision': 0.8471861471861472, 'recall': 0.9106561191251745, 'f1-score': 0.8777752859385514, 'support': 2149.0}, '2': {'precision': 0.7211155378486056, 'recall': 0.5782747603833865, 'f1-score': 0.6418439716312057, 'support': 313.0}, 'accuracy': 0.8145833333333333, 'macro avg': {'precision': 0.7726629313069534, 'recall': 0.7186562471413095, 'f1-score': 0.7418569790013511, 'support': 3360.0}, 'weighted avg': {'precision': 0.8093842909015978, 'recall': 0.8145833333333333, 'f1-score': 0.8098752561709857, 'support': 3360.0}}</td>\n",
       "    </tr>\n",
       "    <tr>\n",
       "      <td>3</td>\n",
       "      <td>0.581200</td>\n",
       "      <td>0.508202</td>\n",
       "      <td>0.813690</td>\n",
       "      <td>0.731190</td>\n",
       "      <td>0.810103</td>\n",
       "      <td>0.745587</td>\n",
       "      <td>0.813690</td>\n",
       "      <td>{'0': {'precision': 0.7506297229219143, 'recall': 0.6636971046770601, 'f1-score': 0.7044917257683215, 'support': 898.0}, '1': {'precision': 0.8513809732573433, 'recall': 0.9036761284318288, 'f1-score': 0.8767494356659142, 'support': 2149.0}, '2': {'precision': 0.6877192982456141, 'recall': 0.6261980830670927, 'f1-score': 0.6555183946488294, 'support': 313.0}, 'accuracy': 0.8136904761904762, 'macro avg': {'precision': 0.7632433314749573, 'recall': 0.7311904387253273, 'f1-score': 0.745586518694355, 'support': 3360.0}, 'weighted avg': {'precision': 0.8092081378169009, 'recall': 0.8136904761904762, 'f1-score': 0.8101027870568708, 'support': 3360.0}}</td>\n",
       "    </tr>\n",
       "    <tr>\n",
       "      <td>4</td>\n",
       "      <td>0.356700</td>\n",
       "      <td>0.527935</td>\n",
       "      <td>0.816071</td>\n",
       "      <td>0.722423</td>\n",
       "      <td>0.811331</td>\n",
       "      <td>0.745873</td>\n",
       "      <td>0.816071</td>\n",
       "      <td>{'0': {'precision': 0.7525252525252525, 'recall': 0.6636971046770601, 'f1-score': 0.7053254437869823, 'support': 898.0}, '1': {'precision': 0.8470842332613391, 'recall': 0.9125174499767333, 'f1-score': 0.878584229390681, 'support': 2149.0}, '2': {'precision': 0.7312252964426877, 'recall': 0.5910543130990416, 'f1-score': 0.6537102473498233, 'support': 313.0}, 'accuracy': 0.8160714285714286, 'macro avg': {'precision': 0.7769449274097596, 'recall': 0.7224229559176116, 'f1-score': 0.7458733068424955, 'support': 3360.0}, 'weighted avg': {'precision': 0.8110194082835879, 'recall': 0.8160714285714286, 'f1-score': 0.8113306740779103, 'support': 3360.0}}</td>\n",
       "    </tr>\n",
       "  </tbody>\n",
       "</table><p>"
      ],
      "text/plain": [
       "<IPython.core.display.HTML object>"
      ]
     },
     "metadata": {},
     "output_type": "display_data"
    },
    {
     "data": {
      "text/html": [
       "\n",
       "    <div>\n",
       "      \n",
       "      <progress value='420' max='420' style='width:300px; height:20px; vertical-align: middle;'></progress>\n",
       "      [420/420 00:02]\n",
       "    </div>\n",
       "    "
      ],
      "text/plain": [
       "<IPython.core.display.HTML object>"
      ]
     },
     "metadata": {},
     "output_type": "display_data"
    },
    {
     "name": "stderr",
     "output_type": "stream",
     "text": [
      "/net/fs-2/scale/OrionStore/Scratch/joteklem/MyCondaEnvironments/Python3.11/orion_env/lib/python3.11/site-packages/optuna/trial/_trial.py:499: UserWarning: The reported value is ignored because this `step` 4.0 is already reported.\n",
      "  warnings.warn(\n"
     ]
    },
    {
     "name": "stdout",
     "output_type": "stream",
     "text": [
      "Completed trial 1\n"
     ]
    },
    {
     "data": {
      "text/html": [
       "<style>\n",
       "    table.wandb td:nth-child(1) { padding: 0 10px; text-align: left ; width: auto;} td:nth-child(2) {text-align: left ; width: 100%}\n",
       "    .wandb-row { display: flex; flex-direction: row; flex-wrap: wrap; justify-content: flex-start; width: 100% }\n",
       "    .wandb-col { display: flex; flex-direction: column; flex-basis: 100%; flex: 1; padding: 10px; }\n",
       "    </style>\n",
       "<div class=\"wandb-row\"><div class=\"wandb-col\"><h3>Run history:</h3><br/><table class=\"wandb\"><tr><td>Macro F1 score</td><td>▁</td></tr><tr><td>Training loss</td><td>▁</td></tr><tr><td>Validation loss</td><td>▁</td></tr><tr><td>eval/Accuracy</td><td>▁▇▇██</td></tr><tr><td>eval/Balanced accuracy</td><td>▁▇█▇▇</td></tr><tr><td>eval/F1 macro</td><td>▁████</td></tr><tr><td>eval/F1 micro</td><td>▁▇▇██</td></tr><tr><td>eval/F1 weighted</td><td>▁████</td></tr><tr><td>eval/loss</td><td>█▁▂▆▆</td></tr><tr><td>eval/runtime</td><td>▁▁▁▁█</td></tr><tr><td>eval/samples_per_second</td><td>████▁</td></tr><tr><td>eval/steps_per_second</td><td>████▁</td></tr><tr><td>train/epoch</td><td>▁▃▃▆████</td></tr><tr><td>train/global_step</td><td>▁▃▃▆██████</td></tr><tr><td>train/grad_norm</td><td>▁█</td></tr><tr><td>train/learning_rate</td><td>█▁</td></tr><tr><td>train/loss</td><td>█▁</td></tr><tr><td>train/total_flos</td><td>▁</td></tr><tr><td>train/train_loss</td><td>▁</td></tr><tr><td>train/train_runtime</td><td>▁</td></tr><tr><td>train/train_samples_per_second</td><td>▁</td></tr><tr><td>train/train_steps_per_second</td><td>▁</td></tr></table><br/></div><div class=\"wandb-col\"><h3>Run summary:</h3><br/><table class=\"wandb\"><tr><td>Macro F1 score</td><td>0.74587</td></tr><tr><td>Training loss</td><td>0.3567</td></tr><tr><td>Validation loss</td><td>0.5082</td></tr><tr><td>eval/Accuracy</td><td>0.81607</td></tr><tr><td>eval/Balanced accuracy</td><td>0.72242</td></tr><tr><td>eval/F1 macro</td><td>0.74587</td></tr><tr><td>eval/F1 micro</td><td>0.81607</td></tr><tr><td>eval/F1 weighted</td><td>0.81133</td></tr><tr><td>eval/loss</td><td>0.52793</td></tr><tr><td>eval/runtime</td><td>2.8272</td></tr><tr><td>eval/samples_per_second</td><td>1188.449</td></tr><tr><td>eval/steps_per_second</td><td>148.556</td></tr><tr><td>train/epoch</td><td>4.0</td></tr><tr><td>train/global_step</td><td>2520</td></tr><tr><td>train/grad_norm</td><td>10.39798</td></tr><tr><td>train/learning_rate</td><td>0.0</td></tr><tr><td>train/loss</td><td>0.3567</td></tr><tr><td>train/total_flos</td><td>677787224339340.0</td></tr><tr><td>train/train_loss</td><td>0.46889</td></tr><tr><td>train/train_runtime</td><td>181.6607</td></tr><tr><td>train/train_samples_per_second</td><td>221.908</td></tr><tr><td>train/train_steps_per_second</td><td>13.872</td></tr></table><br/></div></div>"
      ],
      "text/plain": [
       "<IPython.core.display.HTML object>"
      ]
     },
     "metadata": {},
     "output_type": "display_data"
    },
    {
     "data": {
      "text/html": [
       " View run <strong style=\"color:#cdcd00\">trial-1</strong> at: <a href='https://wandb.ai/master-2024/DistilBERT/runs/oel0l06y' target=\"_blank\">https://wandb.ai/master-2024/DistilBERT/runs/oel0l06y</a><br/>Synced 5 W&B file(s), 0 media file(s), 0 artifact file(s) and 0 other file(s)"
      ],
      "text/plain": [
       "<IPython.core.display.HTML object>"
      ]
     },
     "metadata": {},
     "output_type": "display_data"
    },
    {
     "data": {
      "text/html": [
       "Find logs at: <code>./wandb/run-20240418_150358-oel0l06y/logs</code>"
      ],
      "text/plain": [
       "<IPython.core.display.HTML object>"
      ]
     },
     "metadata": {},
     "output_type": "display_data"
    },
    {
     "name": "stderr",
     "output_type": "stream",
     "text": [
      "[I 2024-04-18 15:07:11,722] Trial 1 finished with value: 0.7458733068424955 and parameters: {'learning_rate': 1.0994335574766187e-05, 'per_device_train_batch_size': 8, 'weight_decay': 0.05454749016213018, 'num_train_epochs': 4, 'warmup_steps': 145}. Best is trial 0 with value: 0.7507266806081914.\n"
     ]
    },
    {
     "data": {
      "text/html": [
       "wandb version 0.16.6 is available!  To upgrade, please run:\n",
       " $ pip install wandb --upgrade"
      ],
      "text/plain": [
       "<IPython.core.display.HTML object>"
      ]
     },
     "metadata": {},
     "output_type": "display_data"
    },
    {
     "data": {
      "text/html": [
       "Tracking run with wandb version 0.16.4"
      ],
      "text/plain": [
       "<IPython.core.display.HTML object>"
      ]
     },
     "metadata": {},
     "output_type": "display_data"
    },
    {
     "data": {
      "text/html": [
       "Run data is saved locally in <code>/net/fs-2/scale/OrionStore/Home/joteklem/Pytorch_models/wandb/run-20240418_150711-yn0b9os9</code>"
      ],
      "text/plain": [
       "<IPython.core.display.HTML object>"
      ]
     },
     "metadata": {},
     "output_type": "display_data"
    },
    {
     "data": {
      "text/html": [
       "Syncing run <strong><a href='https://wandb.ai/master-2024/DistilBERT/runs/yn0b9os9' target=\"_blank\">trial-2</a></strong> to <a href='https://wandb.ai/master-2024/DistilBERT' target=\"_blank\">Weights & Biases</a> (<a href='https://wandb.me/run' target=\"_blank\">docs</a>)<br/>"
      ],
      "text/plain": [
       "<IPython.core.display.HTML object>"
      ]
     },
     "metadata": {},
     "output_type": "display_data"
    },
    {
     "data": {
      "text/html": [
       " View project at <a href='https://wandb.ai/master-2024/DistilBERT' target=\"_blank\">https://wandb.ai/master-2024/DistilBERT</a>"
      ],
      "text/plain": [
       "<IPython.core.display.HTML object>"
      ]
     },
     "metadata": {},
     "output_type": "display_data"
    },
    {
     "data": {
      "text/html": [
       " View run at <a href='https://wandb.ai/master-2024/DistilBERT/runs/yn0b9os9' target=\"_blank\">https://wandb.ai/master-2024/DistilBERT/runs/yn0b9os9</a>"
      ],
      "text/plain": [
       "<IPython.core.display.HTML object>"
      ]
     },
     "metadata": {},
     "output_type": "display_data"
    },
    {
     "name": "stderr",
     "output_type": "stream",
     "text": [
      "/net/fs-2/scale/OrionStore/Scratch/joteklem/MyCondaEnvironments/Python3.11/orion_env/lib/python3.11/site-packages/accelerate/accelerator.py:432: FutureWarning: Passing the following arguments to `Accelerator` is deprecated and will be removed in version 1.0 of Accelerate: dict_keys(['dispatch_batches', 'split_batches', 'even_batches', 'use_seedable_sampler']). Please pass an `accelerate.DataLoaderConfiguration` instead: \n",
      "dataloader_config = DataLoaderConfiguration(dispatch_batches=None, split_batches=False, even_batches=True, use_seedable_sampler=True)\n",
      "  warnings.warn(\n",
      "Detected kernel version 3.10.0, which is below the recommended minimum of 5.5.0; this can cause the process to hang. It is recommended to upgrade the kernel to the minimum version or higher.\n"
     ]
    },
    {
     "name": "stdout",
     "output_type": "stream",
     "text": [
      "Starting trial 2\n"
     ]
    },
    {
     "data": {
      "text/html": [
       "\n",
       "    <div>\n",
       "      \n",
       "      <progress value='314' max='314' style='width:300px; height:20px; vertical-align: middle;'></progress>\n",
       "      [314/314 00:23, Epoch 1/2]\n",
       "    </div>\n",
       "    <table border=\"1\" class=\"dataframe\">\n",
       "  <thead>\n",
       " <tr style=\"text-align: left;\">\n",
       "      <th>Epoch</th>\n",
       "      <th>Training Loss</th>\n",
       "      <th>Validation Loss</th>\n",
       "      <th>Accuracy</th>\n",
       "      <th>Balanced accuracy</th>\n",
       "      <th>F1 weighted</th>\n",
       "      <th>F1 macro</th>\n",
       "      <th>F1 micro</th>\n",
       "      <th>Classification report</th>\n",
       "    </tr>\n",
       "  </thead>\n",
       "  <tbody>\n",
       "    <tr>\n",
       "      <td>0</td>\n",
       "      <td>No log</td>\n",
       "      <td>0.514047</td>\n",
       "      <td>0.809524</td>\n",
       "      <td>0.703088</td>\n",
       "      <td>0.802272</td>\n",
       "      <td>0.729322</td>\n",
       "      <td>0.809524</td>\n",
       "      <td>{'0': {'precision': 0.7808988764044944, 'recall': 0.6191536748329621, 'f1-score': 0.6906832298136646, 'support': 898.0}, '1': {'precision': 0.830685618729097, 'recall': 0.9246161005118659, 'f1-score': 0.8751376348821844, 'support': 2149.0}, '2': {'precision': 0.69140625, 'recall': 0.5654952076677316, 'f1-score': 0.6221441124780316, 'support': 313.0}, 'accuracy': 0.8095238095238095, 'macro avg': {'precision': 0.7676635817111972, 'recall': 0.7030883276708533, 'f1-score': 0.7293216590579602, 'support': 3360.0}, 'weighted avg': {'precision': 0.804404982711329, 'recall': 0.8095238095238095, 'f1-score': 0.802272447898842, 'support': 3360.0}}</td>\n",
       "    </tr>\n",
       "    <tr>\n",
       "      <td>1</td>\n",
       "      <td>0.522900</td>\n",
       "      <td>0.504323</td>\n",
       "      <td>0.819940</td>\n",
       "      <td>0.727783</td>\n",
       "      <td>0.814667</td>\n",
       "      <td>0.748119</td>\n",
       "      <td>0.819940</td>\n",
       "      <td>{'0': {'precision': 0.782258064516129, 'recall': 0.6481069042316259, 'f1-score': 0.7088915956151035, 'support': 898.0}, '1': {'precision': 0.8462195642887654, 'recall': 0.9218241042345277, 'f1-score': 0.8824053452115812, 'support': 2149.0}, '2': {'precision': 0.6981818181818182, 'recall': 0.6134185303514377, 'f1-score': 0.6530612244897959, 'support': 313.0}, 'accuracy': 0.8199404761904762, 'macro avg': {'precision': 0.7755531489955709, 'recall': 0.7277831796058637, 'f1-score': 0.7481193884388269, 'support': 3360.0}, 'weighted avg': {'precision': 0.8153346710365922, 'recall': 0.8199404761904762, 'f1-score': 0.8146672330319515, 'support': 3360.0}}</td>\n",
       "    </tr>\n",
       "  </tbody>\n",
       "</table><p>"
      ],
      "text/plain": [
       "<IPython.core.display.HTML object>"
      ]
     },
     "metadata": {},
     "output_type": "display_data"
    },
    {
     "data": {
      "text/html": [
       "\n",
       "    <div>\n",
       "      \n",
       "      <progress value='105' max='105' style='width:300px; height:20px; vertical-align: middle;'></progress>\n",
       "      [105/105 00:01]\n",
       "    </div>\n",
       "    "
      ],
      "text/plain": [
       "<IPython.core.display.HTML object>"
      ]
     },
     "metadata": {},
     "output_type": "display_data"
    },
    {
     "name": "stderr",
     "output_type": "stream",
     "text": [
      "/net/fs-2/scale/OrionStore/Scratch/joteklem/MyCondaEnvironments/Python3.11/orion_env/lib/python3.11/site-packages/optuna/trial/_trial.py:499: UserWarning: The reported value is ignored because this `step` 1.9936507936507937 is already reported.\n",
      "  warnings.warn(\n"
     ]
    },
    {
     "name": "stdout",
     "output_type": "stream",
     "text": [
      "Completed trial 2\n"
     ]
    },
    {
     "data": {
      "text/html": [
       "<style>\n",
       "    table.wandb td:nth-child(1) { padding: 0 10px; text-align: left ; width: auto;} td:nth-child(2) {text-align: left ; width: 100%}\n",
       "    .wandb-row { display: flex; flex-direction: row; flex-wrap: wrap; justify-content: flex-start; width: 100% }\n",
       "    .wandb-col { display: flex; flex-direction: column; flex-basis: 100%; flex: 1; padding: 10px; }\n",
       "    </style>\n",
       "<div class=\"wandb-row\"><div class=\"wandb-col\"><h3>Run history:</h3><br/><table class=\"wandb\"><tr><td>Macro F1 score</td><td>▁</td></tr><tr><td>Training loss</td><td>▁</td></tr><tr><td>Validation loss</td><td>▁</td></tr><tr><td>eval/Accuracy</td><td>▁██</td></tr><tr><td>eval/Balanced accuracy</td><td>▁██</td></tr><tr><td>eval/F1 macro</td><td>▁██</td></tr><tr><td>eval/F1 micro</td><td>▁██</td></tr><tr><td>eval/F1 weighted</td><td>▁██</td></tr><tr><td>eval/loss</td><td>█▁▁</td></tr><tr><td>eval/runtime</td><td>▁█▃</td></tr><tr><td>eval/samples_per_second</td><td>█▁▆</td></tr><tr><td>eval/steps_per_second</td><td>█▁▆</td></tr><tr><td>train/epoch</td><td>▁████</td></tr><tr><td>train/global_step</td><td>▁██████</td></tr><tr><td>train/grad_norm</td><td>▁</td></tr><tr><td>train/learning_rate</td><td>▁</td></tr><tr><td>train/loss</td><td>▁</td></tr><tr><td>train/total_flos</td><td>▁</td></tr><tr><td>train/train_loss</td><td>▁</td></tr><tr><td>train/train_runtime</td><td>▁</td></tr><tr><td>train/train_samples_per_second</td><td>▁</td></tr><tr><td>train/train_steps_per_second</td><td>▁</td></tr></table><br/></div><div class=\"wandb-col\"><h3>Run summary:</h3><br/><table class=\"wandb\"><tr><td>Macro F1 score</td><td>0.74812</td></tr><tr><td>Training loss</td><td>0.5229</td></tr><tr><td>Validation loss</td><td>0.51405</td></tr><tr><td>eval/Accuracy</td><td>0.81994</td></tr><tr><td>eval/Balanced accuracy</td><td>0.72778</td></tr><tr><td>eval/F1 macro</td><td>0.74812</td></tr><tr><td>eval/F1 micro</td><td>0.81994</td></tr><tr><td>eval/F1 weighted</td><td>0.81467</td></tr><tr><td>eval/loss</td><td>0.50432</td></tr><tr><td>eval/runtime</td><td>1.1302</td></tr><tr><td>eval/samples_per_second</td><td>2972.818</td></tr><tr><td>eval/steps_per_second</td><td>92.901</td></tr><tr><td>train/epoch</td><td>1.99</td></tr><tr><td>train/global_step</td><td>314</td></tr><tr><td>train/grad_norm</td><td>2.29902</td></tr><tr><td>train/learning_rate</td><td>0.0</td></tr><tr><td>train/loss</td><td>0.5229</td></tr><tr><td>train/total_flos</td><td>425167907526576.0</td></tr><tr><td>train/train_loss</td><td>0.5229</td></tr><tr><td>train/train_runtime</td><td>23.2349</td></tr><tr><td>train/train_samples_per_second</td><td>867.486</td></tr><tr><td>train/train_steps_per_second</td><td>13.514</td></tr></table><br/></div></div>"
      ],
      "text/plain": [
       "<IPython.core.display.HTML object>"
      ]
     },
     "metadata": {},
     "output_type": "display_data"
    },
    {
     "data": {
      "text/html": [
       " View run <strong style=\"color:#cdcd00\">trial-2</strong> at: <a href='https://wandb.ai/master-2024/DistilBERT/runs/yn0b9os9' target=\"_blank\">https://wandb.ai/master-2024/DistilBERT/runs/yn0b9os9</a><br/>Synced 5 W&B file(s), 0 media file(s), 0 artifact file(s) and 0 other file(s)"
      ],
      "text/plain": [
       "<IPython.core.display.HTML object>"
      ]
     },
     "metadata": {},
     "output_type": "display_data"
    },
    {
     "data": {
      "text/html": [
       "Find logs at: <code>./wandb/run-20240418_150711-yn0b9os9/logs</code>"
      ],
      "text/plain": [
       "<IPython.core.display.HTML object>"
      ]
     },
     "metadata": {},
     "output_type": "display_data"
    },
    {
     "name": "stderr",
     "output_type": "stream",
     "text": [
      "[I 2024-04-18 15:07:44,230] Trial 2 finished with value: 0.7481193884388269 and parameters: {'learning_rate': 0.00016738085788752134, 'per_device_train_batch_size': 32, 'weight_decay': 0.13682099526511077, 'num_train_epochs': 2, 'warmup_steps': 23}. Best is trial 0 with value: 0.7507266806081914.\n"
     ]
    },
    {
     "data": {
      "text/html": [
       "wandb version 0.16.6 is available!  To upgrade, please run:\n",
       " $ pip install wandb --upgrade"
      ],
      "text/plain": [
       "<IPython.core.display.HTML object>"
      ]
     },
     "metadata": {},
     "output_type": "display_data"
    },
    {
     "data": {
      "text/html": [
       "Tracking run with wandb version 0.16.4"
      ],
      "text/plain": [
       "<IPython.core.display.HTML object>"
      ]
     },
     "metadata": {},
     "output_type": "display_data"
    },
    {
     "data": {
      "text/html": [
       "Run data is saved locally in <code>/net/fs-2/scale/OrionStore/Home/joteklem/Pytorch_models/wandb/run-20240418_150744-vck2v8pe</code>"
      ],
      "text/plain": [
       "<IPython.core.display.HTML object>"
      ]
     },
     "metadata": {},
     "output_type": "display_data"
    },
    {
     "data": {
      "text/html": [
       "Syncing run <strong><a href='https://wandb.ai/master-2024/DistilBERT/runs/vck2v8pe' target=\"_blank\">trial-3</a></strong> to <a href='https://wandb.ai/master-2024/DistilBERT' target=\"_blank\">Weights & Biases</a> (<a href='https://wandb.me/run' target=\"_blank\">docs</a>)<br/>"
      ],
      "text/plain": [
       "<IPython.core.display.HTML object>"
      ]
     },
     "metadata": {},
     "output_type": "display_data"
    },
    {
     "data": {
      "text/html": [
       " View project at <a href='https://wandb.ai/master-2024/DistilBERT' target=\"_blank\">https://wandb.ai/master-2024/DistilBERT</a>"
      ],
      "text/plain": [
       "<IPython.core.display.HTML object>"
      ]
     },
     "metadata": {},
     "output_type": "display_data"
    },
    {
     "data": {
      "text/html": [
       " View run at <a href='https://wandb.ai/master-2024/DistilBERT/runs/vck2v8pe' target=\"_blank\">https://wandb.ai/master-2024/DistilBERT/runs/vck2v8pe</a>"
      ],
      "text/plain": [
       "<IPython.core.display.HTML object>"
      ]
     },
     "metadata": {},
     "output_type": "display_data"
    },
    {
     "name": "stderr",
     "output_type": "stream",
     "text": [
      "/net/fs-2/scale/OrionStore/Scratch/joteklem/MyCondaEnvironments/Python3.11/orion_env/lib/python3.11/site-packages/accelerate/accelerator.py:432: FutureWarning: Passing the following arguments to `Accelerator` is deprecated and will be removed in version 1.0 of Accelerate: dict_keys(['dispatch_batches', 'split_batches', 'even_batches', 'use_seedable_sampler']). Please pass an `accelerate.DataLoaderConfiguration` instead: \n",
      "dataloader_config = DataLoaderConfiguration(dispatch_batches=None, split_batches=False, even_batches=True, use_seedable_sampler=True)\n",
      "  warnings.warn(\n",
      "Detected kernel version 3.10.0, which is below the recommended minimum of 5.5.0; this can cause the process to hang. It is recommended to upgrade the kernel to the minimum version or higher.\n"
     ]
    },
    {
     "name": "stdout",
     "output_type": "stream",
     "text": [
      "Starting trial 3\n"
     ]
    },
    {
     "data": {
      "text/html": [
       "\n",
       "    <div>\n",
       "      \n",
       "      <progress value='314' max='314' style='width:300px; height:20px; vertical-align: middle;'></progress>\n",
       "      [314/314 00:23, Epoch 1/2]\n",
       "    </div>\n",
       "    <table border=\"1\" class=\"dataframe\">\n",
       "  <thead>\n",
       " <tr style=\"text-align: left;\">\n",
       "      <th>Epoch</th>\n",
       "      <th>Training Loss</th>\n",
       "      <th>Validation Loss</th>\n",
       "      <th>Accuracy</th>\n",
       "      <th>Balanced accuracy</th>\n",
       "      <th>F1 weighted</th>\n",
       "      <th>F1 macro</th>\n",
       "      <th>F1 micro</th>\n",
       "      <th>Classification report</th>\n",
       "    </tr>\n",
       "  </thead>\n",
       "  <tbody>\n",
       "    <tr>\n",
       "      <td>0</td>\n",
       "      <td>No log</td>\n",
       "      <td>0.583585</td>\n",
       "      <td>0.776786</td>\n",
       "      <td>0.561513</td>\n",
       "      <td>0.748085</td>\n",
       "      <td>0.585428</td>\n",
       "      <td>0.776786</td>\n",
       "      <td>{'0': {'precision': 0.7272727272727273, 'recall': 0.6057906458797327, 'f1-score': 0.6609963547995139, 'support': 898.0}, '1': {'precision': 0.7899258102303788, 'recall': 0.9413680781758957, 'f1-score': 0.8590233545647558, 'support': 2149.0}, '2': {'precision': 0.8431372549019608, 'recall': 0.13738019169329074, 'f1-score': 0.23626373626373628, 'support': 313.0}, 'accuracy': 0.7767857142857143, 'macro avg': {'precision': 0.7867785974683557, 'recall': 0.5615129719163064, 'f1-score': 0.5854278152093353, 'support': 3360.0}, 'weighted avg': {'precision': 0.7781379273989008, 'recall': 0.7767857142857143, 'f1-score': 0.74808525744648, 'support': 3360.0}}</td>\n",
       "    </tr>\n",
       "    <tr>\n",
       "      <td>1</td>\n",
       "      <td>0.581400</td>\n",
       "      <td>0.497993</td>\n",
       "      <td>0.817857</td>\n",
       "      <td>0.718520</td>\n",
       "      <td>0.811125</td>\n",
       "      <td>0.742078</td>\n",
       "      <td>0.817857</td>\n",
       "      <td>{'0': {'precision': 0.7980085348506402, 'recall': 0.6247216035634744, 'f1-score': 0.7008119925046846, 'support': 898.0}, '1': {'precision': 0.8378038558256496, 'recall': 0.9302000930665426, 'f1-score': 0.881587651598677, 'support': 2149.0}, '2': {'precision': 0.6937269372693727, 'recall': 0.6006389776357828, 'f1-score': 0.6438356164383562, 'support': 313.0}, 'accuracy': 0.8178571428571428, 'macro avg': {'precision': 0.7765131093152209, 'recall': 0.7185202247552667, 'f1-score': 0.7420784201805727, 'support': 3360.0}, 'weighted avg': {'precision': 0.8137466314971755, 'recall': 0.8178571428571428, 'f1-score': 0.8111254703868956, 'support': 3360.0}}</td>\n",
       "    </tr>\n",
       "  </tbody>\n",
       "</table><p>"
      ],
      "text/plain": [
       "<IPython.core.display.HTML object>"
      ]
     },
     "metadata": {},
     "output_type": "display_data"
    },
    {
     "data": {
      "text/html": [
       "\n",
       "    <div>\n",
       "      \n",
       "      <progress value='105' max='105' style='width:300px; height:20px; vertical-align: middle;'></progress>\n",
       "      [105/105 00:01]\n",
       "    </div>\n",
       "    "
      ],
      "text/plain": [
       "<IPython.core.display.HTML object>"
      ]
     },
     "metadata": {},
     "output_type": "display_data"
    },
    {
     "name": "stderr",
     "output_type": "stream",
     "text": [
      "/net/fs-2/scale/OrionStore/Scratch/joteklem/MyCondaEnvironments/Python3.11/orion_env/lib/python3.11/site-packages/optuna/trial/_trial.py:499: UserWarning: The reported value is ignored because this `step` 1.9936507936507937 is already reported.\n",
      "  warnings.warn(\n"
     ]
    },
    {
     "name": "stdout",
     "output_type": "stream",
     "text": [
      "Completed trial 3\n"
     ]
    },
    {
     "data": {
      "text/html": [
       "<style>\n",
       "    table.wandb td:nth-child(1) { padding: 0 10px; text-align: left ; width: auto;} td:nth-child(2) {text-align: left ; width: 100%}\n",
       "    .wandb-row { display: flex; flex-direction: row; flex-wrap: wrap; justify-content: flex-start; width: 100% }\n",
       "    .wandb-col { display: flex; flex-direction: column; flex-basis: 100%; flex: 1; padding: 10px; }\n",
       "    </style>\n",
       "<div class=\"wandb-row\"><div class=\"wandb-col\"><h3>Run history:</h3><br/><table class=\"wandb\"><tr><td>Macro F1 score</td><td>▁</td></tr><tr><td>Training loss</td><td>▁</td></tr><tr><td>Validation loss</td><td>▁</td></tr><tr><td>eval/Accuracy</td><td>▁██</td></tr><tr><td>eval/Balanced accuracy</td><td>▁██</td></tr><tr><td>eval/F1 macro</td><td>▁██</td></tr><tr><td>eval/F1 micro</td><td>▁██</td></tr><tr><td>eval/F1 weighted</td><td>▁██</td></tr><tr><td>eval/loss</td><td>█▁▁</td></tr><tr><td>eval/runtime</td><td>█▁▃</td></tr><tr><td>eval/samples_per_second</td><td>▁█▆</td></tr><tr><td>eval/steps_per_second</td><td>▁█▆</td></tr><tr><td>train/epoch</td><td>▁████</td></tr><tr><td>train/global_step</td><td>▁██████</td></tr><tr><td>train/grad_norm</td><td>▁</td></tr><tr><td>train/learning_rate</td><td>▁</td></tr><tr><td>train/loss</td><td>▁</td></tr><tr><td>train/total_flos</td><td>▁</td></tr><tr><td>train/train_loss</td><td>▁</td></tr><tr><td>train/train_runtime</td><td>▁</td></tr><tr><td>train/train_samples_per_second</td><td>▁</td></tr><tr><td>train/train_steps_per_second</td><td>▁</td></tr></table><br/></div><div class=\"wandb-col\"><h3>Run summary:</h3><br/><table class=\"wandb\"><tr><td>Macro F1 score</td><td>0.74208</td></tr><tr><td>Training loss</td><td>0.5814</td></tr><tr><td>Validation loss</td><td>0.58359</td></tr><tr><td>eval/Accuracy</td><td>0.81786</td></tr><tr><td>eval/Balanced accuracy</td><td>0.71852</td></tr><tr><td>eval/F1 macro</td><td>0.74208</td></tr><tr><td>eval/F1 micro</td><td>0.81786</td></tr><tr><td>eval/F1 weighted</td><td>0.81113</td></tr><tr><td>eval/loss</td><td>0.49799</td></tr><tr><td>eval/runtime</td><td>1.1345</td></tr><tr><td>eval/samples_per_second</td><td>2961.683</td></tr><tr><td>eval/steps_per_second</td><td>92.553</td></tr><tr><td>train/epoch</td><td>1.99</td></tr><tr><td>train/global_step</td><td>314</td></tr><tr><td>train/grad_norm</td><td>3.87138</td></tr><tr><td>train/learning_rate</td><td>0.0</td></tr><tr><td>train/loss</td><td>0.5814</td></tr><tr><td>train/total_flos</td><td>425167907526576.0</td></tr><tr><td>train/train_loss</td><td>0.58135</td></tr><tr><td>train/train_runtime</td><td>23.2728</td></tr><tr><td>train/train_samples_per_second</td><td>866.077</td></tr><tr><td>train/train_steps_per_second</td><td>13.492</td></tr></table><br/></div></div>"
      ],
      "text/plain": [
       "<IPython.core.display.HTML object>"
      ]
     },
     "metadata": {},
     "output_type": "display_data"
    },
    {
     "data": {
      "text/html": [
       " View run <strong style=\"color:#cdcd00\">trial-3</strong> at: <a href='https://wandb.ai/master-2024/DistilBERT/runs/vck2v8pe' target=\"_blank\">https://wandb.ai/master-2024/DistilBERT/runs/vck2v8pe</a><br/>Synced 5 W&B file(s), 0 media file(s), 0 artifact file(s) and 0 other file(s)"
      ],
      "text/plain": [
       "<IPython.core.display.HTML object>"
      ]
     },
     "metadata": {},
     "output_type": "display_data"
    },
    {
     "data": {
      "text/html": [
       "Find logs at: <code>./wandb/run-20240418_150744-vck2v8pe/logs</code>"
      ],
      "text/plain": [
       "<IPython.core.display.HTML object>"
      ]
     },
     "metadata": {},
     "output_type": "display_data"
    },
    {
     "name": "stderr",
     "output_type": "stream",
     "text": [
      "[I 2024-04-18 15:08:16,791] Trial 3 finished with value: 0.7420784201805727 and parameters: {'learning_rate': 0.000164092867306479, 'per_device_train_batch_size': 32, 'weight_decay': 0.2896896099223678, 'num_train_epochs': 2, 'warmup_steps': 220}. Best is trial 0 with value: 0.7507266806081914.\n"
     ]
    },
    {
     "data": {
      "text/html": [
       "wandb version 0.16.6 is available!  To upgrade, please run:\n",
       " $ pip install wandb --upgrade"
      ],
      "text/plain": [
       "<IPython.core.display.HTML object>"
      ]
     },
     "metadata": {},
     "output_type": "display_data"
    },
    {
     "data": {
      "text/html": [
       "Tracking run with wandb version 0.16.4"
      ],
      "text/plain": [
       "<IPython.core.display.HTML object>"
      ]
     },
     "metadata": {},
     "output_type": "display_data"
    },
    {
     "data": {
      "text/html": [
       "Run data is saved locally in <code>/net/fs-2/scale/OrionStore/Home/joteklem/Pytorch_models/wandb/run-20240418_150816-yf0dw4np</code>"
      ],
      "text/plain": [
       "<IPython.core.display.HTML object>"
      ]
     },
     "metadata": {},
     "output_type": "display_data"
    },
    {
     "data": {
      "text/html": [
       "Syncing run <strong><a href='https://wandb.ai/master-2024/DistilBERT/runs/yf0dw4np' target=\"_blank\">trial-4</a></strong> to <a href='https://wandb.ai/master-2024/DistilBERT' target=\"_blank\">Weights & Biases</a> (<a href='https://wandb.me/run' target=\"_blank\">docs</a>)<br/>"
      ],
      "text/plain": [
       "<IPython.core.display.HTML object>"
      ]
     },
     "metadata": {},
     "output_type": "display_data"
    },
    {
     "data": {
      "text/html": [
       " View project at <a href='https://wandb.ai/master-2024/DistilBERT' target=\"_blank\">https://wandb.ai/master-2024/DistilBERT</a>"
      ],
      "text/plain": [
       "<IPython.core.display.HTML object>"
      ]
     },
     "metadata": {},
     "output_type": "display_data"
    },
    {
     "data": {
      "text/html": [
       " View run at <a href='https://wandb.ai/master-2024/DistilBERT/runs/yf0dw4np' target=\"_blank\">https://wandb.ai/master-2024/DistilBERT/runs/yf0dw4np</a>"
      ],
      "text/plain": [
       "<IPython.core.display.HTML object>"
      ]
     },
     "metadata": {},
     "output_type": "display_data"
    },
    {
     "name": "stderr",
     "output_type": "stream",
     "text": [
      "/net/fs-2/scale/OrionStore/Scratch/joteklem/MyCondaEnvironments/Python3.11/orion_env/lib/python3.11/site-packages/accelerate/accelerator.py:432: FutureWarning: Passing the following arguments to `Accelerator` is deprecated and will be removed in version 1.0 of Accelerate: dict_keys(['dispatch_batches', 'split_batches', 'even_batches', 'use_seedable_sampler']). Please pass an `accelerate.DataLoaderConfiguration` instead: \n",
      "dataloader_config = DataLoaderConfiguration(dispatch_batches=None, split_batches=False, even_batches=True, use_seedable_sampler=True)\n",
      "  warnings.warn(\n",
      "Detected kernel version 3.10.0, which is below the recommended minimum of 5.5.0; this can cause the process to hang. It is recommended to upgrade the kernel to the minimum version or higher.\n"
     ]
    },
    {
     "name": "stdout",
     "output_type": "stream",
     "text": [
      "Starting trial 4\n"
     ]
    },
    {
     "data": {
      "text/html": [
       "\n",
       "    <div>\n",
       "      \n",
       "      <progress value='314' max='314' style='width:300px; height:20px; vertical-align: middle;'></progress>\n",
       "      [314/314 00:23, Epoch 1/2]\n",
       "    </div>\n",
       "    <table border=\"1\" class=\"dataframe\">\n",
       "  <thead>\n",
       " <tr style=\"text-align: left;\">\n",
       "      <th>Epoch</th>\n",
       "      <th>Training Loss</th>\n",
       "      <th>Validation Loss</th>\n",
       "      <th>Accuracy</th>\n",
       "      <th>Balanced accuracy</th>\n",
       "      <th>F1 weighted</th>\n",
       "      <th>F1 macro</th>\n",
       "      <th>F1 micro</th>\n",
       "      <th>Classification report</th>\n",
       "    </tr>\n",
       "  </thead>\n",
       "  <tbody>\n",
       "    <tr>\n",
       "      <td>0</td>\n",
       "      <td>No log</td>\n",
       "      <td>0.568575</td>\n",
       "      <td>0.787500</td>\n",
       "      <td>0.649814</td>\n",
       "      <td>0.777124</td>\n",
       "      <td>0.678181</td>\n",
       "      <td>0.787500</td>\n",
       "      <td>{'0': {'precision': 0.751060820367751, 'recall': 0.5913140311804009, 'f1-score': 0.6616822429906543, 'support': 898.0}, '1': {'precision': 0.814997939843428, 'recall': 0.9204281060958586, 'f1-score': 0.8645104895104896, 'support': 2149.0}, '2': {'precision': 0.6061946902654868, 'recall': 0.43769968051118213, 'f1-score': 0.5083487940630799, 'support': 313.0}, 'accuracy': 0.7875, 'macro avg': {'precision': 0.7240844834922219, 'recall': 0.6498139392624805, 'f1-score': 0.6781805088547412, 'support': 3360.0}, 'weighted avg': {'precision': 0.7784589665079954, 'recall': 0.7875, 'f1-score': 0.7771240680670815, 'support': 3360.0}}</td>\n",
       "    </tr>\n",
       "    <tr>\n",
       "      <td>1</td>\n",
       "      <td>0.655400</td>\n",
       "      <td>0.522270</td>\n",
       "      <td>0.802381</td>\n",
       "      <td>0.697205</td>\n",
       "      <td>0.795505</td>\n",
       "      <td>0.717199</td>\n",
       "      <td>0.802381</td>\n",
       "      <td>{'0': {'precision': 0.7722772277227723, 'recall': 0.6080178173719376, 'f1-score': 0.6803738317757009, 'support': 898.0}, '1': {'precision': 0.8307368421052631, 'recall': 0.9181014425314099, 'f1-score': 0.8722369584438548, 'support': 2149.0}, '2': {'precision': 0.6366906474820144, 'recall': 0.5654952076677316, 'f1-score': 0.598984771573604, 'support': 313.0}, 'accuracy': 0.8023809523809524, 'macro avg': {'precision': 0.7465682391033499, 'recall': 0.697204822523693, 'f1-score': 0.7171985205977198, 'support': 3360.0}, 'weighted avg': {'precision': 0.7970364871550983, 'recall': 0.8023809523809524, 'f1-score': 0.7955045113490957, 'support': 3360.0}}</td>\n",
       "    </tr>\n",
       "  </tbody>\n",
       "</table><p>"
      ],
      "text/plain": [
       "<IPython.core.display.HTML object>"
      ]
     },
     "metadata": {},
     "output_type": "display_data"
    },
    {
     "data": {
      "text/html": [
       "\n",
       "    <div>\n",
       "      \n",
       "      <progress value='105' max='105' style='width:300px; height:20px; vertical-align: middle;'></progress>\n",
       "      [105/105 00:01]\n",
       "    </div>\n",
       "    "
      ],
      "text/plain": [
       "<IPython.core.display.HTML object>"
      ]
     },
     "metadata": {},
     "output_type": "display_data"
    },
    {
     "name": "stderr",
     "output_type": "stream",
     "text": [
      "/net/fs-2/scale/OrionStore/Scratch/joteklem/MyCondaEnvironments/Python3.11/orion_env/lib/python3.11/site-packages/optuna/trial/_trial.py:499: UserWarning: The reported value is ignored because this `step` 1.9936507936507937 is already reported.\n",
      "  warnings.warn(\n"
     ]
    },
    {
     "name": "stdout",
     "output_type": "stream",
     "text": [
      "Completed trial 4\n"
     ]
    },
    {
     "data": {
      "text/html": [
       "<style>\n",
       "    table.wandb td:nth-child(1) { padding: 0 10px; text-align: left ; width: auto;} td:nth-child(2) {text-align: left ; width: 100%}\n",
       "    .wandb-row { display: flex; flex-direction: row; flex-wrap: wrap; justify-content: flex-start; width: 100% }\n",
       "    .wandb-col { display: flex; flex-direction: column; flex-basis: 100%; flex: 1; padding: 10px; }\n",
       "    </style>\n",
       "<div class=\"wandb-row\"><div class=\"wandb-col\"><h3>Run history:</h3><br/><table class=\"wandb\"><tr><td>Macro F1 score</td><td>▁</td></tr><tr><td>Training loss</td><td>▁</td></tr><tr><td>Validation loss</td><td>▁</td></tr><tr><td>eval/Accuracy</td><td>▁██</td></tr><tr><td>eval/Balanced accuracy</td><td>▁██</td></tr><tr><td>eval/F1 macro</td><td>▁██</td></tr><tr><td>eval/F1 micro</td><td>▁██</td></tr><tr><td>eval/F1 weighted</td><td>▁██</td></tr><tr><td>eval/loss</td><td>█▁▁</td></tr><tr><td>eval/runtime</td><td>▁▁█</td></tr><tr><td>eval/samples_per_second</td><td>██▁</td></tr><tr><td>eval/steps_per_second</td><td>██▁</td></tr><tr><td>train/epoch</td><td>▁████</td></tr><tr><td>train/global_step</td><td>▁██████</td></tr><tr><td>train/grad_norm</td><td>▁</td></tr><tr><td>train/learning_rate</td><td>▁</td></tr><tr><td>train/loss</td><td>▁</td></tr><tr><td>train/total_flos</td><td>▁</td></tr><tr><td>train/train_loss</td><td>▁</td></tr><tr><td>train/train_runtime</td><td>▁</td></tr><tr><td>train/train_samples_per_second</td><td>▁</td></tr><tr><td>train/train_steps_per_second</td><td>▁</td></tr></table><br/></div><div class=\"wandb-col\"><h3>Run summary:</h3><br/><table class=\"wandb\"><tr><td>Macro F1 score</td><td>0.7172</td></tr><tr><td>Training loss</td><td>0.6554</td></tr><tr><td>Validation loss</td><td>0.56857</td></tr><tr><td>eval/Accuracy</td><td>0.80238</td></tr><tr><td>eval/Balanced accuracy</td><td>0.6972</td></tr><tr><td>eval/F1 macro</td><td>0.7172</td></tr><tr><td>eval/F1 micro</td><td>0.80238</td></tr><tr><td>eval/F1 weighted</td><td>0.7955</td></tr><tr><td>eval/loss</td><td>0.52227</td></tr><tr><td>eval/runtime</td><td>1.1393</td></tr><tr><td>eval/samples_per_second</td><td>2949.305</td></tr><tr><td>eval/steps_per_second</td><td>92.166</td></tr><tr><td>train/epoch</td><td>1.99</td></tr><tr><td>train/global_step</td><td>314</td></tr><tr><td>train/grad_norm</td><td>4.13153</td></tr><tr><td>train/learning_rate</td><td>0.0</td></tr><tr><td>train/loss</td><td>0.6554</td></tr><tr><td>train/total_flos</td><td>425167907526576.0</td></tr><tr><td>train/train_loss</td><td>0.65543</td></tr><tr><td>train/train_runtime</td><td>23.2826</td></tr><tr><td>train/train_samples_per_second</td><td>865.71</td></tr><tr><td>train/train_steps_per_second</td><td>13.486</td></tr></table><br/></div></div>"
      ],
      "text/plain": [
       "<IPython.core.display.HTML object>"
      ]
     },
     "metadata": {},
     "output_type": "display_data"
    },
    {
     "data": {
      "text/html": [
       " View run <strong style=\"color:#cdcd00\">trial-4</strong> at: <a href='https://wandb.ai/master-2024/DistilBERT/runs/yf0dw4np' target=\"_blank\">https://wandb.ai/master-2024/DistilBERT/runs/yf0dw4np</a><br/>Synced 5 W&B file(s), 0 media file(s), 0 artifact file(s) and 0 other file(s)"
      ],
      "text/plain": [
       "<IPython.core.display.HTML object>"
      ]
     },
     "metadata": {},
     "output_type": "display_data"
    },
    {
     "data": {
      "text/html": [
       "Find logs at: <code>./wandb/run-20240418_150816-yf0dw4np/logs</code>"
      ],
      "text/plain": [
       "<IPython.core.display.HTML object>"
      ]
     },
     "metadata": {},
     "output_type": "display_data"
    },
    {
     "name": "stderr",
     "output_type": "stream",
     "text": [
      "[I 2024-04-18 15:08:50,920] Trial 4 finished with value: 0.7171985205977198 and parameters: {'learning_rate': 1.7541893487450798e-05, 'per_device_train_batch_size': 32, 'weight_decay': 0.07763399448000508, 'num_train_epochs': 2, 'warmup_steps': 92}. Best is trial 0 with value: 0.7507266806081914.\n"
     ]
    },
    {
     "data": {
      "text/html": [
       "wandb version 0.16.6 is available!  To upgrade, please run:\n",
       " $ pip install wandb --upgrade"
      ],
      "text/plain": [
       "<IPython.core.display.HTML object>"
      ]
     },
     "metadata": {},
     "output_type": "display_data"
    },
    {
     "data": {
      "text/html": [
       "Tracking run with wandb version 0.16.4"
      ],
      "text/plain": [
       "<IPython.core.display.HTML object>"
      ]
     },
     "metadata": {},
     "output_type": "display_data"
    },
    {
     "data": {
      "text/html": [
       "Run data is saved locally in <code>/net/fs-2/scale/OrionStore/Home/joteklem/Pytorch_models/wandb/run-20240418_150850-07nvxk8e</code>"
      ],
      "text/plain": [
       "<IPython.core.display.HTML object>"
      ]
     },
     "metadata": {},
     "output_type": "display_data"
    },
    {
     "data": {
      "text/html": [
       "Syncing run <strong><a href='https://wandb.ai/master-2024/DistilBERT/runs/07nvxk8e' target=\"_blank\">trial-5</a></strong> to <a href='https://wandb.ai/master-2024/DistilBERT' target=\"_blank\">Weights & Biases</a> (<a href='https://wandb.me/run' target=\"_blank\">docs</a>)<br/>"
      ],
      "text/plain": [
       "<IPython.core.display.HTML object>"
      ]
     },
     "metadata": {},
     "output_type": "display_data"
    },
    {
     "data": {
      "text/html": [
       " View project at <a href='https://wandb.ai/master-2024/DistilBERT' target=\"_blank\">https://wandb.ai/master-2024/DistilBERT</a>"
      ],
      "text/plain": [
       "<IPython.core.display.HTML object>"
      ]
     },
     "metadata": {},
     "output_type": "display_data"
    },
    {
     "data": {
      "text/html": [
       " View run at <a href='https://wandb.ai/master-2024/DistilBERT/runs/07nvxk8e' target=\"_blank\">https://wandb.ai/master-2024/DistilBERT/runs/07nvxk8e</a>"
      ],
      "text/plain": [
       "<IPython.core.display.HTML object>"
      ]
     },
     "metadata": {},
     "output_type": "display_data"
    },
    {
     "name": "stderr",
     "output_type": "stream",
     "text": [
      "/net/fs-2/scale/OrionStore/Scratch/joteklem/MyCondaEnvironments/Python3.11/orion_env/lib/python3.11/site-packages/accelerate/accelerator.py:432: FutureWarning: Passing the following arguments to `Accelerator` is deprecated and will be removed in version 1.0 of Accelerate: dict_keys(['dispatch_batches', 'split_batches', 'even_batches', 'use_seedable_sampler']). Please pass an `accelerate.DataLoaderConfiguration` instead: \n",
      "dataloader_config = DataLoaderConfiguration(dispatch_batches=None, split_batches=False, even_batches=True, use_seedable_sampler=True)\n",
      "  warnings.warn(\n",
      "Detected kernel version 3.10.0, which is below the recommended minimum of 5.5.0; this can cause the process to hang. It is recommended to upgrade the kernel to the minimum version or higher.\n"
     ]
    },
    {
     "name": "stdout",
     "output_type": "stream",
     "text": [
      "Starting trial 5\n"
     ]
    },
    {
     "data": {
      "text/html": [
       "\n",
       "    <div>\n",
       "      \n",
       "      <progress value='316' max='630' style='width:300px; height:20px; vertical-align: middle;'></progress>\n",
       "      [316/630 00:16 < 00:16, 18.75 it/s, Epoch 1/2]\n",
       "    </div>\n",
       "    <table border=\"1\" class=\"dataframe\">\n",
       "  <thead>\n",
       " <tr style=\"text-align: left;\">\n",
       "      <th>Epoch</th>\n",
       "      <th>Training Loss</th>\n",
       "      <th>Validation Loss</th>\n",
       "    </tr>\n",
       "  </thead>\n",
       "  <tbody>\n",
       "  </tbody>\n",
       "</table><p>\n",
       "    <div>\n",
       "      \n",
       "      <progress value='210' max='210' style='width:300px; height:20px; vertical-align: middle;'></progress>\n",
       "      [210/210 00:01]\n",
       "    </div>\n",
       "    "
      ],
      "text/plain": [
       "<IPython.core.display.HTML object>"
      ]
     },
     "metadata": {},
     "output_type": "display_data"
    },
    {
     "name": "stderr",
     "output_type": "stream",
     "text": [
      "[I 2024-04-18 15:09:13,929] Trial 5 pruned. \n"
     ]
    },
    {
     "data": {
      "text/html": [
       "Finishing last run (ID:07nvxk8e) before initializing another..."
      ],
      "text/plain": [
       "<IPython.core.display.HTML object>"
      ]
     },
     "metadata": {},
     "output_type": "display_data"
    },
    {
     "data": {
      "text/html": [
       "<style>\n",
       "    table.wandb td:nth-child(1) { padding: 0 10px; text-align: left ; width: auto;} td:nth-child(2) {text-align: left ; width: 100%}\n",
       "    .wandb-row { display: flex; flex-direction: row; flex-wrap: wrap; justify-content: flex-start; width: 100% }\n",
       "    .wandb-col { display: flex; flex-direction: column; flex-basis: 100%; flex: 1; padding: 10px; }\n",
       "    </style>\n",
       "<div class=\"wandb-row\"><div class=\"wandb-col\"><h3>Run history:</h3><br/><table class=\"wandb\"><tr><td>eval/Accuracy</td><td>▁</td></tr><tr><td>eval/Balanced accuracy</td><td>▁</td></tr><tr><td>eval/F1 macro</td><td>▁</td></tr><tr><td>eval/F1 micro</td><td>▁</td></tr><tr><td>eval/F1 weighted</td><td>▁</td></tr><tr><td>eval/loss</td><td>▁</td></tr><tr><td>eval/runtime</td><td>▁</td></tr><tr><td>eval/samples_per_second</td><td>▁</td></tr><tr><td>eval/steps_per_second</td><td>▁</td></tr><tr><td>train/epoch</td><td>▁</td></tr><tr><td>train/global_step</td><td>▁</td></tr></table><br/></div><div class=\"wandb-col\"><h3>Run summary:</h3><br/><table class=\"wandb\"><tr><td>eval/Accuracy</td><td>0.63958</td></tr><tr><td>eval/Balanced accuracy</td><td>0.33333</td></tr><tr><td>eval/F1 macro</td><td>0.26006</td></tr><tr><td>eval/F1 micro</td><td>0.63958</td></tr><tr><td>eval/F1 weighted</td><td>0.49899</td></tr><tr><td>eval/loss</td><td>0.86415</td></tr><tr><td>eval/runtime</td><td>1.4969</td></tr><tr><td>eval/samples_per_second</td><td>2244.605</td></tr><tr><td>eval/steps_per_second</td><td>140.288</td></tr><tr><td>train/epoch</td><td>1.0</td></tr><tr><td>train/global_step</td><td>315</td></tr></table><br/></div></div>"
      ],
      "text/plain": [
       "<IPython.core.display.HTML object>"
      ]
     },
     "metadata": {},
     "output_type": "display_data"
    },
    {
     "data": {
      "text/html": [
       " View run <strong style=\"color:#cdcd00\">trial-5</strong> at: <a href='https://wandb.ai/master-2024/DistilBERT/runs/07nvxk8e' target=\"_blank\">https://wandb.ai/master-2024/DistilBERT/runs/07nvxk8e</a><br/>Synced 5 W&B file(s), 0 media file(s), 0 artifact file(s) and 0 other file(s)"
      ],
      "text/plain": [
       "<IPython.core.display.HTML object>"
      ]
     },
     "metadata": {},
     "output_type": "display_data"
    },
    {
     "data": {
      "text/html": [
       "Find logs at: <code>./wandb/run-20240418_150850-07nvxk8e/logs</code>"
      ],
      "text/plain": [
       "<IPython.core.display.HTML object>"
      ]
     },
     "metadata": {},
     "output_type": "display_data"
    },
    {
     "data": {
      "text/html": [
       "Successfully finished last run (ID:07nvxk8e). Initializing new run:<br/>"
      ],
      "text/plain": [
       "<IPython.core.display.HTML object>"
      ]
     },
     "metadata": {},
     "output_type": "display_data"
    },
    {
     "data": {
      "text/html": [
       "wandb version 0.16.6 is available!  To upgrade, please run:\n",
       " $ pip install wandb --upgrade"
      ],
      "text/plain": [
       "<IPython.core.display.HTML object>"
      ]
     },
     "metadata": {},
     "output_type": "display_data"
    },
    {
     "data": {
      "text/html": [
       "Tracking run with wandb version 0.16.4"
      ],
      "text/plain": [
       "<IPython.core.display.HTML object>"
      ]
     },
     "metadata": {},
     "output_type": "display_data"
    },
    {
     "data": {
      "text/html": [
       "Run data is saved locally in <code>/net/fs-2/scale/OrionStore/Home/joteklem/Pytorch_models/wandb/run-20240418_150913-omwfaz41</code>"
      ],
      "text/plain": [
       "<IPython.core.display.HTML object>"
      ]
     },
     "metadata": {},
     "output_type": "display_data"
    },
    {
     "data": {
      "text/html": [
       "Syncing run <strong><a href='https://wandb.ai/master-2024/DistilBERT/runs/omwfaz41' target=\"_blank\">trial-6</a></strong> to <a href='https://wandb.ai/master-2024/DistilBERT' target=\"_blank\">Weights & Biases</a> (<a href='https://wandb.me/run' target=\"_blank\">docs</a>)<br/>"
      ],
      "text/plain": [
       "<IPython.core.display.HTML object>"
      ]
     },
     "metadata": {},
     "output_type": "display_data"
    },
    {
     "data": {
      "text/html": [
       " View project at <a href='https://wandb.ai/master-2024/DistilBERT' target=\"_blank\">https://wandb.ai/master-2024/DistilBERT</a>"
      ],
      "text/plain": [
       "<IPython.core.display.HTML object>"
      ]
     },
     "metadata": {},
     "output_type": "display_data"
    },
    {
     "data": {
      "text/html": [
       " View run at <a href='https://wandb.ai/master-2024/DistilBERT/runs/omwfaz41' target=\"_blank\">https://wandb.ai/master-2024/DistilBERT/runs/omwfaz41</a>"
      ],
      "text/plain": [
       "<IPython.core.display.HTML object>"
      ]
     },
     "metadata": {},
     "output_type": "display_data"
    },
    {
     "name": "stdout",
     "output_type": "stream",
     "text": [
      "Starting trial 6\n"
     ]
    },
    {
     "name": "stderr",
     "output_type": "stream",
     "text": [
      "/net/fs-2/scale/OrionStore/Scratch/joteklem/MyCondaEnvironments/Python3.11/orion_env/lib/python3.11/site-packages/accelerate/accelerator.py:432: FutureWarning: Passing the following arguments to `Accelerator` is deprecated and will be removed in version 1.0 of Accelerate: dict_keys(['dispatch_batches', 'split_batches', 'even_batches', 'use_seedable_sampler']). Please pass an `accelerate.DataLoaderConfiguration` instead: \n",
      "dataloader_config = DataLoaderConfiguration(dispatch_batches=None, split_batches=False, even_batches=True, use_seedable_sampler=True)\n",
      "  warnings.warn(\n",
      "Detected kernel version 3.10.0, which is below the recommended minimum of 5.5.0; this can cause the process to hang. It is recommended to upgrade the kernel to the minimum version or higher.\n"
     ]
    },
    {
     "data": {
      "text/html": [
       "\n",
       "    <div>\n",
       "      \n",
       "      <progress value='316' max='1260' style='width:300px; height:20px; vertical-align: middle;'></progress>\n",
       "      [ 316/1260 00:16 < 00:49, 18.95 it/s, Epoch 1/4]\n",
       "    </div>\n",
       "    <table border=\"1\" class=\"dataframe\">\n",
       "  <thead>\n",
       " <tr style=\"text-align: left;\">\n",
       "      <th>Epoch</th>\n",
       "      <th>Training Loss</th>\n",
       "      <th>Validation Loss</th>\n",
       "    </tr>\n",
       "  </thead>\n",
       "  <tbody>\n",
       "  </tbody>\n",
       "</table><p>\n",
       "    <div>\n",
       "      \n",
       "      <progress value='210' max='210' style='width:300px; height:20px; vertical-align: middle;'></progress>\n",
       "      [210/210 00:01]\n",
       "    </div>\n",
       "    "
      ],
      "text/plain": [
       "<IPython.core.display.HTML object>"
      ]
     },
     "metadata": {},
     "output_type": "display_data"
    },
    {
     "name": "stderr",
     "output_type": "stream",
     "text": [
      "[I 2024-04-18 15:09:40,004] Trial 6 pruned. \n"
     ]
    },
    {
     "data": {
      "text/html": [
       "Finishing last run (ID:omwfaz41) before initializing another..."
      ],
      "text/plain": [
       "<IPython.core.display.HTML object>"
      ]
     },
     "metadata": {},
     "output_type": "display_data"
    },
    {
     "data": {
      "text/html": [
       "<style>\n",
       "    table.wandb td:nth-child(1) { padding: 0 10px; text-align: left ; width: auto;} td:nth-child(2) {text-align: left ; width: 100%}\n",
       "    .wandb-row { display: flex; flex-direction: row; flex-wrap: wrap; justify-content: flex-start; width: 100% }\n",
       "    .wandb-col { display: flex; flex-direction: column; flex-basis: 100%; flex: 1; padding: 10px; }\n",
       "    </style>\n",
       "<div class=\"wandb-row\"><div class=\"wandb-col\"><h3>Run history:</h3><br/><table class=\"wandb\"><tr><td>eval/Accuracy</td><td>▁</td></tr><tr><td>eval/Balanced accuracy</td><td>▁</td></tr><tr><td>eval/F1 macro</td><td>▁</td></tr><tr><td>eval/F1 micro</td><td>▁</td></tr><tr><td>eval/F1 weighted</td><td>▁</td></tr><tr><td>eval/loss</td><td>▁</td></tr><tr><td>eval/runtime</td><td>▁</td></tr><tr><td>eval/samples_per_second</td><td>▁</td></tr><tr><td>eval/steps_per_second</td><td>▁</td></tr><tr><td>train/epoch</td><td>▁</td></tr><tr><td>train/global_step</td><td>▁</td></tr></table><br/></div><div class=\"wandb-col\"><h3>Run summary:</h3><br/><table class=\"wandb\"><tr><td>eval/Accuracy</td><td>0.8003</td></tr><tr><td>eval/Balanced accuracy</td><td>0.64476</td></tr><tr><td>eval/F1 macro</td><td>0.68679</td></tr><tr><td>eval/F1 micro</td><td>0.8003</td></tr><tr><td>eval/F1 weighted</td><td>0.7875</td></tr><tr><td>eval/loss</td><td>0.54261</td></tr><tr><td>eval/runtime</td><td>1.4976</td></tr><tr><td>eval/samples_per_second</td><td>2243.526</td></tr><tr><td>eval/steps_per_second</td><td>140.22</td></tr><tr><td>train/epoch</td><td>1.0</td></tr><tr><td>train/global_step</td><td>315</td></tr></table><br/></div></div>"
      ],
      "text/plain": [
       "<IPython.core.display.HTML object>"
      ]
     },
     "metadata": {},
     "output_type": "display_data"
    },
    {
     "data": {
      "text/html": [
       " View run <strong style=\"color:#cdcd00\">trial-6</strong> at: <a href='https://wandb.ai/master-2024/DistilBERT/runs/omwfaz41' target=\"_blank\">https://wandb.ai/master-2024/DistilBERT/runs/omwfaz41</a><br/>Synced 5 W&B file(s), 0 media file(s), 0 artifact file(s) and 0 other file(s)"
      ],
      "text/plain": [
       "<IPython.core.display.HTML object>"
      ]
     },
     "metadata": {},
     "output_type": "display_data"
    },
    {
     "data": {
      "text/html": [
       "Find logs at: <code>./wandb/run-20240418_150913-omwfaz41/logs</code>"
      ],
      "text/plain": [
       "<IPython.core.display.HTML object>"
      ]
     },
     "metadata": {},
     "output_type": "display_data"
    },
    {
     "data": {
      "text/html": [
       "Successfully finished last run (ID:omwfaz41). Initializing new run:<br/>"
      ],
      "text/plain": [
       "<IPython.core.display.HTML object>"
      ]
     },
     "metadata": {},
     "output_type": "display_data"
    },
    {
     "data": {
      "text/html": [
       "wandb version 0.16.6 is available!  To upgrade, please run:\n",
       " $ pip install wandb --upgrade"
      ],
      "text/plain": [
       "<IPython.core.display.HTML object>"
      ]
     },
     "metadata": {},
     "output_type": "display_data"
    },
    {
     "data": {
      "text/html": [
       "Tracking run with wandb version 0.16.4"
      ],
      "text/plain": [
       "<IPython.core.display.HTML object>"
      ]
     },
     "metadata": {},
     "output_type": "display_data"
    },
    {
     "data": {
      "text/html": [
       "Run data is saved locally in <code>/net/fs-2/scale/OrionStore/Home/joteklem/Pytorch_models/wandb/run-20240418_150940-whvl4lhr</code>"
      ],
      "text/plain": [
       "<IPython.core.display.HTML object>"
      ]
     },
     "metadata": {},
     "output_type": "display_data"
    },
    {
     "data": {
      "text/html": [
       "Syncing run <strong><a href='https://wandb.ai/master-2024/DistilBERT/runs/whvl4lhr' target=\"_blank\">trial-7</a></strong> to <a href='https://wandb.ai/master-2024/DistilBERT' target=\"_blank\">Weights & Biases</a> (<a href='https://wandb.me/run' target=\"_blank\">docs</a>)<br/>"
      ],
      "text/plain": [
       "<IPython.core.display.HTML object>"
      ]
     },
     "metadata": {},
     "output_type": "display_data"
    },
    {
     "data": {
      "text/html": [
       " View project at <a href='https://wandb.ai/master-2024/DistilBERT' target=\"_blank\">https://wandb.ai/master-2024/DistilBERT</a>"
      ],
      "text/plain": [
       "<IPython.core.display.HTML object>"
      ]
     },
     "metadata": {},
     "output_type": "display_data"
    },
    {
     "data": {
      "text/html": [
       " View run at <a href='https://wandb.ai/master-2024/DistilBERT/runs/whvl4lhr' target=\"_blank\">https://wandb.ai/master-2024/DistilBERT/runs/whvl4lhr</a>"
      ],
      "text/plain": [
       "<IPython.core.display.HTML object>"
      ]
     },
     "metadata": {},
     "output_type": "display_data"
    },
    {
     "name": "stderr",
     "output_type": "stream",
     "text": [
      "/net/fs-2/scale/OrionStore/Scratch/joteklem/MyCondaEnvironments/Python3.11/orion_env/lib/python3.11/site-packages/accelerate/accelerator.py:432: FutureWarning: Passing the following arguments to `Accelerator` is deprecated and will be removed in version 1.0 of Accelerate: dict_keys(['dispatch_batches', 'split_batches', 'even_batches', 'use_seedable_sampler']). Please pass an `accelerate.DataLoaderConfiguration` instead: \n",
      "dataloader_config = DataLoaderConfiguration(dispatch_batches=None, split_batches=False, even_batches=True, use_seedable_sampler=True)\n",
      "  warnings.warn(\n",
      "Detected kernel version 3.10.0, which is below the recommended minimum of 5.5.0; this can cause the process to hang. It is recommended to upgrade the kernel to the minimum version or higher.\n"
     ]
    },
    {
     "name": "stdout",
     "output_type": "stream",
     "text": [
      "Starting trial 7\n"
     ]
    },
    {
     "data": {
      "text/html": [
       "\n",
       "    <div>\n",
       "      \n",
       "      <progress value='158' max='471' style='width:300px; height:20px; vertical-align: middle;'></progress>\n",
       "      [158/471 00:10 < 00:20, 15.18 it/s, Epoch 1.00/3]\n",
       "    </div>\n",
       "    <table border=\"1\" class=\"dataframe\">\n",
       "  <thead>\n",
       " <tr style=\"text-align: left;\">\n",
       "      <th>Epoch</th>\n",
       "      <th>Training Loss</th>\n",
       "      <th>Validation Loss</th>\n",
       "    </tr>\n",
       "  </thead>\n",
       "  <tbody>\n",
       "  </tbody>\n",
       "</table><p>\n",
       "    <div>\n",
       "      \n",
       "      <progress value='105' max='105' style='width:300px; height:20px; vertical-align: middle;'></progress>\n",
       "      [105/105 00:01]\n",
       "    </div>\n",
       "    "
      ],
      "text/plain": [
       "<IPython.core.display.HTML object>"
      ]
     },
     "metadata": {},
     "output_type": "display_data"
    },
    {
     "name": "stderr",
     "output_type": "stream",
     "text": [
      "[I 2024-04-18 15:09:59,506] Trial 7 pruned. \n"
     ]
    },
    {
     "data": {
      "text/html": [
       "Finishing last run (ID:whvl4lhr) before initializing another..."
      ],
      "text/plain": [
       "<IPython.core.display.HTML object>"
      ]
     },
     "metadata": {},
     "output_type": "display_data"
    },
    {
     "data": {
      "text/html": [
       "<style>\n",
       "    table.wandb td:nth-child(1) { padding: 0 10px; text-align: left ; width: auto;} td:nth-child(2) {text-align: left ; width: 100%}\n",
       "    .wandb-row { display: flex; flex-direction: row; flex-wrap: wrap; justify-content: flex-start; width: 100% }\n",
       "    .wandb-col { display: flex; flex-direction: column; flex-basis: 100%; flex: 1; padding: 10px; }\n",
       "    </style>\n",
       "<div class=\"wandb-row\"><div class=\"wandb-col\"><h3>Run history:</h3><br/><table class=\"wandb\"><tr><td>eval/Accuracy</td><td>▁</td></tr><tr><td>eval/Balanced accuracy</td><td>▁</td></tr><tr><td>eval/F1 macro</td><td>▁</td></tr><tr><td>eval/F1 micro</td><td>▁</td></tr><tr><td>eval/F1 weighted</td><td>▁</td></tr><tr><td>eval/loss</td><td>▁</td></tr><tr><td>eval/runtime</td><td>▁</td></tr><tr><td>eval/samples_per_second</td><td>▁</td></tr><tr><td>eval/steps_per_second</td><td>▁</td></tr><tr><td>train/epoch</td><td>▁</td></tr><tr><td>train/global_step</td><td>▁</td></tr></table><br/></div><div class=\"wandb-col\"><h3>Run summary:</h3><br/><table class=\"wandb\"><tr><td>eval/Accuracy</td><td>0.78452</td></tr><tr><td>eval/Balanced accuracy</td><td>0.65712</td></tr><tr><td>eval/F1 macro</td><td>0.68534</td></tr><tr><td>eval/F1 micro</td><td>0.78452</td></tr><tr><td>eval/F1 weighted</td><td>0.77313</td></tr><tr><td>eval/loss</td><td>0.58959</td></tr><tr><td>eval/runtime</td><td>1.1168</td></tr><tr><td>eval/samples_per_second</td><td>3008.596</td></tr><tr><td>eval/steps_per_second</td><td>94.019</td></tr><tr><td>train/epoch</td><td>1.0</td></tr><tr><td>train/global_step</td><td>157</td></tr></table><br/></div></div>"
      ],
      "text/plain": [
       "<IPython.core.display.HTML object>"
      ]
     },
     "metadata": {},
     "output_type": "display_data"
    },
    {
     "data": {
      "text/html": [
       " View run <strong style=\"color:#cdcd00\">trial-7</strong> at: <a href='https://wandb.ai/master-2024/DistilBERT/runs/whvl4lhr' target=\"_blank\">https://wandb.ai/master-2024/DistilBERT/runs/whvl4lhr</a><br/>Synced 5 W&B file(s), 0 media file(s), 0 artifact file(s) and 0 other file(s)"
      ],
      "text/plain": [
       "<IPython.core.display.HTML object>"
      ]
     },
     "metadata": {},
     "output_type": "display_data"
    },
    {
     "data": {
      "text/html": [
       "Find logs at: <code>./wandb/run-20240418_150940-whvl4lhr/logs</code>"
      ],
      "text/plain": [
       "<IPython.core.display.HTML object>"
      ]
     },
     "metadata": {},
     "output_type": "display_data"
    },
    {
     "data": {
      "text/html": [
       "Successfully finished last run (ID:whvl4lhr). Initializing new run:<br/>"
      ],
      "text/plain": [
       "<IPython.core.display.HTML object>"
      ]
     },
     "metadata": {},
     "output_type": "display_data"
    },
    {
     "data": {
      "text/html": [
       "wandb version 0.16.6 is available!  To upgrade, please run:\n",
       " $ pip install wandb --upgrade"
      ],
      "text/plain": [
       "<IPython.core.display.HTML object>"
      ]
     },
     "metadata": {},
     "output_type": "display_data"
    },
    {
     "data": {
      "text/html": [
       "Tracking run with wandb version 0.16.4"
      ],
      "text/plain": [
       "<IPython.core.display.HTML object>"
      ]
     },
     "metadata": {},
     "output_type": "display_data"
    },
    {
     "data": {
      "text/html": [
       "Run data is saved locally in <code>/net/fs-2/scale/OrionStore/Home/joteklem/Pytorch_models/wandb/run-20240418_150959-j9aqvigd</code>"
      ],
      "text/plain": [
       "<IPython.core.display.HTML object>"
      ]
     },
     "metadata": {},
     "output_type": "display_data"
    },
    {
     "data": {
      "text/html": [
       "Syncing run <strong><a href='https://wandb.ai/master-2024/DistilBERT/runs/j9aqvigd' target=\"_blank\">trial-8</a></strong> to <a href='https://wandb.ai/master-2024/DistilBERT' target=\"_blank\">Weights & Biases</a> (<a href='https://wandb.me/run' target=\"_blank\">docs</a>)<br/>"
      ],
      "text/plain": [
       "<IPython.core.display.HTML object>"
      ]
     },
     "metadata": {},
     "output_type": "display_data"
    },
    {
     "data": {
      "text/html": [
       " View project at <a href='https://wandb.ai/master-2024/DistilBERT' target=\"_blank\">https://wandb.ai/master-2024/DistilBERT</a>"
      ],
      "text/plain": [
       "<IPython.core.display.HTML object>"
      ]
     },
     "metadata": {},
     "output_type": "display_data"
    },
    {
     "data": {
      "text/html": [
       " View run at <a href='https://wandb.ai/master-2024/DistilBERT/runs/j9aqvigd' target=\"_blank\">https://wandb.ai/master-2024/DistilBERT/runs/j9aqvigd</a>"
      ],
      "text/plain": [
       "<IPython.core.display.HTML object>"
      ]
     },
     "metadata": {},
     "output_type": "display_data"
    },
    {
     "name": "stderr",
     "output_type": "stream",
     "text": [
      "/net/fs-2/scale/OrionStore/Scratch/joteklem/MyCondaEnvironments/Python3.11/orion_env/lib/python3.11/site-packages/accelerate/accelerator.py:432: FutureWarning: Passing the following arguments to `Accelerator` is deprecated and will be removed in version 1.0 of Accelerate: dict_keys(['dispatch_batches', 'split_batches', 'even_batches', 'use_seedable_sampler']). Please pass an `accelerate.DataLoaderConfiguration` instead: \n",
      "dataloader_config = DataLoaderConfiguration(dispatch_batches=None, split_batches=False, even_batches=True, use_seedable_sampler=True)\n",
      "  warnings.warn(\n",
      "Detected kernel version 3.10.0, which is below the recommended minimum of 5.5.0; this can cause the process to hang. It is recommended to upgrade the kernel to the minimum version or higher.\n"
     ]
    },
    {
     "name": "stdout",
     "output_type": "stream",
     "text": [
      "Starting trial 8\n"
     ]
    },
    {
     "data": {
      "text/html": [
       "\n",
       "    <div>\n",
       "      \n",
       "      <progress value='631' max='3150' style='width:300px; height:20px; vertical-align: middle;'></progress>\n",
       "      [ 629/3150 00:41 < 02:45, 15.25 it/s, Epoch 1.00/5]\n",
       "    </div>\n",
       "    <table border=\"1\" class=\"dataframe\">\n",
       "  <thead>\n",
       " <tr style=\"text-align: left;\">\n",
       "      <th>Epoch</th>\n",
       "      <th>Training Loss</th>\n",
       "      <th>Validation Loss</th>\n",
       "    </tr>\n",
       "  </thead>\n",
       "  <tbody>\n",
       "  </tbody>\n",
       "</table><p>\n",
       "    <div>\n",
       "      \n",
       "      <progress value='420' max='420' style='width:300px; height:20px; vertical-align: middle;'></progress>\n",
       "      [420/420 00:02]\n",
       "    </div>\n",
       "    "
      ],
      "text/plain": [
       "<IPython.core.display.HTML object>"
      ]
     },
     "metadata": {},
     "output_type": "display_data"
    },
    {
     "name": "stderr",
     "output_type": "stream",
     "text": [
      "[I 2024-04-18 15:10:50,514] Trial 8 pruned. \n"
     ]
    },
    {
     "data": {
      "text/html": [
       "Finishing last run (ID:j9aqvigd) before initializing another..."
      ],
      "text/plain": [
       "<IPython.core.display.HTML object>"
      ]
     },
     "metadata": {},
     "output_type": "display_data"
    },
    {
     "data": {
      "text/html": [
       "<style>\n",
       "    table.wandb td:nth-child(1) { padding: 0 10px; text-align: left ; width: auto;} td:nth-child(2) {text-align: left ; width: 100%}\n",
       "    .wandb-row { display: flex; flex-direction: row; flex-wrap: wrap; justify-content: flex-start; width: 100% }\n",
       "    .wandb-col { display: flex; flex-direction: column; flex-basis: 100%; flex: 1; padding: 10px; }\n",
       "    </style>\n",
       "<div class=\"wandb-row\"><div class=\"wandb-col\"><h3>Run history:</h3><br/><table class=\"wandb\"><tr><td>eval/Accuracy</td><td>▁</td></tr><tr><td>eval/Balanced accuracy</td><td>▁</td></tr><tr><td>eval/F1 macro</td><td>▁</td></tr><tr><td>eval/F1 micro</td><td>▁</td></tr><tr><td>eval/F1 weighted</td><td>▁</td></tr><tr><td>eval/loss</td><td>▁</td></tr><tr><td>eval/runtime</td><td>▁</td></tr><tr><td>eval/samples_per_second</td><td>▁</td></tr><tr><td>eval/steps_per_second</td><td>▁</td></tr><tr><td>train/epoch</td><td>▁</td></tr><tr><td>train/global_step</td><td>▁</td></tr></table><br/></div><div class=\"wandb-col\"><h3>Run summary:</h3><br/><table class=\"wandb\"><tr><td>eval/Accuracy</td><td>0.7375</td></tr><tr><td>eval/Balanced accuracy</td><td>0.46777</td></tr><tr><td>eval/F1 macro</td><td>0.4653</td></tr><tr><td>eval/F1 micro</td><td>0.7375</td></tr><tr><td>eval/F1 weighted</td><td>0.68191</td></tr><tr><td>eval/loss</td><td>0.79953</td></tr><tr><td>eval/runtime</td><td>2.6778</td></tr><tr><td>eval/samples_per_second</td><td>1254.784</td></tr><tr><td>eval/steps_per_second</td><td>156.848</td></tr><tr><td>train/epoch</td><td>1.0</td></tr><tr><td>train/global_step</td><td>630</td></tr></table><br/></div></div>"
      ],
      "text/plain": [
       "<IPython.core.display.HTML object>"
      ]
     },
     "metadata": {},
     "output_type": "display_data"
    },
    {
     "data": {
      "text/html": [
       " View run <strong style=\"color:#cdcd00\">trial-8</strong> at: <a href='https://wandb.ai/master-2024/DistilBERT/runs/j9aqvigd' target=\"_blank\">https://wandb.ai/master-2024/DistilBERT/runs/j9aqvigd</a><br/>Synced 5 W&B file(s), 0 media file(s), 0 artifact file(s) and 0 other file(s)"
      ],
      "text/plain": [
       "<IPython.core.display.HTML object>"
      ]
     },
     "metadata": {},
     "output_type": "display_data"
    },
    {
     "data": {
      "text/html": [
       "Find logs at: <code>./wandb/run-20240418_150959-j9aqvigd/logs</code>"
      ],
      "text/plain": [
       "<IPython.core.display.HTML object>"
      ]
     },
     "metadata": {},
     "output_type": "display_data"
    },
    {
     "data": {
      "text/html": [
       "Successfully finished last run (ID:j9aqvigd). Initializing new run:<br/>"
      ],
      "text/plain": [
       "<IPython.core.display.HTML object>"
      ]
     },
     "metadata": {},
     "output_type": "display_data"
    },
    {
     "data": {
      "text/html": [
       "wandb version 0.16.6 is available!  To upgrade, please run:\n",
       " $ pip install wandb --upgrade"
      ],
      "text/plain": [
       "<IPython.core.display.HTML object>"
      ]
     },
     "metadata": {},
     "output_type": "display_data"
    },
    {
     "data": {
      "text/html": [
       "Tracking run with wandb version 0.16.4"
      ],
      "text/plain": [
       "<IPython.core.display.HTML object>"
      ]
     },
     "metadata": {},
     "output_type": "display_data"
    },
    {
     "data": {
      "text/html": [
       "Run data is saved locally in <code>/net/fs-2/scale/OrionStore/Home/joteklem/Pytorch_models/wandb/run-20240418_151050-elj5pki6</code>"
      ],
      "text/plain": [
       "<IPython.core.display.HTML object>"
      ]
     },
     "metadata": {},
     "output_type": "display_data"
    },
    {
     "data": {
      "text/html": [
       "Syncing run <strong><a href='https://wandb.ai/master-2024/DistilBERT/runs/elj5pki6' target=\"_blank\">trial-9</a></strong> to <a href='https://wandb.ai/master-2024/DistilBERT' target=\"_blank\">Weights & Biases</a> (<a href='https://wandb.me/run' target=\"_blank\">docs</a>)<br/>"
      ],
      "text/plain": [
       "<IPython.core.display.HTML object>"
      ]
     },
     "metadata": {},
     "output_type": "display_data"
    },
    {
     "data": {
      "text/html": [
       " View project at <a href='https://wandb.ai/master-2024/DistilBERT' target=\"_blank\">https://wandb.ai/master-2024/DistilBERT</a>"
      ],
      "text/plain": [
       "<IPython.core.display.HTML object>"
      ]
     },
     "metadata": {},
     "output_type": "display_data"
    },
    {
     "data": {
      "text/html": [
       " View run at <a href='https://wandb.ai/master-2024/DistilBERT/runs/elj5pki6' target=\"_blank\">https://wandb.ai/master-2024/DistilBERT/runs/elj5pki6</a>"
      ],
      "text/plain": [
       "<IPython.core.display.HTML object>"
      ]
     },
     "metadata": {},
     "output_type": "display_data"
    },
    {
     "name": "stderr",
     "output_type": "stream",
     "text": [
      "/net/fs-2/scale/OrionStore/Scratch/joteklem/MyCondaEnvironments/Python3.11/orion_env/lib/python3.11/site-packages/accelerate/accelerator.py:432: FutureWarning: Passing the following arguments to `Accelerator` is deprecated and will be removed in version 1.0 of Accelerate: dict_keys(['dispatch_batches', 'split_batches', 'even_batches', 'use_seedable_sampler']). Please pass an `accelerate.DataLoaderConfiguration` instead: \n",
      "dataloader_config = DataLoaderConfiguration(dispatch_batches=None, split_batches=False, even_batches=True, use_seedable_sampler=True)\n",
      "  warnings.warn(\n",
      "Detected kernel version 3.10.0, which is below the recommended minimum of 5.5.0; this can cause the process to hang. It is recommended to upgrade the kernel to the minimum version or higher.\n"
     ]
    },
    {
     "name": "stdout",
     "output_type": "stream",
     "text": [
      "Starting trial 9\n"
     ]
    },
    {
     "data": {
      "text/html": [
       "\n",
       "    <div>\n",
       "      \n",
       "      <progress value='631' max='945' style='width:300px; height:20px; vertical-align: middle;'></progress>\n",
       "      [631/945 00:42 < 00:20, 14.97 it/s, Epoch 2/3]\n",
       "    </div>\n",
       "    <table border=\"1\" class=\"dataframe\">\n",
       "  <thead>\n",
       " <tr style=\"text-align: left;\">\n",
       "      <th>Epoch</th>\n",
       "      <th>Training Loss</th>\n",
       "      <th>Validation Loss</th>\n",
       "      <th>Accuracy</th>\n",
       "      <th>Balanced accuracy</th>\n",
       "      <th>F1 weighted</th>\n",
       "      <th>F1 macro</th>\n",
       "      <th>F1 micro</th>\n",
       "      <th>Classification report</th>\n",
       "    </tr>\n",
       "  </thead>\n",
       "  <tbody>\n",
       "    <tr>\n",
       "      <td>1</td>\n",
       "      <td>No log</td>\n",
       "      <td>0.523817</td>\n",
       "      <td>0.802976</td>\n",
       "      <td>0.678567</td>\n",
       "      <td>0.794915</td>\n",
       "      <td>0.708909</td>\n",
       "      <td>0.802976</td>\n",
       "      <td>{'0': {'precision': 0.7506561679790026, 'recall': 0.6369710467706013, 'f1-score': 0.689156626506024, 'support': 898.0}, '1': {'precision': 0.8302521008403362, 'recall': 0.9194974406700791, 'f1-score': 0.8725988076838155, 'support': 2149.0}, '2': {'precision': 0.6880733944954128, 'recall': 0.4792332268370607, 'f1-score': 0.5649717514124294, 'support': 313.0}, 'accuracy': 0.8029761904761905, 'macro avg': {'precision': 0.7563272211049172, 'recall': 0.6785672380925805, 'f1-score': 0.708909061867423, 'support': 3360.0}, 'weighted avg': {'precision': 0.7957345166750271, 'recall': 0.8029761904761905, 'f1-score': 0.7949147757461368, 'support': 3360.0}}</td>\n",
       "    </tr>\n",
       "  </tbody>\n",
       "</table><p>\n",
       "    <div>\n",
       "      \n",
       "      <progress value='210' max='210' style='width:300px; height:20px; vertical-align: middle;'></progress>\n",
       "      [210/210 00:01]\n",
       "    </div>\n",
       "    "
      ],
      "text/plain": [
       "<IPython.core.display.HTML object>"
      ]
     },
     "metadata": {},
     "output_type": "display_data"
    },
    {
     "name": "stderr",
     "output_type": "stream",
     "text": [
      "[I 2024-04-18 15:11:41,519] Trial 9 pruned. \n"
     ]
    },
    {
     "data": {
      "text/html": [
       "Finishing last run (ID:elj5pki6) before initializing another..."
      ],
      "text/plain": [
       "<IPython.core.display.HTML object>"
      ]
     },
     "metadata": {},
     "output_type": "display_data"
    },
    {
     "data": {
      "text/html": [
       "<style>\n",
       "    table.wandb td:nth-child(1) { padding: 0 10px; text-align: left ; width: auto;} td:nth-child(2) {text-align: left ; width: 100%}\n",
       "    .wandb-row { display: flex; flex-direction: row; flex-wrap: wrap; justify-content: flex-start; width: 100% }\n",
       "    .wandb-col { display: flex; flex-direction: column; flex-basis: 100%; flex: 1; padding: 10px; }\n",
       "    </style>\n",
       "<div class=\"wandb-row\"><div class=\"wandb-col\"><h3>Run history:</h3><br/><table class=\"wandb\"><tr><td>eval/Accuracy</td><td>▁█</td></tr><tr><td>eval/Balanced accuracy</td><td>▁█</td></tr><tr><td>eval/F1 macro</td><td>▁█</td></tr><tr><td>eval/F1 micro</td><td>▁█</td></tr><tr><td>eval/F1 weighted</td><td>▁█</td></tr><tr><td>eval/loss</td><td>█▁</td></tr><tr><td>eval/runtime</td><td>█▁</td></tr><tr><td>eval/samples_per_second</td><td>▁█</td></tr><tr><td>eval/steps_per_second</td><td>▁█</td></tr><tr><td>train/epoch</td><td>▁██</td></tr><tr><td>train/global_step</td><td>▁██</td></tr><tr><td>train/grad_norm</td><td>▁</td></tr><tr><td>train/learning_rate</td><td>▁</td></tr><tr><td>train/loss</td><td>▁</td></tr></table><br/></div><div class=\"wandb-col\"><h3>Run summary:</h3><br/><table class=\"wandb\"><tr><td>eval/Accuracy</td><td>0.80952</td></tr><tr><td>eval/Balanced accuracy</td><td>0.72065</td></tr><tr><td>eval/F1 macro</td><td>0.73543</td></tr><tr><td>eval/F1 micro</td><td>0.80952</td></tr><tr><td>eval/F1 weighted</td><td>0.8064</td></tr><tr><td>eval/loss</td><td>0.50718</td></tr><tr><td>eval/runtime</td><td>1.4903</td></tr><tr><td>eval/samples_per_second</td><td>2254.612</td></tr><tr><td>eval/steps_per_second</td><td>140.913</td></tr><tr><td>train/epoch</td><td>2.0</td></tr><tr><td>train/global_step</td><td>630</td></tr><tr><td>train/grad_norm</td><td>4.45973</td></tr><tr><td>train/learning_rate</td><td>1e-05</td></tr><tr><td>train/loss</td><td>0.5772</td></tr></table><br/></div></div>"
      ],
      "text/plain": [
       "<IPython.core.display.HTML object>"
      ]
     },
     "metadata": {},
     "output_type": "display_data"
    },
    {
     "data": {
      "text/html": [
       " View run <strong style=\"color:#cdcd00\">trial-9</strong> at: <a href='https://wandb.ai/master-2024/DistilBERT/runs/elj5pki6' target=\"_blank\">https://wandb.ai/master-2024/DistilBERT/runs/elj5pki6</a><br/>Synced 5 W&B file(s), 0 media file(s), 0 artifact file(s) and 0 other file(s)"
      ],
      "text/plain": [
       "<IPython.core.display.HTML object>"
      ]
     },
     "metadata": {},
     "output_type": "display_data"
    },
    {
     "data": {
      "text/html": [
       "Find logs at: <code>./wandb/run-20240418_151050-elj5pki6/logs</code>"
      ],
      "text/plain": [
       "<IPython.core.display.HTML object>"
      ]
     },
     "metadata": {},
     "output_type": "display_data"
    },
    {
     "data": {
      "text/html": [
       "Successfully finished last run (ID:elj5pki6). Initializing new run:<br/>"
      ],
      "text/plain": [
       "<IPython.core.display.HTML object>"
      ]
     },
     "metadata": {},
     "output_type": "display_data"
    },
    {
     "data": {
      "text/html": [
       "wandb version 0.16.6 is available!  To upgrade, please run:\n",
       " $ pip install wandb --upgrade"
      ],
      "text/plain": [
       "<IPython.core.display.HTML object>"
      ]
     },
     "metadata": {},
     "output_type": "display_data"
    },
    {
     "data": {
      "text/html": [
       "Tracking run with wandb version 0.16.4"
      ],
      "text/plain": [
       "<IPython.core.display.HTML object>"
      ]
     },
     "metadata": {},
     "output_type": "display_data"
    },
    {
     "data": {
      "text/html": [
       "Run data is saved locally in <code>/net/fs-2/scale/OrionStore/Home/joteklem/Pytorch_models/wandb/run-20240418_151141-4g73g6eh</code>"
      ],
      "text/plain": [
       "<IPython.core.display.HTML object>"
      ]
     },
     "metadata": {},
     "output_type": "display_data"
    },
    {
     "data": {
      "text/html": [
       "Syncing run <strong><a href='https://wandb.ai/master-2024/DistilBERT/runs/4g73g6eh' target=\"_blank\">trial-10</a></strong> to <a href='https://wandb.ai/master-2024/DistilBERT' target=\"_blank\">Weights & Biases</a> (<a href='https://wandb.me/run' target=\"_blank\">docs</a>)<br/>"
      ],
      "text/plain": [
       "<IPython.core.display.HTML object>"
      ]
     },
     "metadata": {},
     "output_type": "display_data"
    },
    {
     "data": {
      "text/html": [
       " View project at <a href='https://wandb.ai/master-2024/DistilBERT' target=\"_blank\">https://wandb.ai/master-2024/DistilBERT</a>"
      ],
      "text/plain": [
       "<IPython.core.display.HTML object>"
      ]
     },
     "metadata": {},
     "output_type": "display_data"
    },
    {
     "data": {
      "text/html": [
       " View run at <a href='https://wandb.ai/master-2024/DistilBERT/runs/4g73g6eh' target=\"_blank\">https://wandb.ai/master-2024/DistilBERT/runs/4g73g6eh</a>"
      ],
      "text/plain": [
       "<IPython.core.display.HTML object>"
      ]
     },
     "metadata": {},
     "output_type": "display_data"
    },
    {
     "name": "stdout",
     "output_type": "stream",
     "text": [
      "Starting trial 10\n"
     ]
    },
    {
     "name": "stderr",
     "output_type": "stream",
     "text": [
      "/net/fs-2/scale/OrionStore/Scratch/joteklem/MyCondaEnvironments/Python3.11/orion_env/lib/python3.11/site-packages/accelerate/accelerator.py:432: FutureWarning: Passing the following arguments to `Accelerator` is deprecated and will be removed in version 1.0 of Accelerate: dict_keys(['dispatch_batches', 'split_batches', 'even_batches', 'use_seedable_sampler']). Please pass an `accelerate.DataLoaderConfiguration` instead: \n",
      "dataloader_config = DataLoaderConfiguration(dispatch_batches=None, split_batches=False, even_batches=True, use_seedable_sampler=True)\n",
      "  warnings.warn(\n",
      "Detected kernel version 3.10.0, which is below the recommended minimum of 5.5.0; this can cause the process to hang. It is recommended to upgrade the kernel to the minimum version or higher.\n"
     ]
    },
    {
     "data": {
      "text/html": [
       "\n",
       "    <div>\n",
       "      \n",
       "      <progress value='2520' max='2520' style='width:300px; height:20px; vertical-align: middle;'></progress>\n",
       "      [2520/2520 03:02, Epoch 4/4]\n",
       "    </div>\n",
       "    <table border=\"1\" class=\"dataframe\">\n",
       "  <thead>\n",
       " <tr style=\"text-align: left;\">\n",
       "      <th>Epoch</th>\n",
       "      <th>Training Loss</th>\n",
       "      <th>Validation Loss</th>\n",
       "      <th>Accuracy</th>\n",
       "      <th>Balanced accuracy</th>\n",
       "      <th>F1 weighted</th>\n",
       "      <th>F1 macro</th>\n",
       "      <th>F1 micro</th>\n",
       "      <th>Classification report</th>\n",
       "    </tr>\n",
       "  </thead>\n",
       "  <tbody>\n",
       "    <tr>\n",
       "      <td>1</td>\n",
       "      <td>No log</td>\n",
       "      <td>0.520097</td>\n",
       "      <td>0.799405</td>\n",
       "      <td>0.702170</td>\n",
       "      <td>0.795544</td>\n",
       "      <td>0.718012</td>\n",
       "      <td>0.799405</td>\n",
       "      <td>{'0': {'precision': 0.7214111922141119, 'recall': 0.6603563474387528, 'f1-score': 0.6895348837209303, 'support': 898.0}, '1': {'precision': 0.8458149779735683, 'recall': 0.893438808748255, 'f1-score': 0.8689748811948405, 'support': 2149.0}, '2': {'precision': 0.6455223880597015, 'recall': 0.5527156549520766, 'f1-score': 0.5955249569707401, 'support': 313.0}, 'accuracy': 0.799404761904762, 'macro avg': {'precision': 0.7375828527491272, 'recall': 0.7021702703796948, 'f1-score': 0.7180115739621703, 'support': 3360.0}, 'weighted avg': {'precision': 0.7939083767071897, 'recall': 0.799404761904762, 'f1-score': 0.7955442430955206, 'support': 3360.0}}</td>\n",
       "    </tr>\n",
       "    <tr>\n",
       "      <td>2</td>\n",
       "      <td>0.542100</td>\n",
       "      <td>0.512205</td>\n",
       "      <td>0.818750</td>\n",
       "      <td>0.735522</td>\n",
       "      <td>0.814505</td>\n",
       "      <td>0.750039</td>\n",
       "      <td>0.818750</td>\n",
       "      <td>{'0': {'precision': 0.7744063324538258, 'recall': 0.6536748329621381, 'f1-score': 0.7089371980676329, 'support': 898.0}, '1': {'precision': 0.8505846686877436, 'recall': 0.9139134481154025, 'f1-score': 0.8811126065500224, 'support': 2149.0}, '2': {'precision': 0.6825938566552902, 'recall': 0.6389776357827476, 'f1-score': 0.6600660066006601, 'support': 313.0}, 'accuracy': 0.81875, 'macro avg': {'precision': 0.7691949525989532, 'recall': 0.7355219722867626, 'f1-score': 0.7500386037394384, 'support': 3360.0}, 'weighted avg': {'precision': 0.8145759573472031, 'recall': 0.81875, 'f1-score': 0.81450513553772, 'support': 3360.0}}</td>\n",
       "    </tr>\n",
       "    <tr>\n",
       "      <td>3</td>\n",
       "      <td>0.542100</td>\n",
       "      <td>0.595135</td>\n",
       "      <td>0.808036</td>\n",
       "      <td>0.736716</td>\n",
       "      <td>0.807093</td>\n",
       "      <td>0.745729</td>\n",
       "      <td>0.808036</td>\n",
       "      <td>{'0': {'precision': 0.7011111111111111, 'recall': 0.7026726057906458, 'f1-score': 0.7018909899888766, 'support': 898.0}, '1': {'precision': 0.8659935750344194, 'recall': 0.8780828292228944, 'f1-score': 0.871996303142329, 'support': 2149.0}, '2': {'precision': 0.701067615658363, 'recall': 0.6293929712460063, 'f1-score': 0.6632996632996633, 'support': 313.0}, 'accuracy': 0.8080357142857143, 'macro avg': {'precision': 0.7560574339346312, 'recall': 0.7367161354198489, 'f1-score': 0.7457289854769563, 'support': 3360.0}, 'weighted avg': {'precision': 0.806563135186849, 'recall': 0.8080357142857143, 'f1-score': 0.8070925473439496, 'support': 3360.0}}</td>\n",
       "    </tr>\n",
       "    <tr>\n",
       "      <td>4</td>\n",
       "      <td>0.209200</td>\n",
       "      <td>0.800204</td>\n",
       "      <td>0.812202</td>\n",
       "      <td>0.724046</td>\n",
       "      <td>0.808163</td>\n",
       "      <td>0.745740</td>\n",
       "      <td>0.812202</td>\n",
       "      <td>{'0': {'precision': 0.7312883435582822, 'recall': 0.6636971046770601, 'f1-score': 0.6958552247518973, 'support': 898.0}, '1': {'precision': 0.8489082969432314, 'recall': 0.9046067938576082, 'f1-score': 0.8758729443568372, 'support': 2149.0}, '2': {'precision': 0.7411764705882353, 'recall': 0.6038338658146964, 'f1-score': 0.6654929577464789, 'support': 313.0}, 'accuracy': 0.812202380952381, 'macro avg': {'precision': 0.7737910370299163, 'recall': 0.7240459214497882, 'f1-score': 0.7457403756184044, 'support': 3360.0}, 'weighted avg': {'precision': 0.8074372315298987, 'recall': 0.812202380952381, 'f1-score': 0.8081631681621115, 'support': 3360.0}}</td>\n",
       "    </tr>\n",
       "  </tbody>\n",
       "</table><p>"
      ],
      "text/plain": [
       "<IPython.core.display.HTML object>"
      ]
     },
     "metadata": {},
     "output_type": "display_data"
    },
    {
     "data": {
      "text/html": [
       "\n",
       "    <div>\n",
       "      \n",
       "      <progress value='420' max='420' style='width:300px; height:20px; vertical-align: middle;'></progress>\n",
       "      [420/420 00:02]\n",
       "    </div>\n",
       "    "
      ],
      "text/plain": [
       "<IPython.core.display.HTML object>"
      ]
     },
     "metadata": {},
     "output_type": "display_data"
    },
    {
     "name": "stderr",
     "output_type": "stream",
     "text": [
      "/net/fs-2/scale/OrionStore/Scratch/joteklem/MyCondaEnvironments/Python3.11/orion_env/lib/python3.11/site-packages/optuna/trial/_trial.py:499: UserWarning: The reported value is ignored because this `step` 4.0 is already reported.\n",
      "  warnings.warn(\n"
     ]
    },
    {
     "name": "stdout",
     "output_type": "stream",
     "text": [
      "Completed trial 10\n"
     ]
    },
    {
     "data": {
      "text/html": [
       "<style>\n",
       "    table.wandb td:nth-child(1) { padding: 0 10px; text-align: left ; width: auto;} td:nth-child(2) {text-align: left ; width: 100%}\n",
       "    .wandb-row { display: flex; flex-direction: row; flex-wrap: wrap; justify-content: flex-start; width: 100% }\n",
       "    .wandb-col { display: flex; flex-direction: column; flex-basis: 100%; flex: 1; padding: 10px; }\n",
       "    </style>\n",
       "<div class=\"wandb-row\"><div class=\"wandb-col\"><h3>Run history:</h3><br/><table class=\"wandb\"><tr><td>Macro F1 score</td><td>▁</td></tr><tr><td>Training loss</td><td>▁</td></tr><tr><td>Validation loss</td><td>▁</td></tr><tr><td>eval/Accuracy</td><td>▁█▄▆▆</td></tr><tr><td>eval/Balanced accuracy</td><td>▁██▅▅</td></tr><tr><td>eval/F1 macro</td><td>▁█▇▇▇</td></tr><tr><td>eval/F1 micro</td><td>▁█▄▆▆</td></tr><tr><td>eval/F1 weighted</td><td>▁█▅▆▆</td></tr><tr><td>eval/loss</td><td>▁▁▃██</td></tr><tr><td>eval/runtime</td><td>▁▂▁▃█</td></tr><tr><td>eval/samples_per_second</td><td>█▇█▆▁</td></tr><tr><td>eval/steps_per_second</td><td>█▇█▆▁</td></tr><tr><td>train/epoch</td><td>▁▃▃▆████</td></tr><tr><td>train/global_step</td><td>▁▃▃▆██████</td></tr><tr><td>train/grad_norm</td><td>█▁</td></tr><tr><td>train/learning_rate</td><td>█▁</td></tr><tr><td>train/loss</td><td>█▁</td></tr><tr><td>train/total_flos</td><td>▁</td></tr><tr><td>train/train_loss</td><td>▁</td></tr><tr><td>train/train_runtime</td><td>▁</td></tr><tr><td>train/train_samples_per_second</td><td>▁</td></tr><tr><td>train/train_steps_per_second</td><td>▁</td></tr></table><br/></div><div class=\"wandb-col\"><h3>Run summary:</h3><br/><table class=\"wandb\"><tr><td>Macro F1 score</td><td>0.74574</td></tr><tr><td>Training loss</td><td>0.2092</td></tr><tr><td>Validation loss</td><td>0.59513</td></tr><tr><td>eval/Accuracy</td><td>0.8122</td></tr><tr><td>eval/Balanced accuracy</td><td>0.72405</td></tr><tr><td>eval/F1 macro</td><td>0.74574</td></tr><tr><td>eval/F1 micro</td><td>0.8122</td></tr><tr><td>eval/F1 weighted</td><td>0.80816</td></tr><tr><td>eval/loss</td><td>0.8002</td></tr><tr><td>eval/runtime</td><td>2.6984</td></tr><tr><td>eval/samples_per_second</td><td>1245.199</td></tr><tr><td>eval/steps_per_second</td><td>155.65</td></tr><tr><td>train/epoch</td><td>4.0</td></tr><tr><td>train/global_step</td><td>2520</td></tr><tr><td>train/grad_norm</td><td>0.53145</td></tr><tr><td>train/learning_rate</td><td>0.0</td></tr><tr><td>train/loss</td><td>0.2092</td></tr><tr><td>train/total_flos</td><td>677787224339340.0</td></tr><tr><td>train/train_loss</td><td>0.37547</td></tr><tr><td>train/train_runtime</td><td>182.2973</td></tr><tr><td>train/train_samples_per_second</td><td>221.133</td></tr><tr><td>train/train_steps_per_second</td><td>13.824</td></tr></table><br/></div></div>"
      ],
      "text/plain": [
       "<IPython.core.display.HTML object>"
      ]
     },
     "metadata": {},
     "output_type": "display_data"
    },
    {
     "data": {
      "text/html": [
       " View run <strong style=\"color:#cdcd00\">trial-10</strong> at: <a href='https://wandb.ai/master-2024/DistilBERT/runs/4g73g6eh' target=\"_blank\">https://wandb.ai/master-2024/DistilBERT/runs/4g73g6eh</a><br/>Synced 5 W&B file(s), 0 media file(s), 0 artifact file(s) and 0 other file(s)"
      ],
      "text/plain": [
       "<IPython.core.display.HTML object>"
      ]
     },
     "metadata": {},
     "output_type": "display_data"
    },
    {
     "data": {
      "text/html": [
       "Find logs at: <code>./wandb/run-20240418_151141-4g73g6eh/logs</code>"
      ],
      "text/plain": [
       "<IPython.core.display.HTML object>"
      ]
     },
     "metadata": {},
     "output_type": "display_data"
    },
    {
     "name": "stderr",
     "output_type": "stream",
     "text": [
      "[I 2024-04-18 15:14:59,206] Trial 10 finished with value: 0.7457403756184044 and parameters: {'learning_rate': 5.6098759789230884e-05, 'per_device_train_batch_size': 8, 'weight_decay': 0.0022641957948878744, 'num_train_epochs': 4, 'warmup_steps': 370}. Best is trial 0 with value: 0.7507266806081914.\n"
     ]
    },
    {
     "data": {
      "text/html": [
       "wandb version 0.16.6 is available!  To upgrade, please run:\n",
       " $ pip install wandb --upgrade"
      ],
      "text/plain": [
       "<IPython.core.display.HTML object>"
      ]
     },
     "metadata": {},
     "output_type": "display_data"
    },
    {
     "data": {
      "text/html": [
       "Tracking run with wandb version 0.16.4"
      ],
      "text/plain": [
       "<IPython.core.display.HTML object>"
      ]
     },
     "metadata": {},
     "output_type": "display_data"
    },
    {
     "data": {
      "text/html": [
       "Run data is saved locally in <code>/net/fs-2/scale/OrionStore/Home/joteklem/Pytorch_models/wandb/run-20240418_151459-1228adb0</code>"
      ],
      "text/plain": [
       "<IPython.core.display.HTML object>"
      ]
     },
     "metadata": {},
     "output_type": "display_data"
    },
    {
     "data": {
      "text/html": [
       "Syncing run <strong><a href='https://wandb.ai/master-2024/DistilBERT/runs/1228adb0' target=\"_blank\">trial-11</a></strong> to <a href='https://wandb.ai/master-2024/DistilBERT' target=\"_blank\">Weights & Biases</a> (<a href='https://wandb.me/run' target=\"_blank\">docs</a>)<br/>"
      ],
      "text/plain": [
       "<IPython.core.display.HTML object>"
      ]
     },
     "metadata": {},
     "output_type": "display_data"
    },
    {
     "data": {
      "text/html": [
       " View project at <a href='https://wandb.ai/master-2024/DistilBERT' target=\"_blank\">https://wandb.ai/master-2024/DistilBERT</a>"
      ],
      "text/plain": [
       "<IPython.core.display.HTML object>"
      ]
     },
     "metadata": {},
     "output_type": "display_data"
    },
    {
     "data": {
      "text/html": [
       " View run at <a href='https://wandb.ai/master-2024/DistilBERT/runs/1228adb0' target=\"_blank\">https://wandb.ai/master-2024/DistilBERT/runs/1228adb0</a>"
      ],
      "text/plain": [
       "<IPython.core.display.HTML object>"
      ]
     },
     "metadata": {},
     "output_type": "display_data"
    },
    {
     "name": "stderr",
     "output_type": "stream",
     "text": [
      "/net/fs-2/scale/OrionStore/Scratch/joteklem/MyCondaEnvironments/Python3.11/orion_env/lib/python3.11/site-packages/accelerate/accelerator.py:432: FutureWarning: Passing the following arguments to `Accelerator` is deprecated and will be removed in version 1.0 of Accelerate: dict_keys(['dispatch_batches', 'split_batches', 'even_batches', 'use_seedable_sampler']). Please pass an `accelerate.DataLoaderConfiguration` instead: \n",
      "dataloader_config = DataLoaderConfiguration(dispatch_batches=None, split_batches=False, even_batches=True, use_seedable_sampler=True)\n",
      "  warnings.warn(\n",
      "Detected kernel version 3.10.0, which is below the recommended minimum of 5.5.0; this can cause the process to hang. It is recommended to upgrade the kernel to the minimum version or higher.\n"
     ]
    },
    {
     "name": "stdout",
     "output_type": "stream",
     "text": [
      "Starting trial 11\n"
     ]
    },
    {
     "data": {
      "text/html": [
       "\n",
       "    <div>\n",
       "      \n",
       "      <progress value='631' max='3150' style='width:300px; height:20px; vertical-align: middle;'></progress>\n",
       "      [ 631/3150 00:40 < 02:43, 15.39 it/s, Epoch 1/5]\n",
       "    </div>\n",
       "    <table border=\"1\" class=\"dataframe\">\n",
       "  <thead>\n",
       " <tr style=\"text-align: left;\">\n",
       "      <th>Epoch</th>\n",
       "      <th>Training Loss</th>\n",
       "      <th>Validation Loss</th>\n",
       "    </tr>\n",
       "  </thead>\n",
       "  <tbody>\n",
       "  </tbody>\n",
       "</table><p>\n",
       "    <div>\n",
       "      \n",
       "      <progress value='420' max='420' style='width:300px; height:20px; vertical-align: middle;'></progress>\n",
       "      [420/420 00:02]\n",
       "    </div>\n",
       "    "
      ],
      "text/plain": [
       "<IPython.core.display.HTML object>"
      ]
     },
     "metadata": {},
     "output_type": "display_data"
    },
    {
     "name": "stderr",
     "output_type": "stream",
     "text": [
      "[I 2024-04-18 15:15:46,161] Trial 11 pruned. \n"
     ]
    },
    {
     "data": {
      "text/html": [
       "Finishing last run (ID:1228adb0) before initializing another..."
      ],
      "text/plain": [
       "<IPython.core.display.HTML object>"
      ]
     },
     "metadata": {},
     "output_type": "display_data"
    },
    {
     "data": {
      "text/html": [
       "<style>\n",
       "    table.wandb td:nth-child(1) { padding: 0 10px; text-align: left ; width: auto;} td:nth-child(2) {text-align: left ; width: 100%}\n",
       "    .wandb-row { display: flex; flex-direction: row; flex-wrap: wrap; justify-content: flex-start; width: 100% }\n",
       "    .wandb-col { display: flex; flex-direction: column; flex-basis: 100%; flex: 1; padding: 10px; }\n",
       "    </style>\n",
       "<div class=\"wandb-row\"><div class=\"wandb-col\"><h3>Run history:</h3><br/><table class=\"wandb\"><tr><td>eval/Accuracy</td><td>▁</td></tr><tr><td>eval/Balanced accuracy</td><td>▁</td></tr><tr><td>eval/F1 macro</td><td>▁</td></tr><tr><td>eval/F1 micro</td><td>▁</td></tr><tr><td>eval/F1 weighted</td><td>▁</td></tr><tr><td>eval/loss</td><td>▁</td></tr><tr><td>eval/runtime</td><td>▁</td></tr><tr><td>eval/samples_per_second</td><td>▁</td></tr><tr><td>eval/steps_per_second</td><td>▁</td></tr><tr><td>train/epoch</td><td>▁</td></tr><tr><td>train/global_step</td><td>▁</td></tr></table><br/></div><div class=\"wandb-col\"><h3>Run summary:</h3><br/><table class=\"wandb\"><tr><td>eval/Accuracy</td><td>0.77292</td></tr><tr><td>eval/Balanced accuracy</td><td>0.58128</td></tr><tr><td>eval/F1 macro</td><td>0.6324</td></tr><tr><td>eval/F1 micro</td><td>0.77292</td></tr><tr><td>eval/F1 weighted</td><td>0.74563</td></tr><tr><td>eval/loss</td><td>0.57864</td></tr><tr><td>eval/runtime</td><td>2.672</td></tr><tr><td>eval/samples_per_second</td><td>1257.487</td></tr><tr><td>eval/steps_per_second</td><td>157.186</td></tr><tr><td>train/epoch</td><td>1.0</td></tr><tr><td>train/global_step</td><td>630</td></tr></table><br/></div></div>"
      ],
      "text/plain": [
       "<IPython.core.display.HTML object>"
      ]
     },
     "metadata": {},
     "output_type": "display_data"
    },
    {
     "data": {
      "text/html": [
       " View run <strong style=\"color:#cdcd00\">trial-11</strong> at: <a href='https://wandb.ai/master-2024/DistilBERT/runs/1228adb0' target=\"_blank\">https://wandb.ai/master-2024/DistilBERT/runs/1228adb0</a><br/>Synced 5 W&B file(s), 0 media file(s), 0 artifact file(s) and 0 other file(s)"
      ],
      "text/plain": [
       "<IPython.core.display.HTML object>"
      ]
     },
     "metadata": {},
     "output_type": "display_data"
    },
    {
     "data": {
      "text/html": [
       "Find logs at: <code>./wandb/run-20240418_151459-1228adb0/logs</code>"
      ],
      "text/plain": [
       "<IPython.core.display.HTML object>"
      ]
     },
     "metadata": {},
     "output_type": "display_data"
    },
    {
     "data": {
      "text/html": [
       "Successfully finished last run (ID:1228adb0). Initializing new run:<br/>"
      ],
      "text/plain": [
       "<IPython.core.display.HTML object>"
      ]
     },
     "metadata": {},
     "output_type": "display_data"
    },
    {
     "data": {
      "text/html": [
       "wandb version 0.16.6 is available!  To upgrade, please run:\n",
       " $ pip install wandb --upgrade"
      ],
      "text/plain": [
       "<IPython.core.display.HTML object>"
      ]
     },
     "metadata": {},
     "output_type": "display_data"
    },
    {
     "data": {
      "text/html": [
       "Tracking run with wandb version 0.16.4"
      ],
      "text/plain": [
       "<IPython.core.display.HTML object>"
      ]
     },
     "metadata": {},
     "output_type": "display_data"
    },
    {
     "data": {
      "text/html": [
       "Run data is saved locally in <code>/net/fs-2/scale/OrionStore/Home/joteklem/Pytorch_models/wandb/run-20240418_151546-4qraj4l6</code>"
      ],
      "text/plain": [
       "<IPython.core.display.HTML object>"
      ]
     },
     "metadata": {},
     "output_type": "display_data"
    },
    {
     "data": {
      "text/html": [
       "Syncing run <strong><a href='https://wandb.ai/master-2024/DistilBERT/runs/4qraj4l6' target=\"_blank\">trial-12</a></strong> to <a href='https://wandb.ai/master-2024/DistilBERT' target=\"_blank\">Weights & Biases</a> (<a href='https://wandb.me/run' target=\"_blank\">docs</a>)<br/>"
      ],
      "text/plain": [
       "<IPython.core.display.HTML object>"
      ]
     },
     "metadata": {},
     "output_type": "display_data"
    },
    {
     "data": {
      "text/html": [
       " View project at <a href='https://wandb.ai/master-2024/DistilBERT' target=\"_blank\">https://wandb.ai/master-2024/DistilBERT</a>"
      ],
      "text/plain": [
       "<IPython.core.display.HTML object>"
      ]
     },
     "metadata": {},
     "output_type": "display_data"
    },
    {
     "data": {
      "text/html": [
       " View run at <a href='https://wandb.ai/master-2024/DistilBERT/runs/4qraj4l6' target=\"_blank\">https://wandb.ai/master-2024/DistilBERT/runs/4qraj4l6</a>"
      ],
      "text/plain": [
       "<IPython.core.display.HTML object>"
      ]
     },
     "metadata": {},
     "output_type": "display_data"
    },
    {
     "name": "stderr",
     "output_type": "stream",
     "text": [
      "/net/fs-2/scale/OrionStore/Scratch/joteklem/MyCondaEnvironments/Python3.11/orion_env/lib/python3.11/site-packages/accelerate/accelerator.py:432: FutureWarning: Passing the following arguments to `Accelerator` is deprecated and will be removed in version 1.0 of Accelerate: dict_keys(['dispatch_batches', 'split_batches', 'even_batches', 'use_seedable_sampler']). Please pass an `accelerate.DataLoaderConfiguration` instead: \n",
      "dataloader_config = DataLoaderConfiguration(dispatch_batches=None, split_batches=False, even_batches=True, use_seedable_sampler=True)\n",
      "  warnings.warn(\n",
      "Detected kernel version 3.10.0, which is below the recommended minimum of 5.5.0; this can cause the process to hang. It is recommended to upgrade the kernel to the minimum version or higher.\n"
     ]
    },
    {
     "name": "stdout",
     "output_type": "stream",
     "text": [
      "Starting trial 12\n"
     ]
    },
    {
     "data": {
      "text/html": [
       "\n",
       "    <div>\n",
       "      \n",
       "      <progress value='158' max='628' style='width:300px; height:20px; vertical-align: middle;'></progress>\n",
       "      [157/628 00:10 < 00:30, 15.24 it/s, Epoch 0.99/4]\n",
       "    </div>\n",
       "    <table border=\"1\" class=\"dataframe\">\n",
       "  <thead>\n",
       " <tr style=\"text-align: left;\">\n",
       "      <th>Epoch</th>\n",
       "      <th>Training Loss</th>\n",
       "      <th>Validation Loss</th>\n",
       "    </tr>\n",
       "  </thead>\n",
       "  <tbody>\n",
       "  </tbody>\n",
       "</table><p>\n",
       "    <div>\n",
       "      \n",
       "      <progress value='105' max='105' style='width:300px; height:20px; vertical-align: middle;'></progress>\n",
       "      [105/105 00:01]\n",
       "    </div>\n",
       "    "
      ],
      "text/plain": [
       "<IPython.core.display.HTML object>"
      ]
     },
     "metadata": {},
     "output_type": "display_data"
    },
    {
     "name": "stderr",
     "output_type": "stream",
     "text": [
      "[I 2024-04-18 15:16:07,931] Trial 12 pruned. \n"
     ]
    },
    {
     "data": {
      "text/html": [
       "Finishing last run (ID:4qraj4l6) before initializing another..."
      ],
      "text/plain": [
       "<IPython.core.display.HTML object>"
      ]
     },
     "metadata": {},
     "output_type": "display_data"
    },
    {
     "data": {
      "text/html": [
       "<style>\n",
       "    table.wandb td:nth-child(1) { padding: 0 10px; text-align: left ; width: auto;} td:nth-child(2) {text-align: left ; width: 100%}\n",
       "    .wandb-row { display: flex; flex-direction: row; flex-wrap: wrap; justify-content: flex-start; width: 100% }\n",
       "    .wandb-col { display: flex; flex-direction: column; flex-basis: 100%; flex: 1; padding: 10px; }\n",
       "    </style>\n",
       "<div class=\"wandb-row\"><div class=\"wandb-col\"><h3>Run history:</h3><br/><table class=\"wandb\"><tr><td>eval/Accuracy</td><td>▁</td></tr><tr><td>eval/Balanced accuracy</td><td>▁</td></tr><tr><td>eval/F1 macro</td><td>▁</td></tr><tr><td>eval/F1 micro</td><td>▁</td></tr><tr><td>eval/F1 weighted</td><td>▁</td></tr><tr><td>eval/loss</td><td>▁</td></tr><tr><td>eval/runtime</td><td>▁</td></tr><tr><td>eval/samples_per_second</td><td>▁</td></tr><tr><td>eval/steps_per_second</td><td>▁</td></tr><tr><td>train/epoch</td><td>▁</td></tr><tr><td>train/global_step</td><td>▁</td></tr></table><br/></div><div class=\"wandb-col\"><h3>Run summary:</h3><br/><table class=\"wandb\"><tr><td>eval/Accuracy</td><td>0.78423</td></tr><tr><td>eval/Balanced accuracy</td><td>0.63142</td></tr><tr><td>eval/F1 macro</td><td>0.67097</td></tr><tr><td>eval/F1 micro</td><td>0.78423</td></tr><tr><td>eval/F1 weighted</td><td>0.76715</td></tr><tr><td>eval/loss</td><td>0.57433</td></tr><tr><td>eval/runtime</td><td>1.1194</td></tr><tr><td>eval/samples_per_second</td><td>3001.648</td></tr><tr><td>eval/steps_per_second</td><td>93.802</td></tr><tr><td>train/epoch</td><td>1.0</td></tr><tr><td>train/global_step</td><td>157</td></tr></table><br/></div></div>"
      ],
      "text/plain": [
       "<IPython.core.display.HTML object>"
      ]
     },
     "metadata": {},
     "output_type": "display_data"
    },
    {
     "data": {
      "text/html": [
       " View run <strong style=\"color:#cdcd00\">trial-12</strong> at: <a href='https://wandb.ai/master-2024/DistilBERT/runs/4qraj4l6' target=\"_blank\">https://wandb.ai/master-2024/DistilBERT/runs/4qraj4l6</a><br/>Synced 5 W&B file(s), 0 media file(s), 0 artifact file(s) and 0 other file(s)"
      ],
      "text/plain": [
       "<IPython.core.display.HTML object>"
      ]
     },
     "metadata": {},
     "output_type": "display_data"
    },
    {
     "data": {
      "text/html": [
       "Find logs at: <code>./wandb/run-20240418_151546-4qraj4l6/logs</code>"
      ],
      "text/plain": [
       "<IPython.core.display.HTML object>"
      ]
     },
     "metadata": {},
     "output_type": "display_data"
    },
    {
     "data": {
      "text/html": [
       "Successfully finished last run (ID:4qraj4l6). Initializing new run:<br/>"
      ],
      "text/plain": [
       "<IPython.core.display.HTML object>"
      ]
     },
     "metadata": {},
     "output_type": "display_data"
    },
    {
     "data": {
      "text/html": [
       "wandb version 0.16.6 is available!  To upgrade, please run:\n",
       " $ pip install wandb --upgrade"
      ],
      "text/plain": [
       "<IPython.core.display.HTML object>"
      ]
     },
     "metadata": {},
     "output_type": "display_data"
    },
    {
     "data": {
      "text/html": [
       "Tracking run with wandb version 0.16.4"
      ],
      "text/plain": [
       "<IPython.core.display.HTML object>"
      ]
     },
     "metadata": {},
     "output_type": "display_data"
    },
    {
     "data": {
      "text/html": [
       "Run data is saved locally in <code>/net/fs-2/scale/OrionStore/Home/joteklem/Pytorch_models/wandb/run-20240418_151607-4o8rcmag</code>"
      ],
      "text/plain": [
       "<IPython.core.display.HTML object>"
      ]
     },
     "metadata": {},
     "output_type": "display_data"
    },
    {
     "data": {
      "text/html": [
       "Syncing run <strong><a href='https://wandb.ai/master-2024/DistilBERT/runs/4o8rcmag' target=\"_blank\">trial-13</a></strong> to <a href='https://wandb.ai/master-2024/DistilBERT' target=\"_blank\">Weights & Biases</a> (<a href='https://wandb.me/run' target=\"_blank\">docs</a>)<br/>"
      ],
      "text/plain": [
       "<IPython.core.display.HTML object>"
      ]
     },
     "metadata": {},
     "output_type": "display_data"
    },
    {
     "data": {
      "text/html": [
       " View project at <a href='https://wandb.ai/master-2024/DistilBERT' target=\"_blank\">https://wandb.ai/master-2024/DistilBERT</a>"
      ],
      "text/plain": [
       "<IPython.core.display.HTML object>"
      ]
     },
     "metadata": {},
     "output_type": "display_data"
    },
    {
     "data": {
      "text/html": [
       " View run at <a href='https://wandb.ai/master-2024/DistilBERT/runs/4o8rcmag' target=\"_blank\">https://wandb.ai/master-2024/DistilBERT/runs/4o8rcmag</a>"
      ],
      "text/plain": [
       "<IPython.core.display.HTML object>"
      ]
     },
     "metadata": {},
     "output_type": "display_data"
    },
    {
     "name": "stderr",
     "output_type": "stream",
     "text": [
      "/net/fs-2/scale/OrionStore/Scratch/joteklem/MyCondaEnvironments/Python3.11/orion_env/lib/python3.11/site-packages/accelerate/accelerator.py:432: FutureWarning: Passing the following arguments to `Accelerator` is deprecated and will be removed in version 1.0 of Accelerate: dict_keys(['dispatch_batches', 'split_batches', 'even_batches', 'use_seedable_sampler']). Please pass an `accelerate.DataLoaderConfiguration` instead: \n",
      "dataloader_config = DataLoaderConfiguration(dispatch_batches=None, split_batches=False, even_batches=True, use_seedable_sampler=True)\n",
      "  warnings.warn(\n",
      "Detected kernel version 3.10.0, which is below the recommended minimum of 5.5.0; this can cause the process to hang. It is recommended to upgrade the kernel to the minimum version or higher.\n"
     ]
    },
    {
     "name": "stdout",
     "output_type": "stream",
     "text": [
      "Starting trial 13\n"
     ]
    },
    {
     "data": {
      "text/html": [
       "\n",
       "    <div>\n",
       "      \n",
       "      <progress value='314' max='314' style='width:300px; height:20px; vertical-align: middle;'></progress>\n",
       "      [314/314 00:23, Epoch 1/2]\n",
       "    </div>\n",
       "    <table border=\"1\" class=\"dataframe\">\n",
       "  <thead>\n",
       " <tr style=\"text-align: left;\">\n",
       "      <th>Epoch</th>\n",
       "      <th>Training Loss</th>\n",
       "      <th>Validation Loss</th>\n",
       "      <th>Accuracy</th>\n",
       "      <th>Balanced accuracy</th>\n",
       "      <th>F1 weighted</th>\n",
       "      <th>F1 macro</th>\n",
       "      <th>F1 micro</th>\n",
       "      <th>Classification report</th>\n",
       "    </tr>\n",
       "  </thead>\n",
       "  <tbody>\n",
       "    <tr>\n",
       "      <td>0</td>\n",
       "      <td>No log</td>\n",
       "      <td>0.500169</td>\n",
       "      <td>0.810417</td>\n",
       "      <td>0.707887</td>\n",
       "      <td>0.803456</td>\n",
       "      <td>0.731915</td>\n",
       "      <td>0.810417</td>\n",
       "      <td>{'0': {'precision': 0.7883522727272727, 'recall': 0.6180400890868597, 'f1-score': 0.6928838951310862, 'support': 898.0}, '1': {'precision': 0.8313101716199247, 'recall': 0.9241507677989763, 'f1-score': 0.875275451740855, 'support': 2149.0}, '2': {'precision': 0.6816479400749064, 'recall': 0.5814696485623003, 'f1-score': 0.6275862068965516, 'support': 313.0}, 'accuracy': 0.8104166666666667, 'macro avg': {'precision': 0.7671034614740346, 'recall': 0.7078868351493788, 'f1-score': 0.7319151845894977, 'support': 3360.0}, 'weighted avg': {'precision': 0.8058874121915937, 'recall': 0.8104166666666667, 'f1-score': 0.8034557042789979, 'support': 3360.0}}</td>\n",
       "    </tr>\n",
       "    <tr>\n",
       "      <td>1</td>\n",
       "      <td>0.523200</td>\n",
       "      <td>0.492344</td>\n",
       "      <td>0.820536</td>\n",
       "      <td>0.731562</td>\n",
       "      <td>0.815204</td>\n",
       "      <td>0.750904</td>\n",
       "      <td>0.820536</td>\n",
       "      <td>{'0': {'precision': 0.7893296853625171, 'recall': 0.6425389755011136, 'f1-score': 0.7084100675260897, 'support': 898.0}, '1': {'precision': 0.8449083936940776, 'recall': 0.9227547696603071, 'f1-score': 0.8821174377224199, 'support': 2149.0}, '2': {'precision': 0.6985815602836879, 'recall': 0.6293929712460063, 'f1-score': 0.6621848739495798, 'support': 313.0}, 'accuracy': 0.8205357142857143, 'macro avg': {'precision': 0.7776065464467609, 'recall': 0.7315622388024757, 'f1-score': 0.7509041263993631, 'support': 3360.0}, 'weighted avg': {'precision': 0.8164232809145558, 'recall': 0.8205357142857143, 'f1-score': 0.8152043094792046, 'support': 3360.0}}</td>\n",
       "    </tr>\n",
       "  </tbody>\n",
       "</table><p>"
      ],
      "text/plain": [
       "<IPython.core.display.HTML object>"
      ]
     },
     "metadata": {},
     "output_type": "display_data"
    },
    {
     "data": {
      "text/html": [
       "\n",
       "    <div>\n",
       "      \n",
       "      <progress value='105' max='105' style='width:300px; height:20px; vertical-align: middle;'></progress>\n",
       "      [105/105 00:01]\n",
       "    </div>\n",
       "    "
      ],
      "text/plain": [
       "<IPython.core.display.HTML object>"
      ]
     },
     "metadata": {},
     "output_type": "display_data"
    },
    {
     "name": "stderr",
     "output_type": "stream",
     "text": [
      "/net/fs-2/scale/OrionStore/Scratch/joteklem/MyCondaEnvironments/Python3.11/orion_env/lib/python3.11/site-packages/optuna/trial/_trial.py:499: UserWarning: The reported value is ignored because this `step` 1.9936507936507937 is already reported.\n",
      "  warnings.warn(\n"
     ]
    },
    {
     "name": "stdout",
     "output_type": "stream",
     "text": [
      "Completed trial 13\n"
     ]
    },
    {
     "data": {
      "text/html": [
       "<style>\n",
       "    table.wandb td:nth-child(1) { padding: 0 10px; text-align: left ; width: auto;} td:nth-child(2) {text-align: left ; width: 100%}\n",
       "    .wandb-row { display: flex; flex-direction: row; flex-wrap: wrap; justify-content: flex-start; width: 100% }\n",
       "    .wandb-col { display: flex; flex-direction: column; flex-basis: 100%; flex: 1; padding: 10px; }\n",
       "    </style>\n",
       "<div class=\"wandb-row\"><div class=\"wandb-col\"><h3>Run history:</h3><br/><table class=\"wandb\"><tr><td>Macro F1 score</td><td>▁</td></tr><tr><td>Training loss</td><td>▁</td></tr><tr><td>Validation loss</td><td>▁</td></tr><tr><td>eval/Accuracy</td><td>▁██</td></tr><tr><td>eval/Balanced accuracy</td><td>▁██</td></tr><tr><td>eval/F1 macro</td><td>▁██</td></tr><tr><td>eval/F1 micro</td><td>▁██</td></tr><tr><td>eval/F1 weighted</td><td>▁██</td></tr><tr><td>eval/loss</td><td>█▁▁</td></tr><tr><td>eval/runtime</td><td>▁▁█</td></tr><tr><td>eval/samples_per_second</td><td>██▁</td></tr><tr><td>eval/steps_per_second</td><td>██▁</td></tr><tr><td>train/epoch</td><td>▁████</td></tr><tr><td>train/global_step</td><td>▁██████</td></tr><tr><td>train/grad_norm</td><td>▁</td></tr><tr><td>train/learning_rate</td><td>▁</td></tr><tr><td>train/loss</td><td>▁</td></tr><tr><td>train/total_flos</td><td>▁</td></tr><tr><td>train/train_loss</td><td>▁</td></tr><tr><td>train/train_runtime</td><td>▁</td></tr><tr><td>train/train_samples_per_second</td><td>▁</td></tr><tr><td>train/train_steps_per_second</td><td>▁</td></tr></table><br/></div><div class=\"wandb-col\"><h3>Run summary:</h3><br/><table class=\"wandb\"><tr><td>Macro F1 score</td><td>0.7509</td></tr><tr><td>Training loss</td><td>0.5232</td></tr><tr><td>Validation loss</td><td>0.50017</td></tr><tr><td>eval/Accuracy</td><td>0.82054</td></tr><tr><td>eval/Balanced accuracy</td><td>0.73156</td></tr><tr><td>eval/F1 macro</td><td>0.7509</td></tr><tr><td>eval/F1 micro</td><td>0.82054</td></tr><tr><td>eval/F1 weighted</td><td>0.8152</td></tr><tr><td>eval/loss</td><td>0.49234</td></tr><tr><td>eval/runtime</td><td>1.1317</td></tr><tr><td>eval/samples_per_second</td><td>2968.857</td></tr><tr><td>eval/steps_per_second</td><td>92.777</td></tr><tr><td>train/epoch</td><td>1.99</td></tr><tr><td>train/global_step</td><td>314</td></tr><tr><td>train/grad_norm</td><td>2.38678</td></tr><tr><td>train/learning_rate</td><td>0.0</td></tr><tr><td>train/loss</td><td>0.5232</td></tr><tr><td>train/total_flos</td><td>425167907526576.0</td></tr><tr><td>train/train_loss</td><td>0.52319</td></tr><tr><td>train/train_runtime</td><td>23.1086</td></tr><tr><td>train/train_samples_per_second</td><td>872.228</td></tr><tr><td>train/train_steps_per_second</td><td>13.588</td></tr></table><br/></div></div>"
      ],
      "text/plain": [
       "<IPython.core.display.HTML object>"
      ]
     },
     "metadata": {},
     "output_type": "display_data"
    },
    {
     "data": {
      "text/html": [
       " View run <strong style=\"color:#cdcd00\">trial-13</strong> at: <a href='https://wandb.ai/master-2024/DistilBERT/runs/4o8rcmag' target=\"_blank\">https://wandb.ai/master-2024/DistilBERT/runs/4o8rcmag</a><br/>Synced 5 W&B file(s), 0 media file(s), 0 artifact file(s) and 0 other file(s)"
      ],
      "text/plain": [
       "<IPython.core.display.HTML object>"
      ]
     },
     "metadata": {},
     "output_type": "display_data"
    },
    {
     "data": {
      "text/html": [
       "Find logs at: <code>./wandb/run-20240418_151607-4o8rcmag/logs</code>"
      ],
      "text/plain": [
       "<IPython.core.display.HTML object>"
      ]
     },
     "metadata": {},
     "output_type": "display_data"
    },
    {
     "name": "stderr",
     "output_type": "stream",
     "text": [
      "[I 2024-04-18 15:16:42,902] Trial 13 finished with value: 0.7509041263993631 and parameters: {'learning_rate': 0.00012123634441485429, 'per_device_train_batch_size': 32, 'weight_decay': 0.14057680139644768, 'num_train_epochs': 2, 'warmup_steps': 3}. Best is trial 13 with value: 0.7509041263993631.\n"
     ]
    },
    {
     "data": {
      "text/html": [
       "wandb version 0.16.6 is available!  To upgrade, please run:\n",
       " $ pip install wandb --upgrade"
      ],
      "text/plain": [
       "<IPython.core.display.HTML object>"
      ]
     },
     "metadata": {},
     "output_type": "display_data"
    },
    {
     "data": {
      "text/html": [
       "Tracking run with wandb version 0.16.4"
      ],
      "text/plain": [
       "<IPython.core.display.HTML object>"
      ]
     },
     "metadata": {},
     "output_type": "display_data"
    },
    {
     "data": {
      "text/html": [
       "Run data is saved locally in <code>/net/fs-2/scale/OrionStore/Home/joteklem/Pytorch_models/wandb/run-20240418_151642-53vc5enu</code>"
      ],
      "text/plain": [
       "<IPython.core.display.HTML object>"
      ]
     },
     "metadata": {},
     "output_type": "display_data"
    },
    {
     "data": {
      "text/html": [
       "Syncing run <strong><a href='https://wandb.ai/master-2024/DistilBERT/runs/53vc5enu' target=\"_blank\">trial-14</a></strong> to <a href='https://wandb.ai/master-2024/DistilBERT' target=\"_blank\">Weights & Biases</a> (<a href='https://wandb.me/run' target=\"_blank\">docs</a>)<br/>"
      ],
      "text/plain": [
       "<IPython.core.display.HTML object>"
      ]
     },
     "metadata": {},
     "output_type": "display_data"
    },
    {
     "data": {
      "text/html": [
       " View project at <a href='https://wandb.ai/master-2024/DistilBERT' target=\"_blank\">https://wandb.ai/master-2024/DistilBERT</a>"
      ],
      "text/plain": [
       "<IPython.core.display.HTML object>"
      ]
     },
     "metadata": {},
     "output_type": "display_data"
    },
    {
     "data": {
      "text/html": [
       " View run at <a href='https://wandb.ai/master-2024/DistilBERT/runs/53vc5enu' target=\"_blank\">https://wandb.ai/master-2024/DistilBERT/runs/53vc5enu</a>"
      ],
      "text/plain": [
       "<IPython.core.display.HTML object>"
      ]
     },
     "metadata": {},
     "output_type": "display_data"
    },
    {
     "name": "stderr",
     "output_type": "stream",
     "text": [
      "/net/fs-2/scale/OrionStore/Scratch/joteklem/MyCondaEnvironments/Python3.11/orion_env/lib/python3.11/site-packages/accelerate/accelerator.py:432: FutureWarning: Passing the following arguments to `Accelerator` is deprecated and will be removed in version 1.0 of Accelerate: dict_keys(['dispatch_batches', 'split_batches', 'even_batches', 'use_seedable_sampler']). Please pass an `accelerate.DataLoaderConfiguration` instead: \n",
      "dataloader_config = DataLoaderConfiguration(dispatch_batches=None, split_batches=False, even_batches=True, use_seedable_sampler=True)\n",
      "  warnings.warn(\n",
      "Detected kernel version 3.10.0, which is below the recommended minimum of 5.5.0; this can cause the process to hang. It is recommended to upgrade the kernel to the minimum version or higher.\n"
     ]
    },
    {
     "name": "stdout",
     "output_type": "stream",
     "text": [
      "Starting trial 14\n"
     ]
    },
    {
     "data": {
      "text/html": [
       "\n",
       "    <div>\n",
       "      \n",
       "      <progress value='1260' max='1260' style='width:300px; height:20px; vertical-align: middle;'></progress>\n",
       "      [1260/1260 01:23, Epoch 2/2]\n",
       "    </div>\n",
       "    <table border=\"1\" class=\"dataframe\">\n",
       "  <thead>\n",
       " <tr style=\"text-align: left;\">\n",
       "      <th>Epoch</th>\n",
       "      <th>Training Loss</th>\n",
       "      <th>Validation Loss</th>\n",
       "      <th>Accuracy</th>\n",
       "      <th>Balanced accuracy</th>\n",
       "      <th>F1 weighted</th>\n",
       "      <th>F1 macro</th>\n",
       "      <th>F1 micro</th>\n",
       "      <th>Classification report</th>\n",
       "    </tr>\n",
       "  </thead>\n",
       "  <tbody>\n",
       "    <tr>\n",
       "      <td>1</td>\n",
       "      <td>No log</td>\n",
       "      <td>0.525514</td>\n",
       "      <td>0.806250</td>\n",
       "      <td>0.675383</td>\n",
       "      <td>0.796576</td>\n",
       "      <td>0.713212</td>\n",
       "      <td>0.806250</td>\n",
       "      <td>{'0': {'precision': 0.7688098495212038, 'recall': 0.6258351893095768, 'f1-score': 0.6899938612645795, 'support': 898.0}, '1': {'precision': 0.8223684210526315, 'recall': 0.9306654257794323, 'f1-score': 0.8731717965509713, 'support': 2149.0}, '2': {'precision': 0.7461928934010152, 'recall': 0.4696485623003195, 'f1-score': 0.5764705882352942, 'support': 313.0}, 'accuracy': 0.80625, 'macro avg': {'precision': 0.7791237213249502, 'recall': 0.6753830591297763, 'f1-score': 0.7132120820169483, 'support': 3360.0}, 'weighted avg': {'precision': 0.8009581420674595, 'recall': 0.80625, 'f1-score': 0.7965761822384753, 'support': 3360.0}}</td>\n",
       "    </tr>\n",
       "    <tr>\n",
       "      <td>2</td>\n",
       "      <td>0.565200</td>\n",
       "      <td>0.488092</td>\n",
       "      <td>0.823512</td>\n",
       "      <td>0.719124</td>\n",
       "      <td>0.816210</td>\n",
       "      <td>0.748989</td>\n",
       "      <td>0.823512</td>\n",
       "      <td>{'0': {'precision': 0.8111587982832618, 'recall': 0.6314031180400891, 'f1-score': 0.710081402629931, 'support': 898.0}, '1': {'precision': 0.8365145228215768, 'recall': 0.9381107491856677, 'f1-score': 0.8844044746654968, 'support': 2149.0}, '2': {'precision': 0.7330677290836654, 'recall': 0.5878594249201278, 'f1-score': 0.6524822695035462, 'support': 313.0}, 'accuracy': 0.8235119047619047, 'macro avg': {'precision': 0.7935803500628346, 'recall': 0.7191244307152949, 'f1-score': 0.7489893822663246, 'support': 3360.0}, 'weighted avg': {'precision': 0.8201013421443825, 'recall': 0.8235119047619047, 'f1-score': 0.8162099005870359, 'support': 3360.0}}</td>\n",
       "    </tr>\n",
       "  </tbody>\n",
       "</table><p>"
      ],
      "text/plain": [
       "<IPython.core.display.HTML object>"
      ]
     },
     "metadata": {},
     "output_type": "display_data"
    },
    {
     "data": {
      "text/html": [
       "\n",
       "    <div>\n",
       "      \n",
       "      <progress value='420' max='420' style='width:300px; height:20px; vertical-align: middle;'></progress>\n",
       "      [420/420 00:02]\n",
       "    </div>\n",
       "    "
      ],
      "text/plain": [
       "<IPython.core.display.HTML object>"
      ]
     },
     "metadata": {},
     "output_type": "display_data"
    },
    {
     "name": "stderr",
     "output_type": "stream",
     "text": [
      "/net/fs-2/scale/OrionStore/Scratch/joteklem/MyCondaEnvironments/Python3.11/orion_env/lib/python3.11/site-packages/optuna/trial/_trial.py:499: UserWarning: The reported value is ignored because this `step` 2.0 is already reported.\n",
      "  warnings.warn(\n"
     ]
    },
    {
     "name": "stdout",
     "output_type": "stream",
     "text": [
      "Completed trial 14\n"
     ]
    },
    {
     "data": {
      "text/html": [
       "<style>\n",
       "    table.wandb td:nth-child(1) { padding: 0 10px; text-align: left ; width: auto;} td:nth-child(2) {text-align: left ; width: 100%}\n",
       "    .wandb-row { display: flex; flex-direction: row; flex-wrap: wrap; justify-content: flex-start; width: 100% }\n",
       "    .wandb-col { display: flex; flex-direction: column; flex-basis: 100%; flex: 1; padding: 10px; }\n",
       "    </style>\n",
       "<div class=\"wandb-row\"><div class=\"wandb-col\"><h3>Run history:</h3><br/><table class=\"wandb\"><tr><td>Macro F1 score</td><td>▁</td></tr><tr><td>Training loss</td><td>▁</td></tr><tr><td>Validation loss</td><td>▁</td></tr><tr><td>eval/Accuracy</td><td>▁██</td></tr><tr><td>eval/Balanced accuracy</td><td>▁██</td></tr><tr><td>eval/F1 macro</td><td>▁██</td></tr><tr><td>eval/F1 micro</td><td>▁██</td></tr><tr><td>eval/F1 weighted</td><td>▁██</td></tr><tr><td>eval/loss</td><td>█▁▁</td></tr><tr><td>eval/runtime</td><td>▄▁█</td></tr><tr><td>eval/samples_per_second</td><td>▅█▁</td></tr><tr><td>eval/steps_per_second</td><td>▅█▁</td></tr><tr><td>train/epoch</td><td>▁████</td></tr><tr><td>train/global_step</td><td>▁██████</td></tr><tr><td>train/grad_norm</td><td>▁</td></tr><tr><td>train/learning_rate</td><td>▁</td></tr><tr><td>train/loss</td><td>▁</td></tr><tr><td>train/total_flos</td><td>▁</td></tr><tr><td>train/train_loss</td><td>▁</td></tr><tr><td>train/train_runtime</td><td>▁</td></tr><tr><td>train/train_samples_per_second</td><td>▁</td></tr><tr><td>train/train_steps_per_second</td><td>▁</td></tr></table><br/></div><div class=\"wandb-col\"><h3>Run summary:</h3><br/><table class=\"wandb\"><tr><td>Macro F1 score</td><td>0.74899</td></tr><tr><td>Training loss</td><td>0.5652</td></tr><tr><td>Validation loss</td><td>0.52551</td></tr><tr><td>eval/Accuracy</td><td>0.82351</td></tr><tr><td>eval/Balanced accuracy</td><td>0.71912</td></tr><tr><td>eval/F1 macro</td><td>0.74899</td></tr><tr><td>eval/F1 micro</td><td>0.82351</td></tr><tr><td>eval/F1 weighted</td><td>0.81621</td></tr><tr><td>eval/loss</td><td>0.48809</td></tr><tr><td>eval/runtime</td><td>2.6815</td></tr><tr><td>eval/samples_per_second</td><td>1253.032</td></tr><tr><td>eval/steps_per_second</td><td>156.629</td></tr><tr><td>train/epoch</td><td>2.0</td></tr><tr><td>train/global_step</td><td>1260</td></tr><tr><td>train/grad_norm</td><td>2.63534</td></tr><tr><td>train/learning_rate</td><td>0.0</td></tr><tr><td>train/loss</td><td>0.5652</td></tr><tr><td>train/total_flos</td><td>338454029896272.0</td></tr><tr><td>train/train_loss</td><td>0.56507</td></tr><tr><td>train/train_runtime</td><td>84.0211</td></tr><tr><td>train/train_samples_per_second</td><td>239.892</td></tr><tr><td>train/train_steps_per_second</td><td>14.996</td></tr></table><br/></div></div>"
      ],
      "text/plain": [
       "<IPython.core.display.HTML object>"
      ]
     },
     "metadata": {},
     "output_type": "display_data"
    },
    {
     "data": {
      "text/html": [
       " View run <strong style=\"color:#cdcd00\">trial-14</strong> at: <a href='https://wandb.ai/master-2024/DistilBERT/runs/53vc5enu' target=\"_blank\">https://wandb.ai/master-2024/DistilBERT/runs/53vc5enu</a><br/>Synced 5 W&B file(s), 0 media file(s), 0 artifact file(s) and 0 other file(s)"
      ],
      "text/plain": [
       "<IPython.core.display.HTML object>"
      ]
     },
     "metadata": {},
     "output_type": "display_data"
    },
    {
     "data": {
      "text/html": [
       "Find logs at: <code>./wandb/run-20240418_151642-53vc5enu/logs</code>"
      ],
      "text/plain": [
       "<IPython.core.display.HTML object>"
      ]
     },
     "metadata": {},
     "output_type": "display_data"
    },
    {
     "name": "stderr",
     "output_type": "stream",
     "text": [
      "[I 2024-04-18 15:18:18,404] Trial 14 finished with value: 0.7489893822663246 and parameters: {'learning_rate': 3.0216877678758935e-05, 'per_device_train_batch_size': 8, 'weight_decay': 0.041914066417700235, 'num_train_epochs': 2, 'warmup_steps': 451}. Best is trial 13 with value: 0.7509041263993631.\n"
     ]
    },
    {
     "data": {
      "text/html": [
       "wandb version 0.16.6 is available!  To upgrade, please run:\n",
       " $ pip install wandb --upgrade"
      ],
      "text/plain": [
       "<IPython.core.display.HTML object>"
      ]
     },
     "metadata": {},
     "output_type": "display_data"
    },
    {
     "data": {
      "text/html": [
       "Tracking run with wandb version 0.16.4"
      ],
      "text/plain": [
       "<IPython.core.display.HTML object>"
      ]
     },
     "metadata": {},
     "output_type": "display_data"
    },
    {
     "data": {
      "text/html": [
       "Run data is saved locally in <code>/net/fs-2/scale/OrionStore/Home/joteklem/Pytorch_models/wandb/run-20240418_151818-qayslebq</code>"
      ],
      "text/plain": [
       "<IPython.core.display.HTML object>"
      ]
     },
     "metadata": {},
     "output_type": "display_data"
    },
    {
     "data": {
      "text/html": [
       "Syncing run <strong><a href='https://wandb.ai/master-2024/DistilBERT/runs/qayslebq' target=\"_blank\">trial-15</a></strong> to <a href='https://wandb.ai/master-2024/DistilBERT' target=\"_blank\">Weights & Biases</a> (<a href='https://wandb.me/run' target=\"_blank\">docs</a>)<br/>"
      ],
      "text/plain": [
       "<IPython.core.display.HTML object>"
      ]
     },
     "metadata": {},
     "output_type": "display_data"
    },
    {
     "data": {
      "text/html": [
       " View project at <a href='https://wandb.ai/master-2024/DistilBERT' target=\"_blank\">https://wandb.ai/master-2024/DistilBERT</a>"
      ],
      "text/plain": [
       "<IPython.core.display.HTML object>"
      ]
     },
     "metadata": {},
     "output_type": "display_data"
    },
    {
     "data": {
      "text/html": [
       " View run at <a href='https://wandb.ai/master-2024/DistilBERT/runs/qayslebq' target=\"_blank\">https://wandb.ai/master-2024/DistilBERT/runs/qayslebq</a>"
      ],
      "text/plain": [
       "<IPython.core.display.HTML object>"
      ]
     },
     "metadata": {},
     "output_type": "display_data"
    },
    {
     "name": "stderr",
     "output_type": "stream",
     "text": [
      "/net/fs-2/scale/OrionStore/Scratch/joteklem/MyCondaEnvironments/Python3.11/orion_env/lib/python3.11/site-packages/accelerate/accelerator.py:432: FutureWarning: Passing the following arguments to `Accelerator` is deprecated and will be removed in version 1.0 of Accelerate: dict_keys(['dispatch_batches', 'split_batches', 'even_batches', 'use_seedable_sampler']). Please pass an `accelerate.DataLoaderConfiguration` instead: \n",
      "dataloader_config = DataLoaderConfiguration(dispatch_batches=None, split_batches=False, even_batches=True, use_seedable_sampler=True)\n",
      "  warnings.warn(\n",
      "Detected kernel version 3.10.0, which is below the recommended minimum of 5.5.0; this can cause the process to hang. It is recommended to upgrade the kernel to the minimum version or higher.\n"
     ]
    },
    {
     "name": "stdout",
     "output_type": "stream",
     "text": [
      "Starting trial 15\n"
     ]
    },
    {
     "data": {
      "text/html": [
       "\n",
       "    <div>\n",
       "      \n",
       "      <progress value='316' max='628' style='width:300px; height:20px; vertical-align: middle;'></progress>\n",
       "      [315/628 00:21 < 00:21, 14.24 it/s, Epoch 1.99/4]\n",
       "    </div>\n",
       "    <table border=\"1\" class=\"dataframe\">\n",
       "  <thead>\n",
       " <tr style=\"text-align: left;\">\n",
       "      <th>Epoch</th>\n",
       "      <th>Training Loss</th>\n",
       "      <th>Validation Loss</th>\n",
       "      <th>Accuracy</th>\n",
       "      <th>Balanced accuracy</th>\n",
       "      <th>F1 weighted</th>\n",
       "      <th>F1 macro</th>\n",
       "      <th>F1 micro</th>\n",
       "      <th>Classification report</th>\n",
       "    </tr>\n",
       "  </thead>\n",
       "  <tbody>\n",
       "    <tr>\n",
       "      <td>0</td>\n",
       "      <td>No log</td>\n",
       "      <td>0.514816</td>\n",
       "      <td>0.805655</td>\n",
       "      <td>0.685172</td>\n",
       "      <td>0.797220</td>\n",
       "      <td>0.714556</td>\n",
       "      <td>0.805655</td>\n",
       "      <td>{'0': {'precision': 0.7759103641456583, 'recall': 0.6169265033407573, 'f1-score': 0.6873449131513648, 'support': 898.0}, '1': {'precision': 0.8273142382731424, 'recall': 0.9274080967892043, 'f1-score': 0.8745063624396666, 'support': 2149.0}, '2': {'precision': 0.6751054852320675, 'recall': 0.5111821086261981, 'f1-score': 0.5818181818181818, 'support': 313.0}, 'accuracy': 0.8056547619047619, 'macro avg': {'precision': 0.7594433625502894, 'recall': 0.6851722362520531, 'f1-score': 0.7145564858030711, 'support': 3360.0}, 'weighted avg': {'precision': 0.7993969708123279, 'recall': 0.8056547619047619, 'f1-score': 0.7972199392267442, 'support': 3360.0}}</td>\n",
       "    </tr>\n",
       "  </tbody>\n",
       "</table><p>\n",
       "    <div>\n",
       "      \n",
       "      <progress value='105' max='105' style='width:300px; height:20px; vertical-align: middle;'></progress>\n",
       "      [105/105 00:01]\n",
       "    </div>\n",
       "    "
      ],
      "text/plain": [
       "<IPython.core.display.HTML object>"
      ]
     },
     "metadata": {},
     "output_type": "display_data"
    },
    {
     "name": "stderr",
     "output_type": "stream",
     "text": [
      "[I 2024-04-18 15:18:44,868] Trial 15 pruned. \n"
     ]
    },
    {
     "data": {
      "text/html": [
       "Finishing last run (ID:qayslebq) before initializing another..."
      ],
      "text/plain": [
       "<IPython.core.display.HTML object>"
      ]
     },
     "metadata": {},
     "output_type": "display_data"
    },
    {
     "data": {
      "text/html": [
       "<style>\n",
       "    table.wandb td:nth-child(1) { padding: 0 10px; text-align: left ; width: auto;} td:nth-child(2) {text-align: left ; width: 100%}\n",
       "    .wandb-row { display: flex; flex-direction: row; flex-wrap: wrap; justify-content: flex-start; width: 100% }\n",
       "    .wandb-col { display: flex; flex-direction: column; flex-basis: 100%; flex: 1; padding: 10px; }\n",
       "    </style>\n",
       "<div class=\"wandb-row\"><div class=\"wandb-col\"><h3>Run history:</h3><br/><table class=\"wandb\"><tr><td>eval/Accuracy</td><td>▁█</td></tr><tr><td>eval/Balanced accuracy</td><td>▁█</td></tr><tr><td>eval/F1 macro</td><td>▁█</td></tr><tr><td>eval/F1 micro</td><td>▁█</td></tr><tr><td>eval/F1 weighted</td><td>▁█</td></tr><tr><td>eval/loss</td><td>█▁</td></tr><tr><td>eval/runtime</td><td>▁█</td></tr><tr><td>eval/samples_per_second</td><td>█▁</td></tr><tr><td>eval/steps_per_second</td><td>█▁</td></tr><tr><td>train/epoch</td><td>▁██</td></tr><tr><td>train/global_step</td><td>▁██</td></tr><tr><td>train/grad_norm</td><td>▁</td></tr><tr><td>train/learning_rate</td><td>▁</td></tr><tr><td>train/loss</td><td>▁</td></tr></table><br/></div><div class=\"wandb-col\"><h3>Run summary:</h3><br/><table class=\"wandb\"><tr><td>eval/Accuracy</td><td>0.80982</td></tr><tr><td>eval/Balanced accuracy</td><td>0.73073</td></tr><tr><td>eval/F1 macro</td><td>0.74178</td></tr><tr><td>eval/F1 micro</td><td>0.80982</td></tr><tr><td>eval/F1 weighted</td><td>0.80682</td></tr><tr><td>eval/loss</td><td>0.49767</td></tr><tr><td>eval/runtime</td><td>1.1245</td></tr><tr><td>eval/samples_per_second</td><td>2988.002</td></tr><tr><td>eval/steps_per_second</td><td>93.375</td></tr><tr><td>train/epoch</td><td>2.0</td></tr><tr><td>train/global_step</td><td>315</td></tr><tr><td>train/grad_norm</td><td>2.54204</td></tr><tr><td>train/learning_rate</td><td>8e-05</td></tr><tr><td>train/loss</td><td>0.6187</td></tr></table><br/></div></div>"
      ],
      "text/plain": [
       "<IPython.core.display.HTML object>"
      ]
     },
     "metadata": {},
     "output_type": "display_data"
    },
    {
     "data": {
      "text/html": [
       " View run <strong style=\"color:#cdcd00\">trial-15</strong> at: <a href='https://wandb.ai/master-2024/DistilBERT/runs/qayslebq' target=\"_blank\">https://wandb.ai/master-2024/DistilBERT/runs/qayslebq</a><br/>Synced 5 W&B file(s), 0 media file(s), 0 artifact file(s) and 0 other file(s)"
      ],
      "text/plain": [
       "<IPython.core.display.HTML object>"
      ]
     },
     "metadata": {},
     "output_type": "display_data"
    },
    {
     "data": {
      "text/html": [
       "Find logs at: <code>./wandb/run-20240418_151818-qayslebq/logs</code>"
      ],
      "text/plain": [
       "<IPython.core.display.HTML object>"
      ]
     },
     "metadata": {},
     "output_type": "display_data"
    },
    {
     "data": {
      "text/html": [
       "Successfully finished last run (ID:qayslebq). Initializing new run:<br/>"
      ],
      "text/plain": [
       "<IPython.core.display.HTML object>"
      ]
     },
     "metadata": {},
     "output_type": "display_data"
    },
    {
     "data": {
      "text/html": [
       "wandb version 0.16.6 is available!  To upgrade, please run:\n",
       " $ pip install wandb --upgrade"
      ],
      "text/plain": [
       "<IPython.core.display.HTML object>"
      ]
     },
     "metadata": {},
     "output_type": "display_data"
    },
    {
     "data": {
      "text/html": [
       "Tracking run with wandb version 0.16.4"
      ],
      "text/plain": [
       "<IPython.core.display.HTML object>"
      ]
     },
     "metadata": {},
     "output_type": "display_data"
    },
    {
     "data": {
      "text/html": [
       "Run data is saved locally in <code>/net/fs-2/scale/OrionStore/Home/joteklem/Pytorch_models/wandb/run-20240418_151844-9tkva40i</code>"
      ],
      "text/plain": [
       "<IPython.core.display.HTML object>"
      ]
     },
     "metadata": {},
     "output_type": "display_data"
    },
    {
     "data": {
      "text/html": [
       "Syncing run <strong><a href='https://wandb.ai/master-2024/DistilBERT/runs/9tkva40i' target=\"_blank\">trial-16</a></strong> to <a href='https://wandb.ai/master-2024/DistilBERT' target=\"_blank\">Weights & Biases</a> (<a href='https://wandb.me/run' target=\"_blank\">docs</a>)<br/>"
      ],
      "text/plain": [
       "<IPython.core.display.HTML object>"
      ]
     },
     "metadata": {},
     "output_type": "display_data"
    },
    {
     "data": {
      "text/html": [
       " View project at <a href='https://wandb.ai/master-2024/DistilBERT' target=\"_blank\">https://wandb.ai/master-2024/DistilBERT</a>"
      ],
      "text/plain": [
       "<IPython.core.display.HTML object>"
      ]
     },
     "metadata": {},
     "output_type": "display_data"
    },
    {
     "data": {
      "text/html": [
       " View run at <a href='https://wandb.ai/master-2024/DistilBERT/runs/9tkva40i' target=\"_blank\">https://wandb.ai/master-2024/DistilBERT/runs/9tkva40i</a>"
      ],
      "text/plain": [
       "<IPython.core.display.HTML object>"
      ]
     },
     "metadata": {},
     "output_type": "display_data"
    },
    {
     "name": "stderr",
     "output_type": "stream",
     "text": [
      "/net/fs-2/scale/OrionStore/Scratch/joteklem/MyCondaEnvironments/Python3.11/orion_env/lib/python3.11/site-packages/accelerate/accelerator.py:432: FutureWarning: Passing the following arguments to `Accelerator` is deprecated and will be removed in version 1.0 of Accelerate: dict_keys(['dispatch_batches', 'split_batches', 'even_batches', 'use_seedable_sampler']). Please pass an `accelerate.DataLoaderConfiguration` instead: \n",
      "dataloader_config = DataLoaderConfiguration(dispatch_batches=None, split_batches=False, even_batches=True, use_seedable_sampler=True)\n",
      "  warnings.warn(\n",
      "Detected kernel version 3.10.0, which is below the recommended minimum of 5.5.0; this can cause the process to hang. It is recommended to upgrade the kernel to the minimum version or higher.\n"
     ]
    },
    {
     "name": "stdout",
     "output_type": "stream",
     "text": [
      "Starting trial 16\n"
     ]
    },
    {
     "data": {
      "text/html": [
       "\n",
       "    <div>\n",
       "      \n",
       "      <progress value='631' max='3150' style='width:300px; height:20px; vertical-align: middle;'></progress>\n",
       "      [ 629/3150 00:40 < 02:41, 15.63 it/s, Epoch 1.00/5]\n",
       "    </div>\n",
       "    <table border=\"1\" class=\"dataframe\">\n",
       "  <thead>\n",
       " <tr style=\"text-align: left;\">\n",
       "      <th>Epoch</th>\n",
       "      <th>Training Loss</th>\n",
       "      <th>Validation Loss</th>\n",
       "    </tr>\n",
       "  </thead>\n",
       "  <tbody>\n",
       "  </tbody>\n",
       "</table><p>\n",
       "    <div>\n",
       "      \n",
       "      <progress value='420' max='420' style='width:300px; height:20px; vertical-align: middle;'></progress>\n",
       "      [420/420 00:02]\n",
       "    </div>\n",
       "    "
      ],
      "text/plain": [
       "<IPython.core.display.HTML object>"
      ]
     },
     "metadata": {},
     "output_type": "display_data"
    },
    {
     "name": "stderr",
     "output_type": "stream",
     "text": [
      "[I 2024-04-18 15:19:35,116] Trial 16 pruned. \n"
     ]
    },
    {
     "data": {
      "text/html": [
       "Finishing last run (ID:9tkva40i) before initializing another..."
      ],
      "text/plain": [
       "<IPython.core.display.HTML object>"
      ]
     },
     "metadata": {},
     "output_type": "display_data"
    },
    {
     "data": {
      "text/html": [
       "<style>\n",
       "    table.wandb td:nth-child(1) { padding: 0 10px; text-align: left ; width: auto;} td:nth-child(2) {text-align: left ; width: 100%}\n",
       "    .wandb-row { display: flex; flex-direction: row; flex-wrap: wrap; justify-content: flex-start; width: 100% }\n",
       "    .wandb-col { display: flex; flex-direction: column; flex-basis: 100%; flex: 1; padding: 10px; }\n",
       "    </style>\n",
       "<div class=\"wandb-row\"><div class=\"wandb-col\"><h3>Run history:</h3><br/><table class=\"wandb\"><tr><td>eval/Accuracy</td><td>▁</td></tr><tr><td>eval/Balanced accuracy</td><td>▁</td></tr><tr><td>eval/F1 macro</td><td>▁</td></tr><tr><td>eval/F1 micro</td><td>▁</td></tr><tr><td>eval/F1 weighted</td><td>▁</td></tr><tr><td>eval/loss</td><td>▁</td></tr><tr><td>eval/runtime</td><td>▁</td></tr><tr><td>eval/samples_per_second</td><td>▁</td></tr><tr><td>eval/steps_per_second</td><td>▁</td></tr><tr><td>train/epoch</td><td>▁</td></tr><tr><td>train/global_step</td><td>▁</td></tr></table><br/></div><div class=\"wandb-col\"><h3>Run summary:</h3><br/><table class=\"wandb\"><tr><td>eval/Accuracy</td><td>0.63988</td></tr><tr><td>eval/Balanced accuracy</td><td>0.33392</td></tr><tr><td>eval/F1 macro</td><td>0.26156</td></tr><tr><td>eval/F1 micro</td><td>0.63988</td></tr><tr><td>eval/F1 weighted</td><td>0.50021</td></tr><tr><td>eval/loss</td><td>0.88739</td></tr><tr><td>eval/runtime</td><td>2.6667</td></tr><tr><td>eval/samples_per_second</td><td>1260.006</td></tr><tr><td>eval/steps_per_second</td><td>157.501</td></tr><tr><td>train/epoch</td><td>1.0</td></tr><tr><td>train/global_step</td><td>630</td></tr></table><br/></div></div>"
      ],
      "text/plain": [
       "<IPython.core.display.HTML object>"
      ]
     },
     "metadata": {},
     "output_type": "display_data"
    },
    {
     "data": {
      "text/html": [
       " View run <strong style=\"color:#cdcd00\">trial-16</strong> at: <a href='https://wandb.ai/master-2024/DistilBERT/runs/9tkva40i' target=\"_blank\">https://wandb.ai/master-2024/DistilBERT/runs/9tkva40i</a><br/>Synced 5 W&B file(s), 0 media file(s), 0 artifact file(s) and 0 other file(s)"
      ],
      "text/plain": [
       "<IPython.core.display.HTML object>"
      ]
     },
     "metadata": {},
     "output_type": "display_data"
    },
    {
     "data": {
      "text/html": [
       "Find logs at: <code>./wandb/run-20240418_151844-9tkva40i/logs</code>"
      ],
      "text/plain": [
       "<IPython.core.display.HTML object>"
      ]
     },
     "metadata": {},
     "output_type": "display_data"
    },
    {
     "data": {
      "text/html": [
       "Successfully finished last run (ID:9tkva40i). Initializing new run:<br/>"
      ],
      "text/plain": [
       "<IPython.core.display.HTML object>"
      ]
     },
     "metadata": {},
     "output_type": "display_data"
    },
    {
     "data": {
      "text/html": [
       "wandb version 0.16.6 is available!  To upgrade, please run:\n",
       " $ pip install wandb --upgrade"
      ],
      "text/plain": [
       "<IPython.core.display.HTML object>"
      ]
     },
     "metadata": {},
     "output_type": "display_data"
    },
    {
     "data": {
      "text/html": [
       "Tracking run with wandb version 0.16.4"
      ],
      "text/plain": [
       "<IPython.core.display.HTML object>"
      ]
     },
     "metadata": {},
     "output_type": "display_data"
    },
    {
     "data": {
      "text/html": [
       "Run data is saved locally in <code>/net/fs-2/scale/OrionStore/Home/joteklem/Pytorch_models/wandb/run-20240418_151935-y7k8tjcd</code>"
      ],
      "text/plain": [
       "<IPython.core.display.HTML object>"
      ]
     },
     "metadata": {},
     "output_type": "display_data"
    },
    {
     "data": {
      "text/html": [
       "Syncing run <strong><a href='https://wandb.ai/master-2024/DistilBERT/runs/y7k8tjcd' target=\"_blank\">trial-17</a></strong> to <a href='https://wandb.ai/master-2024/DistilBERT' target=\"_blank\">Weights & Biases</a> (<a href='https://wandb.me/run' target=\"_blank\">docs</a>)<br/>"
      ],
      "text/plain": [
       "<IPython.core.display.HTML object>"
      ]
     },
     "metadata": {},
     "output_type": "display_data"
    },
    {
     "data": {
      "text/html": [
       " View project at <a href='https://wandb.ai/master-2024/DistilBERT' target=\"_blank\">https://wandb.ai/master-2024/DistilBERT</a>"
      ],
      "text/plain": [
       "<IPython.core.display.HTML object>"
      ]
     },
     "metadata": {},
     "output_type": "display_data"
    },
    {
     "data": {
      "text/html": [
       " View run at <a href='https://wandb.ai/master-2024/DistilBERT/runs/y7k8tjcd' target=\"_blank\">https://wandb.ai/master-2024/DistilBERT/runs/y7k8tjcd</a>"
      ],
      "text/plain": [
       "<IPython.core.display.HTML object>"
      ]
     },
     "metadata": {},
     "output_type": "display_data"
    },
    {
     "name": "stderr",
     "output_type": "stream",
     "text": [
      "/net/fs-2/scale/OrionStore/Scratch/joteklem/MyCondaEnvironments/Python3.11/orion_env/lib/python3.11/site-packages/accelerate/accelerator.py:432: FutureWarning: Passing the following arguments to `Accelerator` is deprecated and will be removed in version 1.0 of Accelerate: dict_keys(['dispatch_batches', 'split_batches', 'even_batches', 'use_seedable_sampler']). Please pass an `accelerate.DataLoaderConfiguration` instead: \n",
      "dataloader_config = DataLoaderConfiguration(dispatch_batches=None, split_batches=False, even_batches=True, use_seedable_sampler=True)\n",
      "  warnings.warn(\n",
      "Detected kernel version 3.10.0, which is below the recommended minimum of 5.5.0; this can cause the process to hang. It is recommended to upgrade the kernel to the minimum version or higher.\n"
     ]
    },
    {
     "name": "stdout",
     "output_type": "stream",
     "text": [
      "Starting trial 17\n"
     ]
    },
    {
     "data": {
      "text/html": [
       "\n",
       "    <div>\n",
       "      \n",
       "      <progress value='631' max='1890' style='width:300px; height:20px; vertical-align: middle;'></progress>\n",
       "      [ 630/1890 00:40 < 01:20, 15.64 it/s, Epoch 1.00/3]\n",
       "    </div>\n",
       "    <table border=\"1\" class=\"dataframe\">\n",
       "  <thead>\n",
       " <tr style=\"text-align: left;\">\n",
       "      <th>Epoch</th>\n",
       "      <th>Training Loss</th>\n",
       "      <th>Validation Loss</th>\n",
       "    </tr>\n",
       "  </thead>\n",
       "  <tbody>\n",
       "  </tbody>\n",
       "</table><p>\n",
       "    <div>\n",
       "      \n",
       "      <progress value='420' max='420' style='width:300px; height:20px; vertical-align: middle;'></progress>\n",
       "      [420/420 00:02]\n",
       "    </div>\n",
       "    "
      ],
      "text/plain": [
       "<IPython.core.display.HTML object>"
      ]
     },
     "metadata": {},
     "output_type": "display_data"
    },
    {
     "name": "stderr",
     "output_type": "stream",
     "text": [
      "[I 2024-04-18 15:20:26,526] Trial 17 pruned. \n"
     ]
    },
    {
     "data": {
      "text/html": [
       "Finishing last run (ID:y7k8tjcd) before initializing another..."
      ],
      "text/plain": [
       "<IPython.core.display.HTML object>"
      ]
     },
     "metadata": {},
     "output_type": "display_data"
    },
    {
     "data": {
      "text/html": [
       "<style>\n",
       "    table.wandb td:nth-child(1) { padding: 0 10px; text-align: left ; width: auto;} td:nth-child(2) {text-align: left ; width: 100%}\n",
       "    .wandb-row { display: flex; flex-direction: row; flex-wrap: wrap; justify-content: flex-start; width: 100% }\n",
       "    .wandb-col { display: flex; flex-direction: column; flex-basis: 100%; flex: 1; padding: 10px; }\n",
       "    </style>\n",
       "<div class=\"wandb-row\"><div class=\"wandb-col\"><h3>Run history:</h3><br/><table class=\"wandb\"><tr><td>eval/Accuracy</td><td>▁</td></tr><tr><td>eval/Balanced accuracy</td><td>▁</td></tr><tr><td>eval/F1 macro</td><td>▁</td></tr><tr><td>eval/F1 micro</td><td>▁</td></tr><tr><td>eval/F1 weighted</td><td>▁</td></tr><tr><td>eval/loss</td><td>▁</td></tr><tr><td>eval/runtime</td><td>▁</td></tr><tr><td>eval/samples_per_second</td><td>▁</td></tr><tr><td>eval/steps_per_second</td><td>▁</td></tr><tr><td>train/epoch</td><td>▁</td></tr><tr><td>train/global_step</td><td>▁</td></tr></table><br/></div><div class=\"wandb-col\"><h3>Run summary:</h3><br/><table class=\"wandb\"><tr><td>eval/Accuracy</td><td>0.7994</td></tr><tr><td>eval/Balanced accuracy</td><td>0.67499</td></tr><tr><td>eval/F1 macro</td><td>0.70861</td></tr><tr><td>eval/F1 micro</td><td>0.7994</td></tr><tr><td>eval/F1 weighted</td><td>0.79</td></tr><tr><td>eval/loss</td><td>0.53528</td></tr><tr><td>eval/runtime</td><td>2.6774</td></tr><tr><td>eval/samples_per_second</td><td>1254.966</td></tr><tr><td>eval/steps_per_second</td><td>156.871</td></tr><tr><td>train/epoch</td><td>1.0</td></tr><tr><td>train/global_step</td><td>630</td></tr></table><br/></div></div>"
      ],
      "text/plain": [
       "<IPython.core.display.HTML object>"
      ]
     },
     "metadata": {},
     "output_type": "display_data"
    },
    {
     "data": {
      "text/html": [
       " View run <strong style=\"color:#cdcd00\">trial-17</strong> at: <a href='https://wandb.ai/master-2024/DistilBERT/runs/y7k8tjcd' target=\"_blank\">https://wandb.ai/master-2024/DistilBERT/runs/y7k8tjcd</a><br/>Synced 5 W&B file(s), 0 media file(s), 0 artifact file(s) and 0 other file(s)"
      ],
      "text/plain": [
       "<IPython.core.display.HTML object>"
      ]
     },
     "metadata": {},
     "output_type": "display_data"
    },
    {
     "data": {
      "text/html": [
       "Find logs at: <code>./wandb/run-20240418_151935-y7k8tjcd/logs</code>"
      ],
      "text/plain": [
       "<IPython.core.display.HTML object>"
      ]
     },
     "metadata": {},
     "output_type": "display_data"
    },
    {
     "data": {
      "text/html": [
       "Successfully finished last run (ID:y7k8tjcd). Initializing new run:<br/>"
      ],
      "text/plain": [
       "<IPython.core.display.HTML object>"
      ]
     },
     "metadata": {},
     "output_type": "display_data"
    },
    {
     "data": {
      "text/html": [
       "wandb version 0.16.6 is available!  To upgrade, please run:\n",
       " $ pip install wandb --upgrade"
      ],
      "text/plain": [
       "<IPython.core.display.HTML object>"
      ]
     },
     "metadata": {},
     "output_type": "display_data"
    },
    {
     "data": {
      "text/html": [
       "Tracking run with wandb version 0.16.4"
      ],
      "text/plain": [
       "<IPython.core.display.HTML object>"
      ]
     },
     "metadata": {},
     "output_type": "display_data"
    },
    {
     "data": {
      "text/html": [
       "Run data is saved locally in <code>/net/fs-2/scale/OrionStore/Home/joteklem/Pytorch_models/wandb/run-20240418_152026-xw2rezrv</code>"
      ],
      "text/plain": [
       "<IPython.core.display.HTML object>"
      ]
     },
     "metadata": {},
     "output_type": "display_data"
    },
    {
     "data": {
      "text/html": [
       "Syncing run <strong><a href='https://wandb.ai/master-2024/DistilBERT/runs/xw2rezrv' target=\"_blank\">trial-18</a></strong> to <a href='https://wandb.ai/master-2024/DistilBERT' target=\"_blank\">Weights & Biases</a> (<a href='https://wandb.me/run' target=\"_blank\">docs</a>)<br/>"
      ],
      "text/plain": [
       "<IPython.core.display.HTML object>"
      ]
     },
     "metadata": {},
     "output_type": "display_data"
    },
    {
     "data": {
      "text/html": [
       " View project at <a href='https://wandb.ai/master-2024/DistilBERT' target=\"_blank\">https://wandb.ai/master-2024/DistilBERT</a>"
      ],
      "text/plain": [
       "<IPython.core.display.HTML object>"
      ]
     },
     "metadata": {},
     "output_type": "display_data"
    },
    {
     "data": {
      "text/html": [
       " View run at <a href='https://wandb.ai/master-2024/DistilBERT/runs/xw2rezrv' target=\"_blank\">https://wandb.ai/master-2024/DistilBERT/runs/xw2rezrv</a>"
      ],
      "text/plain": [
       "<IPython.core.display.HTML object>"
      ]
     },
     "metadata": {},
     "output_type": "display_data"
    },
    {
     "name": "stderr",
     "output_type": "stream",
     "text": [
      "/net/fs-2/scale/OrionStore/Scratch/joteklem/MyCondaEnvironments/Python3.11/orion_env/lib/python3.11/site-packages/accelerate/accelerator.py:432: FutureWarning: Passing the following arguments to `Accelerator` is deprecated and will be removed in version 1.0 of Accelerate: dict_keys(['dispatch_batches', 'split_batches', 'even_batches', 'use_seedable_sampler']). Please pass an `accelerate.DataLoaderConfiguration` instead: \n",
      "dataloader_config = DataLoaderConfiguration(dispatch_batches=None, split_batches=False, even_batches=True, use_seedable_sampler=True)\n",
      "  warnings.warn(\n",
      "Detected kernel version 3.10.0, which is below the recommended minimum of 5.5.0; this can cause the process to hang. It is recommended to upgrade the kernel to the minimum version or higher.\n"
     ]
    },
    {
     "name": "stdout",
     "output_type": "stream",
     "text": [
      "Starting trial 18\n"
     ]
    },
    {
     "data": {
      "text/html": [
       "\n",
       "    <div>\n",
       "      \n",
       "      <progress value='158' max='628' style='width:300px; height:20px; vertical-align: middle;'></progress>\n",
       "      [158/628 00:10 < 00:30, 15.20 it/s, Epoch 1.00/4]\n",
       "    </div>\n",
       "    <table border=\"1\" class=\"dataframe\">\n",
       "  <thead>\n",
       " <tr style=\"text-align: left;\">\n",
       "      <th>Epoch</th>\n",
       "      <th>Training Loss</th>\n",
       "      <th>Validation Loss</th>\n",
       "    </tr>\n",
       "  </thead>\n",
       "  <tbody>\n",
       "  </tbody>\n",
       "</table><p>\n",
       "    <div>\n",
       "      \n",
       "      <progress value='105' max='105' style='width:300px; height:20px; vertical-align: middle;'></progress>\n",
       "      [105/105 00:01]\n",
       "    </div>\n",
       "    "
      ],
      "text/plain": [
       "<IPython.core.display.HTML object>"
      ]
     },
     "metadata": {},
     "output_type": "display_data"
    },
    {
     "name": "stderr",
     "output_type": "stream",
     "text": [
      "[I 2024-04-18 15:20:46,073] Trial 18 pruned. \n"
     ]
    },
    {
     "data": {
      "text/html": [
       "Finishing last run (ID:xw2rezrv) before initializing another..."
      ],
      "text/plain": [
       "<IPython.core.display.HTML object>"
      ]
     },
     "metadata": {},
     "output_type": "display_data"
    },
    {
     "data": {
      "text/html": [
       "<style>\n",
       "    table.wandb td:nth-child(1) { padding: 0 10px; text-align: left ; width: auto;} td:nth-child(2) {text-align: left ; width: 100%}\n",
       "    .wandb-row { display: flex; flex-direction: row; flex-wrap: wrap; justify-content: flex-start; width: 100% }\n",
       "    .wandb-col { display: flex; flex-direction: column; flex-basis: 100%; flex: 1; padding: 10px; }\n",
       "    </style>\n",
       "<div class=\"wandb-row\"><div class=\"wandb-col\"><h3>Run history:</h3><br/><table class=\"wandb\"><tr><td>eval/Accuracy</td><td>▁</td></tr><tr><td>eval/Balanced accuracy</td><td>▁</td></tr><tr><td>eval/F1 macro</td><td>▁</td></tr><tr><td>eval/F1 micro</td><td>▁</td></tr><tr><td>eval/F1 weighted</td><td>▁</td></tr><tr><td>eval/loss</td><td>▁</td></tr><tr><td>eval/runtime</td><td>▁</td></tr><tr><td>eval/samples_per_second</td><td>▁</td></tr><tr><td>eval/steps_per_second</td><td>▁</td></tr><tr><td>train/epoch</td><td>▁</td></tr><tr><td>train/global_step</td><td>▁</td></tr></table><br/></div><div class=\"wandb-col\"><h3>Run summary:</h3><br/><table class=\"wandb\"><tr><td>eval/Accuracy</td><td>0.79018</td></tr><tr><td>eval/Balanced accuracy</td><td>0.68879</td></tr><tr><td>eval/F1 macro</td><td>0.70043</td></tr><tr><td>eval/F1 micro</td><td>0.79018</td></tr><tr><td>eval/F1 weighted</td><td>0.78284</td></tr><tr><td>eval/loss</td><td>0.54744</td></tr><tr><td>eval/runtime</td><td>1.1216</td></tr><tr><td>eval/samples_per_second</td><td>2995.609</td></tr><tr><td>eval/steps_per_second</td><td>93.613</td></tr><tr><td>train/epoch</td><td>1.0</td></tr><tr><td>train/global_step</td><td>157</td></tr></table><br/></div></div>"
      ],
      "text/plain": [
       "<IPython.core.display.HTML object>"
      ]
     },
     "metadata": {},
     "output_type": "display_data"
    },
    {
     "data": {
      "text/html": [
       " View run <strong style=\"color:#cdcd00\">trial-18</strong> at: <a href='https://wandb.ai/master-2024/DistilBERT/runs/xw2rezrv' target=\"_blank\">https://wandb.ai/master-2024/DistilBERT/runs/xw2rezrv</a><br/>Synced 5 W&B file(s), 0 media file(s), 0 artifact file(s) and 0 other file(s)"
      ],
      "text/plain": [
       "<IPython.core.display.HTML object>"
      ]
     },
     "metadata": {},
     "output_type": "display_data"
    },
    {
     "data": {
      "text/html": [
       "Find logs at: <code>./wandb/run-20240418_152026-xw2rezrv/logs</code>"
      ],
      "text/plain": [
       "<IPython.core.display.HTML object>"
      ]
     },
     "metadata": {},
     "output_type": "display_data"
    },
    {
     "data": {
      "text/html": [
       "Successfully finished last run (ID:xw2rezrv). Initializing new run:<br/>"
      ],
      "text/plain": [
       "<IPython.core.display.HTML object>"
      ]
     },
     "metadata": {},
     "output_type": "display_data"
    },
    {
     "data": {
      "text/html": [
       "wandb version 0.16.6 is available!  To upgrade, please run:\n",
       " $ pip install wandb --upgrade"
      ],
      "text/plain": [
       "<IPython.core.display.HTML object>"
      ]
     },
     "metadata": {},
     "output_type": "display_data"
    },
    {
     "data": {
      "text/html": [
       "Tracking run with wandb version 0.16.4"
      ],
      "text/plain": [
       "<IPython.core.display.HTML object>"
      ]
     },
     "metadata": {},
     "output_type": "display_data"
    },
    {
     "data": {
      "text/html": [
       "Run data is saved locally in <code>/net/fs-2/scale/OrionStore/Home/joteklem/Pytorch_models/wandb/run-20240418_152046-5dgjq2lf</code>"
      ],
      "text/plain": [
       "<IPython.core.display.HTML object>"
      ]
     },
     "metadata": {},
     "output_type": "display_data"
    },
    {
     "data": {
      "text/html": [
       "Syncing run <strong><a href='https://wandb.ai/master-2024/DistilBERT/runs/5dgjq2lf' target=\"_blank\">trial-19</a></strong> to <a href='https://wandb.ai/master-2024/DistilBERT' target=\"_blank\">Weights & Biases</a> (<a href='https://wandb.me/run' target=\"_blank\">docs</a>)<br/>"
      ],
      "text/plain": [
       "<IPython.core.display.HTML object>"
      ]
     },
     "metadata": {},
     "output_type": "display_data"
    },
    {
     "data": {
      "text/html": [
       " View project at <a href='https://wandb.ai/master-2024/DistilBERT' target=\"_blank\">https://wandb.ai/master-2024/DistilBERT</a>"
      ],
      "text/plain": [
       "<IPython.core.display.HTML object>"
      ]
     },
     "metadata": {},
     "output_type": "display_data"
    },
    {
     "data": {
      "text/html": [
       " View run at <a href='https://wandb.ai/master-2024/DistilBERT/runs/5dgjq2lf' target=\"_blank\">https://wandb.ai/master-2024/DistilBERT/runs/5dgjq2lf</a>"
      ],
      "text/plain": [
       "<IPython.core.display.HTML object>"
      ]
     },
     "metadata": {},
     "output_type": "display_data"
    },
    {
     "name": "stderr",
     "output_type": "stream",
     "text": [
      "/net/fs-2/scale/OrionStore/Scratch/joteklem/MyCondaEnvironments/Python3.11/orion_env/lib/python3.11/site-packages/accelerate/accelerator.py:432: FutureWarning: Passing the following arguments to `Accelerator` is deprecated and will be removed in version 1.0 of Accelerate: dict_keys(['dispatch_batches', 'split_batches', 'even_batches', 'use_seedable_sampler']). Please pass an `accelerate.DataLoaderConfiguration` instead: \n",
      "dataloader_config = DataLoaderConfiguration(dispatch_batches=None, split_batches=False, even_batches=True, use_seedable_sampler=True)\n",
      "  warnings.warn(\n",
      "Detected kernel version 3.10.0, which is below the recommended minimum of 5.5.0; this can cause the process to hang. It is recommended to upgrade the kernel to the minimum version or higher.\n"
     ]
    },
    {
     "name": "stdout",
     "output_type": "stream",
     "text": [
      "Starting trial 19\n"
     ]
    },
    {
     "data": {
      "text/html": [
       "\n",
       "    <div>\n",
       "      \n",
       "      <progress value='316' max='630' style='width:300px; height:20px; vertical-align: middle;'></progress>\n",
       "      [316/630 00:16 < 00:16, 19.05 it/s, Epoch 1/2]\n",
       "    </div>\n",
       "    <table border=\"1\" class=\"dataframe\">\n",
       "  <thead>\n",
       " <tr style=\"text-align: left;\">\n",
       "      <th>Epoch</th>\n",
       "      <th>Training Loss</th>\n",
       "      <th>Validation Loss</th>\n",
       "    </tr>\n",
       "  </thead>\n",
       "  <tbody>\n",
       "  </tbody>\n",
       "</table><p>\n",
       "    <div>\n",
       "      \n",
       "      <progress value='210' max='210' style='width:300px; height:20px; vertical-align: middle;'></progress>\n",
       "      [210/210 00:01]\n",
       "    </div>\n",
       "    "
      ],
      "text/plain": [
       "<IPython.core.display.HTML object>"
      ]
     },
     "metadata": {},
     "output_type": "display_data"
    },
    {
     "name": "stderr",
     "output_type": "stream",
     "text": [
      "[I 2024-04-18 15:21:11,322] Trial 19 pruned. \n"
     ]
    },
    {
     "data": {
      "text/html": [
       "Finishing last run (ID:5dgjq2lf) before initializing another..."
      ],
      "text/plain": [
       "<IPython.core.display.HTML object>"
      ]
     },
     "metadata": {},
     "output_type": "display_data"
    },
    {
     "data": {
      "text/html": [
       "<style>\n",
       "    table.wandb td:nth-child(1) { padding: 0 10px; text-align: left ; width: auto;} td:nth-child(2) {text-align: left ; width: 100%}\n",
       "    .wandb-row { display: flex; flex-direction: row; flex-wrap: wrap; justify-content: flex-start; width: 100% }\n",
       "    .wandb-col { display: flex; flex-direction: column; flex-basis: 100%; flex: 1; padding: 10px; }\n",
       "    </style>\n",
       "<div class=\"wandb-row\"><div class=\"wandb-col\"><h3>Run history:</h3><br/><table class=\"wandb\"><tr><td>eval/Accuracy</td><td>▁</td></tr><tr><td>eval/Balanced accuracy</td><td>▁</td></tr><tr><td>eval/F1 macro</td><td>▁</td></tr><tr><td>eval/F1 micro</td><td>▁</td></tr><tr><td>eval/F1 weighted</td><td>▁</td></tr><tr><td>eval/loss</td><td>▁</td></tr><tr><td>eval/runtime</td><td>▁</td></tr><tr><td>eval/samples_per_second</td><td>▁</td></tr><tr><td>eval/steps_per_second</td><td>▁</td></tr><tr><td>train/epoch</td><td>▁</td></tr><tr><td>train/global_step</td><td>▁</td></tr></table><br/></div><div class=\"wandb-col\"><h3>Run summary:</h3><br/><table class=\"wandb\"><tr><td>eval/Accuracy</td><td>0.76429</td></tr><tr><td>eval/Balanced accuracy</td><td>0.51623</td></tr><tr><td>eval/F1 macro</td><td>0.51153</td></tr><tr><td>eval/F1 micro</td><td>0.76429</td></tr><tr><td>eval/F1 weighted</td><td>0.72132</td></tr><tr><td>eval/loss</td><td>0.5861</td></tr><tr><td>eval/runtime</td><td>1.491</td></tr><tr><td>eval/samples_per_second</td><td>2253.537</td></tr><tr><td>eval/steps_per_second</td><td>140.846</td></tr><tr><td>train/epoch</td><td>1.0</td></tr><tr><td>train/global_step</td><td>315</td></tr></table><br/></div></div>"
      ],
      "text/plain": [
       "<IPython.core.display.HTML object>"
      ]
     },
     "metadata": {},
     "output_type": "display_data"
    },
    {
     "data": {
      "text/html": [
       " View run <strong style=\"color:#cdcd00\">trial-19</strong> at: <a href='https://wandb.ai/master-2024/DistilBERT/runs/5dgjq2lf' target=\"_blank\">https://wandb.ai/master-2024/DistilBERT/runs/5dgjq2lf</a><br/>Synced 5 W&B file(s), 0 media file(s), 0 artifact file(s) and 0 other file(s)"
      ],
      "text/plain": [
       "<IPython.core.display.HTML object>"
      ]
     },
     "metadata": {},
     "output_type": "display_data"
    },
    {
     "data": {
      "text/html": [
       "Find logs at: <code>./wandb/run-20240418_152046-5dgjq2lf/logs</code>"
      ],
      "text/plain": [
       "<IPython.core.display.HTML object>"
      ]
     },
     "metadata": {},
     "output_type": "display_data"
    },
    {
     "data": {
      "text/html": [
       "Successfully finished last run (ID:5dgjq2lf). Initializing new run:<br/>"
      ],
      "text/plain": [
       "<IPython.core.display.HTML object>"
      ]
     },
     "metadata": {},
     "output_type": "display_data"
    },
    {
     "data": {
      "text/html": [
       "wandb version 0.16.6 is available!  To upgrade, please run:\n",
       " $ pip install wandb --upgrade"
      ],
      "text/plain": [
       "<IPython.core.display.HTML object>"
      ]
     },
     "metadata": {},
     "output_type": "display_data"
    },
    {
     "data": {
      "text/html": [
       "Tracking run with wandb version 0.16.4"
      ],
      "text/plain": [
       "<IPython.core.display.HTML object>"
      ]
     },
     "metadata": {},
     "output_type": "display_data"
    },
    {
     "data": {
      "text/html": [
       "Run data is saved locally in <code>/net/fs-2/scale/OrionStore/Home/joteklem/Pytorch_models/wandb/run-20240418_152111-76cq9v1u</code>"
      ],
      "text/plain": [
       "<IPython.core.display.HTML object>"
      ]
     },
     "metadata": {},
     "output_type": "display_data"
    },
    {
     "data": {
      "text/html": [
       "Syncing run <strong><a href='https://wandb.ai/master-2024/DistilBERT/runs/76cq9v1u' target=\"_blank\">trial-20</a></strong> to <a href='https://wandb.ai/master-2024/DistilBERT' target=\"_blank\">Weights & Biases</a> (<a href='https://wandb.me/run' target=\"_blank\">docs</a>)<br/>"
      ],
      "text/plain": [
       "<IPython.core.display.HTML object>"
      ]
     },
     "metadata": {},
     "output_type": "display_data"
    },
    {
     "data": {
      "text/html": [
       " View project at <a href='https://wandb.ai/master-2024/DistilBERT' target=\"_blank\">https://wandb.ai/master-2024/DistilBERT</a>"
      ],
      "text/plain": [
       "<IPython.core.display.HTML object>"
      ]
     },
     "metadata": {},
     "output_type": "display_data"
    },
    {
     "data": {
      "text/html": [
       " View run at <a href='https://wandb.ai/master-2024/DistilBERT/runs/76cq9v1u' target=\"_blank\">https://wandb.ai/master-2024/DistilBERT/runs/76cq9v1u</a>"
      ],
      "text/plain": [
       "<IPython.core.display.HTML object>"
      ]
     },
     "metadata": {},
     "output_type": "display_data"
    },
    {
     "name": "stderr",
     "output_type": "stream",
     "text": [
      "/net/fs-2/scale/OrionStore/Scratch/joteklem/MyCondaEnvironments/Python3.11/orion_env/lib/python3.11/site-packages/accelerate/accelerator.py:432: FutureWarning: Passing the following arguments to `Accelerator` is deprecated and will be removed in version 1.0 of Accelerate: dict_keys(['dispatch_batches', 'split_batches', 'even_batches', 'use_seedable_sampler']). Please pass an `accelerate.DataLoaderConfiguration` instead: \n",
      "dataloader_config = DataLoaderConfiguration(dispatch_batches=None, split_batches=False, even_batches=True, use_seedable_sampler=True)\n",
      "  warnings.warn(\n",
      "Detected kernel version 3.10.0, which is below the recommended minimum of 5.5.0; this can cause the process to hang. It is recommended to upgrade the kernel to the minimum version or higher.\n"
     ]
    },
    {
     "name": "stdout",
     "output_type": "stream",
     "text": [
      "Starting trial 20\n"
     ]
    },
    {
     "data": {
      "text/html": [
       "\n",
       "    <div>\n",
       "      \n",
       "      <progress value='316' max='628' style='width:300px; height:20px; vertical-align: middle;'></progress>\n",
       "      [315/628 00:21 < 00:21, 14.27 it/s, Epoch 1.99/4]\n",
       "    </div>\n",
       "    <table border=\"1\" class=\"dataframe\">\n",
       "  <thead>\n",
       " <tr style=\"text-align: left;\">\n",
       "      <th>Epoch</th>\n",
       "      <th>Training Loss</th>\n",
       "      <th>Validation Loss</th>\n",
       "      <th>Accuracy</th>\n",
       "      <th>Balanced accuracy</th>\n",
       "      <th>F1 weighted</th>\n",
       "      <th>F1 macro</th>\n",
       "      <th>F1 micro</th>\n",
       "      <th>Classification report</th>\n",
       "    </tr>\n",
       "  </thead>\n",
       "  <tbody>\n",
       "    <tr>\n",
       "      <td>0</td>\n",
       "      <td>No log</td>\n",
       "      <td>0.516101</td>\n",
       "      <td>0.807738</td>\n",
       "      <td>0.665605</td>\n",
       "      <td>0.795116</td>\n",
       "      <td>0.710439</td>\n",
       "      <td>0.807738</td>\n",
       "      <td>{'0': {'precision': 0.8242612752721618, 'recall': 0.5902004454342984, 'f1-score': 0.6878650227125244, 'support': 898.0}, '1': {'precision': 0.8070383550810597, 'recall': 0.9497440670079107, 'f1-score': 0.8725951261222745, 'support': 2149.0}, '2': {'precision': 0.7606382978723404, 'recall': 0.45686900958466453, 'f1-score': 0.5708582834331338, 'support': 313.0}, 'accuracy': 0.8077380952380953, 'macro avg': {'precision': 0.7973126427418539, 'recall': 0.6656045073422913, 'f1-score': 0.7104394774226442, 'support': 3360.0}, 'weighted avg': {'precision': 0.8073189992552504, 'recall': 0.8077380952380953, 'f1-score': 0.7951155830795196, 'support': 3360.0}}</td>\n",
       "    </tr>\n",
       "  </tbody>\n",
       "</table><p>\n",
       "    <div>\n",
       "      \n",
       "      <progress value='105' max='105' style='width:300px; height:20px; vertical-align: middle;'></progress>\n",
       "      [105/105 00:01]\n",
       "    </div>\n",
       "    "
      ],
      "text/plain": [
       "<IPython.core.display.HTML object>"
      ]
     },
     "metadata": {},
     "output_type": "display_data"
    },
    {
     "name": "stderr",
     "output_type": "stream",
     "text": [
      "[I 2024-04-18 15:21:41,335] Trial 20 pruned. \n"
     ]
    },
    {
     "data": {
      "text/html": [
       "Finishing last run (ID:76cq9v1u) before initializing another..."
      ],
      "text/plain": [
       "<IPython.core.display.HTML object>"
      ]
     },
     "metadata": {},
     "output_type": "display_data"
    },
    {
     "data": {
      "text/html": [
       "<style>\n",
       "    table.wandb td:nth-child(1) { padding: 0 10px; text-align: left ; width: auto;} td:nth-child(2) {text-align: left ; width: 100%}\n",
       "    .wandb-row { display: flex; flex-direction: row; flex-wrap: wrap; justify-content: flex-start; width: 100% }\n",
       "    .wandb-col { display: flex; flex-direction: column; flex-basis: 100%; flex: 1; padding: 10px; }\n",
       "    </style>\n",
       "<div class=\"wandb-row\"><div class=\"wandb-col\"><h3>Run history:</h3><br/><table class=\"wandb\"><tr><td>eval/Accuracy</td><td>▁█</td></tr><tr><td>eval/Balanced accuracy</td><td>▁█</td></tr><tr><td>eval/F1 macro</td><td>▁█</td></tr><tr><td>eval/F1 micro</td><td>▁█</td></tr><tr><td>eval/F1 weighted</td><td>▁█</td></tr><tr><td>eval/loss</td><td>█▁</td></tr><tr><td>eval/runtime</td><td>▁█</td></tr><tr><td>eval/samples_per_second</td><td>█▁</td></tr><tr><td>eval/steps_per_second</td><td>█▁</td></tr><tr><td>train/epoch</td><td>▁██</td></tr><tr><td>train/global_step</td><td>▁██</td></tr><tr><td>train/grad_norm</td><td>▁</td></tr><tr><td>train/learning_rate</td><td>▁</td></tr><tr><td>train/loss</td><td>▁</td></tr></table><br/></div><div class=\"wandb-col\"><h3>Run summary:</h3><br/><table class=\"wandb\"><tr><td>eval/Accuracy</td><td>0.81042</td></tr><tr><td>eval/Balanced accuracy</td><td>0.74683</td></tr><tr><td>eval/F1 macro</td><td>0.75014</td></tr><tr><td>eval/F1 micro</td><td>0.81042</td></tr><tr><td>eval/F1 weighted</td><td>0.81035</td></tr><tr><td>eval/loss</td><td>0.50992</td></tr><tr><td>eval/runtime</td><td>1.1264</td></tr><tr><td>eval/samples_per_second</td><td>2982.965</td></tr><tr><td>eval/steps_per_second</td><td>93.218</td></tr><tr><td>train/epoch</td><td>2.0</td></tr><tr><td>train/global_step</td><td>315</td></tr><tr><td>train/grad_norm</td><td>2.14252</td></tr><tr><td>train/learning_rate</td><td>4e-05</td></tr><tr><td>train/loss</td><td>0.5304</td></tr></table><br/></div></div>"
      ],
      "text/plain": [
       "<IPython.core.display.HTML object>"
      ]
     },
     "metadata": {},
     "output_type": "display_data"
    },
    {
     "data": {
      "text/html": [
       " View run <strong style=\"color:#cdcd00\">trial-20</strong> at: <a href='https://wandb.ai/master-2024/DistilBERT/runs/76cq9v1u' target=\"_blank\">https://wandb.ai/master-2024/DistilBERT/runs/76cq9v1u</a><br/>Synced 5 W&B file(s), 0 media file(s), 0 artifact file(s) and 0 other file(s)"
      ],
      "text/plain": [
       "<IPython.core.display.HTML object>"
      ]
     },
     "metadata": {},
     "output_type": "display_data"
    },
    {
     "data": {
      "text/html": [
       "Find logs at: <code>./wandb/run-20240418_152111-76cq9v1u/logs</code>"
      ],
      "text/plain": [
       "<IPython.core.display.HTML object>"
      ]
     },
     "metadata": {},
     "output_type": "display_data"
    },
    {
     "data": {
      "text/html": [
       "Successfully finished last run (ID:76cq9v1u). Initializing new run:<br/>"
      ],
      "text/plain": [
       "<IPython.core.display.HTML object>"
      ]
     },
     "metadata": {},
     "output_type": "display_data"
    },
    {
     "data": {
      "text/html": [
       "wandb version 0.16.6 is available!  To upgrade, please run:\n",
       " $ pip install wandb --upgrade"
      ],
      "text/plain": [
       "<IPython.core.display.HTML object>"
      ]
     },
     "metadata": {},
     "output_type": "display_data"
    },
    {
     "data": {
      "text/html": [
       "Tracking run with wandb version 0.16.4"
      ],
      "text/plain": [
       "<IPython.core.display.HTML object>"
      ]
     },
     "metadata": {},
     "output_type": "display_data"
    },
    {
     "data": {
      "text/html": [
       "Run data is saved locally in <code>/net/fs-2/scale/OrionStore/Home/joteklem/Pytorch_models/wandb/run-20240418_152141-fzkqep13</code>"
      ],
      "text/plain": [
       "<IPython.core.display.HTML object>"
      ]
     },
     "metadata": {},
     "output_type": "display_data"
    },
    {
     "data": {
      "text/html": [
       "Syncing run <strong><a href='https://wandb.ai/master-2024/DistilBERT/runs/fzkqep13' target=\"_blank\">trial-21</a></strong> to <a href='https://wandb.ai/master-2024/DistilBERT' target=\"_blank\">Weights & Biases</a> (<a href='https://wandb.me/run' target=\"_blank\">docs</a>)<br/>"
      ],
      "text/plain": [
       "<IPython.core.display.HTML object>"
      ]
     },
     "metadata": {},
     "output_type": "display_data"
    },
    {
     "data": {
      "text/html": [
       " View project at <a href='https://wandb.ai/master-2024/DistilBERT' target=\"_blank\">https://wandb.ai/master-2024/DistilBERT</a>"
      ],
      "text/plain": [
       "<IPython.core.display.HTML object>"
      ]
     },
     "metadata": {},
     "output_type": "display_data"
    },
    {
     "data": {
      "text/html": [
       " View run at <a href='https://wandb.ai/master-2024/DistilBERT/runs/fzkqep13' target=\"_blank\">https://wandb.ai/master-2024/DistilBERT/runs/fzkqep13</a>"
      ],
      "text/plain": [
       "<IPython.core.display.HTML object>"
      ]
     },
     "metadata": {},
     "output_type": "display_data"
    },
    {
     "name": "stderr",
     "output_type": "stream",
     "text": [
      "/net/fs-2/scale/OrionStore/Scratch/joteklem/MyCondaEnvironments/Python3.11/orion_env/lib/python3.11/site-packages/accelerate/accelerator.py:432: FutureWarning: Passing the following arguments to `Accelerator` is deprecated and will be removed in version 1.0 of Accelerate: dict_keys(['dispatch_batches', 'split_batches', 'even_batches', 'use_seedable_sampler']). Please pass an `accelerate.DataLoaderConfiguration` instead: \n",
      "dataloader_config = DataLoaderConfiguration(dispatch_batches=None, split_batches=False, even_batches=True, use_seedable_sampler=True)\n",
      "  warnings.warn(\n",
      "Detected kernel version 3.10.0, which is below the recommended minimum of 5.5.0; this can cause the process to hang. It is recommended to upgrade the kernel to the minimum version or higher.\n"
     ]
    },
    {
     "name": "stdout",
     "output_type": "stream",
     "text": [
      "Starting trial 21\n"
     ]
    },
    {
     "data": {
      "text/html": [
       "\n",
       "    <div>\n",
       "      \n",
       "      <progress value='1260' max='1260' style='width:300px; height:20px; vertical-align: middle;'></progress>\n",
       "      [1260/1260 01:25, Epoch 2/2]\n",
       "    </div>\n",
       "    <table border=\"1\" class=\"dataframe\">\n",
       "  <thead>\n",
       " <tr style=\"text-align: left;\">\n",
       "      <th>Epoch</th>\n",
       "      <th>Training Loss</th>\n",
       "      <th>Validation Loss</th>\n",
       "      <th>Accuracy</th>\n",
       "      <th>Balanced accuracy</th>\n",
       "      <th>F1 weighted</th>\n",
       "      <th>F1 macro</th>\n",
       "      <th>F1 micro</th>\n",
       "      <th>Classification report</th>\n",
       "    </tr>\n",
       "  </thead>\n",
       "  <tbody>\n",
       "    <tr>\n",
       "      <td>1</td>\n",
       "      <td>No log</td>\n",
       "      <td>0.517829</td>\n",
       "      <td>0.807143</td>\n",
       "      <td>0.685936</td>\n",
       "      <td>0.799113</td>\n",
       "      <td>0.719794</td>\n",
       "      <td>0.807143</td>\n",
       "      <td>{'0': {'precision': 0.7636122177954847, 'recall': 0.6403118040089086, 'f1-score': 0.6965475469412478, 'support': 898.0}, '1': {'precision': 0.8275574112734865, 'recall': 0.9222894369474174, 'f1-score': 0.8723591549295774, 'support': 2149.0}, '2': {'precision': 0.7311320754716981, 'recall': 0.4952076677316294, 'f1-score': 0.5904761904761904, 'support': 313.0}, 'accuracy': 0.8071428571428572, 'macro avg': {'precision': 0.7741005681802231, 'recall': 0.6859363028959851, 'f1-score': 0.7197942974490052, 'support': 3360.0}, 'weighted avg': {'precision': 0.8014848178659849, 'recall': 0.8071428571428572, 'f1-score': 0.7991126692606995, 'support': 3360.0}}</td>\n",
       "    </tr>\n",
       "    <tr>\n",
       "      <td>2</td>\n",
       "      <td>0.563200</td>\n",
       "      <td>0.484570</td>\n",
       "      <td>0.822917</td>\n",
       "      <td>0.720804</td>\n",
       "      <td>0.815941</td>\n",
       "      <td>0.752046</td>\n",
       "      <td>0.822917</td>\n",
       "      <td>{'0': {'precision': 0.8045007032348804, 'recall': 0.6369710467706013, 'f1-score': 0.7110006215040399, 'support': 898.0}, '1': {'precision': 0.8352745424292846, 'recall': 0.93438808748255, 'f1-score': 0.8820557873929278, 'support': 2149.0}, '2': {'precision': 0.7551020408163265, 'recall': 0.5910543130990416, 'f1-score': 0.6630824372759856, 'support': 313.0}, 'accuracy': 0.8229166666666666, 'macro avg': {'precision': 0.7982924288268305, 'recall': 0.720804482450731, 'f1-score': 0.752046282057651, 'support': 3360.0}, 'weighted avg': {'precision': 0.8195814172502874, 'recall': 0.8229166666666666, 'f1-score': 0.8159408476444683, 'support': 3360.0}}</td>\n",
       "    </tr>\n",
       "  </tbody>\n",
       "</table><p>"
      ],
      "text/plain": [
       "<IPython.core.display.HTML object>"
      ]
     },
     "metadata": {},
     "output_type": "display_data"
    },
    {
     "data": {
      "text/html": [
       "\n",
       "    <div>\n",
       "      \n",
       "      <progress value='420' max='420' style='width:300px; height:20px; vertical-align: middle;'></progress>\n",
       "      [420/420 00:02]\n",
       "    </div>\n",
       "    "
      ],
      "text/plain": [
       "<IPython.core.display.HTML object>"
      ]
     },
     "metadata": {},
     "output_type": "display_data"
    },
    {
     "name": "stderr",
     "output_type": "stream",
     "text": [
      "/net/fs-2/scale/OrionStore/Scratch/joteklem/MyCondaEnvironments/Python3.11/orion_env/lib/python3.11/site-packages/optuna/trial/_trial.py:499: UserWarning: The reported value is ignored because this `step` 2.0 is already reported.\n",
      "  warnings.warn(\n"
     ]
    },
    {
     "name": "stdout",
     "output_type": "stream",
     "text": [
      "Completed trial 21\n"
     ]
    },
    {
     "data": {
      "text/html": [
       "<style>\n",
       "    table.wandb td:nth-child(1) { padding: 0 10px; text-align: left ; width: auto;} td:nth-child(2) {text-align: left ; width: 100%}\n",
       "    .wandb-row { display: flex; flex-direction: row; flex-wrap: wrap; justify-content: flex-start; width: 100% }\n",
       "    .wandb-col { display: flex; flex-direction: column; flex-basis: 100%; flex: 1; padding: 10px; }\n",
       "    </style>\n",
       "<div class=\"wandb-row\"><div class=\"wandb-col\"><h3>Run history:</h3><br/><table class=\"wandb\"><tr><td>Macro F1 score</td><td>▁</td></tr><tr><td>Training loss</td><td>▁</td></tr><tr><td>Validation loss</td><td>▁</td></tr><tr><td>eval/Accuracy</td><td>▁██</td></tr><tr><td>eval/Balanced accuracy</td><td>▁██</td></tr><tr><td>eval/F1 macro</td><td>▁██</td></tr><tr><td>eval/F1 micro</td><td>▁██</td></tr><tr><td>eval/F1 weighted</td><td>▁██</td></tr><tr><td>eval/loss</td><td>█▁▁</td></tr><tr><td>eval/runtime</td><td>▂▁█</td></tr><tr><td>eval/samples_per_second</td><td>▇█▁</td></tr><tr><td>eval/steps_per_second</td><td>▇█▁</td></tr><tr><td>train/epoch</td><td>▁████</td></tr><tr><td>train/global_step</td><td>▁██████</td></tr><tr><td>train/grad_norm</td><td>▁</td></tr><tr><td>train/learning_rate</td><td>▁</td></tr><tr><td>train/loss</td><td>▁</td></tr><tr><td>train/total_flos</td><td>▁</td></tr><tr><td>train/train_loss</td><td>▁</td></tr><tr><td>train/train_runtime</td><td>▁</td></tr><tr><td>train/train_samples_per_second</td><td>▁</td></tr><tr><td>train/train_steps_per_second</td><td>▁</td></tr></table><br/></div><div class=\"wandb-col\"><h3>Run summary:</h3><br/><table class=\"wandb\"><tr><td>Macro F1 score</td><td>0.75205</td></tr><tr><td>Training loss</td><td>0.5632</td></tr><tr><td>Validation loss</td><td>0.51783</td></tr><tr><td>eval/Accuracy</td><td>0.82292</td></tr><tr><td>eval/Balanced accuracy</td><td>0.7208</td></tr><tr><td>eval/F1 macro</td><td>0.75205</td></tr><tr><td>eval/F1 micro</td><td>0.82292</td></tr><tr><td>eval/F1 weighted</td><td>0.81594</td></tr><tr><td>eval/loss</td><td>0.48457</td></tr><tr><td>eval/runtime</td><td>2.6818</td></tr><tr><td>eval/samples_per_second</td><td>1252.907</td></tr><tr><td>eval/steps_per_second</td><td>156.613</td></tr><tr><td>train/epoch</td><td>2.0</td></tr><tr><td>train/global_step</td><td>1260</td></tr><tr><td>train/grad_norm</td><td>2.6442</td></tr><tr><td>train/learning_rate</td><td>0.0</td></tr><tr><td>train/loss</td><td>0.5632</td></tr><tr><td>train/total_flos</td><td>338454029896272.0</td></tr><tr><td>train/train_loss</td><td>0.5631</td></tr><tr><td>train/train_runtime</td><td>85.6187</td></tr><tr><td>train/train_samples_per_second</td><td>235.416</td></tr><tr><td>train/train_steps_per_second</td><td>14.716</td></tr></table><br/></div></div>"
      ],
      "text/plain": [
       "<IPython.core.display.HTML object>"
      ]
     },
     "metadata": {},
     "output_type": "display_data"
    },
    {
     "data": {
      "text/html": [
       " View run <strong style=\"color:#cdcd00\">trial-21</strong> at: <a href='https://wandb.ai/master-2024/DistilBERT/runs/fzkqep13' target=\"_blank\">https://wandb.ai/master-2024/DistilBERT/runs/fzkqep13</a><br/>Synced 5 W&B file(s), 0 media file(s), 0 artifact file(s) and 0 other file(s)"
      ],
      "text/plain": [
       "<IPython.core.display.HTML object>"
      ]
     },
     "metadata": {},
     "output_type": "display_data"
    },
    {
     "data": {
      "text/html": [
       "Find logs at: <code>./wandb/run-20240418_152141-fzkqep13/logs</code>"
      ],
      "text/plain": [
       "<IPython.core.display.HTML object>"
      ]
     },
     "metadata": {},
     "output_type": "display_data"
    },
    {
     "name": "stderr",
     "output_type": "stream",
     "text": [
      "[I 2024-04-18 15:23:20,904] Trial 21 finished with value: 0.752046282057651 and parameters: {'learning_rate': 2.8920490417580644e-05, 'per_device_train_batch_size': 8, 'weight_decay': 0.04096957714180248, 'num_train_epochs': 2, 'warmup_steps': 461}. Best is trial 21 with value: 0.752046282057651.\n"
     ]
    },
    {
     "data": {
      "text/html": [
       "wandb version 0.16.6 is available!  To upgrade, please run:\n",
       " $ pip install wandb --upgrade"
      ],
      "text/plain": [
       "<IPython.core.display.HTML object>"
      ]
     },
     "metadata": {},
     "output_type": "display_data"
    },
    {
     "data": {
      "text/html": [
       "Tracking run with wandb version 0.16.4"
      ],
      "text/plain": [
       "<IPython.core.display.HTML object>"
      ]
     },
     "metadata": {},
     "output_type": "display_data"
    },
    {
     "data": {
      "text/html": [
       "Run data is saved locally in <code>/net/fs-2/scale/OrionStore/Home/joteklem/Pytorch_models/wandb/run-20240418_152320-egroa2u0</code>"
      ],
      "text/plain": [
       "<IPython.core.display.HTML object>"
      ]
     },
     "metadata": {},
     "output_type": "display_data"
    },
    {
     "data": {
      "text/html": [
       "Syncing run <strong><a href='https://wandb.ai/master-2024/DistilBERT/runs/egroa2u0' target=\"_blank\">trial-22</a></strong> to <a href='https://wandb.ai/master-2024/DistilBERT' target=\"_blank\">Weights & Biases</a> (<a href='https://wandb.me/run' target=\"_blank\">docs</a>)<br/>"
      ],
      "text/plain": [
       "<IPython.core.display.HTML object>"
      ]
     },
     "metadata": {},
     "output_type": "display_data"
    },
    {
     "data": {
      "text/html": [
       " View project at <a href='https://wandb.ai/master-2024/DistilBERT' target=\"_blank\">https://wandb.ai/master-2024/DistilBERT</a>"
      ],
      "text/plain": [
       "<IPython.core.display.HTML object>"
      ]
     },
     "metadata": {},
     "output_type": "display_data"
    },
    {
     "data": {
      "text/html": [
       " View run at <a href='https://wandb.ai/master-2024/DistilBERT/runs/egroa2u0' target=\"_blank\">https://wandb.ai/master-2024/DistilBERT/runs/egroa2u0</a>"
      ],
      "text/plain": [
       "<IPython.core.display.HTML object>"
      ]
     },
     "metadata": {},
     "output_type": "display_data"
    },
    {
     "name": "stderr",
     "output_type": "stream",
     "text": [
      "/net/fs-2/scale/OrionStore/Scratch/joteklem/MyCondaEnvironments/Python3.11/orion_env/lib/python3.11/site-packages/accelerate/accelerator.py:432: FutureWarning: Passing the following arguments to `Accelerator` is deprecated and will be removed in version 1.0 of Accelerate: dict_keys(['dispatch_batches', 'split_batches', 'even_batches', 'use_seedable_sampler']). Please pass an `accelerate.DataLoaderConfiguration` instead: \n",
      "dataloader_config = DataLoaderConfiguration(dispatch_batches=None, split_batches=False, even_batches=True, use_seedable_sampler=True)\n",
      "  warnings.warn(\n",
      "Detected kernel version 3.10.0, which is below the recommended minimum of 5.5.0; this can cause the process to hang. It is recommended to upgrade the kernel to the minimum version or higher.\n"
     ]
    },
    {
     "name": "stdout",
     "output_type": "stream",
     "text": [
      "Starting trial 22\n"
     ]
    },
    {
     "data": {
      "text/html": [
       "\n",
       "    <div>\n",
       "      \n",
       "      <progress value='1260' max='1260' style='width:300px; height:20px; vertical-align: middle;'></progress>\n",
       "      [1260/1260 01:30, Epoch 2/2]\n",
       "    </div>\n",
       "    <table border=\"1\" class=\"dataframe\">\n",
       "  <thead>\n",
       " <tr style=\"text-align: left;\">\n",
       "      <th>Epoch</th>\n",
       "      <th>Training Loss</th>\n",
       "      <th>Validation Loss</th>\n",
       "      <th>Accuracy</th>\n",
       "      <th>Balanced accuracy</th>\n",
       "      <th>F1 weighted</th>\n",
       "      <th>F1 macro</th>\n",
       "      <th>F1 micro</th>\n",
       "      <th>Classification report</th>\n",
       "    </tr>\n",
       "  </thead>\n",
       "  <tbody>\n",
       "    <tr>\n",
       "      <td>1</td>\n",
       "      <td>No log</td>\n",
       "      <td>0.519128</td>\n",
       "      <td>0.808929</td>\n",
       "      <td>0.684308</td>\n",
       "      <td>0.800751</td>\n",
       "      <td>0.718790</td>\n",
       "      <td>0.808929</td>\n",
       "      <td>{'0': {'precision': 0.7512953367875648, 'recall': 0.6458797327394209, 'f1-score': 0.6946107784431137, 'support': 898.0}, '1': {'precision': 0.8331236897274633, 'recall': 0.9246161005118659, 'f1-score': 0.8764887516541684, 'support': 2149.0}, '2': {'precision': 0.7438423645320197, 'recall': 0.48242811501597443, 'f1-score': 0.5852713178294573, 'support': 313.0}, 'accuracy': 0.8089285714285714, 'macro avg': {'precision': 0.7760871303490159, 'recall': 0.6843079827557538, 'f1-score': 0.7187902826422464, 'support': 3360.0}, 'weighted avg': {'precision': 0.8029371076660935, 'recall': 0.8089285714285714, 'f1-score': 0.8007514073890905, 'support': 3360.0}}</td>\n",
       "    </tr>\n",
       "    <tr>\n",
       "      <td>2</td>\n",
       "      <td>0.567700</td>\n",
       "      <td>0.487309</td>\n",
       "      <td>0.823512</td>\n",
       "      <td>0.719295</td>\n",
       "      <td>0.816387</td>\n",
       "      <td>0.750820</td>\n",
       "      <td>0.823512</td>\n",
       "      <td>{'0': {'precision': 0.7988826815642458, 'recall': 0.6369710467706013, 'f1-score': 0.7087980173482032, 'support': 898.0}, '1': {'precision': 0.8376353039134055, 'recall': 0.9362494183341089, 'f1-score': 0.8842012744451768, 'support': 2149.0}, '2': {'precision': 0.756198347107438, 'recall': 0.5846645367412141, 'f1-score': 0.6594594594594595, 'support': 313.0}, 'accuracy': 0.8235119047619047, 'macro avg': {'precision': 0.7975721108616964, 'recall': 0.7192950006153082, 'f1-score': 0.7508195837509465, 'support': 3360.0}, 'weighted avg': {'precision': 0.819691963928342, 'recall': 0.8235119047619047, 'f1-score': 0.816386895586959, 'support': 3360.0}}</td>\n",
       "    </tr>\n",
       "  </tbody>\n",
       "</table><p>"
      ],
      "text/plain": [
       "<IPython.core.display.HTML object>"
      ]
     },
     "metadata": {},
     "output_type": "display_data"
    },
    {
     "data": {
      "text/html": [
       "\n",
       "    <div>\n",
       "      \n",
       "      <progress value='420' max='420' style='width:300px; height:20px; vertical-align: middle;'></progress>\n",
       "      [420/420 00:02]\n",
       "    </div>\n",
       "    "
      ],
      "text/plain": [
       "<IPython.core.display.HTML object>"
      ]
     },
     "metadata": {},
     "output_type": "display_data"
    },
    {
     "name": "stderr",
     "output_type": "stream",
     "text": [
      "/net/fs-2/scale/OrionStore/Scratch/joteklem/MyCondaEnvironments/Python3.11/orion_env/lib/python3.11/site-packages/optuna/trial/_trial.py:499: UserWarning: The reported value is ignored because this `step` 2.0 is already reported.\n",
      "  warnings.warn(\n"
     ]
    },
    {
     "name": "stdout",
     "output_type": "stream",
     "text": [
      "Completed trial 22\n"
     ]
    },
    {
     "data": {
      "text/html": [
       "<style>\n",
       "    table.wandb td:nth-child(1) { padding: 0 10px; text-align: left ; width: auto;} td:nth-child(2) {text-align: left ; width: 100%}\n",
       "    .wandb-row { display: flex; flex-direction: row; flex-wrap: wrap; justify-content: flex-start; width: 100% }\n",
       "    .wandb-col { display: flex; flex-direction: column; flex-basis: 100%; flex: 1; padding: 10px; }\n",
       "    </style>\n",
       "<div class=\"wandb-row\"><div class=\"wandb-col\"><h3>Run history:</h3><br/><table class=\"wandb\"><tr><td>Macro F1 score</td><td>▁</td></tr><tr><td>Training loss</td><td>▁</td></tr><tr><td>Validation loss</td><td>▁</td></tr><tr><td>eval/Accuracy</td><td>▁██</td></tr><tr><td>eval/Balanced accuracy</td><td>▁██</td></tr><tr><td>eval/F1 macro</td><td>▁██</td></tr><tr><td>eval/F1 micro</td><td>▁██</td></tr><tr><td>eval/F1 weighted</td><td>▁██</td></tr><tr><td>eval/loss</td><td>█▁▁</td></tr><tr><td>eval/runtime</td><td>▁█▄</td></tr><tr><td>eval/samples_per_second</td><td>█▁▅</td></tr><tr><td>eval/steps_per_second</td><td>█▁▅</td></tr><tr><td>train/epoch</td><td>▁████</td></tr><tr><td>train/global_step</td><td>▁██████</td></tr><tr><td>train/grad_norm</td><td>▁</td></tr><tr><td>train/learning_rate</td><td>▁</td></tr><tr><td>train/loss</td><td>▁</td></tr><tr><td>train/total_flos</td><td>▁</td></tr><tr><td>train/train_loss</td><td>▁</td></tr><tr><td>train/train_runtime</td><td>▁</td></tr><tr><td>train/train_samples_per_second</td><td>▁</td></tr><tr><td>train/train_steps_per_second</td><td>▁</td></tr></table><br/></div><div class=\"wandb-col\"><h3>Run summary:</h3><br/><table class=\"wandb\"><tr><td>Macro F1 score</td><td>0.75082</td></tr><tr><td>Training loss</td><td>0.5677</td></tr><tr><td>Validation loss</td><td>0.51913</td></tr><tr><td>eval/Accuracy</td><td>0.82351</td></tr><tr><td>eval/Balanced accuracy</td><td>0.7193</td></tr><tr><td>eval/F1 macro</td><td>0.75082</td></tr><tr><td>eval/F1 micro</td><td>0.82351</td></tr><tr><td>eval/F1 weighted</td><td>0.81639</td></tr><tr><td>eval/loss</td><td>0.48731</td></tr><tr><td>eval/runtime</td><td>2.7059</td></tr><tr><td>eval/samples_per_second</td><td>1241.724</td></tr><tr><td>eval/steps_per_second</td><td>155.216</td></tr><tr><td>train/epoch</td><td>2.0</td></tr><tr><td>train/global_step</td><td>1260</td></tr><tr><td>train/grad_norm</td><td>2.95013</td></tr><tr><td>train/learning_rate</td><td>0.0</td></tr><tr><td>train/loss</td><td>0.5677</td></tr><tr><td>train/total_flos</td><td>338454029896272.0</td></tr><tr><td>train/train_loss</td><td>0.56762</td></tr><tr><td>train/train_runtime</td><td>90.5481</td></tr><tr><td>train/train_samples_per_second</td><td>222.6</td></tr><tr><td>train/train_steps_per_second</td><td>13.915</td></tr></table><br/></div></div>"
      ],
      "text/plain": [
       "<IPython.core.display.HTML object>"
      ]
     },
     "metadata": {},
     "output_type": "display_data"
    },
    {
     "data": {
      "text/html": [
       " View run <strong style=\"color:#cdcd00\">trial-22</strong> at: <a href='https://wandb.ai/master-2024/DistilBERT/runs/egroa2u0' target=\"_blank\">https://wandb.ai/master-2024/DistilBERT/runs/egroa2u0</a><br/>Synced 5 W&B file(s), 0 media file(s), 0 artifact file(s) and 0 other file(s)"
      ],
      "text/plain": [
       "<IPython.core.display.HTML object>"
      ]
     },
     "metadata": {},
     "output_type": "display_data"
    },
    {
     "data": {
      "text/html": [
       "Find logs at: <code>./wandb/run-20240418_152320-egroa2u0/logs</code>"
      ],
      "text/plain": [
       "<IPython.core.display.HTML object>"
      ]
     },
     "metadata": {},
     "output_type": "display_data"
    },
    {
     "name": "stderr",
     "output_type": "stream",
     "text": [
      "[I 2024-04-18 15:25:03,983] Trial 22 finished with value: 0.7508195837509465 and parameters: {'learning_rate': 2.639812658965305e-05, 'per_device_train_batch_size': 8, 'weight_decay': 0.03128248849288043, 'num_train_epochs': 2, 'warmup_steps': 428}. Best is trial 21 with value: 0.752046282057651.\n"
     ]
    },
    {
     "data": {
      "text/html": [
       "wandb version 0.16.6 is available!  To upgrade, please run:\n",
       " $ pip install wandb --upgrade"
      ],
      "text/plain": [
       "<IPython.core.display.HTML object>"
      ]
     },
     "metadata": {},
     "output_type": "display_data"
    },
    {
     "data": {
      "text/html": [
       "Tracking run with wandb version 0.16.4"
      ],
      "text/plain": [
       "<IPython.core.display.HTML object>"
      ]
     },
     "metadata": {},
     "output_type": "display_data"
    },
    {
     "data": {
      "text/html": [
       "Run data is saved locally in <code>/net/fs-2/scale/OrionStore/Home/joteklem/Pytorch_models/wandb/run-20240418_152504-4qykdtfc</code>"
      ],
      "text/plain": [
       "<IPython.core.display.HTML object>"
      ]
     },
     "metadata": {},
     "output_type": "display_data"
    },
    {
     "data": {
      "text/html": [
       "Syncing run <strong><a href='https://wandb.ai/master-2024/DistilBERT/runs/4qykdtfc' target=\"_blank\">trial-23</a></strong> to <a href='https://wandb.ai/master-2024/DistilBERT' target=\"_blank\">Weights & Biases</a> (<a href='https://wandb.me/run' target=\"_blank\">docs</a>)<br/>"
      ],
      "text/plain": [
       "<IPython.core.display.HTML object>"
      ]
     },
     "metadata": {},
     "output_type": "display_data"
    },
    {
     "data": {
      "text/html": [
       " View project at <a href='https://wandb.ai/master-2024/DistilBERT' target=\"_blank\">https://wandb.ai/master-2024/DistilBERT</a>"
      ],
      "text/plain": [
       "<IPython.core.display.HTML object>"
      ]
     },
     "metadata": {},
     "output_type": "display_data"
    },
    {
     "data": {
      "text/html": [
       " View run at <a href='https://wandb.ai/master-2024/DistilBERT/runs/4qykdtfc' target=\"_blank\">https://wandb.ai/master-2024/DistilBERT/runs/4qykdtfc</a>"
      ],
      "text/plain": [
       "<IPython.core.display.HTML object>"
      ]
     },
     "metadata": {},
     "output_type": "display_data"
    },
    {
     "name": "stderr",
     "output_type": "stream",
     "text": [
      "/net/fs-2/scale/OrionStore/Scratch/joteklem/MyCondaEnvironments/Python3.11/orion_env/lib/python3.11/site-packages/accelerate/accelerator.py:432: FutureWarning: Passing the following arguments to `Accelerator` is deprecated and will be removed in version 1.0 of Accelerate: dict_keys(['dispatch_batches', 'split_batches', 'even_batches', 'use_seedable_sampler']). Please pass an `accelerate.DataLoaderConfiguration` instead: \n",
      "dataloader_config = DataLoaderConfiguration(dispatch_batches=None, split_batches=False, even_batches=True, use_seedable_sampler=True)\n",
      "  warnings.warn(\n",
      "Detected kernel version 3.10.0, which is below the recommended minimum of 5.5.0; this can cause the process to hang. It is recommended to upgrade the kernel to the minimum version or higher.\n"
     ]
    },
    {
     "name": "stdout",
     "output_type": "stream",
     "text": [
      "Starting trial 23\n"
     ]
    },
    {
     "data": {
      "text/html": [
       "\n",
       "    <div>\n",
       "      \n",
       "      <progress value='1260' max='1260' style='width:300px; height:20px; vertical-align: middle;'></progress>\n",
       "      [1260/1260 01:25, Epoch 2/2]\n",
       "    </div>\n",
       "    <table border=\"1\" class=\"dataframe\">\n",
       "  <thead>\n",
       " <tr style=\"text-align: left;\">\n",
       "      <th>Epoch</th>\n",
       "      <th>Training Loss</th>\n",
       "      <th>Validation Loss</th>\n",
       "      <th>Accuracy</th>\n",
       "      <th>Balanced accuracy</th>\n",
       "      <th>F1 weighted</th>\n",
       "      <th>F1 macro</th>\n",
       "      <th>F1 micro</th>\n",
       "      <th>Classification report</th>\n",
       "    </tr>\n",
       "  </thead>\n",
       "  <tbody>\n",
       "    <tr>\n",
       "      <td>1</td>\n",
       "      <td>No log</td>\n",
       "      <td>0.521069</td>\n",
       "      <td>0.808036</td>\n",
       "      <td>0.672151</td>\n",
       "      <td>0.797903</td>\n",
       "      <td>0.711120</td>\n",
       "      <td>0.808036</td>\n",
       "      <td>{'0': {'precision': 0.7686062246278755, 'recall': 0.6325167037861915, 'f1-score': 0.6939523518631644, 'support': 898.0}, '1': {'precision': 0.8241577649958916, 'recall': 0.9334574220567706, 'f1-score': 0.8754091206633209, 'support': 2149.0}, '2': {'precision': 0.7540106951871658, 'recall': 0.4504792332268371, 'f1-score': 0.5640000000000001, 'support': 313.0}, 'accuracy': 0.8080357142857143, 'macro avg': {'precision': 0.7822582282703109, 'recall': 0.672151119689933, 'f1-score': 0.7111204908421618, 'support': 3360.0}, 'weighted avg': {'precision': 0.8027764209183292, 'recall': 0.8080357142857143, 'f1-score': 0.7979033965114877, 'support': 3360.0}}</td>\n",
       "    </tr>\n",
       "    <tr>\n",
       "      <td>2</td>\n",
       "      <td>0.566300</td>\n",
       "      <td>0.488673</td>\n",
       "      <td>0.823810</td>\n",
       "      <td>0.719450</td>\n",
       "      <td>0.816689</td>\n",
       "      <td>0.750388</td>\n",
       "      <td>0.823810</td>\n",
       "      <td>{'0': {'precision': 0.8, 'recall': 0.6369710467706013, 'f1-score': 0.7092374457532548, 'support': 898.0}, '1': {'precision': 0.8384006663890046, 'recall': 0.9367147510469986, 'f1-score': 0.8848351648351649, 'support': 2149.0}, '2': {'precision': 0.75, 'recall': 0.5846645367412141, 'f1-score': 0.6570915619389587, 'support': 313.0}, 'accuracy': 0.8238095238095238, 'macro avg': {'precision': 0.7961335554630016, 'recall': 0.7194501115196047, 'f1-score': 0.7503880575091261, 'support': 3360.0}, 'weighted avg': {'precision': 0.8199026881160627, 'recall': 0.8238095238095238, 'f1-score': 0.8166891828583589, 'support': 3360.0}}</td>\n",
       "    </tr>\n",
       "  </tbody>\n",
       "</table><p>"
      ],
      "text/plain": [
       "<IPython.core.display.HTML object>"
      ]
     },
     "metadata": {},
     "output_type": "display_data"
    },
    {
     "data": {
      "text/html": [
       "\n",
       "    <div>\n",
       "      \n",
       "      <progress value='420' max='420' style='width:300px; height:20px; vertical-align: middle;'></progress>\n",
       "      [420/420 00:02]\n",
       "    </div>\n",
       "    "
      ],
      "text/plain": [
       "<IPython.core.display.HTML object>"
      ]
     },
     "metadata": {},
     "output_type": "display_data"
    },
    {
     "name": "stderr",
     "output_type": "stream",
     "text": [
      "/net/fs-2/scale/OrionStore/Scratch/joteklem/MyCondaEnvironments/Python3.11/orion_env/lib/python3.11/site-packages/optuna/trial/_trial.py:499: UserWarning: The reported value is ignored because this `step` 2.0 is already reported.\n",
      "  warnings.warn(\n"
     ]
    },
    {
     "name": "stdout",
     "output_type": "stream",
     "text": [
      "Completed trial 23\n"
     ]
    },
    {
     "data": {
      "text/html": [
       "<style>\n",
       "    table.wandb td:nth-child(1) { padding: 0 10px; text-align: left ; width: auto;} td:nth-child(2) {text-align: left ; width: 100%}\n",
       "    .wandb-row { display: flex; flex-direction: row; flex-wrap: wrap; justify-content: flex-start; width: 100% }\n",
       "    .wandb-col { display: flex; flex-direction: column; flex-basis: 100%; flex: 1; padding: 10px; }\n",
       "    </style>\n",
       "<div class=\"wandb-row\"><div class=\"wandb-col\"><h3>Run history:</h3><br/><table class=\"wandb\"><tr><td>Macro F1 score</td><td>▁</td></tr><tr><td>Training loss</td><td>▁</td></tr><tr><td>Validation loss</td><td>▁</td></tr><tr><td>eval/Accuracy</td><td>▁██</td></tr><tr><td>eval/Balanced accuracy</td><td>▁██</td></tr><tr><td>eval/F1 macro</td><td>▁██</td></tr><tr><td>eval/F1 micro</td><td>▁██</td></tr><tr><td>eval/F1 weighted</td><td>▁██</td></tr><tr><td>eval/loss</td><td>█▁▁</td></tr><tr><td>eval/runtime</td><td>▁▅█</td></tr><tr><td>eval/samples_per_second</td><td>█▄▁</td></tr><tr><td>eval/steps_per_second</td><td>█▄▁</td></tr><tr><td>train/epoch</td><td>▁████</td></tr><tr><td>train/global_step</td><td>▁██████</td></tr><tr><td>train/grad_norm</td><td>▁</td></tr><tr><td>train/learning_rate</td><td>▁</td></tr><tr><td>train/loss</td><td>▁</td></tr><tr><td>train/total_flos</td><td>▁</td></tr><tr><td>train/train_loss</td><td>▁</td></tr><tr><td>train/train_runtime</td><td>▁</td></tr><tr><td>train/train_samples_per_second</td><td>▁</td></tr><tr><td>train/train_steps_per_second</td><td>▁</td></tr></table><br/></div><div class=\"wandb-col\"><h3>Run summary:</h3><br/><table class=\"wandb\"><tr><td>Macro F1 score</td><td>0.75039</td></tr><tr><td>Training loss</td><td>0.5663</td></tr><tr><td>Validation loss</td><td>0.52107</td></tr><tr><td>eval/Accuracy</td><td>0.82381</td></tr><tr><td>eval/Balanced accuracy</td><td>0.71945</td></tr><tr><td>eval/F1 macro</td><td>0.75039</td></tr><tr><td>eval/F1 micro</td><td>0.82381</td></tr><tr><td>eval/F1 weighted</td><td>0.81669</td></tr><tr><td>eval/loss</td><td>0.48867</td></tr><tr><td>eval/runtime</td><td>2.6837</td></tr><tr><td>eval/samples_per_second</td><td>1252.01</td></tr><tr><td>eval/steps_per_second</td><td>156.501</td></tr><tr><td>train/epoch</td><td>2.0</td></tr><tr><td>train/global_step</td><td>1260</td></tr><tr><td>train/grad_norm</td><td>2.74781</td></tr><tr><td>train/learning_rate</td><td>0.0</td></tr><tr><td>train/loss</td><td>0.5663</td></tr><tr><td>train/total_flos</td><td>338454029896272.0</td></tr><tr><td>train/train_loss</td><td>0.56619</td></tr><tr><td>train/train_runtime</td><td>86.0531</td></tr><tr><td>train/train_samples_per_second</td><td>234.228</td></tr><tr><td>train/train_steps_per_second</td><td>14.642</td></tr></table><br/></div></div>"
      ],
      "text/plain": [
       "<IPython.core.display.HTML object>"
      ]
     },
     "metadata": {},
     "output_type": "display_data"
    },
    {
     "data": {
      "text/html": [
       " View run <strong style=\"color:#cdcd00\">trial-23</strong> at: <a href='https://wandb.ai/master-2024/DistilBERT/runs/4qykdtfc' target=\"_blank\">https://wandb.ai/master-2024/DistilBERT/runs/4qykdtfc</a><br/>Synced 5 W&B file(s), 0 media file(s), 0 artifact file(s) and 0 other file(s)"
      ],
      "text/plain": [
       "<IPython.core.display.HTML object>"
      ]
     },
     "metadata": {},
     "output_type": "display_data"
    },
    {
     "data": {
      "text/html": [
       "Find logs at: <code>./wandb/run-20240418_152504-4qykdtfc/logs</code>"
      ],
      "text/plain": [
       "<IPython.core.display.HTML object>"
      ]
     },
     "metadata": {},
     "output_type": "display_data"
    },
    {
     "name": "stderr",
     "output_type": "stream",
     "text": [
      "[I 2024-04-18 15:26:41,439] Trial 23 finished with value: 0.7503880575091261 and parameters: {'learning_rate': 2.7971883282384578e-05, 'per_device_train_batch_size': 8, 'weight_decay': 0.019838369750676654, 'num_train_epochs': 2, 'warmup_steps': 481}. Best is trial 21 with value: 0.752046282057651.\n"
     ]
    },
    {
     "data": {
      "text/html": [
       "wandb version 0.16.6 is available!  To upgrade, please run:\n",
       " $ pip install wandb --upgrade"
      ],
      "text/plain": [
       "<IPython.core.display.HTML object>"
      ]
     },
     "metadata": {},
     "output_type": "display_data"
    },
    {
     "data": {
      "text/html": [
       "Tracking run with wandb version 0.16.4"
      ],
      "text/plain": [
       "<IPython.core.display.HTML object>"
      ]
     },
     "metadata": {},
     "output_type": "display_data"
    },
    {
     "data": {
      "text/html": [
       "Run data is saved locally in <code>/net/fs-2/scale/OrionStore/Home/joteklem/Pytorch_models/wandb/run-20240418_152641-qg20i32n</code>"
      ],
      "text/plain": [
       "<IPython.core.display.HTML object>"
      ]
     },
     "metadata": {},
     "output_type": "display_data"
    },
    {
     "data": {
      "text/html": [
       "Syncing run <strong><a href='https://wandb.ai/master-2024/DistilBERT/runs/qg20i32n' target=\"_blank\">trial-24</a></strong> to <a href='https://wandb.ai/master-2024/DistilBERT' target=\"_blank\">Weights & Biases</a> (<a href='https://wandb.me/run' target=\"_blank\">docs</a>)<br/>"
      ],
      "text/plain": [
       "<IPython.core.display.HTML object>"
      ]
     },
     "metadata": {},
     "output_type": "display_data"
    },
    {
     "data": {
      "text/html": [
       " View project at <a href='https://wandb.ai/master-2024/DistilBERT' target=\"_blank\">https://wandb.ai/master-2024/DistilBERT</a>"
      ],
      "text/plain": [
       "<IPython.core.display.HTML object>"
      ]
     },
     "metadata": {},
     "output_type": "display_data"
    },
    {
     "data": {
      "text/html": [
       " View run at <a href='https://wandb.ai/master-2024/DistilBERT/runs/qg20i32n' target=\"_blank\">https://wandb.ai/master-2024/DistilBERT/runs/qg20i32n</a>"
      ],
      "text/plain": [
       "<IPython.core.display.HTML object>"
      ]
     },
     "metadata": {},
     "output_type": "display_data"
    },
    {
     "name": "stderr",
     "output_type": "stream",
     "text": [
      "/net/fs-2/scale/OrionStore/Scratch/joteklem/MyCondaEnvironments/Python3.11/orion_env/lib/python3.11/site-packages/accelerate/accelerator.py:432: FutureWarning: Passing the following arguments to `Accelerator` is deprecated and will be removed in version 1.0 of Accelerate: dict_keys(['dispatch_batches', 'split_batches', 'even_batches', 'use_seedable_sampler']). Please pass an `accelerate.DataLoaderConfiguration` instead: \n",
      "dataloader_config = DataLoaderConfiguration(dispatch_batches=None, split_batches=False, even_batches=True, use_seedable_sampler=True)\n",
      "  warnings.warn(\n",
      "Detected kernel version 3.10.0, which is below the recommended minimum of 5.5.0; this can cause the process to hang. It is recommended to upgrade the kernel to the minimum version or higher.\n"
     ]
    },
    {
     "name": "stdout",
     "output_type": "stream",
     "text": [
      "Starting trial 24\n"
     ]
    },
    {
     "data": {
      "text/html": [
       "\n",
       "    <div>\n",
       "      \n",
       "      <progress value='631' max='1260' style='width:300px; height:20px; vertical-align: middle;'></progress>\n",
       "      [ 629/1260 00:40 < 00:40, 15.57 it/s, Epoch 1.00/2]\n",
       "    </div>\n",
       "    <table border=\"1\" class=\"dataframe\">\n",
       "  <thead>\n",
       " <tr style=\"text-align: left;\">\n",
       "      <th>Epoch</th>\n",
       "      <th>Training Loss</th>\n",
       "      <th>Validation Loss</th>\n",
       "    </tr>\n",
       "  </thead>\n",
       "  <tbody>\n",
       "  </tbody>\n",
       "</table><p>\n",
       "    <div>\n",
       "      \n",
       "      <progress value='420' max='420' style='width:300px; height:20px; vertical-align: middle;'></progress>\n",
       "      [420/420 00:02]\n",
       "    </div>\n",
       "    "
      ],
      "text/plain": [
       "<IPython.core.display.HTML object>"
      ]
     },
     "metadata": {},
     "output_type": "display_data"
    },
    {
     "name": "stderr",
     "output_type": "stream",
     "text": [
      "[I 2024-04-18 15:27:27,775] Trial 24 pruned. \n"
     ]
    },
    {
     "data": {
      "text/html": [
       "Finishing last run (ID:qg20i32n) before initializing another..."
      ],
      "text/plain": [
       "<IPython.core.display.HTML object>"
      ]
     },
     "metadata": {},
     "output_type": "display_data"
    },
    {
     "data": {
      "text/html": [
       "<style>\n",
       "    table.wandb td:nth-child(1) { padding: 0 10px; text-align: left ; width: auto;} td:nth-child(2) {text-align: left ; width: 100%}\n",
       "    .wandb-row { display: flex; flex-direction: row; flex-wrap: wrap; justify-content: flex-start; width: 100% }\n",
       "    .wandb-col { display: flex; flex-direction: column; flex-basis: 100%; flex: 1; padding: 10px; }\n",
       "    </style>\n",
       "<div class=\"wandb-row\"><div class=\"wandb-col\"><h3>Run history:</h3><br/><table class=\"wandb\"><tr><td>eval/Accuracy</td><td>▁</td></tr><tr><td>eval/Balanced accuracy</td><td>▁</td></tr><tr><td>eval/F1 macro</td><td>▁</td></tr><tr><td>eval/F1 micro</td><td>▁</td></tr><tr><td>eval/F1 weighted</td><td>▁</td></tr><tr><td>eval/loss</td><td>▁</td></tr><tr><td>eval/runtime</td><td>▁</td></tr><tr><td>eval/samples_per_second</td><td>▁</td></tr><tr><td>eval/steps_per_second</td><td>▁</td></tr><tr><td>train/epoch</td><td>▁</td></tr><tr><td>train/global_step</td><td>▁</td></tr></table><br/></div><div class=\"wandb-col\"><h3>Run summary:</h3><br/><table class=\"wandb\"><tr><td>eval/Accuracy</td><td>0.80268</td></tr><tr><td>eval/Balanced accuracy</td><td>0.66194</td></tr><tr><td>eval/F1 macro</td><td>0.69987</td></tr><tr><td>eval/F1 micro</td><td>0.80268</td></tr><tr><td>eval/F1 weighted</td><td>0.79256</td></tr><tr><td>eval/loss</td><td>0.538</td></tr><tr><td>eval/runtime</td><td>2.6725</td></tr><tr><td>eval/samples_per_second</td><td>1257.27</td></tr><tr><td>eval/steps_per_second</td><td>157.159</td></tr><tr><td>train/epoch</td><td>1.0</td></tr><tr><td>train/global_step</td><td>630</td></tr></table><br/></div></div>"
      ],
      "text/plain": [
       "<IPython.core.display.HTML object>"
      ]
     },
     "metadata": {},
     "output_type": "display_data"
    },
    {
     "data": {
      "text/html": [
       " View run <strong style=\"color:#cdcd00\">trial-24</strong> at: <a href='https://wandb.ai/master-2024/DistilBERT/runs/qg20i32n' target=\"_blank\">https://wandb.ai/master-2024/DistilBERT/runs/qg20i32n</a><br/>Synced 5 W&B file(s), 0 media file(s), 0 artifact file(s) and 0 other file(s)"
      ],
      "text/plain": [
       "<IPython.core.display.HTML object>"
      ]
     },
     "metadata": {},
     "output_type": "display_data"
    },
    {
     "data": {
      "text/html": [
       "Find logs at: <code>./wandb/run-20240418_152641-qg20i32n/logs</code>"
      ],
      "text/plain": [
       "<IPython.core.display.HTML object>"
      ]
     },
     "metadata": {},
     "output_type": "display_data"
    },
    {
     "data": {
      "text/html": [
       "Successfully finished last run (ID:qg20i32n). Initializing new run:<br/>"
      ],
      "text/plain": [
       "<IPython.core.display.HTML object>"
      ]
     },
     "metadata": {},
     "output_type": "display_data"
    },
    {
     "data": {
      "text/html": [
       "wandb version 0.16.6 is available!  To upgrade, please run:\n",
       " $ pip install wandb --upgrade"
      ],
      "text/plain": [
       "<IPython.core.display.HTML object>"
      ]
     },
     "metadata": {},
     "output_type": "display_data"
    },
    {
     "data": {
      "text/html": [
       "Tracking run with wandb version 0.16.4"
      ],
      "text/plain": [
       "<IPython.core.display.HTML object>"
      ]
     },
     "metadata": {},
     "output_type": "display_data"
    },
    {
     "data": {
      "text/html": [
       "Run data is saved locally in <code>/net/fs-2/scale/OrionStore/Home/joteklem/Pytorch_models/wandb/run-20240418_152727-j086qkzd</code>"
      ],
      "text/plain": [
       "<IPython.core.display.HTML object>"
      ]
     },
     "metadata": {},
     "output_type": "display_data"
    },
    {
     "data": {
      "text/html": [
       "Syncing run <strong><a href='https://wandb.ai/master-2024/DistilBERT/runs/j086qkzd' target=\"_blank\">trial-25</a></strong> to <a href='https://wandb.ai/master-2024/DistilBERT' target=\"_blank\">Weights & Biases</a> (<a href='https://wandb.me/run' target=\"_blank\">docs</a>)<br/>"
      ],
      "text/plain": [
       "<IPython.core.display.HTML object>"
      ]
     },
     "metadata": {},
     "output_type": "display_data"
    },
    {
     "data": {
      "text/html": [
       " View project at <a href='https://wandb.ai/master-2024/DistilBERT' target=\"_blank\">https://wandb.ai/master-2024/DistilBERT</a>"
      ],
      "text/plain": [
       "<IPython.core.display.HTML object>"
      ]
     },
     "metadata": {},
     "output_type": "display_data"
    },
    {
     "data": {
      "text/html": [
       " View run at <a href='https://wandb.ai/master-2024/DistilBERT/runs/j086qkzd' target=\"_blank\">https://wandb.ai/master-2024/DistilBERT/runs/j086qkzd</a>"
      ],
      "text/plain": [
       "<IPython.core.display.HTML object>"
      ]
     },
     "metadata": {},
     "output_type": "display_data"
    },
    {
     "name": "stderr",
     "output_type": "stream",
     "text": [
      "/net/fs-2/scale/OrionStore/Scratch/joteklem/MyCondaEnvironments/Python3.11/orion_env/lib/python3.11/site-packages/accelerate/accelerator.py:432: FutureWarning: Passing the following arguments to `Accelerator` is deprecated and will be removed in version 1.0 of Accelerate: dict_keys(['dispatch_batches', 'split_batches', 'even_batches', 'use_seedable_sampler']). Please pass an `accelerate.DataLoaderConfiguration` instead: \n",
      "dataloader_config = DataLoaderConfiguration(dispatch_batches=None, split_batches=False, even_batches=True, use_seedable_sampler=True)\n",
      "  warnings.warn(\n",
      "Detected kernel version 3.10.0, which is below the recommended minimum of 5.5.0; this can cause the process to hang. It is recommended to upgrade the kernel to the minimum version or higher.\n"
     ]
    },
    {
     "name": "stdout",
     "output_type": "stream",
     "text": [
      "Starting trial 25\n"
     ]
    },
    {
     "data": {
      "text/html": [
       "\n",
       "    <div>\n",
       "      \n",
       "      <progress value='631' max='1260' style='width:300px; height:20px; vertical-align: middle;'></progress>\n",
       "      [ 629/1260 00:40 < 00:40, 15.44 it/s, Epoch 1.00/2]\n",
       "    </div>\n",
       "    <table border=\"1\" class=\"dataframe\">\n",
       "  <thead>\n",
       " <tr style=\"text-align: left;\">\n",
       "      <th>Epoch</th>\n",
       "      <th>Training Loss</th>\n",
       "      <th>Validation Loss</th>\n",
       "    </tr>\n",
       "  </thead>\n",
       "  <tbody>\n",
       "  </tbody>\n",
       "</table><p>\n",
       "    <div>\n",
       "      \n",
       "      <progress value='420' max='420' style='width:300px; height:20px; vertical-align: middle;'></progress>\n",
       "      [420/420 00:02]\n",
       "    </div>\n",
       "    "
      ],
      "text/plain": [
       "<IPython.core.display.HTML object>"
      ]
     },
     "metadata": {},
     "output_type": "display_data"
    },
    {
     "name": "stderr",
     "output_type": "stream",
     "text": [
      "[I 2024-04-18 15:28:19,554] Trial 25 pruned. \n"
     ]
    },
    {
     "data": {
      "text/html": [
       "Finishing last run (ID:j086qkzd) before initializing another..."
      ],
      "text/plain": [
       "<IPython.core.display.HTML object>"
      ]
     },
     "metadata": {},
     "output_type": "display_data"
    },
    {
     "data": {
      "text/html": [
       "<style>\n",
       "    table.wandb td:nth-child(1) { padding: 0 10px; text-align: left ; width: auto;} td:nth-child(2) {text-align: left ; width: 100%}\n",
       "    .wandb-row { display: flex; flex-direction: row; flex-wrap: wrap; justify-content: flex-start; width: 100% }\n",
       "    .wandb-col { display: flex; flex-direction: column; flex-basis: 100%; flex: 1; padding: 10px; }\n",
       "    </style>\n",
       "<div class=\"wandb-row\"><div class=\"wandb-col\"><h3>Run history:</h3><br/><table class=\"wandb\"><tr><td>eval/Accuracy</td><td>▁</td></tr><tr><td>eval/Balanced accuracy</td><td>▁</td></tr><tr><td>eval/F1 macro</td><td>▁</td></tr><tr><td>eval/F1 micro</td><td>▁</td></tr><tr><td>eval/F1 weighted</td><td>▁</td></tr><tr><td>eval/loss</td><td>▁</td></tr><tr><td>eval/runtime</td><td>▁</td></tr><tr><td>eval/samples_per_second</td><td>▁</td></tr><tr><td>eval/steps_per_second</td><td>▁</td></tr><tr><td>train/epoch</td><td>▁</td></tr><tr><td>train/global_step</td><td>▁</td></tr></table><br/></div><div class=\"wandb-col\"><h3>Run summary:</h3><br/><table class=\"wandb\"><tr><td>eval/Accuracy</td><td>0.79405</td></tr><tr><td>eval/Balanced accuracy</td><td>0.62848</td></tr><tr><td>eval/F1 macro</td><td>0.67069</td></tr><tr><td>eval/F1 micro</td><td>0.79405</td></tr><tr><td>eval/F1 weighted</td><td>0.77878</td></tr><tr><td>eval/loss</td><td>0.56005</td></tr><tr><td>eval/runtime</td><td>2.6563</td></tr><tr><td>eval/samples_per_second</td><td>1264.901</td></tr><tr><td>eval/steps_per_second</td><td>158.113</td></tr><tr><td>train/epoch</td><td>1.0</td></tr><tr><td>train/global_step</td><td>630</td></tr></table><br/></div></div>"
      ],
      "text/plain": [
       "<IPython.core.display.HTML object>"
      ]
     },
     "metadata": {},
     "output_type": "display_data"
    },
    {
     "data": {
      "text/html": [
       " View run <strong style=\"color:#cdcd00\">trial-25</strong> at: <a href='https://wandb.ai/master-2024/DistilBERT/runs/j086qkzd' target=\"_blank\">https://wandb.ai/master-2024/DistilBERT/runs/j086qkzd</a><br/>Synced 5 W&B file(s), 0 media file(s), 0 artifact file(s) and 0 other file(s)"
      ],
      "text/plain": [
       "<IPython.core.display.HTML object>"
      ]
     },
     "metadata": {},
     "output_type": "display_data"
    },
    {
     "data": {
      "text/html": [
       "Find logs at: <code>./wandb/run-20240418_152727-j086qkzd/logs</code>"
      ],
      "text/plain": [
       "<IPython.core.display.HTML object>"
      ]
     },
     "metadata": {},
     "output_type": "display_data"
    },
    {
     "data": {
      "text/html": [
       "Successfully finished last run (ID:j086qkzd). Initializing new run:<br/>"
      ],
      "text/plain": [
       "<IPython.core.display.HTML object>"
      ]
     },
     "metadata": {},
     "output_type": "display_data"
    },
    {
     "data": {
      "text/html": [
       "wandb version 0.16.6 is available!  To upgrade, please run:\n",
       " $ pip install wandb --upgrade"
      ],
      "text/plain": [
       "<IPython.core.display.HTML object>"
      ]
     },
     "metadata": {},
     "output_type": "display_data"
    },
    {
     "data": {
      "text/html": [
       "Tracking run with wandb version 0.16.4"
      ],
      "text/plain": [
       "<IPython.core.display.HTML object>"
      ]
     },
     "metadata": {},
     "output_type": "display_data"
    },
    {
     "data": {
      "text/html": [
       "Run data is saved locally in <code>/net/fs-2/scale/OrionStore/Home/joteklem/Pytorch_models/wandb/run-20240418_152819-wyz2kdu2</code>"
      ],
      "text/plain": [
       "<IPython.core.display.HTML object>"
      ]
     },
     "metadata": {},
     "output_type": "display_data"
    },
    {
     "data": {
      "text/html": [
       "Syncing run <strong><a href='https://wandb.ai/master-2024/DistilBERT/runs/wyz2kdu2' target=\"_blank\">trial-26</a></strong> to <a href='https://wandb.ai/master-2024/DistilBERT' target=\"_blank\">Weights & Biases</a> (<a href='https://wandb.me/run' target=\"_blank\">docs</a>)<br/>"
      ],
      "text/plain": [
       "<IPython.core.display.HTML object>"
      ]
     },
     "metadata": {},
     "output_type": "display_data"
    },
    {
     "data": {
      "text/html": [
       " View project at <a href='https://wandb.ai/master-2024/DistilBERT' target=\"_blank\">https://wandb.ai/master-2024/DistilBERT</a>"
      ],
      "text/plain": [
       "<IPython.core.display.HTML object>"
      ]
     },
     "metadata": {},
     "output_type": "display_data"
    },
    {
     "data": {
      "text/html": [
       " View run at <a href='https://wandb.ai/master-2024/DistilBERT/runs/wyz2kdu2' target=\"_blank\">https://wandb.ai/master-2024/DistilBERT/runs/wyz2kdu2</a>"
      ],
      "text/plain": [
       "<IPython.core.display.HTML object>"
      ]
     },
     "metadata": {},
     "output_type": "display_data"
    },
    {
     "name": "stdout",
     "output_type": "stream",
     "text": [
      "Starting trial 26\n"
     ]
    },
    {
     "name": "stderr",
     "output_type": "stream",
     "text": [
      "/net/fs-2/scale/OrionStore/Scratch/joteklem/MyCondaEnvironments/Python3.11/orion_env/lib/python3.11/site-packages/accelerate/accelerator.py:432: FutureWarning: Passing the following arguments to `Accelerator` is deprecated and will be removed in version 1.0 of Accelerate: dict_keys(['dispatch_batches', 'split_batches', 'even_batches', 'use_seedable_sampler']). Please pass an `accelerate.DataLoaderConfiguration` instead: \n",
      "dataloader_config = DataLoaderConfiguration(dispatch_batches=None, split_batches=False, even_batches=True, use_seedable_sampler=True)\n",
      "  warnings.warn(\n",
      "Detected kernel version 3.10.0, which is below the recommended minimum of 5.5.0; this can cause the process to hang. It is recommended to upgrade the kernel to the minimum version or higher.\n"
     ]
    },
    {
     "data": {
      "text/html": [
       "\n",
       "    <div>\n",
       "      \n",
       "      <progress value='1261' max='1260' style='width:300px; height:20px; vertical-align: middle;'></progress>\n",
       "      [1260/1260 01:23, Epoch 2/2]\n",
       "    </div>\n",
       "    <table border=\"1\" class=\"dataframe\">\n",
       "  <thead>\n",
       " <tr style=\"text-align: left;\">\n",
       "      <th>Epoch</th>\n",
       "      <th>Training Loss</th>\n",
       "      <th>Validation Loss</th>\n",
       "      <th>Accuracy</th>\n",
       "      <th>Balanced accuracy</th>\n",
       "      <th>F1 weighted</th>\n",
       "      <th>F1 macro</th>\n",
       "      <th>F1 micro</th>\n",
       "      <th>Classification report</th>\n",
       "    </tr>\n",
       "  </thead>\n",
       "  <tbody>\n",
       "    <tr>\n",
       "      <td>1</td>\n",
       "      <td>No log</td>\n",
       "      <td>0.527752</td>\n",
       "      <td>0.809524</td>\n",
       "      <td>0.675349</td>\n",
       "      <td>0.799893</td>\n",
       "      <td>0.713232</td>\n",
       "      <td>0.809524</td>\n",
       "      <td>{'0': {'precision': 0.7605820105820106, 'recall': 0.6403118040089086, 'f1-score': 0.6952841596130592, 'support': 898.0}, '1': {'precision': 0.8290562913907285, 'recall': 0.9320614239181014, 'f1-score': 0.8775465498357063, 'support': 2149.0}, '2': {'precision': 0.7553191489361702, 'recall': 0.4536741214057508, 'f1-score': 0.5668662674650699, 'support': 313.0}, 'accuracy': 0.8095238095238095, 'macro avg': {'precision': 0.7816524836363031, 'recall': 0.6753491164442535, 'f1-score': 0.7132323256379451, 'support': 3360.0}, 'weighted avg': {'precision': 0.803886758725697, 'recall': 0.8095238095238095, 'f1-score': 0.7998934085256033, 'support': 3360.0}}</td>\n",
       "    </tr>\n",
       "  </tbody>\n",
       "</table><p>\n",
       "    <div>\n",
       "      \n",
       "      <progress value='420' max='420' style='width:300px; height:20px; vertical-align: middle;'></progress>\n",
       "      [420/420 00:02]\n",
       "    </div>\n",
       "    "
      ],
      "text/plain": [
       "<IPython.core.display.HTML object>"
      ]
     },
     "metadata": {},
     "output_type": "display_data"
    },
    {
     "name": "stderr",
     "output_type": "stream",
     "text": [
      "[I 2024-04-18 15:29:53,439] Trial 26 pruned. \n"
     ]
    },
    {
     "data": {
      "text/html": [
       "Finishing last run (ID:wyz2kdu2) before initializing another..."
      ],
      "text/plain": [
       "<IPython.core.display.HTML object>"
      ]
     },
     "metadata": {},
     "output_type": "display_data"
    },
    {
     "data": {
      "text/html": [
       "<style>\n",
       "    table.wandb td:nth-child(1) { padding: 0 10px; text-align: left ; width: auto;} td:nth-child(2) {text-align: left ; width: 100%}\n",
       "    .wandb-row { display: flex; flex-direction: row; flex-wrap: wrap; justify-content: flex-start; width: 100% }\n",
       "    .wandb-col { display: flex; flex-direction: column; flex-basis: 100%; flex: 1; padding: 10px; }\n",
       "    </style>\n",
       "<div class=\"wandb-row\"><div class=\"wandb-col\"><h3>Run history:</h3><br/><table class=\"wandb\"><tr><td>eval/Accuracy</td><td>▁█</td></tr><tr><td>eval/Balanced accuracy</td><td>▁█</td></tr><tr><td>eval/F1 macro</td><td>▁█</td></tr><tr><td>eval/F1 micro</td><td>▁█</td></tr><tr><td>eval/F1 weighted</td><td>▁█</td></tr><tr><td>eval/loss</td><td>█▁</td></tr><tr><td>eval/runtime</td><td>█▁</td></tr><tr><td>eval/samples_per_second</td><td>▁█</td></tr><tr><td>eval/steps_per_second</td><td>▁█</td></tr><tr><td>train/epoch</td><td>▁██</td></tr><tr><td>train/global_step</td><td>▁██</td></tr><tr><td>train/grad_norm</td><td>▁</td></tr><tr><td>train/learning_rate</td><td>▁</td></tr><tr><td>train/loss</td><td>▁</td></tr></table><br/></div><div class=\"wandb-col\"><h3>Run summary:</h3><br/><table class=\"wandb\"><tr><td>eval/Accuracy</td><td>0.82173</td></tr><tr><td>eval/Balanced accuracy</td><td>0.71949</td></tr><tr><td>eval/F1 macro</td><td>0.7465</td></tr><tr><td>eval/F1 micro</td><td>0.82173</td></tr><tr><td>eval/F1 weighted</td><td>0.81504</td></tr><tr><td>eval/loss</td><td>0.48913</td></tr><tr><td>eval/runtime</td><td>2.6517</td></tr><tr><td>eval/samples_per_second</td><td>1267.128</td></tr><tr><td>eval/steps_per_second</td><td>158.391</td></tr><tr><td>train/epoch</td><td>2.0</td></tr><tr><td>train/global_step</td><td>1260</td></tr><tr><td>train/grad_norm</td><td>2.76491</td></tr><tr><td>train/learning_rate</td><td>0.0</td></tr><tr><td>train/loss</td><td>0.5611</td></tr></table><br/></div></div>"
      ],
      "text/plain": [
       "<IPython.core.display.HTML object>"
      ]
     },
     "metadata": {},
     "output_type": "display_data"
    },
    {
     "data": {
      "text/html": [
       " View run <strong style=\"color:#cdcd00\">trial-26</strong> at: <a href='https://wandb.ai/master-2024/DistilBERT/runs/wyz2kdu2' target=\"_blank\">https://wandb.ai/master-2024/DistilBERT/runs/wyz2kdu2</a><br/>Synced 5 W&B file(s), 0 media file(s), 0 artifact file(s) and 0 other file(s)"
      ],
      "text/plain": [
       "<IPython.core.display.HTML object>"
      ]
     },
     "metadata": {},
     "output_type": "display_data"
    },
    {
     "data": {
      "text/html": [
       "Find logs at: <code>./wandb/run-20240418_152819-wyz2kdu2/logs</code>"
      ],
      "text/plain": [
       "<IPython.core.display.HTML object>"
      ]
     },
     "metadata": {},
     "output_type": "display_data"
    },
    {
     "data": {
      "text/html": [
       "Successfully finished last run (ID:wyz2kdu2). Initializing new run:<br/>"
      ],
      "text/plain": [
       "<IPython.core.display.HTML object>"
      ]
     },
     "metadata": {},
     "output_type": "display_data"
    },
    {
     "data": {
      "text/html": [
       "wandb version 0.16.6 is available!  To upgrade, please run:\n",
       " $ pip install wandb --upgrade"
      ],
      "text/plain": [
       "<IPython.core.display.HTML object>"
      ]
     },
     "metadata": {},
     "output_type": "display_data"
    },
    {
     "data": {
      "text/html": [
       "Tracking run with wandb version 0.16.4"
      ],
      "text/plain": [
       "<IPython.core.display.HTML object>"
      ]
     },
     "metadata": {},
     "output_type": "display_data"
    },
    {
     "data": {
      "text/html": [
       "Run data is saved locally in <code>/net/fs-2/scale/OrionStore/Home/joteklem/Pytorch_models/wandb/run-20240418_152953-aqbe8ohp</code>"
      ],
      "text/plain": [
       "<IPython.core.display.HTML object>"
      ]
     },
     "metadata": {},
     "output_type": "display_data"
    },
    {
     "data": {
      "text/html": [
       "Syncing run <strong><a href='https://wandb.ai/master-2024/DistilBERT/runs/aqbe8ohp' target=\"_blank\">trial-27</a></strong> to <a href='https://wandb.ai/master-2024/DistilBERT' target=\"_blank\">Weights & Biases</a> (<a href='https://wandb.me/run' target=\"_blank\">docs</a>)<br/>"
      ],
      "text/plain": [
       "<IPython.core.display.HTML object>"
      ]
     },
     "metadata": {},
     "output_type": "display_data"
    },
    {
     "data": {
      "text/html": [
       " View project at <a href='https://wandb.ai/master-2024/DistilBERT' target=\"_blank\">https://wandb.ai/master-2024/DistilBERT</a>"
      ],
      "text/plain": [
       "<IPython.core.display.HTML object>"
      ]
     },
     "metadata": {},
     "output_type": "display_data"
    },
    {
     "data": {
      "text/html": [
       " View run at <a href='https://wandb.ai/master-2024/DistilBERT/runs/aqbe8ohp' target=\"_blank\">https://wandb.ai/master-2024/DistilBERT/runs/aqbe8ohp</a>"
      ],
      "text/plain": [
       "<IPython.core.display.HTML object>"
      ]
     },
     "metadata": {},
     "output_type": "display_data"
    },
    {
     "name": "stderr",
     "output_type": "stream",
     "text": [
      "/net/fs-2/scale/OrionStore/Scratch/joteklem/MyCondaEnvironments/Python3.11/orion_env/lib/python3.11/site-packages/accelerate/accelerator.py:432: FutureWarning: Passing the following arguments to `Accelerator` is deprecated and will be removed in version 1.0 of Accelerate: dict_keys(['dispatch_batches', 'split_batches', 'even_batches', 'use_seedable_sampler']). Please pass an `accelerate.DataLoaderConfiguration` instead: \n",
      "dataloader_config = DataLoaderConfiguration(dispatch_batches=None, split_batches=False, even_batches=True, use_seedable_sampler=True)\n",
      "  warnings.warn(\n",
      "Detected kernel version 3.10.0, which is below the recommended minimum of 5.5.0; this can cause the process to hang. It is recommended to upgrade the kernel to the minimum version or higher.\n"
     ]
    },
    {
     "name": "stdout",
     "output_type": "stream",
     "text": [
      "Starting trial 27\n"
     ]
    },
    {
     "data": {
      "text/html": [
       "\n",
       "    <div>\n",
       "      \n",
       "      <progress value='631' max='1260' style='width:300px; height:20px; vertical-align: middle;'></progress>\n",
       "      [ 631/1260 00:41 < 00:41, 15.31 it/s, Epoch 1/2]\n",
       "    </div>\n",
       "    <table border=\"1\" class=\"dataframe\">\n",
       "  <thead>\n",
       " <tr style=\"text-align: left;\">\n",
       "      <th>Epoch</th>\n",
       "      <th>Training Loss</th>\n",
       "      <th>Validation Loss</th>\n",
       "    </tr>\n",
       "  </thead>\n",
       "  <tbody>\n",
       "  </tbody>\n",
       "</table><p>\n",
       "    <div>\n",
       "      \n",
       "      <progress value='420' max='420' style='width:300px; height:20px; vertical-align: middle;'></progress>\n",
       "      [420/420 00:02]\n",
       "    </div>\n",
       "    "
      ],
      "text/plain": [
       "<IPython.core.display.HTML object>"
      ]
     },
     "metadata": {},
     "output_type": "display_data"
    },
    {
     "name": "stderr",
     "output_type": "stream",
     "text": [
      "[I 2024-04-18 15:30:45,217] Trial 27 pruned. \n"
     ]
    },
    {
     "data": {
      "text/html": [
       "Finishing last run (ID:aqbe8ohp) before initializing another..."
      ],
      "text/plain": [
       "<IPython.core.display.HTML object>"
      ]
     },
     "metadata": {},
     "output_type": "display_data"
    },
    {
     "data": {
      "text/html": [
       "<style>\n",
       "    table.wandb td:nth-child(1) { padding: 0 10px; text-align: left ; width: auto;} td:nth-child(2) {text-align: left ; width: 100%}\n",
       "    .wandb-row { display: flex; flex-direction: row; flex-wrap: wrap; justify-content: flex-start; width: 100% }\n",
       "    .wandb-col { display: flex; flex-direction: column; flex-basis: 100%; flex: 1; padding: 10px; }\n",
       "    </style>\n",
       "<div class=\"wandb-row\"><div class=\"wandb-col\"><h3>Run history:</h3><br/><table class=\"wandb\"><tr><td>eval/Accuracy</td><td>▁</td></tr><tr><td>eval/Balanced accuracy</td><td>▁</td></tr><tr><td>eval/F1 macro</td><td>▁</td></tr><tr><td>eval/F1 micro</td><td>▁</td></tr><tr><td>eval/F1 weighted</td><td>▁</td></tr><tr><td>eval/loss</td><td>▁</td></tr><tr><td>eval/runtime</td><td>▁</td></tr><tr><td>eval/samples_per_second</td><td>▁</td></tr><tr><td>eval/steps_per_second</td><td>▁</td></tr><tr><td>train/epoch</td><td>▁</td></tr><tr><td>train/global_step</td><td>▁</td></tr></table><br/></div><div class=\"wandb-col\"><h3>Run summary:</h3><br/><table class=\"wandb\"><tr><td>eval/Accuracy</td><td>0.79375</td></tr><tr><td>eval/Balanced accuracy</td><td>0.68374</td></tr><tr><td>eval/F1 macro</td><td>0.70258</td></tr><tr><td>eval/F1 micro</td><td>0.79375</td></tr><tr><td>eval/F1 weighted</td><td>0.78651</td></tr><tr><td>eval/loss</td><td>0.56605</td></tr><tr><td>eval/runtime</td><td>2.6717</td></tr><tr><td>eval/samples_per_second</td><td>1257.613</td></tr><tr><td>eval/steps_per_second</td><td>157.202</td></tr><tr><td>train/epoch</td><td>1.0</td></tr><tr><td>train/global_step</td><td>630</td></tr></table><br/></div></div>"
      ],
      "text/plain": [
       "<IPython.core.display.HTML object>"
      ]
     },
     "metadata": {},
     "output_type": "display_data"
    },
    {
     "data": {
      "text/html": [
       " View run <strong style=\"color:#cdcd00\">trial-27</strong> at: <a href='https://wandb.ai/master-2024/DistilBERT/runs/aqbe8ohp' target=\"_blank\">https://wandb.ai/master-2024/DistilBERT/runs/aqbe8ohp</a><br/>Synced 5 W&B file(s), 0 media file(s), 0 artifact file(s) and 0 other file(s)"
      ],
      "text/plain": [
       "<IPython.core.display.HTML object>"
      ]
     },
     "metadata": {},
     "output_type": "display_data"
    },
    {
     "data": {
      "text/html": [
       "Find logs at: <code>./wandb/run-20240418_152953-aqbe8ohp/logs</code>"
      ],
      "text/plain": [
       "<IPython.core.display.HTML object>"
      ]
     },
     "metadata": {},
     "output_type": "display_data"
    },
    {
     "data": {
      "text/html": [
       "Successfully finished last run (ID:aqbe8ohp). Initializing new run:<br/>"
      ],
      "text/plain": [
       "<IPython.core.display.HTML object>"
      ]
     },
     "metadata": {},
     "output_type": "display_data"
    },
    {
     "data": {
      "text/html": [
       "wandb version 0.16.6 is available!  To upgrade, please run:\n",
       " $ pip install wandb --upgrade"
      ],
      "text/plain": [
       "<IPython.core.display.HTML object>"
      ]
     },
     "metadata": {},
     "output_type": "display_data"
    },
    {
     "data": {
      "text/html": [
       "Tracking run with wandb version 0.16.4"
      ],
      "text/plain": [
       "<IPython.core.display.HTML object>"
      ]
     },
     "metadata": {},
     "output_type": "display_data"
    },
    {
     "data": {
      "text/html": [
       "Run data is saved locally in <code>/net/fs-2/scale/OrionStore/Home/joteklem/Pytorch_models/wandb/run-20240418_153045-mryp75ul</code>"
      ],
      "text/plain": [
       "<IPython.core.display.HTML object>"
      ]
     },
     "metadata": {},
     "output_type": "display_data"
    },
    {
     "data": {
      "text/html": [
       "Syncing run <strong><a href='https://wandb.ai/master-2024/DistilBERT/runs/mryp75ul' target=\"_blank\">trial-28</a></strong> to <a href='https://wandb.ai/master-2024/DistilBERT' target=\"_blank\">Weights & Biases</a> (<a href='https://wandb.me/run' target=\"_blank\">docs</a>)<br/>"
      ],
      "text/plain": [
       "<IPython.core.display.HTML object>"
      ]
     },
     "metadata": {},
     "output_type": "display_data"
    },
    {
     "data": {
      "text/html": [
       " View project at <a href='https://wandb.ai/master-2024/DistilBERT' target=\"_blank\">https://wandb.ai/master-2024/DistilBERT</a>"
      ],
      "text/plain": [
       "<IPython.core.display.HTML object>"
      ]
     },
     "metadata": {},
     "output_type": "display_data"
    },
    {
     "data": {
      "text/html": [
       " View run at <a href='https://wandb.ai/master-2024/DistilBERT/runs/mryp75ul' target=\"_blank\">https://wandb.ai/master-2024/DistilBERT/runs/mryp75ul</a>"
      ],
      "text/plain": [
       "<IPython.core.display.HTML object>"
      ]
     },
     "metadata": {},
     "output_type": "display_data"
    },
    {
     "name": "stderr",
     "output_type": "stream",
     "text": [
      "/net/fs-2/scale/OrionStore/Scratch/joteklem/MyCondaEnvironments/Python3.11/orion_env/lib/python3.11/site-packages/accelerate/accelerator.py:432: FutureWarning: Passing the following arguments to `Accelerator` is deprecated and will be removed in version 1.0 of Accelerate: dict_keys(['dispatch_batches', 'split_batches', 'even_batches', 'use_seedable_sampler']). Please pass an `accelerate.DataLoaderConfiguration` instead: \n",
      "dataloader_config = DataLoaderConfiguration(dispatch_batches=None, split_batches=False, even_batches=True, use_seedable_sampler=True)\n",
      "  warnings.warn(\n",
      "Detected kernel version 3.10.0, which is below the recommended minimum of 5.5.0; this can cause the process to hang. It is recommended to upgrade the kernel to the minimum version or higher.\n"
     ]
    },
    {
     "name": "stdout",
     "output_type": "stream",
     "text": [
      "Starting trial 28\n"
     ]
    },
    {
     "data": {
      "text/html": [
       "\n",
       "    <div>\n",
       "      \n",
       "      <progress value='316' max='630' style='width:300px; height:20px; vertical-align: middle;'></progress>\n",
       "      [316/630 00:17 < 00:17, 18.23 it/s, Epoch 1/2]\n",
       "    </div>\n",
       "    <table border=\"1\" class=\"dataframe\">\n",
       "  <thead>\n",
       " <tr style=\"text-align: left;\">\n",
       "      <th>Epoch</th>\n",
       "      <th>Training Loss</th>\n",
       "      <th>Validation Loss</th>\n",
       "    </tr>\n",
       "  </thead>\n",
       "  <tbody>\n",
       "  </tbody>\n",
       "</table><p>\n",
       "    <div>\n",
       "      \n",
       "      <progress value='210' max='210' style='width:300px; height:20px; vertical-align: middle;'></progress>\n",
       "      [210/210 00:01]\n",
       "    </div>\n",
       "    "
      ],
      "text/plain": [
       "<IPython.core.display.HTML object>"
      ]
     },
     "metadata": {},
     "output_type": "display_data"
    },
    {
     "name": "stderr",
     "output_type": "stream",
     "text": [
      "[I 2024-04-18 15:31:15,533] Trial 28 pruned. \n"
     ]
    },
    {
     "data": {
      "text/html": [
       "Finishing last run (ID:mryp75ul) before initializing another..."
      ],
      "text/plain": [
       "<IPython.core.display.HTML object>"
      ]
     },
     "metadata": {},
     "output_type": "display_data"
    },
    {
     "data": {
      "text/html": [
       "<style>\n",
       "    table.wandb td:nth-child(1) { padding: 0 10px; text-align: left ; width: auto;} td:nth-child(2) {text-align: left ; width: 100%}\n",
       "    .wandb-row { display: flex; flex-direction: row; flex-wrap: wrap; justify-content: flex-start; width: 100% }\n",
       "    .wandb-col { display: flex; flex-direction: column; flex-basis: 100%; flex: 1; padding: 10px; }\n",
       "    </style>\n",
       "<div class=\"wandb-row\"><div class=\"wandb-col\"><h3>Run history:</h3><br/><table class=\"wandb\"><tr><td>eval/Accuracy</td><td>▁</td></tr><tr><td>eval/Balanced accuracy</td><td>▁</td></tr><tr><td>eval/F1 macro</td><td>▁</td></tr><tr><td>eval/F1 micro</td><td>▁</td></tr><tr><td>eval/F1 weighted</td><td>▁</td></tr><tr><td>eval/loss</td><td>▁</td></tr><tr><td>eval/runtime</td><td>▁</td></tr><tr><td>eval/samples_per_second</td><td>▁</td></tr><tr><td>eval/steps_per_second</td><td>▁</td></tr><tr><td>train/epoch</td><td>▁</td></tr><tr><td>train/global_step</td><td>▁</td></tr></table><br/></div><div class=\"wandb-col\"><h3>Run summary:</h3><br/><table class=\"wandb\"><tr><td>eval/Accuracy</td><td>0.79881</td></tr><tr><td>eval/Balanced accuracy</td><td>0.7027</td></tr><tr><td>eval/F1 macro</td><td>0.72314</td></tr><tr><td>eval/F1 micro</td><td>0.79881</td></tr><tr><td>eval/F1 weighted</td><td>0.79645</td></tr><tr><td>eval/loss</td><td>0.52177</td></tr><tr><td>eval/runtime</td><td>1.4966</td></tr><tr><td>eval/samples_per_second</td><td>2245.122</td></tr><tr><td>eval/steps_per_second</td><td>140.32</td></tr><tr><td>train/epoch</td><td>1.0</td></tr><tr><td>train/global_step</td><td>315</td></tr></table><br/></div></div>"
      ],
      "text/plain": [
       "<IPython.core.display.HTML object>"
      ]
     },
     "metadata": {},
     "output_type": "display_data"
    },
    {
     "data": {
      "text/html": [
       " View run <strong style=\"color:#cdcd00\">trial-28</strong> at: <a href='https://wandb.ai/master-2024/DistilBERT/runs/mryp75ul' target=\"_blank\">https://wandb.ai/master-2024/DistilBERT/runs/mryp75ul</a><br/>Synced 5 W&B file(s), 0 media file(s), 0 artifact file(s) and 0 other file(s)"
      ],
      "text/plain": [
       "<IPython.core.display.HTML object>"
      ]
     },
     "metadata": {},
     "output_type": "display_data"
    },
    {
     "data": {
      "text/html": [
       "Find logs at: <code>./wandb/run-20240418_153045-mryp75ul/logs</code>"
      ],
      "text/plain": [
       "<IPython.core.display.HTML object>"
      ]
     },
     "metadata": {},
     "output_type": "display_data"
    },
    {
     "data": {
      "text/html": [
       "Successfully finished last run (ID:mryp75ul). Initializing new run:<br/>"
      ],
      "text/plain": [
       "<IPython.core.display.HTML object>"
      ]
     },
     "metadata": {},
     "output_type": "display_data"
    },
    {
     "data": {
      "text/html": [
       "wandb version 0.16.6 is available!  To upgrade, please run:\n",
       " $ pip install wandb --upgrade"
      ],
      "text/plain": [
       "<IPython.core.display.HTML object>"
      ]
     },
     "metadata": {},
     "output_type": "display_data"
    },
    {
     "data": {
      "text/html": [
       "Tracking run with wandb version 0.16.4"
      ],
      "text/plain": [
       "<IPython.core.display.HTML object>"
      ]
     },
     "metadata": {},
     "output_type": "display_data"
    },
    {
     "data": {
      "text/html": [
       "Run data is saved locally in <code>/net/fs-2/scale/OrionStore/Home/joteklem/Pytorch_models/wandb/run-20240418_153115-csljo756</code>"
      ],
      "text/plain": [
       "<IPython.core.display.HTML object>"
      ]
     },
     "metadata": {},
     "output_type": "display_data"
    },
    {
     "data": {
      "text/html": [
       "Syncing run <strong><a href='https://wandb.ai/master-2024/DistilBERT/runs/csljo756' target=\"_blank\">trial-29</a></strong> to <a href='https://wandb.ai/master-2024/DistilBERT' target=\"_blank\">Weights & Biases</a> (<a href='https://wandb.me/run' target=\"_blank\">docs</a>)<br/>"
      ],
      "text/plain": [
       "<IPython.core.display.HTML object>"
      ]
     },
     "metadata": {},
     "output_type": "display_data"
    },
    {
     "data": {
      "text/html": [
       " View project at <a href='https://wandb.ai/master-2024/DistilBERT' target=\"_blank\">https://wandb.ai/master-2024/DistilBERT</a>"
      ],
      "text/plain": [
       "<IPython.core.display.HTML object>"
      ]
     },
     "metadata": {},
     "output_type": "display_data"
    },
    {
     "data": {
      "text/html": [
       " View run at <a href='https://wandb.ai/master-2024/DistilBERT/runs/csljo756' target=\"_blank\">https://wandb.ai/master-2024/DistilBERT/runs/csljo756</a>"
      ],
      "text/plain": [
       "<IPython.core.display.HTML object>"
      ]
     },
     "metadata": {},
     "output_type": "display_data"
    },
    {
     "name": "stdout",
     "output_type": "stream",
     "text": [
      "Starting trial 29\n"
     ]
    },
    {
     "name": "stderr",
     "output_type": "stream",
     "text": [
      "/net/fs-2/scale/OrionStore/Scratch/joteklem/MyCondaEnvironments/Python3.11/orion_env/lib/python3.11/site-packages/accelerate/accelerator.py:432: FutureWarning: Passing the following arguments to `Accelerator` is deprecated and will be removed in version 1.0 of Accelerate: dict_keys(['dispatch_batches', 'split_batches', 'even_batches', 'use_seedable_sampler']). Please pass an `accelerate.DataLoaderConfiguration` instead: \n",
      "dataloader_config = DataLoaderConfiguration(dispatch_batches=None, split_batches=False, even_batches=True, use_seedable_sampler=True)\n",
      "  warnings.warn(\n",
      "Detected kernel version 3.10.0, which is below the recommended minimum of 5.5.0; this can cause the process to hang. It is recommended to upgrade the kernel to the minimum version or higher.\n"
     ]
    },
    {
     "data": {
      "text/html": [
       "\n",
       "    <div>\n",
       "      \n",
       "      <progress value='315' max='314' style='width:300px; height:20px; vertical-align: middle;'></progress>\n",
       "      [314/314 00:22, Epoch 1.99/2]\n",
       "    </div>\n",
       "    <table border=\"1\" class=\"dataframe\">\n",
       "  <thead>\n",
       " <tr style=\"text-align: left;\">\n",
       "      <th>Epoch</th>\n",
       "      <th>Training Loss</th>\n",
       "      <th>Validation Loss</th>\n",
       "      <th>Accuracy</th>\n",
       "      <th>Balanced accuracy</th>\n",
       "      <th>F1 weighted</th>\n",
       "      <th>F1 macro</th>\n",
       "      <th>F1 micro</th>\n",
       "      <th>Classification report</th>\n",
       "    </tr>\n",
       "  </thead>\n",
       "  <tbody>\n",
       "    <tr>\n",
       "      <td>0</td>\n",
       "      <td>No log</td>\n",
       "      <td>0.509175</td>\n",
       "      <td>0.804762</td>\n",
       "      <td>0.707453</td>\n",
       "      <td>0.798735</td>\n",
       "      <td>0.725102</td>\n",
       "      <td>0.804762</td>\n",
       "      <td>{'0': {'precision': 0.7813822284908322, 'recall': 0.6169265033407573, 'f1-score': 0.6894835096453018, 'support': 898.0}, '1': {'precision': 0.831922099915326, 'recall': 0.9143787808282923, 'f1-score': 0.8712037242296609, 'support': 2149.0}, '2': {'precision': 0.6401384083044983, 'recall': 0.5910543130990416, 'f1-score': 0.6146179401993356, 'support': 313.0}, 'accuracy': 0.8047619047619048, 'macro avg': {'precision': 0.7511475789035522, 'recall': 0.7074531990893638, 'f1-score': 0.7251017246914327, 'support': 3360.0}, 'weighted avg': {'precision': 0.8005491534827709, 'recall': 0.8047619047619048, 'f1-score': 0.7987346459266114, 'support': 3360.0}}</td>\n",
       "    </tr>\n",
       "  </tbody>\n",
       "</table><p>\n",
       "    <div>\n",
       "      \n",
       "      <progress value='105' max='105' style='width:300px; height:20px; vertical-align: middle;'></progress>\n",
       "      [105/105 00:01]\n",
       "    </div>\n",
       "    "
      ],
      "text/plain": [
       "<IPython.core.display.HTML object>"
      ]
     },
     "metadata": {},
     "output_type": "display_data"
    },
    {
     "name": "stderr",
     "output_type": "stream",
     "text": [
      "[I 2024-04-18 15:31:47,632] Trial 29 pruned. \n"
     ]
    },
    {
     "data": {
      "text/html": [
       "Finishing last run (ID:csljo756) before initializing another..."
      ],
      "text/plain": [
       "<IPython.core.display.HTML object>"
      ]
     },
     "metadata": {},
     "output_type": "display_data"
    },
    {
     "data": {
      "text/html": [
       "<style>\n",
       "    table.wandb td:nth-child(1) { padding: 0 10px; text-align: left ; width: auto;} td:nth-child(2) {text-align: left ; width: 100%}\n",
       "    .wandb-row { display: flex; flex-direction: row; flex-wrap: wrap; justify-content: flex-start; width: 100% }\n",
       "    .wandb-col { display: flex; flex-direction: column; flex-basis: 100%; flex: 1; padding: 10px; }\n",
       "    </style>\n",
       "<div class=\"wandb-row\"><div class=\"wandb-col\"><h3>Run history:</h3><br/><table class=\"wandb\"><tr><td>eval/Accuracy</td><td>▁█</td></tr><tr><td>eval/Balanced accuracy</td><td>▁█</td></tr><tr><td>eval/F1 macro</td><td>▁█</td></tr><tr><td>eval/F1 micro</td><td>▁█</td></tr><tr><td>eval/F1 weighted</td><td>▁█</td></tr><tr><td>eval/loss</td><td>█▁</td></tr><tr><td>eval/runtime</td><td>▁█</td></tr><tr><td>eval/samples_per_second</td><td>█▁</td></tr><tr><td>eval/steps_per_second</td><td>█▁</td></tr><tr><td>train/epoch</td><td>▁██</td></tr><tr><td>train/global_step</td><td>▁██</td></tr><tr><td>train/grad_norm</td><td>▁</td></tr><tr><td>train/learning_rate</td><td>▁</td></tr><tr><td>train/loss</td><td>▁</td></tr></table><br/></div><div class=\"wandb-col\"><h3>Run summary:</h3><br/><table class=\"wandb\"><tr><td>eval/Accuracy</td><td>0.81577</td></tr><tr><td>eval/Balanced accuracy</td><td>0.72376</td></tr><tr><td>eval/F1 macro</td><td>0.74013</td></tr><tr><td>eval/F1 micro</td><td>0.81577</td></tr><tr><td>eval/F1 weighted</td><td>0.81018</td></tr><tr><td>eval/loss</td><td>0.47976</td></tr><tr><td>eval/runtime</td><td>1.1264</td></tr><tr><td>eval/samples_per_second</td><td>2983.006</td></tr><tr><td>eval/steps_per_second</td><td>93.219</td></tr><tr><td>train/epoch</td><td>1.99</td></tr><tr><td>train/global_step</td><td>314</td></tr><tr><td>train/grad_norm</td><td>3.36461</td></tr><tr><td>train/learning_rate</td><td>0.0</td></tr><tr><td>train/loss</td><td>0.5666</td></tr></table><br/></div></div>"
      ],
      "text/plain": [
       "<IPython.core.display.HTML object>"
      ]
     },
     "metadata": {},
     "output_type": "display_data"
    },
    {
     "data": {
      "text/html": [
       " View run <strong style=\"color:#cdcd00\">trial-29</strong> at: <a href='https://wandb.ai/master-2024/DistilBERT/runs/csljo756' target=\"_blank\">https://wandb.ai/master-2024/DistilBERT/runs/csljo756</a><br/>Synced 5 W&B file(s), 0 media file(s), 0 artifact file(s) and 0 other file(s)"
      ],
      "text/plain": [
       "<IPython.core.display.HTML object>"
      ]
     },
     "metadata": {},
     "output_type": "display_data"
    },
    {
     "data": {
      "text/html": [
       "Find logs at: <code>./wandb/run-20240418_153115-csljo756/logs</code>"
      ],
      "text/plain": [
       "<IPython.core.display.HTML object>"
      ]
     },
     "metadata": {},
     "output_type": "display_data"
    },
    {
     "data": {
      "text/html": [
       "Successfully finished last run (ID:csljo756). Initializing new run:<br/>"
      ],
      "text/plain": [
       "<IPython.core.display.HTML object>"
      ]
     },
     "metadata": {},
     "output_type": "display_data"
    },
    {
     "data": {
      "text/html": [
       "wandb version 0.16.6 is available!  To upgrade, please run:\n",
       " $ pip install wandb --upgrade"
      ],
      "text/plain": [
       "<IPython.core.display.HTML object>"
      ]
     },
     "metadata": {},
     "output_type": "display_data"
    },
    {
     "data": {
      "text/html": [
       "Tracking run with wandb version 0.16.4"
      ],
      "text/plain": [
       "<IPython.core.display.HTML object>"
      ]
     },
     "metadata": {},
     "output_type": "display_data"
    },
    {
     "data": {
      "text/html": [
       "Run data is saved locally in <code>/net/fs-2/scale/OrionStore/Home/joteklem/Pytorch_models/wandb/run-20240418_153147-g0oozi0u</code>"
      ],
      "text/plain": [
       "<IPython.core.display.HTML object>"
      ]
     },
     "metadata": {},
     "output_type": "display_data"
    },
    {
     "data": {
      "text/html": [
       "Syncing run <strong><a href='https://wandb.ai/master-2024/DistilBERT/runs/g0oozi0u' target=\"_blank\">trial-30</a></strong> to <a href='https://wandb.ai/master-2024/DistilBERT' target=\"_blank\">Weights & Biases</a> (<a href='https://wandb.me/run' target=\"_blank\">docs</a>)<br/>"
      ],
      "text/plain": [
       "<IPython.core.display.HTML object>"
      ]
     },
     "metadata": {},
     "output_type": "display_data"
    },
    {
     "data": {
      "text/html": [
       " View project at <a href='https://wandb.ai/master-2024/DistilBERT' target=\"_blank\">https://wandb.ai/master-2024/DistilBERT</a>"
      ],
      "text/plain": [
       "<IPython.core.display.HTML object>"
      ]
     },
     "metadata": {},
     "output_type": "display_data"
    },
    {
     "data": {
      "text/html": [
       " View run at <a href='https://wandb.ai/master-2024/DistilBERT/runs/g0oozi0u' target=\"_blank\">https://wandb.ai/master-2024/DistilBERT/runs/g0oozi0u</a>"
      ],
      "text/plain": [
       "<IPython.core.display.HTML object>"
      ]
     },
     "metadata": {},
     "output_type": "display_data"
    },
    {
     "name": "stderr",
     "output_type": "stream",
     "text": [
      "/net/fs-2/scale/OrionStore/Scratch/joteklem/MyCondaEnvironments/Python3.11/orion_env/lib/python3.11/site-packages/accelerate/accelerator.py:432: FutureWarning: Passing the following arguments to `Accelerator` is deprecated and will be removed in version 1.0 of Accelerate: dict_keys(['dispatch_batches', 'split_batches', 'even_batches', 'use_seedable_sampler']). Please pass an `accelerate.DataLoaderConfiguration` instead: \n",
      "dataloader_config = DataLoaderConfiguration(dispatch_batches=None, split_batches=False, even_batches=True, use_seedable_sampler=True)\n",
      "  warnings.warn(\n",
      "Detected kernel version 3.10.0, which is below the recommended minimum of 5.5.0; this can cause the process to hang. It is recommended to upgrade the kernel to the minimum version or higher.\n"
     ]
    },
    {
     "name": "stdout",
     "output_type": "stream",
     "text": [
      "Starting trial 30\n"
     ]
    },
    {
     "data": {
      "text/html": [
       "\n",
       "    <div>\n",
       "      \n",
       "      <progress value='1261' max='1260' style='width:300px; height:20px; vertical-align: middle;'></progress>\n",
       "      [1260/1260 01:25, Epoch 2/2]\n",
       "    </div>\n",
       "    <table border=\"1\" class=\"dataframe\">\n",
       "  <thead>\n",
       " <tr style=\"text-align: left;\">\n",
       "      <th>Epoch</th>\n",
       "      <th>Training Loss</th>\n",
       "      <th>Validation Loss</th>\n",
       "      <th>Accuracy</th>\n",
       "      <th>Balanced accuracy</th>\n",
       "      <th>F1 weighted</th>\n",
       "      <th>F1 macro</th>\n",
       "      <th>F1 micro</th>\n",
       "      <th>Classification report</th>\n",
       "    </tr>\n",
       "  </thead>\n",
       "  <tbody>\n",
       "    <tr>\n",
       "      <td>1</td>\n",
       "      <td>No log</td>\n",
       "      <td>0.522699</td>\n",
       "      <td>0.805952</td>\n",
       "      <td>0.676900</td>\n",
       "      <td>0.797950</td>\n",
       "      <td>0.711708</td>\n",
       "      <td>0.805952</td>\n",
       "      <td>{'0': {'precision': 0.7238442822384428, 'recall': 0.6625835189309577, 'f1-score': 0.6918604651162791, 'support': 898.0}, '1': {'precision': 0.8377230246389125, 'recall': 0.9176361098185203, 'f1-score': 0.8758605374194981, 'support': 2149.0}, '2': {'precision': 0.7663043478260869, 'recall': 0.4504792332268371, 'f1-score': 0.5674044265593562, 'support': 313.0}, 'accuracy': 0.805952380952381, 'macro avg': {'precision': 0.7759572182344807, 'recall': 0.6768996206587716, 'f1-score': 0.7117084763650444, 'support': 3360.0}, 'weighted avg': {'precision': 0.8006345851990206, 'recall': 0.805952380952381, 'f1-score': 0.7979501720541663, 'support': 3360.0}}</td>\n",
       "    </tr>\n",
       "  </tbody>\n",
       "</table><p>\n",
       "    <div>\n",
       "      \n",
       "      <progress value='420' max='420' style='width:300px; height:20px; vertical-align: middle;'></progress>\n",
       "      [420/420 00:02]\n",
       "    </div>\n",
       "    "
      ],
      "text/plain": [
       "<IPython.core.display.HTML object>"
      ]
     },
     "metadata": {},
     "output_type": "display_data"
    },
    {
     "name": "stderr",
     "output_type": "stream",
     "text": [
      "[I 2024-04-18 15:33:22,927] Trial 30 pruned. \n"
     ]
    },
    {
     "data": {
      "text/html": [
       "Finishing last run (ID:g0oozi0u) before initializing another..."
      ],
      "text/plain": [
       "<IPython.core.display.HTML object>"
      ]
     },
     "metadata": {},
     "output_type": "display_data"
    },
    {
     "data": {
      "text/html": [
       "<style>\n",
       "    table.wandb td:nth-child(1) { padding: 0 10px; text-align: left ; width: auto;} td:nth-child(2) {text-align: left ; width: 100%}\n",
       "    .wandb-row { display: flex; flex-direction: row; flex-wrap: wrap; justify-content: flex-start; width: 100% }\n",
       "    .wandb-col { display: flex; flex-direction: column; flex-basis: 100%; flex: 1; padding: 10px; }\n",
       "    </style>\n",
       "<div class=\"wandb-row\"><div class=\"wandb-col\"><h3>Run history:</h3><br/><table class=\"wandb\"><tr><td>eval/Accuracy</td><td>▁█</td></tr><tr><td>eval/Balanced accuracy</td><td>▁█</td></tr><tr><td>eval/F1 macro</td><td>▁█</td></tr><tr><td>eval/F1 micro</td><td>▁█</td></tr><tr><td>eval/F1 weighted</td><td>▁█</td></tr><tr><td>eval/loss</td><td>█▁</td></tr><tr><td>eval/runtime</td><td>▁█</td></tr><tr><td>eval/samples_per_second</td><td>█▁</td></tr><tr><td>eval/steps_per_second</td><td>█▁</td></tr><tr><td>train/epoch</td><td>▁██</td></tr><tr><td>train/global_step</td><td>▁██</td></tr><tr><td>train/grad_norm</td><td>▁</td></tr><tr><td>train/learning_rate</td><td>▁</td></tr><tr><td>train/loss</td><td>▁</td></tr></table><br/></div><div class=\"wandb-col\"><h3>Run summary:</h3><br/><table class=\"wandb\"><tr><td>eval/Accuracy</td><td>0.81875</td></tr><tr><td>eval/Balanced accuracy</td><td>0.71543</td></tr><tr><td>eval/F1 macro</td><td>0.74226</td></tr><tr><td>eval/F1 micro</td><td>0.81875</td></tr><tr><td>eval/F1 weighted</td><td>0.81215</td></tr><tr><td>eval/loss</td><td>0.49438</td></tr><tr><td>eval/runtime</td><td>2.6744</td></tr><tr><td>eval/samples_per_second</td><td>1256.346</td></tr><tr><td>eval/steps_per_second</td><td>157.043</td></tr><tr><td>train/epoch</td><td>2.0</td></tr><tr><td>train/global_step</td><td>1260</td></tr><tr><td>train/grad_norm</td><td>2.61309</td></tr><tr><td>train/learning_rate</td><td>0.0</td></tr><tr><td>train/loss</td><td>0.5533</td></tr></table><br/></div></div>"
      ],
      "text/plain": [
       "<IPython.core.display.HTML object>"
      ]
     },
     "metadata": {},
     "output_type": "display_data"
    },
    {
     "data": {
      "text/html": [
       " View run <strong style=\"color:#cdcd00\">trial-30</strong> at: <a href='https://wandb.ai/master-2024/DistilBERT/runs/g0oozi0u' target=\"_blank\">https://wandb.ai/master-2024/DistilBERT/runs/g0oozi0u</a><br/>Synced 5 W&B file(s), 0 media file(s), 0 artifact file(s) and 0 other file(s)"
      ],
      "text/plain": [
       "<IPython.core.display.HTML object>"
      ]
     },
     "metadata": {},
     "output_type": "display_data"
    },
    {
     "data": {
      "text/html": [
       "Find logs at: <code>./wandb/run-20240418_153147-g0oozi0u/logs</code>"
      ],
      "text/plain": [
       "<IPython.core.display.HTML object>"
      ]
     },
     "metadata": {},
     "output_type": "display_data"
    },
    {
     "data": {
      "text/html": [
       "Successfully finished last run (ID:g0oozi0u). Initializing new run:<br/>"
      ],
      "text/plain": [
       "<IPython.core.display.HTML object>"
      ]
     },
     "metadata": {},
     "output_type": "display_data"
    },
    {
     "data": {
      "text/html": [
       "wandb version 0.16.6 is available!  To upgrade, please run:\n",
       " $ pip install wandb --upgrade"
      ],
      "text/plain": [
       "<IPython.core.display.HTML object>"
      ]
     },
     "metadata": {},
     "output_type": "display_data"
    },
    {
     "data": {
      "text/html": [
       "Tracking run with wandb version 0.16.4"
      ],
      "text/plain": [
       "<IPython.core.display.HTML object>"
      ]
     },
     "metadata": {},
     "output_type": "display_data"
    },
    {
     "data": {
      "text/html": [
       "Run data is saved locally in <code>/net/fs-2/scale/OrionStore/Home/joteklem/Pytorch_models/wandb/run-20240418_153322-jzomthdu</code>"
      ],
      "text/plain": [
       "<IPython.core.display.HTML object>"
      ]
     },
     "metadata": {},
     "output_type": "display_data"
    },
    {
     "data": {
      "text/html": [
       "Syncing run <strong><a href='https://wandb.ai/master-2024/DistilBERT/runs/jzomthdu' target=\"_blank\">trial-31</a></strong> to <a href='https://wandb.ai/master-2024/DistilBERT' target=\"_blank\">Weights & Biases</a> (<a href='https://wandb.me/run' target=\"_blank\">docs</a>)<br/>"
      ],
      "text/plain": [
       "<IPython.core.display.HTML object>"
      ]
     },
     "metadata": {},
     "output_type": "display_data"
    },
    {
     "data": {
      "text/html": [
       " View project at <a href='https://wandb.ai/master-2024/DistilBERT' target=\"_blank\">https://wandb.ai/master-2024/DistilBERT</a>"
      ],
      "text/plain": [
       "<IPython.core.display.HTML object>"
      ]
     },
     "metadata": {},
     "output_type": "display_data"
    },
    {
     "data": {
      "text/html": [
       " View run at <a href='https://wandb.ai/master-2024/DistilBERT/runs/jzomthdu' target=\"_blank\">https://wandb.ai/master-2024/DistilBERT/runs/jzomthdu</a>"
      ],
      "text/plain": [
       "<IPython.core.display.HTML object>"
      ]
     },
     "metadata": {},
     "output_type": "display_data"
    },
    {
     "name": "stderr",
     "output_type": "stream",
     "text": [
      "/net/fs-2/scale/OrionStore/Scratch/joteklem/MyCondaEnvironments/Python3.11/orion_env/lib/python3.11/site-packages/accelerate/accelerator.py:432: FutureWarning: Passing the following arguments to `Accelerator` is deprecated and will be removed in version 1.0 of Accelerate: dict_keys(['dispatch_batches', 'split_batches', 'even_batches', 'use_seedable_sampler']). Please pass an `accelerate.DataLoaderConfiguration` instead: \n",
      "dataloader_config = DataLoaderConfiguration(dispatch_batches=None, split_batches=False, even_batches=True, use_seedable_sampler=True)\n",
      "  warnings.warn(\n",
      "Detected kernel version 3.10.0, which is below the recommended minimum of 5.5.0; this can cause the process to hang. It is recommended to upgrade the kernel to the minimum version or higher.\n"
     ]
    },
    {
     "name": "stdout",
     "output_type": "stream",
     "text": [
      "Starting trial 31\n"
     ]
    },
    {
     "data": {
      "text/html": [
       "\n",
       "    <div>\n",
       "      \n",
       "      <progress value='631' max='2520' style='width:300px; height:20px; vertical-align: middle;'></progress>\n",
       "      [ 630/2520 00:40 < 02:01, 15.58 it/s, Epoch 1.00/4]\n",
       "    </div>\n",
       "    <table border=\"1\" class=\"dataframe\">\n",
       "  <thead>\n",
       " <tr style=\"text-align: left;\">\n",
       "      <th>Epoch</th>\n",
       "      <th>Training Loss</th>\n",
       "      <th>Validation Loss</th>\n",
       "    </tr>\n",
       "  </thead>\n",
       "  <tbody>\n",
       "  </tbody>\n",
       "</table><p>\n",
       "    <div>\n",
       "      \n",
       "      <progress value='420' max='420' style='width:300px; height:20px; vertical-align: middle;'></progress>\n",
       "      [420/420 00:02]\n",
       "    </div>\n",
       "    "
      ],
      "text/plain": [
       "<IPython.core.display.HTML object>"
      ]
     },
     "metadata": {},
     "output_type": "display_data"
    },
    {
     "name": "stderr",
     "output_type": "stream",
     "text": [
      "[I 2024-04-18 15:34:15,151] Trial 31 pruned. \n"
     ]
    }
   ],
   "source": [
    "# Get the objective function with your dataset included\n",
    "objective_15 = objective_closure(encoded_dataset_15)\n",
    "\n",
    "start_study_15 = time.time()\n",
    "study_15.optimize(objective_15, n_trials=32) #, timeout=600)  \n",
    "end_study_15 = time.time()\n",
    "\n",
    "model_time_study_15 = end_study_15 - start_study_15"
   ]
  },
  {
   "cell_type": "code",
   "execution_count": 25,
   "metadata": {},
   "outputs": [
    {
     "data": {
      "text/html": [
       "Finishing last run (ID:jzomthdu) before initializing another..."
      ],
      "text/plain": [
       "<IPython.core.display.HTML object>"
      ]
     },
     "metadata": {},
     "output_type": "display_data"
    },
    {
     "data": {
      "text/html": [
       "<style>\n",
       "    table.wandb td:nth-child(1) { padding: 0 10px; text-align: left ; width: auto;} td:nth-child(2) {text-align: left ; width: 100%}\n",
       "    .wandb-row { display: flex; flex-direction: row; flex-wrap: wrap; justify-content: flex-start; width: 100% }\n",
       "    .wandb-col { display: flex; flex-direction: column; flex-basis: 100%; flex: 1; padding: 10px; }\n",
       "    </style>\n",
       "<div class=\"wandb-row\"><div class=\"wandb-col\"><h3>Run history:</h3><br/><table class=\"wandb\"><tr><td>eval/Accuracy</td><td>▁</td></tr><tr><td>eval/Balanced accuracy</td><td>▁</td></tr><tr><td>eval/F1 macro</td><td>▁</td></tr><tr><td>eval/F1 micro</td><td>▁</td></tr><tr><td>eval/F1 weighted</td><td>▁</td></tr><tr><td>eval/loss</td><td>▁</td></tr><tr><td>eval/runtime</td><td>▁</td></tr><tr><td>eval/samples_per_second</td><td>▁</td></tr><tr><td>eval/steps_per_second</td><td>▁</td></tr><tr><td>train/epoch</td><td>▁</td></tr><tr><td>train/global_step</td><td>▁</td></tr></table><br/></div><div class=\"wandb-col\"><h3>Run summary:</h3><br/><table class=\"wandb\"><tr><td>eval/Accuracy</td><td>0.79673</td></tr><tr><td>eval/Balanced accuracy</td><td>0.6484</td></tr><tr><td>eval/F1 macro</td><td>0.68538</td></tr><tr><td>eval/F1 micro</td><td>0.79673</td></tr><tr><td>eval/F1 weighted</td><td>0.78565</td></tr><tr><td>eval/loss</td><td>0.5506</td></tr><tr><td>eval/runtime</td><td>2.6647</td></tr><tr><td>eval/samples_per_second</td><td>1260.943</td></tr><tr><td>eval/steps_per_second</td><td>157.618</td></tr><tr><td>train/epoch</td><td>1.0</td></tr><tr><td>train/global_step</td><td>630</td></tr></table><br/></div></div>"
      ],
      "text/plain": [
       "<IPython.core.display.HTML object>"
      ]
     },
     "metadata": {},
     "output_type": "display_data"
    },
    {
     "data": {
      "text/html": [
       " View run <strong style=\"color:#cdcd00\">trial-31</strong> at: <a href='https://wandb.ai/master-2024/DistilBERT/runs/jzomthdu' target=\"_blank\">https://wandb.ai/master-2024/DistilBERT/runs/jzomthdu</a><br/>Synced 5 W&B file(s), 0 media file(s), 0 artifact file(s) and 0 other file(s)"
      ],
      "text/plain": [
       "<IPython.core.display.HTML object>"
      ]
     },
     "metadata": {},
     "output_type": "display_data"
    },
    {
     "data": {
      "text/html": [
       "Find logs at: <code>./wandb/run-20240418_153322-jzomthdu/logs</code>"
      ],
      "text/plain": [
       "<IPython.core.display.HTML object>"
      ]
     },
     "metadata": {},
     "output_type": "display_data"
    },
    {
     "data": {
      "text/html": [
       "Successfully finished last run (ID:jzomthdu). Initializing new run:<br/>"
      ],
      "text/plain": [
       "<IPython.core.display.HTML object>"
      ]
     },
     "metadata": {},
     "output_type": "display_data"
    },
    {
     "data": {
      "text/html": [
       "wandb version 0.16.6 is available!  To upgrade, please run:\n",
       " $ pip install wandb --upgrade"
      ],
      "text/plain": [
       "<IPython.core.display.HTML object>"
      ]
     },
     "metadata": {},
     "output_type": "display_data"
    },
    {
     "data": {
      "text/html": [
       "Tracking run with wandb version 0.16.4"
      ],
      "text/plain": [
       "<IPython.core.display.HTML object>"
      ]
     },
     "metadata": {},
     "output_type": "display_data"
    },
    {
     "data": {
      "text/html": [
       "Run data is saved locally in <code>/net/fs-2/scale/OrionStore/Home/joteklem/Pytorch_models/wandb/run-20240418_153415-wakvcvid</code>"
      ],
      "text/plain": [
       "<IPython.core.display.HTML object>"
      ]
     },
     "metadata": {},
     "output_type": "display_data"
    },
    {
     "data": {
      "text/html": [
       "Syncing run <strong><a href='https://wandb.ai/master-2024/DistilBERT/runs/wakvcvid' target=\"_blank\">trial-0</a></strong> to <a href='https://wandb.ai/master-2024/DistilBERT' target=\"_blank\">Weights & Biases</a> (<a href='https://wandb.me/run' target=\"_blank\">docs</a>)<br/>"
      ],
      "text/plain": [
       "<IPython.core.display.HTML object>"
      ]
     },
     "metadata": {},
     "output_type": "display_data"
    },
    {
     "data": {
      "text/html": [
       " View project at <a href='https://wandb.ai/master-2024/DistilBERT' target=\"_blank\">https://wandb.ai/master-2024/DistilBERT</a>"
      ],
      "text/plain": [
       "<IPython.core.display.HTML object>"
      ]
     },
     "metadata": {},
     "output_type": "display_data"
    },
    {
     "data": {
      "text/html": [
       " View run at <a href='https://wandb.ai/master-2024/DistilBERT/runs/wakvcvid' target=\"_blank\">https://wandb.ai/master-2024/DistilBERT/runs/wakvcvid</a>"
      ],
      "text/plain": [
       "<IPython.core.display.HTML object>"
      ]
     },
     "metadata": {},
     "output_type": "display_data"
    },
    {
     "name": "stderr",
     "output_type": "stream",
     "text": [
      "/net/fs-2/scale/OrionStore/Scratch/joteklem/MyCondaEnvironments/Python3.11/orion_env/lib/python3.11/site-packages/accelerate/accelerator.py:432: FutureWarning: Passing the following arguments to `Accelerator` is deprecated and will be removed in version 1.0 of Accelerate: dict_keys(['dispatch_batches', 'split_batches', 'even_batches', 'use_seedable_sampler']). Please pass an `accelerate.DataLoaderConfiguration` instead: \n",
      "dataloader_config = DataLoaderConfiguration(dispatch_batches=None, split_batches=False, even_batches=True, use_seedable_sampler=True)\n",
      "  warnings.warn(\n",
      "Detected kernel version 3.10.0, which is below the recommended minimum of 5.5.0; this can cause the process to hang. It is recommended to upgrade the kernel to the minimum version or higher.\n"
     ]
    },
    {
     "name": "stdout",
     "output_type": "stream",
     "text": [
      "Starting trial 0\n"
     ]
    },
    {
     "data": {
      "text/html": [
       "\n",
       "    <div>\n",
       "      \n",
       "      <progress value='2532' max='2532' style='width:300px; height:20px; vertical-align: middle;'></progress>\n",
       "      [2532/2532 03:08, Epoch 4/4]\n",
       "    </div>\n",
       "    <table border=\"1\" class=\"dataframe\">\n",
       "  <thead>\n",
       " <tr style=\"text-align: left;\">\n",
       "      <th>Epoch</th>\n",
       "      <th>Training Loss</th>\n",
       "      <th>Validation Loss</th>\n",
       "      <th>Accuracy</th>\n",
       "      <th>Balanced accuracy</th>\n",
       "      <th>F1 weighted</th>\n",
       "      <th>F1 macro</th>\n",
       "      <th>F1 micro</th>\n",
       "      <th>Classification report</th>\n",
       "    </tr>\n",
       "  </thead>\n",
       "  <tbody>\n",
       "    <tr>\n",
       "      <td>1</td>\n",
       "      <td>No log</td>\n",
       "      <td>0.495582</td>\n",
       "      <td>0.814277</td>\n",
       "      <td>0.763765</td>\n",
       "      <td>0.815733</td>\n",
       "      <td>0.743493</td>\n",
       "      <td>0.814277</td>\n",
       "      <td>{'0': {'precision': 0.8158602150537635, 'recall': 0.6744444444444444, 'f1-score': 0.7384428223844282, 'support': 900.0}, '1': {'precision': 0.8698817106460418, 'recall': 0.8843663274745606, 'f1-score': 0.8770642201834862, 'support': 2162.0}, '2': {'precision': 0.5299539170506913, 'recall': 0.732484076433121, 'f1-score': 0.6149732620320855, 'support': 314.0}, 'accuracy': 0.8142772511848341, 'macro avg': {'precision': 0.7385652809168323, 'recall': 0.7637649494507087, 'f1-score': 0.7434934348666666, 'support': 3376.0}, 'weighted avg': {'precision': 0.8238637387200968, 'recall': 0.8142772511848341, 'f1-score': 0.8157325202786604, 'support': 3376.0}}</td>\n",
       "    </tr>\n",
       "    <tr>\n",
       "      <td>2</td>\n",
       "      <td>0.511600</td>\n",
       "      <td>0.458485</td>\n",
       "      <td>0.838270</td>\n",
       "      <td>0.738012</td>\n",
       "      <td>0.832172</td>\n",
       "      <td>0.766256</td>\n",
       "      <td>0.838270</td>\n",
       "      <td>{'0': {'precision': 0.8458274398868458, 'recall': 0.6644444444444444, 'f1-score': 0.7442439327940261, 'support': 900.0}, '1': {'precision': 0.8480066445182725, 'recall': 0.9444958371877891, 'f1-score': 0.8936542669584245, 'support': 2162.0}, '2': {'precision': 0.7279693486590039, 'recall': 0.6050955414012739, 'f1-score': 0.6608695652173914, 'support': 314.0}, 'accuracy': 0.8382701421800948, 'macro avg': {'precision': 0.807267811021374, 'recall': 0.7380119410111692, 'f1-score': 0.7662559216566139, 'support': 3376.0}, 'weighted avg': {'precision': 0.8362610891071071, 'recall': 0.8382701421800948, 'f1-score': 0.8321721291934236, 'support': 3376.0}}</td>\n",
       "    </tr>\n",
       "    <tr>\n",
       "      <td>3</td>\n",
       "      <td>0.511600</td>\n",
       "      <td>0.460395</td>\n",
       "      <td>0.838566</td>\n",
       "      <td>0.756707</td>\n",
       "      <td>0.835026</td>\n",
       "      <td>0.772136</td>\n",
       "      <td>0.838566</td>\n",
       "      <td>{'0': {'precision': 0.8159268929503917, 'recall': 0.6944444444444444, 'f1-score': 0.7503001200480192, 'support': 900.0}, '1': {'precision': 0.8640483383685801, 'recall': 0.9259944495837188, 'f1-score': 0.8939495423085511, 'support': 2162.0}, '2': {'precision': 0.6962457337883959, 'recall': 0.6496815286624203, 'f1-score': 0.6721581548599671, 'support': 314.0}, 'accuracy': 0.8385663507109005, 'macro avg': {'precision': 0.7920736550357893, 'recall': 0.7567068075635278, 'f1-score': 0.7721359390721791, 'support': 3376.0}, 'weighted avg': {'precision': 0.8356125212137971, 'recall': 0.8385663507109005, 'f1-score': 0.8350256751008098, 'support': 3376.0}}</td>\n",
       "    </tr>\n",
       "    <tr>\n",
       "      <td>4</td>\n",
       "      <td>0.317200</td>\n",
       "      <td>0.474902</td>\n",
       "      <td>0.833827</td>\n",
       "      <td>0.756706</td>\n",
       "      <td>0.831385</td>\n",
       "      <td>0.772266</td>\n",
       "      <td>0.833827</td>\n",
       "      <td>{'0': {'precision': 0.7717003567181926, 'recall': 0.7211111111111111, 'f1-score': 0.745548535324526, 'support': 900.0}, '1': {'precision': 0.8694690265486725, 'recall': 0.9088806660499538, 'f1-score': 0.8887381275440976, 'support': 2162.0}, '2': {'precision': 0.730909090909091, 'recall': 0.6401273885350318, 'f1-score': 0.6825127334465195, 'support': 314.0}, 'accuracy': 0.8338270142180095, 'macro avg': {'precision': 0.7906928247253187, 'recall': 0.7567063885653655, 'f1-score': 0.772266465438381, 'support': 3376.0}, 'weighted avg': {'precision': 0.8305177165254911, 'recall': 0.8338270142180095, 'f1-score': 0.8313846302857285, 'support': 3376.0}}</td>\n",
       "    </tr>\n",
       "  </tbody>\n",
       "</table><p>"
      ],
      "text/plain": [
       "<IPython.core.display.HTML object>"
      ]
     },
     "metadata": {},
     "output_type": "display_data"
    },
    {
     "data": {
      "text/html": [
       "\n",
       "    <div>\n",
       "      \n",
       "      <progress value='422' max='422' style='width:300px; height:20px; vertical-align: middle;'></progress>\n",
       "      [422/422 00:02]\n",
       "    </div>\n",
       "    "
      ],
      "text/plain": [
       "<IPython.core.display.HTML object>"
      ]
     },
     "metadata": {},
     "output_type": "display_data"
    },
    {
     "name": "stderr",
     "output_type": "stream",
     "text": [
      "/net/fs-2/scale/OrionStore/Scratch/joteklem/MyCondaEnvironments/Python3.11/orion_env/lib/python3.11/site-packages/optuna/trial/_trial.py:499: UserWarning: The reported value is ignored because this `step` 4.0 is already reported.\n",
      "  warnings.warn(\n"
     ]
    },
    {
     "name": "stdout",
     "output_type": "stream",
     "text": [
      "Completed trial 0\n"
     ]
    },
    {
     "data": {
      "text/html": [
       "<style>\n",
       "    table.wandb td:nth-child(1) { padding: 0 10px; text-align: left ; width: auto;} td:nth-child(2) {text-align: left ; width: 100%}\n",
       "    .wandb-row { display: flex; flex-direction: row; flex-wrap: wrap; justify-content: flex-start; width: 100% }\n",
       "    .wandb-col { display: flex; flex-direction: column; flex-basis: 100%; flex: 1; padding: 10px; }\n",
       "    </style>\n",
       "<div class=\"wandb-row\"><div class=\"wandb-col\"><h3>Run history:</h3><br/><table class=\"wandb\"><tr><td>Macro F1 score</td><td>▁</td></tr><tr><td>Training loss</td><td>▁</td></tr><tr><td>Validation loss</td><td>▁</td></tr><tr><td>eval/Accuracy</td><td>▁██▇▇</td></tr><tr><td>eval/Balanced accuracy</td><td>█▁▆▆▆</td></tr><tr><td>eval/F1 macro</td><td>▁▇███</td></tr><tr><td>eval/F1 micro</td><td>▁██▇▇</td></tr><tr><td>eval/F1 weighted</td><td>▁▇█▇▇</td></tr><tr><td>eval/loss</td><td>█▁▁▄▄</td></tr><tr><td>eval/runtime</td><td>▂▂█▁▁</td></tr><tr><td>eval/samples_per_second</td><td>▇▇▁██</td></tr><tr><td>eval/steps_per_second</td><td>▇▇▁██</td></tr><tr><td>train/epoch</td><td>▁▃▃▆████</td></tr><tr><td>train/global_step</td><td>▁▃▃▆██████</td></tr><tr><td>train/grad_norm</td><td>█▁</td></tr><tr><td>train/learning_rate</td><td>█▁</td></tr><tr><td>train/loss</td><td>█▁</td></tr><tr><td>train/total_flos</td><td>▁</td></tr><tr><td>train/train_loss</td><td>▁</td></tr><tr><td>train/train_runtime</td><td>▁</td></tr><tr><td>train/train_samples_per_second</td><td>▁</td></tr><tr><td>train/train_steps_per_second</td><td>▁</td></tr></table><br/></div><div class=\"wandb-col\"><h3>Run summary:</h3><br/><table class=\"wandb\"><tr><td>Macro F1 score</td><td>0.77227</td></tr><tr><td>Training loss</td><td>0.3172</td></tr><tr><td>Validation loss</td><td>0.46039</td></tr><tr><td>eval/Accuracy</td><td>0.83383</td></tr><tr><td>eval/Balanced accuracy</td><td>0.75671</td></tr><tr><td>eval/F1 macro</td><td>0.77227</td></tr><tr><td>eval/F1 micro</td><td>0.83383</td></tr><tr><td>eval/F1 weighted</td><td>0.83138</td></tr><tr><td>eval/loss</td><td>0.4749</td></tr><tr><td>eval/runtime</td><td>2.8362</td></tr><tr><td>eval/samples_per_second</td><td>1190.317</td></tr><tr><td>eval/steps_per_second</td><td>148.79</td></tr><tr><td>train/epoch</td><td>4.0</td></tr><tr><td>train/global_step</td><td>2532</td></tr><tr><td>train/grad_norm</td><td>8.76905</td></tr><tr><td>train/learning_rate</td><td>0.0</td></tr><tr><td>train/loss</td><td>0.3172</td></tr><tr><td>train/total_flos</td><td>1292644067752224.0</td></tr><tr><td>train/train_loss</td><td>0.41442</td></tr><tr><td>train/train_runtime</td><td>188.7733</td></tr><tr><td>train/train_samples_per_second</td><td>214.607</td></tr><tr><td>train/train_steps_per_second</td><td>13.413</td></tr></table><br/></div></div>"
      ],
      "text/plain": [
       "<IPython.core.display.HTML object>"
      ]
     },
     "metadata": {},
     "output_type": "display_data"
    },
    {
     "data": {
      "text/html": [
       " View run <strong style=\"color:#cdcd00\">trial-0</strong> at: <a href='https://wandb.ai/master-2024/DistilBERT/runs/wakvcvid' target=\"_blank\">https://wandb.ai/master-2024/DistilBERT/runs/wakvcvid</a><br/>Synced 5 W&B file(s), 0 media file(s), 0 artifact file(s) and 0 other file(s)"
      ],
      "text/plain": [
       "<IPython.core.display.HTML object>"
      ]
     },
     "metadata": {},
     "output_type": "display_data"
    },
    {
     "data": {
      "text/html": [
       "Find logs at: <code>./wandb/run-20240418_153415-wakvcvid/logs</code>"
      ],
      "text/plain": [
       "<IPython.core.display.HTML object>"
      ]
     },
     "metadata": {},
     "output_type": "display_data"
    },
    {
     "name": "stderr",
     "output_type": "stream",
     "text": [
      "[I 2024-04-18 15:37:38,927] Trial 0 finished with value: 0.772266465438381 and parameters: {'learning_rate': 1.1557352816269867e-05, 'per_device_train_batch_size': 8, 'weight_decay': 0.2722699421778279, 'num_train_epochs': 4, 'warmup_steps': 38}. Best is trial 0 with value: 0.772266465438381.\n"
     ]
    },
    {
     "data": {
      "text/html": [
       "wandb version 0.16.6 is available!  To upgrade, please run:\n",
       " $ pip install wandb --upgrade"
      ],
      "text/plain": [
       "<IPython.core.display.HTML object>"
      ]
     },
     "metadata": {},
     "output_type": "display_data"
    },
    {
     "data": {
      "text/html": [
       "Tracking run with wandb version 0.16.4"
      ],
      "text/plain": [
       "<IPython.core.display.HTML object>"
      ]
     },
     "metadata": {},
     "output_type": "display_data"
    },
    {
     "data": {
      "text/html": [
       "Run data is saved locally in <code>/net/fs-2/scale/OrionStore/Home/joteklem/Pytorch_models/wandb/run-20240418_153738-kjt78anf</code>"
      ],
      "text/plain": [
       "<IPython.core.display.HTML object>"
      ]
     },
     "metadata": {},
     "output_type": "display_data"
    },
    {
     "data": {
      "text/html": [
       "Syncing run <strong><a href='https://wandb.ai/master-2024/DistilBERT/runs/kjt78anf' target=\"_blank\">trial-1</a></strong> to <a href='https://wandb.ai/master-2024/DistilBERT' target=\"_blank\">Weights & Biases</a> (<a href='https://wandb.me/run' target=\"_blank\">docs</a>)<br/>"
      ],
      "text/plain": [
       "<IPython.core.display.HTML object>"
      ]
     },
     "metadata": {},
     "output_type": "display_data"
    },
    {
     "data": {
      "text/html": [
       " View project at <a href='https://wandb.ai/master-2024/DistilBERT' target=\"_blank\">https://wandb.ai/master-2024/DistilBERT</a>"
      ],
      "text/plain": [
       "<IPython.core.display.HTML object>"
      ]
     },
     "metadata": {},
     "output_type": "display_data"
    },
    {
     "data": {
      "text/html": [
       " View run at <a href='https://wandb.ai/master-2024/DistilBERT/runs/kjt78anf' target=\"_blank\">https://wandb.ai/master-2024/DistilBERT/runs/kjt78anf</a>"
      ],
      "text/plain": [
       "<IPython.core.display.HTML object>"
      ]
     },
     "metadata": {},
     "output_type": "display_data"
    },
    {
     "name": "stderr",
     "output_type": "stream",
     "text": [
      "/net/fs-2/scale/OrionStore/Scratch/joteklem/MyCondaEnvironments/Python3.11/orion_env/lib/python3.11/site-packages/accelerate/accelerator.py:432: FutureWarning: Passing the following arguments to `Accelerator` is deprecated and will be removed in version 1.0 of Accelerate: dict_keys(['dispatch_batches', 'split_batches', 'even_batches', 'use_seedable_sampler']). Please pass an `accelerate.DataLoaderConfiguration` instead: \n",
      "dataloader_config = DataLoaderConfiguration(dispatch_batches=None, split_batches=False, even_batches=True, use_seedable_sampler=True)\n",
      "  warnings.warn(\n",
      "Detected kernel version 3.10.0, which is below the recommended minimum of 5.5.0; this can cause the process to hang. It is recommended to upgrade the kernel to the minimum version or higher.\n"
     ]
    },
    {
     "name": "stdout",
     "output_type": "stream",
     "text": [
      "Starting trial 1\n"
     ]
    },
    {
     "data": {
      "text/html": [
       "\n",
       "    <div>\n",
       "      \n",
       "      <progress value='1580' max='1580' style='width:300px; height:20px; vertical-align: middle;'></progress>\n",
       "      [1580/1580 02:16, Epoch 4/5]\n",
       "    </div>\n",
       "    <table border=\"1\" class=\"dataframe\">\n",
       "  <thead>\n",
       " <tr style=\"text-align: left;\">\n",
       "      <th>Epoch</th>\n",
       "      <th>Training Loss</th>\n",
       "      <th>Validation Loss</th>\n",
       "      <th>Accuracy</th>\n",
       "      <th>Balanced accuracy</th>\n",
       "      <th>F1 weighted</th>\n",
       "      <th>F1 macro</th>\n",
       "      <th>F1 micro</th>\n",
       "      <th>Classification report</th>\n",
       "    </tr>\n",
       "  </thead>\n",
       "  <tbody>\n",
       "    <tr>\n",
       "      <td>0</td>\n",
       "      <td>No log</td>\n",
       "      <td>0.497683</td>\n",
       "      <td>0.817239</td>\n",
       "      <td>0.748928</td>\n",
       "      <td>0.816200</td>\n",
       "      <td>0.742162</td>\n",
       "      <td>0.817239</td>\n",
       "      <td>{'0': {'precision': 0.8392603129445235, 'recall': 0.6555555555555556, 'f1-score': 0.7361197754210855, 'support': 900.0}, '1': {'precision': 0.8565789473684211, 'recall': 0.9033302497687327, 'f1-score': 0.8793336334984243, 'support': 2162.0}, '2': {'precision': 0.549618320610687, 'recall': 0.6878980891719745, 'f1-score': 0.611032531824611, 'support': 314.0}, 'accuracy': 0.817239336492891, 'macro avg': {'precision': 0.7484858603078773, 'recall': 0.7489279648320876, 'f1-score': 0.7421619802480404, 'support': 3376.0}, 'weighted avg': {'precision': 0.8234117649681141, 'recall': 0.817239336492891, 'f1-score': 0.8162000380614628, 'support': 3376.0}}</td>\n",
       "    </tr>\n",
       "    <tr>\n",
       "      <td>2</td>\n",
       "      <td>0.557100</td>\n",
       "      <td>0.472235</td>\n",
       "      <td>0.836197</td>\n",
       "      <td>0.756594</td>\n",
       "      <td>0.831956</td>\n",
       "      <td>0.773478</td>\n",
       "      <td>0.836197</td>\n",
       "      <td>{'0': {'precision': 0.8142664872139973, 'recall': 0.6722222222222223, 'f1-score': 0.7364576993304931, 'support': 900.0}, '1': {'precision': 0.8581196581196581, 'recall': 0.9287696577243293, 'f1-score': 0.8920479786761439, 'support': 2162.0}, '2': {'precision': 0.7167235494880546, 'recall': 0.6687898089171974, 'f1-score': 0.6919275123558484, 'support': 314.0}, 'accuracy': 0.836196682464455, 'macro avg': {'precision': 0.7963698982739033, 'recall': 0.7565938962879164, 'f1-score': 0.7734777301208284, 'support': 3376.0}, 'weighted avg': {'precision': 0.8332777647768209, 'recall': 0.836196682464455, 'f1-score': 0.831956427184539, 'support': 3376.0}}</td>\n",
       "    </tr>\n",
       "    <tr>\n",
       "      <td>4</td>\n",
       "      <td>0.245300</td>\n",
       "      <td>0.607608</td>\n",
       "      <td>0.831457</td>\n",
       "      <td>0.756941</td>\n",
       "      <td>0.828918</td>\n",
       "      <td>0.774576</td>\n",
       "      <td>0.831457</td>\n",
       "      <td>{'0': {'precision': 0.7589073634204275, 'recall': 0.71, 'f1-score': 0.7336394948335246, 'support': 900.0}, '1': {'precision': 0.8666666666666667, 'recall': 0.9079555966697502, 'f1-score': 0.8868308109329117, 'support': 2162.0}, '2': {'precision': 0.7620817843866171, 'recall': 0.6528662420382165, 'f1-score': 0.7032590051457975, 'support': 314.0}, 'accuracy': 0.831457345971564, 'macro avg': {'precision': 0.7958852714912371, 'recall': 0.7569406129026556, 'f1-score': 0.7745764369707446, 'support': 3376.0}, 'weighted avg': {'precision': 0.828211978883032, 'recall': 0.831457345971564, 'f1-score': 0.8289179757710035, 'support': 3376.0}}</td>\n",
       "    </tr>\n",
       "  </tbody>\n",
       "</table><p>"
      ],
      "text/plain": [
       "<IPython.core.display.HTML object>"
      ]
     },
     "metadata": {},
     "output_type": "display_data"
    },
    {
     "data": {
      "text/html": [
       "\n",
       "    <div>\n",
       "      \n",
       "      <progress value='211' max='211' style='width:300px; height:20px; vertical-align: middle;'></progress>\n",
       "      [211/211 00:01]\n",
       "    </div>\n",
       "    "
      ],
      "text/plain": [
       "<IPython.core.display.HTML object>"
      ]
     },
     "metadata": {},
     "output_type": "display_data"
    },
    {
     "name": "stderr",
     "output_type": "stream",
     "text": [
      "/net/fs-2/scale/OrionStore/Scratch/joteklem/MyCondaEnvironments/Python3.11/orion_env/lib/python3.11/site-packages/optuna/trial/_trial.py:499: UserWarning: The reported value is ignored because this `step` 4.992101105845181 is already reported.\n",
      "  warnings.warn(\n"
     ]
    },
    {
     "name": "stdout",
     "output_type": "stream",
     "text": [
      "Completed trial 1\n"
     ]
    },
    {
     "data": {
      "text/html": [
       "<style>\n",
       "    table.wandb td:nth-child(1) { padding: 0 10px; text-align: left ; width: auto;} td:nth-child(2) {text-align: left ; width: 100%}\n",
       "    .wandb-row { display: flex; flex-direction: row; flex-wrap: wrap; justify-content: flex-start; width: 100% }\n",
       "    .wandb-col { display: flex; flex-direction: column; flex-basis: 100%; flex: 1; padding: 10px; }\n",
       "    </style>\n",
       "<div class=\"wandb-row\"><div class=\"wandb-col\"><h3>Run history:</h3><br/><table class=\"wandb\"><tr><td>Macro F1 score</td><td>▁</td></tr><tr><td>Training loss</td><td>▁</td></tr><tr><td>Validation loss</td><td>▁</td></tr><tr><td>eval/Accuracy</td><td>▁██▆▆▆</td></tr><tr><td>eval/Balanced accuracy</td><td>▄▁▅█▅▅</td></tr><tr><td>eval/F1 macro</td><td>▁▄▇█▇▇</td></tr><tr><td>eval/F1 micro</td><td>▁██▆▆▆</td></tr><tr><td>eval/F1 weighted</td><td>▁▆██▇▇</td></tr><tr><td>eval/loss</td><td>▃▁▂▆██</td></tr><tr><td>eval/runtime</td><td>▃▁▃▂▄█</td></tr><tr><td>eval/samples_per_second</td><td>▆█▆▇▅▁</td></tr><tr><td>eval/steps_per_second</td><td>▆█▆▇▅▁</td></tr><tr><td>train/epoch</td><td>▁▃▃▅▆▆███</td></tr><tr><td>train/global_step</td><td>▁▃▃▅▆▆█████</td></tr><tr><td>train/grad_norm</td><td>▁█</td></tr><tr><td>train/learning_rate</td><td>█▁</td></tr><tr><td>train/loss</td><td>█▁</td></tr><tr><td>train/total_flos</td><td>▁</td></tr><tr><td>train/train_loss</td><td>▁</td></tr><tr><td>train/train_runtime</td><td>▁</td></tr><tr><td>train/train_samples_per_second</td><td>▁</td></tr><tr><td>train/train_steps_per_second</td><td>▁</td></tr></table><br/></div><div class=\"wandb-col\"><h3>Run summary:</h3><br/><table class=\"wandb\"><tr><td>Macro F1 score</td><td>0.77458</td></tr><tr><td>Training loss</td><td>0.2453</td></tr><tr><td>Validation loss</td><td>0.5557</td></tr><tr><td>eval/Accuracy</td><td>0.83146</td></tr><tr><td>eval/Balanced accuracy</td><td>0.75694</td></tr><tr><td>eval/F1 macro</td><td>0.77458</td></tr><tr><td>eval/F1 micro</td><td>0.83146</td></tr><tr><td>eval/F1 weighted</td><td>0.82892</td></tr><tr><td>eval/loss</td><td>0.60761</td></tr><tr><td>eval/runtime</td><td>1.9864</td></tr><tr><td>eval/samples_per_second</td><td>1699.565</td></tr><tr><td>eval/steps_per_second</td><td>106.223</td></tr><tr><td>train/epoch</td><td>4.99</td></tr><tr><td>train/global_step</td><td>1580</td></tr><tr><td>train/grad_norm</td><td>7.52047</td></tr><tr><td>train/learning_rate</td><td>1e-05</td></tr><tr><td>train/loss</td><td>0.2453</td></tr><tr><td>train/total_flos</td><td>1798442593102080.0</td></tr><tr><td>train/train_loss</td><td>0.34705</td></tr><tr><td>train/train_runtime</td><td>136.4519</td></tr><tr><td>train/train_samples_per_second</td><td>371.12</td></tr><tr><td>train/train_steps_per_second</td><td>11.579</td></tr></table><br/></div></div>"
      ],
      "text/plain": [
       "<IPython.core.display.HTML object>"
      ]
     },
     "metadata": {},
     "output_type": "display_data"
    },
    {
     "data": {
      "text/html": [
       " View run <strong style=\"color:#cdcd00\">trial-1</strong> at: <a href='https://wandb.ai/master-2024/DistilBERT/runs/kjt78anf' target=\"_blank\">https://wandb.ai/master-2024/DistilBERT/runs/kjt78anf</a><br/>Synced 5 W&B file(s), 0 media file(s), 0 artifact file(s) and 0 other file(s)"
      ],
      "text/plain": [
       "<IPython.core.display.HTML object>"
      ]
     },
     "metadata": {},
     "output_type": "display_data"
    },
    {
     "data": {
      "text/html": [
       "Find logs at: <code>./wandb/run-20240418_153738-kjt78anf/logs</code>"
      ],
      "text/plain": [
       "<IPython.core.display.HTML object>"
      ]
     },
     "metadata": {},
     "output_type": "display_data"
    },
    {
     "name": "stderr",
     "output_type": "stream",
     "text": [
      "[I 2024-04-18 15:40:06,392] Trial 1 finished with value: 0.7745764369707446 and parameters: {'learning_rate': 3.797544798678414e-05, 'per_device_train_batch_size': 16, 'weight_decay': 0.19002112695312703, 'num_train_epochs': 5, 'warmup_steps': 270}. Best is trial 1 with value: 0.7745764369707446.\n"
     ]
    },
    {
     "data": {
      "text/html": [
       "wandb version 0.16.6 is available!  To upgrade, please run:\n",
       " $ pip install wandb --upgrade"
      ],
      "text/plain": [
       "<IPython.core.display.HTML object>"
      ]
     },
     "metadata": {},
     "output_type": "display_data"
    },
    {
     "data": {
      "text/html": [
       "Tracking run with wandb version 0.16.4"
      ],
      "text/plain": [
       "<IPython.core.display.HTML object>"
      ]
     },
     "metadata": {},
     "output_type": "display_data"
    },
    {
     "data": {
      "text/html": [
       "Run data is saved locally in <code>/net/fs-2/scale/OrionStore/Home/joteklem/Pytorch_models/wandb/run-20240418_154006-yeni1h4q</code>"
      ],
      "text/plain": [
       "<IPython.core.display.HTML object>"
      ]
     },
     "metadata": {},
     "output_type": "display_data"
    },
    {
     "data": {
      "text/html": [
       "Syncing run <strong><a href='https://wandb.ai/master-2024/DistilBERT/runs/yeni1h4q' target=\"_blank\">trial-2</a></strong> to <a href='https://wandb.ai/master-2024/DistilBERT' target=\"_blank\">Weights & Biases</a> (<a href='https://wandb.me/run' target=\"_blank\">docs</a>)<br/>"
      ],
      "text/plain": [
       "<IPython.core.display.HTML object>"
      ]
     },
     "metadata": {},
     "output_type": "display_data"
    },
    {
     "data": {
      "text/html": [
       " View project at <a href='https://wandb.ai/master-2024/DistilBERT' target=\"_blank\">https://wandb.ai/master-2024/DistilBERT</a>"
      ],
      "text/plain": [
       "<IPython.core.display.HTML object>"
      ]
     },
     "metadata": {},
     "output_type": "display_data"
    },
    {
     "data": {
      "text/html": [
       " View run at <a href='https://wandb.ai/master-2024/DistilBERT/runs/yeni1h4q' target=\"_blank\">https://wandb.ai/master-2024/DistilBERT/runs/yeni1h4q</a>"
      ],
      "text/plain": [
       "<IPython.core.display.HTML object>"
      ]
     },
     "metadata": {},
     "output_type": "display_data"
    },
    {
     "name": "stderr",
     "output_type": "stream",
     "text": [
      "/net/fs-2/scale/OrionStore/Scratch/joteklem/MyCondaEnvironments/Python3.11/orion_env/lib/python3.11/site-packages/accelerate/accelerator.py:432: FutureWarning: Passing the following arguments to `Accelerator` is deprecated and will be removed in version 1.0 of Accelerate: dict_keys(['dispatch_batches', 'split_batches', 'even_batches', 'use_seedable_sampler']). Please pass an `accelerate.DataLoaderConfiguration` instead: \n",
      "dataloader_config = DataLoaderConfiguration(dispatch_batches=None, split_batches=False, even_batches=True, use_seedable_sampler=True)\n",
      "  warnings.warn(\n",
      "Detected kernel version 3.10.0, which is below the recommended minimum of 5.5.0; this can cause the process to hang. It is recommended to upgrade the kernel to the minimum version or higher.\n"
     ]
    },
    {
     "name": "stdout",
     "output_type": "stream",
     "text": [
      "Starting trial 2\n"
     ]
    },
    {
     "data": {
      "text/html": [
       "\n",
       "    <div>\n",
       "      \n",
       "      <progress value='2532' max='2532' style='width:300px; height:20px; vertical-align: middle;'></progress>\n",
       "      [2532/2532 03:06, Epoch 4/4]\n",
       "    </div>\n",
       "    <table border=\"1\" class=\"dataframe\">\n",
       "  <thead>\n",
       " <tr style=\"text-align: left;\">\n",
       "      <th>Epoch</th>\n",
       "      <th>Training Loss</th>\n",
       "      <th>Validation Loss</th>\n",
       "      <th>Accuracy</th>\n",
       "      <th>Balanced accuracy</th>\n",
       "      <th>F1 weighted</th>\n",
       "      <th>F1 macro</th>\n",
       "      <th>F1 micro</th>\n",
       "      <th>Classification report</th>\n",
       "    </tr>\n",
       "  </thead>\n",
       "  <tbody>\n",
       "    <tr>\n",
       "      <td>1</td>\n",
       "      <td>No log</td>\n",
       "      <td>0.855464</td>\n",
       "      <td>0.640403</td>\n",
       "      <td>0.333333</td>\n",
       "      <td>0.500018</td>\n",
       "      <td>0.260262</td>\n",
       "      <td>0.640403</td>\n",
       "      <td>{'0': {'precision': 0.0, 'recall': 0.0, 'f1-score': 0.0, 'support': 900.0}, '1': {'precision': 0.6404028436018957, 'recall': 1.0, 'f1-score': 0.7807872878295413, 'support': 2162.0}, '2': {'precision': 0.0, 'recall': 0.0, 'f1-score': 0.0, 'support': 314.0}, 'accuracy': 0.6404028436018957, 'macro avg': {'precision': 0.21346761453396523, 'recall': 0.3333333333333333, 'f1-score': 0.2602624292765138, 'support': 3376.0}, 'weighted avg': {'precision': 0.4101158020933941, 'recall': 0.6404028436018957, 'f1-score': 0.5000183993742501, 'support': 3376.0}}</td>\n",
       "    </tr>\n",
       "    <tr>\n",
       "      <td>2</td>\n",
       "      <td>0.834400</td>\n",
       "      <td>0.890919</td>\n",
       "      <td>0.640403</td>\n",
       "      <td>0.333333</td>\n",
       "      <td>0.500018</td>\n",
       "      <td>0.260262</td>\n",
       "      <td>0.640403</td>\n",
       "      <td>{'0': {'precision': 0.0, 'recall': 0.0, 'f1-score': 0.0, 'support': 900.0}, '1': {'precision': 0.6404028436018957, 'recall': 1.0, 'f1-score': 0.7807872878295413, 'support': 2162.0}, '2': {'precision': 0.0, 'recall': 0.0, 'f1-score': 0.0, 'support': 314.0}, 'accuracy': 0.6404028436018957, 'macro avg': {'precision': 0.21346761453396523, 'recall': 0.3333333333333333, 'f1-score': 0.2602624292765138, 'support': 3376.0}, 'weighted avg': {'precision': 0.4101158020933941, 'recall': 0.6404028436018957, 'f1-score': 0.5000183993742501, 'support': 3376.0}}</td>\n",
       "    </tr>\n",
       "    <tr>\n",
       "      <td>3</td>\n",
       "      <td>0.834400</td>\n",
       "      <td>0.865002</td>\n",
       "      <td>0.640403</td>\n",
       "      <td>0.333333</td>\n",
       "      <td>0.500018</td>\n",
       "      <td>0.260262</td>\n",
       "      <td>0.640403</td>\n",
       "      <td>{'0': {'precision': 0.0, 'recall': 0.0, 'f1-score': 0.0, 'support': 900.0}, '1': {'precision': 0.6404028436018957, 'recall': 1.0, 'f1-score': 0.7807872878295413, 'support': 2162.0}, '2': {'precision': 0.0, 'recall': 0.0, 'f1-score': 0.0, 'support': 314.0}, 'accuracy': 0.6404028436018957, 'macro avg': {'precision': 0.21346761453396523, 'recall': 0.3333333333333333, 'f1-score': 0.2602624292765138, 'support': 3376.0}, 'weighted avg': {'precision': 0.4101158020933941, 'recall': 0.6404028436018957, 'f1-score': 0.5000183993742501, 'support': 3376.0}}</td>\n",
       "    </tr>\n",
       "    <tr>\n",
       "      <td>4</td>\n",
       "      <td>0.863200</td>\n",
       "      <td>0.859114</td>\n",
       "      <td>0.640403</td>\n",
       "      <td>0.333333</td>\n",
       "      <td>0.500018</td>\n",
       "      <td>0.260262</td>\n",
       "      <td>0.640403</td>\n",
       "      <td>{'0': {'precision': 0.0, 'recall': 0.0, 'f1-score': 0.0, 'support': 900.0}, '1': {'precision': 0.6404028436018957, 'recall': 1.0, 'f1-score': 0.7807872878295413, 'support': 2162.0}, '2': {'precision': 0.0, 'recall': 0.0, 'f1-score': 0.0, 'support': 314.0}, 'accuracy': 0.6404028436018957, 'macro avg': {'precision': 0.21346761453396523, 'recall': 0.3333333333333333, 'f1-score': 0.2602624292765138, 'support': 3376.0}, 'weighted avg': {'precision': 0.4101158020933941, 'recall': 0.6404028436018957, 'f1-score': 0.5000183993742501, 'support': 3376.0}}</td>\n",
       "    </tr>\n",
       "  </tbody>\n",
       "</table><p>"
      ],
      "text/plain": [
       "<IPython.core.display.HTML object>"
      ]
     },
     "metadata": {},
     "output_type": "display_data"
    },
    {
     "data": {
      "text/html": [
       "\n",
       "    <div>\n",
       "      \n",
       "      <progress value='422' max='422' style='width:300px; height:20px; vertical-align: middle;'></progress>\n",
       "      [422/422 00:02]\n",
       "    </div>\n",
       "    "
      ],
      "text/plain": [
       "<IPython.core.display.HTML object>"
      ]
     },
     "metadata": {},
     "output_type": "display_data"
    },
    {
     "name": "stderr",
     "output_type": "stream",
     "text": [
      "/net/fs-2/scale/OrionStore/Scratch/joteklem/MyCondaEnvironments/Python3.11/orion_env/lib/python3.11/site-packages/optuna/trial/_trial.py:499: UserWarning: The reported value is ignored because this `step` 4.0 is already reported.\n",
      "  warnings.warn(\n"
     ]
    },
    {
     "name": "stdout",
     "output_type": "stream",
     "text": [
      "Completed trial 2\n"
     ]
    },
    {
     "data": {
      "text/html": [
       "<style>\n",
       "    table.wandb td:nth-child(1) { padding: 0 10px; text-align: left ; width: auto;} td:nth-child(2) {text-align: left ; width: 100%}\n",
       "    .wandb-row { display: flex; flex-direction: row; flex-wrap: wrap; justify-content: flex-start; width: 100% }\n",
       "    .wandb-col { display: flex; flex-direction: column; flex-basis: 100%; flex: 1; padding: 10px; }\n",
       "    </style>\n",
       "<div class=\"wandb-row\"><div class=\"wandb-col\"><h3>Run history:</h3><br/><table class=\"wandb\"><tr><td>Macro F1 score</td><td>▁</td></tr><tr><td>Training loss</td><td>▁</td></tr><tr><td>Validation loss</td><td>▁</td></tr><tr><td>eval/Accuracy</td><td>▁▁▁▁▁</td></tr><tr><td>eval/Balanced accuracy</td><td>▁▁▁▁▁</td></tr><tr><td>eval/F1 macro</td><td>▁▁▁▁▁</td></tr><tr><td>eval/F1 micro</td><td>▁▁▁▁▁</td></tr><tr><td>eval/F1 weighted</td><td>▁▁▁▁▁</td></tr><tr><td>eval/loss</td><td>▁█▃▂▂</td></tr><tr><td>eval/runtime</td><td>▅▅▆▁█</td></tr><tr><td>eval/samples_per_second</td><td>▄▄▃█▁</td></tr><tr><td>eval/steps_per_second</td><td>▄▄▃█▁</td></tr><tr><td>train/epoch</td><td>▁▃▃▆████</td></tr><tr><td>train/global_step</td><td>▁▃▃▆██████</td></tr><tr><td>train/grad_norm</td><td>█▁</td></tr><tr><td>train/learning_rate</td><td>█▁</td></tr><tr><td>train/loss</td><td>▁█</td></tr><tr><td>train/total_flos</td><td>▁</td></tr><tr><td>train/train_loss</td><td>▁</td></tr><tr><td>train/train_runtime</td><td>▁</td></tr><tr><td>train/train_samples_per_second</td><td>▁</td></tr><tr><td>train/train_steps_per_second</td><td>▁</td></tr></table><br/></div><div class=\"wandb-col\"><h3>Run summary:</h3><br/><table class=\"wandb\"><tr><td>Macro F1 score</td><td>0.26026</td></tr><tr><td>Training loss</td><td>0.8632</td></tr><tr><td>Validation loss</td><td>0.865</td></tr><tr><td>eval/Accuracy</td><td>0.6404</td></tr><tr><td>eval/Balanced accuracy</td><td>0.33333</td></tr><tr><td>eval/F1 macro</td><td>0.26026</td></tr><tr><td>eval/F1 micro</td><td>0.6404</td></tr><tr><td>eval/F1 weighted</td><td>0.50002</td></tr><tr><td>eval/loss</td><td>0.85911</td></tr><tr><td>eval/runtime</td><td>2.8526</td></tr><tr><td>eval/samples_per_second</td><td>1183.469</td></tr><tr><td>eval/steps_per_second</td><td>147.934</td></tr><tr><td>train/epoch</td><td>4.0</td></tr><tr><td>train/global_step</td><td>2532</td></tr><tr><td>train/grad_norm</td><td>1.03525</td></tr><tr><td>train/learning_rate</td><td>0.0</td></tr><tr><td>train/loss</td><td>0.8632</td></tr><tr><td>train/total_flos</td><td>1292644067752224.0</td></tr><tr><td>train/train_loss</td><td>0.84878</td></tr><tr><td>train/train_runtime</td><td>186.2417</td></tr><tr><td>train/train_samples_per_second</td><td>217.524</td></tr><tr><td>train/train_steps_per_second</td><td>13.595</td></tr></table><br/></div></div>"
      ],
      "text/plain": [
       "<IPython.core.display.HTML object>"
      ]
     },
     "metadata": {},
     "output_type": "display_data"
    },
    {
     "data": {
      "text/html": [
       " View run <strong style=\"color:#cdcd00\">trial-2</strong> at: <a href='https://wandb.ai/master-2024/DistilBERT/runs/yeni1h4q' target=\"_blank\">https://wandb.ai/master-2024/DistilBERT/runs/yeni1h4q</a><br/>Synced 5 W&B file(s), 0 media file(s), 0 artifact file(s) and 0 other file(s)"
      ],
      "text/plain": [
       "<IPython.core.display.HTML object>"
      ]
     },
     "metadata": {},
     "output_type": "display_data"
    },
    {
     "data": {
      "text/html": [
       "Find logs at: <code>./wandb/run-20240418_154006-yeni1h4q/logs</code>"
      ],
      "text/plain": [
       "<IPython.core.display.HTML object>"
      ]
     },
     "metadata": {},
     "output_type": "display_data"
    },
    {
     "name": "stderr",
     "output_type": "stream",
     "text": [
      "[I 2024-04-18 15:43:26,201] Trial 2 finished with value: 0.2602624292765138 and parameters: {'learning_rate': 0.00041198396246051877, 'per_device_train_batch_size': 8, 'weight_decay': 0.0683805487625825, 'num_train_epochs': 4, 'warmup_steps': 255}. Best is trial 1 with value: 0.7745764369707446.\n"
     ]
    },
    {
     "data": {
      "text/html": [
       "wandb version 0.16.6 is available!  To upgrade, please run:\n",
       " $ pip install wandb --upgrade"
      ],
      "text/plain": [
       "<IPython.core.display.HTML object>"
      ]
     },
     "metadata": {},
     "output_type": "display_data"
    },
    {
     "data": {
      "text/html": [
       "Tracking run with wandb version 0.16.4"
      ],
      "text/plain": [
       "<IPython.core.display.HTML object>"
      ]
     },
     "metadata": {},
     "output_type": "display_data"
    },
    {
     "data": {
      "text/html": [
       "Run data is saved locally in <code>/net/fs-2/scale/OrionStore/Home/joteklem/Pytorch_models/wandb/run-20240418_154326-xy6d1g3c</code>"
      ],
      "text/plain": [
       "<IPython.core.display.HTML object>"
      ]
     },
     "metadata": {},
     "output_type": "display_data"
    },
    {
     "data": {
      "text/html": [
       "Syncing run <strong><a href='https://wandb.ai/master-2024/DistilBERT/runs/xy6d1g3c' target=\"_blank\">trial-3</a></strong> to <a href='https://wandb.ai/master-2024/DistilBERT' target=\"_blank\">Weights & Biases</a> (<a href='https://wandb.me/run' target=\"_blank\">docs</a>)<br/>"
      ],
      "text/plain": [
       "<IPython.core.display.HTML object>"
      ]
     },
     "metadata": {},
     "output_type": "display_data"
    },
    {
     "data": {
      "text/html": [
       " View project at <a href='https://wandb.ai/master-2024/DistilBERT' target=\"_blank\">https://wandb.ai/master-2024/DistilBERT</a>"
      ],
      "text/plain": [
       "<IPython.core.display.HTML object>"
      ]
     },
     "metadata": {},
     "output_type": "display_data"
    },
    {
     "data": {
      "text/html": [
       " View run at <a href='https://wandb.ai/master-2024/DistilBERT/runs/xy6d1g3c' target=\"_blank\">https://wandb.ai/master-2024/DistilBERT/runs/xy6d1g3c</a>"
      ],
      "text/plain": [
       "<IPython.core.display.HTML object>"
      ]
     },
     "metadata": {},
     "output_type": "display_data"
    },
    {
     "name": "stderr",
     "output_type": "stream",
     "text": [
      "/net/fs-2/scale/OrionStore/Scratch/joteklem/MyCondaEnvironments/Python3.11/orion_env/lib/python3.11/site-packages/accelerate/accelerator.py:432: FutureWarning: Passing the following arguments to `Accelerator` is deprecated and will be removed in version 1.0 of Accelerate: dict_keys(['dispatch_batches', 'split_batches', 'even_batches', 'use_seedable_sampler']). Please pass an `accelerate.DataLoaderConfiguration` instead: \n",
      "dataloader_config = DataLoaderConfiguration(dispatch_batches=None, split_batches=False, even_batches=True, use_seedable_sampler=True)\n",
      "  warnings.warn(\n",
      "Detected kernel version 3.10.0, which is below the recommended minimum of 5.5.0; this can cause the process to hang. It is recommended to upgrade the kernel to the minimum version or higher.\n"
     ]
    },
    {
     "name": "stdout",
     "output_type": "stream",
     "text": [
      "Starting trial 3\n"
     ]
    },
    {
     "data": {
      "text/html": [
       "\n",
       "    <div>\n",
       "      \n",
       "      <progress value='632' max='632' style='width:300px; height:20px; vertical-align: middle;'></progress>\n",
       "      [632/632 01:26, Epoch 3/4]\n",
       "    </div>\n",
       "    <table border=\"1\" class=\"dataframe\">\n",
       "  <thead>\n",
       " <tr style=\"text-align: left;\">\n",
       "      <th>Epoch</th>\n",
       "      <th>Training Loss</th>\n",
       "      <th>Validation Loss</th>\n",
       "      <th>Accuracy</th>\n",
       "      <th>Balanced accuracy</th>\n",
       "      <th>F1 weighted</th>\n",
       "      <th>F1 macro</th>\n",
       "      <th>F1 micro</th>\n",
       "      <th>Classification report</th>\n",
       "    </tr>\n",
       "  </thead>\n",
       "  <tbody>\n",
       "    <tr>\n",
       "      <td>0</td>\n",
       "      <td>No log</td>\n",
       "      <td>0.534443</td>\n",
       "      <td>0.807168</td>\n",
       "      <td>0.688381</td>\n",
       "      <td>0.802107</td>\n",
       "      <td>0.705701</td>\n",
       "      <td>0.807168</td>\n",
       "      <td>{'0': {'precision': 0.7903645833333334, 'recall': 0.6744444444444444, 'f1-score': 0.7278177458033573, 'support': 900.0}, '1': {'precision': 0.8423982869379015, 'recall': 0.9098057354301573, 'f1-score': 0.8748054258394485, 'support': 2162.0}, '2': {'precision': 0.5531135531135531, 'recall': 0.48089171974522293, 'f1-score': 0.5144804088586031, 'support': 314.0}, 'accuracy': 0.8071682464454977, 'macro avg': {'precision': 0.728625474461596, 'recall': 0.6883806332066081, 'f1-score': 0.7057011935004697, 'support': 3376.0}, 'weighted avg': {'precision': 0.8016205204494666, 'recall': 0.8071682464454977, 'f1-score': 0.802106679582201, 'support': 3376.0}}</td>\n",
       "    </tr>\n",
       "    <tr>\n",
       "      <td>2</td>\n",
       "      <td>0.638700</td>\n",
       "      <td>0.474363</td>\n",
       "      <td>0.830569</td>\n",
       "      <td>0.730456</td>\n",
       "      <td>0.823621</td>\n",
       "      <td>0.756367</td>\n",
       "      <td>0.830569</td>\n",
       "      <td>{'0': {'precision': 0.8479880774962743, 'recall': 0.6322222222222222, 'f1-score': 0.7243793761935075, 'support': 900.0}, '1': {'precision': 0.8403292181069959, 'recall': 0.9444958371877891, 'f1-score': 0.8893728222996515, 'support': 2162.0}, '2': {'precision': 0.7018181818181818, 'recall': 0.6146496815286624, 'f1-score': 0.6553480475382003, 'support': 314.0}, 'accuracy': 0.830568720379147, 'macro avg': {'precision': 0.7967118258071507, 'recall': 0.7304559136462245, 'f1-score': 0.7563667486771198, 'support': 3376.0}, 'weighted avg': {'precision': 0.8294881363699294, 'recall': 0.830568720379147, 'f1-score': 0.8236210803652245, 'support': 3376.0}}</td>\n",
       "    </tr>\n",
       "    <tr>\n",
       "      <td>3</td>\n",
       "      <td>0.327700</td>\n",
       "      <td>0.487618</td>\n",
       "      <td>0.836197</td>\n",
       "      <td>0.758156</td>\n",
       "      <td>0.833643</td>\n",
       "      <td>0.777142</td>\n",
       "      <td>0.836197</td>\n",
       "      <td>{'0': {'precision': 0.7629107981220657, 'recall': 0.7222222222222222, 'f1-score': 0.7420091324200915, 'support': 900.0}, '1': {'precision': 0.8717948717948718, 'recall': 0.9121184088806661, 'f1-score': 0.891500904159132, 'support': 2162.0}, '2': {'precision': 0.767175572519084, 'recall': 0.6401273885350318, 'f1-score': 0.6979166666666666, 'support': 314.0}, 'accuracy': 0.836196682464455, 'macro avg': {'precision': 0.8006270808120072, 'recall': 0.7581560065459735, 'f1-score': 0.7771422344152966, 'support': 3376.0}, 'weighted avg': {'precision': 0.8330371329684136, 'recall': 0.836196682464455, 'f1-score': 0.8336430708837261, 'support': 3376.0}}</td>\n",
       "    </tr>\n",
       "  </tbody>\n",
       "</table><p>"
      ],
      "text/plain": [
       "<IPython.core.display.HTML object>"
      ]
     },
     "metadata": {},
     "output_type": "display_data"
    },
    {
     "data": {
      "text/html": [
       "\n",
       "    <div>\n",
       "      \n",
       "      <progress value='106' max='106' style='width:300px; height:20px; vertical-align: middle;'></progress>\n",
       "      [106/106 00:01]\n",
       "    </div>\n",
       "    "
      ],
      "text/plain": [
       "<IPython.core.display.HTML object>"
      ]
     },
     "metadata": {},
     "output_type": "display_data"
    },
    {
     "name": "stderr",
     "output_type": "stream",
     "text": [
      "/net/fs-2/scale/OrionStore/Scratch/joteklem/MyCondaEnvironments/Python3.11/orion_env/lib/python3.11/site-packages/optuna/trial/_trial.py:499: UserWarning: The reported value is ignored because this `step` 3.9873817034700316 is already reported.\n",
      "  warnings.warn(\n"
     ]
    },
    {
     "name": "stdout",
     "output_type": "stream",
     "text": [
      "Completed trial 3\n"
     ]
    },
    {
     "data": {
      "text/html": [
       "<style>\n",
       "    table.wandb td:nth-child(1) { padding: 0 10px; text-align: left ; width: auto;} td:nth-child(2) {text-align: left ; width: 100%}\n",
       "    .wandb-row { display: flex; flex-direction: row; flex-wrap: wrap; justify-content: flex-start; width: 100% }\n",
       "    .wandb-col { display: flex; flex-direction: column; flex-basis: 100%; flex: 1; padding: 10px; }\n",
       "    </style>\n",
       "<div class=\"wandb-row\"><div class=\"wandb-col\"><h3>Run history:</h3><br/><table class=\"wandb\"><tr><td>Macro F1 score</td><td>▁</td></tr><tr><td>Training loss</td><td>▁</td></tr><tr><td>Validation loss</td><td>▁</td></tr><tr><td>eval/Accuracy</td><td>▁▅▇██</td></tr><tr><td>eval/Balanced accuracy</td><td>▁▂▅██</td></tr><tr><td>eval/F1 macro</td><td>▁▄▆██</td></tr><tr><td>eval/F1 micro</td><td>▁▅▇██</td></tr><tr><td>eval/F1 weighted</td><td>▁▄▆██</td></tr><tr><td>eval/loss</td><td>█▁▂▃▃</td></tr><tr><td>eval/runtime</td><td>▁▂▅▂█</td></tr><tr><td>eval/samples_per_second</td><td>█▇▄▇▁</td></tr><tr><td>eval/steps_per_second</td><td>█▇▄▇▁</td></tr><tr><td>train/epoch</td><td>▁▃▃▆████</td></tr><tr><td>train/global_step</td><td>▁▃▃▆██████</td></tr><tr><td>train/grad_norm</td><td>█▁</td></tr><tr><td>train/learning_rate</td><td>█▁</td></tr><tr><td>train/loss</td><td>█▁</td></tr><tr><td>train/total_flos</td><td>▁</td></tr><tr><td>train/train_loss</td><td>▁</td></tr><tr><td>train/train_runtime</td><td>▁</td></tr><tr><td>train/train_samples_per_second</td><td>▁</td></tr><tr><td>train/train_steps_per_second</td><td>▁</td></tr></table><br/></div><div class=\"wandb-col\"><h3>Run summary:</h3><br/><table class=\"wandb\"><tr><td>Macro F1 score</td><td>0.77714</td></tr><tr><td>Training loss</td><td>0.3277</td></tr><tr><td>Validation loss</td><td>0.47436</td></tr><tr><td>eval/Accuracy</td><td>0.8362</td></tr><tr><td>eval/Balanced accuracy</td><td>0.75816</td></tr><tr><td>eval/F1 macro</td><td>0.77714</td></tr><tr><td>eval/F1 micro</td><td>0.8362</td></tr><tr><td>eval/F1 weighted</td><td>0.83364</td></tr><tr><td>eval/loss</td><td>0.48762</td></tr><tr><td>eval/runtime</td><td>1.9342</td></tr><tr><td>eval/samples_per_second</td><td>1745.444</td></tr><tr><td>eval/steps_per_second</td><td>54.804</td></tr><tr><td>train/epoch</td><td>3.99</td></tr><tr><td>train/global_step</td><td>632</td></tr><tr><td>train/grad_norm</td><td>2.52378</td></tr><tr><td>train/learning_rate</td><td>0.0</td></tr><tr><td>train/loss</td><td>0.3277</td></tr><tr><td>train/total_flos</td><td>1611010300293216.0</td></tr><tr><td>train/train_loss</td><td>0.48319</td></tr><tr><td>train/train_runtime</td><td>86.4094</td></tr><tr><td>train/train_samples_per_second</td><td>468.838</td></tr><tr><td>train/train_steps_per_second</td><td>7.314</td></tr></table><br/></div></div>"
      ],
      "text/plain": [
       "<IPython.core.display.HTML object>"
      ]
     },
     "metadata": {},
     "output_type": "display_data"
    },
    {
     "data": {
      "text/html": [
       " View run <strong style=\"color:#cdcd00\">trial-3</strong> at: <a href='https://wandb.ai/master-2024/DistilBERT/runs/xy6d1g3c' target=\"_blank\">https://wandb.ai/master-2024/DistilBERT/runs/xy6d1g3c</a><br/>Synced 5 W&B file(s), 0 media file(s), 0 artifact file(s) and 0 other file(s)"
      ],
      "text/plain": [
       "<IPython.core.display.HTML object>"
      ]
     },
     "metadata": {},
     "output_type": "display_data"
    },
    {
     "data": {
      "text/html": [
       "Find logs at: <code>./wandb/run-20240418_154326-xy6d1g3c/logs</code>"
      ],
      "text/plain": [
       "<IPython.core.display.HTML object>"
      ]
     },
     "metadata": {},
     "output_type": "display_data"
    },
    {
     "name": "stderr",
     "output_type": "stream",
     "text": [
      "[I 2024-04-18 15:45:01,908] Trial 3 finished with value: 0.7771422344152966 and parameters: {'learning_rate': 6.83631406502272e-05, 'per_device_train_batch_size': 32, 'weight_decay': 0.28287291117375574, 'num_train_epochs': 4, 'warmup_steps': 486}. Best is trial 3 with value: 0.7771422344152966.\n"
     ]
    },
    {
     "data": {
      "text/html": [
       "wandb version 0.16.6 is available!  To upgrade, please run:\n",
       " $ pip install wandb --upgrade"
      ],
      "text/plain": [
       "<IPython.core.display.HTML object>"
      ]
     },
     "metadata": {},
     "output_type": "display_data"
    },
    {
     "data": {
      "text/html": [
       "Tracking run with wandb version 0.16.4"
      ],
      "text/plain": [
       "<IPython.core.display.HTML object>"
      ]
     },
     "metadata": {},
     "output_type": "display_data"
    },
    {
     "data": {
      "text/html": [
       "Run data is saved locally in <code>/net/fs-2/scale/OrionStore/Home/joteklem/Pytorch_models/wandb/run-20240418_154501-6zgp8oxj</code>"
      ],
      "text/plain": [
       "<IPython.core.display.HTML object>"
      ]
     },
     "metadata": {},
     "output_type": "display_data"
    },
    {
     "data": {
      "text/html": [
       "Syncing run <strong><a href='https://wandb.ai/master-2024/DistilBERT/runs/6zgp8oxj' target=\"_blank\">trial-4</a></strong> to <a href='https://wandb.ai/master-2024/DistilBERT' target=\"_blank\">Weights & Biases</a> (<a href='https://wandb.me/run' target=\"_blank\">docs</a>)<br/>"
      ],
      "text/plain": [
       "<IPython.core.display.HTML object>"
      ]
     },
     "metadata": {},
     "output_type": "display_data"
    },
    {
     "data": {
      "text/html": [
       " View project at <a href='https://wandb.ai/master-2024/DistilBERT' target=\"_blank\">https://wandb.ai/master-2024/DistilBERT</a>"
      ],
      "text/plain": [
       "<IPython.core.display.HTML object>"
      ]
     },
     "metadata": {},
     "output_type": "display_data"
    },
    {
     "data": {
      "text/html": [
       " View run at <a href='https://wandb.ai/master-2024/DistilBERT/runs/6zgp8oxj' target=\"_blank\">https://wandb.ai/master-2024/DistilBERT/runs/6zgp8oxj</a>"
      ],
      "text/plain": [
       "<IPython.core.display.HTML object>"
      ]
     },
     "metadata": {},
     "output_type": "display_data"
    },
    {
     "name": "stderr",
     "output_type": "stream",
     "text": [
      "/net/fs-2/scale/OrionStore/Scratch/joteklem/MyCondaEnvironments/Python3.11/orion_env/lib/python3.11/site-packages/accelerate/accelerator.py:432: FutureWarning: Passing the following arguments to `Accelerator` is deprecated and will be removed in version 1.0 of Accelerate: dict_keys(['dispatch_batches', 'split_batches', 'even_batches', 'use_seedable_sampler']). Please pass an `accelerate.DataLoaderConfiguration` instead: \n",
      "dataloader_config = DataLoaderConfiguration(dispatch_batches=None, split_batches=False, even_batches=True, use_seedable_sampler=True)\n",
      "  warnings.warn(\n",
      "Detected kernel version 3.10.0, which is below the recommended minimum of 5.5.0; this can cause the process to hang. It is recommended to upgrade the kernel to the minimum version or higher.\n"
     ]
    },
    {
     "name": "stdout",
     "output_type": "stream",
     "text": [
      "Starting trial 4\n"
     ]
    },
    {
     "data": {
      "text/html": [
       "\n",
       "    <div>\n",
       "      \n",
       "      <progress value='948' max='948' style='width:300px; height:20px; vertical-align: middle;'></progress>\n",
       "      [948/948 01:14, Epoch 2/3]\n",
       "    </div>\n",
       "    <table border=\"1\" class=\"dataframe\">\n",
       "  <thead>\n",
       " <tr style=\"text-align: left;\">\n",
       "      <th>Epoch</th>\n",
       "      <th>Training Loss</th>\n",
       "      <th>Validation Loss</th>\n",
       "      <th>Accuracy</th>\n",
       "      <th>Balanced accuracy</th>\n",
       "      <th>F1 weighted</th>\n",
       "      <th>F1 macro</th>\n",
       "      <th>F1 micro</th>\n",
       "      <th>Classification report</th>\n",
       "    </tr>\n",
       "  </thead>\n",
       "  <tbody>\n",
       "    <tr>\n",
       "      <td>0</td>\n",
       "      <td>No log</td>\n",
       "      <td>0.863258</td>\n",
       "      <td>0.640403</td>\n",
       "      <td>0.333333</td>\n",
       "      <td>0.500018</td>\n",
       "      <td>0.260262</td>\n",
       "      <td>0.640403</td>\n",
       "      <td>{'0': {'precision': 0.0, 'recall': 0.0, 'f1-score': 0.0, 'support': 900.0}, '1': {'precision': 0.6404028436018957, 'recall': 1.0, 'f1-score': 0.7807872878295413, 'support': 2162.0}, '2': {'precision': 0.0, 'recall': 0.0, 'f1-score': 0.0, 'support': 314.0}, 'accuracy': 0.6404028436018957, 'macro avg': {'precision': 0.21346761453396523, 'recall': 0.3333333333333333, 'f1-score': 0.2602624292765138, 'support': 3376.0}, 'weighted avg': {'precision': 0.4101158020933941, 'recall': 0.6404028436018957, 'f1-score': 0.5000183993742501, 'support': 3376.0}}</td>\n",
       "    </tr>\n",
       "    <tr>\n",
       "      <td>2</td>\n",
       "      <td>0.862000</td>\n",
       "      <td>0.858713</td>\n",
       "      <td>0.640403</td>\n",
       "      <td>0.333333</td>\n",
       "      <td>0.500018</td>\n",
       "      <td>0.260262</td>\n",
       "      <td>0.640403</td>\n",
       "      <td>{'0': {'precision': 0.0, 'recall': 0.0, 'f1-score': 0.0, 'support': 900.0}, '1': {'precision': 0.6404028436018957, 'recall': 1.0, 'f1-score': 0.7807872878295413, 'support': 2162.0}, '2': {'precision': 0.0, 'recall': 0.0, 'f1-score': 0.0, 'support': 314.0}, 'accuracy': 0.6404028436018957, 'macro avg': {'precision': 0.21346761453396523, 'recall': 0.3333333333333333, 'f1-score': 0.2602624292765138, 'support': 3376.0}, 'weighted avg': {'precision': 0.4101158020933941, 'recall': 0.6404028436018957, 'f1-score': 0.5000183993742501, 'support': 3376.0}}</td>\n",
       "    </tr>\n",
       "  </tbody>\n",
       "</table><p>"
      ],
      "text/plain": [
       "<IPython.core.display.HTML object>"
      ]
     },
     "metadata": {},
     "output_type": "display_data"
    },
    {
     "data": {
      "text/html": [
       "\n",
       "    <div>\n",
       "      \n",
       "      <progress value='211' max='211' style='width:300px; height:20px; vertical-align: middle;'></progress>\n",
       "      [211/211 00:01]\n",
       "    </div>\n",
       "    "
      ],
      "text/plain": [
       "<IPython.core.display.HTML object>"
      ]
     },
     "metadata": {},
     "output_type": "display_data"
    },
    {
     "name": "stderr",
     "output_type": "stream",
     "text": [
      "/net/fs-2/scale/OrionStore/Scratch/joteklem/MyCondaEnvironments/Python3.11/orion_env/lib/python3.11/site-packages/optuna/trial/_trial.py:499: UserWarning: The reported value is ignored because this `step` 2.995260663507109 is already reported.\n",
      "  warnings.warn(\n"
     ]
    },
    {
     "name": "stdout",
     "output_type": "stream",
     "text": [
      "Completed trial 4\n"
     ]
    },
    {
     "data": {
      "text/html": [
       "<style>\n",
       "    table.wandb td:nth-child(1) { padding: 0 10px; text-align: left ; width: auto;} td:nth-child(2) {text-align: left ; width: 100%}\n",
       "    .wandb-row { display: flex; flex-direction: row; flex-wrap: wrap; justify-content: flex-start; width: 100% }\n",
       "    .wandb-col { display: flex; flex-direction: column; flex-basis: 100%; flex: 1; padding: 10px; }\n",
       "    </style>\n",
       "<div class=\"wandb-row\"><div class=\"wandb-col\"><h3>Run history:</h3><br/><table class=\"wandb\"><tr><td>Macro F1 score</td><td>▁</td></tr><tr><td>Training loss</td><td>▁</td></tr><tr><td>Validation loss</td><td>▁</td></tr><tr><td>eval/Accuracy</td><td>▁▁▁▁</td></tr><tr><td>eval/Balanced accuracy</td><td>▁▁▁▁</td></tr><tr><td>eval/F1 macro</td><td>▁▁▁▁</td></tr><tr><td>eval/F1 micro</td><td>▁▁▁▁</td></tr><tr><td>eval/F1 weighted</td><td>▁▁▁▁</td></tr><tr><td>eval/loss</td><td>▂█▁▁</td></tr><tr><td>eval/runtime</td><td>▃▁▄█</td></tr><tr><td>eval/samples_per_second</td><td>▆█▅▁</td></tr><tr><td>eval/steps_per_second</td><td>▆█▅▁</td></tr><tr><td>train/epoch</td><td>▁▅▅███</td></tr><tr><td>train/global_step</td><td>▁▅▅█████</td></tr><tr><td>train/grad_norm</td><td>▁</td></tr><tr><td>train/learning_rate</td><td>▁</td></tr><tr><td>train/loss</td><td>▁</td></tr><tr><td>train/total_flos</td><td>▁</td></tr><tr><td>train/train_loss</td><td>▁</td></tr><tr><td>train/train_runtime</td><td>▁</td></tr><tr><td>train/train_samples_per_second</td><td>▁</td></tr><tr><td>train/train_steps_per_second</td><td>▁</td></tr></table><br/></div><div class=\"wandb-col\"><h3>Run summary:</h3><br/><table class=\"wandb\"><tr><td>Macro F1 score</td><td>0.26026</td></tr><tr><td>Training loss</td><td>0.862</td></tr><tr><td>Validation loss</td><td>0.88458</td></tr><tr><td>eval/Accuracy</td><td>0.6404</td></tr><tr><td>eval/Balanced accuracy</td><td>0.33333</td></tr><tr><td>eval/F1 macro</td><td>0.26026</td></tr><tr><td>eval/F1 micro</td><td>0.6404</td></tr><tr><td>eval/F1 weighted</td><td>0.50002</td></tr><tr><td>eval/loss</td><td>0.85871</td></tr><tr><td>eval/runtime</td><td>1.975</td></tr><tr><td>eval/samples_per_second</td><td>1709.372</td></tr><tr><td>eval/steps_per_second</td><td>106.836</td></tr><tr><td>train/epoch</td><td>3.0</td></tr><tr><td>train/global_step</td><td>948</td></tr><tr><td>train/grad_norm</td><td>1.60015</td></tr><tr><td>train/learning_rate</td><td>0.00033</td></tr><tr><td>train/loss</td><td>0.862</td></tr><tr><td>train/total_flos</td><td>1076755614403392.0</td></tr><tr><td>train/train_loss</td><td>0.86244</td></tr><tr><td>train/train_runtime</td><td>74.1178</td></tr><tr><td>train/train_samples_per_second</td><td>409.942</td></tr><tr><td>train/train_steps_per_second</td><td>12.79</td></tr></table><br/></div></div>"
      ],
      "text/plain": [
       "<IPython.core.display.HTML object>"
      ]
     },
     "metadata": {},
     "output_type": "display_data"
    },
    {
     "data": {
      "text/html": [
       " View run <strong style=\"color:#cdcd00\">trial-4</strong> at: <a href='https://wandb.ai/master-2024/DistilBERT/runs/6zgp8oxj' target=\"_blank\">https://wandb.ai/master-2024/DistilBERT/runs/6zgp8oxj</a><br/>Synced 5 W&B file(s), 0 media file(s), 0 artifact file(s) and 0 other file(s)"
      ],
      "text/plain": [
       "<IPython.core.display.HTML object>"
      ]
     },
     "metadata": {},
     "output_type": "display_data"
    },
    {
     "data": {
      "text/html": [
       "Find logs at: <code>./wandb/run-20240418_154501-6zgp8oxj/logs</code>"
      ],
      "text/plain": [
       "<IPython.core.display.HTML object>"
      ]
     },
     "metadata": {},
     "output_type": "display_data"
    },
    {
     "name": "stderr",
     "output_type": "stream",
     "text": [
      "[I 2024-04-18 15:46:25,278] Trial 4 finished with value: 0.2602624292765138 and parameters: {'learning_rate': 0.0008411909465645721, 'per_device_train_batch_size': 16, 'weight_decay': 0.08545214831324029, 'num_train_epochs': 3, 'warmup_steps': 139}. Best is trial 3 with value: 0.7771422344152966.\n"
     ]
    },
    {
     "data": {
      "text/html": [
       "wandb version 0.16.6 is available!  To upgrade, please run:\n",
       " $ pip install wandb --upgrade"
      ],
      "text/plain": [
       "<IPython.core.display.HTML object>"
      ]
     },
     "metadata": {},
     "output_type": "display_data"
    },
    {
     "data": {
      "text/html": [
       "Tracking run with wandb version 0.16.4"
      ],
      "text/plain": [
       "<IPython.core.display.HTML object>"
      ]
     },
     "metadata": {},
     "output_type": "display_data"
    },
    {
     "data": {
      "text/html": [
       "Run data is saved locally in <code>/net/fs-2/scale/OrionStore/Home/joteklem/Pytorch_models/wandb/run-20240418_154625-tdf3mrcg</code>"
      ],
      "text/plain": [
       "<IPython.core.display.HTML object>"
      ]
     },
     "metadata": {},
     "output_type": "display_data"
    },
    {
     "data": {
      "text/html": [
       "Syncing run <strong><a href='https://wandb.ai/master-2024/DistilBERT/runs/tdf3mrcg' target=\"_blank\">trial-5</a></strong> to <a href='https://wandb.ai/master-2024/DistilBERT' target=\"_blank\">Weights & Biases</a> (<a href='https://wandb.me/run' target=\"_blank\">docs</a>)<br/>"
      ],
      "text/plain": [
       "<IPython.core.display.HTML object>"
      ]
     },
     "metadata": {},
     "output_type": "display_data"
    },
    {
     "data": {
      "text/html": [
       " View project at <a href='https://wandb.ai/master-2024/DistilBERT' target=\"_blank\">https://wandb.ai/master-2024/DistilBERT</a>"
      ],
      "text/plain": [
       "<IPython.core.display.HTML object>"
      ]
     },
     "metadata": {},
     "output_type": "display_data"
    },
    {
     "data": {
      "text/html": [
       " View run at <a href='https://wandb.ai/master-2024/DistilBERT/runs/tdf3mrcg' target=\"_blank\">https://wandb.ai/master-2024/DistilBERT/runs/tdf3mrcg</a>"
      ],
      "text/plain": [
       "<IPython.core.display.HTML object>"
      ]
     },
     "metadata": {},
     "output_type": "display_data"
    },
    {
     "name": "stderr",
     "output_type": "stream",
     "text": [
      "/net/fs-2/scale/OrionStore/Scratch/joteklem/MyCondaEnvironments/Python3.11/orion_env/lib/python3.11/site-packages/accelerate/accelerator.py:432: FutureWarning: Passing the following arguments to `Accelerator` is deprecated and will be removed in version 1.0 of Accelerate: dict_keys(['dispatch_batches', 'split_batches', 'even_batches', 'use_seedable_sampler']). Please pass an `accelerate.DataLoaderConfiguration` instead: \n",
      "dataloader_config = DataLoaderConfiguration(dispatch_batches=None, split_batches=False, even_batches=True, use_seedable_sampler=True)\n",
      "  warnings.warn(\n",
      "Detected kernel version 3.10.0, which is below the recommended minimum of 5.5.0; this can cause the process to hang. It is recommended to upgrade the kernel to the minimum version or higher.\n"
     ]
    },
    {
     "name": "stdout",
     "output_type": "stream",
     "text": [
      "Starting trial 5\n"
     ]
    },
    {
     "data": {
      "text/html": [
       "\n",
       "    <div>\n",
       "      \n",
       "      <progress value='159' max='632' style='width:300px; height:20px; vertical-align: middle;'></progress>\n",
       "      [159/632 00:17 < 00:52, 9.06 it/s, Epoch 1.00/4]\n",
       "    </div>\n",
       "    <table border=\"1\" class=\"dataframe\">\n",
       "  <thead>\n",
       " <tr style=\"text-align: left;\">\n",
       "      <th>Epoch</th>\n",
       "      <th>Training Loss</th>\n",
       "      <th>Validation Loss</th>\n",
       "    </tr>\n",
       "  </thead>\n",
       "  <tbody>\n",
       "  </tbody>\n",
       "</table><p>\n",
       "    <div>\n",
       "      \n",
       "      <progress value='106' max='106' style='width:300px; height:20px; vertical-align: middle;'></progress>\n",
       "      [106/106 00:01]\n",
       "    </div>\n",
       "    "
      ],
      "text/plain": [
       "<IPython.core.display.HTML object>"
      ]
     },
     "metadata": {},
     "output_type": "display_data"
    },
    {
     "name": "stderr",
     "output_type": "stream",
     "text": [
      "[I 2024-04-18 15:46:47,815] Trial 5 pruned. \n"
     ]
    },
    {
     "data": {
      "text/html": [
       "Finishing last run (ID:tdf3mrcg) before initializing another..."
      ],
      "text/plain": [
       "<IPython.core.display.HTML object>"
      ]
     },
     "metadata": {},
     "output_type": "display_data"
    },
    {
     "data": {
      "text/html": [
       "<style>\n",
       "    table.wandb td:nth-child(1) { padding: 0 10px; text-align: left ; width: auto;} td:nth-child(2) {text-align: left ; width: 100%}\n",
       "    .wandb-row { display: flex; flex-direction: row; flex-wrap: wrap; justify-content: flex-start; width: 100% }\n",
       "    .wandb-col { display: flex; flex-direction: column; flex-basis: 100%; flex: 1; padding: 10px; }\n",
       "    </style>\n",
       "<div class=\"wandb-row\"><div class=\"wandb-col\"><h3>Run history:</h3><br/><table class=\"wandb\"><tr><td>eval/Accuracy</td><td>▁</td></tr><tr><td>eval/Balanced accuracy</td><td>▁</td></tr><tr><td>eval/F1 macro</td><td>▁</td></tr><tr><td>eval/F1 micro</td><td>▁</td></tr><tr><td>eval/F1 weighted</td><td>▁</td></tr><tr><td>eval/loss</td><td>▁</td></tr><tr><td>eval/runtime</td><td>▁</td></tr><tr><td>eval/samples_per_second</td><td>▁</td></tr><tr><td>eval/steps_per_second</td><td>▁</td></tr><tr><td>train/epoch</td><td>▁</td></tr><tr><td>train/global_step</td><td>▁</td></tr></table><br/></div><div class=\"wandb-col\"><h3>Run summary:</h3><br/><table class=\"wandb\"><tr><td>eval/Accuracy</td><td>0.79858</td></tr><tr><td>eval/Balanced accuracy</td><td>0.75019</td></tr><tr><td>eval/F1 macro</td><td>0.72278</td></tr><tr><td>eval/F1 micro</td><td>0.79858</td></tr><tr><td>eval/F1 weighted</td><td>0.802</td></tr><tr><td>eval/loss</td><td>0.50285</td></tr><tr><td>eval/runtime</td><td>1.9198</td></tr><tr><td>eval/samples_per_second</td><td>1758.506</td></tr><tr><td>eval/steps_per_second</td><td>55.214</td></tr><tr><td>train/epoch</td><td>1.0</td></tr><tr><td>train/global_step</td><td>158</td></tr></table><br/></div></div>"
      ],
      "text/plain": [
       "<IPython.core.display.HTML object>"
      ]
     },
     "metadata": {},
     "output_type": "display_data"
    },
    {
     "data": {
      "text/html": [
       " View run <strong style=\"color:#cdcd00\">trial-5</strong> at: <a href='https://wandb.ai/master-2024/DistilBERT/runs/tdf3mrcg' target=\"_blank\">https://wandb.ai/master-2024/DistilBERT/runs/tdf3mrcg</a><br/>Synced 5 W&B file(s), 0 media file(s), 0 artifact file(s) and 0 other file(s)"
      ],
      "text/plain": [
       "<IPython.core.display.HTML object>"
      ]
     },
     "metadata": {},
     "output_type": "display_data"
    },
    {
     "data": {
      "text/html": [
       "Find logs at: <code>./wandb/run-20240418_154625-tdf3mrcg/logs</code>"
      ],
      "text/plain": [
       "<IPython.core.display.HTML object>"
      ]
     },
     "metadata": {},
     "output_type": "display_data"
    },
    {
     "data": {
      "text/html": [
       "Successfully finished last run (ID:tdf3mrcg). Initializing new run:<br/>"
      ],
      "text/plain": [
       "<IPython.core.display.HTML object>"
      ]
     },
     "metadata": {},
     "output_type": "display_data"
    },
    {
     "data": {
      "text/html": [
       "wandb version 0.16.6 is available!  To upgrade, please run:\n",
       " $ pip install wandb --upgrade"
      ],
      "text/plain": [
       "<IPython.core.display.HTML object>"
      ]
     },
     "metadata": {},
     "output_type": "display_data"
    },
    {
     "data": {
      "text/html": [
       "Tracking run with wandb version 0.16.4"
      ],
      "text/plain": [
       "<IPython.core.display.HTML object>"
      ]
     },
     "metadata": {},
     "output_type": "display_data"
    },
    {
     "data": {
      "text/html": [
       "Run data is saved locally in <code>/net/fs-2/scale/OrionStore/Home/joteklem/Pytorch_models/wandb/run-20240418_154647-h457tj9u</code>"
      ],
      "text/plain": [
       "<IPython.core.display.HTML object>"
      ]
     },
     "metadata": {},
     "output_type": "display_data"
    },
    {
     "data": {
      "text/html": [
       "Syncing run <strong><a href='https://wandb.ai/master-2024/DistilBERT/runs/h457tj9u' target=\"_blank\">trial-6</a></strong> to <a href='https://wandb.ai/master-2024/DistilBERT' target=\"_blank\">Weights & Biases</a> (<a href='https://wandb.me/run' target=\"_blank\">docs</a>)<br/>"
      ],
      "text/plain": [
       "<IPython.core.display.HTML object>"
      ]
     },
     "metadata": {},
     "output_type": "display_data"
    },
    {
     "data": {
      "text/html": [
       " View project at <a href='https://wandb.ai/master-2024/DistilBERT' target=\"_blank\">https://wandb.ai/master-2024/DistilBERT</a>"
      ],
      "text/plain": [
       "<IPython.core.display.HTML object>"
      ]
     },
     "metadata": {},
     "output_type": "display_data"
    },
    {
     "data": {
      "text/html": [
       " View run at <a href='https://wandb.ai/master-2024/DistilBERT/runs/h457tj9u' target=\"_blank\">https://wandb.ai/master-2024/DistilBERT/runs/h457tj9u</a>"
      ],
      "text/plain": [
       "<IPython.core.display.HTML object>"
      ]
     },
     "metadata": {},
     "output_type": "display_data"
    },
    {
     "name": "stdout",
     "output_type": "stream",
     "text": [
      "Starting trial 6\n"
     ]
    },
    {
     "name": "stderr",
     "output_type": "stream",
     "text": [
      "/net/fs-2/scale/OrionStore/Scratch/joteklem/MyCondaEnvironments/Python3.11/orion_env/lib/python3.11/site-packages/accelerate/accelerator.py:432: FutureWarning: Passing the following arguments to `Accelerator` is deprecated and will be removed in version 1.0 of Accelerate: dict_keys(['dispatch_batches', 'split_batches', 'even_batches', 'use_seedable_sampler']). Please pass an `accelerate.DataLoaderConfiguration` instead: \n",
      "dataloader_config = DataLoaderConfiguration(dispatch_batches=None, split_batches=False, even_batches=True, use_seedable_sampler=True)\n",
      "  warnings.warn(\n",
      "Detected kernel version 3.10.0, which is below the recommended minimum of 5.5.0; this can cause the process to hang. It is recommended to upgrade the kernel to the minimum version or higher.\n"
     ]
    },
    {
     "data": {
      "text/html": [
       "\n",
       "    <div>\n",
       "      \n",
       "      <progress value='632' max='632' style='width:300px; height:20px; vertical-align: middle;'></progress>\n",
       "      [632/632 00:52, Epoch 1/2]\n",
       "    </div>\n",
       "    <table border=\"1\" class=\"dataframe\">\n",
       "  <thead>\n",
       " <tr style=\"text-align: left;\">\n",
       "      <th>Epoch</th>\n",
       "      <th>Training Loss</th>\n",
       "      <th>Validation Loss</th>\n",
       "      <th>Accuracy</th>\n",
       "      <th>Balanced accuracy</th>\n",
       "      <th>F1 weighted</th>\n",
       "      <th>F1 macro</th>\n",
       "      <th>F1 micro</th>\n",
       "      <th>Classification report</th>\n",
       "    </tr>\n",
       "  </thead>\n",
       "  <tbody>\n",
       "    <tr>\n",
       "      <td>0</td>\n",
       "      <td>No log</td>\n",
       "      <td>0.535661</td>\n",
       "      <td>0.805983</td>\n",
       "      <td>0.748687</td>\n",
       "      <td>0.808128</td>\n",
       "      <td>0.729235</td>\n",
       "      <td>0.805983</td>\n",
       "      <td>{'0': {'precision': 0.8345021037868162, 'recall': 0.6611111111111111, 'f1-score': 0.7377557346559207, 'support': 900.0}, '1': {'precision': 0.8604336043360433, 'recall': 0.8811285846438482, 'f1-score': 0.8706581352833638, 'support': 2162.0}, '2': {'precision': 0.4922048997772829, 'recall': 0.7038216560509554, 'f1-score': 0.5792922673656618, 'support': 314.0}, 'accuracy': 0.8059834123222749, 'macro avg': {'precision': 0.7290468693000475, 'recall': 0.7486871172686382, 'f1-score': 0.7292353791016488, 'support': 3376.0}, 'weighted avg': {'precision': 0.8192718259812579, 'recall': 0.8059834123222749, 'f1-score': 0.8081282054578729, 'support': 3376.0}}</td>\n",
       "    </tr>\n",
       "    <tr>\n",
       "      <td>1</td>\n",
       "      <td>No log</td>\n",
       "      <td>0.430466</td>\n",
       "      <td>0.843306</td>\n",
       "      <td>0.765614</td>\n",
       "      <td>0.840051</td>\n",
       "      <td>0.782821</td>\n",
       "      <td>0.843306</td>\n",
       "      <td>{'0': {'precision': 0.8169014084507042, 'recall': 0.7088888888888889, 'f1-score': 0.7590719809637121, 'support': 900.0}, '1': {'precision': 0.8662337662337662, 'recall': 0.925531914893617, 'f1-score': 0.894901610017889, 'support': 2162.0}, '2': {'precision': 0.7298245614035088, 'recall': 0.6624203821656051, 'f1-score': 0.6944908180300502, 'support': 314.0}, 'accuracy': 0.8433056872037915, 'macro avg': {'precision': 0.8043199120293264, 'recall': 0.7656137286493703, 'f1-score': 0.7828214696705503, 'support': 3376.0}, 'weighted avg': {'precision': 0.8403950185082163, 'recall': 0.8433056872037915, 'f1-score': 0.8400510013588427, 'support': 3376.0}}</td>\n",
       "    </tr>\n",
       "  </tbody>\n",
       "</table><p>"
      ],
      "text/plain": [
       "<IPython.core.display.HTML object>"
      ]
     },
     "metadata": {},
     "output_type": "display_data"
    },
    {
     "data": {
      "text/html": [
       "\n",
       "    <div>\n",
       "      \n",
       "      <progress value='211' max='211' style='width:300px; height:20px; vertical-align: middle;'></progress>\n",
       "      [211/211 00:02]\n",
       "    </div>\n",
       "    "
      ],
      "text/plain": [
       "<IPython.core.display.HTML object>"
      ]
     },
     "metadata": {},
     "output_type": "display_data"
    },
    {
     "name": "stderr",
     "output_type": "stream",
     "text": [
      "/net/fs-2/scale/OrionStore/Scratch/joteklem/MyCondaEnvironments/Python3.11/orion_env/lib/python3.11/site-packages/optuna/trial/_trial.py:499: UserWarning: The reported value is ignored because this `step` 1.9968404423380726 is already reported.\n",
      "  warnings.warn(\n"
     ]
    },
    {
     "name": "stdout",
     "output_type": "stream",
     "text": [
      "Completed trial 6\n"
     ]
    },
    {
     "data": {
      "text/html": [
       "<style>\n",
       "    table.wandb td:nth-child(1) { padding: 0 10px; text-align: left ; width: auto;} td:nth-child(2) {text-align: left ; width: 100%}\n",
       "    .wandb-row { display: flex; flex-direction: row; flex-wrap: wrap; justify-content: flex-start; width: 100% }\n",
       "    .wandb-col { display: flex; flex-direction: column; flex-basis: 100%; flex: 1; padding: 10px; }\n",
       "    </style>\n",
       "<div class=\"wandb-row\"><div class=\"wandb-col\"><h3>Run history:</h3><br/><table class=\"wandb\"><tr><td>Macro F1 score</td><td>▁</td></tr><tr><td>Training loss</td><td>▁</td></tr><tr><td>Validation loss</td><td>▁</td></tr><tr><td>eval/Accuracy</td><td>▁██</td></tr><tr><td>eval/Balanced accuracy</td><td>▁██</td></tr><tr><td>eval/F1 macro</td><td>▁██</td></tr><tr><td>eval/F1 micro</td><td>▁██</td></tr><tr><td>eval/F1 weighted</td><td>▁██</td></tr><tr><td>eval/loss</td><td>█▁▁</td></tr><tr><td>eval/runtime</td><td>▁▁█</td></tr><tr><td>eval/samples_per_second</td><td>██▁</td></tr><tr><td>eval/steps_per_second</td><td>██▁</td></tr><tr><td>train/epoch</td><td>▁███</td></tr><tr><td>train/global_step</td><td>▁█████</td></tr><tr><td>train/total_flos</td><td>▁</td></tr><tr><td>train/train_loss</td><td>▁</td></tr><tr><td>train/train_runtime</td><td>▁</td></tr><tr><td>train/train_samples_per_second</td><td>▁</td></tr><tr><td>train/train_steps_per_second</td><td>▁</td></tr></table><br/></div><div class=\"wandb-col\"><h3>Run summary:</h3><br/><table class=\"wandb\"><tr><td>Macro F1 score</td><td>0.78282</td></tr><tr><td>Training loss</td><td>0.862</td></tr><tr><td>Validation loss</td><td>0.53566</td></tr><tr><td>eval/Accuracy</td><td>0.84331</td></tr><tr><td>eval/Balanced accuracy</td><td>0.76561</td></tr><tr><td>eval/F1 macro</td><td>0.78282</td></tr><tr><td>eval/F1 micro</td><td>0.84331</td></tr><tr><td>eval/F1 weighted</td><td>0.84005</td></tr><tr><td>eval/loss</td><td>0.43047</td></tr><tr><td>eval/runtime</td><td>2.0375</td></tr><tr><td>eval/samples_per_second</td><td>1656.923</td></tr><tr><td>eval/steps_per_second</td><td>103.558</td></tr><tr><td>train/epoch</td><td>2.0</td></tr><tr><td>train/global_step</td><td>632</td></tr><tr><td>train/total_flos</td><td>718458028273728.0</td></tr><tr><td>train/train_loss</td><td>0.539</td></tr><tr><td>train/train_runtime</td><td>52.1272</td></tr><tr><td>train/train_samples_per_second</td><td>388.588</td></tr><tr><td>train/train_steps_per_second</td><td>12.124</td></tr></table><br/></div></div>"
      ],
      "text/plain": [
       "<IPython.core.display.HTML object>"
      ]
     },
     "metadata": {},
     "output_type": "display_data"
    },
    {
     "data": {
      "text/html": [
       " View run <strong style=\"color:#cdcd00\">trial-6</strong> at: <a href='https://wandb.ai/master-2024/DistilBERT/runs/h457tj9u' target=\"_blank\">https://wandb.ai/master-2024/DistilBERT/runs/h457tj9u</a><br/>Synced 5 W&B file(s), 0 media file(s), 0 artifact file(s) and 0 other file(s)"
      ],
      "text/plain": [
       "<IPython.core.display.HTML object>"
      ]
     },
     "metadata": {},
     "output_type": "display_data"
    },
    {
     "data": {
      "text/html": [
       "Find logs at: <code>./wandb/run-20240418_154647-h457tj9u/logs</code>"
      ],
      "text/plain": [
       "<IPython.core.display.HTML object>"
      ]
     },
     "metadata": {},
     "output_type": "display_data"
    },
    {
     "name": "stderr",
     "output_type": "stream",
     "text": [
      "[I 2024-04-18 15:47:54,759] Trial 6 finished with value: 0.7828214696705503 and parameters: {'learning_rate': 5.439591236568524e-05, 'per_device_train_batch_size': 16, 'weight_decay': 0.02708693101632249, 'num_train_epochs': 2, 'warmup_steps': 296}. Best is trial 6 with value: 0.7828214696705503.\n"
     ]
    },
    {
     "data": {
      "text/html": [
       "wandb version 0.16.6 is available!  To upgrade, please run:\n",
       " $ pip install wandb --upgrade"
      ],
      "text/plain": [
       "<IPython.core.display.HTML object>"
      ]
     },
     "metadata": {},
     "output_type": "display_data"
    },
    {
     "data": {
      "text/html": [
       "Tracking run with wandb version 0.16.4"
      ],
      "text/plain": [
       "<IPython.core.display.HTML object>"
      ]
     },
     "metadata": {},
     "output_type": "display_data"
    },
    {
     "data": {
      "text/html": [
       "Run data is saved locally in <code>/net/fs-2/scale/OrionStore/Home/joteklem/Pytorch_models/wandb/run-20240418_154754-vcn8awke</code>"
      ],
      "text/plain": [
       "<IPython.core.display.HTML object>"
      ]
     },
     "metadata": {},
     "output_type": "display_data"
    },
    {
     "data": {
      "text/html": [
       "Syncing run <strong><a href='https://wandb.ai/master-2024/DistilBERT/runs/vcn8awke' target=\"_blank\">trial-7</a></strong> to <a href='https://wandb.ai/master-2024/DistilBERT' target=\"_blank\">Weights & Biases</a> (<a href='https://wandb.me/run' target=\"_blank\">docs</a>)<br/>"
      ],
      "text/plain": [
       "<IPython.core.display.HTML object>"
      ]
     },
     "metadata": {},
     "output_type": "display_data"
    },
    {
     "data": {
      "text/html": [
       " View project at <a href='https://wandb.ai/master-2024/DistilBERT' target=\"_blank\">https://wandb.ai/master-2024/DistilBERT</a>"
      ],
      "text/plain": [
       "<IPython.core.display.HTML object>"
      ]
     },
     "metadata": {},
     "output_type": "display_data"
    },
    {
     "data": {
      "text/html": [
       " View run at <a href='https://wandb.ai/master-2024/DistilBERT/runs/vcn8awke' target=\"_blank\">https://wandb.ai/master-2024/DistilBERT/runs/vcn8awke</a>"
      ],
      "text/plain": [
       "<IPython.core.display.HTML object>"
      ]
     },
     "metadata": {},
     "output_type": "display_data"
    },
    {
     "name": "stderr",
     "output_type": "stream",
     "text": [
      "/net/fs-2/scale/OrionStore/Scratch/joteklem/MyCondaEnvironments/Python3.11/orion_env/lib/python3.11/site-packages/accelerate/accelerator.py:432: FutureWarning: Passing the following arguments to `Accelerator` is deprecated and will be removed in version 1.0 of Accelerate: dict_keys(['dispatch_batches', 'split_batches', 'even_batches', 'use_seedable_sampler']). Please pass an `accelerate.DataLoaderConfiguration` instead: \n",
      "dataloader_config = DataLoaderConfiguration(dispatch_batches=None, split_batches=False, even_batches=True, use_seedable_sampler=True)\n",
      "  warnings.warn(\n",
      "Detected kernel version 3.10.0, which is below the recommended minimum of 5.5.0; this can cause the process to hang. It is recommended to upgrade the kernel to the minimum version or higher.\n"
     ]
    },
    {
     "name": "stdout",
     "output_type": "stream",
     "text": [
      "Starting trial 7\n"
     ]
    },
    {
     "data": {
      "text/html": [
       "\n",
       "    <div>\n",
       "      \n",
       "      <progress value='317' max='1580' style='width:300px; height:20px; vertical-align: middle;'></progress>\n",
       "      [ 315/1580 00:19 < 01:19, 15.83 it/s, Epoch 0.99/5]\n",
       "    </div>\n",
       "    <table border=\"1\" class=\"dataframe\">\n",
       "  <thead>\n",
       " <tr style=\"text-align: left;\">\n",
       "      <th>Epoch</th>\n",
       "      <th>Training Loss</th>\n",
       "      <th>Validation Loss</th>\n",
       "    </tr>\n",
       "  </thead>\n",
       "  <tbody>\n",
       "  </tbody>\n",
       "</table><p>\n",
       "    <div>\n",
       "      \n",
       "      <progress value='211' max='211' style='width:300px; height:20px; vertical-align: middle;'></progress>\n",
       "      [211/211 00:01]\n",
       "    </div>\n",
       "    "
      ],
      "text/plain": [
       "<IPython.core.display.HTML object>"
      ]
     },
     "metadata": {},
     "output_type": "display_data"
    },
    {
     "name": "stderr",
     "output_type": "stream",
     "text": [
      "[I 2024-04-18 15:48:19,998] Trial 7 pruned. \n"
     ]
    },
    {
     "data": {
      "text/html": [
       "Finishing last run (ID:vcn8awke) before initializing another..."
      ],
      "text/plain": [
       "<IPython.core.display.HTML object>"
      ]
     },
     "metadata": {},
     "output_type": "display_data"
    },
    {
     "data": {
      "text/html": [
       "<style>\n",
       "    table.wandb td:nth-child(1) { padding: 0 10px; text-align: left ; width: auto;} td:nth-child(2) {text-align: left ; width: 100%}\n",
       "    .wandb-row { display: flex; flex-direction: row; flex-wrap: wrap; justify-content: flex-start; width: 100% }\n",
       "    .wandb-col { display: flex; flex-direction: column; flex-basis: 100%; flex: 1; padding: 10px; }\n",
       "    </style>\n",
       "<div class=\"wandb-row\"><div class=\"wandb-col\"><h3>Run history:</h3><br/><table class=\"wandb\"><tr><td>eval/Accuracy</td><td>▁</td></tr><tr><td>eval/Balanced accuracy</td><td>▁</td></tr><tr><td>eval/F1 macro</td><td>▁</td></tr><tr><td>eval/F1 micro</td><td>▁</td></tr><tr><td>eval/F1 weighted</td><td>▁</td></tr><tr><td>eval/loss</td><td>▁</td></tr><tr><td>eval/runtime</td><td>▁</td></tr><tr><td>eval/samples_per_second</td><td>▁</td></tr><tr><td>eval/steps_per_second</td><td>▁</td></tr><tr><td>train/epoch</td><td>▁</td></tr><tr><td>train/global_step</td><td>▁</td></tr></table><br/></div><div class=\"wandb-col\"><h3>Run summary:</h3><br/><table class=\"wandb\"><tr><td>eval/Accuracy</td><td>0.78555</td></tr><tr><td>eval/Balanced accuracy</td><td>0.6369</td></tr><tr><td>eval/F1 macro</td><td>0.65734</td></tr><tr><td>eval/F1 micro</td><td>0.78555</td></tr><tr><td>eval/F1 weighted</td><td>0.77725</td></tr><tr><td>eval/loss</td><td>0.61673</td></tr><tr><td>eval/runtime</td><td>1.9653</td></tr><tr><td>eval/samples_per_second</td><td>1717.836</td></tr><tr><td>eval/steps_per_second</td><td>107.365</td></tr><tr><td>train/epoch</td><td>1.0</td></tr><tr><td>train/global_step</td><td>316</td></tr></table><br/></div></div>"
      ],
      "text/plain": [
       "<IPython.core.display.HTML object>"
      ]
     },
     "metadata": {},
     "output_type": "display_data"
    },
    {
     "data": {
      "text/html": [
       " View run <strong style=\"color:#cdcd00\">trial-7</strong> at: <a href='https://wandb.ai/master-2024/DistilBERT/runs/vcn8awke' target=\"_blank\">https://wandb.ai/master-2024/DistilBERT/runs/vcn8awke</a><br/>Synced 5 W&B file(s), 0 media file(s), 0 artifact file(s) and 0 other file(s)"
      ],
      "text/plain": [
       "<IPython.core.display.HTML object>"
      ]
     },
     "metadata": {},
     "output_type": "display_data"
    },
    {
     "data": {
      "text/html": [
       "Find logs at: <code>./wandb/run-20240418_154754-vcn8awke/logs</code>"
      ],
      "text/plain": [
       "<IPython.core.display.HTML object>"
      ]
     },
     "metadata": {},
     "output_type": "display_data"
    },
    {
     "data": {
      "text/html": [
       "Successfully finished last run (ID:vcn8awke). Initializing new run:<br/>"
      ],
      "text/plain": [
       "<IPython.core.display.HTML object>"
      ]
     },
     "metadata": {},
     "output_type": "display_data"
    },
    {
     "data": {
      "text/html": [
       "wandb version 0.16.6 is available!  To upgrade, please run:\n",
       " $ pip install wandb --upgrade"
      ],
      "text/plain": [
       "<IPython.core.display.HTML object>"
      ]
     },
     "metadata": {},
     "output_type": "display_data"
    },
    {
     "data": {
      "text/html": [
       "Tracking run with wandb version 0.16.4"
      ],
      "text/plain": [
       "<IPython.core.display.HTML object>"
      ]
     },
     "metadata": {},
     "output_type": "display_data"
    },
    {
     "data": {
      "text/html": [
       "Run data is saved locally in <code>/net/fs-2/scale/OrionStore/Home/joteklem/Pytorch_models/wandb/run-20240418_154820-99532to3</code>"
      ],
      "text/plain": [
       "<IPython.core.display.HTML object>"
      ]
     },
     "metadata": {},
     "output_type": "display_data"
    },
    {
     "data": {
      "text/html": [
       "Syncing run <strong><a href='https://wandb.ai/master-2024/DistilBERT/runs/99532to3' target=\"_blank\">trial-8</a></strong> to <a href='https://wandb.ai/master-2024/DistilBERT' target=\"_blank\">Weights & Biases</a> (<a href='https://wandb.me/run' target=\"_blank\">docs</a>)<br/>"
      ],
      "text/plain": [
       "<IPython.core.display.HTML object>"
      ]
     },
     "metadata": {},
     "output_type": "display_data"
    },
    {
     "data": {
      "text/html": [
       " View project at <a href='https://wandb.ai/master-2024/DistilBERT' target=\"_blank\">https://wandb.ai/master-2024/DistilBERT</a>"
      ],
      "text/plain": [
       "<IPython.core.display.HTML object>"
      ]
     },
     "metadata": {},
     "output_type": "display_data"
    },
    {
     "data": {
      "text/html": [
       " View run at <a href='https://wandb.ai/master-2024/DistilBERT/runs/99532to3' target=\"_blank\">https://wandb.ai/master-2024/DistilBERT/runs/99532to3</a>"
      ],
      "text/plain": [
       "<IPython.core.display.HTML object>"
      ]
     },
     "metadata": {},
     "output_type": "display_data"
    },
    {
     "name": "stderr",
     "output_type": "stream",
     "text": [
      "/net/fs-2/scale/OrionStore/Scratch/joteklem/MyCondaEnvironments/Python3.11/orion_env/lib/python3.11/site-packages/accelerate/accelerator.py:432: FutureWarning: Passing the following arguments to `Accelerator` is deprecated and will be removed in version 1.0 of Accelerate: dict_keys(['dispatch_batches', 'split_batches', 'even_batches', 'use_seedable_sampler']). Please pass an `accelerate.DataLoaderConfiguration` instead: \n",
      "dataloader_config = DataLoaderConfiguration(dispatch_batches=None, split_batches=False, even_batches=True, use_seedable_sampler=True)\n",
      "  warnings.warn(\n",
      "Detected kernel version 3.10.0, which is below the recommended minimum of 5.5.0; this can cause the process to hang. It is recommended to upgrade the kernel to the minimum version or higher.\n"
     ]
    },
    {
     "name": "stdout",
     "output_type": "stream",
     "text": [
      "Starting trial 8\n"
     ]
    },
    {
     "data": {
      "text/html": [
       "\n",
       "    <div>\n",
       "      \n",
       "      <progress value='948' max='948' style='width:300px; height:20px; vertical-align: middle;'></progress>\n",
       "      [948/948 01:14, Epoch 2/3]\n",
       "    </div>\n",
       "    <table border=\"1\" class=\"dataframe\">\n",
       "  <thead>\n",
       " <tr style=\"text-align: left;\">\n",
       "      <th>Epoch</th>\n",
       "      <th>Training Loss</th>\n",
       "      <th>Validation Loss</th>\n",
       "      <th>Accuracy</th>\n",
       "      <th>Balanced accuracy</th>\n",
       "      <th>F1 weighted</th>\n",
       "      <th>F1 macro</th>\n",
       "      <th>F1 micro</th>\n",
       "      <th>Classification report</th>\n",
       "    </tr>\n",
       "  </thead>\n",
       "  <tbody>\n",
       "    <tr>\n",
       "      <td>0</td>\n",
       "      <td>No log</td>\n",
       "      <td>0.466613</td>\n",
       "      <td>0.829088</td>\n",
       "      <td>0.760497</td>\n",
       "      <td>0.826515</td>\n",
       "      <td>0.759817</td>\n",
       "      <td>0.829088</td>\n",
       "      <td>{'0': {'precision': 0.8296089385474861, 'recall': 0.66, 'f1-score': 0.7351485148514851, 'support': 900.0}, '1': {'precision': 0.862983906046107, 'recall': 0.9176688251618872, 'f1-score': 0.889486662183367, 'support': 2162.0}, '2': {'precision': 0.6121883656509696, 'recall': 0.7038216560509554, 'f1-score': 0.6548148148148147, 'support': 314.0}, 'accuracy': 0.8290876777251185, 'macro avg': {'precision': 0.7682604034148542, 'recall': 0.7604968270709476, 'f1-score': 0.759816663949889, 'support': 3376.0}, 'weighted avg': {'precision': 0.8307601885008368, 'recall': 0.8290876777251185, 'f1-score': 0.8265153077187879, 'support': 3376.0}}</td>\n",
       "    </tr>\n",
       "    <tr>\n",
       "      <td>2</td>\n",
       "      <td>0.503100</td>\n",
       "      <td>0.474999</td>\n",
       "      <td>0.832642</td>\n",
       "      <td>0.766372</td>\n",
       "      <td>0.830843</td>\n",
       "      <td>0.774194</td>\n",
       "      <td>0.832642</td>\n",
       "      <td>{'0': {'precision': 0.7734939759036145, 'recall': 0.7133333333333334, 'f1-score': 0.7421965317919075, 'support': 900.0}, '1': {'precision': 0.8719892952720785, 'recall': 0.9042553191489362, 'f1-score': 0.8878292461398728, 'support': 2162.0}, '2': {'precision': 0.7039473684210527, 'recall': 0.6815286624203821, 'f1-score': 0.6925566343042071, 'support': 314.0}, 'accuracy': 0.8326421800947867, 'macro avg': {'precision': 0.7831435465322486, 'recall': 0.766372438300884, 'f1-score': 0.7741941374119957, 'support': 3376.0}, 'weighted avg': {'precision': 0.8301021648032278, 'recall': 0.8326421800947867, 'f1-score': 0.8308431551950957, 'support': 3376.0}}</td>\n",
       "    </tr>\n",
       "  </tbody>\n",
       "</table><p>"
      ],
      "text/plain": [
       "<IPython.core.display.HTML object>"
      ]
     },
     "metadata": {},
     "output_type": "display_data"
    },
    {
     "data": {
      "text/html": [
       "\n",
       "    <div>\n",
       "      \n",
       "      <progress value='211' max='211' style='width:300px; height:20px; vertical-align: middle;'></progress>\n",
       "      [211/211 00:01]\n",
       "    </div>\n",
       "    "
      ],
      "text/plain": [
       "<IPython.core.display.HTML object>"
      ]
     },
     "metadata": {},
     "output_type": "display_data"
    },
    {
     "name": "stderr",
     "output_type": "stream",
     "text": [
      "/net/fs-2/scale/OrionStore/Scratch/joteklem/MyCondaEnvironments/Python3.11/orion_env/lib/python3.11/site-packages/optuna/trial/_trial.py:499: UserWarning: The reported value is ignored because this `step` 2.995260663507109 is already reported.\n",
      "  warnings.warn(\n"
     ]
    },
    {
     "name": "stdout",
     "output_type": "stream",
     "text": [
      "Completed trial 8\n"
     ]
    },
    {
     "data": {
      "text/html": [
       "<style>\n",
       "    table.wandb td:nth-child(1) { padding: 0 10px; text-align: left ; width: auto;} td:nth-child(2) {text-align: left ; width: 100%}\n",
       "    .wandb-row { display: flex; flex-direction: row; flex-wrap: wrap; justify-content: flex-start; width: 100% }\n",
       "    .wandb-col { display: flex; flex-direction: column; flex-basis: 100%; flex: 1; padding: 10px; }\n",
       "    </style>\n",
       "<div class=\"wandb-row\"><div class=\"wandb-col\"><h3>Run history:</h3><br/><table class=\"wandb\"><tr><td>Macro F1 score</td><td>▁</td></tr><tr><td>Training loss</td><td>▁</td></tr><tr><td>Validation loss</td><td>▁</td></tr><tr><td>eval/Accuracy</td><td>▁▆██</td></tr><tr><td>eval/Balanced accuracy</td><td>▇▁██</td></tr><tr><td>eval/F1 macro</td><td>▄▁██</td></tr><tr><td>eval/F1 micro</td><td>▁▆██</td></tr><tr><td>eval/F1 weighted</td><td>▅▁██</td></tr><tr><td>eval/loss</td><td>▁▇██</td></tr><tr><td>eval/runtime</td><td>▂▁▂█</td></tr><tr><td>eval/samples_per_second</td><td>▇█▇▁</td></tr><tr><td>eval/steps_per_second</td><td>▇█▇▁</td></tr><tr><td>train/epoch</td><td>▁▅▅███</td></tr><tr><td>train/global_step</td><td>▁▅▅█████</td></tr><tr><td>train/grad_norm</td><td>▁</td></tr><tr><td>train/learning_rate</td><td>▁</td></tr><tr><td>train/loss</td><td>▁</td></tr><tr><td>train/total_flos</td><td>▁</td></tr><tr><td>train/train_loss</td><td>▁</td></tr><tr><td>train/train_runtime</td><td>▁</td></tr><tr><td>train/train_samples_per_second</td><td>▁</td></tr><tr><td>train/train_steps_per_second</td><td>▁</td></tr></table><br/></div><div class=\"wandb-col\"><h3>Run summary:</h3><br/><table class=\"wandb\"><tr><td>Macro F1 score</td><td>0.77419</td></tr><tr><td>Training loss</td><td>0.5031</td></tr><tr><td>Validation loss</td><td>0.4738</td></tr><tr><td>eval/Accuracy</td><td>0.83264</td></tr><tr><td>eval/Balanced accuracy</td><td>0.76637</td></tr><tr><td>eval/F1 macro</td><td>0.77419</td></tr><tr><td>eval/F1 micro</td><td>0.83264</td></tr><tr><td>eval/F1 weighted</td><td>0.83084</td></tr><tr><td>eval/loss</td><td>0.475</td></tr><tr><td>eval/runtime</td><td>2.0289</td></tr><tr><td>eval/samples_per_second</td><td>1663.986</td></tr><tr><td>eval/steps_per_second</td><td>103.999</td></tr><tr><td>train/epoch</td><td>3.0</td></tr><tr><td>train/global_step</td><td>948</td></tr><tr><td>train/grad_norm</td><td>4.76057</td></tr><tr><td>train/learning_rate</td><td>2e-05</td></tr><tr><td>train/loss</td><td>0.5031</td></tr><tr><td>train/total_flos</td><td>1076755614403392.0</td></tr><tr><td>train/train_loss</td><td>0.42272</td></tr><tr><td>train/train_runtime</td><td>74.2032</td></tr><tr><td>train/train_samples_per_second</td><td>409.47</td></tr><tr><td>train/train_steps_per_second</td><td>12.776</td></tr></table><br/></div></div>"
      ],
      "text/plain": [
       "<IPython.core.display.HTML object>"
      ]
     },
     "metadata": {},
     "output_type": "display_data"
    },
    {
     "data": {
      "text/html": [
       " View run <strong style=\"color:#cdcd00\">trial-8</strong> at: <a href='https://wandb.ai/master-2024/DistilBERT/runs/99532to3' target=\"_blank\">https://wandb.ai/master-2024/DistilBERT/runs/99532to3</a><br/>Synced 5 W&B file(s), 0 media file(s), 0 artifact file(s) and 0 other file(s)"
      ],
      "text/plain": [
       "<IPython.core.display.HTML object>"
      ]
     },
     "metadata": {},
     "output_type": "display_data"
    },
    {
     "data": {
      "text/html": [
       "Find logs at: <code>./wandb/run-20240418_154820-99532to3/logs</code>"
      ],
      "text/plain": [
       "<IPython.core.display.HTML object>"
      ]
     },
     "metadata": {},
     "output_type": "display_data"
    },
    {
     "name": "stderr",
     "output_type": "stream",
     "text": [
      "[I 2024-04-18 15:49:50,700] Trial 8 finished with value: 0.7741941374119957 and parameters: {'learning_rate': 4.809862951501382e-05, 'per_device_train_batch_size': 16, 'weight_decay': 0.07738248831454668, 'num_train_epochs': 3, 'warmup_steps': 121}. Best is trial 6 with value: 0.7828214696705503.\n"
     ]
    },
    {
     "data": {
      "text/html": [
       "wandb version 0.16.6 is available!  To upgrade, please run:\n",
       " $ pip install wandb --upgrade"
      ],
      "text/plain": [
       "<IPython.core.display.HTML object>"
      ]
     },
     "metadata": {},
     "output_type": "display_data"
    },
    {
     "data": {
      "text/html": [
       "Tracking run with wandb version 0.16.4"
      ],
      "text/plain": [
       "<IPython.core.display.HTML object>"
      ]
     },
     "metadata": {},
     "output_type": "display_data"
    },
    {
     "data": {
      "text/html": [
       "Run data is saved locally in <code>/net/fs-2/scale/OrionStore/Home/joteklem/Pytorch_models/wandb/run-20240418_154950-3dd018lg</code>"
      ],
      "text/plain": [
       "<IPython.core.display.HTML object>"
      ]
     },
     "metadata": {},
     "output_type": "display_data"
    },
    {
     "data": {
      "text/html": [
       "Syncing run <strong><a href='https://wandb.ai/master-2024/DistilBERT/runs/3dd018lg' target=\"_blank\">trial-9</a></strong> to <a href='https://wandb.ai/master-2024/DistilBERT' target=\"_blank\">Weights & Biases</a> (<a href='https://wandb.me/run' target=\"_blank\">docs</a>)<br/>"
      ],
      "text/plain": [
       "<IPython.core.display.HTML object>"
      ]
     },
     "metadata": {},
     "output_type": "display_data"
    },
    {
     "data": {
      "text/html": [
       " View project at <a href='https://wandb.ai/master-2024/DistilBERT' target=\"_blank\">https://wandb.ai/master-2024/DistilBERT</a>"
      ],
      "text/plain": [
       "<IPython.core.display.HTML object>"
      ]
     },
     "metadata": {},
     "output_type": "display_data"
    },
    {
     "data": {
      "text/html": [
       " View run at <a href='https://wandb.ai/master-2024/DistilBERT/runs/3dd018lg' target=\"_blank\">https://wandb.ai/master-2024/DistilBERT/runs/3dd018lg</a>"
      ],
      "text/plain": [
       "<IPython.core.display.HTML object>"
      ]
     },
     "metadata": {},
     "output_type": "display_data"
    },
    {
     "name": "stderr",
     "output_type": "stream",
     "text": [
      "/net/fs-2/scale/OrionStore/Scratch/joteklem/MyCondaEnvironments/Python3.11/orion_env/lib/python3.11/site-packages/accelerate/accelerator.py:432: FutureWarning: Passing the following arguments to `Accelerator` is deprecated and will be removed in version 1.0 of Accelerate: dict_keys(['dispatch_batches', 'split_batches', 'even_batches', 'use_seedable_sampler']). Please pass an `accelerate.DataLoaderConfiguration` instead: \n",
      "dataloader_config = DataLoaderConfiguration(dispatch_batches=None, split_batches=False, even_batches=True, use_seedable_sampler=True)\n",
      "  warnings.warn(\n",
      "Detected kernel version 3.10.0, which is below the recommended minimum of 5.5.0; this can cause the process to hang. It is recommended to upgrade the kernel to the minimum version or higher.\n"
     ]
    },
    {
     "name": "stdout",
     "output_type": "stream",
     "text": [
      "Starting trial 9\n"
     ]
    },
    {
     "data": {
      "text/html": [
       "\n",
       "    <div>\n",
       "      \n",
       "      <progress value='317' max='1264' style='width:300px; height:20px; vertical-align: middle;'></progress>\n",
       "      [ 315/1264 00:20 < 01:00, 15.59 it/s, Epoch 0.99/4]\n",
       "    </div>\n",
       "    <table border=\"1\" class=\"dataframe\">\n",
       "  <thead>\n",
       " <tr style=\"text-align: left;\">\n",
       "      <th>Epoch</th>\n",
       "      <th>Training Loss</th>\n",
       "      <th>Validation Loss</th>\n",
       "    </tr>\n",
       "  </thead>\n",
       "  <tbody>\n",
       "  </tbody>\n",
       "</table><p>\n",
       "    <div>\n",
       "      \n",
       "      <progress value='211' max='211' style='width:300px; height:20px; vertical-align: middle;'></progress>\n",
       "      [211/211 00:01]\n",
       "    </div>\n",
       "    "
      ],
      "text/plain": [
       "<IPython.core.display.HTML object>"
      ]
     },
     "metadata": {},
     "output_type": "display_data"
    },
    {
     "name": "stderr",
     "output_type": "stream",
     "text": [
      "[I 2024-04-18 15:50:16,174] Trial 9 pruned. \n"
     ]
    },
    {
     "data": {
      "text/html": [
       "Finishing last run (ID:3dd018lg) before initializing another..."
      ],
      "text/plain": [
       "<IPython.core.display.HTML object>"
      ]
     },
     "metadata": {},
     "output_type": "display_data"
    },
    {
     "data": {
      "text/html": [
       "<style>\n",
       "    table.wandb td:nth-child(1) { padding: 0 10px; text-align: left ; width: auto;} td:nth-child(2) {text-align: left ; width: 100%}\n",
       "    .wandb-row { display: flex; flex-direction: row; flex-wrap: wrap; justify-content: flex-start; width: 100% }\n",
       "    .wandb-col { display: flex; flex-direction: column; flex-basis: 100%; flex: 1; padding: 10px; }\n",
       "    </style>\n",
       "<div class=\"wandb-row\"><div class=\"wandb-col\"><h3>Run history:</h3><br/><table class=\"wandb\"><tr><td>eval/Accuracy</td><td>▁</td></tr><tr><td>eval/Balanced accuracy</td><td>▁</td></tr><tr><td>eval/F1 macro</td><td>▁</td></tr><tr><td>eval/F1 micro</td><td>▁</td></tr><tr><td>eval/F1 weighted</td><td>▁</td></tr><tr><td>eval/loss</td><td>▁</td></tr><tr><td>eval/runtime</td><td>▁</td></tr><tr><td>eval/samples_per_second</td><td>▁</td></tr><tr><td>eval/steps_per_second</td><td>▁</td></tr><tr><td>train/epoch</td><td>▁</td></tr><tr><td>train/global_step</td><td>▁</td></tr></table><br/></div><div class=\"wandb-col\"><h3>Run summary:</h3><br/><table class=\"wandb\"><tr><td>eval/Accuracy</td><td>0.80776</td></tr><tr><td>eval/Balanced accuracy</td><td>0.68497</td></tr><tr><td>eval/F1 macro</td><td>0.70803</td></tr><tr><td>eval/F1 micro</td><td>0.80776</td></tr><tr><td>eval/F1 weighted</td><td>0.80156</td></tr><tr><td>eval/loss</td><td>0.54233</td></tr><tr><td>eval/runtime</td><td>1.9684</td></tr><tr><td>eval/samples_per_second</td><td>1715.074</td></tr><tr><td>eval/steps_per_second</td><td>107.192</td></tr><tr><td>train/epoch</td><td>1.0</td></tr><tr><td>train/global_step</td><td>316</td></tr></table><br/></div></div>"
      ],
      "text/plain": [
       "<IPython.core.display.HTML object>"
      ]
     },
     "metadata": {},
     "output_type": "display_data"
    },
    {
     "data": {
      "text/html": [
       " View run <strong style=\"color:#cdcd00\">trial-9</strong> at: <a href='https://wandb.ai/master-2024/DistilBERT/runs/3dd018lg' target=\"_blank\">https://wandb.ai/master-2024/DistilBERT/runs/3dd018lg</a><br/>Synced 5 W&B file(s), 0 media file(s), 0 artifact file(s) and 0 other file(s)"
      ],
      "text/plain": [
       "<IPython.core.display.HTML object>"
      ]
     },
     "metadata": {},
     "output_type": "display_data"
    },
    {
     "data": {
      "text/html": [
       "Find logs at: <code>./wandb/run-20240418_154950-3dd018lg/logs</code>"
      ],
      "text/plain": [
       "<IPython.core.display.HTML object>"
      ]
     },
     "metadata": {},
     "output_type": "display_data"
    },
    {
     "data": {
      "text/html": [
       "Successfully finished last run (ID:3dd018lg). Initializing new run:<br/>"
      ],
      "text/plain": [
       "<IPython.core.display.HTML object>"
      ]
     },
     "metadata": {},
     "output_type": "display_data"
    },
    {
     "data": {
      "text/html": [
       "wandb version 0.16.6 is available!  To upgrade, please run:\n",
       " $ pip install wandb --upgrade"
      ],
      "text/plain": [
       "<IPython.core.display.HTML object>"
      ]
     },
     "metadata": {},
     "output_type": "display_data"
    },
    {
     "data": {
      "text/html": [
       "Tracking run with wandb version 0.16.4"
      ],
      "text/plain": [
       "<IPython.core.display.HTML object>"
      ]
     },
     "metadata": {},
     "output_type": "display_data"
    },
    {
     "data": {
      "text/html": [
       "Run data is saved locally in <code>/net/fs-2/scale/OrionStore/Home/joteklem/Pytorch_models/wandb/run-20240418_155016-hb0ooz9z</code>"
      ],
      "text/plain": [
       "<IPython.core.display.HTML object>"
      ]
     },
     "metadata": {},
     "output_type": "display_data"
    },
    {
     "data": {
      "text/html": [
       "Syncing run <strong><a href='https://wandb.ai/master-2024/DistilBERT/runs/hb0ooz9z' target=\"_blank\">trial-10</a></strong> to <a href='https://wandb.ai/master-2024/DistilBERT' target=\"_blank\">Weights & Biases</a> (<a href='https://wandb.me/run' target=\"_blank\">docs</a>)<br/>"
      ],
      "text/plain": [
       "<IPython.core.display.HTML object>"
      ]
     },
     "metadata": {},
     "output_type": "display_data"
    },
    {
     "data": {
      "text/html": [
       " View project at <a href='https://wandb.ai/master-2024/DistilBERT' target=\"_blank\">https://wandb.ai/master-2024/DistilBERT</a>"
      ],
      "text/plain": [
       "<IPython.core.display.HTML object>"
      ]
     },
     "metadata": {},
     "output_type": "display_data"
    },
    {
     "data": {
      "text/html": [
       " View run at <a href='https://wandb.ai/master-2024/DistilBERT/runs/hb0ooz9z' target=\"_blank\">https://wandb.ai/master-2024/DistilBERT/runs/hb0ooz9z</a>"
      ],
      "text/plain": [
       "<IPython.core.display.HTML object>"
      ]
     },
     "metadata": {},
     "output_type": "display_data"
    },
    {
     "name": "stderr",
     "output_type": "stream",
     "text": [
      "/net/fs-2/scale/OrionStore/Scratch/joteklem/MyCondaEnvironments/Python3.11/orion_env/lib/python3.11/site-packages/accelerate/accelerator.py:432: FutureWarning: Passing the following arguments to `Accelerator` is deprecated and will be removed in version 1.0 of Accelerate: dict_keys(['dispatch_batches', 'split_batches', 'even_batches', 'use_seedable_sampler']). Please pass an `accelerate.DataLoaderConfiguration` instead: \n",
      "dataloader_config = DataLoaderConfiguration(dispatch_batches=None, split_batches=False, even_batches=True, use_seedable_sampler=True)\n",
      "  warnings.warn(\n",
      "Detected kernel version 3.10.0, which is below the recommended minimum of 5.5.0; this can cause the process to hang. It is recommended to upgrade the kernel to the minimum version or higher.\n"
     ]
    },
    {
     "name": "stdout",
     "output_type": "stream",
     "text": [
      "Starting trial 10\n"
     ]
    },
    {
     "data": {
      "text/html": [
       "\n",
       "    <div>\n",
       "      \n",
       "      <progress value='1266' max='1266' style='width:300px; height:20px; vertical-align: middle;'></progress>\n",
       "      [1266/1266 01:25, Epoch 2/2]\n",
       "    </div>\n",
       "    <table border=\"1\" class=\"dataframe\">\n",
       "  <thead>\n",
       " <tr style=\"text-align: left;\">\n",
       "      <th>Epoch</th>\n",
       "      <th>Training Loss</th>\n",
       "      <th>Validation Loss</th>\n",
       "      <th>Accuracy</th>\n",
       "      <th>Balanced accuracy</th>\n",
       "      <th>F1 weighted</th>\n",
       "      <th>F1 macro</th>\n",
       "      <th>F1 micro</th>\n",
       "      <th>Classification report</th>\n",
       "    </tr>\n",
       "  </thead>\n",
       "  <tbody>\n",
       "    <tr>\n",
       "      <td>1</td>\n",
       "      <td>No log</td>\n",
       "      <td>0.496872</td>\n",
       "      <td>0.823460</td>\n",
       "      <td>0.729487</td>\n",
       "      <td>0.820155</td>\n",
       "      <td>0.744078</td>\n",
       "      <td>0.823460</td>\n",
       "      <td>{'0': {'precision': 0.7870485678704857, 'recall': 0.7022222222222222, 'f1-score': 0.7422196124486201, 'support': 900.0}, '1': {'precision': 0.8589519650655022, 'recall': 0.9098057354301573, 'f1-score': 0.8836477987421384, 'support': 2162.0}, '2': {'precision': 0.6395759717314488, 'recall': 0.5764331210191083, 'f1-score': 0.6063651591289781, 'support': 314.0}, 'accuracy': 0.8234597156398105, 'macro avg': {'precision': 0.7618588348891455, 'recall': 0.7294870262238292, 'f1-score': 0.7440775234399122, 'support': 3376.0}, 'weighted avg': {'precision': 0.8193793586133672, 'recall': 0.8234597156398105, 'f1-score': 0.8201548732377844, 'support': 3376.0}}</td>\n",
       "    </tr>\n",
       "    <tr>\n",
       "      <td>2</td>\n",
       "      <td>0.514100</td>\n",
       "      <td>0.453166</td>\n",
       "      <td>0.831457</td>\n",
       "      <td>0.754176</td>\n",
       "      <td>0.828822</td>\n",
       "      <td>0.769301</td>\n",
       "      <td>0.831457</td>\n",
       "      <td>{'0': {'precision': 0.7831912302070646, 'recall': 0.7144444444444444, 'f1-score': 0.7472399767576989, 'support': 900.0}, '1': {'precision': 0.8632365875109939, 'recall': 0.9079555966697502, 'f1-score': 0.8850315599639315, 'support': 2162.0}, '2': {'precision': 0.7153024911032029, 'recall': 0.6401273885350318, 'f1-score': 0.6756302521008404, 'support': 314.0}, 'accuracy': 0.831457345971564, 'macro avg': {'precision': 0.7872434362737538, 'recall': 0.7541758098830754, 'f1-score': 0.7693005962741569, 'support': 3376.0}, 'weighted avg': {'precision': 0.8281382084098141, 'recall': 0.831457345971564, 'f1-score': 0.828821715309127, 'support': 3376.0}}</td>\n",
       "    </tr>\n",
       "  </tbody>\n",
       "</table><p>"
      ],
      "text/plain": [
       "<IPython.core.display.HTML object>"
      ]
     },
     "metadata": {},
     "output_type": "display_data"
    },
    {
     "data": {
      "text/html": [
       "\n",
       "    <div>\n",
       "      \n",
       "      <progress value='422' max='422' style='width:300px; height:20px; vertical-align: middle;'></progress>\n",
       "      [422/422 00:02]\n",
       "    </div>\n",
       "    "
      ],
      "text/plain": [
       "<IPython.core.display.HTML object>"
      ]
     },
     "metadata": {},
     "output_type": "display_data"
    },
    {
     "name": "stderr",
     "output_type": "stream",
     "text": [
      "/net/fs-2/scale/OrionStore/Scratch/joteklem/MyCondaEnvironments/Python3.11/orion_env/lib/python3.11/site-packages/optuna/trial/_trial.py:499: UserWarning: The reported value is ignored because this `step` 2.0 is already reported.\n",
      "  warnings.warn(\n"
     ]
    },
    {
     "name": "stdout",
     "output_type": "stream",
     "text": [
      "Completed trial 10\n"
     ]
    },
    {
     "data": {
      "text/html": [
       "<style>\n",
       "    table.wandb td:nth-child(1) { padding: 0 10px; text-align: left ; width: auto;} td:nth-child(2) {text-align: left ; width: 100%}\n",
       "    .wandb-row { display: flex; flex-direction: row; flex-wrap: wrap; justify-content: flex-start; width: 100% }\n",
       "    .wandb-col { display: flex; flex-direction: column; flex-basis: 100%; flex: 1; padding: 10px; }\n",
       "    </style>\n",
       "<div class=\"wandb-row\"><div class=\"wandb-col\"><h3>Run history:</h3><br/><table class=\"wandb\"><tr><td>Macro F1 score</td><td>▁</td></tr><tr><td>Training loss</td><td>▁</td></tr><tr><td>Validation loss</td><td>▁</td></tr><tr><td>eval/Accuracy</td><td>▁██</td></tr><tr><td>eval/Balanced accuracy</td><td>▁██</td></tr><tr><td>eval/F1 macro</td><td>▁██</td></tr><tr><td>eval/F1 micro</td><td>▁██</td></tr><tr><td>eval/F1 weighted</td><td>▁██</td></tr><tr><td>eval/loss</td><td>█▁▁</td></tr><tr><td>eval/runtime</td><td>▄▁█</td></tr><tr><td>eval/samples_per_second</td><td>▅█▁</td></tr><tr><td>eval/steps_per_second</td><td>▅█▁</td></tr><tr><td>train/epoch</td><td>▁████</td></tr><tr><td>train/global_step</td><td>▁██████</td></tr><tr><td>train/grad_norm</td><td>▁</td></tr><tr><td>train/learning_rate</td><td>▁</td></tr><tr><td>train/loss</td><td>▁</td></tr><tr><td>train/total_flos</td><td>▁</td></tr><tr><td>train/train_loss</td><td>▁</td></tr><tr><td>train/train_runtime</td><td>▁</td></tr><tr><td>train/train_samples_per_second</td><td>▁</td></tr><tr><td>train/train_steps_per_second</td><td>▁</td></tr></table><br/></div><div class=\"wandb-col\"><h3>Run summary:</h3><br/><table class=\"wandb\"><tr><td>Macro F1 score</td><td>0.7693</td></tr><tr><td>Training loss</td><td>0.5141</td></tr><tr><td>Validation loss</td><td>0.49687</td></tr><tr><td>eval/Accuracy</td><td>0.83146</td></tr><tr><td>eval/Balanced accuracy</td><td>0.75418</td></tr><tr><td>eval/F1 macro</td><td>0.7693</td></tr><tr><td>eval/F1 micro</td><td>0.83146</td></tr><tr><td>eval/F1 weighted</td><td>0.82882</td></tr><tr><td>eval/loss</td><td>0.45317</td></tr><tr><td>eval/runtime</td><td>2.856</td></tr><tr><td>eval/samples_per_second</td><td>1182.071</td></tr><tr><td>eval/steps_per_second</td><td>147.759</td></tr><tr><td>train/epoch</td><td>2.0</td></tr><tr><td>train/global_step</td><td>1266</td></tr><tr><td>train/grad_norm</td><td>6.7949</td></tr><tr><td>train/learning_rate</td><td>0.0</td></tr><tr><td>train/loss</td><td>0.5141</td></tr><tr><td>train/total_flos</td><td>646893309720528.0</td></tr><tr><td>train/train_loss</td><td>0.51406</td></tr><tr><td>train/train_runtime</td><td>85.4491</td></tr><tr><td>train/train_samples_per_second</td><td>237.053</td></tr><tr><td>train/train_steps_per_second</td><td>14.816</td></tr></table><br/></div></div>"
      ],
      "text/plain": [
       "<IPython.core.display.HTML object>"
      ]
     },
     "metadata": {},
     "output_type": "display_data"
    },
    {
     "data": {
      "text/html": [
       " View run <strong style=\"color:#cdcd00\">trial-10</strong> at: <a href='https://wandb.ai/master-2024/DistilBERT/runs/hb0ooz9z' target=\"_blank\">https://wandb.ai/master-2024/DistilBERT/runs/hb0ooz9z</a><br/>Synced 5 W&B file(s), 0 media file(s), 0 artifact file(s) and 0 other file(s)"
      ],
      "text/plain": [
       "<IPython.core.display.HTML object>"
      ]
     },
     "metadata": {},
     "output_type": "display_data"
    },
    {
     "data": {
      "text/html": [
       "Find logs at: <code>./wandb/run-20240418_155016-hb0ooz9z/logs</code>"
      ],
      "text/plain": [
       "<IPython.core.display.HTML object>"
      ]
     },
     "metadata": {},
     "output_type": "display_data"
    },
    {
     "name": "stderr",
     "output_type": "stream",
     "text": [
      "[I 2024-04-18 15:51:57,631] Trial 10 finished with value: 0.7693005962741569 and parameters: {'learning_rate': 9.79559446628514e-05, 'per_device_train_batch_size': 8, 'weight_decay': 0.008869008426088724, 'num_train_epochs': 2, 'warmup_steps': 351}. Best is trial 6 with value: 0.7828214696705503.\n"
     ]
    },
    {
     "data": {
      "text/html": [
       "wandb version 0.16.6 is available!  To upgrade, please run:\n",
       " $ pip install wandb --upgrade"
      ],
      "text/plain": [
       "<IPython.core.display.HTML object>"
      ]
     },
     "metadata": {},
     "output_type": "display_data"
    },
    {
     "data": {
      "text/html": [
       "Tracking run with wandb version 0.16.4"
      ],
      "text/plain": [
       "<IPython.core.display.HTML object>"
      ]
     },
     "metadata": {},
     "output_type": "display_data"
    },
    {
     "data": {
      "text/html": [
       "Run data is saved locally in <code>/net/fs-2/scale/OrionStore/Home/joteklem/Pytorch_models/wandb/run-20240418_155157-orozxlck</code>"
      ],
      "text/plain": [
       "<IPython.core.display.HTML object>"
      ]
     },
     "metadata": {},
     "output_type": "display_data"
    },
    {
     "data": {
      "text/html": [
       "Syncing run <strong><a href='https://wandb.ai/master-2024/DistilBERT/runs/orozxlck' target=\"_blank\">trial-11</a></strong> to <a href='https://wandb.ai/master-2024/DistilBERT' target=\"_blank\">Weights & Biases</a> (<a href='https://wandb.me/run' target=\"_blank\">docs</a>)<br/>"
      ],
      "text/plain": [
       "<IPython.core.display.HTML object>"
      ]
     },
     "metadata": {},
     "output_type": "display_data"
    },
    {
     "data": {
      "text/html": [
       " View project at <a href='https://wandb.ai/master-2024/DistilBERT' target=\"_blank\">https://wandb.ai/master-2024/DistilBERT</a>"
      ],
      "text/plain": [
       "<IPython.core.display.HTML object>"
      ]
     },
     "metadata": {},
     "output_type": "display_data"
    },
    {
     "data": {
      "text/html": [
       " View run at <a href='https://wandb.ai/master-2024/DistilBERT/runs/orozxlck' target=\"_blank\">https://wandb.ai/master-2024/DistilBERT/runs/orozxlck</a>"
      ],
      "text/plain": [
       "<IPython.core.display.HTML object>"
      ]
     },
     "metadata": {},
     "output_type": "display_data"
    },
    {
     "name": "stderr",
     "output_type": "stream",
     "text": [
      "/net/fs-2/scale/OrionStore/Scratch/joteklem/MyCondaEnvironments/Python3.11/orion_env/lib/python3.11/site-packages/accelerate/accelerator.py:432: FutureWarning: Passing the following arguments to `Accelerator` is deprecated and will be removed in version 1.0 of Accelerate: dict_keys(['dispatch_batches', 'split_batches', 'even_batches', 'use_seedable_sampler']). Please pass an `accelerate.DataLoaderConfiguration` instead: \n",
      "dataloader_config = DataLoaderConfiguration(dispatch_batches=None, split_batches=False, even_batches=True, use_seedable_sampler=True)\n",
      "  warnings.warn(\n",
      "Detected kernel version 3.10.0, which is below the recommended minimum of 5.5.0; this can cause the process to hang. It is recommended to upgrade the kernel to the minimum version or higher.\n"
     ]
    },
    {
     "name": "stdout",
     "output_type": "stream",
     "text": [
      "Starting trial 11\n"
     ]
    },
    {
     "data": {
      "text/html": [
       "\n",
       "    <div>\n",
       "      \n",
       "      <progress value='316' max='316' style='width:300px; height:20px; vertical-align: middle;'></progress>\n",
       "      [316/316 00:38, Epoch 1/2]\n",
       "    </div>\n",
       "    <table border=\"1\" class=\"dataframe\">\n",
       "  <thead>\n",
       " <tr style=\"text-align: left;\">\n",
       "      <th>Epoch</th>\n",
       "      <th>Training Loss</th>\n",
       "      <th>Validation Loss</th>\n",
       "      <th>Accuracy</th>\n",
       "      <th>Balanced accuracy</th>\n",
       "      <th>F1 weighted</th>\n",
       "      <th>F1 macro</th>\n",
       "      <th>F1 micro</th>\n",
       "      <th>Classification report</th>\n",
       "    </tr>\n",
       "  </thead>\n",
       "  <tbody>\n",
       "    <tr>\n",
       "      <td>0</td>\n",
       "      <td>No log</td>\n",
       "      <td>0.508563</td>\n",
       "      <td>0.811908</td>\n",
       "      <td>0.750431</td>\n",
       "      <td>0.812531</td>\n",
       "      <td>0.735444</td>\n",
       "      <td>0.811908</td>\n",
       "      <td>{'0': {'precision': 0.8201936376210235, 'recall': 0.6588888888888889, 'f1-score': 0.7307455329636475, 'support': 900.0}, '1': {'precision': 0.8641864634692963, 'recall': 0.8917668825161887, 'f1-score': 0.8777600728431596, 'support': 2162.0}, '2': {'precision': 0.5213270142180095, 'recall': 0.7006369426751592, 'f1-score': 0.5978260869565217, 'support': 314.0}, 'accuracy': 0.8119075829383886, 'macro avg': {'precision': 0.7352357051027765, 'recall': 0.7504309046934122, 'f1-score': 0.7354438975877763, 'support': 3376.0}, 'weighted avg': {'precision': 0.8205693395568705, 'recall': 0.8119075829383886, 'f1-score': 0.8125312939746866, 'support': 3376.0}}</td>\n",
       "    </tr>\n",
       "    <tr>\n",
       "      <td>1</td>\n",
       "      <td>0.604200</td>\n",
       "      <td>0.468056</td>\n",
       "      <td>0.829384</td>\n",
       "      <td>0.711384</td>\n",
       "      <td>0.818913</td>\n",
       "      <td>0.751648</td>\n",
       "      <td>0.829384</td>\n",
       "      <td>{'0': {'precision': 0.8739770867430442, 'recall': 0.5933333333333334, 'f1-score': 0.7068166776968896, 'support': 900.0}, '1': {'precision': 0.8241106719367589, 'recall': 0.9643848288621647, 'f1-score': 0.8887468030690537, 'support': 2162.0}, '2': {'precision': 0.7702127659574468, 'recall': 0.5764331210191083, 'f1-score': 0.6593806921675774, 'support': 314.0}, 'accuracy': 0.8293838862559242, 'macro avg': {'precision': 0.82276684154575, 'recall': 0.7113837610715356, 'f1-score': 0.7516480576445069, 'support': 3376.0}, 'weighted avg': {'precision': 0.8323914275197425, 'recall': 0.8293838862559242, 'f1-score': 0.8189132510376523, 'support': 3376.0}}</td>\n",
       "    </tr>\n",
       "  </tbody>\n",
       "</table><p>"
      ],
      "text/plain": [
       "<IPython.core.display.HTML object>"
      ]
     },
     "metadata": {},
     "output_type": "display_data"
    },
    {
     "data": {
      "text/html": [
       "\n",
       "    <div>\n",
       "      \n",
       "      <progress value='106' max='106' style='width:300px; height:20px; vertical-align: middle;'></progress>\n",
       "      [106/106 00:01]\n",
       "    </div>\n",
       "    "
      ],
      "text/plain": [
       "<IPython.core.display.HTML object>"
      ]
     },
     "metadata": {},
     "output_type": "display_data"
    },
    {
     "name": "stderr",
     "output_type": "stream",
     "text": [
      "/net/fs-2/scale/OrionStore/Scratch/joteklem/MyCondaEnvironments/Python3.11/orion_env/lib/python3.11/site-packages/optuna/trial/_trial.py:499: UserWarning: The reported value is ignored because this `step` 1.9936908517350158 is already reported.\n",
      "  warnings.warn(\n"
     ]
    },
    {
     "name": "stdout",
     "output_type": "stream",
     "text": [
      "Completed trial 11\n"
     ]
    },
    {
     "data": {
      "text/html": [
       "<style>\n",
       "    table.wandb td:nth-child(1) { padding: 0 10px; text-align: left ; width: auto;} td:nth-child(2) {text-align: left ; width: 100%}\n",
       "    .wandb-row { display: flex; flex-direction: row; flex-wrap: wrap; justify-content: flex-start; width: 100% }\n",
       "    .wandb-col { display: flex; flex-direction: column; flex-basis: 100%; flex: 1; padding: 10px; }\n",
       "    </style>\n",
       "<div class=\"wandb-row\"><div class=\"wandb-col\"><h3>Run history:</h3><br/><table class=\"wandb\"><tr><td>Macro F1 score</td><td>▁</td></tr><tr><td>Training loss</td><td>▁</td></tr><tr><td>Validation loss</td><td>▁</td></tr><tr><td>eval/Accuracy</td><td>▁██</td></tr><tr><td>eval/Balanced accuracy</td><td>█▁▁</td></tr><tr><td>eval/F1 macro</td><td>▁██</td></tr><tr><td>eval/F1 micro</td><td>▁██</td></tr><tr><td>eval/F1 weighted</td><td>▁██</td></tr><tr><td>eval/loss</td><td>█▁▁</td></tr><tr><td>eval/runtime</td><td>▁▁█</td></tr><tr><td>eval/samples_per_second</td><td>██▁</td></tr><tr><td>eval/steps_per_second</td><td>██▁</td></tr><tr><td>train/epoch</td><td>▁████</td></tr><tr><td>train/global_step</td><td>▁██████</td></tr><tr><td>train/grad_norm</td><td>▁</td></tr><tr><td>train/learning_rate</td><td>▁</td></tr><tr><td>train/loss</td><td>▁</td></tr><tr><td>train/total_flos</td><td>▁</td></tr><tr><td>train/train_loss</td><td>▁</td></tr><tr><td>train/train_runtime</td><td>▁</td></tr><tr><td>train/train_samples_per_second</td><td>▁</td></tr><tr><td>train/train_steps_per_second</td><td>▁</td></tr></table><br/></div><div class=\"wandb-col\"><h3>Run summary:</h3><br/><table class=\"wandb\"><tr><td>Macro F1 score</td><td>0.75165</td></tr><tr><td>Training loss</td><td>0.6042</td></tr><tr><td>Validation loss</td><td>0.50856</td></tr><tr><td>eval/Accuracy</td><td>0.82938</td></tr><tr><td>eval/Balanced accuracy</td><td>0.71138</td></tr><tr><td>eval/F1 macro</td><td>0.75165</td></tr><tr><td>eval/F1 micro</td><td>0.82938</td></tr><tr><td>eval/F1 weighted</td><td>0.81891</td></tr><tr><td>eval/loss</td><td>0.46806</td></tr><tr><td>eval/runtime</td><td>1.9922</td></tr><tr><td>eval/samples_per_second</td><td>1694.62</td></tr><tr><td>eval/steps_per_second</td><td>53.208</td></tr><tr><td>train/epoch</td><td>1.99</td></tr><tr><td>train/global_step</td><td>316</td></tr><tr><td>train/grad_norm</td><td>3.73128</td></tr><tr><td>train/learning_rate</td><td>6e-05</td></tr><tr><td>train/loss</td><td>0.6042</td></tr><tr><td>train/total_flos</td><td>805221582064416.0</td></tr><tr><td>train/train_loss</td><td>0.60417</td></tr><tr><td>train/train_runtime</td><td>38.9411</td></tr><tr><td>train/train_samples_per_second</td><td>520.17</td></tr><tr><td>train/train_steps_per_second</td><td>8.115</td></tr></table><br/></div></div>"
      ],
      "text/plain": [
       "<IPython.core.display.HTML object>"
      ]
     },
     "metadata": {},
     "output_type": "display_data"
    },
    {
     "data": {
      "text/html": [
       " View run <strong style=\"color:#cdcd00\">trial-11</strong> at: <a href='https://wandb.ai/master-2024/DistilBERT/runs/orozxlck' target=\"_blank\">https://wandb.ai/master-2024/DistilBERT/runs/orozxlck</a><br/>Synced 5 W&B file(s), 0 media file(s), 0 artifact file(s) and 0 other file(s)"
      ],
      "text/plain": [
       "<IPython.core.display.HTML object>"
      ]
     },
     "metadata": {},
     "output_type": "display_data"
    },
    {
     "data": {
      "text/html": [
       "Find logs at: <code>./wandb/run-20240418_155157-orozxlck/logs</code>"
      ],
      "text/plain": [
       "<IPython.core.display.HTML object>"
      ]
     },
     "metadata": {},
     "output_type": "display_data"
    },
    {
     "name": "stderr",
     "output_type": "stream",
     "text": [
      "[I 2024-04-18 15:52:46,250] Trial 11 finished with value: 0.7516480576445069 and parameters: {'learning_rate': 9.801650533246276e-05, 'per_device_train_batch_size': 32, 'weight_decay': 0.2320811083153771, 'num_train_epochs': 2, 'warmup_steps': 498}. Best is trial 6 with value: 0.7828214696705503.\n"
     ]
    },
    {
     "data": {
      "text/html": [
       "wandb version 0.16.6 is available!  To upgrade, please run:\n",
       " $ pip install wandb --upgrade"
      ],
      "text/plain": [
       "<IPython.core.display.HTML object>"
      ]
     },
     "metadata": {},
     "output_type": "display_data"
    },
    {
     "data": {
      "text/html": [
       "Tracking run with wandb version 0.16.4"
      ],
      "text/plain": [
       "<IPython.core.display.HTML object>"
      ]
     },
     "metadata": {},
     "output_type": "display_data"
    },
    {
     "data": {
      "text/html": [
       "Run data is saved locally in <code>/net/fs-2/scale/OrionStore/Home/joteklem/Pytorch_models/wandb/run-20240418_155246-8pciqlue</code>"
      ],
      "text/plain": [
       "<IPython.core.display.HTML object>"
      ]
     },
     "metadata": {},
     "output_type": "display_data"
    },
    {
     "data": {
      "text/html": [
       "Syncing run <strong><a href='https://wandb.ai/master-2024/DistilBERT/runs/8pciqlue' target=\"_blank\">trial-12</a></strong> to <a href='https://wandb.ai/master-2024/DistilBERT' target=\"_blank\">Weights & Biases</a> (<a href='https://wandb.me/run' target=\"_blank\">docs</a>)<br/>"
      ],
      "text/plain": [
       "<IPython.core.display.HTML object>"
      ]
     },
     "metadata": {},
     "output_type": "display_data"
    },
    {
     "data": {
      "text/html": [
       " View project at <a href='https://wandb.ai/master-2024/DistilBERT' target=\"_blank\">https://wandb.ai/master-2024/DistilBERT</a>"
      ],
      "text/plain": [
       "<IPython.core.display.HTML object>"
      ]
     },
     "metadata": {},
     "output_type": "display_data"
    },
    {
     "data": {
      "text/html": [
       " View run at <a href='https://wandb.ai/master-2024/DistilBERT/runs/8pciqlue' target=\"_blank\">https://wandb.ai/master-2024/DistilBERT/runs/8pciqlue</a>"
      ],
      "text/plain": [
       "<IPython.core.display.HTML object>"
      ]
     },
     "metadata": {},
     "output_type": "display_data"
    },
    {
     "name": "stderr",
     "output_type": "stream",
     "text": [
      "/net/fs-2/scale/OrionStore/Scratch/joteklem/MyCondaEnvironments/Python3.11/orion_env/lib/python3.11/site-packages/accelerate/accelerator.py:432: FutureWarning: Passing the following arguments to `Accelerator` is deprecated and will be removed in version 1.0 of Accelerate: dict_keys(['dispatch_batches', 'split_batches', 'even_batches', 'use_seedable_sampler']). Please pass an `accelerate.DataLoaderConfiguration` instead: \n",
      "dataloader_config = DataLoaderConfiguration(dispatch_batches=None, split_batches=False, even_batches=True, use_seedable_sampler=True)\n",
      "  warnings.warn(\n",
      "Detected kernel version 3.10.0, which is below the recommended minimum of 5.5.0; this can cause the process to hang. It is recommended to upgrade the kernel to the minimum version or higher.\n"
     ]
    },
    {
     "name": "stdout",
     "output_type": "stream",
     "text": [
      "Starting trial 12\n"
     ]
    },
    {
     "data": {
      "text/html": [
       "\n",
       "    <div>\n",
       "      \n",
       "      <progress value='159' max='316' style='width:300px; height:20px; vertical-align: middle;'></progress>\n",
       "      [159/316 00:17 < 00:17, 9.06 it/s, Epoch 1.00/2]\n",
       "    </div>\n",
       "    <table border=\"1\" class=\"dataframe\">\n",
       "  <thead>\n",
       " <tr style=\"text-align: left;\">\n",
       "      <th>Epoch</th>\n",
       "      <th>Training Loss</th>\n",
       "      <th>Validation Loss</th>\n",
       "    </tr>\n",
       "  </thead>\n",
       "  <tbody>\n",
       "  </tbody>\n",
       "</table><p>\n",
       "    <div>\n",
       "      \n",
       "      <progress value='106' max='106' style='width:300px; height:20px; vertical-align: middle;'></progress>\n",
       "      [106/106 00:01]\n",
       "    </div>\n",
       "    "
      ],
      "text/plain": [
       "<IPython.core.display.HTML object>"
      ]
     },
     "metadata": {},
     "output_type": "display_data"
    },
    {
     "name": "stderr",
     "output_type": "stream",
     "text": [
      "[I 2024-04-18 15:53:08,726] Trial 12 pruned. \n"
     ]
    },
    {
     "data": {
      "text/html": [
       "Finishing last run (ID:8pciqlue) before initializing another..."
      ],
      "text/plain": [
       "<IPython.core.display.HTML object>"
      ]
     },
     "metadata": {},
     "output_type": "display_data"
    },
    {
     "data": {
      "text/html": [
       "<style>\n",
       "    table.wandb td:nth-child(1) { padding: 0 10px; text-align: left ; width: auto;} td:nth-child(2) {text-align: left ; width: 100%}\n",
       "    .wandb-row { display: flex; flex-direction: row; flex-wrap: wrap; justify-content: flex-start; width: 100% }\n",
       "    .wandb-col { display: flex; flex-direction: column; flex-basis: 100%; flex: 1; padding: 10px; }\n",
       "    </style>\n",
       "<div class=\"wandb-row\"><div class=\"wandb-col\"><h3>Run history:</h3><br/><table class=\"wandb\"><tr><td>eval/Accuracy</td><td>▁</td></tr><tr><td>eval/Balanced accuracy</td><td>▁</td></tr><tr><td>eval/F1 macro</td><td>▁</td></tr><tr><td>eval/F1 micro</td><td>▁</td></tr><tr><td>eval/F1 weighted</td><td>▁</td></tr><tr><td>eval/loss</td><td>▁</td></tr><tr><td>eval/runtime</td><td>▁</td></tr><tr><td>eval/samples_per_second</td><td>▁</td></tr><tr><td>eval/steps_per_second</td><td>▁</td></tr><tr><td>train/epoch</td><td>▁</td></tr><tr><td>train/global_step</td><td>▁</td></tr></table><br/></div><div class=\"wandb-col\"><h3>Run summary:</h3><br/><table class=\"wandb\"><tr><td>eval/Accuracy</td><td>0.77962</td></tr><tr><td>eval/Balanced accuracy</td><td>0.53465</td></tr><tr><td>eval/F1 macro</td><td>0.5213</td></tr><tr><td>eval/F1 micro</td><td>0.77962</td></tr><tr><td>eval/F1 weighted</td><td>0.73724</td></tr><tr><td>eval/loss</td><td>0.61419</td></tr><tr><td>eval/runtime</td><td>1.92</td></tr><tr><td>eval/samples_per_second</td><td>1758.295</td></tr><tr><td>eval/steps_per_second</td><td>55.207</td></tr><tr><td>train/epoch</td><td>1.0</td></tr><tr><td>train/global_step</td><td>158</td></tr></table><br/></div></div>"
      ],
      "text/plain": [
       "<IPython.core.display.HTML object>"
      ]
     },
     "metadata": {},
     "output_type": "display_data"
    },
    {
     "data": {
      "text/html": [
       " View run <strong style=\"color:#cdcd00\">trial-12</strong> at: <a href='https://wandb.ai/master-2024/DistilBERT/runs/8pciqlue' target=\"_blank\">https://wandb.ai/master-2024/DistilBERT/runs/8pciqlue</a><br/>Synced 5 W&B file(s), 0 media file(s), 0 artifact file(s) and 0 other file(s)"
      ],
      "text/plain": [
       "<IPython.core.display.HTML object>"
      ]
     },
     "metadata": {},
     "output_type": "display_data"
    },
    {
     "data": {
      "text/html": [
       "Find logs at: <code>./wandb/run-20240418_155246-8pciqlue/logs</code>"
      ],
      "text/plain": [
       "<IPython.core.display.HTML object>"
      ]
     },
     "metadata": {},
     "output_type": "display_data"
    },
    {
     "data": {
      "text/html": [
       "Successfully finished last run (ID:8pciqlue). Initializing new run:<br/>"
      ],
      "text/plain": [
       "<IPython.core.display.HTML object>"
      ]
     },
     "metadata": {},
     "output_type": "display_data"
    },
    {
     "data": {
      "text/html": [
       "wandb version 0.16.6 is available!  To upgrade, please run:\n",
       " $ pip install wandb --upgrade"
      ],
      "text/plain": [
       "<IPython.core.display.HTML object>"
      ]
     },
     "metadata": {},
     "output_type": "display_data"
    },
    {
     "data": {
      "text/html": [
       "Tracking run with wandb version 0.16.4"
      ],
      "text/plain": [
       "<IPython.core.display.HTML object>"
      ]
     },
     "metadata": {},
     "output_type": "display_data"
    },
    {
     "data": {
      "text/html": [
       "Run data is saved locally in <code>/net/fs-2/scale/OrionStore/Home/joteklem/Pytorch_models/wandb/run-20240418_155308-5r5d3jq6</code>"
      ],
      "text/plain": [
       "<IPython.core.display.HTML object>"
      ]
     },
     "metadata": {},
     "output_type": "display_data"
    },
    {
     "data": {
      "text/html": [
       "Syncing run <strong><a href='https://wandb.ai/master-2024/DistilBERT/runs/5r5d3jq6' target=\"_blank\">trial-13</a></strong> to <a href='https://wandb.ai/master-2024/DistilBERT' target=\"_blank\">Weights & Biases</a> (<a href='https://wandb.me/run' target=\"_blank\">docs</a>)<br/>"
      ],
      "text/plain": [
       "<IPython.core.display.HTML object>"
      ]
     },
     "metadata": {},
     "output_type": "display_data"
    },
    {
     "data": {
      "text/html": [
       " View project at <a href='https://wandb.ai/master-2024/DistilBERT' target=\"_blank\">https://wandb.ai/master-2024/DistilBERT</a>"
      ],
      "text/plain": [
       "<IPython.core.display.HTML object>"
      ]
     },
     "metadata": {},
     "output_type": "display_data"
    },
    {
     "data": {
      "text/html": [
       " View run at <a href='https://wandb.ai/master-2024/DistilBERT/runs/5r5d3jq6' target=\"_blank\">https://wandb.ai/master-2024/DistilBERT/runs/5r5d3jq6</a>"
      ],
      "text/plain": [
       "<IPython.core.display.HTML object>"
      ]
     },
     "metadata": {},
     "output_type": "display_data"
    },
    {
     "name": "stderr",
     "output_type": "stream",
     "text": [
      "/net/fs-2/scale/OrionStore/Scratch/joteklem/MyCondaEnvironments/Python3.11/orion_env/lib/python3.11/site-packages/accelerate/accelerator.py:432: FutureWarning: Passing the following arguments to `Accelerator` is deprecated and will be removed in version 1.0 of Accelerate: dict_keys(['dispatch_batches', 'split_batches', 'even_batches', 'use_seedable_sampler']). Please pass an `accelerate.DataLoaderConfiguration` instead: \n",
      "dataloader_config = DataLoaderConfiguration(dispatch_batches=None, split_batches=False, even_batches=True, use_seedable_sampler=True)\n",
      "  warnings.warn(\n",
      "Detected kernel version 3.10.0, which is below the recommended minimum of 5.5.0; this can cause the process to hang. It is recommended to upgrade the kernel to the minimum version or higher.\n"
     ]
    },
    {
     "name": "stdout",
     "output_type": "stream",
     "text": [
      "Starting trial 13\n"
     ]
    },
    {
     "data": {
      "text/html": [
       "\n",
       "    <div>\n",
       "      \n",
       "      <progress value='316' max='316' style='width:300px; height:20px; vertical-align: middle;'></progress>\n",
       "      [316/316 00:38, Epoch 1/2]\n",
       "    </div>\n",
       "    <table border=\"1\" class=\"dataframe\">\n",
       "  <thead>\n",
       " <tr style=\"text-align: left;\">\n",
       "      <th>Epoch</th>\n",
       "      <th>Training Loss</th>\n",
       "      <th>Validation Loss</th>\n",
       "      <th>Accuracy</th>\n",
       "      <th>Balanced accuracy</th>\n",
       "      <th>F1 weighted</th>\n",
       "      <th>F1 macro</th>\n",
       "      <th>F1 micro</th>\n",
       "      <th>Classification report</th>\n",
       "    </tr>\n",
       "  </thead>\n",
       "  <tbody>\n",
       "    <tr>\n",
       "      <td>0</td>\n",
       "      <td>No log</td>\n",
       "      <td>0.499810</td>\n",
       "      <td>0.813092</td>\n",
       "      <td>0.741456</td>\n",
       "      <td>0.812226</td>\n",
       "      <td>0.735905</td>\n",
       "      <td>0.813092</td>\n",
       "      <td>{'0': {'precision': 0.7997329773030708, 'recall': 0.6655555555555556, 'f1-score': 0.7265009096422075, 'support': 900.0}, '1': {'precision': 0.8609506885828521, 'recall': 0.8963922294172063, 'f1-score': 0.8783140720598233, 'support': 2162.0}, '2': {'precision': 0.5531914893617021, 'recall': 0.6624203821656051, 'f1-score': 0.6028985507246376, 'support': 314.0}, 'accuracy': 0.8130924170616114, 'macro avg': {'precision': 0.7379583850825417, 'recall': 0.7414560557127889, 'f1-score': 0.7359045108088894, 'support': 3376.0}, 'weighted avg': {'precision': 0.8160062784207537, 'recall': 0.8130924170616114, 'f1-score': 0.8122262995849706, 'support': 3376.0}}</td>\n",
       "    </tr>\n",
       "    <tr>\n",
       "      <td>1</td>\n",
       "      <td>0.546100</td>\n",
       "      <td>0.441036</td>\n",
       "      <td>0.827903</td>\n",
       "      <td>0.733441</td>\n",
       "      <td>0.823626</td>\n",
       "      <td>0.756741</td>\n",
       "      <td>0.827903</td>\n",
       "      <td>{'0': {'precision': 0.7827715355805244, 'recall': 0.6966666666666667, 'f1-score': 0.7372134038800705, 'support': 900.0}, '1': {'precision': 0.8548039638087032, 'recall': 0.9176688251618872, 'f1-score': 0.8851215703769797, 'support': 2162.0}, '2': {'precision': 0.7244094488188977, 'recall': 0.5859872611464968, 'f1-score': 0.6478873239436621, 'support': 314.0}, 'accuracy': 0.8279028436018957, 'macro avg': {'precision': 0.787328316069375, 'recall': 0.7334409176583502, 'f1-score': 0.756740766066904, 'support': 3376.0}, 'weighted avg': {'precision': 0.8234730801854331, 'recall': 0.8279028436018957, 'f1-score': 0.823626042169847, 'support': 3376.0}}</td>\n",
       "    </tr>\n",
       "  </tbody>\n",
       "</table><p>"
      ],
      "text/plain": [
       "<IPython.core.display.HTML object>"
      ]
     },
     "metadata": {},
     "output_type": "display_data"
    },
    {
     "data": {
      "text/html": [
       "\n",
       "    <div>\n",
       "      \n",
       "      <progress value='106' max='106' style='width:300px; height:20px; vertical-align: middle;'></progress>\n",
       "      [106/106 00:01]\n",
       "    </div>\n",
       "    "
      ],
      "text/plain": [
       "<IPython.core.display.HTML object>"
      ]
     },
     "metadata": {},
     "output_type": "display_data"
    },
    {
     "name": "stderr",
     "output_type": "stream",
     "text": [
      "/net/fs-2/scale/OrionStore/Scratch/joteklem/MyCondaEnvironments/Python3.11/orion_env/lib/python3.11/site-packages/optuna/trial/_trial.py:499: UserWarning: The reported value is ignored because this `step` 1.9936908517350158 is already reported.\n",
      "  warnings.warn(\n"
     ]
    },
    {
     "name": "stdout",
     "output_type": "stream",
     "text": [
      "Completed trial 13\n"
     ]
    },
    {
     "data": {
      "text/html": [
       "<style>\n",
       "    table.wandb td:nth-child(1) { padding: 0 10px; text-align: left ; width: auto;} td:nth-child(2) {text-align: left ; width: 100%}\n",
       "    .wandb-row { display: flex; flex-direction: row; flex-wrap: wrap; justify-content: flex-start; width: 100% }\n",
       "    .wandb-col { display: flex; flex-direction: column; flex-basis: 100%; flex: 1; padding: 10px; }\n",
       "    </style>\n",
       "<div class=\"wandb-row\"><div class=\"wandb-col\"><h3>Run history:</h3><br/><table class=\"wandb\"><tr><td>Macro F1 score</td><td>▁</td></tr><tr><td>Training loss</td><td>▁</td></tr><tr><td>Validation loss</td><td>▁</td></tr><tr><td>eval/Accuracy</td><td>▁██</td></tr><tr><td>eval/Balanced accuracy</td><td>█▁▁</td></tr><tr><td>eval/F1 macro</td><td>▁██</td></tr><tr><td>eval/F1 micro</td><td>▁██</td></tr><tr><td>eval/F1 weighted</td><td>▁██</td></tr><tr><td>eval/loss</td><td>█▁▁</td></tr><tr><td>eval/runtime</td><td>▁▅█</td></tr><tr><td>eval/samples_per_second</td><td>█▄▁</td></tr><tr><td>eval/steps_per_second</td><td>█▄▁</td></tr><tr><td>train/epoch</td><td>▁████</td></tr><tr><td>train/global_step</td><td>▁██████</td></tr><tr><td>train/grad_norm</td><td>▁</td></tr><tr><td>train/learning_rate</td><td>▁</td></tr><tr><td>train/loss</td><td>▁</td></tr><tr><td>train/total_flos</td><td>▁</td></tr><tr><td>train/train_loss</td><td>▁</td></tr><tr><td>train/train_runtime</td><td>▁</td></tr><tr><td>train/train_samples_per_second</td><td>▁</td></tr><tr><td>train/train_steps_per_second</td><td>▁</td></tr></table><br/></div><div class=\"wandb-col\"><h3>Run summary:</h3><br/><table class=\"wandb\"><tr><td>Macro F1 score</td><td>0.75674</td></tr><tr><td>Training loss</td><td>0.5461</td></tr><tr><td>Validation loss</td><td>0.49981</td></tr><tr><td>eval/Accuracy</td><td>0.8279</td></tr><tr><td>eval/Balanced accuracy</td><td>0.73344</td></tr><tr><td>eval/F1 macro</td><td>0.75674</td></tr><tr><td>eval/F1 micro</td><td>0.8279</td></tr><tr><td>eval/F1 weighted</td><td>0.82363</td></tr><tr><td>eval/loss</td><td>0.44104</td></tr><tr><td>eval/runtime</td><td>1.932</td></tr><tr><td>eval/samples_per_second</td><td>1747.392</td></tr><tr><td>eval/steps_per_second</td><td>54.865</td></tr><tr><td>train/epoch</td><td>1.99</td></tr><tr><td>train/global_step</td><td>316</td></tr><tr><td>train/grad_norm</td><td>1.83443</td></tr><tr><td>train/learning_rate</td><td>0.0</td></tr><tr><td>train/loss</td><td>0.5461</td></tr><tr><td>train/total_flos</td><td>805221582064416.0</td></tr><tr><td>train/train_loss</td><td>0.54612</td></tr><tr><td>train/train_runtime</td><td>38.9613</td></tr><tr><td>train/train_samples_per_second</td><td>519.9</td></tr><tr><td>train/train_steps_per_second</td><td>8.111</td></tr></table><br/></div></div>"
      ],
      "text/plain": [
       "<IPython.core.display.HTML object>"
      ]
     },
     "metadata": {},
     "output_type": "display_data"
    },
    {
     "data": {
      "text/html": [
       " View run <strong style=\"color:#cdcd00\">trial-13</strong> at: <a href='https://wandb.ai/master-2024/DistilBERT/runs/5r5d3jq6' target=\"_blank\">https://wandb.ai/master-2024/DistilBERT/runs/5r5d3jq6</a><br/>Synced 5 W&B file(s), 0 media file(s), 0 artifact file(s) and 0 other file(s)"
      ],
      "text/plain": [
       "<IPython.core.display.HTML object>"
      ]
     },
     "metadata": {},
     "output_type": "display_data"
    },
    {
     "data": {
      "text/html": [
       "Find logs at: <code>./wandb/run-20240418_155308-5r5d3jq6/logs</code>"
      ],
      "text/plain": [
       "<IPython.core.display.HTML object>"
      ]
     },
     "metadata": {},
     "output_type": "display_data"
    },
    {
     "name": "stderr",
     "output_type": "stream",
     "text": [
      "[I 2024-04-18 15:54:01,818] Trial 13 finished with value: 0.756740766066904 and parameters: {'learning_rate': 0.0001853642529114672, 'per_device_train_batch_size': 32, 'weight_decay': 0.005854510354935838, 'num_train_epochs': 2, 'warmup_steps': 189}. Best is trial 6 with value: 0.7828214696705503.\n"
     ]
    },
    {
     "data": {
      "text/html": [
       "wandb version 0.16.6 is available!  To upgrade, please run:\n",
       " $ pip install wandb --upgrade"
      ],
      "text/plain": [
       "<IPython.core.display.HTML object>"
      ]
     },
     "metadata": {},
     "output_type": "display_data"
    },
    {
     "data": {
      "text/html": [
       "Tracking run with wandb version 0.16.4"
      ],
      "text/plain": [
       "<IPython.core.display.HTML object>"
      ]
     },
     "metadata": {},
     "output_type": "display_data"
    },
    {
     "data": {
      "text/html": [
       "Run data is saved locally in <code>/net/fs-2/scale/OrionStore/Home/joteklem/Pytorch_models/wandb/run-20240418_155401-481s7aae</code>"
      ],
      "text/plain": [
       "<IPython.core.display.HTML object>"
      ]
     },
     "metadata": {},
     "output_type": "display_data"
    },
    {
     "data": {
      "text/html": [
       "Syncing run <strong><a href='https://wandb.ai/master-2024/DistilBERT/runs/481s7aae' target=\"_blank\">trial-14</a></strong> to <a href='https://wandb.ai/master-2024/DistilBERT' target=\"_blank\">Weights & Biases</a> (<a href='https://wandb.me/run' target=\"_blank\">docs</a>)<br/>"
      ],
      "text/plain": [
       "<IPython.core.display.HTML object>"
      ]
     },
     "metadata": {},
     "output_type": "display_data"
    },
    {
     "data": {
      "text/html": [
       " View project at <a href='https://wandb.ai/master-2024/DistilBERT' target=\"_blank\">https://wandb.ai/master-2024/DistilBERT</a>"
      ],
      "text/plain": [
       "<IPython.core.display.HTML object>"
      ]
     },
     "metadata": {},
     "output_type": "display_data"
    },
    {
     "data": {
      "text/html": [
       " View run at <a href='https://wandb.ai/master-2024/DistilBERT/runs/481s7aae' target=\"_blank\">https://wandb.ai/master-2024/DistilBERT/runs/481s7aae</a>"
      ],
      "text/plain": [
       "<IPython.core.display.HTML object>"
      ]
     },
     "metadata": {},
     "output_type": "display_data"
    },
    {
     "name": "stderr",
     "output_type": "stream",
     "text": [
      "/net/fs-2/scale/OrionStore/Scratch/joteklem/MyCondaEnvironments/Python3.11/orion_env/lib/python3.11/site-packages/accelerate/accelerator.py:432: FutureWarning: Passing the following arguments to `Accelerator` is deprecated and will be removed in version 1.0 of Accelerate: dict_keys(['dispatch_batches', 'split_batches', 'even_batches', 'use_seedable_sampler']). Please pass an `accelerate.DataLoaderConfiguration` instead: \n",
      "dataloader_config = DataLoaderConfiguration(dispatch_batches=None, split_batches=False, even_batches=True, use_seedable_sampler=True)\n",
      "  warnings.warn(\n",
      "Detected kernel version 3.10.0, which is below the recommended minimum of 5.5.0; this can cause the process to hang. It is recommended to upgrade the kernel to the minimum version or higher.\n"
     ]
    },
    {
     "name": "stdout",
     "output_type": "stream",
     "text": [
      "Starting trial 14\n"
     ]
    },
    {
     "data": {
      "text/html": [
       "\n",
       "    <div>\n",
       "      \n",
       "      <progress value='159' max='632' style='width:300px; height:20px; vertical-align: middle;'></progress>\n",
       "      [159/632 00:17 < 00:52, 9.05 it/s, Epoch 1.00/4]\n",
       "    </div>\n",
       "    <table border=\"1\" class=\"dataframe\">\n",
       "  <thead>\n",
       " <tr style=\"text-align: left;\">\n",
       "      <th>Epoch</th>\n",
       "      <th>Training Loss</th>\n",
       "      <th>Validation Loss</th>\n",
       "    </tr>\n",
       "  </thead>\n",
       "  <tbody>\n",
       "  </tbody>\n",
       "</table><p>\n",
       "    <div>\n",
       "      \n",
       "      <progress value='106' max='106' style='width:300px; height:20px; vertical-align: middle;'></progress>\n",
       "      [106/106 00:01]\n",
       "    </div>\n",
       "    "
      ],
      "text/plain": [
       "<IPython.core.display.HTML object>"
      ]
     },
     "metadata": {},
     "output_type": "display_data"
    },
    {
     "name": "stderr",
     "output_type": "stream",
     "text": [
      "[I 2024-04-18 15:54:24,520] Trial 14 pruned. \n"
     ]
    },
    {
     "data": {
      "text/html": [
       "Finishing last run (ID:481s7aae) before initializing another..."
      ],
      "text/plain": [
       "<IPython.core.display.HTML object>"
      ]
     },
     "metadata": {},
     "output_type": "display_data"
    },
    {
     "data": {
      "text/html": [
       "<style>\n",
       "    table.wandb td:nth-child(1) { padding: 0 10px; text-align: left ; width: auto;} td:nth-child(2) {text-align: left ; width: 100%}\n",
       "    .wandb-row { display: flex; flex-direction: row; flex-wrap: wrap; justify-content: flex-start; width: 100% }\n",
       "    .wandb-col { display: flex; flex-direction: column; flex-basis: 100%; flex: 1; padding: 10px; }\n",
       "    </style>\n",
       "<div class=\"wandb-row\"><div class=\"wandb-col\"><h3>Run history:</h3><br/><table class=\"wandb\"><tr><td>eval/Accuracy</td><td>▁</td></tr><tr><td>eval/Balanced accuracy</td><td>▁</td></tr><tr><td>eval/F1 macro</td><td>▁</td></tr><tr><td>eval/F1 micro</td><td>▁</td></tr><tr><td>eval/F1 weighted</td><td>▁</td></tr><tr><td>eval/loss</td><td>▁</td></tr><tr><td>eval/runtime</td><td>▁</td></tr><tr><td>eval/samples_per_second</td><td>▁</td></tr><tr><td>eval/steps_per_second</td><td>▁</td></tr><tr><td>train/epoch</td><td>▁</td></tr><tr><td>train/global_step</td><td>▁</td></tr></table><br/></div><div class=\"wandb-col\"><h3>Run summary:</h3><br/><table class=\"wandb\"><tr><td>eval/Accuracy</td><td>0.77073</td></tr><tr><td>eval/Balanced accuracy</td><td>0.54018</td></tr><tr><td>eval/F1 macro</td><td>0.51324</td></tr><tr><td>eval/F1 micro</td><td>0.77073</td></tr><tr><td>eval/F1 weighted</td><td>0.73343</td></tr><tr><td>eval/loss</td><td>0.6319</td></tr><tr><td>eval/runtime</td><td>1.9249</td></tr><tr><td>eval/samples_per_second</td><td>1753.895</td></tr><tr><td>eval/steps_per_second</td><td>55.069</td></tr><tr><td>train/epoch</td><td>1.0</td></tr><tr><td>train/global_step</td><td>158</td></tr></table><br/></div></div>"
      ],
      "text/plain": [
       "<IPython.core.display.HTML object>"
      ]
     },
     "metadata": {},
     "output_type": "display_data"
    },
    {
     "data": {
      "text/html": [
       " View run <strong style=\"color:#cdcd00\">trial-14</strong> at: <a href='https://wandb.ai/master-2024/DistilBERT/runs/481s7aae' target=\"_blank\">https://wandb.ai/master-2024/DistilBERT/runs/481s7aae</a><br/>Synced 5 W&B file(s), 0 media file(s), 0 artifact file(s) and 0 other file(s)"
      ],
      "text/plain": [
       "<IPython.core.display.HTML object>"
      ]
     },
     "metadata": {},
     "output_type": "display_data"
    },
    {
     "data": {
      "text/html": [
       "Find logs at: <code>./wandb/run-20240418_155401-481s7aae/logs</code>"
      ],
      "text/plain": [
       "<IPython.core.display.HTML object>"
      ]
     },
     "metadata": {},
     "output_type": "display_data"
    },
    {
     "data": {
      "text/html": [
       "Successfully finished last run (ID:481s7aae). Initializing new run:<br/>"
      ],
      "text/plain": [
       "<IPython.core.display.HTML object>"
      ]
     },
     "metadata": {},
     "output_type": "display_data"
    },
    {
     "data": {
      "text/html": [
       "wandb version 0.16.6 is available!  To upgrade, please run:\n",
       " $ pip install wandb --upgrade"
      ],
      "text/plain": [
       "<IPython.core.display.HTML object>"
      ]
     },
     "metadata": {},
     "output_type": "display_data"
    },
    {
     "data": {
      "text/html": [
       "Tracking run with wandb version 0.16.4"
      ],
      "text/plain": [
       "<IPython.core.display.HTML object>"
      ]
     },
     "metadata": {},
     "output_type": "display_data"
    },
    {
     "data": {
      "text/html": [
       "Run data is saved locally in <code>/net/fs-2/scale/OrionStore/Home/joteklem/Pytorch_models/wandb/run-20240418_155424-8klkeq78</code>"
      ],
      "text/plain": [
       "<IPython.core.display.HTML object>"
      ]
     },
     "metadata": {},
     "output_type": "display_data"
    },
    {
     "data": {
      "text/html": [
       "Syncing run <strong><a href='https://wandb.ai/master-2024/DistilBERT/runs/8klkeq78' target=\"_blank\">trial-15</a></strong> to <a href='https://wandb.ai/master-2024/DistilBERT' target=\"_blank\">Weights & Biases</a> (<a href='https://wandb.me/run' target=\"_blank\">docs</a>)<br/>"
      ],
      "text/plain": [
       "<IPython.core.display.HTML object>"
      ]
     },
     "metadata": {},
     "output_type": "display_data"
    },
    {
     "data": {
      "text/html": [
       " View project at <a href='https://wandb.ai/master-2024/DistilBERT' target=\"_blank\">https://wandb.ai/master-2024/DistilBERT</a>"
      ],
      "text/plain": [
       "<IPython.core.display.HTML object>"
      ]
     },
     "metadata": {},
     "output_type": "display_data"
    },
    {
     "data": {
      "text/html": [
       " View run at <a href='https://wandb.ai/master-2024/DistilBERT/runs/8klkeq78' target=\"_blank\">https://wandb.ai/master-2024/DistilBERT/runs/8klkeq78</a>"
      ],
      "text/plain": [
       "<IPython.core.display.HTML object>"
      ]
     },
     "metadata": {},
     "output_type": "display_data"
    },
    {
     "name": "stderr",
     "output_type": "stream",
     "text": [
      "/net/fs-2/scale/OrionStore/Scratch/joteklem/MyCondaEnvironments/Python3.11/orion_env/lib/python3.11/site-packages/accelerate/accelerator.py:432: FutureWarning: Passing the following arguments to `Accelerator` is deprecated and will be removed in version 1.0 of Accelerate: dict_keys(['dispatch_batches', 'split_batches', 'even_batches', 'use_seedable_sampler']). Please pass an `accelerate.DataLoaderConfiguration` instead: \n",
      "dataloader_config = DataLoaderConfiguration(dispatch_batches=None, split_batches=False, even_batches=True, use_seedable_sampler=True)\n",
      "  warnings.warn(\n",
      "Detected kernel version 3.10.0, which is below the recommended minimum of 5.5.0; this can cause the process to hang. It is recommended to upgrade the kernel to the minimum version or higher.\n"
     ]
    },
    {
     "name": "stdout",
     "output_type": "stream",
     "text": [
      "Starting trial 15\n"
     ]
    },
    {
     "data": {
      "text/html": [
       "\n",
       "    <div>\n",
       "      \n",
       "      <progress value='317' max='632' style='width:300px; height:20px; vertical-align: middle;'></progress>\n",
       "      [316/632 00:19 < 00:19, 15.94 it/s, Epoch 1.00/2]\n",
       "    </div>\n",
       "    <table border=\"1\" class=\"dataframe\">\n",
       "  <thead>\n",
       " <tr style=\"text-align: left;\">\n",
       "      <th>Epoch</th>\n",
       "      <th>Training Loss</th>\n",
       "      <th>Validation Loss</th>\n",
       "    </tr>\n",
       "  </thead>\n",
       "  <tbody>\n",
       "  </tbody>\n",
       "</table><p>\n",
       "    <div>\n",
       "      \n",
       "      <progress value='211' max='211' style='width:300px; height:20px; vertical-align: middle;'></progress>\n",
       "      [211/211 00:01]\n",
       "    </div>\n",
       "    "
      ],
      "text/plain": [
       "<IPython.core.display.HTML object>"
      ]
     },
     "metadata": {},
     "output_type": "display_data"
    },
    {
     "name": "stderr",
     "output_type": "stream",
     "text": [
      "[I 2024-04-18 15:54:53,555] Trial 15 pruned. \n"
     ]
    },
    {
     "data": {
      "text/html": [
       "Finishing last run (ID:8klkeq78) before initializing another..."
      ],
      "text/plain": [
       "<IPython.core.display.HTML object>"
      ]
     },
     "metadata": {},
     "output_type": "display_data"
    },
    {
     "data": {
      "text/html": [
       "<style>\n",
       "    table.wandb td:nth-child(1) { padding: 0 10px; text-align: left ; width: auto;} td:nth-child(2) {text-align: left ; width: 100%}\n",
       "    .wandb-row { display: flex; flex-direction: row; flex-wrap: wrap; justify-content: flex-start; width: 100% }\n",
       "    .wandb-col { display: flex; flex-direction: column; flex-basis: 100%; flex: 1; padding: 10px; }\n",
       "    </style>\n",
       "<div class=\"wandb-row\"><div class=\"wandb-col\"><h3>Run history:</h3><br/><table class=\"wandb\"><tr><td>eval/Accuracy</td><td>▁</td></tr><tr><td>eval/Balanced accuracy</td><td>▁</td></tr><tr><td>eval/F1 macro</td><td>▁</td></tr><tr><td>eval/F1 micro</td><td>▁</td></tr><tr><td>eval/F1 weighted</td><td>▁</td></tr><tr><td>eval/loss</td><td>▁</td></tr><tr><td>eval/runtime</td><td>▁</td></tr><tr><td>eval/samples_per_second</td><td>▁</td></tr><tr><td>eval/steps_per_second</td><td>▁</td></tr><tr><td>train/epoch</td><td>▁</td></tr><tr><td>train/global_step</td><td>▁</td></tr></table><br/></div><div class=\"wandb-col\"><h3>Run summary:</h3><br/><table class=\"wandb\"><tr><td>eval/Accuracy</td><td>0.80598</td></tr><tr><td>eval/Balanced accuracy</td><td>0.75115</td></tr><tr><td>eval/F1 macro</td><td>0.73127</td></tr><tr><td>eval/F1 micro</td><td>0.80598</td></tr><tr><td>eval/F1 weighted</td><td>0.80787</td></tr><tr><td>eval/loss</td><td>0.52906</td></tr><tr><td>eval/runtime</td><td>1.9687</td></tr><tr><td>eval/samples_per_second</td><td>1714.844</td></tr><tr><td>eval/steps_per_second</td><td>107.178</td></tr><tr><td>train/epoch</td><td>1.0</td></tr><tr><td>train/global_step</td><td>316</td></tr></table><br/></div></div>"
      ],
      "text/plain": [
       "<IPython.core.display.HTML object>"
      ]
     },
     "metadata": {},
     "output_type": "display_data"
    },
    {
     "data": {
      "text/html": [
       " View run <strong style=\"color:#cdcd00\">trial-15</strong> at: <a href='https://wandb.ai/master-2024/DistilBERT/runs/8klkeq78' target=\"_blank\">https://wandb.ai/master-2024/DistilBERT/runs/8klkeq78</a><br/>Synced 5 W&B file(s), 0 media file(s), 0 artifact file(s) and 0 other file(s)"
      ],
      "text/plain": [
       "<IPython.core.display.HTML object>"
      ]
     },
     "metadata": {},
     "output_type": "display_data"
    },
    {
     "data": {
      "text/html": [
       "Find logs at: <code>./wandb/run-20240418_155424-8klkeq78/logs</code>"
      ],
      "text/plain": [
       "<IPython.core.display.HTML object>"
      ]
     },
     "metadata": {},
     "output_type": "display_data"
    },
    {
     "data": {
      "text/html": [
       "Successfully finished last run (ID:8klkeq78). Initializing new run:<br/>"
      ],
      "text/plain": [
       "<IPython.core.display.HTML object>"
      ]
     },
     "metadata": {},
     "output_type": "display_data"
    },
    {
     "data": {
      "text/html": [
       "wandb version 0.16.6 is available!  To upgrade, please run:\n",
       " $ pip install wandb --upgrade"
      ],
      "text/plain": [
       "<IPython.core.display.HTML object>"
      ]
     },
     "metadata": {},
     "output_type": "display_data"
    },
    {
     "data": {
      "text/html": [
       "Tracking run with wandb version 0.16.4"
      ],
      "text/plain": [
       "<IPython.core.display.HTML object>"
      ]
     },
     "metadata": {},
     "output_type": "display_data"
    },
    {
     "data": {
      "text/html": [
       "Run data is saved locally in <code>/net/fs-2/scale/OrionStore/Home/joteklem/Pytorch_models/wandb/run-20240418_155453-zgo7orwt</code>"
      ],
      "text/plain": [
       "<IPython.core.display.HTML object>"
      ]
     },
     "metadata": {},
     "output_type": "display_data"
    },
    {
     "data": {
      "text/html": [
       "Syncing run <strong><a href='https://wandb.ai/master-2024/DistilBERT/runs/zgo7orwt' target=\"_blank\">trial-16</a></strong> to <a href='https://wandb.ai/master-2024/DistilBERT' target=\"_blank\">Weights & Biases</a> (<a href='https://wandb.me/run' target=\"_blank\">docs</a>)<br/>"
      ],
      "text/plain": [
       "<IPython.core.display.HTML object>"
      ]
     },
     "metadata": {},
     "output_type": "display_data"
    },
    {
     "data": {
      "text/html": [
       " View project at <a href='https://wandb.ai/master-2024/DistilBERT' target=\"_blank\">https://wandb.ai/master-2024/DistilBERT</a>"
      ],
      "text/plain": [
       "<IPython.core.display.HTML object>"
      ]
     },
     "metadata": {},
     "output_type": "display_data"
    },
    {
     "data": {
      "text/html": [
       " View run at <a href='https://wandb.ai/master-2024/DistilBERT/runs/zgo7orwt' target=\"_blank\">https://wandb.ai/master-2024/DistilBERT/runs/zgo7orwt</a>"
      ],
      "text/plain": [
       "<IPython.core.display.HTML object>"
      ]
     },
     "metadata": {},
     "output_type": "display_data"
    },
    {
     "name": "stderr",
     "output_type": "stream",
     "text": [
      "/net/fs-2/scale/OrionStore/Scratch/joteklem/MyCondaEnvironments/Python3.11/orion_env/lib/python3.11/site-packages/accelerate/accelerator.py:432: FutureWarning: Passing the following arguments to `Accelerator` is deprecated and will be removed in version 1.0 of Accelerate: dict_keys(['dispatch_batches', 'split_batches', 'even_batches', 'use_seedable_sampler']). Please pass an `accelerate.DataLoaderConfiguration` instead: \n",
      "dataloader_config = DataLoaderConfiguration(dispatch_batches=None, split_batches=False, even_batches=True, use_seedable_sampler=True)\n",
      "  warnings.warn(\n",
      "Detected kernel version 3.10.0, which is below the recommended minimum of 5.5.0; this can cause the process to hang. It is recommended to upgrade the kernel to the minimum version or higher.\n"
     ]
    },
    {
     "name": "stdout",
     "output_type": "stream",
     "text": [
      "Starting trial 16\n"
     ]
    },
    {
     "data": {
      "text/html": [
       "\n",
       "    <div>\n",
       "      \n",
       "      <progress value='159' max='790' style='width:300px; height:20px; vertical-align: middle;'></progress>\n",
       "      [159/790 00:17 < 01:09, 9.06 it/s, Epoch 1.00/5]\n",
       "    </div>\n",
       "    <table border=\"1\" class=\"dataframe\">\n",
       "  <thead>\n",
       " <tr style=\"text-align: left;\">\n",
       "      <th>Epoch</th>\n",
       "      <th>Training Loss</th>\n",
       "      <th>Validation Loss</th>\n",
       "    </tr>\n",
       "  </thead>\n",
       "  <tbody>\n",
       "  </tbody>\n",
       "</table><p>\n",
       "    <div>\n",
       "      \n",
       "      <progress value='106' max='106' style='width:300px; height:20px; vertical-align: middle;'></progress>\n",
       "      [106/106 00:01]\n",
       "    </div>\n",
       "    "
      ],
      "text/plain": [
       "<IPython.core.display.HTML object>"
      ]
     },
     "metadata": {},
     "output_type": "display_data"
    },
    {
     "name": "stderr",
     "output_type": "stream",
     "text": [
      "[I 2024-04-18 15:55:20,518] Trial 16 pruned. \n"
     ]
    },
    {
     "data": {
      "text/html": [
       "Finishing last run (ID:zgo7orwt) before initializing another..."
      ],
      "text/plain": [
       "<IPython.core.display.HTML object>"
      ]
     },
     "metadata": {},
     "output_type": "display_data"
    },
    {
     "data": {
      "text/html": [
       "<style>\n",
       "    table.wandb td:nth-child(1) { padding: 0 10px; text-align: left ; width: auto;} td:nth-child(2) {text-align: left ; width: 100%}\n",
       "    .wandb-row { display: flex; flex-direction: row; flex-wrap: wrap; justify-content: flex-start; width: 100% }\n",
       "    .wandb-col { display: flex; flex-direction: column; flex-basis: 100%; flex: 1; padding: 10px; }\n",
       "    </style>\n",
       "<div class=\"wandb-row\"><div class=\"wandb-col\"><h3>Run history:</h3><br/><table class=\"wandb\"><tr><td>eval/Accuracy</td><td>▁</td></tr><tr><td>eval/Balanced accuracy</td><td>▁</td></tr><tr><td>eval/F1 macro</td><td>▁</td></tr><tr><td>eval/F1 micro</td><td>▁</td></tr><tr><td>eval/F1 weighted</td><td>▁</td></tr><tr><td>eval/loss</td><td>▁</td></tr><tr><td>eval/runtime</td><td>▁</td></tr><tr><td>eval/samples_per_second</td><td>▁</td></tr><tr><td>eval/steps_per_second</td><td>▁</td></tr><tr><td>train/epoch</td><td>▁</td></tr><tr><td>train/global_step</td><td>▁</td></tr></table><br/></div><div class=\"wandb-col\"><h3>Run summary:</h3><br/><table class=\"wandb\"><tr><td>eval/Accuracy</td><td>0.76777</td></tr><tr><td>eval/Balanced accuracy</td><td>0.75905</td></tr><tr><td>eval/F1 macro</td><td>0.6967</td></tr><tr><td>eval/F1 micro</td><td>0.76777</td></tr><tr><td>eval/F1 weighted</td><td>0.78251</td></tr><tr><td>eval/loss</td><td>0.58304</td></tr><tr><td>eval/runtime</td><td>1.9186</td></tr><tr><td>eval/samples_per_second</td><td>1759.593</td></tr><tr><td>eval/steps_per_second</td><td>55.248</td></tr><tr><td>train/epoch</td><td>1.0</td></tr><tr><td>train/global_step</td><td>158</td></tr></table><br/></div></div>"
      ],
      "text/plain": [
       "<IPython.core.display.HTML object>"
      ]
     },
     "metadata": {},
     "output_type": "display_data"
    },
    {
     "data": {
      "text/html": [
       " View run <strong style=\"color:#cdcd00\">trial-16</strong> at: <a href='https://wandb.ai/master-2024/DistilBERT/runs/zgo7orwt' target=\"_blank\">https://wandb.ai/master-2024/DistilBERT/runs/zgo7orwt</a><br/>Synced 5 W&B file(s), 0 media file(s), 0 artifact file(s) and 0 other file(s)"
      ],
      "text/plain": [
       "<IPython.core.display.HTML object>"
      ]
     },
     "metadata": {},
     "output_type": "display_data"
    },
    {
     "data": {
      "text/html": [
       "Find logs at: <code>./wandb/run-20240418_155453-zgo7orwt/logs</code>"
      ],
      "text/plain": [
       "<IPython.core.display.HTML object>"
      ]
     },
     "metadata": {},
     "output_type": "display_data"
    },
    {
     "data": {
      "text/html": [
       "Successfully finished last run (ID:zgo7orwt). Initializing new run:<br/>"
      ],
      "text/plain": [
       "<IPython.core.display.HTML object>"
      ]
     },
     "metadata": {},
     "output_type": "display_data"
    },
    {
     "data": {
      "text/html": [
       "wandb version 0.16.6 is available!  To upgrade, please run:\n",
       " $ pip install wandb --upgrade"
      ],
      "text/plain": [
       "<IPython.core.display.HTML object>"
      ]
     },
     "metadata": {},
     "output_type": "display_data"
    },
    {
     "data": {
      "text/html": [
       "Tracking run with wandb version 0.16.4"
      ],
      "text/plain": [
       "<IPython.core.display.HTML object>"
      ]
     },
     "metadata": {},
     "output_type": "display_data"
    },
    {
     "data": {
      "text/html": [
       "Run data is saved locally in <code>/net/fs-2/scale/OrionStore/Home/joteklem/Pytorch_models/wandb/run-20240418_155520-8qgn6hx6</code>"
      ],
      "text/plain": [
       "<IPython.core.display.HTML object>"
      ]
     },
     "metadata": {},
     "output_type": "display_data"
    },
    {
     "data": {
      "text/html": [
       "Syncing run <strong><a href='https://wandb.ai/master-2024/DistilBERT/runs/8qgn6hx6' target=\"_blank\">trial-17</a></strong> to <a href='https://wandb.ai/master-2024/DistilBERT' target=\"_blank\">Weights & Biases</a> (<a href='https://wandb.me/run' target=\"_blank\">docs</a>)<br/>"
      ],
      "text/plain": [
       "<IPython.core.display.HTML object>"
      ]
     },
     "metadata": {},
     "output_type": "display_data"
    },
    {
     "data": {
      "text/html": [
       " View project at <a href='https://wandb.ai/master-2024/DistilBERT' target=\"_blank\">https://wandb.ai/master-2024/DistilBERT</a>"
      ],
      "text/plain": [
       "<IPython.core.display.HTML object>"
      ]
     },
     "metadata": {},
     "output_type": "display_data"
    },
    {
     "data": {
      "text/html": [
       " View run at <a href='https://wandb.ai/master-2024/DistilBERT/runs/8qgn6hx6' target=\"_blank\">https://wandb.ai/master-2024/DistilBERT/runs/8qgn6hx6</a>"
      ],
      "text/plain": [
       "<IPython.core.display.HTML object>"
      ]
     },
     "metadata": {},
     "output_type": "display_data"
    },
    {
     "name": "stderr",
     "output_type": "stream",
     "text": [
      "/net/fs-2/scale/OrionStore/Scratch/joteklem/MyCondaEnvironments/Python3.11/orion_env/lib/python3.11/site-packages/accelerate/accelerator.py:432: FutureWarning: Passing the following arguments to `Accelerator` is deprecated and will be removed in version 1.0 of Accelerate: dict_keys(['dispatch_batches', 'split_batches', 'even_batches', 'use_seedable_sampler']). Please pass an `accelerate.DataLoaderConfiguration` instead: \n",
      "dataloader_config = DataLoaderConfiguration(dispatch_batches=None, split_batches=False, even_batches=True, use_seedable_sampler=True)\n",
      "  warnings.warn(\n",
      "Detected kernel version 3.10.0, which is below the recommended minimum of 5.5.0; this can cause the process to hang. It is recommended to upgrade the kernel to the minimum version or higher.\n"
     ]
    },
    {
     "name": "stdout",
     "output_type": "stream",
     "text": [
      "Starting trial 17\n"
     ]
    },
    {
     "data": {
      "text/html": [
       "\n",
       "    <div>\n",
       "      \n",
       "      <progress value='159' max='474' style='width:300px; height:20px; vertical-align: middle;'></progress>\n",
       "      [159/474 00:17 < 00:34, 9.03 it/s, Epoch 1.00/3]\n",
       "    </div>\n",
       "    <table border=\"1\" class=\"dataframe\">\n",
       "  <thead>\n",
       " <tr style=\"text-align: left;\">\n",
       "      <th>Epoch</th>\n",
       "      <th>Training Loss</th>\n",
       "      <th>Validation Loss</th>\n",
       "    </tr>\n",
       "  </thead>\n",
       "  <tbody>\n",
       "  </tbody>\n",
       "</table><p>\n",
       "    <div>\n",
       "      \n",
       "      <progress value='106' max='106' style='width:300px; height:20px; vertical-align: middle;'></progress>\n",
       "      [106/106 00:01]\n",
       "    </div>\n",
       "    "
      ],
      "text/plain": [
       "<IPython.core.display.HTML object>"
      ]
     },
     "metadata": {},
     "output_type": "display_data"
    },
    {
     "name": "stderr",
     "output_type": "stream",
     "text": [
      "[I 2024-04-18 15:55:47,184] Trial 17 pruned. \n"
     ]
    },
    {
     "data": {
      "text/html": [
       "Finishing last run (ID:8qgn6hx6) before initializing another..."
      ],
      "text/plain": [
       "<IPython.core.display.HTML object>"
      ]
     },
     "metadata": {},
     "output_type": "display_data"
    },
    {
     "data": {
      "text/html": [
       "<style>\n",
       "    table.wandb td:nth-child(1) { padding: 0 10px; text-align: left ; width: auto;} td:nth-child(2) {text-align: left ; width: 100%}\n",
       "    .wandb-row { display: flex; flex-direction: row; flex-wrap: wrap; justify-content: flex-start; width: 100% }\n",
       "    .wandb-col { display: flex; flex-direction: column; flex-basis: 100%; flex: 1; padding: 10px; }\n",
       "    </style>\n",
       "<div class=\"wandb-row\"><div class=\"wandb-col\"><h3>Run history:</h3><br/><table class=\"wandb\"><tr><td>eval/Accuracy</td><td>▁</td></tr><tr><td>eval/Balanced accuracy</td><td>▁</td></tr><tr><td>eval/F1 macro</td><td>▁</td></tr><tr><td>eval/F1 micro</td><td>▁</td></tr><tr><td>eval/F1 weighted</td><td>▁</td></tr><tr><td>eval/loss</td><td>▁</td></tr><tr><td>eval/runtime</td><td>▁</td></tr><tr><td>eval/samples_per_second</td><td>▁</td></tr><tr><td>eval/steps_per_second</td><td>▁</td></tr><tr><td>train/epoch</td><td>▁</td></tr><tr><td>train/global_step</td><td>▁</td></tr></table><br/></div><div class=\"wandb-col\"><h3>Run summary:</h3><br/><table class=\"wandb\"><tr><td>eval/Accuracy</td><td>0.79177</td></tr><tr><td>eval/Balanced accuracy</td><td>0.76055</td></tr><tr><td>eval/F1 macro</td><td>0.71715</td></tr><tr><td>eval/F1 micro</td><td>0.79177</td></tr><tr><td>eval/F1 weighted</td><td>0.79839</td></tr><tr><td>eval/loss</td><td>0.53887</td></tr><tr><td>eval/runtime</td><td>1.919</td></tr><tr><td>eval/samples_per_second</td><td>1759.214</td></tr><tr><td>eval/steps_per_second</td><td>55.236</td></tr><tr><td>train/epoch</td><td>1.0</td></tr><tr><td>train/global_step</td><td>158</td></tr></table><br/></div></div>"
      ],
      "text/plain": [
       "<IPython.core.display.HTML object>"
      ]
     },
     "metadata": {},
     "output_type": "display_data"
    },
    {
     "data": {
      "text/html": [
       " View run <strong style=\"color:#cdcd00\">trial-17</strong> at: <a href='https://wandb.ai/master-2024/DistilBERT/runs/8qgn6hx6' target=\"_blank\">https://wandb.ai/master-2024/DistilBERT/runs/8qgn6hx6</a><br/>Synced 5 W&B file(s), 0 media file(s), 0 artifact file(s) and 0 other file(s)"
      ],
      "text/plain": [
       "<IPython.core.display.HTML object>"
      ]
     },
     "metadata": {},
     "output_type": "display_data"
    },
    {
     "data": {
      "text/html": [
       "Find logs at: <code>./wandb/run-20240418_155520-8qgn6hx6/logs</code>"
      ],
      "text/plain": [
       "<IPython.core.display.HTML object>"
      ]
     },
     "metadata": {},
     "output_type": "display_data"
    },
    {
     "data": {
      "text/html": [
       "Successfully finished last run (ID:8qgn6hx6). Initializing new run:<br/>"
      ],
      "text/plain": [
       "<IPython.core.display.HTML object>"
      ]
     },
     "metadata": {},
     "output_type": "display_data"
    },
    {
     "data": {
      "text/html": [
       "wandb version 0.16.6 is available!  To upgrade, please run:\n",
       " $ pip install wandb --upgrade"
      ],
      "text/plain": [
       "<IPython.core.display.HTML object>"
      ]
     },
     "metadata": {},
     "output_type": "display_data"
    },
    {
     "data": {
      "text/html": [
       "Tracking run with wandb version 0.16.4"
      ],
      "text/plain": [
       "<IPython.core.display.HTML object>"
      ]
     },
     "metadata": {},
     "output_type": "display_data"
    },
    {
     "data": {
      "text/html": [
       "Run data is saved locally in <code>/net/fs-2/scale/OrionStore/Home/joteklem/Pytorch_models/wandb/run-20240418_155547-z8fybs1r</code>"
      ],
      "text/plain": [
       "<IPython.core.display.HTML object>"
      ]
     },
     "metadata": {},
     "output_type": "display_data"
    },
    {
     "data": {
      "text/html": [
       "Syncing run <strong><a href='https://wandb.ai/master-2024/DistilBERT/runs/z8fybs1r' target=\"_blank\">trial-18</a></strong> to <a href='https://wandb.ai/master-2024/DistilBERT' target=\"_blank\">Weights & Biases</a> (<a href='https://wandb.me/run' target=\"_blank\">docs</a>)<br/>"
      ],
      "text/plain": [
       "<IPython.core.display.HTML object>"
      ]
     },
     "metadata": {},
     "output_type": "display_data"
    },
    {
     "data": {
      "text/html": [
       " View project at <a href='https://wandb.ai/master-2024/DistilBERT' target=\"_blank\">https://wandb.ai/master-2024/DistilBERT</a>"
      ],
      "text/plain": [
       "<IPython.core.display.HTML object>"
      ]
     },
     "metadata": {},
     "output_type": "display_data"
    },
    {
     "data": {
      "text/html": [
       " View run at <a href='https://wandb.ai/master-2024/DistilBERT/runs/z8fybs1r' target=\"_blank\">https://wandb.ai/master-2024/DistilBERT/runs/z8fybs1r</a>"
      ],
      "text/plain": [
       "<IPython.core.display.HTML object>"
      ]
     },
     "metadata": {},
     "output_type": "display_data"
    },
    {
     "name": "stderr",
     "output_type": "stream",
     "text": [
      "/net/fs-2/scale/OrionStore/Scratch/joteklem/MyCondaEnvironments/Python3.11/orion_env/lib/python3.11/site-packages/accelerate/accelerator.py:432: FutureWarning: Passing the following arguments to `Accelerator` is deprecated and will be removed in version 1.0 of Accelerate: dict_keys(['dispatch_batches', 'split_batches', 'even_batches', 'use_seedable_sampler']). Please pass an `accelerate.DataLoaderConfiguration` instead: \n",
      "dataloader_config = DataLoaderConfiguration(dispatch_batches=None, split_batches=False, even_batches=True, use_seedable_sampler=True)\n",
      "  warnings.warn(\n",
      "Detected kernel version 3.10.0, which is below the recommended minimum of 5.5.0; this can cause the process to hang. It is recommended to upgrade the kernel to the minimum version or higher.\n"
     ]
    },
    {
     "name": "stdout",
     "output_type": "stream",
     "text": [
      "Starting trial 18\n"
     ]
    },
    {
     "data": {
      "text/html": [
       "\n",
       "    <div>\n",
       "      \n",
       "      <progress value='317' max='632' style='width:300px; height:20px; vertical-align: middle;'></progress>\n",
       "      [316/632 00:20 < 00:20, 15.61 it/s, Epoch 1.00/2]\n",
       "    </div>\n",
       "    <table border=\"1\" class=\"dataframe\">\n",
       "  <thead>\n",
       " <tr style=\"text-align: left;\">\n",
       "      <th>Epoch</th>\n",
       "      <th>Training Loss</th>\n",
       "      <th>Validation Loss</th>\n",
       "    </tr>\n",
       "  </thead>\n",
       "  <tbody>\n",
       "  </tbody>\n",
       "</table><p>\n",
       "    <div>\n",
       "      \n",
       "      <progress value='211' max='211' style='width:300px; height:20px; vertical-align: middle;'></progress>\n",
       "      [211/211 00:01]\n",
       "    </div>\n",
       "    "
      ],
      "text/plain": [
       "<IPython.core.display.HTML object>"
      ]
     },
     "metadata": {},
     "output_type": "display_data"
    },
    {
     "name": "stderr",
     "output_type": "stream",
     "text": [
      "[I 2024-04-18 15:56:16,585] Trial 18 pruned. \n"
     ]
    },
    {
     "data": {
      "text/html": [
       "Finishing last run (ID:z8fybs1r) before initializing another..."
      ],
      "text/plain": [
       "<IPython.core.display.HTML object>"
      ]
     },
     "metadata": {},
     "output_type": "display_data"
    },
    {
     "data": {
      "text/html": [
       "<style>\n",
       "    table.wandb td:nth-child(1) { padding: 0 10px; text-align: left ; width: auto;} td:nth-child(2) {text-align: left ; width: 100%}\n",
       "    .wandb-row { display: flex; flex-direction: row; flex-wrap: wrap; justify-content: flex-start; width: 100% }\n",
       "    .wandb-col { display: flex; flex-direction: column; flex-basis: 100%; flex: 1; padding: 10px; }\n",
       "    </style>\n",
       "<div class=\"wandb-row\"><div class=\"wandb-col\"><h3>Run history:</h3><br/><table class=\"wandb\"><tr><td>eval/Accuracy</td><td>▁</td></tr><tr><td>eval/Balanced accuracy</td><td>▁</td></tr><tr><td>eval/F1 macro</td><td>▁</td></tr><tr><td>eval/F1 micro</td><td>▁</td></tr><tr><td>eval/F1 weighted</td><td>▁</td></tr><tr><td>eval/loss</td><td>▁</td></tr><tr><td>eval/runtime</td><td>▁</td></tr><tr><td>eval/samples_per_second</td><td>▁</td></tr><tr><td>eval/steps_per_second</td><td>▁</td></tr><tr><td>train/epoch</td><td>▁</td></tr><tr><td>train/global_step</td><td>▁</td></tr></table><br/></div><div class=\"wandb-col\"><h3>Run summary:</h3><br/><table class=\"wandb\"><tr><td>eval/Accuracy</td><td>0.80687</td></tr><tr><td>eval/Balanced accuracy</td><td>0.73001</td></tr><tr><td>eval/F1 macro</td><td>0.72223</td></tr><tr><td>eval/F1 micro</td><td>0.80687</td></tr><tr><td>eval/F1 weighted</td><td>0.8073</td></tr><tr><td>eval/loss</td><td>0.53227</td></tr><tr><td>eval/runtime</td><td>1.9668</td></tr><tr><td>eval/samples_per_second</td><td>1716.517</td></tr><tr><td>eval/steps_per_second</td><td>107.282</td></tr><tr><td>train/epoch</td><td>1.0</td></tr><tr><td>train/global_step</td><td>316</td></tr></table><br/></div></div>"
      ],
      "text/plain": [
       "<IPython.core.display.HTML object>"
      ]
     },
     "metadata": {},
     "output_type": "display_data"
    },
    {
     "data": {
      "text/html": [
       " View run <strong style=\"color:#cdcd00\">trial-18</strong> at: <a href='https://wandb.ai/master-2024/DistilBERT/runs/z8fybs1r' target=\"_blank\">https://wandb.ai/master-2024/DistilBERT/runs/z8fybs1r</a><br/>Synced 5 W&B file(s), 0 media file(s), 0 artifact file(s) and 0 other file(s)"
      ],
      "text/plain": [
       "<IPython.core.display.HTML object>"
      ]
     },
     "metadata": {},
     "output_type": "display_data"
    },
    {
     "data": {
      "text/html": [
       "Find logs at: <code>./wandb/run-20240418_155547-z8fybs1r/logs</code>"
      ],
      "text/plain": [
       "<IPython.core.display.HTML object>"
      ]
     },
     "metadata": {},
     "output_type": "display_data"
    },
    {
     "data": {
      "text/html": [
       "Successfully finished last run (ID:z8fybs1r). Initializing new run:<br/>"
      ],
      "text/plain": [
       "<IPython.core.display.HTML object>"
      ]
     },
     "metadata": {},
     "output_type": "display_data"
    },
    {
     "data": {
      "text/html": [
       "wandb version 0.16.6 is available!  To upgrade, please run:\n",
       " $ pip install wandb --upgrade"
      ],
      "text/plain": [
       "<IPython.core.display.HTML object>"
      ]
     },
     "metadata": {},
     "output_type": "display_data"
    },
    {
     "data": {
      "text/html": [
       "Tracking run with wandb version 0.16.4"
      ],
      "text/plain": [
       "<IPython.core.display.HTML object>"
      ]
     },
     "metadata": {},
     "output_type": "display_data"
    },
    {
     "data": {
      "text/html": [
       "Run data is saved locally in <code>/net/fs-2/scale/OrionStore/Home/joteklem/Pytorch_models/wandb/run-20240418_155616-xjvv3uge</code>"
      ],
      "text/plain": [
       "<IPython.core.display.HTML object>"
      ]
     },
     "metadata": {},
     "output_type": "display_data"
    },
    {
     "data": {
      "text/html": [
       "Syncing run <strong><a href='https://wandb.ai/master-2024/DistilBERT/runs/xjvv3uge' target=\"_blank\">trial-19</a></strong> to <a href='https://wandb.ai/master-2024/DistilBERT' target=\"_blank\">Weights & Biases</a> (<a href='https://wandb.me/run' target=\"_blank\">docs</a>)<br/>"
      ],
      "text/plain": [
       "<IPython.core.display.HTML object>"
      ]
     },
     "metadata": {},
     "output_type": "display_data"
    },
    {
     "data": {
      "text/html": [
       " View project at <a href='https://wandb.ai/master-2024/DistilBERT' target=\"_blank\">https://wandb.ai/master-2024/DistilBERT</a>"
      ],
      "text/plain": [
       "<IPython.core.display.HTML object>"
      ]
     },
     "metadata": {},
     "output_type": "display_data"
    },
    {
     "data": {
      "text/html": [
       " View run at <a href='https://wandb.ai/master-2024/DistilBERT/runs/xjvv3uge' target=\"_blank\">https://wandb.ai/master-2024/DistilBERT/runs/xjvv3uge</a>"
      ],
      "text/plain": [
       "<IPython.core.display.HTML object>"
      ]
     },
     "metadata": {},
     "output_type": "display_data"
    },
    {
     "name": "stderr",
     "output_type": "stream",
     "text": [
      "/net/fs-2/scale/OrionStore/Scratch/joteklem/MyCondaEnvironments/Python3.11/orion_env/lib/python3.11/site-packages/accelerate/accelerator.py:432: FutureWarning: Passing the following arguments to `Accelerator` is deprecated and will be removed in version 1.0 of Accelerate: dict_keys(['dispatch_batches', 'split_batches', 'even_batches', 'use_seedable_sampler']). Please pass an `accelerate.DataLoaderConfiguration` instead: \n",
      "dataloader_config = DataLoaderConfiguration(dispatch_batches=None, split_batches=False, even_batches=True, use_seedable_sampler=True)\n",
      "  warnings.warn(\n",
      "Detected kernel version 3.10.0, which is below the recommended minimum of 5.5.0; this can cause the process to hang. It is recommended to upgrade the kernel to the minimum version or higher.\n"
     ]
    },
    {
     "name": "stdout",
     "output_type": "stream",
     "text": [
      "Starting trial 19\n"
     ]
    },
    {
     "data": {
      "text/html": [
       "\n",
       "    <div>\n",
       "      \n",
       "      <progress value='634' max='2532' style='width:300px; height:20px; vertical-align: middle;'></progress>\n",
       "      [ 634/2532 00:42 < 02:07, 14.94 it/s, Epoch 1/4]\n",
       "    </div>\n",
       "    <table border=\"1\" class=\"dataframe\">\n",
       "  <thead>\n",
       " <tr style=\"text-align: left;\">\n",
       "      <th>Epoch</th>\n",
       "      <th>Training Loss</th>\n",
       "      <th>Validation Loss</th>\n",
       "    </tr>\n",
       "  </thead>\n",
       "  <tbody>\n",
       "  </tbody>\n",
       "</table><p>\n",
       "    <div>\n",
       "      \n",
       "      <progress value='422' max='422' style='width:300px; height:20px; vertical-align: middle;'></progress>\n",
       "      [422/422 00:02]\n",
       "    </div>\n",
       "    "
      ],
      "text/plain": [
       "<IPython.core.display.HTML object>"
      ]
     },
     "metadata": {},
     "output_type": "display_data"
    },
    {
     "name": "stderr",
     "output_type": "stream",
     "text": [
      "[I 2024-04-18 15:57:08,349] Trial 19 pruned. \n"
     ]
    },
    {
     "data": {
      "text/html": [
       "Finishing last run (ID:xjvv3uge) before initializing another..."
      ],
      "text/plain": [
       "<IPython.core.display.HTML object>"
      ]
     },
     "metadata": {},
     "output_type": "display_data"
    },
    {
     "data": {
      "text/html": [
       "<style>\n",
       "    table.wandb td:nth-child(1) { padding: 0 10px; text-align: left ; width: auto;} td:nth-child(2) {text-align: left ; width: 100%}\n",
       "    .wandb-row { display: flex; flex-direction: row; flex-wrap: wrap; justify-content: flex-start; width: 100% }\n",
       "    .wandb-col { display: flex; flex-direction: column; flex-basis: 100%; flex: 1; padding: 10px; }\n",
       "    </style>\n",
       "<div class=\"wandb-row\"><div class=\"wandb-col\"><h3>Run history:</h3><br/><table class=\"wandb\"><tr><td>eval/Accuracy</td><td>▁</td></tr><tr><td>eval/Balanced accuracy</td><td>▁</td></tr><tr><td>eval/F1 macro</td><td>▁</td></tr><tr><td>eval/F1 micro</td><td>▁</td></tr><tr><td>eval/F1 weighted</td><td>▁</td></tr><tr><td>eval/loss</td><td>▁</td></tr><tr><td>eval/runtime</td><td>▁</td></tr><tr><td>eval/samples_per_second</td><td>▁</td></tr><tr><td>eval/steps_per_second</td><td>▁</td></tr><tr><td>train/epoch</td><td>▁</td></tr><tr><td>train/global_step</td><td>▁</td></tr></table><br/></div><div class=\"wandb-col\"><h3>Run summary:</h3><br/><table class=\"wandb\"><tr><td>eval/Accuracy</td><td>0.80717</td></tr><tr><td>eval/Balanced accuracy</td><td>0.70466</td></tr><tr><td>eval/F1 macro</td><td>0.71977</td></tr><tr><td>eval/F1 micro</td><td>0.80717</td></tr><tr><td>eval/F1 weighted</td><td>0.80192</td></tr><tr><td>eval/loss</td><td>0.51365</td></tr><tr><td>eval/runtime</td><td>2.8565</td></tr><tr><td>eval/samples_per_second</td><td>1181.869</td></tr><tr><td>eval/steps_per_second</td><td>147.734</td></tr><tr><td>train/epoch</td><td>1.0</td></tr><tr><td>train/global_step</td><td>633</td></tr></table><br/></div></div>"
      ],
      "text/plain": [
       "<IPython.core.display.HTML object>"
      ]
     },
     "metadata": {},
     "output_type": "display_data"
    },
    {
     "data": {
      "text/html": [
       " View run <strong style=\"color:#cdcd00\">trial-19</strong> at: <a href='https://wandb.ai/master-2024/DistilBERT/runs/xjvv3uge' target=\"_blank\">https://wandb.ai/master-2024/DistilBERT/runs/xjvv3uge</a><br/>Synced 5 W&B file(s), 0 media file(s), 0 artifact file(s) and 0 other file(s)"
      ],
      "text/plain": [
       "<IPython.core.display.HTML object>"
      ]
     },
     "metadata": {},
     "output_type": "display_data"
    },
    {
     "data": {
      "text/html": [
       "Find logs at: <code>./wandb/run-20240418_155616-xjvv3uge/logs</code>"
      ],
      "text/plain": [
       "<IPython.core.display.HTML object>"
      ]
     },
     "metadata": {},
     "output_type": "display_data"
    },
    {
     "data": {
      "text/html": [
       "Successfully finished last run (ID:xjvv3uge). Initializing new run:<br/>"
      ],
      "text/plain": [
       "<IPython.core.display.HTML object>"
      ]
     },
     "metadata": {},
     "output_type": "display_data"
    },
    {
     "data": {
      "text/html": [
       "wandb version 0.16.6 is available!  To upgrade, please run:\n",
       " $ pip install wandb --upgrade"
      ],
      "text/plain": [
       "<IPython.core.display.HTML object>"
      ]
     },
     "metadata": {},
     "output_type": "display_data"
    },
    {
     "data": {
      "text/html": [
       "Tracking run with wandb version 0.16.4"
      ],
      "text/plain": [
       "<IPython.core.display.HTML object>"
      ]
     },
     "metadata": {},
     "output_type": "display_data"
    },
    {
     "data": {
      "text/html": [
       "Run data is saved locally in <code>/net/fs-2/scale/OrionStore/Home/joteklem/Pytorch_models/wandb/run-20240418_155708-y9v8i7rw</code>"
      ],
      "text/plain": [
       "<IPython.core.display.HTML object>"
      ]
     },
     "metadata": {},
     "output_type": "display_data"
    },
    {
     "data": {
      "text/html": [
       "Syncing run <strong><a href='https://wandb.ai/master-2024/DistilBERT/runs/y9v8i7rw' target=\"_blank\">trial-20</a></strong> to <a href='https://wandb.ai/master-2024/DistilBERT' target=\"_blank\">Weights & Biases</a> (<a href='https://wandb.me/run' target=\"_blank\">docs</a>)<br/>"
      ],
      "text/plain": [
       "<IPython.core.display.HTML object>"
      ]
     },
     "metadata": {},
     "output_type": "display_data"
    },
    {
     "data": {
      "text/html": [
       " View project at <a href='https://wandb.ai/master-2024/DistilBERT' target=\"_blank\">https://wandb.ai/master-2024/DistilBERT</a>"
      ],
      "text/plain": [
       "<IPython.core.display.HTML object>"
      ]
     },
     "metadata": {},
     "output_type": "display_data"
    },
    {
     "data": {
      "text/html": [
       " View run at <a href='https://wandb.ai/master-2024/DistilBERT/runs/y9v8i7rw' target=\"_blank\">https://wandb.ai/master-2024/DistilBERT/runs/y9v8i7rw</a>"
      ],
      "text/plain": [
       "<IPython.core.display.HTML object>"
      ]
     },
     "metadata": {},
     "output_type": "display_data"
    },
    {
     "name": "stderr",
     "output_type": "stream",
     "text": [
      "/net/fs-2/scale/OrionStore/Scratch/joteklem/MyCondaEnvironments/Python3.11/orion_env/lib/python3.11/site-packages/accelerate/accelerator.py:432: FutureWarning: Passing the following arguments to `Accelerator` is deprecated and will be removed in version 1.0 of Accelerate: dict_keys(['dispatch_batches', 'split_batches', 'even_batches', 'use_seedable_sampler']). Please pass an `accelerate.DataLoaderConfiguration` instead: \n",
      "dataloader_config = DataLoaderConfiguration(dispatch_batches=None, split_batches=False, even_batches=True, use_seedable_sampler=True)\n",
      "  warnings.warn(\n",
      "Detected kernel version 3.10.0, which is below the recommended minimum of 5.5.0; this can cause the process to hang. It is recommended to upgrade the kernel to the minimum version or higher.\n"
     ]
    },
    {
     "name": "stdout",
     "output_type": "stream",
     "text": [
      "Starting trial 20\n"
     ]
    },
    {
     "data": {
      "text/html": [
       "\n",
       "    <div>\n",
       "      \n",
       "      <progress value='159' max='316' style='width:300px; height:20px; vertical-align: middle;'></progress>\n",
       "      [159/316 00:17 < 00:17, 9.07 it/s, Epoch 1.00/2]\n",
       "    </div>\n",
       "    <table border=\"1\" class=\"dataframe\">\n",
       "  <thead>\n",
       " <tr style=\"text-align: left;\">\n",
       "      <th>Epoch</th>\n",
       "      <th>Training Loss</th>\n",
       "      <th>Validation Loss</th>\n",
       "    </tr>\n",
       "  </thead>\n",
       "  <tbody>\n",
       "  </tbody>\n",
       "</table><p>\n",
       "    <div>\n",
       "      \n",
       "      <progress value='106' max='106' style='width:300px; height:20px; vertical-align: middle;'></progress>\n",
       "      [106/106 00:01]\n",
       "    </div>\n",
       "    "
      ],
      "text/plain": [
       "<IPython.core.display.HTML object>"
      ]
     },
     "metadata": {},
     "output_type": "display_data"
    },
    {
     "name": "stderr",
     "output_type": "stream",
     "text": [
      "[I 2024-04-18 15:57:35,815] Trial 20 pruned. \n"
     ]
    },
    {
     "data": {
      "text/html": [
       "Finishing last run (ID:y9v8i7rw) before initializing another..."
      ],
      "text/plain": [
       "<IPython.core.display.HTML object>"
      ]
     },
     "metadata": {},
     "output_type": "display_data"
    },
    {
     "data": {
      "text/html": [
       "<style>\n",
       "    table.wandb td:nth-child(1) { padding: 0 10px; text-align: left ; width: auto;} td:nth-child(2) {text-align: left ; width: 100%}\n",
       "    .wandb-row { display: flex; flex-direction: row; flex-wrap: wrap; justify-content: flex-start; width: 100% }\n",
       "    .wandb-col { display: flex; flex-direction: column; flex-basis: 100%; flex: 1; padding: 10px; }\n",
       "    </style>\n",
       "<div class=\"wandb-row\"><div class=\"wandb-col\"><h3>Run history:</h3><br/><table class=\"wandb\"><tr><td>eval/Accuracy</td><td>▁</td></tr><tr><td>eval/Balanced accuracy</td><td>▁</td></tr><tr><td>eval/F1 macro</td><td>▁</td></tr><tr><td>eval/F1 micro</td><td>▁</td></tr><tr><td>eval/F1 weighted</td><td>▁</td></tr><tr><td>eval/loss</td><td>▁</td></tr><tr><td>eval/runtime</td><td>▁</td></tr><tr><td>eval/samples_per_second</td><td>▁</td></tr><tr><td>eval/steps_per_second</td><td>▁</td></tr><tr><td>train/epoch</td><td>▁</td></tr><tr><td>train/global_step</td><td>▁</td></tr></table><br/></div><div class=\"wandb-col\"><h3>Run summary:</h3><br/><table class=\"wandb\"><tr><td>eval/Accuracy</td><td>0.78614</td></tr><tr><td>eval/Balanced accuracy</td><td>0.75089</td></tr><tr><td>eval/F1 macro</td><td>0.7101</td></tr><tr><td>eval/F1 micro</td><td>0.78614</td></tr><tr><td>eval/F1 weighted</td><td>0.79302</td></tr><tr><td>eval/loss</td><td>0.53993</td></tr><tr><td>eval/runtime</td><td>1.9193</td></tr><tr><td>eval/samples_per_second</td><td>1758.963</td></tr><tr><td>eval/steps_per_second</td><td>55.228</td></tr><tr><td>train/epoch</td><td>1.0</td></tr><tr><td>train/global_step</td><td>158</td></tr></table><br/></div></div>"
      ],
      "text/plain": [
       "<IPython.core.display.HTML object>"
      ]
     },
     "metadata": {},
     "output_type": "display_data"
    },
    {
     "data": {
      "text/html": [
       " View run <strong style=\"color:#cdcd00\">trial-20</strong> at: <a href='https://wandb.ai/master-2024/DistilBERT/runs/y9v8i7rw' target=\"_blank\">https://wandb.ai/master-2024/DistilBERT/runs/y9v8i7rw</a><br/>Synced 5 W&B file(s), 0 media file(s), 0 artifact file(s) and 0 other file(s)"
      ],
      "text/plain": [
       "<IPython.core.display.HTML object>"
      ]
     },
     "metadata": {},
     "output_type": "display_data"
    },
    {
     "data": {
      "text/html": [
       "Find logs at: <code>./wandb/run-20240418_155708-y9v8i7rw/logs</code>"
      ],
      "text/plain": [
       "<IPython.core.display.HTML object>"
      ]
     },
     "metadata": {},
     "output_type": "display_data"
    },
    {
     "data": {
      "text/html": [
       "Successfully finished last run (ID:y9v8i7rw). Initializing new run:<br/>"
      ],
      "text/plain": [
       "<IPython.core.display.HTML object>"
      ]
     },
     "metadata": {},
     "output_type": "display_data"
    },
    {
     "data": {
      "text/html": [
       "wandb version 0.16.6 is available!  To upgrade, please run:\n",
       " $ pip install wandb --upgrade"
      ],
      "text/plain": [
       "<IPython.core.display.HTML object>"
      ]
     },
     "metadata": {},
     "output_type": "display_data"
    },
    {
     "data": {
      "text/html": [
       "Tracking run with wandb version 0.16.4"
      ],
      "text/plain": [
       "<IPython.core.display.HTML object>"
      ]
     },
     "metadata": {},
     "output_type": "display_data"
    },
    {
     "data": {
      "text/html": [
       "Run data is saved locally in <code>/net/fs-2/scale/OrionStore/Home/joteklem/Pytorch_models/wandb/run-20240418_155735-0c885rhx</code>"
      ],
      "text/plain": [
       "<IPython.core.display.HTML object>"
      ]
     },
     "metadata": {},
     "output_type": "display_data"
    },
    {
     "data": {
      "text/html": [
       "Syncing run <strong><a href='https://wandb.ai/master-2024/DistilBERT/runs/0c885rhx' target=\"_blank\">trial-21</a></strong> to <a href='https://wandb.ai/master-2024/DistilBERT' target=\"_blank\">Weights & Biases</a> (<a href='https://wandb.me/run' target=\"_blank\">docs</a>)<br/>"
      ],
      "text/plain": [
       "<IPython.core.display.HTML object>"
      ]
     },
     "metadata": {},
     "output_type": "display_data"
    },
    {
     "data": {
      "text/html": [
       " View project at <a href='https://wandb.ai/master-2024/DistilBERT' target=\"_blank\">https://wandb.ai/master-2024/DistilBERT</a>"
      ],
      "text/plain": [
       "<IPython.core.display.HTML object>"
      ]
     },
     "metadata": {},
     "output_type": "display_data"
    },
    {
     "data": {
      "text/html": [
       " View run at <a href='https://wandb.ai/master-2024/DistilBERT/runs/0c885rhx' target=\"_blank\">https://wandb.ai/master-2024/DistilBERT/runs/0c885rhx</a>"
      ],
      "text/plain": [
       "<IPython.core.display.HTML object>"
      ]
     },
     "metadata": {},
     "output_type": "display_data"
    },
    {
     "name": "stderr",
     "output_type": "stream",
     "text": [
      "/net/fs-2/scale/OrionStore/Scratch/joteklem/MyCondaEnvironments/Python3.11/orion_env/lib/python3.11/site-packages/accelerate/accelerator.py:432: FutureWarning: Passing the following arguments to `Accelerator` is deprecated and will be removed in version 1.0 of Accelerate: dict_keys(['dispatch_batches', 'split_batches', 'even_batches', 'use_seedable_sampler']). Please pass an `accelerate.DataLoaderConfiguration` instead: \n",
      "dataloader_config = DataLoaderConfiguration(dispatch_batches=None, split_batches=False, even_batches=True, use_seedable_sampler=True)\n",
      "  warnings.warn(\n",
      "Detected kernel version 3.10.0, which is below the recommended minimum of 5.5.0; this can cause the process to hang. It is recommended to upgrade the kernel to the minimum version or higher.\n"
     ]
    },
    {
     "name": "stdout",
     "output_type": "stream",
     "text": [
      "Starting trial 21\n"
     ]
    },
    {
     "data": {
      "text/html": [
       "\n",
       "    <div>\n",
       "      \n",
       "      <progress value='317' max='1580' style='width:300px; height:20px; vertical-align: middle;'></progress>\n",
       "      [ 317/1580 00:20 < 01:20, 15.74 it/s, Epoch 1.00/5]\n",
       "    </div>\n",
       "    <table border=\"1\" class=\"dataframe\">\n",
       "  <thead>\n",
       " <tr style=\"text-align: left;\">\n",
       "      <th>Epoch</th>\n",
       "      <th>Training Loss</th>\n",
       "      <th>Validation Loss</th>\n",
       "    </tr>\n",
       "  </thead>\n",
       "  <tbody>\n",
       "  </tbody>\n",
       "</table><p>\n",
       "    <div>\n",
       "      \n",
       "      <progress value='211' max='211' style='width:300px; height:20px; vertical-align: middle;'></progress>\n",
       "      [211/211 00:01]\n",
       "    </div>\n",
       "    "
      ],
      "text/plain": [
       "<IPython.core.display.HTML object>"
      ]
     },
     "metadata": {},
     "output_type": "display_data"
    },
    {
     "name": "stderr",
     "output_type": "stream",
     "text": [
      "[I 2024-04-18 15:58:05,028] Trial 21 pruned. \n"
     ]
    },
    {
     "data": {
      "text/html": [
       "Finishing last run (ID:0c885rhx) before initializing another..."
      ],
      "text/plain": [
       "<IPython.core.display.HTML object>"
      ]
     },
     "metadata": {},
     "output_type": "display_data"
    },
    {
     "data": {
      "text/html": [
       "<style>\n",
       "    table.wandb td:nth-child(1) { padding: 0 10px; text-align: left ; width: auto;} td:nth-child(2) {text-align: left ; width: 100%}\n",
       "    .wandb-row { display: flex; flex-direction: row; flex-wrap: wrap; justify-content: flex-start; width: 100% }\n",
       "    .wandb-col { display: flex; flex-direction: column; flex-basis: 100%; flex: 1; padding: 10px; }\n",
       "    </style>\n",
       "<div class=\"wandb-row\"><div class=\"wandb-col\"><h3>Run history:</h3><br/><table class=\"wandb\"><tr><td>eval/Accuracy</td><td>▁</td></tr><tr><td>eval/Balanced accuracy</td><td>▁</td></tr><tr><td>eval/F1 macro</td><td>▁</td></tr><tr><td>eval/F1 micro</td><td>▁</td></tr><tr><td>eval/F1 weighted</td><td>▁</td></tr><tr><td>eval/loss</td><td>▁</td></tr><tr><td>eval/runtime</td><td>▁</td></tr><tr><td>eval/samples_per_second</td><td>▁</td></tr><tr><td>eval/steps_per_second</td><td>▁</td></tr><tr><td>train/epoch</td><td>▁</td></tr><tr><td>train/global_step</td><td>▁</td></tr></table><br/></div><div class=\"wandb-col\"><h3>Run summary:</h3><br/><table class=\"wandb\"><tr><td>eval/Accuracy</td><td>0.80717</td></tr><tr><td>eval/Balanced accuracy</td><td>0.75522</td></tr><tr><td>eval/F1 macro</td><td>0.73114</td></tr><tr><td>eval/F1 micro</td><td>0.80717</td></tr><tr><td>eval/F1 weighted</td><td>0.80993</td></tr><tr><td>eval/loss</td><td>0.50808</td></tr><tr><td>eval/runtime</td><td>1.9634</td></tr><tr><td>eval/samples_per_second</td><td>1719.47</td></tr><tr><td>eval/steps_per_second</td><td>107.467</td></tr><tr><td>train/epoch</td><td>1.0</td></tr><tr><td>train/global_step</td><td>316</td></tr></table><br/></div></div>"
      ],
      "text/plain": [
       "<IPython.core.display.HTML object>"
      ]
     },
     "metadata": {},
     "output_type": "display_data"
    },
    {
     "data": {
      "text/html": [
       " View run <strong style=\"color:#cdcd00\">trial-21</strong> at: <a href='https://wandb.ai/master-2024/DistilBERT/runs/0c885rhx' target=\"_blank\">https://wandb.ai/master-2024/DistilBERT/runs/0c885rhx</a><br/>Synced 5 W&B file(s), 0 media file(s), 0 artifact file(s) and 0 other file(s)"
      ],
      "text/plain": [
       "<IPython.core.display.HTML object>"
      ]
     },
     "metadata": {},
     "output_type": "display_data"
    },
    {
     "data": {
      "text/html": [
       "Find logs at: <code>./wandb/run-20240418_155735-0c885rhx/logs</code>"
      ],
      "text/plain": [
       "<IPython.core.display.HTML object>"
      ]
     },
     "metadata": {},
     "output_type": "display_data"
    },
    {
     "data": {
      "text/html": [
       "Successfully finished last run (ID:0c885rhx). Initializing new run:<br/>"
      ],
      "text/plain": [
       "<IPython.core.display.HTML object>"
      ]
     },
     "metadata": {},
     "output_type": "display_data"
    },
    {
     "data": {
      "text/html": [
       "wandb version 0.16.6 is available!  To upgrade, please run:\n",
       " $ pip install wandb --upgrade"
      ],
      "text/plain": [
       "<IPython.core.display.HTML object>"
      ]
     },
     "metadata": {},
     "output_type": "display_data"
    },
    {
     "data": {
      "text/html": [
       "Tracking run with wandb version 0.16.4"
      ],
      "text/plain": [
       "<IPython.core.display.HTML object>"
      ]
     },
     "metadata": {},
     "output_type": "display_data"
    },
    {
     "data": {
      "text/html": [
       "Run data is saved locally in <code>/net/fs-2/scale/OrionStore/Home/joteklem/Pytorch_models/wandb/run-20240418_155805-g4zbcg5c</code>"
      ],
      "text/plain": [
       "<IPython.core.display.HTML object>"
      ]
     },
     "metadata": {},
     "output_type": "display_data"
    },
    {
     "data": {
      "text/html": [
       "Syncing run <strong><a href='https://wandb.ai/master-2024/DistilBERT/runs/g4zbcg5c' target=\"_blank\">trial-22</a></strong> to <a href='https://wandb.ai/master-2024/DistilBERT' target=\"_blank\">Weights & Biases</a> (<a href='https://wandb.me/run' target=\"_blank\">docs</a>)<br/>"
      ],
      "text/plain": [
       "<IPython.core.display.HTML object>"
      ]
     },
     "metadata": {},
     "output_type": "display_data"
    },
    {
     "data": {
      "text/html": [
       " View project at <a href='https://wandb.ai/master-2024/DistilBERT' target=\"_blank\">https://wandb.ai/master-2024/DistilBERT</a>"
      ],
      "text/plain": [
       "<IPython.core.display.HTML object>"
      ]
     },
     "metadata": {},
     "output_type": "display_data"
    },
    {
     "data": {
      "text/html": [
       " View run at <a href='https://wandb.ai/master-2024/DistilBERT/runs/g4zbcg5c' target=\"_blank\">https://wandb.ai/master-2024/DistilBERT/runs/g4zbcg5c</a>"
      ],
      "text/plain": [
       "<IPython.core.display.HTML object>"
      ]
     },
     "metadata": {},
     "output_type": "display_data"
    },
    {
     "name": "stderr",
     "output_type": "stream",
     "text": [
      "/net/fs-2/scale/OrionStore/Scratch/joteklem/MyCondaEnvironments/Python3.11/orion_env/lib/python3.11/site-packages/accelerate/accelerator.py:432: FutureWarning: Passing the following arguments to `Accelerator` is deprecated and will be removed in version 1.0 of Accelerate: dict_keys(['dispatch_batches', 'split_batches', 'even_batches', 'use_seedable_sampler']). Please pass an `accelerate.DataLoaderConfiguration` instead: \n",
      "dataloader_config = DataLoaderConfiguration(dispatch_batches=None, split_batches=False, even_batches=True, use_seedable_sampler=True)\n",
      "  warnings.warn(\n",
      "Detected kernel version 3.10.0, which is below the recommended minimum of 5.5.0; this can cause the process to hang. It is recommended to upgrade the kernel to the minimum version or higher.\n"
     ]
    },
    {
     "name": "stdout",
     "output_type": "stream",
     "text": [
      "Starting trial 22\n"
     ]
    },
    {
     "data": {
      "text/html": [
       "\n",
       "    <div>\n",
       "      \n",
       "      <progress value='1267' max='1580' style='width:300px; height:20px; vertical-align: middle;'></progress>\n",
       "      [1267/1580 01:44 < 00:25, 12.07 it/s, Epoch 4/5]\n",
       "    </div>\n",
       "    <table border=\"1\" class=\"dataframe\">\n",
       "  <thead>\n",
       " <tr style=\"text-align: left;\">\n",
       "      <th>Epoch</th>\n",
       "      <th>Training Loss</th>\n",
       "      <th>Validation Loss</th>\n",
       "      <th>Accuracy</th>\n",
       "      <th>Balanced accuracy</th>\n",
       "      <th>F1 weighted</th>\n",
       "      <th>F1 macro</th>\n",
       "      <th>F1 micro</th>\n",
       "      <th>Classification report</th>\n",
       "    </tr>\n",
       "  </thead>\n",
       "  <tbody>\n",
       "    <tr>\n",
       "      <td>0</td>\n",
       "      <td>No log</td>\n",
       "      <td>0.515401</td>\n",
       "      <td>0.811315</td>\n",
       "      <td>0.747315</td>\n",
       "      <td>0.812277</td>\n",
       "      <td>0.733561</td>\n",
       "      <td>0.811315</td>\n",
       "      <td>{'0': {'precision': 0.8221614227086184, 'recall': 0.6677777777777778, 'f1-score': 0.7369711833231146, 'support': 900.0}, '1': {'precision': 0.8634934889986529, 'recall': 0.88945420906568, 'f1-score': 0.8762816131237183, 'support': 2162.0}, '2': {'precision': 0.5143540669856459, 'recall': 0.6847133757961783, 'f1-score': 0.587431693989071, 'support': 314.0}, 'accuracy': 0.8113151658767772, 'macro avg': {'precision': 0.7333363262309724, 'recall': 0.7473151208798786, 'f1-score': 0.733561496811968, 'support': 3376.0}, 'weighted avg': {'precision': 0.8200015938051947, 'recall': 0.8113151658767772, 'f1-score': 0.8122773887668396, 'support': 3376.0}}</td>\n",
       "    </tr>\n",
       "    <tr>\n",
       "      <td>2</td>\n",
       "      <td>0.590900</td>\n",
       "      <td>0.471964</td>\n",
       "      <td>0.837085</td>\n",
       "      <td>0.734457</td>\n",
       "      <td>0.830673</td>\n",
       "      <td>0.765548</td>\n",
       "      <td>0.837085</td>\n",
       "      <td>{'0': {'precision': 0.8268698060941828, 'recall': 0.6633333333333333, 'f1-score': 0.7361282367447596, 'support': 900.0}, '1': {'precision': 0.8483589530535937, 'recall': 0.9444958371877891, 'f1-score': 0.8938498577369228, 'support': 2162.0}, '2': {'precision': 0.757085020242915, 'recall': 0.5955414012738853, 'f1-score': 0.6666666666666666, 'support': 314.0}, 'accuracy': 0.8370853080568721, 'macro avg': {'precision': 0.8107712597968971, 'recall': 0.7344568572650024, 'f1-score': 0.7655482537161163, 'support': 3376.0}, 'weighted avg': {'precision': 0.8341408703622362, 'recall': 0.8370853080568721, 'f1-score': 0.830673026904871, 'support': 3376.0}}</td>\n",
       "    </tr>\n",
       "  </tbody>\n",
       "</table><p>\n",
       "    <div>\n",
       "      \n",
       "      <progress value='211' max='211' style='width:300px; height:20px; vertical-align: middle;'></progress>\n",
       "      [211/211 00:01]\n",
       "    </div>\n",
       "    "
      ],
      "text/plain": [
       "<IPython.core.display.HTML object>"
      ]
     },
     "metadata": {},
     "output_type": "display_data"
    },
    {
     "name": "stderr",
     "output_type": "stream",
     "text": [
      "[I 2024-04-18 15:59:58,536] Trial 22 pruned. \n"
     ]
    },
    {
     "data": {
      "text/html": [
       "Finishing last run (ID:g4zbcg5c) before initializing another..."
      ],
      "text/plain": [
       "<IPython.core.display.HTML object>"
      ]
     },
     "metadata": {},
     "output_type": "display_data"
    },
    {
     "data": {
      "text/html": [
       "<style>\n",
       "    table.wandb td:nth-child(1) { padding: 0 10px; text-align: left ; width: auto;} td:nth-child(2) {text-align: left ; width: 100%}\n",
       "    .wandb-row { display: flex; flex-direction: row; flex-wrap: wrap; justify-content: flex-start; width: 100% }\n",
       "    .wandb-col { display: flex; flex-direction: column; flex-basis: 100%; flex: 1; padding: 10px; }\n",
       "    </style>\n",
       "<div class=\"wandb-row\"><div class=\"wandb-col\"><h3>Run history:</h3><br/><table class=\"wandb\"><tr><td>eval/Accuracy</td><td>▁▇█▆</td></tr><tr><td>eval/Balanced accuracy</td><td>▃▄▁█</td></tr><tr><td>eval/F1 macro</td><td>▁▆▆█</td></tr><tr><td>eval/F1 micro</td><td>▁▇█▆</td></tr><tr><td>eval/F1 weighted</td><td>▁███</td></tr><tr><td>eval/loss</td><td>▇▁▃█</td></tr><tr><td>eval/runtime</td><td>▂█▇▁</td></tr><tr><td>eval/samples_per_second</td><td>▇▁▂█</td></tr><tr><td>eval/steps_per_second</td><td>▇▁▂█</td></tr><tr><td>train/epoch</td><td>▁▃▃▆██</td></tr><tr><td>train/global_step</td><td>▁▃▃▆██</td></tr><tr><td>train/grad_norm</td><td>▁█</td></tr><tr><td>train/learning_rate</td><td>█▁</td></tr><tr><td>train/loss</td><td>█▁</td></tr></table><br/></div><div class=\"wandb-col\"><h3>Run summary:</h3><br/><table class=\"wandb\"><tr><td>eval/Accuracy</td><td>0.83146</td></tr><tr><td>eval/Balanced accuracy</td><td>0.78144</td></tr><tr><td>eval/F1 macro</td><td>0.77726</td></tr><tr><td>eval/F1 micro</td><td>0.83146</td></tr><tr><td>eval/F1 weighted</td><td>0.83079</td></tr><tr><td>eval/loss</td><td>0.5217</td></tr><tr><td>eval/runtime</td><td>1.9644</td></tr><tr><td>eval/samples_per_second</td><td>1718.628</td></tr><tr><td>eval/steps_per_second</td><td>107.414</td></tr><tr><td>train/epoch</td><td>4.0</td></tr><tr><td>train/global_step</td><td>1266</td></tr><tr><td>train/grad_norm</td><td>5.87295</td></tr><tr><td>train/learning_rate</td><td>1e-05</td></tr><tr><td>train/loss</td><td>0.2759</td></tr></table><br/></div></div>"
      ],
      "text/plain": [
       "<IPython.core.display.HTML object>"
      ]
     },
     "metadata": {},
     "output_type": "display_data"
    },
    {
     "data": {
      "text/html": [
       " View run <strong style=\"color:#cdcd00\">trial-22</strong> at: <a href='https://wandb.ai/master-2024/DistilBERT/runs/g4zbcg5c' target=\"_blank\">https://wandb.ai/master-2024/DistilBERT/runs/g4zbcg5c</a><br/>Synced 5 W&B file(s), 0 media file(s), 0 artifact file(s) and 0 other file(s)"
      ],
      "text/plain": [
       "<IPython.core.display.HTML object>"
      ]
     },
     "metadata": {},
     "output_type": "display_data"
    },
    {
     "data": {
      "text/html": [
       "Find logs at: <code>./wandb/run-20240418_155805-g4zbcg5c/logs</code>"
      ],
      "text/plain": [
       "<IPython.core.display.HTML object>"
      ]
     },
     "metadata": {},
     "output_type": "display_data"
    },
    {
     "data": {
      "text/html": [
       "Successfully finished last run (ID:g4zbcg5c). Initializing new run:<br/>"
      ],
      "text/plain": [
       "<IPython.core.display.HTML object>"
      ]
     },
     "metadata": {},
     "output_type": "display_data"
    },
    {
     "data": {
      "text/html": [
       "wandb version 0.16.6 is available!  To upgrade, please run:\n",
       " $ pip install wandb --upgrade"
      ],
      "text/plain": [
       "<IPython.core.display.HTML object>"
      ]
     },
     "metadata": {},
     "output_type": "display_data"
    },
    {
     "data": {
      "text/html": [
       "Tracking run with wandb version 0.16.4"
      ],
      "text/plain": [
       "<IPython.core.display.HTML object>"
      ]
     },
     "metadata": {},
     "output_type": "display_data"
    },
    {
     "data": {
      "text/html": [
       "Run data is saved locally in <code>/net/fs-2/scale/OrionStore/Home/joteklem/Pytorch_models/wandb/run-20240418_155958-dqfbhbvr</code>"
      ],
      "text/plain": [
       "<IPython.core.display.HTML object>"
      ]
     },
     "metadata": {},
     "output_type": "display_data"
    },
    {
     "data": {
      "text/html": [
       "Syncing run <strong><a href='https://wandb.ai/master-2024/DistilBERT/runs/dqfbhbvr' target=\"_blank\">trial-23</a></strong> to <a href='https://wandb.ai/master-2024/DistilBERT' target=\"_blank\">Weights & Biases</a> (<a href='https://wandb.me/run' target=\"_blank\">docs</a>)<br/>"
      ],
      "text/plain": [
       "<IPython.core.display.HTML object>"
      ]
     },
     "metadata": {},
     "output_type": "display_data"
    },
    {
     "data": {
      "text/html": [
       " View project at <a href='https://wandb.ai/master-2024/DistilBERT' target=\"_blank\">https://wandb.ai/master-2024/DistilBERT</a>"
      ],
      "text/plain": [
       "<IPython.core.display.HTML object>"
      ]
     },
     "metadata": {},
     "output_type": "display_data"
    },
    {
     "data": {
      "text/html": [
       " View run at <a href='https://wandb.ai/master-2024/DistilBERT/runs/dqfbhbvr' target=\"_blank\">https://wandb.ai/master-2024/DistilBERT/runs/dqfbhbvr</a>"
      ],
      "text/plain": [
       "<IPython.core.display.HTML object>"
      ]
     },
     "metadata": {},
     "output_type": "display_data"
    },
    {
     "name": "stderr",
     "output_type": "stream",
     "text": [
      "/net/fs-2/scale/OrionStore/Scratch/joteklem/MyCondaEnvironments/Python3.11/orion_env/lib/python3.11/site-packages/accelerate/accelerator.py:432: FutureWarning: Passing the following arguments to `Accelerator` is deprecated and will be removed in version 1.0 of Accelerate: dict_keys(['dispatch_batches', 'split_batches', 'even_batches', 'use_seedable_sampler']). Please pass an `accelerate.DataLoaderConfiguration` instead: \n",
      "dataloader_config = DataLoaderConfiguration(dispatch_batches=None, split_batches=False, even_batches=True, use_seedable_sampler=True)\n",
      "  warnings.warn(\n",
      "Detected kernel version 3.10.0, which is below the recommended minimum of 5.5.0; this can cause the process to hang. It is recommended to upgrade the kernel to the minimum version or higher.\n"
     ]
    },
    {
     "name": "stdout",
     "output_type": "stream",
     "text": [
      "Starting trial 23\n"
     ]
    },
    {
     "data": {
      "text/html": [
       "\n",
       "    <div>\n",
       "      \n",
       "      <progress value='1267' max='1580' style='width:300px; height:20px; vertical-align: middle;'></progress>\n",
       "      [1267/1580 01:43 < 00:25, 12.25 it/s, Epoch 4/5]\n",
       "    </div>\n",
       "    <table border=\"1\" class=\"dataframe\">\n",
       "  <thead>\n",
       " <tr style=\"text-align: left;\">\n",
       "      <th>Epoch</th>\n",
       "      <th>Training Loss</th>\n",
       "      <th>Validation Loss</th>\n",
       "      <th>Accuracy</th>\n",
       "      <th>Balanced accuracy</th>\n",
       "      <th>F1 weighted</th>\n",
       "      <th>F1 macro</th>\n",
       "      <th>F1 micro</th>\n",
       "      <th>Classification report</th>\n",
       "    </tr>\n",
       "  </thead>\n",
       "  <tbody>\n",
       "    <tr>\n",
       "      <td>0</td>\n",
       "      <td>No log</td>\n",
       "      <td>0.478146</td>\n",
       "      <td>0.821090</td>\n",
       "      <td>0.745957</td>\n",
       "      <td>0.816305</td>\n",
       "      <td>0.747248</td>\n",
       "      <td>0.821090</td>\n",
       "      <td>{'0': {'precision': 0.861198738170347, 'recall': 0.6066666666666667, 'f1-score': 0.711864406779661, 'support': 900.0}, '1': {'precision': 0.845634753268663, 'recall': 0.927382053654024, 'f1-score': 0.8846238694021619, 'support': 2162.0}, '2': {'precision': 0.5956873315363881, 'recall': 0.7038216560509554, 'f1-score': 0.6452554744525547, 'support': 314.0}, 'accuracy': 0.8210900473933649, 'macro avg': {'precision': 0.7675069409917993, 'recall': 0.745956792123882, 'f1-score': 0.7472479168781258, 'support': 3376.0}, 'weighted avg': {'precision': 0.826536440468776, 'recall': 0.8210900473933649, 'f1-score': 0.8163047958315377, 'support': 3376.0}}</td>\n",
       "    </tr>\n",
       "    <tr>\n",
       "      <td>2</td>\n",
       "      <td>0.535600</td>\n",
       "      <td>0.466531</td>\n",
       "      <td>0.832346</td>\n",
       "      <td>0.778270</td>\n",
       "      <td>0.830304</td>\n",
       "      <td>0.778657</td>\n",
       "      <td>0.832346</td>\n",
       "      <td>{'0': {'precision': 0.7923076923076923, 'recall': 0.6866666666666666, 'f1-score': 0.7357142857142858, 'support': 900.0}, '1': {'precision': 0.8679663269827205, 'recall': 0.9061054579093432, 'f1-score': 0.8866259334691107, 'support': 2162.0}, '2': {'precision': 0.6873156342182891, 'recall': 0.7420382165605095, 'f1-score': 0.7136294027565084, 'support': 314.0}, 'accuracy': 0.832345971563981, 'macro avg': {'precision': 0.7825298845029005, 'recall': 0.778270113712173, 'f1-score': 0.7786565406466349, 'support': 3376.0}, 'weighted avg': {'precision': 0.830994440508918, 'recall': 0.832345971563981, 'f1-score': 0.8303044306186664, 'support': 3376.0}}</td>\n",
       "    </tr>\n",
       "  </tbody>\n",
       "</table><p>\n",
       "    <div>\n",
       "      \n",
       "      <progress value='211' max='211' style='width:300px; height:20px; vertical-align: middle;'></progress>\n",
       "      [211/211 00:01]\n",
       "    </div>\n",
       "    "
      ],
      "text/plain": [
       "<IPython.core.display.HTML object>"
      ]
     },
     "metadata": {},
     "output_type": "display_data"
    },
    {
     "name": "stderr",
     "output_type": "stream",
     "text": [
      "[I 2024-04-18 16:01:52,241] Trial 23 pruned. \n"
     ]
    },
    {
     "data": {
      "text/html": [
       "Finishing last run (ID:dqfbhbvr) before initializing another..."
      ],
      "text/plain": [
       "<IPython.core.display.HTML object>"
      ]
     },
     "metadata": {},
     "output_type": "display_data"
    },
    {
     "data": {
      "text/html": [
       "<style>\n",
       "    table.wandb td:nth-child(1) { padding: 0 10px; text-align: left ; width: auto;} td:nth-child(2) {text-align: left ; width: 100%}\n",
       "    .wandb-row { display: flex; flex-direction: row; flex-wrap: wrap; justify-content: flex-start; width: 100% }\n",
       "    .wandb-col { display: flex; flex-direction: column; flex-basis: 100%; flex: 1; padding: 10px; }\n",
       "    </style>\n",
       "<div class=\"wandb-row\"><div class=\"wandb-col\"><h3>Run history:</h3><br/><table class=\"wandb\"><tr><td>eval/Accuracy</td><td>▁█▇▇</td></tr><tr><td>eval/Balanced accuracy</td><td>▃▁█▅</td></tr><tr><td>eval/F1 macro</td><td>▁▅█▇</td></tr><tr><td>eval/F1 micro</td><td>▁█▇▇</td></tr><tr><td>eval/F1 weighted</td><td>▁▆██</td></tr><tr><td>eval/loss</td><td>▂▁▂█</td></tr><tr><td>eval/runtime</td><td>▁▂▃█</td></tr><tr><td>eval/samples_per_second</td><td>█▇▆▁</td></tr><tr><td>eval/steps_per_second</td><td>█▇▆▁</td></tr><tr><td>train/epoch</td><td>▁▃▃▆██</td></tr><tr><td>train/global_step</td><td>▁▃▃▆██</td></tr><tr><td>train/grad_norm</td><td>█▁</td></tr><tr><td>train/learning_rate</td><td>█▁</td></tr><tr><td>train/loss</td><td>█▁</td></tr></table><br/></div><div class=\"wandb-col\"><h3>Run summary:</h3><br/><table class=\"wandb\"><tr><td>eval/Accuracy</td><td>0.83323</td></tr><tr><td>eval/Balanced accuracy</td><td>0.75644</td></tr><tr><td>eval/F1 macro</td><td>0.77429</td></tr><tr><td>eval/F1 micro</td><td>0.83323</td></tr><tr><td>eval/F1 weighted</td><td>0.83074</td></tr><tr><td>eval/loss</td><td>0.61107</td></tr><tr><td>eval/runtime</td><td>1.9694</td></tr><tr><td>eval/samples_per_second</td><td>1714.254</td></tr><tr><td>eval/steps_per_second</td><td>107.141</td></tr><tr><td>train/epoch</td><td>4.0</td></tr><tr><td>train/global_step</td><td>1266</td></tr><tr><td>train/grad_norm</td><td>3.36941</td></tr><tr><td>train/learning_rate</td><td>1e-05</td></tr><tr><td>train/loss</td><td>0.2121</td></tr></table><br/></div></div>"
      ],
      "text/plain": [
       "<IPython.core.display.HTML object>"
      ]
     },
     "metadata": {},
     "output_type": "display_data"
    },
    {
     "data": {
      "text/html": [
       " View run <strong style=\"color:#cdcd00\">trial-23</strong> at: <a href='https://wandb.ai/master-2024/DistilBERT/runs/dqfbhbvr' target=\"_blank\">https://wandb.ai/master-2024/DistilBERT/runs/dqfbhbvr</a><br/>Synced 5 W&B file(s), 0 media file(s), 0 artifact file(s) and 0 other file(s)"
      ],
      "text/plain": [
       "<IPython.core.display.HTML object>"
      ]
     },
     "metadata": {},
     "output_type": "display_data"
    },
    {
     "data": {
      "text/html": [
       "Find logs at: <code>./wandb/run-20240418_155958-dqfbhbvr/logs</code>"
      ],
      "text/plain": [
       "<IPython.core.display.HTML object>"
      ]
     },
     "metadata": {},
     "output_type": "display_data"
    },
    {
     "data": {
      "text/html": [
       "Successfully finished last run (ID:dqfbhbvr). Initializing new run:<br/>"
      ],
      "text/plain": [
       "<IPython.core.display.HTML object>"
      ]
     },
     "metadata": {},
     "output_type": "display_data"
    },
    {
     "data": {
      "text/html": [
       "wandb version 0.16.6 is available!  To upgrade, please run:\n",
       " $ pip install wandb --upgrade"
      ],
      "text/plain": [
       "<IPython.core.display.HTML object>"
      ]
     },
     "metadata": {},
     "output_type": "display_data"
    },
    {
     "data": {
      "text/html": [
       "Tracking run with wandb version 0.16.4"
      ],
      "text/plain": [
       "<IPython.core.display.HTML object>"
      ]
     },
     "metadata": {},
     "output_type": "display_data"
    },
    {
     "data": {
      "text/html": [
       "Run data is saved locally in <code>/net/fs-2/scale/OrionStore/Home/joteklem/Pytorch_models/wandb/run-20240418_160152-djoj3k02</code>"
      ],
      "text/plain": [
       "<IPython.core.display.HTML object>"
      ]
     },
     "metadata": {},
     "output_type": "display_data"
    },
    {
     "data": {
      "text/html": [
       "Syncing run <strong><a href='https://wandb.ai/master-2024/DistilBERT/runs/djoj3k02' target=\"_blank\">trial-24</a></strong> to <a href='https://wandb.ai/master-2024/DistilBERT' target=\"_blank\">Weights & Biases</a> (<a href='https://wandb.me/run' target=\"_blank\">docs</a>)<br/>"
      ],
      "text/plain": [
       "<IPython.core.display.HTML object>"
      ]
     },
     "metadata": {},
     "output_type": "display_data"
    },
    {
     "data": {
      "text/html": [
       " View project at <a href='https://wandb.ai/master-2024/DistilBERT' target=\"_blank\">https://wandb.ai/master-2024/DistilBERT</a>"
      ],
      "text/plain": [
       "<IPython.core.display.HTML object>"
      ]
     },
     "metadata": {},
     "output_type": "display_data"
    },
    {
     "data": {
      "text/html": [
       " View run at <a href='https://wandb.ai/master-2024/DistilBERT/runs/djoj3k02' target=\"_blank\">https://wandb.ai/master-2024/DistilBERT/runs/djoj3k02</a>"
      ],
      "text/plain": [
       "<IPython.core.display.HTML object>"
      ]
     },
     "metadata": {},
     "output_type": "display_data"
    },
    {
     "name": "stderr",
     "output_type": "stream",
     "text": [
      "/net/fs-2/scale/OrionStore/Scratch/joteklem/MyCondaEnvironments/Python3.11/orion_env/lib/python3.11/site-packages/accelerate/accelerator.py:432: FutureWarning: Passing the following arguments to `Accelerator` is deprecated and will be removed in version 1.0 of Accelerate: dict_keys(['dispatch_batches', 'split_batches', 'even_batches', 'use_seedable_sampler']). Please pass an `accelerate.DataLoaderConfiguration` instead: \n",
      "dataloader_config = DataLoaderConfiguration(dispatch_batches=None, split_batches=False, even_batches=True, use_seedable_sampler=True)\n",
      "  warnings.warn(\n",
      "Detected kernel version 3.10.0, which is below the recommended minimum of 5.5.0; this can cause the process to hang. It is recommended to upgrade the kernel to the minimum version or higher.\n"
     ]
    },
    {
     "name": "stdout",
     "output_type": "stream",
     "text": [
      "Starting trial 24\n"
     ]
    },
    {
     "data": {
      "text/html": [
       "\n",
       "    <div>\n",
       "      \n",
       "      <progress value='317' max='1580' style='width:300px; height:20px; vertical-align: middle;'></progress>\n",
       "      [ 315/1580 00:20 < 01:21, 15.44 it/s, Epoch 0.99/5]\n",
       "    </div>\n",
       "    <table border=\"1\" class=\"dataframe\">\n",
       "  <thead>\n",
       " <tr style=\"text-align: left;\">\n",
       "      <th>Epoch</th>\n",
       "      <th>Training Loss</th>\n",
       "      <th>Validation Loss</th>\n",
       "    </tr>\n",
       "  </thead>\n",
       "  <tbody>\n",
       "  </tbody>\n",
       "</table><p>\n",
       "    <div>\n",
       "      \n",
       "      <progress value='211' max='211' style='width:300px; height:20px; vertical-align: middle;'></progress>\n",
       "      [211/211 00:01]\n",
       "    </div>\n",
       "    "
      ],
      "text/plain": [
       "<IPython.core.display.HTML object>"
      ]
     },
     "metadata": {},
     "output_type": "display_data"
    },
    {
     "name": "stderr",
     "output_type": "stream",
     "text": [
      "[I 2024-04-18 16:02:22,536] Trial 24 pruned. \n"
     ]
    },
    {
     "data": {
      "text/html": [
       "Finishing last run (ID:djoj3k02) before initializing another..."
      ],
      "text/plain": [
       "<IPython.core.display.HTML object>"
      ]
     },
     "metadata": {},
     "output_type": "display_data"
    },
    {
     "data": {
      "text/html": [
       "<style>\n",
       "    table.wandb td:nth-child(1) { padding: 0 10px; text-align: left ; width: auto;} td:nth-child(2) {text-align: left ; width: 100%}\n",
       "    .wandb-row { display: flex; flex-direction: row; flex-wrap: wrap; justify-content: flex-start; width: 100% }\n",
       "    .wandb-col { display: flex; flex-direction: column; flex-basis: 100%; flex: 1; padding: 10px; }\n",
       "    </style>\n",
       "<div class=\"wandb-row\"><div class=\"wandb-col\"><h3>Run history:</h3><br/><table class=\"wandb\"><tr><td>eval/Accuracy</td><td>▁</td></tr><tr><td>eval/Balanced accuracy</td><td>▁</td></tr><tr><td>eval/F1 macro</td><td>▁</td></tr><tr><td>eval/F1 micro</td><td>▁</td></tr><tr><td>eval/F1 weighted</td><td>▁</td></tr><tr><td>eval/loss</td><td>▁</td></tr><tr><td>eval/runtime</td><td>▁</td></tr><tr><td>eval/samples_per_second</td><td>▁</td></tr><tr><td>eval/steps_per_second</td><td>▁</td></tr><tr><td>train/epoch</td><td>▁</td></tr><tr><td>train/global_step</td><td>▁</td></tr></table><br/></div><div class=\"wandb-col\"><h3>Run summary:</h3><br/><table class=\"wandb\"><tr><td>eval/Accuracy</td><td>0.80865</td></tr><tr><td>eval/Balanced accuracy</td><td>0.76286</td></tr><tr><td>eval/F1 macro</td><td>0.73374</td></tr><tr><td>eval/F1 micro</td><td>0.80865</td></tr><tr><td>eval/F1 weighted</td><td>0.8116</td></tr><tr><td>eval/loss</td><td>0.50243</td></tr><tr><td>eval/runtime</td><td>1.9726</td></tr><tr><td>eval/samples_per_second</td><td>1711.437</td></tr><tr><td>eval/steps_per_second</td><td>106.965</td></tr><tr><td>train/epoch</td><td>1.0</td></tr><tr><td>train/global_step</td><td>316</td></tr></table><br/></div></div>"
      ],
      "text/plain": [
       "<IPython.core.display.HTML object>"
      ]
     },
     "metadata": {},
     "output_type": "display_data"
    },
    {
     "data": {
      "text/html": [
       " View run <strong style=\"color:#cdcd00\">trial-24</strong> at: <a href='https://wandb.ai/master-2024/DistilBERT/runs/djoj3k02' target=\"_blank\">https://wandb.ai/master-2024/DistilBERT/runs/djoj3k02</a><br/>Synced 5 W&B file(s), 0 media file(s), 0 artifact file(s) and 0 other file(s)"
      ],
      "text/plain": [
       "<IPython.core.display.HTML object>"
      ]
     },
     "metadata": {},
     "output_type": "display_data"
    },
    {
     "data": {
      "text/html": [
       "Find logs at: <code>./wandb/run-20240418_160152-djoj3k02/logs</code>"
      ],
      "text/plain": [
       "<IPython.core.display.HTML object>"
      ]
     },
     "metadata": {},
     "output_type": "display_data"
    },
    {
     "data": {
      "text/html": [
       "Successfully finished last run (ID:djoj3k02). Initializing new run:<br/>"
      ],
      "text/plain": [
       "<IPython.core.display.HTML object>"
      ]
     },
     "metadata": {},
     "output_type": "display_data"
    },
    {
     "data": {
      "text/html": [
       "wandb version 0.16.6 is available!  To upgrade, please run:\n",
       " $ pip install wandb --upgrade"
      ],
      "text/plain": [
       "<IPython.core.display.HTML object>"
      ]
     },
     "metadata": {},
     "output_type": "display_data"
    },
    {
     "data": {
      "text/html": [
       "Tracking run with wandb version 0.16.4"
      ],
      "text/plain": [
       "<IPython.core.display.HTML object>"
      ]
     },
     "metadata": {},
     "output_type": "display_data"
    },
    {
     "data": {
      "text/html": [
       "Run data is saved locally in <code>/net/fs-2/scale/OrionStore/Home/joteklem/Pytorch_models/wandb/run-20240418_160222-7ldgv2uh</code>"
      ],
      "text/plain": [
       "<IPython.core.display.HTML object>"
      ]
     },
     "metadata": {},
     "output_type": "display_data"
    },
    {
     "data": {
      "text/html": [
       "Syncing run <strong><a href='https://wandb.ai/master-2024/DistilBERT/runs/7ldgv2uh' target=\"_blank\">trial-25</a></strong> to <a href='https://wandb.ai/master-2024/DistilBERT' target=\"_blank\">Weights & Biases</a> (<a href='https://wandb.me/run' target=\"_blank\">docs</a>)<br/>"
      ],
      "text/plain": [
       "<IPython.core.display.HTML object>"
      ]
     },
     "metadata": {},
     "output_type": "display_data"
    },
    {
     "data": {
      "text/html": [
       " View project at <a href='https://wandb.ai/master-2024/DistilBERT' target=\"_blank\">https://wandb.ai/master-2024/DistilBERT</a>"
      ],
      "text/plain": [
       "<IPython.core.display.HTML object>"
      ]
     },
     "metadata": {},
     "output_type": "display_data"
    },
    {
     "data": {
      "text/html": [
       " View run at <a href='https://wandb.ai/master-2024/DistilBERT/runs/7ldgv2uh' target=\"_blank\">https://wandb.ai/master-2024/DistilBERT/runs/7ldgv2uh</a>"
      ],
      "text/plain": [
       "<IPython.core.display.HTML object>"
      ]
     },
     "metadata": {},
     "output_type": "display_data"
    },
    {
     "name": "stderr",
     "output_type": "stream",
     "text": [
      "/net/fs-2/scale/OrionStore/Scratch/joteklem/MyCondaEnvironments/Python3.11/orion_env/lib/python3.11/site-packages/accelerate/accelerator.py:432: FutureWarning: Passing the following arguments to `Accelerator` is deprecated and will be removed in version 1.0 of Accelerate: dict_keys(['dispatch_batches', 'split_batches', 'even_batches', 'use_seedable_sampler']). Please pass an `accelerate.DataLoaderConfiguration` instead: \n",
      "dataloader_config = DataLoaderConfiguration(dispatch_batches=None, split_batches=False, even_batches=True, use_seedable_sampler=True)\n",
      "  warnings.warn(\n",
      "Detected kernel version 3.10.0, which is below the recommended minimum of 5.5.0; this can cause the process to hang. It is recommended to upgrade the kernel to the minimum version or higher.\n"
     ]
    },
    {
     "name": "stdout",
     "output_type": "stream",
     "text": [
      "Starting trial 25\n"
     ]
    },
    {
     "data": {
      "text/html": [
       "\n",
       "    <div>\n",
       "      \n",
       "      <progress value='317' max='1580' style='width:300px; height:20px; vertical-align: middle;'></progress>\n",
       "      [ 316/1580 00:19 < 01:20, 15.72 it/s, Epoch 1.00/5]\n",
       "    </div>\n",
       "    <table border=\"1\" class=\"dataframe\">\n",
       "  <thead>\n",
       " <tr style=\"text-align: left;\">\n",
       "      <th>Epoch</th>\n",
       "      <th>Training Loss</th>\n",
       "      <th>Validation Loss</th>\n",
       "    </tr>\n",
       "  </thead>\n",
       "  <tbody>\n",
       "  </tbody>\n",
       "</table><p>\n",
       "    <div>\n",
       "      \n",
       "      <progress value='211' max='211' style='width:300px; height:20px; vertical-align: middle;'></progress>\n",
       "      [211/211 00:01]\n",
       "    </div>\n",
       "    "
      ],
      "text/plain": [
       "<IPython.core.display.HTML object>"
      ]
     },
     "metadata": {},
     "output_type": "display_data"
    },
    {
     "name": "stderr",
     "output_type": "stream",
     "text": [
      "[I 2024-04-18 16:02:52,601] Trial 25 pruned. \n"
     ]
    },
    {
     "data": {
      "text/html": [
       "Finishing last run (ID:7ldgv2uh) before initializing another..."
      ],
      "text/plain": [
       "<IPython.core.display.HTML object>"
      ]
     },
     "metadata": {},
     "output_type": "display_data"
    },
    {
     "data": {
      "text/html": [
       "<style>\n",
       "    table.wandb td:nth-child(1) { padding: 0 10px; text-align: left ; width: auto;} td:nth-child(2) {text-align: left ; width: 100%}\n",
       "    .wandb-row { display: flex; flex-direction: row; flex-wrap: wrap; justify-content: flex-start; width: 100% }\n",
       "    .wandb-col { display: flex; flex-direction: column; flex-basis: 100%; flex: 1; padding: 10px; }\n",
       "    </style>\n",
       "<div class=\"wandb-row\"><div class=\"wandb-col\"><h3>Run history:</h3><br/><table class=\"wandb\"><tr><td>eval/Accuracy</td><td>▁</td></tr><tr><td>eval/Balanced accuracy</td><td>▁</td></tr><tr><td>eval/F1 macro</td><td>▁</td></tr><tr><td>eval/F1 micro</td><td>▁</td></tr><tr><td>eval/F1 weighted</td><td>▁</td></tr><tr><td>eval/loss</td><td>▁</td></tr><tr><td>eval/runtime</td><td>▁</td></tr><tr><td>eval/samples_per_second</td><td>▁</td></tr><tr><td>eval/steps_per_second</td><td>▁</td></tr><tr><td>train/epoch</td><td>▁</td></tr><tr><td>train/global_step</td><td>▁</td></tr></table><br/></div><div class=\"wandb-col\"><h3>Run summary:</h3><br/><table class=\"wandb\"><tr><td>eval/Accuracy</td><td>0.80539</td></tr><tr><td>eval/Balanced accuracy</td><td>0.74829</td></tr><tr><td>eval/F1 macro</td><td>0.72837</td></tr><tr><td>eval/F1 micro</td><td>0.80539</td></tr><tr><td>eval/F1 weighted</td><td>0.80706</td></tr><tr><td>eval/loss</td><td>0.5206</td></tr><tr><td>eval/runtime</td><td>1.9697</td></tr><tr><td>eval/samples_per_second</td><td>1713.983</td></tr><tr><td>eval/steps_per_second</td><td>107.124</td></tr><tr><td>train/epoch</td><td>1.0</td></tr><tr><td>train/global_step</td><td>316</td></tr></table><br/></div></div>"
      ],
      "text/plain": [
       "<IPython.core.display.HTML object>"
      ]
     },
     "metadata": {},
     "output_type": "display_data"
    },
    {
     "data": {
      "text/html": [
       " View run <strong style=\"color:#cdcd00\">trial-25</strong> at: <a href='https://wandb.ai/master-2024/DistilBERT/runs/7ldgv2uh' target=\"_blank\">https://wandb.ai/master-2024/DistilBERT/runs/7ldgv2uh</a><br/>Synced 5 W&B file(s), 0 media file(s), 0 artifact file(s) and 0 other file(s)"
      ],
      "text/plain": [
       "<IPython.core.display.HTML object>"
      ]
     },
     "metadata": {},
     "output_type": "display_data"
    },
    {
     "data": {
      "text/html": [
       "Find logs at: <code>./wandb/run-20240418_160222-7ldgv2uh/logs</code>"
      ],
      "text/plain": [
       "<IPython.core.display.HTML object>"
      ]
     },
     "metadata": {},
     "output_type": "display_data"
    },
    {
     "data": {
      "text/html": [
       "Successfully finished last run (ID:7ldgv2uh). Initializing new run:<br/>"
      ],
      "text/plain": [
       "<IPython.core.display.HTML object>"
      ]
     },
     "metadata": {},
     "output_type": "display_data"
    },
    {
     "data": {
      "text/html": [
       "wandb version 0.16.6 is available!  To upgrade, please run:\n",
       " $ pip install wandb --upgrade"
      ],
      "text/plain": [
       "<IPython.core.display.HTML object>"
      ]
     },
     "metadata": {},
     "output_type": "display_data"
    },
    {
     "data": {
      "text/html": [
       "Tracking run with wandb version 0.16.4"
      ],
      "text/plain": [
       "<IPython.core.display.HTML object>"
      ]
     },
     "metadata": {},
     "output_type": "display_data"
    },
    {
     "data": {
      "text/html": [
       "Run data is saved locally in <code>/net/fs-2/scale/OrionStore/Home/joteklem/Pytorch_models/wandb/run-20240418_160252-53bqvq57</code>"
      ],
      "text/plain": [
       "<IPython.core.display.HTML object>"
      ]
     },
     "metadata": {},
     "output_type": "display_data"
    },
    {
     "data": {
      "text/html": [
       "Syncing run <strong><a href='https://wandb.ai/master-2024/DistilBERT/runs/53bqvq57' target=\"_blank\">trial-26</a></strong> to <a href='https://wandb.ai/master-2024/DistilBERT' target=\"_blank\">Weights & Biases</a> (<a href='https://wandb.me/run' target=\"_blank\">docs</a>)<br/>"
      ],
      "text/plain": [
       "<IPython.core.display.HTML object>"
      ]
     },
     "metadata": {},
     "output_type": "display_data"
    },
    {
     "data": {
      "text/html": [
       " View project at <a href='https://wandb.ai/master-2024/DistilBERT' target=\"_blank\">https://wandb.ai/master-2024/DistilBERT</a>"
      ],
      "text/plain": [
       "<IPython.core.display.HTML object>"
      ]
     },
     "metadata": {},
     "output_type": "display_data"
    },
    {
     "data": {
      "text/html": [
       " View run at <a href='https://wandb.ai/master-2024/DistilBERT/runs/53bqvq57' target=\"_blank\">https://wandb.ai/master-2024/DistilBERT/runs/53bqvq57</a>"
      ],
      "text/plain": [
       "<IPython.core.display.HTML object>"
      ]
     },
     "metadata": {},
     "output_type": "display_data"
    },
    {
     "name": "stdout",
     "output_type": "stream",
     "text": [
      "Starting trial 26\n"
     ]
    },
    {
     "name": "stderr",
     "output_type": "stream",
     "text": [
      "/net/fs-2/scale/OrionStore/Scratch/joteklem/MyCondaEnvironments/Python3.11/orion_env/lib/python3.11/site-packages/accelerate/accelerator.py:432: FutureWarning: Passing the following arguments to `Accelerator` is deprecated and will be removed in version 1.0 of Accelerate: dict_keys(['dispatch_batches', 'split_batches', 'even_batches', 'use_seedable_sampler']). Please pass an `accelerate.DataLoaderConfiguration` instead: \n",
      "dataloader_config = DataLoaderConfiguration(dispatch_batches=None, split_batches=False, even_batches=True, use_seedable_sampler=True)\n",
      "  warnings.warn(\n",
      "Detected kernel version 3.10.0, which is below the recommended minimum of 5.5.0; this can cause the process to hang. It is recommended to upgrade the kernel to the minimum version or higher.\n"
     ]
    },
    {
     "data": {
      "text/html": [
       "\n",
       "    <div>\n",
       "      \n",
       "      <progress value='317' max='1264' style='width:300px; height:20px; vertical-align: middle;'></progress>\n",
       "      [ 316/1264 00:19 < 00:59, 15.87 it/s, Epoch 1.00/4]\n",
       "    </div>\n",
       "    <table border=\"1\" class=\"dataframe\">\n",
       "  <thead>\n",
       " <tr style=\"text-align: left;\">\n",
       "      <th>Epoch</th>\n",
       "      <th>Training Loss</th>\n",
       "      <th>Validation Loss</th>\n",
       "    </tr>\n",
       "  </thead>\n",
       "  <tbody>\n",
       "  </tbody>\n",
       "</table><p>\n",
       "    <div>\n",
       "      \n",
       "      <progress value='211' max='211' style='width:300px; height:20px; vertical-align: middle;'></progress>\n",
       "      [211/211 00:01]\n",
       "    </div>\n",
       "    "
      ],
      "text/plain": [
       "<IPython.core.display.HTML object>"
      ]
     },
     "metadata": {},
     "output_type": "display_data"
    },
    {
     "name": "stderr",
     "output_type": "stream",
     "text": [
      "[I 2024-04-18 16:03:21,576] Trial 26 pruned. \n"
     ]
    },
    {
     "data": {
      "text/html": [
       "Finishing last run (ID:53bqvq57) before initializing another..."
      ],
      "text/plain": [
       "<IPython.core.display.HTML object>"
      ]
     },
     "metadata": {},
     "output_type": "display_data"
    },
    {
     "data": {
      "text/html": [
       "<style>\n",
       "    table.wandb td:nth-child(1) { padding: 0 10px; text-align: left ; width: auto;} td:nth-child(2) {text-align: left ; width: 100%}\n",
       "    .wandb-row { display: flex; flex-direction: row; flex-wrap: wrap; justify-content: flex-start; width: 100% }\n",
       "    .wandb-col { display: flex; flex-direction: column; flex-basis: 100%; flex: 1; padding: 10px; }\n",
       "    </style>\n",
       "<div class=\"wandb-row\"><div class=\"wandb-col\"><h3>Run history:</h3><br/><table class=\"wandb\"><tr><td>eval/Accuracy</td><td>▁</td></tr><tr><td>eval/Balanced accuracy</td><td>▁</td></tr><tr><td>eval/F1 macro</td><td>▁</td></tr><tr><td>eval/F1 micro</td><td>▁</td></tr><tr><td>eval/F1 weighted</td><td>▁</td></tr><tr><td>eval/loss</td><td>▁</td></tr><tr><td>eval/runtime</td><td>▁</td></tr><tr><td>eval/samples_per_second</td><td>▁</td></tr><tr><td>eval/steps_per_second</td><td>▁</td></tr><tr><td>train/epoch</td><td>▁</td></tr><tr><td>train/global_step</td><td>▁</td></tr></table><br/></div><div class=\"wandb-col\"><h3>Run summary:</h3><br/><table class=\"wandb\"><tr><td>eval/Accuracy</td><td>0.80776</td></tr><tr><td>eval/Balanced accuracy</td><td>0.72421</td></tr><tr><td>eval/F1 macro</td><td>0.72425</td></tr><tr><td>eval/F1 micro</td><td>0.80776</td></tr><tr><td>eval/F1 weighted</td><td>0.80687</td></tr><tr><td>eval/loss</td><td>0.52119</td></tr><tr><td>eval/runtime</td><td>1.9683</td></tr><tr><td>eval/samples_per_second</td><td>1715.227</td></tr><tr><td>eval/steps_per_second</td><td>107.202</td></tr><tr><td>train/epoch</td><td>1.0</td></tr><tr><td>train/global_step</td><td>316</td></tr></table><br/></div></div>"
      ],
      "text/plain": [
       "<IPython.core.display.HTML object>"
      ]
     },
     "metadata": {},
     "output_type": "display_data"
    },
    {
     "data": {
      "text/html": [
       " View run <strong style=\"color:#cdcd00\">trial-26</strong> at: <a href='https://wandb.ai/master-2024/DistilBERT/runs/53bqvq57' target=\"_blank\">https://wandb.ai/master-2024/DistilBERT/runs/53bqvq57</a><br/>Synced 5 W&B file(s), 0 media file(s), 0 artifact file(s) and 0 other file(s)"
      ],
      "text/plain": [
       "<IPython.core.display.HTML object>"
      ]
     },
     "metadata": {},
     "output_type": "display_data"
    },
    {
     "data": {
      "text/html": [
       "Find logs at: <code>./wandb/run-20240418_160252-53bqvq57/logs</code>"
      ],
      "text/plain": [
       "<IPython.core.display.HTML object>"
      ]
     },
     "metadata": {},
     "output_type": "display_data"
    },
    {
     "data": {
      "text/html": [
       "Successfully finished last run (ID:53bqvq57). Initializing new run:<br/>"
      ],
      "text/plain": [
       "<IPython.core.display.HTML object>"
      ]
     },
     "metadata": {},
     "output_type": "display_data"
    },
    {
     "data": {
      "text/html": [
       "wandb version 0.16.6 is available!  To upgrade, please run:\n",
       " $ pip install wandb --upgrade"
      ],
      "text/plain": [
       "<IPython.core.display.HTML object>"
      ]
     },
     "metadata": {},
     "output_type": "display_data"
    },
    {
     "data": {
      "text/html": [
       "Tracking run with wandb version 0.16.4"
      ],
      "text/plain": [
       "<IPython.core.display.HTML object>"
      ]
     },
     "metadata": {},
     "output_type": "display_data"
    },
    {
     "data": {
      "text/html": [
       "Run data is saved locally in <code>/net/fs-2/scale/OrionStore/Home/joteklem/Pytorch_models/wandb/run-20240418_160321-9zc79rmr</code>"
      ],
      "text/plain": [
       "<IPython.core.display.HTML object>"
      ]
     },
     "metadata": {},
     "output_type": "display_data"
    },
    {
     "data": {
      "text/html": [
       "Syncing run <strong><a href='https://wandb.ai/master-2024/DistilBERT/runs/9zc79rmr' target=\"_blank\">trial-27</a></strong> to <a href='https://wandb.ai/master-2024/DistilBERT' target=\"_blank\">Weights & Biases</a> (<a href='https://wandb.me/run' target=\"_blank\">docs</a>)<br/>"
      ],
      "text/plain": [
       "<IPython.core.display.HTML object>"
      ]
     },
     "metadata": {},
     "output_type": "display_data"
    },
    {
     "data": {
      "text/html": [
       " View project at <a href='https://wandb.ai/master-2024/DistilBERT' target=\"_blank\">https://wandb.ai/master-2024/DistilBERT</a>"
      ],
      "text/plain": [
       "<IPython.core.display.HTML object>"
      ]
     },
     "metadata": {},
     "output_type": "display_data"
    },
    {
     "data": {
      "text/html": [
       " View run at <a href='https://wandb.ai/master-2024/DistilBERT/runs/9zc79rmr' target=\"_blank\">https://wandb.ai/master-2024/DistilBERT/runs/9zc79rmr</a>"
      ],
      "text/plain": [
       "<IPython.core.display.HTML object>"
      ]
     },
     "metadata": {},
     "output_type": "display_data"
    },
    {
     "name": "stderr",
     "output_type": "stream",
     "text": [
      "/net/fs-2/scale/OrionStore/Scratch/joteklem/MyCondaEnvironments/Python3.11/orion_env/lib/python3.11/site-packages/accelerate/accelerator.py:432: FutureWarning: Passing the following arguments to `Accelerator` is deprecated and will be removed in version 1.0 of Accelerate: dict_keys(['dispatch_batches', 'split_batches', 'even_batches', 'use_seedable_sampler']). Please pass an `accelerate.DataLoaderConfiguration` instead: \n",
      "dataloader_config = DataLoaderConfiguration(dispatch_batches=None, split_batches=False, even_batches=True, use_seedable_sampler=True)\n",
      "  warnings.warn(\n",
      "Detected kernel version 3.10.0, which is below the recommended minimum of 5.5.0; this can cause the process to hang. It is recommended to upgrade the kernel to the minimum version or higher.\n"
     ]
    },
    {
     "name": "stdout",
     "output_type": "stream",
     "text": [
      "Starting trial 27\n"
     ]
    },
    {
     "data": {
      "text/html": [
       "\n",
       "    <div>\n",
       "      \n",
       "      <progress value='634' max='948' style='width:300px; height:20px; vertical-align: middle;'></progress>\n",
       "      [634/948 00:50 < 00:25, 12.48 it/s, Epoch 2/3]\n",
       "    </div>\n",
       "    <table border=\"1\" class=\"dataframe\">\n",
       "  <thead>\n",
       " <tr style=\"text-align: left;\">\n",
       "      <th>Epoch</th>\n",
       "      <th>Training Loss</th>\n",
       "      <th>Validation Loss</th>\n",
       "      <th>Accuracy</th>\n",
       "      <th>Balanced accuracy</th>\n",
       "      <th>F1 weighted</th>\n",
       "      <th>F1 macro</th>\n",
       "      <th>F1 micro</th>\n",
       "      <th>Classification report</th>\n",
       "    </tr>\n",
       "  </thead>\n",
       "  <tbody>\n",
       "    <tr>\n",
       "      <td>0</td>\n",
       "      <td>No log</td>\n",
       "      <td>0.493861</td>\n",
       "      <td>0.820794</td>\n",
       "      <td>0.745111</td>\n",
       "      <td>0.816023</td>\n",
       "      <td>0.747149</td>\n",
       "      <td>0.820794</td>\n",
       "      <td>{'0': {'precision': 0.8641390205371248, 'recall': 0.6077777777777778, 'f1-score': 0.7136333985649055, 'support': 900.0}, '1': {'precision': 0.8441449031171019, 'recall': 0.9269195189639223, 'f1-score': 0.8835978835978835, 'support': 2162.0}, '2': {'precision': 0.5962059620596206, 'recall': 0.7006369426751592, 'f1-score': 0.6442166910688141, 'support': 314.0}, 'accuracy': 0.8207938388625592, 'macro avg': {'precision': 0.7681632952379491, 'recall': 0.745111413138953, 'f1-score': 0.7471493244105343, 'support': 3376.0}, 'weighted avg': {'precision': 0.8264144167977806, 'recall': 0.8207938388625592, 'f1-score': 0.8160227263159497, 'support': 3376.0}}</td>\n",
       "    </tr>\n",
       "  </tbody>\n",
       "</table><p>\n",
       "    <div>\n",
       "      \n",
       "      <progress value='211' max='211' style='width:300px; height:20px; vertical-align: middle;'></progress>\n",
       "      [211/211 00:01]\n",
       "    </div>\n",
       "    "
      ],
      "text/plain": [
       "<IPython.core.display.HTML object>"
      ]
     },
     "metadata": {},
     "output_type": "display_data"
    },
    {
     "name": "stderr",
     "output_type": "stream",
     "text": [
      "[I 2024-04-18 16:04:21,612] Trial 27 pruned. \n"
     ]
    },
    {
     "data": {
      "text/html": [
       "Finishing last run (ID:9zc79rmr) before initializing another..."
      ],
      "text/plain": [
       "<IPython.core.display.HTML object>"
      ]
     },
     "metadata": {},
     "output_type": "display_data"
    },
    {
     "data": {
      "text/html": [
       "<style>\n",
       "    table.wandb td:nth-child(1) { padding: 0 10px; text-align: left ; width: auto;} td:nth-child(2) {text-align: left ; width: 100%}\n",
       "    .wandb-row { display: flex; flex-direction: row; flex-wrap: wrap; justify-content: flex-start; width: 100% }\n",
       "    .wandb-col { display: flex; flex-direction: column; flex-basis: 100%; flex: 1; padding: 10px; }\n",
       "    </style>\n",
       "<div class=\"wandb-row\"><div class=\"wandb-col\"><h3>Run history:</h3><br/><table class=\"wandb\"><tr><td>eval/Accuracy</td><td>▁█</td></tr><tr><td>eval/Balanced accuracy</td><td>█▁</td></tr><tr><td>eval/F1 macro</td><td>█▁</td></tr><tr><td>eval/F1 micro</td><td>▁█</td></tr><tr><td>eval/F1 weighted</td><td>▁█</td></tr><tr><td>eval/loss</td><td>█▁</td></tr><tr><td>eval/runtime</td><td>▁█</td></tr><tr><td>eval/samples_per_second</td><td>█▁</td></tr><tr><td>eval/steps_per_second</td><td>█▁</td></tr><tr><td>train/epoch</td><td>▁██</td></tr><tr><td>train/global_step</td><td>▁██</td></tr><tr><td>train/grad_norm</td><td>▁</td></tr><tr><td>train/learning_rate</td><td>▁</td></tr><tr><td>train/loss</td><td>▁</td></tr></table><br/></div><div class=\"wandb-col\"><h3>Run summary:</h3><br/><table class=\"wandb\"><tr><td>eval/Accuracy</td><td>0.8279</td></tr><tr><td>eval/Balanced accuracy</td><td>0.69891</td></tr><tr><td>eval/F1 macro</td><td>0.74318</td></tr><tr><td>eval/F1 micro</td><td>0.8279</td></tr><tr><td>eval/F1 weighted</td><td>0.8171</td></tr><tr><td>eval/loss</td><td>0.45959</td></tr><tr><td>eval/runtime</td><td>1.971</td></tr><tr><td>eval/samples_per_second</td><td>1712.841</td></tr><tr><td>eval/steps_per_second</td><td>107.053</td></tr><tr><td>train/epoch</td><td>2.0</td></tr><tr><td>train/global_step</td><td>633</td></tr><tr><td>train/grad_norm</td><td>4.54272</td></tr><tr><td>train/learning_rate</td><td>4e-05</td></tr><tr><td>train/loss</td><td>0.5118</td></tr></table><br/></div></div>"
      ],
      "text/plain": [
       "<IPython.core.display.HTML object>"
      ]
     },
     "metadata": {},
     "output_type": "display_data"
    },
    {
     "data": {
      "text/html": [
       " View run <strong style=\"color:#cdcd00\">trial-27</strong> at: <a href='https://wandb.ai/master-2024/DistilBERT/runs/9zc79rmr' target=\"_blank\">https://wandb.ai/master-2024/DistilBERT/runs/9zc79rmr</a><br/>Synced 5 W&B file(s), 0 media file(s), 0 artifact file(s) and 0 other file(s)"
      ],
      "text/plain": [
       "<IPython.core.display.HTML object>"
      ]
     },
     "metadata": {},
     "output_type": "display_data"
    },
    {
     "data": {
      "text/html": [
       "Find logs at: <code>./wandb/run-20240418_160321-9zc79rmr/logs</code>"
      ],
      "text/plain": [
       "<IPython.core.display.HTML object>"
      ]
     },
     "metadata": {},
     "output_type": "display_data"
    },
    {
     "data": {
      "text/html": [
       "Successfully finished last run (ID:9zc79rmr). Initializing new run:<br/>"
      ],
      "text/plain": [
       "<IPython.core.display.HTML object>"
      ]
     },
     "metadata": {},
     "output_type": "display_data"
    },
    {
     "data": {
      "text/html": [
       "wandb version 0.16.6 is available!  To upgrade, please run:\n",
       " $ pip install wandb --upgrade"
      ],
      "text/plain": [
       "<IPython.core.display.HTML object>"
      ]
     },
     "metadata": {},
     "output_type": "display_data"
    },
    {
     "data": {
      "text/html": [
       "Tracking run with wandb version 0.16.4"
      ],
      "text/plain": [
       "<IPython.core.display.HTML object>"
      ]
     },
     "metadata": {},
     "output_type": "display_data"
    },
    {
     "data": {
      "text/html": [
       "Run data is saved locally in <code>/net/fs-2/scale/OrionStore/Home/joteklem/Pytorch_models/wandb/run-20240418_160421-kecvx309</code>"
      ],
      "text/plain": [
       "<IPython.core.display.HTML object>"
      ]
     },
     "metadata": {},
     "output_type": "display_data"
    },
    {
     "data": {
      "text/html": [
       "Syncing run <strong><a href='https://wandb.ai/master-2024/DistilBERT/runs/kecvx309' target=\"_blank\">trial-28</a></strong> to <a href='https://wandb.ai/master-2024/DistilBERT' target=\"_blank\">Weights & Biases</a> (<a href='https://wandb.me/run' target=\"_blank\">docs</a>)<br/>"
      ],
      "text/plain": [
       "<IPython.core.display.HTML object>"
      ]
     },
     "metadata": {},
     "output_type": "display_data"
    },
    {
     "data": {
      "text/html": [
       " View project at <a href='https://wandb.ai/master-2024/DistilBERT' target=\"_blank\">https://wandb.ai/master-2024/DistilBERT</a>"
      ],
      "text/plain": [
       "<IPython.core.display.HTML object>"
      ]
     },
     "metadata": {},
     "output_type": "display_data"
    },
    {
     "data": {
      "text/html": [
       " View run at <a href='https://wandb.ai/master-2024/DistilBERT/runs/kecvx309' target=\"_blank\">https://wandb.ai/master-2024/DistilBERT/runs/kecvx309</a>"
      ],
      "text/plain": [
       "<IPython.core.display.HTML object>"
      ]
     },
     "metadata": {},
     "output_type": "display_data"
    },
    {
     "name": "stderr",
     "output_type": "stream",
     "text": [
      "/net/fs-2/scale/OrionStore/Scratch/joteklem/MyCondaEnvironments/Python3.11/orion_env/lib/python3.11/site-packages/accelerate/accelerator.py:432: FutureWarning: Passing the following arguments to `Accelerator` is deprecated and will be removed in version 1.0 of Accelerate: dict_keys(['dispatch_batches', 'split_batches', 'even_batches', 'use_seedable_sampler']). Please pass an `accelerate.DataLoaderConfiguration` instead: \n",
      "dataloader_config = DataLoaderConfiguration(dispatch_batches=None, split_batches=False, even_batches=True, use_seedable_sampler=True)\n",
      "  warnings.warn(\n",
      "Detected kernel version 3.10.0, which is below the recommended minimum of 5.5.0; this can cause the process to hang. It is recommended to upgrade the kernel to the minimum version or higher.\n"
     ]
    },
    {
     "name": "stdout",
     "output_type": "stream",
     "text": [
      "Starting trial 28\n"
     ]
    },
    {
     "data": {
      "text/html": [
       "\n",
       "    <div>\n",
       "      \n",
       "      <progress value='3165' max='3165' style='width:300px; height:20px; vertical-align: middle;'></progress>\n",
       "      [3165/3165 03:57, Epoch 5/5]\n",
       "    </div>\n",
       "    <table border=\"1\" class=\"dataframe\">\n",
       "  <thead>\n",
       " <tr style=\"text-align: left;\">\n",
       "      <th>Epoch</th>\n",
       "      <th>Training Loss</th>\n",
       "      <th>Validation Loss</th>\n",
       "      <th>Accuracy</th>\n",
       "      <th>Balanced accuracy</th>\n",
       "      <th>F1 weighted</th>\n",
       "      <th>F1 macro</th>\n",
       "      <th>F1 micro</th>\n",
       "      <th>Classification report</th>\n",
       "    </tr>\n",
       "  </thead>\n",
       "  <tbody>\n",
       "    <tr>\n",
       "      <td>1</td>\n",
       "      <td>No log</td>\n",
       "      <td>0.478388</td>\n",
       "      <td>0.827607</td>\n",
       "      <td>0.766431</td>\n",
       "      <td>0.826921</td>\n",
       "      <td>0.764727</td>\n",
       "      <td>0.827607</td>\n",
       "      <td>{'0': {'precision': 0.7839805825242718, 'recall': 0.7177777777777777, 'f1-score': 0.7494199535962875, 'support': 900.0}, '1': {'precision': 0.8730230456394035, 'recall': 0.8936170212765957, 'f1-score': 0.8832, 'support': 2162.0}, '2': {'precision': 0.6371681415929203, 'recall': 0.6878980891719745, 'f1-score': 0.6615620214395099, 'support': 314.0}, 'accuracy': 0.82760663507109, 'macro avg': {'precision': 0.7647239232521986, 'recall': 0.766430962742116, 'f1-score': 0.7647273250119325, 'support': 3376.0}, 'weighted avg': {'precision': 0.8273486805107855, 'recall': 0.82760663507109, 'f1-score': 0.8269214552632301, 'support': 3376.0}}</td>\n",
       "    </tr>\n",
       "    <tr>\n",
       "      <td>2</td>\n",
       "      <td>0.483200</td>\n",
       "      <td>0.465385</td>\n",
       "      <td>0.838270</td>\n",
       "      <td>0.754610</td>\n",
       "      <td>0.835094</td>\n",
       "      <td>0.769581</td>\n",
       "      <td>0.838270</td>\n",
       "      <td>{'0': {'precision': 0.8083756345177665, 'recall': 0.7077777777777777, 'f1-score': 0.7547393364928909, 'support': 900.0}, '1': {'precision': 0.8673336233144846, 'recall': 0.9222941720629048, 'f1-score': 0.8939699618919525, 'support': 2162.0}, '2': {'precision': 0.6885813148788927, 'recall': 0.6337579617834395, 'f1-score': 0.6600331674958541, 'support': 314.0}, 'accuracy': 0.8382701421800948, 'macro avg': {'precision': 0.7880968575703813, 'recall': 0.7546099705413741, 'f1-score': 0.7695808219602326, 'support': 3376.0}, 'weighted avg': {'precision': 0.8349904909786366, 'recall': 0.8382701421800948, 'f1-score': 0.8350944535093902, 'support': 3376.0}}</td>\n",
       "    </tr>\n",
       "    <tr>\n",
       "      <td>3</td>\n",
       "      <td>0.483200</td>\n",
       "      <td>0.528984</td>\n",
       "      <td>0.835900</td>\n",
       "      <td>0.754668</td>\n",
       "      <td>0.831302</td>\n",
       "      <td>0.774941</td>\n",
       "      <td>0.835900</td>\n",
       "      <td>{'0': {'precision': 0.8013333333333333, 'recall': 0.6677777777777778, 'f1-score': 0.7284848484848484, 'support': 900.0}, '1': {'precision': 0.8576300085251491, 'recall': 0.9306197964847364, 'f1-score': 0.8926353149955635, 'support': 2162.0}, '2': {'precision': 0.7464285714285714, 'recall': 0.6656050955414012, 'f1-score': 0.7037037037037037, 'support': 314.0}, 'accuracy': 0.8359004739336493, 'macro avg': {'precision': 0.801797304429018, 'recall': 0.7546675566013051, 'f1-score': 0.7749412890613718, 'support': 3376.0}, 'weighted avg': {'precision': 0.8322792209300781, 'recall': 0.8359004739336493, 'f1-score': 0.831302392659874, 'support': 3376.0}}</td>\n",
       "    </tr>\n",
       "    <tr>\n",
       "      <td>4</td>\n",
       "      <td>0.213700</td>\n",
       "      <td>0.699755</td>\n",
       "      <td>0.827903</td>\n",
       "      <td>0.773412</td>\n",
       "      <td>0.827444</td>\n",
       "      <td>0.774414</td>\n",
       "      <td>0.827903</td>\n",
       "      <td>{'0': {'precision': 0.7318181818181818, 'recall': 0.7155555555555555, 'f1-score': 0.7235955056179775, 'support': 900.0}, '1': {'precision': 0.8835396607060981, 'recall': 0.8913043478260869, 'f1-score': 0.8874050195717246, 'support': 2162.0}, '2': {'precision': 0.7111111111111111, 'recall': 0.7133757961783439, 'f1-score': 0.712241653418124, 'support': 314.0}, 'accuracy': 0.8279028436018957, 'macro avg': {'precision': 0.7754896512117971, 'recall': 0.7734118998533287, 'f1-score': 0.774414059535942, 'support': 3376.0}, 'weighted avg': {'precision': 0.8270550944821791, 'recall': 0.8279028436018957, 'f1-score': 0.8274435682889629, 'support': 3376.0}}</td>\n",
       "    </tr>\n",
       "    <tr>\n",
       "      <td>5</td>\n",
       "      <td>0.213700</td>\n",
       "      <td>0.795884</td>\n",
       "      <td>0.828199</td>\n",
       "      <td>0.761855</td>\n",
       "      <td>0.826458</td>\n",
       "      <td>0.773770</td>\n",
       "      <td>0.828199</td>\n",
       "      <td>{'0': {'precision': 0.7395348837209302, 'recall': 0.7066666666666667, 'f1-score': 0.7227272727272727, 'support': 900.0}, '1': {'precision': 0.8723118279569892, 'recall': 0.900555041628122, 'f1-score': 0.8862084660901228, 'support': 2162.0}, '2': {'precision': 0.75, 'recall': 0.678343949044586, 'f1-score': 0.7123745819397993, 'support': 314.0}, 'accuracy': 0.8281990521327014, 'macro avg': {'precision': 0.7872822372259732, 'recall': 0.7618552191131248, 'f1-score': 0.7737701069190649, 'support': 3376.0}, 'weighted avg': {'precision': 0.8255389713838412, 'recall': 0.8281990521327014, 'f1-score': 0.8264581954592677, 'support': 3376.0}}</td>\n",
       "    </tr>\n",
       "  </tbody>\n",
       "</table><p>"
      ],
      "text/plain": [
       "<IPython.core.display.HTML object>"
      ]
     },
     "metadata": {},
     "output_type": "display_data"
    },
    {
     "data": {
      "text/html": [
       "\n",
       "    <div>\n",
       "      \n",
       "      <progress value='422' max='422' style='width:300px; height:20px; vertical-align: middle;'></progress>\n",
       "      [422/422 00:02]\n",
       "    </div>\n",
       "    "
      ],
      "text/plain": [
       "<IPython.core.display.HTML object>"
      ]
     },
     "metadata": {},
     "output_type": "display_data"
    },
    {
     "name": "stderr",
     "output_type": "stream",
     "text": [
      "/net/fs-2/scale/OrionStore/Scratch/joteklem/MyCondaEnvironments/Python3.11/orion_env/lib/python3.11/site-packages/optuna/trial/_trial.py:499: UserWarning: The reported value is ignored because this `step` 5.0 is already reported.\n",
      "  warnings.warn(\n"
     ]
    },
    {
     "name": "stdout",
     "output_type": "stream",
     "text": [
      "Completed trial 28\n"
     ]
    },
    {
     "data": {
      "text/html": [
       "<style>\n",
       "    table.wandb td:nth-child(1) { padding: 0 10px; text-align: left ; width: auto;} td:nth-child(2) {text-align: left ; width: 100%}\n",
       "    .wandb-row { display: flex; flex-direction: row; flex-wrap: wrap; justify-content: flex-start; width: 100% }\n",
       "    .wandb-col { display: flex; flex-direction: column; flex-basis: 100%; flex: 1; padding: 10px; }\n",
       "    </style>\n",
       "<div class=\"wandb-row\"><div class=\"wandb-col\"><h3>Run history:</h3><br/><table class=\"wandb\"><tr><td>Macro F1 score</td><td>▁</td></tr><tr><td>Training loss</td><td>▁</td></tr><tr><td>Validation loss</td><td>▁</td></tr><tr><td>eval/Accuracy</td><td>▁█▆▁▁▁</td></tr><tr><td>eval/Balanced accuracy</td><td>▅▁▁█▄▄</td></tr><tr><td>eval/F1 macro</td><td>▁▄██▇▇</td></tr><tr><td>eval/F1 micro</td><td>▁█▆▁▁▁</td></tr><tr><td>eval/F1 weighted</td><td>▁█▅▂▁▁</td></tr><tr><td>eval/loss</td><td>▁▁▂▆██</td></tr><tr><td>eval/runtime</td><td>█▄▄▁▅▅</td></tr><tr><td>eval/samples_per_second</td><td>▁▅▅█▄▄</td></tr><tr><td>eval/steps_per_second</td><td>▁▅▅█▄▄</td></tr><tr><td>train/epoch</td><td>▁▃▃▅▆▆███</td></tr><tr><td>train/global_step</td><td>▁▃▃▅▆▆█████</td></tr><tr><td>train/grad_norm</td><td>▁█</td></tr><tr><td>train/learning_rate</td><td>█▁</td></tr><tr><td>train/loss</td><td>█▁</td></tr><tr><td>train/total_flos</td><td>▁</td></tr><tr><td>train/train_loss</td><td>▁</td></tr><tr><td>train/train_runtime</td><td>▁</td></tr><tr><td>train/train_samples_per_second</td><td>▁</td></tr><tr><td>train/train_steps_per_second</td><td>▁</td></tr></table><br/></div><div class=\"wandb-col\"><h3>Run summary:</h3><br/><table class=\"wandb\"><tr><td>Macro F1 score</td><td>0.77377</td></tr><tr><td>Training loss</td><td>0.2137</td></tr><tr><td>Validation loss</td><td>0.69976</td></tr><tr><td>eval/Accuracy</td><td>0.8282</td></tr><tr><td>eval/Balanced accuracy</td><td>0.76186</td></tr><tr><td>eval/F1 macro</td><td>0.77377</td></tr><tr><td>eval/F1 micro</td><td>0.8282</td></tr><tr><td>eval/F1 weighted</td><td>0.82646</td></tr><tr><td>eval/loss</td><td>0.79588</td></tr><tr><td>eval/runtime</td><td>2.851</td></tr><tr><td>eval/samples_per_second</td><td>1184.156</td></tr><tr><td>eval/steps_per_second</td><td>148.02</td></tr><tr><td>train/epoch</td><td>5.0</td></tr><tr><td>train/global_step</td><td>3165</td></tr><tr><td>train/grad_norm</td><td>16.5898</td></tr><tr><td>train/learning_rate</td><td>1e-05</td></tr><tr><td>train/loss</td><td>0.2137</td></tr><tr><td>train/total_flos</td><td>1616499516015648.0</td></tr><tr><td>train/train_loss</td><td>0.29905</td></tr><tr><td>train/train_runtime</td><td>237.4695</td></tr><tr><td>train/train_samples_per_second</td><td>213.248</td></tr><tr><td>train/train_steps_per_second</td><td>13.328</td></tr></table><br/></div></div>"
      ],
      "text/plain": [
       "<IPython.core.display.HTML object>"
      ]
     },
     "metadata": {},
     "output_type": "display_data"
    },
    {
     "data": {
      "text/html": [
       " View run <strong style=\"color:#cdcd00\">trial-28</strong> at: <a href='https://wandb.ai/master-2024/DistilBERT/runs/kecvx309' target=\"_blank\">https://wandb.ai/master-2024/DistilBERT/runs/kecvx309</a><br/>Synced 5 W&B file(s), 0 media file(s), 0 artifact file(s) and 0 other file(s)"
      ],
      "text/plain": [
       "<IPython.core.display.HTML object>"
      ]
     },
     "metadata": {},
     "output_type": "display_data"
    },
    {
     "data": {
      "text/html": [
       "Find logs at: <code>./wandb/run-20240418_160421-kecvx309/logs</code>"
      ],
      "text/plain": [
       "<IPython.core.display.HTML object>"
      ]
     },
     "metadata": {},
     "output_type": "display_data"
    },
    {
     "name": "stderr",
     "output_type": "stream",
     "text": [
      "[I 2024-04-18 16:08:37,115] Trial 28 finished with value: 0.7737701069190649 and parameters: {'learning_rate': 4.707185622663259e-05, 'per_device_train_batch_size': 8, 'weight_decay': 0.13293664577043796, 'num_train_epochs': 5, 'warmup_steps': 8}. Best is trial 6 with value: 0.7828214696705503.\n"
     ]
    },
    {
     "data": {
      "text/html": [
       "wandb version 0.16.6 is available!  To upgrade, please run:\n",
       " $ pip install wandb --upgrade"
      ],
      "text/plain": [
       "<IPython.core.display.HTML object>"
      ]
     },
     "metadata": {},
     "output_type": "display_data"
    },
    {
     "data": {
      "text/html": [
       "Tracking run with wandb version 0.16.4"
      ],
      "text/plain": [
       "<IPython.core.display.HTML object>"
      ]
     },
     "metadata": {},
     "output_type": "display_data"
    },
    {
     "data": {
      "text/html": [
       "Run data is saved locally in <code>/net/fs-2/scale/OrionStore/Home/joteklem/Pytorch_models/wandb/run-20240418_160837-r7dxunjw</code>"
      ],
      "text/plain": [
       "<IPython.core.display.HTML object>"
      ]
     },
     "metadata": {},
     "output_type": "display_data"
    },
    {
     "data": {
      "text/html": [
       "Syncing run <strong><a href='https://wandb.ai/master-2024/DistilBERT/runs/r7dxunjw' target=\"_blank\">trial-29</a></strong> to <a href='https://wandb.ai/master-2024/DistilBERT' target=\"_blank\">Weights & Biases</a> (<a href='https://wandb.me/run' target=\"_blank\">docs</a>)<br/>"
      ],
      "text/plain": [
       "<IPython.core.display.HTML object>"
      ]
     },
     "metadata": {},
     "output_type": "display_data"
    },
    {
     "data": {
      "text/html": [
       " View project at <a href='https://wandb.ai/master-2024/DistilBERT' target=\"_blank\">https://wandb.ai/master-2024/DistilBERT</a>"
      ],
      "text/plain": [
       "<IPython.core.display.HTML object>"
      ]
     },
     "metadata": {},
     "output_type": "display_data"
    },
    {
     "data": {
      "text/html": [
       " View run at <a href='https://wandb.ai/master-2024/DistilBERT/runs/r7dxunjw' target=\"_blank\">https://wandb.ai/master-2024/DistilBERT/runs/r7dxunjw</a>"
      ],
      "text/plain": [
       "<IPython.core.display.HTML object>"
      ]
     },
     "metadata": {},
     "output_type": "display_data"
    },
    {
     "name": "stderr",
     "output_type": "stream",
     "text": [
      "/net/fs-2/scale/OrionStore/Scratch/joteklem/MyCondaEnvironments/Python3.11/orion_env/lib/python3.11/site-packages/accelerate/accelerator.py:432: FutureWarning: Passing the following arguments to `Accelerator` is deprecated and will be removed in version 1.0 of Accelerate: dict_keys(['dispatch_batches', 'split_batches', 'even_batches', 'use_seedable_sampler']). Please pass an `accelerate.DataLoaderConfiguration` instead: \n",
      "dataloader_config = DataLoaderConfiguration(dispatch_batches=None, split_batches=False, even_batches=True, use_seedable_sampler=True)\n",
      "  warnings.warn(\n",
      "Detected kernel version 3.10.0, which is below the recommended minimum of 5.5.0; this can cause the process to hang. It is recommended to upgrade the kernel to the minimum version or higher.\n"
     ]
    },
    {
     "name": "stdout",
     "output_type": "stream",
     "text": [
      "Starting trial 29\n"
     ]
    },
    {
     "data": {
      "text/html": [
       "\n",
       "    <div>\n",
       "      \n",
       "      <progress value='159' max='632' style='width:300px; height:20px; vertical-align: middle;'></progress>\n",
       "      [159/632 00:17 < 00:52, 8.98 it/s, Epoch 1.00/4]\n",
       "    </div>\n",
       "    <table border=\"1\" class=\"dataframe\">\n",
       "  <thead>\n",
       " <tr style=\"text-align: left;\">\n",
       "      <th>Epoch</th>\n",
       "      <th>Training Loss</th>\n",
       "      <th>Validation Loss</th>\n",
       "    </tr>\n",
       "  </thead>\n",
       "  <tbody>\n",
       "  </tbody>\n",
       "</table><p>\n",
       "    <div>\n",
       "      \n",
       "      <progress value='106' max='106' style='width:300px; height:20px; vertical-align: middle;'></progress>\n",
       "      [106/106 00:01]\n",
       "    </div>\n",
       "    "
      ],
      "text/plain": [
       "<IPython.core.display.HTML object>"
      ]
     },
     "metadata": {},
     "output_type": "display_data"
    },
    {
     "name": "stderr",
     "output_type": "stream",
     "text": [
      "[I 2024-04-18 16:08:59,949] Trial 29 pruned. \n"
     ]
    },
    {
     "data": {
      "text/html": [
       "Finishing last run (ID:r7dxunjw) before initializing another..."
      ],
      "text/plain": [
       "<IPython.core.display.HTML object>"
      ]
     },
     "metadata": {},
     "output_type": "display_data"
    },
    {
     "data": {
      "text/html": [
       "<style>\n",
       "    table.wandb td:nth-child(1) { padding: 0 10px; text-align: left ; width: auto;} td:nth-child(2) {text-align: left ; width: 100%}\n",
       "    .wandb-row { display: flex; flex-direction: row; flex-wrap: wrap; justify-content: flex-start; width: 100% }\n",
       "    .wandb-col { display: flex; flex-direction: column; flex-basis: 100%; flex: 1; padding: 10px; }\n",
       "    </style>\n",
       "<div class=\"wandb-row\"><div class=\"wandb-col\"><h3>Run history:</h3><br/><table class=\"wandb\"><tr><td>eval/Accuracy</td><td>▁</td></tr><tr><td>eval/Balanced accuracy</td><td>▁</td></tr><tr><td>eval/F1 macro</td><td>▁</td></tr><tr><td>eval/F1 micro</td><td>▁</td></tr><tr><td>eval/F1 weighted</td><td>▁</td></tr><tr><td>eval/loss</td><td>▁</td></tr><tr><td>eval/runtime</td><td>▁</td></tr><tr><td>eval/samples_per_second</td><td>▁</td></tr><tr><td>eval/steps_per_second</td><td>▁</td></tr><tr><td>train/epoch</td><td>▁</td></tr><tr><td>train/global_step</td><td>▁</td></tr></table><br/></div><div class=\"wandb-col\"><h3>Run summary:</h3><br/><table class=\"wandb\"><tr><td>eval/Accuracy</td><td>0.77784</td></tr><tr><td>eval/Balanced accuracy</td><td>0.53783</td></tr><tr><td>eval/F1 macro</td><td>0.51621</td></tr><tr><td>eval/F1 micro</td><td>0.77784</td></tr><tr><td>eval/F1 weighted</td><td>0.73771</td></tr><tr><td>eval/loss</td><td>0.5948</td></tr><tr><td>eval/runtime</td><td>1.9179</td></tr><tr><td>eval/samples_per_second</td><td>1760.297</td></tr><tr><td>eval/steps_per_second</td><td>55.27</td></tr><tr><td>train/epoch</td><td>1.0</td></tr><tr><td>train/global_step</td><td>158</td></tr></table><br/></div></div>"
      ],
      "text/plain": [
       "<IPython.core.display.HTML object>"
      ]
     },
     "metadata": {},
     "output_type": "display_data"
    },
    {
     "data": {
      "text/html": [
       " View run <strong style=\"color:#cdcd00\">trial-29</strong> at: <a href='https://wandb.ai/master-2024/DistilBERT/runs/r7dxunjw' target=\"_blank\">https://wandb.ai/master-2024/DistilBERT/runs/r7dxunjw</a><br/>Synced 5 W&B file(s), 0 media file(s), 0 artifact file(s) and 0 other file(s)"
      ],
      "text/plain": [
       "<IPython.core.display.HTML object>"
      ]
     },
     "metadata": {},
     "output_type": "display_data"
    },
    {
     "data": {
      "text/html": [
       "Find logs at: <code>./wandb/run-20240418_160837-r7dxunjw/logs</code>"
      ],
      "text/plain": [
       "<IPython.core.display.HTML object>"
      ]
     },
     "metadata": {},
     "output_type": "display_data"
    },
    {
     "data": {
      "text/html": [
       "Successfully finished last run (ID:r7dxunjw). Initializing new run:<br/>"
      ],
      "text/plain": [
       "<IPython.core.display.HTML object>"
      ]
     },
     "metadata": {},
     "output_type": "display_data"
    },
    {
     "data": {
      "text/html": [
       "wandb version 0.16.6 is available!  To upgrade, please run:\n",
       " $ pip install wandb --upgrade"
      ],
      "text/plain": [
       "<IPython.core.display.HTML object>"
      ]
     },
     "metadata": {},
     "output_type": "display_data"
    },
    {
     "data": {
      "text/html": [
       "Tracking run with wandb version 0.16.4"
      ],
      "text/plain": [
       "<IPython.core.display.HTML object>"
      ]
     },
     "metadata": {},
     "output_type": "display_data"
    },
    {
     "data": {
      "text/html": [
       "Run data is saved locally in <code>/net/fs-2/scale/OrionStore/Home/joteklem/Pytorch_models/wandb/run-20240418_160900-u76531is</code>"
      ],
      "text/plain": [
       "<IPython.core.display.HTML object>"
      ]
     },
     "metadata": {},
     "output_type": "display_data"
    },
    {
     "data": {
      "text/html": [
       "Syncing run <strong><a href='https://wandb.ai/master-2024/DistilBERT/runs/u76531is' target=\"_blank\">trial-30</a></strong> to <a href='https://wandb.ai/master-2024/DistilBERT' target=\"_blank\">Weights & Biases</a> (<a href='https://wandb.me/run' target=\"_blank\">docs</a>)<br/>"
      ],
      "text/plain": [
       "<IPython.core.display.HTML object>"
      ]
     },
     "metadata": {},
     "output_type": "display_data"
    },
    {
     "data": {
      "text/html": [
       " View project at <a href='https://wandb.ai/master-2024/DistilBERT' target=\"_blank\">https://wandb.ai/master-2024/DistilBERT</a>"
      ],
      "text/plain": [
       "<IPython.core.display.HTML object>"
      ]
     },
     "metadata": {},
     "output_type": "display_data"
    },
    {
     "data": {
      "text/html": [
       " View run at <a href='https://wandb.ai/master-2024/DistilBERT/runs/u76531is' target=\"_blank\">https://wandb.ai/master-2024/DistilBERT/runs/u76531is</a>"
      ],
      "text/plain": [
       "<IPython.core.display.HTML object>"
      ]
     },
     "metadata": {},
     "output_type": "display_data"
    },
    {
     "name": "stderr",
     "output_type": "stream",
     "text": [
      "/net/fs-2/scale/OrionStore/Scratch/joteklem/MyCondaEnvironments/Python3.11/orion_env/lib/python3.11/site-packages/accelerate/accelerator.py:432: FutureWarning: Passing the following arguments to `Accelerator` is deprecated and will be removed in version 1.0 of Accelerate: dict_keys(['dispatch_batches', 'split_batches', 'even_batches', 'use_seedable_sampler']). Please pass an `accelerate.DataLoaderConfiguration` instead: \n",
      "dataloader_config = DataLoaderConfiguration(dispatch_batches=None, split_batches=False, even_batches=True, use_seedable_sampler=True)\n",
      "  warnings.warn(\n",
      "Detected kernel version 3.10.0, which is below the recommended minimum of 5.5.0; this can cause the process to hang. It is recommended to upgrade the kernel to the minimum version or higher.\n"
     ]
    },
    {
     "name": "stdout",
     "output_type": "stream",
     "text": [
      "Starting trial 30\n"
     ]
    },
    {
     "data": {
      "text/html": [
       "\n",
       "    <div>\n",
       "      \n",
       "      <progress value='634' max='1266' style='width:300px; height:20px; vertical-align: middle;'></progress>\n",
       "      [ 632/1266 00:40 < 00:40, 15.57 it/s, Epoch 1.00/2]\n",
       "    </div>\n",
       "    <table border=\"1\" class=\"dataframe\">\n",
       "  <thead>\n",
       " <tr style=\"text-align: left;\">\n",
       "      <th>Epoch</th>\n",
       "      <th>Training Loss</th>\n",
       "      <th>Validation Loss</th>\n",
       "    </tr>\n",
       "  </thead>\n",
       "  <tbody>\n",
       "  </tbody>\n",
       "</table><p>\n",
       "    <div>\n",
       "      \n",
       "      <progress value='422' max='422' style='width:300px; height:20px; vertical-align: middle;'></progress>\n",
       "      [422/422 00:02]\n",
       "    </div>\n",
       "    "
      ],
      "text/plain": [
       "<IPython.core.display.HTML object>"
      ]
     },
     "metadata": {},
     "output_type": "display_data"
    },
    {
     "name": "stderr",
     "output_type": "stream",
     "text": [
      "[I 2024-04-18 16:09:50,469] Trial 30 pruned. \n"
     ]
    },
    {
     "data": {
      "text/html": [
       "Finishing last run (ID:u76531is) before initializing another..."
      ],
      "text/plain": [
       "<IPython.core.display.HTML object>"
      ]
     },
     "metadata": {},
     "output_type": "display_data"
    },
    {
     "data": {
      "text/html": [
       "<style>\n",
       "    table.wandb td:nth-child(1) { padding: 0 10px; text-align: left ; width: auto;} td:nth-child(2) {text-align: left ; width: 100%}\n",
       "    .wandb-row { display: flex; flex-direction: row; flex-wrap: wrap; justify-content: flex-start; width: 100% }\n",
       "    .wandb-col { display: flex; flex-direction: column; flex-basis: 100%; flex: 1; padding: 10px; }\n",
       "    </style>\n",
       "<div class=\"wandb-row\"><div class=\"wandb-col\"><h3>Run history:</h3><br/><table class=\"wandb\"><tr><td>eval/Accuracy</td><td>▁</td></tr><tr><td>eval/Balanced accuracy</td><td>▁</td></tr><tr><td>eval/F1 macro</td><td>▁</td></tr><tr><td>eval/F1 micro</td><td>▁</td></tr><tr><td>eval/F1 weighted</td><td>▁</td></tr><tr><td>eval/loss</td><td>▁</td></tr><tr><td>eval/runtime</td><td>▁</td></tr><tr><td>eval/samples_per_second</td><td>▁</td></tr><tr><td>eval/steps_per_second</td><td>▁</td></tr><tr><td>train/epoch</td><td>▁</td></tr><tr><td>train/global_step</td><td>▁</td></tr></table><br/></div><div class=\"wandb-col\"><h3>Run summary:</h3><br/><table class=\"wandb\"><tr><td>eval/Accuracy</td><td>0.81309</td></tr><tr><td>eval/Balanced accuracy</td><td>0.74254</td></tr><tr><td>eval/F1 macro</td><td>0.73658</td></tr><tr><td>eval/F1 micro</td><td>0.81309</td></tr><tr><td>eval/F1 weighted</td><td>0.8126</td></tr><tr><td>eval/loss</td><td>0.4972</td></tr><tr><td>eval/runtime</td><td>2.8594</td></tr><tr><td>eval/samples_per_second</td><td>1180.683</td></tr><tr><td>eval/steps_per_second</td><td>147.585</td></tr><tr><td>train/epoch</td><td>1.0</td></tr><tr><td>train/global_step</td><td>633</td></tr></table><br/></div></div>"
      ],
      "text/plain": [
       "<IPython.core.display.HTML object>"
      ]
     },
     "metadata": {},
     "output_type": "display_data"
    },
    {
     "data": {
      "text/html": [
       " View run <strong style=\"color:#cdcd00\">trial-30</strong> at: <a href='https://wandb.ai/master-2024/DistilBERT/runs/u76531is' target=\"_blank\">https://wandb.ai/master-2024/DistilBERT/runs/u76531is</a><br/>Synced 5 W&B file(s), 0 media file(s), 0 artifact file(s) and 0 other file(s)"
      ],
      "text/plain": [
       "<IPython.core.display.HTML object>"
      ]
     },
     "metadata": {},
     "output_type": "display_data"
    },
    {
     "data": {
      "text/html": [
       "Find logs at: <code>./wandb/run-20240418_160900-u76531is/logs</code>"
      ],
      "text/plain": [
       "<IPython.core.display.HTML object>"
      ]
     },
     "metadata": {},
     "output_type": "display_data"
    },
    {
     "data": {
      "text/html": [
       "Successfully finished last run (ID:u76531is). Initializing new run:<br/>"
      ],
      "text/plain": [
       "<IPython.core.display.HTML object>"
      ]
     },
     "metadata": {},
     "output_type": "display_data"
    },
    {
     "data": {
      "text/html": [
       "wandb version 0.16.6 is available!  To upgrade, please run:\n",
       " $ pip install wandb --upgrade"
      ],
      "text/plain": [
       "<IPython.core.display.HTML object>"
      ]
     },
     "metadata": {},
     "output_type": "display_data"
    },
    {
     "data": {
      "text/html": [
       "Tracking run with wandb version 0.16.4"
      ],
      "text/plain": [
       "<IPython.core.display.HTML object>"
      ]
     },
     "metadata": {},
     "output_type": "display_data"
    },
    {
     "data": {
      "text/html": [
       "Run data is saved locally in <code>/net/fs-2/scale/OrionStore/Home/joteklem/Pytorch_models/wandb/run-20240418_160950-au1xn1pr</code>"
      ],
      "text/plain": [
       "<IPython.core.display.HTML object>"
      ]
     },
     "metadata": {},
     "output_type": "display_data"
    },
    {
     "data": {
      "text/html": [
       "Syncing run <strong><a href='https://wandb.ai/master-2024/DistilBERT/runs/au1xn1pr' target=\"_blank\">trial-31</a></strong> to <a href='https://wandb.ai/master-2024/DistilBERT' target=\"_blank\">Weights & Biases</a> (<a href='https://wandb.me/run' target=\"_blank\">docs</a>)<br/>"
      ],
      "text/plain": [
       "<IPython.core.display.HTML object>"
      ]
     },
     "metadata": {},
     "output_type": "display_data"
    },
    {
     "data": {
      "text/html": [
       " View project at <a href='https://wandb.ai/master-2024/DistilBERT' target=\"_blank\">https://wandb.ai/master-2024/DistilBERT</a>"
      ],
      "text/plain": [
       "<IPython.core.display.HTML object>"
      ]
     },
     "metadata": {},
     "output_type": "display_data"
    },
    {
     "data": {
      "text/html": [
       " View run at <a href='https://wandb.ai/master-2024/DistilBERT/runs/au1xn1pr' target=\"_blank\">https://wandb.ai/master-2024/DistilBERT/runs/au1xn1pr</a>"
      ],
      "text/plain": [
       "<IPython.core.display.HTML object>"
      ]
     },
     "metadata": {},
     "output_type": "display_data"
    },
    {
     "name": "stderr",
     "output_type": "stream",
     "text": [
      "/net/fs-2/scale/OrionStore/Scratch/joteklem/MyCondaEnvironments/Python3.11/orion_env/lib/python3.11/site-packages/accelerate/accelerator.py:432: FutureWarning: Passing the following arguments to `Accelerator` is deprecated and will be removed in version 1.0 of Accelerate: dict_keys(['dispatch_batches', 'split_batches', 'even_batches', 'use_seedable_sampler']). Please pass an `accelerate.DataLoaderConfiguration` instead: \n",
      "dataloader_config = DataLoaderConfiguration(dispatch_batches=None, split_batches=False, even_batches=True, use_seedable_sampler=True)\n",
      "  warnings.warn(\n",
      "Detected kernel version 3.10.0, which is below the recommended minimum of 5.5.0; this can cause the process to hang. It is recommended to upgrade the kernel to the minimum version or higher.\n"
     ]
    },
    {
     "name": "stdout",
     "output_type": "stream",
     "text": [
      "Starting trial 31\n"
     ]
    },
    {
     "data": {
      "text/html": [
       "\n",
       "    <div>\n",
       "      \n",
       "      <progress value='948' max='948' style='width:300px; height:20px; vertical-align: middle;'></progress>\n",
       "      [948/948 01:14, Epoch 2/3]\n",
       "    </div>\n",
       "    <table border=\"1\" class=\"dataframe\">\n",
       "  <thead>\n",
       " <tr style=\"text-align: left;\">\n",
       "      <th>Epoch</th>\n",
       "      <th>Training Loss</th>\n",
       "      <th>Validation Loss</th>\n",
       "      <th>Accuracy</th>\n",
       "      <th>Balanced accuracy</th>\n",
       "      <th>F1 weighted</th>\n",
       "      <th>F1 macro</th>\n",
       "      <th>F1 micro</th>\n",
       "      <th>Classification report</th>\n",
       "    </tr>\n",
       "  </thead>\n",
       "  <tbody>\n",
       "    <tr>\n",
       "      <td>0</td>\n",
       "      <td>No log</td>\n",
       "      <td>0.482392</td>\n",
       "      <td>0.821682</td>\n",
       "      <td>0.767224</td>\n",
       "      <td>0.820346</td>\n",
       "      <td>0.748788</td>\n",
       "      <td>0.821682</td>\n",
       "      <td>{'0': {'precision': 0.8639876352395672, 'recall': 0.6211111111111111, 'f1-score': 0.722689075630252, 'support': 900.0}, '1': {'precision': 0.8638949671772429, 'recall': 0.9130434782608695, 'f1-score': 0.8877895210254103, 'support': 2162.0}, '2': {'precision': 0.5427927927927928, 'recall': 0.767515923566879, 'f1-score': 0.6358839050131926, 'support': 314.0}, 'accuracy': 0.8216824644549763, 'macro avg': {'precision': 0.756891798403201, 'recall': 0.7672235043129532, 'f1-score': 0.748787500556285, 'support': 3376.0}, 'weighted avg': {'precision': 0.8340541255005173, 'recall': 0.8216824644549763, 'f1-score': 0.8203461666760387, 'support': 3376.0}}</td>\n",
       "    </tr>\n",
       "    <tr>\n",
       "      <td>2</td>\n",
       "      <td>0.515200</td>\n",
       "      <td>0.456328</td>\n",
       "      <td>0.837974</td>\n",
       "      <td>0.776535</td>\n",
       "      <td>0.835563</td>\n",
       "      <td>0.785926</td>\n",
       "      <td>0.837974</td>\n",
       "      <td>{'0': {'precision': 0.7875, 'recall': 0.7, 'f1-score': 0.7411764705882352, 'support': 900.0}, '1': {'precision': 0.8696035242290749, 'recall': 0.9130434782608695, 'f1-score': 0.8907942238267148, 'support': 2162.0}, '2': {'precision': 0.7352941176470589, 'recall': 0.7165605095541401, 'f1-score': 0.7258064516129032, 'support': 314.0}, 'accuracy': 0.8379739336492891, 'macro avg': {'precision': 0.7974658806253779, 'recall': 0.7765346626050031, 'f1-score': 0.7859257153426178, 'support': 3376.0}, 'weighted avg': {'precision': 0.8352236884847266, 'recall': 0.8379739336492891, 'f1-score': 0.8355625477633948, 'support': 3376.0}}</td>\n",
       "    </tr>\n",
       "  </tbody>\n",
       "</table><p>"
      ],
      "text/plain": [
       "<IPython.core.display.HTML object>"
      ]
     },
     "metadata": {},
     "output_type": "display_data"
    },
    {
     "data": {
      "text/html": [
       "\n",
       "    <div>\n",
       "      \n",
       "      <progress value='211' max='211' style='width:300px; height:20px; vertical-align: middle;'></progress>\n",
       "      [211/211 00:01]\n",
       "    </div>\n",
       "    "
      ],
      "text/plain": [
       "<IPython.core.display.HTML object>"
      ]
     },
     "metadata": {},
     "output_type": "display_data"
    },
    {
     "name": "stderr",
     "output_type": "stream",
     "text": [
      "/net/fs-2/scale/OrionStore/Scratch/joteklem/MyCondaEnvironments/Python3.11/orion_env/lib/python3.11/site-packages/optuna/trial/_trial.py:499: UserWarning: The reported value is ignored because this `step` 2.995260663507109 is already reported.\n",
      "  warnings.warn(\n"
     ]
    },
    {
     "name": "stdout",
     "output_type": "stream",
     "text": [
      "Completed trial 31\n"
     ]
    },
    {
     "data": {
      "text/html": [
       "<style>\n",
       "    table.wandb td:nth-child(1) { padding: 0 10px; text-align: left ; width: auto;} td:nth-child(2) {text-align: left ; width: 100%}\n",
       "    .wandb-row { display: flex; flex-direction: row; flex-wrap: wrap; justify-content: flex-start; width: 100% }\n",
       "    .wandb-col { display: flex; flex-direction: column; flex-basis: 100%; flex: 1; padding: 10px; }\n",
       "    </style>\n",
       "<div class=\"wandb-row\"><div class=\"wandb-col\"><h3>Run history:</h3><br/><table class=\"wandb\"><tr><td>Macro F1 score</td><td>▁</td></tr><tr><td>Training loss</td><td>▁</td></tr><tr><td>Validation loss</td><td>▁</td></tr><tr><td>eval/Accuracy</td><td>▁█▇▇</td></tr><tr><td>eval/Balanced accuracy</td><td>▆▁██</td></tr><tr><td>eval/F1 macro</td><td>▁▆██</td></tr><tr><td>eval/F1 micro</td><td>▁█▇▇</td></tr><tr><td>eval/F1 weighted</td><td>▁███</td></tr><tr><td>eval/loss</td><td>█▁▄▄</td></tr><tr><td>eval/runtime</td><td>▁▂▅█</td></tr><tr><td>eval/samples_per_second</td><td>█▇▄▁</td></tr><tr><td>eval/steps_per_second</td><td>█▇▄▁</td></tr><tr><td>train/epoch</td><td>▁▅▅███</td></tr><tr><td>train/global_step</td><td>▁▅▅█████</td></tr><tr><td>train/grad_norm</td><td>▁</td></tr><tr><td>train/learning_rate</td><td>▁</td></tr><tr><td>train/loss</td><td>▁</td></tr><tr><td>train/total_flos</td><td>▁</td></tr><tr><td>train/train_loss</td><td>▁</td></tr><tr><td>train/train_runtime</td><td>▁</td></tr><tr><td>train/train_samples_per_second</td><td>▁</td></tr><tr><td>train/train_steps_per_second</td><td>▁</td></tr></table><br/></div><div class=\"wandb-col\"><h3>Run summary:</h3><br/><table class=\"wandb\"><tr><td>Macro F1 score</td><td>0.78593</td></tr><tr><td>Training loss</td><td>0.5152</td></tr><tr><td>Validation loss</td><td>0.43702</td></tr><tr><td>eval/Accuracy</td><td>0.83797</td></tr><tr><td>eval/Balanced accuracy</td><td>0.77653</td></tr><tr><td>eval/F1 macro</td><td>0.78593</td></tr><tr><td>eval/F1 micro</td><td>0.83797</td></tr><tr><td>eval/F1 weighted</td><td>0.83556</td></tr><tr><td>eval/loss</td><td>0.45633</td></tr><tr><td>eval/runtime</td><td>1.9816</td></tr><tr><td>eval/samples_per_second</td><td>1703.633</td></tr><tr><td>eval/steps_per_second</td><td>106.477</td></tr><tr><td>train/epoch</td><td>3.0</td></tr><tr><td>train/global_step</td><td>948</td></tr><tr><td>train/grad_norm</td><td>4.8442</td></tr><tr><td>train/learning_rate</td><td>2e-05</td></tr><tr><td>train/loss</td><td>0.5152</td></tr><tr><td>train/total_flos</td><td>1076755614403392.0</td></tr><tr><td>train/train_loss</td><td>0.43089</td></tr><tr><td>train/train_runtime</td><td>74.9772</td></tr><tr><td>train/train_samples_per_second</td><td>405.243</td></tr><tr><td>train/train_steps_per_second</td><td>12.644</td></tr></table><br/></div></div>"
      ],
      "text/plain": [
       "<IPython.core.display.HTML object>"
      ]
     },
     "metadata": {},
     "output_type": "display_data"
    },
    {
     "data": {
      "text/html": [
       " View run <strong style=\"color:#cdcd00\">trial-31</strong> at: <a href='https://wandb.ai/master-2024/DistilBERT/runs/au1xn1pr' target=\"_blank\">https://wandb.ai/master-2024/DistilBERT/runs/au1xn1pr</a><br/>Synced 5 W&B file(s), 0 media file(s), 0 artifact file(s) and 0 other file(s)"
      ],
      "text/plain": [
       "<IPython.core.display.HTML object>"
      ]
     },
     "metadata": {},
     "output_type": "display_data"
    },
    {
     "data": {
      "text/html": [
       "Find logs at: <code>./wandb/run-20240418_160950-au1xn1pr/logs</code>"
      ],
      "text/plain": [
       "<IPython.core.display.HTML object>"
      ]
     },
     "metadata": {},
     "output_type": "display_data"
    },
    {
     "name": "stderr",
     "output_type": "stream",
     "text": [
      "[I 2024-04-18 16:11:26,778] Trial 31 finished with value: 0.7859257153426178 and parameters: {'learning_rate': 4.378401784772492e-05, 'per_device_train_batch_size': 16, 'weight_decay': 0.034187736297320845, 'num_train_epochs': 3, 'warmup_steps': 152}. Best is trial 31 with value: 0.7859257153426178.\n"
     ]
    }
   ],
   "source": [
    "# Get the objective function with your dataset included\n",
    "objective_30 = objective_closure(encoded_dataset_30)\n",
    "\n",
    "start_study_30 = time.time()\n",
    "study_30.optimize(objective_30, n_trials=32) #, timeout=600)  \n",
    "end_study_30 = time.time()\n",
    "\n",
    "model_time_study_30 = end_study_30 - start_study_30"
   ]
  },
  {
   "cell_type": "code",
   "execution_count": 26,
   "metadata": {},
   "outputs": [],
   "source": [
    "#for trial in study.trials:\n",
    "#    print(trial.value, trial.params)"
   ]
  },
  {
   "cell_type": "code",
   "execution_count": 27,
   "metadata": {},
   "outputs": [
    {
     "name": "stdout",
     "output_type": "stream",
     "text": [
      "Hyperparameter search completed in 2012.33 seconds.\n",
      "Number of trials completed: 32\n"
     ]
    }
   ],
   "source": [
    "print(f\"Hyperparameter search completed in {model_time_study_15:.2f} seconds.\")\n",
    "print(f\"Number of trials completed: {len(study_15.trials)}\")"
   ]
  },
  {
   "cell_type": "code",
   "execution_count": 28,
   "metadata": {},
   "outputs": [
    {
     "name": "stdout",
     "output_type": "stream",
     "text": [
      "Hyperparameter search completed in 2231.62 seconds.\n",
      "Number of trials completed: 32\n"
     ]
    }
   ],
   "source": [
    "print(f\"Hyperparameter search completed in {model_time_study_30:.2f} seconds.\")\n",
    "print(f\"Number of trials completed: {len(study_30.trials)}\")"
   ]
  },
  {
   "cell_type": "code",
   "execution_count": 29,
   "metadata": {
    "colab": {
     "base_uri": "https://localhost:8080/",
     "height": 1000
    },
    "id": "079RFgKuDp-r",
    "outputId": "e29ad3c9-b916-4b88-eb21-3fd0ee36fa38"
   },
   "outputs": [
    {
     "name": "stdout",
     "output_type": "stream",
     "text": [
      "Best trial:\n",
      "  Value: 0.752046282057651\n",
      "  Params: \n",
      "    learning_rate: 2.8920490417580644e-05\n",
      "    per_device_train_batch_size: 8\n",
      "    weight_decay: 0.04096957714180248\n",
      "    num_train_epochs: 2\n",
      "    warmup_steps: 461\n"
     ]
    }
   ],
   "source": [
    "best_trial_15 = study_15.best_trial\n",
    "\n",
    "best_param_15 = {}\n",
    "\n",
    "print(\"Best trial:\")\n",
    "print(f\"  Value: {best_trial_15.value}\")\n",
    "\n",
    "print(\"  Params: \")\n",
    "for key, value in best_trial_15.params.items():\n",
    "    print(f\"    {key}: {value}\")\n",
    "    best_param_15[key] = value "
   ]
  },
  {
   "cell_type": "code",
   "execution_count": 30,
   "metadata": {
    "colab": {
     "base_uri": "https://localhost:8080/",
     "height": 1000
    },
    "id": "079RFgKuDp-r",
    "outputId": "e29ad3c9-b916-4b88-eb21-3fd0ee36fa38"
   },
   "outputs": [
    {
     "name": "stdout",
     "output_type": "stream",
     "text": [
      "Best trial:\n",
      "  Value: 0.7859257153426178\n",
      "  Params: \n",
      "    learning_rate: 4.378401784772492e-05\n",
      "    per_device_train_batch_size: 16\n",
      "    weight_decay: 0.034187736297320845\n",
      "    num_train_epochs: 3\n",
      "    warmup_steps: 152\n"
     ]
    }
   ],
   "source": [
    "best_trial_30 = study_30.best_trial\n",
    "\n",
    "best_param_30 = {}\n",
    "\n",
    "print(\"Best trial:\")\n",
    "print(f\"  Value: {best_trial_30.value}\")\n",
    "\n",
    "print(\"  Params: \")\n",
    "for key, value in best_trial_30.params.items():\n",
    "    print(f\"    {key}: {value}\")\n",
    "    best_param_30[key] = value "
   ]
  },
  {
   "cell_type": "code",
   "execution_count": 31,
   "metadata": {},
   "outputs": [
    {
     "data": {
      "text/plain": [
       "{'learning_rate': 2.8920490417580644e-05,\n",
       " 'per_device_train_batch_size': 8,\n",
       " 'weight_decay': 0.04096957714180248,\n",
       " 'num_train_epochs': 2,\n",
       " 'warmup_steps': 461}"
      ]
     },
     "execution_count": 31,
     "metadata": {},
     "output_type": "execute_result"
    }
   ],
   "source": [
    "best_param_15"
   ]
  },
  {
   "cell_type": "code",
   "execution_count": 32,
   "metadata": {},
   "outputs": [
    {
     "data": {
      "text/plain": [
       "{'learning_rate': 4.378401784772492e-05,\n",
       " 'per_device_train_batch_size': 16,\n",
       " 'weight_decay': 0.034187736297320845,\n",
       " 'num_train_epochs': 3,\n",
       " 'warmup_steps': 152}"
      ]
     },
     "execution_count": 32,
     "metadata": {},
     "output_type": "execute_result"
    }
   ],
   "source": [
    "best_param_30"
   ]
  },
  {
   "cell_type": "code",
   "execution_count": 33,
   "metadata": {},
   "outputs": [],
   "source": [
    "def eval_test(data, best_param):\n",
    "    # Setup the training arguments with the best hyperparameters\n",
    "    best_training_args = TrainingArguments(\n",
    "        output_dir=f\"{model_ckpt}-finetuned-best\",\n",
    "        num_train_epochs=best_param['num_train_epochs'],\n",
    "        learning_rate=best_param['learning_rate'],\n",
    "        per_device_train_batch_size=best_param['per_device_train_batch_size'],\n",
    "        per_device_eval_batch_size=best_param['per_device_train_batch_size'],  \n",
    "        weight_decay=best_param['weight_decay'],\n",
    "        warmup_steps=best_param['warmup_steps'],\n",
    "        evaluation_strategy=\"epoch\",\n",
    "        gradient_accumulation_steps=2,\n",
    "        fp16=True,\n",
    "        disable_tqdm=False,\n",
    "        logging_dir='./logs',\n",
    "        log_level=\"error\",\n",
    "        report_to=\"none\", \n",
    "        seed=23\n",
    "    )\n",
    "    \n",
    "    # Initialize the Trainer with the best hyperparameters\n",
    "    best_trainer = Trainer(\n",
    "        model_init=model_init,\n",
    "        args=best_training_args,\n",
    "        train_dataset=data['train'],\n",
    "        eval_dataset=data['validation'],\n",
    "        compute_metrics=compute_metrics,\n",
    "        callbacks=[loss_metric],\n",
    "        tokenizer=tokenizer,\n",
    "    )\n",
    "    \n",
    "    # Train the model\n",
    "    best_trainer.train()\n",
    "\n",
    "    return best_trainer\n"
   ]
  },
  {
   "cell_type": "code",
   "execution_count": 34,
   "metadata": {},
   "outputs": [
    {
     "name": "stderr",
     "output_type": "stream",
     "text": [
      "/net/fs-2/scale/OrionStore/Scratch/joteklem/MyCondaEnvironments/Python3.11/orion_env/lib/python3.11/site-packages/accelerate/accelerator.py:432: FutureWarning: Passing the following arguments to `Accelerator` is deprecated and will be removed in version 1.0 of Accelerate: dict_keys(['dispatch_batches', 'split_batches', 'even_batches', 'use_seedable_sampler']). Please pass an `accelerate.DataLoaderConfiguration` instead: \n",
      "dataloader_config = DataLoaderConfiguration(dispatch_batches=None, split_batches=False, even_batches=True, use_seedable_sampler=True)\n",
      "  warnings.warn(\n",
      "Detected kernel version 3.10.0, which is below the recommended minimum of 5.5.0; this can cause the process to hang. It is recommended to upgrade the kernel to the minimum version or higher.\n"
     ]
    },
    {
     "data": {
      "text/html": [
       "\n",
       "    <div>\n",
       "      \n",
       "      <progress value='1260' max='1260' style='width:300px; height:20px; vertical-align: middle;'></progress>\n",
       "      [1260/1260 01:29, Epoch 2/2]\n",
       "    </div>\n",
       "    <table border=\"1\" class=\"dataframe\">\n",
       "  <thead>\n",
       " <tr style=\"text-align: left;\">\n",
       "      <th>Epoch</th>\n",
       "      <th>Training Loss</th>\n",
       "      <th>Validation Loss</th>\n",
       "      <th>Accuracy</th>\n",
       "      <th>Balanced accuracy</th>\n",
       "      <th>F1 weighted</th>\n",
       "      <th>F1 macro</th>\n",
       "      <th>F1 micro</th>\n",
       "      <th>Classification report</th>\n",
       "    </tr>\n",
       "  </thead>\n",
       "  <tbody>\n",
       "    <tr>\n",
       "      <td>1</td>\n",
       "      <td>0.729000</td>\n",
       "      <td>0.517829</td>\n",
       "      <td>0.807143</td>\n",
       "      <td>0.685936</td>\n",
       "      <td>0.799113</td>\n",
       "      <td>0.719794</td>\n",
       "      <td>0.807143</td>\n",
       "      <td>{'0': {'precision': 0.7636122177954847, 'recall': 0.6403118040089086, 'f1-score': 0.6965475469412478, 'support': 898.0}, '1': {'precision': 0.8275574112734865, 'recall': 0.9222894369474174, 'f1-score': 0.8723591549295774, 'support': 2149.0}, '2': {'precision': 0.7311320754716981, 'recall': 0.4952076677316294, 'f1-score': 0.5904761904761904, 'support': 313.0}, 'accuracy': 0.8071428571428572, 'macro avg': {'precision': 0.7741005681802231, 'recall': 0.6859363028959851, 'f1-score': 0.7197942974490052, 'support': 3360.0}, 'weighted avg': {'precision': 0.8014848178659849, 'recall': 0.8071428571428572, 'f1-score': 0.7991126692606995, 'support': 3360.0}}</td>\n",
       "    </tr>\n",
       "    <tr>\n",
       "      <td>2</td>\n",
       "      <td>0.475900</td>\n",
       "      <td>0.484570</td>\n",
       "      <td>0.822917</td>\n",
       "      <td>0.720804</td>\n",
       "      <td>0.815941</td>\n",
       "      <td>0.752046</td>\n",
       "      <td>0.822917</td>\n",
       "      <td>{'0': {'precision': 0.8045007032348804, 'recall': 0.6369710467706013, 'f1-score': 0.7110006215040399, 'support': 898.0}, '1': {'precision': 0.8352745424292846, 'recall': 0.93438808748255, 'f1-score': 0.8820557873929278, 'support': 2149.0}, '2': {'precision': 0.7551020408163265, 'recall': 0.5910543130990416, 'f1-score': 0.6630824372759856, 'support': 313.0}, 'accuracy': 0.8229166666666666, 'macro avg': {'precision': 0.7982924288268305, 'recall': 0.720804482450731, 'f1-score': 0.752046282057651, 'support': 3360.0}, 'weighted avg': {'precision': 0.8195814172502874, 'recall': 0.8229166666666666, 'f1-score': 0.8159408476444683, 'support': 3360.0}}</td>\n",
       "    </tr>\n",
       "  </tbody>\n",
       "</table><p>"
      ],
      "text/plain": [
       "<IPython.core.display.HTML object>"
      ]
     },
     "metadata": {},
     "output_type": "display_data"
    }
   ],
   "source": [
    "best_trainer_15 = eval_test(encoded_dataset_15, best_param_15)"
   ]
  },
  {
   "cell_type": "code",
   "execution_count": 35,
   "metadata": {},
   "outputs": [
    {
     "name": "stderr",
     "output_type": "stream",
     "text": [
      "/net/fs-2/scale/OrionStore/Scratch/joteklem/MyCondaEnvironments/Python3.11/orion_env/lib/python3.11/site-packages/accelerate/accelerator.py:432: FutureWarning: Passing the following arguments to `Accelerator` is deprecated and will be removed in version 1.0 of Accelerate: dict_keys(['dispatch_batches', 'split_batches', 'even_batches', 'use_seedable_sampler']). Please pass an `accelerate.DataLoaderConfiguration` instead: \n",
      "dataloader_config = DataLoaderConfiguration(dispatch_batches=None, split_batches=False, even_batches=True, use_seedable_sampler=True)\n",
      "  warnings.warn(\n",
      "Detected kernel version 3.10.0, which is below the recommended minimum of 5.5.0; this can cause the process to hang. It is recommended to upgrade the kernel to the minimum version or higher.\n"
     ]
    },
    {
     "data": {
      "text/html": [
       "\n",
       "    <div>\n",
       "      \n",
       "      <progress value='948' max='948' style='width:300px; height:20px; vertical-align: middle;'></progress>\n",
       "      [948/948 01:14, Epoch 2/3]\n",
       "    </div>\n",
       "    <table border=\"1\" class=\"dataframe\">\n",
       "  <thead>\n",
       " <tr style=\"text-align: left;\">\n",
       "      <th>Epoch</th>\n",
       "      <th>Training Loss</th>\n",
       "      <th>Validation Loss</th>\n",
       "      <th>Accuracy</th>\n",
       "      <th>Balanced accuracy</th>\n",
       "      <th>F1 weighted</th>\n",
       "      <th>F1 macro</th>\n",
       "      <th>F1 micro</th>\n",
       "      <th>Classification report</th>\n",
       "    </tr>\n",
       "  </thead>\n",
       "  <tbody>\n",
       "    <tr>\n",
       "      <td>0</td>\n",
       "      <td>No log</td>\n",
       "      <td>0.482392</td>\n",
       "      <td>0.821682</td>\n",
       "      <td>0.767224</td>\n",
       "      <td>0.820346</td>\n",
       "      <td>0.748788</td>\n",
       "      <td>0.821682</td>\n",
       "      <td>{'0': {'precision': 0.8639876352395672, 'recall': 0.6211111111111111, 'f1-score': 0.722689075630252, 'support': 900.0}, '1': {'precision': 0.8638949671772429, 'recall': 0.9130434782608695, 'f1-score': 0.8877895210254103, 'support': 2162.0}, '2': {'precision': 0.5427927927927928, 'recall': 0.767515923566879, 'f1-score': 0.6358839050131926, 'support': 314.0}, 'accuracy': 0.8216824644549763, 'macro avg': {'precision': 0.756891798403201, 'recall': 0.7672235043129532, 'f1-score': 0.748787500556285, 'support': 3376.0}, 'weighted avg': {'precision': 0.8340541255005173, 'recall': 0.8216824644549763, 'f1-score': 0.8203461666760387, 'support': 3376.0}}</td>\n",
       "    </tr>\n",
       "    <tr>\n",
       "      <td>2</td>\n",
       "      <td>0.552900</td>\n",
       "      <td>0.456328</td>\n",
       "      <td>0.837974</td>\n",
       "      <td>0.776535</td>\n",
       "      <td>0.835563</td>\n",
       "      <td>0.785926</td>\n",
       "      <td>0.837974</td>\n",
       "      <td>{'0': {'precision': 0.7875, 'recall': 0.7, 'f1-score': 0.7411764705882352, 'support': 900.0}, '1': {'precision': 0.8696035242290749, 'recall': 0.9130434782608695, 'f1-score': 0.8907942238267148, 'support': 2162.0}, '2': {'precision': 0.7352941176470589, 'recall': 0.7165605095541401, 'f1-score': 0.7258064516129032, 'support': 314.0}, 'accuracy': 0.8379739336492891, 'macro avg': {'precision': 0.7974658806253779, 'recall': 0.7765346626050031, 'f1-score': 0.7859257153426178, 'support': 3376.0}, 'weighted avg': {'precision': 0.8352236884847266, 'recall': 0.8379739336492891, 'f1-score': 0.8355625477633948, 'support': 3376.0}}</td>\n",
       "    </tr>\n",
       "  </tbody>\n",
       "</table><p>"
      ],
      "text/plain": [
       "<IPython.core.display.HTML object>"
      ]
     },
     "metadata": {},
     "output_type": "display_data"
    }
   ],
   "source": [
    "best_trainer_30 = eval_test(encoded_dataset_30, best_param_30)"
   ]
  },
  {
   "cell_type": "code",
   "execution_count": 36,
   "metadata": {
    "colab": {
     "base_uri": "https://localhost:8080/",
     "height": 142
    },
    "id": "ydoZYZr1ZWHV",
    "outputId": "5ddee13b-e1ee-417b-9fc5-5f42d51ce3f3"
   },
   "outputs": [
    {
     "data": {
      "text/html": [],
      "text/plain": [
       "<IPython.core.display.HTML object>"
      ]
     },
     "metadata": {},
     "output_type": "display_data"
    },
    {
     "name": "stdout",
     "output_type": "stream",
     "text": [
      "{'eval_loss': 0.459572434425354, 'eval_Accuracy': 0.8315476190476191, 'eval_Balanced accuracy': 0.7258730448071379, 'eval_F1 weighted': 0.8247185007097154, 'eval_F1 macro': 0.7590120977988208, 'eval_F1 micro': 0.8315476190476191, 'eval_Classification Report': {'0': {'precision': 0.827247191011236, 'recall': 0.6566332218506131, 'f1-score': 0.7321317588564324, 'support': 897.0}, '1': {'precision': 0.8401162790697675, 'recall': 0.9413680781758957, 'f1-score': 0.8878648233486944, 'support': 2149.0}, '2': {'precision': 0.7583333333333333, 'recall': 0.5796178343949044, 'f1-score': 0.6570397111913356, 'support': 314.0}, 'accuracy': 0.8315476190476191, 'macro avg': {'precision': 0.8085656011381123, 'recall': 0.7258730448071379, 'f1-score': 0.7590120977988208, 'support': 3360.0}, 'weighted avg': {'precision': 0.8290378811680582, 'recall': 0.8315476190476191, 'f1-score': 0.8247185007097154, 'support': 3360.0}}, 'eval_runtime': 2.8196, 'eval_samples_per_second': 1191.653, 'eval_steps_per_second': 148.957, 'epoch': 2.0}\n"
     ]
    }
   ],
   "source": [
    "results_15 = best_trainer_15.evaluate(encoded_dataset_15['test'])\n",
    "print(results_15)"
   ]
  },
  {
   "cell_type": "code",
   "execution_count": 37,
   "metadata": {
    "colab": {
     "base_uri": "https://localhost:8080/",
     "height": 142
    },
    "id": "ydoZYZr1ZWHV",
    "outputId": "5ddee13b-e1ee-417b-9fc5-5f42d51ce3f3"
   },
   "outputs": [
    {
     "data": {
      "text/html": [],
      "text/plain": [
       "<IPython.core.display.HTML object>"
      ]
     },
     "metadata": {},
     "output_type": "display_data"
    },
    {
     "name": "stdout",
     "output_type": "stream",
     "text": [
      "{'eval_loss': 0.4754980802536011, 'eval_Accuracy': 0.840047393364929, 'eval_Balanced accuracy': 0.7641339602593337, 'eval_F1 weighted': 0.8372385968595099, 'eval_F1 macro': 0.7780400846276914, 'eval_F1 micro': 0.8400473933649291, 'eval_Classification Report': {'0': {'precision': 0.7957658779576587, 'recall': 0.71, 'f1-score': 0.7504403992953611, 'support': 900.0}, '1': {'precision': 0.871222076215506, 'recall': 0.919981498612396, 'f1-score': 0.8949381327334083, 'support': 2162.0}, '2': {'precision': 0.7172413793103448, 'recall': 0.6624203821656051, 'f1-score': 0.6887417218543046, 'support': 314.0}, 'accuracy': 0.840047393364929, 'macro avg': {'precision': 0.7947431111611699, 'recall': 0.7641339602593337, 'f1-score': 0.7780400846276914, 'support': 3376.0}, 'weighted avg': {'precision': 0.8367847192071282, 'recall': 0.840047393364929, 'f1-score': 0.8372385968595099, 'support': 3376.0}}, 'eval_runtime': 2.1186, 'eval_samples_per_second': 1593.482, 'eval_steps_per_second': 99.593, 'epoch': 3.0}\n"
     ]
    }
   ],
   "source": [
    "results_30 = best_trainer_30.evaluate(encoded_dataset_30['test'])\n",
    "print(results_30)"
   ]
  },
  {
   "cell_type": "code",
   "execution_count": 38,
   "metadata": {
    "colab": {
     "base_uri": "https://localhost:8080/",
     "height": 207
    },
    "id": "ECSU6nJJZWHV",
    "outputId": "03748afc-24dd-49cc-ac48-577c93d8a875"
   },
   "outputs": [
    {
     "data": {
      "text/plain": [
       "{'test_loss': 0.459572434425354,\n",
       " 'test_Accuracy': 0.8315476190476191,\n",
       " 'test_Balanced accuracy': 0.7258730448071379,\n",
       " 'test_F1 weighted': 0.8247185007097154,\n",
       " 'test_F1 macro': 0.7590120977988208,\n",
       " 'test_F1 micro': 0.8315476190476191,\n",
       " 'test_Classification Report': {'0': {'precision': 0.827247191011236,\n",
       "   'recall': 0.6566332218506131,\n",
       "   'f1-score': 0.7321317588564324,\n",
       "   'support': 897.0},\n",
       "  '1': {'precision': 0.8401162790697675,\n",
       "   'recall': 0.9413680781758957,\n",
       "   'f1-score': 0.8878648233486944,\n",
       "   'support': 2149.0},\n",
       "  '2': {'precision': 0.7583333333333333,\n",
       "   'recall': 0.5796178343949044,\n",
       "   'f1-score': 0.6570397111913356,\n",
       "   'support': 314.0},\n",
       "  'accuracy': 0.8315476190476191,\n",
       "  'macro avg': {'precision': 0.8085656011381123,\n",
       "   'recall': 0.7258730448071379,\n",
       "   'f1-score': 0.7590120977988208,\n",
       "   'support': 3360.0},\n",
       "  'weighted avg': {'precision': 0.8290378811680582,\n",
       "   'recall': 0.8315476190476191,\n",
       "   'f1-score': 0.8247185007097154,\n",
       "   'support': 3360.0}},\n",
       " 'test_runtime': 3.3904,\n",
       " 'test_samples_per_second': 991.024,\n",
       " 'test_steps_per_second': 123.878}"
      ]
     },
     "execution_count": 38,
     "metadata": {},
     "output_type": "execute_result"
    }
   ],
   "source": [
    "pred_15 = best_trainer_15.predict(encoded_dataset_15['test'])\n",
    "pred_15.metrics"
   ]
  },
  {
   "cell_type": "code",
   "execution_count": 39,
   "metadata": {
    "colab": {
     "base_uri": "https://localhost:8080/",
     "height": 207
    },
    "id": "ECSU6nJJZWHV",
    "outputId": "03748afc-24dd-49cc-ac48-577c93d8a875"
   },
   "outputs": [
    {
     "data": {
      "text/plain": [
       "{'test_loss': 0.4754980802536011,\n",
       " 'test_Accuracy': 0.840047393364929,\n",
       " 'test_Balanced accuracy': 0.7641339602593337,\n",
       " 'test_F1 weighted': 0.8372385968595099,\n",
       " 'test_F1 macro': 0.7780400846276914,\n",
       " 'test_F1 micro': 0.8400473933649291,\n",
       " 'test_Classification Report': {'0': {'precision': 0.7957658779576587,\n",
       "   'recall': 0.71,\n",
       "   'f1-score': 0.7504403992953611,\n",
       "   'support': 900.0},\n",
       "  '1': {'precision': 0.871222076215506,\n",
       "   'recall': 0.919981498612396,\n",
       "   'f1-score': 0.8949381327334083,\n",
       "   'support': 2162.0},\n",
       "  '2': {'precision': 0.7172413793103448,\n",
       "   'recall': 0.6624203821656051,\n",
       "   'f1-score': 0.6887417218543046,\n",
       "   'support': 314.0},\n",
       "  'accuracy': 0.840047393364929,\n",
       "  'macro avg': {'precision': 0.7947431111611699,\n",
       "   'recall': 0.7641339602593337,\n",
       "   'f1-score': 0.7780400846276914,\n",
       "   'support': 3376.0},\n",
       "  'weighted avg': {'precision': 0.8367847192071282,\n",
       "   'recall': 0.840047393364929,\n",
       "   'f1-score': 0.8372385968595099,\n",
       "   'support': 3376.0}},\n",
       " 'test_runtime': 2.4627,\n",
       " 'test_samples_per_second': 1370.858,\n",
       " 'test_steps_per_second': 85.679}"
      ]
     },
     "execution_count": 39,
     "metadata": {},
     "output_type": "execute_result"
    }
   ],
   "source": [
    "pred_30 = best_trainer_30.predict(encoded_dataset_30['test'])\n",
    "pred_30.metrics"
   ]
  },
  {
   "cell_type": "code",
   "execution_count": 40,
   "metadata": {},
   "outputs": [
    {
     "data": {
      "text/plain": [
       "array([[ 589,  284,   24],\n",
       "       [  92, 2023,   34],\n",
       "       [  31,  101,  182]])"
      ]
     },
     "execution_count": 40,
     "metadata": {},
     "output_type": "execute_result"
    }
   ],
   "source": [
    "predicted_labels_15 = np.argmax(pred_15.predictions, axis=1)\n",
    "\n",
    "# Generate the confusion matrix\n",
    "conf_matrix_15 = confusion_matrix(encoded_dataset_15['test']['labels'], predicted_labels_15)\n",
    "conf_matrix_15"
   ]
  },
  {
   "cell_type": "code",
   "execution_count": 41,
   "metadata": {},
   "outputs": [
    {
     "data": {
      "text/plain": [
       "array([[ 639,  223,   38],\n",
       "       [ 129, 1989,   44],\n",
       "       [  35,   71,  208]])"
      ]
     },
     "execution_count": 41,
     "metadata": {},
     "output_type": "execute_result"
    }
   ],
   "source": [
    "predicted_labels_30 = np.argmax(pred_30.predictions, axis=1)\n",
    "\n",
    "# Generate the confusion matrix\n",
    "conf_matrix_30 = confusion_matrix(encoded_dataset_30['test']['labels'], predicted_labels_30)\n",
    "conf_matrix_30"
   ]
  },
  {
   "cell_type": "code",
   "execution_count": 42,
   "metadata": {},
   "outputs": [],
   "source": [
    "def plot_confusion_matrix(y_pred, y_true, labels, filename=None):\n",
    "    cm = confusion_matrix(y_true, y_pred, normalize=\"true\")\n",
    "    _, ax = plt.subplots(figsize=(6, 6))\n",
    "    disp = ConfusionMatrixDisplay(confusion_matrix=cm, display_labels=labels)\n",
    "    disp.plot(cmap=\"Blues\", values_format=\".2f\", ax=ax, colorbar=False)\n",
    "    #plt.title(\"Normalized confusion matrix\")\n",
    "    if filename is not None:\n",
    "        plt.savefig(filename)\n",
    "    plt.show()"
   ]
  },
  {
   "cell_type": "code",
   "execution_count": 43,
   "metadata": {},
   "outputs": [
    {
     "data": {
      "image/png": "[encoded data removed]",
      "text/plain": [
       "<Figure size 600x600 with 1 Axes>"
      ]
     },
     "metadata": {},
     "output_type": "display_data"
    }
   ],
   "source": [
    "plot_confusion_matrix(predicted_labels_15,\n",
    "                      encoded_dataset_15['test']['labels'],\n",
    "                      ['Corner', 'Foul', 'Goal'],\n",
    "                     filename='conf_matrix_DistilBERT_15.png')"
   ]
  },
  {
   "cell_type": "code",
   "execution_count": 45,
   "metadata": {},
   "outputs": [
    {
     "data": {
      "image/png": "[encoded data removed]",
      "text/plain": [
       "<Figure size 600x600 with 1 Axes>"
      ]
     },
     "metadata": {},
     "output_type": "display_data"
    }
   ],
   "source": [
    "plot_confusion_matrix(predicted_labels_30,\n",
    "                      encoded_dataset_30['test']['labels'],\n",
    "                      ['Corner', 'Foul', 'Goal'],\n",
    "                     filename='conf_matrix_DistilBERT_30.png')"
   ]
  },
  {
   "cell_type": "code",
   "execution_count": null,
   "metadata": {
    "id": "WKVuc-VSITZ4"
   },
   "outputs": [],
   "source": [
    "# Plotting the confusion matrix\n",
    "#sns.heatmap(conf_matrix, annot=True, fmt='g')\n",
    "#plt.xlabel('Predicted labels')\n",
    "#plt.ylabel('True labels')\n",
    "#plt.show()\n",
    "\n",
    "#print(labels_name[0],':', labels[0])\n",
    "#print(labels_name[1],':', labels[1])\n",
    "#print(labels_name[2],':', labels[2])"
   ]
  },
  {
   "cell_type": "code",
   "execution_count": null,
   "metadata": {},
   "outputs": [],
   "source": [
    "# Learning curve \n",
    "#training_losses = loss_metric._training_losses\n",
    "#validation_losses = loss_metric._validation_losses\n",
    "\n",
    "#epochs = range(1, len(validation_losses) + 1)\n",
    "\n",
    "#plt.figure(figsize=(10, 6))\n",
    "#plt.plot(epochs, training_losses, label='Training Loss')\n",
    "#plt.plot(epochs, validation_losses, label='Validation Loss')\n",
    "#plt.title('Learning Curve')\n",
    "#plt.xlabel('Epochs')\n",
    "#plt.ylabel('Loss')\n",
    "#plt.legend()\n",
    "#plt.show()"
   ]
  },
  {
   "cell_type": "code",
   "execution_count": null,
   "metadata": {},
   "outputs": [],
   "source": []
  }
 ],
 "metadata": {
  "accelerator": "GPU",
  "colab": {
   "gpuType": "T4",
   "provenance": []
  },
  "kernelspec": {
   "display_name": "orion_env",
   "language": "python",
   "name": "orion_env"
  },
  "language_info": {
   "codemirror_mode": {
    "name": "ipython",
    "version": 3
   },
   "file_extension": ".py",
   "mimetype": "text/x-python",
   "name": "python",
   "nbconvert_exporter": "python",
   "pygments_lexer": "ipython3",
   "version": "3.11.0"
  },
  "widgets": {
   "application/vnd.jupyter.widget-state+json": {
    "01e56378e3614c63a65b17db6c76ca44": {
     "model_module": "@jupyter-widgets/controls",
     "model_module_version": "1.5.0",
     "model_name": "FloatProgressModel",
     "state": {
      "_dom_classes": [],
      "_model_module": "@jupyter-widgets/controls",
      "_model_module_version": "1.5.0",
      "_model_name": "FloatProgressModel",
      "_view_count": null,
      "_view_module": "@jupyter-widgets/controls",
      "_view_module_version": "1.5.0",
      "_view_name": "ProgressView",
      "bar_style": "success",
      "description": "",
      "description_tooltip": null,
      "layout": "IPY_MODEL_218b35fa27fb4fb48b96430ff47ee6c4",
      "max": 11758,
      "min": 0,
      "orientation": "horizontal",
      "style": "IPY_MODEL_1d859de4d9f84cdeae87fe95eab87e82",
      "value": 11758
     }
    },
    "08072fcdaefd49a9bb04c3ff669a1907": {
     "model_module": "@jupyter-widgets/controls",
     "model_module_version": "1.5.0",
     "model_name": "ProgressStyleModel",
     "state": {
      "_model_module": "@jupyter-widgets/controls",
      "_model_module_version": "1.5.0",
      "_model_name": "ProgressStyleModel",
      "_view_count": null,
      "_view_module": "@jupyter-widgets/base",
      "_view_module_version": "1.2.0",
      "_view_name": "StyleView",
      "bar_color": null,
      "description_width": ""
     }
    },
    "15741a26cc304005a8c1a7ffc381f5d0": {
     "model_module": "@jupyter-widgets/controls",
     "model_module_version": "1.5.0",
     "model_name": "DescriptionStyleModel",
     "state": {
      "_model_module": "@jupyter-widgets/controls",
      "_model_module_version": "1.5.0",
      "_model_name": "DescriptionStyleModel",
      "_view_count": null,
      "_view_module": "@jupyter-widgets/base",
      "_view_module_version": "1.2.0",
      "_view_name": "StyleView",
      "description_width": ""
     }
    },
    "16fa1db7c8c3413a809da7b4beb060c5": {
     "model_module": "@jupyter-widgets/controls",
     "model_module_version": "1.5.0",
     "model_name": "HTMLModel",
     "state": {
      "_dom_classes": [],
      "_model_module": "@jupyter-widgets/controls",
      "_model_module_version": "1.5.0",
      "_model_name": "HTMLModel",
      "_view_count": null,
      "_view_module": "@jupyter-widgets/controls",
      "_view_module_version": "1.5.0",
      "_view_name": "HTMLView",
      "description": "",
      "description_tooltip": null,
      "layout": "IPY_MODEL_6c3a89cb1ce54ffd8cad064efdc95a98",
      "placeholder": "​",
      "style": "IPY_MODEL_e155ff3d30a34086929725a2d8cb6866",
      "value": " 2520/2520 [00:00&lt;00:00, 6889.46 examples/s]"
     }
    },
    "1d859de4d9f84cdeae87fe95eab87e82": {
     "model_module": "@jupyter-widgets/controls",
     "model_module_version": "1.5.0",
     "model_name": "ProgressStyleModel",
     "state": {
      "_model_module": "@jupyter-widgets/controls",
      "_model_module_version": "1.5.0",
      "_model_name": "ProgressStyleModel",
      "_view_count": null,
      "_view_module": "@jupyter-widgets/base",
      "_view_module_version": "1.2.0",
      "_view_name": "StyleView",
      "bar_color": null,
      "description_width": ""
     }
    },
    "218b35fa27fb4fb48b96430ff47ee6c4": {
     "model_module": "@jupyter-widgets/base",
     "model_module_version": "1.2.0",
     "model_name": "LayoutModel",
     "state": {
      "_model_module": "@jupyter-widgets/base",
      "_model_module_version": "1.2.0",
      "_model_name": "LayoutModel",
      "_view_count": null,
      "_view_module": "@jupyter-widgets/base",
      "_view_module_version": "1.2.0",
      "_view_name": "LayoutView",
      "align_content": null,
      "align_items": null,
      "align_self": null,
      "border": null,
      "bottom": null,
      "display": null,
      "flex": null,
      "flex_flow": null,
      "grid_area": null,
      "grid_auto_columns": null,
      "grid_auto_flow": null,
      "grid_auto_rows": null,
      "grid_column": null,
      "grid_gap": null,
      "grid_row": null,
      "grid_template_areas": null,
      "grid_template_columns": null,
      "grid_template_rows": null,
      "height": null,
      "justify_content": null,
      "justify_items": null,
      "left": null,
      "margin": null,
      "max_height": null,
      "max_width": null,
      "min_height": null,
      "min_width": null,
      "object_fit": null,
      "object_position": null,
      "order": null,
      "overflow": null,
      "overflow_x": null,
      "overflow_y": null,
      "padding": null,
      "right": null,
      "top": null,
      "visibility": null,
      "width": null
     }
    },
    "2477a3068be849a886eb37221aaa69f6": {
     "model_module": "@jupyter-widgets/controls",
     "model_module_version": "1.5.0",
     "model_name": "DescriptionStyleModel",
     "state": {
      "_model_module": "@jupyter-widgets/controls",
      "_model_module_version": "1.5.0",
      "_model_name": "DescriptionStyleModel",
      "_view_count": null,
      "_view_module": "@jupyter-widgets/base",
      "_view_module_version": "1.2.0",
      "_view_name": "StyleView",
      "description_width": ""
     }
    },
    "3d789263f6f242d58fb0f095f646c085": {
     "model_module": "@jupyter-widgets/base",
     "model_module_version": "1.2.0",
     "model_name": "LayoutModel",
     "state": {
      "_model_module": "@jupyter-widgets/base",
      "_model_module_version": "1.2.0",
      "_model_name": "LayoutModel",
      "_view_count": null,
      "_view_module": "@jupyter-widgets/base",
      "_view_module_version": "1.2.0",
      "_view_name": "LayoutView",
      "align_content": null,
      "align_items": null,
      "align_self": null,
      "border": null,
      "bottom": null,
      "display": null,
      "flex": null,
      "flex_flow": null,
      "grid_area": null,
      "grid_auto_columns": null,
      "grid_auto_flow": null,
      "grid_auto_rows": null,
      "grid_column": null,
      "grid_gap": null,
      "grid_row": null,
      "grid_template_areas": null,
      "grid_template_columns": null,
      "grid_template_rows": null,
      "height": null,
      "justify_content": null,
      "justify_items": null,
      "left": null,
      "margin": null,
      "max_height": null,
      "max_width": null,
      "min_height": null,
      "min_width": null,
      "object_fit": null,
      "object_position": null,
      "order": null,
      "overflow": null,
      "overflow_x": null,
      "overflow_y": null,
      "padding": null,
      "right": null,
      "top": null,
      "visibility": null,
      "width": null
     }
    },
    "470731ac5a6549b9bf56c76f8c60854f": {
     "model_module": "@jupyter-widgets/controls",
     "model_module_version": "1.5.0",
     "model_name": "FloatProgressModel",
     "state": {
      "_dom_classes": [],
      "_model_module": "@jupyter-widgets/controls",
      "_model_module_version": "1.5.0",
      "_model_name": "FloatProgressModel",
      "_view_count": null,
      "_view_module": "@jupyter-widgets/controls",
      "_view_module_version": "1.5.0",
      "_view_name": "ProgressView",
      "bar_style": "success",
      "description": "",
      "description_tooltip": null,
      "layout": "IPY_MODEL_b435842110964bb2a47f18b7b7d04d39",
      "max": 2520,
      "min": 0,
      "orientation": "horizontal",
      "style": "IPY_MODEL_e3b7927de286424ea8d14dbfdc03222b",
      "value": 2520
     }
    },
    "507d112a8b1d42329213ae833b75b27a": {
     "model_module": "@jupyter-widgets/controls",
     "model_module_version": "1.5.0",
     "model_name": "HTMLModel",
     "state": {
      "_dom_classes": [],
      "_model_module": "@jupyter-widgets/controls",
      "_model_module_version": "1.5.0",
      "_model_name": "HTMLModel",
      "_view_count": null,
      "_view_module": "@jupyter-widgets/controls",
      "_view_module_version": "1.5.0",
      "_view_name": "HTMLView",
      "description": "",
      "description_tooltip": null,
      "layout": "IPY_MODEL_ff82cb86c931451797ed846166380cbb",
      "placeholder": "​",
      "style": "IPY_MODEL_9fcb8b6e92a34e2a9ec073b80e432bb8",
      "value": "Map: 100%"
     }
    },
    "59653ea68b3a4fa9a0445a6bfd2b2119": {
     "model_module": "@jupyter-widgets/controls",
     "model_module_version": "1.5.0",
     "model_name": "HTMLModel",
     "state": {
      "_dom_classes": [],
      "_model_module": "@jupyter-widgets/controls",
      "_model_module_version": "1.5.0",
      "_model_name": "HTMLModel",
      "_view_count": null,
      "_view_module": "@jupyter-widgets/controls",
      "_view_module_version": "1.5.0",
      "_view_name": "HTMLView",
      "description": "",
      "description_tooltip": null,
      "layout": "IPY_MODEL_c6da5ddb06ad4c318a9340f4a9bccc73",
      "placeholder": "​",
      "style": "IPY_MODEL_b853a13c309c4f72ad70f49d045ac44f",
      "value": " 2520/2520 [00:00&lt;00:00, 6963.90 examples/s]"
     }
    },
    "6c3a89cb1ce54ffd8cad064efdc95a98": {
     "model_module": "@jupyter-widgets/base",
     "model_module_version": "1.2.0",
     "model_name": "LayoutModel",
     "state": {
      "_model_module": "@jupyter-widgets/base",
      "_model_module_version": "1.2.0",
      "_model_name": "LayoutModel",
      "_view_count": null,
      "_view_module": "@jupyter-widgets/base",
      "_view_module_version": "1.2.0",
      "_view_name": "LayoutView",
      "align_content": null,
      "align_items": null,
      "align_self": null,
      "border": null,
      "bottom": null,
      "display": null,
      "flex": null,
      "flex_flow": null,
      "grid_area": null,
      "grid_auto_columns": null,
      "grid_auto_flow": null,
      "grid_auto_rows": null,
      "grid_column": null,
      "grid_gap": null,
      "grid_row": null,
      "grid_template_areas": null,
      "grid_template_columns": null,
      "grid_template_rows": null,
      "height": null,
      "justify_content": null,
      "justify_items": null,
      "left": null,
      "margin": null,
      "max_height": null,
      "max_width": null,
      "min_height": null,
      "min_width": null,
      "object_fit": null,
      "object_position": null,
      "order": null,
      "overflow": null,
      "overflow_x": null,
      "overflow_y": null,
      "padding": null,
      "right": null,
      "top": null,
      "visibility": null,
      "width": null
     }
    },
    "9021c75c0d5a461a914d5b6a4b8e5ae5": {
     "model_module": "@jupyter-widgets/controls",
     "model_module_version": "1.5.0",
     "model_name": "FloatProgressModel",
     "state": {
      "_dom_classes": [],
      "_model_module": "@jupyter-widgets/controls",
      "_model_module_version": "1.5.0",
      "_model_name": "FloatProgressModel",
      "_view_count": null,
      "_view_module": "@jupyter-widgets/controls",
      "_view_module_version": "1.5.0",
      "_view_name": "ProgressView",
      "bar_style": "success",
      "description": "",
      "description_tooltip": null,
      "layout": "IPY_MODEL_ed23306cbb92429296bb082440cd9309",
      "max": 2520,
      "min": 0,
      "orientation": "horizontal",
      "style": "IPY_MODEL_08072fcdaefd49a9bb04c3ff669a1907",
      "value": 2520
     }
    },
    "959dd79165c045a6a96b19aaa810989d": {
     "model_module": "@jupyter-widgets/base",
     "model_module_version": "1.2.0",
     "model_name": "LayoutModel",
     "state": {
      "_model_module": "@jupyter-widgets/base",
      "_model_module_version": "1.2.0",
      "_model_name": "LayoutModel",
      "_view_count": null,
      "_view_module": "@jupyter-widgets/base",
      "_view_module_version": "1.2.0",
      "_view_name": "LayoutView",
      "align_content": null,
      "align_items": null,
      "align_self": null,
      "border": null,
      "bottom": null,
      "display": null,
      "flex": null,
      "flex_flow": null,
      "grid_area": null,
      "grid_auto_columns": null,
      "grid_auto_flow": null,
      "grid_auto_rows": null,
      "grid_column": null,
      "grid_gap": null,
      "grid_row": null,
      "grid_template_areas": null,
      "grid_template_columns": null,
      "grid_template_rows": null,
      "height": null,
      "justify_content": null,
      "justify_items": null,
      "left": null,
      "margin": null,
      "max_height": null,
      "max_width": null,
      "min_height": null,
      "min_width": null,
      "object_fit": null,
      "object_position": null,
      "order": null,
      "overflow": null,
      "overflow_x": null,
      "overflow_y": null,
      "padding": null,
      "right": null,
      "top": null,
      "visibility": null,
      "width": null
     }
    },
    "9fcb8b6e92a34e2a9ec073b80e432bb8": {
     "model_module": "@jupyter-widgets/controls",
     "model_module_version": "1.5.0",
     "model_name": "DescriptionStyleModel",
     "state": {
      "_model_module": "@jupyter-widgets/controls",
      "_model_module_version": "1.5.0",
      "_model_name": "DescriptionStyleModel",
      "_view_count": null,
      "_view_module": "@jupyter-widgets/base",
      "_view_module_version": "1.2.0",
      "_view_name": "StyleView",
      "description_width": ""
     }
    },
    "abe03b595e254d5a875668449ac1f222": {
     "model_module": "@jupyter-widgets/base",
     "model_module_version": "1.2.0",
     "model_name": "LayoutModel",
     "state": {
      "_model_module": "@jupyter-widgets/base",
      "_model_module_version": "1.2.0",
      "_model_name": "LayoutModel",
      "_view_count": null,
      "_view_module": "@jupyter-widgets/base",
      "_view_module_version": "1.2.0",
      "_view_name": "LayoutView",
      "align_content": null,
      "align_items": null,
      "align_self": null,
      "border": null,
      "bottom": null,
      "display": null,
      "flex": null,
      "flex_flow": null,
      "grid_area": null,
      "grid_auto_columns": null,
      "grid_auto_flow": null,
      "grid_auto_rows": null,
      "grid_column": null,
      "grid_gap": null,
      "grid_row": null,
      "grid_template_areas": null,
      "grid_template_columns": null,
      "grid_template_rows": null,
      "height": null,
      "justify_content": null,
      "justify_items": null,
      "left": null,
      "margin": null,
      "max_height": null,
      "max_width": null,
      "min_height": null,
      "min_width": null,
      "object_fit": null,
      "object_position": null,
      "order": null,
      "overflow": null,
      "overflow_x": null,
      "overflow_y": null,
      "padding": null,
      "right": null,
      "top": null,
      "visibility": null,
      "width": null
     }
    },
    "adcd6cc9e61e494eb8f62192c09f3ad6": {
     "model_module": "@jupyter-widgets/controls",
     "model_module_version": "1.5.0",
     "model_name": "HTMLModel",
     "state": {
      "_dom_classes": [],
      "_model_module": "@jupyter-widgets/controls",
      "_model_module_version": "1.5.0",
      "_model_name": "HTMLModel",
      "_view_count": null,
      "_view_module": "@jupyter-widgets/controls",
      "_view_module_version": "1.5.0",
      "_view_name": "HTMLView",
      "description": "",
      "description_tooltip": null,
      "layout": "IPY_MODEL_abe03b595e254d5a875668449ac1f222",
      "placeholder": "​",
      "style": "IPY_MODEL_15741a26cc304005a8c1a7ffc381f5d0",
      "value": "Map: 100%"
     }
    },
    "b435842110964bb2a47f18b7b7d04d39": {
     "model_module": "@jupyter-widgets/base",
     "model_module_version": "1.2.0",
     "model_name": "LayoutModel",
     "state": {
      "_model_module": "@jupyter-widgets/base",
      "_model_module_version": "1.2.0",
      "_model_name": "LayoutModel",
      "_view_count": null,
      "_view_module": "@jupyter-widgets/base",
      "_view_module_version": "1.2.0",
      "_view_name": "LayoutView",
      "align_content": null,
      "align_items": null,
      "align_self": null,
      "border": null,
      "bottom": null,
      "display": null,
      "flex": null,
      "flex_flow": null,
      "grid_area": null,
      "grid_auto_columns": null,
      "grid_auto_flow": null,
      "grid_auto_rows": null,
      "grid_column": null,
      "grid_gap": null,
      "grid_row": null,
      "grid_template_areas": null,
      "grid_template_columns": null,
      "grid_template_rows": null,
      "height": null,
      "justify_content": null,
      "justify_items": null,
      "left": null,
      "margin": null,
      "max_height": null,
      "max_width": null,
      "min_height": null,
      "min_width": null,
      "object_fit": null,
      "object_position": null,
      "order": null,
      "overflow": null,
      "overflow_x": null,
      "overflow_y": null,
      "padding": null,
      "right": null,
      "top": null,
      "visibility": null,
      "width": null
     }
    },
    "b70eb7891c5a4d608793bda215a55097": {
     "model_module": "@jupyter-widgets/base",
     "model_module_version": "1.2.0",
     "model_name": "LayoutModel",
     "state": {
      "_model_module": "@jupyter-widgets/base",
      "_model_module_version": "1.2.0",
      "_model_name": "LayoutModel",
      "_view_count": null,
      "_view_module": "@jupyter-widgets/base",
      "_view_module_version": "1.2.0",
      "_view_name": "LayoutView",
      "align_content": null,
      "align_items": null,
      "align_self": null,
      "border": null,
      "bottom": null,
      "display": null,
      "flex": null,
      "flex_flow": null,
      "grid_area": null,
      "grid_auto_columns": null,
      "grid_auto_flow": null,
      "grid_auto_rows": null,
      "grid_column": null,
      "grid_gap": null,
      "grid_row": null,
      "grid_template_areas": null,
      "grid_template_columns": null,
      "grid_template_rows": null,
      "height": null,
      "justify_content": null,
      "justify_items": null,
      "left": null,
      "margin": null,
      "max_height": null,
      "max_width": null,
      "min_height": null,
      "min_width": null,
      "object_fit": null,
      "object_position": null,
      "order": null,
      "overflow": null,
      "overflow_x": null,
      "overflow_y": null,
      "padding": null,
      "right": null,
      "top": null,
      "visibility": null,
      "width": null
     }
    },
    "b853a13c309c4f72ad70f49d045ac44f": {
     "model_module": "@jupyter-widgets/controls",
     "model_module_version": "1.5.0",
     "model_name": "DescriptionStyleModel",
     "state": {
      "_model_module": "@jupyter-widgets/controls",
      "_model_module_version": "1.5.0",
      "_model_name": "DescriptionStyleModel",
      "_view_count": null,
      "_view_module": "@jupyter-widgets/base",
      "_view_module_version": "1.2.0",
      "_view_name": "StyleView",
      "description_width": ""
     }
    },
    "bf8b1d1b01e949e886fb42798da2c99c": {
     "model_module": "@jupyter-widgets/controls",
     "model_module_version": "1.5.0",
     "model_name": "HTMLModel",
     "state": {
      "_dom_classes": [],
      "_model_module": "@jupyter-widgets/controls",
      "_model_module_version": "1.5.0",
      "_model_name": "HTMLModel",
      "_view_count": null,
      "_view_module": "@jupyter-widgets/controls",
      "_view_module_version": "1.5.0",
      "_view_name": "HTMLView",
      "description": "",
      "description_tooltip": null,
      "layout": "IPY_MODEL_cde39602589e40a786f84217ff08ba8f",
      "placeholder": "​",
      "style": "IPY_MODEL_f2824675896c4d2eafa46e00dce346fa",
      "value": "Map: 100%"
     }
    },
    "c34ffa60d5b343a493e8ed2d10db3629": {
     "model_module": "@jupyter-widgets/controls",
     "model_module_version": "1.5.0",
     "model_name": "HBoxModel",
     "state": {
      "_dom_classes": [],
      "_model_module": "@jupyter-widgets/controls",
      "_model_module_version": "1.5.0",
      "_model_name": "HBoxModel",
      "_view_count": null,
      "_view_module": "@jupyter-widgets/controls",
      "_view_module_version": "1.5.0",
      "_view_name": "HBoxView",
      "box_style": "",
      "children": [
       "IPY_MODEL_507d112a8b1d42329213ae833b75b27a",
       "IPY_MODEL_01e56378e3614c63a65b17db6c76ca44",
       "IPY_MODEL_c9441b93fa4a4c44b1e82867143a7eda"
      ],
      "layout": "IPY_MODEL_b70eb7891c5a4d608793bda215a55097"
     }
    },
    "c6da5ddb06ad4c318a9340f4a9bccc73": {
     "model_module": "@jupyter-widgets/base",
     "model_module_version": "1.2.0",
     "model_name": "LayoutModel",
     "state": {
      "_model_module": "@jupyter-widgets/base",
      "_model_module_version": "1.2.0",
      "_model_name": "LayoutModel",
      "_view_count": null,
      "_view_module": "@jupyter-widgets/base",
      "_view_module_version": "1.2.0",
      "_view_name": "LayoutView",
      "align_content": null,
      "align_items": null,
      "align_self": null,
      "border": null,
      "bottom": null,
      "display": null,
      "flex": null,
      "flex_flow": null,
      "grid_area": null,
      "grid_auto_columns": null,
      "grid_auto_flow": null,
      "grid_auto_rows": null,
      "grid_column": null,
      "grid_gap": null,
      "grid_row": null,
      "grid_template_areas": null,
      "grid_template_columns": null,
      "grid_template_rows": null,
      "height": null,
      "justify_content": null,
      "justify_items": null,
      "left": null,
      "margin": null,
      "max_height": null,
      "max_width": null,
      "min_height": null,
      "min_width": null,
      "object_fit": null,
      "object_position": null,
      "order": null,
      "overflow": null,
      "overflow_x": null,
      "overflow_y": null,
      "padding": null,
      "right": null,
      "top": null,
      "visibility": null,
      "width": null
     }
    },
    "c9441b93fa4a4c44b1e82867143a7eda": {
     "model_module": "@jupyter-widgets/controls",
     "model_module_version": "1.5.0",
     "model_name": "HTMLModel",
     "state": {
      "_dom_classes": [],
      "_model_module": "@jupyter-widgets/controls",
      "_model_module_version": "1.5.0",
      "_model_name": "HTMLModel",
      "_view_count": null,
      "_view_module": "@jupyter-widgets/controls",
      "_view_module_version": "1.5.0",
      "_view_name": "HTMLView",
      "description": "",
      "description_tooltip": null,
      "layout": "IPY_MODEL_959dd79165c045a6a96b19aaa810989d",
      "placeholder": "​",
      "style": "IPY_MODEL_2477a3068be849a886eb37221aaa69f6",
      "value": " 11758/11758 [00:03&lt;00:00, 3947.68 examples/s]"
     }
    },
    "cde39602589e40a786f84217ff08ba8f": {
     "model_module": "@jupyter-widgets/base",
     "model_module_version": "1.2.0",
     "model_name": "LayoutModel",
     "state": {
      "_model_module": "@jupyter-widgets/base",
      "_model_module_version": "1.2.0",
      "_model_name": "LayoutModel",
      "_view_count": null,
      "_view_module": "@jupyter-widgets/base",
      "_view_module_version": "1.2.0",
      "_view_name": "LayoutView",
      "align_content": null,
      "align_items": null,
      "align_self": null,
      "border": null,
      "bottom": null,
      "display": null,
      "flex": null,
      "flex_flow": null,
      "grid_area": null,
      "grid_auto_columns": null,
      "grid_auto_flow": null,
      "grid_auto_rows": null,
      "grid_column": null,
      "grid_gap": null,
      "grid_row": null,
      "grid_template_areas": null,
      "grid_template_columns": null,
      "grid_template_rows": null,
      "height": null,
      "justify_content": null,
      "justify_items": null,
      "left": null,
      "margin": null,
      "max_height": null,
      "max_width": null,
      "min_height": null,
      "min_width": null,
      "object_fit": null,
      "object_position": null,
      "order": null,
      "overflow": null,
      "overflow_x": null,
      "overflow_y": null,
      "padding": null,
      "right": null,
      "top": null,
      "visibility": null,
      "width": null
     }
    },
    "e155ff3d30a34086929725a2d8cb6866": {
     "model_module": "@jupyter-widgets/controls",
     "model_module_version": "1.5.0",
     "model_name": "DescriptionStyleModel",
     "state": {
      "_model_module": "@jupyter-widgets/controls",
      "_model_module_version": "1.5.0",
      "_model_name": "DescriptionStyleModel",
      "_view_count": null,
      "_view_module": "@jupyter-widgets/base",
      "_view_module_version": "1.2.0",
      "_view_name": "StyleView",
      "description_width": ""
     }
    },
    "e3b7927de286424ea8d14dbfdc03222b": {
     "model_module": "@jupyter-widgets/controls",
     "model_module_version": "1.5.0",
     "model_name": "ProgressStyleModel",
     "state": {
      "_model_module": "@jupyter-widgets/controls",
      "_model_module_version": "1.5.0",
      "_model_name": "ProgressStyleModel",
      "_view_count": null,
      "_view_module": "@jupyter-widgets/base",
      "_view_module_version": "1.2.0",
      "_view_name": "StyleView",
      "bar_color": null,
      "description_width": ""
     }
    },
    "ec2af10498fa478da3897815faa52532": {
     "model_module": "@jupyter-widgets/controls",
     "model_module_version": "1.5.0",
     "model_name": "HBoxModel",
     "state": {
      "_dom_classes": [],
      "_model_module": "@jupyter-widgets/controls",
      "_model_module_version": "1.5.0",
      "_model_name": "HBoxModel",
      "_view_count": null,
      "_view_module": "@jupyter-widgets/controls",
      "_view_module_version": "1.5.0",
      "_view_name": "HBoxView",
      "box_style": "",
      "children": [
       "IPY_MODEL_adcd6cc9e61e494eb8f62192c09f3ad6",
       "IPY_MODEL_470731ac5a6549b9bf56c76f8c60854f",
       "IPY_MODEL_16fa1db7c8c3413a809da7b4beb060c5"
      ],
      "layout": "IPY_MODEL_3d789263f6f242d58fb0f095f646c085"
     }
    },
    "ed23306cbb92429296bb082440cd9309": {
     "model_module": "@jupyter-widgets/base",
     "model_module_version": "1.2.0",
     "model_name": "LayoutModel",
     "state": {
      "_model_module": "@jupyter-widgets/base",
      "_model_module_version": "1.2.0",
      "_model_name": "LayoutModel",
      "_view_count": null,
      "_view_module": "@jupyter-widgets/base",
      "_view_module_version": "1.2.0",
      "_view_name": "LayoutView",
      "align_content": null,
      "align_items": null,
      "align_self": null,
      "border": null,
      "bottom": null,
      "display": null,
      "flex": null,
      "flex_flow": null,
      "grid_area": null,
      "grid_auto_columns": null,
      "grid_auto_flow": null,
      "grid_auto_rows": null,
      "grid_column": null,
      "grid_gap": null,
      "grid_row": null,
      "grid_template_areas": null,
      "grid_template_columns": null,
      "grid_template_rows": null,
      "height": null,
      "justify_content": null,
      "justify_items": null,
      "left": null,
      "margin": null,
      "max_height": null,
      "max_width": null,
      "min_height": null,
      "min_width": null,
      "object_fit": null,
      "object_position": null,
      "order": null,
      "overflow": null,
      "overflow_x": null,
      "overflow_y": null,
      "padding": null,
      "right": null,
      "top": null,
      "visibility": null,
      "width": null
     }
    },
    "f2824675896c4d2eafa46e00dce346fa": {
     "model_module": "@jupyter-widgets/controls",
     "model_module_version": "1.5.0",
     "model_name": "DescriptionStyleModel",
     "state": {
      "_model_module": "@jupyter-widgets/controls",
      "_model_module_version": "1.5.0",
      "_model_name": "DescriptionStyleModel",
      "_view_count": null,
      "_view_module": "@jupyter-widgets/base",
      "_view_module_version": "1.2.0",
      "_view_name": "StyleView",
      "description_width": ""
     }
    },
    "f52080b2e3f2485e81ff9acbda80a4b4": {
     "model_module": "@jupyter-widgets/base",
     "model_module_version": "1.2.0",
     "model_name": "LayoutModel",
     "state": {
      "_model_module": "@jupyter-widgets/base",
      "_model_module_version": "1.2.0",
      "_model_name": "LayoutModel",
      "_view_count": null,
      "_view_module": "@jupyter-widgets/base",
      "_view_module_version": "1.2.0",
      "_view_name": "LayoutView",
      "align_content": null,
      "align_items": null,
      "align_self": null,
      "border": null,
      "bottom": null,
      "display": null,
      "flex": null,
      "flex_flow": null,
      "grid_area": null,
      "grid_auto_columns": null,
      "grid_auto_flow": null,
      "grid_auto_rows": null,
      "grid_column": null,
      "grid_gap": null,
      "grid_row": null,
      "grid_template_areas": null,
      "grid_template_columns": null,
      "grid_template_rows": null,
      "height": null,
      "justify_content": null,
      "justify_items": null,
      "left": null,
      "margin": null,
      "max_height": null,
      "max_width": null,
      "min_height": null,
      "min_width": null,
      "object_fit": null,
      "object_position": null,
      "order": null,
      "overflow": null,
      "overflow_x": null,
      "overflow_y": null,
      "padding": null,
      "right": null,
      "top": null,
      "visibility": null,
      "width": null
     }
    },
    "f9d6fb11f15a4ae2ae26376d47ad45f6": {
     "model_module": "@jupyter-widgets/controls",
     "model_module_version": "1.5.0",
     "model_name": "HBoxModel",
     "state": {
      "_dom_classes": [],
      "_model_module": "@jupyter-widgets/controls",
      "_model_module_version": "1.5.0",
      "_model_name": "HBoxModel",
      "_view_count": null,
      "_view_module": "@jupyter-widgets/controls",
      "_view_module_version": "1.5.0",
      "_view_name": "HBoxView",
      "box_style": "",
      "children": [
       "IPY_MODEL_bf8b1d1b01e949e886fb42798da2c99c",
       "IPY_MODEL_9021c75c0d5a461a914d5b6a4b8e5ae5",
       "IPY_MODEL_59653ea68b3a4fa9a0445a6bfd2b2119"
      ],
      "layout": "IPY_MODEL_f52080b2e3f2485e81ff9acbda80a4b4"
     }
    },
    "ff82cb86c931451797ed846166380cbb": {
     "model_module": "@jupyter-widgets/base",
     "model_module_version": "1.2.0",
     "model_name": "LayoutModel",
     "state": {
      "_model_module": "@jupyter-widgets/base",
      "_model_module_version": "1.2.0",
      "_model_name": "LayoutModel",
      "_view_count": null,
      "_view_module": "@jupyter-widgets/base",
      "_view_module_version": "1.2.0",
      "_view_name": "LayoutView",
      "align_content": null,
      "align_items": null,
      "align_self": null,
      "border": null,
      "bottom": null,
      "display": null,
      "flex": null,
      "flex_flow": null,
      "grid_area": null,
      "grid_auto_columns": null,
      "grid_auto_flow": null,
      "grid_auto_rows": null,
      "grid_column": null,
      "grid_gap": null,
      "grid_row": null,
      "grid_template_areas": null,
      "grid_template_columns": null,
      "grid_template_rows": null,
      "height": null,
      "justify_content": null,
      "justify_items": null,
      "left": null,
      "margin": null,
      "max_height": null,
      "max_width": null,
      "min_height": null,
      "min_width": null,
      "object_fit": null,
      "object_position": null,
      "order": null,
      "overflow": null,
      "overflow_x": null,
      "overflow_y": null,
      "padding": null,
      "right": null,
      "top": null,
      "visibility": null,
      "width": null
     }
    }
   }
  }
 },
 "nbformat": 4,
 "nbformat_minor": 4
}
