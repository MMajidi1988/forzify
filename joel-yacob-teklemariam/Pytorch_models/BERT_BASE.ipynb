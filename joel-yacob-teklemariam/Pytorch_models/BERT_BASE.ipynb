{
 "cells": [
  {
   "cell_type": "code",
   "execution_count": 1,
   "metadata": {
    "colab": {
     "base_uri": "https://localhost:8080/"
    },
    "id": "SLzVi8Kp9pVm",
    "outputId": "aecd2c69-ffd5-419c-cd3e-73baace250b2"
   },
   "outputs": [],
   "source": [
    "#!pip3 install accelerate transformers[pytorch] PyTorch optuna wandb datasets"
   ]
  },
  {
   "cell_type": "code",
   "execution_count": 2,
   "metadata": {
    "id": "VtpDhi8-ZWHF"
   },
   "outputs": [
    {
     "name": "stderr",
     "output_type": "stream",
     "text": [
      "/net/fs-2/scale/OrionStore/Scratch/joteklem/MyCondaEnvironments/Python3.11/orion_env/lib/python3.11/site-packages/tqdm/auto.py:21: TqdmWarning: IProgress not found. Please update jupyter and ipywidgets. See https://ipywidgets.readthedocs.io/en/stable/user_install.html\n",
      "  from .autonotebook import tqdm as notebook_tqdm\n",
      "Failed to detect the name of this notebook, you can set it manually with the WANDB_NOTEBOOK_NAME environment variable to enable code saving.\n",
      "\u001b[34m\u001b[1mwandb\u001b[0m: Currently logged in as: \u001b[33mjoelyacob91\u001b[0m (\u001b[33mmaster-2024\u001b[0m). Use \u001b[1m`wandb login --relogin`\u001b[0m to force relogin\n",
      "2024-04-18 12:17:48.354968: I tensorflow/core/platform/cpu_feature_guard.cc:182] This TensorFlow binary is optimized to use available CPU instructions in performance-critical operations.\n",
      "To enable the following instructions: SSE4.1 SSE4.2 AVX AVX2 FMA, in other operations, rebuild TensorFlow with the appropriate compiler flags.\n"
     ]
    }
   ],
   "source": [
    "import numpy as np\n",
    "import pandas as pd\n",
    "import matplotlib.pyplot as plt\n",
    "%matplotlib inline\n",
    "import seaborn as sns\n",
    "import optuna \n",
    "from optuna import trial\n",
    "import random\n",
    "import os \n",
    "import pickle\n",
    "\n",
    "import torch.cuda\n",
    "import torch\n",
    "from torch import nn\n",
    "\n",
    "import wandb\n",
    "wandb.login()\n",
    "\n",
    "from transformers import AutoTokenizer, AutoModelForSequenceClassification\n",
    "from transformers import TrainingArguments, Trainer\n",
    "from transformers import TrainerCallback\n",
    "from transformers import set_seed\n",
    "\n",
    "from sklearn.metrics import (accuracy_score,\n",
    "                            f1_score,\n",
    "                            precision_score,\n",
    "                            recall_score,\n",
    "                            precision_recall_curve,\n",
    "                            auc, \n",
    "                            confusion_matrix,\n",
    "                            ConfusionMatrixDisplay,\n",
    "                            balanced_accuracy_score,\n",
    "                            classification_report)\n",
    "\n",
    "from sklearn.model_selection import train_test_split\n",
    "\n",
    "from datasets import Dataset, DatasetDict\n",
    "from accelerate import Accelerator\n",
    "from numpy.random import seed\n",
    "from lightning.pytorch import seed_everything\n",
    "import time"
   ]
  },
  {
   "cell_type": "code",
   "execution_count": 3,
   "metadata": {
    "id": "7jfhuu0IZWHI"
   },
   "outputs": [],
   "source": [
    "model_ckpt = \"bert-base-uncased\""
   ]
  },
  {
   "cell_type": "code",
   "execution_count": 4,
   "metadata": {
    "id": "_8XsTvaVLZRg"
   },
   "outputs": [],
   "source": [
    "def model_init():\n",
    "    device = torch.device(\"cuda\" if torch.cuda.is_available() else \"cpu\")\n",
    "    model = AutoModelForSequenceClassification.from_pretrained(model_ckpt, num_labels=3)\n",
    "    model.to(device)\n",
    "    return model"
   ]
  },
  {
   "cell_type": "code",
   "execution_count": 5,
   "metadata": {
    "colab": {
     "base_uri": "https://localhost:8080/"
    },
    "id": "_U-kewIsLsRq",
    "outputId": "94123c8a-5ece-43df-b8d7-caf837b24c91"
   },
   "outputs": [
    {
     "name": "stderr",
     "output_type": "stream",
     "text": [
      "Some weights of BertForSequenceClassification were not initialized from the model checkpoint at bert-base-uncased and are newly initialized: ['classifier.bias', 'classifier.weight']\n",
      "You should probably TRAIN this model on a down-stream task to be able to use it for predictions and inference.\n"
     ]
    },
    {
     "data": {
      "text/plain": [
       "BertForSequenceClassification(\n",
       "  (bert): BertModel(\n",
       "    (embeddings): BertEmbeddings(\n",
       "      (word_embeddings): Embedding(30522, 768, padding_idx=0)\n",
       "      (position_embeddings): Embedding(512, 768)\n",
       "      (token_type_embeddings): Embedding(2, 768)\n",
       "      (LayerNorm): LayerNorm((768,), eps=1e-12, elementwise_affine=True)\n",
       "      (dropout): Dropout(p=0.1, inplace=False)\n",
       "    )\n",
       "    (encoder): BertEncoder(\n",
       "      (layer): ModuleList(\n",
       "        (0-11): 12 x BertLayer(\n",
       "          (attention): BertAttention(\n",
       "            (self): BertSelfAttention(\n",
       "              (query): Linear(in_features=768, out_features=768, bias=True)\n",
       "              (key): Linear(in_features=768, out_features=768, bias=True)\n",
       "              (value): Linear(in_features=768, out_features=768, bias=True)\n",
       "              (dropout): Dropout(p=0.1, inplace=False)\n",
       "            )\n",
       "            (output): BertSelfOutput(\n",
       "              (dense): Linear(in_features=768, out_features=768, bias=True)\n",
       "              (LayerNorm): LayerNorm((768,), eps=1e-12, elementwise_affine=True)\n",
       "              (dropout): Dropout(p=0.1, inplace=False)\n",
       "            )\n",
       "          )\n",
       "          (intermediate): BertIntermediate(\n",
       "            (dense): Linear(in_features=768, out_features=3072, bias=True)\n",
       "            (intermediate_act_fn): GELUActivation()\n",
       "          )\n",
       "          (output): BertOutput(\n",
       "            (dense): Linear(in_features=3072, out_features=768, bias=True)\n",
       "            (LayerNorm): LayerNorm((768,), eps=1e-12, elementwise_affine=True)\n",
       "            (dropout): Dropout(p=0.1, inplace=False)\n",
       "          )\n",
       "        )\n",
       "      )\n",
       "    )\n",
       "    (pooler): BertPooler(\n",
       "      (dense): Linear(in_features=768, out_features=768, bias=True)\n",
       "      (activation): Tanh()\n",
       "    )\n",
       "  )\n",
       "  (dropout): Dropout(p=0.1, inplace=False)\n",
       "  (classifier): Linear(in_features=768, out_features=3, bias=True)\n",
       ")"
      ]
     },
     "execution_count": 5,
     "metadata": {},
     "output_type": "execute_result"
    }
   ],
   "source": [
    "model_init()"
   ]
  },
  {
   "cell_type": "code",
   "execution_count": 6,
   "metadata": {
    "colab": {
     "base_uri": "https://localhost:8080/"
    },
    "id": "89oNEKxtZWHJ",
    "outputId": "d5842bff-f368-4eca-936b-5cfcbbe62c41"
   },
   "outputs": [
    {
     "name": "stdout",
     "output_type": "stream",
     "text": [
      "Thu Apr 18 12:17:56 2024       \n",
      "+---------------------------------------------------------------------------------------+\n",
      "| NVIDIA-SMI 535.154.05             Driver Version: 535.154.05   CUDA Version: 12.2     |\n",
      "|-----------------------------------------+----------------------+----------------------+\n",
      "| GPU  Name                 Persistence-M | Bus-Id        Disp.A | Volatile Uncorr. ECC |\n",
      "| Fan  Temp   Perf          Pwr:Usage/Cap |         Memory-Usage | GPU-Util  Compute M. |\n",
      "|                                         |                      |               MIG M. |\n",
      "|=========================================+======================+======================|\n",
      "|   0  Quadro RTX 8000                On  | 00000000:81:00.0 Off |                  Off |\n",
      "| 33%   30C    P2              52W / 260W |    637MiB / 49152MiB |     36%      Default |\n",
      "|                                         |                      |                  N/A |\n",
      "+-----------------------------------------+----------------------+----------------------+\n",
      "|   1  Quadro RTX 8000                On  | 00000000:A1:00.0 Off |                  Off |\n",
      "| 33%   29C    P8              12W / 260W |      0MiB / 49152MiB |      0%      Default |\n",
      "|                                         |                      |                  N/A |\n",
      "+-----------------------------------------+----------------------+----------------------+\n",
      "                                                                                         \n",
      "+---------------------------------------------------------------------------------------+\n",
      "| Processes:                                                                            |\n",
      "|  GPU   GI   CI        PID   Type   Process name                            GPU Memory |\n",
      "|        ID   ID                                                             Usage      |\n",
      "|=======================================================================================|\n",
      "|    0   N/A  N/A     45707      C   ...nts/Python3.11/orion_env/bin/python      634MiB |\n",
      "+---------------------------------------------------------------------------------------+\n"
     ]
    }
   ],
   "source": [
    "!nvidia-smi"
   ]
  },
  {
   "cell_type": "code",
   "execution_count": 7,
   "metadata": {
    "colab": {
     "base_uri": "https://localhost:8080/"
    },
    "id": "w5uQGOyYZWHK",
    "outputId": "50a3dcec-3cf1-4407-baf4-cea4aa7f9205"
   },
   "outputs": [
    {
     "name": "stdout",
     "output_type": "stream",
     "text": [
      "1\n"
     ]
    }
   ],
   "source": [
    "print(torch.cuda.device_count())"
   ]
  },
  {
   "cell_type": "code",
   "execution_count": 8,
   "metadata": {},
   "outputs": [
    {
     "name": "stdout",
     "output_type": "stream",
     "text": [
      "/net/fs-2/scale/OrionStore/Home/joteklem/Pytorch_models\n"
     ]
    }
   ],
   "source": [
    "print(os.getcwd())"
   ]
  },
  {
   "cell_type": "code",
   "execution_count": 9,
   "metadata": {},
   "outputs": [
    {
     "data": {
      "text/plain": [
       "DatasetDict({\n",
       "    train: Dataset({\n",
       "        features: ['text', 'labels', 'input_ids', 'token_type_ids', 'attention_mask'],\n",
       "        num_rows: 10078\n",
       "    })\n",
       "    validation: Dataset({\n",
       "        features: ['text', 'labels', 'input_ids', 'token_type_ids', 'attention_mask'],\n",
       "        num_rows: 3360\n",
       "    })\n",
       "    test: Dataset({\n",
       "        features: ['text', 'labels', 'input_ids', 'token_type_ids', 'attention_mask'],\n",
       "        num_rows: 3360\n",
       "    })\n",
       "})"
      ]
     },
     "execution_count": 9,
     "metadata": {},
     "output_type": "execute_result"
    }
   ],
   "source": [
    "with open('/net/fs-2/scale/OrionStore/Home/joteklem/Preprocessing/BERT_dataset_15.pkl', 'rb') as f:\n",
    "    encoded_dataset_15 = pickle.load(f)\n",
    "encoded_dataset_15"
   ]
  },
  {
   "cell_type": "code",
   "execution_count": 10,
   "metadata": {},
   "outputs": [
    {
     "data": {
      "text/plain": [
       "DatasetDict({\n",
       "    train: Dataset({\n",
       "        features: ['text', 'labels', 'input_ids', 'token_type_ids', 'attention_mask'],\n",
       "        num_rows: 10128\n",
       "    })\n",
       "    validation: Dataset({\n",
       "        features: ['text', 'labels', 'input_ids', 'token_type_ids', 'attention_mask'],\n",
       "        num_rows: 3376\n",
       "    })\n",
       "    test: Dataset({\n",
       "        features: ['text', 'labels', 'input_ids', 'token_type_ids', 'attention_mask'],\n",
       "        num_rows: 3376\n",
       "    })\n",
       "})"
      ]
     },
     "execution_count": 10,
     "metadata": {},
     "output_type": "execute_result"
    }
   ],
   "source": [
    "with open('/net/fs-2/scale/OrionStore/Home/joteklem/Preprocessing/BERT_dataset_30.pkl', 'rb') as f:\n",
    "    encoded_dataset_30 = pickle.load(f)\n",
    "encoded_dataset_30"
   ]
  },
  {
   "cell_type": "code",
   "execution_count": 11,
   "metadata": {},
   "outputs": [],
   "source": [
    "tokenizer = AutoTokenizer.from_pretrained(model_ckpt)"
   ]
  },
  {
   "cell_type": "code",
   "execution_count": 12,
   "metadata": {},
   "outputs": [],
   "source": [
    "#encoded_df_15 = pd.read_csv('/net/fs-2/scale/OrionStore/Home/joteklem/Datasets/all_leagues_df_15sec.csv')\n",
    "#encoded_df_15['encoded_label'] = encoded_df_15['label'].astype('category').cat.codes\n",
    "#encoded_df_15 = encoded_df_15[['ASR_text', 'encoded_label']]\n",
    "#encoded_df_15.columns"
   ]
  },
  {
   "cell_type": "code",
   "execution_count": 13,
   "metadata": {},
   "outputs": [],
   "source": [
    "#encoded_df_30 = pd.read_csv('/net/fs-2/scale/OrionStore/Home/joteklem/Datasets/all_leagues_df_30sec.csv')\n",
    "#encoded_df_30['encoded_label'] = encoded_df_30['label'].astype('category').cat.codes\n",
    "#encoded_df_30 = encoded_df_30[['ASR_text', 'encoded_label']]\n",
    "#encoded_df_30.columns"
   ]
  },
  {
   "cell_type": "code",
   "execution_count": 14,
   "metadata": {
    "colab": {
     "base_uri": "https://localhost:8080/"
    },
    "id": "mcEGMOpvfA86",
    "outputId": "ae20acb3-96b6-425f-f34e-d86e0588fd95"
   },
   "outputs": [],
   "source": [
    "#class_weights_15 = (1 - (encoded_df_15['encoded_label'].value_counts().sort_index() / len(encoded_df_15['encoded_label']))).values\n",
    "#class_weights_15"
   ]
  },
  {
   "cell_type": "code",
   "execution_count": 15,
   "metadata": {
    "colab": {
     "base_uri": "https://localhost:8080/"
    },
    "id": "mcEGMOpvfA86",
    "outputId": "ae20acb3-96b6-425f-f34e-d86e0588fd95"
   },
   "outputs": [],
   "source": [
    "#class_weights_30 = (1 - (encoded_df_30['encoded_label'].value_counts().sort_index() / len(encoded_df_30['encoded_label']))).values\n",
    "#class_weights_30"
   ]
  },
  {
   "cell_type": "code",
   "execution_count": 16,
   "metadata": {},
   "outputs": [],
   "source": [
    "# Since they are the approximately the same we can have the same class weight for bothn of the classes."
   ]
  },
  {
   "cell_type": "code",
   "execution_count": 17,
   "metadata": {
    "colab": {
     "base_uri": "https://localhost:8080/"
    },
    "id": "37lq987JfUha",
    "outputId": "3a360e99-faa6-4adb-bbcf-4742748e5820"
   },
   "outputs": [],
   "source": [
    "#class_weights = class_weights_15\n",
    "#class_weights = torch.from_numpy(class_weights_15).float().to('cuda')\n",
    "#class_weights"
   ]
  },
  {
   "cell_type": "code",
   "execution_count": 18,
   "metadata": {
    "id": "IRWJYLpkiSAC"
   },
   "outputs": [],
   "source": [
    "#class WeightedLossTrainer(Trainer):\n",
    "#  def Loss(self, model, input, return_outputs=False):\n",
    "\n",
    "    # Feed input to model and extract logits\n",
    "#    outputs = model(**inputs)\n",
    "#    logits = outputs.get('logits')\n",
    "\n",
    "    # Extract labels\n",
    "#    labels = inputs.get('labels')\n",
    "\n",
    "    # Define loss function with class weights\n",
    "#    loss_func = nn.CrossEntropyLoss(weight=class_weights)\n",
    "\n",
    "    # Compute loss\n",
    "#    loss = loss_func(logits, labels)\n",
    "\n",
    "#    return (loss, ouputs) if return_outputs else loss"
   ]
  },
  {
   "cell_type": "code",
   "execution_count": 19,
   "metadata": {
    "id": "aAvk7gyvZWHU"
   },
   "outputs": [],
   "source": [
    "def compute_metrics(eval_pred):\n",
    "    predictions, labels = eval_pred\n",
    "    preds = predictions.argmax(-1)\n",
    "\n",
    "    # F1-Score\n",
    "    f1 = f1_score(labels, preds, average=\"weighted\", zero_division=0)\n",
    "    f1_macro = f1_score(labels, preds, average=\"macro\", zero_division=0)\n",
    "    f1_micro = f1_score(labels, preds, average=\"micro\", zero_division=0)\n",
    "\n",
    "    # Precision\n",
    "    #precision = precision_score(labels, preds, average='weighted')\n",
    "    #precision_macro = precision_score(labels, preds, average='macro')\n",
    "    #precision_micro = precision_score(labels, preds, average='micro')\n",
    "\n",
    "    # Recall\n",
    "    #recall = recall_score(labels, preds, average='weighted')\n",
    "    #recall_macro = recall_score(labels, preds, average='macro')\n",
    "    #recall_micro = recall_score(labels, preds, average='micro')\n",
    "\n",
    "    # Accuracy\n",
    "    acc = accuracy_score(labels, preds)\n",
    "    bal_acc = balanced_accuracy_score(labels, preds)\n",
    "\n",
    "    # Classification report \n",
    "    class_report = classification_report(labels, preds, output_dict=True, zero_division=0)\n",
    "    \n",
    "    return {\"Accuracy\": acc,\n",
    "            \"Balanced accuracy\": bal_acc,\n",
    "            \"F1 weighted\": f1,\n",
    "            'F1 macro':f1_macro,\n",
    "            'F1 micro':f1_micro,\n",
    "            #'Recall': recall,\n",
    "            #'Precision': precision,\n",
    "            \"Classification Report\": class_report}"
   ]
  },
  {
   "cell_type": "code",
   "execution_count": 20,
   "metadata": {},
   "outputs": [],
   "source": [
    "class LossTrackingCallback(TrainerCallback):\n",
    "    \"\"\"Logs aggregate metrics after each epoch.\"\"\"\n",
    "    def __init__(self):\n",
    "        super().__init__()\n",
    "        # Initialize lists to store all values temporarily\n",
    "        self._training_losses = []\n",
    "        self._validation_losses = []\n",
    "        # Initialize variables to store final or average values\n",
    "        self.final_training_loss = None\n",
    "        self.final_validation_loss = None\n",
    "\n",
    "    def on_epoch_end(self, args, state, control, **kwargs):\n",
    "        # Compute final or average losses here and store them in instance variables\n",
    "        if self._training_losses:\n",
    "            self.final_training_loss = self._training_losses[-1] \n",
    "        if self._validation_losses:\n",
    "            self.final_validation_loss = self._validation_losses[-1]  \n",
    "\n",
    "    def on_log(self, args, state, control, logs=None, **kwargs):\n",
    "        # Temporarily store all loss values\n",
    "        if 'loss' in logs:\n",
    "            self._training_losses.append(logs['loss'])\n",
    "        if 'eval_loss' in logs:\n",
    "            self._validation_losses.append(logs['eval_loss'])\n",
    "\n",
    "loss_metric = LossTrackingCallback()"
   ]
  },
  {
   "cell_type": "code",
   "execution_count": 21,
   "metadata": {},
   "outputs": [],
   "source": [
    "class OptunaCallback(TrainerCallback):\n",
    "    def __init__(self, trial):\n",
    "        self.trial = trial\n",
    "\n",
    "    def on_evaluate(self, args, state, control, metrics=None, **kwargs):\n",
    "        # Report the intermediate value to Optuna\n",
    "        self.trial.report(metrics['eval_F1 macro'], step=state.epoch)\n",
    "        # Check if the current trial should be pruned\n",
    "        if self.trial.should_prune():\n",
    "            raise optuna.exceptions.TrialPruned()"
   ]
  },
  {
   "cell_type": "code",
   "execution_count": 22,
   "metadata": {},
   "outputs": [],
   "source": [
    "\n",
    "def objective_closure(data):\n",
    "    \"\"\"\n",
    "    A closure for the objective function to include the dataset.\n",
    "    \"\"\"\n",
    "    def objective(trial):\n",
    "        \n",
    "        wandb.init(project='BERT_BASE', config=trial.params, name=f\"trial-{trial.number}\")\n",
    "         \n",
    "        print(f\"Starting trial {trial.number}\")\n",
    "        \n",
    "        # Hyperparameter suggestions\n",
    "        learning_rate = trial.suggest_float(\"learning_rate\", 1e-5, 1e-3, log=True)\n",
    "        per_device_train_batch_size = trial.suggest_categorical(\"per_device_train_batch_size\", [8, 16, 32])\n",
    "        weight_decay = trial.suggest_float(\"weight_decay\", 0.0, 0.3)\n",
    "        num_train_epochs = trial.suggest_categorical('num_train_epochs', [2, 3, 4, 5])\n",
    "        warmup_steps = trial.suggest_int('warmup_steps', 0, 500)\n",
    "    \n",
    "        model_name = f\"{model_ckpt}-finetuned-ASR_text\"\n",
    "        \n",
    "        # Setup training arguments\n",
    "        training_args = TrainingArguments(\n",
    "            output_dir=model_name,  \n",
    "            num_train_epochs=num_train_epochs,\n",
    "            learning_rate=learning_rate,\n",
    "            per_device_train_batch_size=per_device_train_batch_size,\n",
    "            per_device_eval_batch_size=per_device_train_batch_size,\n",
    "            weight_decay=weight_decay,\n",
    "            warmup_steps=warmup_steps,\n",
    "            evaluation_strategy=\"epoch\",\n",
    "            gradient_accumulation_steps=2,\n",
    "            fp16=True,\n",
    "            disable_tqdm=False,\n",
    "            logging_steps=len(data['train']) // per_device_train_batch_size,\n",
    "            log_level=\"error\",\n",
    "            report_to=\"wandb\", \n",
    "            seed=23\n",
    "        )\n",
    "    \n",
    "        # Initialize the Trainer\n",
    "        trainer = Trainer(\n",
    "            model_init=model_init,\n",
    "            args=training_args,\n",
    "            compute_metrics=compute_metrics,\n",
    "            train_dataset=data['train'],\n",
    "            eval_dataset=data['validation'],\n",
    "            callbacks=[OptunaCallback(trial),loss_metric],\n",
    "            tokenizer=tokenizer,\n",
    "        )\n",
    "    \n",
    "        # Train the model\n",
    "        trainer.train()\n",
    "    \n",
    "        # Evaluate the model\n",
    "        eval_results = trainer.evaluate()\n",
    "\n",
    "        # Retrieve metrics for multi-objective optimization\n",
    "        #f1_weighted = eval_results.get('eval_F1 weighted')\n",
    "        #trial.set_user_attr('eval_F1 weighted',f1_weighted)\n",
    "\n",
    "        f1_macro = eval_results.get('eval_F1 macro')\n",
    "        trial.set_user_attr('eval_F1 macro',f1_macro)\n",
    "        \n",
    "        training_loss = loss_metric.final_training_loss\n",
    "        validation_loss = loss_metric.final_validation_loss\n",
    "\n",
    "        # Check if the current trial is the best\n",
    "        if trial.should_prune():\n",
    "            raise optuna.exceptions.TrialPruned()\n",
    "\n",
    "        print(f\"Completed trial {trial.number}\")\n",
    "\n",
    "        wandb.log({\"Weighted F1 score\": f1_macro})\n",
    "        wandb.log({\"Training loss\":training_loss, \"Validation loss\":validation_loss})\n",
    "            \n",
    "        wandb.finish()\n",
    "        \n",
    "        # Return the primary metric for optimization\n",
    "        return f1_macro\n",
    "     \n",
    "    return objective"
   ]
  },
  {
   "cell_type": "code",
   "execution_count": 23,
   "metadata": {},
   "outputs": [
    {
     "name": "stderr",
     "output_type": "stream",
     "text": [
      "[I 2024-04-18 12:17:58,044] A new study created in RDB with name: BERT_BASE_15_study\n",
      "[I 2024-04-18 12:17:58,896] A new study created in RDB with name: BERT_BASE_30_study\n"
     ]
    }
   ],
   "source": [
    "# Seed\n",
    "sampler = optuna.samplers.TPESampler(seed=42)\n",
    "\n",
    "# Enable Optuna's default logging\n",
    "optuna.logging.enable_default_handler()\n",
    "\n",
    "# Create the study with a pruner\n",
    "pruner = optuna.pruners.MedianPruner()\n",
    "\n",
    "study_15 = optuna.create_study(\n",
    "    direction=\"maximize\",\n",
    "    study_name='BERT_BASE_15_study',\n",
    "    storage='sqlite:///BERT_BASE_15.db',\n",
    "    pruner=pruner, sampler=sampler\n",
    ")\n",
    "\n",
    "study_30 = optuna.create_study(\n",
    "    direction=\"maximize\",\n",
    "    study_name='BERT_BASE_30_study',\n",
    "    storage='sqlite:///BERT_BASE_30.db',\n",
    "    pruner=pruner, sampler=sampler\n",
    ")"
   ]
  },
  {
   "cell_type": "code",
   "execution_count": 24,
   "metadata": {},
   "outputs": [
    {
     "data": {
      "text/html": [
       "wandb version 0.16.6 is available!  To upgrade, please run:\n",
       " $ pip install wandb --upgrade"
      ],
      "text/plain": [
       "<IPython.core.display.HTML object>"
      ]
     },
     "metadata": {},
     "output_type": "display_data"
    },
    {
     "data": {
      "text/html": [
       "Tracking run with wandb version 0.16.4"
      ],
      "text/plain": [
       "<IPython.core.display.HTML object>"
      ]
     },
     "metadata": {},
     "output_type": "display_data"
    },
    {
     "data": {
      "text/html": [
       "Run data is saved locally in <code>/net/fs-2/scale/OrionStore/Home/joteklem/Pytorch_models/wandb/run-20240418_121758-699iyar5</code>"
      ],
      "text/plain": [
       "<IPython.core.display.HTML object>"
      ]
     },
     "metadata": {},
     "output_type": "display_data"
    },
    {
     "data": {
      "text/html": [
       "Syncing run <strong><a href='https://wandb.ai/master-2024/BERT_BASE/runs/699iyar5' target=\"_blank\">trial-0</a></strong> to <a href='https://wandb.ai/master-2024/BERT_BASE' target=\"_blank\">Weights & Biases</a> (<a href='https://wandb.me/run' target=\"_blank\">docs</a>)<br/>"
      ],
      "text/plain": [
       "<IPython.core.display.HTML object>"
      ]
     },
     "metadata": {},
     "output_type": "display_data"
    },
    {
     "data": {
      "text/html": [
       " View project at <a href='https://wandb.ai/master-2024/BERT_BASE' target=\"_blank\">https://wandb.ai/master-2024/BERT_BASE</a>"
      ],
      "text/plain": [
       "<IPython.core.display.HTML object>"
      ]
     },
     "metadata": {},
     "output_type": "display_data"
    },
    {
     "data": {
      "text/html": [
       " View run at <a href='https://wandb.ai/master-2024/BERT_BASE/runs/699iyar5' target=\"_blank\">https://wandb.ai/master-2024/BERT_BASE/runs/699iyar5</a>"
      ],
      "text/plain": [
       "<IPython.core.display.HTML object>"
      ]
     },
     "metadata": {},
     "output_type": "display_data"
    },
    {
     "name": "stdout",
     "output_type": "stream",
     "text": [
      "Starting trial 0\n"
     ]
    },
    {
     "name": "stderr",
     "output_type": "stream",
     "text": [
      "/net/fs-2/scale/OrionStore/Scratch/joteklem/MyCondaEnvironments/Python3.11/orion_env/lib/python3.11/site-packages/accelerate/accelerator.py:432: FutureWarning: Passing the following arguments to `Accelerator` is deprecated and will be removed in version 1.0 of Accelerate: dict_keys(['dispatch_batches', 'split_batches', 'even_batches', 'use_seedable_sampler']). Please pass an `accelerate.DataLoaderConfiguration` instead: \n",
      "dataloader_config = DataLoaderConfiguration(dispatch_batches=None, split_batches=False, even_batches=True, use_seedable_sampler=True)\n",
      "  warnings.warn(\n",
      "Detected kernel version 3.10.0, which is below the recommended minimum of 5.5.0; this can cause the process to hang. It is recommended to upgrade the kernel to the minimum version or higher.\n"
     ]
    },
    {
     "data": {
      "text/html": [
       "\n",
       "    <div>\n",
       "      \n",
       "      <progress value='2520' max='2520' style='width:300px; height:20px; vertical-align: middle;'></progress>\n",
       "      [2520/2520 05:28, Epoch 4/4]\n",
       "    </div>\n",
       "    <table border=\"1\" class=\"dataframe\">\n",
       "  <thead>\n",
       " <tr style=\"text-align: left;\">\n",
       "      <th>Epoch</th>\n",
       "      <th>Training Loss</th>\n",
       "      <th>Validation Loss</th>\n",
       "      <th>Accuracy</th>\n",
       "      <th>Balanced accuracy</th>\n",
       "      <th>F1 weighted</th>\n",
       "      <th>F1 macro</th>\n",
       "      <th>F1 micro</th>\n",
       "      <th>Classification report</th>\n",
       "    </tr>\n",
       "  </thead>\n",
       "  <tbody>\n",
       "    <tr>\n",
       "      <td>1</td>\n",
       "      <td>No log</td>\n",
       "      <td>0.503498</td>\n",
       "      <td>0.810714</td>\n",
       "      <td>0.697772</td>\n",
       "      <td>0.802639</td>\n",
       "      <td>0.731710</td>\n",
       "      <td>0.810714</td>\n",
       "      <td>{'0': {'precision': 0.7782426778242678, 'recall': 0.621380846325167, 'f1-score': 0.6910216718266253, 'support': 898.0}, '1': {'precision': 0.8261589403973509, 'recall': 0.9288040949278734, 'f1-score': 0.8744797371303396, 'support': 2149.0}, '2': {'precision': 0.748898678414097, 'recall': 0.5431309904153354, 'f1-score': 0.6296296296296297, 'support': 313.0}, 'accuracy': 0.8107142857142857, 'macro avg': {'precision': 0.7844334322119053, 'recall': 0.6977719772227919, 'f1-score': 0.7317103461955315, 'support': 3360.0}, 'weighted avg': {'precision': 0.8061555874832477, 'recall': 0.8107142857142857, 'f1-score': 0.802639431686751, 'support': 3360.0}}</td>\n",
       "    </tr>\n",
       "    <tr>\n",
       "      <td>2</td>\n",
       "      <td>0.541700</td>\n",
       "      <td>0.537351</td>\n",
       "      <td>0.821726</td>\n",
       "      <td>0.741224</td>\n",
       "      <td>0.818054</td>\n",
       "      <td>0.762878</td>\n",
       "      <td>0.821726</td>\n",
       "      <td>{'0': {'precision': 0.7386503067484662, 'recall': 0.6703786191536748, 'f1-score': 0.7028604786923527, 'support': 898.0}, '1': {'precision': 0.8565179352580927, 'recall': 0.9111214518380643, 'f1-score': 0.8829763246899663, 'support': 2149.0}, '2': {'precision': 0.7760617760617761, 'recall': 0.6421725239616614, 'f1-score': 0.7027972027972028, 'support': 313.0}, 'accuracy': 0.8217261904761904, 'macro avg': {'precision': 0.7904100060227783, 'recall': 0.7412241983178002, 'f1-score': 0.7628780020598406, 'support': 3360.0}, 'weighted avg': {'precision': 0.8175215339991369, 'recall': 0.8217261904761904, 'f1-score': 0.8180536774107127, 'support': 3360.0}}</td>\n",
       "    </tr>\n",
       "    <tr>\n",
       "      <td>3</td>\n",
       "      <td>0.541700</td>\n",
       "      <td>0.563874</td>\n",
       "      <td>0.807143</td>\n",
       "      <td>0.750683</td>\n",
       "      <td>0.806650</td>\n",
       "      <td>0.755857</td>\n",
       "      <td>0.807143</td>\n",
       "      <td>{'0': {'precision': 0.6957494407158836, 'recall': 0.6926503340757239, 'f1-score': 0.6941964285714286, 'support': 898.0}, '1': {'precision': 0.8644536652835408, 'recall': 0.8724988366682178, 'f1-score': 0.8684576192681798, 'support': 2149.0}, '2': {'precision': 0.7239057239057239, 'recall': 0.6869009584664537, 'f1-score': 0.7049180327868853, 'support': 313.0}, 'accuracy': 0.8071428571428572, 'macro avg': {'precision': 0.7613696099683828, 'recall': 0.7506833764034652, 'f1-score': 0.7558573602088313, 'support': 3360.0}, 'weighted avg': {'precision': 0.8062727428689537, 'recall': 0.8071428571428572, 'f1-score': 0.8066497502758205, 'support': 3360.0}}</td>\n",
       "    </tr>\n",
       "    <tr>\n",
       "      <td>4</td>\n",
       "      <td>0.201700</td>\n",
       "      <td>0.874325</td>\n",
       "      <td>0.807738</td>\n",
       "      <td>0.740087</td>\n",
       "      <td>0.805525</td>\n",
       "      <td>0.751974</td>\n",
       "      <td>0.807738</td>\n",
       "      <td>{'0': {'precision': 0.7137767220902613, 'recall': 0.6692650334075724, 'f1-score': 0.6908045977011495, 'support': 898.0}, '1': {'precision': 0.8531124048365427, 'recall': 0.8864588180549092, 'f1-score': 0.8694659972615243, 'support': 2149.0}, '2': {'precision': 0.7298245614035088, 'recall': 0.6645367412140575, 'f1-score': 0.6956521739130435, 'support': 313.0}, 'accuracy': 0.8077380952380953, 'macro avg': {'precision': 0.7655712294434376, 'recall': 0.7400868642255131, 'f1-score': 0.7519742562919057, 'support': 3360.0}, 'weighted avg': {'precision': 0.8043884351637153, 'recall': 0.8077380952380953, 'f1-score': 0.8055250259778067, 'support': 3360.0}}</td>\n",
       "    </tr>\n",
       "  </tbody>\n",
       "</table><p>"
      ],
      "text/plain": [
       "<IPython.core.display.HTML object>"
      ]
     },
     "metadata": {},
     "output_type": "display_data"
    },
    {
     "data": {
      "text/html": [
       "\n",
       "    <div>\n",
       "      \n",
       "      <progress value='420' max='420' style='width:300px; height:20px; vertical-align: middle;'></progress>\n",
       "      [420/420 00:04]\n",
       "    </div>\n",
       "    "
      ],
      "text/plain": [
       "<IPython.core.display.HTML object>"
      ]
     },
     "metadata": {},
     "output_type": "display_data"
    },
    {
     "name": "stderr",
     "output_type": "stream",
     "text": [
      "/net/fs-2/scale/OrionStore/Scratch/joteklem/MyCondaEnvironments/Python3.11/orion_env/lib/python3.11/site-packages/optuna/trial/_trial.py:499: UserWarning: The reported value is ignored because this `step` 4.0 is already reported.\n",
      "  warnings.warn(\n"
     ]
    },
    {
     "name": "stdout",
     "output_type": "stream",
     "text": [
      "Completed trial 0\n"
     ]
    },
    {
     "data": {
      "text/html": [
       "<style>\n",
       "    table.wandb td:nth-child(1) { padding: 0 10px; text-align: left ; width: auto;} td:nth-child(2) {text-align: left ; width: 100%}\n",
       "    .wandb-row { display: flex; flex-direction: row; flex-wrap: wrap; justify-content: flex-start; width: 100% }\n",
       "    .wandb-col { display: flex; flex-direction: column; flex-basis: 100%; flex: 1; padding: 10px; }\n",
       "    </style>\n",
       "<div class=\"wandb-row\"><div class=\"wandb-col\"><h3>Run history:</h3><br/><table class=\"wandb\"><tr><td>Training loss</td><td>▁</td></tr><tr><td>Validation loss</td><td>▁</td></tr><tr><td>Weighted F1 score</td><td>▁</td></tr><tr><td>eval/Accuracy</td><td>▃█▁▁▁</td></tr><tr><td>eval/Balanced accuracy</td><td>▁▇█▇▇</td></tr><tr><td>eval/F1 macro</td><td>▁█▆▆▆</td></tr><tr><td>eval/F1 micro</td><td>▃█▁▁▁</td></tr><tr><td>eval/F1 weighted</td><td>▁█▃▂▂</td></tr><tr><td>eval/loss</td><td>▁▂▂██</td></tr><tr><td>eval/runtime</td><td>█▂▁▁▂</td></tr><tr><td>eval/samples_per_second</td><td>▁▇██▇</td></tr><tr><td>eval/steps_per_second</td><td>▁▇██▇</td></tr><tr><td>train/epoch</td><td>▁▃▃▆████</td></tr><tr><td>train/global_step</td><td>▁▃▃▆██████</td></tr><tr><td>train/grad_norm</td><td>█▁</td></tr><tr><td>train/learning_rate</td><td>█▁</td></tr><tr><td>train/loss</td><td>█▁</td></tr><tr><td>train/total_flos</td><td>▁</td></tr><tr><td>train/train_loss</td><td>▁</td></tr><tr><td>train/train_runtime</td><td>▁</td></tr><tr><td>train/train_samples_per_second</td><td>▁</td></tr><tr><td>train/train_steps_per_second</td><td>▁</td></tr></table><br/></div><div class=\"wandb-col\"><h3>Run summary:</h3><br/><table class=\"wandb\"><tr><td>Training loss</td><td>0.2017</td></tr><tr><td>Validation loss</td><td>0.56387</td></tr><tr><td>Weighted F1 score</td><td>0.75197</td></tr><tr><td>eval/Accuracy</td><td>0.80774</td></tr><tr><td>eval/Balanced accuracy</td><td>0.74009</td></tr><tr><td>eval/F1 macro</td><td>0.75197</td></tr><tr><td>eval/F1 micro</td><td>0.80774</td></tr><tr><td>eval/F1 weighted</td><td>0.80553</td></tr><tr><td>eval/loss</td><td>0.87433</td></tr><tr><td>eval/runtime</td><td>4.8298</td></tr><tr><td>eval/samples_per_second</td><td>695.68</td></tr><tr><td>eval/steps_per_second</td><td>86.96</td></tr><tr><td>train/epoch</td><td>4.0</td></tr><tr><td>train/global_step</td><td>2520</td></tr><tr><td>train/grad_norm</td><td>0.67337</td></tr><tr><td>train/learning_rate</td><td>0.0</td></tr><tr><td>train/loss</td><td>0.2017</td></tr><tr><td>train/total_flos</td><td>1346231107459980.0</td></tr><tr><td>train/train_loss</td><td>0.3714</td></tr><tr><td>train/train_runtime</td><td>333.1754</td></tr><tr><td>train/train_samples_per_second</td><td>120.993</td></tr><tr><td>train/train_steps_per_second</td><td>7.564</td></tr></table><br/></div></div>"
      ],
      "text/plain": [
       "<IPython.core.display.HTML object>"
      ]
     },
     "metadata": {},
     "output_type": "display_data"
    },
    {
     "data": {
      "text/html": [
       " View run <strong style=\"color:#cdcd00\">trial-0</strong> at: <a href='https://wandb.ai/master-2024/BERT_BASE/runs/699iyar5' target=\"_blank\">https://wandb.ai/master-2024/BERT_BASE/runs/699iyar5</a><br/>Synced 5 W&B file(s), 0 media file(s), 0 artifact file(s) and 0 other file(s)"
      ],
      "text/plain": [
       "<IPython.core.display.HTML object>"
      ]
     },
     "metadata": {},
     "output_type": "display_data"
    },
    {
     "data": {
      "text/html": [
       "Find logs at: <code>./wandb/run-20240418_121758-699iyar5/logs</code>"
      ],
      "text/plain": [
       "<IPython.core.display.HTML object>"
      ]
     },
     "metadata": {},
     "output_type": "display_data"
    },
    {
     "name": "stderr",
     "output_type": "stream",
     "text": [
      "[I 2024-04-18 12:23:49,561] Trial 0 finished with value: 0.7519742562919057 and parameters: {'learning_rate': 5.6115164153345e-05, 'per_device_train_batch_size': 8, 'weight_decay': 0.04680559213273095, 'num_train_epochs': 4, 'warmup_steps': 354}. Best is trial 0 with value: 0.7519742562919057.\n"
     ]
    },
    {
     "data": {
      "text/html": [
       "wandb version 0.16.6 is available!  To upgrade, please run:\n",
       " $ pip install wandb --upgrade"
      ],
      "text/plain": [
       "<IPython.core.display.HTML object>"
      ]
     },
     "metadata": {},
     "output_type": "display_data"
    },
    {
     "data": {
      "text/html": [
       "Tracking run with wandb version 0.16.4"
      ],
      "text/plain": [
       "<IPython.core.display.HTML object>"
      ]
     },
     "metadata": {},
     "output_type": "display_data"
    },
    {
     "data": {
      "text/html": [
       "Run data is saved locally in <code>/net/fs-2/scale/OrionStore/Home/joteklem/Pytorch_models/wandb/run-20240418_122349-v3ux5g52</code>"
      ],
      "text/plain": [
       "<IPython.core.display.HTML object>"
      ]
     },
     "metadata": {},
     "output_type": "display_data"
    },
    {
     "data": {
      "text/html": [
       "Syncing run <strong><a href='https://wandb.ai/master-2024/BERT_BASE/runs/v3ux5g52' target=\"_blank\">trial-1</a></strong> to <a href='https://wandb.ai/master-2024/BERT_BASE' target=\"_blank\">Weights & Biases</a> (<a href='https://wandb.me/run' target=\"_blank\">docs</a>)<br/>"
      ],
      "text/plain": [
       "<IPython.core.display.HTML object>"
      ]
     },
     "metadata": {},
     "output_type": "display_data"
    },
    {
     "data": {
      "text/html": [
       " View project at <a href='https://wandb.ai/master-2024/BERT_BASE' target=\"_blank\">https://wandb.ai/master-2024/BERT_BASE</a>"
      ],
      "text/plain": [
       "<IPython.core.display.HTML object>"
      ]
     },
     "metadata": {},
     "output_type": "display_data"
    },
    {
     "data": {
      "text/html": [
       " View run at <a href='https://wandb.ai/master-2024/BERT_BASE/runs/v3ux5g52' target=\"_blank\">https://wandb.ai/master-2024/BERT_BASE/runs/v3ux5g52</a>"
      ],
      "text/plain": [
       "<IPython.core.display.HTML object>"
      ]
     },
     "metadata": {},
     "output_type": "display_data"
    },
    {
     "name": "stderr",
     "output_type": "stream",
     "text": [
      "/net/fs-2/scale/OrionStore/Scratch/joteklem/MyCondaEnvironments/Python3.11/orion_env/lib/python3.11/site-packages/accelerate/accelerator.py:432: FutureWarning: Passing the following arguments to `Accelerator` is deprecated and will be removed in version 1.0 of Accelerate: dict_keys(['dispatch_batches', 'split_batches', 'even_batches', 'use_seedable_sampler']). Please pass an `accelerate.DataLoaderConfiguration` instead: \n",
      "dataloader_config = DataLoaderConfiguration(dispatch_batches=None, split_batches=False, even_batches=True, use_seedable_sampler=True)\n",
      "  warnings.warn(\n",
      "Detected kernel version 3.10.0, which is below the recommended minimum of 5.5.0; this can cause the process to hang. It is recommended to upgrade the kernel to the minimum version or higher.\n"
     ]
    },
    {
     "name": "stdout",
     "output_type": "stream",
     "text": [
      "Starting trial 1\n"
     ]
    },
    {
     "data": {
      "text/html": [
       "\n",
       "    <div>\n",
       "      \n",
       "      <progress value='2520' max='2520' style='width:300px; height:20px; vertical-align: middle;'></progress>\n",
       "      [2520/2520 05:38, Epoch 4/4]\n",
       "    </div>\n",
       "    <table border=\"1\" class=\"dataframe\">\n",
       "  <thead>\n",
       " <tr style=\"text-align: left;\">\n",
       "      <th>Epoch</th>\n",
       "      <th>Training Loss</th>\n",
       "      <th>Validation Loss</th>\n",
       "      <th>Accuracy</th>\n",
       "      <th>Balanced accuracy</th>\n",
       "      <th>F1 weighted</th>\n",
       "      <th>F1 macro</th>\n",
       "      <th>F1 micro</th>\n",
       "      <th>Classification report</th>\n",
       "    </tr>\n",
       "  </thead>\n",
       "  <tbody>\n",
       "    <tr>\n",
       "      <td>1</td>\n",
       "      <td>No log</td>\n",
       "      <td>0.518042</td>\n",
       "      <td>0.801786</td>\n",
       "      <td>0.649480</td>\n",
       "      <td>0.789479</td>\n",
       "      <td>0.691422</td>\n",
       "      <td>0.801786</td>\n",
       "      <td>{'0': {'precision': 0.7438551099611902, 'recall': 0.6403118040089086, 'f1-score': 0.6882106523040096, 'support': 898.0}, '1': {'precision': 0.8197460057353544, 'recall': 0.931130758492322, 'f1-score': 0.8718954248366013, 'support': 2149.0}, '2': {'precision': 0.8082191780821918, 'recall': 0.3769968051118211, 'f1-score': 0.514161220043573, 'support': 313.0}, 'accuracy': 0.8017857142857143, 'macro avg': {'precision': 0.7906067645929121, 'recall': 0.6494797892043506, 'f1-score': 0.6914224323947279, 'support': 3360.0}, 'weighted avg': {'precision': 0.7983894814911164, 'recall': 0.8017857142857143, 'f1-score': 0.7894788379810996, 'support': 3360.0}}</td>\n",
       "    </tr>\n",
       "    <tr>\n",
       "      <td>2</td>\n",
       "      <td>0.554200</td>\n",
       "      <td>0.491847</td>\n",
       "      <td>0.817857</td>\n",
       "      <td>0.740368</td>\n",
       "      <td>0.815271</td>\n",
       "      <td>0.755380</td>\n",
       "      <td>0.817857</td>\n",
       "      <td>{'0': {'precision': 0.737217598097503, 'recall': 0.6904231625835189, 'f1-score': 0.7130534790109258, 'support': 898.0}, '1': {'precision': 0.8596881959910914, 'recall': 0.8980921358771522, 'f1-score': 0.8784706417842513, 'support': 2149.0}, '2': {'precision': 0.7226277372262774, 'recall': 0.6325878594249201, 'f1-score': 0.6746166950596252, 'support': 313.0}, 'accuracy': 0.8178571428571428, 'macro avg': {'precision': 0.773177843771624, 'recall': 0.7403677192951971, 'f1-score': 0.7553802719516008, 'support': 3360.0}, 'weighted avg': {'precision': 0.8141886363179279, 'recall': 0.8178571428571428, 'f1-score': 0.8152709699106636, 'support': 3360.0}}</td>\n",
       "    </tr>\n",
       "    <tr>\n",
       "      <td>3</td>\n",
       "      <td>0.554200</td>\n",
       "      <td>0.503650</td>\n",
       "      <td>0.822619</td>\n",
       "      <td>0.738153</td>\n",
       "      <td>0.817103</td>\n",
       "      <td>0.759966</td>\n",
       "      <td>0.822619</td>\n",
       "      <td>{'0': {'precision': 0.7838577291381669, 'recall': 0.6380846325167038, 'f1-score': 0.7034990791896869, 'support': 898.0}, '1': {'precision': 0.8440951571792693, 'recall': 0.9246161005118659, 'f1-score': 0.8825227626027093, 'support': 2149.0}, '2': {'precision': 0.7418181818181818, 'recall': 0.6517571884984026, 'f1-score': 0.6938775510204082, 'support': 313.0}, 'accuracy': 0.8226190476190476, 'macro avg': {'precision': 0.7899236893785394, 'recall': 0.7381526405089908, 'f1-score': 0.7599664642709348, 'support': 3360.0}, 'weighted avg': {'precision': 0.8184684001349448, 'recall': 0.8226190476190476, 'f1-score': 0.8171033522068302, 'support': 3360.0}}</td>\n",
       "    </tr>\n",
       "    <tr>\n",
       "      <td>4</td>\n",
       "      <td>0.325100</td>\n",
       "      <td>0.537723</td>\n",
       "      <td>0.818452</td>\n",
       "      <td>0.743385</td>\n",
       "      <td>0.814293</td>\n",
       "      <td>0.758481</td>\n",
       "      <td>0.818452</td>\n",
       "      <td>{'0': {'precision': 0.7597911227154047, 'recall': 0.6481069042316259, 'f1-score': 0.6995192307692307, 'support': 898.0}, '1': {'precision': 0.8498263888888888, 'recall': 0.9111214518380643, 'f1-score': 0.8794071412530877, 'support': 2149.0}, '2': {'precision': 0.7241379310344828, 'recall': 0.670926517571885, 'f1-score': 0.6965174129353234, 'support': 313.0}, 'accuracy': 0.8184523809523809, 'macro avg': {'precision': 0.7779184808795921, 'recall': 0.743384957880525, 'f1-score': 0.7584812616525473, 'support': 3360.0}, 'weighted avg': {'precision': 0.8140549137900144, 'recall': 0.8184523809523809, 'f1-score': 0.8142929065572652, 'support': 3360.0}}</td>\n",
       "    </tr>\n",
       "  </tbody>\n",
       "</table><p>"
      ],
      "text/plain": [
       "<IPython.core.display.HTML object>"
      ]
     },
     "metadata": {},
     "output_type": "display_data"
    },
    {
     "data": {
      "text/html": [
       "\n",
       "    <div>\n",
       "      \n",
       "      <progress value='420' max='420' style='width:300px; height:20px; vertical-align: middle;'></progress>\n",
       "      [420/420 00:04]\n",
       "    </div>\n",
       "    "
      ],
      "text/plain": [
       "<IPython.core.display.HTML object>"
      ]
     },
     "metadata": {},
     "output_type": "display_data"
    },
    {
     "name": "stderr",
     "output_type": "stream",
     "text": [
      "/net/fs-2/scale/OrionStore/Scratch/joteklem/MyCondaEnvironments/Python3.11/orion_env/lib/python3.11/site-packages/optuna/trial/_trial.py:499: UserWarning: The reported value is ignored because this `step` 4.0 is already reported.\n",
      "  warnings.warn(\n"
     ]
    },
    {
     "name": "stdout",
     "output_type": "stream",
     "text": [
      "Completed trial 1\n"
     ]
    },
    {
     "data": {
      "text/html": [
       "<style>\n",
       "    table.wandb td:nth-child(1) { padding: 0 10px; text-align: left ; width: auto;} td:nth-child(2) {text-align: left ; width: 100%}\n",
       "    .wandb-row { display: flex; flex-direction: row; flex-wrap: wrap; justify-content: flex-start; width: 100% }\n",
       "    .wandb-col { display: flex; flex-direction: column; flex-basis: 100%; flex: 1; padding: 10px; }\n",
       "    </style>\n",
       "<div class=\"wandb-row\"><div class=\"wandb-col\"><h3>Run history:</h3><br/><table class=\"wandb\"><tr><td>Training loss</td><td>▁</td></tr><tr><td>Validation loss</td><td>▁</td></tr><tr><td>Weighted F1 score</td><td>▁</td></tr><tr><td>eval/Accuracy</td><td>▁▆█▇▇</td></tr><tr><td>eval/Balanced accuracy</td><td>▁████</td></tr><tr><td>eval/F1 macro</td><td>▁████</td></tr><tr><td>eval/F1 micro</td><td>▁▆█▇▇</td></tr><tr><td>eval/F1 weighted</td><td>▁██▇▇</td></tr><tr><td>eval/loss</td><td>▅▁▃██</td></tr><tr><td>eval/runtime</td><td>▂▂▁▃█</td></tr><tr><td>eval/samples_per_second</td><td>▇▇█▅▁</td></tr><tr><td>eval/steps_per_second</td><td>▇▇█▅▁</td></tr><tr><td>train/epoch</td><td>▁▃▃▆████</td></tr><tr><td>train/global_step</td><td>▁▃▃▆██████</td></tr><tr><td>train/grad_norm</td><td>▁█</td></tr><tr><td>train/learning_rate</td><td>█▁</td></tr><tr><td>train/loss</td><td>█▁</td></tr><tr><td>train/total_flos</td><td>▁</td></tr><tr><td>train/train_loss</td><td>▁</td></tr><tr><td>train/train_runtime</td><td>▁</td></tr><tr><td>train/train_samples_per_second</td><td>▁</td></tr><tr><td>train/train_steps_per_second</td><td>▁</td></tr></table><br/></div><div class=\"wandb-col\"><h3>Run summary:</h3><br/><table class=\"wandb\"><tr><td>Training loss</td><td>0.3251</td></tr><tr><td>Validation loss</td><td>0.50365</td></tr><tr><td>Weighted F1 score</td><td>0.75848</td></tr><tr><td>eval/Accuracy</td><td>0.81845</td></tr><tr><td>eval/Balanced accuracy</td><td>0.74338</td></tr><tr><td>eval/F1 macro</td><td>0.75848</td></tr><tr><td>eval/F1 micro</td><td>0.81845</td></tr><tr><td>eval/F1 weighted</td><td>0.81429</td></tr><tr><td>eval/loss</td><td>0.53772</td></tr><tr><td>eval/runtime</td><td>4.6706</td></tr><tr><td>eval/samples_per_second</td><td>719.4</td></tr><tr><td>eval/steps_per_second</td><td>89.925</td></tr><tr><td>train/epoch</td><td>4.0</td></tr><tr><td>train/global_step</td><td>2520</td></tr><tr><td>train/grad_norm</td><td>9.37759</td></tr><tr><td>train/learning_rate</td><td>0.0</td></tr><tr><td>train/loss</td><td>0.3251</td></tr><tr><td>train/total_flos</td><td>1346231107459980.0</td></tr><tr><td>train/train_loss</td><td>0.43952</td></tr><tr><td>train/train_runtime</td><td>339.0653</td></tr><tr><td>train/train_samples_per_second</td><td>118.892</td></tr><tr><td>train/train_steps_per_second</td><td>7.432</td></tr></table><br/></div></div>"
      ],
      "text/plain": [
       "<IPython.core.display.HTML object>"
      ]
     },
     "metadata": {},
     "output_type": "display_data"
    },
    {
     "data": {
      "text/html": [
       " View run <strong style=\"color:#cdcd00\">trial-1</strong> at: <a href='https://wandb.ai/master-2024/BERT_BASE/runs/v3ux5g52' target=\"_blank\">https://wandb.ai/master-2024/BERT_BASE/runs/v3ux5g52</a><br/>Synced 5 W&B file(s), 0 media file(s), 0 artifact file(s) and 0 other file(s)"
      ],
      "text/plain": [
       "<IPython.core.display.HTML object>"
      ]
     },
     "metadata": {},
     "output_type": "display_data"
    },
    {
     "data": {
      "text/html": [
       "Find logs at: <code>./wandb/run-20240418_122349-v3ux5g52/logs</code>"
      ],
      "text/plain": [
       "<IPython.core.display.HTML object>"
      ]
     },
     "metadata": {},
     "output_type": "display_data"
    },
    {
     "name": "stderr",
     "output_type": "stream",
     "text": [
      "[I 2024-04-18 12:29:42,636] Trial 1 finished with value: 0.7584812616525473 and parameters: {'learning_rate': 1.0994335574766187e-05, 'per_device_train_batch_size': 8, 'weight_decay': 0.05454749016213018, 'num_train_epochs': 4, 'warmup_steps': 145}. Best is trial 1 with value: 0.7584812616525473.\n"
     ]
    },
    {
     "data": {
      "text/html": [
       "wandb version 0.16.6 is available!  To upgrade, please run:\n",
       " $ pip install wandb --upgrade"
      ],
      "text/plain": [
       "<IPython.core.display.HTML object>"
      ]
     },
     "metadata": {},
     "output_type": "display_data"
    },
    {
     "data": {
      "text/html": [
       "Tracking run with wandb version 0.16.4"
      ],
      "text/plain": [
       "<IPython.core.display.HTML object>"
      ]
     },
     "metadata": {},
     "output_type": "display_data"
    },
    {
     "data": {
      "text/html": [
       "Run data is saved locally in <code>/net/fs-2/scale/OrionStore/Home/joteklem/Pytorch_models/wandb/run-20240418_122942-8wtngifc</code>"
      ],
      "text/plain": [
       "<IPython.core.display.HTML object>"
      ]
     },
     "metadata": {},
     "output_type": "display_data"
    },
    {
     "data": {
      "text/html": [
       "Syncing run <strong><a href='https://wandb.ai/master-2024/BERT_BASE/runs/8wtngifc' target=\"_blank\">trial-2</a></strong> to <a href='https://wandb.ai/master-2024/BERT_BASE' target=\"_blank\">Weights & Biases</a> (<a href='https://wandb.me/run' target=\"_blank\">docs</a>)<br/>"
      ],
      "text/plain": [
       "<IPython.core.display.HTML object>"
      ]
     },
     "metadata": {},
     "output_type": "display_data"
    },
    {
     "data": {
      "text/html": [
       " View project at <a href='https://wandb.ai/master-2024/BERT_BASE' target=\"_blank\">https://wandb.ai/master-2024/BERT_BASE</a>"
      ],
      "text/plain": [
       "<IPython.core.display.HTML object>"
      ]
     },
     "metadata": {},
     "output_type": "display_data"
    },
    {
     "data": {
      "text/html": [
       " View run at <a href='https://wandb.ai/master-2024/BERT_BASE/runs/8wtngifc' target=\"_blank\">https://wandb.ai/master-2024/BERT_BASE/runs/8wtngifc</a>"
      ],
      "text/plain": [
       "<IPython.core.display.HTML object>"
      ]
     },
     "metadata": {},
     "output_type": "display_data"
    },
    {
     "name": "stdout",
     "output_type": "stream",
     "text": [
      "Starting trial 2\n"
     ]
    },
    {
     "name": "stderr",
     "output_type": "stream",
     "text": [
      "/net/fs-2/scale/OrionStore/Scratch/joteklem/MyCondaEnvironments/Python3.11/orion_env/lib/python3.11/site-packages/accelerate/accelerator.py:432: FutureWarning: Passing the following arguments to `Accelerator` is deprecated and will be removed in version 1.0 of Accelerate: dict_keys(['dispatch_batches', 'split_batches', 'even_batches', 'use_seedable_sampler']). Please pass an `accelerate.DataLoaderConfiguration` instead: \n",
      "dataloader_config = DataLoaderConfiguration(dispatch_batches=None, split_batches=False, even_batches=True, use_seedable_sampler=True)\n",
      "  warnings.warn(\n",
      "Detected kernel version 3.10.0, which is below the recommended minimum of 5.5.0; this can cause the process to hang. It is recommended to upgrade the kernel to the minimum version or higher.\n"
     ]
    },
    {
     "data": {
      "text/html": [
       "\n",
       "    <div>\n",
       "      \n",
       "      <progress value='314' max='314' style='width:300px; height:20px; vertical-align: middle;'></progress>\n",
       "      [314/314 00:43, Epoch 1/2]\n",
       "    </div>\n",
       "    <table border=\"1\" class=\"dataframe\">\n",
       "  <thead>\n",
       " <tr style=\"text-align: left;\">\n",
       "      <th>Epoch</th>\n",
       "      <th>Training Loss</th>\n",
       "      <th>Validation Loss</th>\n",
       "      <th>Accuracy</th>\n",
       "      <th>Balanced accuracy</th>\n",
       "      <th>F1 weighted</th>\n",
       "      <th>F1 macro</th>\n",
       "      <th>F1 micro</th>\n",
       "      <th>Classification report</th>\n",
       "    </tr>\n",
       "  </thead>\n",
       "  <tbody>\n",
       "    <tr>\n",
       "      <td>0</td>\n",
       "      <td>No log</td>\n",
       "      <td>0.568012</td>\n",
       "      <td>0.791071</td>\n",
       "      <td>0.634582</td>\n",
       "      <td>0.775730</td>\n",
       "      <td>0.671542</td>\n",
       "      <td>0.791071</td>\n",
       "      <td>{'0': {'precision': 0.7791798107255521, 'recall': 0.5501113585746102, 'f1-score': 0.6449086161879896, 'support': 898.0}, '1': {'precision': 0.8051383399209486, 'recall': 0.9478827361563518, 'f1-score': 0.8706988672793332, 'support': 2149.0}, '2': {'precision': 0.6479591836734694, 'recall': 0.4057507987220447, 'f1-score': 0.4990176817288802, 'support': 313.0}, 'accuracy': 0.7910714285714285, 'macro avg': {'precision': 0.7440924447733234, 'recall': 0.6345816311510023, 'f1-score': 0.6715417217320677, 'support': 3360.0}, 'weighted avg': {'precision': 0.7835586270867442, 'recall': 0.7910714285714285, 'f1-score': 0.7757298623515599, 'support': 3360.0}}</td>\n",
       "    </tr>\n",
       "    <tr>\n",
       "      <td>1</td>\n",
       "      <td>0.582900</td>\n",
       "      <td>0.498762</td>\n",
       "      <td>0.816667</td>\n",
       "      <td>0.720231</td>\n",
       "      <td>0.811020</td>\n",
       "      <td>0.740683</td>\n",
       "      <td>0.816667</td>\n",
       "      <td>{'0': {'precision': 0.7912087912087912, 'recall': 0.6414253897550112, 'f1-score': 0.7084870848708487, 'support': 898.0}, '1': {'precision': 0.8411889596602973, 'recall': 0.9218241042345277, 'f1-score': 0.8796625222024866, 'support': 2149.0}, '2': {'precision': 0.6750902527075813, 'recall': 0.597444089456869, 'f1-score': 0.6338983050847458, 'support': 313.0}, 'accuracy': 0.8166666666666667, 'macro avg': {'precision': 0.76916266785889, 'recall': 0.7202311944821359, 'f1-score': 0.740682637386027, 'support': 3360.0}, 'weighted avg': {'precision': 0.8123582791407579, 'recall': 0.8166666666666667, 'f1-score': 0.8110197416424676, 'support': 3360.0}}</td>\n",
       "    </tr>\n",
       "  </tbody>\n",
       "</table><p>"
      ],
      "text/plain": [
       "<IPython.core.display.HTML object>"
      ]
     },
     "metadata": {},
     "output_type": "display_data"
    },
    {
     "data": {
      "text/html": [
       "\n",
       "    <div>\n",
       "      \n",
       "      <progress value='105' max='105' style='width:300px; height:20px; vertical-align: middle;'></progress>\n",
       "      [105/105 00:02]\n",
       "    </div>\n",
       "    "
      ],
      "text/plain": [
       "<IPython.core.display.HTML object>"
      ]
     },
     "metadata": {},
     "output_type": "display_data"
    },
    {
     "name": "stderr",
     "output_type": "stream",
     "text": [
      "/net/fs-2/scale/OrionStore/Scratch/joteklem/MyCondaEnvironments/Python3.11/orion_env/lib/python3.11/site-packages/optuna/trial/_trial.py:499: UserWarning: The reported value is ignored because this `step` 1.9936507936507937 is already reported.\n",
      "  warnings.warn(\n"
     ]
    },
    {
     "name": "stdout",
     "output_type": "stream",
     "text": [
      "Completed trial 2\n"
     ]
    },
    {
     "data": {
      "text/html": [
       "<style>\n",
       "    table.wandb td:nth-child(1) { padding: 0 10px; text-align: left ; width: auto;} td:nth-child(2) {text-align: left ; width: 100%}\n",
       "    .wandb-row { display: flex; flex-direction: row; flex-wrap: wrap; justify-content: flex-start; width: 100% }\n",
       "    .wandb-col { display: flex; flex-direction: column; flex-basis: 100%; flex: 1; padding: 10px; }\n",
       "    </style>\n",
       "<div class=\"wandb-row\"><div class=\"wandb-col\"><h3>Run history:</h3><br/><table class=\"wandb\"><tr><td>Training loss</td><td>▁</td></tr><tr><td>Validation loss</td><td>▁</td></tr><tr><td>Weighted F1 score</td><td>▁</td></tr><tr><td>eval/Accuracy</td><td>▁██</td></tr><tr><td>eval/Balanced accuracy</td><td>▁██</td></tr><tr><td>eval/F1 macro</td><td>▁██</td></tr><tr><td>eval/F1 micro</td><td>▁██</td></tr><tr><td>eval/F1 weighted</td><td>▁██</td></tr><tr><td>eval/loss</td><td>█▁▁</td></tr><tr><td>eval/runtime</td><td>▁▆█</td></tr><tr><td>eval/samples_per_second</td><td>█▃▁</td></tr><tr><td>eval/steps_per_second</td><td>█▃▁</td></tr><tr><td>train/epoch</td><td>▁████</td></tr><tr><td>train/global_step</td><td>▁██████</td></tr><tr><td>train/grad_norm</td><td>▁</td></tr><tr><td>train/learning_rate</td><td>▁</td></tr><tr><td>train/loss</td><td>▁</td></tr><tr><td>train/total_flos</td><td>▁</td></tr><tr><td>train/train_loss</td><td>▁</td></tr><tr><td>train/train_runtime</td><td>▁</td></tr><tr><td>train/train_samples_per_second</td><td>▁</td></tr><tr><td>train/train_steps_per_second</td><td>▁</td></tr></table><br/></div><div class=\"wandb-col\"><h3>Run summary:</h3><br/><table class=\"wandb\"><tr><td>Training loss</td><td>0.5829</td></tr><tr><td>Validation loss</td><td>0.56801</td></tr><tr><td>Weighted F1 score</td><td>0.74068</td></tr><tr><td>eval/Accuracy</td><td>0.81667</td></tr><tr><td>eval/Balanced accuracy</td><td>0.72023</td></tr><tr><td>eval/F1 macro</td><td>0.74068</td></tr><tr><td>eval/F1 micro</td><td>0.81667</td></tr><tr><td>eval/F1 weighted</td><td>0.81102</td></tr><tr><td>eval/loss</td><td>0.49876</td></tr><tr><td>eval/runtime</td><td>2.0775</td></tr><tr><td>eval/samples_per_second</td><td>1617.328</td></tr><tr><td>eval/steps_per_second</td><td>50.542</td></tr><tr><td>train/epoch</td><td>1.99</td></tr><tr><td>train/global_step</td><td>314</td></tr><tr><td>train/grad_norm</td><td>4.40119</td></tr><tr><td>train/learning_rate</td><td>0.0</td></tr><tr><td>train/loss</td><td>0.5829</td></tr><tr><td>train/total_flos</td><td>844474847639472.0</td></tr><tr><td>train/train_loss</td><td>0.58293</td></tr><tr><td>train/train_runtime</td><td>43.4941</td></tr><tr><td>train/train_samples_per_second</td><td>463.419</td></tr><tr><td>train/train_steps_per_second</td><td>7.219</td></tr></table><br/></div></div>"
      ],
      "text/plain": [
       "<IPython.core.display.HTML object>"
      ]
     },
     "metadata": {},
     "output_type": "display_data"
    },
    {
     "data": {
      "text/html": [
       " View run <strong style=\"color:#cdcd00\">trial-2</strong> at: <a href='https://wandb.ai/master-2024/BERT_BASE/runs/8wtngifc' target=\"_blank\">https://wandb.ai/master-2024/BERT_BASE/runs/8wtngifc</a><br/>Synced 5 W&B file(s), 0 media file(s), 0 artifact file(s) and 0 other file(s)"
      ],
      "text/plain": [
       "<IPython.core.display.HTML object>"
      ]
     },
     "metadata": {},
     "output_type": "display_data"
    },
    {
     "data": {
      "text/html": [
       "Find logs at: <code>./wandb/run-20240418_122942-8wtngifc/logs</code>"
      ],
      "text/plain": [
       "<IPython.core.display.HTML object>"
      ]
     },
     "metadata": {},
     "output_type": "display_data"
    },
    {
     "name": "stderr",
     "output_type": "stream",
     "text": [
      "[I 2024-04-18 12:30:35,689] Trial 2 finished with value: 0.740682637386027 and parameters: {'learning_rate': 0.00016738085788752134, 'per_device_train_batch_size': 32, 'weight_decay': 0.13682099526511077, 'num_train_epochs': 2, 'warmup_steps': 23}. Best is trial 1 with value: 0.7584812616525473.\n"
     ]
    },
    {
     "data": {
      "text/html": [
       "wandb version 0.16.6 is available!  To upgrade, please run:\n",
       " $ pip install wandb --upgrade"
      ],
      "text/plain": [
       "<IPython.core.display.HTML object>"
      ]
     },
     "metadata": {},
     "output_type": "display_data"
    },
    {
     "data": {
      "text/html": [
       "Tracking run with wandb version 0.16.4"
      ],
      "text/plain": [
       "<IPython.core.display.HTML object>"
      ]
     },
     "metadata": {},
     "output_type": "display_data"
    },
    {
     "data": {
      "text/html": [
       "Run data is saved locally in <code>/net/fs-2/scale/OrionStore/Home/joteklem/Pytorch_models/wandb/run-20240418_123035-382cd44j</code>"
      ],
      "text/plain": [
       "<IPython.core.display.HTML object>"
      ]
     },
     "metadata": {},
     "output_type": "display_data"
    },
    {
     "data": {
      "text/html": [
       "Syncing run <strong><a href='https://wandb.ai/master-2024/BERT_BASE/runs/382cd44j' target=\"_blank\">trial-3</a></strong> to <a href='https://wandb.ai/master-2024/BERT_BASE' target=\"_blank\">Weights & Biases</a> (<a href='https://wandb.me/run' target=\"_blank\">docs</a>)<br/>"
      ],
      "text/plain": [
       "<IPython.core.display.HTML object>"
      ]
     },
     "metadata": {},
     "output_type": "display_data"
    },
    {
     "data": {
      "text/html": [
       " View project at <a href='https://wandb.ai/master-2024/BERT_BASE' target=\"_blank\">https://wandb.ai/master-2024/BERT_BASE</a>"
      ],
      "text/plain": [
       "<IPython.core.display.HTML object>"
      ]
     },
     "metadata": {},
     "output_type": "display_data"
    },
    {
     "data": {
      "text/html": [
       " View run at <a href='https://wandb.ai/master-2024/BERT_BASE/runs/382cd44j' target=\"_blank\">https://wandb.ai/master-2024/BERT_BASE/runs/382cd44j</a>"
      ],
      "text/plain": [
       "<IPython.core.display.HTML object>"
      ]
     },
     "metadata": {},
     "output_type": "display_data"
    },
    {
     "name": "stderr",
     "output_type": "stream",
     "text": [
      "/net/fs-2/scale/OrionStore/Scratch/joteklem/MyCondaEnvironments/Python3.11/orion_env/lib/python3.11/site-packages/accelerate/accelerator.py:432: FutureWarning: Passing the following arguments to `Accelerator` is deprecated and will be removed in version 1.0 of Accelerate: dict_keys(['dispatch_batches', 'split_batches', 'even_batches', 'use_seedable_sampler']). Please pass an `accelerate.DataLoaderConfiguration` instead: \n",
      "dataloader_config = DataLoaderConfiguration(dispatch_batches=None, split_batches=False, even_batches=True, use_seedable_sampler=True)\n",
      "  warnings.warn(\n",
      "Detected kernel version 3.10.0, which is below the recommended minimum of 5.5.0; this can cause the process to hang. It is recommended to upgrade the kernel to the minimum version or higher.\n"
     ]
    },
    {
     "name": "stdout",
     "output_type": "stream",
     "text": [
      "Starting trial 3\n"
     ]
    },
    {
     "data": {
      "text/html": [
       "\n",
       "    <div>\n",
       "      \n",
       "      <progress value='314' max='314' style='width:300px; height:20px; vertical-align: middle;'></progress>\n",
       "      [314/314 00:44, Epoch 1/2]\n",
       "    </div>\n",
       "    <table border=\"1\" class=\"dataframe\">\n",
       "  <thead>\n",
       " <tr style=\"text-align: left;\">\n",
       "      <th>Epoch</th>\n",
       "      <th>Training Loss</th>\n",
       "      <th>Validation Loss</th>\n",
       "      <th>Accuracy</th>\n",
       "      <th>Balanced accuracy</th>\n",
       "      <th>F1 weighted</th>\n",
       "      <th>F1 macro</th>\n",
       "      <th>F1 micro</th>\n",
       "      <th>Classification report</th>\n",
       "    </tr>\n",
       "  </thead>\n",
       "  <tbody>\n",
       "    <tr>\n",
       "      <td>0</td>\n",
       "      <td>No log</td>\n",
       "      <td>0.557334</td>\n",
       "      <td>0.801488</td>\n",
       "      <td>0.666737</td>\n",
       "      <td>0.792229</td>\n",
       "      <td>0.703281</td>\n",
       "      <td>0.801488</td>\n",
       "      <td>{'0': {'precision': 0.7411167512690355, 'recall': 0.6503340757238307, 'f1-score': 0.6927639383155397, 'support': 898.0}, '1': {'precision': 0.8252508361204013, 'recall': 0.9185667752442996, 'f1-score': 0.8694120237833075, 'support': 2149.0}, '2': {'precision': 0.75, 'recall': 0.43130990415335463, 'f1-score': 0.5476673427991887, 'support': 313.0}, 'accuracy': 0.8014880952380953, 'macro avg': {'precision': 0.7721225291298123, 'recall': 0.6667369183738283, 'f1-score': 0.7032811016326787, 'support': 3360.0}, 'weighted avg': {'precision': 0.7957550266256954, 'recall': 0.8014880952380953, 'f1-score': 0.792228670837449, 'support': 3360.0}}</td>\n",
       "    </tr>\n",
       "    <tr>\n",
       "      <td>1</td>\n",
       "      <td>0.578500</td>\n",
       "      <td>0.490874</td>\n",
       "      <td>0.819345</td>\n",
       "      <td>0.731476</td>\n",
       "      <td>0.812831</td>\n",
       "      <td>0.749425</td>\n",
       "      <td>0.819345</td>\n",
       "      <td>{'0': {'precision': 0.8052708638360175, 'recall': 0.6124721603563474, 'f1-score': 0.6957621758380772, 'support': 898.0}, '1': {'precision': 0.8395632087358252, 'recall': 0.9302000930665426, 'f1-score': 0.8825607064017661, 'support': 2149.0}, '2': {'precision': 0.6891891891891891, 'recall': 0.6517571884984026, 'f1-score': 0.6699507389162562, 'support': 313.0}, 'accuracy': 0.8193452380952381, 'macro avg': {'precision': 0.7780077539203439, 'recall': 0.7314764806404309, 'f1-score': 0.7494245403853665, 'support': 3360.0}, 'weighted avg': {'precision': 0.8163901153316215, 'recall': 0.8193452380952381, 'f1-score': 0.8128309444168978, 'support': 3360.0}}</td>\n",
       "    </tr>\n",
       "  </tbody>\n",
       "</table><p>"
      ],
      "text/plain": [
       "<IPython.core.display.HTML object>"
      ]
     },
     "metadata": {},
     "output_type": "display_data"
    },
    {
     "data": {
      "text/html": [
       "\n",
       "    <div>\n",
       "      \n",
       "      <progress value='105' max='105' style='width:300px; height:20px; vertical-align: middle;'></progress>\n",
       "      [105/105 00:02]\n",
       "    </div>\n",
       "    "
      ],
      "text/plain": [
       "<IPython.core.display.HTML object>"
      ]
     },
     "metadata": {},
     "output_type": "display_data"
    },
    {
     "name": "stderr",
     "output_type": "stream",
     "text": [
      "/net/fs-2/scale/OrionStore/Scratch/joteklem/MyCondaEnvironments/Python3.11/orion_env/lib/python3.11/site-packages/optuna/trial/_trial.py:499: UserWarning: The reported value is ignored because this `step` 1.9936507936507937 is already reported.\n",
      "  warnings.warn(\n"
     ]
    },
    {
     "name": "stdout",
     "output_type": "stream",
     "text": [
      "Completed trial 3\n"
     ]
    },
    {
     "data": {
      "text/html": [
       "<style>\n",
       "    table.wandb td:nth-child(1) { padding: 0 10px; text-align: left ; width: auto;} td:nth-child(2) {text-align: left ; width: 100%}\n",
       "    .wandb-row { display: flex; flex-direction: row; flex-wrap: wrap; justify-content: flex-start; width: 100% }\n",
       "    .wandb-col { display: flex; flex-direction: column; flex-basis: 100%; flex: 1; padding: 10px; }\n",
       "    </style>\n",
       "<div class=\"wandb-row\"><div class=\"wandb-col\"><h3>Run history:</h3><br/><table class=\"wandb\"><tr><td>Training loss</td><td>▁</td></tr><tr><td>Validation loss</td><td>▁</td></tr><tr><td>Weighted F1 score</td><td>▁</td></tr><tr><td>eval/Accuracy</td><td>▁██</td></tr><tr><td>eval/Balanced accuracy</td><td>▁██</td></tr><tr><td>eval/F1 macro</td><td>▁██</td></tr><tr><td>eval/F1 micro</td><td>▁██</td></tr><tr><td>eval/F1 weighted</td><td>▁██</td></tr><tr><td>eval/loss</td><td>█▁▁</td></tr><tr><td>eval/runtime</td><td>▁▁█</td></tr><tr><td>eval/samples_per_second</td><td>██▁</td></tr><tr><td>eval/steps_per_second</td><td>██▁</td></tr><tr><td>train/epoch</td><td>▁████</td></tr><tr><td>train/global_step</td><td>▁██████</td></tr><tr><td>train/grad_norm</td><td>▁</td></tr><tr><td>train/learning_rate</td><td>▁</td></tr><tr><td>train/loss</td><td>▁</td></tr><tr><td>train/total_flos</td><td>▁</td></tr><tr><td>train/train_loss</td><td>▁</td></tr><tr><td>train/train_runtime</td><td>▁</td></tr><tr><td>train/train_samples_per_second</td><td>▁</td></tr><tr><td>train/train_steps_per_second</td><td>▁</td></tr></table><br/></div><div class=\"wandb-col\"><h3>Run summary:</h3><br/><table class=\"wandb\"><tr><td>Training loss</td><td>0.5785</td></tr><tr><td>Validation loss</td><td>0.55733</td></tr><tr><td>Weighted F1 score</td><td>0.74942</td></tr><tr><td>eval/Accuracy</td><td>0.81935</td></tr><tr><td>eval/Balanced accuracy</td><td>0.73148</td></tr><tr><td>eval/F1 macro</td><td>0.74942</td></tr><tr><td>eval/F1 micro</td><td>0.81935</td></tr><tr><td>eval/F1 weighted</td><td>0.81283</td></tr><tr><td>eval/loss</td><td>0.49087</td></tr><tr><td>eval/runtime</td><td>2.5008</td></tr><tr><td>eval/samples_per_second</td><td>1343.562</td></tr><tr><td>eval/steps_per_second</td><td>41.986</td></tr><tr><td>train/epoch</td><td>1.99</td></tr><tr><td>train/global_step</td><td>314</td></tr><tr><td>train/grad_norm</td><td>3.46708</td></tr><tr><td>train/learning_rate</td><td>0.0</td></tr><tr><td>train/loss</td><td>0.5785</td></tr><tr><td>train/total_flos</td><td>844474847639472.0</td></tr><tr><td>train/train_loss</td><td>0.57855</td></tr><tr><td>train/train_runtime</td><td>44.151</td></tr><tr><td>train/train_samples_per_second</td><td>456.525</td></tr><tr><td>train/train_steps_per_second</td><td>7.112</td></tr></table><br/></div></div>"
      ],
      "text/plain": [
       "<IPython.core.display.HTML object>"
      ]
     },
     "metadata": {},
     "output_type": "display_data"
    },
    {
     "data": {
      "text/html": [
       " View run <strong style=\"color:#cdcd00\">trial-3</strong> at: <a href='https://wandb.ai/master-2024/BERT_BASE/runs/382cd44j' target=\"_blank\">https://wandb.ai/master-2024/BERT_BASE/runs/382cd44j</a><br/>Synced 5 W&B file(s), 0 media file(s), 0 artifact file(s) and 0 other file(s)"
      ],
      "text/plain": [
       "<IPython.core.display.HTML object>"
      ]
     },
     "metadata": {},
     "output_type": "display_data"
    },
    {
     "data": {
      "text/html": [
       "Find logs at: <code>./wandb/run-20240418_123035-382cd44j/logs</code>"
      ],
      "text/plain": [
       "<IPython.core.display.HTML object>"
      ]
     },
     "metadata": {},
     "output_type": "display_data"
    },
    {
     "name": "stderr",
     "output_type": "stream",
     "text": [
      "[I 2024-04-18 12:31:30,539] Trial 3 finished with value: 0.7494245403853665 and parameters: {'learning_rate': 0.000164092867306479, 'per_device_train_batch_size': 32, 'weight_decay': 0.2896896099223678, 'num_train_epochs': 2, 'warmup_steps': 220}. Best is trial 1 with value: 0.7584812616525473.\n"
     ]
    },
    {
     "data": {
      "text/html": [
       "wandb version 0.16.6 is available!  To upgrade, please run:\n",
       " $ pip install wandb --upgrade"
      ],
      "text/plain": [
       "<IPython.core.display.HTML object>"
      ]
     },
     "metadata": {},
     "output_type": "display_data"
    },
    {
     "data": {
      "text/html": [
       "Tracking run with wandb version 0.16.4"
      ],
      "text/plain": [
       "<IPython.core.display.HTML object>"
      ]
     },
     "metadata": {},
     "output_type": "display_data"
    },
    {
     "data": {
      "text/html": [
       "Run data is saved locally in <code>/net/fs-2/scale/OrionStore/Home/joteklem/Pytorch_models/wandb/run-20240418_123130-wpjlwxo5</code>"
      ],
      "text/plain": [
       "<IPython.core.display.HTML object>"
      ]
     },
     "metadata": {},
     "output_type": "display_data"
    },
    {
     "data": {
      "text/html": [
       "Syncing run <strong><a href='https://wandb.ai/master-2024/BERT_BASE/runs/wpjlwxo5' target=\"_blank\">trial-4</a></strong> to <a href='https://wandb.ai/master-2024/BERT_BASE' target=\"_blank\">Weights & Biases</a> (<a href='https://wandb.me/run' target=\"_blank\">docs</a>)<br/>"
      ],
      "text/plain": [
       "<IPython.core.display.HTML object>"
      ]
     },
     "metadata": {},
     "output_type": "display_data"
    },
    {
     "data": {
      "text/html": [
       " View project at <a href='https://wandb.ai/master-2024/BERT_BASE' target=\"_blank\">https://wandb.ai/master-2024/BERT_BASE</a>"
      ],
      "text/plain": [
       "<IPython.core.display.HTML object>"
      ]
     },
     "metadata": {},
     "output_type": "display_data"
    },
    {
     "data": {
      "text/html": [
       " View run at <a href='https://wandb.ai/master-2024/BERT_BASE/runs/wpjlwxo5' target=\"_blank\">https://wandb.ai/master-2024/BERT_BASE/runs/wpjlwxo5</a>"
      ],
      "text/plain": [
       "<IPython.core.display.HTML object>"
      ]
     },
     "metadata": {},
     "output_type": "display_data"
    },
    {
     "name": "stderr",
     "output_type": "stream",
     "text": [
      "/net/fs-2/scale/OrionStore/Scratch/joteklem/MyCondaEnvironments/Python3.11/orion_env/lib/python3.11/site-packages/accelerate/accelerator.py:432: FutureWarning: Passing the following arguments to `Accelerator` is deprecated and will be removed in version 1.0 of Accelerate: dict_keys(['dispatch_batches', 'split_batches', 'even_batches', 'use_seedable_sampler']). Please pass an `accelerate.DataLoaderConfiguration` instead: \n",
      "dataloader_config = DataLoaderConfiguration(dispatch_batches=None, split_batches=False, even_batches=True, use_seedable_sampler=True)\n",
      "  warnings.warn(\n",
      "Detected kernel version 3.10.0, which is below the recommended minimum of 5.5.0; this can cause the process to hang. It is recommended to upgrade the kernel to the minimum version or higher.\n"
     ]
    },
    {
     "name": "stdout",
     "output_type": "stream",
     "text": [
      "Starting trial 4\n"
     ]
    },
    {
     "data": {
      "text/html": [
       "\n",
       "    <div>\n",
       "      \n",
       "      <progress value='314' max='314' style='width:300px; height:20px; vertical-align: middle;'></progress>\n",
       "      [314/314 00:43, Epoch 1/2]\n",
       "    </div>\n",
       "    <table border=\"1\" class=\"dataframe\">\n",
       "  <thead>\n",
       " <tr style=\"text-align: left;\">\n",
       "      <th>Epoch</th>\n",
       "      <th>Training Loss</th>\n",
       "      <th>Validation Loss</th>\n",
       "      <th>Accuracy</th>\n",
       "      <th>Balanced accuracy</th>\n",
       "      <th>F1 weighted</th>\n",
       "      <th>F1 macro</th>\n",
       "      <th>F1 micro</th>\n",
       "      <th>Classification report</th>\n",
       "    </tr>\n",
       "  </thead>\n",
       "  <tbody>\n",
       "    <tr>\n",
       "      <td>0</td>\n",
       "      <td>No log</td>\n",
       "      <td>0.536674</td>\n",
       "      <td>0.794048</td>\n",
       "      <td>0.721272</td>\n",
       "      <td>0.791979</td>\n",
       "      <td>0.718735</td>\n",
       "      <td>0.794048</td>\n",
       "      <td>{'0': {'precision': 0.7593582887700535, 'recall': 0.6325167037861915, 'f1-score': 0.6901579586877279, 'support': 898.0}, '1': {'precision': 0.841988459831336, 'recall': 0.8827361563517915, 'f1-score': 0.8618809631985461, 'support': 2149.0}, '2': {'precision': 0.5654596100278552, 'recall': 0.6485623003194888, 'f1-score': 0.6041666666666667, 'support': 313.0}, 'accuracy': 0.794047619047619, 'macro avg': {'precision': 0.7222687862097482, 'recall': 0.7212717201524906, 'f1-score': 0.7187351961843135, 'support': 3360.0}, 'weighted avg': {'precision': 0.7941445837594547, 'recall': 0.794047619047619, 'f1-score': 0.7919786319886672, 'support': 3360.0}}</td>\n",
       "    </tr>\n",
       "    <tr>\n",
       "      <td>1</td>\n",
       "      <td>0.611600</td>\n",
       "      <td>0.493607</td>\n",
       "      <td>0.817560</td>\n",
       "      <td>0.733662</td>\n",
       "      <td>0.811801</td>\n",
       "      <td>0.748297</td>\n",
       "      <td>0.817560</td>\n",
       "      <td>{'0': {'precision': 0.806966618287373, 'recall': 0.6191536748329621, 'f1-score': 0.7006931316950221, 'support': 898.0}, '1': {'precision': 0.8396785109983079, 'recall': 0.9236854350860866, 'f1-score': 0.87968092178152, 'support': 2149.0}, '2': {'precision': 0.6710097719869706, 'recall': 0.65814696485623, 'f1-score': 0.664516129032258, 'support': 313.0}, 'accuracy': 0.8175595238095238, 'macro avg': {'precision': 0.7725516337575505, 'recall': 0.7336620249250929, 'f1-score': 0.7482967275029334, 'support': 3360.0}, 'weighted avg': {'precision': 0.8152235720206389, 'recall': 0.8175595238095238, 'f1-score': 0.8118006790350337, 'support': 3360.0}}</td>\n",
       "    </tr>\n",
       "  </tbody>\n",
       "</table><p>"
      ],
      "text/plain": [
       "<IPython.core.display.HTML object>"
      ]
     },
     "metadata": {},
     "output_type": "display_data"
    },
    {
     "data": {
      "text/html": [
       "\n",
       "    <div>\n",
       "      \n",
       "      <progress value='105' max='105' style='width:300px; height:20px; vertical-align: middle;'></progress>\n",
       "      [105/105 00:02]\n",
       "    </div>\n",
       "    "
      ],
      "text/plain": [
       "<IPython.core.display.HTML object>"
      ]
     },
     "metadata": {},
     "output_type": "display_data"
    },
    {
     "name": "stderr",
     "output_type": "stream",
     "text": [
      "/net/fs-2/scale/OrionStore/Scratch/joteklem/MyCondaEnvironments/Python3.11/orion_env/lib/python3.11/site-packages/optuna/trial/_trial.py:499: UserWarning: The reported value is ignored because this `step` 1.9936507936507937 is already reported.\n",
      "  warnings.warn(\n"
     ]
    },
    {
     "name": "stdout",
     "output_type": "stream",
     "text": [
      "Completed trial 4\n"
     ]
    },
    {
     "data": {
      "text/html": [
       "<style>\n",
       "    table.wandb td:nth-child(1) { padding: 0 10px; text-align: left ; width: auto;} td:nth-child(2) {text-align: left ; width: 100%}\n",
       "    .wandb-row { display: flex; flex-direction: row; flex-wrap: wrap; justify-content: flex-start; width: 100% }\n",
       "    .wandb-col { display: flex; flex-direction: column; flex-basis: 100%; flex: 1; padding: 10px; }\n",
       "    </style>\n",
       "<div class=\"wandb-row\"><div class=\"wandb-col\"><h3>Run history:</h3><br/><table class=\"wandb\"><tr><td>Training loss</td><td>▁</td></tr><tr><td>Validation loss</td><td>▁</td></tr><tr><td>Weighted F1 score</td><td>▁</td></tr><tr><td>eval/Accuracy</td><td>▁██</td></tr><tr><td>eval/Balanced accuracy</td><td>▁██</td></tr><tr><td>eval/F1 macro</td><td>▁██</td></tr><tr><td>eval/F1 micro</td><td>▁██</td></tr><tr><td>eval/F1 weighted</td><td>▁██</td></tr><tr><td>eval/loss</td><td>█▁▁</td></tr><tr><td>eval/runtime</td><td>█▁▃</td></tr><tr><td>eval/samples_per_second</td><td>▁█▆</td></tr><tr><td>eval/steps_per_second</td><td>▁█▆</td></tr><tr><td>train/epoch</td><td>▁████</td></tr><tr><td>train/global_step</td><td>▁██████</td></tr><tr><td>train/grad_norm</td><td>▁</td></tr><tr><td>train/learning_rate</td><td>▁</td></tr><tr><td>train/loss</td><td>▁</td></tr><tr><td>train/total_flos</td><td>▁</td></tr><tr><td>train/train_loss</td><td>▁</td></tr><tr><td>train/train_runtime</td><td>▁</td></tr><tr><td>train/train_samples_per_second</td><td>▁</td></tr><tr><td>train/train_steps_per_second</td><td>▁</td></tr></table><br/></div><div class=\"wandb-col\"><h3>Run summary:</h3><br/><table class=\"wandb\"><tr><td>Training loss</td><td>0.6116</td></tr><tr><td>Validation loss</td><td>0.53667</td></tr><tr><td>Weighted F1 score</td><td>0.7483</td></tr><tr><td>eval/Accuracy</td><td>0.81756</td></tr><tr><td>eval/Balanced accuracy</td><td>0.73366</td></tr><tr><td>eval/F1 macro</td><td>0.7483</td></tr><tr><td>eval/F1 micro</td><td>0.81756</td></tr><tr><td>eval/F1 weighted</td><td>0.8118</td></tr><tr><td>eval/loss</td><td>0.49361</td></tr><tr><td>eval/runtime</td><td>2.0896</td></tr><tr><td>eval/samples_per_second</td><td>1607.95</td></tr><tr><td>eval/steps_per_second</td><td>50.248</td></tr><tr><td>train/epoch</td><td>1.99</td></tr><tr><td>train/global_step</td><td>314</td></tr><tr><td>train/grad_norm</td><td>4.97918</td></tr><tr><td>train/learning_rate</td><td>0.0</td></tr><tr><td>train/loss</td><td>0.6116</td></tr><tr><td>train/total_flos</td><td>844474847639472.0</td></tr><tr><td>train/train_loss</td><td>0.61157</td></tr><tr><td>train/train_runtime</td><td>44.0134</td></tr><tr><td>train/train_samples_per_second</td><td>457.952</td></tr><tr><td>train/train_steps_per_second</td><td>7.134</td></tr></table><br/></div></div>"
      ],
      "text/plain": [
       "<IPython.core.display.HTML object>"
      ]
     },
     "metadata": {},
     "output_type": "display_data"
    },
    {
     "data": {
      "text/html": [
       " View run <strong style=\"color:#cdcd00\">trial-4</strong> at: <a href='https://wandb.ai/master-2024/BERT_BASE/runs/wpjlwxo5' target=\"_blank\">https://wandb.ai/master-2024/BERT_BASE/runs/wpjlwxo5</a><br/>Synced 5 W&B file(s), 0 media file(s), 0 artifact file(s) and 0 other file(s)"
      ],
      "text/plain": [
       "<IPython.core.display.HTML object>"
      ]
     },
     "metadata": {},
     "output_type": "display_data"
    },
    {
     "data": {
      "text/html": [
       "Find logs at: <code>./wandb/run-20240418_123130-wpjlwxo5/logs</code>"
      ],
      "text/plain": [
       "<IPython.core.display.HTML object>"
      ]
     },
     "metadata": {},
     "output_type": "display_data"
    },
    {
     "name": "stderr",
     "output_type": "stream",
     "text": [
      "[I 2024-04-18 12:32:25,799] Trial 4 finished with value: 0.7482967275029334 and parameters: {'learning_rate': 1.7541893487450798e-05, 'per_device_train_batch_size': 32, 'weight_decay': 0.07763399448000508, 'num_train_epochs': 2, 'warmup_steps': 92}. Best is trial 1 with value: 0.7584812616525473.\n"
     ]
    },
    {
     "data": {
      "text/html": [
       "wandb version 0.16.6 is available!  To upgrade, please run:\n",
       " $ pip install wandb --upgrade"
      ],
      "text/plain": [
       "<IPython.core.display.HTML object>"
      ]
     },
     "metadata": {},
     "output_type": "display_data"
    },
    {
     "data": {
      "text/html": [
       "Tracking run with wandb version 0.16.4"
      ],
      "text/plain": [
       "<IPython.core.display.HTML object>"
      ]
     },
     "metadata": {},
     "output_type": "display_data"
    },
    {
     "data": {
      "text/html": [
       "Run data is saved locally in <code>/net/fs-2/scale/OrionStore/Home/joteklem/Pytorch_models/wandb/run-20240418_123225-fbfugvo8</code>"
      ],
      "text/plain": [
       "<IPython.core.display.HTML object>"
      ]
     },
     "metadata": {},
     "output_type": "display_data"
    },
    {
     "data": {
      "text/html": [
       "Syncing run <strong><a href='https://wandb.ai/master-2024/BERT_BASE/runs/fbfugvo8' target=\"_blank\">trial-5</a></strong> to <a href='https://wandb.ai/master-2024/BERT_BASE' target=\"_blank\">Weights & Biases</a> (<a href='https://wandb.me/run' target=\"_blank\">docs</a>)<br/>"
      ],
      "text/plain": [
       "<IPython.core.display.HTML object>"
      ]
     },
     "metadata": {},
     "output_type": "display_data"
    },
    {
     "data": {
      "text/html": [
       " View project at <a href='https://wandb.ai/master-2024/BERT_BASE' target=\"_blank\">https://wandb.ai/master-2024/BERT_BASE</a>"
      ],
      "text/plain": [
       "<IPython.core.display.HTML object>"
      ]
     },
     "metadata": {},
     "output_type": "display_data"
    },
    {
     "data": {
      "text/html": [
       " View run at <a href='https://wandb.ai/master-2024/BERT_BASE/runs/fbfugvo8' target=\"_blank\">https://wandb.ai/master-2024/BERT_BASE/runs/fbfugvo8</a>"
      ],
      "text/plain": [
       "<IPython.core.display.HTML object>"
      ]
     },
     "metadata": {},
     "output_type": "display_data"
    },
    {
     "name": "stderr",
     "output_type": "stream",
     "text": [
      "/net/fs-2/scale/OrionStore/Scratch/joteklem/MyCondaEnvironments/Python3.11/orion_env/lib/python3.11/site-packages/accelerate/accelerator.py:432: FutureWarning: Passing the following arguments to `Accelerator` is deprecated and will be removed in version 1.0 of Accelerate: dict_keys(['dispatch_batches', 'split_batches', 'even_batches', 'use_seedable_sampler']). Please pass an `accelerate.DataLoaderConfiguration` instead: \n",
      "dataloader_config = DataLoaderConfiguration(dispatch_batches=None, split_batches=False, even_batches=True, use_seedable_sampler=True)\n",
      "  warnings.warn(\n",
      "Detected kernel version 3.10.0, which is below the recommended minimum of 5.5.0; this can cause the process to hang. It is recommended to upgrade the kernel to the minimum version or higher.\n"
     ]
    },
    {
     "name": "stdout",
     "output_type": "stream",
     "text": [
      "Starting trial 5\n"
     ]
    },
    {
     "data": {
      "text/html": [
       "\n",
       "    <div>\n",
       "      \n",
       "      <progress value='316' max='630' style='width:300px; height:20px; vertical-align: middle;'></progress>\n",
       "      [315/630 00:29 < 00:29, 10.62 it/s, Epoch 1.00/2]\n",
       "    </div>\n",
       "    <table border=\"1\" class=\"dataframe\">\n",
       "  <thead>\n",
       " <tr style=\"text-align: left;\">\n",
       "      <th>Epoch</th>\n",
       "      <th>Training Loss</th>\n",
       "      <th>Validation Loss</th>\n",
       "    </tr>\n",
       "  </thead>\n",
       "  <tbody>\n",
       "  </tbody>\n",
       "</table><p>\n",
       "    <div>\n",
       "      \n",
       "      <progress value='210' max='210' style='width:300px; height:20px; vertical-align: middle;'></progress>\n",
       "      [210/210 00:02]\n",
       "    </div>\n",
       "    "
      ],
      "text/plain": [
       "<IPython.core.display.HTML object>"
      ]
     },
     "metadata": {},
     "output_type": "display_data"
    },
    {
     "name": "stderr",
     "output_type": "stream",
     "text": [
      "[I 2024-04-18 12:33:01,599] Trial 5 pruned. \n"
     ]
    },
    {
     "data": {
      "text/html": [
       "Finishing last run (ID:fbfugvo8) before initializing another..."
      ],
      "text/plain": [
       "<IPython.core.display.HTML object>"
      ]
     },
     "metadata": {},
     "output_type": "display_data"
    },
    {
     "data": {
      "text/html": [
       "<style>\n",
       "    table.wandb td:nth-child(1) { padding: 0 10px; text-align: left ; width: auto;} td:nth-child(2) {text-align: left ; width: 100%}\n",
       "    .wandb-row { display: flex; flex-direction: row; flex-wrap: wrap; justify-content: flex-start; width: 100% }\n",
       "    .wandb-col { display: flex; flex-direction: column; flex-basis: 100%; flex: 1; padding: 10px; }\n",
       "    </style>\n",
       "<div class=\"wandb-row\"><div class=\"wandb-col\"><h3>Run history:</h3><br/><table class=\"wandb\"><tr><td>eval/Accuracy</td><td>▁</td></tr><tr><td>eval/Balanced accuracy</td><td>▁</td></tr><tr><td>eval/F1 macro</td><td>▁</td></tr><tr><td>eval/F1 micro</td><td>▁</td></tr><tr><td>eval/F1 weighted</td><td>▁</td></tr><tr><td>eval/loss</td><td>▁</td></tr><tr><td>eval/runtime</td><td>▁</td></tr><tr><td>eval/samples_per_second</td><td>▁</td></tr><tr><td>eval/steps_per_second</td><td>▁</td></tr><tr><td>train/epoch</td><td>▁</td></tr><tr><td>train/global_step</td><td>▁</td></tr></table><br/></div><div class=\"wandb-col\"><h3>Run summary:</h3><br/><table class=\"wandb\"><tr><td>eval/Accuracy</td><td>0.63958</td></tr><tr><td>eval/Balanced accuracy</td><td>0.33333</td></tr><tr><td>eval/F1 macro</td><td>0.26006</td></tr><tr><td>eval/F1 micro</td><td>0.63958</td></tr><tr><td>eval/F1 weighted</td><td>0.49899</td></tr><tr><td>eval/loss</td><td>0.88853</td></tr><tr><td>eval/runtime</td><td>2.583</td></tr><tr><td>eval/samples_per_second</td><td>1300.831</td></tr><tr><td>eval/steps_per_second</td><td>81.302</td></tr><tr><td>train/epoch</td><td>1.0</td></tr><tr><td>train/global_step</td><td>315</td></tr></table><br/></div></div>"
      ],
      "text/plain": [
       "<IPython.core.display.HTML object>"
      ]
     },
     "metadata": {},
     "output_type": "display_data"
    },
    {
     "data": {
      "text/html": [
       " View run <strong style=\"color:#cdcd00\">trial-5</strong> at: <a href='https://wandb.ai/master-2024/BERT_BASE/runs/fbfugvo8' target=\"_blank\">https://wandb.ai/master-2024/BERT_BASE/runs/fbfugvo8</a><br/>Synced 5 W&B file(s), 0 media file(s), 0 artifact file(s) and 0 other file(s)"
      ],
      "text/plain": [
       "<IPython.core.display.HTML object>"
      ]
     },
     "metadata": {},
     "output_type": "display_data"
    },
    {
     "data": {
      "text/html": [
       "Find logs at: <code>./wandb/run-20240418_123225-fbfugvo8/logs</code>"
      ],
      "text/plain": [
       "<IPython.core.display.HTML object>"
      ]
     },
     "metadata": {},
     "output_type": "display_data"
    },
    {
     "data": {
      "text/html": [
       "Successfully finished last run (ID:fbfugvo8). Initializing new run:<br/>"
      ],
      "text/plain": [
       "<IPython.core.display.HTML object>"
      ]
     },
     "metadata": {},
     "output_type": "display_data"
    },
    {
     "data": {
      "text/html": [
       "wandb version 0.16.6 is available!  To upgrade, please run:\n",
       " $ pip install wandb --upgrade"
      ],
      "text/plain": [
       "<IPython.core.display.HTML object>"
      ]
     },
     "metadata": {},
     "output_type": "display_data"
    },
    {
     "data": {
      "text/html": [
       "Tracking run with wandb version 0.16.4"
      ],
      "text/plain": [
       "<IPython.core.display.HTML object>"
      ]
     },
     "metadata": {},
     "output_type": "display_data"
    },
    {
     "data": {
      "text/html": [
       "Run data is saved locally in <code>/net/fs-2/scale/OrionStore/Home/joteklem/Pytorch_models/wandb/run-20240418_123301-ykw32bqe</code>"
      ],
      "text/plain": [
       "<IPython.core.display.HTML object>"
      ]
     },
     "metadata": {},
     "output_type": "display_data"
    },
    {
     "data": {
      "text/html": [
       "Syncing run <strong><a href='https://wandb.ai/master-2024/BERT_BASE/runs/ykw32bqe' target=\"_blank\">trial-6</a></strong> to <a href='https://wandb.ai/master-2024/BERT_BASE' target=\"_blank\">Weights & Biases</a> (<a href='https://wandb.me/run' target=\"_blank\">docs</a>)<br/>"
      ],
      "text/plain": [
       "<IPython.core.display.HTML object>"
      ]
     },
     "metadata": {},
     "output_type": "display_data"
    },
    {
     "data": {
      "text/html": [
       " View project at <a href='https://wandb.ai/master-2024/BERT_BASE' target=\"_blank\">https://wandb.ai/master-2024/BERT_BASE</a>"
      ],
      "text/plain": [
       "<IPython.core.display.HTML object>"
      ]
     },
     "metadata": {},
     "output_type": "display_data"
    },
    {
     "data": {
      "text/html": [
       " View run at <a href='https://wandb.ai/master-2024/BERT_BASE/runs/ykw32bqe' target=\"_blank\">https://wandb.ai/master-2024/BERT_BASE/runs/ykw32bqe</a>"
      ],
      "text/plain": [
       "<IPython.core.display.HTML object>"
      ]
     },
     "metadata": {},
     "output_type": "display_data"
    },
    {
     "name": "stdout",
     "output_type": "stream",
     "text": [
      "Starting trial 6\n"
     ]
    },
    {
     "name": "stderr",
     "output_type": "stream",
     "text": [
      "/net/fs-2/scale/OrionStore/Scratch/joteklem/MyCondaEnvironments/Python3.11/orion_env/lib/python3.11/site-packages/accelerate/accelerator.py:432: FutureWarning: Passing the following arguments to `Accelerator` is deprecated and will be removed in version 1.0 of Accelerate: dict_keys(['dispatch_batches', 'split_batches', 'even_batches', 'use_seedable_sampler']). Please pass an `accelerate.DataLoaderConfiguration` instead: \n",
      "dataloader_config = DataLoaderConfiguration(dispatch_batches=None, split_batches=False, even_batches=True, use_seedable_sampler=True)\n",
      "  warnings.warn(\n",
      "Detected kernel version 3.10.0, which is below the recommended minimum of 5.5.0; this can cause the process to hang. It is recommended to upgrade the kernel to the minimum version or higher.\n"
     ]
    },
    {
     "data": {
      "text/html": [
       "\n",
       "    <div>\n",
       "      \n",
       "      <progress value='316' max='1260' style='width:300px; height:20px; vertical-align: middle;'></progress>\n",
       "      [ 316/1260 00:32 < 01:37, 9.66 it/s, Epoch 1/4]\n",
       "    </div>\n",
       "    <table border=\"1\" class=\"dataframe\">\n",
       "  <thead>\n",
       " <tr style=\"text-align: left;\">\n",
       "      <th>Epoch</th>\n",
       "      <th>Training Loss</th>\n",
       "      <th>Validation Loss</th>\n",
       "    </tr>\n",
       "  </thead>\n",
       "  <tbody>\n",
       "  </tbody>\n",
       "</table><p>\n",
       "    <div>\n",
       "      \n",
       "      <progress value='210' max='210' style='width:300px; height:20px; vertical-align: middle;'></progress>\n",
       "      [210/210 00:02]\n",
       "    </div>\n",
       "    "
      ],
      "text/plain": [
       "<IPython.core.display.HTML object>"
      ]
     },
     "metadata": {},
     "output_type": "display_data"
    },
    {
     "name": "stderr",
     "output_type": "stream",
     "text": [
      "[I 2024-04-18 12:33:45,624] Trial 6 pruned. \n"
     ]
    },
    {
     "data": {
      "text/html": [
       "Finishing last run (ID:ykw32bqe) before initializing another..."
      ],
      "text/plain": [
       "<IPython.core.display.HTML object>"
      ]
     },
     "metadata": {},
     "output_type": "display_data"
    },
    {
     "data": {
      "text/html": [
       "<style>\n",
       "    table.wandb td:nth-child(1) { padding: 0 10px; text-align: left ; width: auto;} td:nth-child(2) {text-align: left ; width: 100%}\n",
       "    .wandb-row { display: flex; flex-direction: row; flex-wrap: wrap; justify-content: flex-start; width: 100% }\n",
       "    .wandb-col { display: flex; flex-direction: column; flex-basis: 100%; flex: 1; padding: 10px; }\n",
       "    </style>\n",
       "<div class=\"wandb-row\"><div class=\"wandb-col\"><h3>Run history:</h3><br/><table class=\"wandb\"><tr><td>eval/Accuracy</td><td>▁</td></tr><tr><td>eval/Balanced accuracy</td><td>▁</td></tr><tr><td>eval/F1 macro</td><td>▁</td></tr><tr><td>eval/F1 micro</td><td>▁</td></tr><tr><td>eval/F1 weighted</td><td>▁</td></tr><tr><td>eval/loss</td><td>▁</td></tr><tr><td>eval/runtime</td><td>▁</td></tr><tr><td>eval/samples_per_second</td><td>▁</td></tr><tr><td>eval/steps_per_second</td><td>▁</td></tr><tr><td>train/epoch</td><td>▁</td></tr><tr><td>train/global_step</td><td>▁</td></tr></table><br/></div><div class=\"wandb-col\"><h3>Run summary:</h3><br/><table class=\"wandb\"><tr><td>eval/Accuracy</td><td>0.78333</td></tr><tr><td>eval/Balanced accuracy</td><td>0.57804</td></tr><tr><td>eval/F1 macro</td><td>0.61916</td></tr><tr><td>eval/F1 micro</td><td>0.78333</td></tr><tr><td>eval/F1 weighted</td><td>0.7571</td></tr><tr><td>eval/loss</td><td>0.58696</td></tr><tr><td>eval/runtime</td><td>2.5808</td></tr><tr><td>eval/samples_per_second</td><td>1301.936</td></tr><tr><td>eval/steps_per_second</td><td>81.371</td></tr><tr><td>train/epoch</td><td>1.0</td></tr><tr><td>train/global_step</td><td>315</td></tr></table><br/></div></div>"
      ],
      "text/plain": [
       "<IPython.core.display.HTML object>"
      ]
     },
     "metadata": {},
     "output_type": "display_data"
    },
    {
     "data": {
      "text/html": [
       " View run <strong style=\"color:#cdcd00\">trial-6</strong> at: <a href='https://wandb.ai/master-2024/BERT_BASE/runs/ykw32bqe' target=\"_blank\">https://wandb.ai/master-2024/BERT_BASE/runs/ykw32bqe</a><br/>Synced 5 W&B file(s), 0 media file(s), 0 artifact file(s) and 0 other file(s)"
      ],
      "text/plain": [
       "<IPython.core.display.HTML object>"
      ]
     },
     "metadata": {},
     "output_type": "display_data"
    },
    {
     "data": {
      "text/html": [
       "Find logs at: <code>./wandb/run-20240418_123301-ykw32bqe/logs</code>"
      ],
      "text/plain": [
       "<IPython.core.display.HTML object>"
      ]
     },
     "metadata": {},
     "output_type": "display_data"
    },
    {
     "data": {
      "text/html": [
       "Successfully finished last run (ID:ykw32bqe). Initializing new run:<br/>"
      ],
      "text/plain": [
       "<IPython.core.display.HTML object>"
      ]
     },
     "metadata": {},
     "output_type": "display_data"
    },
    {
     "data": {
      "text/html": [
       "wandb version 0.16.6 is available!  To upgrade, please run:\n",
       " $ pip install wandb --upgrade"
      ],
      "text/plain": [
       "<IPython.core.display.HTML object>"
      ]
     },
     "metadata": {},
     "output_type": "display_data"
    },
    {
     "data": {
      "text/html": [
       "Tracking run with wandb version 0.16.4"
      ],
      "text/plain": [
       "<IPython.core.display.HTML object>"
      ]
     },
     "metadata": {},
     "output_type": "display_data"
    },
    {
     "data": {
      "text/html": [
       "Run data is saved locally in <code>/net/fs-2/scale/OrionStore/Home/joteklem/Pytorch_models/wandb/run-20240418_123345-dtwf9s8e</code>"
      ],
      "text/plain": [
       "<IPython.core.display.HTML object>"
      ]
     },
     "metadata": {},
     "output_type": "display_data"
    },
    {
     "data": {
      "text/html": [
       "Syncing run <strong><a href='https://wandb.ai/master-2024/BERT_BASE/runs/dtwf9s8e' target=\"_blank\">trial-7</a></strong> to <a href='https://wandb.ai/master-2024/BERT_BASE' target=\"_blank\">Weights & Biases</a> (<a href='https://wandb.me/run' target=\"_blank\">docs</a>)<br/>"
      ],
      "text/plain": [
       "<IPython.core.display.HTML object>"
      ]
     },
     "metadata": {},
     "output_type": "display_data"
    },
    {
     "data": {
      "text/html": [
       " View project at <a href='https://wandb.ai/master-2024/BERT_BASE' target=\"_blank\">https://wandb.ai/master-2024/BERT_BASE</a>"
      ],
      "text/plain": [
       "<IPython.core.display.HTML object>"
      ]
     },
     "metadata": {},
     "output_type": "display_data"
    },
    {
     "data": {
      "text/html": [
       " View run at <a href='https://wandb.ai/master-2024/BERT_BASE/runs/dtwf9s8e' target=\"_blank\">https://wandb.ai/master-2024/BERT_BASE/runs/dtwf9s8e</a>"
      ],
      "text/plain": [
       "<IPython.core.display.HTML object>"
      ]
     },
     "metadata": {},
     "output_type": "display_data"
    },
    {
     "name": "stderr",
     "output_type": "stream",
     "text": [
      "/net/fs-2/scale/OrionStore/Scratch/joteklem/MyCondaEnvironments/Python3.11/orion_env/lib/python3.11/site-packages/accelerate/accelerator.py:432: FutureWarning: Passing the following arguments to `Accelerator` is deprecated and will be removed in version 1.0 of Accelerate: dict_keys(['dispatch_batches', 'split_batches', 'even_batches', 'use_seedable_sampler']). Please pass an `accelerate.DataLoaderConfiguration` instead: \n",
      "dataloader_config = DataLoaderConfiguration(dispatch_batches=None, split_batches=False, even_batches=True, use_seedable_sampler=True)\n",
      "  warnings.warn(\n",
      "Detected kernel version 3.10.0, which is below the recommended minimum of 5.5.0; this can cause the process to hang. It is recommended to upgrade the kernel to the minimum version or higher.\n"
     ]
    },
    {
     "name": "stdout",
     "output_type": "stream",
     "text": [
      "Starting trial 7\n"
     ]
    },
    {
     "data": {
      "text/html": [
       "\n",
       "    <div>\n",
       "      \n",
       "      <progress value='158' max='471' style='width:300px; height:20px; vertical-align: middle;'></progress>\n",
       "      [158/471 00:19 < 00:39, 8.02 it/s, Epoch 1.00/3]\n",
       "    </div>\n",
       "    <table border=\"1\" class=\"dataframe\">\n",
       "  <thead>\n",
       " <tr style=\"text-align: left;\">\n",
       "      <th>Epoch</th>\n",
       "      <th>Training Loss</th>\n",
       "      <th>Validation Loss</th>\n",
       "    </tr>\n",
       "  </thead>\n",
       "  <tbody>\n",
       "  </tbody>\n",
       "</table><p>\n",
       "    <div>\n",
       "      \n",
       "      <progress value='105' max='105' style='width:300px; height:20px; vertical-align: middle;'></progress>\n",
       "      [105/105 00:02]\n",
       "    </div>\n",
       "    "
      ],
      "text/plain": [
       "<IPython.core.display.HTML object>"
      ]
     },
     "metadata": {},
     "output_type": "display_data"
    },
    {
     "name": "stderr",
     "output_type": "stream",
     "text": [
      "[I 2024-04-18 12:34:14,747] Trial 7 pruned. \n"
     ]
    },
    {
     "data": {
      "text/html": [
       "Finishing last run (ID:dtwf9s8e) before initializing another..."
      ],
      "text/plain": [
       "<IPython.core.display.HTML object>"
      ]
     },
     "metadata": {},
     "output_type": "display_data"
    },
    {
     "data": {
      "text/html": [
       "<style>\n",
       "    table.wandb td:nth-child(1) { padding: 0 10px; text-align: left ; width: auto;} td:nth-child(2) {text-align: left ; width: 100%}\n",
       "    .wandb-row { display: flex; flex-direction: row; flex-wrap: wrap; justify-content: flex-start; width: 100% }\n",
       "    .wandb-col { display: flex; flex-direction: column; flex-basis: 100%; flex: 1; padding: 10px; }\n",
       "    </style>\n",
       "<div class=\"wandb-row\"><div class=\"wandb-col\"><h3>Run history:</h3><br/><table class=\"wandb\"><tr><td>eval/Accuracy</td><td>▁</td></tr><tr><td>eval/Balanced accuracy</td><td>▁</td></tr><tr><td>eval/F1 macro</td><td>▁</td></tr><tr><td>eval/F1 micro</td><td>▁</td></tr><tr><td>eval/F1 weighted</td><td>▁</td></tr><tr><td>eval/loss</td><td>▁</td></tr><tr><td>eval/runtime</td><td>▁</td></tr><tr><td>eval/samples_per_second</td><td>▁</td></tr><tr><td>eval/steps_per_second</td><td>▁</td></tr><tr><td>train/epoch</td><td>▁</td></tr><tr><td>train/global_step</td><td>▁</td></tr></table><br/></div><div class=\"wandb-col\"><h3>Run summary:</h3><br/><table class=\"wandb\"><tr><td>eval/Accuracy</td><td>0.63958</td></tr><tr><td>eval/Balanced accuracy</td><td>0.33333</td></tr><tr><td>eval/F1 macro</td><td>0.26006</td></tr><tr><td>eval/F1 micro</td><td>0.63958</td></tr><tr><td>eval/F1 weighted</td><td>0.49899</td></tr><tr><td>eval/loss</td><td>0.86004</td></tr><tr><td>eval/runtime</td><td>2.0542</td></tr><tr><td>eval/samples_per_second</td><td>1635.669</td></tr><tr><td>eval/steps_per_second</td><td>51.115</td></tr><tr><td>train/epoch</td><td>1.0</td></tr><tr><td>train/global_step</td><td>157</td></tr></table><br/></div></div>"
      ],
      "text/plain": [
       "<IPython.core.display.HTML object>"
      ]
     },
     "metadata": {},
     "output_type": "display_data"
    },
    {
     "data": {
      "text/html": [
       " View run <strong style=\"color:#cdcd00\">trial-7</strong> at: <a href='https://wandb.ai/master-2024/BERT_BASE/runs/dtwf9s8e' target=\"_blank\">https://wandb.ai/master-2024/BERT_BASE/runs/dtwf9s8e</a><br/>Synced 5 W&B file(s), 0 media file(s), 0 artifact file(s) and 0 other file(s)"
      ],
      "text/plain": [
       "<IPython.core.display.HTML object>"
      ]
     },
     "metadata": {},
     "output_type": "display_data"
    },
    {
     "data": {
      "text/html": [
       "Find logs at: <code>./wandb/run-20240418_123345-dtwf9s8e/logs</code>"
      ],
      "text/plain": [
       "<IPython.core.display.HTML object>"
      ]
     },
     "metadata": {},
     "output_type": "display_data"
    },
    {
     "data": {
      "text/html": [
       "Successfully finished last run (ID:dtwf9s8e). Initializing new run:<br/>"
      ],
      "text/plain": [
       "<IPython.core.display.HTML object>"
      ]
     },
     "metadata": {},
     "output_type": "display_data"
    },
    {
     "data": {
      "text/html": [
       "wandb version 0.16.6 is available!  To upgrade, please run:\n",
       " $ pip install wandb --upgrade"
      ],
      "text/plain": [
       "<IPython.core.display.HTML object>"
      ]
     },
     "metadata": {},
     "output_type": "display_data"
    },
    {
     "data": {
      "text/html": [
       "Tracking run with wandb version 0.16.4"
      ],
      "text/plain": [
       "<IPython.core.display.HTML object>"
      ]
     },
     "metadata": {},
     "output_type": "display_data"
    },
    {
     "data": {
      "text/html": [
       "Run data is saved locally in <code>/net/fs-2/scale/OrionStore/Home/joteklem/Pytorch_models/wandb/run-20240418_123414-bjf013hg</code>"
      ],
      "text/plain": [
       "<IPython.core.display.HTML object>"
      ]
     },
     "metadata": {},
     "output_type": "display_data"
    },
    {
     "data": {
      "text/html": [
       "Syncing run <strong><a href='https://wandb.ai/master-2024/BERT_BASE/runs/bjf013hg' target=\"_blank\">trial-8</a></strong> to <a href='https://wandb.ai/master-2024/BERT_BASE' target=\"_blank\">Weights & Biases</a> (<a href='https://wandb.me/run' target=\"_blank\">docs</a>)<br/>"
      ],
      "text/plain": [
       "<IPython.core.display.HTML object>"
      ]
     },
     "metadata": {},
     "output_type": "display_data"
    },
    {
     "data": {
      "text/html": [
       " View project at <a href='https://wandb.ai/master-2024/BERT_BASE' target=\"_blank\">https://wandb.ai/master-2024/BERT_BASE</a>"
      ],
      "text/plain": [
       "<IPython.core.display.HTML object>"
      ]
     },
     "metadata": {},
     "output_type": "display_data"
    },
    {
     "data": {
      "text/html": [
       " View run at <a href='https://wandb.ai/master-2024/BERT_BASE/runs/bjf013hg' target=\"_blank\">https://wandb.ai/master-2024/BERT_BASE/runs/bjf013hg</a>"
      ],
      "text/plain": [
       "<IPython.core.display.HTML object>"
      ]
     },
     "metadata": {},
     "output_type": "display_data"
    },
    {
     "name": "stderr",
     "output_type": "stream",
     "text": [
      "/net/fs-2/scale/OrionStore/Scratch/joteklem/MyCondaEnvironments/Python3.11/orion_env/lib/python3.11/site-packages/accelerate/accelerator.py:432: FutureWarning: Passing the following arguments to `Accelerator` is deprecated and will be removed in version 1.0 of Accelerate: dict_keys(['dispatch_batches', 'split_batches', 'even_batches', 'use_seedable_sampler']). Please pass an `accelerate.DataLoaderConfiguration` instead: \n",
      "dataloader_config = DataLoaderConfiguration(dispatch_batches=None, split_batches=False, even_batches=True, use_seedable_sampler=True)\n",
      "  warnings.warn(\n",
      "Detected kernel version 3.10.0, which is below the recommended minimum of 5.5.0; this can cause the process to hang. It is recommended to upgrade the kernel to the minimum version or higher.\n"
     ]
    },
    {
     "name": "stdout",
     "output_type": "stream",
     "text": [
      "Starting trial 8\n"
     ]
    },
    {
     "data": {
      "text/html": [
       "\n",
       "    <div>\n",
       "      \n",
       "      <progress value='631' max='3150' style='width:300px; height:20px; vertical-align: middle;'></progress>\n",
       "      [ 631/3150 01:10 < 04:43, 8.88 it/s, Epoch 1/5]\n",
       "    </div>\n",
       "    <table border=\"1\" class=\"dataframe\">\n",
       "  <thead>\n",
       " <tr style=\"text-align: left;\">\n",
       "      <th>Epoch</th>\n",
       "      <th>Training Loss</th>\n",
       "      <th>Validation Loss</th>\n",
       "    </tr>\n",
       "  </thead>\n",
       "  <tbody>\n",
       "  </tbody>\n",
       "</table><p>\n",
       "    <div>\n",
       "      \n",
       "      <progress value='420' max='420' style='width:300px; height:20px; vertical-align: middle;'></progress>\n",
       "      [420/420 00:04]\n",
       "    </div>\n",
       "    "
      ],
      "text/plain": [
       "<IPython.core.display.HTML object>"
      ]
     },
     "metadata": {},
     "output_type": "display_data"
    },
    {
     "name": "stderr",
     "output_type": "stream",
     "text": [
      "[I 2024-04-18 12:35:39,608] Trial 8 pruned. \n"
     ]
    },
    {
     "data": {
      "text/html": [
       "Finishing last run (ID:bjf013hg) before initializing another..."
      ],
      "text/plain": [
       "<IPython.core.display.HTML object>"
      ]
     },
     "metadata": {},
     "output_type": "display_data"
    },
    {
     "data": {
      "text/html": [
       "<style>\n",
       "    table.wandb td:nth-child(1) { padding: 0 10px; text-align: left ; width: auto;} td:nth-child(2) {text-align: left ; width: 100%}\n",
       "    .wandb-row { display: flex; flex-direction: row; flex-wrap: wrap; justify-content: flex-start; width: 100% }\n",
       "    .wandb-col { display: flex; flex-direction: column; flex-basis: 100%; flex: 1; padding: 10px; }\n",
       "    </style>\n",
       "<div class=\"wandb-row\"><div class=\"wandb-col\"><h3>Run history:</h3><br/><table class=\"wandb\"><tr><td>eval/Accuracy</td><td>▁</td></tr><tr><td>eval/Balanced accuracy</td><td>▁</td></tr><tr><td>eval/F1 macro</td><td>▁</td></tr><tr><td>eval/F1 micro</td><td>▁</td></tr><tr><td>eval/F1 weighted</td><td>▁</td></tr><tr><td>eval/loss</td><td>▁</td></tr><tr><td>eval/runtime</td><td>▁</td></tr><tr><td>eval/samples_per_second</td><td>▁</td></tr><tr><td>eval/steps_per_second</td><td>▁</td></tr><tr><td>train/epoch</td><td>▁</td></tr><tr><td>train/global_step</td><td>▁</td></tr></table><br/></div><div class=\"wandb-col\"><h3>Run summary:</h3><br/><table class=\"wandb\"><tr><td>eval/Accuracy</td><td>0.63958</td></tr><tr><td>eval/Balanced accuracy</td><td>0.33333</td></tr><tr><td>eval/F1 macro</td><td>0.26006</td></tr><tr><td>eval/F1 micro</td><td>0.63958</td></tr><tr><td>eval/F1 weighted</td><td>0.49899</td></tr><tr><td>eval/loss</td><td>0.88142</td></tr><tr><td>eval/runtime</td><td>4.8387</td></tr><tr><td>eval/samples_per_second</td><td>694.407</td></tr><tr><td>eval/steps_per_second</td><td>86.801</td></tr><tr><td>train/epoch</td><td>1.0</td></tr><tr><td>train/global_step</td><td>630</td></tr></table><br/></div></div>"
      ],
      "text/plain": [
       "<IPython.core.display.HTML object>"
      ]
     },
     "metadata": {},
     "output_type": "display_data"
    },
    {
     "data": {
      "text/html": [
       " View run <strong style=\"color:#cdcd00\">trial-8</strong> at: <a href='https://wandb.ai/master-2024/BERT_BASE/runs/bjf013hg' target=\"_blank\">https://wandb.ai/master-2024/BERT_BASE/runs/bjf013hg</a><br/>Synced 5 W&B file(s), 0 media file(s), 0 artifact file(s) and 0 other file(s)"
      ],
      "text/plain": [
       "<IPython.core.display.HTML object>"
      ]
     },
     "metadata": {},
     "output_type": "display_data"
    },
    {
     "data": {
      "text/html": [
       "Find logs at: <code>./wandb/run-20240418_123414-bjf013hg/logs</code>"
      ],
      "text/plain": [
       "<IPython.core.display.HTML object>"
      ]
     },
     "metadata": {},
     "output_type": "display_data"
    },
    {
     "data": {
      "text/html": [
       "Successfully finished last run (ID:bjf013hg). Initializing new run:<br/>"
      ],
      "text/plain": [
       "<IPython.core.display.HTML object>"
      ]
     },
     "metadata": {},
     "output_type": "display_data"
    },
    {
     "data": {
      "text/html": [
       "wandb version 0.16.6 is available!  To upgrade, please run:\n",
       " $ pip install wandb --upgrade"
      ],
      "text/plain": [
       "<IPython.core.display.HTML object>"
      ]
     },
     "metadata": {},
     "output_type": "display_data"
    },
    {
     "data": {
      "text/html": [
       "Tracking run with wandb version 0.16.4"
      ],
      "text/plain": [
       "<IPython.core.display.HTML object>"
      ]
     },
     "metadata": {},
     "output_type": "display_data"
    },
    {
     "data": {
      "text/html": [
       "Run data is saved locally in <code>/net/fs-2/scale/OrionStore/Home/joteklem/Pytorch_models/wandb/run-20240418_123539-pkq4f6nw</code>"
      ],
      "text/plain": [
       "<IPython.core.display.HTML object>"
      ]
     },
     "metadata": {},
     "output_type": "display_data"
    },
    {
     "data": {
      "text/html": [
       "Syncing run <strong><a href='https://wandb.ai/master-2024/BERT_BASE/runs/pkq4f6nw' target=\"_blank\">trial-9</a></strong> to <a href='https://wandb.ai/master-2024/BERT_BASE' target=\"_blank\">Weights & Biases</a> (<a href='https://wandb.me/run' target=\"_blank\">docs</a>)<br/>"
      ],
      "text/plain": [
       "<IPython.core.display.HTML object>"
      ]
     },
     "metadata": {},
     "output_type": "display_data"
    },
    {
     "data": {
      "text/html": [
       " View project at <a href='https://wandb.ai/master-2024/BERT_BASE' target=\"_blank\">https://wandb.ai/master-2024/BERT_BASE</a>"
      ],
      "text/plain": [
       "<IPython.core.display.HTML object>"
      ]
     },
     "metadata": {},
     "output_type": "display_data"
    },
    {
     "data": {
      "text/html": [
       " View run at <a href='https://wandb.ai/master-2024/BERT_BASE/runs/pkq4f6nw' target=\"_blank\">https://wandb.ai/master-2024/BERT_BASE/runs/pkq4f6nw</a>"
      ],
      "text/plain": [
       "<IPython.core.display.HTML object>"
      ]
     },
     "metadata": {},
     "output_type": "display_data"
    },
    {
     "name": "stderr",
     "output_type": "stream",
     "text": [
      "/net/fs-2/scale/OrionStore/Scratch/joteklem/MyCondaEnvironments/Python3.11/orion_env/lib/python3.11/site-packages/accelerate/accelerator.py:432: FutureWarning: Passing the following arguments to `Accelerator` is deprecated and will be removed in version 1.0 of Accelerate: dict_keys(['dispatch_batches', 'split_batches', 'even_batches', 'use_seedable_sampler']). Please pass an `accelerate.DataLoaderConfiguration` instead: \n",
      "dataloader_config = DataLoaderConfiguration(dispatch_batches=None, split_batches=False, even_batches=True, use_seedable_sampler=True)\n",
      "  warnings.warn(\n",
      "Detected kernel version 3.10.0, which is below the recommended minimum of 5.5.0; this can cause the process to hang. It is recommended to upgrade the kernel to the minimum version or higher.\n"
     ]
    },
    {
     "name": "stdout",
     "output_type": "stream",
     "text": [
      "Starting trial 9\n"
     ]
    },
    {
     "data": {
      "text/html": [
       "\n",
       "    <div>\n",
       "      \n",
       "      <progress value='316' max='945' style='width:300px; height:20px; vertical-align: middle;'></progress>\n",
       "      [315/945 00:29 < 01:00, 10.46 it/s, Epoch 1.00/3]\n",
       "    </div>\n",
       "    <table border=\"1\" class=\"dataframe\">\n",
       "  <thead>\n",
       " <tr style=\"text-align: left;\">\n",
       "      <th>Epoch</th>\n",
       "      <th>Training Loss</th>\n",
       "      <th>Validation Loss</th>\n",
       "    </tr>\n",
       "  </thead>\n",
       "  <tbody>\n",
       "  </tbody>\n",
       "</table><p>\n",
       "    <div>\n",
       "      \n",
       "      <progress value='210' max='210' style='width:300px; height:20px; vertical-align: middle;'></progress>\n",
       "      [210/210 00:02]\n",
       "    </div>\n",
       "    "
      ],
      "text/plain": [
       "<IPython.core.display.HTML object>"
      ]
     },
     "metadata": {},
     "output_type": "display_data"
    },
    {
     "name": "stderr",
     "output_type": "stream",
     "text": [
      "[I 2024-04-18 12:36:19,930] Trial 9 pruned. \n"
     ]
    },
    {
     "data": {
      "text/html": [
       "Finishing last run (ID:pkq4f6nw) before initializing another..."
      ],
      "text/plain": [
       "<IPython.core.display.HTML object>"
      ]
     },
     "metadata": {},
     "output_type": "display_data"
    },
    {
     "data": {
      "text/html": [
       "<style>\n",
       "    table.wandb td:nth-child(1) { padding: 0 10px; text-align: left ; width: auto;} td:nth-child(2) {text-align: left ; width: 100%}\n",
       "    .wandb-row { display: flex; flex-direction: row; flex-wrap: wrap; justify-content: flex-start; width: 100% }\n",
       "    .wandb-col { display: flex; flex-direction: column; flex-basis: 100%; flex: 1; padding: 10px; }\n",
       "    </style>\n",
       "<div class=\"wandb-row\"><div class=\"wandb-col\"><h3>Run history:</h3><br/><table class=\"wandb\"><tr><td>eval/Accuracy</td><td>▁</td></tr><tr><td>eval/Balanced accuracy</td><td>▁</td></tr><tr><td>eval/F1 macro</td><td>▁</td></tr><tr><td>eval/F1 micro</td><td>▁</td></tr><tr><td>eval/F1 weighted</td><td>▁</td></tr><tr><td>eval/loss</td><td>▁</td></tr><tr><td>eval/runtime</td><td>▁</td></tr><tr><td>eval/samples_per_second</td><td>▁</td></tr><tr><td>eval/steps_per_second</td><td>▁</td></tr><tr><td>train/epoch</td><td>▁</td></tr><tr><td>train/global_step</td><td>▁</td></tr></table><br/></div><div class=\"wandb-col\"><h3>Run summary:</h3><br/><table class=\"wandb\"><tr><td>eval/Accuracy</td><td>0.80179</td></tr><tr><td>eval/Balanced accuracy</td><td>0.64469</td></tr><tr><td>eval/F1 macro</td><td>0.69087</td></tr><tr><td>eval/F1 micro</td><td>0.80179</td></tr><tr><td>eval/F1 weighted</td><td>0.7874</td></tr><tr><td>eval/loss</td><td>0.53669</td></tr><tr><td>eval/runtime</td><td>2.6285</td></tr><tr><td>eval/samples_per_second</td><td>1278.282</td></tr><tr><td>eval/steps_per_second</td><td>79.893</td></tr><tr><td>train/epoch</td><td>1.0</td></tr><tr><td>train/global_step</td><td>315</td></tr></table><br/></div></div>"
      ],
      "text/plain": [
       "<IPython.core.display.HTML object>"
      ]
     },
     "metadata": {},
     "output_type": "display_data"
    },
    {
     "data": {
      "text/html": [
       " View run <strong style=\"color:#cdcd00\">trial-9</strong> at: <a href='https://wandb.ai/master-2024/BERT_BASE/runs/pkq4f6nw' target=\"_blank\">https://wandb.ai/master-2024/BERT_BASE/runs/pkq4f6nw</a><br/>Synced 5 W&B file(s), 0 media file(s), 0 artifact file(s) and 0 other file(s)"
      ],
      "text/plain": [
       "<IPython.core.display.HTML object>"
      ]
     },
     "metadata": {},
     "output_type": "display_data"
    },
    {
     "data": {
      "text/html": [
       "Find logs at: <code>./wandb/run-20240418_123539-pkq4f6nw/logs</code>"
      ],
      "text/plain": [
       "<IPython.core.display.HTML object>"
      ]
     },
     "metadata": {},
     "output_type": "display_data"
    },
    {
     "data": {
      "text/html": [
       "Successfully finished last run (ID:pkq4f6nw). Initializing new run:<br/>"
      ],
      "text/plain": [
       "<IPython.core.display.HTML object>"
      ]
     },
     "metadata": {},
     "output_type": "display_data"
    },
    {
     "data": {
      "text/html": [
       "wandb version 0.16.6 is available!  To upgrade, please run:\n",
       " $ pip install wandb --upgrade"
      ],
      "text/plain": [
       "<IPython.core.display.HTML object>"
      ]
     },
     "metadata": {},
     "output_type": "display_data"
    },
    {
     "data": {
      "text/html": [
       "Tracking run with wandb version 0.16.4"
      ],
      "text/plain": [
       "<IPython.core.display.HTML object>"
      ]
     },
     "metadata": {},
     "output_type": "display_data"
    },
    {
     "data": {
      "text/html": [
       "Run data is saved locally in <code>/net/fs-2/scale/OrionStore/Home/joteklem/Pytorch_models/wandb/run-20240418_123619-rp99u18k</code>"
      ],
      "text/plain": [
       "<IPython.core.display.HTML object>"
      ]
     },
     "metadata": {},
     "output_type": "display_data"
    },
    {
     "data": {
      "text/html": [
       "Syncing run <strong><a href='https://wandb.ai/master-2024/BERT_BASE/runs/rp99u18k' target=\"_blank\">trial-10</a></strong> to <a href='https://wandb.ai/master-2024/BERT_BASE' target=\"_blank\">Weights & Biases</a> (<a href='https://wandb.me/run' target=\"_blank\">docs</a>)<br/>"
      ],
      "text/plain": [
       "<IPython.core.display.HTML object>"
      ]
     },
     "metadata": {},
     "output_type": "display_data"
    },
    {
     "data": {
      "text/html": [
       " View project at <a href='https://wandb.ai/master-2024/BERT_BASE' target=\"_blank\">https://wandb.ai/master-2024/BERT_BASE</a>"
      ],
      "text/plain": [
       "<IPython.core.display.HTML object>"
      ]
     },
     "metadata": {},
     "output_type": "display_data"
    },
    {
     "data": {
      "text/html": [
       " View run at <a href='https://wandb.ai/master-2024/BERT_BASE/runs/rp99u18k' target=\"_blank\">https://wandb.ai/master-2024/BERT_BASE/runs/rp99u18k</a>"
      ],
      "text/plain": [
       "<IPython.core.display.HTML object>"
      ]
     },
     "metadata": {},
     "output_type": "display_data"
    },
    {
     "name": "stderr",
     "output_type": "stream",
     "text": [
      "/net/fs-2/scale/OrionStore/Scratch/joteklem/MyCondaEnvironments/Python3.11/orion_env/lib/python3.11/site-packages/accelerate/accelerator.py:432: FutureWarning: Passing the following arguments to `Accelerator` is deprecated and will be removed in version 1.0 of Accelerate: dict_keys(['dispatch_batches', 'split_batches', 'even_batches', 'use_seedable_sampler']). Please pass an `accelerate.DataLoaderConfiguration` instead: \n",
      "dataloader_config = DataLoaderConfiguration(dispatch_batches=None, split_batches=False, even_batches=True, use_seedable_sampler=True)\n",
      "  warnings.warn(\n",
      "Detected kernel version 3.10.0, which is below the recommended minimum of 5.5.0; this can cause the process to hang. It is recommended to upgrade the kernel to the minimum version or higher.\n"
     ]
    },
    {
     "name": "stdout",
     "output_type": "stream",
     "text": [
      "Starting trial 10\n"
     ]
    },
    {
     "data": {
      "text/html": [
       "\n",
       "    <div>\n",
       "      \n",
       "      <progress value='631' max='2520' style='width:300px; height:20px; vertical-align: middle;'></progress>\n",
       "      [ 631/2520 01:10 < 03:32, 8.88 it/s, Epoch 1/4]\n",
       "    </div>\n",
       "    <table border=\"1\" class=\"dataframe\">\n",
       "  <thead>\n",
       " <tr style=\"text-align: left;\">\n",
       "      <th>Epoch</th>\n",
       "      <th>Training Loss</th>\n",
       "      <th>Validation Loss</th>\n",
       "    </tr>\n",
       "  </thead>\n",
       "  <tbody>\n",
       "  </tbody>\n",
       "</table><p>\n",
       "    <div>\n",
       "      \n",
       "      <progress value='420' max='420' style='width:300px; height:20px; vertical-align: middle;'></progress>\n",
       "      [420/420 00:04]\n",
       "    </div>\n",
       "    "
      ],
      "text/plain": [
       "<IPython.core.display.HTML object>"
      ]
     },
     "metadata": {},
     "output_type": "display_data"
    },
    {
     "name": "stderr",
     "output_type": "stream",
     "text": [
      "[I 2024-04-18 12:37:44,118] Trial 10 pruned. \n"
     ]
    },
    {
     "data": {
      "text/html": [
       "Finishing last run (ID:rp99u18k) before initializing another..."
      ],
      "text/plain": [
       "<IPython.core.display.HTML object>"
      ]
     },
     "metadata": {},
     "output_type": "display_data"
    },
    {
     "data": {
      "text/html": [
       "<style>\n",
       "    table.wandb td:nth-child(1) { padding: 0 10px; text-align: left ; width: auto;} td:nth-child(2) {text-align: left ; width: 100%}\n",
       "    .wandb-row { display: flex; flex-direction: row; flex-wrap: wrap; justify-content: flex-start; width: 100% }\n",
       "    .wandb-col { display: flex; flex-direction: column; flex-basis: 100%; flex: 1; padding: 10px; }\n",
       "    </style>\n",
       "<div class=\"wandb-row\"><div class=\"wandb-col\"><h3>Run history:</h3><br/><table class=\"wandb\"><tr><td>eval/Accuracy</td><td>▁</td></tr><tr><td>eval/Balanced accuracy</td><td>▁</td></tr><tr><td>eval/F1 macro</td><td>▁</td></tr><tr><td>eval/F1 micro</td><td>▁</td></tr><tr><td>eval/F1 weighted</td><td>▁</td></tr><tr><td>eval/loss</td><td>▁</td></tr><tr><td>eval/runtime</td><td>▁</td></tr><tr><td>eval/samples_per_second</td><td>▁</td></tr><tr><td>eval/steps_per_second</td><td>▁</td></tr><tr><td>train/epoch</td><td>▁</td></tr><tr><td>train/global_step</td><td>▁</td></tr></table><br/></div><div class=\"wandb-col\"><h3>Run summary:</h3><br/><table class=\"wandb\"><tr><td>eval/Accuracy</td><td>0.8003</td></tr><tr><td>eval/Balanced accuracy</td><td>0.65295</td></tr><tr><td>eval/F1 macro</td><td>0.69326</td></tr><tr><td>eval/F1 micro</td><td>0.8003</td></tr><tr><td>eval/F1 weighted</td><td>0.78907</td></tr><tr><td>eval/loss</td><td>0.53588</td></tr><tr><td>eval/runtime</td><td>4.7758</td></tr><tr><td>eval/samples_per_second</td><td>703.544</td></tr><tr><td>eval/steps_per_second</td><td>87.943</td></tr><tr><td>train/epoch</td><td>1.0</td></tr><tr><td>train/global_step</td><td>630</td></tr></table><br/></div></div>"
      ],
      "text/plain": [
       "<IPython.core.display.HTML object>"
      ]
     },
     "metadata": {},
     "output_type": "display_data"
    },
    {
     "data": {
      "text/html": [
       " View run <strong style=\"color:#cdcd00\">trial-10</strong> at: <a href='https://wandb.ai/master-2024/BERT_BASE/runs/rp99u18k' target=\"_blank\">https://wandb.ai/master-2024/BERT_BASE/runs/rp99u18k</a><br/>Synced 5 W&B file(s), 0 media file(s), 0 artifact file(s) and 0 other file(s)"
      ],
      "text/plain": [
       "<IPython.core.display.HTML object>"
      ]
     },
     "metadata": {},
     "output_type": "display_data"
    },
    {
     "data": {
      "text/html": [
       "Find logs at: <code>./wandb/run-20240418_123619-rp99u18k/logs</code>"
      ],
      "text/plain": [
       "<IPython.core.display.HTML object>"
      ]
     },
     "metadata": {},
     "output_type": "display_data"
    },
    {
     "data": {
      "text/html": [
       "Successfully finished last run (ID:rp99u18k). Initializing new run:<br/>"
      ],
      "text/plain": [
       "<IPython.core.display.HTML object>"
      ]
     },
     "metadata": {},
     "output_type": "display_data"
    },
    {
     "data": {
      "text/html": [
       "wandb version 0.16.6 is available!  To upgrade, please run:\n",
       " $ pip install wandb --upgrade"
      ],
      "text/plain": [
       "<IPython.core.display.HTML object>"
      ]
     },
     "metadata": {},
     "output_type": "display_data"
    },
    {
     "data": {
      "text/html": [
       "Tracking run with wandb version 0.16.4"
      ],
      "text/plain": [
       "<IPython.core.display.HTML object>"
      ]
     },
     "metadata": {},
     "output_type": "display_data"
    },
    {
     "data": {
      "text/html": [
       "Run data is saved locally in <code>/net/fs-2/scale/OrionStore/Home/joteklem/Pytorch_models/wandb/run-20240418_123744-m9wkqn93</code>"
      ],
      "text/plain": [
       "<IPython.core.display.HTML object>"
      ]
     },
     "metadata": {},
     "output_type": "display_data"
    },
    {
     "data": {
      "text/html": [
       "Syncing run <strong><a href='https://wandb.ai/master-2024/BERT_BASE/runs/m9wkqn93' target=\"_blank\">trial-11</a></strong> to <a href='https://wandb.ai/master-2024/BERT_BASE' target=\"_blank\">Weights & Biases</a> (<a href='https://wandb.me/run' target=\"_blank\">docs</a>)<br/>"
      ],
      "text/plain": [
       "<IPython.core.display.HTML object>"
      ]
     },
     "metadata": {},
     "output_type": "display_data"
    },
    {
     "data": {
      "text/html": [
       " View project at <a href='https://wandb.ai/master-2024/BERT_BASE' target=\"_blank\">https://wandb.ai/master-2024/BERT_BASE</a>"
      ],
      "text/plain": [
       "<IPython.core.display.HTML object>"
      ]
     },
     "metadata": {},
     "output_type": "display_data"
    },
    {
     "data": {
      "text/html": [
       " View run at <a href='https://wandb.ai/master-2024/BERT_BASE/runs/m9wkqn93' target=\"_blank\">https://wandb.ai/master-2024/BERT_BASE/runs/m9wkqn93</a>"
      ],
      "text/plain": [
       "<IPython.core.display.HTML object>"
      ]
     },
     "metadata": {},
     "output_type": "display_data"
    },
    {
     "name": "stderr",
     "output_type": "stream",
     "text": [
      "/net/fs-2/scale/OrionStore/Scratch/joteklem/MyCondaEnvironments/Python3.11/orion_env/lib/python3.11/site-packages/accelerate/accelerator.py:432: FutureWarning: Passing the following arguments to `Accelerator` is deprecated and will be removed in version 1.0 of Accelerate: dict_keys(['dispatch_batches', 'split_batches', 'even_batches', 'use_seedable_sampler']). Please pass an `accelerate.DataLoaderConfiguration` instead: \n",
      "dataloader_config = DataLoaderConfiguration(dispatch_batches=None, split_batches=False, even_batches=True, use_seedable_sampler=True)\n",
      "  warnings.warn(\n",
      "Detected kernel version 3.10.0, which is below the recommended minimum of 5.5.0; this can cause the process to hang. It is recommended to upgrade the kernel to the minimum version or higher.\n"
     ]
    },
    {
     "name": "stdout",
     "output_type": "stream",
     "text": [
      "Starting trial 11\n"
     ]
    },
    {
     "data": {
      "text/html": [
       "\n",
       "    <div>\n",
       "      \n",
       "      <progress value='2520' max='2520' style='width:300px; height:20px; vertical-align: middle;'></progress>\n",
       "      [2520/2520 05:18, Epoch 4/4]\n",
       "    </div>\n",
       "    <table border=\"1\" class=\"dataframe\">\n",
       "  <thead>\n",
       " <tr style=\"text-align: left;\">\n",
       "      <th>Epoch</th>\n",
       "      <th>Training Loss</th>\n",
       "      <th>Validation Loss</th>\n",
       "      <th>Accuracy</th>\n",
       "      <th>Balanced accuracy</th>\n",
       "      <th>F1 weighted</th>\n",
       "      <th>F1 macro</th>\n",
       "      <th>F1 micro</th>\n",
       "      <th>Classification report</th>\n",
       "    </tr>\n",
       "  </thead>\n",
       "  <tbody>\n",
       "    <tr>\n",
       "      <td>1</td>\n",
       "      <td>No log</td>\n",
       "      <td>0.496854</td>\n",
       "      <td>0.814583</td>\n",
       "      <td>0.691884</td>\n",
       "      <td>0.802905</td>\n",
       "      <td>0.736284</td>\n",
       "      <td>0.814583</td>\n",
       "      <td>{'0': {'precision': 0.8341463414634146, 'recall': 0.5712694877505567, 'f1-score': 0.6781229345670853, 'support': 898.0}, '1': {'precision': 0.8104265402843602, 'recall': 0.9548627268496975, 'f1-score': 0.8767357402264475, 'support': 2149.0}, '2': {'precision': 0.8075117370892019, 'recall': 0.549520766773163, 'f1-score': 0.6539923954372623, 'support': 313.0}, 'accuracy': 0.8145833333333333, 'macro avg': {'precision': 0.8173615396123256, 'recall': 0.6918843271244723, 'f1-score': 0.7362836900769317, 'support': 3360.0}, 'weighted avg': {'precision': 0.8164944117304037, 'recall': 0.8145833333333333, 'f1-score': 0.8029045002261134, 'support': 3360.0}}</td>\n",
       "    </tr>\n",
       "    <tr>\n",
       "      <td>2</td>\n",
       "      <td>0.545800</td>\n",
       "      <td>0.487453</td>\n",
       "      <td>0.825298</td>\n",
       "      <td>0.738775</td>\n",
       "      <td>0.818820</td>\n",
       "      <td>0.763899</td>\n",
       "      <td>0.825298</td>\n",
       "      <td>{'0': {'precision': 0.8014285714285714, 'recall': 0.6247216035634744, 'f1-score': 0.7021276595744681, 'support': 898.0}, '1': {'precision': 0.8396818752616158, 'recall': 0.9334574220567706, 'f1-score': 0.8840899074482151, 'support': 2149.0}, '2': {'precision': 0.7601476014760148, 'recall': 0.65814696485623, 'f1-score': 0.7054794520547945, 'support': 313.0}, 'accuracy': 0.825297619047619, 'macro avg': {'precision': 0.800419349388734, 'recall': 0.738775330158825, 'f1-score': 0.7638990063591592, 'support': 3360.0}, 'weighted avg': {'precision': 0.8220492280779946, 'recall': 0.825297619047619, 'f1-score': 0.8188199160408444, 'support': 3360.0}}</td>\n",
       "    </tr>\n",
       "    <tr>\n",
       "      <td>3</td>\n",
       "      <td>0.545800</td>\n",
       "      <td>0.586776</td>\n",
       "      <td>0.806250</td>\n",
       "      <td>0.769291</td>\n",
       "      <td>0.806750</td>\n",
       "      <td>0.749652</td>\n",
       "      <td>0.806250</td>\n",
       "      <td>{'0': {'precision': 0.7378048780487805, 'recall': 0.6737193763919822, 'f1-score': 0.7043073341094296, 'support': 898.0}, '1': {'precision': 0.8698086794213719, 'recall': 0.8673801768264309, 'f1-score': 0.8685927306616962, 'support': 2149.0}, '2': {'precision': 0.6045340050377834, 'recall': 0.7667731629392971, 'f1-score': 0.676056338028169, 'support': 313.0}, 'accuracy': 0.80625, 'macro avg': {'precision': 0.7373825208359787, 'recall': 0.7692909053859034, 'f1-score': 0.7496521342664316, 'support': 3360.0}, 'weighted avg': {'precision': 0.8098174928991545, 'recall': 0.80625, 'f1-score': 0.8067498208407946, 'support': 3360.0}}</td>\n",
       "    </tr>\n",
       "    <tr>\n",
       "      <td>4</td>\n",
       "      <td>0.223600</td>\n",
       "      <td>0.812094</td>\n",
       "      <td>0.814881</td>\n",
       "      <td>0.748757</td>\n",
       "      <td>0.811635</td>\n",
       "      <td>0.760360</td>\n",
       "      <td>0.814881</td>\n",
       "      <td>{'0': {'precision': 0.7380352644836272, 'recall': 0.6525612472160356, 'f1-score': 0.6926713947990544, 'support': 898.0}, '1': {'precision': 0.8524229074889867, 'recall': 0.9004187994416007, 'f1-score': 0.8757637474541752, 'support': 2149.0}, '2': {'precision': 0.7331081081081081, 'recall': 0.6932907348242812, 'f1-score': 0.7126436781609194, 'support': 313.0}, 'accuracy': 0.8148809523809524, 'macro avg': {'precision': 0.7745220933602406, 'recall': 0.7487569271606391, 'f1-score': 0.7603596068047164, 'support': 3360.0}, 'weighted avg': {'precision': 0.8107367064101094, 'recall': 0.8148809523809524, 'f1-score': 0.8116347253193277, 'support': 3360.0}}</td>\n",
       "    </tr>\n",
       "  </tbody>\n",
       "</table><p>"
      ],
      "text/plain": [
       "<IPython.core.display.HTML object>"
      ]
     },
     "metadata": {},
     "output_type": "display_data"
    },
    {
     "data": {
      "text/html": [
       "\n",
       "    <div>\n",
       "      \n",
       "      <progress value='420' max='420' style='width:300px; height:20px; vertical-align: middle;'></progress>\n",
       "      [420/420 00:04]\n",
       "    </div>\n",
       "    "
      ],
      "text/plain": [
       "<IPython.core.display.HTML object>"
      ]
     },
     "metadata": {},
     "output_type": "display_data"
    },
    {
     "name": "stderr",
     "output_type": "stream",
     "text": [
      "/net/fs-2/scale/OrionStore/Scratch/joteklem/MyCondaEnvironments/Python3.11/orion_env/lib/python3.11/site-packages/optuna/trial/_trial.py:499: UserWarning: The reported value is ignored because this `step` 4.0 is already reported.\n",
      "  warnings.warn(\n"
     ]
    },
    {
     "name": "stdout",
     "output_type": "stream",
     "text": [
      "Completed trial 11\n"
     ]
    },
    {
     "data": {
      "text/html": [
       "<style>\n",
       "    table.wandb td:nth-child(1) { padding: 0 10px; text-align: left ; width: auto;} td:nth-child(2) {text-align: left ; width: 100%}\n",
       "    .wandb-row { display: flex; flex-direction: row; flex-wrap: wrap; justify-content: flex-start; width: 100% }\n",
       "    .wandb-col { display: flex; flex-direction: column; flex-basis: 100%; flex: 1; padding: 10px; }\n",
       "    </style>\n",
       "<div class=\"wandb-row\"><div class=\"wandb-col\"><h3>Run history:</h3><br/><table class=\"wandb\"><tr><td>Training loss</td><td>▁</td></tr><tr><td>Validation loss</td><td>▁</td></tr><tr><td>Weighted F1 score</td><td>▁</td></tr><tr><td>eval/Accuracy</td><td>▄█▁▄▄</td></tr><tr><td>eval/Balanced accuracy</td><td>▁▅█▆▆</td></tr><tr><td>eval/F1 macro</td><td>▁█▄▇▇</td></tr><tr><td>eval/F1 micro</td><td>▄█▁▄▄</td></tr><tr><td>eval/F1 weighted</td><td>▁█▃▅▅</td></tr><tr><td>eval/loss</td><td>▁▁▃██</td></tr><tr><td>eval/runtime</td><td>▇█▁▂█</td></tr><tr><td>eval/samples_per_second</td><td>▂▁█▇▁</td></tr><tr><td>eval/steps_per_second</td><td>▂▁█▇▁</td></tr><tr><td>train/epoch</td><td>▁▃▃▆████</td></tr><tr><td>train/global_step</td><td>▁▃▃▆██████</td></tr><tr><td>train/grad_norm</td><td>█▁</td></tr><tr><td>train/learning_rate</td><td>█▁</td></tr><tr><td>train/loss</td><td>█▁</td></tr><tr><td>train/total_flos</td><td>▁</td></tr><tr><td>train/train_loss</td><td>▁</td></tr><tr><td>train/train_runtime</td><td>▁</td></tr><tr><td>train/train_samples_per_second</td><td>▁</td></tr><tr><td>train/train_steps_per_second</td><td>▁</td></tr></table><br/></div><div class=\"wandb-col\"><h3>Run summary:</h3><br/><table class=\"wandb\"><tr><td>Training loss</td><td>0.2236</td></tr><tr><td>Validation loss</td><td>0.58678</td></tr><tr><td>Weighted F1 score</td><td>0.76036</td></tr><tr><td>eval/Accuracy</td><td>0.81488</td></tr><tr><td>eval/Balanced accuracy</td><td>0.74876</td></tr><tr><td>eval/F1 macro</td><td>0.76036</td></tr><tr><td>eval/F1 micro</td><td>0.81488</td></tr><tr><td>eval/F1 weighted</td><td>0.81163</td></tr><tr><td>eval/loss</td><td>0.81209</td></tr><tr><td>eval/runtime</td><td>4.6617</td></tr><tr><td>eval/samples_per_second</td><td>720.766</td></tr><tr><td>eval/steps_per_second</td><td>90.096</td></tr><tr><td>train/epoch</td><td>4.0</td></tr><tr><td>train/global_step</td><td>2520</td></tr><tr><td>train/grad_norm</td><td>3.16959</td></tr><tr><td>train/learning_rate</td><td>0.0</td></tr><tr><td>train/loss</td><td>0.2236</td></tr><tr><td>train/total_flos</td><td>1346231107459980.0</td></tr><tr><td>train/train_loss</td><td>0.38441</td></tr><tr><td>train/train_runtime</td><td>318.1597</td></tr><tr><td>train/train_samples_per_second</td><td>126.704</td></tr><tr><td>train/train_steps_per_second</td><td>7.921</td></tr></table><br/></div></div>"
      ],
      "text/plain": [
       "<IPython.core.display.HTML object>"
      ]
     },
     "metadata": {},
     "output_type": "display_data"
    },
    {
     "data": {
      "text/html": [
       " View run <strong style=\"color:#cdcd00\">trial-11</strong> at: <a href='https://wandb.ai/master-2024/BERT_BASE/runs/m9wkqn93' target=\"_blank\">https://wandb.ai/master-2024/BERT_BASE/runs/m9wkqn93</a><br/>Synced 5 W&B file(s), 0 media file(s), 0 artifact file(s) and 0 other file(s)"
      ],
      "text/plain": [
       "<IPython.core.display.HTML object>"
      ]
     },
     "metadata": {},
     "output_type": "display_data"
    },
    {
     "data": {
      "text/html": [
       "Find logs at: <code>./wandb/run-20240418_123744-m9wkqn93/logs</code>"
      ],
      "text/plain": [
       "<IPython.core.display.HTML object>"
      ]
     },
     "metadata": {},
     "output_type": "display_data"
    },
    {
     "name": "stderr",
     "output_type": "stream",
     "text": [
      "[I 2024-04-18 12:43:19,487] Trial 11 finished with value: 0.7603596068047164 and parameters: {'learning_rate': 4.8723119722871314e-05, 'per_device_train_batch_size': 8, 'weight_decay': 0.003014955560408976, 'num_train_epochs': 4, 'warmup_steps': 358}. Best is trial 11 with value: 0.7603596068047164.\n"
     ]
    },
    {
     "data": {
      "text/html": [
       "wandb version 0.16.6 is available!  To upgrade, please run:\n",
       " $ pip install wandb --upgrade"
      ],
      "text/plain": [
       "<IPython.core.display.HTML object>"
      ]
     },
     "metadata": {},
     "output_type": "display_data"
    },
    {
     "data": {
      "text/html": [
       "Tracking run with wandb version 0.16.4"
      ],
      "text/plain": [
       "<IPython.core.display.HTML object>"
      ]
     },
     "metadata": {},
     "output_type": "display_data"
    },
    {
     "data": {
      "text/html": [
       "Run data is saved locally in <code>/net/fs-2/scale/OrionStore/Home/joteklem/Pytorch_models/wandb/run-20240418_124319-7asbtoq7</code>"
      ],
      "text/plain": [
       "<IPython.core.display.HTML object>"
      ]
     },
     "metadata": {},
     "output_type": "display_data"
    },
    {
     "data": {
      "text/html": [
       "Syncing run <strong><a href='https://wandb.ai/master-2024/BERT_BASE/runs/7asbtoq7' target=\"_blank\">trial-12</a></strong> to <a href='https://wandb.ai/master-2024/BERT_BASE' target=\"_blank\">Weights & Biases</a> (<a href='https://wandb.me/run' target=\"_blank\">docs</a>)<br/>"
      ],
      "text/plain": [
       "<IPython.core.display.HTML object>"
      ]
     },
     "metadata": {},
     "output_type": "display_data"
    },
    {
     "data": {
      "text/html": [
       " View project at <a href='https://wandb.ai/master-2024/BERT_BASE' target=\"_blank\">https://wandb.ai/master-2024/BERT_BASE</a>"
      ],
      "text/plain": [
       "<IPython.core.display.HTML object>"
      ]
     },
     "metadata": {},
     "output_type": "display_data"
    },
    {
     "data": {
      "text/html": [
       " View run at <a href='https://wandb.ai/master-2024/BERT_BASE/runs/7asbtoq7' target=\"_blank\">https://wandb.ai/master-2024/BERT_BASE/runs/7asbtoq7</a>"
      ],
      "text/plain": [
       "<IPython.core.display.HTML object>"
      ]
     },
     "metadata": {},
     "output_type": "display_data"
    },
    {
     "name": "stderr",
     "output_type": "stream",
     "text": [
      "/net/fs-2/scale/OrionStore/Scratch/joteklem/MyCondaEnvironments/Python3.11/orion_env/lib/python3.11/site-packages/accelerate/accelerator.py:432: FutureWarning: Passing the following arguments to `Accelerator` is deprecated and will be removed in version 1.0 of Accelerate: dict_keys(['dispatch_batches', 'split_batches', 'even_batches', 'use_seedable_sampler']). Please pass an `accelerate.DataLoaderConfiguration` instead: \n",
      "dataloader_config = DataLoaderConfiguration(dispatch_batches=None, split_batches=False, even_batches=True, use_seedable_sampler=True)\n",
      "  warnings.warn(\n",
      "Detected kernel version 3.10.0, which is below the recommended minimum of 5.5.0; this can cause the process to hang. It is recommended to upgrade the kernel to the minimum version or higher.\n"
     ]
    },
    {
     "name": "stdout",
     "output_type": "stream",
     "text": [
      "Starting trial 12\n"
     ]
    },
    {
     "data": {
      "text/html": [
       "\n",
       "    <div>\n",
       "      \n",
       "      <progress value='631' max='2520' style='width:300px; height:20px; vertical-align: middle;'></progress>\n",
       "      [ 631/2520 01:14 < 03:44, 8.43 it/s, Epoch 1/4]\n",
       "    </div>\n",
       "    <table border=\"1\" class=\"dataframe\">\n",
       "  <thead>\n",
       " <tr style=\"text-align: left;\">\n",
       "      <th>Epoch</th>\n",
       "      <th>Training Loss</th>\n",
       "      <th>Validation Loss</th>\n",
       "    </tr>\n",
       "  </thead>\n",
       "  <tbody>\n",
       "  </tbody>\n",
       "</table><p>\n",
       "    <div>\n",
       "      \n",
       "      <progress value='420' max='420' style='width:300px; height:20px; vertical-align: middle;'></progress>\n",
       "      [420/420 00:04]\n",
       "    </div>\n",
       "    "
      ],
      "text/plain": [
       "<IPython.core.display.HTML object>"
      ]
     },
     "metadata": {},
     "output_type": "display_data"
    },
    {
     "name": "stderr",
     "output_type": "stream",
     "text": [
      "[I 2024-04-18 12:44:42,517] Trial 12 pruned. \n"
     ]
    },
    {
     "data": {
      "text/html": [
       "Finishing last run (ID:7asbtoq7) before initializing another..."
      ],
      "text/plain": [
       "<IPython.core.display.HTML object>"
      ]
     },
     "metadata": {},
     "output_type": "display_data"
    },
    {
     "data": {
      "text/html": [
       "<style>\n",
       "    table.wandb td:nth-child(1) { padding: 0 10px; text-align: left ; width: auto;} td:nth-child(2) {text-align: left ; width: 100%}\n",
       "    .wandb-row { display: flex; flex-direction: row; flex-wrap: wrap; justify-content: flex-start; width: 100% }\n",
       "    .wandb-col { display: flex; flex-direction: column; flex-basis: 100%; flex: 1; padding: 10px; }\n",
       "    </style>\n",
       "<div class=\"wandb-row\"><div class=\"wandb-col\"><h3>Run history:</h3><br/><table class=\"wandb\"><tr><td>eval/Accuracy</td><td>▁</td></tr><tr><td>eval/Balanced accuracy</td><td>▁</td></tr><tr><td>eval/F1 macro</td><td>▁</td></tr><tr><td>eval/F1 micro</td><td>▁</td></tr><tr><td>eval/F1 weighted</td><td>▁</td></tr><tr><td>eval/loss</td><td>▁</td></tr><tr><td>eval/runtime</td><td>▁</td></tr><tr><td>eval/samples_per_second</td><td>▁</td></tr><tr><td>eval/steps_per_second</td><td>▁</td></tr><tr><td>train/epoch</td><td>▁</td></tr><tr><td>train/global_step</td><td>▁</td></tr></table><br/></div><div class=\"wandb-col\"><h3>Run summary:</h3><br/><table class=\"wandb\"><tr><td>eval/Accuracy</td><td>0.80863</td></tr><tr><td>eval/Balanced accuracy</td><td>0.65636</td></tr><tr><td>eval/F1 macro</td><td>0.70341</td></tr><tr><td>eval/F1 micro</td><td>0.80863</td></tr><tr><td>eval/F1 weighted</td><td>0.79509</td></tr><tr><td>eval/loss</td><td>0.522</td></tr><tr><td>eval/runtime</td><td>4.7796</td></tr><tr><td>eval/samples_per_second</td><td>702.99</td></tr><tr><td>eval/steps_per_second</td><td>87.874</td></tr><tr><td>train/epoch</td><td>1.0</td></tr><tr><td>train/global_step</td><td>630</td></tr></table><br/></div></div>"
      ],
      "text/plain": [
       "<IPython.core.display.HTML object>"
      ]
     },
     "metadata": {},
     "output_type": "display_data"
    },
    {
     "data": {
      "text/html": [
       " View run <strong style=\"color:#cdcd00\">trial-12</strong> at: <a href='https://wandb.ai/master-2024/BERT_BASE/runs/7asbtoq7' target=\"_blank\">https://wandb.ai/master-2024/BERT_BASE/runs/7asbtoq7</a><br/>Synced 5 W&B file(s), 0 media file(s), 0 artifact file(s) and 0 other file(s)"
      ],
      "text/plain": [
       "<IPython.core.display.HTML object>"
      ]
     },
     "metadata": {},
     "output_type": "display_data"
    },
    {
     "data": {
      "text/html": [
       "Find logs at: <code>./wandb/run-20240418_124319-7asbtoq7/logs</code>"
      ],
      "text/plain": [
       "<IPython.core.display.HTML object>"
      ]
     },
     "metadata": {},
     "output_type": "display_data"
    },
    {
     "data": {
      "text/html": [
       "Successfully finished last run (ID:7asbtoq7). Initializing new run:<br/>"
      ],
      "text/plain": [
       "<IPython.core.display.HTML object>"
      ]
     },
     "metadata": {},
     "output_type": "display_data"
    },
    {
     "data": {
      "text/html": [
       "wandb version 0.16.6 is available!  To upgrade, please run:\n",
       " $ pip install wandb --upgrade"
      ],
      "text/plain": [
       "<IPython.core.display.HTML object>"
      ]
     },
     "metadata": {},
     "output_type": "display_data"
    },
    {
     "data": {
      "text/html": [
       "Tracking run with wandb version 0.16.4"
      ],
      "text/plain": [
       "<IPython.core.display.HTML object>"
      ]
     },
     "metadata": {},
     "output_type": "display_data"
    },
    {
     "data": {
      "text/html": [
       "Run data is saved locally in <code>/net/fs-2/scale/OrionStore/Home/joteklem/Pytorch_models/wandb/run-20240418_124442-5y2ohru8</code>"
      ],
      "text/plain": [
       "<IPython.core.display.HTML object>"
      ]
     },
     "metadata": {},
     "output_type": "display_data"
    },
    {
     "data": {
      "text/html": [
       "Syncing run <strong><a href='https://wandb.ai/master-2024/BERT_BASE/runs/5y2ohru8' target=\"_blank\">trial-13</a></strong> to <a href='https://wandb.ai/master-2024/BERT_BASE' target=\"_blank\">Weights & Biases</a> (<a href='https://wandb.me/run' target=\"_blank\">docs</a>)<br/>"
      ],
      "text/plain": [
       "<IPython.core.display.HTML object>"
      ]
     },
     "metadata": {},
     "output_type": "display_data"
    },
    {
     "data": {
      "text/html": [
       " View project at <a href='https://wandb.ai/master-2024/BERT_BASE' target=\"_blank\">https://wandb.ai/master-2024/BERT_BASE</a>"
      ],
      "text/plain": [
       "<IPython.core.display.HTML object>"
      ]
     },
     "metadata": {},
     "output_type": "display_data"
    },
    {
     "data": {
      "text/html": [
       " View run at <a href='https://wandb.ai/master-2024/BERT_BASE/runs/5y2ohru8' target=\"_blank\">https://wandb.ai/master-2024/BERT_BASE/runs/5y2ohru8</a>"
      ],
      "text/plain": [
       "<IPython.core.display.HTML object>"
      ]
     },
     "metadata": {},
     "output_type": "display_data"
    },
    {
     "name": "stderr",
     "output_type": "stream",
     "text": [
      "/net/fs-2/scale/OrionStore/Scratch/joteklem/MyCondaEnvironments/Python3.11/orion_env/lib/python3.11/site-packages/accelerate/accelerator.py:432: FutureWarning: Passing the following arguments to `Accelerator` is deprecated and will be removed in version 1.0 of Accelerate: dict_keys(['dispatch_batches', 'split_batches', 'even_batches', 'use_seedable_sampler']). Please pass an `accelerate.DataLoaderConfiguration` instead: \n",
      "dataloader_config = DataLoaderConfiguration(dispatch_batches=None, split_batches=False, even_batches=True, use_seedable_sampler=True)\n",
      "  warnings.warn(\n",
      "Detected kernel version 3.10.0, which is below the recommended minimum of 5.5.0; this can cause the process to hang. It is recommended to upgrade the kernel to the minimum version or higher.\n"
     ]
    },
    {
     "name": "stdout",
     "output_type": "stream",
     "text": [
      "Starting trial 13\n"
     ]
    },
    {
     "data": {
      "text/html": [
       "\n",
       "    <div>\n",
       "      \n",
       "      <progress value='631' max='2520' style='width:300px; height:20px; vertical-align: middle;'></progress>\n",
       "      [ 631/2520 01:13 < 03:42, 8.50 it/s, Epoch 1/4]\n",
       "    </div>\n",
       "    <table border=\"1\" class=\"dataframe\">\n",
       "  <thead>\n",
       " <tr style=\"text-align: left;\">\n",
       "      <th>Epoch</th>\n",
       "      <th>Training Loss</th>\n",
       "      <th>Validation Loss</th>\n",
       "    </tr>\n",
       "  </thead>\n",
       "  <tbody>\n",
       "  </tbody>\n",
       "</table><p>\n",
       "    <div>\n",
       "      \n",
       "      <progress value='420' max='420' style='width:300px; height:20px; vertical-align: middle;'></progress>\n",
       "      [420/420 00:04]\n",
       "    </div>\n",
       "    "
      ],
      "text/plain": [
       "<IPython.core.display.HTML object>"
      ]
     },
     "metadata": {},
     "output_type": "display_data"
    },
    {
     "name": "stderr",
     "output_type": "stream",
     "text": [
      "[I 2024-04-18 12:46:08,806] Trial 13 pruned. \n"
     ]
    },
    {
     "data": {
      "text/html": [
       "Finishing last run (ID:5y2ohru8) before initializing another..."
      ],
      "text/plain": [
       "<IPython.core.display.HTML object>"
      ]
     },
     "metadata": {},
     "output_type": "display_data"
    },
    {
     "data": {
      "text/html": [
       "<style>\n",
       "    table.wandb td:nth-child(1) { padding: 0 10px; text-align: left ; width: auto;} td:nth-child(2) {text-align: left ; width: 100%}\n",
       "    .wandb-row { display: flex; flex-direction: row; flex-wrap: wrap; justify-content: flex-start; width: 100% }\n",
       "    .wandb-col { display: flex; flex-direction: column; flex-basis: 100%; flex: 1; padding: 10px; }\n",
       "    </style>\n",
       "<div class=\"wandb-row\"><div class=\"wandb-col\"><h3>Run history:</h3><br/><table class=\"wandb\"><tr><td>eval/Accuracy</td><td>▁</td></tr><tr><td>eval/Balanced accuracy</td><td>▁</td></tr><tr><td>eval/F1 macro</td><td>▁</td></tr><tr><td>eval/F1 micro</td><td>▁</td></tr><tr><td>eval/F1 weighted</td><td>▁</td></tr><tr><td>eval/loss</td><td>▁</td></tr><tr><td>eval/runtime</td><td>▁</td></tr><tr><td>eval/samples_per_second</td><td>▁</td></tr><tr><td>eval/steps_per_second</td><td>▁</td></tr><tr><td>train/epoch</td><td>▁</td></tr><tr><td>train/global_step</td><td>▁</td></tr></table><br/></div><div class=\"wandb-col\"><h3>Run summary:</h3><br/><table class=\"wandb\"><tr><td>eval/Accuracy</td><td>0.79137</td></tr><tr><td>eval/Balanced accuracy</td><td>0.61043</td></tr><tr><td>eval/F1 macro</td><td>0.649</td></tr><tr><td>eval/F1 micro</td><td>0.79137</td></tr><tr><td>eval/F1 weighted</td><td>0.77314</td></tr><tr><td>eval/loss</td><td>0.57131</td></tr><tr><td>eval/runtime</td><td>4.6495</td></tr><tr><td>eval/samples_per_second</td><td>722.655</td></tr><tr><td>eval/steps_per_second</td><td>90.332</td></tr><tr><td>train/epoch</td><td>1.0</td></tr><tr><td>train/global_step</td><td>630</td></tr></table><br/></div></div>"
      ],
      "text/plain": [
       "<IPython.core.display.HTML object>"
      ]
     },
     "metadata": {},
     "output_type": "display_data"
    },
    {
     "data": {
      "text/html": [
       " View run <strong style=\"color:#cdcd00\">trial-13</strong> at: <a href='https://wandb.ai/master-2024/BERT_BASE/runs/5y2ohru8' target=\"_blank\">https://wandb.ai/master-2024/BERT_BASE/runs/5y2ohru8</a><br/>Synced 5 W&B file(s), 0 media file(s), 0 artifact file(s) and 0 other file(s)"
      ],
      "text/plain": [
       "<IPython.core.display.HTML object>"
      ]
     },
     "metadata": {},
     "output_type": "display_data"
    },
    {
     "data": {
      "text/html": [
       "Find logs at: <code>./wandb/run-20240418_124442-5y2ohru8/logs</code>"
      ],
      "text/plain": [
       "<IPython.core.display.HTML object>"
      ]
     },
     "metadata": {},
     "output_type": "display_data"
    },
    {
     "data": {
      "text/html": [
       "Successfully finished last run (ID:5y2ohru8). Initializing new run:<br/>"
      ],
      "text/plain": [
       "<IPython.core.display.HTML object>"
      ]
     },
     "metadata": {},
     "output_type": "display_data"
    },
    {
     "data": {
      "text/html": [
       "wandb version 0.16.6 is available!  To upgrade, please run:\n",
       " $ pip install wandb --upgrade"
      ],
      "text/plain": [
       "<IPython.core.display.HTML object>"
      ]
     },
     "metadata": {},
     "output_type": "display_data"
    },
    {
     "data": {
      "text/html": [
       "Tracking run with wandb version 0.16.4"
      ],
      "text/plain": [
       "<IPython.core.display.HTML object>"
      ]
     },
     "metadata": {},
     "output_type": "display_data"
    },
    {
     "data": {
      "text/html": [
       "Run data is saved locally in <code>/net/fs-2/scale/OrionStore/Home/joteklem/Pytorch_models/wandb/run-20240418_124608-u0p31aot</code>"
      ],
      "text/plain": [
       "<IPython.core.display.HTML object>"
      ]
     },
     "metadata": {},
     "output_type": "display_data"
    },
    {
     "data": {
      "text/html": [
       "Syncing run <strong><a href='https://wandb.ai/master-2024/BERT_BASE/runs/u0p31aot' target=\"_blank\">trial-14</a></strong> to <a href='https://wandb.ai/master-2024/BERT_BASE' target=\"_blank\">Weights & Biases</a> (<a href='https://wandb.me/run' target=\"_blank\">docs</a>)<br/>"
      ],
      "text/plain": [
       "<IPython.core.display.HTML object>"
      ]
     },
     "metadata": {},
     "output_type": "display_data"
    },
    {
     "data": {
      "text/html": [
       " View project at <a href='https://wandb.ai/master-2024/BERT_BASE' target=\"_blank\">https://wandb.ai/master-2024/BERT_BASE</a>"
      ],
      "text/plain": [
       "<IPython.core.display.HTML object>"
      ]
     },
     "metadata": {},
     "output_type": "display_data"
    },
    {
     "data": {
      "text/html": [
       " View run at <a href='https://wandb.ai/master-2024/BERT_BASE/runs/u0p31aot' target=\"_blank\">https://wandb.ai/master-2024/BERT_BASE/runs/u0p31aot</a>"
      ],
      "text/plain": [
       "<IPython.core.display.HTML object>"
      ]
     },
     "metadata": {},
     "output_type": "display_data"
    },
    {
     "name": "stderr",
     "output_type": "stream",
     "text": [
      "/net/fs-2/scale/OrionStore/Scratch/joteklem/MyCondaEnvironments/Python3.11/orion_env/lib/python3.11/site-packages/accelerate/accelerator.py:432: FutureWarning: Passing the following arguments to `Accelerator` is deprecated and will be removed in version 1.0 of Accelerate: dict_keys(['dispatch_batches', 'split_batches', 'even_batches', 'use_seedable_sampler']). Please pass an `accelerate.DataLoaderConfiguration` instead: \n",
      "dataloader_config = DataLoaderConfiguration(dispatch_batches=None, split_batches=False, even_batches=True, use_seedable_sampler=True)\n",
      "  warnings.warn(\n",
      "Detected kernel version 3.10.0, which is below the recommended minimum of 5.5.0; this can cause the process to hang. It is recommended to upgrade the kernel to the minimum version or higher.\n"
     ]
    },
    {
     "name": "stdout",
     "output_type": "stream",
     "text": [
      "Starting trial 14\n"
     ]
    },
    {
     "data": {
      "text/html": [
       "\n",
       "    <div>\n",
       "      \n",
       "      <progress value='631' max='3150' style='width:300px; height:20px; vertical-align: middle;'></progress>\n",
       "      [ 631/3150 01:11 < 04:45, 8.82 it/s, Epoch 1/5]\n",
       "    </div>\n",
       "    <table border=\"1\" class=\"dataframe\">\n",
       "  <thead>\n",
       " <tr style=\"text-align: left;\">\n",
       "      <th>Epoch</th>\n",
       "      <th>Training Loss</th>\n",
       "      <th>Validation Loss</th>\n",
       "    </tr>\n",
       "  </thead>\n",
       "  <tbody>\n",
       "  </tbody>\n",
       "</table><p>\n",
       "    <div>\n",
       "      \n",
       "      <progress value='420' max='420' style='width:300px; height:20px; vertical-align: middle;'></progress>\n",
       "      [420/420 00:04]\n",
       "    </div>\n",
       "    "
      ],
      "text/plain": [
       "<IPython.core.display.HTML object>"
      ]
     },
     "metadata": {},
     "output_type": "display_data"
    },
    {
     "name": "stderr",
     "output_type": "stream",
     "text": [
      "[I 2024-04-18 12:47:33,401] Trial 14 pruned. \n"
     ]
    },
    {
     "data": {
      "text/html": [
       "Finishing last run (ID:u0p31aot) before initializing another..."
      ],
      "text/plain": [
       "<IPython.core.display.HTML object>"
      ]
     },
     "metadata": {},
     "output_type": "display_data"
    },
    {
     "data": {
      "text/html": [
       "<style>\n",
       "    table.wandb td:nth-child(1) { padding: 0 10px; text-align: left ; width: auto;} td:nth-child(2) {text-align: left ; width: 100%}\n",
       "    .wandb-row { display: flex; flex-direction: row; flex-wrap: wrap; justify-content: flex-start; width: 100% }\n",
       "    .wandb-col { display: flex; flex-direction: column; flex-basis: 100%; flex: 1; padding: 10px; }\n",
       "    </style>\n",
       "<div class=\"wandb-row\"><div class=\"wandb-col\"><h3>Run history:</h3><br/><table class=\"wandb\"><tr><td>eval/Accuracy</td><td>▁</td></tr><tr><td>eval/Balanced accuracy</td><td>▁</td></tr><tr><td>eval/F1 macro</td><td>▁</td></tr><tr><td>eval/F1 micro</td><td>▁</td></tr><tr><td>eval/F1 weighted</td><td>▁</td></tr><tr><td>eval/loss</td><td>▁</td></tr><tr><td>eval/runtime</td><td>▁</td></tr><tr><td>eval/samples_per_second</td><td>▁</td></tr><tr><td>eval/steps_per_second</td><td>▁</td></tr><tr><td>train/epoch</td><td>▁</td></tr><tr><td>train/global_step</td><td>▁</td></tr></table><br/></div><div class=\"wandb-col\"><h3>Run summary:</h3><br/><table class=\"wandb\"><tr><td>eval/Accuracy</td><td>0.74643</td></tr><tr><td>eval/Balanced accuracy</td><td>0.605</td></tr><tr><td>eval/F1 macro</td><td>0.61655</td></tr><tr><td>eval/F1 micro</td><td>0.74643</td></tr><tr><td>eval/F1 weighted</td><td>0.7415</td></tr><tr><td>eval/loss</td><td>0.65114</td></tr><tr><td>eval/runtime</td><td>4.763</td></tr><tr><td>eval/samples_per_second</td><td>705.437</td></tr><tr><td>eval/steps_per_second</td><td>88.18</td></tr><tr><td>train/epoch</td><td>1.0</td></tr><tr><td>train/global_step</td><td>630</td></tr></table><br/></div></div>"
      ],
      "text/plain": [
       "<IPython.core.display.HTML object>"
      ]
     },
     "metadata": {},
     "output_type": "display_data"
    },
    {
     "data": {
      "text/html": [
       " View run <strong style=\"color:#cdcd00\">trial-14</strong> at: <a href='https://wandb.ai/master-2024/BERT_BASE/runs/u0p31aot' target=\"_blank\">https://wandb.ai/master-2024/BERT_BASE/runs/u0p31aot</a><br/>Synced 5 W&B file(s), 0 media file(s), 0 artifact file(s) and 0 other file(s)"
      ],
      "text/plain": [
       "<IPython.core.display.HTML object>"
      ]
     },
     "metadata": {},
     "output_type": "display_data"
    },
    {
     "data": {
      "text/html": [
       "Find logs at: <code>./wandb/run-20240418_124608-u0p31aot/logs</code>"
      ],
      "text/plain": [
       "<IPython.core.display.HTML object>"
      ]
     },
     "metadata": {},
     "output_type": "display_data"
    },
    {
     "data": {
      "text/html": [
       "Successfully finished last run (ID:u0p31aot). Initializing new run:<br/>"
      ],
      "text/plain": [
       "<IPython.core.display.HTML object>"
      ]
     },
     "metadata": {},
     "output_type": "display_data"
    },
    {
     "data": {
      "text/html": [
       "wandb version 0.16.6 is available!  To upgrade, please run:\n",
       " $ pip install wandb --upgrade"
      ],
      "text/plain": [
       "<IPython.core.display.HTML object>"
      ]
     },
     "metadata": {},
     "output_type": "display_data"
    },
    {
     "data": {
      "text/html": [
       "Tracking run with wandb version 0.16.4"
      ],
      "text/plain": [
       "<IPython.core.display.HTML object>"
      ]
     },
     "metadata": {},
     "output_type": "display_data"
    },
    {
     "data": {
      "text/html": [
       "Run data is saved locally in <code>/net/fs-2/scale/OrionStore/Home/joteklem/Pytorch_models/wandb/run-20240418_124733-pbdau8wc</code>"
      ],
      "text/plain": [
       "<IPython.core.display.HTML object>"
      ]
     },
     "metadata": {},
     "output_type": "display_data"
    },
    {
     "data": {
      "text/html": [
       "Syncing run <strong><a href='https://wandb.ai/master-2024/BERT_BASE/runs/pbdau8wc' target=\"_blank\">trial-15</a></strong> to <a href='https://wandb.ai/master-2024/BERT_BASE' target=\"_blank\">Weights & Biases</a> (<a href='https://wandb.me/run' target=\"_blank\">docs</a>)<br/>"
      ],
      "text/plain": [
       "<IPython.core.display.HTML object>"
      ]
     },
     "metadata": {},
     "output_type": "display_data"
    },
    {
     "data": {
      "text/html": [
       " View project at <a href='https://wandb.ai/master-2024/BERT_BASE' target=\"_blank\">https://wandb.ai/master-2024/BERT_BASE</a>"
      ],
      "text/plain": [
       "<IPython.core.display.HTML object>"
      ]
     },
     "metadata": {},
     "output_type": "display_data"
    },
    {
     "data": {
      "text/html": [
       " View run at <a href='https://wandb.ai/master-2024/BERT_BASE/runs/pbdau8wc' target=\"_blank\">https://wandb.ai/master-2024/BERT_BASE/runs/pbdau8wc</a>"
      ],
      "text/plain": [
       "<IPython.core.display.HTML object>"
      ]
     },
     "metadata": {},
     "output_type": "display_data"
    },
    {
     "name": "stderr",
     "output_type": "stream",
     "text": [
      "/net/fs-2/scale/OrionStore/Scratch/joteklem/MyCondaEnvironments/Python3.11/orion_env/lib/python3.11/site-packages/accelerate/accelerator.py:432: FutureWarning: Passing the following arguments to `Accelerator` is deprecated and will be removed in version 1.0 of Accelerate: dict_keys(['dispatch_batches', 'split_batches', 'even_batches', 'use_seedable_sampler']). Please pass an `accelerate.DataLoaderConfiguration` instead: \n",
      "dataloader_config = DataLoaderConfiguration(dispatch_batches=None, split_batches=False, even_batches=True, use_seedable_sampler=True)\n",
      "  warnings.warn(\n",
      "Detected kernel version 3.10.0, which is below the recommended minimum of 5.5.0; this can cause the process to hang. It is recommended to upgrade the kernel to the minimum version or higher.\n"
     ]
    },
    {
     "name": "stdout",
     "output_type": "stream",
     "text": [
      "Starting trial 15\n"
     ]
    },
    {
     "data": {
      "text/html": [
       "\n",
       "    <div>\n",
       "      \n",
       "      <progress value='631' max='2520' style='width:300px; height:20px; vertical-align: middle;'></progress>\n",
       "      [ 631/2520 01:15 < 03:45, 8.37 it/s, Epoch 1/4]\n",
       "    </div>\n",
       "    <table border=\"1\" class=\"dataframe\">\n",
       "  <thead>\n",
       " <tr style=\"text-align: left;\">\n",
       "      <th>Epoch</th>\n",
       "      <th>Training Loss</th>\n",
       "      <th>Validation Loss</th>\n",
       "    </tr>\n",
       "  </thead>\n",
       "  <tbody>\n",
       "  </tbody>\n",
       "</table><p>\n",
       "    <div>\n",
       "      \n",
       "      <progress value='420' max='420' style='width:300px; height:20px; vertical-align: middle;'></progress>\n",
       "      [420/420 00:04]\n",
       "    </div>\n",
       "    "
      ],
      "text/plain": [
       "<IPython.core.display.HTML object>"
      ]
     },
     "metadata": {},
     "output_type": "display_data"
    },
    {
     "name": "stderr",
     "output_type": "stream",
     "text": [
      "[I 2024-04-18 12:49:00,308] Trial 15 pruned. \n"
     ]
    },
    {
     "data": {
      "text/html": [
       "Finishing last run (ID:pbdau8wc) before initializing another..."
      ],
      "text/plain": [
       "<IPython.core.display.HTML object>"
      ]
     },
     "metadata": {},
     "output_type": "display_data"
    },
    {
     "data": {
      "text/html": [
       "<style>\n",
       "    table.wandb td:nth-child(1) { padding: 0 10px; text-align: left ; width: auto;} td:nth-child(2) {text-align: left ; width: 100%}\n",
       "    .wandb-row { display: flex; flex-direction: row; flex-wrap: wrap; justify-content: flex-start; width: 100% }\n",
       "    .wandb-col { display: flex; flex-direction: column; flex-basis: 100%; flex: 1; padding: 10px; }\n",
       "    </style>\n",
       "<div class=\"wandb-row\"><div class=\"wandb-col\"><h3>Run history:</h3><br/><table class=\"wandb\"><tr><td>eval/Accuracy</td><td>▁</td></tr><tr><td>eval/Balanced accuracy</td><td>▁</td></tr><tr><td>eval/F1 macro</td><td>▁</td></tr><tr><td>eval/F1 micro</td><td>▁</td></tr><tr><td>eval/F1 weighted</td><td>▁</td></tr><tr><td>eval/loss</td><td>▁</td></tr><tr><td>eval/runtime</td><td>▁</td></tr><tr><td>eval/samples_per_second</td><td>▁</td></tr><tr><td>eval/steps_per_second</td><td>▁</td></tr><tr><td>train/epoch</td><td>▁</td></tr><tr><td>train/global_step</td><td>▁</td></tr></table><br/></div><div class=\"wandb-col\"><h3>Run summary:</h3><br/><table class=\"wandb\"><tr><td>eval/Accuracy</td><td>0.80446</td></tr><tr><td>eval/Balanced accuracy</td><td>0.66508</td></tr><tr><td>eval/F1 macro</td><td>0.70444</td></tr><tr><td>eval/F1 micro</td><td>0.80446</td></tr><tr><td>eval/F1 weighted</td><td>0.79464</td></tr><tr><td>eval/loss</td><td>0.52071</td></tr><tr><td>eval/runtime</td><td>4.6485</td></tr><tr><td>eval/samples_per_second</td><td>722.808</td></tr><tr><td>eval/steps_per_second</td><td>90.351</td></tr><tr><td>train/epoch</td><td>1.0</td></tr><tr><td>train/global_step</td><td>630</td></tr></table><br/></div></div>"
      ],
      "text/plain": [
       "<IPython.core.display.HTML object>"
      ]
     },
     "metadata": {},
     "output_type": "display_data"
    },
    {
     "data": {
      "text/html": [
       " View run <strong style=\"color:#cdcd00\">trial-15</strong> at: <a href='https://wandb.ai/master-2024/BERT_BASE/runs/pbdau8wc' target=\"_blank\">https://wandb.ai/master-2024/BERT_BASE/runs/pbdau8wc</a><br/>Synced 5 W&B file(s), 0 media file(s), 0 artifact file(s) and 0 other file(s)"
      ],
      "text/plain": [
       "<IPython.core.display.HTML object>"
      ]
     },
     "metadata": {},
     "output_type": "display_data"
    },
    {
     "data": {
      "text/html": [
       "Find logs at: <code>./wandb/run-20240418_124733-pbdau8wc/logs</code>"
      ],
      "text/plain": [
       "<IPython.core.display.HTML object>"
      ]
     },
     "metadata": {},
     "output_type": "display_data"
    },
    {
     "data": {
      "text/html": [
       "Successfully finished last run (ID:pbdau8wc). Initializing new run:<br/>"
      ],
      "text/plain": [
       "<IPython.core.display.HTML object>"
      ]
     },
     "metadata": {},
     "output_type": "display_data"
    },
    {
     "data": {
      "text/html": [
       "wandb version 0.16.6 is available!  To upgrade, please run:\n",
       " $ pip install wandb --upgrade"
      ],
      "text/plain": [
       "<IPython.core.display.HTML object>"
      ]
     },
     "metadata": {},
     "output_type": "display_data"
    },
    {
     "data": {
      "text/html": [
       "Tracking run with wandb version 0.16.4"
      ],
      "text/plain": [
       "<IPython.core.display.HTML object>"
      ]
     },
     "metadata": {},
     "output_type": "display_data"
    },
    {
     "data": {
      "text/html": [
       "Run data is saved locally in <code>/net/fs-2/scale/OrionStore/Home/joteklem/Pytorch_models/wandb/run-20240418_124900-m9q4jz9k</code>"
      ],
      "text/plain": [
       "<IPython.core.display.HTML object>"
      ]
     },
     "metadata": {},
     "output_type": "display_data"
    },
    {
     "data": {
      "text/html": [
       "Syncing run <strong><a href='https://wandb.ai/master-2024/BERT_BASE/runs/m9q4jz9k' target=\"_blank\">trial-16</a></strong> to <a href='https://wandb.ai/master-2024/BERT_BASE' target=\"_blank\">Weights & Biases</a> (<a href='https://wandb.me/run' target=\"_blank\">docs</a>)<br/>"
      ],
      "text/plain": [
       "<IPython.core.display.HTML object>"
      ]
     },
     "metadata": {},
     "output_type": "display_data"
    },
    {
     "data": {
      "text/html": [
       " View project at <a href='https://wandb.ai/master-2024/BERT_BASE' target=\"_blank\">https://wandb.ai/master-2024/BERT_BASE</a>"
      ],
      "text/plain": [
       "<IPython.core.display.HTML object>"
      ]
     },
     "metadata": {},
     "output_type": "display_data"
    },
    {
     "data": {
      "text/html": [
       " View run at <a href='https://wandb.ai/master-2024/BERT_BASE/runs/m9q4jz9k' target=\"_blank\">https://wandb.ai/master-2024/BERT_BASE/runs/m9q4jz9k</a>"
      ],
      "text/plain": [
       "<IPython.core.display.HTML object>"
      ]
     },
     "metadata": {},
     "output_type": "display_data"
    },
    {
     "name": "stderr",
     "output_type": "stream",
     "text": [
      "/net/fs-2/scale/OrionStore/Scratch/joteklem/MyCondaEnvironments/Python3.11/orion_env/lib/python3.11/site-packages/accelerate/accelerator.py:432: FutureWarning: Passing the following arguments to `Accelerator` is deprecated and will be removed in version 1.0 of Accelerate: dict_keys(['dispatch_batches', 'split_batches', 'even_batches', 'use_seedable_sampler']). Please pass an `accelerate.DataLoaderConfiguration` instead: \n",
      "dataloader_config = DataLoaderConfiguration(dispatch_batches=None, split_batches=False, even_batches=True, use_seedable_sampler=True)\n",
      "  warnings.warn(\n",
      "Detected kernel version 3.10.0, which is below the recommended minimum of 5.5.0; this can cause the process to hang. It is recommended to upgrade the kernel to the minimum version or higher.\n"
     ]
    },
    {
     "name": "stdout",
     "output_type": "stream",
     "text": [
      "Starting trial 16\n"
     ]
    },
    {
     "data": {
      "text/html": [
       "\n",
       "    <div>\n",
       "      \n",
       "      <progress value='631' max='2520' style='width:300px; height:20px; vertical-align: middle;'></progress>\n",
       "      [ 631/2520 01:14 < 03:45, 8.39 it/s, Epoch 1/4]\n",
       "    </div>\n",
       "    <table border=\"1\" class=\"dataframe\">\n",
       "  <thead>\n",
       " <tr style=\"text-align: left;\">\n",
       "      <th>Epoch</th>\n",
       "      <th>Training Loss</th>\n",
       "      <th>Validation Loss</th>\n",
       "    </tr>\n",
       "  </thead>\n",
       "  <tbody>\n",
       "  </tbody>\n",
       "</table><p>\n",
       "    <div>\n",
       "      \n",
       "      <progress value='420' max='420' style='width:300px; height:20px; vertical-align: middle;'></progress>\n",
       "      [420/420 00:04]\n",
       "    </div>\n",
       "    "
      ],
      "text/plain": [
       "<IPython.core.display.HTML object>"
      ]
     },
     "metadata": {},
     "output_type": "display_data"
    },
    {
     "name": "stderr",
     "output_type": "stream",
     "text": [
      "[I 2024-04-18 12:50:27,302] Trial 16 pruned. \n"
     ]
    },
    {
     "data": {
      "text/html": [
       "Finishing last run (ID:m9q4jz9k) before initializing another..."
      ],
      "text/plain": [
       "<IPython.core.display.HTML object>"
      ]
     },
     "metadata": {},
     "output_type": "display_data"
    },
    {
     "data": {
      "text/html": [
       "<style>\n",
       "    table.wandb td:nth-child(1) { padding: 0 10px; text-align: left ; width: auto;} td:nth-child(2) {text-align: left ; width: 100%}\n",
       "    .wandb-row { display: flex; flex-direction: row; flex-wrap: wrap; justify-content: flex-start; width: 100% }\n",
       "    .wandb-col { display: flex; flex-direction: column; flex-basis: 100%; flex: 1; padding: 10px; }\n",
       "    </style>\n",
       "<div class=\"wandb-row\"><div class=\"wandb-col\"><h3>Run history:</h3><br/><table class=\"wandb\"><tr><td>eval/Accuracy</td><td>▁</td></tr><tr><td>eval/Balanced accuracy</td><td>▁</td></tr><tr><td>eval/F1 macro</td><td>▁</td></tr><tr><td>eval/F1 micro</td><td>▁</td></tr><tr><td>eval/F1 weighted</td><td>▁</td></tr><tr><td>eval/loss</td><td>▁</td></tr><tr><td>eval/runtime</td><td>▁</td></tr><tr><td>eval/samples_per_second</td><td>▁</td></tr><tr><td>eval/steps_per_second</td><td>▁</td></tr><tr><td>train/epoch</td><td>▁</td></tr><tr><td>train/global_step</td><td>▁</td></tr></table><br/></div><div class=\"wandb-col\"><h3>Run summary:</h3><br/><table class=\"wandb\"><tr><td>eval/Accuracy</td><td>0.8006</td></tr><tr><td>eval/Balanced accuracy</td><td>0.63481</td></tr><tr><td>eval/F1 macro</td><td>0.6772</td></tr><tr><td>eval/F1 micro</td><td>0.8006</td></tr><tr><td>eval/F1 weighted</td><td>0.78592</td></tr><tr><td>eval/loss</td><td>0.54337</td></tr><tr><td>eval/runtime</td><td>4.7948</td></tr><tr><td>eval/samples_per_second</td><td>700.756</td></tr><tr><td>eval/steps_per_second</td><td>87.595</td></tr><tr><td>train/epoch</td><td>1.0</td></tr><tr><td>train/global_step</td><td>630</td></tr></table><br/></div></div>"
      ],
      "text/plain": [
       "<IPython.core.display.HTML object>"
      ]
     },
     "metadata": {},
     "output_type": "display_data"
    },
    {
     "data": {
      "text/html": [
       " View run <strong style=\"color:#cdcd00\">trial-16</strong> at: <a href='https://wandb.ai/master-2024/BERT_BASE/runs/m9q4jz9k' target=\"_blank\">https://wandb.ai/master-2024/BERT_BASE/runs/m9q4jz9k</a><br/>Synced 5 W&B file(s), 0 media file(s), 0 artifact file(s) and 0 other file(s)"
      ],
      "text/plain": [
       "<IPython.core.display.HTML object>"
      ]
     },
     "metadata": {},
     "output_type": "display_data"
    },
    {
     "data": {
      "text/html": [
       "Find logs at: <code>./wandb/run-20240418_124900-m9q4jz9k/logs</code>"
      ],
      "text/plain": [
       "<IPython.core.display.HTML object>"
      ]
     },
     "metadata": {},
     "output_type": "display_data"
    },
    {
     "data": {
      "text/html": [
       "Successfully finished last run (ID:m9q4jz9k). Initializing new run:<br/>"
      ],
      "text/plain": [
       "<IPython.core.display.HTML object>"
      ]
     },
     "metadata": {},
     "output_type": "display_data"
    },
    {
     "data": {
      "text/html": [
       "wandb version 0.16.6 is available!  To upgrade, please run:\n",
       " $ pip install wandb --upgrade"
      ],
      "text/plain": [
       "<IPython.core.display.HTML object>"
      ]
     },
     "metadata": {},
     "output_type": "display_data"
    },
    {
     "data": {
      "text/html": [
       "Tracking run with wandb version 0.16.4"
      ],
      "text/plain": [
       "<IPython.core.display.HTML object>"
      ]
     },
     "metadata": {},
     "output_type": "display_data"
    },
    {
     "data": {
      "text/html": [
       "Run data is saved locally in <code>/net/fs-2/scale/OrionStore/Home/joteklem/Pytorch_models/wandb/run-20240418_125027-rbo2yby5</code>"
      ],
      "text/plain": [
       "<IPython.core.display.HTML object>"
      ]
     },
     "metadata": {},
     "output_type": "display_data"
    },
    {
     "data": {
      "text/html": [
       "Syncing run <strong><a href='https://wandb.ai/master-2024/BERT_BASE/runs/rbo2yby5' target=\"_blank\">trial-17</a></strong> to <a href='https://wandb.ai/master-2024/BERT_BASE' target=\"_blank\">Weights & Biases</a> (<a href='https://wandb.me/run' target=\"_blank\">docs</a>)<br/>"
      ],
      "text/plain": [
       "<IPython.core.display.HTML object>"
      ]
     },
     "metadata": {},
     "output_type": "display_data"
    },
    {
     "data": {
      "text/html": [
       " View project at <a href='https://wandb.ai/master-2024/BERT_BASE' target=\"_blank\">https://wandb.ai/master-2024/BERT_BASE</a>"
      ],
      "text/plain": [
       "<IPython.core.display.HTML object>"
      ]
     },
     "metadata": {},
     "output_type": "display_data"
    },
    {
     "data": {
      "text/html": [
       " View run at <a href='https://wandb.ai/master-2024/BERT_BASE/runs/rbo2yby5' target=\"_blank\">https://wandb.ai/master-2024/BERT_BASE/runs/rbo2yby5</a>"
      ],
      "text/plain": [
       "<IPython.core.display.HTML object>"
      ]
     },
     "metadata": {},
     "output_type": "display_data"
    },
    {
     "name": "stdout",
     "output_type": "stream",
     "text": [
      "Starting trial 17\n"
     ]
    },
    {
     "name": "stderr",
     "output_type": "stream",
     "text": [
      "/net/fs-2/scale/OrionStore/Scratch/joteklem/MyCondaEnvironments/Python3.11/orion_env/lib/python3.11/site-packages/accelerate/accelerator.py:432: FutureWarning: Passing the following arguments to `Accelerator` is deprecated and will be removed in version 1.0 of Accelerate: dict_keys(['dispatch_batches', 'split_batches', 'even_batches', 'use_seedable_sampler']). Please pass an `accelerate.DataLoaderConfiguration` instead: \n",
      "dataloader_config = DataLoaderConfiguration(dispatch_batches=None, split_batches=False, even_batches=True, use_seedable_sampler=True)\n",
      "  warnings.warn(\n",
      "Detected kernel version 3.10.0, which is below the recommended minimum of 5.5.0; this can cause the process to hang. It is recommended to upgrade the kernel to the minimum version or higher.\n"
     ]
    },
    {
     "data": {
      "text/html": [
       "\n",
       "    <div>\n",
       "      \n",
       "      <progress value='631' max='2520' style='width:300px; height:20px; vertical-align: middle;'></progress>\n",
       "      [ 631/2520 01:15 < 03:46, 8.33 it/s, Epoch 1/4]\n",
       "    </div>\n",
       "    <table border=\"1\" class=\"dataframe\">\n",
       "  <thead>\n",
       " <tr style=\"text-align: left;\">\n",
       "      <th>Epoch</th>\n",
       "      <th>Training Loss</th>\n",
       "      <th>Validation Loss</th>\n",
       "    </tr>\n",
       "  </thead>\n",
       "  <tbody>\n",
       "  </tbody>\n",
       "</table><p>\n",
       "    <div>\n",
       "      \n",
       "      <progress value='420' max='420' style='width:300px; height:20px; vertical-align: middle;'></progress>\n",
       "      [420/420 00:04]\n",
       "    </div>\n",
       "    "
      ],
      "text/plain": [
       "<IPython.core.display.HTML object>"
      ]
     },
     "metadata": {},
     "output_type": "display_data"
    },
    {
     "name": "stderr",
     "output_type": "stream",
     "text": [
      "[I 2024-04-18 12:51:57,656] Trial 17 pruned. \n"
     ]
    },
    {
     "data": {
      "text/html": [
       "Finishing last run (ID:rbo2yby5) before initializing another..."
      ],
      "text/plain": [
       "<IPython.core.display.HTML object>"
      ]
     },
     "metadata": {},
     "output_type": "display_data"
    },
    {
     "data": {
      "text/html": [
       "<style>\n",
       "    table.wandb td:nth-child(1) { padding: 0 10px; text-align: left ; width: auto;} td:nth-child(2) {text-align: left ; width: 100%}\n",
       "    .wandb-row { display: flex; flex-direction: row; flex-wrap: wrap; justify-content: flex-start; width: 100% }\n",
       "    .wandb-col { display: flex; flex-direction: column; flex-basis: 100%; flex: 1; padding: 10px; }\n",
       "    </style>\n",
       "<div class=\"wandb-row\"><div class=\"wandb-col\"><h3>Run history:</h3><br/><table class=\"wandb\"><tr><td>eval/Accuracy</td><td>▁</td></tr><tr><td>eval/Balanced accuracy</td><td>▁</td></tr><tr><td>eval/F1 macro</td><td>▁</td></tr><tr><td>eval/F1 micro</td><td>▁</td></tr><tr><td>eval/F1 weighted</td><td>▁</td></tr><tr><td>eval/loss</td><td>▁</td></tr><tr><td>eval/runtime</td><td>▁</td></tr><tr><td>eval/samples_per_second</td><td>▁</td></tr><tr><td>eval/steps_per_second</td><td>▁</td></tr><tr><td>train/epoch</td><td>▁</td></tr><tr><td>train/global_step</td><td>▁</td></tr></table><br/></div><div class=\"wandb-col\"><h3>Run summary:</h3><br/><table class=\"wandb\"><tr><td>eval/Accuracy</td><td>0.72173</td></tr><tr><td>eval/Balanced accuracy</td><td>0.48116</td></tr><tr><td>eval/F1 macro</td><td>0.46443</td></tr><tr><td>eval/F1 micro</td><td>0.72173</td></tr><tr><td>eval/F1 weighted</td><td>0.6801</td></tr><tr><td>eval/loss</td><td>0.79468</td></tr><tr><td>eval/runtime</td><td>4.7317</td></tr><tr><td>eval/samples_per_second</td><td>710.11</td></tr><tr><td>eval/steps_per_second</td><td>88.764</td></tr><tr><td>train/epoch</td><td>1.0</td></tr><tr><td>train/global_step</td><td>630</td></tr></table><br/></div></div>"
      ],
      "text/plain": [
       "<IPython.core.display.HTML object>"
      ]
     },
     "metadata": {},
     "output_type": "display_data"
    },
    {
     "data": {
      "text/html": [
       " View run <strong style=\"color:#cdcd00\">trial-17</strong> at: <a href='https://wandb.ai/master-2024/BERT_BASE/runs/rbo2yby5' target=\"_blank\">https://wandb.ai/master-2024/BERT_BASE/runs/rbo2yby5</a><br/>Synced 5 W&B file(s), 0 media file(s), 0 artifact file(s) and 0 other file(s)"
      ],
      "text/plain": [
       "<IPython.core.display.HTML object>"
      ]
     },
     "metadata": {},
     "output_type": "display_data"
    },
    {
     "data": {
      "text/html": [
       "Find logs at: <code>./wandb/run-20240418_125027-rbo2yby5/logs</code>"
      ],
      "text/plain": [
       "<IPython.core.display.HTML object>"
      ]
     },
     "metadata": {},
     "output_type": "display_data"
    },
    {
     "data": {
      "text/html": [
       "Successfully finished last run (ID:rbo2yby5). Initializing new run:<br/>"
      ],
      "text/plain": [
       "<IPython.core.display.HTML object>"
      ]
     },
     "metadata": {},
     "output_type": "display_data"
    },
    {
     "data": {
      "text/html": [
       "wandb version 0.16.6 is available!  To upgrade, please run:\n",
       " $ pip install wandb --upgrade"
      ],
      "text/plain": [
       "<IPython.core.display.HTML object>"
      ]
     },
     "metadata": {},
     "output_type": "display_data"
    },
    {
     "data": {
      "text/html": [
       "Tracking run with wandb version 0.16.4"
      ],
      "text/plain": [
       "<IPython.core.display.HTML object>"
      ]
     },
     "metadata": {},
     "output_type": "display_data"
    },
    {
     "data": {
      "text/html": [
       "Run data is saved locally in <code>/net/fs-2/scale/OrionStore/Home/joteklem/Pytorch_models/wandb/run-20240418_125157-03fzlcg9</code>"
      ],
      "text/plain": [
       "<IPython.core.display.HTML object>"
      ]
     },
     "metadata": {},
     "output_type": "display_data"
    },
    {
     "data": {
      "text/html": [
       "Syncing run <strong><a href='https://wandb.ai/master-2024/BERT_BASE/runs/03fzlcg9' target=\"_blank\">trial-18</a></strong> to <a href='https://wandb.ai/master-2024/BERT_BASE' target=\"_blank\">Weights & Biases</a> (<a href='https://wandb.me/run' target=\"_blank\">docs</a>)<br/>"
      ],
      "text/plain": [
       "<IPython.core.display.HTML object>"
      ]
     },
     "metadata": {},
     "output_type": "display_data"
    },
    {
     "data": {
      "text/html": [
       " View project at <a href='https://wandb.ai/master-2024/BERT_BASE' target=\"_blank\">https://wandb.ai/master-2024/BERT_BASE</a>"
      ],
      "text/plain": [
       "<IPython.core.display.HTML object>"
      ]
     },
     "metadata": {},
     "output_type": "display_data"
    },
    {
     "data": {
      "text/html": [
       " View run at <a href='https://wandb.ai/master-2024/BERT_BASE/runs/03fzlcg9' target=\"_blank\">https://wandb.ai/master-2024/BERT_BASE/runs/03fzlcg9</a>"
      ],
      "text/plain": [
       "<IPython.core.display.HTML object>"
      ]
     },
     "metadata": {},
     "output_type": "display_data"
    },
    {
     "name": "stderr",
     "output_type": "stream",
     "text": [
      "/net/fs-2/scale/OrionStore/Scratch/joteklem/MyCondaEnvironments/Python3.11/orion_env/lib/python3.11/site-packages/accelerate/accelerator.py:432: FutureWarning: Passing the following arguments to `Accelerator` is deprecated and will be removed in version 1.0 of Accelerate: dict_keys(['dispatch_batches', 'split_batches', 'even_batches', 'use_seedable_sampler']). Please pass an `accelerate.DataLoaderConfiguration` instead: \n",
      "dataloader_config = DataLoaderConfiguration(dispatch_batches=None, split_batches=False, even_batches=True, use_seedable_sampler=True)\n",
      "  warnings.warn(\n",
      "Detected kernel version 3.10.0, which is below the recommended minimum of 5.5.0; this can cause the process to hang. It is recommended to upgrade the kernel to the minimum version or higher.\n"
     ]
    },
    {
     "name": "stdout",
     "output_type": "stream",
     "text": [
      "Starting trial 18\n"
     ]
    },
    {
     "data": {
      "text/html": [
       "\n",
       "    <div>\n",
       "      \n",
       "      <progress value='631' max='1890' style='width:300px; height:20px; vertical-align: middle;'></progress>\n",
       "      [ 631/1890 01:14 < 02:29, 8.41 it/s, Epoch 1/3]\n",
       "    </div>\n",
       "    <table border=\"1\" class=\"dataframe\">\n",
       "  <thead>\n",
       " <tr style=\"text-align: left;\">\n",
       "      <th>Epoch</th>\n",
       "      <th>Training Loss</th>\n",
       "      <th>Validation Loss</th>\n",
       "    </tr>\n",
       "  </thead>\n",
       "  <tbody>\n",
       "  </tbody>\n",
       "</table><p>\n",
       "    <div>\n",
       "      \n",
       "      <progress value='420' max='420' style='width:300px; height:20px; vertical-align: middle;'></progress>\n",
       "      [420/420 00:04]\n",
       "    </div>\n",
       "    "
      ],
      "text/plain": [
       "<IPython.core.display.HTML object>"
      ]
     },
     "metadata": {},
     "output_type": "display_data"
    },
    {
     "name": "stderr",
     "output_type": "stream",
     "text": [
      "[I 2024-04-18 12:53:25,765] Trial 18 pruned. \n"
     ]
    },
    {
     "data": {
      "text/html": [
       "Finishing last run (ID:03fzlcg9) before initializing another..."
      ],
      "text/plain": [
       "<IPython.core.display.HTML object>"
      ]
     },
     "metadata": {},
     "output_type": "display_data"
    },
    {
     "data": {
      "text/html": [
       "<style>\n",
       "    table.wandb td:nth-child(1) { padding: 0 10px; text-align: left ; width: auto;} td:nth-child(2) {text-align: left ; width: 100%}\n",
       "    .wandb-row { display: flex; flex-direction: row; flex-wrap: wrap; justify-content: flex-start; width: 100% }\n",
       "    .wandb-col { display: flex; flex-direction: column; flex-basis: 100%; flex: 1; padding: 10px; }\n",
       "    </style>\n",
       "<div class=\"wandb-row\"><div class=\"wandb-col\"><h3>Run history:</h3><br/><table class=\"wandb\"><tr><td>eval/Accuracy</td><td>▁</td></tr><tr><td>eval/Balanced accuracy</td><td>▁</td></tr><tr><td>eval/F1 macro</td><td>▁</td></tr><tr><td>eval/F1 micro</td><td>▁</td></tr><tr><td>eval/F1 weighted</td><td>▁</td></tr><tr><td>eval/loss</td><td>▁</td></tr><tr><td>eval/runtime</td><td>▁</td></tr><tr><td>eval/samples_per_second</td><td>▁</td></tr><tr><td>eval/steps_per_second</td><td>▁</td></tr><tr><td>train/epoch</td><td>▁</td></tr><tr><td>train/global_step</td><td>▁</td></tr></table><br/></div><div class=\"wandb-col\"><h3>Run summary:</h3><br/><table class=\"wandb\"><tr><td>eval/Accuracy</td><td>0.79792</td></tr><tr><td>eval/Balanced accuracy</td><td>0.64241</td></tr><tr><td>eval/F1 macro</td><td>0.67788</td></tr><tr><td>eval/F1 micro</td><td>0.79792</td></tr><tr><td>eval/F1 weighted</td><td>0.7862</td></tr><tr><td>eval/loss</td><td>0.54663</td></tr><tr><td>eval/runtime</td><td>4.8505</td></tr><tr><td>eval/samples_per_second</td><td>692.707</td></tr><tr><td>eval/steps_per_second</td><td>86.588</td></tr><tr><td>train/epoch</td><td>1.0</td></tr><tr><td>train/global_step</td><td>630</td></tr></table><br/></div></div>"
      ],
      "text/plain": [
       "<IPython.core.display.HTML object>"
      ]
     },
     "metadata": {},
     "output_type": "display_data"
    },
    {
     "data": {
      "text/html": [
       " View run <strong style=\"color:#cdcd00\">trial-18</strong> at: <a href='https://wandb.ai/master-2024/BERT_BASE/runs/03fzlcg9' target=\"_blank\">https://wandb.ai/master-2024/BERT_BASE/runs/03fzlcg9</a><br/>Synced 5 W&B file(s), 0 media file(s), 0 artifact file(s) and 0 other file(s)"
      ],
      "text/plain": [
       "<IPython.core.display.HTML object>"
      ]
     },
     "metadata": {},
     "output_type": "display_data"
    },
    {
     "data": {
      "text/html": [
       "Find logs at: <code>./wandb/run-20240418_125157-03fzlcg9/logs</code>"
      ],
      "text/plain": [
       "<IPython.core.display.HTML object>"
      ]
     },
     "metadata": {},
     "output_type": "display_data"
    },
    {
     "data": {
      "text/html": [
       "Successfully finished last run (ID:03fzlcg9). Initializing new run:<br/>"
      ],
      "text/plain": [
       "<IPython.core.display.HTML object>"
      ]
     },
     "metadata": {},
     "output_type": "display_data"
    },
    {
     "data": {
      "text/html": [
       "wandb version 0.16.6 is available!  To upgrade, please run:\n",
       " $ pip install wandb --upgrade"
      ],
      "text/plain": [
       "<IPython.core.display.HTML object>"
      ]
     },
     "metadata": {},
     "output_type": "display_data"
    },
    {
     "data": {
      "text/html": [
       "Tracking run with wandb version 0.16.4"
      ],
      "text/plain": [
       "<IPython.core.display.HTML object>"
      ]
     },
     "metadata": {},
     "output_type": "display_data"
    },
    {
     "data": {
      "text/html": [
       "Run data is saved locally in <code>/net/fs-2/scale/OrionStore/Home/joteklem/Pytorch_models/wandb/run-20240418_125325-788kfirf</code>"
      ],
      "text/plain": [
       "<IPython.core.display.HTML object>"
      ]
     },
     "metadata": {},
     "output_type": "display_data"
    },
    {
     "data": {
      "text/html": [
       "Syncing run <strong><a href='https://wandb.ai/master-2024/BERT_BASE/runs/788kfirf' target=\"_blank\">trial-19</a></strong> to <a href='https://wandb.ai/master-2024/BERT_BASE' target=\"_blank\">Weights & Biases</a> (<a href='https://wandb.me/run' target=\"_blank\">docs</a>)<br/>"
      ],
      "text/plain": [
       "<IPython.core.display.HTML object>"
      ]
     },
     "metadata": {},
     "output_type": "display_data"
    },
    {
     "data": {
      "text/html": [
       " View project at <a href='https://wandb.ai/master-2024/BERT_BASE' target=\"_blank\">https://wandb.ai/master-2024/BERT_BASE</a>"
      ],
      "text/plain": [
       "<IPython.core.display.HTML object>"
      ]
     },
     "metadata": {},
     "output_type": "display_data"
    },
    {
     "data": {
      "text/html": [
       " View run at <a href='https://wandb.ai/master-2024/BERT_BASE/runs/788kfirf' target=\"_blank\">https://wandb.ai/master-2024/BERT_BASE/runs/788kfirf</a>"
      ],
      "text/plain": [
       "<IPython.core.display.HTML object>"
      ]
     },
     "metadata": {},
     "output_type": "display_data"
    },
    {
     "name": "stderr",
     "output_type": "stream",
     "text": [
      "/net/fs-2/scale/OrionStore/Scratch/joteklem/MyCondaEnvironments/Python3.11/orion_env/lib/python3.11/site-packages/accelerate/accelerator.py:432: FutureWarning: Passing the following arguments to `Accelerator` is deprecated and will be removed in version 1.0 of Accelerate: dict_keys(['dispatch_batches', 'split_batches', 'even_batches', 'use_seedable_sampler']). Please pass an `accelerate.DataLoaderConfiguration` instead: \n",
      "dataloader_config = DataLoaderConfiguration(dispatch_batches=None, split_batches=False, even_batches=True, use_seedable_sampler=True)\n",
      "  warnings.warn(\n",
      "Detected kernel version 3.10.0, which is below the recommended minimum of 5.5.0; this can cause the process to hang. It is recommended to upgrade the kernel to the minimum version or higher.\n"
     ]
    },
    {
     "name": "stdout",
     "output_type": "stream",
     "text": [
      "Starting trial 19\n"
     ]
    },
    {
     "data": {
      "text/html": [
       "\n",
       "    <div>\n",
       "      \n",
       "      <progress value='316' max='1575' style='width:300px; height:20px; vertical-align: middle;'></progress>\n",
       "      [ 316/1575 00:31 < 02:08, 9.82 it/s, Epoch 1/5]\n",
       "    </div>\n",
       "    <table border=\"1\" class=\"dataframe\">\n",
       "  <thead>\n",
       " <tr style=\"text-align: left;\">\n",
       "      <th>Epoch</th>\n",
       "      <th>Training Loss</th>\n",
       "      <th>Validation Loss</th>\n",
       "    </tr>\n",
       "  </thead>\n",
       "  <tbody>\n",
       "  </tbody>\n",
       "</table><p>\n",
       "    <div>\n",
       "      \n",
       "      <progress value='210' max='210' style='width:300px; height:20px; vertical-align: middle;'></progress>\n",
       "      [210/210 00:02]\n",
       "    </div>\n",
       "    "
      ],
      "text/plain": [
       "<IPython.core.display.HTML object>"
      ]
     },
     "metadata": {},
     "output_type": "display_data"
    },
    {
     "name": "stderr",
     "output_type": "stream",
     "text": [
      "[I 2024-04-18 12:54:07,629] Trial 19 pruned. \n"
     ]
    },
    {
     "data": {
      "text/html": [
       "Finishing last run (ID:788kfirf) before initializing another..."
      ],
      "text/plain": [
       "<IPython.core.display.HTML object>"
      ]
     },
     "metadata": {},
     "output_type": "display_data"
    },
    {
     "data": {
      "text/html": [
       "<style>\n",
       "    table.wandb td:nth-child(1) { padding: 0 10px; text-align: left ; width: auto;} td:nth-child(2) {text-align: left ; width: 100%}\n",
       "    .wandb-row { display: flex; flex-direction: row; flex-wrap: wrap; justify-content: flex-start; width: 100% }\n",
       "    .wandb-col { display: flex; flex-direction: column; flex-basis: 100%; flex: 1; padding: 10px; }\n",
       "    </style>\n",
       "<div class=\"wandb-row\"><div class=\"wandb-col\"><h3>Run history:</h3><br/><table class=\"wandb\"><tr><td>eval/Accuracy</td><td>▁</td></tr><tr><td>eval/Balanced accuracy</td><td>▁</td></tr><tr><td>eval/F1 macro</td><td>▁</td></tr><tr><td>eval/F1 micro</td><td>▁</td></tr><tr><td>eval/F1 weighted</td><td>▁</td></tr><tr><td>eval/loss</td><td>▁</td></tr><tr><td>eval/runtime</td><td>▁</td></tr><tr><td>eval/samples_per_second</td><td>▁</td></tr><tr><td>eval/steps_per_second</td><td>▁</td></tr><tr><td>train/epoch</td><td>▁</td></tr><tr><td>train/global_step</td><td>▁</td></tr></table><br/></div><div class=\"wandb-col\"><h3>Run summary:</h3><br/><table class=\"wandb\"><tr><td>eval/Accuracy</td><td>0.80625</td></tr><tr><td>eval/Balanced accuracy</td><td>0.66085</td></tr><tr><td>eval/F1 macro</td><td>0.69673</td></tr><tr><td>eval/F1 micro</td><td>0.80625</td></tr><tr><td>eval/F1 weighted</td><td>0.79593</td></tr><tr><td>eval/loss</td><td>0.54371</td></tr><tr><td>eval/runtime</td><td>2.6046</td></tr><tr><td>eval/samples_per_second</td><td>1290.006</td></tr><tr><td>eval/steps_per_second</td><td>80.625</td></tr><tr><td>train/epoch</td><td>1.0</td></tr><tr><td>train/global_step</td><td>315</td></tr></table><br/></div></div>"
      ],
      "text/plain": [
       "<IPython.core.display.HTML object>"
      ]
     },
     "metadata": {},
     "output_type": "display_data"
    },
    {
     "data": {
      "text/html": [
       " View run <strong style=\"color:#cdcd00\">trial-19</strong> at: <a href='https://wandb.ai/master-2024/BERT_BASE/runs/788kfirf' target=\"_blank\">https://wandb.ai/master-2024/BERT_BASE/runs/788kfirf</a><br/>Synced 5 W&B file(s), 0 media file(s), 0 artifact file(s) and 0 other file(s)"
      ],
      "text/plain": [
       "<IPython.core.display.HTML object>"
      ]
     },
     "metadata": {},
     "output_type": "display_data"
    },
    {
     "data": {
      "text/html": [
       "Find logs at: <code>./wandb/run-20240418_125325-788kfirf/logs</code>"
      ],
      "text/plain": [
       "<IPython.core.display.HTML object>"
      ]
     },
     "metadata": {},
     "output_type": "display_data"
    },
    {
     "data": {
      "text/html": [
       "Successfully finished last run (ID:788kfirf). Initializing new run:<br/>"
      ],
      "text/plain": [
       "<IPython.core.display.HTML object>"
      ]
     },
     "metadata": {},
     "output_type": "display_data"
    },
    {
     "data": {
      "text/html": [
       "wandb version 0.16.6 is available!  To upgrade, please run:\n",
       " $ pip install wandb --upgrade"
      ],
      "text/plain": [
       "<IPython.core.display.HTML object>"
      ]
     },
     "metadata": {},
     "output_type": "display_data"
    },
    {
     "data": {
      "text/html": [
       "Tracking run with wandb version 0.16.4"
      ],
      "text/plain": [
       "<IPython.core.display.HTML object>"
      ]
     },
     "metadata": {},
     "output_type": "display_data"
    },
    {
     "data": {
      "text/html": [
       "Run data is saved locally in <code>/net/fs-2/scale/OrionStore/Home/joteklem/Pytorch_models/wandb/run-20240418_125407-jzv955fn</code>"
      ],
      "text/plain": [
       "<IPython.core.display.HTML object>"
      ]
     },
     "metadata": {},
     "output_type": "display_data"
    },
    {
     "data": {
      "text/html": [
       "Syncing run <strong><a href='https://wandb.ai/master-2024/BERT_BASE/runs/jzv955fn' target=\"_blank\">trial-20</a></strong> to <a href='https://wandb.ai/master-2024/BERT_BASE' target=\"_blank\">Weights & Biases</a> (<a href='https://wandb.me/run' target=\"_blank\">docs</a>)<br/>"
      ],
      "text/plain": [
       "<IPython.core.display.HTML object>"
      ]
     },
     "metadata": {},
     "output_type": "display_data"
    },
    {
     "data": {
      "text/html": [
       " View project at <a href='https://wandb.ai/master-2024/BERT_BASE' target=\"_blank\">https://wandb.ai/master-2024/BERT_BASE</a>"
      ],
      "text/plain": [
       "<IPython.core.display.HTML object>"
      ]
     },
     "metadata": {},
     "output_type": "display_data"
    },
    {
     "data": {
      "text/html": [
       " View run at <a href='https://wandb.ai/master-2024/BERT_BASE/runs/jzv955fn' target=\"_blank\">https://wandb.ai/master-2024/BERT_BASE/runs/jzv955fn</a>"
      ],
      "text/plain": [
       "<IPython.core.display.HTML object>"
      ]
     },
     "metadata": {},
     "output_type": "display_data"
    },
    {
     "name": "stderr",
     "output_type": "stream",
     "text": [
      "/net/fs-2/scale/OrionStore/Scratch/joteklem/MyCondaEnvironments/Python3.11/orion_env/lib/python3.11/site-packages/accelerate/accelerator.py:432: FutureWarning: Passing the following arguments to `Accelerator` is deprecated and will be removed in version 1.0 of Accelerate: dict_keys(['dispatch_batches', 'split_batches', 'even_batches', 'use_seedable_sampler']). Please pass an `accelerate.DataLoaderConfiguration` instead: \n",
      "dataloader_config = DataLoaderConfiguration(dispatch_batches=None, split_batches=False, even_batches=True, use_seedable_sampler=True)\n",
      "  warnings.warn(\n",
      "Detected kernel version 3.10.0, which is below the recommended minimum of 5.5.0; this can cause the process to hang. It is recommended to upgrade the kernel to the minimum version or higher.\n"
     ]
    },
    {
     "name": "stdout",
     "output_type": "stream",
     "text": [
      "Starting trial 20\n"
     ]
    },
    {
     "data": {
      "text/html": [
       "\n",
       "    <div>\n",
       "      \n",
       "      <progress value='631' max='2520' style='width:300px; height:20px; vertical-align: middle;'></progress>\n",
       "      [ 631/2520 01:14 < 03:45, 8.39 it/s, Epoch 1/4]\n",
       "    </div>\n",
       "    <table border=\"1\" class=\"dataframe\">\n",
       "  <thead>\n",
       " <tr style=\"text-align: left;\">\n",
       "      <th>Epoch</th>\n",
       "      <th>Training Loss</th>\n",
       "      <th>Validation Loss</th>\n",
       "    </tr>\n",
       "  </thead>\n",
       "  <tbody>\n",
       "  </tbody>\n",
       "</table><p>\n",
       "    <div>\n",
       "      \n",
       "      <progress value='420' max='420' style='width:300px; height:20px; vertical-align: middle;'></progress>\n",
       "      [420/420 00:04]\n",
       "    </div>\n",
       "    "
      ],
      "text/plain": [
       "<IPython.core.display.HTML object>"
      ]
     },
     "metadata": {},
     "output_type": "display_data"
    },
    {
     "name": "stderr",
     "output_type": "stream",
     "text": [
      "[I 2024-04-18 12:55:35,534] Trial 20 pruned. \n"
     ]
    },
    {
     "data": {
      "text/html": [
       "Finishing last run (ID:jzv955fn) before initializing another..."
      ],
      "text/plain": [
       "<IPython.core.display.HTML object>"
      ]
     },
     "metadata": {},
     "output_type": "display_data"
    },
    {
     "data": {
      "text/html": [
       "<style>\n",
       "    table.wandb td:nth-child(1) { padding: 0 10px; text-align: left ; width: auto;} td:nth-child(2) {text-align: left ; width: 100%}\n",
       "    .wandb-row { display: flex; flex-direction: row; flex-wrap: wrap; justify-content: flex-start; width: 100% }\n",
       "    .wandb-col { display: flex; flex-direction: column; flex-basis: 100%; flex: 1; padding: 10px; }\n",
       "    </style>\n",
       "<div class=\"wandb-row\"><div class=\"wandb-col\"><h3>Run history:</h3><br/><table class=\"wandb\"><tr><td>eval/Accuracy</td><td>▁</td></tr><tr><td>eval/Balanced accuracy</td><td>▁</td></tr><tr><td>eval/F1 macro</td><td>▁</td></tr><tr><td>eval/F1 micro</td><td>▁</td></tr><tr><td>eval/F1 weighted</td><td>▁</td></tr><tr><td>eval/loss</td><td>▁</td></tr><tr><td>eval/runtime</td><td>▁</td></tr><tr><td>eval/samples_per_second</td><td>▁</td></tr><tr><td>eval/steps_per_second</td><td>▁</td></tr><tr><td>train/epoch</td><td>▁</td></tr><tr><td>train/global_step</td><td>▁</td></tr></table><br/></div><div class=\"wandb-col\"><h3>Run summary:</h3><br/><table class=\"wandb\"><tr><td>eval/Accuracy</td><td>0.80387</td></tr><tr><td>eval/Balanced accuracy</td><td>0.68786</td></tr><tr><td>eval/F1 macro</td><td>0.71656</td></tr><tr><td>eval/F1 micro</td><td>0.80387</td></tr><tr><td>eval/F1 weighted</td><td>0.79767</td></tr><tr><td>eval/loss</td><td>0.52054</td></tr><tr><td>eval/runtime</td><td>4.7799</td></tr><tr><td>eval/samples_per_second</td><td>702.937</td></tr><tr><td>eval/steps_per_second</td><td>87.867</td></tr><tr><td>train/epoch</td><td>1.0</td></tr><tr><td>train/global_step</td><td>630</td></tr></table><br/></div></div>"
      ],
      "text/plain": [
       "<IPython.core.display.HTML object>"
      ]
     },
     "metadata": {},
     "output_type": "display_data"
    },
    {
     "data": {
      "text/html": [
       " View run <strong style=\"color:#cdcd00\">trial-20</strong> at: <a href='https://wandb.ai/master-2024/BERT_BASE/runs/jzv955fn' target=\"_blank\">https://wandb.ai/master-2024/BERT_BASE/runs/jzv955fn</a><br/>Synced 5 W&B file(s), 0 media file(s), 0 artifact file(s) and 0 other file(s)"
      ],
      "text/plain": [
       "<IPython.core.display.HTML object>"
      ]
     },
     "metadata": {},
     "output_type": "display_data"
    },
    {
     "data": {
      "text/html": [
       "Find logs at: <code>./wandb/run-20240418_125407-jzv955fn/logs</code>"
      ],
      "text/plain": [
       "<IPython.core.display.HTML object>"
      ]
     },
     "metadata": {},
     "output_type": "display_data"
    },
    {
     "data": {
      "text/html": [
       "Successfully finished last run (ID:jzv955fn). Initializing new run:<br/>"
      ],
      "text/plain": [
       "<IPython.core.display.HTML object>"
      ]
     },
     "metadata": {},
     "output_type": "display_data"
    },
    {
     "data": {
      "text/html": [
       "wandb version 0.16.6 is available!  To upgrade, please run:\n",
       " $ pip install wandb --upgrade"
      ],
      "text/plain": [
       "<IPython.core.display.HTML object>"
      ]
     },
     "metadata": {},
     "output_type": "display_data"
    },
    {
     "data": {
      "text/html": [
       "Tracking run with wandb version 0.16.4"
      ],
      "text/plain": [
       "<IPython.core.display.HTML object>"
      ]
     },
     "metadata": {},
     "output_type": "display_data"
    },
    {
     "data": {
      "text/html": [
       "Run data is saved locally in <code>/net/fs-2/scale/OrionStore/Home/joteklem/Pytorch_models/wandb/run-20240418_125535-30mc3h27</code>"
      ],
      "text/plain": [
       "<IPython.core.display.HTML object>"
      ]
     },
     "metadata": {},
     "output_type": "display_data"
    },
    {
     "data": {
      "text/html": [
       "Syncing run <strong><a href='https://wandb.ai/master-2024/BERT_BASE/runs/30mc3h27' target=\"_blank\">trial-21</a></strong> to <a href='https://wandb.ai/master-2024/BERT_BASE' target=\"_blank\">Weights & Biases</a> (<a href='https://wandb.me/run' target=\"_blank\">docs</a>)<br/>"
      ],
      "text/plain": [
       "<IPython.core.display.HTML object>"
      ]
     },
     "metadata": {},
     "output_type": "display_data"
    },
    {
     "data": {
      "text/html": [
       " View project at <a href='https://wandb.ai/master-2024/BERT_BASE' target=\"_blank\">https://wandb.ai/master-2024/BERT_BASE</a>"
      ],
      "text/plain": [
       "<IPython.core.display.HTML object>"
      ]
     },
     "metadata": {},
     "output_type": "display_data"
    },
    {
     "data": {
      "text/html": [
       " View run at <a href='https://wandb.ai/master-2024/BERT_BASE/runs/30mc3h27' target=\"_blank\">https://wandb.ai/master-2024/BERT_BASE/runs/30mc3h27</a>"
      ],
      "text/plain": [
       "<IPython.core.display.HTML object>"
      ]
     },
     "metadata": {},
     "output_type": "display_data"
    },
    {
     "name": "stderr",
     "output_type": "stream",
     "text": [
      "/net/fs-2/scale/OrionStore/Scratch/joteklem/MyCondaEnvironments/Python3.11/orion_env/lib/python3.11/site-packages/accelerate/accelerator.py:432: FutureWarning: Passing the following arguments to `Accelerator` is deprecated and will be removed in version 1.0 of Accelerate: dict_keys(['dispatch_batches', 'split_batches', 'even_batches', 'use_seedable_sampler']). Please pass an `accelerate.DataLoaderConfiguration` instead: \n",
      "dataloader_config = DataLoaderConfiguration(dispatch_batches=None, split_batches=False, even_batches=True, use_seedable_sampler=True)\n",
      "  warnings.warn(\n",
      "Detected kernel version 3.10.0, which is below the recommended minimum of 5.5.0; this can cause the process to hang. It is recommended to upgrade the kernel to the minimum version or higher.\n"
     ]
    },
    {
     "name": "stdout",
     "output_type": "stream",
     "text": [
      "Starting trial 21\n"
     ]
    },
    {
     "data": {
      "text/html": [
       "\n",
       "    <div>\n",
       "      \n",
       "      <progress value='631' max='2520' style='width:300px; height:20px; vertical-align: middle;'></progress>\n",
       "      [ 631/2520 01:10 < 03:31, 8.91 it/s, Epoch 1/4]\n",
       "    </div>\n",
       "    <table border=\"1\" class=\"dataframe\">\n",
       "  <thead>\n",
       " <tr style=\"text-align: left;\">\n",
       "      <th>Epoch</th>\n",
       "      <th>Training Loss</th>\n",
       "      <th>Validation Loss</th>\n",
       "    </tr>\n",
       "  </thead>\n",
       "  <tbody>\n",
       "  </tbody>\n",
       "</table><p>\n",
       "    <div>\n",
       "      \n",
       "      <progress value='420' max='420' style='width:300px; height:20px; vertical-align: middle;'></progress>\n",
       "      [420/420 00:04]\n",
       "    </div>\n",
       "    "
      ],
      "text/plain": [
       "<IPython.core.display.HTML object>"
      ]
     },
     "metadata": {},
     "output_type": "display_data"
    },
    {
     "name": "stderr",
     "output_type": "stream",
     "text": [
      "[I 2024-04-18 12:56:58,578] Trial 21 pruned. \n"
     ]
    },
    {
     "data": {
      "text/html": [
       "Finishing last run (ID:30mc3h27) before initializing another..."
      ],
      "text/plain": [
       "<IPython.core.display.HTML object>"
      ]
     },
     "metadata": {},
     "output_type": "display_data"
    },
    {
     "data": {
      "text/html": [
       "<style>\n",
       "    table.wandb td:nth-child(1) { padding: 0 10px; text-align: left ; width: auto;} td:nth-child(2) {text-align: left ; width: 100%}\n",
       "    .wandb-row { display: flex; flex-direction: row; flex-wrap: wrap; justify-content: flex-start; width: 100% }\n",
       "    .wandb-col { display: flex; flex-direction: column; flex-basis: 100%; flex: 1; padding: 10px; }\n",
       "    </style>\n",
       "<div class=\"wandb-row\"><div class=\"wandb-col\"><h3>Run history:</h3><br/><table class=\"wandb\"><tr><td>eval/Accuracy</td><td>▁</td></tr><tr><td>eval/Balanced accuracy</td><td>▁</td></tr><tr><td>eval/F1 macro</td><td>▁</td></tr><tr><td>eval/F1 micro</td><td>▁</td></tr><tr><td>eval/F1 weighted</td><td>▁</td></tr><tr><td>eval/loss</td><td>▁</td></tr><tr><td>eval/runtime</td><td>▁</td></tr><tr><td>eval/samples_per_second</td><td>▁</td></tr><tr><td>eval/steps_per_second</td><td>▁</td></tr><tr><td>train/epoch</td><td>▁</td></tr><tr><td>train/global_step</td><td>▁</td></tr></table><br/></div><div class=\"wandb-col\"><h3>Run summary:</h3><br/><table class=\"wandb\"><tr><td>eval/Accuracy</td><td>0.79554</td></tr><tr><td>eval/Balanced accuracy</td><td>0.66038</td></tr><tr><td>eval/F1 macro</td><td>0.69554</td></tr><tr><td>eval/F1 micro</td><td>0.79554</td></tr><tr><td>eval/F1 weighted</td><td>0.78707</td></tr><tr><td>eval/loss</td><td>0.53846</td></tr><tr><td>eval/runtime</td><td>4.7615</td></tr><tr><td>eval/samples_per_second</td><td>705.662</td></tr><tr><td>eval/steps_per_second</td><td>88.208</td></tr><tr><td>train/epoch</td><td>1.0</td></tr><tr><td>train/global_step</td><td>630</td></tr></table><br/></div></div>"
      ],
      "text/plain": [
       "<IPython.core.display.HTML object>"
      ]
     },
     "metadata": {},
     "output_type": "display_data"
    },
    {
     "data": {
      "text/html": [
       " View run <strong style=\"color:#cdcd00\">trial-21</strong> at: <a href='https://wandb.ai/master-2024/BERT_BASE/runs/30mc3h27' target=\"_blank\">https://wandb.ai/master-2024/BERT_BASE/runs/30mc3h27</a><br/>Synced 5 W&B file(s), 0 media file(s), 0 artifact file(s) and 0 other file(s)"
      ],
      "text/plain": [
       "<IPython.core.display.HTML object>"
      ]
     },
     "metadata": {},
     "output_type": "display_data"
    },
    {
     "data": {
      "text/html": [
       "Find logs at: <code>./wandb/run-20240418_125535-30mc3h27/logs</code>"
      ],
      "text/plain": [
       "<IPython.core.display.HTML object>"
      ]
     },
     "metadata": {},
     "output_type": "display_data"
    },
    {
     "data": {
      "text/html": [
       "Successfully finished last run (ID:30mc3h27). Initializing new run:<br/>"
      ],
      "text/plain": [
       "<IPython.core.display.HTML object>"
      ]
     },
     "metadata": {},
     "output_type": "display_data"
    },
    {
     "data": {
      "text/html": [
       "wandb version 0.16.6 is available!  To upgrade, please run:\n",
       " $ pip install wandb --upgrade"
      ],
      "text/plain": [
       "<IPython.core.display.HTML object>"
      ]
     },
     "metadata": {},
     "output_type": "display_data"
    },
    {
     "data": {
      "text/html": [
       "Tracking run with wandb version 0.16.4"
      ],
      "text/plain": [
       "<IPython.core.display.HTML object>"
      ]
     },
     "metadata": {},
     "output_type": "display_data"
    },
    {
     "data": {
      "text/html": [
       "Run data is saved locally in <code>/net/fs-2/scale/OrionStore/Home/joteklem/Pytorch_models/wandb/run-20240418_125658-g3hs9mn5</code>"
      ],
      "text/plain": [
       "<IPython.core.display.HTML object>"
      ]
     },
     "metadata": {},
     "output_type": "display_data"
    },
    {
     "data": {
      "text/html": [
       "Syncing run <strong><a href='https://wandb.ai/master-2024/BERT_BASE/runs/g3hs9mn5' target=\"_blank\">trial-22</a></strong> to <a href='https://wandb.ai/master-2024/BERT_BASE' target=\"_blank\">Weights & Biases</a> (<a href='https://wandb.me/run' target=\"_blank\">docs</a>)<br/>"
      ],
      "text/plain": [
       "<IPython.core.display.HTML object>"
      ]
     },
     "metadata": {},
     "output_type": "display_data"
    },
    {
     "data": {
      "text/html": [
       " View project at <a href='https://wandb.ai/master-2024/BERT_BASE' target=\"_blank\">https://wandb.ai/master-2024/BERT_BASE</a>"
      ],
      "text/plain": [
       "<IPython.core.display.HTML object>"
      ]
     },
     "metadata": {},
     "output_type": "display_data"
    },
    {
     "data": {
      "text/html": [
       " View run at <a href='https://wandb.ai/master-2024/BERT_BASE/runs/g3hs9mn5' target=\"_blank\">https://wandb.ai/master-2024/BERT_BASE/runs/g3hs9mn5</a>"
      ],
      "text/plain": [
       "<IPython.core.display.HTML object>"
      ]
     },
     "metadata": {},
     "output_type": "display_data"
    },
    {
     "name": "stderr",
     "output_type": "stream",
     "text": [
      "/net/fs-2/scale/OrionStore/Scratch/joteklem/MyCondaEnvironments/Python3.11/orion_env/lib/python3.11/site-packages/accelerate/accelerator.py:432: FutureWarning: Passing the following arguments to `Accelerator` is deprecated and will be removed in version 1.0 of Accelerate: dict_keys(['dispatch_batches', 'split_batches', 'even_batches', 'use_seedable_sampler']). Please pass an `accelerate.DataLoaderConfiguration` instead: \n",
      "dataloader_config = DataLoaderConfiguration(dispatch_batches=None, split_batches=False, even_batches=True, use_seedable_sampler=True)\n",
      "  warnings.warn(\n",
      "Detected kernel version 3.10.0, which is below the recommended minimum of 5.5.0; this can cause the process to hang. It is recommended to upgrade the kernel to the minimum version or higher.\n"
     ]
    },
    {
     "name": "stdout",
     "output_type": "stream",
     "text": [
      "Starting trial 22\n"
     ]
    },
    {
     "data": {
      "text/html": [
       "\n",
       "    <div>\n",
       "      \n",
       "      <progress value='631' max='2520' style='width:300px; height:20px; vertical-align: middle;'></progress>\n",
       "      [ 631/2520 01:17 < 03:51, 8.16 it/s, Epoch 1/4]\n",
       "    </div>\n",
       "    <table border=\"1\" class=\"dataframe\">\n",
       "  <thead>\n",
       " <tr style=\"text-align: left;\">\n",
       "      <th>Epoch</th>\n",
       "      <th>Training Loss</th>\n",
       "      <th>Validation Loss</th>\n",
       "    </tr>\n",
       "  </thead>\n",
       "  <tbody>\n",
       "  </tbody>\n",
       "</table><p>\n",
       "    <div>\n",
       "      \n",
       "      <progress value='420' max='420' style='width:300px; height:20px; vertical-align: middle;'></progress>\n",
       "      [420/420 00:04]\n",
       "    </div>\n",
       "    "
      ],
      "text/plain": [
       "<IPython.core.display.HTML object>"
      ]
     },
     "metadata": {},
     "output_type": "display_data"
    },
    {
     "name": "stderr",
     "output_type": "stream",
     "text": [
      "[I 2024-04-18 12:58:27,753] Trial 22 pruned. \n"
     ]
    },
    {
     "data": {
      "text/html": [
       "Finishing last run (ID:g3hs9mn5) before initializing another..."
      ],
      "text/plain": [
       "<IPython.core.display.HTML object>"
      ]
     },
     "metadata": {},
     "output_type": "display_data"
    },
    {
     "data": {
      "text/html": [
       "<style>\n",
       "    table.wandb td:nth-child(1) { padding: 0 10px; text-align: left ; width: auto;} td:nth-child(2) {text-align: left ; width: 100%}\n",
       "    .wandb-row { display: flex; flex-direction: row; flex-wrap: wrap; justify-content: flex-start; width: 100% }\n",
       "    .wandb-col { display: flex; flex-direction: column; flex-basis: 100%; flex: 1; padding: 10px; }\n",
       "    </style>\n",
       "<div class=\"wandb-row\"><div class=\"wandb-col\"><h3>Run history:</h3><br/><table class=\"wandb\"><tr><td>eval/Accuracy</td><td>▁</td></tr><tr><td>eval/Balanced accuracy</td><td>▁</td></tr><tr><td>eval/F1 macro</td><td>▁</td></tr><tr><td>eval/F1 micro</td><td>▁</td></tr><tr><td>eval/F1 weighted</td><td>▁</td></tr><tr><td>eval/loss</td><td>▁</td></tr><tr><td>eval/runtime</td><td>▁</td></tr><tr><td>eval/samples_per_second</td><td>▁</td></tr><tr><td>eval/steps_per_second</td><td>▁</td></tr><tr><td>train/epoch</td><td>▁</td></tr><tr><td>train/global_step</td><td>▁</td></tr></table><br/></div><div class=\"wandb-col\"><h3>Run summary:</h3><br/><table class=\"wandb\"><tr><td>eval/Accuracy</td><td>0.79256</td></tr><tr><td>eval/Balanced accuracy</td><td>0.64181</td></tr><tr><td>eval/F1 macro</td><td>0.68007</td></tr><tr><td>eval/F1 micro</td><td>0.79256</td></tr><tr><td>eval/F1 weighted</td><td>0.781</td></tr><tr><td>eval/loss</td><td>0.58004</td></tr><tr><td>eval/runtime</td><td>4.7458</td></tr><tr><td>eval/samples_per_second</td><td>707.988</td></tr><tr><td>eval/steps_per_second</td><td>88.499</td></tr><tr><td>train/epoch</td><td>1.0</td></tr><tr><td>train/global_step</td><td>630</td></tr></table><br/></div></div>"
      ],
      "text/plain": [
       "<IPython.core.display.HTML object>"
      ]
     },
     "metadata": {},
     "output_type": "display_data"
    },
    {
     "data": {
      "text/html": [
       " View run <strong style=\"color:#cdcd00\">trial-22</strong> at: <a href='https://wandb.ai/master-2024/BERT_BASE/runs/g3hs9mn5' target=\"_blank\">https://wandb.ai/master-2024/BERT_BASE/runs/g3hs9mn5</a><br/>Synced 5 W&B file(s), 0 media file(s), 0 artifact file(s) and 0 other file(s)"
      ],
      "text/plain": [
       "<IPython.core.display.HTML object>"
      ]
     },
     "metadata": {},
     "output_type": "display_data"
    },
    {
     "data": {
      "text/html": [
       "Find logs at: <code>./wandb/run-20240418_125658-g3hs9mn5/logs</code>"
      ],
      "text/plain": [
       "<IPython.core.display.HTML object>"
      ]
     },
     "metadata": {},
     "output_type": "display_data"
    },
    {
     "data": {
      "text/html": [
       "Successfully finished last run (ID:g3hs9mn5). Initializing new run:<br/>"
      ],
      "text/plain": [
       "<IPython.core.display.HTML object>"
      ]
     },
     "metadata": {},
     "output_type": "display_data"
    },
    {
     "data": {
      "text/html": [
       "wandb version 0.16.6 is available!  To upgrade, please run:\n",
       " $ pip install wandb --upgrade"
      ],
      "text/plain": [
       "<IPython.core.display.HTML object>"
      ]
     },
     "metadata": {},
     "output_type": "display_data"
    },
    {
     "data": {
      "text/html": [
       "Tracking run with wandb version 0.16.4"
      ],
      "text/plain": [
       "<IPython.core.display.HTML object>"
      ]
     },
     "metadata": {},
     "output_type": "display_data"
    },
    {
     "data": {
      "text/html": [
       "Run data is saved locally in <code>/net/fs-2/scale/OrionStore/Home/joteklem/Pytorch_models/wandb/run-20240418_125827-3apsujcy</code>"
      ],
      "text/plain": [
       "<IPython.core.display.HTML object>"
      ]
     },
     "metadata": {},
     "output_type": "display_data"
    },
    {
     "data": {
      "text/html": [
       "Syncing run <strong><a href='https://wandb.ai/master-2024/BERT_BASE/runs/3apsujcy' target=\"_blank\">trial-23</a></strong> to <a href='https://wandb.ai/master-2024/BERT_BASE' target=\"_blank\">Weights & Biases</a> (<a href='https://wandb.me/run' target=\"_blank\">docs</a>)<br/>"
      ],
      "text/plain": [
       "<IPython.core.display.HTML object>"
      ]
     },
     "metadata": {},
     "output_type": "display_data"
    },
    {
     "data": {
      "text/html": [
       " View project at <a href='https://wandb.ai/master-2024/BERT_BASE' target=\"_blank\">https://wandb.ai/master-2024/BERT_BASE</a>"
      ],
      "text/plain": [
       "<IPython.core.display.HTML object>"
      ]
     },
     "metadata": {},
     "output_type": "display_data"
    },
    {
     "data": {
      "text/html": [
       " View run at <a href='https://wandb.ai/master-2024/BERT_BASE/runs/3apsujcy' target=\"_blank\">https://wandb.ai/master-2024/BERT_BASE/runs/3apsujcy</a>"
      ],
      "text/plain": [
       "<IPython.core.display.HTML object>"
      ]
     },
     "metadata": {},
     "output_type": "display_data"
    },
    {
     "name": "stderr",
     "output_type": "stream",
     "text": [
      "/net/fs-2/scale/OrionStore/Scratch/joteklem/MyCondaEnvironments/Python3.11/orion_env/lib/python3.11/site-packages/accelerate/accelerator.py:432: FutureWarning: Passing the following arguments to `Accelerator` is deprecated and will be removed in version 1.0 of Accelerate: dict_keys(['dispatch_batches', 'split_batches', 'even_batches', 'use_seedable_sampler']). Please pass an `accelerate.DataLoaderConfiguration` instead: \n",
      "dataloader_config = DataLoaderConfiguration(dispatch_batches=None, split_batches=False, even_batches=True, use_seedable_sampler=True)\n",
      "  warnings.warn(\n",
      "Detected kernel version 3.10.0, which is below the recommended minimum of 5.5.0; this can cause the process to hang. It is recommended to upgrade the kernel to the minimum version or higher.\n"
     ]
    },
    {
     "name": "stdout",
     "output_type": "stream",
     "text": [
      "Starting trial 23\n"
     ]
    },
    {
     "data": {
      "text/html": [
       "\n",
       "    <div>\n",
       "      \n",
       "      <progress value='631' max='2520' style='width:300px; height:20px; vertical-align: middle;'></progress>\n",
       "      [ 631/2520 01:31 < 04:35, 6.87 it/s, Epoch 1/4]\n",
       "    </div>\n",
       "    <table border=\"1\" class=\"dataframe\">\n",
       "  <thead>\n",
       " <tr style=\"text-align: left;\">\n",
       "      <th>Epoch</th>\n",
       "      <th>Training Loss</th>\n",
       "      <th>Validation Loss</th>\n",
       "    </tr>\n",
       "  </thead>\n",
       "  <tbody>\n",
       "  </tbody>\n",
       "</table><p>\n",
       "    <div>\n",
       "      \n",
       "      <progress value='420' max='420' style='width:300px; height:20px; vertical-align: middle;'></progress>\n",
       "      [420/420 00:04]\n",
       "    </div>\n",
       "    "
      ],
      "text/plain": [
       "<IPython.core.display.HTML object>"
      ]
     },
     "metadata": {},
     "output_type": "display_data"
    },
    {
     "name": "stderr",
     "output_type": "stream",
     "text": [
      "[I 2024-04-18 13:00:13,768] Trial 23 pruned. \n"
     ]
    },
    {
     "data": {
      "text/html": [
       "Finishing last run (ID:3apsujcy) before initializing another..."
      ],
      "text/plain": [
       "<IPython.core.display.HTML object>"
      ]
     },
     "metadata": {},
     "output_type": "display_data"
    },
    {
     "data": {
      "text/html": [
       "<style>\n",
       "    table.wandb td:nth-child(1) { padding: 0 10px; text-align: left ; width: auto;} td:nth-child(2) {text-align: left ; width: 100%}\n",
       "    .wandb-row { display: flex; flex-direction: row; flex-wrap: wrap; justify-content: flex-start; width: 100% }\n",
       "    .wandb-col { display: flex; flex-direction: column; flex-basis: 100%; flex: 1; padding: 10px; }\n",
       "    </style>\n",
       "<div class=\"wandb-row\"><div class=\"wandb-col\"><h3>Run history:</h3><br/><table class=\"wandb\"><tr><td>eval/Accuracy</td><td>▁</td></tr><tr><td>eval/Balanced accuracy</td><td>▁</td></tr><tr><td>eval/F1 macro</td><td>▁</td></tr><tr><td>eval/F1 micro</td><td>▁</td></tr><tr><td>eval/F1 weighted</td><td>▁</td></tr><tr><td>eval/loss</td><td>▁</td></tr><tr><td>eval/runtime</td><td>▁</td></tr><tr><td>eval/samples_per_second</td><td>▁</td></tr><tr><td>eval/steps_per_second</td><td>▁</td></tr><tr><td>train/epoch</td><td>▁</td></tr><tr><td>train/global_step</td><td>▁</td></tr></table><br/></div><div class=\"wandb-col\"><h3>Run summary:</h3><br/><table class=\"wandb\"><tr><td>eval/Accuracy</td><td>0.74286</td></tr><tr><td>eval/Balanced accuracy</td><td>0.47489</td></tr><tr><td>eval/F1 macro</td><td>0.47228</td></tr><tr><td>eval/F1 micro</td><td>0.74286</td></tr><tr><td>eval/F1 weighted</td><td>0.689</td></tr><tr><td>eval/loss</td><td>0.7379</td></tr><tr><td>eval/runtime</td><td>4.7657</td></tr><tr><td>eval/samples_per_second</td><td>705.036</td></tr><tr><td>eval/steps_per_second</td><td>88.129</td></tr><tr><td>train/epoch</td><td>1.0</td></tr><tr><td>train/global_step</td><td>630</td></tr></table><br/></div></div>"
      ],
      "text/plain": [
       "<IPython.core.display.HTML object>"
      ]
     },
     "metadata": {},
     "output_type": "display_data"
    },
    {
     "data": {
      "text/html": [
       " View run <strong style=\"color:#cdcd00\">trial-23</strong> at: <a href='https://wandb.ai/master-2024/BERT_BASE/runs/3apsujcy' target=\"_blank\">https://wandb.ai/master-2024/BERT_BASE/runs/3apsujcy</a><br/>Synced 5 W&B file(s), 0 media file(s), 0 artifact file(s) and 0 other file(s)"
      ],
      "text/plain": [
       "<IPython.core.display.HTML object>"
      ]
     },
     "metadata": {},
     "output_type": "display_data"
    },
    {
     "data": {
      "text/html": [
       "Find logs at: <code>./wandb/run-20240418_125827-3apsujcy/logs</code>"
      ],
      "text/plain": [
       "<IPython.core.display.HTML object>"
      ]
     },
     "metadata": {},
     "output_type": "display_data"
    },
    {
     "data": {
      "text/html": [
       "Successfully finished last run (ID:3apsujcy). Initializing new run:<br/>"
      ],
      "text/plain": [
       "<IPython.core.display.HTML object>"
      ]
     },
     "metadata": {},
     "output_type": "display_data"
    },
    {
     "data": {
      "text/html": [
       "wandb version 0.16.6 is available!  To upgrade, please run:\n",
       " $ pip install wandb --upgrade"
      ],
      "text/plain": [
       "<IPython.core.display.HTML object>"
      ]
     },
     "metadata": {},
     "output_type": "display_data"
    },
    {
     "data": {
      "text/html": [
       "Tracking run with wandb version 0.16.4"
      ],
      "text/plain": [
       "<IPython.core.display.HTML object>"
      ]
     },
     "metadata": {},
     "output_type": "display_data"
    },
    {
     "data": {
      "text/html": [
       "Run data is saved locally in <code>/net/fs-2/scale/OrionStore/Home/joteklem/Pytorch_models/wandb/run-20240418_130013-qoiysac6</code>"
      ],
      "text/plain": [
       "<IPython.core.display.HTML object>"
      ]
     },
     "metadata": {},
     "output_type": "display_data"
    },
    {
     "data": {
      "text/html": [
       "Syncing run <strong><a href='https://wandb.ai/master-2024/BERT_BASE/runs/qoiysac6' target=\"_blank\">trial-24</a></strong> to <a href='https://wandb.ai/master-2024/BERT_BASE' target=\"_blank\">Weights & Biases</a> (<a href='https://wandb.me/run' target=\"_blank\">docs</a>)<br/>"
      ],
      "text/plain": [
       "<IPython.core.display.HTML object>"
      ]
     },
     "metadata": {},
     "output_type": "display_data"
    },
    {
     "data": {
      "text/html": [
       " View project at <a href='https://wandb.ai/master-2024/BERT_BASE' target=\"_blank\">https://wandb.ai/master-2024/BERT_BASE</a>"
      ],
      "text/plain": [
       "<IPython.core.display.HTML object>"
      ]
     },
     "metadata": {},
     "output_type": "display_data"
    },
    {
     "data": {
      "text/html": [
       " View run at <a href='https://wandb.ai/master-2024/BERT_BASE/runs/qoiysac6' target=\"_blank\">https://wandb.ai/master-2024/BERT_BASE/runs/qoiysac6</a>"
      ],
      "text/plain": [
       "<IPython.core.display.HTML object>"
      ]
     },
     "metadata": {},
     "output_type": "display_data"
    },
    {
     "name": "stdout",
     "output_type": "stream",
     "text": [
      "Starting trial 24\n"
     ]
    },
    {
     "name": "stderr",
     "output_type": "stream",
     "text": [
      "/net/fs-2/scale/OrionStore/Scratch/joteklem/MyCondaEnvironments/Python3.11/orion_env/lib/python3.11/site-packages/accelerate/accelerator.py:432: FutureWarning: Passing the following arguments to `Accelerator` is deprecated and will be removed in version 1.0 of Accelerate: dict_keys(['dispatch_batches', 'split_batches', 'even_batches', 'use_seedable_sampler']). Please pass an `accelerate.DataLoaderConfiguration` instead: \n",
      "dataloader_config = DataLoaderConfiguration(dispatch_batches=None, split_batches=False, even_batches=True, use_seedable_sampler=True)\n",
      "  warnings.warn(\n",
      "Detected kernel version 3.10.0, which is below the recommended minimum of 5.5.0; this can cause the process to hang. It is recommended to upgrade the kernel to the minimum version or higher.\n"
     ]
    },
    {
     "data": {
      "text/html": [
       "\n",
       "    <div>\n",
       "      \n",
       "      <progress value='1261' max='2520' style='width:300px; height:20px; vertical-align: middle;'></progress>\n",
       "      [1261/2520 02:33 < 02:33, 8.21 it/s, Epoch 2/4]\n",
       "    </div>\n",
       "    <table border=\"1\" class=\"dataframe\">\n",
       "  <thead>\n",
       " <tr style=\"text-align: left;\">\n",
       "      <th>Epoch</th>\n",
       "      <th>Training Loss</th>\n",
       "      <th>Validation Loss</th>\n",
       "      <th>Accuracy</th>\n",
       "      <th>Balanced accuracy</th>\n",
       "      <th>F1 weighted</th>\n",
       "      <th>F1 macro</th>\n",
       "      <th>F1 micro</th>\n",
       "      <th>Classification report</th>\n",
       "    </tr>\n",
       "  </thead>\n",
       "  <tbody>\n",
       "    <tr>\n",
       "      <td>1</td>\n",
       "      <td>No log</td>\n",
       "      <td>0.508782</td>\n",
       "      <td>0.815476</td>\n",
       "      <td>0.691348</td>\n",
       "      <td>0.807677</td>\n",
       "      <td>0.732335</td>\n",
       "      <td>0.815476</td>\n",
       "      <td>{'0': {'precision': 0.7475124378109452, 'recall': 0.6692650334075724, 'f1-score': 0.7062279670975322, 'support': 898.0}, '1': {'precision': 0.8360655737704918, 'recall': 0.9255467659376454, 'f1-score': 0.8785335689045937, 'support': 2149.0}, '2': {'precision': 0.847457627118644, 'recall': 0.4792332268370607, 'f1-score': 0.6122448979591837, 'support': 313.0}, 'accuracy': 0.8154761904761905, 'macro avg': {'precision': 0.8103452129000269, 'recall': 0.6913483420607595, 'f1-score': 0.7323354779871032, 'support': 3360.0}, 'weighted avg': {'precision': 0.813459917998557, 'recall': 0.8154761904761905, 'f1-score': 0.807676787824637, 'support': 3360.0}}</td>\n",
       "    </tr>\n",
       "  </tbody>\n",
       "</table><p>\n",
       "    <div>\n",
       "      \n",
       "      <progress value='420' max='420' style='width:300px; height:20px; vertical-align: middle;'></progress>\n",
       "      [420/420 00:04]\n",
       "    </div>\n",
       "    "
      ],
      "text/plain": [
       "<IPython.core.display.HTML object>"
      ]
     },
     "metadata": {},
     "output_type": "display_data"
    },
    {
     "name": "stderr",
     "output_type": "stream",
     "text": [
      "[I 2024-04-18 13:03:01,552] Trial 24 pruned. \n"
     ]
    },
    {
     "data": {
      "text/html": [
       "Finishing last run (ID:qoiysac6) before initializing another..."
      ],
      "text/plain": [
       "<IPython.core.display.HTML object>"
      ]
     },
     "metadata": {},
     "output_type": "display_data"
    },
    {
     "data": {
      "text/html": [
       "<style>\n",
       "    table.wandb td:nth-child(1) { padding: 0 10px; text-align: left ; width: auto;} td:nth-child(2) {text-align: left ; width: 100%}\n",
       "    .wandb-row { display: flex; flex-direction: row; flex-wrap: wrap; justify-content: flex-start; width: 100% }\n",
       "    .wandb-col { display: flex; flex-direction: column; flex-basis: 100%; flex: 1; padding: 10px; }\n",
       "    </style>\n",
       "<div class=\"wandb-row\"><div class=\"wandb-col\"><h3>Run history:</h3><br/><table class=\"wandb\"><tr><td>eval/Accuracy</td><td>▁█</td></tr><tr><td>eval/Balanced accuracy</td><td>▁█</td></tr><tr><td>eval/F1 macro</td><td>▁█</td></tr><tr><td>eval/F1 micro</td><td>▁█</td></tr><tr><td>eval/F1 weighted</td><td>▁█</td></tr><tr><td>eval/loss</td><td>█▁</td></tr><tr><td>eval/runtime</td><td>▁█</td></tr><tr><td>eval/samples_per_second</td><td>█▁</td></tr><tr><td>eval/steps_per_second</td><td>█▁</td></tr><tr><td>train/epoch</td><td>▁██</td></tr><tr><td>train/global_step</td><td>▁██</td></tr><tr><td>train/grad_norm</td><td>▁</td></tr><tr><td>train/learning_rate</td><td>▁</td></tr><tr><td>train/loss</td><td>▁</td></tr></table><br/></div><div class=\"wandb-col\"><h3>Run summary:</h3><br/><table class=\"wandb\"><tr><td>eval/Accuracy</td><td>0.82113</td></tr><tr><td>eval/Balanced accuracy</td><td>0.73117</td></tr><tr><td>eval/F1 macro</td><td>0.75695</td></tr><tr><td>eval/F1 micro</td><td>0.82113</td></tr><tr><td>eval/F1 weighted</td><td>0.81643</td></tr><tr><td>eval/loss</td><td>0.49398</td></tr><tr><td>eval/runtime</td><td>4.8474</td></tr><tr><td>eval/samples_per_second</td><td>693.157</td></tr><tr><td>eval/steps_per_second</td><td>86.645</td></tr><tr><td>train/epoch</td><td>2.0</td></tr><tr><td>train/global_step</td><td>1260</td></tr><tr><td>train/grad_norm</td><td>4.35544</td></tr><tr><td>train/learning_rate</td><td>2e-05</td></tr><tr><td>train/loss</td><td>0.5421</td></tr></table><br/></div></div>"
      ],
      "text/plain": [
       "<IPython.core.display.HTML object>"
      ]
     },
     "metadata": {},
     "output_type": "display_data"
    },
    {
     "data": {
      "text/html": [
       " View run <strong style=\"color:#cdcd00\">trial-24</strong> at: <a href='https://wandb.ai/master-2024/BERT_BASE/runs/qoiysac6' target=\"_blank\">https://wandb.ai/master-2024/BERT_BASE/runs/qoiysac6</a><br/>Synced 5 W&B file(s), 0 media file(s), 0 artifact file(s) and 0 other file(s)"
      ],
      "text/plain": [
       "<IPython.core.display.HTML object>"
      ]
     },
     "metadata": {},
     "output_type": "display_data"
    },
    {
     "data": {
      "text/html": [
       "Find logs at: <code>./wandb/run-20240418_130013-qoiysac6/logs</code>"
      ],
      "text/plain": [
       "<IPython.core.display.HTML object>"
      ]
     },
     "metadata": {},
     "output_type": "display_data"
    },
    {
     "data": {
      "text/html": [
       "Successfully finished last run (ID:qoiysac6). Initializing new run:<br/>"
      ],
      "text/plain": [
       "<IPython.core.display.HTML object>"
      ]
     },
     "metadata": {},
     "output_type": "display_data"
    },
    {
     "data": {
      "text/html": [
       "wandb version 0.16.6 is available!  To upgrade, please run:\n",
       " $ pip install wandb --upgrade"
      ],
      "text/plain": [
       "<IPython.core.display.HTML object>"
      ]
     },
     "metadata": {},
     "output_type": "display_data"
    },
    {
     "data": {
      "text/html": [
       "Tracking run with wandb version 0.16.4"
      ],
      "text/plain": [
       "<IPython.core.display.HTML object>"
      ]
     },
     "metadata": {},
     "output_type": "display_data"
    },
    {
     "data": {
      "text/html": [
       "Run data is saved locally in <code>/net/fs-2/scale/OrionStore/Home/joteklem/Pytorch_models/wandb/run-20240418_130301-8wx8rn0d</code>"
      ],
      "text/plain": [
       "<IPython.core.display.HTML object>"
      ]
     },
     "metadata": {},
     "output_type": "display_data"
    },
    {
     "data": {
      "text/html": [
       "Syncing run <strong><a href='https://wandb.ai/master-2024/BERT_BASE/runs/8wx8rn0d' target=\"_blank\">trial-25</a></strong> to <a href='https://wandb.ai/master-2024/BERT_BASE' target=\"_blank\">Weights & Biases</a> (<a href='https://wandb.me/run' target=\"_blank\">docs</a>)<br/>"
      ],
      "text/plain": [
       "<IPython.core.display.HTML object>"
      ]
     },
     "metadata": {},
     "output_type": "display_data"
    },
    {
     "data": {
      "text/html": [
       " View project at <a href='https://wandb.ai/master-2024/BERT_BASE' target=\"_blank\">https://wandb.ai/master-2024/BERT_BASE</a>"
      ],
      "text/plain": [
       "<IPython.core.display.HTML object>"
      ]
     },
     "metadata": {},
     "output_type": "display_data"
    },
    {
     "data": {
      "text/html": [
       " View run at <a href='https://wandb.ai/master-2024/BERT_BASE/runs/8wx8rn0d' target=\"_blank\">https://wandb.ai/master-2024/BERT_BASE/runs/8wx8rn0d</a>"
      ],
      "text/plain": [
       "<IPython.core.display.HTML object>"
      ]
     },
     "metadata": {},
     "output_type": "display_data"
    },
    {
     "name": "stderr",
     "output_type": "stream",
     "text": [
      "/net/fs-2/scale/OrionStore/Scratch/joteklem/MyCondaEnvironments/Python3.11/orion_env/lib/python3.11/site-packages/accelerate/accelerator.py:432: FutureWarning: Passing the following arguments to `Accelerator` is deprecated and will be removed in version 1.0 of Accelerate: dict_keys(['dispatch_batches', 'split_batches', 'even_batches', 'use_seedable_sampler']). Please pass an `accelerate.DataLoaderConfiguration` instead: \n",
      "dataloader_config = DataLoaderConfiguration(dispatch_batches=None, split_batches=False, even_batches=True, use_seedable_sampler=True)\n",
      "  warnings.warn(\n",
      "Detected kernel version 3.10.0, which is below the recommended minimum of 5.5.0; this can cause the process to hang. It is recommended to upgrade the kernel to the minimum version or higher.\n"
     ]
    },
    {
     "name": "stdout",
     "output_type": "stream",
     "text": [
      "Starting trial 25\n"
     ]
    },
    {
     "data": {
      "text/html": [
       "\n",
       "    <div>\n",
       "      \n",
       "      <progress value='631' max='2520' style='width:300px; height:20px; vertical-align: middle;'></progress>\n",
       "      [ 631/2520 01:12 < 03:37, 8.67 it/s, Epoch 1/4]\n",
       "    </div>\n",
       "    <table border=\"1\" class=\"dataframe\">\n",
       "  <thead>\n",
       " <tr style=\"text-align: left;\">\n",
       "      <th>Epoch</th>\n",
       "      <th>Training Loss</th>\n",
       "      <th>Validation Loss</th>\n",
       "    </tr>\n",
       "  </thead>\n",
       "  <tbody>\n",
       "  </tbody>\n",
       "</table><p>\n",
       "    <div>\n",
       "      \n",
       "      <progress value='420' max='420' style='width:300px; height:20px; vertical-align: middle;'></progress>\n",
       "      [420/420 00:04]\n",
       "    </div>\n",
       "    "
      ],
      "text/plain": [
       "<IPython.core.display.HTML object>"
      ]
     },
     "metadata": {},
     "output_type": "display_data"
    },
    {
     "name": "stderr",
     "output_type": "stream",
     "text": [
      "[I 2024-04-18 13:04:27,556] Trial 25 pruned. \n"
     ]
    },
    {
     "data": {
      "text/html": [
       "Finishing last run (ID:8wx8rn0d) before initializing another..."
      ],
      "text/plain": [
       "<IPython.core.display.HTML object>"
      ]
     },
     "metadata": {},
     "output_type": "display_data"
    },
    {
     "data": {
      "text/html": [
       "<style>\n",
       "    table.wandb td:nth-child(1) { padding: 0 10px; text-align: left ; width: auto;} td:nth-child(2) {text-align: left ; width: 100%}\n",
       "    .wandb-row { display: flex; flex-direction: row; flex-wrap: wrap; justify-content: flex-start; width: 100% }\n",
       "    .wandb-col { display: flex; flex-direction: column; flex-basis: 100%; flex: 1; padding: 10px; }\n",
       "    </style>\n",
       "<div class=\"wandb-row\"><div class=\"wandb-col\"><h3>Run history:</h3><br/><table class=\"wandb\"><tr><td>eval/Accuracy</td><td>▁</td></tr><tr><td>eval/Balanced accuracy</td><td>▁</td></tr><tr><td>eval/F1 macro</td><td>▁</td></tr><tr><td>eval/F1 micro</td><td>▁</td></tr><tr><td>eval/F1 weighted</td><td>▁</td></tr><tr><td>eval/loss</td><td>▁</td></tr><tr><td>eval/runtime</td><td>▁</td></tr><tr><td>eval/samples_per_second</td><td>▁</td></tr><tr><td>eval/steps_per_second</td><td>▁</td></tr><tr><td>train/epoch</td><td>▁</td></tr><tr><td>train/global_step</td><td>▁</td></tr></table><br/></div><div class=\"wandb-col\"><h3>Run summary:</h3><br/><table class=\"wandb\"><tr><td>eval/Accuracy</td><td>0.63958</td></tr><tr><td>eval/Balanced accuracy</td><td>0.33333</td></tr><tr><td>eval/F1 macro</td><td>0.26006</td></tr><tr><td>eval/F1 micro</td><td>0.63958</td></tr><tr><td>eval/F1 weighted</td><td>0.49899</td></tr><tr><td>eval/loss</td><td>0.82731</td></tr><tr><td>eval/runtime</td><td>4.7565</td></tr><tr><td>eval/samples_per_second</td><td>706.408</td></tr><tr><td>eval/steps_per_second</td><td>88.301</td></tr><tr><td>train/epoch</td><td>1.0</td></tr><tr><td>train/global_step</td><td>630</td></tr></table><br/></div></div>"
      ],
      "text/plain": [
       "<IPython.core.display.HTML object>"
      ]
     },
     "metadata": {},
     "output_type": "display_data"
    },
    {
     "data": {
      "text/html": [
       " View run <strong style=\"color:#cdcd00\">trial-25</strong> at: <a href='https://wandb.ai/master-2024/BERT_BASE/runs/8wx8rn0d' target=\"_blank\">https://wandb.ai/master-2024/BERT_BASE/runs/8wx8rn0d</a><br/>Synced 5 W&B file(s), 0 media file(s), 0 artifact file(s) and 0 other file(s)"
      ],
      "text/plain": [
       "<IPython.core.display.HTML object>"
      ]
     },
     "metadata": {},
     "output_type": "display_data"
    },
    {
     "data": {
      "text/html": [
       "Find logs at: <code>./wandb/run-20240418_130301-8wx8rn0d/logs</code>"
      ],
      "text/plain": [
       "<IPython.core.display.HTML object>"
      ]
     },
     "metadata": {},
     "output_type": "display_data"
    },
    {
     "data": {
      "text/html": [
       "Successfully finished last run (ID:8wx8rn0d). Initializing new run:<br/>"
      ],
      "text/plain": [
       "<IPython.core.display.HTML object>"
      ]
     },
     "metadata": {},
     "output_type": "display_data"
    },
    {
     "data": {
      "text/html": [
       "wandb version 0.16.6 is available!  To upgrade, please run:\n",
       " $ pip install wandb --upgrade"
      ],
      "text/plain": [
       "<IPython.core.display.HTML object>"
      ]
     },
     "metadata": {},
     "output_type": "display_data"
    },
    {
     "data": {
      "text/html": [
       "Tracking run with wandb version 0.16.4"
      ],
      "text/plain": [
       "<IPython.core.display.HTML object>"
      ]
     },
     "metadata": {},
     "output_type": "display_data"
    },
    {
     "data": {
      "text/html": [
       "Run data is saved locally in <code>/net/fs-2/scale/OrionStore/Home/joteklem/Pytorch_models/wandb/run-20240418_130427-wucxz0s0</code>"
      ],
      "text/plain": [
       "<IPython.core.display.HTML object>"
      ]
     },
     "metadata": {},
     "output_type": "display_data"
    },
    {
     "data": {
      "text/html": [
       "Syncing run <strong><a href='https://wandb.ai/master-2024/BERT_BASE/runs/wucxz0s0' target=\"_blank\">trial-26</a></strong> to <a href='https://wandb.ai/master-2024/BERT_BASE' target=\"_blank\">Weights & Biases</a> (<a href='https://wandb.me/run' target=\"_blank\">docs</a>)<br/>"
      ],
      "text/plain": [
       "<IPython.core.display.HTML object>"
      ]
     },
     "metadata": {},
     "output_type": "display_data"
    },
    {
     "data": {
      "text/html": [
       " View project at <a href='https://wandb.ai/master-2024/BERT_BASE' target=\"_blank\">https://wandb.ai/master-2024/BERT_BASE</a>"
      ],
      "text/plain": [
       "<IPython.core.display.HTML object>"
      ]
     },
     "metadata": {},
     "output_type": "display_data"
    },
    {
     "data": {
      "text/html": [
       " View run at <a href='https://wandb.ai/master-2024/BERT_BASE/runs/wucxz0s0' target=\"_blank\">https://wandb.ai/master-2024/BERT_BASE/runs/wucxz0s0</a>"
      ],
      "text/plain": [
       "<IPython.core.display.HTML object>"
      ]
     },
     "metadata": {},
     "output_type": "display_data"
    },
    {
     "name": "stdout",
     "output_type": "stream",
     "text": [
      "Starting trial 26\n"
     ]
    },
    {
     "name": "stderr",
     "output_type": "stream",
     "text": [
      "/net/fs-2/scale/OrionStore/Scratch/joteklem/MyCondaEnvironments/Python3.11/orion_env/lib/python3.11/site-packages/accelerate/accelerator.py:432: FutureWarning: Passing the following arguments to `Accelerator` is deprecated and will be removed in version 1.0 of Accelerate: dict_keys(['dispatch_batches', 'split_batches', 'even_batches', 'use_seedable_sampler']). Please pass an `accelerate.DataLoaderConfiguration` instead: \n",
      "dataloader_config = DataLoaderConfiguration(dispatch_batches=None, split_batches=False, even_batches=True, use_seedable_sampler=True)\n",
      "  warnings.warn(\n",
      "Detected kernel version 3.10.0, which is below the recommended minimum of 5.5.0; this can cause the process to hang. It is recommended to upgrade the kernel to the minimum version or higher.\n"
     ]
    },
    {
     "data": {
      "text/html": [
       "\n",
       "    <div>\n",
       "      \n",
       "      <progress value='631' max='2520' style='width:300px; height:20px; vertical-align: middle;'></progress>\n",
       "      [ 631/2520 01:12 < 03:37, 8.67 it/s, Epoch 1/4]\n",
       "    </div>\n",
       "    <table border=\"1\" class=\"dataframe\">\n",
       "  <thead>\n",
       " <tr style=\"text-align: left;\">\n",
       "      <th>Epoch</th>\n",
       "      <th>Training Loss</th>\n",
       "      <th>Validation Loss</th>\n",
       "    </tr>\n",
       "  </thead>\n",
       "  <tbody>\n",
       "  </tbody>\n",
       "</table><p>\n",
       "    <div>\n",
       "      \n",
       "      <progress value='420' max='420' style='width:300px; height:20px; vertical-align: middle;'></progress>\n",
       "      [420/420 00:04]\n",
       "    </div>\n",
       "    "
      ],
      "text/plain": [
       "<IPython.core.display.HTML object>"
      ]
     },
     "metadata": {},
     "output_type": "display_data"
    },
    {
     "name": "stderr",
     "output_type": "stream",
     "text": [
      "[I 2024-04-18 13:05:54,019] Trial 26 pruned. \n"
     ]
    },
    {
     "data": {
      "text/html": [
       "Finishing last run (ID:wucxz0s0) before initializing another..."
      ],
      "text/plain": [
       "<IPython.core.display.HTML object>"
      ]
     },
     "metadata": {},
     "output_type": "display_data"
    },
    {
     "data": {
      "text/html": [
       "<style>\n",
       "    table.wandb td:nth-child(1) { padding: 0 10px; text-align: left ; width: auto;} td:nth-child(2) {text-align: left ; width: 100%}\n",
       "    .wandb-row { display: flex; flex-direction: row; flex-wrap: wrap; justify-content: flex-start; width: 100% }\n",
       "    .wandb-col { display: flex; flex-direction: column; flex-basis: 100%; flex: 1; padding: 10px; }\n",
       "    </style>\n",
       "<div class=\"wandb-row\"><div class=\"wandb-col\"><h3>Run history:</h3><br/><table class=\"wandb\"><tr><td>eval/Accuracy</td><td>▁</td></tr><tr><td>eval/Balanced accuracy</td><td>▁</td></tr><tr><td>eval/F1 macro</td><td>▁</td></tr><tr><td>eval/F1 micro</td><td>▁</td></tr><tr><td>eval/F1 weighted</td><td>▁</td></tr><tr><td>eval/loss</td><td>▁</td></tr><tr><td>eval/runtime</td><td>▁</td></tr><tr><td>eval/samples_per_second</td><td>▁</td></tr><tr><td>eval/steps_per_second</td><td>▁</td></tr><tr><td>train/epoch</td><td>▁</td></tr><tr><td>train/global_step</td><td>▁</td></tr></table><br/></div><div class=\"wandb-col\"><h3>Run summary:</h3><br/><table class=\"wandb\"><tr><td>eval/Accuracy</td><td>0.80565</td></tr><tr><td>eval/Balanced accuracy</td><td>0.68944</td></tr><tr><td>eval/F1 macro</td><td>0.71847</td></tr><tr><td>eval/F1 micro</td><td>0.80565</td></tr><tr><td>eval/F1 weighted</td><td>0.79579</td></tr><tr><td>eval/loss</td><td>0.52785</td></tr><tr><td>eval/runtime</td><td>4.7535</td></tr><tr><td>eval/samples_per_second</td><td>706.853</td></tr><tr><td>eval/steps_per_second</td><td>88.357</td></tr><tr><td>train/epoch</td><td>1.0</td></tr><tr><td>train/global_step</td><td>630</td></tr></table><br/></div></div>"
      ],
      "text/plain": [
       "<IPython.core.display.HTML object>"
      ]
     },
     "metadata": {},
     "output_type": "display_data"
    },
    {
     "data": {
      "text/html": [
       " View run <strong style=\"color:#cdcd00\">trial-26</strong> at: <a href='https://wandb.ai/master-2024/BERT_BASE/runs/wucxz0s0' target=\"_blank\">https://wandb.ai/master-2024/BERT_BASE/runs/wucxz0s0</a><br/>Synced 5 W&B file(s), 0 media file(s), 0 artifact file(s) and 0 other file(s)"
      ],
      "text/plain": [
       "<IPython.core.display.HTML object>"
      ]
     },
     "metadata": {},
     "output_type": "display_data"
    },
    {
     "data": {
      "text/html": [
       "Find logs at: <code>./wandb/run-20240418_130427-wucxz0s0/logs</code>"
      ],
      "text/plain": [
       "<IPython.core.display.HTML object>"
      ]
     },
     "metadata": {},
     "output_type": "display_data"
    },
    {
     "data": {
      "text/html": [
       "Successfully finished last run (ID:wucxz0s0). Initializing new run:<br/>"
      ],
      "text/plain": [
       "<IPython.core.display.HTML object>"
      ]
     },
     "metadata": {},
     "output_type": "display_data"
    },
    {
     "data": {
      "text/html": [
       "wandb version 0.16.6 is available!  To upgrade, please run:\n",
       " $ pip install wandb --upgrade"
      ],
      "text/plain": [
       "<IPython.core.display.HTML object>"
      ]
     },
     "metadata": {},
     "output_type": "display_data"
    },
    {
     "data": {
      "text/html": [
       "Tracking run with wandb version 0.16.4"
      ],
      "text/plain": [
       "<IPython.core.display.HTML object>"
      ]
     },
     "metadata": {},
     "output_type": "display_data"
    },
    {
     "data": {
      "text/html": [
       "Run data is saved locally in <code>/net/fs-2/scale/OrionStore/Home/joteklem/Pytorch_models/wandb/run-20240418_130554-67eu8v56</code>"
      ],
      "text/plain": [
       "<IPython.core.display.HTML object>"
      ]
     },
     "metadata": {},
     "output_type": "display_data"
    },
    {
     "data": {
      "text/html": [
       "Syncing run <strong><a href='https://wandb.ai/master-2024/BERT_BASE/runs/67eu8v56' target=\"_blank\">trial-27</a></strong> to <a href='https://wandb.ai/master-2024/BERT_BASE' target=\"_blank\">Weights & Biases</a> (<a href='https://wandb.me/run' target=\"_blank\">docs</a>)<br/>"
      ],
      "text/plain": [
       "<IPython.core.display.HTML object>"
      ]
     },
     "metadata": {},
     "output_type": "display_data"
    },
    {
     "data": {
      "text/html": [
       " View project at <a href='https://wandb.ai/master-2024/BERT_BASE' target=\"_blank\">https://wandb.ai/master-2024/BERT_BASE</a>"
      ],
      "text/plain": [
       "<IPython.core.display.HTML object>"
      ]
     },
     "metadata": {},
     "output_type": "display_data"
    },
    {
     "data": {
      "text/html": [
       " View run at <a href='https://wandb.ai/master-2024/BERT_BASE/runs/67eu8v56' target=\"_blank\">https://wandb.ai/master-2024/BERT_BASE/runs/67eu8v56</a>"
      ],
      "text/plain": [
       "<IPython.core.display.HTML object>"
      ]
     },
     "metadata": {},
     "output_type": "display_data"
    },
    {
     "name": "stderr",
     "output_type": "stream",
     "text": [
      "/net/fs-2/scale/OrionStore/Scratch/joteklem/MyCondaEnvironments/Python3.11/orion_env/lib/python3.11/site-packages/accelerate/accelerator.py:432: FutureWarning: Passing the following arguments to `Accelerator` is deprecated and will be removed in version 1.0 of Accelerate: dict_keys(['dispatch_batches', 'split_batches', 'even_batches', 'use_seedable_sampler']). Please pass an `accelerate.DataLoaderConfiguration` instead: \n",
      "dataloader_config = DataLoaderConfiguration(dispatch_batches=None, split_batches=False, even_batches=True, use_seedable_sampler=True)\n",
      "  warnings.warn(\n",
      "Detected kernel version 3.10.0, which is below the recommended minimum of 5.5.0; this can cause the process to hang. It is recommended to upgrade the kernel to the minimum version or higher.\n"
     ]
    },
    {
     "name": "stdout",
     "output_type": "stream",
     "text": [
      "Starting trial 27\n"
     ]
    },
    {
     "data": {
      "text/html": [
       "\n",
       "    <div>\n",
       "      \n",
       "      <progress value='631' max='1890' style='width:300px; height:20px; vertical-align: middle;'></progress>\n",
       "      [ 631/1890 01:12 < 02:25, 8.67 it/s, Epoch 1/3]\n",
       "    </div>\n",
       "    <table border=\"1\" class=\"dataframe\">\n",
       "  <thead>\n",
       " <tr style=\"text-align: left;\">\n",
       "      <th>Epoch</th>\n",
       "      <th>Training Loss</th>\n",
       "      <th>Validation Loss</th>\n",
       "    </tr>\n",
       "  </thead>\n",
       "  <tbody>\n",
       "  </tbody>\n",
       "</table><p>\n",
       "    <div>\n",
       "      \n",
       "      <progress value='420' max='420' style='width:300px; height:20px; vertical-align: middle;'></progress>\n",
       "      [420/420 00:04]\n",
       "    </div>\n",
       "    "
      ],
      "text/plain": [
       "<IPython.core.display.HTML object>"
      ]
     },
     "metadata": {},
     "output_type": "display_data"
    },
    {
     "name": "stderr",
     "output_type": "stream",
     "text": [
      "[I 2024-04-18 13:07:20,528] Trial 27 pruned. \n"
     ]
    },
    {
     "data": {
      "text/html": [
       "Finishing last run (ID:67eu8v56) before initializing another..."
      ],
      "text/plain": [
       "<IPython.core.display.HTML object>"
      ]
     },
     "metadata": {},
     "output_type": "display_data"
    },
    {
     "data": {
      "text/html": [
       "<style>\n",
       "    table.wandb td:nth-child(1) { padding: 0 10px; text-align: left ; width: auto;} td:nth-child(2) {text-align: left ; width: 100%}\n",
       "    .wandb-row { display: flex; flex-direction: row; flex-wrap: wrap; justify-content: flex-start; width: 100% }\n",
       "    .wandb-col { display: flex; flex-direction: column; flex-basis: 100%; flex: 1; padding: 10px; }\n",
       "    </style>\n",
       "<div class=\"wandb-row\"><div class=\"wandb-col\"><h3>Run history:</h3><br/><table class=\"wandb\"><tr><td>eval/Accuracy</td><td>▁</td></tr><tr><td>eval/Balanced accuracy</td><td>▁</td></tr><tr><td>eval/F1 macro</td><td>▁</td></tr><tr><td>eval/F1 micro</td><td>▁</td></tr><tr><td>eval/F1 weighted</td><td>▁</td></tr><tr><td>eval/loss</td><td>▁</td></tr><tr><td>eval/runtime</td><td>▁</td></tr><tr><td>eval/samples_per_second</td><td>▁</td></tr><tr><td>eval/steps_per_second</td><td>▁</td></tr><tr><td>train/epoch</td><td>▁</td></tr><tr><td>train/global_step</td><td>▁</td></tr></table><br/></div><div class=\"wandb-col\"><h3>Run summary:</h3><br/><table class=\"wandb\"><tr><td>eval/Accuracy</td><td>0.7997</td></tr><tr><td>eval/Balanced accuracy</td><td>0.64063</td></tr><tr><td>eval/F1 macro</td><td>0.67972</td></tr><tr><td>eval/F1 micro</td><td>0.7997</td></tr><tr><td>eval/F1 weighted</td><td>0.78671</td></tr><tr><td>eval/loss</td><td>0.54124</td></tr><tr><td>eval/runtime</td><td>4.7466</td></tr><tr><td>eval/samples_per_second</td><td>707.869</td></tr><tr><td>eval/steps_per_second</td><td>88.484</td></tr><tr><td>train/epoch</td><td>1.0</td></tr><tr><td>train/global_step</td><td>630</td></tr></table><br/></div></div>"
      ],
      "text/plain": [
       "<IPython.core.display.HTML object>"
      ]
     },
     "metadata": {},
     "output_type": "display_data"
    },
    {
     "data": {
      "text/html": [
       " View run <strong style=\"color:#cdcd00\">trial-27</strong> at: <a href='https://wandb.ai/master-2024/BERT_BASE/runs/67eu8v56' target=\"_blank\">https://wandb.ai/master-2024/BERT_BASE/runs/67eu8v56</a><br/>Synced 5 W&B file(s), 0 media file(s), 0 artifact file(s) and 0 other file(s)"
      ],
      "text/plain": [
       "<IPython.core.display.HTML object>"
      ]
     },
     "metadata": {},
     "output_type": "display_data"
    },
    {
     "data": {
      "text/html": [
       "Find logs at: <code>./wandb/run-20240418_130554-67eu8v56/logs</code>"
      ],
      "text/plain": [
       "<IPython.core.display.HTML object>"
      ]
     },
     "metadata": {},
     "output_type": "display_data"
    },
    {
     "data": {
      "text/html": [
       "Successfully finished last run (ID:67eu8v56). Initializing new run:<br/>"
      ],
      "text/plain": [
       "<IPython.core.display.HTML object>"
      ]
     },
     "metadata": {},
     "output_type": "display_data"
    },
    {
     "data": {
      "text/html": [
       "wandb version 0.16.6 is available!  To upgrade, please run:\n",
       " $ pip install wandb --upgrade"
      ],
      "text/plain": [
       "<IPython.core.display.HTML object>"
      ]
     },
     "metadata": {},
     "output_type": "display_data"
    },
    {
     "data": {
      "text/html": [
       "Tracking run with wandb version 0.16.4"
      ],
      "text/plain": [
       "<IPython.core.display.HTML object>"
      ]
     },
     "metadata": {},
     "output_type": "display_data"
    },
    {
     "data": {
      "text/html": [
       "Run data is saved locally in <code>/net/fs-2/scale/OrionStore/Home/joteklem/Pytorch_models/wandb/run-20240418_130720-laj8zxiw</code>"
      ],
      "text/plain": [
       "<IPython.core.display.HTML object>"
      ]
     },
     "metadata": {},
     "output_type": "display_data"
    },
    {
     "data": {
      "text/html": [
       "Syncing run <strong><a href='https://wandb.ai/master-2024/BERT_BASE/runs/laj8zxiw' target=\"_blank\">trial-28</a></strong> to <a href='https://wandb.ai/master-2024/BERT_BASE' target=\"_blank\">Weights & Biases</a> (<a href='https://wandb.me/run' target=\"_blank\">docs</a>)<br/>"
      ],
      "text/plain": [
       "<IPython.core.display.HTML object>"
      ]
     },
     "metadata": {},
     "output_type": "display_data"
    },
    {
     "data": {
      "text/html": [
       " View project at <a href='https://wandb.ai/master-2024/BERT_BASE' target=\"_blank\">https://wandb.ai/master-2024/BERT_BASE</a>"
      ],
      "text/plain": [
       "<IPython.core.display.HTML object>"
      ]
     },
     "metadata": {},
     "output_type": "display_data"
    },
    {
     "data": {
      "text/html": [
       " View run at <a href='https://wandb.ai/master-2024/BERT_BASE/runs/laj8zxiw' target=\"_blank\">https://wandb.ai/master-2024/BERT_BASE/runs/laj8zxiw</a>"
      ],
      "text/plain": [
       "<IPython.core.display.HTML object>"
      ]
     },
     "metadata": {},
     "output_type": "display_data"
    },
    {
     "name": "stderr",
     "output_type": "stream",
     "text": [
      "/net/fs-2/scale/OrionStore/Scratch/joteklem/MyCondaEnvironments/Python3.11/orion_env/lib/python3.11/site-packages/accelerate/accelerator.py:432: FutureWarning: Passing the following arguments to `Accelerator` is deprecated and will be removed in version 1.0 of Accelerate: dict_keys(['dispatch_batches', 'split_batches', 'even_batches', 'use_seedable_sampler']). Please pass an `accelerate.DataLoaderConfiguration` instead: \n",
      "dataloader_config = DataLoaderConfiguration(dispatch_batches=None, split_batches=False, even_batches=True, use_seedable_sampler=True)\n",
      "  warnings.warn(\n",
      "Detected kernel version 3.10.0, which is below the recommended minimum of 5.5.0; this can cause the process to hang. It is recommended to upgrade the kernel to the minimum version or higher.\n"
     ]
    },
    {
     "name": "stdout",
     "output_type": "stream",
     "text": [
      "Starting trial 28\n"
     ]
    },
    {
     "data": {
      "text/html": [
       "\n",
       "    <div>\n",
       "      \n",
       "      <progress value='316' max='785' style='width:300px; height:20px; vertical-align: middle;'></progress>\n",
       "      [316/785 00:40 < 01:00, 7.81 it/s, Epoch 2/5]\n",
       "    </div>\n",
       "    <table border=\"1\" class=\"dataframe\">\n",
       "  <thead>\n",
       " <tr style=\"text-align: left;\">\n",
       "      <th>Epoch</th>\n",
       "      <th>Training Loss</th>\n",
       "      <th>Validation Loss</th>\n",
       "      <th>Accuracy</th>\n",
       "      <th>Balanced accuracy</th>\n",
       "      <th>F1 weighted</th>\n",
       "      <th>F1 macro</th>\n",
       "      <th>F1 micro</th>\n",
       "      <th>Classification report</th>\n",
       "    </tr>\n",
       "  </thead>\n",
       "  <tbody>\n",
       "    <tr>\n",
       "      <td>0</td>\n",
       "      <td>No log</td>\n",
       "      <td>0.524884</td>\n",
       "      <td>0.802679</td>\n",
       "      <td>0.672339</td>\n",
       "      <td>0.790576</td>\n",
       "      <td>0.709095</td>\n",
       "      <td>0.802679</td>\n",
       "      <td>{'0': {'precision': 0.8161290322580645, 'recall': 0.5634743875278396, 'f1-score': 0.6666666666666667, 'support': 898.0}, '1': {'precision': 0.8085953044170314, 'recall': 0.9455560725919032, 'f1-score': 0.8717288717288718, 'support': 2149.0}, '2': {'precision': 0.7004405286343612, 'recall': 0.5079872204472844, 'f1-score': 0.588888888888889, 'support': 313.0}, 'accuracy': 0.8026785714285715, 'macro avg': {'precision': 0.7750549551031524, 'recall': 0.6723392268556757, 'f1-score': 0.7090948090948093, 'support': 3360.0}, 'weighted avg': {'precision': 0.8005336504828862, 'recall': 0.8026785714285715, 'f1-score': 0.790575664950665, 'support': 3360.0}}</td>\n",
       "    </tr>\n",
       "  </tbody>\n",
       "</table><p>\n",
       "    <div>\n",
       "      \n",
       "      <progress value='105' max='105' style='width:300px; height:20px; vertical-align: middle;'></progress>\n",
       "      [105/105 00:02]\n",
       "    </div>\n",
       "    "
      ],
      "text/plain": [
       "<IPython.core.display.HTML object>"
      ]
     },
     "metadata": {},
     "output_type": "display_data"
    },
    {
     "name": "stderr",
     "output_type": "stream",
     "text": [
      "[I 2024-04-18 13:08:11,632] Trial 28 pruned. \n"
     ]
    },
    {
     "data": {
      "text/html": [
       "Finishing last run (ID:laj8zxiw) before initializing another..."
      ],
      "text/plain": [
       "<IPython.core.display.HTML object>"
      ]
     },
     "metadata": {},
     "output_type": "display_data"
    },
    {
     "data": {
      "text/html": [
       "<style>\n",
       "    table.wandb td:nth-child(1) { padding: 0 10px; text-align: left ; width: auto;} td:nth-child(2) {text-align: left ; width: 100%}\n",
       "    .wandb-row { display: flex; flex-direction: row; flex-wrap: wrap; justify-content: flex-start; width: 100% }\n",
       "    .wandb-col { display: flex; flex-direction: column; flex-basis: 100%; flex: 1; padding: 10px; }\n",
       "    </style>\n",
       "<div class=\"wandb-row\"><div class=\"wandb-col\"><h3>Run history:</h3><br/><table class=\"wandb\"><tr><td>eval/Accuracy</td><td>▁█</td></tr><tr><td>eval/Balanced accuracy</td><td>▁█</td></tr><tr><td>eval/F1 macro</td><td>▁█</td></tr><tr><td>eval/F1 micro</td><td>▁█</td></tr><tr><td>eval/F1 weighted</td><td>▁█</td></tr><tr><td>eval/loss</td><td>█▁</td></tr><tr><td>eval/runtime</td><td>▁█</td></tr><tr><td>eval/samples_per_second</td><td>█▁</td></tr><tr><td>eval/steps_per_second</td><td>█▁</td></tr><tr><td>train/epoch</td><td>▁██</td></tr><tr><td>train/global_step</td><td>▁██</td></tr><tr><td>train/grad_norm</td><td>▁</td></tr><tr><td>train/learning_rate</td><td>▁</td></tr><tr><td>train/loss</td><td>▁</td></tr></table><br/></div><div class=\"wandb-col\"><h3>Run summary:</h3><br/><table class=\"wandb\"><tr><td>eval/Accuracy</td><td>0.80893</td></tr><tr><td>eval/Balanced accuracy</td><td>0.73873</td></tr><tr><td>eval/F1 macro</td><td>0.74057</td></tr><tr><td>eval/F1 micro</td><td>0.80893</td></tr><tr><td>eval/F1 weighted</td><td>0.80596</td></tr><tr><td>eval/loss</td><td>0.51923</td></tr><tr><td>eval/runtime</td><td>2.0715</td></tr><tr><td>eval/samples_per_second</td><td>1622.037</td></tr><tr><td>eval/steps_per_second</td><td>50.689</td></tr><tr><td>train/epoch</td><td>2.0</td></tr><tr><td>train/global_step</td><td>315</td></tr><tr><td>train/grad_norm</td><td>2.60543</td></tr><tr><td>train/learning_rate</td><td>0.00011</td></tr><tr><td>train/loss</td><td>0.5991</td></tr></table><br/></div></div>"
      ],
      "text/plain": [
       "<IPython.core.display.HTML object>"
      ]
     },
     "metadata": {},
     "output_type": "display_data"
    },
    {
     "data": {
      "text/html": [
       " View run <strong style=\"color:#cdcd00\">trial-28</strong> at: <a href='https://wandb.ai/master-2024/BERT_BASE/runs/laj8zxiw' target=\"_blank\">https://wandb.ai/master-2024/BERT_BASE/runs/laj8zxiw</a><br/>Synced 5 W&B file(s), 0 media file(s), 0 artifact file(s) and 0 other file(s)"
      ],
      "text/plain": [
       "<IPython.core.display.HTML object>"
      ]
     },
     "metadata": {},
     "output_type": "display_data"
    },
    {
     "data": {
      "text/html": [
       "Find logs at: <code>./wandb/run-20240418_130720-laj8zxiw/logs</code>"
      ],
      "text/plain": [
       "<IPython.core.display.HTML object>"
      ]
     },
     "metadata": {},
     "output_type": "display_data"
    },
    {
     "data": {
      "text/html": [
       "Successfully finished last run (ID:laj8zxiw). Initializing new run:<br/>"
      ],
      "text/plain": [
       "<IPython.core.display.HTML object>"
      ]
     },
     "metadata": {},
     "output_type": "display_data"
    },
    {
     "data": {
      "text/html": [
       "wandb version 0.16.6 is available!  To upgrade, please run:\n",
       " $ pip install wandb --upgrade"
      ],
      "text/plain": [
       "<IPython.core.display.HTML object>"
      ]
     },
     "metadata": {},
     "output_type": "display_data"
    },
    {
     "data": {
      "text/html": [
       "Tracking run with wandb version 0.16.4"
      ],
      "text/plain": [
       "<IPython.core.display.HTML object>"
      ]
     },
     "metadata": {},
     "output_type": "display_data"
    },
    {
     "data": {
      "text/html": [
       "Run data is saved locally in <code>/net/fs-2/scale/OrionStore/Home/joteklem/Pytorch_models/wandb/run-20240418_130811-4p1ss2jh</code>"
      ],
      "text/plain": [
       "<IPython.core.display.HTML object>"
      ]
     },
     "metadata": {},
     "output_type": "display_data"
    },
    {
     "data": {
      "text/html": [
       "Syncing run <strong><a href='https://wandb.ai/master-2024/BERT_BASE/runs/4p1ss2jh' target=\"_blank\">trial-29</a></strong> to <a href='https://wandb.ai/master-2024/BERT_BASE' target=\"_blank\">Weights & Biases</a> (<a href='https://wandb.me/run' target=\"_blank\">docs</a>)<br/>"
      ],
      "text/plain": [
       "<IPython.core.display.HTML object>"
      ]
     },
     "metadata": {},
     "output_type": "display_data"
    },
    {
     "data": {
      "text/html": [
       " View project at <a href='https://wandb.ai/master-2024/BERT_BASE' target=\"_blank\">https://wandb.ai/master-2024/BERT_BASE</a>"
      ],
      "text/plain": [
       "<IPython.core.display.HTML object>"
      ]
     },
     "metadata": {},
     "output_type": "display_data"
    },
    {
     "data": {
      "text/html": [
       " View run at <a href='https://wandb.ai/master-2024/BERT_BASE/runs/4p1ss2jh' target=\"_blank\">https://wandb.ai/master-2024/BERT_BASE/runs/4p1ss2jh</a>"
      ],
      "text/plain": [
       "<IPython.core.display.HTML object>"
      ]
     },
     "metadata": {},
     "output_type": "display_data"
    },
    {
     "name": "stderr",
     "output_type": "stream",
     "text": [
      "/net/fs-2/scale/OrionStore/Scratch/joteklem/MyCondaEnvironments/Python3.11/orion_env/lib/python3.11/site-packages/accelerate/accelerator.py:432: FutureWarning: Passing the following arguments to `Accelerator` is deprecated and will be removed in version 1.0 of Accelerate: dict_keys(['dispatch_batches', 'split_batches', 'even_batches', 'use_seedable_sampler']). Please pass an `accelerate.DataLoaderConfiguration` instead: \n",
      "dataloader_config = DataLoaderConfiguration(dispatch_batches=None, split_batches=False, even_batches=True, use_seedable_sampler=True)\n",
      "  warnings.warn(\n",
      "Detected kernel version 3.10.0, which is below the recommended minimum of 5.5.0; this can cause the process to hang. It is recommended to upgrade the kernel to the minimum version or higher.\n"
     ]
    },
    {
     "name": "stdout",
     "output_type": "stream",
     "text": [
      "Starting trial 29\n"
     ]
    },
    {
     "data": {
      "text/html": [
       "\n",
       "    <div>\n",
       "      \n",
       "      <progress value='316' max='630' style='width:300px; height:20px; vertical-align: middle;'></progress>\n",
       "      [316/630 00:30 < 00:30, 10.26 it/s, Epoch 1/2]\n",
       "    </div>\n",
       "    <table border=\"1\" class=\"dataframe\">\n",
       "  <thead>\n",
       " <tr style=\"text-align: left;\">\n",
       "      <th>Epoch</th>\n",
       "      <th>Training Loss</th>\n",
       "      <th>Validation Loss</th>\n",
       "    </tr>\n",
       "  </thead>\n",
       "  <tbody>\n",
       "  </tbody>\n",
       "</table><p>\n",
       "    <div>\n",
       "      \n",
       "      <progress value='210' max='210' style='width:300px; height:20px; vertical-align: middle;'></progress>\n",
       "      [210/210 00:02]\n",
       "    </div>\n",
       "    "
      ],
      "text/plain": [
       "<IPython.core.display.HTML object>"
      ]
     },
     "metadata": {},
     "output_type": "display_data"
    },
    {
     "name": "stderr",
     "output_type": "stream",
     "text": [
      "[I 2024-04-18 13:08:54,288] Trial 29 pruned. \n"
     ]
    },
    {
     "data": {
      "text/html": [
       "Finishing last run (ID:4p1ss2jh) before initializing another..."
      ],
      "text/plain": [
       "<IPython.core.display.HTML object>"
      ]
     },
     "metadata": {},
     "output_type": "display_data"
    },
    {
     "data": {
      "text/html": [
       "<style>\n",
       "    table.wandb td:nth-child(1) { padding: 0 10px; text-align: left ; width: auto;} td:nth-child(2) {text-align: left ; width: 100%}\n",
       "    .wandb-row { display: flex; flex-direction: row; flex-wrap: wrap; justify-content: flex-start; width: 100% }\n",
       "    .wandb-col { display: flex; flex-direction: column; flex-basis: 100%; flex: 1; padding: 10px; }\n",
       "    </style>\n",
       "<div class=\"wandb-row\"><div class=\"wandb-col\"><h3>Run history:</h3><br/><table class=\"wandb\"><tr><td>eval/Accuracy</td><td>▁</td></tr><tr><td>eval/Balanced accuracy</td><td>▁</td></tr><tr><td>eval/F1 macro</td><td>▁</td></tr><tr><td>eval/F1 micro</td><td>▁</td></tr><tr><td>eval/F1 weighted</td><td>▁</td></tr><tr><td>eval/loss</td><td>▁</td></tr><tr><td>eval/runtime</td><td>▁</td></tr><tr><td>eval/samples_per_second</td><td>▁</td></tr><tr><td>eval/steps_per_second</td><td>▁</td></tr><tr><td>train/epoch</td><td>▁</td></tr><tr><td>train/global_step</td><td>▁</td></tr></table><br/></div><div class=\"wandb-col\"><h3>Run summary:</h3><br/><table class=\"wandb\"><tr><td>eval/Accuracy</td><td>0.74226</td></tr><tr><td>eval/Balanced accuracy</td><td>0.4722</td></tr><tr><td>eval/F1 macro</td><td>0.47037</td></tr><tr><td>eval/F1 micro</td><td>0.74226</td></tr><tr><td>eval/F1 weighted</td><td>0.68719</td></tr><tr><td>eval/loss</td><td>0.65618</td></tr><tr><td>eval/runtime</td><td>2.6363</td></tr><tr><td>eval/samples_per_second</td><td>1274.531</td></tr><tr><td>eval/steps_per_second</td><td>79.658</td></tr><tr><td>train/epoch</td><td>1.0</td></tr><tr><td>train/global_step</td><td>315</td></tr></table><br/></div></div>"
      ],
      "text/plain": [
       "<IPython.core.display.HTML object>"
      ]
     },
     "metadata": {},
     "output_type": "display_data"
    },
    {
     "data": {
      "text/html": [
       " View run <strong style=\"color:#cdcd00\">trial-29</strong> at: <a href='https://wandb.ai/master-2024/BERT_BASE/runs/4p1ss2jh' target=\"_blank\">https://wandb.ai/master-2024/BERT_BASE/runs/4p1ss2jh</a><br/>Synced 5 W&B file(s), 0 media file(s), 0 artifact file(s) and 0 other file(s)"
      ],
      "text/plain": [
       "<IPython.core.display.HTML object>"
      ]
     },
     "metadata": {},
     "output_type": "display_data"
    },
    {
     "data": {
      "text/html": [
       "Find logs at: <code>./wandb/run-20240418_130811-4p1ss2jh/logs</code>"
      ],
      "text/plain": [
       "<IPython.core.display.HTML object>"
      ]
     },
     "metadata": {},
     "output_type": "display_data"
    },
    {
     "data": {
      "text/html": [
       "Successfully finished last run (ID:4p1ss2jh). Initializing new run:<br/>"
      ],
      "text/plain": [
       "<IPython.core.display.HTML object>"
      ]
     },
     "metadata": {},
     "output_type": "display_data"
    },
    {
     "data": {
      "text/html": [
       "wandb version 0.16.6 is available!  To upgrade, please run:\n",
       " $ pip install wandb --upgrade"
      ],
      "text/plain": [
       "<IPython.core.display.HTML object>"
      ]
     },
     "metadata": {},
     "output_type": "display_data"
    },
    {
     "data": {
      "text/html": [
       "Tracking run with wandb version 0.16.4"
      ],
      "text/plain": [
       "<IPython.core.display.HTML object>"
      ]
     },
     "metadata": {},
     "output_type": "display_data"
    },
    {
     "data": {
      "text/html": [
       "Run data is saved locally in <code>/net/fs-2/scale/OrionStore/Home/joteklem/Pytorch_models/wandb/run-20240418_130854-kk7hw6se</code>"
      ],
      "text/plain": [
       "<IPython.core.display.HTML object>"
      ]
     },
     "metadata": {},
     "output_type": "display_data"
    },
    {
     "data": {
      "text/html": [
       "Syncing run <strong><a href='https://wandb.ai/master-2024/BERT_BASE/runs/kk7hw6se' target=\"_blank\">trial-30</a></strong> to <a href='https://wandb.ai/master-2024/BERT_BASE' target=\"_blank\">Weights & Biases</a> (<a href='https://wandb.me/run' target=\"_blank\">docs</a>)<br/>"
      ],
      "text/plain": [
       "<IPython.core.display.HTML object>"
      ]
     },
     "metadata": {},
     "output_type": "display_data"
    },
    {
     "data": {
      "text/html": [
       " View project at <a href='https://wandb.ai/master-2024/BERT_BASE' target=\"_blank\">https://wandb.ai/master-2024/BERT_BASE</a>"
      ],
      "text/plain": [
       "<IPython.core.display.HTML object>"
      ]
     },
     "metadata": {},
     "output_type": "display_data"
    },
    {
     "data": {
      "text/html": [
       " View run at <a href='https://wandb.ai/master-2024/BERT_BASE/runs/kk7hw6se' target=\"_blank\">https://wandb.ai/master-2024/BERT_BASE/runs/kk7hw6se</a>"
      ],
      "text/plain": [
       "<IPython.core.display.HTML object>"
      ]
     },
     "metadata": {},
     "output_type": "display_data"
    },
    {
     "name": "stdout",
     "output_type": "stream",
     "text": [
      "Starting trial 30\n"
     ]
    },
    {
     "name": "stderr",
     "output_type": "stream",
     "text": [
      "/net/fs-2/scale/OrionStore/Scratch/joteklem/MyCondaEnvironments/Python3.11/orion_env/lib/python3.11/site-packages/accelerate/accelerator.py:432: FutureWarning: Passing the following arguments to `Accelerator` is deprecated and will be removed in version 1.0 of Accelerate: dict_keys(['dispatch_batches', 'split_batches', 'even_batches', 'use_seedable_sampler']). Please pass an `accelerate.DataLoaderConfiguration` instead: \n",
      "dataloader_config = DataLoaderConfiguration(dispatch_batches=None, split_batches=False, even_batches=True, use_seedable_sampler=True)\n",
      "  warnings.warn(\n",
      "Detected kernel version 3.10.0, which is below the recommended minimum of 5.5.0; this can cause the process to hang. It is recommended to upgrade the kernel to the minimum version or higher.\n"
     ]
    },
    {
     "data": {
      "text/html": [
       "\n",
       "    <div>\n",
       "      \n",
       "      <progress value='316' max='628' style='width:300px; height:20px; vertical-align: middle;'></progress>\n",
       "      [316/628 00:40 < 00:39, 7.80 it/s, Epoch 2/4]\n",
       "    </div>\n",
       "    <table border=\"1\" class=\"dataframe\">\n",
       "  <thead>\n",
       " <tr style=\"text-align: left;\">\n",
       "      <th>Epoch</th>\n",
       "      <th>Training Loss</th>\n",
       "      <th>Validation Loss</th>\n",
       "      <th>Accuracy</th>\n",
       "      <th>Balanced accuracy</th>\n",
       "      <th>F1 weighted</th>\n",
       "      <th>F1 macro</th>\n",
       "      <th>F1 micro</th>\n",
       "      <th>Classification report</th>\n",
       "    </tr>\n",
       "  </thead>\n",
       "  <tbody>\n",
       "    <tr>\n",
       "      <td>0</td>\n",
       "      <td>No log</td>\n",
       "      <td>0.511634</td>\n",
       "      <td>0.806845</td>\n",
       "      <td>0.731092</td>\n",
       "      <td>0.803939</td>\n",
       "      <td>0.739575</td>\n",
       "      <td>0.806845</td>\n",
       "      <td>{'0': {'precision': 0.7452711223203027, 'recall': 0.6581291759465479, 'f1-score': 0.6989946777054997, 'support': 898.0}, '1': {'precision': 0.8487394957983193, 'recall': 0.8929734760353653, 'f1-score': 0.8702947845804989, 'support': 2149.0}, '2': {'precision': 0.6568627450980392, 'recall': 0.6421725239616614, 'f1-score': 0.6494345718901453, 'support': 313.0}, 'accuracy': 0.8068452380952381, 'macro avg': {'precision': 0.7502911210722204, 'recall': 0.7310917253145247, 'f1-score': 0.7395746780587147, 'support': 3360.0}, 'weighted avg': {'precision': 0.8032121081934245, 'recall': 0.8068452380952381, 'f1-score': 0.8039386112037639, 'support': 3360.0}}</td>\n",
       "    </tr>\n",
       "  </tbody>\n",
       "</table><p>\n",
       "    <div>\n",
       "      \n",
       "      <progress value='105' max='105' style='width:300px; height:20px; vertical-align: middle;'></progress>\n",
       "      [105/105 00:02]\n",
       "    </div>\n",
       "    "
      ],
      "text/plain": [
       "<IPython.core.display.HTML object>"
      ]
     },
     "metadata": {},
     "output_type": "display_data"
    },
    {
     "name": "stderr",
     "output_type": "stream",
     "text": [
      "[I 2024-04-18 13:09:44,135] Trial 30 pruned. \n"
     ]
    },
    {
     "data": {
      "text/html": [
       "Finishing last run (ID:kk7hw6se) before initializing another..."
      ],
      "text/plain": [
       "<IPython.core.display.HTML object>"
      ]
     },
     "metadata": {},
     "output_type": "display_data"
    },
    {
     "data": {
      "text/html": [
       "<style>\n",
       "    table.wandb td:nth-child(1) { padding: 0 10px; text-align: left ; width: auto;} td:nth-child(2) {text-align: left ; width: 100%}\n",
       "    .wandb-row { display: flex; flex-direction: row; flex-wrap: wrap; justify-content: flex-start; width: 100% }\n",
       "    .wandb-col { display: flex; flex-direction: column; flex-basis: 100%; flex: 1; padding: 10px; }\n",
       "    </style>\n",
       "<div class=\"wandb-row\"><div class=\"wandb-col\"><h3>Run history:</h3><br/><table class=\"wandb\"><tr><td>eval/Accuracy</td><td>█▁</td></tr><tr><td>eval/Balanced accuracy</td><td>▁█</td></tr><tr><td>eval/F1 macro</td><td>█▁</td></tr><tr><td>eval/F1 micro</td><td>█▁</td></tr><tr><td>eval/F1 weighted</td><td>█▁</td></tr><tr><td>eval/loss</td><td>▁█</td></tr><tr><td>eval/runtime</td><td>▁█</td></tr><tr><td>eval/samples_per_second</td><td>█▁</td></tr><tr><td>eval/steps_per_second</td><td>█▁</td></tr><tr><td>train/epoch</td><td>▁██</td></tr><tr><td>train/global_step</td><td>▁██</td></tr><tr><td>train/grad_norm</td><td>▁</td></tr><tr><td>train/learning_rate</td><td>▁</td></tr><tr><td>train/loss</td><td>▁</td></tr></table><br/></div><div class=\"wandb-col\"><h3>Run summary:</h3><br/><table class=\"wandb\"><tr><td>eval/Accuracy</td><td>0.80357</td></tr><tr><td>eval/Balanced accuracy</td><td>0.73729</td></tr><tr><td>eval/F1 macro</td><td>0.73607</td></tr><tr><td>eval/F1 micro</td><td>0.80357</td></tr><tr><td>eval/F1 weighted</td><td>0.80359</td></tr><tr><td>eval/loss</td><td>0.51628</td></tr><tr><td>eval/runtime</td><td>2.0726</td></tr><tr><td>eval/samples_per_second</td><td>1621.153</td></tr><tr><td>eval/steps_per_second</td><td>50.661</td></tr><tr><td>train/epoch</td><td>2.0</td></tr><tr><td>train/global_step</td><td>315</td></tr><tr><td>train/grad_norm</td><td>5.51436</td></tr><tr><td>train/learning_rate</td><td>1e-05</td></tr><tr><td>train/loss</td><td>0.5544</td></tr></table><br/></div></div>"
      ],
      "text/plain": [
       "<IPython.core.display.HTML object>"
      ]
     },
     "metadata": {},
     "output_type": "display_data"
    },
    {
     "data": {
      "text/html": [
       " View run <strong style=\"color:#cdcd00\">trial-30</strong> at: <a href='https://wandb.ai/master-2024/BERT_BASE/runs/kk7hw6se' target=\"_blank\">https://wandb.ai/master-2024/BERT_BASE/runs/kk7hw6se</a><br/>Synced 5 W&B file(s), 0 media file(s), 0 artifact file(s) and 0 other file(s)"
      ],
      "text/plain": [
       "<IPython.core.display.HTML object>"
      ]
     },
     "metadata": {},
     "output_type": "display_data"
    },
    {
     "data": {
      "text/html": [
       "Find logs at: <code>./wandb/run-20240418_130854-kk7hw6se/logs</code>"
      ],
      "text/plain": [
       "<IPython.core.display.HTML object>"
      ]
     },
     "metadata": {},
     "output_type": "display_data"
    },
    {
     "data": {
      "text/html": [
       "Successfully finished last run (ID:kk7hw6se). Initializing new run:<br/>"
      ],
      "text/plain": [
       "<IPython.core.display.HTML object>"
      ]
     },
     "metadata": {},
     "output_type": "display_data"
    },
    {
     "data": {
      "text/html": [
       "wandb version 0.16.6 is available!  To upgrade, please run:\n",
       " $ pip install wandb --upgrade"
      ],
      "text/plain": [
       "<IPython.core.display.HTML object>"
      ]
     },
     "metadata": {},
     "output_type": "display_data"
    },
    {
     "data": {
      "text/html": [
       "Tracking run with wandb version 0.16.4"
      ],
      "text/plain": [
       "<IPython.core.display.HTML object>"
      ]
     },
     "metadata": {},
     "output_type": "display_data"
    },
    {
     "data": {
      "text/html": [
       "Run data is saved locally in <code>/net/fs-2/scale/OrionStore/Home/joteklem/Pytorch_models/wandb/run-20240418_130944-y78pc4c4</code>"
      ],
      "text/plain": [
       "<IPython.core.display.HTML object>"
      ]
     },
     "metadata": {},
     "output_type": "display_data"
    },
    {
     "data": {
      "text/html": [
       "Syncing run <strong><a href='https://wandb.ai/master-2024/BERT_BASE/runs/y78pc4c4' target=\"_blank\">trial-31</a></strong> to <a href='https://wandb.ai/master-2024/BERT_BASE' target=\"_blank\">Weights & Biases</a> (<a href='https://wandb.me/run' target=\"_blank\">docs</a>)<br/>"
      ],
      "text/plain": [
       "<IPython.core.display.HTML object>"
      ]
     },
     "metadata": {},
     "output_type": "display_data"
    },
    {
     "data": {
      "text/html": [
       " View project at <a href='https://wandb.ai/master-2024/BERT_BASE' target=\"_blank\">https://wandb.ai/master-2024/BERT_BASE</a>"
      ],
      "text/plain": [
       "<IPython.core.display.HTML object>"
      ]
     },
     "metadata": {},
     "output_type": "display_data"
    },
    {
     "data": {
      "text/html": [
       " View run at <a href='https://wandb.ai/master-2024/BERT_BASE/runs/y78pc4c4' target=\"_blank\">https://wandb.ai/master-2024/BERT_BASE/runs/y78pc4c4</a>"
      ],
      "text/plain": [
       "<IPython.core.display.HTML object>"
      ]
     },
     "metadata": {},
     "output_type": "display_data"
    },
    {
     "name": "stderr",
     "output_type": "stream",
     "text": [
      "/net/fs-2/scale/OrionStore/Scratch/joteklem/MyCondaEnvironments/Python3.11/orion_env/lib/python3.11/site-packages/accelerate/accelerator.py:432: FutureWarning: Passing the following arguments to `Accelerator` is deprecated and will be removed in version 1.0 of Accelerate: dict_keys(['dispatch_batches', 'split_batches', 'even_batches', 'use_seedable_sampler']). Please pass an `accelerate.DataLoaderConfiguration` instead: \n",
      "dataloader_config = DataLoaderConfiguration(dispatch_batches=None, split_batches=False, even_batches=True, use_seedable_sampler=True)\n",
      "  warnings.warn(\n",
      "Detected kernel version 3.10.0, which is below the recommended minimum of 5.5.0; this can cause the process to hang. It is recommended to upgrade the kernel to the minimum version or higher.\n"
     ]
    },
    {
     "name": "stdout",
     "output_type": "stream",
     "text": [
      "Starting trial 31\n"
     ]
    },
    {
     "data": {
      "text/html": [
       "\n",
       "    <div>\n",
       "      \n",
       "      <progress value='315' max='314' style='width:300px; height:20px; vertical-align: middle;'></progress>\n",
       "      [314/314 00:40, Epoch 1.99/2]\n",
       "    </div>\n",
       "    <table border=\"1\" class=\"dataframe\">\n",
       "  <thead>\n",
       " <tr style=\"text-align: left;\">\n",
       "      <th>Epoch</th>\n",
       "      <th>Training Loss</th>\n",
       "      <th>Validation Loss</th>\n",
       "      <th>Accuracy</th>\n",
       "      <th>Balanced accuracy</th>\n",
       "      <th>F1 weighted</th>\n",
       "      <th>F1 macro</th>\n",
       "      <th>F1 micro</th>\n",
       "      <th>Classification report</th>\n",
       "    </tr>\n",
       "  </thead>\n",
       "  <tbody>\n",
       "    <tr>\n",
       "      <td>0</td>\n",
       "      <td>No log</td>\n",
       "      <td>0.531810</td>\n",
       "      <td>0.797619</td>\n",
       "      <td>0.663913</td>\n",
       "      <td>0.787353</td>\n",
       "      <td>0.705635</td>\n",
       "      <td>0.797619</td>\n",
       "      <td>{'0': {'precision': 0.757162346521146, 'recall': 0.6180400890868597, 'f1-score': 0.680564071122011, 'support': 898.0}, '1': {'precision': 0.8104575163398693, 'recall': 0.9232201023731968, 'f1-score': 0.8631716336741353, 'support': 2149.0}, '2': {'precision': 0.7877094972067039, 'recall': 0.4504792332268371, 'f1-score': 0.573170731707317, 'support': 313.0}, 'accuracy': 0.7976190476190477, 'macro avg': {'precision': 0.7851097866892397, 'recall': 0.6639131415622979, 'f1-score': 0.7056354788344877, 'support': 3360.0}, 'weighted avg': {'precision': 0.7940946614333532, 'recall': 0.7976190476190477, 'f1-score': 0.7873526237076408, 'support': 3360.0}}</td>\n",
       "    </tr>\n",
       "  </tbody>\n",
       "</table><p>\n",
       "    <div>\n",
       "      \n",
       "      <progress value='105' max='105' style='width:300px; height:20px; vertical-align: middle;'></progress>\n",
       "      [105/105 00:02]\n",
       "    </div>\n",
       "    "
      ],
      "text/plain": [
       "<IPython.core.display.HTML object>"
      ]
     },
     "metadata": {},
     "output_type": "display_data"
    },
    {
     "name": "stderr",
     "output_type": "stream",
     "text": [
      "[I 2024-04-18 13:10:35,869] Trial 31 pruned. \n"
     ]
    }
   ],
   "source": [
    "# Get the objective function with your dataset included\n",
    "objective_15 = objective_closure(encoded_dataset_15)\n",
    "\n",
    "start_study_15 = time.time()\n",
    "study_15.optimize(objective_15, n_trials=32) #, timeout=600)  \n",
    "end_study_15 = time.time()\n",
    "\n",
    "model_time_study_15 = end_study_15 - start_study_15"
   ]
  },
  {
   "cell_type": "code",
   "execution_count": 25,
   "metadata": {},
   "outputs": [
    {
     "data": {
      "text/html": [
       "Finishing last run (ID:y78pc4c4) before initializing another..."
      ],
      "text/plain": [
       "<IPython.core.display.HTML object>"
      ]
     },
     "metadata": {},
     "output_type": "display_data"
    },
    {
     "data": {
      "text/html": [
       "<style>\n",
       "    table.wandb td:nth-child(1) { padding: 0 10px; text-align: left ; width: auto;} td:nth-child(2) {text-align: left ; width: 100%}\n",
       "    .wandb-row { display: flex; flex-direction: row; flex-wrap: wrap; justify-content: flex-start; width: 100% }\n",
       "    .wandb-col { display: flex; flex-direction: column; flex-basis: 100%; flex: 1; padding: 10px; }\n",
       "    </style>\n",
       "<div class=\"wandb-row\"><div class=\"wandb-col\"><h3>Run history:</h3><br/><table class=\"wandb\"><tr><td>eval/Accuracy</td><td>▁█</td></tr><tr><td>eval/Balanced accuracy</td><td>▁█</td></tr><tr><td>eval/F1 macro</td><td>▁█</td></tr><tr><td>eval/F1 micro</td><td>▁█</td></tr><tr><td>eval/F1 weighted</td><td>▁█</td></tr><tr><td>eval/loss</td><td>█▁</td></tr><tr><td>eval/runtime</td><td>▁█</td></tr><tr><td>eval/samples_per_second</td><td>█▁</td></tr><tr><td>eval/steps_per_second</td><td>█▁</td></tr><tr><td>train/epoch</td><td>▁██</td></tr><tr><td>train/global_step</td><td>▁██</td></tr><tr><td>train/grad_norm</td><td>▁</td></tr><tr><td>train/learning_rate</td><td>▁</td></tr><tr><td>train/loss</td><td>▁</td></tr></table><br/></div><div class=\"wandb-col\"><h3>Run summary:</h3><br/><table class=\"wandb\"><tr><td>eval/Accuracy</td><td>0.81399</td></tr><tr><td>eval/Balanced accuracy</td><td>0.70472</td></tr><tr><td>eval/F1 macro</td><td>0.73846</td></tr><tr><td>eval/F1 micro</td><td>0.81399</td></tr><tr><td>eval/F1 weighted</td><td>0.80606</td></tr><tr><td>eval/loss</td><td>0.49911</td></tr><tr><td>eval/runtime</td><td>2.0706</td></tr><tr><td>eval/samples_per_second</td><td>1622.701</td></tr><tr><td>eval/steps_per_second</td><td>50.709</td></tr><tr><td>train/epoch</td><td>1.99</td></tr><tr><td>train/global_step</td><td>314</td></tr><tr><td>train/grad_norm</td><td>3.8115</td></tr><tr><td>train/learning_rate</td><td>0.0</td></tr><tr><td>train/loss</td><td>0.5889</td></tr></table><br/></div></div>"
      ],
      "text/plain": [
       "<IPython.core.display.HTML object>"
      ]
     },
     "metadata": {},
     "output_type": "display_data"
    },
    {
     "data": {
      "text/html": [
       " View run <strong style=\"color:#cdcd00\">trial-31</strong> at: <a href='https://wandb.ai/master-2024/BERT_BASE/runs/y78pc4c4' target=\"_blank\">https://wandb.ai/master-2024/BERT_BASE/runs/y78pc4c4</a><br/>Synced 5 W&B file(s), 0 media file(s), 0 artifact file(s) and 0 other file(s)"
      ],
      "text/plain": [
       "<IPython.core.display.HTML object>"
      ]
     },
     "metadata": {},
     "output_type": "display_data"
    },
    {
     "data": {
      "text/html": [
       "Find logs at: <code>./wandb/run-20240418_130944-y78pc4c4/logs</code>"
      ],
      "text/plain": [
       "<IPython.core.display.HTML object>"
      ]
     },
     "metadata": {},
     "output_type": "display_data"
    },
    {
     "data": {
      "text/html": [
       "Successfully finished last run (ID:y78pc4c4). Initializing new run:<br/>"
      ],
      "text/plain": [
       "<IPython.core.display.HTML object>"
      ]
     },
     "metadata": {},
     "output_type": "display_data"
    },
    {
     "data": {
      "text/html": [
       "wandb version 0.16.6 is available!  To upgrade, please run:\n",
       " $ pip install wandb --upgrade"
      ],
      "text/plain": [
       "<IPython.core.display.HTML object>"
      ]
     },
     "metadata": {},
     "output_type": "display_data"
    },
    {
     "data": {
      "text/html": [
       "Tracking run with wandb version 0.16.4"
      ],
      "text/plain": [
       "<IPython.core.display.HTML object>"
      ]
     },
     "metadata": {},
     "output_type": "display_data"
    },
    {
     "data": {
      "text/html": [
       "Run data is saved locally in <code>/net/fs-2/scale/OrionStore/Home/joteklem/Pytorch_models/wandb/run-20240418_131035-pgz3q7uw</code>"
      ],
      "text/plain": [
       "<IPython.core.display.HTML object>"
      ]
     },
     "metadata": {},
     "output_type": "display_data"
    },
    {
     "data": {
      "text/html": [
       "Syncing run <strong><a href='https://wandb.ai/master-2024/BERT_BASE/runs/pgz3q7uw' target=\"_blank\">trial-0</a></strong> to <a href='https://wandb.ai/master-2024/BERT_BASE' target=\"_blank\">Weights & Biases</a> (<a href='https://wandb.me/run' target=\"_blank\">docs</a>)<br/>"
      ],
      "text/plain": [
       "<IPython.core.display.HTML object>"
      ]
     },
     "metadata": {},
     "output_type": "display_data"
    },
    {
     "data": {
      "text/html": [
       " View project at <a href='https://wandb.ai/master-2024/BERT_BASE' target=\"_blank\">https://wandb.ai/master-2024/BERT_BASE</a>"
      ],
      "text/plain": [
       "<IPython.core.display.HTML object>"
      ]
     },
     "metadata": {},
     "output_type": "display_data"
    },
    {
     "data": {
      "text/html": [
       " View run at <a href='https://wandb.ai/master-2024/BERT_BASE/runs/pgz3q7uw' target=\"_blank\">https://wandb.ai/master-2024/BERT_BASE/runs/pgz3q7uw</a>"
      ],
      "text/plain": [
       "<IPython.core.display.HTML object>"
      ]
     },
     "metadata": {},
     "output_type": "display_data"
    },
    {
     "name": "stderr",
     "output_type": "stream",
     "text": [
      "/net/fs-2/scale/OrionStore/Scratch/joteklem/MyCondaEnvironments/Python3.11/orion_env/lib/python3.11/site-packages/accelerate/accelerator.py:432: FutureWarning: Passing the following arguments to `Accelerator` is deprecated and will be removed in version 1.0 of Accelerate: dict_keys(['dispatch_batches', 'split_batches', 'even_batches', 'use_seedable_sampler']). Please pass an `accelerate.DataLoaderConfiguration` instead: \n",
      "dataloader_config = DataLoaderConfiguration(dispatch_batches=None, split_batches=False, even_batches=True, use_seedable_sampler=True)\n",
      "  warnings.warn(\n",
      "Detected kernel version 3.10.0, which is below the recommended minimum of 5.5.0; this can cause the process to hang. It is recommended to upgrade the kernel to the minimum version or higher.\n"
     ]
    },
    {
     "name": "stdout",
     "output_type": "stream",
     "text": [
      "Starting trial 0\n"
     ]
    },
    {
     "data": {
      "text/html": [
       "\n",
       "    <div>\n",
       "      \n",
       "      <progress value='2532' max='2532' style='width:300px; height:20px; vertical-align: middle;'></progress>\n",
       "      [2532/2532 05:32, Epoch 4/4]\n",
       "    </div>\n",
       "    <table border=\"1\" class=\"dataframe\">\n",
       "  <thead>\n",
       " <tr style=\"text-align: left;\">\n",
       "      <th>Epoch</th>\n",
       "      <th>Training Loss</th>\n",
       "      <th>Validation Loss</th>\n",
       "      <th>Accuracy</th>\n",
       "      <th>Balanced accuracy</th>\n",
       "      <th>F1 weighted</th>\n",
       "      <th>F1 macro</th>\n",
       "      <th>F1 micro</th>\n",
       "      <th>Classification report</th>\n",
       "    </tr>\n",
       "  </thead>\n",
       "  <tbody>\n",
       "    <tr>\n",
       "      <td>1</td>\n",
       "      <td>No log</td>\n",
       "      <td>0.467698</td>\n",
       "      <td>0.824941</td>\n",
       "      <td>0.772643</td>\n",
       "      <td>0.825071</td>\n",
       "      <td>0.758331</td>\n",
       "      <td>0.824941</td>\n",
       "      <td>{'0': {'precision': 0.8274932614555256, 'recall': 0.6822222222222222, 'f1-score': 0.7478684531059683, 'support': 900.0}, '1': {'precision': 0.8706780422092502, 'recall': 0.896854764107308, 'f1-score': 0.8835725677830941, 'support': 2162.0}, '2': {'precision': 0.5700245700245701, 'recall': 0.7388535031847133, 'f1-score': 0.6435506241331483, 'support': 314.0}, 'accuracy': 0.8249407582938388, 'macro avg': {'precision': 0.756065291229782, 'recall': 0.7726434965047478, 'f1-score': 0.7583305483407369, 'support': 3376.0}, 'weighted avg': {'precision': 0.8312018890859262, 'recall': 0.8249407582938388, 'f1-score': 0.8250712071446178, 'support': 3376.0}}</td>\n",
       "    </tr>\n",
       "    <tr>\n",
       "      <td>2</td>\n",
       "      <td>0.501500</td>\n",
       "      <td>0.445112</td>\n",
       "      <td>0.843898</td>\n",
       "      <td>0.776244</td>\n",
       "      <td>0.840315</td>\n",
       "      <td>0.784311</td>\n",
       "      <td>0.843898</td>\n",
       "      <td>{'0': {'precision': 0.8440111420612814, 'recall': 0.6733333333333333, 'f1-score': 0.7490729295426451, 'support': 900.0}, '1': {'precision': 0.8656075568913697, 'recall': 0.9324699352451434, 'f1-score': 0.8977955911823648, 'support': 2162.0}, '2': {'precision': 0.6899696048632219, 'recall': 0.7229299363057324, 'f1-score': 0.7060653188180404, 'support': 314.0}, 'accuracy': 0.8438981042654028, 'macro avg': {'precision': 0.7998627679386243, 'recall': 0.7762444016280696, 'f1-score': 0.7843112798476835, 'support': 3376.0}, 'weighted avg': {'precision': 0.8435142244612992, 'recall': 0.8438981042654028, 'f1-score': 0.840315229512298, 'support': 3376.0}}</td>\n",
       "    </tr>\n",
       "    <tr>\n",
       "      <td>3</td>\n",
       "      <td>0.501500</td>\n",
       "      <td>0.461163</td>\n",
       "      <td>0.847453</td>\n",
       "      <td>0.780558</td>\n",
       "      <td>0.843576</td>\n",
       "      <td>0.792629</td>\n",
       "      <td>0.847453</td>\n",
       "      <td>{'0': {'precision': 0.8388429752066116, 'recall': 0.6766666666666666, 'f1-score': 0.7490774907749077, 'support': 900.0}, '1': {'precision': 0.8660102739726028, 'recall': 0.9357076780758556, 'f1-score': 0.8995108937305469, 'support': 2162.0}, '2': {'precision': 0.7292993630573248, 'recall': 0.7292993630573248, 'f1-score': 0.7292993630573248, 'support': 314.0}, 'accuracy': 0.847452606635071, 'macro avg': {'precision': 0.8113842040788463, 'recall': 0.7805579025999491, 'f1-score': 0.7926292491875931, 'support': 3376.0}, 'weighted avg': {'precision': 0.8460523963313737, 'recall': 0.847452606635071, 'f1-score': 0.8435759164522688, 'support': 3376.0}}</td>\n",
       "    </tr>\n",
       "    <tr>\n",
       "      <td>4</td>\n",
       "      <td>0.296400</td>\n",
       "      <td>0.478813</td>\n",
       "      <td>0.839751</td>\n",
       "      <td>0.775605</td>\n",
       "      <td>0.838053</td>\n",
       "      <td>0.786420</td>\n",
       "      <td>0.839751</td>\n",
       "      <td>{'0': {'precision': 0.7724056603773585, 'recall': 0.7277777777777777, 'f1-score': 0.7494279176201374, 'support': 900.0}, '1': {'precision': 0.8775145283862316, 'recall': 0.9079555966697502, 'f1-score': 0.89247556262787, 'support': 2162.0}, '2': {'precision': 0.7457044673539519, 'recall': 0.6910828025477707, 'f1-score': 0.7173553719008264, 'support': 314.0}, 'accuracy': 0.8397511848341233, 'macro avg': {'precision': 0.7985415520391806, 'recall': 0.7756053923317662, 'f1-score': 0.7864196173829446, 'support': 3376.0}, 'weighted avg': {'precision': 0.8372342142949633, 'recall': 0.8397511848341233, 'f1-score': 0.8380529854965751, 'support': 3376.0}}</td>\n",
       "    </tr>\n",
       "  </tbody>\n",
       "</table><p>"
      ],
      "text/plain": [
       "<IPython.core.display.HTML object>"
      ]
     },
     "metadata": {},
     "output_type": "display_data"
    },
    {
     "data": {
      "text/html": [
       "\n",
       "    <div>\n",
       "      \n",
       "      <progress value='422' max='422' style='width:300px; height:20px; vertical-align: middle;'></progress>\n",
       "      [422/422 00:05]\n",
       "    </div>\n",
       "    "
      ],
      "text/plain": [
       "<IPython.core.display.HTML object>"
      ]
     },
     "metadata": {},
     "output_type": "display_data"
    },
    {
     "name": "stderr",
     "output_type": "stream",
     "text": [
      "/net/fs-2/scale/OrionStore/Scratch/joteklem/MyCondaEnvironments/Python3.11/orion_env/lib/python3.11/site-packages/optuna/trial/_trial.py:499: UserWarning: The reported value is ignored because this `step` 4.0 is already reported.\n",
      "  warnings.warn(\n"
     ]
    },
    {
     "name": "stdout",
     "output_type": "stream",
     "text": [
      "Completed trial 0\n"
     ]
    },
    {
     "data": {
      "text/html": [
       "<style>\n",
       "    table.wandb td:nth-child(1) { padding: 0 10px; text-align: left ; width: auto;} td:nth-child(2) {text-align: left ; width: 100%}\n",
       "    .wandb-row { display: flex; flex-direction: row; flex-wrap: wrap; justify-content: flex-start; width: 100% }\n",
       "    .wandb-col { display: flex; flex-direction: column; flex-basis: 100%; flex: 1; padding: 10px; }\n",
       "    </style>\n",
       "<div class=\"wandb-row\"><div class=\"wandb-col\"><h3>Run history:</h3><br/><table class=\"wandb\"><tr><td>Training loss</td><td>▁</td></tr><tr><td>Validation loss</td><td>▁</td></tr><tr><td>Weighted F1 score</td><td>▁</td></tr><tr><td>eval/Accuracy</td><td>▁▇█▆▆</td></tr><tr><td>eval/Balanced accuracy</td><td>▁▄█▄▄</td></tr><tr><td>eval/F1 macro</td><td>▁▆█▇▇</td></tr><tr><td>eval/F1 micro</td><td>▁▇█▆▆</td></tr><tr><td>eval/F1 weighted</td><td>▁▇█▆▆</td></tr><tr><td>eval/loss</td><td>▆▁▄██</td></tr><tr><td>eval/runtime</td><td>▂▁▂▁█</td></tr><tr><td>eval/samples_per_second</td><td>▇█▇█▁</td></tr><tr><td>eval/steps_per_second</td><td>▇█▇█▁</td></tr><tr><td>train/epoch</td><td>▁▃▃▆████</td></tr><tr><td>train/global_step</td><td>▁▃▃▆██████</td></tr><tr><td>train/grad_norm</td><td>█▁</td></tr><tr><td>train/learning_rate</td><td>█▁</td></tr><tr><td>train/loss</td><td>█▁</td></tr><tr><td>train/total_flos</td><td>▁</td></tr><tr><td>train/train_loss</td><td>▁</td></tr><tr><td>train/train_runtime</td><td>▁</td></tr><tr><td>train/train_samples_per_second</td><td>▁</td></tr><tr><td>train/train_steps_per_second</td><td>▁</td></tr></table><br/></div><div class=\"wandb-col\"><h3>Run summary:</h3><br/><table class=\"wandb\"><tr><td>Training loss</td><td>0.2964</td></tr><tr><td>Validation loss</td><td>0.46116</td></tr><tr><td>Weighted F1 score</td><td>0.78642</td></tr><tr><td>eval/Accuracy</td><td>0.83975</td></tr><tr><td>eval/Balanced accuracy</td><td>0.77561</td></tr><tr><td>eval/F1 macro</td><td>0.78642</td></tr><tr><td>eval/F1 micro</td><td>0.83975</td></tr><tr><td>eval/F1 weighted</td><td>0.83805</td></tr><tr><td>eval/loss</td><td>0.47881</td></tr><tr><td>eval/runtime</td><td>5.1463</td></tr><tr><td>eval/samples_per_second</td><td>656.01</td></tr><tr><td>eval/steps_per_second</td><td>82.001</td></tr><tr><td>train/epoch</td><td>4.0</td></tr><tr><td>train/global_step</td><td>2532</td></tr><tr><td>train/grad_norm</td><td>9.03807</td></tr><tr><td>train/learning_rate</td><td>0.0</td></tr><tr><td>train/loss</td><td>0.2964</td></tr><tr><td>train/total_flos</td><td>2567468952484128.0</td></tr><tr><td>train/train_loss</td><td>0.39894</td></tr><tr><td>train/train_runtime</td><td>332.3814</td></tr><tr><td>train/train_samples_per_second</td><td>121.884</td></tr><tr><td>train/train_steps_per_second</td><td>7.618</td></tr></table><br/></div></div>"
      ],
      "text/plain": [
       "<IPython.core.display.HTML object>"
      ]
     },
     "metadata": {},
     "output_type": "display_data"
    },
    {
     "data": {
      "text/html": [
       " View run <strong style=\"color:#cdcd00\">trial-0</strong> at: <a href='https://wandb.ai/master-2024/BERT_BASE/runs/pgz3q7uw' target=\"_blank\">https://wandb.ai/master-2024/BERT_BASE/runs/pgz3q7uw</a><br/>Synced 5 W&B file(s), 0 media file(s), 0 artifact file(s) and 0 other file(s)"
      ],
      "text/plain": [
       "<IPython.core.display.HTML object>"
      ]
     },
     "metadata": {},
     "output_type": "display_data"
    },
    {
     "data": {
      "text/html": [
       "Find logs at: <code>./wandb/run-20240418_131035-pgz3q7uw/logs</code>"
      ],
      "text/plain": [
       "<IPython.core.display.HTML object>"
      ]
     },
     "metadata": {},
     "output_type": "display_data"
    },
    {
     "name": "stderr",
     "output_type": "stream",
     "text": [
      "[I 2024-04-18 13:16:26,660] Trial 0 finished with value: 0.7864196173829446 and parameters: {'learning_rate': 1.1557352816269867e-05, 'per_device_train_batch_size': 8, 'weight_decay': 0.2722699421778279, 'num_train_epochs': 4, 'warmup_steps': 38}. Best is trial 0 with value: 0.7864196173829446.\n"
     ]
    },
    {
     "data": {
      "text/html": [
       "wandb version 0.16.6 is available!  To upgrade, please run:\n",
       " $ pip install wandb --upgrade"
      ],
      "text/plain": [
       "<IPython.core.display.HTML object>"
      ]
     },
     "metadata": {},
     "output_type": "display_data"
    },
    {
     "data": {
      "text/html": [
       "Tracking run with wandb version 0.16.4"
      ],
      "text/plain": [
       "<IPython.core.display.HTML object>"
      ]
     },
     "metadata": {},
     "output_type": "display_data"
    },
    {
     "data": {
      "text/html": [
       "Run data is saved locally in <code>/net/fs-2/scale/OrionStore/Home/joteklem/Pytorch_models/wandb/run-20240418_131626-7duo86fv</code>"
      ],
      "text/plain": [
       "<IPython.core.display.HTML object>"
      ]
     },
     "metadata": {},
     "output_type": "display_data"
    },
    {
     "data": {
      "text/html": [
       "Syncing run <strong><a href='https://wandb.ai/master-2024/BERT_BASE/runs/7duo86fv' target=\"_blank\">trial-1</a></strong> to <a href='https://wandb.ai/master-2024/BERT_BASE' target=\"_blank\">Weights & Biases</a> (<a href='https://wandb.me/run' target=\"_blank\">docs</a>)<br/>"
      ],
      "text/plain": [
       "<IPython.core.display.HTML object>"
      ]
     },
     "metadata": {},
     "output_type": "display_data"
    },
    {
     "data": {
      "text/html": [
       " View project at <a href='https://wandb.ai/master-2024/BERT_BASE' target=\"_blank\">https://wandb.ai/master-2024/BERT_BASE</a>"
      ],
      "text/plain": [
       "<IPython.core.display.HTML object>"
      ]
     },
     "metadata": {},
     "output_type": "display_data"
    },
    {
     "data": {
      "text/html": [
       " View run at <a href='https://wandb.ai/master-2024/BERT_BASE/runs/7duo86fv' target=\"_blank\">https://wandb.ai/master-2024/BERT_BASE/runs/7duo86fv</a>"
      ],
      "text/plain": [
       "<IPython.core.display.HTML object>"
      ]
     },
     "metadata": {},
     "output_type": "display_data"
    },
    {
     "name": "stderr",
     "output_type": "stream",
     "text": [
      "/net/fs-2/scale/OrionStore/Scratch/joteklem/MyCondaEnvironments/Python3.11/orion_env/lib/python3.11/site-packages/accelerate/accelerator.py:432: FutureWarning: Passing the following arguments to `Accelerator` is deprecated and will be removed in version 1.0 of Accelerate: dict_keys(['dispatch_batches', 'split_batches', 'even_batches', 'use_seedable_sampler']). Please pass an `accelerate.DataLoaderConfiguration` instead: \n",
      "dataloader_config = DataLoaderConfiguration(dispatch_batches=None, split_batches=False, even_batches=True, use_seedable_sampler=True)\n",
      "  warnings.warn(\n",
      "Detected kernel version 3.10.0, which is below the recommended minimum of 5.5.0; this can cause the process to hang. It is recommended to upgrade the kernel to the minimum version or higher.\n"
     ]
    },
    {
     "name": "stdout",
     "output_type": "stream",
     "text": [
      "Starting trial 1\n"
     ]
    },
    {
     "data": {
      "text/html": [
       "\n",
       "    <div>\n",
       "      \n",
       "      <progress value='1580' max='1580' style='width:300px; height:20px; vertical-align: middle;'></progress>\n",
       "      [1580/1580 04:03, Epoch 4/5]\n",
       "    </div>\n",
       "    <table border=\"1\" class=\"dataframe\">\n",
       "  <thead>\n",
       " <tr style=\"text-align: left;\">\n",
       "      <th>Epoch</th>\n",
       "      <th>Training Loss</th>\n",
       "      <th>Validation Loss</th>\n",
       "      <th>Accuracy</th>\n",
       "      <th>Balanced accuracy</th>\n",
       "      <th>F1 weighted</th>\n",
       "      <th>F1 macro</th>\n",
       "      <th>F1 micro</th>\n",
       "      <th>Classification report</th>\n",
       "    </tr>\n",
       "  </thead>\n",
       "  <tbody>\n",
       "    <tr>\n",
       "      <td>0</td>\n",
       "      <td>No log</td>\n",
       "      <td>0.479872</td>\n",
       "      <td>0.827903</td>\n",
       "      <td>0.755520</td>\n",
       "      <td>0.825370</td>\n",
       "      <td>0.763041</td>\n",
       "      <td>0.827903</td>\n",
       "      <td>{'0': {'precision': 0.7969151670951157, 'recall': 0.6888888888888889, 'f1-score': 0.7389749702026222, 'support': 900.0}, '1': {'precision': 0.8614642700569926, 'recall': 0.9088806660499538, 'f1-score': 0.8845374746792708, 'support': 2162.0}, '2': {'precision': 0.6624605678233438, 'recall': 0.6687898089171974, 'f1-score': 0.6656101426307448, 'support': 314.0}, 'accuracy': 0.8279028436018957, 'macro avg': {'precision': 0.7736133349918174, 'recall': 0.7555197879520134, 'f1-score': 0.7630408625042125, 'support': 3376.0}, 'weighted avg': {'precision': 0.8257470440004004, 'recall': 0.8279028436018957, 'f1-score': 0.825369987625888, 'support': 3376.0}}</td>\n",
       "    </tr>\n",
       "    <tr>\n",
       "      <td>2</td>\n",
       "      <td>0.535600</td>\n",
       "      <td>0.454324</td>\n",
       "      <td>0.845083</td>\n",
       "      <td>0.787104</td>\n",
       "      <td>0.842355</td>\n",
       "      <td>0.793777</td>\n",
       "      <td>0.845083</td>\n",
       "      <td>{'0': {'precision': 0.8135593220338984, 'recall': 0.6933333333333334, 'f1-score': 0.7486502699460109, 'support': 900.0}, '1': {'precision': 0.8723218189768255, 'recall': 0.9227567067530065, 'f1-score': 0.8968307484828051, 'support': 2162.0}, '2': {'precision': 0.7267080745341615, 'recall': 0.7452229299363057, 'f1-score': 0.7358490566037735, 'support': 314.0}, 'accuracy': 0.8450829383886256, 'macro avg': {'precision': 0.8041964051816284, 'recall': 0.7871043233408819, 'f1-score': 0.7937766916775298, 'support': 3376.0}, 'weighted avg': {'precision': 0.8431130029212476, 'recall': 0.8450829383886256, 'f1-score': 0.8423548355879203, 'support': 3376.0}}</td>\n",
       "    </tr>\n",
       "    <tr>\n",
       "      <td>4</td>\n",
       "      <td>0.222000</td>\n",
       "      <td>0.658942</td>\n",
       "      <td>0.841825</td>\n",
       "      <td>0.783250</td>\n",
       "      <td>0.839487</td>\n",
       "      <td>0.793904</td>\n",
       "      <td>0.841825</td>\n",
       "      <td>{'0': {'precision': 0.7868649318463445, 'recall': 0.7055555555555556, 'f1-score': 0.7439953134153486, 'support': 900.0}, '1': {'precision': 0.8721340388007055, 'recall': 0.9148936170212766, 'f1-score': 0.8930022573363431, 'support': 2162.0}, '2': {'precision': 0.760797342192691, 'recall': 0.7292993630573248, 'f1-score': 0.7447154471544715, 'support': 314.0}, 'accuracy': 0.841824644549763, 'macro avg': {'precision': 0.8065987709465804, 'recall': 0.7832495118780524, 'f1-score': 0.7939043393020544, 'support': 3376.0}, 'weighted avg': {'precision': 0.8390469774873637, 'recall': 0.841824644549763, 'f1-score': 0.8394867632824324, 'support': 3376.0}}</td>\n",
       "    </tr>\n",
       "  </tbody>\n",
       "</table><p>"
      ],
      "text/plain": [
       "<IPython.core.display.HTML object>"
      ]
     },
     "metadata": {},
     "output_type": "display_data"
    },
    {
     "data": {
      "text/html": [
       "\n",
       "    <div>\n",
       "      \n",
       "      <progress value='211' max='211' style='width:300px; height:20px; vertical-align: middle;'></progress>\n",
       "      [211/211 00:03]\n",
       "    </div>\n",
       "    "
      ],
      "text/plain": [
       "<IPython.core.display.HTML object>"
      ]
     },
     "metadata": {},
     "output_type": "display_data"
    },
    {
     "name": "stderr",
     "output_type": "stream",
     "text": [
      "/net/fs-2/scale/OrionStore/Scratch/joteklem/MyCondaEnvironments/Python3.11/orion_env/lib/python3.11/site-packages/optuna/trial/_trial.py:499: UserWarning: The reported value is ignored because this `step` 4.992101105845181 is already reported.\n",
      "  warnings.warn(\n"
     ]
    },
    {
     "name": "stdout",
     "output_type": "stream",
     "text": [
      "Completed trial 1\n"
     ]
    },
    {
     "data": {
      "text/html": [
       "<style>\n",
       "    table.wandb td:nth-child(1) { padding: 0 10px; text-align: left ; width: auto;} td:nth-child(2) {text-align: left ; width: 100%}\n",
       "    .wandb-row { display: flex; flex-direction: row; flex-wrap: wrap; justify-content: flex-start; width: 100% }\n",
       "    .wandb-col { display: flex; flex-direction: column; flex-basis: 100%; flex: 1; padding: 10px; }\n",
       "    </style>\n",
       "<div class=\"wandb-row\"><div class=\"wandb-col\"><h3>Run history:</h3><br/><table class=\"wandb\"><tr><td>Training loss</td><td>▁</td></tr><tr><td>Validation loss</td><td>▁</td></tr><tr><td>Weighted F1 score</td><td>▁</td></tr><tr><td>eval/Accuracy</td><td>▁█▇▄▆▆</td></tr><tr><td>eval/Balanced accuracy</td><td>▁▄▇█▆▆</td></tr><tr><td>eval/F1 macro</td><td>▁██▇██</td></tr><tr><td>eval/F1 micro</td><td>▁█▇▄▆▆</td></tr><tr><td>eval/F1 weighted</td><td>▁██▅▇▇</td></tr><tr><td>eval/loss</td><td>▃▁▂▆██</td></tr><tr><td>eval/runtime</td><td>▁▂▇█▃▄</td></tr><tr><td>eval/samples_per_second</td><td>█▇▂▁▆▅</td></tr><tr><td>eval/steps_per_second</td><td>█▇▂▁▆▅</td></tr><tr><td>train/epoch</td><td>▁▃▃▅▆▆███</td></tr><tr><td>train/global_step</td><td>▁▃▃▅▆▆█████</td></tr><tr><td>train/grad_norm</td><td>▁█</td></tr><tr><td>train/learning_rate</td><td>█▁</td></tr><tr><td>train/loss</td><td>█▁</td></tr><tr><td>train/total_flos</td><td>▁</td></tr><tr><td>train/train_loss</td><td>▁</td></tr><tr><td>train/train_runtime</td><td>▁</td></tr><tr><td>train/train_samples_per_second</td><td>▁</td></tr><tr><td>train/train_steps_per_second</td><td>▁</td></tr></table><br/></div><div class=\"wandb-col\"><h3>Run summary:</h3><br/><table class=\"wandb\"><tr><td>Training loss</td><td>0.222</td></tr><tr><td>Validation loss</td><td>0.58326</td></tr><tr><td>Weighted F1 score</td><td>0.7939</td></tr><tr><td>eval/Accuracy</td><td>0.84182</td></tr><tr><td>eval/Balanced accuracy</td><td>0.78325</td></tr><tr><td>eval/F1 macro</td><td>0.7939</td></tr><tr><td>eval/F1 micro</td><td>0.84182</td></tr><tr><td>eval/F1 weighted</td><td>0.83949</td></tr><tr><td>eval/loss</td><td>0.65894</td></tr><tr><td>eval/runtime</td><td>3.6361</td></tr><tr><td>eval/samples_per_second</td><td>928.462</td></tr><tr><td>eval/steps_per_second</td><td>58.029</td></tr><tr><td>train/epoch</td><td>4.99</td></tr><tr><td>train/global_step</td><td>1580</td></tr><tr><td>train/grad_norm</td><td>10.25123</td></tr><tr><td>train/learning_rate</td><td>1e-05</td></tr><tr><td>train/loss</td><td>0.222</td></tr><tr><td>train/total_flos</td><td>3572093537429760.0</td></tr><tr><td>train/train_loss</td><td>0.32328</td></tr><tr><td>train/train_runtime</td><td>243.7709</td></tr><tr><td>train/train_samples_per_second</td><td>207.736</td></tr><tr><td>train/train_steps_per_second</td><td>6.481</td></tr></table><br/></div></div>"
      ],
      "text/plain": [
       "<IPython.core.display.HTML object>"
      ]
     },
     "metadata": {},
     "output_type": "display_data"
    },
    {
     "data": {
      "text/html": [
       " View run <strong style=\"color:#cdcd00\">trial-1</strong> at: <a href='https://wandb.ai/master-2024/BERT_BASE/runs/7duo86fv' target=\"_blank\">https://wandb.ai/master-2024/BERT_BASE/runs/7duo86fv</a><br/>Synced 5 W&B file(s), 0 media file(s), 0 artifact file(s) and 0 other file(s)"
      ],
      "text/plain": [
       "<IPython.core.display.HTML object>"
      ]
     },
     "metadata": {},
     "output_type": "display_data"
    },
    {
     "data": {
      "text/html": [
       "Find logs at: <code>./wandb/run-20240418_131626-7duo86fv/logs</code>"
      ],
      "text/plain": [
       "<IPython.core.display.HTML object>"
      ]
     },
     "metadata": {},
     "output_type": "display_data"
    },
    {
     "name": "stderr",
     "output_type": "stream",
     "text": [
      "[I 2024-04-18 13:20:41,783] Trial 1 finished with value: 0.7939043393020544 and parameters: {'learning_rate': 3.797544798678414e-05, 'per_device_train_batch_size': 16, 'weight_decay': 0.19002112695312703, 'num_train_epochs': 5, 'warmup_steps': 270}. Best is trial 1 with value: 0.7939043393020544.\n"
     ]
    },
    {
     "data": {
      "text/html": [
       "wandb version 0.16.6 is available!  To upgrade, please run:\n",
       " $ pip install wandb --upgrade"
      ],
      "text/plain": [
       "<IPython.core.display.HTML object>"
      ]
     },
     "metadata": {},
     "output_type": "display_data"
    },
    {
     "data": {
      "text/html": [
       "Tracking run with wandb version 0.16.4"
      ],
      "text/plain": [
       "<IPython.core.display.HTML object>"
      ]
     },
     "metadata": {},
     "output_type": "display_data"
    },
    {
     "data": {
      "text/html": [
       "Run data is saved locally in <code>/net/fs-2/scale/OrionStore/Home/joteklem/Pytorch_models/wandb/run-20240418_132041-5xmhsoh0</code>"
      ],
      "text/plain": [
       "<IPython.core.display.HTML object>"
      ]
     },
     "metadata": {},
     "output_type": "display_data"
    },
    {
     "data": {
      "text/html": [
       "Syncing run <strong><a href='https://wandb.ai/master-2024/BERT_BASE/runs/5xmhsoh0' target=\"_blank\">trial-2</a></strong> to <a href='https://wandb.ai/master-2024/BERT_BASE' target=\"_blank\">Weights & Biases</a> (<a href='https://wandb.me/run' target=\"_blank\">docs</a>)<br/>"
      ],
      "text/plain": [
       "<IPython.core.display.HTML object>"
      ]
     },
     "metadata": {},
     "output_type": "display_data"
    },
    {
     "data": {
      "text/html": [
       " View project at <a href='https://wandb.ai/master-2024/BERT_BASE' target=\"_blank\">https://wandb.ai/master-2024/BERT_BASE</a>"
      ],
      "text/plain": [
       "<IPython.core.display.HTML object>"
      ]
     },
     "metadata": {},
     "output_type": "display_data"
    },
    {
     "data": {
      "text/html": [
       " View run at <a href='https://wandb.ai/master-2024/BERT_BASE/runs/5xmhsoh0' target=\"_blank\">https://wandb.ai/master-2024/BERT_BASE/runs/5xmhsoh0</a>"
      ],
      "text/plain": [
       "<IPython.core.display.HTML object>"
      ]
     },
     "metadata": {},
     "output_type": "display_data"
    },
    {
     "name": "stderr",
     "output_type": "stream",
     "text": [
      "/net/fs-2/scale/OrionStore/Scratch/joteklem/MyCondaEnvironments/Python3.11/orion_env/lib/python3.11/site-packages/accelerate/accelerator.py:432: FutureWarning: Passing the following arguments to `Accelerator` is deprecated and will be removed in version 1.0 of Accelerate: dict_keys(['dispatch_batches', 'split_batches', 'even_batches', 'use_seedable_sampler']). Please pass an `accelerate.DataLoaderConfiguration` instead: \n",
      "dataloader_config = DataLoaderConfiguration(dispatch_batches=None, split_batches=False, even_batches=True, use_seedable_sampler=True)\n",
      "  warnings.warn(\n",
      "Detected kernel version 3.10.0, which is below the recommended minimum of 5.5.0; this can cause the process to hang. It is recommended to upgrade the kernel to the minimum version or higher.\n"
     ]
    },
    {
     "name": "stdout",
     "output_type": "stream",
     "text": [
      "Starting trial 2\n"
     ]
    },
    {
     "data": {
      "text/html": [
       "\n",
       "    <div>\n",
       "      \n",
       "      <progress value='2532' max='2532' style='width:300px; height:20px; vertical-align: middle;'></progress>\n",
       "      [2532/2532 05:33, Epoch 4/4]\n",
       "    </div>\n",
       "    <table border=\"1\" class=\"dataframe\">\n",
       "  <thead>\n",
       " <tr style=\"text-align: left;\">\n",
       "      <th>Epoch</th>\n",
       "      <th>Training Loss</th>\n",
       "      <th>Validation Loss</th>\n",
       "      <th>Accuracy</th>\n",
       "      <th>Balanced accuracy</th>\n",
       "      <th>F1 weighted</th>\n",
       "      <th>F1 macro</th>\n",
       "      <th>F1 micro</th>\n",
       "      <th>Classification report</th>\n",
       "    </tr>\n",
       "  </thead>\n",
       "  <tbody>\n",
       "    <tr>\n",
       "      <td>1</td>\n",
       "      <td>No log</td>\n",
       "      <td>0.874502</td>\n",
       "      <td>0.640403</td>\n",
       "      <td>0.333333</td>\n",
       "      <td>0.500018</td>\n",
       "      <td>0.260262</td>\n",
       "      <td>0.640403</td>\n",
       "      <td>{'0': {'precision': 0.0, 'recall': 0.0, 'f1-score': 0.0, 'support': 900.0}, '1': {'precision': 0.6404028436018957, 'recall': 1.0, 'f1-score': 0.7807872878295413, 'support': 2162.0}, '2': {'precision': 0.0, 'recall': 0.0, 'f1-score': 0.0, 'support': 314.0}, 'accuracy': 0.6404028436018957, 'macro avg': {'precision': 0.21346761453396523, 'recall': 0.3333333333333333, 'f1-score': 0.2602624292765138, 'support': 3376.0}, 'weighted avg': {'precision': 0.4101158020933941, 'recall': 0.6404028436018957, 'f1-score': 0.5000183993742501, 'support': 3376.0}}</td>\n",
       "    </tr>\n",
       "    <tr>\n",
       "      <td>2</td>\n",
       "      <td>0.866000</td>\n",
       "      <td>0.861107</td>\n",
       "      <td>0.640403</td>\n",
       "      <td>0.333333</td>\n",
       "      <td>0.500018</td>\n",
       "      <td>0.260262</td>\n",
       "      <td>0.640403</td>\n",
       "      <td>{'0': {'precision': 0.0, 'recall': 0.0, 'f1-score': 0.0, 'support': 900.0}, '1': {'precision': 0.6404028436018957, 'recall': 1.0, 'f1-score': 0.7807872878295413, 'support': 2162.0}, '2': {'precision': 0.0, 'recall': 0.0, 'f1-score': 0.0, 'support': 314.0}, 'accuracy': 0.6404028436018957, 'macro avg': {'precision': 0.21346761453396523, 'recall': 0.3333333333333333, 'f1-score': 0.2602624292765138, 'support': 3376.0}, 'weighted avg': {'precision': 0.4101158020933941, 'recall': 0.6404028436018957, 'f1-score': 0.5000183993742501, 'support': 3376.0}}</td>\n",
       "    </tr>\n",
       "    <tr>\n",
       "      <td>3</td>\n",
       "      <td>0.866000</td>\n",
       "      <td>0.884076</td>\n",
       "      <td>0.640403</td>\n",
       "      <td>0.333333</td>\n",
       "      <td>0.500018</td>\n",
       "      <td>0.260262</td>\n",
       "      <td>0.640403</td>\n",
       "      <td>{'0': {'precision': 0.0, 'recall': 0.0, 'f1-score': 0.0, 'support': 900.0}, '1': {'precision': 0.6404028436018957, 'recall': 1.0, 'f1-score': 0.7807872878295413, 'support': 2162.0}, '2': {'precision': 0.0, 'recall': 0.0, 'f1-score': 0.0, 'support': 314.0}, 'accuracy': 0.6404028436018957, 'macro avg': {'precision': 0.21346761453396523, 'recall': 0.3333333333333333, 'f1-score': 0.2602624292765138, 'support': 3376.0}, 'weighted avg': {'precision': 0.4101158020933941, 'recall': 0.6404028436018957, 'f1-score': 0.5000183993742501, 'support': 3376.0}}</td>\n",
       "    </tr>\n",
       "    <tr>\n",
       "      <td>4</td>\n",
       "      <td>0.869800</td>\n",
       "      <td>0.859667</td>\n",
       "      <td>0.640403</td>\n",
       "      <td>0.333333</td>\n",
       "      <td>0.500018</td>\n",
       "      <td>0.260262</td>\n",
       "      <td>0.640403</td>\n",
       "      <td>{'0': {'precision': 0.0, 'recall': 0.0, 'f1-score': 0.0, 'support': 900.0}, '1': {'precision': 0.6404028436018957, 'recall': 1.0, 'f1-score': 0.7807872878295413, 'support': 2162.0}, '2': {'precision': 0.0, 'recall': 0.0, 'f1-score': 0.0, 'support': 314.0}, 'accuracy': 0.6404028436018957, 'macro avg': {'precision': 0.21346761453396523, 'recall': 0.3333333333333333, 'f1-score': 0.2602624292765138, 'support': 3376.0}, 'weighted avg': {'precision': 0.4101158020933941, 'recall': 0.6404028436018957, 'f1-score': 0.5000183993742501, 'support': 3376.0}}</td>\n",
       "    </tr>\n",
       "  </tbody>\n",
       "</table><p>"
      ],
      "text/plain": [
       "<IPython.core.display.HTML object>"
      ]
     },
     "metadata": {},
     "output_type": "display_data"
    },
    {
     "data": {
      "text/html": [
       "\n",
       "    <div>\n",
       "      \n",
       "      <progress value='422' max='422' style='width:300px; height:20px; vertical-align: middle;'></progress>\n",
       "      [422/422 00:05]\n",
       "    </div>\n",
       "    "
      ],
      "text/plain": [
       "<IPython.core.display.HTML object>"
      ]
     },
     "metadata": {},
     "output_type": "display_data"
    },
    {
     "name": "stderr",
     "output_type": "stream",
     "text": [
      "/net/fs-2/scale/OrionStore/Scratch/joteklem/MyCondaEnvironments/Python3.11/orion_env/lib/python3.11/site-packages/optuna/trial/_trial.py:499: UserWarning: The reported value is ignored because this `step` 4.0 is already reported.\n",
      "  warnings.warn(\n"
     ]
    },
    {
     "name": "stdout",
     "output_type": "stream",
     "text": [
      "Completed trial 2\n"
     ]
    },
    {
     "data": {
      "text/html": [
       "<style>\n",
       "    table.wandb td:nth-child(1) { padding: 0 10px; text-align: left ; width: auto;} td:nth-child(2) {text-align: left ; width: 100%}\n",
       "    .wandb-row { display: flex; flex-direction: row; flex-wrap: wrap; justify-content: flex-start; width: 100% }\n",
       "    .wandb-col { display: flex; flex-direction: column; flex-basis: 100%; flex: 1; padding: 10px; }\n",
       "    </style>\n",
       "<div class=\"wandb-row\"><div class=\"wandb-col\"><h3>Run history:</h3><br/><table class=\"wandb\"><tr><td>Training loss</td><td>▁</td></tr><tr><td>Validation loss</td><td>▁</td></tr><tr><td>Weighted F1 score</td><td>▁</td></tr><tr><td>eval/Accuracy</td><td>▁▁▁▁▁</td></tr><tr><td>eval/Balanced accuracy</td><td>▁▁▁▁▁</td></tr><tr><td>eval/F1 macro</td><td>▁▁▁▁▁</td></tr><tr><td>eval/F1 micro</td><td>▁▁▁▁▁</td></tr><tr><td>eval/F1 weighted</td><td>▁▁▁▁▁</td></tr><tr><td>eval/loss</td><td>▅▁█▁▁</td></tr><tr><td>eval/runtime</td><td>▁▄▇▆█</td></tr><tr><td>eval/samples_per_second</td><td>█▅▂▃▁</td></tr><tr><td>eval/steps_per_second</td><td>█▅▂▃▁</td></tr><tr><td>train/epoch</td><td>▁▃▃▆████</td></tr><tr><td>train/global_step</td><td>▁▃▃▆██████</td></tr><tr><td>train/grad_norm</td><td>█▁</td></tr><tr><td>train/learning_rate</td><td>█▁</td></tr><tr><td>train/loss</td><td>▁█</td></tr><tr><td>train/total_flos</td><td>▁</td></tr><tr><td>train/train_loss</td><td>▁</td></tr><tr><td>train/train_runtime</td><td>▁</td></tr><tr><td>train/train_samples_per_second</td><td>▁</td></tr><tr><td>train/train_steps_per_second</td><td>▁</td></tr></table><br/></div><div class=\"wandb-col\"><h3>Run summary:</h3><br/><table class=\"wandb\"><tr><td>Training loss</td><td>0.8698</td></tr><tr><td>Validation loss</td><td>0.88408</td></tr><tr><td>Weighted F1 score</td><td>0.26026</td></tr><tr><td>eval/Accuracy</td><td>0.6404</td></tr><tr><td>eval/Balanced accuracy</td><td>0.33333</td></tr><tr><td>eval/F1 macro</td><td>0.26026</td></tr><tr><td>eval/F1 micro</td><td>0.6404</td></tr><tr><td>eval/F1 weighted</td><td>0.50002</td></tr><tr><td>eval/loss</td><td>0.85967</td></tr><tr><td>eval/runtime</td><td>5.0747</td></tr><tr><td>eval/samples_per_second</td><td>665.26</td></tr><tr><td>eval/steps_per_second</td><td>83.157</td></tr><tr><td>train/epoch</td><td>4.0</td></tr><tr><td>train/global_step</td><td>2532</td></tr><tr><td>train/grad_norm</td><td>1.62953</td></tr><tr><td>train/learning_rate</td><td>0.0</td></tr><tr><td>train/loss</td><td>0.8698</td></tr><tr><td>train/total_flos</td><td>2567468952484128.0</td></tr><tr><td>train/train_loss</td><td>0.86788</td></tr><tr><td>train/train_runtime</td><td>334.0893</td></tr><tr><td>train/train_samples_per_second</td><td>121.261</td></tr><tr><td>train/train_steps_per_second</td><td>7.579</td></tr></table><br/></div></div>"
      ],
      "text/plain": [
       "<IPython.core.display.HTML object>"
      ]
     },
     "metadata": {},
     "output_type": "display_data"
    },
    {
     "data": {
      "text/html": [
       " View run <strong style=\"color:#cdcd00\">trial-2</strong> at: <a href='https://wandb.ai/master-2024/BERT_BASE/runs/5xmhsoh0' target=\"_blank\">https://wandb.ai/master-2024/BERT_BASE/runs/5xmhsoh0</a><br/>Synced 5 W&B file(s), 0 media file(s), 0 artifact file(s) and 0 other file(s)"
      ],
      "text/plain": [
       "<IPython.core.display.HTML object>"
      ]
     },
     "metadata": {},
     "output_type": "display_data"
    },
    {
     "data": {
      "text/html": [
       "Find logs at: <code>./wandb/run-20240418_132041-5xmhsoh0/logs</code>"
      ],
      "text/plain": [
       "<IPython.core.display.HTML object>"
      ]
     },
     "metadata": {},
     "output_type": "display_data"
    },
    {
     "name": "stderr",
     "output_type": "stream",
     "text": [
      "[I 2024-04-18 13:26:29,211] Trial 2 finished with value: 0.2602624292765138 and parameters: {'learning_rate': 0.00041198396246051877, 'per_device_train_batch_size': 8, 'weight_decay': 0.0683805487625825, 'num_train_epochs': 4, 'warmup_steps': 255}. Best is trial 1 with value: 0.7939043393020544.\n"
     ]
    },
    {
     "data": {
      "text/html": [
       "wandb version 0.16.6 is available!  To upgrade, please run:\n",
       " $ pip install wandb --upgrade"
      ],
      "text/plain": [
       "<IPython.core.display.HTML object>"
      ]
     },
     "metadata": {},
     "output_type": "display_data"
    },
    {
     "data": {
      "text/html": [
       "Tracking run with wandb version 0.16.4"
      ],
      "text/plain": [
       "<IPython.core.display.HTML object>"
      ]
     },
     "metadata": {},
     "output_type": "display_data"
    },
    {
     "data": {
      "text/html": [
       "Run data is saved locally in <code>/net/fs-2/scale/OrionStore/Home/joteklem/Pytorch_models/wandb/run-20240418_132629-fk80707t</code>"
      ],
      "text/plain": [
       "<IPython.core.display.HTML object>"
      ]
     },
     "metadata": {},
     "output_type": "display_data"
    },
    {
     "data": {
      "text/html": [
       "Syncing run <strong><a href='https://wandb.ai/master-2024/BERT_BASE/runs/fk80707t' target=\"_blank\">trial-3</a></strong> to <a href='https://wandb.ai/master-2024/BERT_BASE' target=\"_blank\">Weights & Biases</a> (<a href='https://wandb.me/run' target=\"_blank\">docs</a>)<br/>"
      ],
      "text/plain": [
       "<IPython.core.display.HTML object>"
      ]
     },
     "metadata": {},
     "output_type": "display_data"
    },
    {
     "data": {
      "text/html": [
       " View project at <a href='https://wandb.ai/master-2024/BERT_BASE' target=\"_blank\">https://wandb.ai/master-2024/BERT_BASE</a>"
      ],
      "text/plain": [
       "<IPython.core.display.HTML object>"
      ]
     },
     "metadata": {},
     "output_type": "display_data"
    },
    {
     "data": {
      "text/html": [
       " View run at <a href='https://wandb.ai/master-2024/BERT_BASE/runs/fk80707t' target=\"_blank\">https://wandb.ai/master-2024/BERT_BASE/runs/fk80707t</a>"
      ],
      "text/plain": [
       "<IPython.core.display.HTML object>"
      ]
     },
     "metadata": {},
     "output_type": "display_data"
    },
    {
     "name": "stderr",
     "output_type": "stream",
     "text": [
      "/net/fs-2/scale/OrionStore/Scratch/joteklem/MyCondaEnvironments/Python3.11/orion_env/lib/python3.11/site-packages/accelerate/accelerator.py:432: FutureWarning: Passing the following arguments to `Accelerator` is deprecated and will be removed in version 1.0 of Accelerate: dict_keys(['dispatch_batches', 'split_batches', 'even_batches', 'use_seedable_sampler']). Please pass an `accelerate.DataLoaderConfiguration` instead: \n",
      "dataloader_config = DataLoaderConfiguration(dispatch_batches=None, split_batches=False, even_batches=True, use_seedable_sampler=True)\n",
      "  warnings.warn(\n",
      "Detected kernel version 3.10.0, which is below the recommended minimum of 5.5.0; this can cause the process to hang. It is recommended to upgrade the kernel to the minimum version or higher.\n"
     ]
    },
    {
     "name": "stdout",
     "output_type": "stream",
     "text": [
      "Starting trial 3\n"
     ]
    },
    {
     "data": {
      "text/html": [
       "\n",
       "    <div>\n",
       "      \n",
       "      <progress value='632' max='632' style='width:300px; height:20px; vertical-align: middle;'></progress>\n",
       "      [632/632 02:42, Epoch 3/4]\n",
       "    </div>\n",
       "    <table border=\"1\" class=\"dataframe\">\n",
       "  <thead>\n",
       " <tr style=\"text-align: left;\">\n",
       "      <th>Epoch</th>\n",
       "      <th>Training Loss</th>\n",
       "      <th>Validation Loss</th>\n",
       "      <th>Accuracy</th>\n",
       "      <th>Balanced accuracy</th>\n",
       "      <th>F1 weighted</th>\n",
       "      <th>F1 macro</th>\n",
       "      <th>F1 micro</th>\n",
       "      <th>Classification report</th>\n",
       "    </tr>\n",
       "  </thead>\n",
       "  <tbody>\n",
       "    <tr>\n",
       "      <td>0</td>\n",
       "      <td>No log</td>\n",
       "      <td>0.584797</td>\n",
       "      <td>0.770142</td>\n",
       "      <td>0.765386</td>\n",
       "      <td>0.782928</td>\n",
       "      <td>0.702946</td>\n",
       "      <td>0.770142</td>\n",
       "      <td>{'0': {'precision': 0.7323008849557522, 'recall': 0.7355555555555555, 'f1-score': 0.7339246119733923, 'support': 900.0}, '1': {'precision': 0.9034666666666666, 'recall': 0.7835337650323775, 'f1-score': 0.8392370572207085, 'support': 2162.0}, '2': {'precision': 0.40871021775544386, 'recall': 0.7770700636942676, 'f1-score': 0.535675082327113, 'support': 314.0}, 'accuracy': 0.7701421800947867, 'macro avg': {'precision': 0.681492589792621, 'recall': 0.7653864614274002, 'f1-score': 0.7029455838404046, 'support': 3376.0}, 'weighted avg': {'precision': 0.811818939031019, 'recall': 0.7701421800947867, 'f1-score': 0.7829279159768776, 'support': 3376.0}}</td>\n",
       "    </tr>\n",
       "    <tr>\n",
       "      <td>2</td>\n",
       "      <td>0.594000</td>\n",
       "      <td>0.499964</td>\n",
       "      <td>0.830569</td>\n",
       "      <td>0.710021</td>\n",
       "      <td>0.822330</td>\n",
       "      <td>0.751401</td>\n",
       "      <td>0.830569</td>\n",
       "      <td>{'0': {'precision': 0.8268156424581006, 'recall': 0.6577777777777778, 'f1-score': 0.7326732673267328, 'support': 900.0}, '1': {'precision': 0.8341483292583537, 'recall': 0.9468085106382979, 'f1-score': 0.8869150779896013, 'support': 2162.0}, '2': {'precision': 0.8009708737864077, 'recall': 0.5254777070063694, 'f1-score': 0.6346153846153847, 'support': 314.0}, 'accuracy': 0.830568720379147, 'macro avg': {'precision': 0.8206449485009539, 'recall': 0.7100213318074817, 'f1-score': 0.7514012433105729, 'support': 3376.0}, 'weighted avg': {'precision': 0.8291077074756467, 'recall': 0.830568720379147, 'f1-score': 0.8223298489267798, 'support': 3376.0}}</td>\n",
       "    </tr>\n",
       "    <tr>\n",
       "      <td>3</td>\n",
       "      <td>0.310900</td>\n",
       "      <td>0.481740</td>\n",
       "      <td>0.844194</td>\n",
       "      <td>0.775714</td>\n",
       "      <td>0.841786</td>\n",
       "      <td>0.791346</td>\n",
       "      <td>0.844194</td>\n",
       "      <td>{'0': {'precision': 0.7857142857142857, 'recall': 0.7211111111111111, 'f1-score': 0.7520278099652375, 'support': 900.0}, '1': {'precision': 0.874834728955487, 'recall': 0.9181313598519889, 'f1-score': 0.8959602798465357, 'support': 2162.0}, '2': {'precision': 0.7686832740213523, 'recall': 0.6878980891719745, 'f1-score': 0.7260504201680671, 'support': 314.0}, 'accuracy': 0.8441943127962085, 'macro avg': {'precision': 0.809744096230375, 'recall': 0.7757135200450248, 'f1-score': 0.7913461699932801, 'support': 3376.0}, 'weighted avg': {'precision': 0.841203225470179, 'recall': 0.8441943127962085, 'f1-score': 0.8417864294815453, 'support': 3376.0}}</td>\n",
       "    </tr>\n",
       "  </tbody>\n",
       "</table><p>"
      ],
      "text/plain": [
       "<IPython.core.display.HTML object>"
      ]
     },
     "metadata": {},
     "output_type": "display_data"
    },
    {
     "data": {
      "text/html": [
       "\n",
       "    <div>\n",
       "      \n",
       "      <progress value='106' max='106' style='width:300px; height:20px; vertical-align: middle;'></progress>\n",
       "      [106/106 00:03]\n",
       "    </div>\n",
       "    "
      ],
      "text/plain": [
       "<IPython.core.display.HTML object>"
      ]
     },
     "metadata": {},
     "output_type": "display_data"
    },
    {
     "name": "stderr",
     "output_type": "stream",
     "text": [
      "/net/fs-2/scale/OrionStore/Scratch/joteklem/MyCondaEnvironments/Python3.11/orion_env/lib/python3.11/site-packages/optuna/trial/_trial.py:499: UserWarning: The reported value is ignored because this `step` 3.9873817034700316 is already reported.\n",
      "  warnings.warn(\n"
     ]
    },
    {
     "name": "stdout",
     "output_type": "stream",
     "text": [
      "Completed trial 3\n"
     ]
    },
    {
     "data": {
      "text/html": [
       "<style>\n",
       "    table.wandb td:nth-child(1) { padding: 0 10px; text-align: left ; width: auto;} td:nth-child(2) {text-align: left ; width: 100%}\n",
       "    .wandb-row { display: flex; flex-direction: row; flex-wrap: wrap; justify-content: flex-start; width: 100% }\n",
       "    .wandb-col { display: flex; flex-direction: column; flex-basis: 100%; flex: 1; padding: 10px; }\n",
       "    </style>\n",
       "<div class=\"wandb-row\"><div class=\"wandb-col\"><h3>Run history:</h3><br/><table class=\"wandb\"><tr><td>Training loss</td><td>▁</td></tr><tr><td>Validation loss</td><td>▁</td></tr><tr><td>Weighted F1 score</td><td>▁</td></tr><tr><td>eval/Accuracy</td><td>▁▇▇██</td></tr><tr><td>eval/Balanced accuracy</td><td>▇▄▁██</td></tr><tr><td>eval/F1 macro</td><td>▁▅▅██</td></tr><tr><td>eval/F1 micro</td><td>▁▇▇██</td></tr><tr><td>eval/F1 weighted</td><td>▁▆▆██</td></tr><tr><td>eval/loss</td><td>█▂▂▁▁</td></tr><tr><td>eval/runtime</td><td>▄▁▁▃█</td></tr><tr><td>eval/samples_per_second</td><td>▅██▆▁</td></tr><tr><td>eval/steps_per_second</td><td>▅██▆▁</td></tr><tr><td>train/epoch</td><td>▁▃▃▆████</td></tr><tr><td>train/global_step</td><td>▁▃▃▆██████</td></tr><tr><td>train/grad_norm</td><td>▁ </td></tr><tr><td>train/learning_rate</td><td>█▁</td></tr><tr><td>train/loss</td><td>█▁</td></tr><tr><td>train/total_flos</td><td>▁</td></tr><tr><td>train/train_loss</td><td>▁</td></tr><tr><td>train/train_runtime</td><td>▁</td></tr><tr><td>train/train_samples_per_second</td><td>▁</td></tr><tr><td>train/train_steps_per_second</td><td>▁</td></tr></table><br/></div><div class=\"wandb-col\"><h3>Run summary:</h3><br/><table class=\"wandb\"><tr><td>Training loss</td><td>0.3109</td></tr><tr><td>Validation loss</td><td>0.49996</td></tr><tr><td>Weighted F1 score</td><td>0.79135</td></tr><tr><td>eval/Accuracy</td><td>0.84419</td></tr><tr><td>eval/Balanced accuracy</td><td>0.77571</td></tr><tr><td>eval/F1 macro</td><td>0.79135</td></tr><tr><td>eval/F1 micro</td><td>0.84419</td></tr><tr><td>eval/F1 weighted</td><td>0.84179</td></tr><tr><td>eval/loss</td><td>0.48174</td></tr><tr><td>eval/runtime</td><td>3.664</td></tr><tr><td>eval/samples_per_second</td><td>921.4</td></tr><tr><td>eval/steps_per_second</td><td>28.93</td></tr><tr><td>train/epoch</td><td>3.99</td></tr><tr><td>train/global_step</td><td>632</td></tr><tr><td>train/grad_norm</td><td>inf</td></tr><tr><td>train/learning_rate</td><td>0.0</td></tr><tr><td>train/loss</td><td>0.3109</td></tr><tr><td>train/total_flos</td><td>3199812718227552.0</td></tr><tr><td>train/train_loss</td><td>0.45241</td></tr><tr><td>train/train_runtime</td><td>162.6169</td></tr><tr><td>train/train_samples_per_second</td><td>249.125</td></tr><tr><td>train/train_steps_per_second</td><td>3.886</td></tr></table><br/></div></div>"
      ],
      "text/plain": [
       "<IPython.core.display.HTML object>"
      ]
     },
     "metadata": {},
     "output_type": "display_data"
    },
    {
     "data": {
      "text/html": [
       " View run <strong style=\"color:#cdcd00\">trial-3</strong> at: <a href='https://wandb.ai/master-2024/BERT_BASE/runs/fk80707t' target=\"_blank\">https://wandb.ai/master-2024/BERT_BASE/runs/fk80707t</a><br/>Synced 5 W&B file(s), 0 media file(s), 0 artifact file(s) and 0 other file(s)"
      ],
      "text/plain": [
       "<IPython.core.display.HTML object>"
      ]
     },
     "metadata": {},
     "output_type": "display_data"
    },
    {
     "data": {
      "text/html": [
       "Find logs at: <code>./wandb/run-20240418_132629-fk80707t/logs</code>"
      ],
      "text/plain": [
       "<IPython.core.display.HTML object>"
      ]
     },
     "metadata": {},
     "output_type": "display_data"
    },
    {
     "name": "stderr",
     "output_type": "stream",
     "text": [
      "[I 2024-04-18 13:29:24,581] Trial 3 finished with value: 0.7913461699932801 and parameters: {'learning_rate': 6.83631406502272e-05, 'per_device_train_batch_size': 32, 'weight_decay': 0.28287291117375574, 'num_train_epochs': 4, 'warmup_steps': 486}. Best is trial 1 with value: 0.7939043393020544.\n"
     ]
    },
    {
     "data": {
      "text/html": [
       "wandb version 0.16.6 is available!  To upgrade, please run:\n",
       " $ pip install wandb --upgrade"
      ],
      "text/plain": [
       "<IPython.core.display.HTML object>"
      ]
     },
     "metadata": {},
     "output_type": "display_data"
    },
    {
     "data": {
      "text/html": [
       "Tracking run with wandb version 0.16.4"
      ],
      "text/plain": [
       "<IPython.core.display.HTML object>"
      ]
     },
     "metadata": {},
     "output_type": "display_data"
    },
    {
     "data": {
      "text/html": [
       "Run data is saved locally in <code>/net/fs-2/scale/OrionStore/Home/joteklem/Pytorch_models/wandb/run-20240418_132924-l2i86m5x</code>"
      ],
      "text/plain": [
       "<IPython.core.display.HTML object>"
      ]
     },
     "metadata": {},
     "output_type": "display_data"
    },
    {
     "data": {
      "text/html": [
       "Syncing run <strong><a href='https://wandb.ai/master-2024/BERT_BASE/runs/l2i86m5x' target=\"_blank\">trial-4</a></strong> to <a href='https://wandb.ai/master-2024/BERT_BASE' target=\"_blank\">Weights & Biases</a> (<a href='https://wandb.me/run' target=\"_blank\">docs</a>)<br/>"
      ],
      "text/plain": [
       "<IPython.core.display.HTML object>"
      ]
     },
     "metadata": {},
     "output_type": "display_data"
    },
    {
     "data": {
      "text/html": [
       " View project at <a href='https://wandb.ai/master-2024/BERT_BASE' target=\"_blank\">https://wandb.ai/master-2024/BERT_BASE</a>"
      ],
      "text/plain": [
       "<IPython.core.display.HTML object>"
      ]
     },
     "metadata": {},
     "output_type": "display_data"
    },
    {
     "data": {
      "text/html": [
       " View run at <a href='https://wandb.ai/master-2024/BERT_BASE/runs/l2i86m5x' target=\"_blank\">https://wandb.ai/master-2024/BERT_BASE/runs/l2i86m5x</a>"
      ],
      "text/plain": [
       "<IPython.core.display.HTML object>"
      ]
     },
     "metadata": {},
     "output_type": "display_data"
    },
    {
     "name": "stderr",
     "output_type": "stream",
     "text": [
      "/net/fs-2/scale/OrionStore/Scratch/joteklem/MyCondaEnvironments/Python3.11/orion_env/lib/python3.11/site-packages/accelerate/accelerator.py:432: FutureWarning: Passing the following arguments to `Accelerator` is deprecated and will be removed in version 1.0 of Accelerate: dict_keys(['dispatch_batches', 'split_batches', 'even_batches', 'use_seedable_sampler']). Please pass an `accelerate.DataLoaderConfiguration` instead: \n",
      "dataloader_config = DataLoaderConfiguration(dispatch_batches=None, split_batches=False, even_batches=True, use_seedable_sampler=True)\n",
      "  warnings.warn(\n",
      "Detected kernel version 3.10.0, which is below the recommended minimum of 5.5.0; this can cause the process to hang. It is recommended to upgrade the kernel to the minimum version or higher.\n"
     ]
    },
    {
     "name": "stdout",
     "output_type": "stream",
     "text": [
      "Starting trial 4\n"
     ]
    },
    {
     "data": {
      "text/html": [
       "\n",
       "    <div>\n",
       "      \n",
       "      <progress value='948' max='948' style='width:300px; height:20px; vertical-align: middle;'></progress>\n",
       "      [948/948 02:14, Epoch 2/3]\n",
       "    </div>\n",
       "    <table border=\"1\" class=\"dataframe\">\n",
       "  <thead>\n",
       " <tr style=\"text-align: left;\">\n",
       "      <th>Epoch</th>\n",
       "      <th>Training Loss</th>\n",
       "      <th>Validation Loss</th>\n",
       "      <th>Accuracy</th>\n",
       "      <th>Balanced accuracy</th>\n",
       "      <th>F1 weighted</th>\n",
       "      <th>F1 macro</th>\n",
       "      <th>F1 micro</th>\n",
       "      <th>Classification report</th>\n",
       "    </tr>\n",
       "  </thead>\n",
       "  <tbody>\n",
       "    <tr>\n",
       "      <td>0</td>\n",
       "      <td>No log</td>\n",
       "      <td>0.754453</td>\n",
       "      <td>0.712085</td>\n",
       "      <td>0.510521</td>\n",
       "      <td>0.680951</td>\n",
       "      <td>0.477557</td>\n",
       "      <td>0.712085</td>\n",
       "      <td>{'0': {'precision': 0.5650655021834061, 'recall': 0.7188888888888889, 'f1-score': 0.6327628361858191, 'support': 900.0}, '1': {'precision': 0.7875392200806813, 'recall': 0.8126734505087881, 'f1-score': 0.799908946050535, 'support': 2162.0}, '2': {'precision': 0.0, 'recall': 0.0, 'f1-score': 0.0, 'support': 314.0}, 'accuracy': 0.7120853080568721, 'macro avg': {'precision': 0.45086824075469584, 'recall': 0.5105207797992257, 'f1-score': 0.4775572607454513, 'support': 3376.0}, 'weighted avg': {'precision': 0.6549818559773396, 'recall': 0.7120853080568721, 'f1-score': 0.680950738722895, 'support': 3376.0}}</td>\n",
       "    </tr>\n",
       "    <tr>\n",
       "      <td>2</td>\n",
       "      <td>0.756600</td>\n",
       "      <td>0.705664</td>\n",
       "      <td>0.756220</td>\n",
       "      <td>0.525062</td>\n",
       "      <td>0.716933</td>\n",
       "      <td>0.506089</td>\n",
       "      <td>0.756220</td>\n",
       "      <td>{'0': {'precision': 0.6909090909090909, 'recall': 0.6755555555555556, 'f1-score': 0.6831460674157304, 'support': 900.0}, '1': {'precision': 0.7792467948717948, 'recall': 0.8996299722479186, 'f1-score': 0.8351223701159297, 'support': 2162.0}, '2': {'precision': 0.0, 'recall': 0.0, 'f1-score': 0.0, 'support': 314.0}, 'accuracy': 0.7562203791469194, 'macro avg': {'precision': 0.4900519619269619, 'recall': 0.5250618426011581, 'f1-score': 0.50608947917722, 'support': 3376.0}, 'weighted avg': {'precision': 0.6832197133681879, 'recall': 0.7562203791469194, 'f1-score': 0.716933064237203, 'support': 3376.0}}</td>\n",
       "    </tr>\n",
       "  </tbody>\n",
       "</table><p>"
      ],
      "text/plain": [
       "<IPython.core.display.HTML object>"
      ]
     },
     "metadata": {},
     "output_type": "display_data"
    },
    {
     "data": {
      "text/html": [
       "\n",
       "    <div>\n",
       "      \n",
       "      <progress value='211' max='211' style='width:300px; height:20px; vertical-align: middle;'></progress>\n",
       "      [211/211 00:03]\n",
       "    </div>\n",
       "    "
      ],
      "text/plain": [
       "<IPython.core.display.HTML object>"
      ]
     },
     "metadata": {},
     "output_type": "display_data"
    },
    {
     "name": "stderr",
     "output_type": "stream",
     "text": [
      "/net/fs-2/scale/OrionStore/Scratch/joteklem/MyCondaEnvironments/Python3.11/orion_env/lib/python3.11/site-packages/optuna/trial/_trial.py:499: UserWarning: The reported value is ignored because this `step` 2.995260663507109 is already reported.\n",
      "  warnings.warn(\n"
     ]
    },
    {
     "name": "stdout",
     "output_type": "stream",
     "text": [
      "Completed trial 4\n"
     ]
    },
    {
     "data": {
      "text/html": [
       "<style>\n",
       "    table.wandb td:nth-child(1) { padding: 0 10px; text-align: left ; width: auto;} td:nth-child(2) {text-align: left ; width: 100%}\n",
       "    .wandb-row { display: flex; flex-direction: row; flex-wrap: wrap; justify-content: flex-start; width: 100% }\n",
       "    .wandb-col { display: flex; flex-direction: column; flex-basis: 100%; flex: 1; padding: 10px; }\n",
       "    </style>\n",
       "<div class=\"wandb-row\"><div class=\"wandb-col\"><h3>Run history:</h3><br/><table class=\"wandb\"><tr><td>Training loss</td><td>▁</td></tr><tr><td>Validation loss</td><td>▁</td></tr><tr><td>Weighted F1 score</td><td>▁</td></tr><tr><td>eval/Accuracy</td><td>▁▆██</td></tr><tr><td>eval/Balanced accuracy</td><td>▁▆██</td></tr><tr><td>eval/F1 macro</td><td>▁▆██</td></tr><tr><td>eval/F1 micro</td><td>▁▆██</td></tr><tr><td>eval/F1 weighted</td><td>▁▆██</td></tr><tr><td>eval/loss</td><td>█▅▁▁</td></tr><tr><td>eval/runtime</td><td>▃▁▄█</td></tr><tr><td>eval/samples_per_second</td><td>▆█▅▁</td></tr><tr><td>eval/steps_per_second</td><td>▆█▅▁</td></tr><tr><td>train/epoch</td><td>▁▅▅███</td></tr><tr><td>train/global_step</td><td>▁▅▅█████</td></tr><tr><td>train/grad_norm</td><td>▁</td></tr><tr><td>train/learning_rate</td><td>▁</td></tr><tr><td>train/loss</td><td>▁</td></tr><tr><td>train/total_flos</td><td>▁</td></tr><tr><td>train/train_loss</td><td>▁</td></tr><tr><td>train/train_runtime</td><td>▁</td></tr><tr><td>train/train_samples_per_second</td><td>▁</td></tr><tr><td>train/train_steps_per_second</td><td>▁</td></tr></table><br/></div><div class=\"wandb-col\"><h3>Run summary:</h3><br/><table class=\"wandb\"><tr><td>Training loss</td><td>0.7566</td></tr><tr><td>Validation loss</td><td>0.73316</td></tr><tr><td>Weighted F1 score</td><td>0.50609</td></tr><tr><td>eval/Accuracy</td><td>0.75622</td></tr><tr><td>eval/Balanced accuracy</td><td>0.52506</td></tr><tr><td>eval/F1 macro</td><td>0.50609</td></tr><tr><td>eval/F1 micro</td><td>0.75622</td></tr><tr><td>eval/F1 weighted</td><td>0.71693</td></tr><tr><td>eval/loss</td><td>0.70566</td></tr><tr><td>eval/runtime</td><td>3.6476</td></tr><tr><td>eval/samples_per_second</td><td>925.55</td></tr><tr><td>eval/steps_per_second</td><td>57.847</td></tr><tr><td>train/epoch</td><td>3.0</td></tr><tr><td>train/global_step</td><td>948</td></tr><tr><td>train/grad_norm</td><td>2.7015</td></tr><tr><td>train/learning_rate</td><td>0.00033</td></tr><tr><td>train/loss</td><td>0.7566</td></tr><tr><td>train/total_flos</td><td>2138668082236224.0</td></tr><tr><td>train/train_loss</td><td>0.74248</td></tr><tr><td>train/train_runtime</td><td>135.0031</td></tr><tr><td>train/train_samples_per_second</td><td>225.061</td></tr><tr><td>train/train_steps_per_second</td><td>7.022</td></tr></table><br/></div></div>"
      ],
      "text/plain": [
       "<IPython.core.display.HTML object>"
      ]
     },
     "metadata": {},
     "output_type": "display_data"
    },
    {
     "data": {
      "text/html": [
       " View run <strong style=\"color:#cdcd00\">trial-4</strong> at: <a href='https://wandb.ai/master-2024/BERT_BASE/runs/l2i86m5x' target=\"_blank\">https://wandb.ai/master-2024/BERT_BASE/runs/l2i86m5x</a><br/>Synced 5 W&B file(s), 0 media file(s), 0 artifact file(s) and 0 other file(s)"
      ],
      "text/plain": [
       "<IPython.core.display.HTML object>"
      ]
     },
     "metadata": {},
     "output_type": "display_data"
    },
    {
     "data": {
      "text/html": [
       "Find logs at: <code>./wandb/run-20240418_132924-l2i86m5x/logs</code>"
      ],
      "text/plain": [
       "<IPython.core.display.HTML object>"
      ]
     },
     "metadata": {},
     "output_type": "display_data"
    },
    {
     "name": "stderr",
     "output_type": "stream",
     "text": [
      "[I 2024-04-18 13:31:51,866] Trial 4 finished with value: 0.50608947917722 and parameters: {'learning_rate': 0.0008411909465645721, 'per_device_train_batch_size': 16, 'weight_decay': 0.08545214831324029, 'num_train_epochs': 3, 'warmup_steps': 139}. Best is trial 1 with value: 0.7939043393020544.\n"
     ]
    },
    {
     "data": {
      "text/html": [
       "wandb version 0.16.6 is available!  To upgrade, please run:\n",
       " $ pip install wandb --upgrade"
      ],
      "text/plain": [
       "<IPython.core.display.HTML object>"
      ]
     },
     "metadata": {},
     "output_type": "display_data"
    },
    {
     "data": {
      "text/html": [
       "Tracking run with wandb version 0.16.4"
      ],
      "text/plain": [
       "<IPython.core.display.HTML object>"
      ]
     },
     "metadata": {},
     "output_type": "display_data"
    },
    {
     "data": {
      "text/html": [
       "Run data is saved locally in <code>/net/fs-2/scale/OrionStore/Home/joteklem/Pytorch_models/wandb/run-20240418_133151-qq65a6cr</code>"
      ],
      "text/plain": [
       "<IPython.core.display.HTML object>"
      ]
     },
     "metadata": {},
     "output_type": "display_data"
    },
    {
     "data": {
      "text/html": [
       "Syncing run <strong><a href='https://wandb.ai/master-2024/BERT_BASE/runs/qq65a6cr' target=\"_blank\">trial-5</a></strong> to <a href='https://wandb.ai/master-2024/BERT_BASE' target=\"_blank\">Weights & Biases</a> (<a href='https://wandb.me/run' target=\"_blank\">docs</a>)<br/>"
      ],
      "text/plain": [
       "<IPython.core.display.HTML object>"
      ]
     },
     "metadata": {},
     "output_type": "display_data"
    },
    {
     "data": {
      "text/html": [
       " View project at <a href='https://wandb.ai/master-2024/BERT_BASE' target=\"_blank\">https://wandb.ai/master-2024/BERT_BASE</a>"
      ],
      "text/plain": [
       "<IPython.core.display.HTML object>"
      ]
     },
     "metadata": {},
     "output_type": "display_data"
    },
    {
     "data": {
      "text/html": [
       " View run at <a href='https://wandb.ai/master-2024/BERT_BASE/runs/qq65a6cr' target=\"_blank\">https://wandb.ai/master-2024/BERT_BASE/runs/qq65a6cr</a>"
      ],
      "text/plain": [
       "<IPython.core.display.HTML object>"
      ]
     },
     "metadata": {},
     "output_type": "display_data"
    },
    {
     "name": "stderr",
     "output_type": "stream",
     "text": [
      "/net/fs-2/scale/OrionStore/Scratch/joteklem/MyCondaEnvironments/Python3.11/orion_env/lib/python3.11/site-packages/accelerate/accelerator.py:432: FutureWarning: Passing the following arguments to `Accelerator` is deprecated and will be removed in version 1.0 of Accelerate: dict_keys(['dispatch_batches', 'split_batches', 'even_batches', 'use_seedable_sampler']). Please pass an `accelerate.DataLoaderConfiguration` instead: \n",
      "dataloader_config = DataLoaderConfiguration(dispatch_batches=None, split_batches=False, even_batches=True, use_seedable_sampler=True)\n",
      "  warnings.warn(\n",
      "Detected kernel version 3.10.0, which is below the recommended minimum of 5.5.0; this can cause the process to hang. It is recommended to upgrade the kernel to the minimum version or higher.\n"
     ]
    },
    {
     "name": "stdout",
     "output_type": "stream",
     "text": [
      "Starting trial 5\n"
     ]
    },
    {
     "data": {
      "text/html": [
       "\n",
       "    <div>\n",
       "      \n",
       "      <progress value='159' max='632' style='width:300px; height:20px; vertical-align: middle;'></progress>\n",
       "      [159/632 00:33 < 01:40, 4.69 it/s, Epoch 1.00/4]\n",
       "    </div>\n",
       "    <table border=\"1\" class=\"dataframe\">\n",
       "  <thead>\n",
       " <tr style=\"text-align: left;\">\n",
       "      <th>Epoch</th>\n",
       "      <th>Training Loss</th>\n",
       "      <th>Validation Loss</th>\n",
       "    </tr>\n",
       "  </thead>\n",
       "  <tbody>\n",
       "  </tbody>\n",
       "</table><p>\n",
       "    <div>\n",
       "      \n",
       "      <progress value='106' max='106' style='width:300px; height:20px; vertical-align: middle;'></progress>\n",
       "      [106/106 00:03]\n",
       "    </div>\n",
       "    "
      ],
      "text/plain": [
       "<IPython.core.display.HTML object>"
      ]
     },
     "metadata": {},
     "output_type": "display_data"
    },
    {
     "name": "stderr",
     "output_type": "stream",
     "text": [
      "[I 2024-04-18 13:32:32,786] Trial 5 pruned. \n"
     ]
    },
    {
     "data": {
      "text/html": [
       "Finishing last run (ID:qq65a6cr) before initializing another..."
      ],
      "text/plain": [
       "<IPython.core.display.HTML object>"
      ]
     },
     "metadata": {},
     "output_type": "display_data"
    },
    {
     "data": {
      "text/html": [
       "<style>\n",
       "    table.wandb td:nth-child(1) { padding: 0 10px; text-align: left ; width: auto;} td:nth-child(2) {text-align: left ; width: 100%}\n",
       "    .wandb-row { display: flex; flex-direction: row; flex-wrap: wrap; justify-content: flex-start; width: 100% }\n",
       "    .wandb-col { display: flex; flex-direction: column; flex-basis: 100%; flex: 1; padding: 10px; }\n",
       "    </style>\n",
       "<div class=\"wandb-row\"><div class=\"wandb-col\"><h3>Run history:</h3><br/><table class=\"wandb\"><tr><td>eval/Accuracy</td><td>▁</td></tr><tr><td>eval/Balanced accuracy</td><td>▁</td></tr><tr><td>eval/F1 macro</td><td>▁</td></tr><tr><td>eval/F1 micro</td><td>▁</td></tr><tr><td>eval/F1 weighted</td><td>▁</td></tr><tr><td>eval/loss</td><td>▁</td></tr><tr><td>eval/runtime</td><td>▁</td></tr><tr><td>eval/samples_per_second</td><td>▁</td></tr><tr><td>eval/steps_per_second</td><td>▁</td></tr><tr><td>train/epoch</td><td>▁</td></tr><tr><td>train/global_step</td><td>▁</td></tr></table><br/></div><div class=\"wandb-col\"><h3>Run summary:</h3><br/><table class=\"wandb\"><tr><td>eval/Accuracy</td><td>0.76659</td></tr><tr><td>eval/Balanced accuracy</td><td>0.72261</td></tr><tr><td>eval/F1 macro</td><td>0.68605</td></tr><tr><td>eval/F1 micro</td><td>0.76659</td></tr><tr><td>eval/F1 weighted</td><td>0.77435</td></tr><tr><td>eval/loss</td><td>0.60367</td></tr><tr><td>eval/runtime</td><td>3.6476</td></tr><tr><td>eval/samples_per_second</td><td>925.533</td></tr><tr><td>eval/steps_per_second</td><td>29.06</td></tr><tr><td>train/epoch</td><td>1.0</td></tr><tr><td>train/global_step</td><td>158</td></tr></table><br/></div></div>"
      ],
      "text/plain": [
       "<IPython.core.display.HTML object>"
      ]
     },
     "metadata": {},
     "output_type": "display_data"
    },
    {
     "data": {
      "text/html": [
       " View run <strong style=\"color:#cdcd00\">trial-5</strong> at: <a href='https://wandb.ai/master-2024/BERT_BASE/runs/qq65a6cr' target=\"_blank\">https://wandb.ai/master-2024/BERT_BASE/runs/qq65a6cr</a><br/>Synced 5 W&B file(s), 0 media file(s), 0 artifact file(s) and 0 other file(s)"
      ],
      "text/plain": [
       "<IPython.core.display.HTML object>"
      ]
     },
     "metadata": {},
     "output_type": "display_data"
    },
    {
     "data": {
      "text/html": [
       "Find logs at: <code>./wandb/run-20240418_133151-qq65a6cr/logs</code>"
      ],
      "text/plain": [
       "<IPython.core.display.HTML object>"
      ]
     },
     "metadata": {},
     "output_type": "display_data"
    },
    {
     "data": {
      "text/html": [
       "Successfully finished last run (ID:qq65a6cr). Initializing new run:<br/>"
      ],
      "text/plain": [
       "<IPython.core.display.HTML object>"
      ]
     },
     "metadata": {},
     "output_type": "display_data"
    },
    {
     "data": {
      "text/html": [
       "wandb version 0.16.6 is available!  To upgrade, please run:\n",
       " $ pip install wandb --upgrade"
      ],
      "text/plain": [
       "<IPython.core.display.HTML object>"
      ]
     },
     "metadata": {},
     "output_type": "display_data"
    },
    {
     "data": {
      "text/html": [
       "Tracking run with wandb version 0.16.4"
      ],
      "text/plain": [
       "<IPython.core.display.HTML object>"
      ]
     },
     "metadata": {},
     "output_type": "display_data"
    },
    {
     "data": {
      "text/html": [
       "Run data is saved locally in <code>/net/fs-2/scale/OrionStore/Home/joteklem/Pytorch_models/wandb/run-20240418_133232-yrsp3fib</code>"
      ],
      "text/plain": [
       "<IPython.core.display.HTML object>"
      ]
     },
     "metadata": {},
     "output_type": "display_data"
    },
    {
     "data": {
      "text/html": [
       "Syncing run <strong><a href='https://wandb.ai/master-2024/BERT_BASE/runs/yrsp3fib' target=\"_blank\">trial-6</a></strong> to <a href='https://wandb.ai/master-2024/BERT_BASE' target=\"_blank\">Weights & Biases</a> (<a href='https://wandb.me/run' target=\"_blank\">docs</a>)<br/>"
      ],
      "text/plain": [
       "<IPython.core.display.HTML object>"
      ]
     },
     "metadata": {},
     "output_type": "display_data"
    },
    {
     "data": {
      "text/html": [
       " View project at <a href='https://wandb.ai/master-2024/BERT_BASE' target=\"_blank\">https://wandb.ai/master-2024/BERT_BASE</a>"
      ],
      "text/plain": [
       "<IPython.core.display.HTML object>"
      ]
     },
     "metadata": {},
     "output_type": "display_data"
    },
    {
     "data": {
      "text/html": [
       " View run at <a href='https://wandb.ai/master-2024/BERT_BASE/runs/yrsp3fib' target=\"_blank\">https://wandb.ai/master-2024/BERT_BASE/runs/yrsp3fib</a>"
      ],
      "text/plain": [
       "<IPython.core.display.HTML object>"
      ]
     },
     "metadata": {},
     "output_type": "display_data"
    },
    {
     "name": "stdout",
     "output_type": "stream",
     "text": [
      "Starting trial 6\n"
     ]
    },
    {
     "name": "stderr",
     "output_type": "stream",
     "text": [
      "/net/fs-2/scale/OrionStore/Scratch/joteklem/MyCondaEnvironments/Python3.11/orion_env/lib/python3.11/site-packages/accelerate/accelerator.py:432: FutureWarning: Passing the following arguments to `Accelerator` is deprecated and will be removed in version 1.0 of Accelerate: dict_keys(['dispatch_batches', 'split_batches', 'even_batches', 'use_seedable_sampler']). Please pass an `accelerate.DataLoaderConfiguration` instead: \n",
      "dataloader_config = DataLoaderConfiguration(dispatch_batches=None, split_batches=False, even_batches=True, use_seedable_sampler=True)\n",
      "  warnings.warn(\n",
      "Detected kernel version 3.10.0, which is below the recommended minimum of 5.5.0; this can cause the process to hang. It is recommended to upgrade the kernel to the minimum version or higher.\n"
     ]
    },
    {
     "data": {
      "text/html": [
       "\n",
       "    <div>\n",
       "      \n",
       "      <progress value='632' max='632' style='width:300px; height:20px; vertical-align: middle;'></progress>\n",
       "      [632/632 01:34, Epoch 1/2]\n",
       "    </div>\n",
       "    <table border=\"1\" class=\"dataframe\">\n",
       "  <thead>\n",
       " <tr style=\"text-align: left;\">\n",
       "      <th>Epoch</th>\n",
       "      <th>Training Loss</th>\n",
       "      <th>Validation Loss</th>\n",
       "      <th>Accuracy</th>\n",
       "      <th>Balanced accuracy</th>\n",
       "      <th>F1 weighted</th>\n",
       "      <th>F1 macro</th>\n",
       "      <th>F1 micro</th>\n",
       "      <th>Classification report</th>\n",
       "    </tr>\n",
       "  </thead>\n",
       "  <tbody>\n",
       "    <tr>\n",
       "      <td>0</td>\n",
       "      <td>No log</td>\n",
       "      <td>0.465046</td>\n",
       "      <td>0.828791</td>\n",
       "      <td>0.733340</td>\n",
       "      <td>0.824083</td>\n",
       "      <td>0.756473</td>\n",
       "      <td>0.828791</td>\n",
       "      <td>{'0': {'precision': 0.8191489361702128, 'recall': 0.6844444444444444, 'f1-score': 0.7457627118644068, 'support': 900.0}, '1': {'precision': 0.8468392023759016, 'recall': 0.9232192414431082, 'f1-score': 0.8833812790440363, 'support': 2162.0}, '2': {'precision': 0.6966292134831461, 'recall': 0.5923566878980892, 'f1-score': 0.6402753872633391, 'support': 314.0}, 'accuracy': 0.8287914691943128, 'macro avg': {'precision': 0.7875391173430869, 'recall': 0.7333401245952139, 'f1-score': 0.7564731260572607, 'support': 3376.0}, 'weighted avg': {'precision': 0.8254863658541466, 'recall': 0.8287914691943128, 'f1-score': 0.8240827125509067, 'support': 3376.0}}</td>\n",
       "    </tr>\n",
       "    <tr>\n",
       "      <td>1</td>\n",
       "      <td>No log</td>\n",
       "      <td>0.410097</td>\n",
       "      <td>0.843602</td>\n",
       "      <td>0.775707</td>\n",
       "      <td>0.841033</td>\n",
       "      <td>0.788069</td>\n",
       "      <td>0.843602</td>\n",
       "      <td>{'0': {'precision': 0.8106060606060606, 'recall': 0.7133333333333334, 'f1-score': 0.7588652482269503, 'support': 900.0}, '1': {'precision': 0.8700218818380744, 'recall': 0.9195189639222942, 'f1-score': 0.8940859006071509, 'support': 2162.0}, '2': {'precision': 0.7290969899665551, 'recall': 0.6942675159235668, 'f1-score': 0.7112561174551386, 'support': 314.0}, 'accuracy': 0.8436018957345972, 'macro avg': {'precision': 0.8032416441368967, 'recall': 0.7757066043930648, 'f1-score': 0.78806908876308, 'support': 3376.0}, 'weighted avg': {'precision': 0.8410750053106841, 'recall': 0.8436018957345972, 'f1-score': 0.8410328380917741, 'support': 3376.0}}</td>\n",
       "    </tr>\n",
       "  </tbody>\n",
       "</table><p>"
      ],
      "text/plain": [
       "<IPython.core.display.HTML object>"
      ]
     },
     "metadata": {},
     "output_type": "display_data"
    },
    {
     "data": {
      "text/html": [
       "\n",
       "    <div>\n",
       "      \n",
       "      <progress value='211' max='211' style='width:300px; height:20px; vertical-align: middle;'></progress>\n",
       "      [211/211 00:03]\n",
       "    </div>\n",
       "    "
      ],
      "text/plain": [
       "<IPython.core.display.HTML object>"
      ]
     },
     "metadata": {},
     "output_type": "display_data"
    },
    {
     "name": "stderr",
     "output_type": "stream",
     "text": [
      "/net/fs-2/scale/OrionStore/Scratch/joteklem/MyCondaEnvironments/Python3.11/orion_env/lib/python3.11/site-packages/optuna/trial/_trial.py:499: UserWarning: The reported value is ignored because this `step` 1.9968404423380726 is already reported.\n",
      "  warnings.warn(\n"
     ]
    },
    {
     "name": "stdout",
     "output_type": "stream",
     "text": [
      "Completed trial 6\n"
     ]
    },
    {
     "data": {
      "text/html": [
       "<style>\n",
       "    table.wandb td:nth-child(1) { padding: 0 10px; text-align: left ; width: auto;} td:nth-child(2) {text-align: left ; width: 100%}\n",
       "    .wandb-row { display: flex; flex-direction: row; flex-wrap: wrap; justify-content: flex-start; width: 100% }\n",
       "    .wandb-col { display: flex; flex-direction: column; flex-basis: 100%; flex: 1; padding: 10px; }\n",
       "    </style>\n",
       "<div class=\"wandb-row\"><div class=\"wandb-col\"><h3>Run history:</h3><br/><table class=\"wandb\"><tr><td>Training loss</td><td>▁</td></tr><tr><td>Validation loss</td><td>▁</td></tr><tr><td>Weighted F1 score</td><td>▁</td></tr><tr><td>eval/Accuracy</td><td>▁██</td></tr><tr><td>eval/Balanced accuracy</td><td>▁██</td></tr><tr><td>eval/F1 macro</td><td>▁██</td></tr><tr><td>eval/F1 micro</td><td>▁██</td></tr><tr><td>eval/F1 weighted</td><td>▁██</td></tr><tr><td>eval/loss</td><td>█▁▁</td></tr><tr><td>eval/runtime</td><td>▁▂█</td></tr><tr><td>eval/samples_per_second</td><td>█▇▁</td></tr><tr><td>eval/steps_per_second</td><td>█▇▁</td></tr><tr><td>train/epoch</td><td>▁███</td></tr><tr><td>train/global_step</td><td>▁█████</td></tr><tr><td>train/total_flos</td><td>▁</td></tr><tr><td>train/train_loss</td><td>▁</td></tr><tr><td>train/train_runtime</td><td>▁</td></tr><tr><td>train/train_samples_per_second</td><td>▁</td></tr><tr><td>train/train_steps_per_second</td><td>▁</td></tr></table><br/></div><div class=\"wandb-col\"><h3>Run summary:</h3><br/><table class=\"wandb\"><tr><td>Training loss</td><td>0.7566</td></tr><tr><td>Validation loss</td><td>0.46505</td></tr><tr><td>Weighted F1 score</td><td>0.78807</td></tr><tr><td>eval/Accuracy</td><td>0.8436</td></tr><tr><td>eval/Balanced accuracy</td><td>0.77571</td></tr><tr><td>eval/F1 macro</td><td>0.78807</td></tr><tr><td>eval/F1 micro</td><td>0.8436</td></tr><tr><td>eval/F1 weighted</td><td>0.84103</td></tr><tr><td>eval/loss</td><td>0.4101</td></tr><tr><td>eval/runtime</td><td>3.6653</td></tr><tr><td>eval/samples_per_second</td><td>921.078</td></tr><tr><td>eval/steps_per_second</td><td>57.567</td></tr><tr><td>train/epoch</td><td>2.0</td></tr><tr><td>train/global_step</td><td>632</td></tr><tr><td>train/total_flos</td><td>1427012065636416.0</td></tr><tr><td>train/train_loss</td><td>0.51673</td></tr><tr><td>train/train_runtime</td><td>94.9335</td></tr><tr><td>train/train_samples_per_second</td><td>213.37</td></tr><tr><td>train/train_steps_per_second</td><td>6.657</td></tr></table><br/></div></div>"
      ],
      "text/plain": [
       "<IPython.core.display.HTML object>"
      ]
     },
     "metadata": {},
     "output_type": "display_data"
    },
    {
     "data": {
      "text/html": [
       " View run <strong style=\"color:#cdcd00\">trial-6</strong> at: <a href='https://wandb.ai/master-2024/BERT_BASE/runs/yrsp3fib' target=\"_blank\">https://wandb.ai/master-2024/BERT_BASE/runs/yrsp3fib</a><br/>Synced 5 W&B file(s), 0 media file(s), 0 artifact file(s) and 0 other file(s)"
      ],
      "text/plain": [
       "<IPython.core.display.HTML object>"
      ]
     },
     "metadata": {},
     "output_type": "display_data"
    },
    {
     "data": {
      "text/html": [
       "Find logs at: <code>./wandb/run-20240418_133232-yrsp3fib/logs</code>"
      ],
      "text/plain": [
       "<IPython.core.display.HTML object>"
      ]
     },
     "metadata": {},
     "output_type": "display_data"
    },
    {
     "name": "stderr",
     "output_type": "stream",
     "text": [
      "[I 2024-04-18 13:34:24,687] Trial 6 finished with value: 0.78806908876308 and parameters: {'learning_rate': 5.439591236568524e-05, 'per_device_train_batch_size': 16, 'weight_decay': 0.02708693101632249, 'num_train_epochs': 2, 'warmup_steps': 296}. Best is trial 1 with value: 0.7939043393020544.\n"
     ]
    },
    {
     "data": {
      "text/html": [
       "wandb version 0.16.6 is available!  To upgrade, please run:\n",
       " $ pip install wandb --upgrade"
      ],
      "text/plain": [
       "<IPython.core.display.HTML object>"
      ]
     },
     "metadata": {},
     "output_type": "display_data"
    },
    {
     "data": {
      "text/html": [
       "Tracking run with wandb version 0.16.4"
      ],
      "text/plain": [
       "<IPython.core.display.HTML object>"
      ]
     },
     "metadata": {},
     "output_type": "display_data"
    },
    {
     "data": {
      "text/html": [
       "Run data is saved locally in <code>/net/fs-2/scale/OrionStore/Home/joteklem/Pytorch_models/wandb/run-20240418_133424-oa6yyhqf</code>"
      ],
      "text/plain": [
       "<IPython.core.display.HTML object>"
      ]
     },
     "metadata": {},
     "output_type": "display_data"
    },
    {
     "data": {
      "text/html": [
       "Syncing run <strong><a href='https://wandb.ai/master-2024/BERT_BASE/runs/oa6yyhqf' target=\"_blank\">trial-7</a></strong> to <a href='https://wandb.ai/master-2024/BERT_BASE' target=\"_blank\">Weights & Biases</a> (<a href='https://wandb.me/run' target=\"_blank\">docs</a>)<br/>"
      ],
      "text/plain": [
       "<IPython.core.display.HTML object>"
      ]
     },
     "metadata": {},
     "output_type": "display_data"
    },
    {
     "data": {
      "text/html": [
       " View project at <a href='https://wandb.ai/master-2024/BERT_BASE' target=\"_blank\">https://wandb.ai/master-2024/BERT_BASE</a>"
      ],
      "text/plain": [
       "<IPython.core.display.HTML object>"
      ]
     },
     "metadata": {},
     "output_type": "display_data"
    },
    {
     "data": {
      "text/html": [
       " View run at <a href='https://wandb.ai/master-2024/BERT_BASE/runs/oa6yyhqf' target=\"_blank\">https://wandb.ai/master-2024/BERT_BASE/runs/oa6yyhqf</a>"
      ],
      "text/plain": [
       "<IPython.core.display.HTML object>"
      ]
     },
     "metadata": {},
     "output_type": "display_data"
    },
    {
     "name": "stderr",
     "output_type": "stream",
     "text": [
      "/net/fs-2/scale/OrionStore/Scratch/joteklem/MyCondaEnvironments/Python3.11/orion_env/lib/python3.11/site-packages/accelerate/accelerator.py:432: FutureWarning: Passing the following arguments to `Accelerator` is deprecated and will be removed in version 1.0 of Accelerate: dict_keys(['dispatch_batches', 'split_batches', 'even_batches', 'use_seedable_sampler']). Please pass an `accelerate.DataLoaderConfiguration` instead: \n",
      "dataloader_config = DataLoaderConfiguration(dispatch_batches=None, split_batches=False, even_batches=True, use_seedable_sampler=True)\n",
      "  warnings.warn(\n",
      "Detected kernel version 3.10.0, which is below the recommended minimum of 5.5.0; this can cause the process to hang. It is recommended to upgrade the kernel to the minimum version or higher.\n"
     ]
    },
    {
     "name": "stdout",
     "output_type": "stream",
     "text": [
      "Starting trial 7\n"
     ]
    },
    {
     "data": {
      "text/html": [
       "\n",
       "    <div>\n",
       "      \n",
       "      <progress value='317' max='1580' style='width:300px; height:20px; vertical-align: middle;'></progress>\n",
       "      [ 317/1580 00:36 < 02:27, 8.55 it/s, Epoch 1.00/5]\n",
       "    </div>\n",
       "    <table border=\"1\" class=\"dataframe\">\n",
       "  <thead>\n",
       " <tr style=\"text-align: left;\">\n",
       "      <th>Epoch</th>\n",
       "      <th>Training Loss</th>\n",
       "      <th>Validation Loss</th>\n",
       "    </tr>\n",
       "  </thead>\n",
       "  <tbody>\n",
       "  </tbody>\n",
       "</table><p>\n",
       "    <div>\n",
       "      \n",
       "      <progress value='211' max='211' style='width:300px; height:20px; vertical-align: middle;'></progress>\n",
       "      [211/211 00:03]\n",
       "    </div>\n",
       "    "
      ],
      "text/plain": [
       "<IPython.core.display.HTML object>"
      ]
     },
     "metadata": {},
     "output_type": "display_data"
    },
    {
     "name": "stderr",
     "output_type": "stream",
     "text": [
      "[I 2024-04-18 13:35:09,031] Trial 7 pruned. \n"
     ]
    },
    {
     "data": {
      "text/html": [
       "Finishing last run (ID:oa6yyhqf) before initializing another..."
      ],
      "text/plain": [
       "<IPython.core.display.HTML object>"
      ]
     },
     "metadata": {},
     "output_type": "display_data"
    },
    {
     "data": {
      "text/html": [
       "<style>\n",
       "    table.wandb td:nth-child(1) { padding: 0 10px; text-align: left ; width: auto;} td:nth-child(2) {text-align: left ; width: 100%}\n",
       "    .wandb-row { display: flex; flex-direction: row; flex-wrap: wrap; justify-content: flex-start; width: 100% }\n",
       "    .wandb-col { display: flex; flex-direction: column; flex-basis: 100%; flex: 1; padding: 10px; }\n",
       "    </style>\n",
       "<div class=\"wandb-row\"><div class=\"wandb-col\"><h3>Run history:</h3><br/><table class=\"wandb\"><tr><td>eval/Accuracy</td><td>▁</td></tr><tr><td>eval/Balanced accuracy</td><td>▁</td></tr><tr><td>eval/F1 macro</td><td>▁</td></tr><tr><td>eval/F1 micro</td><td>▁</td></tr><tr><td>eval/F1 weighted</td><td>▁</td></tr><tr><td>eval/loss</td><td>▁</td></tr><tr><td>eval/runtime</td><td>▁</td></tr><tr><td>eval/samples_per_second</td><td>▁</td></tr><tr><td>eval/steps_per_second</td><td>▁</td></tr><tr><td>train/epoch</td><td>▁</td></tr><tr><td>train/global_step</td><td>▁</td></tr></table><br/></div><div class=\"wandb-col\"><h3>Run summary:</h3><br/><table class=\"wandb\"><tr><td>eval/Accuracy</td><td>0.77725</td></tr><tr><td>eval/Balanced accuracy</td><td>0.5226</td></tr><tr><td>eval/F1 macro</td><td>0.51751</td></tr><tr><td>eval/F1 micro</td><td>0.77725</td></tr><tr><td>eval/F1 weighted</td><td>0.73224</td></tr><tr><td>eval/loss</td><td>0.67984</td></tr><tr><td>eval/runtime</td><td>3.6194</td></tr><tr><td>eval/samples_per_second</td><td>932.74</td></tr><tr><td>eval/steps_per_second</td><td>58.296</td></tr><tr><td>train/epoch</td><td>1.0</td></tr><tr><td>train/global_step</td><td>316</td></tr></table><br/></div></div>"
      ],
      "text/plain": [
       "<IPython.core.display.HTML object>"
      ]
     },
     "metadata": {},
     "output_type": "display_data"
    },
    {
     "data": {
      "text/html": [
       " View run <strong style=\"color:#cdcd00\">trial-7</strong> at: <a href='https://wandb.ai/master-2024/BERT_BASE/runs/oa6yyhqf' target=\"_blank\">https://wandb.ai/master-2024/BERT_BASE/runs/oa6yyhqf</a><br/>Synced 5 W&B file(s), 0 media file(s), 0 artifact file(s) and 0 other file(s)"
      ],
      "text/plain": [
       "<IPython.core.display.HTML object>"
      ]
     },
     "metadata": {},
     "output_type": "display_data"
    },
    {
     "data": {
      "text/html": [
       "Find logs at: <code>./wandb/run-20240418_133424-oa6yyhqf/logs</code>"
      ],
      "text/plain": [
       "<IPython.core.display.HTML object>"
      ]
     },
     "metadata": {},
     "output_type": "display_data"
    },
    {
     "data": {
      "text/html": [
       "Successfully finished last run (ID:oa6yyhqf). Initializing new run:<br/>"
      ],
      "text/plain": [
       "<IPython.core.display.HTML object>"
      ]
     },
     "metadata": {},
     "output_type": "display_data"
    },
    {
     "data": {
      "text/html": [
       "wandb version 0.16.6 is available!  To upgrade, please run:\n",
       " $ pip install wandb --upgrade"
      ],
      "text/plain": [
       "<IPython.core.display.HTML object>"
      ]
     },
     "metadata": {},
     "output_type": "display_data"
    },
    {
     "data": {
      "text/html": [
       "Tracking run with wandb version 0.16.4"
      ],
      "text/plain": [
       "<IPython.core.display.HTML object>"
      ]
     },
     "metadata": {},
     "output_type": "display_data"
    },
    {
     "data": {
      "text/html": [
       "Run data is saved locally in <code>/net/fs-2/scale/OrionStore/Home/joteklem/Pytorch_models/wandb/run-20240418_133509-kzx3katw</code>"
      ],
      "text/plain": [
       "<IPython.core.display.HTML object>"
      ]
     },
     "metadata": {},
     "output_type": "display_data"
    },
    {
     "data": {
      "text/html": [
       "Syncing run <strong><a href='https://wandb.ai/master-2024/BERT_BASE/runs/kzx3katw' target=\"_blank\">trial-8</a></strong> to <a href='https://wandb.ai/master-2024/BERT_BASE' target=\"_blank\">Weights & Biases</a> (<a href='https://wandb.me/run' target=\"_blank\">docs</a>)<br/>"
      ],
      "text/plain": [
       "<IPython.core.display.HTML object>"
      ]
     },
     "metadata": {},
     "output_type": "display_data"
    },
    {
     "data": {
      "text/html": [
       " View project at <a href='https://wandb.ai/master-2024/BERT_BASE' target=\"_blank\">https://wandb.ai/master-2024/BERT_BASE</a>"
      ],
      "text/plain": [
       "<IPython.core.display.HTML object>"
      ]
     },
     "metadata": {},
     "output_type": "display_data"
    },
    {
     "data": {
      "text/html": [
       " View run at <a href='https://wandb.ai/master-2024/BERT_BASE/runs/kzx3katw' target=\"_blank\">https://wandb.ai/master-2024/BERT_BASE/runs/kzx3katw</a>"
      ],
      "text/plain": [
       "<IPython.core.display.HTML object>"
      ]
     },
     "metadata": {},
     "output_type": "display_data"
    },
    {
     "name": "stderr",
     "output_type": "stream",
     "text": [
      "/net/fs-2/scale/OrionStore/Scratch/joteklem/MyCondaEnvironments/Python3.11/orion_env/lib/python3.11/site-packages/accelerate/accelerator.py:432: FutureWarning: Passing the following arguments to `Accelerator` is deprecated and will be removed in version 1.0 of Accelerate: dict_keys(['dispatch_batches', 'split_batches', 'even_batches', 'use_seedable_sampler']). Please pass an `accelerate.DataLoaderConfiguration` instead: \n",
      "dataloader_config = DataLoaderConfiguration(dispatch_batches=None, split_batches=False, even_batches=True, use_seedable_sampler=True)\n",
      "  warnings.warn(\n",
      "Detected kernel version 3.10.0, which is below the recommended minimum of 5.5.0; this can cause the process to hang. It is recommended to upgrade the kernel to the minimum version or higher.\n"
     ]
    },
    {
     "name": "stdout",
     "output_type": "stream",
     "text": [
      "Starting trial 8\n"
     ]
    },
    {
     "data": {
      "text/html": [
       "\n",
       "    <div>\n",
       "      \n",
       "      <progress value='948' max='948' style='width:300px; height:20px; vertical-align: middle;'></progress>\n",
       "      [948/948 02:16, Epoch 2/3]\n",
       "    </div>\n",
       "    <table border=\"1\" class=\"dataframe\">\n",
       "  <thead>\n",
       " <tr style=\"text-align: left;\">\n",
       "      <th>Epoch</th>\n",
       "      <th>Training Loss</th>\n",
       "      <th>Validation Loss</th>\n",
       "      <th>Accuracy</th>\n",
       "      <th>Balanced accuracy</th>\n",
       "      <th>F1 weighted</th>\n",
       "      <th>F1 macro</th>\n",
       "      <th>F1 micro</th>\n",
       "      <th>Classification report</th>\n",
       "    </tr>\n",
       "  </thead>\n",
       "  <tbody>\n",
       "    <tr>\n",
       "      <td>0</td>\n",
       "      <td>No log</td>\n",
       "      <td>0.459431</td>\n",
       "      <td>0.824645</td>\n",
       "      <td>0.780960</td>\n",
       "      <td>0.825846</td>\n",
       "      <td>0.760521</td>\n",
       "      <td>0.824645</td>\n",
       "      <td>{'0': {'precision': 0.8071979434447301, 'recall': 0.6977777777777778, 'f1-score': 0.7485101311084624, 'support': 900.0}, '1': {'precision': 0.88022028453419, 'recall': 0.8871415356151712, 'f1-score': 0.8836673577516703, 'support': 2162.0}, '2': {'precision': 0.568019093078759, 'recall': 0.7579617834394905, 'f1-score': 0.6493860845839018, 'support': 314.0}, 'accuracy': 0.8246445497630331, 'macro avg': {'precision': 0.7518124403525596, 'recall': 0.7809603656108132, 'f1-score': 0.7605211911480115, 'support': 3376.0}, 'weighted avg': {'precision': 0.8317157581427447, 'recall': 0.8246445497630331, 'f1-score': 0.8258457274929123, 'support': 3376.0}}</td>\n",
       "    </tr>\n",
       "    <tr>\n",
       "      <td>2</td>\n",
       "      <td>0.490900</td>\n",
       "      <td>0.480102</td>\n",
       "      <td>0.840640</td>\n",
       "      <td>0.775894</td>\n",
       "      <td>0.838565</td>\n",
       "      <td>0.788020</td>\n",
       "      <td>0.840640</td>\n",
       "      <td>{'0': {'precision': 0.7869249394673123, 'recall': 0.7222222222222222, 'f1-score': 0.7531865585168017, 'support': 900.0}, '1': {'precision': 0.8724534986713907, 'recall': 0.9111933395004626, 'f1-score': 0.8914027149321267, 'support': 2162.0}, '2': {'precision': 0.7465753424657534, 'recall': 0.6942675159235668, 'f1-score': 0.7194719471947194, 'support': 314.0}, 'accuracy': 0.8406398104265402, 'macro avg': {'precision': 0.8019845935348188, 'recall': 0.7758943592154172, 'f1-score': 0.7880204068812159, 'support': 3376.0}, 'weighted avg': {'precision': 0.8379447770089972, 'recall': 0.8406398104265402, 'f1-score': 0.838564799694171, 'support': 3376.0}}</td>\n",
       "    </tr>\n",
       "  </tbody>\n",
       "</table><p>"
      ],
      "text/plain": [
       "<IPython.core.display.HTML object>"
      ]
     },
     "metadata": {},
     "output_type": "display_data"
    },
    {
     "data": {
      "text/html": [
       "\n",
       "    <div>\n",
       "      \n",
       "      <progress value='211' max='211' style='width:300px; height:20px; vertical-align: middle;'></progress>\n",
       "      [211/211 00:03]\n",
       "    </div>\n",
       "    "
      ],
      "text/plain": [
       "<IPython.core.display.HTML object>"
      ]
     },
     "metadata": {},
     "output_type": "display_data"
    },
    {
     "name": "stderr",
     "output_type": "stream",
     "text": [
      "/net/fs-2/scale/OrionStore/Scratch/joteklem/MyCondaEnvironments/Python3.11/orion_env/lib/python3.11/site-packages/optuna/trial/_trial.py:499: UserWarning: The reported value is ignored because this `step` 2.995260663507109 is already reported.\n",
      "  warnings.warn(\n"
     ]
    },
    {
     "name": "stdout",
     "output_type": "stream",
     "text": [
      "Completed trial 8\n"
     ]
    },
    {
     "data": {
      "text/html": [
       "<style>\n",
       "    table.wandb td:nth-child(1) { padding: 0 10px; text-align: left ; width: auto;} td:nth-child(2) {text-align: left ; width: 100%}\n",
       "    .wandb-row { display: flex; flex-direction: row; flex-wrap: wrap; justify-content: flex-start; width: 100% }\n",
       "    .wandb-col { display: flex; flex-direction: column; flex-basis: 100%; flex: 1; padding: 10px; }\n",
       "    </style>\n",
       "<div class=\"wandb-row\"><div class=\"wandb-col\"><h3>Run history:</h3><br/><table class=\"wandb\"><tr><td>Training loss</td><td>▁</td></tr><tr><td>Validation loss</td><td>▁</td></tr><tr><td>Weighted F1 score</td><td>▁</td></tr><tr><td>eval/Accuracy</td><td>▁▆██</td></tr><tr><td>eval/Balanced accuracy</td><td>█▁▇▇</td></tr><tr><td>eval/F1 macro</td><td>▁▃██</td></tr><tr><td>eval/F1 micro</td><td>▁▆██</td></tr><tr><td>eval/F1 weighted</td><td>▁▃██</td></tr><tr><td>eval/loss</td><td>▄▁██</td></tr><tr><td>eval/runtime</td><td>▄▁▅█</td></tr><tr><td>eval/samples_per_second</td><td>▅█▄▁</td></tr><tr><td>eval/steps_per_second</td><td>▅█▄▁</td></tr><tr><td>train/epoch</td><td>▁▅▅███</td></tr><tr><td>train/global_step</td><td>▁▅▅█████</td></tr><tr><td>train/grad_norm</td><td>▁</td></tr><tr><td>train/learning_rate</td><td>▁</td></tr><tr><td>train/loss</td><td>▁</td></tr><tr><td>train/total_flos</td><td>▁</td></tr><tr><td>train/train_loss</td><td>▁</td></tr><tr><td>train/train_runtime</td><td>▁</td></tr><tr><td>train/train_samples_per_second</td><td>▁</td></tr><tr><td>train/train_steps_per_second</td><td>▁</td></tr></table><br/></div><div class=\"wandb-col\"><h3>Run summary:</h3><br/><table class=\"wandb\"><tr><td>Training loss</td><td>0.4909</td></tr><tr><td>Validation loss</td><td>0.43893</td></tr><tr><td>Weighted F1 score</td><td>0.78802</td></tr><tr><td>eval/Accuracy</td><td>0.84064</td></tr><tr><td>eval/Balanced accuracy</td><td>0.77589</td></tr><tr><td>eval/F1 macro</td><td>0.78802</td></tr><tr><td>eval/F1 micro</td><td>0.84064</td></tr><tr><td>eval/F1 weighted</td><td>0.83856</td></tr><tr><td>eval/loss</td><td>0.4801</td></tr><tr><td>eval/runtime</td><td>3.666</td></tr><tr><td>eval/samples_per_second</td><td>920.901</td></tr><tr><td>eval/steps_per_second</td><td>57.556</td></tr><tr><td>train/epoch</td><td>3.0</td></tr><tr><td>train/global_step</td><td>948</td></tr><tr><td>train/grad_norm</td><td>5.61958</td></tr><tr><td>train/learning_rate</td><td>2e-05</td></tr><tr><td>train/loss</td><td>0.4909</td></tr><tr><td>train/total_flos</td><td>2138668082236224.0</td></tr><tr><td>train/train_loss</td><td>0.40812</td></tr><tr><td>train/train_runtime</td><td>136.2101</td></tr><tr><td>train/train_samples_per_second</td><td>223.067</td></tr><tr><td>train/train_steps_per_second</td><td>6.96</td></tr></table><br/></div></div>"
      ],
      "text/plain": [
       "<IPython.core.display.HTML object>"
      ]
     },
     "metadata": {},
     "output_type": "display_data"
    },
    {
     "data": {
      "text/html": [
       " View run <strong style=\"color:#cdcd00\">trial-8</strong> at: <a href='https://wandb.ai/master-2024/BERT_BASE/runs/kzx3katw' target=\"_blank\">https://wandb.ai/master-2024/BERT_BASE/runs/kzx3katw</a><br/>Synced 5 W&B file(s), 0 media file(s), 0 artifact file(s) and 0 other file(s)"
      ],
      "text/plain": [
       "<IPython.core.display.HTML object>"
      ]
     },
     "metadata": {},
     "output_type": "display_data"
    },
    {
     "data": {
      "text/html": [
       "Find logs at: <code>./wandb/run-20240418_133509-kzx3katw/logs</code>"
      ],
      "text/plain": [
       "<IPython.core.display.HTML object>"
      ]
     },
     "metadata": {},
     "output_type": "display_data"
    },
    {
     "name": "stderr",
     "output_type": "stream",
     "text": [
      "[I 2024-04-18 13:37:40,419] Trial 8 finished with value: 0.7880204068812159 and parameters: {'learning_rate': 4.809862951501382e-05, 'per_device_train_batch_size': 16, 'weight_decay': 0.07738248831454668, 'num_train_epochs': 3, 'warmup_steps': 121}. Best is trial 1 with value: 0.7939043393020544.\n"
     ]
    },
    {
     "data": {
      "text/html": [
       "wandb version 0.16.6 is available!  To upgrade, please run:\n",
       " $ pip install wandb --upgrade"
      ],
      "text/plain": [
       "<IPython.core.display.HTML object>"
      ]
     },
     "metadata": {},
     "output_type": "display_data"
    },
    {
     "data": {
      "text/html": [
       "Tracking run with wandb version 0.16.4"
      ],
      "text/plain": [
       "<IPython.core.display.HTML object>"
      ]
     },
     "metadata": {},
     "output_type": "display_data"
    },
    {
     "data": {
      "text/html": [
       "Run data is saved locally in <code>/net/fs-2/scale/OrionStore/Home/joteklem/Pytorch_models/wandb/run-20240418_133740-8ape9vi1</code>"
      ],
      "text/plain": [
       "<IPython.core.display.HTML object>"
      ]
     },
     "metadata": {},
     "output_type": "display_data"
    },
    {
     "data": {
      "text/html": [
       "Syncing run <strong><a href='https://wandb.ai/master-2024/BERT_BASE/runs/8ape9vi1' target=\"_blank\">trial-9</a></strong> to <a href='https://wandb.ai/master-2024/BERT_BASE' target=\"_blank\">Weights & Biases</a> (<a href='https://wandb.me/run' target=\"_blank\">docs</a>)<br/>"
      ],
      "text/plain": [
       "<IPython.core.display.HTML object>"
      ]
     },
     "metadata": {},
     "output_type": "display_data"
    },
    {
     "data": {
      "text/html": [
       " View project at <a href='https://wandb.ai/master-2024/BERT_BASE' target=\"_blank\">https://wandb.ai/master-2024/BERT_BASE</a>"
      ],
      "text/plain": [
       "<IPython.core.display.HTML object>"
      ]
     },
     "metadata": {},
     "output_type": "display_data"
    },
    {
     "data": {
      "text/html": [
       " View run at <a href='https://wandb.ai/master-2024/BERT_BASE/runs/8ape9vi1' target=\"_blank\">https://wandb.ai/master-2024/BERT_BASE/runs/8ape9vi1</a>"
      ],
      "text/plain": [
       "<IPython.core.display.HTML object>"
      ]
     },
     "metadata": {},
     "output_type": "display_data"
    },
    {
     "name": "stderr",
     "output_type": "stream",
     "text": [
      "/net/fs-2/scale/OrionStore/Scratch/joteklem/MyCondaEnvironments/Python3.11/orion_env/lib/python3.11/site-packages/accelerate/accelerator.py:432: FutureWarning: Passing the following arguments to `Accelerator` is deprecated and will be removed in version 1.0 of Accelerate: dict_keys(['dispatch_batches', 'split_batches', 'even_batches', 'use_seedable_sampler']). Please pass an `accelerate.DataLoaderConfiguration` instead: \n",
      "dataloader_config = DataLoaderConfiguration(dispatch_batches=None, split_batches=False, even_batches=True, use_seedable_sampler=True)\n",
      "  warnings.warn(\n",
      "Detected kernel version 3.10.0, which is below the recommended minimum of 5.5.0; this can cause the process to hang. It is recommended to upgrade the kernel to the minimum version or higher.\n"
     ]
    },
    {
     "name": "stdout",
     "output_type": "stream",
     "text": [
      "Starting trial 9\n"
     ]
    },
    {
     "data": {
      "text/html": [
       "\n",
       "    <div>\n",
       "      \n",
       "      <progress value='317' max='1264' style='width:300px; height:20px; vertical-align: middle;'></progress>\n",
       "      [ 317/1264 00:37 < 01:51, 8.51 it/s, Epoch 1.00/4]\n",
       "    </div>\n",
       "    <table border=\"1\" class=\"dataframe\">\n",
       "  <thead>\n",
       " <tr style=\"text-align: left;\">\n",
       "      <th>Epoch</th>\n",
       "      <th>Training Loss</th>\n",
       "      <th>Validation Loss</th>\n",
       "    </tr>\n",
       "  </thead>\n",
       "  <tbody>\n",
       "  </tbody>\n",
       "</table><p>\n",
       "    <div>\n",
       "      \n",
       "      <progress value='211' max='211' style='width:300px; height:20px; vertical-align: middle;'></progress>\n",
       "      [211/211 00:03]\n",
       "    </div>\n",
       "    "
      ],
      "text/plain": [
       "<IPython.core.display.HTML object>"
      ]
     },
     "metadata": {},
     "output_type": "display_data"
    },
    {
     "name": "stderr",
     "output_type": "stream",
     "text": [
      "[I 2024-04-18 13:38:24,781] Trial 9 pruned. \n"
     ]
    },
    {
     "data": {
      "text/html": [
       "Finishing last run (ID:8ape9vi1) before initializing another..."
      ],
      "text/plain": [
       "<IPython.core.display.HTML object>"
      ]
     },
     "metadata": {},
     "output_type": "display_data"
    },
    {
     "data": {
      "text/html": [
       "<style>\n",
       "    table.wandb td:nth-child(1) { padding: 0 10px; text-align: left ; width: auto;} td:nth-child(2) {text-align: left ; width: 100%}\n",
       "    .wandb-row { display: flex; flex-direction: row; flex-wrap: wrap; justify-content: flex-start; width: 100% }\n",
       "    .wandb-col { display: flex; flex-direction: column; flex-basis: 100%; flex: 1; padding: 10px; }\n",
       "    </style>\n",
       "<div class=\"wandb-row\"><div class=\"wandb-col\"><h3>Run history:</h3><br/><table class=\"wandb\"><tr><td>eval/Accuracy</td><td>▁</td></tr><tr><td>eval/Balanced accuracy</td><td>▁</td></tr><tr><td>eval/F1 macro</td><td>▁</td></tr><tr><td>eval/F1 micro</td><td>▁</td></tr><tr><td>eval/F1 weighted</td><td>▁</td></tr><tr><td>eval/loss</td><td>▁</td></tr><tr><td>eval/runtime</td><td>▁</td></tr><tr><td>eval/samples_per_second</td><td>▁</td></tr><tr><td>eval/steps_per_second</td><td>▁</td></tr><tr><td>train/epoch</td><td>▁</td></tr><tr><td>train/global_step</td><td>▁</td></tr></table><br/></div><div class=\"wandb-col\"><h3>Run summary:</h3><br/><table class=\"wandb\"><tr><td>eval/Accuracy</td><td>0.80302</td></tr><tr><td>eval/Balanced accuracy</td><td>0.76417</td></tr><tr><td>eval/F1 macro</td><td>0.73063</td></tr><tr><td>eval/F1 micro</td><td>0.80302</td></tr><tr><td>eval/F1 weighted</td><td>0.80782</td></tr><tr><td>eval/loss</td><td>0.52478</td></tr><tr><td>eval/runtime</td><td>3.6418</td></tr><tr><td>eval/samples_per_second</td><td>927.003</td></tr><tr><td>eval/steps_per_second</td><td>57.938</td></tr><tr><td>train/epoch</td><td>1.0</td></tr><tr><td>train/global_step</td><td>316</td></tr></table><br/></div></div>"
      ],
      "text/plain": [
       "<IPython.core.display.HTML object>"
      ]
     },
     "metadata": {},
     "output_type": "display_data"
    },
    {
     "data": {
      "text/html": [
       " View run <strong style=\"color:#cdcd00\">trial-9</strong> at: <a href='https://wandb.ai/master-2024/BERT_BASE/runs/8ape9vi1' target=\"_blank\">https://wandb.ai/master-2024/BERT_BASE/runs/8ape9vi1</a><br/>Synced 5 W&B file(s), 0 media file(s), 0 artifact file(s) and 0 other file(s)"
      ],
      "text/plain": [
       "<IPython.core.display.HTML object>"
      ]
     },
     "metadata": {},
     "output_type": "display_data"
    },
    {
     "data": {
      "text/html": [
       "Find logs at: <code>./wandb/run-20240418_133740-8ape9vi1/logs</code>"
      ],
      "text/plain": [
       "<IPython.core.display.HTML object>"
      ]
     },
     "metadata": {},
     "output_type": "display_data"
    },
    {
     "data": {
      "text/html": [
       "Successfully finished last run (ID:8ape9vi1). Initializing new run:<br/>"
      ],
      "text/plain": [
       "<IPython.core.display.HTML object>"
      ]
     },
     "metadata": {},
     "output_type": "display_data"
    },
    {
     "data": {
      "text/html": [
       "wandb version 0.16.6 is available!  To upgrade, please run:\n",
       " $ pip install wandb --upgrade"
      ],
      "text/plain": [
       "<IPython.core.display.HTML object>"
      ]
     },
     "metadata": {},
     "output_type": "display_data"
    },
    {
     "data": {
      "text/html": [
       "Tracking run with wandb version 0.16.4"
      ],
      "text/plain": [
       "<IPython.core.display.HTML object>"
      ]
     },
     "metadata": {},
     "output_type": "display_data"
    },
    {
     "data": {
      "text/html": [
       "Run data is saved locally in <code>/net/fs-2/scale/OrionStore/Home/joteklem/Pytorch_models/wandb/run-20240418_133824-ipjan735</code>"
      ],
      "text/plain": [
       "<IPython.core.display.HTML object>"
      ]
     },
     "metadata": {},
     "output_type": "display_data"
    },
    {
     "data": {
      "text/html": [
       "Syncing run <strong><a href='https://wandb.ai/master-2024/BERT_BASE/runs/ipjan735' target=\"_blank\">trial-10</a></strong> to <a href='https://wandb.ai/master-2024/BERT_BASE' target=\"_blank\">Weights & Biases</a> (<a href='https://wandb.me/run' target=\"_blank\">docs</a>)<br/>"
      ],
      "text/plain": [
       "<IPython.core.display.HTML object>"
      ]
     },
     "metadata": {},
     "output_type": "display_data"
    },
    {
     "data": {
      "text/html": [
       " View project at <a href='https://wandb.ai/master-2024/BERT_BASE' target=\"_blank\">https://wandb.ai/master-2024/BERT_BASE</a>"
      ],
      "text/plain": [
       "<IPython.core.display.HTML object>"
      ]
     },
     "metadata": {},
     "output_type": "display_data"
    },
    {
     "data": {
      "text/html": [
       " View run at <a href='https://wandb.ai/master-2024/BERT_BASE/runs/ipjan735' target=\"_blank\">https://wandb.ai/master-2024/BERT_BASE/runs/ipjan735</a>"
      ],
      "text/plain": [
       "<IPython.core.display.HTML object>"
      ]
     },
     "metadata": {},
     "output_type": "display_data"
    },
    {
     "name": "stderr",
     "output_type": "stream",
     "text": [
      "/net/fs-2/scale/OrionStore/Scratch/joteklem/MyCondaEnvironments/Python3.11/orion_env/lib/python3.11/site-packages/accelerate/accelerator.py:432: FutureWarning: Passing the following arguments to `Accelerator` is deprecated and will be removed in version 1.0 of Accelerate: dict_keys(['dispatch_batches', 'split_batches', 'even_batches', 'use_seedable_sampler']). Please pass an `accelerate.DataLoaderConfiguration` instead: \n",
      "dataloader_config = DataLoaderConfiguration(dispatch_batches=None, split_batches=False, even_batches=True, use_seedable_sampler=True)\n",
      "  warnings.warn(\n",
      "Detected kernel version 3.10.0, which is below the recommended minimum of 5.5.0; this can cause the process to hang. It is recommended to upgrade the kernel to the minimum version or higher.\n"
     ]
    },
    {
     "name": "stdout",
     "output_type": "stream",
     "text": [
      "Starting trial 10\n"
     ]
    },
    {
     "data": {
      "text/html": [
       "\n",
       "    <div>\n",
       "      \n",
       "      <progress value='3165' max='3165' style='width:300px; height:20px; vertical-align: middle;'></progress>\n",
       "      [3165/3165 06:42, Epoch 5/5]\n",
       "    </div>\n",
       "    <table border=\"1\" class=\"dataframe\">\n",
       "  <thead>\n",
       " <tr style=\"text-align: left;\">\n",
       "      <th>Epoch</th>\n",
       "      <th>Training Loss</th>\n",
       "      <th>Validation Loss</th>\n",
       "      <th>Accuracy</th>\n",
       "      <th>Balanced accuracy</th>\n",
       "      <th>F1 weighted</th>\n",
       "      <th>F1 macro</th>\n",
       "      <th>F1 micro</th>\n",
       "      <th>Classification report</th>\n",
       "    </tr>\n",
       "  </thead>\n",
       "  <tbody>\n",
       "    <tr>\n",
       "      <td>1</td>\n",
       "      <td>No log</td>\n",
       "      <td>0.453644</td>\n",
       "      <td>0.830569</td>\n",
       "      <td>0.774885</td>\n",
       "      <td>0.829964</td>\n",
       "      <td>0.768808</td>\n",
       "      <td>0.830569</td>\n",
       "      <td>{'0': {'precision': 0.8, 'recall': 0.7066666666666667, 'f1-score': 0.7504424778761062, 'support': 900.0}, '1': {'precision': 0.8747747747747747, 'recall': 0.8982423681776133, 'f1-score': 0.8863532633500684, 'support': 2162.0}, '2': {'precision': 0.6260387811634349, 'recall': 0.7197452229299363, 'f1-score': 0.6696296296296297, 'support': 314.0}, 'accuracy': 0.830568720379147, 'macro avg': {'precision': 0.7669378519794033, 'recall': 0.7748847525914054, 'f1-score': 0.7688084569519348, 'support': 3376.0}, 'weighted avg': {'precision': 0.8317059361221508, 'recall': 0.830568720379147, 'f1-score': 0.8299637704843149, 'support': 3376.0}}</td>\n",
       "    </tr>\n",
       "    <tr>\n",
       "      <td>2</td>\n",
       "      <td>0.492800</td>\n",
       "      <td>0.442264</td>\n",
       "      <td>0.841528</td>\n",
       "      <td>0.750042</td>\n",
       "      <td>0.837629</td>\n",
       "      <td>0.775803</td>\n",
       "      <td>0.841528</td>\n",
       "      <td>{'0': {'precision': 0.7936507936507936, 'recall': 0.7222222222222222, 'f1-score': 0.7562536358347876, 'support': 900.0}, '1': {'precision': 0.865916955017301, 'recall': 0.9259944495837188, 'f1-score': 0.8949485918641037, 'support': 2162.0}, '2': {'precision': 0.7714285714285715, 'recall': 0.6019108280254777, 'f1-score': 0.6762075134168158, 'support': 314.0}, 'accuracy': 0.8415284360189573, 'macro avg': {'precision': 0.8103321066988887, 'recall': 0.7500424999438063, 'f1-score': 0.7758032470385691, 'support': 3376.0}, 'weighted avg': {'precision': 0.8378633715822542, 'recall': 0.8415284360189573, 'f1-score': 0.837629231953312, 'support': 3376.0}}</td>\n",
       "    </tr>\n",
       "    <tr>\n",
       "      <td>3</td>\n",
       "      <td>0.492800</td>\n",
       "      <td>0.506852</td>\n",
       "      <td>0.837085</td>\n",
       "      <td>0.789034</td>\n",
       "      <td>0.835263</td>\n",
       "      <td>0.790391</td>\n",
       "      <td>0.837085</td>\n",
       "      <td>{'0': {'precision': 0.7769516728624535, 'recall': 0.6966666666666667, 'f1-score': 0.7346221441124781, 'support': 900.0}, '1': {'precision': 0.8745535714285714, 'recall': 0.9061054579093432, 'f1-score': 0.8900499772830531, 'support': 2162.0}, '2': {'precision': 0.729483282674772, 'recall': 0.7643312101910829, 'f1-score': 0.7465007776049767, 'support': 314.0}, 'accuracy': 0.8370853080568721, 'macro avg': {'precision': 0.7936628423219324, 'recall': 0.7890344449223642, 'f1-score': 0.7903909663335026, 'support': 3376.0}, 'weighted avg': {'precision': 0.835041196020337, 'recall': 0.8370853080568721, 'f1-score': 0.8352633959582803, 'support': 3376.0}}</td>\n",
       "    </tr>\n",
       "    <tr>\n",
       "      <td>4</td>\n",
       "      <td>0.219300</td>\n",
       "      <td>0.694278</td>\n",
       "      <td>0.833531</td>\n",
       "      <td>0.769813</td>\n",
       "      <td>0.831134</td>\n",
       "      <td>0.774947</td>\n",
       "      <td>0.833531</td>\n",
       "      <td>{'0': {'precision': 0.7812895069532237, 'recall': 0.6866666666666666, 'f1-score': 0.7309284447072738, 'support': 900.0}, '1': {'precision': 0.8714664310954063, 'recall': 0.9125809435707678, 'f1-score': 0.8915499322187076, 'support': 2162.0}, '2': {'precision': 0.6947040498442367, 'recall': 0.7101910828025477, 'f1-score': 0.7023622047244095, 'support': 314.0}, 'accuracy': 0.8335308056872038, 'macro avg': {'precision': 0.7824866626309556, 'recall': 0.769812897679994, 'f1-score': 0.7749468605501303, 'support': 3376.0}, 'weighted avg': {'precision': 0.830985797374781, 'recall': 0.8335308056872038, 'f1-score': 0.8311339709647088, 'support': 3376.0}}</td>\n",
       "    </tr>\n",
       "    <tr>\n",
       "      <td>5</td>\n",
       "      <td>0.219300</td>\n",
       "      <td>0.778498</td>\n",
       "      <td>0.832346</td>\n",
       "      <td>0.756407</td>\n",
       "      <td>0.829300</td>\n",
       "      <td>0.773801</td>\n",
       "      <td>0.832346</td>\n",
       "      <td>{'0': {'precision': 0.7662178702570379, 'recall': 0.6955555555555556, 'f1-score': 0.7291788002329643, 'support': 900.0}, '1': {'precision': 0.8655866900175131, 'recall': 0.9144310823311749, 'f1-score': 0.8893387314439946, 'support': 2162.0}, '2': {'precision': 0.7527272727272727, 'recall': 0.6592356687898089, 'f1-score': 0.7028862478777589, 'support': 314.0}, 'accuracy': 0.832345971563981, 'macro avg': {'precision': 0.7948439443339413, 'recall': 0.7564074355588465, 'f1-score': 0.7738012598515726, 'support': 3376.0}, 'weighted avg': {'precision': 0.8285991915537799, 'recall': 0.832345971563981, 'f1-score': 0.8293002190240523, 'support': 3376.0}}</td>\n",
       "    </tr>\n",
       "  </tbody>\n",
       "</table><p>"
      ],
      "text/plain": [
       "<IPython.core.display.HTML object>"
      ]
     },
     "metadata": {},
     "output_type": "display_data"
    },
    {
     "data": {
      "text/html": [
       "\n",
       "    <div>\n",
       "      \n",
       "      <progress value='422' max='422' style='width:300px; height:20px; vertical-align: middle;'></progress>\n",
       "      [422/422 00:05]\n",
       "    </div>\n",
       "    "
      ],
      "text/plain": [
       "<IPython.core.display.HTML object>"
      ]
     },
     "metadata": {},
     "output_type": "display_data"
    },
    {
     "name": "stderr",
     "output_type": "stream",
     "text": [
      "/net/fs-2/scale/OrionStore/Scratch/joteklem/MyCondaEnvironments/Python3.11/orion_env/lib/python3.11/site-packages/optuna/trial/_trial.py:499: UserWarning: The reported value is ignored because this `step` 5.0 is already reported.\n",
      "  warnings.warn(\n"
     ]
    },
    {
     "name": "stdout",
     "output_type": "stream",
     "text": [
      "Completed trial 10\n"
     ]
    },
    {
     "data": {
      "text/html": [
       "<style>\n",
       "    table.wandb td:nth-child(1) { padding: 0 10px; text-align: left ; width: auto;} td:nth-child(2) {text-align: left ; width: 100%}\n",
       "    .wandb-row { display: flex; flex-direction: row; flex-wrap: wrap; justify-content: flex-start; width: 100% }\n",
       "    .wandb-col { display: flex; flex-direction: column; flex-basis: 100%; flex: 1; padding: 10px; }\n",
       "    </style>\n",
       "<div class=\"wandb-row\"><div class=\"wandb-col\"><h3>Run history:</h3><br/><table class=\"wandb\"><tr><td>Training loss</td><td>▁</td></tr><tr><td>Validation loss</td><td>▁</td></tr><tr><td>Weighted F1 score</td><td>▁</td></tr><tr><td>eval/Accuracy</td><td>▁█▅▃▂▂</td></tr><tr><td>eval/Balanced accuracy</td><td>▅▁█▅▂▂</td></tr><tr><td>eval/F1 macro</td><td>▁▃█▃▃▃</td></tr><tr><td>eval/F1 micro</td><td>▁█▅▃▂▂</td></tr><tr><td>eval/F1 weighted</td><td>▂█▆▃▁▁</td></tr><tr><td>eval/loss</td><td>▁▁▂▆██</td></tr><tr><td>eval/runtime</td><td>▃▁▂▂▄█</td></tr><tr><td>eval/samples_per_second</td><td>▆█▆▇▅▁</td></tr><tr><td>eval/steps_per_second</td><td>▆█▆▇▅▁</td></tr><tr><td>train/epoch</td><td>▁▃▃▅▆▆███</td></tr><tr><td>train/global_step</td><td>▁▃▃▅▆▆█████</td></tr><tr><td>train/grad_norm</td><td>▁█</td></tr><tr><td>train/learning_rate</td><td>█▁</td></tr><tr><td>train/loss</td><td>█▁</td></tr><tr><td>train/total_flos</td><td>▁</td></tr><tr><td>train/train_loss</td><td>▁</td></tr><tr><td>train/train_runtime</td><td>▁</td></tr><tr><td>train/train_samples_per_second</td><td>▁</td></tr><tr><td>train/train_steps_per_second</td><td>▁</td></tr></table><br/></div><div class=\"wandb-col\"><h3>Run summary:</h3><br/><table class=\"wandb\"><tr><td>Training loss</td><td>0.2193</td></tr><tr><td>Validation loss</td><td>0.69428</td></tr><tr><td>Weighted F1 score</td><td>0.7738</td></tr><tr><td>eval/Accuracy</td><td>0.83235</td></tr><tr><td>eval/Balanced accuracy</td><td>0.75641</td></tr><tr><td>eval/F1 macro</td><td>0.7738</td></tr><tr><td>eval/F1 micro</td><td>0.83235</td></tr><tr><td>eval/F1 weighted</td><td>0.8293</td></tr><tr><td>eval/loss</td><td>0.7785</td></tr><tr><td>eval/runtime</td><td>5.077</td></tr><tr><td>eval/samples_per_second</td><td>664.963</td></tr><tr><td>eval/steps_per_second</td><td>83.12</td></tr><tr><td>train/epoch</td><td>5.0</td></tr><tr><td>train/global_step</td><td>3165</td></tr><tr><td>train/grad_norm</td><td>20.67799</td></tr><tr><td>train/learning_rate</td><td>1e-05</td></tr><tr><td>train/loss</td><td>0.2193</td></tr><tr><td>train/total_flos</td><td>3210715480474656.0</td></tr><tr><td>train/train_loss</td><td>0.30694</td></tr><tr><td>train/train_runtime</td><td>402.1563</td></tr><tr><td>train/train_samples_per_second</td><td>125.921</td></tr><tr><td>train/train_steps_per_second</td><td>7.87</td></tr></table><br/></div></div>"
      ],
      "text/plain": [
       "<IPython.core.display.HTML object>"
      ]
     },
     "metadata": {},
     "output_type": "display_data"
    },
    {
     "data": {
      "text/html": [
       " View run <strong style=\"color:#cdcd00\">trial-10</strong> at: <a href='https://wandb.ai/master-2024/BERT_BASE/runs/ipjan735' target=\"_blank\">https://wandb.ai/master-2024/BERT_BASE/runs/ipjan735</a><br/>Synced 5 W&B file(s), 0 media file(s), 0 artifact file(s) and 0 other file(s)"
      ],
      "text/plain": [
       "<IPython.core.display.HTML object>"
      ]
     },
     "metadata": {},
     "output_type": "display_data"
    },
    {
     "data": {
      "text/html": [
       "Find logs at: <code>./wandb/run-20240418_133824-ipjan735/logs</code>"
      ],
      "text/plain": [
       "<IPython.core.display.HTML object>"
      ]
     },
     "metadata": {},
     "output_type": "display_data"
    },
    {
     "name": "stderr",
     "output_type": "stream",
     "text": [
      "[I 2024-04-18 13:45:26,446] Trial 10 finished with value: 0.7738012598515726 and parameters: {'learning_rate': 2.708005803679138e-05, 'per_device_train_batch_size': 8, 'weight_decay': 0.1644880595045329, 'num_train_epochs': 5, 'warmup_steps': 164}. Best is trial 1 with value: 0.7939043393020544.\n"
     ]
    },
    {
     "data": {
      "text/html": [
       "wandb version 0.16.6 is available!  To upgrade, please run:\n",
       " $ pip install wandb --upgrade"
      ],
      "text/plain": [
       "<IPython.core.display.HTML object>"
      ]
     },
     "metadata": {},
     "output_type": "display_data"
    },
    {
     "data": {
      "text/html": [
       "Tracking run with wandb version 0.16.4"
      ],
      "text/plain": [
       "<IPython.core.display.HTML object>"
      ]
     },
     "metadata": {},
     "output_type": "display_data"
    },
    {
     "data": {
      "text/html": [
       "Run data is saved locally in <code>/net/fs-2/scale/OrionStore/Home/joteklem/Pytorch_models/wandb/run-20240418_134526-lz0i8drs</code>"
      ],
      "text/plain": [
       "<IPython.core.display.HTML object>"
      ]
     },
     "metadata": {},
     "output_type": "display_data"
    },
    {
     "data": {
      "text/html": [
       "Syncing run <strong><a href='https://wandb.ai/master-2024/BERT_BASE/runs/lz0i8drs' target=\"_blank\">trial-11</a></strong> to <a href='https://wandb.ai/master-2024/BERT_BASE' target=\"_blank\">Weights & Biases</a> (<a href='https://wandb.me/run' target=\"_blank\">docs</a>)<br/>"
      ],
      "text/plain": [
       "<IPython.core.display.HTML object>"
      ]
     },
     "metadata": {},
     "output_type": "display_data"
    },
    {
     "data": {
      "text/html": [
       " View project at <a href='https://wandb.ai/master-2024/BERT_BASE' target=\"_blank\">https://wandb.ai/master-2024/BERT_BASE</a>"
      ],
      "text/plain": [
       "<IPython.core.display.HTML object>"
      ]
     },
     "metadata": {},
     "output_type": "display_data"
    },
    {
     "data": {
      "text/html": [
       " View run at <a href='https://wandb.ai/master-2024/BERT_BASE/runs/lz0i8drs' target=\"_blank\">https://wandb.ai/master-2024/BERT_BASE/runs/lz0i8drs</a>"
      ],
      "text/plain": [
       "<IPython.core.display.HTML object>"
      ]
     },
     "metadata": {},
     "output_type": "display_data"
    },
    {
     "name": "stdout",
     "output_type": "stream",
     "text": [
      "Starting trial 11\n"
     ]
    },
    {
     "name": "stderr",
     "output_type": "stream",
     "text": [
      "/net/fs-2/scale/OrionStore/Scratch/joteklem/MyCondaEnvironments/Python3.11/orion_env/lib/python3.11/site-packages/accelerate/accelerator.py:432: FutureWarning: Passing the following arguments to `Accelerator` is deprecated and will be removed in version 1.0 of Accelerate: dict_keys(['dispatch_batches', 'split_batches', 'even_batches', 'use_seedable_sampler']). Please pass an `accelerate.DataLoaderConfiguration` instead: \n",
      "dataloader_config = DataLoaderConfiguration(dispatch_batches=None, split_batches=False, even_batches=True, use_seedable_sampler=True)\n",
      "  warnings.warn(\n",
      "Detected kernel version 3.10.0, which is below the recommended minimum of 5.5.0; this can cause the process to hang. It is recommended to upgrade the kernel to the minimum version or higher.\n"
     ]
    },
    {
     "data": {
      "text/html": [
       "\n",
       "    <div>\n",
       "      \n",
       "      <progress value='635' max='790' style='width:300px; height:20px; vertical-align: middle;'></progress>\n",
       "      [635/790 02:39 < 00:39, 3.97 it/s, Epoch 4/5]\n",
       "    </div>\n",
       "    <table border=\"1\" class=\"dataframe\">\n",
       "  <thead>\n",
       " <tr style=\"text-align: left;\">\n",
       "      <th>Epoch</th>\n",
       "      <th>Training Loss</th>\n",
       "      <th>Validation Loss</th>\n",
       "      <th>Accuracy</th>\n",
       "      <th>Balanced accuracy</th>\n",
       "      <th>F1 weighted</th>\n",
       "      <th>F1 macro</th>\n",
       "      <th>F1 micro</th>\n",
       "      <th>Classification report</th>\n",
       "    </tr>\n",
       "  </thead>\n",
       "  <tbody>\n",
       "    <tr>\n",
       "      <td>0</td>\n",
       "      <td>No log</td>\n",
       "      <td>0.491088</td>\n",
       "      <td>0.808353</td>\n",
       "      <td>0.783975</td>\n",
       "      <td>0.813885</td>\n",
       "      <td>0.742406</td>\n",
       "      <td>0.808353</td>\n",
       "      <td>{'0': {'precision': 0.7907845579078456, 'recall': 0.7055555555555556, 'f1-score': 0.7457428068115091, 'support': 900.0}, '1': {'precision': 0.8913043478260869, 'recall': 0.8533765032377428, 'f1-score': 0.8719281663516067, 'support': 2162.0}, '2': {'precision': 0.49502982107355864, 'recall': 0.7929936305732485, 'f1-score': 0.6095471236230111, 'support': 314.0}, 'accuracy': 0.8083530805687204, 'macro avg': {'precision': 0.7257062422691637, 'recall': 0.783975229788849, 'f1-score': 0.7424060322620423, 'support': 3376.0}, 'weighted avg': {'precision': 0.8276497233217294, 'recall': 0.8083530805687204, 'f1-score': 0.8138847803910418, 'support': 3376.0}}</td>\n",
       "    </tr>\n",
       "    <tr>\n",
       "      <td>2</td>\n",
       "      <td>0.557300</td>\n",
       "      <td>0.511546</td>\n",
       "      <td>0.830569</td>\n",
       "      <td>0.723812</td>\n",
       "      <td>0.825222</td>\n",
       "      <td>0.758362</td>\n",
       "      <td>0.830569</td>\n",
       "      <td>{'0': {'precision': 0.7726723095525998, 'recall': 0.71, 'f1-score': 0.740011580775912, 'support': 900.0}, '1': {'precision': 0.852263023057216, 'recall': 0.9232192414431082, 'f1-score': 0.8863232682060391, 'support': 2162.0}, '2': {'precision': 0.8164251207729468, 'recall': 0.5382165605095541, 'f1-score': 0.6487523992322456, 'support': 314.0}, 'accuracy': 0.830568720379147, 'macro avg': {'precision': 0.8137868177942543, 'recall': 0.7238119339842207, 'f1-score': 0.758362416071399, 'support': 3376.0}, 'weighted avg': {'precision': 0.8277118549673419, 'recall': 0.830568720379147, 'f1-score': 0.8252220325588574, 'support': 3376.0}}</td>\n",
       "    </tr>\n",
       "  </tbody>\n",
       "</table><p>\n",
       "    <div>\n",
       "      \n",
       "      <progress value='106' max='106' style='width:300px; height:20px; vertical-align: middle;'></progress>\n",
       "      [106/106 00:03]\n",
       "    </div>\n",
       "    "
      ],
      "text/plain": [
       "<IPython.core.display.HTML object>"
      ]
     },
     "metadata": {},
     "output_type": "display_data"
    },
    {
     "name": "stderr",
     "output_type": "stream",
     "text": [
      "[I 2024-04-18 13:48:13,264] Trial 11 pruned. \n"
     ]
    },
    {
     "data": {
      "text/html": [
       "Finishing last run (ID:lz0i8drs) before initializing another..."
      ],
      "text/plain": [
       "<IPython.core.display.HTML object>"
      ]
     },
     "metadata": {},
     "output_type": "display_data"
    },
    {
     "data": {
      "text/html": [
       "<style>\n",
       "    table.wandb td:nth-child(1) { padding: 0 10px; text-align: left ; width: auto;} td:nth-child(2) {text-align: left ; width: 100%}\n",
       "    .wandb-row { display: flex; flex-direction: row; flex-wrap: wrap; justify-content: flex-start; width: 100% }\n",
       "    .wandb-col { display: flex; flex-direction: column; flex-basis: 100%; flex: 1; padding: 10px; }\n",
       "    </style>\n",
       "<div class=\"wandb-row\"><div class=\"wandb-col\"><h3>Run history:</h3><br/><table class=\"wandb\"><tr><td>eval/Accuracy</td><td>▁█▇▆</td></tr><tr><td>eval/Balanced accuracy</td><td>█▇▁▅</td></tr><tr><td>eval/F1 macro</td><td>▁█▅▇</td></tr><tr><td>eval/F1 micro</td><td>▁█▇▆</td></tr><tr><td>eval/F1 weighted</td><td>▁█▅▄</td></tr><tr><td>eval/loss</td><td>▃▁▄█</td></tr><tr><td>eval/runtime</td><td>▁█▄▅</td></tr><tr><td>eval/samples_per_second</td><td>█▁▅▄</td></tr><tr><td>eval/steps_per_second</td><td>█▁▅▄</td></tr><tr><td>train/epoch</td><td>▁▃▃▆██</td></tr><tr><td>train/global_step</td><td>▁▃▃▆██</td></tr><tr><td>train/grad_norm</td><td>█▁</td></tr><tr><td>train/learning_rate</td><td>█▁</td></tr><tr><td>train/loss</td><td>█▁</td></tr></table><br/></div><div class=\"wandb-col\"><h3>Run summary:</h3><br/><table class=\"wandb\"><tr><td>eval/Accuracy</td><td>0.82524</td></tr><tr><td>eval/Balanced accuracy</td><td>0.76243</td></tr><tr><td>eval/F1 macro</td><td>0.77037</td></tr><tr><td>eval/F1 micro</td><td>0.82524</td></tr><tr><td>eval/F1 weighted</td><td>0.82251</td></tr><tr><td>eval/loss</td><td>0.57431</td></tr><tr><td>eval/runtime</td><td>3.6453</td></tr><tr><td>eval/samples_per_second</td><td>926.123</td></tr><tr><td>eval/steps_per_second</td><td>29.079</td></tr><tr><td>train/epoch</td><td>4.0</td></tr><tr><td>train/global_step</td><td>634</td></tr><tr><td>train/grad_norm</td><td>4.02712</td></tr><tr><td>train/learning_rate</td><td>9e-05</td></tr><tr><td>train/loss</td><td>0.3192</td></tr></table><br/></div></div>"
      ],
      "text/plain": [
       "<IPython.core.display.HTML object>"
      ]
     },
     "metadata": {},
     "output_type": "display_data"
    },
    {
     "data": {
      "text/html": [
       " View run <strong style=\"color:#cdcd00\">trial-11</strong> at: <a href='https://wandb.ai/master-2024/BERT_BASE/runs/lz0i8drs' target=\"_blank\">https://wandb.ai/master-2024/BERT_BASE/runs/lz0i8drs</a><br/>Synced 5 W&B file(s), 0 media file(s), 0 artifact file(s) and 0 other file(s)"
      ],
      "text/plain": [
       "<IPython.core.display.HTML object>"
      ]
     },
     "metadata": {},
     "output_type": "display_data"
    },
    {
     "data": {
      "text/html": [
       "Find logs at: <code>./wandb/run-20240418_134526-lz0i8drs/logs</code>"
      ],
      "text/plain": [
       "<IPython.core.display.HTML object>"
      ]
     },
     "metadata": {},
     "output_type": "display_data"
    },
    {
     "data": {
      "text/html": [
       "Successfully finished last run (ID:lz0i8drs). Initializing new run:<br/>"
      ],
      "text/plain": [
       "<IPython.core.display.HTML object>"
      ]
     },
     "metadata": {},
     "output_type": "display_data"
    },
    {
     "data": {
      "text/html": [
       "wandb version 0.16.6 is available!  To upgrade, please run:\n",
       " $ pip install wandb --upgrade"
      ],
      "text/plain": [
       "<IPython.core.display.HTML object>"
      ]
     },
     "metadata": {},
     "output_type": "display_data"
    },
    {
     "data": {
      "text/html": [
       "Tracking run with wandb version 0.16.4"
      ],
      "text/plain": [
       "<IPython.core.display.HTML object>"
      ]
     },
     "metadata": {},
     "output_type": "display_data"
    },
    {
     "data": {
      "text/html": [
       "Run data is saved locally in <code>/net/fs-2/scale/OrionStore/Home/joteklem/Pytorch_models/wandb/run-20240418_134813-wbjul4rg</code>"
      ],
      "text/plain": [
       "<IPython.core.display.HTML object>"
      ]
     },
     "metadata": {},
     "output_type": "display_data"
    },
    {
     "data": {
      "text/html": [
       "Syncing run <strong><a href='https://wandb.ai/master-2024/BERT_BASE/runs/wbjul4rg' target=\"_blank\">trial-12</a></strong> to <a href='https://wandb.ai/master-2024/BERT_BASE' target=\"_blank\">Weights & Biases</a> (<a href='https://wandb.me/run' target=\"_blank\">docs</a>)<br/>"
      ],
      "text/plain": [
       "<IPython.core.display.HTML object>"
      ]
     },
     "metadata": {},
     "output_type": "display_data"
    },
    {
     "data": {
      "text/html": [
       " View project at <a href='https://wandb.ai/master-2024/BERT_BASE' target=\"_blank\">https://wandb.ai/master-2024/BERT_BASE</a>"
      ],
      "text/plain": [
       "<IPython.core.display.HTML object>"
      ]
     },
     "metadata": {},
     "output_type": "display_data"
    },
    {
     "data": {
      "text/html": [
       " View run at <a href='https://wandb.ai/master-2024/BERT_BASE/runs/wbjul4rg' target=\"_blank\">https://wandb.ai/master-2024/BERT_BASE/runs/wbjul4rg</a>"
      ],
      "text/plain": [
       "<IPython.core.display.HTML object>"
      ]
     },
     "metadata": {},
     "output_type": "display_data"
    },
    {
     "name": "stdout",
     "output_type": "stream",
     "text": [
      "Starting trial 12\n"
     ]
    },
    {
     "name": "stderr",
     "output_type": "stream",
     "text": [
      "/net/fs-2/scale/OrionStore/Scratch/joteklem/MyCondaEnvironments/Python3.11/orion_env/lib/python3.11/site-packages/accelerate/accelerator.py:432: FutureWarning: Passing the following arguments to `Accelerator` is deprecated and will be removed in version 1.0 of Accelerate: dict_keys(['dispatch_batches', 'split_batches', 'even_batches', 'use_seedable_sampler']). Please pass an `accelerate.DataLoaderConfiguration` instead: \n",
      "dataloader_config = DataLoaderConfiguration(dispatch_batches=None, split_batches=False, even_batches=True, use_seedable_sampler=True)\n",
      "  warnings.warn(\n",
      "Detected kernel version 3.10.0, which is below the recommended minimum of 5.5.0; this can cause the process to hang. It is recommended to upgrade the kernel to the minimum version or higher.\n"
     ]
    },
    {
     "data": {
      "text/html": [
       "\n",
       "    <div>\n",
       "      \n",
       "      <progress value='316' max='316' style='width:300px; height:20px; vertical-align: middle;'></progress>\n",
       "      [316/316 01:14, Epoch 1/2]\n",
       "    </div>\n",
       "    <table border=\"1\" class=\"dataframe\">\n",
       "  <thead>\n",
       " <tr style=\"text-align: left;\">\n",
       "      <th>Epoch</th>\n",
       "      <th>Training Loss</th>\n",
       "      <th>Validation Loss</th>\n",
       "      <th>Accuracy</th>\n",
       "      <th>Balanced accuracy</th>\n",
       "      <th>F1 weighted</th>\n",
       "      <th>F1 macro</th>\n",
       "      <th>F1 micro</th>\n",
       "      <th>Classification report</th>\n",
       "    </tr>\n",
       "  </thead>\n",
       "  <tbody>\n",
       "    <tr>\n",
       "      <td>0</td>\n",
       "      <td>No log</td>\n",
       "      <td>0.527990</td>\n",
       "      <td>0.795912</td>\n",
       "      <td>0.763106</td>\n",
       "      <td>0.801562</td>\n",
       "      <td>0.723773</td>\n",
       "      <td>0.795912</td>\n",
       "      <td>{'0': {'precision': 0.7941952506596306, 'recall': 0.6688888888888889, 'f1-score': 0.7261761158021712, 'support': 900.0}, '1': {'precision': 0.8776772965254641, 'recall': 0.8529139685476411, 'f1-score': 0.8651184611775746, 'support': 2162.0}, '2': {'precision': 0.4661508704061896, 'recall': 0.767515923566879, 'f1-score': 0.5800240673886884, 'support': 314.0}, 'accuracy': 0.7959123222748815, 'macro avg': {'precision': 0.712674472530428, 'recall': 0.7631062603344696, 'f1-score': 0.7237728814561447, 'support': 3376.0}, 'weighted avg': {'precision': 0.8171461534328391, 'recall': 0.7959123222748815, 'f1-score': 0.8015616630473693, 'support': 3376.0}}</td>\n",
       "    </tr>\n",
       "    <tr>\n",
       "      <td>1</td>\n",
       "      <td>0.590000</td>\n",
       "      <td>0.510566</td>\n",
       "      <td>0.820498</td>\n",
       "      <td>0.701265</td>\n",
       "      <td>0.808057</td>\n",
       "      <td>0.738688</td>\n",
       "      <td>0.820498</td>\n",
       "      <td>{'0': {'precision': 0.8969258589511754, 'recall': 0.5511111111111111, 'f1-score': 0.6827253957329662, 'support': 900.0}, '1': {'precision': 0.8129132633216647, 'recall': 0.9666975023126735, 'f1-score': 0.883160785970843, 'support': 2162.0}, '2': {'precision': 0.7301587301587301, 'recall': 0.5859872611464968, 'f1-score': 0.6501766784452296, 'support': 314.0}, 'accuracy': 0.8204976303317536, 'macro avg': {'precision': 0.8133326174771901, 'recall': 0.7012652915234271, 'f1-score': 0.7386876200496797, 'support': 3376.0}, 'weighted avg': {'precision': 0.8276130301028847, 'recall': 0.8204976303317536, 'f1-score': 0.8080574503733514, 'support': 3376.0}}</td>\n",
       "    </tr>\n",
       "  </tbody>\n",
       "</table><p>"
      ],
      "text/plain": [
       "<IPython.core.display.HTML object>"
      ]
     },
     "metadata": {},
     "output_type": "display_data"
    },
    {
     "data": {
      "text/html": [
       "\n",
       "    <div>\n",
       "      \n",
       "      <progress value='106' max='106' style='width:300px; height:20px; vertical-align: middle;'></progress>\n",
       "      [106/106 00:03]\n",
       "    </div>\n",
       "    "
      ],
      "text/plain": [
       "<IPython.core.display.HTML object>"
      ]
     },
     "metadata": {},
     "output_type": "display_data"
    },
    {
     "name": "stderr",
     "output_type": "stream",
     "text": [
      "/net/fs-2/scale/OrionStore/Scratch/joteklem/MyCondaEnvironments/Python3.11/orion_env/lib/python3.11/site-packages/optuna/trial/_trial.py:499: UserWarning: The reported value is ignored because this `step` 1.9936908517350158 is already reported.\n",
      "  warnings.warn(\n"
     ]
    },
    {
     "name": "stdout",
     "output_type": "stream",
     "text": [
      "Completed trial 12\n"
     ]
    },
    {
     "data": {
      "text/html": [
       "<style>\n",
       "    table.wandb td:nth-child(1) { padding: 0 10px; text-align: left ; width: auto;} td:nth-child(2) {text-align: left ; width: 100%}\n",
       "    .wandb-row { display: flex; flex-direction: row; flex-wrap: wrap; justify-content: flex-start; width: 100% }\n",
       "    .wandb-col { display: flex; flex-direction: column; flex-basis: 100%; flex: 1; padding: 10px; }\n",
       "    </style>\n",
       "<div class=\"wandb-row\"><div class=\"wandb-col\"><h3>Run history:</h3><br/><table class=\"wandb\"><tr><td>Training loss</td><td>▁</td></tr><tr><td>Validation loss</td><td>▁</td></tr><tr><td>Weighted F1 score</td><td>▁</td></tr><tr><td>eval/Accuracy</td><td>▁██</td></tr><tr><td>eval/Balanced accuracy</td><td>█▁▁</td></tr><tr><td>eval/F1 macro</td><td>▁██</td></tr><tr><td>eval/F1 micro</td><td>▁██</td></tr><tr><td>eval/F1 weighted</td><td>▁██</td></tr><tr><td>eval/loss</td><td>█▁▁</td></tr><tr><td>eval/runtime</td><td>▁▄█</td></tr><tr><td>eval/samples_per_second</td><td>█▅▁</td></tr><tr><td>eval/steps_per_second</td><td>█▅▁</td></tr><tr><td>train/epoch</td><td>▁████</td></tr><tr><td>train/global_step</td><td>▁██████</td></tr><tr><td>train/grad_norm</td><td>▁</td></tr><tr><td>train/learning_rate</td><td>▁</td></tr><tr><td>train/loss</td><td>▁</td></tr><tr><td>train/total_flos</td><td>▁</td></tr><tr><td>train/train_loss</td><td>▁</td></tr><tr><td>train/train_runtime</td><td>▁</td></tr><tr><td>train/train_samples_per_second</td><td>▁</td></tr><tr><td>train/train_steps_per_second</td><td>▁</td></tr></table><br/></div><div class=\"wandb-col\"><h3>Run summary:</h3><br/><table class=\"wandb\"><tr><td>Training loss</td><td>0.59</td></tr><tr><td>Validation loss</td><td>0.52799</td></tr><tr><td>Weighted F1 score</td><td>0.73869</td></tr><tr><td>eval/Accuracy</td><td>0.8205</td></tr><tr><td>eval/Balanced accuracy</td><td>0.70127</td></tr><tr><td>eval/F1 macro</td><td>0.73869</td></tr><tr><td>eval/F1 micro</td><td>0.8205</td></tr><tr><td>eval/F1 weighted</td><td>0.80806</td></tr><tr><td>eval/loss</td><td>0.51057</td></tr><tr><td>eval/runtime</td><td>3.6687</td></tr><tr><td>eval/samples_per_second</td><td>920.21</td></tr><tr><td>eval/steps_per_second</td><td>28.893</td></tr><tr><td>train/epoch</td><td>1.99</td></tr><tr><td>train/global_step</td><td>316</td></tr><tr><td>train/grad_norm</td><td>4.78654</td></tr><tr><td>train/learning_rate</td><td>5e-05</td></tr><tr><td>train/loss</td><td>0.59</td></tr><tr><td>train/total_flos</td><td>1599343131953952.0</td></tr><tr><td>train/train_loss</td><td>0.59</td></tr><tr><td>train/train_runtime</td><td>74.9058</td></tr><tr><td>train/train_samples_per_second</td><td>270.42</td></tr><tr><td>train/train_steps_per_second</td><td>4.219</td></tr></table><br/></div></div>"
      ],
      "text/plain": [
       "<IPython.core.display.HTML object>"
      ]
     },
     "metadata": {},
     "output_type": "display_data"
    },
    {
     "data": {
      "text/html": [
       " View run <strong style=\"color:#cdcd00\">trial-12</strong> at: <a href='https://wandb.ai/master-2024/BERT_BASE/runs/wbjul4rg' target=\"_blank\">https://wandb.ai/master-2024/BERT_BASE/runs/wbjul4rg</a><br/>Synced 5 W&B file(s), 0 media file(s), 0 artifact file(s) and 0 other file(s)"
      ],
      "text/plain": [
       "<IPython.core.display.HTML object>"
      ]
     },
     "metadata": {},
     "output_type": "display_data"
    },
    {
     "data": {
      "text/html": [
       "Find logs at: <code>./wandb/run-20240418_134813-wbjul4rg/logs</code>"
      ],
      "text/plain": [
       "<IPython.core.display.HTML object>"
      ]
     },
     "metadata": {},
     "output_type": "display_data"
    },
    {
     "name": "stderr",
     "output_type": "stream",
     "text": [
      "[I 2024-04-18 13:49:44,969] Trial 12 finished with value: 0.7386876200496797 and parameters: {'learning_rate': 7.274368037095892e-05, 'per_device_train_batch_size': 32, 'weight_decay': 0.23786218354050315, 'num_train_epochs': 2, 'warmup_steps': 479}. Best is trial 1 with value: 0.7939043393020544.\n"
     ]
    },
    {
     "data": {
      "text/html": [
       "wandb version 0.16.6 is available!  To upgrade, please run:\n",
       " $ pip install wandb --upgrade"
      ],
      "text/plain": [
       "<IPython.core.display.HTML object>"
      ]
     },
     "metadata": {},
     "output_type": "display_data"
    },
    {
     "data": {
      "text/html": [
       "Tracking run with wandb version 0.16.4"
      ],
      "text/plain": [
       "<IPython.core.display.HTML object>"
      ]
     },
     "metadata": {},
     "output_type": "display_data"
    },
    {
     "data": {
      "text/html": [
       "Run data is saved locally in <code>/net/fs-2/scale/OrionStore/Home/joteklem/Pytorch_models/wandb/run-20240418_134945-czssoitj</code>"
      ],
      "text/plain": [
       "<IPython.core.display.HTML object>"
      ]
     },
     "metadata": {},
     "output_type": "display_data"
    },
    {
     "data": {
      "text/html": [
       "Syncing run <strong><a href='https://wandb.ai/master-2024/BERT_BASE/runs/czssoitj' target=\"_blank\">trial-13</a></strong> to <a href='https://wandb.ai/master-2024/BERT_BASE' target=\"_blank\">Weights & Biases</a> (<a href='https://wandb.me/run' target=\"_blank\">docs</a>)<br/>"
      ],
      "text/plain": [
       "<IPython.core.display.HTML object>"
      ]
     },
     "metadata": {},
     "output_type": "display_data"
    },
    {
     "data": {
      "text/html": [
       " View project at <a href='https://wandb.ai/master-2024/BERT_BASE' target=\"_blank\">https://wandb.ai/master-2024/BERT_BASE</a>"
      ],
      "text/plain": [
       "<IPython.core.display.HTML object>"
      ]
     },
     "metadata": {},
     "output_type": "display_data"
    },
    {
     "data": {
      "text/html": [
       " View run at <a href='https://wandb.ai/master-2024/BERT_BASE/runs/czssoitj' target=\"_blank\">https://wandb.ai/master-2024/BERT_BASE/runs/czssoitj</a>"
      ],
      "text/plain": [
       "<IPython.core.display.HTML object>"
      ]
     },
     "metadata": {},
     "output_type": "display_data"
    },
    {
     "name": "stderr",
     "output_type": "stream",
     "text": [
      "/net/fs-2/scale/OrionStore/Scratch/joteklem/MyCondaEnvironments/Python3.11/orion_env/lib/python3.11/site-packages/accelerate/accelerator.py:432: FutureWarning: Passing the following arguments to `Accelerator` is deprecated and will be removed in version 1.0 of Accelerate: dict_keys(['dispatch_batches', 'split_batches', 'even_batches', 'use_seedable_sampler']). Please pass an `accelerate.DataLoaderConfiguration` instead: \n",
      "dataloader_config = DataLoaderConfiguration(dispatch_batches=None, split_batches=False, even_batches=True, use_seedable_sampler=True)\n",
      "  warnings.warn(\n",
      "Detected kernel version 3.10.0, which is below the recommended minimum of 5.5.0; this can cause the process to hang. It is recommended to upgrade the kernel to the minimum version or higher.\n"
     ]
    },
    {
     "name": "stdout",
     "output_type": "stream",
     "text": [
      "Starting trial 13\n"
     ]
    },
    {
     "data": {
      "text/html": [
       "\n",
       "    <div>\n",
       "      \n",
       "      <progress value='318' max='790' style='width:300px; height:20px; vertical-align: middle;'></progress>\n",
       "      [318/790 01:11 < 01:46, 4.44 it/s, Epoch 2/5]\n",
       "    </div>\n",
       "    <table border=\"1\" class=\"dataframe\">\n",
       "  <thead>\n",
       " <tr style=\"text-align: left;\">\n",
       "      <th>Epoch</th>\n",
       "      <th>Training Loss</th>\n",
       "      <th>Validation Loss</th>\n",
       "      <th>Accuracy</th>\n",
       "      <th>Balanced accuracy</th>\n",
       "      <th>F1 weighted</th>\n",
       "      <th>F1 macro</th>\n",
       "      <th>F1 micro</th>\n",
       "      <th>Classification report</th>\n",
       "    </tr>\n",
       "  </thead>\n",
       "  <tbody>\n",
       "    <tr>\n",
       "      <td>0</td>\n",
       "      <td>No log</td>\n",
       "      <td>0.538824</td>\n",
       "      <td>0.801540</td>\n",
       "      <td>0.772597</td>\n",
       "      <td>0.805007</td>\n",
       "      <td>0.729884</td>\n",
       "      <td>0.801540</td>\n",
       "      <td>{'0': {'precision': 0.821376281112738, 'recall': 0.6233333333333333, 'f1-score': 0.7087807959570436, 'support': 900.0}, '1': {'precision': 0.874826147426982, 'recall': 0.8728029602220166, 'f1-score': 0.8738133827274833, 'support': 2162.0}, '2': {'precision': 0.48134328358208955, 'recall': 0.821656050955414, 'f1-score': 0.6070588235294118, 'support': 314.0}, 'accuracy': 0.8015402843601895, 'macro avg': {'precision': 0.7258485707072698, 'recall': 0.7725974481702546, 'f1-score': 0.7298843340713129, 'support': 3376.0}, 'weighted avg': {'precision': 0.8239794356585828, 'recall': 0.8015402843601895, 'f1-score': 0.8050070261867279, 'support': 3376.0}}</td>\n",
       "    </tr>\n",
       "  </tbody>\n",
       "</table><p>\n",
       "    <div>\n",
       "      \n",
       "      <progress value='106' max='106' style='width:300px; height:20px; vertical-align: middle;'></progress>\n",
       "      [106/106 00:03]\n",
       "    </div>\n",
       "    "
      ],
      "text/plain": [
       "<IPython.core.display.HTML object>"
      ]
     },
     "metadata": {},
     "output_type": "display_data"
    },
    {
     "name": "stderr",
     "output_type": "stream",
     "text": [
      "[I 2024-04-18 13:51:03,846] Trial 13 pruned. \n"
     ]
    },
    {
     "data": {
      "text/html": [
       "Finishing last run (ID:czssoitj) before initializing another..."
      ],
      "text/plain": [
       "<IPython.core.display.HTML object>"
      ]
     },
     "metadata": {},
     "output_type": "display_data"
    },
    {
     "data": {
      "text/html": [
       "<style>\n",
       "    table.wandb td:nth-child(1) { padding: 0 10px; text-align: left ; width: auto;} td:nth-child(2) {text-align: left ; width: 100%}\n",
       "    .wandb-row { display: flex; flex-direction: row; flex-wrap: wrap; justify-content: flex-start; width: 100% }\n",
       "    .wandb-col { display: flex; flex-direction: column; flex-basis: 100%; flex: 1; padding: 10px; }\n",
       "    </style>\n",
       "<div class=\"wandb-row\"><div class=\"wandb-col\"><h3>Run history:</h3><br/><table class=\"wandb\"><tr><td>eval/Accuracy</td><td>▁█</td></tr><tr><td>eval/Balanced accuracy</td><td>█▁</td></tr><tr><td>eval/F1 macro</td><td>▁█</td></tr><tr><td>eval/F1 micro</td><td>▁█</td></tr><tr><td>eval/F1 weighted</td><td>█▁</td></tr><tr><td>eval/loss</td><td>█▁</td></tr><tr><td>eval/runtime</td><td>▁█</td></tr><tr><td>eval/samples_per_second</td><td>█▁</td></tr><tr><td>eval/steps_per_second</td><td>█▁</td></tr><tr><td>train/epoch</td><td>▁██</td></tr><tr><td>train/global_step</td><td>▁██</td></tr><tr><td>train/grad_norm</td><td>▁</td></tr><tr><td>train/learning_rate</td><td>▁</td></tr><tr><td>train/loss</td><td>▁</td></tr></table><br/></div><div class=\"wandb-col\"><h3>Run summary:</h3><br/><table class=\"wandb\"><tr><td>eval/Accuracy</td><td>0.80924</td></tr><tr><td>eval/Balanced accuracy</td><td>0.70866</td></tr><tr><td>eval/F1 macro</td><td>0.73121</td></tr><tr><td>eval/F1 micro</td><td>0.80924</td></tr><tr><td>eval/F1 weighted</td><td>0.79242</td></tr><tr><td>eval/loss</td><td>0.53498</td></tr><tr><td>eval/runtime</td><td>3.6454</td></tr><tr><td>eval/samples_per_second</td><td>926.099</td></tr><tr><td>eval/steps_per_second</td><td>29.078</td></tr><tr><td>train/epoch</td><td>2.0</td></tr><tr><td>train/global_step</td><td>317</td></tr><tr><td>train/grad_norm</td><td>6.78824</td></tr><tr><td>train/learning_rate</td><td>0.0001</td></tr><tr><td>train/loss</td><td>0.5736</td></tr></table><br/></div></div>"
      ],
      "text/plain": [
       "<IPython.core.display.HTML object>"
      ]
     },
     "metadata": {},
     "output_type": "display_data"
    },
    {
     "data": {
      "text/html": [
       " View run <strong style=\"color:#cdcd00\">trial-13</strong> at: <a href='https://wandb.ai/master-2024/BERT_BASE/runs/czssoitj' target=\"_blank\">https://wandb.ai/master-2024/BERT_BASE/runs/czssoitj</a><br/>Synced 5 W&B file(s), 0 media file(s), 0 artifact file(s) and 0 other file(s)"
      ],
      "text/plain": [
       "<IPython.core.display.HTML object>"
      ]
     },
     "metadata": {},
     "output_type": "display_data"
    },
    {
     "data": {
      "text/html": [
       "Find logs at: <code>./wandb/run-20240418_134945-czssoitj/logs</code>"
      ],
      "text/plain": [
       "<IPython.core.display.HTML object>"
      ]
     },
     "metadata": {},
     "output_type": "display_data"
    },
    {
     "data": {
      "text/html": [
       "Successfully finished last run (ID:czssoitj). Initializing new run:<br/>"
      ],
      "text/plain": [
       "<IPython.core.display.HTML object>"
      ]
     },
     "metadata": {},
     "output_type": "display_data"
    },
    {
     "data": {
      "text/html": [
       "wandb version 0.16.6 is available!  To upgrade, please run:\n",
       " $ pip install wandb --upgrade"
      ],
      "text/plain": [
       "<IPython.core.display.HTML object>"
      ]
     },
     "metadata": {},
     "output_type": "display_data"
    },
    {
     "data": {
      "text/html": [
       "Tracking run with wandb version 0.16.4"
      ],
      "text/plain": [
       "<IPython.core.display.HTML object>"
      ]
     },
     "metadata": {},
     "output_type": "display_data"
    },
    {
     "data": {
      "text/html": [
       "Run data is saved locally in <code>/net/fs-2/scale/OrionStore/Home/joteklem/Pytorch_models/wandb/run-20240418_135103-5f8oaze6</code>"
      ],
      "text/plain": [
       "<IPython.core.display.HTML object>"
      ]
     },
     "metadata": {},
     "output_type": "display_data"
    },
    {
     "data": {
      "text/html": [
       "Syncing run <strong><a href='https://wandb.ai/master-2024/BERT_BASE/runs/5f8oaze6' target=\"_blank\">trial-14</a></strong> to <a href='https://wandb.ai/master-2024/BERT_BASE' target=\"_blank\">Weights & Biases</a> (<a href='https://wandb.me/run' target=\"_blank\">docs</a>)<br/>"
      ],
      "text/plain": [
       "<IPython.core.display.HTML object>"
      ]
     },
     "metadata": {},
     "output_type": "display_data"
    },
    {
     "data": {
      "text/html": [
       " View project at <a href='https://wandb.ai/master-2024/BERT_BASE' target=\"_blank\">https://wandb.ai/master-2024/BERT_BASE</a>"
      ],
      "text/plain": [
       "<IPython.core.display.HTML object>"
      ]
     },
     "metadata": {},
     "output_type": "display_data"
    },
    {
     "data": {
      "text/html": [
       " View run at <a href='https://wandb.ai/master-2024/BERT_BASE/runs/5f8oaze6' target=\"_blank\">https://wandb.ai/master-2024/BERT_BASE/runs/5f8oaze6</a>"
      ],
      "text/plain": [
       "<IPython.core.display.HTML object>"
      ]
     },
     "metadata": {},
     "output_type": "display_data"
    },
    {
     "name": "stderr",
     "output_type": "stream",
     "text": [
      "/net/fs-2/scale/OrionStore/Scratch/joteklem/MyCondaEnvironments/Python3.11/orion_env/lib/python3.11/site-packages/accelerate/accelerator.py:432: FutureWarning: Passing the following arguments to `Accelerator` is deprecated and will be removed in version 1.0 of Accelerate: dict_keys(['dispatch_batches', 'split_batches', 'even_batches', 'use_seedable_sampler']). Please pass an `accelerate.DataLoaderConfiguration` instead: \n",
      "dataloader_config = DataLoaderConfiguration(dispatch_batches=None, split_batches=False, even_batches=True, use_seedable_sampler=True)\n",
      "  warnings.warn(\n",
      "Detected kernel version 3.10.0, which is below the recommended minimum of 5.5.0; this can cause the process to hang. It is recommended to upgrade the kernel to the minimum version or higher.\n"
     ]
    },
    {
     "name": "stdout",
     "output_type": "stream",
     "text": [
      "Starting trial 14\n"
     ]
    },
    {
     "data": {
      "text/html": [
       "\n",
       "    <div>\n",
       "      \n",
       "      <progress value='318' max='632' style='width:300px; height:20px; vertical-align: middle;'></progress>\n",
       "      [318/632 01:11 < 01:10, 4.44 it/s, Epoch 2/4]\n",
       "    </div>\n",
       "    <table border=\"1\" class=\"dataframe\">\n",
       "  <thead>\n",
       " <tr style=\"text-align: left;\">\n",
       "      <th>Epoch</th>\n",
       "      <th>Training Loss</th>\n",
       "      <th>Validation Loss</th>\n",
       "      <th>Accuracy</th>\n",
       "      <th>Balanced accuracy</th>\n",
       "      <th>F1 weighted</th>\n",
       "      <th>F1 macro</th>\n",
       "      <th>F1 micro</th>\n",
       "      <th>Classification report</th>\n",
       "    </tr>\n",
       "  </thead>\n",
       "  <tbody>\n",
       "    <tr>\n",
       "      <td>0</td>\n",
       "      <td>No log</td>\n",
       "      <td>0.521653</td>\n",
       "      <td>0.813685</td>\n",
       "      <td>0.733165</td>\n",
       "      <td>0.811649</td>\n",
       "      <td>0.734563</td>\n",
       "      <td>0.813685</td>\n",
       "      <td>{'0': {'precision': 0.7991967871485943, 'recall': 0.6633333333333333, 'f1-score': 0.7249544626593807, 'support': 900.0}, '1': {'precision': 0.855701754385965, 'recall': 0.9024051803885291, 'f1-score': 0.8784331382260243, 'support': 2162.0}, '2': {'precision': 0.5702005730659025, 'recall': 0.6337579617834395, 'f1-score': 0.6003016591251885, 'support': 314.0}, 'accuracy': 0.8136848341232228, 'macro avg': {'precision': 0.7416997048668206, 'recall': 0.7331654918351006, 'f1-score': 0.7345630866701979, 'support': 3376.0}, 'weighted avg': {'precision': 0.8140839103551198, 'recall': 0.8136848341232228, 'f1-score': 0.8116487506526708, 'support': 3376.0}}</td>\n",
       "    </tr>\n",
       "  </tbody>\n",
       "</table><p>\n",
       "    <div>\n",
       "      \n",
       "      <progress value='106' max='106' style='width:300px; height:20px; vertical-align: middle;'></progress>\n",
       "      [106/106 00:03]\n",
       "    </div>\n",
       "    "
      ],
      "text/plain": [
       "<IPython.core.display.HTML object>"
      ]
     },
     "metadata": {},
     "output_type": "display_data"
    },
    {
     "name": "stderr",
     "output_type": "stream",
     "text": [
      "[I 2024-04-18 13:52:27,493] Trial 14 pruned. \n"
     ]
    },
    {
     "data": {
      "text/html": [
       "Finishing last run (ID:5f8oaze6) before initializing another..."
      ],
      "text/plain": [
       "<IPython.core.display.HTML object>"
      ]
     },
     "metadata": {},
     "output_type": "display_data"
    },
    {
     "data": {
      "text/html": [
       "<style>\n",
       "    table.wandb td:nth-child(1) { padding: 0 10px; text-align: left ; width: auto;} td:nth-child(2) {text-align: left ; width: 100%}\n",
       "    .wandb-row { display: flex; flex-direction: row; flex-wrap: wrap; justify-content: flex-start; width: 100% }\n",
       "    .wandb-col { display: flex; flex-direction: column; flex-basis: 100%; flex: 1; padding: 10px; }\n",
       "    </style>\n",
       "<div class=\"wandb-row\"><div class=\"wandb-col\"><h3>Run history:</h3><br/><table class=\"wandb\"><tr><td>eval/Accuracy</td><td>▁█</td></tr><tr><td>eval/Balanced accuracy</td><td>▁█</td></tr><tr><td>eval/F1 macro</td><td>▁█</td></tr><tr><td>eval/F1 micro</td><td>▁█</td></tr><tr><td>eval/F1 weighted</td><td>▁█</td></tr><tr><td>eval/loss</td><td>█▁</td></tr><tr><td>eval/runtime</td><td>▁█</td></tr><tr><td>eval/samples_per_second</td><td>█▁</td></tr><tr><td>eval/steps_per_second</td><td>█▁</td></tr><tr><td>train/epoch</td><td>▁██</td></tr><tr><td>train/global_step</td><td>▁██</td></tr><tr><td>train/grad_norm</td><td>▁</td></tr><tr><td>train/learning_rate</td><td>▁</td></tr><tr><td>train/loss</td><td>▁</td></tr></table><br/></div><div class=\"wandb-col\"><h3>Run summary:</h3><br/><table class=\"wandb\"><tr><td>eval/Accuracy</td><td>0.83027</td></tr><tr><td>eval/Balanced accuracy</td><td>0.75934</td></tr><tr><td>eval/F1 macro</td><td>0.76293</td></tr><tr><td>eval/F1 micro</td><td>0.83027</td></tr><tr><td>eval/F1 weighted</td><td>0.8247</td></tr><tr><td>eval/loss</td><td>0.46404</td></tr><tr><td>eval/runtime</td><td>3.6609</td></tr><tr><td>eval/samples_per_second</td><td>922.19</td></tr><tr><td>eval/steps_per_second</td><td>28.955</td></tr><tr><td>train/epoch</td><td>2.0</td></tr><tr><td>train/global_step</td><td>317</td></tr><tr><td>train/grad_norm</td><td>3.8494</td></tr><tr><td>train/learning_rate</td><td>3e-05</td></tr><tr><td>train/loss</td><td>0.6198</td></tr></table><br/></div></div>"
      ],
      "text/plain": [
       "<IPython.core.display.HTML object>"
      ]
     },
     "metadata": {},
     "output_type": "display_data"
    },
    {
     "data": {
      "text/html": [
       " View run <strong style=\"color:#cdcd00\">trial-14</strong> at: <a href='https://wandb.ai/master-2024/BERT_BASE/runs/5f8oaze6' target=\"_blank\">https://wandb.ai/master-2024/BERT_BASE/runs/5f8oaze6</a><br/>Synced 5 W&B file(s), 0 media file(s), 0 artifact file(s) and 0 other file(s)"
      ],
      "text/plain": [
       "<IPython.core.display.HTML object>"
      ]
     },
     "metadata": {},
     "output_type": "display_data"
    },
    {
     "data": {
      "text/html": [
       "Find logs at: <code>./wandb/run-20240418_135103-5f8oaze6/logs</code>"
      ],
      "text/plain": [
       "<IPython.core.display.HTML object>"
      ]
     },
     "metadata": {},
     "output_type": "display_data"
    },
    {
     "data": {
      "text/html": [
       "Successfully finished last run (ID:5f8oaze6). Initializing new run:<br/>"
      ],
      "text/plain": [
       "<IPython.core.display.HTML object>"
      ]
     },
     "metadata": {},
     "output_type": "display_data"
    },
    {
     "data": {
      "text/html": [
       "wandb version 0.16.6 is available!  To upgrade, please run:\n",
       " $ pip install wandb --upgrade"
      ],
      "text/plain": [
       "<IPython.core.display.HTML object>"
      ]
     },
     "metadata": {},
     "output_type": "display_data"
    },
    {
     "data": {
      "text/html": [
       "Tracking run with wandb version 0.16.4"
      ],
      "text/plain": [
       "<IPython.core.display.HTML object>"
      ]
     },
     "metadata": {},
     "output_type": "display_data"
    },
    {
     "data": {
      "text/html": [
       "Run data is saved locally in <code>/net/fs-2/scale/OrionStore/Home/joteklem/Pytorch_models/wandb/run-20240418_135227-loxrnjbv</code>"
      ],
      "text/plain": [
       "<IPython.core.display.HTML object>"
      ]
     },
     "metadata": {},
     "output_type": "display_data"
    },
    {
     "data": {
      "text/html": [
       "Syncing run <strong><a href='https://wandb.ai/master-2024/BERT_BASE/runs/loxrnjbv' target=\"_blank\">trial-15</a></strong> to <a href='https://wandb.ai/master-2024/BERT_BASE' target=\"_blank\">Weights & Biases</a> (<a href='https://wandb.me/run' target=\"_blank\">docs</a>)<br/>"
      ],
      "text/plain": [
       "<IPython.core.display.HTML object>"
      ]
     },
     "metadata": {},
     "output_type": "display_data"
    },
    {
     "data": {
      "text/html": [
       " View project at <a href='https://wandb.ai/master-2024/BERT_BASE' target=\"_blank\">https://wandb.ai/master-2024/BERT_BASE</a>"
      ],
      "text/plain": [
       "<IPython.core.display.HTML object>"
      ]
     },
     "metadata": {},
     "output_type": "display_data"
    },
    {
     "data": {
      "text/html": [
       " View run at <a href='https://wandb.ai/master-2024/BERT_BASE/runs/loxrnjbv' target=\"_blank\">https://wandb.ai/master-2024/BERT_BASE/runs/loxrnjbv</a>"
      ],
      "text/plain": [
       "<IPython.core.display.HTML object>"
      ]
     },
     "metadata": {},
     "output_type": "display_data"
    },
    {
     "name": "stderr",
     "output_type": "stream",
     "text": [
      "/net/fs-2/scale/OrionStore/Scratch/joteklem/MyCondaEnvironments/Python3.11/orion_env/lib/python3.11/site-packages/accelerate/accelerator.py:432: FutureWarning: Passing the following arguments to `Accelerator` is deprecated and will be removed in version 1.0 of Accelerate: dict_keys(['dispatch_batches', 'split_batches', 'even_batches', 'use_seedable_sampler']). Please pass an `accelerate.DataLoaderConfiguration` instead: \n",
      "dataloader_config = DataLoaderConfiguration(dispatch_batches=None, split_batches=False, even_batches=True, use_seedable_sampler=True)\n",
      "  warnings.warn(\n",
      "Detected kernel version 3.10.0, which is below the recommended minimum of 5.5.0; this can cause the process to hang. It is recommended to upgrade the kernel to the minimum version or higher.\n"
     ]
    },
    {
     "name": "stdout",
     "output_type": "stream",
     "text": [
      "Starting trial 15\n"
     ]
    },
    {
     "data": {
      "text/html": [
       "\n",
       "    <div>\n",
       "      \n",
       "      <progress value='1580' max='1580' style='width:300px; height:20px; vertical-align: middle;'></progress>\n",
       "      [1580/1580 04:04, Epoch 4/5]\n",
       "    </div>\n",
       "    <table border=\"1\" class=\"dataframe\">\n",
       "  <thead>\n",
       " <tr style=\"text-align: left;\">\n",
       "      <th>Epoch</th>\n",
       "      <th>Training Loss</th>\n",
       "      <th>Validation Loss</th>\n",
       "      <th>Accuracy</th>\n",
       "      <th>Balanced accuracy</th>\n",
       "      <th>F1 weighted</th>\n",
       "      <th>F1 macro</th>\n",
       "      <th>F1 micro</th>\n",
       "      <th>Classification report</th>\n",
       "    </tr>\n",
       "  </thead>\n",
       "  <tbody>\n",
       "    <tr>\n",
       "      <td>0</td>\n",
       "      <td>No log</td>\n",
       "      <td>0.453056</td>\n",
       "      <td>0.835308</td>\n",
       "      <td>0.758598</td>\n",
       "      <td>0.832091</td>\n",
       "      <td>0.774424</td>\n",
       "      <td>0.835308</td>\n",
       "      <td>{'0': {'precision': 0.8064102564102564, 'recall': 0.6988888888888889, 'f1-score': 0.7488095238095239, 'support': 900.0}, '1': {'precision': 0.8599913307325531, 'recall': 0.9176688251618872, 'f1-score': 0.8878943835309913, 'support': 2162.0}, '2': {'precision': 0.7162629757785467, 'recall': 0.6592356687898089, 'f1-score': 0.6865671641791046, 'support': 314.0}, 'accuracy': 0.8353080568720379, 'macro avg': {'precision': 0.7942215209737854, 'recall': 0.758597794280195, 'f1-score': 0.7744236905065399, 'support': 3376.0}, 'weighted avg': {'precision': 0.8323391771941571, 'recall': 0.8353080568720379, 'f1-score': 0.8320907340565207, 'support': 3376.0}}</td>\n",
       "    </tr>\n",
       "    <tr>\n",
       "      <td>2</td>\n",
       "      <td>0.520400</td>\n",
       "      <td>0.457153</td>\n",
       "      <td>0.838863</td>\n",
       "      <td>0.801582</td>\n",
       "      <td>0.837494</td>\n",
       "      <td>0.790633</td>\n",
       "      <td>0.838863</td>\n",
       "      <td>{'0': {'precision': 0.8005148005148005, 'recall': 0.6911111111111111, 'f1-score': 0.7418008348240908, 'support': 900.0}, '1': {'precision': 0.8791011235955056, 'recall': 0.9047178538390379, 'f1-score': 0.8917255527695463, 'support': 2162.0}, '2': {'precision': 0.679144385026738, 'recall': 0.8089171974522293, 'f1-score': 0.7383720930232558, 'support': 314.0}, 'accuracy': 0.8388625592417062, 'macro avg': {'precision': 0.7862534363790147, 'recall': 0.8015820541341262, 'f1-score': 0.7906328268722976, 'support': 3376.0}, 'weighted avg': {'precision': 0.839553106213033, 'recall': 0.8388625592417062, 'f1-score': 0.8374941450351728, 'support': 3376.0}}</td>\n",
       "    </tr>\n",
       "    <tr>\n",
       "      <td>4</td>\n",
       "      <td>0.223000</td>\n",
       "      <td>0.637420</td>\n",
       "      <td>0.836197</td>\n",
       "      <td>0.781961</td>\n",
       "      <td>0.834074</td>\n",
       "      <td>0.790490</td>\n",
       "      <td>0.836197</td>\n",
       "      <td>{'0': {'precision': 0.7749077490774908, 'recall': 0.7, 'f1-score': 0.7355516637478109, 'support': 900.0}, '1': {'precision': 0.8688524590163934, 'recall': 0.9070305272895467, 'f1-score': 0.8875311156370219, 'support': 2162.0}, '2': {'precision': 0.7581699346405228, 'recall': 0.7388535031847133, 'f1-score': 0.7483870967741936, 'support': 314.0}, 'accuracy': 0.836196682464455, 'macro avg': {'precision': 0.800643380911469, 'recall': 0.78196134349142, 'f1-score': 0.7904899587196755, 'support': 3376.0}, 'weighted avg': {'precision': 0.8335134330688118, 'recall': 0.836196682464455, 'f1-score': 0.8340735538410451, 'support': 3376.0}}</td>\n",
       "    </tr>\n",
       "  </tbody>\n",
       "</table><p>"
      ],
      "text/plain": [
       "<IPython.core.display.HTML object>"
      ]
     },
     "metadata": {},
     "output_type": "display_data"
    },
    {
     "data": {
      "text/html": [
       "\n",
       "    <div>\n",
       "      \n",
       "      <progress value='211' max='211' style='width:300px; height:20px; vertical-align: middle;'></progress>\n",
       "      [211/211 00:03]\n",
       "    </div>\n",
       "    "
      ],
      "text/plain": [
       "<IPython.core.display.HTML object>"
      ]
     },
     "metadata": {},
     "output_type": "display_data"
    },
    {
     "name": "stderr",
     "output_type": "stream",
     "text": [
      "/net/fs-2/scale/OrionStore/Scratch/joteklem/MyCondaEnvironments/Python3.11/orion_env/lib/python3.11/site-packages/optuna/trial/_trial.py:499: UserWarning: The reported value is ignored because this `step` 4.992101105845181 is already reported.\n",
      "  warnings.warn(\n"
     ]
    },
    {
     "name": "stdout",
     "output_type": "stream",
     "text": [
      "Completed trial 15\n"
     ]
    },
    {
     "data": {
      "text/html": [
       "<style>\n",
       "    table.wandb td:nth-child(1) { padding: 0 10px; text-align: left ; width: auto;} td:nth-child(2) {text-align: left ; width: 100%}\n",
       "    .wandb-row { display: flex; flex-direction: row; flex-wrap: wrap; justify-content: flex-start; width: 100% }\n",
       "    .wandb-col { display: flex; flex-direction: column; flex-basis: 100%; flex: 1; padding: 10px; }\n",
       "    </style>\n",
       "<div class=\"wandb-row\"><div class=\"wandb-col\"><h3>Run history:</h3><br/><table class=\"wandb\"><tr><td>Training loss</td><td>▁</td></tr><tr><td>Validation loss</td><td>▁</td></tr><tr><td>Weighted F1 score</td><td>▁</td></tr><tr><td>eval/Accuracy</td><td>▁█▅▁▂▂</td></tr><tr><td>eval/Balanced accuracy</td><td>▁▂█▆▅▅</td></tr><tr><td>eval/F1 macro</td><td>▁▆█▇██</td></tr><tr><td>eval/F1 micro</td><td>▁█▅▁▂▂</td></tr><tr><td>eval/F1 weighted</td><td>▁▄█▂▄▄</td></tr><tr><td>eval/loss</td><td>▂▁▂▅██</td></tr><tr><td>eval/runtime</td><td>▃▁▃▄▅█</td></tr><tr><td>eval/samples_per_second</td><td>▆█▆▅▄▁</td></tr><tr><td>eval/steps_per_second</td><td>▆█▆▅▄▁</td></tr><tr><td>train/epoch</td><td>▁▃▃▅▆▆███</td></tr><tr><td>train/global_step</td><td>▁▃▃▅▆▆█████</td></tr><tr><td>train/grad_norm</td><td>▁█</td></tr><tr><td>train/learning_rate</td><td>█▁</td></tr><tr><td>train/loss</td><td>█▁</td></tr><tr><td>train/total_flos</td><td>▁</td></tr><tr><td>train/train_loss</td><td>▁</td></tr><tr><td>train/train_runtime</td><td>▁</td></tr><tr><td>train/train_samples_per_second</td><td>▁</td></tr><tr><td>train/train_steps_per_second</td><td>▁</td></tr></table><br/></div><div class=\"wandb-col\"><h3>Run summary:</h3><br/><table class=\"wandb\"><tr><td>Training loss</td><td>0.223</td></tr><tr><td>Validation loss</td><td>0.54943</td></tr><tr><td>Weighted F1 score</td><td>0.79049</td></tr><tr><td>eval/Accuracy</td><td>0.8362</td></tr><tr><td>eval/Balanced accuracy</td><td>0.78196</td></tr><tr><td>eval/F1 macro</td><td>0.79049</td></tr><tr><td>eval/F1 micro</td><td>0.8362</td></tr><tr><td>eval/F1 weighted</td><td>0.83407</td></tr><tr><td>eval/loss</td><td>0.63742</td></tr><tr><td>eval/runtime</td><td>3.6742</td></tr><tr><td>eval/samples_per_second</td><td>918.828</td></tr><tr><td>eval/steps_per_second</td><td>57.427</td></tr><tr><td>train/epoch</td><td>4.99</td></tr><tr><td>train/global_step</td><td>1580</td></tr><tr><td>train/grad_norm</td><td>8.73413</td></tr><tr><td>train/learning_rate</td><td>1e-05</td></tr><tr><td>train/loss</td><td>0.223</td></tr><tr><td>train/total_flos</td><td>3572093537429760.0</td></tr><tr><td>train/train_loss</td><td>0.31809</td></tr><tr><td>train/train_runtime</td><td>244.7532</td></tr><tr><td>train/train_samples_per_second</td><td>206.902</td></tr><tr><td>train/train_steps_per_second</td><td>6.455</td></tr></table><br/></div></div>"
      ],
      "text/plain": [
       "<IPython.core.display.HTML object>"
      ]
     },
     "metadata": {},
     "output_type": "display_data"
    },
    {
     "data": {
      "text/html": [
       " View run <strong style=\"color:#cdcd00\">trial-15</strong> at: <a href='https://wandb.ai/master-2024/BERT_BASE/runs/loxrnjbv' target=\"_blank\">https://wandb.ai/master-2024/BERT_BASE/runs/loxrnjbv</a><br/>Synced 5 W&B file(s), 0 media file(s), 0 artifact file(s) and 0 other file(s)"
      ],
      "text/plain": [
       "<IPython.core.display.HTML object>"
      ]
     },
     "metadata": {},
     "output_type": "display_data"
    },
    {
     "data": {
      "text/html": [
       "Find logs at: <code>./wandb/run-20240418_135227-loxrnjbv/logs</code>"
      ],
      "text/plain": [
       "<IPython.core.display.HTML object>"
      ]
     },
     "metadata": {},
     "output_type": "display_data"
    },
    {
     "name": "stderr",
     "output_type": "stream",
     "text": [
      "[I 2024-04-18 13:56:49,313] Trial 15 finished with value: 0.7904899587196755 and parameters: {'learning_rate': 3.261904813079586e-05, 'per_device_train_batch_size': 16, 'weight_decay': 0.18603390068806083, 'num_train_epochs': 5, 'warmup_steps': 200}. Best is trial 1 with value: 0.7939043393020544.\n"
     ]
    },
    {
     "data": {
      "text/html": [
       "wandb version 0.16.6 is available!  To upgrade, please run:\n",
       " $ pip install wandb --upgrade"
      ],
      "text/plain": [
       "<IPython.core.display.HTML object>"
      ]
     },
     "metadata": {},
     "output_type": "display_data"
    },
    {
     "data": {
      "text/html": [
       "Tracking run with wandb version 0.16.4"
      ],
      "text/plain": [
       "<IPython.core.display.HTML object>"
      ]
     },
     "metadata": {},
     "output_type": "display_data"
    },
    {
     "data": {
      "text/html": [
       "Run data is saved locally in <code>/net/fs-2/scale/OrionStore/Home/joteklem/Pytorch_models/wandb/run-20240418_135649-rwazpht2</code>"
      ],
      "text/plain": [
       "<IPython.core.display.HTML object>"
      ]
     },
     "metadata": {},
     "output_type": "display_data"
    },
    {
     "data": {
      "text/html": [
       "Syncing run <strong><a href='https://wandb.ai/master-2024/BERT_BASE/runs/rwazpht2' target=\"_blank\">trial-16</a></strong> to <a href='https://wandb.ai/master-2024/BERT_BASE' target=\"_blank\">Weights & Biases</a> (<a href='https://wandb.me/run' target=\"_blank\">docs</a>)<br/>"
      ],
      "text/plain": [
       "<IPython.core.display.HTML object>"
      ]
     },
     "metadata": {},
     "output_type": "display_data"
    },
    {
     "data": {
      "text/html": [
       " View project at <a href='https://wandb.ai/master-2024/BERT_BASE' target=\"_blank\">https://wandb.ai/master-2024/BERT_BASE</a>"
      ],
      "text/plain": [
       "<IPython.core.display.HTML object>"
      ]
     },
     "metadata": {},
     "output_type": "display_data"
    },
    {
     "data": {
      "text/html": [
       " View run at <a href='https://wandb.ai/master-2024/BERT_BASE/runs/rwazpht2' target=\"_blank\">https://wandb.ai/master-2024/BERT_BASE/runs/rwazpht2</a>"
      ],
      "text/plain": [
       "<IPython.core.display.HTML object>"
      ]
     },
     "metadata": {},
     "output_type": "display_data"
    },
    {
     "name": "stderr",
     "output_type": "stream",
     "text": [
      "/net/fs-2/scale/OrionStore/Scratch/joteklem/MyCondaEnvironments/Python3.11/orion_env/lib/python3.11/site-packages/accelerate/accelerator.py:432: FutureWarning: Passing the following arguments to `Accelerator` is deprecated and will be removed in version 1.0 of Accelerate: dict_keys(['dispatch_batches', 'split_batches', 'even_batches', 'use_seedable_sampler']). Please pass an `accelerate.DataLoaderConfiguration` instead: \n",
      "dataloader_config = DataLoaderConfiguration(dispatch_batches=None, split_batches=False, even_batches=True, use_seedable_sampler=True)\n",
      "  warnings.warn(\n",
      "Detected kernel version 3.10.0, which is below the recommended minimum of 5.5.0; this can cause the process to hang. It is recommended to upgrade the kernel to the minimum version or higher.\n"
     ]
    },
    {
     "name": "stdout",
     "output_type": "stream",
     "text": [
      "Starting trial 16\n"
     ]
    },
    {
     "data": {
      "text/html": [
       "\n",
       "    <div>\n",
       "      \n",
       "      <progress value='318' max='474' style='width:300px; height:20px; vertical-align: middle;'></progress>\n",
       "      [318/474 01:11 < 00:35, 4.44 it/s, Epoch 2/3]\n",
       "    </div>\n",
       "    <table border=\"1\" class=\"dataframe\">\n",
       "  <thead>\n",
       " <tr style=\"text-align: left;\">\n",
       "      <th>Epoch</th>\n",
       "      <th>Training Loss</th>\n",
       "      <th>Validation Loss</th>\n",
       "      <th>Accuracy</th>\n",
       "      <th>Balanced accuracy</th>\n",
       "      <th>F1 weighted</th>\n",
       "      <th>F1 macro</th>\n",
       "      <th>F1 micro</th>\n",
       "      <th>Classification report</th>\n",
       "    </tr>\n",
       "  </thead>\n",
       "  <tbody>\n",
       "    <tr>\n",
       "      <td>0</td>\n",
       "      <td>No log</td>\n",
       "      <td>0.524111</td>\n",
       "      <td>0.796209</td>\n",
       "      <td>0.759113</td>\n",
       "      <td>0.801577</td>\n",
       "      <td>0.722908</td>\n",
       "      <td>0.796209</td>\n",
       "      <td>{'0': {'precision': 0.7835051546391752, 'recall': 0.6755555555555556, 'f1-score': 0.7255369928400955, 'support': 900.0}, '1': {'precision': 0.8785714285714286, 'recall': 0.8533765032377428, 'f1-score': 0.8657907085875175, 'support': 2162.0}, '2': {'precision': 0.47, 'recall': 0.7484076433121019, 'f1-score': 0.5773955773955773, 'support': 314.0}, 'accuracy': 0.7962085308056872, 'macro avg': {'precision': 0.7106921944035346, 'recall': 0.7591132340351333, 'f1-score': 0.7229077596077301, 'support': 3376.0}, 'weighted avg': {'precision': 0.8152269158017436, 'recall': 0.7962085308056872, 'f1-score': 0.8015773154101037, 'support': 3376.0}}</td>\n",
       "    </tr>\n",
       "  </tbody>\n",
       "</table><p>\n",
       "    <div>\n",
       "      \n",
       "      <progress value='106' max='106' style='width:300px; height:20px; vertical-align: middle;'></progress>\n",
       "      [106/106 00:03]\n",
       "    </div>\n",
       "    "
      ],
      "text/plain": [
       "<IPython.core.display.HTML object>"
      ]
     },
     "metadata": {},
     "output_type": "display_data"
    },
    {
     "name": "stderr",
     "output_type": "stream",
     "text": [
      "[I 2024-04-18 13:58:07,995] Trial 16 pruned. \n"
     ]
    },
    {
     "data": {
      "text/html": [
       "Finishing last run (ID:rwazpht2) before initializing another..."
      ],
      "text/plain": [
       "<IPython.core.display.HTML object>"
      ]
     },
     "metadata": {},
     "output_type": "display_data"
    },
    {
     "data": {
      "text/html": [
       "<style>\n",
       "    table.wandb td:nth-child(1) { padding: 0 10px; text-align: left ; width: auto;} td:nth-child(2) {text-align: left ; width: 100%}\n",
       "    .wandb-row { display: flex; flex-direction: row; flex-wrap: wrap; justify-content: flex-start; width: 100% }\n",
       "    .wandb-col { display: flex; flex-direction: column; flex-basis: 100%; flex: 1; padding: 10px; }\n",
       "    </style>\n",
       "<div class=\"wandb-row\"><div class=\"wandb-col\"><h3>Run history:</h3><br/><table class=\"wandb\"><tr><td>eval/Accuracy</td><td>▁█</td></tr><tr><td>eval/Balanced accuracy</td><td>█▁</td></tr><tr><td>eval/F1 macro</td><td>▁█</td></tr><tr><td>eval/F1 micro</td><td>▁█</td></tr><tr><td>eval/F1 weighted</td><td>█▁</td></tr><tr><td>eval/loss</td><td>█▁</td></tr><tr><td>eval/runtime</td><td>▁█</td></tr><tr><td>eval/samples_per_second</td><td>█▁</td></tr><tr><td>eval/steps_per_second</td><td>█▁</td></tr><tr><td>train/epoch</td><td>▁██</td></tr><tr><td>train/global_step</td><td>▁██</td></tr><tr><td>train/grad_norm</td><td>▁</td></tr><tr><td>train/learning_rate</td><td>▁</td></tr><tr><td>train/loss</td><td>▁</td></tr></table><br/></div><div class=\"wandb-col\"><h3>Run summary:</h3><br/><table class=\"wandb\"><tr><td>eval/Accuracy</td><td>0.81517</td></tr><tr><td>eval/Balanced accuracy</td><td>0.68911</td></tr><tr><td>eval/F1 macro</td><td>0.73484</td></tr><tr><td>eval/F1 micro</td><td>0.81517</td></tr><tr><td>eval/F1 weighted</td><td>0.79955</td></tr><tr><td>eval/loss</td><td>0.49925</td></tr><tr><td>eval/runtime</td><td>3.6481</td></tr><tr><td>eval/samples_per_second</td><td>925.41</td></tr><tr><td>eval/steps_per_second</td><td>29.056</td></tr><tr><td>train/epoch</td><td>2.0</td></tr><tr><td>train/global_step</td><td>317</td></tr><tr><td>train/grad_norm</td><td>5.58788</td></tr><tr><td>train/learning_rate</td><td>7e-05</td></tr><tr><td>train/loss</td><td>0.5799</td></tr></table><br/></div></div>"
      ],
      "text/plain": [
       "<IPython.core.display.HTML object>"
      ]
     },
     "metadata": {},
     "output_type": "display_data"
    },
    {
     "data": {
      "text/html": [
       " View run <strong style=\"color:#cdcd00\">trial-16</strong> at: <a href='https://wandb.ai/master-2024/BERT_BASE/runs/rwazpht2' target=\"_blank\">https://wandb.ai/master-2024/BERT_BASE/runs/rwazpht2</a><br/>Synced 5 W&B file(s), 0 media file(s), 0 artifact file(s) and 0 other file(s)"
      ],
      "text/plain": [
       "<IPython.core.display.HTML object>"
      ]
     },
     "metadata": {},
     "output_type": "display_data"
    },
    {
     "data": {
      "text/html": [
       "Find logs at: <code>./wandb/run-20240418_135649-rwazpht2/logs</code>"
      ],
      "text/plain": [
       "<IPython.core.display.HTML object>"
      ]
     },
     "metadata": {},
     "output_type": "display_data"
    },
    {
     "data": {
      "text/html": [
       "Successfully finished last run (ID:rwazpht2). Initializing new run:<br/>"
      ],
      "text/plain": [
       "<IPython.core.display.HTML object>"
      ]
     },
     "metadata": {},
     "output_type": "display_data"
    },
    {
     "data": {
      "text/html": [
       "wandb version 0.16.6 is available!  To upgrade, please run:\n",
       " $ pip install wandb --upgrade"
      ],
      "text/plain": [
       "<IPython.core.display.HTML object>"
      ]
     },
     "metadata": {},
     "output_type": "display_data"
    },
    {
     "data": {
      "text/html": [
       "Tracking run with wandb version 0.16.4"
      ],
      "text/plain": [
       "<IPython.core.display.HTML object>"
      ]
     },
     "metadata": {},
     "output_type": "display_data"
    },
    {
     "data": {
      "text/html": [
       "Run data is saved locally in <code>/net/fs-2/scale/OrionStore/Home/joteklem/Pytorch_models/wandb/run-20240418_135808-0i7jmmlb</code>"
      ],
      "text/plain": [
       "<IPython.core.display.HTML object>"
      ]
     },
     "metadata": {},
     "output_type": "display_data"
    },
    {
     "data": {
      "text/html": [
       "Syncing run <strong><a href='https://wandb.ai/master-2024/BERT_BASE/runs/0i7jmmlb' target=\"_blank\">trial-17</a></strong> to <a href='https://wandb.ai/master-2024/BERT_BASE' target=\"_blank\">Weights & Biases</a> (<a href='https://wandb.me/run' target=\"_blank\">docs</a>)<br/>"
      ],
      "text/plain": [
       "<IPython.core.display.HTML object>"
      ]
     },
     "metadata": {},
     "output_type": "display_data"
    },
    {
     "data": {
      "text/html": [
       " View project at <a href='https://wandb.ai/master-2024/BERT_BASE' target=\"_blank\">https://wandb.ai/master-2024/BERT_BASE</a>"
      ],
      "text/plain": [
       "<IPython.core.display.HTML object>"
      ]
     },
     "metadata": {},
     "output_type": "display_data"
    },
    {
     "data": {
      "text/html": [
       " View run at <a href='https://wandb.ai/master-2024/BERT_BASE/runs/0i7jmmlb' target=\"_blank\">https://wandb.ai/master-2024/BERT_BASE/runs/0i7jmmlb</a>"
      ],
      "text/plain": [
       "<IPython.core.display.HTML object>"
      ]
     },
     "metadata": {},
     "output_type": "display_data"
    },
    {
     "name": "stderr",
     "output_type": "stream",
     "text": [
      "/net/fs-2/scale/OrionStore/Scratch/joteklem/MyCondaEnvironments/Python3.11/orion_env/lib/python3.11/site-packages/accelerate/accelerator.py:432: FutureWarning: Passing the following arguments to `Accelerator` is deprecated and will be removed in version 1.0 of Accelerate: dict_keys(['dispatch_batches', 'split_batches', 'even_batches', 'use_seedable_sampler']). Please pass an `accelerate.DataLoaderConfiguration` instead: \n",
      "dataloader_config = DataLoaderConfiguration(dispatch_batches=None, split_batches=False, even_batches=True, use_seedable_sampler=True)\n",
      "  warnings.warn(\n",
      "Detected kernel version 3.10.0, which is below the recommended minimum of 5.5.0; this can cause the process to hang. It is recommended to upgrade the kernel to the minimum version or higher.\n"
     ]
    },
    {
     "name": "stdout",
     "output_type": "stream",
     "text": [
      "Starting trial 17\n"
     ]
    },
    {
     "data": {
      "text/html": [
       "\n",
       "    <div>\n",
       "      \n",
       "      <progress value='317' max='632' style='width:300px; height:20px; vertical-align: middle;'></progress>\n",
       "      [317/632 00:37 < 00:37, 8.44 it/s, Epoch 1.00/2]\n",
       "    </div>\n",
       "    <table border=\"1\" class=\"dataframe\">\n",
       "  <thead>\n",
       " <tr style=\"text-align: left;\">\n",
       "      <th>Epoch</th>\n",
       "      <th>Training Loss</th>\n",
       "      <th>Validation Loss</th>\n",
       "    </tr>\n",
       "  </thead>\n",
       "  <tbody>\n",
       "  </tbody>\n",
       "</table><p>\n",
       "    <div>\n",
       "      \n",
       "      <progress value='211' max='211' style='width:300px; height:20px; vertical-align: middle;'></progress>\n",
       "      [211/211 00:03]\n",
       "    </div>\n",
       "    "
      ],
      "text/plain": [
       "<IPython.core.display.HTML object>"
      ]
     },
     "metadata": {},
     "output_type": "display_data"
    },
    {
     "name": "stderr",
     "output_type": "stream",
     "text": [
      "[I 2024-04-18 13:58:57,060] Trial 17 pruned. \n"
     ]
    },
    {
     "data": {
      "text/html": [
       "Finishing last run (ID:0i7jmmlb) before initializing another..."
      ],
      "text/plain": [
       "<IPython.core.display.HTML object>"
      ]
     },
     "metadata": {},
     "output_type": "display_data"
    },
    {
     "data": {
      "text/html": [
       "<style>\n",
       "    table.wandb td:nth-child(1) { padding: 0 10px; text-align: left ; width: auto;} td:nth-child(2) {text-align: left ; width: 100%}\n",
       "    .wandb-row { display: flex; flex-direction: row; flex-wrap: wrap; justify-content: flex-start; width: 100% }\n",
       "    .wandb-col { display: flex; flex-direction: column; flex-basis: 100%; flex: 1; padding: 10px; }\n",
       "    </style>\n",
       "<div class=\"wandb-row\"><div class=\"wandb-col\"><h3>Run history:</h3><br/><table class=\"wandb\"><tr><td>eval/Accuracy</td><td>▁</td></tr><tr><td>eval/Balanced accuracy</td><td>▁</td></tr><tr><td>eval/F1 macro</td><td>▁</td></tr><tr><td>eval/F1 micro</td><td>▁</td></tr><tr><td>eval/F1 weighted</td><td>▁</td></tr><tr><td>eval/loss</td><td>▁</td></tr><tr><td>eval/runtime</td><td>▁</td></tr><tr><td>eval/samples_per_second</td><td>▁</td></tr><tr><td>eval/steps_per_second</td><td>▁</td></tr><tr><td>train/epoch</td><td>▁</td></tr><tr><td>train/global_step</td><td>▁</td></tr></table><br/></div><div class=\"wandb-col\"><h3>Run summary:</h3><br/><table class=\"wandb\"><tr><td>eval/Accuracy</td><td>0.80332</td></tr><tr><td>eval/Balanced accuracy</td><td>0.76073</td></tr><tr><td>eval/F1 macro</td><td>0.72632</td></tr><tr><td>eval/F1 micro</td><td>0.80332</td></tr><tr><td>eval/F1 weighted</td><td>0.80547</td></tr><tr><td>eval/loss</td><td>0.51016</td></tr><tr><td>eval/runtime</td><td>3.6433</td></tr><tr><td>eval/samples_per_second</td><td>926.636</td></tr><tr><td>eval/steps_per_second</td><td>57.915</td></tr><tr><td>train/epoch</td><td>1.0</td></tr><tr><td>train/global_step</td><td>316</td></tr></table><br/></div></div>"
      ],
      "text/plain": [
       "<IPython.core.display.HTML object>"
      ]
     },
     "metadata": {},
     "output_type": "display_data"
    },
    {
     "data": {
      "text/html": [
       " View run <strong style=\"color:#cdcd00\">trial-17</strong> at: <a href='https://wandb.ai/master-2024/BERT_BASE/runs/0i7jmmlb' target=\"_blank\">https://wandb.ai/master-2024/BERT_BASE/runs/0i7jmmlb</a><br/>Synced 5 W&B file(s), 0 media file(s), 0 artifact file(s) and 0 other file(s)"
      ],
      "text/plain": [
       "<IPython.core.display.HTML object>"
      ]
     },
     "metadata": {},
     "output_type": "display_data"
    },
    {
     "data": {
      "text/html": [
       "Find logs at: <code>./wandb/run-20240418_135808-0i7jmmlb/logs</code>"
      ],
      "text/plain": [
       "<IPython.core.display.HTML object>"
      ]
     },
     "metadata": {},
     "output_type": "display_data"
    },
    {
     "data": {
      "text/html": [
       "Successfully finished last run (ID:0i7jmmlb). Initializing new run:<br/>"
      ],
      "text/plain": [
       "<IPython.core.display.HTML object>"
      ]
     },
     "metadata": {},
     "output_type": "display_data"
    },
    {
     "data": {
      "text/html": [
       "wandb version 0.16.6 is available!  To upgrade, please run:\n",
       " $ pip install wandb --upgrade"
      ],
      "text/plain": [
       "<IPython.core.display.HTML object>"
      ]
     },
     "metadata": {},
     "output_type": "display_data"
    },
    {
     "data": {
      "text/html": [
       "Tracking run with wandb version 0.16.4"
      ],
      "text/plain": [
       "<IPython.core.display.HTML object>"
      ]
     },
     "metadata": {},
     "output_type": "display_data"
    },
    {
     "data": {
      "text/html": [
       "Run data is saved locally in <code>/net/fs-2/scale/OrionStore/Home/joteklem/Pytorch_models/wandb/run-20240418_135857-ffqprqo9</code>"
      ],
      "text/plain": [
       "<IPython.core.display.HTML object>"
      ]
     },
     "metadata": {},
     "output_type": "display_data"
    },
    {
     "data": {
      "text/html": [
       "Syncing run <strong><a href='https://wandb.ai/master-2024/BERT_BASE/runs/ffqprqo9' target=\"_blank\">trial-18</a></strong> to <a href='https://wandb.ai/master-2024/BERT_BASE' target=\"_blank\">Weights & Biases</a> (<a href='https://wandb.me/run' target=\"_blank\">docs</a>)<br/>"
      ],
      "text/plain": [
       "<IPython.core.display.HTML object>"
      ]
     },
     "metadata": {},
     "output_type": "display_data"
    },
    {
     "data": {
      "text/html": [
       " View project at <a href='https://wandb.ai/master-2024/BERT_BASE' target=\"_blank\">https://wandb.ai/master-2024/BERT_BASE</a>"
      ],
      "text/plain": [
       "<IPython.core.display.HTML object>"
      ]
     },
     "metadata": {},
     "output_type": "display_data"
    },
    {
     "data": {
      "text/html": [
       " View run at <a href='https://wandb.ai/master-2024/BERT_BASE/runs/ffqprqo9' target=\"_blank\">https://wandb.ai/master-2024/BERT_BASE/runs/ffqprqo9</a>"
      ],
      "text/plain": [
       "<IPython.core.display.HTML object>"
      ]
     },
     "metadata": {},
     "output_type": "display_data"
    },
    {
     "name": "stderr",
     "output_type": "stream",
     "text": [
      "/net/fs-2/scale/OrionStore/Scratch/joteklem/MyCondaEnvironments/Python3.11/orion_env/lib/python3.11/site-packages/accelerate/accelerator.py:432: FutureWarning: Passing the following arguments to `Accelerator` is deprecated and will be removed in version 1.0 of Accelerate: dict_keys(['dispatch_batches', 'split_batches', 'even_batches', 'use_seedable_sampler']). Please pass an `accelerate.DataLoaderConfiguration` instead: \n",
      "dataloader_config = DataLoaderConfiguration(dispatch_batches=None, split_batches=False, even_batches=True, use_seedable_sampler=True)\n",
      "  warnings.warn(\n",
      "Detected kernel version 3.10.0, which is below the recommended minimum of 5.5.0; this can cause the process to hang. It is recommended to upgrade the kernel to the minimum version or higher.\n"
     ]
    },
    {
     "name": "stdout",
     "output_type": "stream",
     "text": [
      "Starting trial 18\n"
     ]
    },
    {
     "data": {
      "text/html": [
       "\n",
       "    <div>\n",
       "      \n",
       "      <progress value='318' max='790' style='width:300px; height:20px; vertical-align: middle;'></progress>\n",
       "      [318/790 01:11 < 01:46, 4.43 it/s, Epoch 2/5]\n",
       "    </div>\n",
       "    <table border=\"1\" class=\"dataframe\">\n",
       "  <thead>\n",
       " <tr style=\"text-align: left;\">\n",
       "      <th>Epoch</th>\n",
       "      <th>Training Loss</th>\n",
       "      <th>Validation Loss</th>\n",
       "      <th>Accuracy</th>\n",
       "      <th>Balanced accuracy</th>\n",
       "      <th>F1 weighted</th>\n",
       "      <th>F1 macro</th>\n",
       "      <th>F1 micro</th>\n",
       "      <th>Classification report</th>\n",
       "    </tr>\n",
       "  </thead>\n",
       "  <tbody>\n",
       "    <tr>\n",
       "      <td>0</td>\n",
       "      <td>No log</td>\n",
       "      <td>0.486861</td>\n",
       "      <td>0.817239</td>\n",
       "      <td>0.758696</td>\n",
       "      <td>0.817233</td>\n",
       "      <td>0.746962</td>\n",
       "      <td>0.817239</td>\n",
       "      <td>{'0': {'precision': 0.7984293193717278, 'recall': 0.6777777777777778, 'f1-score': 0.733173076923077, 'support': 900.0}, '1': {'precision': 0.868409193330329, 'recall': 0.8913043478260869, 'f1-score': 0.8797078292627254, 'support': 2162.0}, '2': {'precision': 0.5648854961832062, 'recall': 0.7070063694267515, 'f1-score': 0.628005657708628, 'support': 314.0}, 'accuracy': 0.817239336492891, 'macro avg': {'precision': 0.7439080029617543, 'recall': 0.7586961650102054, 'f1-score': 0.7469621879648102, 'support': 3376.0}, 'weighted avg': {'precision': 0.8215228404076579, 'recall': 0.817239336492891, 'f1-score': 0.8172327821733681, 'support': 3376.0}}</td>\n",
       "    </tr>\n",
       "  </tbody>\n",
       "</table><p>\n",
       "    <div>\n",
       "      \n",
       "      <progress value='106' max='106' style='width:300px; height:20px; vertical-align: middle;'></progress>\n",
       "      [106/106 00:03]\n",
       "    </div>\n",
       "    "
      ],
      "text/plain": [
       "<IPython.core.display.HTML object>"
      ]
     },
     "metadata": {},
     "output_type": "display_data"
    },
    {
     "name": "stderr",
     "output_type": "stream",
     "text": [
      "[I 2024-04-18 14:00:19,566] Trial 18 pruned. \n"
     ]
    },
    {
     "data": {
      "text/html": [
       "Finishing last run (ID:ffqprqo9) before initializing another..."
      ],
      "text/plain": [
       "<IPython.core.display.HTML object>"
      ]
     },
     "metadata": {},
     "output_type": "display_data"
    },
    {
     "data": {
      "text/html": [
       "<style>\n",
       "    table.wandb td:nth-child(1) { padding: 0 10px; text-align: left ; width: auto;} td:nth-child(2) {text-align: left ; width: 100%}\n",
       "    .wandb-row { display: flex; flex-direction: row; flex-wrap: wrap; justify-content: flex-start; width: 100% }\n",
       "    .wandb-col { display: flex; flex-direction: column; flex-basis: 100%; flex: 1; padding: 10px; }\n",
       "    </style>\n",
       "<div class=\"wandb-row\"><div class=\"wandb-col\"><h3>Run history:</h3><br/><table class=\"wandb\"><tr><td>eval/Accuracy</td><td>▁█</td></tr><tr><td>eval/Balanced accuracy</td><td>█▁</td></tr><tr><td>eval/F1 macro</td><td>▁█</td></tr><tr><td>eval/F1 micro</td><td>▁█</td></tr><tr><td>eval/F1 weighted</td><td>▁█</td></tr><tr><td>eval/loss</td><td>█▁</td></tr><tr><td>eval/runtime</td><td>▁█</td></tr><tr><td>eval/samples_per_second</td><td>█▁</td></tr><tr><td>eval/steps_per_second</td><td>█▁</td></tr><tr><td>train/epoch</td><td>▁██</td></tr><tr><td>train/global_step</td><td>▁██</td></tr><tr><td>train/grad_norm</td><td>▁</td></tr><tr><td>train/learning_rate</td><td>▁</td></tr><tr><td>train/loss</td><td>▁</td></tr></table><br/></div><div class=\"wandb-col\"><h3>Run summary:</h3><br/><table class=\"wandb\"><tr><td>eval/Accuracy</td><td>0.83027</td></tr><tr><td>eval/Balanced accuracy</td><td>0.74124</td></tr><tr><td>eval/F1 macro</td><td>0.75626</td></tr><tr><td>eval/F1 micro</td><td>0.83027</td></tr><tr><td>eval/F1 weighted</td><td>0.82685</td></tr><tr><td>eval/loss</td><td>0.4845</td></tr><tr><td>eval/runtime</td><td>3.6412</td></tr><tr><td>eval/samples_per_second</td><td>927.159</td></tr><tr><td>eval/steps_per_second</td><td>29.111</td></tr><tr><td>train/epoch</td><td>2.0</td></tr><tr><td>train/global_step</td><td>317</td></tr><tr><td>train/grad_norm</td><td>2.69305</td></tr><tr><td>train/learning_rate</td><td>0.00027</td></tr><tr><td>train/loss</td><td>0.5491</td></tr></table><br/></div></div>"
      ],
      "text/plain": [
       "<IPython.core.display.HTML object>"
      ]
     },
     "metadata": {},
     "output_type": "display_data"
    },
    {
     "data": {
      "text/html": [
       " View run <strong style=\"color:#cdcd00\">trial-18</strong> at: <a href='https://wandb.ai/master-2024/BERT_BASE/runs/ffqprqo9' target=\"_blank\">https://wandb.ai/master-2024/BERT_BASE/runs/ffqprqo9</a><br/>Synced 5 W&B file(s), 0 media file(s), 0 artifact file(s) and 0 other file(s)"
      ],
      "text/plain": [
       "<IPython.core.display.HTML object>"
      ]
     },
     "metadata": {},
     "output_type": "display_data"
    },
    {
     "data": {
      "text/html": [
       "Find logs at: <code>./wandb/run-20240418_135857-ffqprqo9/logs</code>"
      ],
      "text/plain": [
       "<IPython.core.display.HTML object>"
      ]
     },
     "metadata": {},
     "output_type": "display_data"
    },
    {
     "data": {
      "text/html": [
       "Successfully finished last run (ID:ffqprqo9). Initializing new run:<br/>"
      ],
      "text/plain": [
       "<IPython.core.display.HTML object>"
      ]
     },
     "metadata": {},
     "output_type": "display_data"
    },
    {
     "data": {
      "text/html": [
       "wandb version 0.16.6 is available!  To upgrade, please run:\n",
       " $ pip install wandb --upgrade"
      ],
      "text/plain": [
       "<IPython.core.display.HTML object>"
      ]
     },
     "metadata": {},
     "output_type": "display_data"
    },
    {
     "data": {
      "text/html": [
       "Tracking run with wandb version 0.16.4"
      ],
      "text/plain": [
       "<IPython.core.display.HTML object>"
      ]
     },
     "metadata": {},
     "output_type": "display_data"
    },
    {
     "data": {
      "text/html": [
       "Run data is saved locally in <code>/net/fs-2/scale/OrionStore/Home/joteklem/Pytorch_models/wandb/run-20240418_140019-rmfxnvpi</code>"
      ],
      "text/plain": [
       "<IPython.core.display.HTML object>"
      ]
     },
     "metadata": {},
     "output_type": "display_data"
    },
    {
     "data": {
      "text/html": [
       "Syncing run <strong><a href='https://wandb.ai/master-2024/BERT_BASE/runs/rmfxnvpi' target=\"_blank\">trial-19</a></strong> to <a href='https://wandb.ai/master-2024/BERT_BASE' target=\"_blank\">Weights & Biases</a> (<a href='https://wandb.me/run' target=\"_blank\">docs</a>)<br/>"
      ],
      "text/plain": [
       "<IPython.core.display.HTML object>"
      ]
     },
     "metadata": {},
     "output_type": "display_data"
    },
    {
     "data": {
      "text/html": [
       " View project at <a href='https://wandb.ai/master-2024/BERT_BASE' target=\"_blank\">https://wandb.ai/master-2024/BERT_BASE</a>"
      ],
      "text/plain": [
       "<IPython.core.display.HTML object>"
      ]
     },
     "metadata": {},
     "output_type": "display_data"
    },
    {
     "data": {
      "text/html": [
       " View run at <a href='https://wandb.ai/master-2024/BERT_BASE/runs/rmfxnvpi' target=\"_blank\">https://wandb.ai/master-2024/BERT_BASE/runs/rmfxnvpi</a>"
      ],
      "text/plain": [
       "<IPython.core.display.HTML object>"
      ]
     },
     "metadata": {},
     "output_type": "display_data"
    },
    {
     "name": "stderr",
     "output_type": "stream",
     "text": [
      "/net/fs-2/scale/OrionStore/Scratch/joteklem/MyCondaEnvironments/Python3.11/orion_env/lib/python3.11/site-packages/accelerate/accelerator.py:432: FutureWarning: Passing the following arguments to `Accelerator` is deprecated and will be removed in version 1.0 of Accelerate: dict_keys(['dispatch_batches', 'split_batches', 'even_batches', 'use_seedable_sampler']). Please pass an `accelerate.DataLoaderConfiguration` instead: \n",
      "dataloader_config = DataLoaderConfiguration(dispatch_batches=None, split_batches=False, even_batches=True, use_seedable_sampler=True)\n",
      "  warnings.warn(\n",
      "Detected kernel version 3.10.0, which is below the recommended minimum of 5.5.0; this can cause the process to hang. It is recommended to upgrade the kernel to the minimum version or higher.\n"
     ]
    },
    {
     "name": "stdout",
     "output_type": "stream",
     "text": [
      "Starting trial 19\n"
     ]
    },
    {
     "data": {
      "text/html": [
       "\n",
       "    <div>\n",
       "      \n",
       "      <progress value='634' max='2532' style='width:300px; height:20px; vertical-align: middle;'></progress>\n",
       "      [ 634/2532 01:12 < 03:39, 8.66 it/s, Epoch 1/4]\n",
       "    </div>\n",
       "    <table border=\"1\" class=\"dataframe\">\n",
       "  <thead>\n",
       " <tr style=\"text-align: left;\">\n",
       "      <th>Epoch</th>\n",
       "      <th>Training Loss</th>\n",
       "      <th>Validation Loss</th>\n",
       "    </tr>\n",
       "  </thead>\n",
       "  <tbody>\n",
       "  </tbody>\n",
       "</table><p>\n",
       "    <div>\n",
       "      \n",
       "      <progress value='422' max='422' style='width:300px; height:20px; vertical-align: middle;'></progress>\n",
       "      [422/422 00:05]\n",
       "    </div>\n",
       "    "
      ],
      "text/plain": [
       "<IPython.core.display.HTML object>"
      ]
     },
     "metadata": {},
     "output_type": "display_data"
    },
    {
     "name": "stderr",
     "output_type": "stream",
     "text": [
      "[I 2024-04-18 14:01:48,673] Trial 19 pruned. \n"
     ]
    },
    {
     "data": {
      "text/html": [
       "Finishing last run (ID:rmfxnvpi) before initializing another..."
      ],
      "text/plain": [
       "<IPython.core.display.HTML object>"
      ]
     },
     "metadata": {},
     "output_type": "display_data"
    },
    {
     "data": {
      "text/html": [
       "<style>\n",
       "    table.wandb td:nth-child(1) { padding: 0 10px; text-align: left ; width: auto;} td:nth-child(2) {text-align: left ; width: 100%}\n",
       "    .wandb-row { display: flex; flex-direction: row; flex-wrap: wrap; justify-content: flex-start; width: 100% }\n",
       "    .wandb-col { display: flex; flex-direction: column; flex-basis: 100%; flex: 1; padding: 10px; }\n",
       "    </style>\n",
       "<div class=\"wandb-row\"><div class=\"wandb-col\"><h3>Run history:</h3><br/><table class=\"wandb\"><tr><td>eval/Accuracy</td><td>▁</td></tr><tr><td>eval/Balanced accuracy</td><td>▁</td></tr><tr><td>eval/F1 macro</td><td>▁</td></tr><tr><td>eval/F1 micro</td><td>▁</td></tr><tr><td>eval/F1 weighted</td><td>▁</td></tr><tr><td>eval/loss</td><td>▁</td></tr><tr><td>eval/runtime</td><td>▁</td></tr><tr><td>eval/samples_per_second</td><td>▁</td></tr><tr><td>eval/steps_per_second</td><td>▁</td></tr><tr><td>train/epoch</td><td>▁</td></tr><tr><td>train/global_step</td><td>▁</td></tr></table><br/></div><div class=\"wandb-col\"><h3>Run summary:</h3><br/><table class=\"wandb\"><tr><td>eval/Accuracy</td><td>0.79739</td></tr><tr><td>eval/Balanced accuracy</td><td>0.69638</td></tr><tr><td>eval/F1 macro</td><td>0.70226</td></tr><tr><td>eval/F1 micro</td><td>0.79739</td></tr><tr><td>eval/F1 weighted</td><td>0.79477</td></tr><tr><td>eval/loss</td><td>0.57191</td></tr><tr><td>eval/runtime</td><td>5.052</td></tr><tr><td>eval/samples_per_second</td><td>668.247</td></tr><tr><td>eval/steps_per_second</td><td>83.531</td></tr><tr><td>train/epoch</td><td>1.0</td></tr><tr><td>train/global_step</td><td>633</td></tr></table><br/></div></div>"
      ],
      "text/plain": [
       "<IPython.core.display.HTML object>"
      ]
     },
     "metadata": {},
     "output_type": "display_data"
    },
    {
     "data": {
      "text/html": [
       " View run <strong style=\"color:#cdcd00\">trial-19</strong> at: <a href='https://wandb.ai/master-2024/BERT_BASE/runs/rmfxnvpi' target=\"_blank\">https://wandb.ai/master-2024/BERT_BASE/runs/rmfxnvpi</a><br/>Synced 5 W&B file(s), 0 media file(s), 0 artifact file(s) and 0 other file(s)"
      ],
      "text/plain": [
       "<IPython.core.display.HTML object>"
      ]
     },
     "metadata": {},
     "output_type": "display_data"
    },
    {
     "data": {
      "text/html": [
       "Find logs at: <code>./wandb/run-20240418_140019-rmfxnvpi/logs</code>"
      ],
      "text/plain": [
       "<IPython.core.display.HTML object>"
      ]
     },
     "metadata": {},
     "output_type": "display_data"
    },
    {
     "data": {
      "text/html": [
       "Successfully finished last run (ID:rmfxnvpi). Initializing new run:<br/>"
      ],
      "text/plain": [
       "<IPython.core.display.HTML object>"
      ]
     },
     "metadata": {},
     "output_type": "display_data"
    },
    {
     "data": {
      "text/html": [
       "wandb version 0.16.6 is available!  To upgrade, please run:\n",
       " $ pip install wandb --upgrade"
      ],
      "text/plain": [
       "<IPython.core.display.HTML object>"
      ]
     },
     "metadata": {},
     "output_type": "display_data"
    },
    {
     "data": {
      "text/html": [
       "Tracking run with wandb version 0.16.4"
      ],
      "text/plain": [
       "<IPython.core.display.HTML object>"
      ]
     },
     "metadata": {},
     "output_type": "display_data"
    },
    {
     "data": {
      "text/html": [
       "Run data is saved locally in <code>/net/fs-2/scale/OrionStore/Home/joteklem/Pytorch_models/wandb/run-20240418_140148-yyd87qu7</code>"
      ],
      "text/plain": [
       "<IPython.core.display.HTML object>"
      ]
     },
     "metadata": {},
     "output_type": "display_data"
    },
    {
     "data": {
      "text/html": [
       "Syncing run <strong><a href='https://wandb.ai/master-2024/BERT_BASE/runs/yyd87qu7' target=\"_blank\">trial-20</a></strong> to <a href='https://wandb.ai/master-2024/BERT_BASE' target=\"_blank\">Weights & Biases</a> (<a href='https://wandb.me/run' target=\"_blank\">docs</a>)<br/>"
      ],
      "text/plain": [
       "<IPython.core.display.HTML object>"
      ]
     },
     "metadata": {},
     "output_type": "display_data"
    },
    {
     "data": {
      "text/html": [
       " View project at <a href='https://wandb.ai/master-2024/BERT_BASE' target=\"_blank\">https://wandb.ai/master-2024/BERT_BASE</a>"
      ],
      "text/plain": [
       "<IPython.core.display.HTML object>"
      ]
     },
     "metadata": {},
     "output_type": "display_data"
    },
    {
     "data": {
      "text/html": [
       " View run at <a href='https://wandb.ai/master-2024/BERT_BASE/runs/yyd87qu7' target=\"_blank\">https://wandb.ai/master-2024/BERT_BASE/runs/yyd87qu7</a>"
      ],
      "text/plain": [
       "<IPython.core.display.HTML object>"
      ]
     },
     "metadata": {},
     "output_type": "display_data"
    },
    {
     "name": "stderr",
     "output_type": "stream",
     "text": [
      "/net/fs-2/scale/OrionStore/Scratch/joteklem/MyCondaEnvironments/Python3.11/orion_env/lib/python3.11/site-packages/accelerate/accelerator.py:432: FutureWarning: Passing the following arguments to `Accelerator` is deprecated and will be removed in version 1.0 of Accelerate: dict_keys(['dispatch_batches', 'split_batches', 'even_batches', 'use_seedable_sampler']). Please pass an `accelerate.DataLoaderConfiguration` instead: \n",
      "dataloader_config = DataLoaderConfiguration(dispatch_batches=None, split_batches=False, even_batches=True, use_seedable_sampler=True)\n",
      "  warnings.warn(\n",
      "Detected kernel version 3.10.0, which is below the recommended minimum of 5.5.0; this can cause the process to hang. It is recommended to upgrade the kernel to the minimum version or higher.\n"
     ]
    },
    {
     "name": "stdout",
     "output_type": "stream",
     "text": [
      "Starting trial 20\n"
     ]
    },
    {
     "data": {
      "text/html": [
       "\n",
       "    <div>\n",
       "      \n",
       "      <progress value='318' max='632' style='width:300px; height:20px; vertical-align: middle;'></progress>\n",
       "      [318/632 01:11 < 01:10, 4.44 it/s, Epoch 2/4]\n",
       "    </div>\n",
       "    <table border=\"1\" class=\"dataframe\">\n",
       "  <thead>\n",
       " <tr style=\"text-align: left;\">\n",
       "      <th>Epoch</th>\n",
       "      <th>Training Loss</th>\n",
       "      <th>Validation Loss</th>\n",
       "      <th>Accuracy</th>\n",
       "      <th>Balanced accuracy</th>\n",
       "      <th>F1 weighted</th>\n",
       "      <th>F1 macro</th>\n",
       "      <th>F1 micro</th>\n",
       "      <th>Classification report</th>\n",
       "    </tr>\n",
       "  </thead>\n",
       "  <tbody>\n",
       "    <tr>\n",
       "      <td>0</td>\n",
       "      <td>No log</td>\n",
       "      <td>0.488074</td>\n",
       "      <td>0.815758</td>\n",
       "      <td>0.779310</td>\n",
       "      <td>0.817407</td>\n",
       "      <td>0.747751</td>\n",
       "      <td>0.815758</td>\n",
       "      <td>{'0': {'precision': 0.8340486409155937, 'recall': 0.6477777777777778, 'f1-score': 0.7292057535959976, 'support': 900.0}, '1': {'precision': 0.874259681093394, 'recall': 0.8876040703052729, 'f1-score': 0.8808813403718154, 'support': 2162.0}, '2': {'precision': 0.5228215767634855, 'recall': 0.802547770700637, 'f1-score': 0.6331658291457286, 'support': 314.0}, 'accuracy': 0.8157582938388626, 'macro avg': {'precision': 0.743709966257491, 'recall': 0.7793098729278958, 'f1-score': 0.7477509743711805, 'support': 3376.0}, 'weighted avg': {'precision': 0.8308528384039358, 'recall': 0.8157582938388626, 'f1-score': 0.817406607367305, 'support': 3376.0}}</td>\n",
       "    </tr>\n",
       "  </tbody>\n",
       "</table><p>\n",
       "    <div>\n",
       "      \n",
       "      <progress value='106' max='106' style='width:300px; height:20px; vertical-align: middle;'></progress>\n",
       "      [106/106 00:03]\n",
       "    </div>\n",
       "    "
      ],
      "text/plain": [
       "<IPython.core.display.HTML object>"
      ]
     },
     "metadata": {},
     "output_type": "display_data"
    },
    {
     "name": "stderr",
     "output_type": "stream",
     "text": [
      "[I 2024-04-18 14:03:10,429] Trial 20 pruned. \n"
     ]
    },
    {
     "data": {
      "text/html": [
       "Finishing last run (ID:yyd87qu7) before initializing another..."
      ],
      "text/plain": [
       "<IPython.core.display.HTML object>"
      ]
     },
     "metadata": {},
     "output_type": "display_data"
    },
    {
     "data": {
      "text/html": [
       "<style>\n",
       "    table.wandb td:nth-child(1) { padding: 0 10px; text-align: left ; width: auto;} td:nth-child(2) {text-align: left ; width: 100%}\n",
       "    .wandb-row { display: flex; flex-direction: row; flex-wrap: wrap; justify-content: flex-start; width: 100% }\n",
       "    .wandb-col { display: flex; flex-direction: column; flex-basis: 100%; flex: 1; padding: 10px; }\n",
       "    </style>\n",
       "<div class=\"wandb-row\"><div class=\"wandb-col\"><h3>Run history:</h3><br/><table class=\"wandb\"><tr><td>eval/Accuracy</td><td>▁█</td></tr><tr><td>eval/Balanced accuracy</td><td>█▁</td></tr><tr><td>eval/F1 macro</td><td>▁█</td></tr><tr><td>eval/F1 micro</td><td>▁█</td></tr><tr><td>eval/F1 weighted</td><td>▁█</td></tr><tr><td>eval/loss</td><td>█▁</td></tr><tr><td>eval/runtime</td><td>█▁</td></tr><tr><td>eval/samples_per_second</td><td>▁█</td></tr><tr><td>eval/steps_per_second</td><td>▁█</td></tr><tr><td>train/epoch</td><td>▁██</td></tr><tr><td>train/global_step</td><td>▁██</td></tr><tr><td>train/grad_norm</td><td>▁</td></tr><tr><td>train/learning_rate</td><td>▁</td></tr><tr><td>train/loss</td><td>▁</td></tr></table><br/></div><div class=\"wandb-col\"><h3>Run summary:</h3><br/><table class=\"wandb\"><tr><td>eval/Accuracy</td><td>0.84034</td></tr><tr><td>eval/Balanced accuracy</td><td>0.72967</td></tr><tr><td>eval/F1 macro</td><td>0.76954</td></tr><tr><td>eval/F1 micro</td><td>0.84034</td></tr><tr><td>eval/F1 weighted</td><td>0.83265</td></tr><tr><td>eval/loss</td><td>0.46624</td></tr><tr><td>eval/runtime</td><td>3.6398</td></tr><tr><td>eval/samples_per_second</td><td>927.523</td></tr><tr><td>eval/steps_per_second</td><td>29.122</td></tr><tr><td>train/epoch</td><td>2.0</td></tr><tr><td>train/global_step</td><td>317</td></tr><tr><td>train/grad_norm</td><td>3.76171</td></tr><tr><td>train/learning_rate</td><td>2e-05</td></tr><tr><td>train/loss</td><td>0.4725</td></tr></table><br/></div></div>"
      ],
      "text/plain": [
       "<IPython.core.display.HTML object>"
      ]
     },
     "metadata": {},
     "output_type": "display_data"
    },
    {
     "data": {
      "text/html": [
       " View run <strong style=\"color:#cdcd00\">trial-20</strong> at: <a href='https://wandb.ai/master-2024/BERT_BASE/runs/yyd87qu7' target=\"_blank\">https://wandb.ai/master-2024/BERT_BASE/runs/yyd87qu7</a><br/>Synced 5 W&B file(s), 0 media file(s), 0 artifact file(s) and 0 other file(s)"
      ],
      "text/plain": [
       "<IPython.core.display.HTML object>"
      ]
     },
     "metadata": {},
     "output_type": "display_data"
    },
    {
     "data": {
      "text/html": [
       "Find logs at: <code>./wandb/run-20240418_140148-yyd87qu7/logs</code>"
      ],
      "text/plain": [
       "<IPython.core.display.HTML object>"
      ]
     },
     "metadata": {},
     "output_type": "display_data"
    },
    {
     "data": {
      "text/html": [
       "Successfully finished last run (ID:yyd87qu7). Initializing new run:<br/>"
      ],
      "text/plain": [
       "<IPython.core.display.HTML object>"
      ]
     },
     "metadata": {},
     "output_type": "display_data"
    },
    {
     "data": {
      "text/html": [
       "wandb version 0.16.6 is available!  To upgrade, please run:\n",
       " $ pip install wandb --upgrade"
      ],
      "text/plain": [
       "<IPython.core.display.HTML object>"
      ]
     },
     "metadata": {},
     "output_type": "display_data"
    },
    {
     "data": {
      "text/html": [
       "Tracking run with wandb version 0.16.4"
      ],
      "text/plain": [
       "<IPython.core.display.HTML object>"
      ]
     },
     "metadata": {},
     "output_type": "display_data"
    },
    {
     "data": {
      "text/html": [
       "Run data is saved locally in <code>/net/fs-2/scale/OrionStore/Home/joteklem/Pytorch_models/wandb/run-20240418_140310-3uzwn4zf</code>"
      ],
      "text/plain": [
       "<IPython.core.display.HTML object>"
      ]
     },
     "metadata": {},
     "output_type": "display_data"
    },
    {
     "data": {
      "text/html": [
       "Syncing run <strong><a href='https://wandb.ai/master-2024/BERT_BASE/runs/3uzwn4zf' target=\"_blank\">trial-21</a></strong> to <a href='https://wandb.ai/master-2024/BERT_BASE' target=\"_blank\">Weights & Biases</a> (<a href='https://wandb.me/run' target=\"_blank\">docs</a>)<br/>"
      ],
      "text/plain": [
       "<IPython.core.display.HTML object>"
      ]
     },
     "metadata": {},
     "output_type": "display_data"
    },
    {
     "data": {
      "text/html": [
       " View project at <a href='https://wandb.ai/master-2024/BERT_BASE' target=\"_blank\">https://wandb.ai/master-2024/BERT_BASE</a>"
      ],
      "text/plain": [
       "<IPython.core.display.HTML object>"
      ]
     },
     "metadata": {},
     "output_type": "display_data"
    },
    {
     "data": {
      "text/html": [
       " View run at <a href='https://wandb.ai/master-2024/BERT_BASE/runs/3uzwn4zf' target=\"_blank\">https://wandb.ai/master-2024/BERT_BASE/runs/3uzwn4zf</a>"
      ],
      "text/plain": [
       "<IPython.core.display.HTML object>"
      ]
     },
     "metadata": {},
     "output_type": "display_data"
    },
    {
     "name": "stdout",
     "output_type": "stream",
     "text": [
      "Starting trial 21\n"
     ]
    },
    {
     "name": "stderr",
     "output_type": "stream",
     "text": [
      "/net/fs-2/scale/OrionStore/Scratch/joteklem/MyCondaEnvironments/Python3.11/orion_env/lib/python3.11/site-packages/accelerate/accelerator.py:432: FutureWarning: Passing the following arguments to `Accelerator` is deprecated and will be removed in version 1.0 of Accelerate: dict_keys(['dispatch_batches', 'split_batches', 'even_batches', 'use_seedable_sampler']). Please pass an `accelerate.DataLoaderConfiguration` instead: \n",
      "dataloader_config = DataLoaderConfiguration(dispatch_batches=None, split_batches=False, even_batches=True, use_seedable_sampler=True)\n",
      "  warnings.warn(\n",
      "Detected kernel version 3.10.0, which is below the recommended minimum of 5.5.0; this can cause the process to hang. It is recommended to upgrade the kernel to the minimum version or higher.\n"
     ]
    },
    {
     "data": {
      "text/html": [
       "\n",
       "    <div>\n",
       "      \n",
       "      <progress value='1580' max='1580' style='width:300px; height:20px; vertical-align: middle;'></progress>\n",
       "      [1580/1580 04:03, Epoch 4/5]\n",
       "    </div>\n",
       "    <table border=\"1\" class=\"dataframe\">\n",
       "  <thead>\n",
       " <tr style=\"text-align: left;\">\n",
       "      <th>Epoch</th>\n",
       "      <th>Training Loss</th>\n",
       "      <th>Validation Loss</th>\n",
       "      <th>Accuracy</th>\n",
       "      <th>Balanced accuracy</th>\n",
       "      <th>F1 weighted</th>\n",
       "      <th>F1 macro</th>\n",
       "      <th>F1 micro</th>\n",
       "      <th>Classification report</th>\n",
       "    </tr>\n",
       "  </thead>\n",
       "  <tbody>\n",
       "    <tr>\n",
       "      <td>0</td>\n",
       "      <td>No log</td>\n",
       "      <td>0.456236</td>\n",
       "      <td>0.834716</td>\n",
       "      <td>0.768225</td>\n",
       "      <td>0.832186</td>\n",
       "      <td>0.771218</td>\n",
       "      <td>0.834716</td>\n",
       "      <td>{'0': {'precision': 0.827027027027027, 'recall': 0.68, 'f1-score': 0.7463414634146341, 'support': 900.0}, '1': {'precision': 0.8648648648648649, 'recall': 0.9176688251618872, 'f1-score': 0.8904847396768403, 'support': 2162.0}, '2': {'precision': 0.6491228070175439, 'recall': 0.7070063694267515, 'f1-score': 0.676829268292683, 'support': 314.0}, 'accuracy': 0.8347156398104265, 'macro avg': {'precision': 0.7803382329698119, 'recall': 0.7682250648628797, 'f1-score': 0.7712184904613858, 'support': 3376.0}, 'weighted avg': {'precision': 0.8347117072173195, 'recall': 0.8347156398104265, 'f1-score': 0.8321859343893371, 'support': 3376.0}}</td>\n",
       "    </tr>\n",
       "    <tr>\n",
       "      <td>2</td>\n",
       "      <td>0.522300</td>\n",
       "      <td>0.457283</td>\n",
       "      <td>0.840047</td>\n",
       "      <td>0.786252</td>\n",
       "      <td>0.837139</td>\n",
       "      <td>0.787737</td>\n",
       "      <td>0.840047</td>\n",
       "      <td>{'0': {'precision': 0.8258503401360544, 'recall': 0.6744444444444444, 'f1-score': 0.7425076452599387, 'support': 900.0}, '1': {'precision': 0.8662891986062717, 'recall': 0.919981498612396, 'f1-score': 0.8923283983849261, 'support': 2162.0}, '2': {'precision': 0.6956521739130435, 'recall': 0.7643312101910829, 'f1-score': 0.7283763277693476, 'support': 314.0}, 'accuracy': 0.840047393364929, 'macro avg': {'precision': 0.7959305708851231, 'recall': 0.7862523844159744, 'f1-score': 0.7877374571380708, 'support': 3376.0}, 'weighted avg': {'precision': 0.8396378365278152, 'recall': 0.840047393364929, 'f1-score': 0.8371389351189958, 'support': 3376.0}}</td>\n",
       "    </tr>\n",
       "    <tr>\n",
       "      <td>4</td>\n",
       "      <td>0.231100</td>\n",
       "      <td>0.614249</td>\n",
       "      <td>0.834716</td>\n",
       "      <td>0.772634</td>\n",
       "      <td>0.832148</td>\n",
       "      <td>0.783871</td>\n",
       "      <td>0.834716</td>\n",
       "      <td>{'0': {'precision': 0.7761194029850746, 'recall': 0.6933333333333334, 'f1-score': 0.7323943661971832, 'support': 900.0}, '1': {'precision': 0.8666959964804224, 'recall': 0.9111933395004626, 'f1-score': 0.8883878241262683, 'support': 2162.0}, '2': {'precision': 0.7491638795986622, 'recall': 0.7133757961783439, 'f1-score': 0.730831973898858, 'support': 314.0}, 'accuracy': 0.8347156398104265, 'macro avg': {'precision': 0.7973264263547198, 'recall': 0.77263415633738, 'f1-score': 0.7838713880741031, 'support': 3376.0}, 'weighted avg': {'precision': 0.8316177918457406, 'recall': 0.8347156398104265, 'f1-score': 0.8321477029451121, 'support': 3376.0}}</td>\n",
       "    </tr>\n",
       "  </tbody>\n",
       "</table><p>"
      ],
      "text/plain": [
       "<IPython.core.display.HTML object>"
      ]
     },
     "metadata": {},
     "output_type": "display_data"
    },
    {
     "data": {
      "text/html": [
       "\n",
       "    <div>\n",
       "      \n",
       "      <progress value='211' max='211' style='width:300px; height:20px; vertical-align: middle;'></progress>\n",
       "      [211/211 00:03]\n",
       "    </div>\n",
       "    "
      ],
      "text/plain": [
       "<IPython.core.display.HTML object>"
      ]
     },
     "metadata": {},
     "output_type": "display_data"
    },
    {
     "name": "stderr",
     "output_type": "stream",
     "text": [
      "/net/fs-2/scale/OrionStore/Scratch/joteklem/MyCondaEnvironments/Python3.11/orion_env/lib/python3.11/site-packages/optuna/trial/_trial.py:499: UserWarning: The reported value is ignored because this `step` 4.992101105845181 is already reported.\n",
      "  warnings.warn(\n"
     ]
    },
    {
     "name": "stdout",
     "output_type": "stream",
     "text": [
      "Completed trial 21\n"
     ]
    },
    {
     "data": {
      "text/html": [
       "<style>\n",
       "    table.wandb td:nth-child(1) { padding: 0 10px; text-align: left ; width: auto;} td:nth-child(2) {text-align: left ; width: 100%}\n",
       "    .wandb-row { display: flex; flex-direction: row; flex-wrap: wrap; justify-content: flex-start; width: 100% }\n",
       "    .wandb-col { display: flex; flex-direction: column; flex-basis: 100%; flex: 1; padding: 10px; }\n",
       "    </style>\n",
       "<div class=\"wandb-row\"><div class=\"wandb-col\"><h3>Run history:</h3><br/><table class=\"wandb\"><tr><td>Training loss</td><td>▁</td></tr><tr><td>Validation loss</td><td>▁</td></tr><tr><td>Weighted F1 score</td><td>▁</td></tr><tr><td>eval/Accuracy</td><td>▂▅█▁▂▂</td></tr><tr><td>eval/Balanced accuracy</td><td>▄▁▇█▄▄</td></tr><tr><td>eval/F1 macro</td><td>▁▂██▆▆</td></tr><tr><td>eval/F1 micro</td><td>▂▅█▁▂▂</td></tr><tr><td>eval/F1 weighted</td><td>▃▁█▄▃▃</td></tr><tr><td>eval/loss</td><td>▁▁▁▅██</td></tr><tr><td>eval/runtime</td><td>▂▁▂▁▂█</td></tr><tr><td>eval/samples_per_second</td><td>▇█▇█▇▁</td></tr><tr><td>eval/steps_per_second</td><td>▇█▇█▇▁</td></tr><tr><td>train/epoch</td><td>▁▃▃▅▆▆███</td></tr><tr><td>train/global_step</td><td>▁▃▃▅▆▆█████</td></tr><tr><td>train/grad_norm</td><td>▁█</td></tr><tr><td>train/learning_rate</td><td>█▁</td></tr><tr><td>train/loss</td><td>█▁</td></tr><tr><td>train/total_flos</td><td>▁</td></tr><tr><td>train/train_loss</td><td>▁</td></tr><tr><td>train/train_runtime</td><td>▁</td></tr><tr><td>train/train_samples_per_second</td><td>▁</td></tr><tr><td>train/train_steps_per_second</td><td>▁</td></tr></table><br/></div><div class=\"wandb-col\"><h3>Run summary:</h3><br/><table class=\"wandb\"><tr><td>Training loss</td><td>0.2311</td></tr><tr><td>Validation loss</td><td>0.54745</td></tr><tr><td>Weighted F1 score</td><td>0.78387</td></tr><tr><td>eval/Accuracy</td><td>0.83472</td></tr><tr><td>eval/Balanced accuracy</td><td>0.77263</td></tr><tr><td>eval/F1 macro</td><td>0.78387</td></tr><tr><td>eval/F1 micro</td><td>0.83472</td></tr><tr><td>eval/F1 weighted</td><td>0.83215</td></tr><tr><td>eval/loss</td><td>0.61425</td></tr><tr><td>eval/runtime</td><td>3.7068</td></tr><tr><td>eval/samples_per_second</td><td>910.764</td></tr><tr><td>eval/steps_per_second</td><td>56.923</td></tr><tr><td>train/epoch</td><td>4.99</td></tr><tr><td>train/global_step</td><td>1580</td></tr><tr><td>train/grad_norm</td><td>7.5573</td></tr><tr><td>train/learning_rate</td><td>1e-05</td></tr><tr><td>train/loss</td><td>0.2311</td></tr><tr><td>train/total_flos</td><td>3572093537429760.0</td></tr><tr><td>train/train_loss</td><td>0.32506</td></tr><tr><td>train/train_runtime</td><td>243.7014</td></tr><tr><td>train/train_samples_per_second</td><td>207.795</td></tr><tr><td>train/train_steps_per_second</td><td>6.483</td></tr></table><br/></div></div>"
      ],
      "text/plain": [
       "<IPython.core.display.HTML object>"
      ]
     },
     "metadata": {},
     "output_type": "display_data"
    },
    {
     "data": {
      "text/html": [
       " View run <strong style=\"color:#cdcd00\">trial-21</strong> at: <a href='https://wandb.ai/master-2024/BERT_BASE/runs/3uzwn4zf' target=\"_blank\">https://wandb.ai/master-2024/BERT_BASE/runs/3uzwn4zf</a><br/>Synced 5 W&B file(s), 0 media file(s), 0 artifact file(s) and 0 other file(s)"
      ],
      "text/plain": [
       "<IPython.core.display.HTML object>"
      ]
     },
     "metadata": {},
     "output_type": "display_data"
    },
    {
     "data": {
      "text/html": [
       "Find logs at: <code>./wandb/run-20240418_140310-3uzwn4zf/logs</code>"
      ],
      "text/plain": [
       "<IPython.core.display.HTML object>"
      ]
     },
     "metadata": {},
     "output_type": "display_data"
    },
    {
     "name": "stderr",
     "output_type": "stream",
     "text": [
      "[I 2024-04-18 14:07:29,987] Trial 21 finished with value: 0.7838713880741031 and parameters: {'learning_rate': 2.858400740022811e-05, 'per_device_train_batch_size': 16, 'weight_decay': 0.16877112814968873, 'num_train_epochs': 5, 'warmup_steps': 200}. Best is trial 1 with value: 0.7939043393020544.\n"
     ]
    },
    {
     "data": {
      "text/html": [
       "wandb version 0.16.6 is available!  To upgrade, please run:\n",
       " $ pip install wandb --upgrade"
      ],
      "text/plain": [
       "<IPython.core.display.HTML object>"
      ]
     },
     "metadata": {},
     "output_type": "display_data"
    },
    {
     "data": {
      "text/html": [
       "Tracking run with wandb version 0.16.4"
      ],
      "text/plain": [
       "<IPython.core.display.HTML object>"
      ]
     },
     "metadata": {},
     "output_type": "display_data"
    },
    {
     "data": {
      "text/html": [
       "Run data is saved locally in <code>/net/fs-2/scale/OrionStore/Home/joteklem/Pytorch_models/wandb/run-20240418_140730-b4dnfcmn</code>"
      ],
      "text/plain": [
       "<IPython.core.display.HTML object>"
      ]
     },
     "metadata": {},
     "output_type": "display_data"
    },
    {
     "data": {
      "text/html": [
       "Syncing run <strong><a href='https://wandb.ai/master-2024/BERT_BASE/runs/b4dnfcmn' target=\"_blank\">trial-22</a></strong> to <a href='https://wandb.ai/master-2024/BERT_BASE' target=\"_blank\">Weights & Biases</a> (<a href='https://wandb.me/run' target=\"_blank\">docs</a>)<br/>"
      ],
      "text/plain": [
       "<IPython.core.display.HTML object>"
      ]
     },
     "metadata": {},
     "output_type": "display_data"
    },
    {
     "data": {
      "text/html": [
       " View project at <a href='https://wandb.ai/master-2024/BERT_BASE' target=\"_blank\">https://wandb.ai/master-2024/BERT_BASE</a>"
      ],
      "text/plain": [
       "<IPython.core.display.HTML object>"
      ]
     },
     "metadata": {},
     "output_type": "display_data"
    },
    {
     "data": {
      "text/html": [
       " View run at <a href='https://wandb.ai/master-2024/BERT_BASE/runs/b4dnfcmn' target=\"_blank\">https://wandb.ai/master-2024/BERT_BASE/runs/b4dnfcmn</a>"
      ],
      "text/plain": [
       "<IPython.core.display.HTML object>"
      ]
     },
     "metadata": {},
     "output_type": "display_data"
    },
    {
     "name": "stderr",
     "output_type": "stream",
     "text": [
      "/net/fs-2/scale/OrionStore/Scratch/joteklem/MyCondaEnvironments/Python3.11/orion_env/lib/python3.11/site-packages/accelerate/accelerator.py:432: FutureWarning: Passing the following arguments to `Accelerator` is deprecated and will be removed in version 1.0 of Accelerate: dict_keys(['dispatch_batches', 'split_batches', 'even_batches', 'use_seedable_sampler']). Please pass an `accelerate.DataLoaderConfiguration` instead: \n",
      "dataloader_config = DataLoaderConfiguration(dispatch_batches=None, split_batches=False, even_batches=True, use_seedable_sampler=True)\n",
      "  warnings.warn(\n",
      "Detected kernel version 3.10.0, which is below the recommended minimum of 5.5.0; this can cause the process to hang. It is recommended to upgrade the kernel to the minimum version or higher.\n"
     ]
    },
    {
     "name": "stdout",
     "output_type": "stream",
     "text": [
      "Starting trial 22\n"
     ]
    },
    {
     "data": {
      "text/html": [
       "\n",
       "    <div>\n",
       "      \n",
       "      <progress value='1267' max='1580' style='width:300px; height:20px; vertical-align: middle;'></progress>\n",
       "      [1267/1580 03:06 < 00:46, 6.78 it/s, Epoch 4/5]\n",
       "    </div>\n",
       "    <table border=\"1\" class=\"dataframe\">\n",
       "  <thead>\n",
       " <tr style=\"text-align: left;\">\n",
       "      <th>Epoch</th>\n",
       "      <th>Training Loss</th>\n",
       "      <th>Validation Loss</th>\n",
       "      <th>Accuracy</th>\n",
       "      <th>Balanced accuracy</th>\n",
       "      <th>F1 weighted</th>\n",
       "      <th>F1 macro</th>\n",
       "      <th>F1 micro</th>\n",
       "      <th>Classification report</th>\n",
       "    </tr>\n",
       "  </thead>\n",
       "  <tbody>\n",
       "    <tr>\n",
       "      <td>0</td>\n",
       "      <td>No log</td>\n",
       "      <td>0.469931</td>\n",
       "      <td>0.830865</td>\n",
       "      <td>0.743713</td>\n",
       "      <td>0.827305</td>\n",
       "      <td>0.765332</td>\n",
       "      <td>0.830865</td>\n",
       "      <td>{'0': {'precision': 0.7828220858895706, 'recall': 0.7088888888888889, 'f1-score': 0.7440233236151603, 'support': 900.0}, '1': {'precision': 0.8583840139009556, 'recall': 0.913968547641073, 'f1-score': 0.8853046594982079, 'support': 2162.0}, '2': {'precision': 0.7374517374517374, 'recall': 0.60828025477707, 'f1-score': 0.6666666666666667, 'support': 314.0}, 'accuracy': 0.8308649289099526, 'macro avg': {'precision': 0.7928859457474212, 'recall': 0.7437125637690106, 'f1-score': 0.7653315499266783, 'support': 3376.0}, 'weighted avg': {'precision': 0.8269922870006887, 'recall': 0.8308649289099526, 'f1-score': 0.8273053905278742, 'support': 3376.0}}</td>\n",
       "    </tr>\n",
       "    <tr>\n",
       "      <td>2</td>\n",
       "      <td>0.523100</td>\n",
       "      <td>0.474947</td>\n",
       "      <td>0.840936</td>\n",
       "      <td>0.769691</td>\n",
       "      <td>0.836915</td>\n",
       "      <td>0.786405</td>\n",
       "      <td>0.840936</td>\n",
       "      <td>{'0': {'precision': 0.8139223560910308, 'recall': 0.6755555555555556, 'f1-score': 0.7383120825743777, 'support': 900.0}, '1': {'precision': 0.860813704496788, 'recall': 0.9296947271045328, 'f1-score': 0.8939292861907938, 'support': 2162.0}, '2': {'precision': 0.7517006802721088, 'recall': 0.7038216560509554, 'f1-score': 0.7269736842105262, 'support': 314.0}, 'accuracy': 0.8409360189573459, 'macro avg': {'precision': 0.8088122469533091, 'recall': 0.7696906462370147, 'f1-score': 0.786405017658566, 'support': 3376.0}, 'weighted avg': {'precision': 0.8381645033203273, 'recall': 0.8409360189573459, 'f1-score': 0.8369152037628975, 'support': 3376.0}}</td>\n",
       "    </tr>\n",
       "  </tbody>\n",
       "</table><p>\n",
       "    <div>\n",
       "      \n",
       "      <progress value='211' max='211' style='width:300px; height:20px; vertical-align: middle;'></progress>\n",
       "      [211/211 00:03]\n",
       "    </div>\n",
       "    "
      ],
      "text/plain": [
       "<IPython.core.display.HTML object>"
      ]
     },
     "metadata": {},
     "output_type": "display_data"
    },
    {
     "name": "stderr",
     "output_type": "stream",
     "text": [
      "[I 2024-04-18 14:10:44,082] Trial 22 pruned. \n"
     ]
    },
    {
     "data": {
      "text/html": [
       "Finishing last run (ID:b4dnfcmn) before initializing another..."
      ],
      "text/plain": [
       "<IPython.core.display.HTML object>"
      ]
     },
     "metadata": {},
     "output_type": "display_data"
    },
    {
     "data": {
      "text/html": [
       "<style>\n",
       "    table.wandb td:nth-child(1) { padding: 0 10px; text-align: left ; width: auto;} td:nth-child(2) {text-align: left ; width: 100%}\n",
       "    .wandb-row { display: flex; flex-direction: row; flex-wrap: wrap; justify-content: flex-start; width: 100% }\n",
       "    .wandb-col { display: flex; flex-direction: column; flex-basis: 100%; flex: 1; padding: 10px; }\n",
       "    </style>\n",
       "<div class=\"wandb-row\"><div class=\"wandb-col\"><h3>Run history:</h3><br/><table class=\"wandb\"><tr><td>eval/Accuracy</td><td>▁██▃</td></tr><tr><td>eval/Balanced accuracy</td><td>▁▅▆█</td></tr><tr><td>eval/F1 macro</td><td>▁▇█▇</td></tr><tr><td>eval/F1 micro</td><td>▁██▃</td></tr><tr><td>eval/F1 weighted</td><td>▁▆█▄</td></tr><tr><td>eval/loss</td><td>▂▁▃█</td></tr><tr><td>eval/runtime</td><td>▆▁█▂</td></tr><tr><td>eval/samples_per_second</td><td>▃█▁▇</td></tr><tr><td>eval/steps_per_second</td><td>▃█▁▇</td></tr><tr><td>train/epoch</td><td>▁▃▃▆██</td></tr><tr><td>train/global_step</td><td>▁▃▃▆██</td></tr><tr><td>train/grad_norm</td><td>█▁</td></tr><tr><td>train/learning_rate</td><td>█▁</td></tr><tr><td>train/loss</td><td>█▁</td></tr></table><br/></div><div class=\"wandb-col\"><h3>Run summary:</h3><br/><table class=\"wandb\"><tr><td>eval/Accuracy</td><td>0.83323</td></tr><tr><td>eval/Balanced accuracy</td><td>0.78171</td></tr><tr><td>eval/F1 macro</td><td>0.78276</td></tr><tr><td>eval/F1 micro</td><td>0.83323</td></tr><tr><td>eval/F1 weighted</td><td>0.83102</td></tr><tr><td>eval/loss</td><td>0.60039</td></tr><tr><td>eval/runtime</td><td>3.6343</td></tr><tr><td>eval/samples_per_second</td><td>928.92</td></tr><tr><td>eval/steps_per_second</td><td>58.058</td></tr><tr><td>train/epoch</td><td>4.0</td></tr><tr><td>train/global_step</td><td>1266</td></tr><tr><td>train/grad_norm</td><td>4.68412</td></tr><tr><td>train/learning_rate</td><td>1e-05</td></tr><tr><td>train/loss</td><td>0.2197</td></tr></table><br/></div></div>"
      ],
      "text/plain": [
       "<IPython.core.display.HTML object>"
      ]
     },
     "metadata": {},
     "output_type": "display_data"
    },
    {
     "data": {
      "text/html": [
       " View run <strong style=\"color:#cdcd00\">trial-22</strong> at: <a href='https://wandb.ai/master-2024/BERT_BASE/runs/b4dnfcmn' target=\"_blank\">https://wandb.ai/master-2024/BERT_BASE/runs/b4dnfcmn</a><br/>Synced 5 W&B file(s), 0 media file(s), 0 artifact file(s) and 0 other file(s)"
      ],
      "text/plain": [
       "<IPython.core.display.HTML object>"
      ]
     },
     "metadata": {},
     "output_type": "display_data"
    },
    {
     "data": {
      "text/html": [
       "Find logs at: <code>./wandb/run-20240418_140730-b4dnfcmn/logs</code>"
      ],
      "text/plain": [
       "<IPython.core.display.HTML object>"
      ]
     },
     "metadata": {},
     "output_type": "display_data"
    },
    {
     "data": {
      "text/html": [
       "Successfully finished last run (ID:b4dnfcmn). Initializing new run:<br/>"
      ],
      "text/plain": [
       "<IPython.core.display.HTML object>"
      ]
     },
     "metadata": {},
     "output_type": "display_data"
    },
    {
     "data": {
      "text/html": [
       "wandb version 0.16.6 is available!  To upgrade, please run:\n",
       " $ pip install wandb --upgrade"
      ],
      "text/plain": [
       "<IPython.core.display.HTML object>"
      ]
     },
     "metadata": {},
     "output_type": "display_data"
    },
    {
     "data": {
      "text/html": [
       "Tracking run with wandb version 0.16.4"
      ],
      "text/plain": [
       "<IPython.core.display.HTML object>"
      ]
     },
     "metadata": {},
     "output_type": "display_data"
    },
    {
     "data": {
      "text/html": [
       "Run data is saved locally in <code>/net/fs-2/scale/OrionStore/Home/joteklem/Pytorch_models/wandb/run-20240418_141044-5p8055ij</code>"
      ],
      "text/plain": [
       "<IPython.core.display.HTML object>"
      ]
     },
     "metadata": {},
     "output_type": "display_data"
    },
    {
     "data": {
      "text/html": [
       "Syncing run <strong><a href='https://wandb.ai/master-2024/BERT_BASE/runs/5p8055ij' target=\"_blank\">trial-23</a></strong> to <a href='https://wandb.ai/master-2024/BERT_BASE' target=\"_blank\">Weights & Biases</a> (<a href='https://wandb.me/run' target=\"_blank\">docs</a>)<br/>"
      ],
      "text/plain": [
       "<IPython.core.display.HTML object>"
      ]
     },
     "metadata": {},
     "output_type": "display_data"
    },
    {
     "data": {
      "text/html": [
       " View project at <a href='https://wandb.ai/master-2024/BERT_BASE' target=\"_blank\">https://wandb.ai/master-2024/BERT_BASE</a>"
      ],
      "text/plain": [
       "<IPython.core.display.HTML object>"
      ]
     },
     "metadata": {},
     "output_type": "display_data"
    },
    {
     "data": {
      "text/html": [
       " View run at <a href='https://wandb.ai/master-2024/BERT_BASE/runs/5p8055ij' target=\"_blank\">https://wandb.ai/master-2024/BERT_BASE/runs/5p8055ij</a>"
      ],
      "text/plain": [
       "<IPython.core.display.HTML object>"
      ]
     },
     "metadata": {},
     "output_type": "display_data"
    },
    {
     "name": "stderr",
     "output_type": "stream",
     "text": [
      "/net/fs-2/scale/OrionStore/Scratch/joteklem/MyCondaEnvironments/Python3.11/orion_env/lib/python3.11/site-packages/accelerate/accelerator.py:432: FutureWarning: Passing the following arguments to `Accelerator` is deprecated and will be removed in version 1.0 of Accelerate: dict_keys(['dispatch_batches', 'split_batches', 'even_batches', 'use_seedable_sampler']). Please pass an `accelerate.DataLoaderConfiguration` instead: \n",
      "dataloader_config = DataLoaderConfiguration(dispatch_batches=None, split_batches=False, even_batches=True, use_seedable_sampler=True)\n",
      "  warnings.warn(\n",
      "Detected kernel version 3.10.0, which is below the recommended minimum of 5.5.0; this can cause the process to hang. It is recommended to upgrade the kernel to the minimum version or higher.\n"
     ]
    },
    {
     "name": "stdout",
     "output_type": "stream",
     "text": [
      "Starting trial 23\n"
     ]
    },
    {
     "data": {
      "text/html": [
       "\n",
       "    <div>\n",
       "      \n",
       "      <progress value='317' max='1580' style='width:300px; height:20px; vertical-align: middle;'></progress>\n",
       "      [ 317/1580 00:37 < 02:29, 8.48 it/s, Epoch 1.00/5]\n",
       "    </div>\n",
       "    <table border=\"1\" class=\"dataframe\">\n",
       "  <thead>\n",
       " <tr style=\"text-align: left;\">\n",
       "      <th>Epoch</th>\n",
       "      <th>Training Loss</th>\n",
       "      <th>Validation Loss</th>\n",
       "    </tr>\n",
       "  </thead>\n",
       "  <tbody>\n",
       "  </tbody>\n",
       "</table><p>\n",
       "    <div>\n",
       "      \n",
       "      <progress value='211' max='211' style='width:300px; height:20px; vertical-align: middle;'></progress>\n",
       "      [211/211 00:03]\n",
       "    </div>\n",
       "    "
      ],
      "text/plain": [
       "<IPython.core.display.HTML object>"
      ]
     },
     "metadata": {},
     "output_type": "display_data"
    },
    {
     "name": "stderr",
     "output_type": "stream",
     "text": [
      "[I 2024-04-18 14:11:35,775] Trial 23 pruned. \n"
     ]
    },
    {
     "data": {
      "text/html": [
       "Finishing last run (ID:5p8055ij) before initializing another..."
      ],
      "text/plain": [
       "<IPython.core.display.HTML object>"
      ]
     },
     "metadata": {},
     "output_type": "display_data"
    },
    {
     "data": {
      "text/html": [
       "<style>\n",
       "    table.wandb td:nth-child(1) { padding: 0 10px; text-align: left ; width: auto;} td:nth-child(2) {text-align: left ; width: 100%}\n",
       "    .wandb-row { display: flex; flex-direction: row; flex-wrap: wrap; justify-content: flex-start; width: 100% }\n",
       "    .wandb-col { display: flex; flex-direction: column; flex-basis: 100%; flex: 1; padding: 10px; }\n",
       "    </style>\n",
       "<div class=\"wandb-row\"><div class=\"wandb-col\"><h3>Run history:</h3><br/><table class=\"wandb\"><tr><td>eval/Accuracy</td><td>▁</td></tr><tr><td>eval/Balanced accuracy</td><td>▁</td></tr><tr><td>eval/F1 macro</td><td>▁</td></tr><tr><td>eval/F1 micro</td><td>▁</td></tr><tr><td>eval/F1 weighted</td><td>▁</td></tr><tr><td>eval/loss</td><td>▁</td></tr><tr><td>eval/runtime</td><td>▁</td></tr><tr><td>eval/samples_per_second</td><td>▁</td></tr><tr><td>eval/steps_per_second</td><td>▁</td></tr><tr><td>train/epoch</td><td>▁</td></tr><tr><td>train/global_step</td><td>▁</td></tr></table><br/></div><div class=\"wandb-col\"><h3>Run summary:</h3><br/><table class=\"wandb\"><tr><td>eval/Accuracy</td><td>0.80628</td></tr><tr><td>eval/Balanced accuracy</td><td>0.76487</td></tr><tr><td>eval/F1 macro</td><td>0.73439</td></tr><tr><td>eval/F1 micro</td><td>0.80628</td></tr><tr><td>eval/F1 weighted</td><td>0.80971</td></tr><tr><td>eval/loss</td><td>0.50768</td></tr><tr><td>eval/runtime</td><td>3.633</td></tr><tr><td>eval/samples_per_second</td><td>929.263</td></tr><tr><td>eval/steps_per_second</td><td>58.079</td></tr><tr><td>train/epoch</td><td>1.0</td></tr><tr><td>train/global_step</td><td>316</td></tr></table><br/></div></div>"
      ],
      "text/plain": [
       "<IPython.core.display.HTML object>"
      ]
     },
     "metadata": {},
     "output_type": "display_data"
    },
    {
     "data": {
      "text/html": [
       " View run <strong style=\"color:#cdcd00\">trial-23</strong> at: <a href='https://wandb.ai/master-2024/BERT_BASE/runs/5p8055ij' target=\"_blank\">https://wandb.ai/master-2024/BERT_BASE/runs/5p8055ij</a><br/>Synced 5 W&B file(s), 0 media file(s), 0 artifact file(s) and 0 other file(s)"
      ],
      "text/plain": [
       "<IPython.core.display.HTML object>"
      ]
     },
     "metadata": {},
     "output_type": "display_data"
    },
    {
     "data": {
      "text/html": [
       "Find logs at: <code>./wandb/run-20240418_141044-5p8055ij/logs</code>"
      ],
      "text/plain": [
       "<IPython.core.display.HTML object>"
      ]
     },
     "metadata": {},
     "output_type": "display_data"
    },
    {
     "data": {
      "text/html": [
       "Successfully finished last run (ID:5p8055ij). Initializing new run:<br/>"
      ],
      "text/plain": [
       "<IPython.core.display.HTML object>"
      ]
     },
     "metadata": {},
     "output_type": "display_data"
    },
    {
     "data": {
      "text/html": [
       "wandb version 0.16.6 is available!  To upgrade, please run:\n",
       " $ pip install wandb --upgrade"
      ],
      "text/plain": [
       "<IPython.core.display.HTML object>"
      ]
     },
     "metadata": {},
     "output_type": "display_data"
    },
    {
     "data": {
      "text/html": [
       "Tracking run with wandb version 0.16.4"
      ],
      "text/plain": [
       "<IPython.core.display.HTML object>"
      ]
     },
     "metadata": {},
     "output_type": "display_data"
    },
    {
     "data": {
      "text/html": [
       "Run data is saved locally in <code>/net/fs-2/scale/OrionStore/Home/joteklem/Pytorch_models/wandb/run-20240418_141135-kzskhnce</code>"
      ],
      "text/plain": [
       "<IPython.core.display.HTML object>"
      ]
     },
     "metadata": {},
     "output_type": "display_data"
    },
    {
     "data": {
      "text/html": [
       "Syncing run <strong><a href='https://wandb.ai/master-2024/BERT_BASE/runs/kzskhnce' target=\"_blank\">trial-24</a></strong> to <a href='https://wandb.ai/master-2024/BERT_BASE' target=\"_blank\">Weights & Biases</a> (<a href='https://wandb.me/run' target=\"_blank\">docs</a>)<br/>"
      ],
      "text/plain": [
       "<IPython.core.display.HTML object>"
      ]
     },
     "metadata": {},
     "output_type": "display_data"
    },
    {
     "data": {
      "text/html": [
       " View project at <a href='https://wandb.ai/master-2024/BERT_BASE' target=\"_blank\">https://wandb.ai/master-2024/BERT_BASE</a>"
      ],
      "text/plain": [
       "<IPython.core.display.HTML object>"
      ]
     },
     "metadata": {},
     "output_type": "display_data"
    },
    {
     "data": {
      "text/html": [
       " View run at <a href='https://wandb.ai/master-2024/BERT_BASE/runs/kzskhnce' target=\"_blank\">https://wandb.ai/master-2024/BERT_BASE/runs/kzskhnce</a>"
      ],
      "text/plain": [
       "<IPython.core.display.HTML object>"
      ]
     },
     "metadata": {},
     "output_type": "display_data"
    },
    {
     "name": "stderr",
     "output_type": "stream",
     "text": [
      "/net/fs-2/scale/OrionStore/Scratch/joteklem/MyCondaEnvironments/Python3.11/orion_env/lib/python3.11/site-packages/accelerate/accelerator.py:432: FutureWarning: Passing the following arguments to `Accelerator` is deprecated and will be removed in version 1.0 of Accelerate: dict_keys(['dispatch_batches', 'split_batches', 'even_batches', 'use_seedable_sampler']). Please pass an `accelerate.DataLoaderConfiguration` instead: \n",
      "dataloader_config = DataLoaderConfiguration(dispatch_batches=None, split_batches=False, even_batches=True, use_seedable_sampler=True)\n",
      "  warnings.warn(\n",
      "Detected kernel version 3.10.0, which is below the recommended minimum of 5.5.0; this can cause the process to hang. It is recommended to upgrade the kernel to the minimum version or higher.\n"
     ]
    },
    {
     "name": "stdout",
     "output_type": "stream",
     "text": [
      "Starting trial 24\n"
     ]
    },
    {
     "data": {
      "text/html": [
       "\n",
       "    <div>\n",
       "      \n",
       "      <progress value='317' max='1580' style='width:300px; height:20px; vertical-align: middle;'></progress>\n",
       "      [ 317/1580 00:37 < 02:30, 8.37 it/s, Epoch 1.00/5]\n",
       "    </div>\n",
       "    <table border=\"1\" class=\"dataframe\">\n",
       "  <thead>\n",
       " <tr style=\"text-align: left;\">\n",
       "      <th>Epoch</th>\n",
       "      <th>Training Loss</th>\n",
       "      <th>Validation Loss</th>\n",
       "    </tr>\n",
       "  </thead>\n",
       "  <tbody>\n",
       "  </tbody>\n",
       "</table><p>\n",
       "    <div>\n",
       "      \n",
       "      <progress value='211' max='211' style='width:300px; height:20px; vertical-align: middle;'></progress>\n",
       "      [211/211 00:03]\n",
       "    </div>\n",
       "    "
      ],
      "text/plain": [
       "<IPython.core.display.HTML object>"
      ]
     },
     "metadata": {},
     "output_type": "display_data"
    },
    {
     "name": "stderr",
     "output_type": "stream",
     "text": [
      "[I 2024-04-18 14:12:24,780] Trial 24 pruned. \n"
     ]
    },
    {
     "data": {
      "text/html": [
       "Finishing last run (ID:kzskhnce) before initializing another..."
      ],
      "text/plain": [
       "<IPython.core.display.HTML object>"
      ]
     },
     "metadata": {},
     "output_type": "display_data"
    },
    {
     "data": {
      "text/html": [
       "<style>\n",
       "    table.wandb td:nth-child(1) { padding: 0 10px; text-align: left ; width: auto;} td:nth-child(2) {text-align: left ; width: 100%}\n",
       "    .wandb-row { display: flex; flex-direction: row; flex-wrap: wrap; justify-content: flex-start; width: 100% }\n",
       "    .wandb-col { display: flex; flex-direction: column; flex-basis: 100%; flex: 1; padding: 10px; }\n",
       "    </style>\n",
       "<div class=\"wandb-row\"><div class=\"wandb-col\"><h3>Run history:</h3><br/><table class=\"wandb\"><tr><td>eval/Accuracy</td><td>▁</td></tr><tr><td>eval/Balanced accuracy</td><td>▁</td></tr><tr><td>eval/F1 macro</td><td>▁</td></tr><tr><td>eval/F1 micro</td><td>▁</td></tr><tr><td>eval/F1 weighted</td><td>▁</td></tr><tr><td>eval/loss</td><td>▁</td></tr><tr><td>eval/runtime</td><td>▁</td></tr><tr><td>eval/samples_per_second</td><td>▁</td></tr><tr><td>eval/steps_per_second</td><td>▁</td></tr><tr><td>train/epoch</td><td>▁</td></tr><tr><td>train/global_step</td><td>▁</td></tr></table><br/></div><div class=\"wandb-col\"><h3>Run summary:</h3><br/><table class=\"wandb\"><tr><td>eval/Accuracy</td><td>0.82227</td></tr><tr><td>eval/Balanced accuracy</td><td>0.73768</td></tr><tr><td>eval/F1 macro</td><td>0.7486</td></tr><tr><td>eval/F1 micro</td><td>0.82227</td></tr><tr><td>eval/F1 weighted</td><td>0.81847</td></tr><tr><td>eval/loss</td><td>0.50013</td></tr><tr><td>eval/runtime</td><td>3.6401</td></tr><tr><td>eval/samples_per_second</td><td>927.438</td></tr><tr><td>eval/steps_per_second</td><td>57.965</td></tr><tr><td>train/epoch</td><td>1.0</td></tr><tr><td>train/global_step</td><td>316</td></tr></table><br/></div></div>"
      ],
      "text/plain": [
       "<IPython.core.display.HTML object>"
      ]
     },
     "metadata": {},
     "output_type": "display_data"
    },
    {
     "data": {
      "text/html": [
       " View run <strong style=\"color:#cdcd00\">trial-24</strong> at: <a href='https://wandb.ai/master-2024/BERT_BASE/runs/kzskhnce' target=\"_blank\">https://wandb.ai/master-2024/BERT_BASE/runs/kzskhnce</a><br/>Synced 5 W&B file(s), 0 media file(s), 0 artifact file(s) and 0 other file(s)"
      ],
      "text/plain": [
       "<IPython.core.display.HTML object>"
      ]
     },
     "metadata": {},
     "output_type": "display_data"
    },
    {
     "data": {
      "text/html": [
       "Find logs at: <code>./wandb/run-20240418_141135-kzskhnce/logs</code>"
      ],
      "text/plain": [
       "<IPython.core.display.HTML object>"
      ]
     },
     "metadata": {},
     "output_type": "display_data"
    },
    {
     "data": {
      "text/html": [
       "Successfully finished last run (ID:kzskhnce). Initializing new run:<br/>"
      ],
      "text/plain": [
       "<IPython.core.display.HTML object>"
      ]
     },
     "metadata": {},
     "output_type": "display_data"
    },
    {
     "data": {
      "text/html": [
       "wandb version 0.16.6 is available!  To upgrade, please run:\n",
       " $ pip install wandb --upgrade"
      ],
      "text/plain": [
       "<IPython.core.display.HTML object>"
      ]
     },
     "metadata": {},
     "output_type": "display_data"
    },
    {
     "data": {
      "text/html": [
       "Tracking run with wandb version 0.16.4"
      ],
      "text/plain": [
       "<IPython.core.display.HTML object>"
      ]
     },
     "metadata": {},
     "output_type": "display_data"
    },
    {
     "data": {
      "text/html": [
       "Run data is saved locally in <code>/net/fs-2/scale/OrionStore/Home/joteklem/Pytorch_models/wandb/run-20240418_141224-vdlmpj1g</code>"
      ],
      "text/plain": [
       "<IPython.core.display.HTML object>"
      ]
     },
     "metadata": {},
     "output_type": "display_data"
    },
    {
     "data": {
      "text/html": [
       "Syncing run <strong><a href='https://wandb.ai/master-2024/BERT_BASE/runs/vdlmpj1g' target=\"_blank\">trial-25</a></strong> to <a href='https://wandb.ai/master-2024/BERT_BASE' target=\"_blank\">Weights & Biases</a> (<a href='https://wandb.me/run' target=\"_blank\">docs</a>)<br/>"
      ],
      "text/plain": [
       "<IPython.core.display.HTML object>"
      ]
     },
     "metadata": {},
     "output_type": "display_data"
    },
    {
     "data": {
      "text/html": [
       " View project at <a href='https://wandb.ai/master-2024/BERT_BASE' target=\"_blank\">https://wandb.ai/master-2024/BERT_BASE</a>"
      ],
      "text/plain": [
       "<IPython.core.display.HTML object>"
      ]
     },
     "metadata": {},
     "output_type": "display_data"
    },
    {
     "data": {
      "text/html": [
       " View run at <a href='https://wandb.ai/master-2024/BERT_BASE/runs/vdlmpj1g' target=\"_blank\">https://wandb.ai/master-2024/BERT_BASE/runs/vdlmpj1g</a>"
      ],
      "text/plain": [
       "<IPython.core.display.HTML object>"
      ]
     },
     "metadata": {},
     "output_type": "display_data"
    },
    {
     "name": "stdout",
     "output_type": "stream",
     "text": [
      "Starting trial 25\n"
     ]
    },
    {
     "name": "stderr",
     "output_type": "stream",
     "text": [
      "/net/fs-2/scale/OrionStore/Scratch/joteklem/MyCondaEnvironments/Python3.11/orion_env/lib/python3.11/site-packages/accelerate/accelerator.py:432: FutureWarning: Passing the following arguments to `Accelerator` is deprecated and will be removed in version 1.0 of Accelerate: dict_keys(['dispatch_batches', 'split_batches', 'even_batches', 'use_seedable_sampler']). Please pass an `accelerate.DataLoaderConfiguration` instead: \n",
      "dataloader_config = DataLoaderConfiguration(dispatch_batches=None, split_batches=False, even_batches=True, use_seedable_sampler=True)\n",
      "  warnings.warn(\n",
      "Detected kernel version 3.10.0, which is below the recommended minimum of 5.5.0; this can cause the process to hang. It is recommended to upgrade the kernel to the minimum version or higher.\n"
     ]
    },
    {
     "data": {
      "text/html": [
       "\n",
       "    <div>\n",
       "      \n",
       "      <progress value='1580' max='1580' style='width:300px; height:20px; vertical-align: middle;'></progress>\n",
       "      [1580/1580 04:04, Epoch 4/5]\n",
       "    </div>\n",
       "    <table border=\"1\" class=\"dataframe\">\n",
       "  <thead>\n",
       " <tr style=\"text-align: left;\">\n",
       "      <th>Epoch</th>\n",
       "      <th>Training Loss</th>\n",
       "      <th>Validation Loss</th>\n",
       "      <th>Accuracy</th>\n",
       "      <th>Balanced accuracy</th>\n",
       "      <th>F1 weighted</th>\n",
       "      <th>F1 macro</th>\n",
       "      <th>F1 micro</th>\n",
       "      <th>Classification report</th>\n",
       "    </tr>\n",
       "  </thead>\n",
       "  <tbody>\n",
       "    <tr>\n",
       "      <td>0</td>\n",
       "      <td>No log</td>\n",
       "      <td>0.463873</td>\n",
       "      <td>0.831457</td>\n",
       "      <td>0.759054</td>\n",
       "      <td>0.828173</td>\n",
       "      <td>0.770023</td>\n",
       "      <td>0.831457</td>\n",
       "      <td>{'0': {'precision': 0.8114209827357237, 'recall': 0.6788888888888889, 'f1-score': 0.7392619479733817, 'support': 900.0}, '1': {'precision': 0.8572664359861591, 'recall': 0.9167437557816837, 'f1-score': 0.886008046490836, 'support': 2162.0}, '2': {'precision': 0.6881028938906752, 'recall': 0.6815286624203821, 'f1-score': 0.6848000000000001, 'support': 314.0}, 'accuracy': 0.831457345971564, 'macro avg': {'precision': 0.7855967708708528, 'recall': 0.7590537690303183, 'f1-score': 0.7700233314880727, 'support': 3376.0}, 'weighted avg': {'precision': 0.8293107902090936, 'recall': 0.831457345971564, 'f1-score': 0.8281730893629238, 'support': 3376.0}}</td>\n",
       "    </tr>\n",
       "    <tr>\n",
       "      <td>2</td>\n",
       "      <td>0.504200</td>\n",
       "      <td>0.486583</td>\n",
       "      <td>0.840936</td>\n",
       "      <td>0.772105</td>\n",
       "      <td>0.835246</td>\n",
       "      <td>0.790305</td>\n",
       "      <td>0.840936</td>\n",
       "      <td>{'0': {'precision': 0.8304347826086956, 'recall': 0.6366666666666667, 'f1-score': 0.7207547169811321, 'support': 900.0}, '1': {'precision': 0.8524727577535625, 'recall': 0.940795559666975, 'f1-score': 0.8944591029023746, 'support': 2162.0}, '2': {'precision': 0.7733333333333333, 'recall': 0.7388535031847133, 'f1-score': 0.7557003257328989, 'support': 314.0}, 'accuracy': 0.8409360189573459, 'macro avg': {'precision': 0.8187469578985306, 'recall': 0.772105243172785, 'f1-score': 0.7903047152054685, 'support': 3376.0}, 'weighted avg': {'precision': 0.8392369885301229, 'recall': 0.8409360189573459, 'f1-score': 0.8352457725231288, 'support': 3376.0}}</td>\n",
       "    </tr>\n",
       "    <tr>\n",
       "      <td>4</td>\n",
       "      <td>0.209700</td>\n",
       "      <td>0.686297</td>\n",
       "      <td>0.835308</td>\n",
       "      <td>0.767456</td>\n",
       "      <td>0.832570</td>\n",
       "      <td>0.784402</td>\n",
       "      <td>0.835308</td>\n",
       "      <td>{'0': {'precision': 0.7667887667887668, 'recall': 0.6977777777777778, 'f1-score': 0.7306573589296103, 'support': 900.0}, '1': {'precision': 0.8666081614743308, 'recall': 0.9135060129509713, 'f1-score': 0.8894393154694888, 'support': 2162.0}, '2': {'precision': 0.7805755395683454, 'recall': 0.6910828025477707, 'f1-score': 0.733108108108108, 'support': 314.0}, 'accuracy': 0.8353080568720379, 'macro avg': {'precision': 0.8046574892771478, 'recall': 0.7674555310921732, 'f1-score': 0.784401594169069, 'support': 3376.0}, 'weighted avg': {'precision': 0.8319956915408334, 'recall': 0.8353080568720379, 'f1-score': 0.8325697183138714, 'support': 3376.0}}</td>\n",
       "    </tr>\n",
       "  </tbody>\n",
       "</table><p>"
      ],
      "text/plain": [
       "<IPython.core.display.HTML object>"
      ]
     },
     "metadata": {},
     "output_type": "display_data"
    },
    {
     "data": {
      "text/html": [
       "\n",
       "    <div>\n",
       "      \n",
       "      <progress value='211' max='211' style='width:300px; height:20px; vertical-align: middle;'></progress>\n",
       "      [211/211 00:03]\n",
       "    </div>\n",
       "    "
      ],
      "text/plain": [
       "<IPython.core.display.HTML object>"
      ]
     },
     "metadata": {},
     "output_type": "display_data"
    },
    {
     "name": "stderr",
     "output_type": "stream",
     "text": [
      "/net/fs-2/scale/OrionStore/Scratch/joteklem/MyCondaEnvironments/Python3.11/orion_env/lib/python3.11/site-packages/optuna/trial/_trial.py:499: UserWarning: The reported value is ignored because this `step` 4.992101105845181 is already reported.\n",
      "  warnings.warn(\n"
     ]
    },
    {
     "name": "stdout",
     "output_type": "stream",
     "text": [
      "Completed trial 25\n"
     ]
    },
    {
     "data": {
      "text/html": [
       "<style>\n",
       "    table.wandb td:nth-child(1) { padding: 0 10px; text-align: left ; width: auto;} td:nth-child(2) {text-align: left ; width: 100%}\n",
       "    .wandb-row { display: flex; flex-direction: row; flex-wrap: wrap; justify-content: flex-start; width: 100% }\n",
       "    .wandb-col { display: flex; flex-direction: column; flex-basis: 100%; flex: 1; padding: 10px; }\n",
       "    </style>\n",
       "<div class=\"wandb-row\"><div class=\"wandb-col\"><h3>Run history:</h3><br/><table class=\"wandb\"><tr><td>Training loss</td><td>▁</td></tr><tr><td>Validation loss</td><td>▁</td></tr><tr><td>Weighted F1 score</td><td>▁</td></tr><tr><td>eval/Accuracy</td><td>▁█▆▅▃▃</td></tr><tr><td>eval/Balanced accuracy</td><td>▁█▅▅▄▄</td></tr><tr><td>eval/F1 macro</td><td>▁███▆▆</td></tr><tr><td>eval/F1 micro</td><td>▁█▆▅▃▃</td></tr><tr><td>eval/F1 weighted</td><td>▁█▅▆▄▄</td></tr><tr><td>eval/loss</td><td>▂▁▂▅██</td></tr><tr><td>eval/runtime</td><td>▃▁▄▂▁█</td></tr><tr><td>eval/samples_per_second</td><td>▆█▅▇█▁</td></tr><tr><td>eval/steps_per_second</td><td>▆█▅▇█▁</td></tr><tr><td>train/epoch</td><td>▁▃▃▅▆▆███</td></tr><tr><td>train/global_step</td><td>▁▃▃▅▆▆█████</td></tr><tr><td>train/grad_norm</td><td>▁█</td></tr><tr><td>train/learning_rate</td><td>█▁</td></tr><tr><td>train/loss</td><td>█▁</td></tr><tr><td>train/total_flos</td><td>▁</td></tr><tr><td>train/train_loss</td><td>▁</td></tr><tr><td>train/train_runtime</td><td>▁</td></tr><tr><td>train/train_samples_per_second</td><td>▁</td></tr><tr><td>train/train_steps_per_second</td><td>▁</td></tr></table><br/></div><div class=\"wandb-col\"><h3>Run summary:</h3><br/><table class=\"wandb\"><tr><td>Training loss</td><td>0.2097</td></tr><tr><td>Validation loss</td><td>0.56988</td></tr><tr><td>Weighted F1 score</td><td>0.7844</td></tr><tr><td>eval/Accuracy</td><td>0.83531</td></tr><tr><td>eval/Balanced accuracy</td><td>0.76746</td></tr><tr><td>eval/F1 macro</td><td>0.7844</td></tr><tr><td>eval/F1 micro</td><td>0.83531</td></tr><tr><td>eval/F1 weighted</td><td>0.83257</td></tr><tr><td>eval/loss</td><td>0.6863</td></tr><tr><td>eval/runtime</td><td>3.6606</td></tr><tr><td>eval/samples_per_second</td><td>922.254</td></tr><tr><td>eval/steps_per_second</td><td>57.641</td></tr><tr><td>train/epoch</td><td>4.99</td></tr><tr><td>train/global_step</td><td>1580</td></tr><tr><td>train/grad_norm</td><td>9.72365</td></tr><tr><td>train/learning_rate</td><td>1e-05</td></tr><tr><td>train/loss</td><td>0.2097</td></tr><tr><td>train/total_flos</td><td>3572093537429760.0</td></tr><tr><td>train/train_loss</td><td>0.30493</td></tr><tr><td>train/train_runtime</td><td>244.8194</td></tr><tr><td>train/train_samples_per_second</td><td>206.846</td></tr><tr><td>train/train_steps_per_second</td><td>6.454</td></tr></table><br/></div></div>"
      ],
      "text/plain": [
       "<IPython.core.display.HTML object>"
      ]
     },
     "metadata": {},
     "output_type": "display_data"
    },
    {
     "data": {
      "text/html": [
       " View run <strong style=\"color:#cdcd00\">trial-25</strong> at: <a href='https://wandb.ai/master-2024/BERT_BASE/runs/vdlmpj1g' target=\"_blank\">https://wandb.ai/master-2024/BERT_BASE/runs/vdlmpj1g</a><br/>Synced 5 W&B file(s), 0 media file(s), 0 artifact file(s) and 0 other file(s)"
      ],
      "text/plain": [
       "<IPython.core.display.HTML object>"
      ]
     },
     "metadata": {},
     "output_type": "display_data"
    },
    {
     "data": {
      "text/html": [
       "Find logs at: <code>./wandb/run-20240418_141224-vdlmpj1g/logs</code>"
      ],
      "text/plain": [
       "<IPython.core.display.HTML object>"
      ]
     },
     "metadata": {},
     "output_type": "display_data"
    },
    {
     "name": "stderr",
     "output_type": "stream",
     "text": [
      "[I 2024-04-18 14:16:46,059] Trial 25 finished with value: 0.784401594169069 and parameters: {'learning_rate': 3.6656559813587586e-05, 'per_device_train_batch_size': 16, 'weight_decay': 0.18754187791206528, 'num_train_epochs': 5, 'warmup_steps': 172}. Best is trial 1 with value: 0.7939043393020544.\n"
     ]
    },
    {
     "data": {
      "text/html": [
       "wandb version 0.16.6 is available!  To upgrade, please run:\n",
       " $ pip install wandb --upgrade"
      ],
      "text/plain": [
       "<IPython.core.display.HTML object>"
      ]
     },
     "metadata": {},
     "output_type": "display_data"
    },
    {
     "data": {
      "text/html": [
       "Tracking run with wandb version 0.16.4"
      ],
      "text/plain": [
       "<IPython.core.display.HTML object>"
      ]
     },
     "metadata": {},
     "output_type": "display_data"
    },
    {
     "data": {
      "text/html": [
       "Run data is saved locally in <code>/net/fs-2/scale/OrionStore/Home/joteklem/Pytorch_models/wandb/run-20240418_141646-3vdpa55j</code>"
      ],
      "text/plain": [
       "<IPython.core.display.HTML object>"
      ]
     },
     "metadata": {},
     "output_type": "display_data"
    },
    {
     "data": {
      "text/html": [
       "Syncing run <strong><a href='https://wandb.ai/master-2024/BERT_BASE/runs/3vdpa55j' target=\"_blank\">trial-26</a></strong> to <a href='https://wandb.ai/master-2024/BERT_BASE' target=\"_blank\">Weights & Biases</a> (<a href='https://wandb.me/run' target=\"_blank\">docs</a>)<br/>"
      ],
      "text/plain": [
       "<IPython.core.display.HTML object>"
      ]
     },
     "metadata": {},
     "output_type": "display_data"
    },
    {
     "data": {
      "text/html": [
       " View project at <a href='https://wandb.ai/master-2024/BERT_BASE' target=\"_blank\">https://wandb.ai/master-2024/BERT_BASE</a>"
      ],
      "text/plain": [
       "<IPython.core.display.HTML object>"
      ]
     },
     "metadata": {},
     "output_type": "display_data"
    },
    {
     "data": {
      "text/html": [
       " View run at <a href='https://wandb.ai/master-2024/BERT_BASE/runs/3vdpa55j' target=\"_blank\">https://wandb.ai/master-2024/BERT_BASE/runs/3vdpa55j</a>"
      ],
      "text/plain": [
       "<IPython.core.display.HTML object>"
      ]
     },
     "metadata": {},
     "output_type": "display_data"
    },
    {
     "name": "stdout",
     "output_type": "stream",
     "text": [
      "Starting trial 26\n"
     ]
    },
    {
     "name": "stderr",
     "output_type": "stream",
     "text": [
      "/net/fs-2/scale/OrionStore/Scratch/joteklem/MyCondaEnvironments/Python3.11/orion_env/lib/python3.11/site-packages/accelerate/accelerator.py:432: FutureWarning: Passing the following arguments to `Accelerator` is deprecated and will be removed in version 1.0 of Accelerate: dict_keys(['dispatch_batches', 'split_batches', 'even_batches', 'use_seedable_sampler']). Please pass an `accelerate.DataLoaderConfiguration` instead: \n",
      "dataloader_config = DataLoaderConfiguration(dispatch_batches=None, split_batches=False, even_batches=True, use_seedable_sampler=True)\n",
      "  warnings.warn(\n",
      "Detected kernel version 3.10.0, which is below the recommended minimum of 5.5.0; this can cause the process to hang. It is recommended to upgrade the kernel to the minimum version or higher.\n"
     ]
    },
    {
     "data": {
      "text/html": [
       "\n",
       "    <div>\n",
       "      \n",
       "      <progress value='317' max='948' style='width:300px; height:20px; vertical-align: middle;'></progress>\n",
       "      [317/948 00:37 < 01:14, 8.47 it/s, Epoch 1.00/3]\n",
       "    </div>\n",
       "    <table border=\"1\" class=\"dataframe\">\n",
       "  <thead>\n",
       " <tr style=\"text-align: left;\">\n",
       "      <th>Epoch</th>\n",
       "      <th>Training Loss</th>\n",
       "      <th>Validation Loss</th>\n",
       "    </tr>\n",
       "  </thead>\n",
       "  <tbody>\n",
       "  </tbody>\n",
       "</table><p>\n",
       "    <div>\n",
       "      \n",
       "      <progress value='211' max='211' style='width:300px; height:20px; vertical-align: middle;'></progress>\n",
       "      [211/211 00:03]\n",
       "    </div>\n",
       "    "
      ],
      "text/plain": [
       "<IPython.core.display.HTML object>"
      ]
     },
     "metadata": {},
     "output_type": "display_data"
    },
    {
     "name": "stderr",
     "output_type": "stream",
     "text": [
      "[I 2024-04-18 14:17:30,709] Trial 26 pruned. \n"
     ]
    },
    {
     "data": {
      "text/html": [
       "Finishing last run (ID:3vdpa55j) before initializing another..."
      ],
      "text/plain": [
       "<IPython.core.display.HTML object>"
      ]
     },
     "metadata": {},
     "output_type": "display_data"
    },
    {
     "data": {
      "text/html": [
       "<style>\n",
       "    table.wandb td:nth-child(1) { padding: 0 10px; text-align: left ; width: auto;} td:nth-child(2) {text-align: left ; width: 100%}\n",
       "    .wandb-row { display: flex; flex-direction: row; flex-wrap: wrap; justify-content: flex-start; width: 100% }\n",
       "    .wandb-col { display: flex; flex-direction: column; flex-basis: 100%; flex: 1; padding: 10px; }\n",
       "    </style>\n",
       "<div class=\"wandb-row\"><div class=\"wandb-col\"><h3>Run history:</h3><br/><table class=\"wandb\"><tr><td>eval/Accuracy</td><td>▁</td></tr><tr><td>eval/Balanced accuracy</td><td>▁</td></tr><tr><td>eval/F1 macro</td><td>▁</td></tr><tr><td>eval/F1 micro</td><td>▁</td></tr><tr><td>eval/F1 weighted</td><td>▁</td></tr><tr><td>eval/loss</td><td>▁</td></tr><tr><td>eval/runtime</td><td>▁</td></tr><tr><td>eval/samples_per_second</td><td>▁</td></tr><tr><td>eval/steps_per_second</td><td>▁</td></tr><tr><td>train/epoch</td><td>▁</td></tr><tr><td>train/global_step</td><td>▁</td></tr></table><br/></div><div class=\"wandb-col\"><h3>Run summary:</h3><br/><table class=\"wandb\"><tr><td>eval/Accuracy</td><td>0.82168</td></tr><tr><td>eval/Balanced accuracy</td><td>0.76321</td></tr><tr><td>eval/F1 macro</td><td>0.7504</td></tr><tr><td>eval/F1 micro</td><td>0.82168</td></tr><tr><td>eval/F1 weighted</td><td>0.8212</td></tr><tr><td>eval/loss</td><td>0.47929</td></tr><tr><td>eval/runtime</td><td>3.6352</td></tr><tr><td>eval/samples_per_second</td><td>928.697</td></tr><tr><td>eval/steps_per_second</td><td>58.044</td></tr><tr><td>train/epoch</td><td>1.0</td></tr><tr><td>train/global_step</td><td>316</td></tr></table><br/></div></div>"
      ],
      "text/plain": [
       "<IPython.core.display.HTML object>"
      ]
     },
     "metadata": {},
     "output_type": "display_data"
    },
    {
     "data": {
      "text/html": [
       " View run <strong style=\"color:#cdcd00\">trial-26</strong> at: <a href='https://wandb.ai/master-2024/BERT_BASE/runs/3vdpa55j' target=\"_blank\">https://wandb.ai/master-2024/BERT_BASE/runs/3vdpa55j</a><br/>Synced 5 W&B file(s), 0 media file(s), 0 artifact file(s) and 0 other file(s)"
      ],
      "text/plain": [
       "<IPython.core.display.HTML object>"
      ]
     },
     "metadata": {},
     "output_type": "display_data"
    },
    {
     "data": {
      "text/html": [
       "Find logs at: <code>./wandb/run-20240418_141646-3vdpa55j/logs</code>"
      ],
      "text/plain": [
       "<IPython.core.display.HTML object>"
      ]
     },
     "metadata": {},
     "output_type": "display_data"
    },
    {
     "data": {
      "text/html": [
       "Successfully finished last run (ID:3vdpa55j). Initializing new run:<br/>"
      ],
      "text/plain": [
       "<IPython.core.display.HTML object>"
      ]
     },
     "metadata": {},
     "output_type": "display_data"
    },
    {
     "data": {
      "text/html": [
       "wandb version 0.16.6 is available!  To upgrade, please run:\n",
       " $ pip install wandb --upgrade"
      ],
      "text/plain": [
       "<IPython.core.display.HTML object>"
      ]
     },
     "metadata": {},
     "output_type": "display_data"
    },
    {
     "data": {
      "text/html": [
       "Tracking run with wandb version 0.16.4"
      ],
      "text/plain": [
       "<IPython.core.display.HTML object>"
      ]
     },
     "metadata": {},
     "output_type": "display_data"
    },
    {
     "data": {
      "text/html": [
       "Run data is saved locally in <code>/net/fs-2/scale/OrionStore/Home/joteklem/Pytorch_models/wandb/run-20240418_141730-epufek49</code>"
      ],
      "text/plain": [
       "<IPython.core.display.HTML object>"
      ]
     },
     "metadata": {},
     "output_type": "display_data"
    },
    {
     "data": {
      "text/html": [
       "Syncing run <strong><a href='https://wandb.ai/master-2024/BERT_BASE/runs/epufek49' target=\"_blank\">trial-27</a></strong> to <a href='https://wandb.ai/master-2024/BERT_BASE' target=\"_blank\">Weights & Biases</a> (<a href='https://wandb.me/run' target=\"_blank\">docs</a>)<br/>"
      ],
      "text/plain": [
       "<IPython.core.display.HTML object>"
      ]
     },
     "metadata": {},
     "output_type": "display_data"
    },
    {
     "data": {
      "text/html": [
       " View project at <a href='https://wandb.ai/master-2024/BERT_BASE' target=\"_blank\">https://wandb.ai/master-2024/BERT_BASE</a>"
      ],
      "text/plain": [
       "<IPython.core.display.HTML object>"
      ]
     },
     "metadata": {},
     "output_type": "display_data"
    },
    {
     "data": {
      "text/html": [
       " View run at <a href='https://wandb.ai/master-2024/BERT_BASE/runs/epufek49' target=\"_blank\">https://wandb.ai/master-2024/BERT_BASE/runs/epufek49</a>"
      ],
      "text/plain": [
       "<IPython.core.display.HTML object>"
      ]
     },
     "metadata": {},
     "output_type": "display_data"
    },
    {
     "name": "stderr",
     "output_type": "stream",
     "text": [
      "/net/fs-2/scale/OrionStore/Scratch/joteklem/MyCondaEnvironments/Python3.11/orion_env/lib/python3.11/site-packages/accelerate/accelerator.py:432: FutureWarning: Passing the following arguments to `Accelerator` is deprecated and will be removed in version 1.0 of Accelerate: dict_keys(['dispatch_batches', 'split_batches', 'even_batches', 'use_seedable_sampler']). Please pass an `accelerate.DataLoaderConfiguration` instead: \n",
      "dataloader_config = DataLoaderConfiguration(dispatch_batches=None, split_batches=False, even_batches=True, use_seedable_sampler=True)\n",
      "  warnings.warn(\n",
      "Detected kernel version 3.10.0, which is below the recommended minimum of 5.5.0; this can cause the process to hang. It is recommended to upgrade the kernel to the minimum version or higher.\n"
     ]
    },
    {
     "name": "stdout",
     "output_type": "stream",
     "text": [
      "Starting trial 27\n"
     ]
    },
    {
     "data": {
      "text/html": [
       "\n",
       "    <div>\n",
       "      \n",
       "      <progress value='317' max='632' style='width:300px; height:20px; vertical-align: middle;'></progress>\n",
       "      [317/632 00:37 < 00:37, 8.42 it/s, Epoch 1.00/2]\n",
       "    </div>\n",
       "    <table border=\"1\" class=\"dataframe\">\n",
       "  <thead>\n",
       " <tr style=\"text-align: left;\">\n",
       "      <th>Epoch</th>\n",
       "      <th>Training Loss</th>\n",
       "      <th>Validation Loss</th>\n",
       "    </tr>\n",
       "  </thead>\n",
       "  <tbody>\n",
       "  </tbody>\n",
       "</table><p>\n",
       "    <div>\n",
       "      \n",
       "      <progress value='211' max='211' style='width:300px; height:20px; vertical-align: middle;'></progress>\n",
       "      [211/211 00:03]\n",
       "    </div>\n",
       "    "
      ],
      "text/plain": [
       "<IPython.core.display.HTML object>"
      ]
     },
     "metadata": {},
     "output_type": "display_data"
    },
    {
     "name": "stderr",
     "output_type": "stream",
     "text": [
      "[I 2024-04-18 14:18:20,455] Trial 27 pruned. \n"
     ]
    },
    {
     "data": {
      "text/html": [
       "Finishing last run (ID:epufek49) before initializing another..."
      ],
      "text/plain": [
       "<IPython.core.display.HTML object>"
      ]
     },
     "metadata": {},
     "output_type": "display_data"
    },
    {
     "data": {
      "text/html": [
       "<style>\n",
       "    table.wandb td:nth-child(1) { padding: 0 10px; text-align: left ; width: auto;} td:nth-child(2) {text-align: left ; width: 100%}\n",
       "    .wandb-row { display: flex; flex-direction: row; flex-wrap: wrap; justify-content: flex-start; width: 100% }\n",
       "    .wandb-col { display: flex; flex-direction: column; flex-basis: 100%; flex: 1; padding: 10px; }\n",
       "    </style>\n",
       "<div class=\"wandb-row\"><div class=\"wandb-col\"><h3>Run history:</h3><br/><table class=\"wandb\"><tr><td>eval/Accuracy</td><td>▁</td></tr><tr><td>eval/Balanced accuracy</td><td>▁</td></tr><tr><td>eval/F1 macro</td><td>▁</td></tr><tr><td>eval/F1 micro</td><td>▁</td></tr><tr><td>eval/F1 weighted</td><td>▁</td></tr><tr><td>eval/loss</td><td>▁</td></tr><tr><td>eval/runtime</td><td>▁</td></tr><tr><td>eval/samples_per_second</td><td>▁</td></tr><tr><td>eval/steps_per_second</td><td>▁</td></tr><tr><td>train/epoch</td><td>▁</td></tr><tr><td>train/global_step</td><td>▁</td></tr></table><br/></div><div class=\"wandb-col\"><h3>Run summary:</h3><br/><table class=\"wandb\"><tr><td>eval/Accuracy</td><td>0.79917</td></tr><tr><td>eval/Balanced accuracy</td><td>0.73637</td></tr><tr><td>eval/F1 macro</td><td>0.7223</td></tr><tr><td>eval/F1 micro</td><td>0.79917</td></tr><tr><td>eval/F1 weighted</td><td>0.8006</td></tr><tr><td>eval/loss</td><td>0.55809</td></tr><tr><td>eval/runtime</td><td>3.64</td></tr><tr><td>eval/samples_per_second</td><td>927.467</td></tr><tr><td>eval/steps_per_second</td><td>57.967</td></tr><tr><td>train/epoch</td><td>1.0</td></tr><tr><td>train/global_step</td><td>316</td></tr></table><br/></div></div>"
      ],
      "text/plain": [
       "<IPython.core.display.HTML object>"
      ]
     },
     "metadata": {},
     "output_type": "display_data"
    },
    {
     "data": {
      "text/html": [
       " View run <strong style=\"color:#cdcd00\">trial-27</strong> at: <a href='https://wandb.ai/master-2024/BERT_BASE/runs/epufek49' target=\"_blank\">https://wandb.ai/master-2024/BERT_BASE/runs/epufek49</a><br/>Synced 5 W&B file(s), 0 media file(s), 0 artifact file(s) and 0 other file(s)"
      ],
      "text/plain": [
       "<IPython.core.display.HTML object>"
      ]
     },
     "metadata": {},
     "output_type": "display_data"
    },
    {
     "data": {
      "text/html": [
       "Find logs at: <code>./wandb/run-20240418_141730-epufek49/logs</code>"
      ],
      "text/plain": [
       "<IPython.core.display.HTML object>"
      ]
     },
     "metadata": {},
     "output_type": "display_data"
    },
    {
     "data": {
      "text/html": [
       "Successfully finished last run (ID:epufek49). Initializing new run:<br/>"
      ],
      "text/plain": [
       "<IPython.core.display.HTML object>"
      ]
     },
     "metadata": {},
     "output_type": "display_data"
    },
    {
     "data": {
      "text/html": [
       "wandb version 0.16.6 is available!  To upgrade, please run:\n",
       " $ pip install wandb --upgrade"
      ],
      "text/plain": [
       "<IPython.core.display.HTML object>"
      ]
     },
     "metadata": {},
     "output_type": "display_data"
    },
    {
     "data": {
      "text/html": [
       "Tracking run with wandb version 0.16.4"
      ],
      "text/plain": [
       "<IPython.core.display.HTML object>"
      ]
     },
     "metadata": {},
     "output_type": "display_data"
    },
    {
     "data": {
      "text/html": [
       "Run data is saved locally in <code>/net/fs-2/scale/OrionStore/Home/joteklem/Pytorch_models/wandb/run-20240418_141820-4d99s9k0</code>"
      ],
      "text/plain": [
       "<IPython.core.display.HTML object>"
      ]
     },
     "metadata": {},
     "output_type": "display_data"
    },
    {
     "data": {
      "text/html": [
       "Syncing run <strong><a href='https://wandb.ai/master-2024/BERT_BASE/runs/4d99s9k0' target=\"_blank\">trial-28</a></strong> to <a href='https://wandb.ai/master-2024/BERT_BASE' target=\"_blank\">Weights & Biases</a> (<a href='https://wandb.me/run' target=\"_blank\">docs</a>)<br/>"
      ],
      "text/plain": [
       "<IPython.core.display.HTML object>"
      ]
     },
     "metadata": {},
     "output_type": "display_data"
    },
    {
     "data": {
      "text/html": [
       " View project at <a href='https://wandb.ai/master-2024/BERT_BASE' target=\"_blank\">https://wandb.ai/master-2024/BERT_BASE</a>"
      ],
      "text/plain": [
       "<IPython.core.display.HTML object>"
      ]
     },
     "metadata": {},
     "output_type": "display_data"
    },
    {
     "data": {
      "text/html": [
       " View run at <a href='https://wandb.ai/master-2024/BERT_BASE/runs/4d99s9k0' target=\"_blank\">https://wandb.ai/master-2024/BERT_BASE/runs/4d99s9k0</a>"
      ],
      "text/plain": [
       "<IPython.core.display.HTML object>"
      ]
     },
     "metadata": {},
     "output_type": "display_data"
    },
    {
     "name": "stderr",
     "output_type": "stream",
     "text": [
      "/net/fs-2/scale/OrionStore/Scratch/joteklem/MyCondaEnvironments/Python3.11/orion_env/lib/python3.11/site-packages/accelerate/accelerator.py:432: FutureWarning: Passing the following arguments to `Accelerator` is deprecated and will be removed in version 1.0 of Accelerate: dict_keys(['dispatch_batches', 'split_batches', 'even_batches', 'use_seedable_sampler']). Please pass an `accelerate.DataLoaderConfiguration` instead: \n",
      "dataloader_config = DataLoaderConfiguration(dispatch_batches=None, split_batches=False, even_batches=True, use_seedable_sampler=True)\n",
      "  warnings.warn(\n",
      "Detected kernel version 3.10.0, which is below the recommended minimum of 5.5.0; this can cause the process to hang. It is recommended to upgrade the kernel to the minimum version or higher.\n"
     ]
    },
    {
     "name": "stdout",
     "output_type": "stream",
     "text": [
      "Starting trial 28\n"
     ]
    },
    {
     "data": {
      "text/html": [
       "\n",
       "    <div>\n",
       "      \n",
       "      <progress value='159' max='790' style='width:300px; height:20px; vertical-align: middle;'></progress>\n",
       "      [159/790 00:33 < 02:14, 4.69 it/s, Epoch 1.00/5]\n",
       "    </div>\n",
       "    <table border=\"1\" class=\"dataframe\">\n",
       "  <thead>\n",
       " <tr style=\"text-align: left;\">\n",
       "      <th>Epoch</th>\n",
       "      <th>Training Loss</th>\n",
       "      <th>Validation Loss</th>\n",
       "    </tr>\n",
       "  </thead>\n",
       "  <tbody>\n",
       "  </tbody>\n",
       "</table><p>\n",
       "    <div>\n",
       "      \n",
       "      <progress value='106' max='106' style='width:300px; height:20px; vertical-align: middle;'></progress>\n",
       "      [106/106 00:03]\n",
       "    </div>\n",
       "    "
      ],
      "text/plain": [
       "<IPython.core.display.HTML object>"
      ]
     },
     "metadata": {},
     "output_type": "display_data"
    },
    {
     "name": "stderr",
     "output_type": "stream",
     "text": [
      "[I 2024-04-18 14:19:05,326] Trial 28 pruned. \n"
     ]
    },
    {
     "data": {
      "text/html": [
       "Finishing last run (ID:4d99s9k0) before initializing another..."
      ],
      "text/plain": [
       "<IPython.core.display.HTML object>"
      ]
     },
     "metadata": {},
     "output_type": "display_data"
    },
    {
     "data": {
      "text/html": [
       "<style>\n",
       "    table.wandb td:nth-child(1) { padding: 0 10px; text-align: left ; width: auto;} td:nth-child(2) {text-align: left ; width: 100%}\n",
       "    .wandb-row { display: flex; flex-direction: row; flex-wrap: wrap; justify-content: flex-start; width: 100% }\n",
       "    .wandb-col { display: flex; flex-direction: column; flex-basis: 100%; flex: 1; padding: 10px; }\n",
       "    </style>\n",
       "<div class=\"wandb-row\"><div class=\"wandb-col\"><h3>Run history:</h3><br/><table class=\"wandb\"><tr><td>eval/Accuracy</td><td>▁</td></tr><tr><td>eval/Balanced accuracy</td><td>▁</td></tr><tr><td>eval/F1 macro</td><td>▁</td></tr><tr><td>eval/F1 micro</td><td>▁</td></tr><tr><td>eval/F1 weighted</td><td>▁</td></tr><tr><td>eval/loss</td><td>▁</td></tr><tr><td>eval/runtime</td><td>▁</td></tr><tr><td>eval/samples_per_second</td><td>▁</td></tr><tr><td>eval/steps_per_second</td><td>▁</td></tr><tr><td>train/epoch</td><td>▁</td></tr><tr><td>train/global_step</td><td>▁</td></tr></table><br/></div><div class=\"wandb-col\"><h3>Run summary:</h3><br/><table class=\"wandb\"><tr><td>eval/Accuracy</td><td>0.80628</td></tr><tr><td>eval/Balanced accuracy</td><td>0.6712</td></tr><tr><td>eval/F1 macro</td><td>0.70374</td></tr><tr><td>eval/F1 micro</td><td>0.80628</td></tr><tr><td>eval/F1 weighted</td><td>0.7975</td></tr><tr><td>eval/loss</td><td>0.55885</td></tr><tr><td>eval/runtime</td><td>3.6442</td></tr><tr><td>eval/samples_per_second</td><td>926.41</td></tr><tr><td>eval/steps_per_second</td><td>29.088</td></tr><tr><td>train/epoch</td><td>1.0</td></tr><tr><td>train/global_step</td><td>158</td></tr></table><br/></div></div>"
      ],
      "text/plain": [
       "<IPython.core.display.HTML object>"
      ]
     },
     "metadata": {},
     "output_type": "display_data"
    },
    {
     "data": {
      "text/html": [
       " View run <strong style=\"color:#cdcd00\">trial-28</strong> at: <a href='https://wandb.ai/master-2024/BERT_BASE/runs/4d99s9k0' target=\"_blank\">https://wandb.ai/master-2024/BERT_BASE/runs/4d99s9k0</a><br/>Synced 5 W&B file(s), 0 media file(s), 0 artifact file(s) and 0 other file(s)"
      ],
      "text/plain": [
       "<IPython.core.display.HTML object>"
      ]
     },
     "metadata": {},
     "output_type": "display_data"
    },
    {
     "data": {
      "text/html": [
       "Find logs at: <code>./wandb/run-20240418_141820-4d99s9k0/logs</code>"
      ],
      "text/plain": [
       "<IPython.core.display.HTML object>"
      ]
     },
     "metadata": {},
     "output_type": "display_data"
    },
    {
     "data": {
      "text/html": [
       "Successfully finished last run (ID:4d99s9k0). Initializing new run:<br/>"
      ],
      "text/plain": [
       "<IPython.core.display.HTML object>"
      ]
     },
     "metadata": {},
     "output_type": "display_data"
    },
    {
     "data": {
      "text/html": [
       "wandb version 0.16.6 is available!  To upgrade, please run:\n",
       " $ pip install wandb --upgrade"
      ],
      "text/plain": [
       "<IPython.core.display.HTML object>"
      ]
     },
     "metadata": {},
     "output_type": "display_data"
    },
    {
     "data": {
      "text/html": [
       "Tracking run with wandb version 0.16.4"
      ],
      "text/plain": [
       "<IPython.core.display.HTML object>"
      ]
     },
     "metadata": {},
     "output_type": "display_data"
    },
    {
     "data": {
      "text/html": [
       "Run data is saved locally in <code>/net/fs-2/scale/OrionStore/Home/joteklem/Pytorch_models/wandb/run-20240418_141905-o2twem2j</code>"
      ],
      "text/plain": [
       "<IPython.core.display.HTML object>"
      ]
     },
     "metadata": {},
     "output_type": "display_data"
    },
    {
     "data": {
      "text/html": [
       "Syncing run <strong><a href='https://wandb.ai/master-2024/BERT_BASE/runs/o2twem2j' target=\"_blank\">trial-29</a></strong> to <a href='https://wandb.ai/master-2024/BERT_BASE' target=\"_blank\">Weights & Biases</a> (<a href='https://wandb.me/run' target=\"_blank\">docs</a>)<br/>"
      ],
      "text/plain": [
       "<IPython.core.display.HTML object>"
      ]
     },
     "metadata": {},
     "output_type": "display_data"
    },
    {
     "data": {
      "text/html": [
       " View project at <a href='https://wandb.ai/master-2024/BERT_BASE' target=\"_blank\">https://wandb.ai/master-2024/BERT_BASE</a>"
      ],
      "text/plain": [
       "<IPython.core.display.HTML object>"
      ]
     },
     "metadata": {},
     "output_type": "display_data"
    },
    {
     "data": {
      "text/html": [
       " View run at <a href='https://wandb.ai/master-2024/BERT_BASE/runs/o2twem2j' target=\"_blank\">https://wandb.ai/master-2024/BERT_BASE/runs/o2twem2j</a>"
      ],
      "text/plain": [
       "<IPython.core.display.HTML object>"
      ]
     },
     "metadata": {},
     "output_type": "display_data"
    },
    {
     "name": "stderr",
     "output_type": "stream",
     "text": [
      "/net/fs-2/scale/OrionStore/Scratch/joteklem/MyCondaEnvironments/Python3.11/orion_env/lib/python3.11/site-packages/accelerate/accelerator.py:432: FutureWarning: Passing the following arguments to `Accelerator` is deprecated and will be removed in version 1.0 of Accelerate: dict_keys(['dispatch_batches', 'split_batches', 'even_batches', 'use_seedable_sampler']). Please pass an `accelerate.DataLoaderConfiguration` instead: \n",
      "dataloader_config = DataLoaderConfiguration(dispatch_batches=None, split_batches=False, even_batches=True, use_seedable_sampler=True)\n",
      "  warnings.warn(\n",
      "Detected kernel version 3.10.0, which is below the recommended minimum of 5.5.0; this can cause the process to hang. It is recommended to upgrade the kernel to the minimum version or higher.\n"
     ]
    },
    {
     "name": "stdout",
     "output_type": "stream",
     "text": [
      "Starting trial 29\n"
     ]
    },
    {
     "data": {
      "text/html": [
       "\n",
       "    <div>\n",
       "      \n",
       "      <progress value='1900' max='2532' style='width:300px; height:20px; vertical-align: middle;'></progress>\n",
       "      [1900/2532 03:57 < 01:18, 8.00 it/s, Epoch 3/4]\n",
       "    </div>\n",
       "    <table border=\"1\" class=\"dataframe\">\n",
       "  <thead>\n",
       " <tr style=\"text-align: left;\">\n",
       "      <th>Epoch</th>\n",
       "      <th>Training Loss</th>\n",
       "      <th>Validation Loss</th>\n",
       "      <th>Accuracy</th>\n",
       "      <th>Balanced accuracy</th>\n",
       "      <th>F1 weighted</th>\n",
       "      <th>F1 macro</th>\n",
       "      <th>F1 micro</th>\n",
       "      <th>Classification report</th>\n",
       "    </tr>\n",
       "  </thead>\n",
       "  <tbody>\n",
       "    <tr>\n",
       "      <td>1</td>\n",
       "      <td>No log</td>\n",
       "      <td>0.461745</td>\n",
       "      <td>0.829088</td>\n",
       "      <td>0.772902</td>\n",
       "      <td>0.828531</td>\n",
       "      <td>0.764009</td>\n",
       "      <td>0.829088</td>\n",
       "      <td>{'0': {'precision': 0.8184210526315789, 'recall': 0.6911111111111111, 'f1-score': 0.7493975903614457, 'support': 900.0}, '1': {'precision': 0.8720357941834452, 'recall': 0.9014801110083256, 'f1-score': 0.8865135319536047, 'support': 2162.0}, '2': {'precision': 0.5984251968503937, 'recall': 0.7261146496815286, 'f1-score': 0.656115107913669, 'support': 314.0}, 'accuracy': 0.8290876777251185, 'macro avg': {'precision': 0.762960681221806, 'recall': 0.7729019572669884, 'f1-score': 0.7640087434095731, 'support': 3376.0}, 'weighted avg': {'precision': 0.8322943857239493, 'recall': 0.8290876777251185, 'f1-score': 0.8285308741984262, 'support': 3376.0}}</td>\n",
       "    </tr>\n",
       "    <tr>\n",
       "      <td>2</td>\n",
       "      <td>0.500800</td>\n",
       "      <td>0.454691</td>\n",
       "      <td>0.841528</td>\n",
       "      <td>0.777127</td>\n",
       "      <td>0.837909</td>\n",
       "      <td>0.782805</td>\n",
       "      <td>0.841528</td>\n",
       "      <td>{'0': {'precision': 0.8354253835425384, 'recall': 0.6655555555555556, 'f1-score': 0.7408781694495981, 'support': 900.0}, '1': {'precision': 0.8656909169177788, 'recall': 0.9301572617946346, 'f1-score': 0.8967670011148272, 'support': 2162.0}, '2': {'precision': 0.6875, 'recall': 0.7356687898089171, 'f1-score': 0.7107692307692308, 'support': 314.0}, 'accuracy': 0.8415284360189573, 'macro avg': {'precision': 0.7962054334867723, 'recall': 0.7771272023863691, 'f1-score': 0.782804800444552, 'support': 3376.0}, 'weighted avg': {'precision': 0.8410490543733774, 'recall': 0.8415284360189573, 'f1-score': 0.8379094038437301, 'support': 3376.0}}</td>\n",
       "    </tr>\n",
       "  </tbody>\n",
       "</table><p>\n",
       "    <div>\n",
       "      \n",
       "      <progress value='422' max='422' style='width:300px; height:20px; vertical-align: middle;'></progress>\n",
       "      [422/422 00:04]\n",
       "    </div>\n",
       "    "
      ],
      "text/plain": [
       "<IPython.core.display.HTML object>"
      ]
     },
     "metadata": {},
     "output_type": "display_data"
    },
    {
     "name": "stderr",
     "output_type": "stream",
     "text": [
      "[I 2024-04-18 14:23:15,454] Trial 29 pruned. \n"
     ]
    },
    {
     "data": {
      "text/html": [
       "Finishing last run (ID:o2twem2j) before initializing another..."
      ],
      "text/plain": [
       "<IPython.core.display.HTML object>"
      ]
     },
     "metadata": {},
     "output_type": "display_data"
    },
    {
     "data": {
      "text/html": [
       "<style>\n",
       "    table.wandb td:nth-child(1) { padding: 0 10px; text-align: left ; width: auto;} td:nth-child(2) {text-align: left ; width: 100%}\n",
       "    .wandb-row { display: flex; flex-direction: row; flex-wrap: wrap; justify-content: flex-start; width: 100% }\n",
       "    .wandb-col { display: flex; flex-direction: column; flex-basis: 100%; flex: 1; padding: 10px; }\n",
       "    </style>\n",
       "<div class=\"wandb-row\"><div class=\"wandb-col\"><h3>Run history:</h3><br/><table class=\"wandb\"><tr><td>eval/Accuracy</td><td>▁██</td></tr><tr><td>eval/Balanced accuracy</td><td>▁██</td></tr><tr><td>eval/F1 macro</td><td>▁▇█</td></tr><tr><td>eval/F1 micro</td><td>▁██</td></tr><tr><td>eval/F1 weighted</td><td>▁██</td></tr><tr><td>eval/loss</td><td>▃▁█</td></tr><tr><td>eval/runtime</td><td>▁█▁</td></tr><tr><td>eval/samples_per_second</td><td>█▁█</td></tr><tr><td>eval/steps_per_second</td><td>█▁█</td></tr><tr><td>train/epoch</td><td>▁▅▅█</td></tr><tr><td>train/global_step</td><td>▁▅▅█</td></tr><tr><td>train/grad_norm</td><td>▁</td></tr><tr><td>train/learning_rate</td><td>▁</td></tr><tr><td>train/loss</td><td>▁</td></tr></table><br/></div><div class=\"wandb-col\"><h3>Run summary:</h3><br/><table class=\"wandb\"><tr><td>eval/Accuracy</td><td>0.84212</td></tr><tr><td>eval/Balanced accuracy</td><td>0.77692</td></tr><tr><td>eval/F1 macro</td><td>0.78619</td></tr><tr><td>eval/F1 micro</td><td>0.84212</td></tr><tr><td>eval/F1 weighted</td><td>0.83846</td></tr><tr><td>eval/loss</td><td>0.47909</td></tr><tr><td>eval/runtime</td><td>5.0172</td></tr><tr><td>eval/samples_per_second</td><td>672.88</td></tr><tr><td>eval/steps_per_second</td><td>84.11</td></tr><tr><td>train/epoch</td><td>3.0</td></tr><tr><td>train/global_step</td><td>1899</td></tr><tr><td>train/grad_norm</td><td>12.63136</td></tr><tr><td>train/learning_rate</td><td>1e-05</td></tr><tr><td>train/loss</td><td>0.5008</td></tr></table><br/></div></div>"
      ],
      "text/plain": [
       "<IPython.core.display.HTML object>"
      ]
     },
     "metadata": {},
     "output_type": "display_data"
    },
    {
     "data": {
      "text/html": [
       " View run <strong style=\"color:#cdcd00\">trial-29</strong> at: <a href='https://wandb.ai/master-2024/BERT_BASE/runs/o2twem2j' target=\"_blank\">https://wandb.ai/master-2024/BERT_BASE/runs/o2twem2j</a><br/>Synced 5 W&B file(s), 0 media file(s), 0 artifact file(s) and 0 other file(s)"
      ],
      "text/plain": [
       "<IPython.core.display.HTML object>"
      ]
     },
     "metadata": {},
     "output_type": "display_data"
    },
    {
     "data": {
      "text/html": [
       "Find logs at: <code>./wandb/run-20240418_141905-o2twem2j/logs</code>"
      ],
      "text/plain": [
       "<IPython.core.display.HTML object>"
      ]
     },
     "metadata": {},
     "output_type": "display_data"
    },
    {
     "data": {
      "text/html": [
       "Successfully finished last run (ID:o2twem2j). Initializing new run:<br/>"
      ],
      "text/plain": [
       "<IPython.core.display.HTML object>"
      ]
     },
     "metadata": {},
     "output_type": "display_data"
    },
    {
     "data": {
      "text/html": [
       "wandb version 0.16.6 is available!  To upgrade, please run:\n",
       " $ pip install wandb --upgrade"
      ],
      "text/plain": [
       "<IPython.core.display.HTML object>"
      ]
     },
     "metadata": {},
     "output_type": "display_data"
    },
    {
     "data": {
      "text/html": [
       "Tracking run with wandb version 0.16.4"
      ],
      "text/plain": [
       "<IPython.core.display.HTML object>"
      ]
     },
     "metadata": {},
     "output_type": "display_data"
    },
    {
     "data": {
      "text/html": [
       "Run data is saved locally in <code>/net/fs-2/scale/OrionStore/Home/joteklem/Pytorch_models/wandb/run-20240418_142315-dcp3gc6i</code>"
      ],
      "text/plain": [
       "<IPython.core.display.HTML object>"
      ]
     },
     "metadata": {},
     "output_type": "display_data"
    },
    {
     "data": {
      "text/html": [
       "Syncing run <strong><a href='https://wandb.ai/master-2024/BERT_BASE/runs/dcp3gc6i' target=\"_blank\">trial-30</a></strong> to <a href='https://wandb.ai/master-2024/BERT_BASE' target=\"_blank\">Weights & Biases</a> (<a href='https://wandb.me/run' target=\"_blank\">docs</a>)<br/>"
      ],
      "text/plain": [
       "<IPython.core.display.HTML object>"
      ]
     },
     "metadata": {},
     "output_type": "display_data"
    },
    {
     "data": {
      "text/html": [
       " View project at <a href='https://wandb.ai/master-2024/BERT_BASE' target=\"_blank\">https://wandb.ai/master-2024/BERT_BASE</a>"
      ],
      "text/plain": [
       "<IPython.core.display.HTML object>"
      ]
     },
     "metadata": {},
     "output_type": "display_data"
    },
    {
     "data": {
      "text/html": [
       " View run at <a href='https://wandb.ai/master-2024/BERT_BASE/runs/dcp3gc6i' target=\"_blank\">https://wandb.ai/master-2024/BERT_BASE/runs/dcp3gc6i</a>"
      ],
      "text/plain": [
       "<IPython.core.display.HTML object>"
      ]
     },
     "metadata": {},
     "output_type": "display_data"
    },
    {
     "name": "stderr",
     "output_type": "stream",
     "text": [
      "/net/fs-2/scale/OrionStore/Scratch/joteklem/MyCondaEnvironments/Python3.11/orion_env/lib/python3.11/site-packages/accelerate/accelerator.py:432: FutureWarning: Passing the following arguments to `Accelerator` is deprecated and will be removed in version 1.0 of Accelerate: dict_keys(['dispatch_batches', 'split_batches', 'even_batches', 'use_seedable_sampler']). Please pass an `accelerate.DataLoaderConfiguration` instead: \n",
      "dataloader_config = DataLoaderConfiguration(dispatch_batches=None, split_batches=False, even_batches=True, use_seedable_sampler=True)\n",
      "  warnings.warn(\n",
      "Detected kernel version 3.10.0, which is below the recommended minimum of 5.5.0; this can cause the process to hang. It is recommended to upgrade the kernel to the minimum version or higher.\n"
     ]
    },
    {
     "name": "stdout",
     "output_type": "stream",
     "text": [
      "Starting trial 30\n"
     ]
    },
    {
     "data": {
      "text/html": [
       "\n",
       "    <div>\n",
       "      \n",
       "      <progress value='1900' max='2532' style='width:300px; height:20px; vertical-align: middle;'></progress>\n",
       "      [1900/2532 03:52 < 01:17, 8.18 it/s, Epoch 3/4]\n",
       "    </div>\n",
       "    <table border=\"1\" class=\"dataframe\">\n",
       "  <thead>\n",
       " <tr style=\"text-align: left;\">\n",
       "      <th>Epoch</th>\n",
       "      <th>Training Loss</th>\n",
       "      <th>Validation Loss</th>\n",
       "      <th>Accuracy</th>\n",
       "      <th>Balanced accuracy</th>\n",
       "      <th>F1 weighted</th>\n",
       "      <th>F1 macro</th>\n",
       "      <th>F1 micro</th>\n",
       "      <th>Classification report</th>\n",
       "    </tr>\n",
       "  </thead>\n",
       "  <tbody>\n",
       "    <tr>\n",
       "      <td>1</td>\n",
       "      <td>No log</td>\n",
       "      <td>0.455886</td>\n",
       "      <td>0.830865</td>\n",
       "      <td>0.764887</td>\n",
       "      <td>0.829734</td>\n",
       "      <td>0.768067</td>\n",
       "      <td>0.830865</td>\n",
       "      <td>{'0': {'precision': 0.7808383233532934, 'recall': 0.7244444444444444, 'f1-score': 0.751585014409222, 'support': 900.0}, '1': {'precision': 0.873987398739874, 'recall': 0.8982423681776133, 'f1-score': 0.8859489051094891, 'support': 2162.0}, '2': {'precision': 0.6614420062695925, 'recall': 0.6719745222929936, 'f1-score': 0.6666666666666667, 'support': 314.0}, 'accuracy': 0.8308649289099526, 'macro avg': {'precision': 0.7720892427875866, 'recall': 0.7648871116383504, 'f1-score': 0.7680668620617926, 'support': 3376.0}, 'weighted avg': {'precision': 0.8293862669023174, 'recall': 0.8308649289099526, 'f1-score': 0.829733820837781, 'support': 3376.0}}</td>\n",
       "    </tr>\n",
       "    <tr>\n",
       "      <td>2</td>\n",
       "      <td>0.498000</td>\n",
       "      <td>0.436102</td>\n",
       "      <td>0.841232</td>\n",
       "      <td>0.765615</td>\n",
       "      <td>0.838458</td>\n",
       "      <td>0.780467</td>\n",
       "      <td>0.841232</td>\n",
       "      <td>{'0': {'precision': 0.7957920792079208, 'recall': 0.7144444444444444, 'f1-score': 0.752927400468384, 'support': 900.0}, '1': {'precision': 0.871603856266433, 'recall': 0.919981498612396, 'f1-score': 0.8951395139513952, 'support': 2162.0}, '2': {'precision': 0.7272727272727273, 'recall': 0.6624203821656051, 'f1-score': 0.6933333333333332, 'support': 314.0}, 'accuracy': 0.8412322274881516, 'macro avg': {'precision': 0.7982228875823605, 'recall': 0.7656154417408151, 'f1-score': 0.7804667492510374, 'support': 3376.0}, 'weighted avg': {'precision': 0.8379692076122018, 'recall': 0.8412322274881516, 'f1-score': 0.8384576292213058, 'support': 3376.0}}</td>\n",
       "    </tr>\n",
       "  </tbody>\n",
       "</table><p>\n",
       "    <div>\n",
       "      \n",
       "      <progress value='422' max='422' style='width:300px; height:20px; vertical-align: middle;'></progress>\n",
       "      [422/422 00:04]\n",
       "    </div>\n",
       "    "
      ],
      "text/plain": [
       "<IPython.core.display.HTML object>"
      ]
     },
     "metadata": {},
     "output_type": "display_data"
    },
    {
     "name": "stderr",
     "output_type": "stream",
     "text": [
      "[I 2024-04-18 14:27:22,280] Trial 30 pruned. \n"
     ]
    },
    {
     "data": {
      "text/html": [
       "Finishing last run (ID:dcp3gc6i) before initializing another..."
      ],
      "text/plain": [
       "<IPython.core.display.HTML object>"
      ]
     },
     "metadata": {},
     "output_type": "display_data"
    },
    {
     "data": {
      "text/html": [
       "<style>\n",
       "    table.wandb td:nth-child(1) { padding: 0 10px; text-align: left ; width: auto;} td:nth-child(2) {text-align: left ; width: 100%}\n",
       "    .wandb-row { display: flex; flex-direction: row; flex-wrap: wrap; justify-content: flex-start; width: 100% }\n",
       "    .wandb-col { display: flex; flex-direction: column; flex-basis: 100%; flex: 1; padding: 10px; }\n",
       "    </style>\n",
       "<div class=\"wandb-row\"><div class=\"wandb-col\"><h3>Run history:</h3><br/><table class=\"wandb\"><tr><td>eval/Accuracy</td><td>▁█▆</td></tr><tr><td>eval/Balanced accuracy</td><td>▁▄█</td></tr><tr><td>eval/F1 macro</td><td>▁█▇</td></tr><tr><td>eval/F1 micro</td><td>▁█▆</td></tr><tr><td>eval/F1 weighted</td><td>▁█▆</td></tr><tr><td>eval/loss</td><td>▂▁█</td></tr><tr><td>eval/runtime</td><td>█▁▇</td></tr><tr><td>eval/samples_per_second</td><td>▁█▂</td></tr><tr><td>eval/steps_per_second</td><td>▁█▂</td></tr><tr><td>train/epoch</td><td>▁▅▅█</td></tr><tr><td>train/global_step</td><td>▁▅▅█</td></tr><tr><td>train/grad_norm</td><td>▁</td></tr><tr><td>train/learning_rate</td><td>▁</td></tr><tr><td>train/loss</td><td>▁</td></tr></table><br/></div><div class=\"wandb-col\"><h3>Run summary:</h3><br/><table class=\"wandb\"><tr><td>eval/Accuracy</td><td>0.83886</td></tr><tr><td>eval/Balanced accuracy</td><td>0.76641</td></tr><tr><td>eval/F1 macro</td><td>0.77896</td></tr><tr><td>eval/F1 micro</td><td>0.83886</td></tr><tr><td>eval/F1 weighted</td><td>0.8357</td></tr><tr><td>eval/loss</td><td>0.54534</td></tr><tr><td>eval/runtime</td><td>5.0182</td></tr><tr><td>eval/samples_per_second</td><td>672.755</td></tr><tr><td>eval/steps_per_second</td><td>84.094</td></tr><tr><td>train/epoch</td><td>3.0</td></tr><tr><td>train/global_step</td><td>1899</td></tr><tr><td>train/grad_norm</td><td>8.74303</td></tr><tr><td>train/learning_rate</td><td>2e-05</td></tr><tr><td>train/loss</td><td>0.498</td></tr></table><br/></div></div>"
      ],
      "text/plain": [
       "<IPython.core.display.HTML object>"
      ]
     },
     "metadata": {},
     "output_type": "display_data"
    },
    {
     "data": {
      "text/html": [
       " View run <strong style=\"color:#cdcd00\">trial-30</strong> at: <a href='https://wandb.ai/master-2024/BERT_BASE/runs/dcp3gc6i' target=\"_blank\">https://wandb.ai/master-2024/BERT_BASE/runs/dcp3gc6i</a><br/>Synced 5 W&B file(s), 0 media file(s), 0 artifact file(s) and 0 other file(s)"
      ],
      "text/plain": [
       "<IPython.core.display.HTML object>"
      ]
     },
     "metadata": {},
     "output_type": "display_data"
    },
    {
     "data": {
      "text/html": [
       "Find logs at: <code>./wandb/run-20240418_142315-dcp3gc6i/logs</code>"
      ],
      "text/plain": [
       "<IPython.core.display.HTML object>"
      ]
     },
     "metadata": {},
     "output_type": "display_data"
    },
    {
     "data": {
      "text/html": [
       "Successfully finished last run (ID:dcp3gc6i). Initializing new run:<br/>"
      ],
      "text/plain": [
       "<IPython.core.display.HTML object>"
      ]
     },
     "metadata": {},
     "output_type": "display_data"
    },
    {
     "data": {
      "text/html": [
       "wandb version 0.16.6 is available!  To upgrade, please run:\n",
       " $ pip install wandb --upgrade"
      ],
      "text/plain": [
       "<IPython.core.display.HTML object>"
      ]
     },
     "metadata": {},
     "output_type": "display_data"
    },
    {
     "data": {
      "text/html": [
       "Tracking run with wandb version 0.16.4"
      ],
      "text/plain": [
       "<IPython.core.display.HTML object>"
      ]
     },
     "metadata": {},
     "output_type": "display_data"
    },
    {
     "data": {
      "text/html": [
       "Run data is saved locally in <code>/net/fs-2/scale/OrionStore/Home/joteklem/Pytorch_models/wandb/run-20240418_142722-xw3j3ym1</code>"
      ],
      "text/plain": [
       "<IPython.core.display.HTML object>"
      ]
     },
     "metadata": {},
     "output_type": "display_data"
    },
    {
     "data": {
      "text/html": [
       "Syncing run <strong><a href='https://wandb.ai/master-2024/BERT_BASE/runs/xw3j3ym1' target=\"_blank\">trial-31</a></strong> to <a href='https://wandb.ai/master-2024/BERT_BASE' target=\"_blank\">Weights & Biases</a> (<a href='https://wandb.me/run' target=\"_blank\">docs</a>)<br/>"
      ],
      "text/plain": [
       "<IPython.core.display.HTML object>"
      ]
     },
     "metadata": {},
     "output_type": "display_data"
    },
    {
     "data": {
      "text/html": [
       " View project at <a href='https://wandb.ai/master-2024/BERT_BASE' target=\"_blank\">https://wandb.ai/master-2024/BERT_BASE</a>"
      ],
      "text/plain": [
       "<IPython.core.display.HTML object>"
      ]
     },
     "metadata": {},
     "output_type": "display_data"
    },
    {
     "data": {
      "text/html": [
       " View run at <a href='https://wandb.ai/master-2024/BERT_BASE/runs/xw3j3ym1' target=\"_blank\">https://wandb.ai/master-2024/BERT_BASE/runs/xw3j3ym1</a>"
      ],
      "text/plain": [
       "<IPython.core.display.HTML object>"
      ]
     },
     "metadata": {},
     "output_type": "display_data"
    },
    {
     "name": "stdout",
     "output_type": "stream",
     "text": [
      "Starting trial 31\n"
     ]
    },
    {
     "name": "stderr",
     "output_type": "stream",
     "text": [
      "/net/fs-2/scale/OrionStore/Scratch/joteklem/MyCondaEnvironments/Python3.11/orion_env/lib/python3.11/site-packages/accelerate/accelerator.py:432: FutureWarning: Passing the following arguments to `Accelerator` is deprecated and will be removed in version 1.0 of Accelerate: dict_keys(['dispatch_batches', 'split_batches', 'even_batches', 'use_seedable_sampler']). Please pass an `accelerate.DataLoaderConfiguration` instead: \n",
      "dataloader_config = DataLoaderConfiguration(dispatch_batches=None, split_batches=False, even_batches=True, use_seedable_sampler=True)\n",
      "  warnings.warn(\n",
      "Detected kernel version 3.10.0, which is below the recommended minimum of 5.5.0; this can cause the process to hang. It is recommended to upgrade the kernel to the minimum version or higher.\n"
     ]
    },
    {
     "data": {
      "text/html": [
       "\n",
       "    <div>\n",
       "      \n",
       "      <progress value='317' max='632' style='width:300px; height:20px; vertical-align: middle;'></progress>\n",
       "      [317/632 00:37 < 00:37, 8.44 it/s, Epoch 1.00/2]\n",
       "    </div>\n",
       "    <table border=\"1\" class=\"dataframe\">\n",
       "  <thead>\n",
       " <tr style=\"text-align: left;\">\n",
       "      <th>Epoch</th>\n",
       "      <th>Training Loss</th>\n",
       "      <th>Validation Loss</th>\n",
       "    </tr>\n",
       "  </thead>\n",
       "  <tbody>\n",
       "  </tbody>\n",
       "</table><p>\n",
       "    <div>\n",
       "      \n",
       "      <progress value='211' max='211' style='width:300px; height:20px; vertical-align: middle;'></progress>\n",
       "      [211/211 00:03]\n",
       "    </div>\n",
       "    "
      ],
      "text/plain": [
       "<IPython.core.display.HTML object>"
      ]
     },
     "metadata": {},
     "output_type": "display_data"
    },
    {
     "name": "stderr",
     "output_type": "stream",
     "text": [
      "[I 2024-04-18 14:28:11,406] Trial 31 pruned. \n"
     ]
    }
   ],
   "source": [
    "# Get the objective function with your dataset included\n",
    "objective_30 = objective_closure(encoded_dataset_30)\n",
    "\n",
    "start_study_30 = time.time()\n",
    "study_30.optimize(objective_30, n_trials=32) #, timeout=600)  \n",
    "end_study_30 = time.time()\n",
    "\n",
    "model_time_study_30 = end_study_30 - start_study_30"
   ]
  },
  {
   "cell_type": "code",
   "execution_count": 26,
   "metadata": {},
   "outputs": [],
   "source": [
    "#for trial in study.trials:\n",
    "#    print(trial.value, trial.params)"
   ]
  },
  {
   "cell_type": "code",
   "execution_count": 27,
   "metadata": {},
   "outputs": [
    {
     "name": "stdout",
     "output_type": "stream",
     "text": [
      "Hyperparameter search completed in 3156.96 seconds.\n",
      "Number of trials completed: 32\n"
     ]
    }
   ],
   "source": [
    "print(f\"Hyperparameter search completed in {model_time_study_15:.2f} seconds.\")\n",
    "print(f\"Number of trials completed: {len(study_15.trials)}\")"
   ]
  },
  {
   "cell_type": "code",
   "execution_count": 28,
   "metadata": {},
   "outputs": [
    {
     "name": "stdout",
     "output_type": "stream",
     "text": [
      "Hyperparameter search completed in 4655.53 seconds.\n",
      "Number of trials completed: 32\n"
     ]
    }
   ],
   "source": [
    "print(f\"Hyperparameter search completed in {model_time_study_30:.2f} seconds.\")\n",
    "print(f\"Number of trials completed: {len(study_30.trials)}\")"
   ]
  },
  {
   "cell_type": "code",
   "execution_count": 29,
   "metadata": {
    "colab": {
     "base_uri": "https://localhost:8080/",
     "height": 1000
    },
    "id": "079RFgKuDp-r",
    "outputId": "e29ad3c9-b916-4b88-eb21-3fd0ee36fa38"
   },
   "outputs": [
    {
     "name": "stdout",
     "output_type": "stream",
     "text": [
      "Best trial:\n",
      "  Value: 0.7603596068047164\n",
      "  Params: \n",
      "    learning_rate: 4.8723119722871314e-05\n",
      "    per_device_train_batch_size: 8\n",
      "    weight_decay: 0.003014955560408976\n",
      "    num_train_epochs: 4\n",
      "    warmup_steps: 358\n"
     ]
    }
   ],
   "source": [
    "best_trial_15 = study_15.best_trial\n",
    "\n",
    "best_param_15 = {}\n",
    "\n",
    "print(\"Best trial:\")\n",
    "print(f\"  Value: {best_trial_15.value}\")\n",
    "\n",
    "print(\"  Params: \")\n",
    "for key, value in best_trial_15.params.items():\n",
    "    print(f\"    {key}: {value}\")\n",
    "    best_param_15[key] = value "
   ]
  },
  {
   "cell_type": "code",
   "execution_count": 30,
   "metadata": {
    "colab": {
     "base_uri": "https://localhost:8080/",
     "height": 1000
    },
    "id": "079RFgKuDp-r",
    "outputId": "e29ad3c9-b916-4b88-eb21-3fd0ee36fa38"
   },
   "outputs": [
    {
     "name": "stdout",
     "output_type": "stream",
     "text": [
      "Best trial:\n",
      "  Value: 0.7939043393020544\n",
      "  Params: \n",
      "    learning_rate: 3.797544798678414e-05\n",
      "    per_device_train_batch_size: 16\n",
      "    weight_decay: 0.19002112695312703\n",
      "    num_train_epochs: 5\n",
      "    warmup_steps: 270\n"
     ]
    }
   ],
   "source": [
    "best_trial_30 = study_30.best_trial\n",
    "\n",
    "best_param_30 = {}\n",
    "\n",
    "print(\"Best trial:\")\n",
    "print(f\"  Value: {best_trial_30.value}\")\n",
    "\n",
    "print(\"  Params: \")\n",
    "for key, value in best_trial_30.params.items():\n",
    "    print(f\"    {key}: {value}\")\n",
    "    best_param_30[key] = value "
   ]
  },
  {
   "cell_type": "code",
   "execution_count": 31,
   "metadata": {},
   "outputs": [
    {
     "data": {
      "text/plain": [
       "{'learning_rate': 4.8723119722871314e-05,\n",
       " 'per_device_train_batch_size': 8,\n",
       " 'weight_decay': 0.003014955560408976,\n",
       " 'num_train_epochs': 4,\n",
       " 'warmup_steps': 358}"
      ]
     },
     "execution_count": 31,
     "metadata": {},
     "output_type": "execute_result"
    }
   ],
   "source": [
    "best_param_15"
   ]
  },
  {
   "cell_type": "code",
   "execution_count": 32,
   "metadata": {},
   "outputs": [
    {
     "data": {
      "text/plain": [
       "{'learning_rate': 3.797544798678414e-05,\n",
       " 'per_device_train_batch_size': 16,\n",
       " 'weight_decay': 0.19002112695312703,\n",
       " 'num_train_epochs': 5,\n",
       " 'warmup_steps': 270}"
      ]
     },
     "execution_count": 32,
     "metadata": {},
     "output_type": "execute_result"
    }
   ],
   "source": [
    "best_param_30"
   ]
  },
  {
   "cell_type": "code",
   "execution_count": 33,
   "metadata": {},
   "outputs": [],
   "source": [
    "def eval_test(data, best_param):\n",
    "    # Setup the training arguments with the best hyperparameters\n",
    "    best_training_args = TrainingArguments(\n",
    "        output_dir=f\"{model_ckpt}-finetuned-best\",\n",
    "        num_train_epochs=best_param['num_train_epochs'],\n",
    "        learning_rate=best_param['learning_rate'],\n",
    "        per_device_train_batch_size=best_param['per_device_train_batch_size'],\n",
    "        per_device_eval_batch_size=best_param['per_device_train_batch_size'],  \n",
    "        weight_decay=best_param['weight_decay'],\n",
    "        warmup_steps=best_param['warmup_steps'],\n",
    "        evaluation_strategy=\"epoch\",\n",
    "        gradient_accumulation_steps=2,\n",
    "        fp16=True,\n",
    "        disable_tqdm=False,\n",
    "        logging_dir='./logs',\n",
    "        log_level=\"error\",\n",
    "        report_to=\"none\", \n",
    "        seed=23\n",
    "    )\n",
    "    \n",
    "    # Initialize the Trainer with the best hyperparameters\n",
    "    best_trainer = Trainer(\n",
    "        model_init=model_init,\n",
    "        args=best_training_args,\n",
    "        train_dataset=data['train'],\n",
    "        eval_dataset=data['validation'],\n",
    "        compute_metrics=compute_metrics,\n",
    "        callbacks=[loss_metric],\n",
    "        tokenizer=tokenizer,\n",
    "    )\n",
    "    \n",
    "    # Train the model\n",
    "    best_trainer.train()\n",
    "\n",
    "    return best_trainer\n"
   ]
  },
  {
   "cell_type": "code",
   "execution_count": 34,
   "metadata": {},
   "outputs": [
    {
     "name": "stderr",
     "output_type": "stream",
     "text": [
      "/net/fs-2/scale/OrionStore/Scratch/joteklem/MyCondaEnvironments/Python3.11/orion_env/lib/python3.11/site-packages/accelerate/accelerator.py:432: FutureWarning: Passing the following arguments to `Accelerator` is deprecated and will be removed in version 1.0 of Accelerate: dict_keys(['dispatch_batches', 'split_batches', 'even_batches', 'use_seedable_sampler']). Please pass an `accelerate.DataLoaderConfiguration` instead: \n",
      "dataloader_config = DataLoaderConfiguration(dispatch_batches=None, split_batches=False, even_batches=True, use_seedable_sampler=True)\n",
      "  warnings.warn(\n",
      "Detected kernel version 3.10.0, which is below the recommended minimum of 5.5.0; this can cause the process to hang. It is recommended to upgrade the kernel to the minimum version or higher.\n"
     ]
    },
    {
     "data": {
      "text/html": [
       "\n",
       "    <div>\n",
       "      \n",
       "      <progress value='2520' max='2520' style='width:300px; height:20px; vertical-align: middle;'></progress>\n",
       "      [2520/2520 05:22, Epoch 4/4]\n",
       "    </div>\n",
       "    <table border=\"1\" class=\"dataframe\">\n",
       "  <thead>\n",
       " <tr style=\"text-align: left;\">\n",
       "      <th>Epoch</th>\n",
       "      <th>Training Loss</th>\n",
       "      <th>Validation Loss</th>\n",
       "      <th>Accuracy</th>\n",
       "      <th>Balanced accuracy</th>\n",
       "      <th>F1 weighted</th>\n",
       "      <th>F1 macro</th>\n",
       "      <th>F1 micro</th>\n",
       "      <th>Classification report</th>\n",
       "    </tr>\n",
       "  </thead>\n",
       "  <tbody>\n",
       "    <tr>\n",
       "      <td>1</td>\n",
       "      <td>0.683600</td>\n",
       "      <td>0.496854</td>\n",
       "      <td>0.814583</td>\n",
       "      <td>0.691884</td>\n",
       "      <td>0.802905</td>\n",
       "      <td>0.736284</td>\n",
       "      <td>0.814583</td>\n",
       "      <td>{'0': {'precision': 0.8341463414634146, 'recall': 0.5712694877505567, 'f1-score': 0.6781229345670853, 'support': 898.0}, '1': {'precision': 0.8104265402843602, 'recall': 0.9548627268496975, 'f1-score': 0.8767357402264475, 'support': 2149.0}, '2': {'precision': 0.8075117370892019, 'recall': 0.549520766773163, 'f1-score': 0.6539923954372623, 'support': 313.0}, 'accuracy': 0.8145833333333333, 'macro avg': {'precision': 0.8173615396123256, 'recall': 0.6918843271244723, 'f1-score': 0.7362836900769317, 'support': 3360.0}, 'weighted avg': {'precision': 0.8164944117304037, 'recall': 0.8145833333333333, 'f1-score': 0.8029045002261134, 'support': 3360.0}}</td>\n",
       "    </tr>\n",
       "    <tr>\n",
       "      <td>2</td>\n",
       "      <td>0.477000</td>\n",
       "      <td>0.487453</td>\n",
       "      <td>0.825298</td>\n",
       "      <td>0.738775</td>\n",
       "      <td>0.818820</td>\n",
       "      <td>0.763899</td>\n",
       "      <td>0.825298</td>\n",
       "      <td>{'0': {'precision': 0.8014285714285714, 'recall': 0.6247216035634744, 'f1-score': 0.7021276595744681, 'support': 898.0}, '1': {'precision': 0.8396818752616158, 'recall': 0.9334574220567706, 'f1-score': 0.8840899074482151, 'support': 2149.0}, '2': {'precision': 0.7601476014760148, 'recall': 0.65814696485623, 'f1-score': 0.7054794520547945, 'support': 313.0}, 'accuracy': 0.825297619047619, 'macro avg': {'precision': 0.800419349388734, 'recall': 0.738775330158825, 'f1-score': 0.7638990063591592, 'support': 3360.0}, 'weighted avg': {'precision': 0.8220492280779946, 'recall': 0.825297619047619, 'f1-score': 0.8188199160408444, 'support': 3360.0}}</td>\n",
       "    </tr>\n",
       "    <tr>\n",
       "      <td>3</td>\n",
       "      <td>0.349500</td>\n",
       "      <td>0.586776</td>\n",
       "      <td>0.806250</td>\n",
       "      <td>0.769291</td>\n",
       "      <td>0.806750</td>\n",
       "      <td>0.749652</td>\n",
       "      <td>0.806250</td>\n",
       "      <td>{'0': {'precision': 0.7378048780487805, 'recall': 0.6737193763919822, 'f1-score': 0.7043073341094296, 'support': 898.0}, '1': {'precision': 0.8698086794213719, 'recall': 0.8673801768264309, 'f1-score': 0.8685927306616962, 'support': 2149.0}, '2': {'precision': 0.6045340050377834, 'recall': 0.7667731629392971, 'f1-score': 0.676056338028169, 'support': 313.0}, 'accuracy': 0.80625, 'macro avg': {'precision': 0.7373825208359787, 'recall': 0.7692909053859034, 'f1-score': 0.7496521342664316, 'support': 3360.0}, 'weighted avg': {'precision': 0.8098174928991545, 'recall': 0.80625, 'f1-score': 0.8067498208407946, 'support': 3360.0}}</td>\n",
       "    </tr>\n",
       "    <tr>\n",
       "      <td>4</td>\n",
       "      <td>0.167900</td>\n",
       "      <td>0.812094</td>\n",
       "      <td>0.814881</td>\n",
       "      <td>0.748757</td>\n",
       "      <td>0.811635</td>\n",
       "      <td>0.760360</td>\n",
       "      <td>0.814881</td>\n",
       "      <td>{'0': {'precision': 0.7380352644836272, 'recall': 0.6525612472160356, 'f1-score': 0.6926713947990544, 'support': 898.0}, '1': {'precision': 0.8524229074889867, 'recall': 0.9004187994416007, 'f1-score': 0.8757637474541752, 'support': 2149.0}, '2': {'precision': 0.7331081081081081, 'recall': 0.6932907348242812, 'f1-score': 0.7126436781609194, 'support': 313.0}, 'accuracy': 0.8148809523809524, 'macro avg': {'precision': 0.7745220933602406, 'recall': 0.7487569271606391, 'f1-score': 0.7603596068047164, 'support': 3360.0}, 'weighted avg': {'precision': 0.8107367064101094, 'recall': 0.8148809523809524, 'f1-score': 0.8116347253193277, 'support': 3360.0}}</td>\n",
       "    </tr>\n",
       "  </tbody>\n",
       "</table><p>"
      ],
      "text/plain": [
       "<IPython.core.display.HTML object>"
      ]
     },
     "metadata": {},
     "output_type": "display_data"
    }
   ],
   "source": [
    "best_trainer_15 = eval_test(encoded_dataset_15, best_param_15)"
   ]
  },
  {
   "cell_type": "code",
   "execution_count": 35,
   "metadata": {},
   "outputs": [
    {
     "name": "stderr",
     "output_type": "stream",
     "text": [
      "/net/fs-2/scale/OrionStore/Scratch/joteklem/MyCondaEnvironments/Python3.11/orion_env/lib/python3.11/site-packages/accelerate/accelerator.py:432: FutureWarning: Passing the following arguments to `Accelerator` is deprecated and will be removed in version 1.0 of Accelerate: dict_keys(['dispatch_batches', 'split_batches', 'even_batches', 'use_seedable_sampler']). Please pass an `accelerate.DataLoaderConfiguration` instead: \n",
      "dataloader_config = DataLoaderConfiguration(dispatch_batches=None, split_batches=False, even_batches=True, use_seedable_sampler=True)\n",
      "  warnings.warn(\n",
      "Detected kernel version 3.10.0, which is below the recommended minimum of 5.5.0; this can cause the process to hang. It is recommended to upgrade the kernel to the minimum version or higher.\n"
     ]
    },
    {
     "data": {
      "text/html": [
       "\n",
       "    <div>\n",
       "      \n",
       "      <progress value='1580' max='1580' style='width:300px; height:20px; vertical-align: middle;'></progress>\n",
       "      [1580/1580 04:02, Epoch 4/5]\n",
       "    </div>\n",
       "    <table border=\"1\" class=\"dataframe\">\n",
       "  <thead>\n",
       " <tr style=\"text-align: left;\">\n",
       "      <th>Epoch</th>\n",
       "      <th>Training Loss</th>\n",
       "      <th>Validation Loss</th>\n",
       "      <th>Accuracy</th>\n",
       "      <th>Balanced accuracy</th>\n",
       "      <th>F1 weighted</th>\n",
       "      <th>F1 macro</th>\n",
       "      <th>F1 micro</th>\n",
       "      <th>Classification report</th>\n",
       "    </tr>\n",
       "  </thead>\n",
       "  <tbody>\n",
       "    <tr>\n",
       "      <td>0</td>\n",
       "      <td>No log</td>\n",
       "      <td>0.479872</td>\n",
       "      <td>0.827903</td>\n",
       "      <td>0.755520</td>\n",
       "      <td>0.825370</td>\n",
       "      <td>0.763041</td>\n",
       "      <td>0.827903</td>\n",
       "      <td>{'0': {'precision': 0.7969151670951157, 'recall': 0.6888888888888889, 'f1-score': 0.7389749702026222, 'support': 900.0}, '1': {'precision': 0.8614642700569926, 'recall': 0.9088806660499538, 'f1-score': 0.8845374746792708, 'support': 2162.0}, '2': {'precision': 0.6624605678233438, 'recall': 0.6687898089171974, 'f1-score': 0.6656101426307448, 'support': 314.0}, 'accuracy': 0.8279028436018957, 'macro avg': {'precision': 0.7736133349918174, 'recall': 0.7555197879520134, 'f1-score': 0.7630408625042125, 'support': 3376.0}, 'weighted avg': {'precision': 0.8257470440004004, 'recall': 0.8279028436018957, 'f1-score': 0.825369987625888, 'support': 3376.0}}</td>\n",
       "    </tr>\n",
       "    <tr>\n",
       "      <td>2</td>\n",
       "      <td>0.572300</td>\n",
       "      <td>0.454324</td>\n",
       "      <td>0.845083</td>\n",
       "      <td>0.787104</td>\n",
       "      <td>0.842355</td>\n",
       "      <td>0.793777</td>\n",
       "      <td>0.845083</td>\n",
       "      <td>{'0': {'precision': 0.8135593220338984, 'recall': 0.6933333333333334, 'f1-score': 0.7486502699460109, 'support': 900.0}, '1': {'precision': 0.8723218189768255, 'recall': 0.9227567067530065, 'f1-score': 0.8968307484828051, 'support': 2162.0}, '2': {'precision': 0.7267080745341615, 'recall': 0.7452229299363057, 'f1-score': 0.7358490566037735, 'support': 314.0}, 'accuracy': 0.8450829383886256, 'macro avg': {'precision': 0.8041964051816284, 'recall': 0.7871043233408819, 'f1-score': 0.7937766916775298, 'support': 3376.0}, 'weighted avg': {'precision': 0.8431130029212476, 'recall': 0.8450829383886256, 'f1-score': 0.8423548355879203, 'support': 3376.0}}</td>\n",
       "    </tr>\n",
       "    <tr>\n",
       "      <td>4</td>\n",
       "      <td>0.138200</td>\n",
       "      <td>0.658942</td>\n",
       "      <td>0.841825</td>\n",
       "      <td>0.783250</td>\n",
       "      <td>0.839487</td>\n",
       "      <td>0.793904</td>\n",
       "      <td>0.841825</td>\n",
       "      <td>{'0': {'precision': 0.7868649318463445, 'recall': 0.7055555555555556, 'f1-score': 0.7439953134153486, 'support': 900.0}, '1': {'precision': 0.8721340388007055, 'recall': 0.9148936170212766, 'f1-score': 0.8930022573363431, 'support': 2162.0}, '2': {'precision': 0.760797342192691, 'recall': 0.7292993630573248, 'f1-score': 0.7447154471544715, 'support': 314.0}, 'accuracy': 0.841824644549763, 'macro avg': {'precision': 0.8065987709465804, 'recall': 0.7832495118780524, 'f1-score': 0.7939043393020544, 'support': 3376.0}, 'weighted avg': {'precision': 0.8390469774873637, 'recall': 0.841824644549763, 'f1-score': 0.8394867632824324, 'support': 3376.0}}</td>\n",
       "    </tr>\n",
       "  </tbody>\n",
       "</table><p>"
      ],
      "text/plain": [
       "<IPython.core.display.HTML object>"
      ]
     },
     "metadata": {},
     "output_type": "display_data"
    }
   ],
   "source": [
    "best_trainer_30 = eval_test(encoded_dataset_30, best_param_30)"
   ]
  },
  {
   "cell_type": "code",
   "execution_count": 36,
   "metadata": {
    "colab": {
     "base_uri": "https://localhost:8080/",
     "height": 142
    },
    "id": "ydoZYZr1ZWHV",
    "outputId": "5ddee13b-e1ee-417b-9fc5-5f42d51ce3f3"
   },
   "outputs": [
    {
     "data": {
      "text/html": [],
      "text/plain": [
       "<IPython.core.display.HTML object>"
      ]
     },
     "metadata": {},
     "output_type": "display_data"
    },
    {
     "name": "stdout",
     "output_type": "stream",
     "text": [
      "{'eval_loss': 0.7544520497322083, 'eval_Accuracy': 0.8247023809523809, 'eval_Balanced accuracy': 0.7577262308300386, 'eval_F1 weighted': 0.8226221047590333, 'eval_F1 macro': 0.7695578203129334, 'eval_F1 micro': 0.824702380952381, 'eval_Classification Report': {'0': {'precision': 0.7482100238663485, 'recall': 0.6989966555183946, 'f1-score': 0.7227665706051872, 'support': 897.0}, '1': {'precision': 0.864816472694718, 'recall': 0.8990228013029316, 'f1-score': 0.8815879534565366, 'support': 2149.0}, '2': {'precision': 0.7361111111111112, 'recall': 0.6751592356687898, 'f1-score': 0.7043189368770765, 'support': 314.0}, 'accuracy': 0.8247023809523809, 'macro avg': {'precision': 0.7830458692240593, 'recall': 0.7577262308300386, 'f1-score': 0.7695578203129334, 'support': 3360.0}, 'weighted avg': {'precision': 0.8216588928922477, 'recall': 0.8247023809523809, 'f1-score': 0.8226221047590333, 'support': 3360.0}}, 'eval_runtime': 4.7588, 'eval_samples_per_second': 706.064, 'eval_steps_per_second': 88.258, 'epoch': 4.0}\n"
     ]
    }
   ],
   "source": [
    "results_15 = best_trainer_15.evaluate(encoded_dataset_15['test'])\n",
    "print(results_15)"
   ]
  },
  {
   "cell_type": "code",
   "execution_count": 37,
   "metadata": {
    "colab": {
     "base_uri": "https://localhost:8080/",
     "height": 142
    },
    "id": "ydoZYZr1ZWHV",
    "outputId": "5ddee13b-e1ee-417b-9fc5-5f42d51ce3f3"
   },
   "outputs": [
    {
     "data": {
      "text/html": [],
      "text/plain": [
       "<IPython.core.display.HTML object>"
      ]
     },
     "metadata": {},
     "output_type": "display_data"
    },
    {
     "name": "stdout",
     "output_type": "stream",
     "text": [
      "{'eval_loss': 0.6828675270080566, 'eval_Accuracy': 0.840047393364929, 'eval_Balanced accuracy': 0.7623617988027563, 'eval_F1 weighted': 0.8369323016393025, 'eval_F1 macro': 0.7804060780238832, 'eval_F1 micro': 0.8400473933649291, 'eval_Classification Report': {'0': {'precision': 0.7800982800982801, 'recall': 0.7055555555555556, 'f1-score': 0.7409568261376897, 'support': 900.0}, '1': {'precision': 0.8715034965034965, 'recall': 0.9222941720629048, 'f1-score': 0.8961797752808989, 'support': 2162.0}, '2': {'precision': 0.7554744525547445, 'recall': 0.6592356687898089, 'f1-score': 0.7040816326530612, 'support': 314.0}, 'accuracy': 0.840047393364929, 'macro avg': {'precision': 0.8023587430521738, 'recall': 0.7623617988027563, 'f1-score': 0.7804060780238832, 'support': 3376.0}, 'weighted avg': {'precision': 0.8363441912414695, 'recall': 0.840047393364929, 'f1-score': 0.8369323016393025, 'support': 3376.0}}, 'eval_runtime': 3.9471, 'eval_samples_per_second': 855.306, 'eval_steps_per_second': 53.457, 'epoch': 4.99}\n"
     ]
    }
   ],
   "source": [
    "results_30 = best_trainer_30.evaluate(encoded_dataset_30['test'])\n",
    "print(results_30)"
   ]
  },
  {
   "cell_type": "code",
   "execution_count": 38,
   "metadata": {
    "colab": {
     "base_uri": "https://localhost:8080/",
     "height": 207
    },
    "id": "ECSU6nJJZWHV",
    "outputId": "03748afc-24dd-49cc-ac48-577c93d8a875"
   },
   "outputs": [
    {
     "data": {
      "text/plain": [
       "{'test_loss': 0.7544520497322083,\n",
       " 'test_Accuracy': 0.8247023809523809,\n",
       " 'test_Balanced accuracy': 0.7577262308300386,\n",
       " 'test_F1 weighted': 0.8226221047590333,\n",
       " 'test_F1 macro': 0.7695578203129334,\n",
       " 'test_F1 micro': 0.824702380952381,\n",
       " 'test_Classification Report': {'0': {'precision': 0.7482100238663485,\n",
       "   'recall': 0.6989966555183946,\n",
       "   'f1-score': 0.7227665706051872,\n",
       "   'support': 897.0},\n",
       "  '1': {'precision': 0.864816472694718,\n",
       "   'recall': 0.8990228013029316,\n",
       "   'f1-score': 0.8815879534565366,\n",
       "   'support': 2149.0},\n",
       "  '2': {'precision': 0.7361111111111112,\n",
       "   'recall': 0.6751592356687898,\n",
       "   'f1-score': 0.7043189368770765,\n",
       "   'support': 314.0},\n",
       "  'accuracy': 0.8247023809523809,\n",
       "  'macro avg': {'precision': 0.7830458692240593,\n",
       "   'recall': 0.7577262308300386,\n",
       "   'f1-score': 0.7695578203129334,\n",
       "   'support': 3360.0},\n",
       "  'weighted avg': {'precision': 0.8216588928922477,\n",
       "   'recall': 0.8247023809523809,\n",
       "   'f1-score': 0.8226221047590333,\n",
       "   'support': 3360.0}},\n",
       " 'test_runtime': 5.3708,\n",
       " 'test_samples_per_second': 625.606,\n",
       " 'test_steps_per_second': 78.201}"
      ]
     },
     "execution_count": 38,
     "metadata": {},
     "output_type": "execute_result"
    }
   ],
   "source": [
    "pred_15 = best_trainer_15.predict(encoded_dataset_15['test'])\n",
    "pred_15.metrics"
   ]
  },
  {
   "cell_type": "code",
   "execution_count": 39,
   "metadata": {
    "colab": {
     "base_uri": "https://localhost:8080/",
     "height": 207
    },
    "id": "ECSU6nJJZWHV",
    "outputId": "03748afc-24dd-49cc-ac48-577c93d8a875"
   },
   "outputs": [
    {
     "data": {
      "text/plain": [
       "{'test_loss': 0.6828675270080566,\n",
       " 'test_Accuracy': 0.840047393364929,\n",
       " 'test_Balanced accuracy': 0.7623617988027563,\n",
       " 'test_F1 weighted': 0.8369323016393025,\n",
       " 'test_F1 macro': 0.7804060780238832,\n",
       " 'test_F1 micro': 0.8400473933649291,\n",
       " 'test_Classification Report': {'0': {'precision': 0.7800982800982801,\n",
       "   'recall': 0.7055555555555556,\n",
       "   'f1-score': 0.7409568261376897,\n",
       "   'support': 900.0},\n",
       "  '1': {'precision': 0.8715034965034965,\n",
       "   'recall': 0.9222941720629048,\n",
       "   'f1-score': 0.8961797752808989,\n",
       "   'support': 2162.0},\n",
       "  '2': {'precision': 0.7554744525547445,\n",
       "   'recall': 0.6592356687898089,\n",
       "   'f1-score': 0.7040816326530612,\n",
       "   'support': 314.0},\n",
       "  'accuracy': 0.840047393364929,\n",
       "  'macro avg': {'precision': 0.8023587430521738,\n",
       "   'recall': 0.7623617988027563,\n",
       "   'f1-score': 0.7804060780238832,\n",
       "   'support': 3376.0},\n",
       "  'weighted avg': {'precision': 0.8363441912414695,\n",
       "   'recall': 0.840047393364929,\n",
       "   'f1-score': 0.8369323016393025,\n",
       "   'support': 3376.0}},\n",
       " 'test_runtime': 4.1487,\n",
       " 'test_samples_per_second': 813.755,\n",
       " 'test_steps_per_second': 50.86}"
      ]
     },
     "execution_count": 39,
     "metadata": {},
     "output_type": "execute_result"
    }
   ],
   "source": [
    "pred_30 = best_trainer_30.predict(encoded_dataset_30['test'])\n",
    "pred_30.metrics"
   ]
  },
  {
   "cell_type": "code",
   "execution_count": 40,
   "metadata": {},
   "outputs": [
    {
     "data": {
      "text/plain": [
       "array([[ 627,  243,   27],\n",
       "       [ 168, 1932,   49],\n",
       "       [  43,   59,  212]])"
      ]
     },
     "execution_count": 40,
     "metadata": {},
     "output_type": "execute_result"
    }
   ],
   "source": [
    "predicted_labels_15 = np.argmax(pred_15.predictions, axis=1)\n",
    "\n",
    "# Generate the confusion matrix\n",
    "conf_matrix_15 = confusion_matrix(encoded_dataset_15['test']['labels'], predicted_labels_15)\n",
    "conf_matrix_15"
   ]
  },
  {
   "cell_type": "code",
   "execution_count": 41,
   "metadata": {},
   "outputs": [
    {
     "data": {
      "text/plain": [
       "array([[ 635,  231,   34],\n",
       "       [ 135, 1994,   33],\n",
       "       [  44,   63,  207]])"
      ]
     },
     "execution_count": 41,
     "metadata": {},
     "output_type": "execute_result"
    }
   ],
   "source": [
    "predicted_labels_30 = np.argmax(pred_30.predictions, axis=1)\n",
    "\n",
    "# Generate the confusion matrix\n",
    "conf_matrix_30 = confusion_matrix(encoded_dataset_30['test']['labels'], predicted_labels_30)\n",
    "conf_matrix_30"
   ]
  },
  {
   "cell_type": "code",
   "execution_count": 42,
   "metadata": {},
   "outputs": [],
   "source": [
    "def plot_confusion_matrix(y_pred, y_true, labels, filename=None):\n",
    "    cm = confusion_matrix(y_true, y_pred, normalize=\"true\")\n",
    "    _, ax = plt.subplots(figsize=(6, 6))\n",
    "    disp = ConfusionMatrixDisplay(confusion_matrix=cm, display_labels=labels)\n",
    "    disp.plot(cmap=\"Blues\", values_format=\".2f\", ax=ax, colorbar=False)\n",
    "    #plt.title(\"Normalized confusion matrix\")\n",
    "    if filename is not None:\n",
    "        plt.savefig(filename)\n",
    "    plt.show()"
   ]
  },
  {
   "cell_type": "code",
   "execution_count": 43,
   "metadata": {},
   "outputs": [
    {
     "data": {
      "image/png": "[encoded data removed]",
      "text/plain": [
       "<Figure size 600x600 with 1 Axes>"
      ]
     },
     "metadata": {},
     "output_type": "display_data"
    }
   ],
   "source": [
    "plot_confusion_matrix(predicted_labels_15,\n",
    "                      encoded_dataset_15['test']['labels'],\n",
    "                      ['Corner', 'Foul', 'Goal'],\n",
    "                      filename='conf_matrix_BERT_BASE_15.png')"
   ]
  },
  {
   "cell_type": "code",
   "execution_count": 44,
   "metadata": {},
   "outputs": [
    {
     "data": {
      "image/png": "[encoded data removed]",
      "text/plain": [
       "<Figure size 600x600 with 1 Axes>"
      ]
     },
     "metadata": {},
     "output_type": "display_data"
    }
   ],
   "source": [
    "plot_confusion_matrix(predicted_labels_30,\n",
    "                      encoded_dataset_30['test']['labels'],\n",
    "                      ['Corner', 'Foul', 'Goal'],\n",
    "                      filename='conf_matrix_BERT_BASE_30.png')"
   ]
  },
  {
   "cell_type": "code",
   "execution_count": 45,
   "metadata": {
    "id": "WKVuc-VSITZ4"
   },
   "outputs": [],
   "source": [
    "# Plotting the confusion matrix\n",
    "#sns.heatmap(conf_matrix, annot=True, fmt='g')\n",
    "#plt.xlabel('Predicted labels')\n",
    "#plt.ylabel('True labels')\n",
    "#plt.show()\n",
    "\n",
    "#print(labels_name[0],':', labels[0])\n",
    "#print(labels_name[1],':', labels[1])\n",
    "#print(labels_name[2],':', labels[2])"
   ]
  },
  {
   "cell_type": "code",
   "execution_count": 46,
   "metadata": {},
   "outputs": [],
   "source": [
    "# Learning curve \n",
    "#training_losses = loss_metric._training_losses\n",
    "#validation_losses = loss_metric._validation_losses\n",
    "\n",
    "#epochs = range(1, len(validation_losses) + 1)\n",
    "\n",
    "#plt.figure(figsize=(10, 6))\n",
    "#plt.plot(epochs, training_losses, label='Training Loss')\n",
    "#plt.plot(epochs, validation_losses, label='Validation Loss')\n",
    "#plt.title('Learning Curve')\n",
    "#plt.xlabel('Epochs')\n",
    "#plt.ylabel('Loss')\n",
    "#plt.legend()\n",
    "#plt.show()"
   ]
  },
  {
   "cell_type": "code",
   "execution_count": null,
   "metadata": {},
   "outputs": [],
   "source": []
  }
 ],
 "metadata": {
  "accelerator": "GPU",
  "colab": {
   "gpuType": "T4",
   "provenance": []
  },
  "kernelspec": {
   "display_name": "orion_env",
   "language": "python",
   "name": "orion_env"
  },
  "language_info": {
   "codemirror_mode": {
    "name": "ipython",
    "version": 3
   },
   "file_extension": ".py",
   "mimetype": "text/x-python",
   "name": "python",
   "nbconvert_exporter": "python",
   "pygments_lexer": "ipython3",
   "version": "3.11.0"
  },
  "widgets": {
   "application/vnd.jupyter.widget-state+json": {
    "01e56378e3614c63a65b17db6c76ca44": {
     "model_module": "@jupyter-widgets/controls",
     "model_module_version": "1.5.0",
     "model_name": "FloatProgressModel",
     "state": {
      "_dom_classes": [],
      "_model_module": "@jupyter-widgets/controls",
      "_model_module_version": "1.5.0",
      "_model_name": "FloatProgressModel",
      "_view_count": null,
      "_view_module": "@jupyter-widgets/controls",
      "_view_module_version": "1.5.0",
      "_view_name": "ProgressView",
      "bar_style": "success",
      "description": "",
      "description_tooltip": null,
      "layout": "IPY_MODEL_218b35fa27fb4fb48b96430ff47ee6c4",
      "max": 11758,
      "min": 0,
      "orientation": "horizontal",
      "style": "IPY_MODEL_1d859de4d9f84cdeae87fe95eab87e82",
      "value": 11758
     }
    },
    "08072fcdaefd49a9bb04c3ff669a1907": {
     "model_module": "@jupyter-widgets/controls",
     "model_module_version": "1.5.0",
     "model_name": "ProgressStyleModel",
     "state": {
      "_model_module": "@jupyter-widgets/controls",
      "_model_module_version": "1.5.0",
      "_model_name": "ProgressStyleModel",
      "_view_count": null,
      "_view_module": "@jupyter-widgets/base",
      "_view_module_version": "1.2.0",
      "_view_name": "StyleView",
      "bar_color": null,
      "description_width": ""
     }
    },
    "15741a26cc304005a8c1a7ffc381f5d0": {
     "model_module": "@jupyter-widgets/controls",
     "model_module_version": "1.5.0",
     "model_name": "DescriptionStyleModel",
     "state": {
      "_model_module": "@jupyter-widgets/controls",
      "_model_module_version": "1.5.0",
      "_model_name": "DescriptionStyleModel",
      "_view_count": null,
      "_view_module": "@jupyter-widgets/base",
      "_view_module_version": "1.2.0",
      "_view_name": "StyleView",
      "description_width": ""
     }
    },
    "16fa1db7c8c3413a809da7b4beb060c5": {
     "model_module": "@jupyter-widgets/controls",
     "model_module_version": "1.5.0",
     "model_name": "HTMLModel",
     "state": {
      "_dom_classes": [],
      "_model_module": "@jupyter-widgets/controls",
      "_model_module_version": "1.5.0",
      "_model_name": "HTMLModel",
      "_view_count": null,
      "_view_module": "@jupyter-widgets/controls",
      "_view_module_version": "1.5.0",
      "_view_name": "HTMLView",
      "description": "",
      "description_tooltip": null,
      "layout": "IPY_MODEL_6c3a89cb1ce54ffd8cad064efdc95a98",
      "placeholder": "​",
      "style": "IPY_MODEL_e155ff3d30a34086929725a2d8cb6866",
      "value": " 2520/2520 [00:00&lt;00:00, 6889.46 examples/s]"
     }
    },
    "1d859de4d9f84cdeae87fe95eab87e82": {
     "model_module": "@jupyter-widgets/controls",
     "model_module_version": "1.5.0",
     "model_name": "ProgressStyleModel",
     "state": {
      "_model_module": "@jupyter-widgets/controls",
      "_model_module_version": "1.5.0",
      "_model_name": "ProgressStyleModel",
      "_view_count": null,
      "_view_module": "@jupyter-widgets/base",
      "_view_module_version": "1.2.0",
      "_view_name": "StyleView",
      "bar_color": null,
      "description_width": ""
     }
    },
    "218b35fa27fb4fb48b96430ff47ee6c4": {
     "model_module": "@jupyter-widgets/base",
     "model_module_version": "1.2.0",
     "model_name": "LayoutModel",
     "state": {
      "_model_module": "@jupyter-widgets/base",
      "_model_module_version": "1.2.0",
      "_model_name": "LayoutModel",
      "_view_count": null,
      "_view_module": "@jupyter-widgets/base",
      "_view_module_version": "1.2.0",
      "_view_name": "LayoutView",
      "align_content": null,
      "align_items": null,
      "align_self": null,
      "border": null,
      "bottom": null,
      "display": null,
      "flex": null,
      "flex_flow": null,
      "grid_area": null,
      "grid_auto_columns": null,
      "grid_auto_flow": null,
      "grid_auto_rows": null,
      "grid_column": null,
      "grid_gap": null,
      "grid_row": null,
      "grid_template_areas": null,
      "grid_template_columns": null,
      "grid_template_rows": null,
      "height": null,
      "justify_content": null,
      "justify_items": null,
      "left": null,
      "margin": null,
      "max_height": null,
      "max_width": null,
      "min_height": null,
      "min_width": null,
      "object_fit": null,
      "object_position": null,
      "order": null,
      "overflow": null,
      "overflow_x": null,
      "overflow_y": null,
      "padding": null,
      "right": null,
      "top": null,
      "visibility": null,
      "width": null
     }
    },
    "2477a3068be849a886eb37221aaa69f6": {
     "model_module": "@jupyter-widgets/controls",
     "model_module_version": "1.5.0",
     "model_name": "DescriptionStyleModel",
     "state": {
      "_model_module": "@jupyter-widgets/controls",
      "_model_module_version": "1.5.0",
      "_model_name": "DescriptionStyleModel",
      "_view_count": null,
      "_view_module": "@jupyter-widgets/base",
      "_view_module_version": "1.2.0",
      "_view_name": "StyleView",
      "description_width": ""
     }
    },
    "3d789263f6f242d58fb0f095f646c085": {
     "model_module": "@jupyter-widgets/base",
     "model_module_version": "1.2.0",
     "model_name": "LayoutModel",
     "state": {
      "_model_module": "@jupyter-widgets/base",
      "_model_module_version": "1.2.0",
      "_model_name": "LayoutModel",
      "_view_count": null,
      "_view_module": "@jupyter-widgets/base",
      "_view_module_version": "1.2.0",
      "_view_name": "LayoutView",
      "align_content": null,
      "align_items": null,
      "align_self": null,
      "border": null,
      "bottom": null,
      "display": null,
      "flex": null,
      "flex_flow": null,
      "grid_area": null,
      "grid_auto_columns": null,
      "grid_auto_flow": null,
      "grid_auto_rows": null,
      "grid_column": null,
      "grid_gap": null,
      "grid_row": null,
      "grid_template_areas": null,
      "grid_template_columns": null,
      "grid_template_rows": null,
      "height": null,
      "justify_content": null,
      "justify_items": null,
      "left": null,
      "margin": null,
      "max_height": null,
      "max_width": null,
      "min_height": null,
      "min_width": null,
      "object_fit": null,
      "object_position": null,
      "order": null,
      "overflow": null,
      "overflow_x": null,
      "overflow_y": null,
      "padding": null,
      "right": null,
      "top": null,
      "visibility": null,
      "width": null
     }
    },
    "470731ac5a6549b9bf56c76f8c60854f": {
     "model_module": "@jupyter-widgets/controls",
     "model_module_version": "1.5.0",
     "model_name": "FloatProgressModel",
     "state": {
      "_dom_classes": [],
      "_model_module": "@jupyter-widgets/controls",
      "_model_module_version": "1.5.0",
      "_model_name": "FloatProgressModel",
      "_view_count": null,
      "_view_module": "@jupyter-widgets/controls",
      "_view_module_version": "1.5.0",
      "_view_name": "ProgressView",
      "bar_style": "success",
      "description": "",
      "description_tooltip": null,
      "layout": "IPY_MODEL_b435842110964bb2a47f18b7b7d04d39",
      "max": 2520,
      "min": 0,
      "orientation": "horizontal",
      "style": "IPY_MODEL_e3b7927de286424ea8d14dbfdc03222b",
      "value": 2520
     }
    },
    "507d112a8b1d42329213ae833b75b27a": {
     "model_module": "@jupyter-widgets/controls",
     "model_module_version": "1.5.0",
     "model_name": "HTMLModel",
     "state": {
      "_dom_classes": [],
      "_model_module": "@jupyter-widgets/controls",
      "_model_module_version": "1.5.0",
      "_model_name": "HTMLModel",
      "_view_count": null,
      "_view_module": "@jupyter-widgets/controls",
      "_view_module_version": "1.5.0",
      "_view_name": "HTMLView",
      "description": "",
      "description_tooltip": null,
      "layout": "IPY_MODEL_ff82cb86c931451797ed846166380cbb",
      "placeholder": "​",
      "style": "IPY_MODEL_9fcb8b6e92a34e2a9ec073b80e432bb8",
      "value": "Map: 100%"
     }
    },
    "59653ea68b3a4fa9a0445a6bfd2b2119": {
     "model_module": "@jupyter-widgets/controls",
     "model_module_version": "1.5.0",
     "model_name": "HTMLModel",
     "state": {
      "_dom_classes": [],
      "_model_module": "@jupyter-widgets/controls",
      "_model_module_version": "1.5.0",
      "_model_name": "HTMLModel",
      "_view_count": null,
      "_view_module": "@jupyter-widgets/controls",
      "_view_module_version": "1.5.0",
      "_view_name": "HTMLView",
      "description": "",
      "description_tooltip": null,
      "layout": "IPY_MODEL_c6da5ddb06ad4c318a9340f4a9bccc73",
      "placeholder": "​",
      "style": "IPY_MODEL_b853a13c309c4f72ad70f49d045ac44f",
      "value": " 2520/2520 [00:00&lt;00:00, 6963.90 examples/s]"
     }
    },
    "6c3a89cb1ce54ffd8cad064efdc95a98": {
     "model_module": "@jupyter-widgets/base",
     "model_module_version": "1.2.0",
     "model_name": "LayoutModel",
     "state": {
      "_model_module": "@jupyter-widgets/base",
      "_model_module_version": "1.2.0",
      "_model_name": "LayoutModel",
      "_view_count": null,
      "_view_module": "@jupyter-widgets/base",
      "_view_module_version": "1.2.0",
      "_view_name": "LayoutView",
      "align_content": null,
      "align_items": null,
      "align_self": null,
      "border": null,
      "bottom": null,
      "display": null,
      "flex": null,
      "flex_flow": null,
      "grid_area": null,
      "grid_auto_columns": null,
      "grid_auto_flow": null,
      "grid_auto_rows": null,
      "grid_column": null,
      "grid_gap": null,
      "grid_row": null,
      "grid_template_areas": null,
      "grid_template_columns": null,
      "grid_template_rows": null,
      "height": null,
      "justify_content": null,
      "justify_items": null,
      "left": null,
      "margin": null,
      "max_height": null,
      "max_width": null,
      "min_height": null,
      "min_width": null,
      "object_fit": null,
      "object_position": null,
      "order": null,
      "overflow": null,
      "overflow_x": null,
      "overflow_y": null,
      "padding": null,
      "right": null,
      "top": null,
      "visibility": null,
      "width": null
     }
    },
    "9021c75c0d5a461a914d5b6a4b8e5ae5": {
     "model_module": "@jupyter-widgets/controls",
     "model_module_version": "1.5.0",
     "model_name": "FloatProgressModel",
     "state": {
      "_dom_classes": [],
      "_model_module": "@jupyter-widgets/controls",
      "_model_module_version": "1.5.0",
      "_model_name": "FloatProgressModel",
      "_view_count": null,
      "_view_module": "@jupyter-widgets/controls",
      "_view_module_version": "1.5.0",
      "_view_name": "ProgressView",
      "bar_style": "success",
      "description": "",
      "description_tooltip": null,
      "layout": "IPY_MODEL_ed23306cbb92429296bb082440cd9309",
      "max": 2520,
      "min": 0,
      "orientation": "horizontal",
      "style": "IPY_MODEL_08072fcdaefd49a9bb04c3ff669a1907",
      "value": 2520
     }
    },
    "959dd79165c045a6a96b19aaa810989d": {
     "model_module": "@jupyter-widgets/base",
     "model_module_version": "1.2.0",
     "model_name": "LayoutModel",
     "state": {
      "_model_module": "@jupyter-widgets/base",
      "_model_module_version": "1.2.0",
      "_model_name": "LayoutModel",
      "_view_count": null,
      "_view_module": "@jupyter-widgets/base",
      "_view_module_version": "1.2.0",
      "_view_name": "LayoutView",
      "align_content": null,
      "align_items": null,
      "align_self": null,
      "border": null,
      "bottom": null,
      "display": null,
      "flex": null,
      "flex_flow": null,
      "grid_area": null,
      "grid_auto_columns": null,
      "grid_auto_flow": null,
      "grid_auto_rows": null,
      "grid_column": null,
      "grid_gap": null,
      "grid_row": null,
      "grid_template_areas": null,
      "grid_template_columns": null,
      "grid_template_rows": null,
      "height": null,
      "justify_content": null,
      "justify_items": null,
      "left": null,
      "margin": null,
      "max_height": null,
      "max_width": null,
      "min_height": null,
      "min_width": null,
      "object_fit": null,
      "object_position": null,
      "order": null,
      "overflow": null,
      "overflow_x": null,
      "overflow_y": null,
      "padding": null,
      "right": null,
      "top": null,
      "visibility": null,
      "width": null
     }
    },
    "9fcb8b6e92a34e2a9ec073b80e432bb8": {
     "model_module": "@jupyter-widgets/controls",
     "model_module_version": "1.5.0",
     "model_name": "DescriptionStyleModel",
     "state": {
      "_model_module": "@jupyter-widgets/controls",
      "_model_module_version": "1.5.0",
      "_model_name": "DescriptionStyleModel",
      "_view_count": null,
      "_view_module": "@jupyter-widgets/base",
      "_view_module_version": "1.2.0",
      "_view_name": "StyleView",
      "description_width": ""
     }
    },
    "abe03b595e254d5a875668449ac1f222": {
     "model_module": "@jupyter-widgets/base",
     "model_module_version": "1.2.0",
     "model_name": "LayoutModel",
     "state": {
      "_model_module": "@jupyter-widgets/base",
      "_model_module_version": "1.2.0",
      "_model_name": "LayoutModel",
      "_view_count": null,
      "_view_module": "@jupyter-widgets/base",
      "_view_module_version": "1.2.0",
      "_view_name": "LayoutView",
      "align_content": null,
      "align_items": null,
      "align_self": null,
      "border": null,
      "bottom": null,
      "display": null,
      "flex": null,
      "flex_flow": null,
      "grid_area": null,
      "grid_auto_columns": null,
      "grid_auto_flow": null,
      "grid_auto_rows": null,
      "grid_column": null,
      "grid_gap": null,
      "grid_row": null,
      "grid_template_areas": null,
      "grid_template_columns": null,
      "grid_template_rows": null,
      "height": null,
      "justify_content": null,
      "justify_items": null,
      "left": null,
      "margin": null,
      "max_height": null,
      "max_width": null,
      "min_height": null,
      "min_width": null,
      "object_fit": null,
      "object_position": null,
      "order": null,
      "overflow": null,
      "overflow_x": null,
      "overflow_y": null,
      "padding": null,
      "right": null,
      "top": null,
      "visibility": null,
      "width": null
     }
    },
    "adcd6cc9e61e494eb8f62192c09f3ad6": {
     "model_module": "@jupyter-widgets/controls",
     "model_module_version": "1.5.0",
     "model_name": "HTMLModel",
     "state": {
      "_dom_classes": [],
      "_model_module": "@jupyter-widgets/controls",
      "_model_module_version": "1.5.0",
      "_model_name": "HTMLModel",
      "_view_count": null,
      "_view_module": "@jupyter-widgets/controls",
      "_view_module_version": "1.5.0",
      "_view_name": "HTMLView",
      "description": "",
      "description_tooltip": null,
      "layout": "IPY_MODEL_abe03b595e254d5a875668449ac1f222",
      "placeholder": "​",
      "style": "IPY_MODEL_15741a26cc304005a8c1a7ffc381f5d0",
      "value": "Map: 100%"
     }
    },
    "b435842110964bb2a47f18b7b7d04d39": {
     "model_module": "@jupyter-widgets/base",
     "model_module_version": "1.2.0",
     "model_name": "LayoutModel",
     "state": {
      "_model_module": "@jupyter-widgets/base",
      "_model_module_version": "1.2.0",
      "_model_name": "LayoutModel",
      "_view_count": null,
      "_view_module": "@jupyter-widgets/base",
      "_view_module_version": "1.2.0",
      "_view_name": "LayoutView",
      "align_content": null,
      "align_items": null,
      "align_self": null,
      "border": null,
      "bottom": null,
      "display": null,
      "flex": null,
      "flex_flow": null,
      "grid_area": null,
      "grid_auto_columns": null,
      "grid_auto_flow": null,
      "grid_auto_rows": null,
      "grid_column": null,
      "grid_gap": null,
      "grid_row": null,
      "grid_template_areas": null,
      "grid_template_columns": null,
      "grid_template_rows": null,
      "height": null,
      "justify_content": null,
      "justify_items": null,
      "left": null,
      "margin": null,
      "max_height": null,
      "max_width": null,
      "min_height": null,
      "min_width": null,
      "object_fit": null,
      "object_position": null,
      "order": null,
      "overflow": null,
      "overflow_x": null,
      "overflow_y": null,
      "padding": null,
      "right": null,
      "top": null,
      "visibility": null,
      "width": null
     }
    },
    "b70eb7891c5a4d608793bda215a55097": {
     "model_module": "@jupyter-widgets/base",
     "model_module_version": "1.2.0",
     "model_name": "LayoutModel",
     "state": {
      "_model_module": "@jupyter-widgets/base",
      "_model_module_version": "1.2.0",
      "_model_name": "LayoutModel",
      "_view_count": null,
      "_view_module": "@jupyter-widgets/base",
      "_view_module_version": "1.2.0",
      "_view_name": "LayoutView",
      "align_content": null,
      "align_items": null,
      "align_self": null,
      "border": null,
      "bottom": null,
      "display": null,
      "flex": null,
      "flex_flow": null,
      "grid_area": null,
      "grid_auto_columns": null,
      "grid_auto_flow": null,
      "grid_auto_rows": null,
      "grid_column": null,
      "grid_gap": null,
      "grid_row": null,
      "grid_template_areas": null,
      "grid_template_columns": null,
      "grid_template_rows": null,
      "height": null,
      "justify_content": null,
      "justify_items": null,
      "left": null,
      "margin": null,
      "max_height": null,
      "max_width": null,
      "min_height": null,
      "min_width": null,
      "object_fit": null,
      "object_position": null,
      "order": null,
      "overflow": null,
      "overflow_x": null,
      "overflow_y": null,
      "padding": null,
      "right": null,
      "top": null,
      "visibility": null,
      "width": null
     }
    },
    "b853a13c309c4f72ad70f49d045ac44f": {
     "model_module": "@jupyter-widgets/controls",
     "model_module_version": "1.5.0",
     "model_name": "DescriptionStyleModel",
     "state": {
      "_model_module": "@jupyter-widgets/controls",
      "_model_module_version": "1.5.0",
      "_model_name": "DescriptionStyleModel",
      "_view_count": null,
      "_view_module": "@jupyter-widgets/base",
      "_view_module_version": "1.2.0",
      "_view_name": "StyleView",
      "description_width": ""
     }
    },
    "bf8b1d1b01e949e886fb42798da2c99c": {
     "model_module": "@jupyter-widgets/controls",
     "model_module_version": "1.5.0",
     "model_name": "HTMLModel",
     "state": {
      "_dom_classes": [],
      "_model_module": "@jupyter-widgets/controls",
      "_model_module_version": "1.5.0",
      "_model_name": "HTMLModel",
      "_view_count": null,
      "_view_module": "@jupyter-widgets/controls",
      "_view_module_version": "1.5.0",
      "_view_name": "HTMLView",
      "description": "",
      "description_tooltip": null,
      "layout": "IPY_MODEL_cde39602589e40a786f84217ff08ba8f",
      "placeholder": "​",
      "style": "IPY_MODEL_f2824675896c4d2eafa46e00dce346fa",
      "value": "Map: 100%"
     }
    },
    "c34ffa60d5b343a493e8ed2d10db3629": {
     "model_module": "@jupyter-widgets/controls",
     "model_module_version": "1.5.0",
     "model_name": "HBoxModel",
     "state": {
      "_dom_classes": [],
      "_model_module": "@jupyter-widgets/controls",
      "_model_module_version": "1.5.0",
      "_model_name": "HBoxModel",
      "_view_count": null,
      "_view_module": "@jupyter-widgets/controls",
      "_view_module_version": "1.5.0",
      "_view_name": "HBoxView",
      "box_style": "",
      "children": [
       "IPY_MODEL_507d112a8b1d42329213ae833b75b27a",
       "IPY_MODEL_01e56378e3614c63a65b17db6c76ca44",
       "IPY_MODEL_c9441b93fa4a4c44b1e82867143a7eda"
      ],
      "layout": "IPY_MODEL_b70eb7891c5a4d608793bda215a55097"
     }
    },
    "c6da5ddb06ad4c318a9340f4a9bccc73": {
     "model_module": "@jupyter-widgets/base",
     "model_module_version": "1.2.0",
     "model_name": "LayoutModel",
     "state": {
      "_model_module": "@jupyter-widgets/base",
      "_model_module_version": "1.2.0",
      "_model_name": "LayoutModel",
      "_view_count": null,
      "_view_module": "@jupyter-widgets/base",
      "_view_module_version": "1.2.0",
      "_view_name": "LayoutView",
      "align_content": null,
      "align_items": null,
      "align_self": null,
      "border": null,
      "bottom": null,
      "display": null,
      "flex": null,
      "flex_flow": null,
      "grid_area": null,
      "grid_auto_columns": null,
      "grid_auto_flow": null,
      "grid_auto_rows": null,
      "grid_column": null,
      "grid_gap": null,
      "grid_row": null,
      "grid_template_areas": null,
      "grid_template_columns": null,
      "grid_template_rows": null,
      "height": null,
      "justify_content": null,
      "justify_items": null,
      "left": null,
      "margin": null,
      "max_height": null,
      "max_width": null,
      "min_height": null,
      "min_width": null,
      "object_fit": null,
      "object_position": null,
      "order": null,
      "overflow": null,
      "overflow_x": null,
      "overflow_y": null,
      "padding": null,
      "right": null,
      "top": null,
      "visibility": null,
      "width": null
     }
    },
    "c9441b93fa4a4c44b1e82867143a7eda": {
     "model_module": "@jupyter-widgets/controls",
     "model_module_version": "1.5.0",
     "model_name": "HTMLModel",
     "state": {
      "_dom_classes": [],
      "_model_module": "@jupyter-widgets/controls",
      "_model_module_version": "1.5.0",
      "_model_name": "HTMLModel",
      "_view_count": null,
      "_view_module": "@jupyter-widgets/controls",
      "_view_module_version": "1.5.0",
      "_view_name": "HTMLView",
      "description": "",
      "description_tooltip": null,
      "layout": "IPY_MODEL_959dd79165c045a6a96b19aaa810989d",
      "placeholder": "​",
      "style": "IPY_MODEL_2477a3068be849a886eb37221aaa69f6",
      "value": " 11758/11758 [00:03&lt;00:00, 3947.68 examples/s]"
     }
    },
    "cde39602589e40a786f84217ff08ba8f": {
     "model_module": "@jupyter-widgets/base",
     "model_module_version": "1.2.0",
     "model_name": "LayoutModel",
     "state": {
      "_model_module": "@jupyter-widgets/base",
      "_model_module_version": "1.2.0",
      "_model_name": "LayoutModel",
      "_view_count": null,
      "_view_module": "@jupyter-widgets/base",
      "_view_module_version": "1.2.0",
      "_view_name": "LayoutView",
      "align_content": null,
      "align_items": null,
      "align_self": null,
      "border": null,
      "bottom": null,
      "display": null,
      "flex": null,
      "flex_flow": null,
      "grid_area": null,
      "grid_auto_columns": null,
      "grid_auto_flow": null,
      "grid_auto_rows": null,
      "grid_column": null,
      "grid_gap": null,
      "grid_row": null,
      "grid_template_areas": null,
      "grid_template_columns": null,
      "grid_template_rows": null,
      "height": null,
      "justify_content": null,
      "justify_items": null,
      "left": null,
      "margin": null,
      "max_height": null,
      "max_width": null,
      "min_height": null,
      "min_width": null,
      "object_fit": null,
      "object_position": null,
      "order": null,
      "overflow": null,
      "overflow_x": null,
      "overflow_y": null,
      "padding": null,
      "right": null,
      "top": null,
      "visibility": null,
      "width": null
     }
    },
    "e155ff3d30a34086929725a2d8cb6866": {
     "model_module": "@jupyter-widgets/controls",
     "model_module_version": "1.5.0",
     "model_name": "DescriptionStyleModel",
     "state": {
      "_model_module": "@jupyter-widgets/controls",
      "_model_module_version": "1.5.0",
      "_model_name": "DescriptionStyleModel",
      "_view_count": null,
      "_view_module": "@jupyter-widgets/base",
      "_view_module_version": "1.2.0",
      "_view_name": "StyleView",
      "description_width": ""
     }
    },
    "e3b7927de286424ea8d14dbfdc03222b": {
     "model_module": "@jupyter-widgets/controls",
     "model_module_version": "1.5.0",
     "model_name": "ProgressStyleModel",
     "state": {
      "_model_module": "@jupyter-widgets/controls",
      "_model_module_version": "1.5.0",
      "_model_name": "ProgressStyleModel",
      "_view_count": null,
      "_view_module": "@jupyter-widgets/base",
      "_view_module_version": "1.2.0",
      "_view_name": "StyleView",
      "bar_color": null,
      "description_width": ""
     }
    },
    "ec2af10498fa478da3897815faa52532": {
     "model_module": "@jupyter-widgets/controls",
     "model_module_version": "1.5.0",
     "model_name": "HBoxModel",
     "state": {
      "_dom_classes": [],
      "_model_module": "@jupyter-widgets/controls",
      "_model_module_version": "1.5.0",
      "_model_name": "HBoxModel",
      "_view_count": null,
      "_view_module": "@jupyter-widgets/controls",
      "_view_module_version": "1.5.0",
      "_view_name": "HBoxView",
      "box_style": "",
      "children": [
       "IPY_MODEL_adcd6cc9e61e494eb8f62192c09f3ad6",
       "IPY_MODEL_470731ac5a6549b9bf56c76f8c60854f",
       "IPY_MODEL_16fa1db7c8c3413a809da7b4beb060c5"
      ],
      "layout": "IPY_MODEL_3d789263f6f242d58fb0f095f646c085"
     }
    },
    "ed23306cbb92429296bb082440cd9309": {
     "model_module": "@jupyter-widgets/base",
     "model_module_version": "1.2.0",
     "model_name": "LayoutModel",
     "state": {
      "_model_module": "@jupyter-widgets/base",
      "_model_module_version": "1.2.0",
      "_model_name": "LayoutModel",
      "_view_count": null,
      "_view_module": "@jupyter-widgets/base",
      "_view_module_version": "1.2.0",
      "_view_name": "LayoutView",
      "align_content": null,
      "align_items": null,
      "align_self": null,
      "border": null,
      "bottom": null,
      "display": null,
      "flex": null,
      "flex_flow": null,
      "grid_area": null,
      "grid_auto_columns": null,
      "grid_auto_flow": null,
      "grid_auto_rows": null,
      "grid_column": null,
      "grid_gap": null,
      "grid_row": null,
      "grid_template_areas": null,
      "grid_template_columns": null,
      "grid_template_rows": null,
      "height": null,
      "justify_content": null,
      "justify_items": null,
      "left": null,
      "margin": null,
      "max_height": null,
      "max_width": null,
      "min_height": null,
      "min_width": null,
      "object_fit": null,
      "object_position": null,
      "order": null,
      "overflow": null,
      "overflow_x": null,
      "overflow_y": null,
      "padding": null,
      "right": null,
      "top": null,
      "visibility": null,
      "width": null
     }
    },
    "f2824675896c4d2eafa46e00dce346fa": {
     "model_module": "@jupyter-widgets/controls",
     "model_module_version": "1.5.0",
     "model_name": "DescriptionStyleModel",
     "state": {
      "_model_module": "@jupyter-widgets/controls",
      "_model_module_version": "1.5.0",
      "_model_name": "DescriptionStyleModel",
      "_view_count": null,
      "_view_module": "@jupyter-widgets/base",
      "_view_module_version": "1.2.0",
      "_view_name": "StyleView",
      "description_width": ""
     }
    },
    "f52080b2e3f2485e81ff9acbda80a4b4": {
     "model_module": "@jupyter-widgets/base",
     "model_module_version": "1.2.0",
     "model_name": "LayoutModel",
     "state": {
      "_model_module": "@jupyter-widgets/base",
      "_model_module_version": "1.2.0",
      "_model_name": "LayoutModel",
      "_view_count": null,
      "_view_module": "@jupyter-widgets/base",
      "_view_module_version": "1.2.0",
      "_view_name": "LayoutView",
      "align_content": null,
      "align_items": null,
      "align_self": null,
      "border": null,
      "bottom": null,
      "display": null,
      "flex": null,
      "flex_flow": null,
      "grid_area": null,
      "grid_auto_columns": null,
      "grid_auto_flow": null,
      "grid_auto_rows": null,
      "grid_column": null,
      "grid_gap": null,
      "grid_row": null,
      "grid_template_areas": null,
      "grid_template_columns": null,
      "grid_template_rows": null,
      "height": null,
      "justify_content": null,
      "justify_items": null,
      "left": null,
      "margin": null,
      "max_height": null,
      "max_width": null,
      "min_height": null,
      "min_width": null,
      "object_fit": null,
      "object_position": null,
      "order": null,
      "overflow": null,
      "overflow_x": null,
      "overflow_y": null,
      "padding": null,
      "right": null,
      "top": null,
      "visibility": null,
      "width": null
     }
    },
    "f9d6fb11f15a4ae2ae26376d47ad45f6": {
     "model_module": "@jupyter-widgets/controls",
     "model_module_version": "1.5.0",
     "model_name": "HBoxModel",
     "state": {
      "_dom_classes": [],
      "_model_module": "@jupyter-widgets/controls",
      "_model_module_version": "1.5.0",
      "_model_name": "HBoxModel",
      "_view_count": null,
      "_view_module": "@jupyter-widgets/controls",
      "_view_module_version": "1.5.0",
      "_view_name": "HBoxView",
      "box_style": "",
      "children": [
       "IPY_MODEL_bf8b1d1b01e949e886fb42798da2c99c",
       "IPY_MODEL_9021c75c0d5a461a914d5b6a4b8e5ae5",
       "IPY_MODEL_59653ea68b3a4fa9a0445a6bfd2b2119"
      ],
      "layout": "IPY_MODEL_f52080b2e3f2485e81ff9acbda80a4b4"
     }
    },
    "ff82cb86c931451797ed846166380cbb": {
     "model_module": "@jupyter-widgets/base",
     "model_module_version": "1.2.0",
     "model_name": "LayoutModel",
     "state": {
      "_model_module": "@jupyter-widgets/base",
      "_model_module_version": "1.2.0",
      "_model_name": "LayoutModel",
      "_view_count": null,
      "_view_module": "@jupyter-widgets/base",
      "_view_module_version": "1.2.0",
      "_view_name": "LayoutView",
      "align_content": null,
      "align_items": null,
      "align_self": null,
      "border": null,
      "bottom": null,
      "display": null,
      "flex": null,
      "flex_flow": null,
      "grid_area": null,
      "grid_auto_columns": null,
      "grid_auto_flow": null,
      "grid_auto_rows": null,
      "grid_column": null,
      "grid_gap": null,
      "grid_row": null,
      "grid_template_areas": null,
      "grid_template_columns": null,
      "grid_template_rows": null,
      "height": null,
      "justify_content": null,
      "justify_items": null,
      "left": null,
      "margin": null,
      "max_height": null,
      "max_width": null,
      "min_height": null,
      "min_width": null,
      "object_fit": null,
      "object_position": null,
      "order": null,
      "overflow": null,
      "overflow_x": null,
      "overflow_y": null,
      "padding": null,
      "right": null,
      "top": null,
      "visibility": null,
      "width": null
     }
    }
   }
  }
 },
 "nbformat": 4,
 "nbformat_minor": 4
}
