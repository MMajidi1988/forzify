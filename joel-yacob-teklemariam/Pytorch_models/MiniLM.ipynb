{
 "cells": [
  {
   "cell_type": "code",
   "execution_count": 1,
   "metadata": {
    "colab": {
     "base_uri": "https://localhost:8080/"
    },
    "id": "SLzVi8Kp9pVm",
    "outputId": "aecd2c69-ffd5-419c-cd3e-73baace250b2"
   },
   "outputs": [],
   "source": [
    "#!pip3 install accelerate transformers[pytorch] PyTorch optuna wandb datasets"
   ]
  },
  {
   "cell_type": "code",
   "execution_count": 2,
   "metadata": {
    "id": "VtpDhi8-ZWHF"
   },
   "outputs": [
    {
     "name": "stderr",
     "output_type": "stream",
     "text": [
      "/net/fs-2/scale/OrionStore/Scratch/joteklem/MyCondaEnvironments/Python3.11/orion_env/lib/python3.11/site-packages/tqdm/auto.py:21: TqdmWarning: IProgress not found. Please update jupyter and ipywidgets. See https://ipywidgets.readthedocs.io/en/stable/user_install.html\n",
      "  from .autonotebook import tqdm as notebook_tqdm\n",
      "Failed to detect the name of this notebook, you can set it manually with the WANDB_NOTEBOOK_NAME environment variable to enable code saving.\n",
      "\u001b[34m\u001b[1mwandb\u001b[0m: Currently logged in as: \u001b[33mjoelyacob91\u001b[0m (\u001b[33mmaster-2024\u001b[0m). Use \u001b[1m`wandb login --relogin`\u001b[0m to force relogin\n",
      "2024-04-19 19:28:08.470979: I tensorflow/core/platform/cpu_feature_guard.cc:182] This TensorFlow binary is optimized to use available CPU instructions in performance-critical operations.\n",
      "To enable the following instructions: SSE4.1 SSE4.2 AVX AVX2 FMA, in other operations, rebuild TensorFlow with the appropriate compiler flags.\n"
     ]
    }
   ],
   "source": [
    "import numpy as np\n",
    "import pandas as pd\n",
    "import matplotlib.pyplot as plt\n",
    "%matplotlib inline\n",
    "import seaborn as sns\n",
    "import optuna \n",
    "from optuna import trial\n",
    "import random\n",
    "import os \n",
    "import pickle\n",
    "\n",
    "import torch.cuda\n",
    "import torch\n",
    "from torch import nn\n",
    "\n",
    "import wandb\n",
    "wandb.login()\n",
    "\n",
    "from transformers import AutoTokenizer, AutoModelForSequenceClassification\n",
    "from transformers import TrainingArguments, Trainer\n",
    "from transformers import TrainerCallback\n",
    "from transformers import set_seed\n",
    "\n",
    "from sklearn.metrics import (accuracy_score,\n",
    "                            f1_score,\n",
    "                            precision_score,\n",
    "                            recall_score,\n",
    "                            precision_recall_curve,\n",
    "                            auc, \n",
    "                            confusion_matrix,\n",
    "                            ConfusionMatrixDisplay,\n",
    "                            balanced_accuracy_score,\n",
    "                            classification_report)\n",
    "\n",
    "from sklearn.model_selection import train_test_split\n",
    "\n",
    "from datasets import Dataset, DatasetDict\n",
    "from accelerate import Accelerator\n",
    "from numpy.random import seed\n",
    "from lightning.pytorch import seed_everything\n",
    "import time"
   ]
  },
  {
   "cell_type": "code",
   "execution_count": 3,
   "metadata": {
    "id": "7jfhuu0IZWHI"
   },
   "outputs": [],
   "source": [
    "model_ckpt = \"sentence-transformers/all-MiniLM-L6-v2\""
   ]
  },
  {
   "cell_type": "code",
   "execution_count": 4,
   "metadata": {
    "id": "_8XsTvaVLZRg"
   },
   "outputs": [],
   "source": [
    "def model_init():\n",
    "    device = torch.device(\"cuda\" if torch.cuda.is_available() else \"cpu\")\n",
    "    model = AutoModelForSequenceClassification.from_pretrained(model_ckpt, num_labels=3)\n",
    "    model.to(device)\n",
    "    return model"
   ]
  },
  {
   "cell_type": "code",
   "execution_count": 5,
   "metadata": {
    "colab": {
     "base_uri": "https://localhost:8080/"
    },
    "id": "_U-kewIsLsRq",
    "outputId": "94123c8a-5ece-43df-b8d7-caf837b24c91"
   },
   "outputs": [
    {
     "name": "stderr",
     "output_type": "stream",
     "text": [
      "Some weights of BertForSequenceClassification were not initialized from the model checkpoint at sentence-transformers/all-MiniLM-L6-v2 and are newly initialized: ['classifier.bias', 'classifier.weight']\n",
      "You should probably TRAIN this model on a down-stream task to be able to use it for predictions and inference.\n"
     ]
    },
    {
     "data": {
      "text/plain": [
       "BertForSequenceClassification(\n",
       "  (bert): BertModel(\n",
       "    (embeddings): BertEmbeddings(\n",
       "      (word_embeddings): Embedding(30522, 384, padding_idx=0)\n",
       "      (position_embeddings): Embedding(512, 384)\n",
       "      (token_type_embeddings): Embedding(2, 384)\n",
       "      (LayerNorm): LayerNorm((384,), eps=1e-12, elementwise_affine=True)\n",
       "      (dropout): Dropout(p=0.1, inplace=False)\n",
       "    )\n",
       "    (encoder): BertEncoder(\n",
       "      (layer): ModuleList(\n",
       "        (0-5): 6 x BertLayer(\n",
       "          (attention): BertAttention(\n",
       "            (self): BertSelfAttention(\n",
       "              (query): Linear(in_features=384, out_features=384, bias=True)\n",
       "              (key): Linear(in_features=384, out_features=384, bias=True)\n",
       "              (value): Linear(in_features=384, out_features=384, bias=True)\n",
       "              (dropout): Dropout(p=0.1, inplace=False)\n",
       "            )\n",
       "            (output): BertSelfOutput(\n",
       "              (dense): Linear(in_features=384, out_features=384, bias=True)\n",
       "              (LayerNorm): LayerNorm((384,), eps=1e-12, elementwise_affine=True)\n",
       "              (dropout): Dropout(p=0.1, inplace=False)\n",
       "            )\n",
       "          )\n",
       "          (intermediate): BertIntermediate(\n",
       "            (dense): Linear(in_features=384, out_features=1536, bias=True)\n",
       "            (intermediate_act_fn): GELUActivation()\n",
       "          )\n",
       "          (output): BertOutput(\n",
       "            (dense): Linear(in_features=1536, out_features=384, bias=True)\n",
       "            (LayerNorm): LayerNorm((384,), eps=1e-12, elementwise_affine=True)\n",
       "            (dropout): Dropout(p=0.1, inplace=False)\n",
       "          )\n",
       "        )\n",
       "      )\n",
       "    )\n",
       "    (pooler): BertPooler(\n",
       "      (dense): Linear(in_features=384, out_features=384, bias=True)\n",
       "      (activation): Tanh()\n",
       "    )\n",
       "  )\n",
       "  (dropout): Dropout(p=0.1, inplace=False)\n",
       "  (classifier): Linear(in_features=384, out_features=3, bias=True)\n",
       ")"
      ]
     },
     "execution_count": 5,
     "metadata": {},
     "output_type": "execute_result"
    }
   ],
   "source": [
    "model_init()"
   ]
  },
  {
   "cell_type": "code",
   "execution_count": 6,
   "metadata": {
    "colab": {
     "base_uri": "https://localhost:8080/"
    },
    "id": "89oNEKxtZWHJ",
    "outputId": "d5842bff-f368-4eca-936b-5cfcbbe62c41"
   },
   "outputs": [
    {
     "name": "stdout",
     "output_type": "stream",
     "text": [
      "Fri Apr 19 19:29:16 2024       \n",
      "+---------------------------------------------------------------------------------------+\n",
      "| NVIDIA-SMI 535.154.05             Driver Version: 535.154.05   CUDA Version: 12.2     |\n",
      "|-----------------------------------------+----------------------+----------------------+\n",
      "| GPU  Name                 Persistence-M | Bus-Id        Disp.A | Volatile Uncorr. ECC |\n",
      "| Fan  Temp   Perf          Pwr:Usage/Cap |         Memory-Usage | GPU-Util  Compute M. |\n",
      "|                                         |                      |               MIG M. |\n",
      "|=========================================+======================+======================|\n",
      "|   0  Quadro RTX 8000                On  | 00000000:A1:00.0 Off |                  Off |\n",
      "| 33%   30C    P2              69W / 260W |    269MiB / 49152MiB |      0%      Default |\n",
      "|                                         |                      |                  N/A |\n",
      "+-----------------------------------------+----------------------+----------------------+\n",
      "                                                                                         \n",
      "+---------------------------------------------------------------------------------------+\n",
      "| Processes:                                                                            |\n",
      "|  GPU   GI   CI        PID   Type   Process name                            GPU Memory |\n",
      "|        ID   ID                                                             Usage      |\n",
      "|=======================================================================================|\n",
      "|    0   N/A  N/A     43459      C   ...nts/Python3.11/orion_env/bin/python      266MiB |\n",
      "+---------------------------------------------------------------------------------------+\n"
     ]
    }
   ],
   "source": [
    "!nvidia-smi"
   ]
  },
  {
   "cell_type": "code",
   "execution_count": 7,
   "metadata": {
    "colab": {
     "base_uri": "https://localhost:8080/"
    },
    "id": "w5uQGOyYZWHK",
    "outputId": "50a3dcec-3cf1-4407-baf4-cea4aa7f9205"
   },
   "outputs": [
    {
     "name": "stdout",
     "output_type": "stream",
     "text": [
      "1\n"
     ]
    }
   ],
   "source": [
    "print(torch.cuda.device_count())"
   ]
  },
  {
   "cell_type": "code",
   "execution_count": 8,
   "metadata": {},
   "outputs": [
    {
     "name": "stdout",
     "output_type": "stream",
     "text": [
      "/net/fs-2/scale/OrionStore/Home/joteklem/Pytorch_models\n"
     ]
    }
   ],
   "source": [
    "print(os.getcwd())"
   ]
  },
  {
   "cell_type": "code",
   "execution_count": 9,
   "metadata": {},
   "outputs": [
    {
     "data": {
      "text/plain": [
       "DatasetDict({\n",
       "    train: Dataset({\n",
       "        features: ['text', 'labels', 'input_ids', 'token_type_ids', 'attention_mask'],\n",
       "        num_rows: 10078\n",
       "    })\n",
       "    validation: Dataset({\n",
       "        features: ['text', 'labels', 'input_ids', 'token_type_ids', 'attention_mask'],\n",
       "        num_rows: 3360\n",
       "    })\n",
       "    test: Dataset({\n",
       "        features: ['text', 'labels', 'input_ids', 'token_type_ids', 'attention_mask'],\n",
       "        num_rows: 3360\n",
       "    })\n",
       "})"
      ]
     },
     "execution_count": 9,
     "metadata": {},
     "output_type": "execute_result"
    }
   ],
   "source": [
    "with open('/net/fs-2/scale/OrionStore/Home/joteklem/Preprocessing/BERT_dataset_15.pkl', 'rb') as f:\n",
    "    encoded_dataset_15 = pickle.load(f)\n",
    "encoded_dataset_15"
   ]
  },
  {
   "cell_type": "code",
   "execution_count": 10,
   "metadata": {},
   "outputs": [
    {
     "data": {
      "text/plain": [
       "DatasetDict({\n",
       "    train: Dataset({\n",
       "        features: ['text', 'labels', 'input_ids', 'token_type_ids', 'attention_mask'],\n",
       "        num_rows: 10128\n",
       "    })\n",
       "    validation: Dataset({\n",
       "        features: ['text', 'labels', 'input_ids', 'token_type_ids', 'attention_mask'],\n",
       "        num_rows: 3376\n",
       "    })\n",
       "    test: Dataset({\n",
       "        features: ['text', 'labels', 'input_ids', 'token_type_ids', 'attention_mask'],\n",
       "        num_rows: 3376\n",
       "    })\n",
       "})"
      ]
     },
     "execution_count": 10,
     "metadata": {},
     "output_type": "execute_result"
    }
   ],
   "source": [
    "with open('/net/fs-2/scale/OrionStore/Home/joteklem/Preprocessing/BERT_dataset_30.pkl', 'rb') as f:\n",
    "    encoded_dataset_30 = pickle.load(f)\n",
    "encoded_dataset_30"
   ]
  },
  {
   "cell_type": "code",
   "execution_count": 11,
   "metadata": {},
   "outputs": [],
   "source": [
    "tokenizer = AutoTokenizer.from_pretrained(model_ckpt)"
   ]
  },
  {
   "cell_type": "code",
   "execution_count": 12,
   "metadata": {},
   "outputs": [],
   "source": [
    "#encoded_df_15 = pd.read_csv('/net/fs-2/scale/OrionStore/Home/joteklem/Datasets/all_leagues_df_15sec.csv')\n",
    "#encoded_df_15['encoded_label'] = encoded_df_15['label'].astype('category').cat.codes\n",
    "#encoded_df_15 = encoded_df_15[['ASR_text', 'encoded_label']]\n",
    "#encoded_df_15.columns"
   ]
  },
  {
   "cell_type": "code",
   "execution_count": 13,
   "metadata": {},
   "outputs": [],
   "source": [
    "#encoded_df_30 = pd.read_csv('/net/fs-2/scale/OrionStore/Home/joteklem/Datasets/all_leagues_df_30sec.csv')\n",
    "#encoded_df_30['encoded_label'] = encoded_df_30['label'].astype('category').cat.codes\n",
    "#encoded_df_30 = encoded_df_30[['ASR_text', 'encoded_label']]\n",
    "#encoded_df_30.columns"
   ]
  },
  {
   "cell_type": "code",
   "execution_count": 14,
   "metadata": {
    "colab": {
     "base_uri": "https://localhost:8080/"
    },
    "id": "mcEGMOpvfA86",
    "outputId": "ae20acb3-96b6-425f-f34e-d86e0588fd95"
   },
   "outputs": [],
   "source": [
    "#class_weights_15 = (1 - (encoded_df_15['encoded_label'].value_counts().sort_index() / len(encoded_df_15['encoded_label']))).values\n",
    "#class_weights_15"
   ]
  },
  {
   "cell_type": "code",
   "execution_count": 15,
   "metadata": {
    "colab": {
     "base_uri": "https://localhost:8080/"
    },
    "id": "mcEGMOpvfA86",
    "outputId": "ae20acb3-96b6-425f-f34e-d86e0588fd95"
   },
   "outputs": [],
   "source": [
    "#class_weights_30 = (1 - (encoded_df_30['encoded_label'].value_counts().sort_index() / len(encoded_df_30['encoded_label']))).values\n",
    "#class_weights_30"
   ]
  },
  {
   "cell_type": "code",
   "execution_count": 16,
   "metadata": {},
   "outputs": [],
   "source": [
    "# Since they are the approximately the same we can have the same class weight for bothn of the classes."
   ]
  },
  {
   "cell_type": "code",
   "execution_count": 17,
   "metadata": {
    "colab": {
     "base_uri": "https://localhost:8080/"
    },
    "id": "37lq987JfUha",
    "outputId": "3a360e99-faa6-4adb-bbcf-4742748e5820"
   },
   "outputs": [],
   "source": [
    "#class_weights = class_weights_15\n",
    "#class_weights = torch.from_numpy(class_weights_15).float().to('cuda')\n",
    "#class_weights"
   ]
  },
  {
   "cell_type": "code",
   "execution_count": 18,
   "metadata": {
    "id": "IRWJYLpkiSAC"
   },
   "outputs": [],
   "source": [
    "#class WeightedLossTrainer(Trainer):\n",
    "#  def Loss(self, model, input, return_outputs=False):\n",
    "\n",
    "    # Feed input to model and extract logits\n",
    "#    outputs = model(**inputs)\n",
    "#    logits = outputs.get('logits')\n",
    "\n",
    "    # Extract labels\n",
    "#    labels = inputs.get('labels')\n",
    "\n",
    "    # Define loss function with class weights\n",
    "#    loss_func = nn.CrossEntropyLoss(weight=class_weights)\n",
    "\n",
    "    # Compute loss\n",
    "#    loss = loss_func(logits, labels)\n",
    "\n",
    "#    return (loss, ouputs) if return_outputs else loss"
   ]
  },
  {
   "cell_type": "code",
   "execution_count": 19,
   "metadata": {
    "id": "aAvk7gyvZWHU"
   },
   "outputs": [],
   "source": [
    "def compute_metrics(eval_pred):\n",
    "    predictions, labels = eval_pred\n",
    "    preds = predictions.argmax(-1)\n",
    "\n",
    "    # F1-Score\n",
    "    f1 = f1_score(labels, preds, average=\"weighted\", zero_division=0)\n",
    "    f1_macro = f1_score(labels, preds, average=\"macro\", zero_division=0)\n",
    "    f1_micro = f1_score(labels, preds, average=\"micro\", zero_division=0)\n",
    "\n",
    "    # Precision\n",
    "    #precision = precision_score(labels, preds, average='weighted')\n",
    "    #precision_macro = precision_score(labels, preds, average='macro')\n",
    "    #precision_micro = precision_score(labels, preds, average='micro')\n",
    "\n",
    "    # Recall\n",
    "    #recall = recall_score(labels, preds, average='weighted')\n",
    "    #recall_macro = recall_score(labels, preds, average='macro')\n",
    "    #recall_micro = recall_score(labels, preds, average='micro')\n",
    "\n",
    "    # Accuracy\n",
    "    acc = accuracy_score(labels, preds)\n",
    "    bal_acc = balanced_accuracy_score(labels, preds)\n",
    "\n",
    "    # Classification report \n",
    "    class_report = classification_report(labels, preds, output_dict=True, zero_division=0)\n",
    "    \n",
    "    return {\"Accuracy\": acc,\n",
    "            \"Balanced accuracy\": bal_acc,\n",
    "            \"F1 weighted\": f1,\n",
    "            'F1 macro':f1_macro,\n",
    "            'F1 micro':f1_micro,\n",
    "            #'Recall': recall,\n",
    "            #'Precision': precision,\n",
    "            \"Classification Report\": class_report}"
   ]
  },
  {
   "cell_type": "code",
   "execution_count": 20,
   "metadata": {},
   "outputs": [],
   "source": [
    "class LossTrackingCallback(TrainerCallback):\n",
    "    \"\"\"Logs aggregate metrics after each epoch.\"\"\"\n",
    "    def __init__(self):\n",
    "        super().__init__()\n",
    "        # Initialize lists to store all values temporarily\n",
    "        self._training_losses = []\n",
    "        self._validation_losses = []\n",
    "        # Initialize variables to store final or average values\n",
    "        self.final_training_loss = None\n",
    "        self.final_validation_loss = None\n",
    "\n",
    "    def on_epoch_end(self, args, state, control, **kwargs):\n",
    "        # Compute final or average losses here and store them in instance variables\n",
    "        if self._training_losses:\n",
    "            self.final_training_loss = self._training_losses[-1] \n",
    "        if self._validation_losses:\n",
    "            self.final_validation_loss = self._validation_losses[-1]  \n",
    "\n",
    "    def on_log(self, args, state, control, logs=None, **kwargs):\n",
    "        # Temporarily store all loss values\n",
    "        if 'loss' in logs:\n",
    "            self._training_losses.append(logs['loss'])\n",
    "        if 'eval_loss' in logs:\n",
    "            self._validation_losses.append(logs['eval_loss'])\n",
    "\n",
    "loss_metric = LossTrackingCallback()"
   ]
  },
  {
   "cell_type": "code",
   "execution_count": 21,
   "metadata": {},
   "outputs": [],
   "source": [
    "class OptunaCallback(TrainerCallback):\n",
    "    def __init__(self, trial):\n",
    "        self.trial = trial\n",
    "\n",
    "    def on_evaluate(self, args, state, control, metrics=None, **kwargs):\n",
    "        # Report the intermediate value to Optuna\n",
    "        self.trial.report(metrics['eval_F1 weighted'], step=state.epoch)\n",
    "        # Check if the current trial should be pruned\n",
    "        if self.trial.should_prune():\n",
    "            raise optuna.exceptions.TrialPruned()"
   ]
  },
  {
   "cell_type": "code",
   "execution_count": 22,
   "metadata": {},
   "outputs": [],
   "source": [
    "\n",
    "def objective_closure(data):\n",
    "    \"\"\"\n",
    "    A closure for the objective function to include the dataset.\n",
    "    \"\"\"\n",
    "    def objective(trial):\n",
    "        \n",
    "        wandb.init(project='MiniLM', config=trial.params, name=f\"trial-{trial.number}\")\n",
    "         \n",
    "        print(f\"Starting trial {trial.number}\")\n",
    "        \n",
    "        # Hyperparameter suggestions\n",
    "        learning_rate = trial.suggest_float(\"learning_rate\", 1e-5, 1e-3, log=True)\n",
    "        per_device_train_batch_size = trial.suggest_categorical(\"per_device_train_batch_size\", [8, 16, 32])\n",
    "        weight_decay = trial.suggest_float(\"weight_decay\", 0.0, 0.3)\n",
    "        num_train_epochs = trial.suggest_categorical('num_train_epochs', [2, 3, 4, 5])\n",
    "        warmup_steps = trial.suggest_int('warmup_steps', 0, 500)\n",
    "    \n",
    "        model_name = f\"{model_ckpt}-finetuned-ASR_text\"\n",
    "        \n",
    "        # Setup training arguments\n",
    "        training_args = TrainingArguments(\n",
    "            output_dir=model_name,  \n",
    "            num_train_epochs=num_train_epochs,\n",
    "            learning_rate=learning_rate,\n",
    "            per_device_train_batch_size=per_device_train_batch_size,\n",
    "            per_device_eval_batch_size=per_device_train_batch_size,\n",
    "            weight_decay=weight_decay,\n",
    "            warmup_steps=warmup_steps,\n",
    "            evaluation_strategy=\"epoch\",\n",
    "            gradient_accumulation_steps=2,\n",
    "            fp16=True,\n",
    "            disable_tqdm=False,\n",
    "            logging_steps=len(data['train']) // per_device_train_batch_size,\n",
    "            log_level=\"error\",\n",
    "            report_to=\"wandb\", \n",
    "            seed=23\n",
    "        )\n",
    "    \n",
    "        # Initialize the Trainer\n",
    "        trainer = Trainer(\n",
    "            model_init=model_init,\n",
    "            args=training_args,\n",
    "            compute_metrics=compute_metrics,\n",
    "            train_dataset=data['train'],\n",
    "            eval_dataset=data['validation'],\n",
    "            callbacks=[OptunaCallback(trial),loss_metric],\n",
    "            tokenizer=tokenizer,\n",
    "        )\n",
    "    \n",
    "        # Train the model\n",
    "        trainer.train()\n",
    "    \n",
    "        # Evaluate the model\n",
    "        eval_results = trainer.evaluate()\n",
    "\n",
    "        # Retrieve metrics for multi-objective optimization\n",
    "        f1_macro = eval_results.get('eval_F1 macro')\n",
    "        trial.set_user_attr('eval_F1 macro',f1_macro)\n",
    "        \n",
    "        training_loss = loss_metric.final_training_loss\n",
    "        validation_loss = loss_metric.final_validation_loss\n",
    "\n",
    "        # Check if the current trial is the best\n",
    "        if trial.should_prune():\n",
    "            raise optuna.exceptions.TrialPruned()\n",
    "\n",
    "        print(f\"Completed trial {trial.number}\")\n",
    "\n",
    "        wandb.log({\"macro F1 score\": f1_macro})\n",
    "        wandb.log({\"Training loss\":training_loss, \"Validation loss\":validation_loss})\n",
    "            \n",
    "        wandb.finish()\n",
    "        \n",
    "        # Return the primary metric for optimization\n",
    "        return f1_macro\n",
    "     \n",
    "    return objective"
   ]
  },
  {
   "cell_type": "code",
   "execution_count": 23,
   "metadata": {},
   "outputs": [
    {
     "name": "stderr",
     "output_type": "stream",
     "text": [
      "[I 2024-04-19 19:29:21,104] A new study created in RDB with name: MiniLM_15_study\n",
      "[I 2024-04-19 19:29:21,853] A new study created in RDB with name: MiniLM_30_study\n"
     ]
    }
   ],
   "source": [
    "# Seed\n",
    "sampler = optuna.samplers.TPESampler(seed=42)\n",
    "\n",
    "# Enable Optuna's default logging\n",
    "optuna.logging.enable_default_handler()\n",
    "\n",
    "# Create the study with a pruner\n",
    "pruner = optuna.pruners.MedianPruner()\n",
    "\n",
    "study_15 = optuna.create_study(\n",
    "    direction=\"maximize\",\n",
    "    study_name='MiniLM_15_study',\n",
    "    storage='sqlite:///MiniLM_15.db',\n",
    "    pruner=pruner, sampler=sampler\n",
    ")\n",
    "\n",
    "study_30 = optuna.create_study(\n",
    "    direction=\"maximize\",\n",
    "    study_name='MiniLM_30_study',\n",
    "    storage='sqlite:///MiniLM_30.db',\n",
    "    pruner=pruner, sampler=sampler\n",
    ")"
   ]
  },
  {
   "cell_type": "code",
   "execution_count": 24,
   "metadata": {},
   "outputs": [
    {
     "data": {
      "text/html": [
       "wandb version 0.16.6 is available!  To upgrade, please run:\n",
       " $ pip install wandb --upgrade"
      ],
      "text/plain": [
       "<IPython.core.display.HTML object>"
      ]
     },
     "metadata": {},
     "output_type": "display_data"
    },
    {
     "data": {
      "text/html": [
       "Tracking run with wandb version 0.16.4"
      ],
      "text/plain": [
       "<IPython.core.display.HTML object>"
      ]
     },
     "metadata": {},
     "output_type": "display_data"
    },
    {
     "data": {
      "text/html": [
       "Run data is saved locally in <code>/net/fs-2/scale/OrionStore/Home/joteklem/Pytorch_models/wandb/run-20240419_192921-y6jrifpo</code>"
      ],
      "text/plain": [
       "<IPython.core.display.HTML object>"
      ]
     },
     "metadata": {},
     "output_type": "display_data"
    },
    {
     "data": {
      "text/html": [
       "Syncing run <strong><a href='https://wandb.ai/master-2024/MiniLM/runs/y6jrifpo' target=\"_blank\">trial-0</a></strong> to <a href='https://wandb.ai/master-2024/MiniLM' target=\"_blank\">Weights & Biases</a> (<a href='https://wandb.me/run' target=\"_blank\">docs</a>)<br/>"
      ],
      "text/plain": [
       "<IPython.core.display.HTML object>"
      ]
     },
     "metadata": {},
     "output_type": "display_data"
    },
    {
     "data": {
      "text/html": [
       " View project at <a href='https://wandb.ai/master-2024/MiniLM' target=\"_blank\">https://wandb.ai/master-2024/MiniLM</a>"
      ],
      "text/plain": [
       "<IPython.core.display.HTML object>"
      ]
     },
     "metadata": {},
     "output_type": "display_data"
    },
    {
     "data": {
      "text/html": [
       " View run at <a href='https://wandb.ai/master-2024/MiniLM/runs/y6jrifpo' target=\"_blank\">https://wandb.ai/master-2024/MiniLM/runs/y6jrifpo</a>"
      ],
      "text/plain": [
       "<IPython.core.display.HTML object>"
      ]
     },
     "metadata": {},
     "output_type": "display_data"
    },
    {
     "name": "stderr",
     "output_type": "stream",
     "text": [
      "/net/fs-2/scale/OrionStore/Scratch/joteklem/MyCondaEnvironments/Python3.11/orion_env/lib/python3.11/site-packages/accelerate/accelerator.py:432: FutureWarning: Passing the following arguments to `Accelerator` is deprecated and will be removed in version 1.0 of Accelerate: dict_keys(['dispatch_batches', 'split_batches', 'even_batches', 'use_seedable_sampler']). Please pass an `accelerate.DataLoaderConfiguration` instead: \n",
      "dataloader_config = DataLoaderConfiguration(dispatch_batches=None, split_batches=False, even_batches=True, use_seedable_sampler=True)\n",
      "  warnings.warn(\n",
      "Detected kernel version 3.10.0, which is below the recommended minimum of 5.5.0; this can cause the process to hang. It is recommended to upgrade the kernel to the minimum version or higher.\n"
     ]
    },
    {
     "name": "stdout",
     "output_type": "stream",
     "text": [
      "Starting trial 0\n"
     ]
    },
    {
     "data": {
      "text/html": [
       "\n",
       "    <div>\n",
       "      \n",
       "      <progress value='2520' max='2520' style='width:300px; height:20px; vertical-align: middle;'></progress>\n",
       "      [2520/2520 02:16, Epoch 4/4]\n",
       "    </div>\n",
       "    <table border=\"1\" class=\"dataframe\">\n",
       "  <thead>\n",
       " <tr style=\"text-align: left;\">\n",
       "      <th>Epoch</th>\n",
       "      <th>Training Loss</th>\n",
       "      <th>Validation Loss</th>\n",
       "      <th>Accuracy</th>\n",
       "      <th>Balanced accuracy</th>\n",
       "      <th>F1 weighted</th>\n",
       "      <th>F1 macro</th>\n",
       "      <th>F1 micro</th>\n",
       "      <th>Classification report</th>\n",
       "    </tr>\n",
       "  </thead>\n",
       "  <tbody>\n",
       "    <tr>\n",
       "      <td>1</td>\n",
       "      <td>No log</td>\n",
       "      <td>0.529789</td>\n",
       "      <td>0.796726</td>\n",
       "      <td>0.661856</td>\n",
       "      <td>0.785796</td>\n",
       "      <td>0.699250</td>\n",
       "      <td>0.796726</td>\n",
       "      <td>{'0': {'precision': 0.7588652482269503, 'recall': 0.5957683741648107, 'f1-score': 0.6674984404242046, 'support': 898.0}, '1': {'precision': 0.8135179153094463, 'recall': 0.9297347603536529, 'f1-score': 0.8677524429967426, 'support': 2149.0}, '2': {'precision': 0.7236180904522613, 'recall': 0.46006389776357826, 'f1-score': 0.5625, 'support': 313.0}, 'accuracy': 0.7967261904761904, 'macro avg': {'precision': 0.7653337513295527, 'recall': 0.6618556774273473, 'f1-score': 0.6992502944736491, 'support': 3360.0}, 'weighted avg': {'precision': 0.7905367426248092, 'recall': 0.7967261904761904, 'f1-score': 0.7857964581848021, 'support': 3360.0}}</td>\n",
       "    </tr>\n",
       "    <tr>\n",
       "      <td>2</td>\n",
       "      <td>0.599400</td>\n",
       "      <td>0.500553</td>\n",
       "      <td>0.821131</td>\n",
       "      <td>0.738492</td>\n",
       "      <td>0.816941</td>\n",
       "      <td>0.758109</td>\n",
       "      <td>0.821131</td>\n",
       "      <td>{'0': {'precision': 0.7589285714285714, 'recall': 0.6625835189309577, 'f1-score': 0.7074910820451843, 'support': 898.0}, '1': {'precision': 0.852060737527115, 'recall': 0.9139134481154025, 'f1-score': 0.8819039066008083, 'support': 2149.0}, '2': {'precision': 0.7380073800738007, 'recall': 0.6389776357827476, 'f1-score': 0.684931506849315, 'support': 313.0}, 'accuracy': 0.8211309523809524, 'macro avg': {'precision': 0.7829988963431624, 'recall': 0.7384915342763693, 'f1-score': 0.7581088318317692, 'support': 3360.0}, 'weighted avg': {'precision': 0.8165454440630139, 'recall': 0.8211309523809524, 'f1-score': 0.8169410858945084, 'support': 3360.0}}</td>\n",
       "    </tr>\n",
       "    <tr>\n",
       "      <td>3</td>\n",
       "      <td>0.599400</td>\n",
       "      <td>0.517451</td>\n",
       "      <td>0.819940</td>\n",
       "      <td>0.751439</td>\n",
       "      <td>0.816230</td>\n",
       "      <td>0.760682</td>\n",
       "      <td>0.819940</td>\n",
       "      <td>{'0': {'precision': 0.762778505897772, 'recall': 0.6481069042316259, 'f1-score': 0.7007826610475617, 'support': 898.0}, '1': {'precision': 0.854831657192829, 'recall': 0.9097254536993951, 'f1-score': 0.881424706943192, 'support': 2149.0}, '2': {'precision': 0.7032258064516129, 'recall': 0.6964856230031949, 'f1-score': 0.6998394863563403, 'support': 313.0}, 'accuracy': 0.8199404761904762, 'macro avg': {'precision': 0.7736119898474046, 'recall': 0.751439326978072, 'f1-score': 0.7606822847823648, 'support': 3360.0}, 'weighted avg': {'precision': 0.8161065497092094, 'recall': 0.8199404761904762, 'f1-score': 0.8162304416878466, 'support': 3360.0}}</td>\n",
       "    </tr>\n",
       "    <tr>\n",
       "      <td>4</td>\n",
       "      <td>0.309900</td>\n",
       "      <td>0.594812</td>\n",
       "      <td>0.812798</td>\n",
       "      <td>0.737049</td>\n",
       "      <td>0.809891</td>\n",
       "      <td>0.752259</td>\n",
       "      <td>0.812798</td>\n",
       "      <td>{'0': {'precision': 0.7237635705669482, 'recall': 0.6681514476614699, 'f1-score': 0.6948465547191662, 'support': 898.0}, '1': {'precision': 0.8554323725055433, 'recall': 0.8976268031642625, 'f1-score': 0.8760217983651226, 'support': 2149.0}, '2': {'precision': 0.7318840579710145, 'recall': 0.645367412140575, 'f1-score': 0.6859083191850595, 'support': 313.0}, 'accuracy': 0.812797619047619, 'macro avg': {'precision': 0.7703600003478354, 'recall': 0.7370485543221026, 'f1-score': 0.7522588907564494, 'support': 3360.0}, 'weighted avg': {'precision': 0.8087332038775177, 'recall': 0.812797619047619, 'f1-score': 0.8098905817646975, 'support': 3360.0}}</td>\n",
       "    </tr>\n",
       "  </tbody>\n",
       "</table><p>"
      ],
      "text/plain": [
       "<IPython.core.display.HTML object>"
      ]
     },
     "metadata": {},
     "output_type": "display_data"
    },
    {
     "data": {
      "text/html": [
       "\n",
       "    <div>\n",
       "      \n",
       "      <progress value='420' max='420' style='width:300px; height:20px; vertical-align: middle;'></progress>\n",
       "      [420/420 00:02]\n",
       "    </div>\n",
       "    "
      ],
      "text/plain": [
       "<IPython.core.display.HTML object>"
      ]
     },
     "metadata": {},
     "output_type": "display_data"
    },
    {
     "name": "stderr",
     "output_type": "stream",
     "text": [
      "/net/fs-2/scale/OrionStore/Scratch/joteklem/MyCondaEnvironments/Python3.11/orion_env/lib/python3.11/site-packages/optuna/trial/_trial.py:499: UserWarning: The reported value is ignored because this `step` 4.0 is already reported.\n",
      "  warnings.warn(\n"
     ]
    },
    {
     "name": "stdout",
     "output_type": "stream",
     "text": [
      "Completed trial 0\n"
     ]
    },
    {
     "data": {
      "text/html": [
       "<style>\n",
       "    table.wandb td:nth-child(1) { padding: 0 10px; text-align: left ; width: auto;} td:nth-child(2) {text-align: left ; width: 100%}\n",
       "    .wandb-row { display: flex; flex-direction: row; flex-wrap: wrap; justify-content: flex-start; width: 100% }\n",
       "    .wandb-col { display: flex; flex-direction: column; flex-basis: 100%; flex: 1; padding: 10px; }\n",
       "    </style>\n",
       "<div class=\"wandb-row\"><div class=\"wandb-col\"><h3>Run history:</h3><br/><table class=\"wandb\"><tr><td>Training loss</td><td>▁</td></tr><tr><td>Validation loss</td><td>▁</td></tr><tr><td>eval/Accuracy</td><td>▁██▆▆</td></tr><tr><td>eval/Balanced accuracy</td><td>▁▇█▇▇</td></tr><tr><td>eval/F1 macro</td><td>▁██▇▇</td></tr><tr><td>eval/F1 micro</td><td>▁██▆▆</td></tr><tr><td>eval/F1 weighted</td><td>▁██▆▆</td></tr><tr><td>eval/loss</td><td>▃▁▂██</td></tr><tr><td>eval/runtime</td><td>█▁▅▁▂</td></tr><tr><td>eval/samples_per_second</td><td>▁█▄█▇</td></tr><tr><td>eval/steps_per_second</td><td>▁█▄█▇</td></tr><tr><td>macro F1 score</td><td>▁</td></tr><tr><td>train/epoch</td><td>▁▃▃▆████</td></tr><tr><td>train/global_step</td><td>▁▃▃▆██████</td></tr><tr><td>train/grad_norm</td><td>▁█</td></tr><tr><td>train/learning_rate</td><td>█▁</td></tr><tr><td>train/loss</td><td>█▁</td></tr><tr><td>train/total_flos</td><td>▁</td></tr><tr><td>train/train_loss</td><td>▁</td></tr><tr><td>train/train_runtime</td><td>▁</td></tr><tr><td>train/train_samples_per_second</td><td>▁</td></tr><tr><td>train/train_steps_per_second</td><td>▁</td></tr></table><br/></div><div class=\"wandb-col\"><h3>Run summary:</h3><br/><table class=\"wandb\"><tr><td>Training loss</td><td>0.3099</td></tr><tr><td>Validation loss</td><td>0.51745</td></tr><tr><td>eval/Accuracy</td><td>0.8128</td></tr><tr><td>eval/Balanced accuracy</td><td>0.73705</td></tr><tr><td>eval/F1 macro</td><td>0.75226</td></tr><tr><td>eval/F1 micro</td><td>0.8128</td></tr><tr><td>eval/F1 weighted</td><td>0.80989</td></tr><tr><td>eval/loss</td><td>0.59481</td></tr><tr><td>eval/runtime</td><td>2.8423</td></tr><tr><td>eval/samples_per_second</td><td>1182.145</td></tr><tr><td>eval/steps_per_second</td><td>147.768</td></tr><tr><td>macro F1 score</td><td>0.75226</td></tr><tr><td>train/epoch</td><td>4.0</td></tr><tr><td>train/global_step</td><td>2520</td></tr><tr><td>train/grad_norm</td><td>4.03775</td></tr><tr><td>train/learning_rate</td><td>0.0</td></tr><tr><td>train/loss</td><td>0.3099</td></tr><tr><td>train/total_flos</td><td>169700341676940.0</td></tr><tr><td>train/train_loss</td><td>0.45445</td></tr><tr><td>train/train_runtime</td><td>140.7881</td></tr><tr><td>train/train_samples_per_second</td><td>286.331</td></tr><tr><td>train/train_steps_per_second</td><td>17.899</td></tr></table><br/></div></div>"
      ],
      "text/plain": [
       "<IPython.core.display.HTML object>"
      ]
     },
     "metadata": {},
     "output_type": "display_data"
    },
    {
     "data": {
      "text/html": [
       " View run <strong style=\"color:#cdcd00\">trial-0</strong> at: <a href='https://wandb.ai/master-2024/MiniLM/runs/y6jrifpo' target=\"_blank\">https://wandb.ai/master-2024/MiniLM/runs/y6jrifpo</a><br/>Synced 5 W&B file(s), 0 media file(s), 0 artifact file(s) and 0 other file(s)"
      ],
      "text/plain": [
       "<IPython.core.display.HTML object>"
      ]
     },
     "metadata": {},
     "output_type": "display_data"
    },
    {
     "data": {
      "text/html": [
       "Find logs at: <code>./wandb/run-20240419_192921-y6jrifpo/logs</code>"
      ],
      "text/plain": [
       "<IPython.core.display.HTML object>"
      ]
     },
     "metadata": {},
     "output_type": "display_data"
    },
    {
     "name": "stderr",
     "output_type": "stream",
     "text": [
      "[I 2024-04-19 19:31:56,682] Trial 0 finished with value: 0.7522588907564494 and parameters: {'learning_rate': 5.6115164153345e-05, 'per_device_train_batch_size': 8, 'weight_decay': 0.04680559213273095, 'num_train_epochs': 4, 'warmup_steps': 354}. Best is trial 0 with value: 0.7522588907564494.\n"
     ]
    },
    {
     "data": {
      "text/html": [
       "wandb version 0.16.6 is available!  To upgrade, please run:\n",
       " $ pip install wandb --upgrade"
      ],
      "text/plain": [
       "<IPython.core.display.HTML object>"
      ]
     },
     "metadata": {},
     "output_type": "display_data"
    },
    {
     "data": {
      "text/html": [
       "Tracking run with wandb version 0.16.4"
      ],
      "text/plain": [
       "<IPython.core.display.HTML object>"
      ]
     },
     "metadata": {},
     "output_type": "display_data"
    },
    {
     "data": {
      "text/html": [
       "Run data is saved locally in <code>/net/fs-2/scale/OrionStore/Home/joteklem/Pytorch_models/wandb/run-20240419_193156-b6ips8lt</code>"
      ],
      "text/plain": [
       "<IPython.core.display.HTML object>"
      ]
     },
     "metadata": {},
     "output_type": "display_data"
    },
    {
     "data": {
      "text/html": [
       "Syncing run <strong><a href='https://wandb.ai/master-2024/MiniLM/runs/b6ips8lt' target=\"_blank\">trial-1</a></strong> to <a href='https://wandb.ai/master-2024/MiniLM' target=\"_blank\">Weights & Biases</a> (<a href='https://wandb.me/run' target=\"_blank\">docs</a>)<br/>"
      ],
      "text/plain": [
       "<IPython.core.display.HTML object>"
      ]
     },
     "metadata": {},
     "output_type": "display_data"
    },
    {
     "data": {
      "text/html": [
       " View project at <a href='https://wandb.ai/master-2024/MiniLM' target=\"_blank\">https://wandb.ai/master-2024/MiniLM</a>"
      ],
      "text/plain": [
       "<IPython.core.display.HTML object>"
      ]
     },
     "metadata": {},
     "output_type": "display_data"
    },
    {
     "data": {
      "text/html": [
       " View run at <a href='https://wandb.ai/master-2024/MiniLM/runs/b6ips8lt' target=\"_blank\">https://wandb.ai/master-2024/MiniLM/runs/b6ips8lt</a>"
      ],
      "text/plain": [
       "<IPython.core.display.HTML object>"
      ]
     },
     "metadata": {},
     "output_type": "display_data"
    },
    {
     "name": "stderr",
     "output_type": "stream",
     "text": [
      "/net/fs-2/scale/OrionStore/Scratch/joteklem/MyCondaEnvironments/Python3.11/orion_env/lib/python3.11/site-packages/accelerate/accelerator.py:432: FutureWarning: Passing the following arguments to `Accelerator` is deprecated and will be removed in version 1.0 of Accelerate: dict_keys(['dispatch_batches', 'split_batches', 'even_batches', 'use_seedable_sampler']). Please pass an `accelerate.DataLoaderConfiguration` instead: \n",
      "dataloader_config = DataLoaderConfiguration(dispatch_batches=None, split_batches=False, even_batches=True, use_seedable_sampler=True)\n",
      "  warnings.warn(\n",
      "Detected kernel version 3.10.0, which is below the recommended minimum of 5.5.0; this can cause the process to hang. It is recommended to upgrade the kernel to the minimum version or higher.\n"
     ]
    },
    {
     "name": "stdout",
     "output_type": "stream",
     "text": [
      "Starting trial 1\n"
     ]
    },
    {
     "data": {
      "text/html": [
       "\n",
       "    <div>\n",
       "      \n",
       "      <progress value='2520' max='2520' style='width:300px; height:20px; vertical-align: middle;'></progress>\n",
       "      [2520/2520 02:25, Epoch 4/4]\n",
       "    </div>\n",
       "    <table border=\"1\" class=\"dataframe\">\n",
       "  <thead>\n",
       " <tr style=\"text-align: left;\">\n",
       "      <th>Epoch</th>\n",
       "      <th>Training Loss</th>\n",
       "      <th>Validation Loss</th>\n",
       "      <th>Accuracy</th>\n",
       "      <th>Balanced accuracy</th>\n",
       "      <th>F1 weighted</th>\n",
       "      <th>F1 macro</th>\n",
       "      <th>F1 micro</th>\n",
       "      <th>Classification report</th>\n",
       "    </tr>\n",
       "  </thead>\n",
       "  <tbody>\n",
       "    <tr>\n",
       "      <td>1</td>\n",
       "      <td>No log</td>\n",
       "      <td>0.626313</td>\n",
       "      <td>0.755655</td>\n",
       "      <td>0.556961</td>\n",
       "      <td>0.730661</td>\n",
       "      <td>0.592573</td>\n",
       "      <td>0.755655</td>\n",
       "      <td>{'0': {'precision': 0.6504992867332382, 'recall': 0.5077951002227171, 'f1-score': 0.5703564727954972, 'support': 898.0}, '1': {'precision': 0.7822706065318819, 'recall': 0.9362494183341089, 'f1-score': 0.8523617877568311, 'support': 2149.0}, '2': {'precision': 0.8160919540229885, 'recall': 0.2268370607028754, 'f1-score': 0.35500000000000004, 'support': 313.0}, 'accuracy': 0.7556547619047619, 'macro avg': {'precision': 0.7496206157627029, 'recall': 0.5569605264199005, 'f1-score': 0.5925727535174428, 'support': 3360.0}, 'weighted avg': {'precision': 0.7502037721823386, 'recall': 0.7556547619047619, 'f1-score': 0.7306608912082698, 'support': 3360.0}}</td>\n",
       "    </tr>\n",
       "    <tr>\n",
       "      <td>2</td>\n",
       "      <td>0.693200</td>\n",
       "      <td>0.547708</td>\n",
       "      <td>0.788393</td>\n",
       "      <td>0.701811</td>\n",
       "      <td>0.785618</td>\n",
       "      <td>0.711404</td>\n",
       "      <td>0.788393</td>\n",
       "      <td>{'0': {'precision': 0.6996381182147166, 'recall': 0.6458797327394209, 'f1-score': 0.671685002895194, 'support': 898.0}, '1': {'precision': 0.8424107142857142, 'recall': 0.8780828292228944, 'f1-score': 0.859876965140123, 'support': 2149.0}, '2': {'precision': 0.6254295532646048, 'recall': 0.5814696485623003, 'f1-score': 0.6026490066225165, 'support': 313.0}, 'accuracy': 0.7883928571428571, 'macro avg': {'precision': 0.7224927952550119, 'recall': 0.7018107368415386, 'f1-score': 0.7114036582192779, 'support': 3360.0}, 'weighted avg': {'precision': 0.7840402099192371, 'recall': 0.7883928571428571, 'f1-score': 0.7856184136187072, 'support': 3360.0}}</td>\n",
       "    </tr>\n",
       "    <tr>\n",
       "      <td>3</td>\n",
       "      <td>0.693200</td>\n",
       "      <td>0.526848</td>\n",
       "      <td>0.803869</td>\n",
       "      <td>0.700232</td>\n",
       "      <td>0.796809</td>\n",
       "      <td>0.723818</td>\n",
       "      <td>0.803869</td>\n",
       "      <td>{'0': {'precision': 0.7664335664335664, 'recall': 0.6102449888641426, 'f1-score': 0.6794792312461252, 'support': 898.0}, '1': {'precision': 0.8290634187316254, 'recall': 0.9185667752442996, 'f1-score': 0.8715231788079469, 'support': 2149.0}, '2': {'precision': 0.678030303030303, 'recall': 0.5718849840255591, 'f1-score': 0.6204506065857885, 'support': 313.0}, 'accuracy': 0.8038690476190476, 'macro avg': {'precision': 0.7578424293984982, 'recall': 0.7002322493780003, 'f1-score': 0.7238176722132869, 'support': 3360.0}, 'weighted avg': {'precision': 0.7982553911785985, 'recall': 0.8038690476190476, 'f1-score': 0.7968085418984078, 'support': 3360.0}}</td>\n",
       "    </tr>\n",
       "    <tr>\n",
       "      <td>4</td>\n",
       "      <td>0.491800</td>\n",
       "      <td>0.525043</td>\n",
       "      <td>0.805952</td>\n",
       "      <td>0.711099</td>\n",
       "      <td>0.800893</td>\n",
       "      <td>0.726394</td>\n",
       "      <td>0.805952</td>\n",
       "      <td>{'0': {'precision': 0.7634408602150538, 'recall': 0.6325167037861915, 'f1-score': 0.6918392204628502, 'support': 898.0}, '1': {'precision': 0.8404987102321582, 'recall': 0.9097254536993951, 'f1-score': 0.8737430167597765, 'support': 2149.0}, '2': {'precision': 0.6379310344827587, 'recall': 0.5910543130990416, 'f1-score': 0.6135986733001658, 'support': 313.0}, 'accuracy': 0.805952380952381, 'macro avg': {'precision': 0.7472902016433235, 'recall': 0.7110988235282094, 'f1-score': 0.7263936368409308, 'support': 3360.0}, 'weighted avg': {'precision': 0.8010339388556932, 'recall': 0.805952380952381, 'f1-score': 0.8008933773021879, 'support': 3360.0}}</td>\n",
       "    </tr>\n",
       "  </tbody>\n",
       "</table><p>"
      ],
      "text/plain": [
       "<IPython.core.display.HTML object>"
      ]
     },
     "metadata": {},
     "output_type": "display_data"
    },
    {
     "data": {
      "text/html": [
       "\n",
       "    <div>\n",
       "      \n",
       "      <progress value='420' max='420' style='width:300px; height:20px; vertical-align: middle;'></progress>\n",
       "      [420/420 00:02]\n",
       "    </div>\n",
       "    "
      ],
      "text/plain": [
       "<IPython.core.display.HTML object>"
      ]
     },
     "metadata": {},
     "output_type": "display_data"
    },
    {
     "name": "stderr",
     "output_type": "stream",
     "text": [
      "/net/fs-2/scale/OrionStore/Scratch/joteklem/MyCondaEnvironments/Python3.11/orion_env/lib/python3.11/site-packages/optuna/trial/_trial.py:499: UserWarning: The reported value is ignored because this `step` 4.0 is already reported.\n",
      "  warnings.warn(\n"
     ]
    },
    {
     "name": "stdout",
     "output_type": "stream",
     "text": [
      "Completed trial 1\n"
     ]
    },
    {
     "data": {
      "text/html": [
       "<style>\n",
       "    table.wandb td:nth-child(1) { padding: 0 10px; text-align: left ; width: auto;} td:nth-child(2) {text-align: left ; width: 100%}\n",
       "    .wandb-row { display: flex; flex-direction: row; flex-wrap: wrap; justify-content: flex-start; width: 100% }\n",
       "    .wandb-col { display: flex; flex-direction: column; flex-basis: 100%; flex: 1; padding: 10px; }\n",
       "    </style>\n",
       "<div class=\"wandb-row\"><div class=\"wandb-col\"><h3>Run history:</h3><br/><table class=\"wandb\"><tr><td>Training loss</td><td>▁</td></tr><tr><td>Validation loss</td><td>▁</td></tr><tr><td>eval/Accuracy</td><td>▁▆███</td></tr><tr><td>eval/Balanced accuracy</td><td>▁████</td></tr><tr><td>eval/F1 macro</td><td>▁▇███</td></tr><tr><td>eval/F1 micro</td><td>▁▆███</td></tr><tr><td>eval/F1 weighted</td><td>▁▆███</td></tr><tr><td>eval/loss</td><td>█▃▁▁▁</td></tr><tr><td>eval/runtime</td><td>▁▃█▃▄</td></tr><tr><td>eval/samples_per_second</td><td>█▆▁▆▅</td></tr><tr><td>eval/steps_per_second</td><td>█▆▁▆▅</td></tr><tr><td>macro F1 score</td><td>▁</td></tr><tr><td>train/epoch</td><td>▁▃▃▆████</td></tr><tr><td>train/global_step</td><td>▁▃▃▆██████</td></tr><tr><td>train/grad_norm</td><td>▁█</td></tr><tr><td>train/learning_rate</td><td>█▁</td></tr><tr><td>train/loss</td><td>█▁</td></tr><tr><td>train/total_flos</td><td>▁</td></tr><tr><td>train/train_loss</td><td>▁</td></tr><tr><td>train/train_runtime</td><td>▁</td></tr><tr><td>train/train_samples_per_second</td><td>▁</td></tr><tr><td>train/train_steps_per_second</td><td>▁</td></tr></table><br/></div><div class=\"wandb-col\"><h3>Run summary:</h3><br/><table class=\"wandb\"><tr><td>Training loss</td><td>0.4918</td></tr><tr><td>Validation loss</td><td>0.52685</td></tr><tr><td>eval/Accuracy</td><td>0.80595</td></tr><tr><td>eval/Balanced accuracy</td><td>0.7111</td></tr><tr><td>eval/F1 macro</td><td>0.72639</td></tr><tr><td>eval/F1 micro</td><td>0.80595</td></tr><tr><td>eval/F1 weighted</td><td>0.80089</td></tr><tr><td>eval/loss</td><td>0.52504</td></tr><tr><td>eval/runtime</td><td>2.8476</td></tr><tr><td>eval/samples_per_second</td><td>1179.931</td></tr><tr><td>eval/steps_per_second</td><td>147.491</td></tr><tr><td>macro F1 score</td><td>0.72639</td></tr><tr><td>train/epoch</td><td>4.0</td></tr><tr><td>train/global_step</td><td>2520</td></tr><tr><td>train/grad_norm</td><td>6.59221</td></tr><tr><td>train/learning_rate</td><td>0.0</td></tr><tr><td>train/loss</td><td>0.4918</td></tr><tr><td>train/total_flos</td><td>169700341676940.0</td></tr><tr><td>train/train_loss</td><td>0.59241</td></tr><tr><td>train/train_runtime</td><td>145.7097</td></tr><tr><td>train/train_samples_per_second</td><td>276.66</td></tr><tr><td>train/train_steps_per_second</td><td>17.295</td></tr></table><br/></div></div>"
      ],
      "text/plain": [
       "<IPython.core.display.HTML object>"
      ]
     },
     "metadata": {},
     "output_type": "display_data"
    },
    {
     "data": {
      "text/html": [
       " View run <strong style=\"color:#cdcd00\">trial-1</strong> at: <a href='https://wandb.ai/master-2024/MiniLM/runs/b6ips8lt' target=\"_blank\">https://wandb.ai/master-2024/MiniLM/runs/b6ips8lt</a><br/>Synced 5 W&B file(s), 0 media file(s), 0 artifact file(s) and 0 other file(s)"
      ],
      "text/plain": [
       "<IPython.core.display.HTML object>"
      ]
     },
     "metadata": {},
     "output_type": "display_data"
    },
    {
     "data": {
      "text/html": [
       "Find logs at: <code>./wandb/run-20240419_193156-b6ips8lt/logs</code>"
      ],
      "text/plain": [
       "<IPython.core.display.HTML object>"
      ]
     },
     "metadata": {},
     "output_type": "display_data"
    },
    {
     "name": "stderr",
     "output_type": "stream",
     "text": [
      "[I 2024-04-19 19:34:33,661] Trial 1 finished with value: 0.7263936368409308 and parameters: {'learning_rate': 1.0994335574766187e-05, 'per_device_train_batch_size': 8, 'weight_decay': 0.05454749016213018, 'num_train_epochs': 4, 'warmup_steps': 145}. Best is trial 0 with value: 0.7522588907564494.\n"
     ]
    },
    {
     "data": {
      "text/html": [
       "wandb version 0.16.6 is available!  To upgrade, please run:\n",
       " $ pip install wandb --upgrade"
      ],
      "text/plain": [
       "<IPython.core.display.HTML object>"
      ]
     },
     "metadata": {},
     "output_type": "display_data"
    },
    {
     "data": {
      "text/html": [
       "Tracking run with wandb version 0.16.4"
      ],
      "text/plain": [
       "<IPython.core.display.HTML object>"
      ]
     },
     "metadata": {},
     "output_type": "display_data"
    },
    {
     "data": {
      "text/html": [
       "Run data is saved locally in <code>/net/fs-2/scale/OrionStore/Home/joteklem/Pytorch_models/wandb/run-20240419_193433-niuz8jfc</code>"
      ],
      "text/plain": [
       "<IPython.core.display.HTML object>"
      ]
     },
     "metadata": {},
     "output_type": "display_data"
    },
    {
     "data": {
      "text/html": [
       "Syncing run <strong><a href='https://wandb.ai/master-2024/MiniLM/runs/niuz8jfc' target=\"_blank\">trial-2</a></strong> to <a href='https://wandb.ai/master-2024/MiniLM' target=\"_blank\">Weights & Biases</a> (<a href='https://wandb.me/run' target=\"_blank\">docs</a>)<br/>"
      ],
      "text/plain": [
       "<IPython.core.display.HTML object>"
      ]
     },
     "metadata": {},
     "output_type": "display_data"
    },
    {
     "data": {
      "text/html": [
       " View project at <a href='https://wandb.ai/master-2024/MiniLM' target=\"_blank\">https://wandb.ai/master-2024/MiniLM</a>"
      ],
      "text/plain": [
       "<IPython.core.display.HTML object>"
      ]
     },
     "metadata": {},
     "output_type": "display_data"
    },
    {
     "data": {
      "text/html": [
       " View run at <a href='https://wandb.ai/master-2024/MiniLM/runs/niuz8jfc' target=\"_blank\">https://wandb.ai/master-2024/MiniLM/runs/niuz8jfc</a>"
      ],
      "text/plain": [
       "<IPython.core.display.HTML object>"
      ]
     },
     "metadata": {},
     "output_type": "display_data"
    },
    {
     "name": "stderr",
     "output_type": "stream",
     "text": [
      "/net/fs-2/scale/OrionStore/Scratch/joteklem/MyCondaEnvironments/Python3.11/orion_env/lib/python3.11/site-packages/accelerate/accelerator.py:432: FutureWarning: Passing the following arguments to `Accelerator` is deprecated and will be removed in version 1.0 of Accelerate: dict_keys(['dispatch_batches', 'split_batches', 'even_batches', 'use_seedable_sampler']). Please pass an `accelerate.DataLoaderConfiguration` instead: \n",
      "dataloader_config = DataLoaderConfiguration(dispatch_batches=None, split_batches=False, even_batches=True, use_seedable_sampler=True)\n",
      "  warnings.warn(\n",
      "Detected kernel version 3.10.0, which is below the recommended minimum of 5.5.0; this can cause the process to hang. It is recommended to upgrade the kernel to the minimum version or higher.\n"
     ]
    },
    {
     "name": "stdout",
     "output_type": "stream",
     "text": [
      "Starting trial 2\n"
     ]
    },
    {
     "data": {
      "text/html": [
       "\n",
       "    <div>\n",
       "      \n",
       "      <progress value='314' max='314' style='width:300px; height:20px; vertical-align: middle;'></progress>\n",
       "      [314/314 00:19, Epoch 1/2]\n",
       "    </div>\n",
       "    <table border=\"1\" class=\"dataframe\">\n",
       "  <thead>\n",
       " <tr style=\"text-align: left;\">\n",
       "      <th>Epoch</th>\n",
       "      <th>Training Loss</th>\n",
       "      <th>Validation Loss</th>\n",
       "      <th>Accuracy</th>\n",
       "      <th>Balanced accuracy</th>\n",
       "      <th>F1 weighted</th>\n",
       "      <th>F1 macro</th>\n",
       "      <th>F1 micro</th>\n",
       "      <th>Classification report</th>\n",
       "    </tr>\n",
       "  </thead>\n",
       "  <tbody>\n",
       "    <tr>\n",
       "      <td>0</td>\n",
       "      <td>No log</td>\n",
       "      <td>0.557082</td>\n",
       "      <td>0.780655</td>\n",
       "      <td>0.684847</td>\n",
       "      <td>0.772678</td>\n",
       "      <td>0.681963</td>\n",
       "      <td>0.780655</td>\n",
       "      <td>{'0': {'precision': 0.8204667863554758, 'recall': 0.5089086859688196, 'f1-score': 0.6281786941580755, 'support': 898.0}, '1': {'precision': 0.8193924261339992, 'recall': 0.9162401116798511, 'f1-score': 0.8651142355008788, 'support': 2149.0}, '2': {'precision': 0.4925, 'recall': 0.6293929712460063, 'f1-score': 0.552594670406732, 'support': 313.0}, 'accuracy': 0.7806547619047619, 'macro avg': {'precision': 0.7107864041631583, 'recall': 0.6848472562982257, 'f1-score': 0.6819625333552288, 'support': 3360.0}, 'weighted avg': {'precision': 0.7892279755682087, 'recall': 0.7806547619047619, 'f1-score': 0.7726777057388832, 'support': 3360.0}}</td>\n",
       "    </tr>\n",
       "    <tr>\n",
       "      <td>1</td>\n",
       "      <td>0.620000</td>\n",
       "      <td>0.509968</td>\n",
       "      <td>0.806548</td>\n",
       "      <td>0.715060</td>\n",
       "      <td>0.800831</td>\n",
       "      <td>0.727608</td>\n",
       "      <td>0.806548</td>\n",
       "      <td>{'0': {'precision': 0.7704225352112676, 'recall': 0.60913140311804, 'f1-score': 0.6803482587064676, 'support': 898.0}, '1': {'precision': 0.8403755868544601, 'recall': 0.9162401116798511, 'f1-score': 0.8766696349065004, 'support': 2149.0}, '2': {'precision': 0.6319218241042345, 'recall': 0.6198083067092651, 'f1-score': 0.6258064516129032, 'support': 313.0}, 'accuracy': 0.8065476190476191, 'macro avg': {'precision': 0.7475733153899874, 'recall': 0.7150599405023854, 'f1-score': 0.7276081150752903, 'support': 3360.0}, 'weighted avg': {'precision': 0.8022613403912435, 'recall': 0.8065476190476191, 'f1-score': 0.8008313098474156, 'support': 3360.0}}</td>\n",
       "    </tr>\n",
       "  </tbody>\n",
       "</table><p>"
      ],
      "text/plain": [
       "<IPython.core.display.HTML object>"
      ]
     },
     "metadata": {},
     "output_type": "display_data"
    },
    {
     "data": {
      "text/html": [
       "\n",
       "    <div>\n",
       "      \n",
       "      <progress value='105' max='105' style='width:300px; height:20px; vertical-align: middle;'></progress>\n",
       "      [105/105 00:01]\n",
       "    </div>\n",
       "    "
      ],
      "text/plain": [
       "<IPython.core.display.HTML object>"
      ]
     },
     "metadata": {},
     "output_type": "display_data"
    },
    {
     "name": "stderr",
     "output_type": "stream",
     "text": [
      "/net/fs-2/scale/OrionStore/Scratch/joteklem/MyCondaEnvironments/Python3.11/orion_env/lib/python3.11/site-packages/optuna/trial/_trial.py:499: UserWarning: The reported value is ignored because this `step` 1.9936507936507937 is already reported.\n",
      "  warnings.warn(\n"
     ]
    },
    {
     "name": "stdout",
     "output_type": "stream",
     "text": [
      "Completed trial 2\n"
     ]
    },
    {
     "data": {
      "text/html": [
       "<style>\n",
       "    table.wandb td:nth-child(1) { padding: 0 10px; text-align: left ; width: auto;} td:nth-child(2) {text-align: left ; width: 100%}\n",
       "    .wandb-row { display: flex; flex-direction: row; flex-wrap: wrap; justify-content: flex-start; width: 100% }\n",
       "    .wandb-col { display: flex; flex-direction: column; flex-basis: 100%; flex: 1; padding: 10px; }\n",
       "    </style>\n",
       "<div class=\"wandb-row\"><div class=\"wandb-col\"><h3>Run history:</h3><br/><table class=\"wandb\"><tr><td>Training loss</td><td>▁</td></tr><tr><td>Validation loss</td><td>▁</td></tr><tr><td>eval/Accuracy</td><td>▁██</td></tr><tr><td>eval/Balanced accuracy</td><td>▁██</td></tr><tr><td>eval/F1 macro</td><td>▁██</td></tr><tr><td>eval/F1 micro</td><td>▁██</td></tr><tr><td>eval/F1 weighted</td><td>▁██</td></tr><tr><td>eval/loss</td><td>█▁▁</td></tr><tr><td>eval/runtime</td><td>▁▄█</td></tr><tr><td>eval/samples_per_second</td><td>█▅▁</td></tr><tr><td>eval/steps_per_second</td><td>█▅▁</td></tr><tr><td>macro F1 score</td><td>▁</td></tr><tr><td>train/epoch</td><td>▁████</td></tr><tr><td>train/global_step</td><td>▁██████</td></tr><tr><td>train/grad_norm</td><td>▁</td></tr><tr><td>train/learning_rate</td><td>▁</td></tr><tr><td>train/loss</td><td>▁</td></tr><tr><td>train/total_flos</td><td>▁</td></tr><tr><td>train/train_loss</td><td>▁</td></tr><tr><td>train/train_runtime</td><td>▁</td></tr><tr><td>train/train_samples_per_second</td><td>▁</td></tr><tr><td>train/train_steps_per_second</td><td>▁</td></tr></table><br/></div><div class=\"wandb-col\"><h3>Run summary:</h3><br/><table class=\"wandb\"><tr><td>Training loss</td><td>0.62</td></tr><tr><td>Validation loss</td><td>0.55708</td></tr><tr><td>eval/Accuracy</td><td>0.80655</td></tr><tr><td>eval/Balanced accuracy</td><td>0.71506</td></tr><tr><td>eval/F1 macro</td><td>0.72761</td></tr><tr><td>eval/F1 micro</td><td>0.80655</td></tr><tr><td>eval/F1 weighted</td><td>0.80083</td></tr><tr><td>eval/loss</td><td>0.50997</td></tr><tr><td>eval/runtime</td><td>1.0343</td></tr><tr><td>eval/samples_per_second</td><td>3248.502</td></tr><tr><td>eval/steps_per_second</td><td>101.516</td></tr><tr><td>macro F1 score</td><td>0.72761</td></tr><tr><td>train/epoch</td><td>1.99</td></tr><tr><td>train/global_step</td><td>314</td></tr><tr><td>train/grad_norm</td><td>4.65147</td></tr><tr><td>train/learning_rate</td><td>0.0</td></tr><tr><td>train/loss</td><td>0.62</td></tr><tr><td>train/total_flos</td><td>106451016759216.0</td></tr><tr><td>train/train_loss</td><td>0.62</td></tr><tr><td>train/train_runtime</td><td>19.6943</td></tr><tr><td>train/train_samples_per_second</td><td>1023.444</td></tr><tr><td>train/train_steps_per_second</td><td>15.944</td></tr></table><br/></div></div>"
      ],
      "text/plain": [
       "<IPython.core.display.HTML object>"
      ]
     },
     "metadata": {},
     "output_type": "display_data"
    },
    {
     "data": {
      "text/html": [
       " View run <strong style=\"color:#cdcd00\">trial-2</strong> at: <a href='https://wandb.ai/master-2024/MiniLM/runs/niuz8jfc' target=\"_blank\">https://wandb.ai/master-2024/MiniLM/runs/niuz8jfc</a><br/>Synced 5 W&B file(s), 0 media file(s), 0 artifact file(s) and 0 other file(s)"
      ],
      "text/plain": [
       "<IPython.core.display.HTML object>"
      ]
     },
     "metadata": {},
     "output_type": "display_data"
    },
    {
     "data": {
      "text/html": [
       "Find logs at: <code>./wandb/run-20240419_193433-niuz8jfc/logs</code>"
      ],
      "text/plain": [
       "<IPython.core.display.HTML object>"
      ]
     },
     "metadata": {},
     "output_type": "display_data"
    },
    {
     "name": "stderr",
     "output_type": "stream",
     "text": [
      "[I 2024-04-19 19:35:06,668] Trial 2 finished with value: 0.7276081150752903 and parameters: {'learning_rate': 0.00016738085788752134, 'per_device_train_batch_size': 32, 'weight_decay': 0.13682099526511077, 'num_train_epochs': 2, 'warmup_steps': 23}. Best is trial 0 with value: 0.7522588907564494.\n"
     ]
    },
    {
     "data": {
      "text/html": [
       "wandb version 0.16.6 is available!  To upgrade, please run:\n",
       " $ pip install wandb --upgrade"
      ],
      "text/plain": [
       "<IPython.core.display.HTML object>"
      ]
     },
     "metadata": {},
     "output_type": "display_data"
    },
    {
     "data": {
      "text/html": [
       "Tracking run with wandb version 0.16.4"
      ],
      "text/plain": [
       "<IPython.core.display.HTML object>"
      ]
     },
     "metadata": {},
     "output_type": "display_data"
    },
    {
     "data": {
      "text/html": [
       "Run data is saved locally in <code>/net/fs-2/scale/OrionStore/Home/joteklem/Pytorch_models/wandb/run-20240419_193506-t2d17wsd</code>"
      ],
      "text/plain": [
       "<IPython.core.display.HTML object>"
      ]
     },
     "metadata": {},
     "output_type": "display_data"
    },
    {
     "data": {
      "text/html": [
       "Syncing run <strong><a href='https://wandb.ai/master-2024/MiniLM/runs/t2d17wsd' target=\"_blank\">trial-3</a></strong> to <a href='https://wandb.ai/master-2024/MiniLM' target=\"_blank\">Weights & Biases</a> (<a href='https://wandb.me/run' target=\"_blank\">docs</a>)<br/>"
      ],
      "text/plain": [
       "<IPython.core.display.HTML object>"
      ]
     },
     "metadata": {},
     "output_type": "display_data"
    },
    {
     "data": {
      "text/html": [
       " View project at <a href='https://wandb.ai/master-2024/MiniLM' target=\"_blank\">https://wandb.ai/master-2024/MiniLM</a>"
      ],
      "text/plain": [
       "<IPython.core.display.HTML object>"
      ]
     },
     "metadata": {},
     "output_type": "display_data"
    },
    {
     "data": {
      "text/html": [
       " View run at <a href='https://wandb.ai/master-2024/MiniLM/runs/t2d17wsd' target=\"_blank\">https://wandb.ai/master-2024/MiniLM/runs/t2d17wsd</a>"
      ],
      "text/plain": [
       "<IPython.core.display.HTML object>"
      ]
     },
     "metadata": {},
     "output_type": "display_data"
    },
    {
     "name": "stderr",
     "output_type": "stream",
     "text": [
      "/net/fs-2/scale/OrionStore/Scratch/joteklem/MyCondaEnvironments/Python3.11/orion_env/lib/python3.11/site-packages/accelerate/accelerator.py:432: FutureWarning: Passing the following arguments to `Accelerator` is deprecated and will be removed in version 1.0 of Accelerate: dict_keys(['dispatch_batches', 'split_batches', 'even_batches', 'use_seedable_sampler']). Please pass an `accelerate.DataLoaderConfiguration` instead: \n",
      "dataloader_config = DataLoaderConfiguration(dispatch_batches=None, split_batches=False, even_batches=True, use_seedable_sampler=True)\n",
      "  warnings.warn(\n",
      "Detected kernel version 3.10.0, which is below the recommended minimum of 5.5.0; this can cause the process to hang. It is recommended to upgrade the kernel to the minimum version or higher.\n"
     ]
    },
    {
     "name": "stdout",
     "output_type": "stream",
     "text": [
      "Starting trial 3\n"
     ]
    },
    {
     "data": {
      "text/html": [
       "\n",
       "    <div>\n",
       "      \n",
       "      <progress value='314' max='314' style='width:300px; height:20px; vertical-align: middle;'></progress>\n",
       "      [314/314 00:19, Epoch 1/2]\n",
       "    </div>\n",
       "    <table border=\"1\" class=\"dataframe\">\n",
       "  <thead>\n",
       " <tr style=\"text-align: left;\">\n",
       "      <th>Epoch</th>\n",
       "      <th>Training Loss</th>\n",
       "      <th>Validation Loss</th>\n",
       "      <th>Accuracy</th>\n",
       "      <th>Balanced accuracy</th>\n",
       "      <th>F1 weighted</th>\n",
       "      <th>F1 macro</th>\n",
       "      <th>F1 micro</th>\n",
       "      <th>Classification report</th>\n",
       "    </tr>\n",
       "  </thead>\n",
       "  <tbody>\n",
       "    <tr>\n",
       "      <td>0</td>\n",
       "      <td>No log</td>\n",
       "      <td>0.573165</td>\n",
       "      <td>0.783036</td>\n",
       "      <td>0.674215</td>\n",
       "      <td>0.772236</td>\n",
       "      <td>0.686960</td>\n",
       "      <td>0.783036</td>\n",
       "      <td>{'0': {'precision': 0.8003472222222222, 'recall': 0.5133630289532294, 'f1-score': 0.6255088195386703, 'support': 898.0}, '1': {'precision': 0.8083807973962571, 'recall': 0.9246161005118659, 'f1-score': 0.8626003907097896, 'support': 2149.0}, '2': {'precision': 0.5613496932515337, 'recall': 0.5846645367412141, 'f1-score': 0.5727699530516432, 'support': 313.0}, 'accuracy': 0.7830357142857143, 'macro avg': {'precision': 0.7233592376233378, 'recall': 0.6742145554021032, 'f1-score': 0.6869597211000343, 'support': 3360.0}, 'weighted avg': {'precision': 0.7832216051035246, 'recall': 0.7830357142857143, 'f1-score': 0.7722357603828061, 'support': 3360.0}}</td>\n",
       "    </tr>\n",
       "    <tr>\n",
       "      <td>1</td>\n",
       "      <td>0.666600</td>\n",
       "      <td>0.492333</td>\n",
       "      <td>0.814583</td>\n",
       "      <td>0.712993</td>\n",
       "      <td>0.808622</td>\n",
       "      <td>0.736167</td>\n",
       "      <td>0.814583</td>\n",
       "      <td>{'0': {'precision': 0.7724230254350736, 'recall': 0.6425389755011136, 'f1-score': 0.7015197568389058, 'support': 898.0}, '1': {'precision': 0.8418367346938775, 'recall': 0.9213587715216379, 'f1-score': 0.8798044878915797, 'support': 2149.0}, '2': {'precision': 0.6896551724137931, 'recall': 0.5750798722044729, 'f1-score': 0.6271777003484322, 'support': 313.0}, 'accuracy': 0.8145833333333333, 'macro avg': {'precision': 0.7679716441809147, 'recall': 0.7129925397424081, 'f1-score': 0.736167315026306, 'support': 3360.0}, 'weighted avg': {'precision': 0.8091086573402846, 'recall': 0.8145833333333333, 'f1-score': 0.8086223828361315, 'support': 3360.0}}</td>\n",
       "    </tr>\n",
       "  </tbody>\n",
       "</table><p>"
      ],
      "text/plain": [
       "<IPython.core.display.HTML object>"
      ]
     },
     "metadata": {},
     "output_type": "display_data"
    },
    {
     "data": {
      "text/html": [
       "\n",
       "    <div>\n",
       "      \n",
       "      <progress value='105' max='105' style='width:300px; height:20px; vertical-align: middle;'></progress>\n",
       "      [105/105 00:00]\n",
       "    </div>\n",
       "    "
      ],
      "text/plain": [
       "<IPython.core.display.HTML object>"
      ]
     },
     "metadata": {},
     "output_type": "display_data"
    },
    {
     "name": "stderr",
     "output_type": "stream",
     "text": [
      "/net/fs-2/scale/OrionStore/Scratch/joteklem/MyCondaEnvironments/Python3.11/orion_env/lib/python3.11/site-packages/optuna/trial/_trial.py:499: UserWarning: The reported value is ignored because this `step` 1.9936507936507937 is already reported.\n",
      "  warnings.warn(\n"
     ]
    },
    {
     "name": "stdout",
     "output_type": "stream",
     "text": [
      "Completed trial 3\n"
     ]
    },
    {
     "data": {
      "text/html": [
       "<style>\n",
       "    table.wandb td:nth-child(1) { padding: 0 10px; text-align: left ; width: auto;} td:nth-child(2) {text-align: left ; width: 100%}\n",
       "    .wandb-row { display: flex; flex-direction: row; flex-wrap: wrap; justify-content: flex-start; width: 100% }\n",
       "    .wandb-col { display: flex; flex-direction: column; flex-basis: 100%; flex: 1; padding: 10px; }\n",
       "    </style>\n",
       "<div class=\"wandb-row\"><div class=\"wandb-col\"><h3>Run history:</h3><br/><table class=\"wandb\"><tr><td>Training loss</td><td>▁</td></tr><tr><td>Validation loss</td><td>▁</td></tr><tr><td>eval/Accuracy</td><td>▁██</td></tr><tr><td>eval/Balanced accuracy</td><td>▁██</td></tr><tr><td>eval/F1 macro</td><td>▁██</td></tr><tr><td>eval/F1 micro</td><td>▁██</td></tr><tr><td>eval/F1 weighted</td><td>▁██</td></tr><tr><td>eval/loss</td><td>█▁▁</td></tr><tr><td>eval/runtime</td><td>▇▁█</td></tr><tr><td>eval/samples_per_second</td><td>▂█▁</td></tr><tr><td>eval/steps_per_second</td><td>▂█▁</td></tr><tr><td>macro F1 score</td><td>▁</td></tr><tr><td>train/epoch</td><td>▁████</td></tr><tr><td>train/global_step</td><td>▁██████</td></tr><tr><td>train/grad_norm</td><td>▁</td></tr><tr><td>train/learning_rate</td><td>▁</td></tr><tr><td>train/loss</td><td>▁</td></tr><tr><td>train/total_flos</td><td>▁</td></tr><tr><td>train/train_loss</td><td>▁</td></tr><tr><td>train/train_runtime</td><td>▁</td></tr><tr><td>train/train_samples_per_second</td><td>▁</td></tr><tr><td>train/train_steps_per_second</td><td>▁</td></tr></table><br/></div><div class=\"wandb-col\"><h3>Run summary:</h3><br/><table class=\"wandb\"><tr><td>Training loss</td><td>0.6666</td></tr><tr><td>Validation loss</td><td>0.57317</td></tr><tr><td>eval/Accuracy</td><td>0.81458</td></tr><tr><td>eval/Balanced accuracy</td><td>0.71299</td></tr><tr><td>eval/F1 macro</td><td>0.73617</td></tr><tr><td>eval/F1 micro</td><td>0.81458</td></tr><tr><td>eval/F1 weighted</td><td>0.80862</td></tr><tr><td>eval/loss</td><td>0.49233</td></tr><tr><td>eval/runtime</td><td>1.0262</td></tr><tr><td>eval/samples_per_second</td><td>3274.086</td></tr><tr><td>eval/steps_per_second</td><td>102.315</td></tr><tr><td>macro F1 score</td><td>0.73617</td></tr><tr><td>train/epoch</td><td>1.99</td></tr><tr><td>train/global_step</td><td>314</td></tr><tr><td>train/grad_norm</td><td>4.05175</td></tr><tr><td>train/learning_rate</td><td>0.0</td></tr><tr><td>train/loss</td><td>0.6666</td></tr><tr><td>train/total_flos</td><td>106451016759216.0</td></tr><tr><td>train/train_loss</td><td>0.66665</td></tr><tr><td>train/train_runtime</td><td>19.5405</td></tr><tr><td>train/train_samples_per_second</td><td>1031.497</td></tr><tr><td>train/train_steps_per_second</td><td>16.069</td></tr></table><br/></div></div>"
      ],
      "text/plain": [
       "<IPython.core.display.HTML object>"
      ]
     },
     "metadata": {},
     "output_type": "display_data"
    },
    {
     "data": {
      "text/html": [
       " View run <strong style=\"color:#cdcd00\">trial-3</strong> at: <a href='https://wandb.ai/master-2024/MiniLM/runs/t2d17wsd' target=\"_blank\">https://wandb.ai/master-2024/MiniLM/runs/t2d17wsd</a><br/>Synced 5 W&B file(s), 0 media file(s), 0 artifact file(s) and 0 other file(s)"
      ],
      "text/plain": [
       "<IPython.core.display.HTML object>"
      ]
     },
     "metadata": {},
     "output_type": "display_data"
    },
    {
     "data": {
      "text/html": [
       "Find logs at: <code>./wandb/run-20240419_193506-t2d17wsd/logs</code>"
      ],
      "text/plain": [
       "<IPython.core.display.HTML object>"
      ]
     },
     "metadata": {},
     "output_type": "display_data"
    },
    {
     "name": "stderr",
     "output_type": "stream",
     "text": [
      "[I 2024-04-19 19:35:35,205] Trial 3 finished with value: 0.736167315026306 and parameters: {'learning_rate': 0.000164092867306479, 'per_device_train_batch_size': 32, 'weight_decay': 0.2896896099223678, 'num_train_epochs': 2, 'warmup_steps': 220}. Best is trial 0 with value: 0.7522588907564494.\n"
     ]
    },
    {
     "data": {
      "text/html": [
       "wandb version 0.16.6 is available!  To upgrade, please run:\n",
       " $ pip install wandb --upgrade"
      ],
      "text/plain": [
       "<IPython.core.display.HTML object>"
      ]
     },
     "metadata": {},
     "output_type": "display_data"
    },
    {
     "data": {
      "text/html": [
       "Tracking run with wandb version 0.16.4"
      ],
      "text/plain": [
       "<IPython.core.display.HTML object>"
      ]
     },
     "metadata": {},
     "output_type": "display_data"
    },
    {
     "data": {
      "text/html": [
       "Run data is saved locally in <code>/net/fs-2/scale/OrionStore/Home/joteklem/Pytorch_models/wandb/run-20240419_193535-9u3eu6bh</code>"
      ],
      "text/plain": [
       "<IPython.core.display.HTML object>"
      ]
     },
     "metadata": {},
     "output_type": "display_data"
    },
    {
     "data": {
      "text/html": [
       "Syncing run <strong><a href='https://wandb.ai/master-2024/MiniLM/runs/9u3eu6bh' target=\"_blank\">trial-4</a></strong> to <a href='https://wandb.ai/master-2024/MiniLM' target=\"_blank\">Weights & Biases</a> (<a href='https://wandb.me/run' target=\"_blank\">docs</a>)<br/>"
      ],
      "text/plain": [
       "<IPython.core.display.HTML object>"
      ]
     },
     "metadata": {},
     "output_type": "display_data"
    },
    {
     "data": {
      "text/html": [
       " View project at <a href='https://wandb.ai/master-2024/MiniLM' target=\"_blank\">https://wandb.ai/master-2024/MiniLM</a>"
      ],
      "text/plain": [
       "<IPython.core.display.HTML object>"
      ]
     },
     "metadata": {},
     "output_type": "display_data"
    },
    {
     "data": {
      "text/html": [
       " View run at <a href='https://wandb.ai/master-2024/MiniLM/runs/9u3eu6bh' target=\"_blank\">https://wandb.ai/master-2024/MiniLM/runs/9u3eu6bh</a>"
      ],
      "text/plain": [
       "<IPython.core.display.HTML object>"
      ]
     },
     "metadata": {},
     "output_type": "display_data"
    },
    {
     "name": "stderr",
     "output_type": "stream",
     "text": [
      "/net/fs-2/scale/OrionStore/Scratch/joteklem/MyCondaEnvironments/Python3.11/orion_env/lib/python3.11/site-packages/accelerate/accelerator.py:432: FutureWarning: Passing the following arguments to `Accelerator` is deprecated and will be removed in version 1.0 of Accelerate: dict_keys(['dispatch_batches', 'split_batches', 'even_batches', 'use_seedable_sampler']). Please pass an `accelerate.DataLoaderConfiguration` instead: \n",
      "dataloader_config = DataLoaderConfiguration(dispatch_batches=None, split_batches=False, even_batches=True, use_seedable_sampler=True)\n",
      "  warnings.warn(\n",
      "Detected kernel version 3.10.0, which is below the recommended minimum of 5.5.0; this can cause the process to hang. It is recommended to upgrade the kernel to the minimum version or higher.\n"
     ]
    },
    {
     "name": "stdout",
     "output_type": "stream",
     "text": [
      "Starting trial 4\n"
     ]
    },
    {
     "data": {
      "text/html": [
       "\n",
       "    <div>\n",
       "      \n",
       "      <progress value='314' max='314' style='width:300px; height:20px; vertical-align: middle;'></progress>\n",
       "      [314/314 00:19, Epoch 1/2]\n",
       "    </div>\n",
       "    <table border=\"1\" class=\"dataframe\">\n",
       "  <thead>\n",
       " <tr style=\"text-align: left;\">\n",
       "      <th>Epoch</th>\n",
       "      <th>Training Loss</th>\n",
       "      <th>Validation Loss</th>\n",
       "      <th>Accuracy</th>\n",
       "      <th>Balanced accuracy</th>\n",
       "      <th>F1 weighted</th>\n",
       "      <th>F1 macro</th>\n",
       "      <th>F1 micro</th>\n",
       "      <th>Classification report</th>\n",
       "    </tr>\n",
       "  </thead>\n",
       "  <tbody>\n",
       "    <tr>\n",
       "      <td>0</td>\n",
       "      <td>No log</td>\n",
       "      <td>0.786007</td>\n",
       "      <td>0.639583</td>\n",
       "      <td>0.333333</td>\n",
       "      <td>0.498989</td>\n",
       "      <td>0.260059</td>\n",
       "      <td>0.639583</td>\n",
       "      <td>{'0': {'precision': 0.0, 'recall': 0.0, 'f1-score': 0.0, 'support': 898.0}, '1': {'precision': 0.6395833333333333, 'recall': 1.0, 'f1-score': 0.7801778907242692, 'support': 2149.0}, '2': {'precision': 0.0, 'recall': 0.0, 'f1-score': 0.0, 'support': 313.0}, 'accuracy': 0.6395833333333333, 'macro avg': {'precision': 0.21319444444444444, 'recall': 0.3333333333333333, 'f1-score': 0.26005929690808977, 'support': 3360.0}, 'weighted avg': {'precision': 0.40906684027777773, 'recall': 0.6395833333333333, 'f1-score': 0.49898877594239716, 'support': 3360.0}}</td>\n",
       "    </tr>\n",
       "    <tr>\n",
       "      <td>1</td>\n",
       "      <td>0.812100</td>\n",
       "      <td>0.630038</td>\n",
       "      <td>0.760417</td>\n",
       "      <td>0.577207</td>\n",
       "      <td>0.738477</td>\n",
       "      <td>0.618065</td>\n",
       "      <td>0.760417</td>\n",
       "      <td>{'0': {'precision': 0.7017001545595054, 'recall': 0.5055679287305123, 'f1-score': 0.5877022653721684, 'support': 898.0}, '1': {'precision': 0.7757622539560015, 'recall': 0.9353187529083294, 'f1-score': 0.8481012658227849, 'support': 2149.0}, '2': {'precision': 0.7459016393442623, 'recall': 0.29073482428115016, 'f1-score': 0.4183908045977012, 'support': 313.0}, 'accuracy': 0.7604166666666666, 'macro avg': {'precision': 0.7411213492865897, 'recall': 0.5772071686399972, 'f1-score': 0.6180647785975515, 'support': 3360.0}, 'weighted avg': {'precision': 0.7531866177561419, 'recall': 0.7604166666666666, 'f1-score': 0.7384769572608488, 'support': 3360.0}}</td>\n",
       "    </tr>\n",
       "  </tbody>\n",
       "</table><p>"
      ],
      "text/plain": [
       "<IPython.core.display.HTML object>"
      ]
     },
     "metadata": {},
     "output_type": "display_data"
    },
    {
     "data": {
      "text/html": [
       "\n",
       "    <div>\n",
       "      \n",
       "      <progress value='105' max='105' style='width:300px; height:20px; vertical-align: middle;'></progress>\n",
       "      [105/105 00:01]\n",
       "    </div>\n",
       "    "
      ],
      "text/plain": [
       "<IPython.core.display.HTML object>"
      ]
     },
     "metadata": {},
     "output_type": "display_data"
    },
    {
     "name": "stderr",
     "output_type": "stream",
     "text": [
      "/net/fs-2/scale/OrionStore/Scratch/joteklem/MyCondaEnvironments/Python3.11/orion_env/lib/python3.11/site-packages/optuna/trial/_trial.py:499: UserWarning: The reported value is ignored because this `step` 1.9936507936507937 is already reported.\n",
      "  warnings.warn(\n"
     ]
    },
    {
     "name": "stdout",
     "output_type": "stream",
     "text": [
      "Completed trial 4\n"
     ]
    },
    {
     "data": {
      "text/html": [
       "<style>\n",
       "    table.wandb td:nth-child(1) { padding: 0 10px; text-align: left ; width: auto;} td:nth-child(2) {text-align: left ; width: 100%}\n",
       "    .wandb-row { display: flex; flex-direction: row; flex-wrap: wrap; justify-content: flex-start; width: 100% }\n",
       "    .wandb-col { display: flex; flex-direction: column; flex-basis: 100%; flex: 1; padding: 10px; }\n",
       "    </style>\n",
       "<div class=\"wandb-row\"><div class=\"wandb-col\"><h3>Run history:</h3><br/><table class=\"wandb\"><tr><td>Training loss</td><td>▁</td></tr><tr><td>Validation loss</td><td>▁</td></tr><tr><td>eval/Accuracy</td><td>▁██</td></tr><tr><td>eval/Balanced accuracy</td><td>▁██</td></tr><tr><td>eval/F1 macro</td><td>▁██</td></tr><tr><td>eval/F1 micro</td><td>▁██</td></tr><tr><td>eval/F1 weighted</td><td>▁██</td></tr><tr><td>eval/loss</td><td>█▁▁</td></tr><tr><td>eval/runtime</td><td>█▁▁</td></tr><tr><td>eval/samples_per_second</td><td>▁██</td></tr><tr><td>eval/steps_per_second</td><td>▁██</td></tr><tr><td>macro F1 score</td><td>▁</td></tr><tr><td>train/epoch</td><td>▁████</td></tr><tr><td>train/global_step</td><td>▁██████</td></tr><tr><td>train/grad_norm</td><td>▁</td></tr><tr><td>train/learning_rate</td><td>▁</td></tr><tr><td>train/loss</td><td>▁</td></tr><tr><td>train/total_flos</td><td>▁</td></tr><tr><td>train/train_loss</td><td>▁</td></tr><tr><td>train/train_runtime</td><td>▁</td></tr><tr><td>train/train_samples_per_second</td><td>▁</td></tr><tr><td>train/train_steps_per_second</td><td>▁</td></tr></table><br/></div><div class=\"wandb-col\"><h3>Run summary:</h3><br/><table class=\"wandb\"><tr><td>Training loss</td><td>0.8121</td></tr><tr><td>Validation loss</td><td>0.78601</td></tr><tr><td>eval/Accuracy</td><td>0.76042</td></tr><tr><td>eval/Balanced accuracy</td><td>0.57721</td></tr><tr><td>eval/F1 macro</td><td>0.61806</td></tr><tr><td>eval/F1 micro</td><td>0.76042</td></tr><tr><td>eval/F1 weighted</td><td>0.73848</td></tr><tr><td>eval/loss</td><td>0.63004</td></tr><tr><td>eval/runtime</td><td>1.0451</td></tr><tr><td>eval/samples_per_second</td><td>3215.15</td></tr><tr><td>eval/steps_per_second</td><td>100.473</td></tr><tr><td>macro F1 score</td><td>0.61806</td></tr><tr><td>train/epoch</td><td>1.99</td></tr><tr><td>train/global_step</td><td>314</td></tr><tr><td>train/grad_norm</td><td>1.5731</td></tr><tr><td>train/learning_rate</td><td>0.0</td></tr><tr><td>train/loss</td><td>0.8121</td></tr><tr><td>train/total_flos</td><td>106451016759216.0</td></tr><tr><td>train/train_loss</td><td>0.81214</td></tr><tr><td>train/train_runtime</td><td>19.2861</td></tr><tr><td>train/train_samples_per_second</td><td>1045.104</td></tr><tr><td>train/train_steps_per_second</td><td>16.281</td></tr></table><br/></div></div>"
      ],
      "text/plain": [
       "<IPython.core.display.HTML object>"
      ]
     },
     "metadata": {},
     "output_type": "display_data"
    },
    {
     "data": {
      "text/html": [
       " View run <strong style=\"color:#cdcd00\">trial-4</strong> at: <a href='https://wandb.ai/master-2024/MiniLM/runs/9u3eu6bh' target=\"_blank\">https://wandb.ai/master-2024/MiniLM/runs/9u3eu6bh</a><br/>Synced 5 W&B file(s), 0 media file(s), 0 artifact file(s) and 0 other file(s)"
      ],
      "text/plain": [
       "<IPython.core.display.HTML object>"
      ]
     },
     "metadata": {},
     "output_type": "display_data"
    },
    {
     "data": {
      "text/html": [
       "Find logs at: <code>./wandb/run-20240419_193535-9u3eu6bh/logs</code>"
      ],
      "text/plain": [
       "<IPython.core.display.HTML object>"
      ]
     },
     "metadata": {},
     "output_type": "display_data"
    },
    {
     "name": "stderr",
     "output_type": "stream",
     "text": [
      "[I 2024-04-19 19:36:26,030] Trial 4 finished with value: 0.6180647785975515 and parameters: {'learning_rate': 1.7541893487450798e-05, 'per_device_train_batch_size': 32, 'weight_decay': 0.07763399448000508, 'num_train_epochs': 2, 'warmup_steps': 92}. Best is trial 0 with value: 0.7522588907564494.\n"
     ]
    },
    {
     "data": {
      "text/html": [
       "wandb version 0.16.6 is available!  To upgrade, please run:\n",
       " $ pip install wandb --upgrade"
      ],
      "text/plain": [
       "<IPython.core.display.HTML object>"
      ]
     },
     "metadata": {},
     "output_type": "display_data"
    },
    {
     "data": {
      "text/html": [
       "Tracking run with wandb version 0.16.4"
      ],
      "text/plain": [
       "<IPython.core.display.HTML object>"
      ]
     },
     "metadata": {},
     "output_type": "display_data"
    },
    {
     "data": {
      "text/html": [
       "Run data is saved locally in <code>/net/fs-2/scale/OrionStore/Home/joteklem/Pytorch_models/wandb/run-20240419_193626-ndr1n5fb</code>"
      ],
      "text/plain": [
       "<IPython.core.display.HTML object>"
      ]
     },
     "metadata": {},
     "output_type": "display_data"
    },
    {
     "data": {
      "text/html": [
       "Syncing run <strong><a href='https://wandb.ai/master-2024/MiniLM/runs/ndr1n5fb' target=\"_blank\">trial-5</a></strong> to <a href='https://wandb.ai/master-2024/MiniLM' target=\"_blank\">Weights & Biases</a> (<a href='https://wandb.me/run' target=\"_blank\">docs</a>)<br/>"
      ],
      "text/plain": [
       "<IPython.core.display.HTML object>"
      ]
     },
     "metadata": {},
     "output_type": "display_data"
    },
    {
     "data": {
      "text/html": [
       " View project at <a href='https://wandb.ai/master-2024/MiniLM' target=\"_blank\">https://wandb.ai/master-2024/MiniLM</a>"
      ],
      "text/plain": [
       "<IPython.core.display.HTML object>"
      ]
     },
     "metadata": {},
     "output_type": "display_data"
    },
    {
     "data": {
      "text/html": [
       " View run at <a href='https://wandb.ai/master-2024/MiniLM/runs/ndr1n5fb' target=\"_blank\">https://wandb.ai/master-2024/MiniLM/runs/ndr1n5fb</a>"
      ],
      "text/plain": [
       "<IPython.core.display.HTML object>"
      ]
     },
     "metadata": {},
     "output_type": "display_data"
    },
    {
     "name": "stderr",
     "output_type": "stream",
     "text": [
      "/net/fs-2/scale/OrionStore/Scratch/joteklem/MyCondaEnvironments/Python3.11/orion_env/lib/python3.11/site-packages/accelerate/accelerator.py:432: FutureWarning: Passing the following arguments to `Accelerator` is deprecated and will be removed in version 1.0 of Accelerate: dict_keys(['dispatch_batches', 'split_batches', 'even_batches', 'use_seedable_sampler']). Please pass an `accelerate.DataLoaderConfiguration` instead: \n",
      "dataloader_config = DataLoaderConfiguration(dispatch_batches=None, split_batches=False, even_batches=True, use_seedable_sampler=True)\n",
      "  warnings.warn(\n",
      "Detected kernel version 3.10.0, which is below the recommended minimum of 5.5.0; this can cause the process to hang. It is recommended to upgrade the kernel to the minimum version or higher.\n"
     ]
    },
    {
     "name": "stdout",
     "output_type": "stream",
     "text": [
      "Starting trial 5\n"
     ]
    },
    {
     "data": {
      "text/html": [
       "\n",
       "    <div>\n",
       "      \n",
       "      <progress value='316' max='630' style='width:300px; height:20px; vertical-align: middle;'></progress>\n",
       "      [315/630 00:15 < 00:15, 20.10 it/s, Epoch 1.00/2]\n",
       "    </div>\n",
       "    <table border=\"1\" class=\"dataframe\">\n",
       "  <thead>\n",
       " <tr style=\"text-align: left;\">\n",
       "      <th>Epoch</th>\n",
       "      <th>Training Loss</th>\n",
       "      <th>Validation Loss</th>\n",
       "    </tr>\n",
       "  </thead>\n",
       "  <tbody>\n",
       "  </tbody>\n",
       "</table><p>\n",
       "    <div>\n",
       "      \n",
       "      <progress value='210' max='210' style='width:300px; height:20px; vertical-align: middle;'></progress>\n",
       "      [210/210 00:01]\n",
       "    </div>\n",
       "    "
      ],
      "text/plain": [
       "<IPython.core.display.HTML object>"
      ]
     },
     "metadata": {},
     "output_type": "display_data"
    },
    {
     "name": "stderr",
     "output_type": "stream",
     "text": [
      "[I 2024-04-19 19:36:47,361] Trial 5 pruned. \n"
     ]
    },
    {
     "data": {
      "text/html": [
       "Finishing last run (ID:ndr1n5fb) before initializing another..."
      ],
      "text/plain": [
       "<IPython.core.display.HTML object>"
      ]
     },
     "metadata": {},
     "output_type": "display_data"
    },
    {
     "data": {
      "text/html": [
       "<style>\n",
       "    table.wandb td:nth-child(1) { padding: 0 10px; text-align: left ; width: auto;} td:nth-child(2) {text-align: left ; width: 100%}\n",
       "    .wandb-row { display: flex; flex-direction: row; flex-wrap: wrap; justify-content: flex-start; width: 100% }\n",
       "    .wandb-col { display: flex; flex-direction: column; flex-basis: 100%; flex: 1; padding: 10px; }\n",
       "    </style>\n",
       "<div class=\"wandb-row\"><div class=\"wandb-col\"><h3>Run history:</h3><br/><table class=\"wandb\"><tr><td>eval/Accuracy</td><td>▁</td></tr><tr><td>eval/Balanced accuracy</td><td>▁</td></tr><tr><td>eval/F1 macro</td><td>▁</td></tr><tr><td>eval/F1 micro</td><td>▁</td></tr><tr><td>eval/F1 weighted</td><td>▁</td></tr><tr><td>eval/loss</td><td>▁</td></tr><tr><td>eval/runtime</td><td>▁</td></tr><tr><td>eval/samples_per_second</td><td>▁</td></tr><tr><td>eval/steps_per_second</td><td>▁</td></tr><tr><td>train/epoch</td><td>▁</td></tr><tr><td>train/global_step</td><td>▁</td></tr></table><br/></div><div class=\"wandb-col\"><h3>Run summary:</h3><br/><table class=\"wandb\"><tr><td>eval/Accuracy</td><td>0.74048</td></tr><tr><td>eval/Balanced accuracy</td><td>0.473</td></tr><tr><td>eval/F1 macro</td><td>0.4706</td></tr><tr><td>eval/F1 micro</td><td>0.74048</td></tr><tr><td>eval/F1 weighted</td><td>0.6866</td></tr><tr><td>eval/loss</td><td>0.66985</td></tr><tr><td>eval/runtime</td><td>1.5613</td></tr><tr><td>eval/samples_per_second</td><td>2152.069</td></tr><tr><td>eval/steps_per_second</td><td>134.504</td></tr><tr><td>train/epoch</td><td>1.0</td></tr><tr><td>train/global_step</td><td>315</td></tr></table><br/></div></div>"
      ],
      "text/plain": [
       "<IPython.core.display.HTML object>"
      ]
     },
     "metadata": {},
     "output_type": "display_data"
    },
    {
     "data": {
      "text/html": [
       " View run <strong style=\"color:#cdcd00\">trial-5</strong> at: <a href='https://wandb.ai/master-2024/MiniLM/runs/ndr1n5fb' target=\"_blank\">https://wandb.ai/master-2024/MiniLM/runs/ndr1n5fb</a><br/>Synced 5 W&B file(s), 0 media file(s), 0 artifact file(s) and 0 other file(s)"
      ],
      "text/plain": [
       "<IPython.core.display.HTML object>"
      ]
     },
     "metadata": {},
     "output_type": "display_data"
    },
    {
     "data": {
      "text/html": [
       "Find logs at: <code>./wandb/run-20240419_193626-ndr1n5fb/logs</code>"
      ],
      "text/plain": [
       "<IPython.core.display.HTML object>"
      ]
     },
     "metadata": {},
     "output_type": "display_data"
    },
    {
     "data": {
      "text/html": [
       "Successfully finished last run (ID:ndr1n5fb). Initializing new run:<br/>"
      ],
      "text/plain": [
       "<IPython.core.display.HTML object>"
      ]
     },
     "metadata": {},
     "output_type": "display_data"
    },
    {
     "data": {
      "text/html": [
       "wandb version 0.16.6 is available!  To upgrade, please run:\n",
       " $ pip install wandb --upgrade"
      ],
      "text/plain": [
       "<IPython.core.display.HTML object>"
      ]
     },
     "metadata": {},
     "output_type": "display_data"
    },
    {
     "data": {
      "text/html": [
       "Tracking run with wandb version 0.16.4"
      ],
      "text/plain": [
       "<IPython.core.display.HTML object>"
      ]
     },
     "metadata": {},
     "output_type": "display_data"
    },
    {
     "data": {
      "text/html": [
       "Run data is saved locally in <code>/net/fs-2/scale/OrionStore/Home/joteklem/Pytorch_models/wandb/run-20240419_193647-wnn2piqs</code>"
      ],
      "text/plain": [
       "<IPython.core.display.HTML object>"
      ]
     },
     "metadata": {},
     "output_type": "display_data"
    },
    {
     "data": {
      "text/html": [
       "Syncing run <strong><a href='https://wandb.ai/master-2024/MiniLM/runs/wnn2piqs' target=\"_blank\">trial-6</a></strong> to <a href='https://wandb.ai/master-2024/MiniLM' target=\"_blank\">Weights & Biases</a> (<a href='https://wandb.me/run' target=\"_blank\">docs</a>)<br/>"
      ],
      "text/plain": [
       "<IPython.core.display.HTML object>"
      ]
     },
     "metadata": {},
     "output_type": "display_data"
    },
    {
     "data": {
      "text/html": [
       " View project at <a href='https://wandb.ai/master-2024/MiniLM' target=\"_blank\">https://wandb.ai/master-2024/MiniLM</a>"
      ],
      "text/plain": [
       "<IPython.core.display.HTML object>"
      ]
     },
     "metadata": {},
     "output_type": "display_data"
    },
    {
     "data": {
      "text/html": [
       " View run at <a href='https://wandb.ai/master-2024/MiniLM/runs/wnn2piqs' target=\"_blank\">https://wandb.ai/master-2024/MiniLM/runs/wnn2piqs</a>"
      ],
      "text/plain": [
       "<IPython.core.display.HTML object>"
      ]
     },
     "metadata": {},
     "output_type": "display_data"
    },
    {
     "name": "stdout",
     "output_type": "stream",
     "text": [
      "Starting trial 6\n"
     ]
    },
    {
     "name": "stderr",
     "output_type": "stream",
     "text": [
      "/net/fs-2/scale/OrionStore/Scratch/joteklem/MyCondaEnvironments/Python3.11/orion_env/lib/python3.11/site-packages/accelerate/accelerator.py:432: FutureWarning: Passing the following arguments to `Accelerator` is deprecated and will be removed in version 1.0 of Accelerate: dict_keys(['dispatch_batches', 'split_batches', 'even_batches', 'use_seedable_sampler']). Please pass an `accelerate.DataLoaderConfiguration` instead: \n",
      "dataloader_config = DataLoaderConfiguration(dispatch_batches=None, split_batches=False, even_batches=True, use_seedable_sampler=True)\n",
      "  warnings.warn(\n",
      "Detected kernel version 3.10.0, which is below the recommended minimum of 5.5.0; this can cause the process to hang. It is recommended to upgrade the kernel to the minimum version or higher.\n"
     ]
    },
    {
     "data": {
      "text/html": [
       "\n",
       "    <div>\n",
       "      \n",
       "      <progress value='316' max='1260' style='width:300px; height:20px; vertical-align: middle;'></progress>\n",
       "      [ 313/1260 00:14 < 00:45, 20.81 it/s, Epoch 0.99/4]\n",
       "    </div>\n",
       "    <table border=\"1\" class=\"dataframe\">\n",
       "  <thead>\n",
       " <tr style=\"text-align: left;\">\n",
       "      <th>Epoch</th>\n",
       "      <th>Training Loss</th>\n",
       "      <th>Validation Loss</th>\n",
       "    </tr>\n",
       "  </thead>\n",
       "  <tbody>\n",
       "  </tbody>\n",
       "</table><p>\n",
       "    <div>\n",
       "      \n",
       "      <progress value='210' max='210' style='width:300px; height:20px; vertical-align: middle;'></progress>\n",
       "      [210/210 00:01]\n",
       "    </div>\n",
       "    "
      ],
      "text/plain": [
       "<IPython.core.display.HTML object>"
      ]
     },
     "metadata": {},
     "output_type": "display_data"
    },
    {
     "name": "stderr",
     "output_type": "stream",
     "text": [
      "[I 2024-04-19 19:37:11,836] Trial 6 pruned. \n"
     ]
    },
    {
     "data": {
      "text/html": [
       "Finishing last run (ID:wnn2piqs) before initializing another..."
      ],
      "text/plain": [
       "<IPython.core.display.HTML object>"
      ]
     },
     "metadata": {},
     "output_type": "display_data"
    },
    {
     "data": {
      "text/html": [
       "<style>\n",
       "    table.wandb td:nth-child(1) { padding: 0 10px; text-align: left ; width: auto;} td:nth-child(2) {text-align: left ; width: 100%}\n",
       "    .wandb-row { display: flex; flex-direction: row; flex-wrap: wrap; justify-content: flex-start; width: 100% }\n",
       "    .wandb-col { display: flex; flex-direction: column; flex-basis: 100%; flex: 1; padding: 10px; }\n",
       "    </style>\n",
       "<div class=\"wandb-row\"><div class=\"wandb-col\"><h3>Run history:</h3><br/><table class=\"wandb\"><tr><td>eval/Accuracy</td><td>▁</td></tr><tr><td>eval/Balanced accuracy</td><td>▁</td></tr><tr><td>eval/F1 macro</td><td>▁</td></tr><tr><td>eval/F1 micro</td><td>▁</td></tr><tr><td>eval/F1 weighted</td><td>▁</td></tr><tr><td>eval/loss</td><td>▁</td></tr><tr><td>eval/runtime</td><td>▁</td></tr><tr><td>eval/samples_per_second</td><td>▁</td></tr><tr><td>eval/steps_per_second</td><td>▁</td></tr><tr><td>train/epoch</td><td>▁</td></tr><tr><td>train/global_step</td><td>▁</td></tr></table><br/></div><div class=\"wandb-col\"><h3>Run summary:</h3><br/><table class=\"wandb\"><tr><td>eval/Accuracy</td><td>0.77887</td></tr><tr><td>eval/Balanced accuracy</td><td>0.60482</td></tr><tr><td>eval/F1 macro</td><td>0.65107</td></tr><tr><td>eval/F1 micro</td><td>0.77887</td></tr><tr><td>eval/F1 weighted</td><td>0.75669</td></tr><tr><td>eval/loss</td><td>0.58231</td></tr><tr><td>eval/runtime</td><td>1.5561</td></tr><tr><td>eval/samples_per_second</td><td>2159.203</td></tr><tr><td>eval/steps_per_second</td><td>134.95</td></tr><tr><td>train/epoch</td><td>1.0</td></tr><tr><td>train/global_step</td><td>315</td></tr></table><br/></div></div>"
      ],
      "text/plain": [
       "<IPython.core.display.HTML object>"
      ]
     },
     "metadata": {},
     "output_type": "display_data"
    },
    {
     "data": {
      "text/html": [
       " View run <strong style=\"color:#cdcd00\">trial-6</strong> at: <a href='https://wandb.ai/master-2024/MiniLM/runs/wnn2piqs' target=\"_blank\">https://wandb.ai/master-2024/MiniLM/runs/wnn2piqs</a><br/>Synced 5 W&B file(s), 0 media file(s), 0 artifact file(s) and 0 other file(s)"
      ],
      "text/plain": [
       "<IPython.core.display.HTML object>"
      ]
     },
     "metadata": {},
     "output_type": "display_data"
    },
    {
     "data": {
      "text/html": [
       "Find logs at: <code>./wandb/run-20240419_193647-wnn2piqs/logs</code>"
      ],
      "text/plain": [
       "<IPython.core.display.HTML object>"
      ]
     },
     "metadata": {},
     "output_type": "display_data"
    },
    {
     "data": {
      "text/html": [
       "Successfully finished last run (ID:wnn2piqs). Initializing new run:<br/>"
      ],
      "text/plain": [
       "<IPython.core.display.HTML object>"
      ]
     },
     "metadata": {},
     "output_type": "display_data"
    },
    {
     "data": {
      "text/html": [
       "wandb version 0.16.6 is available!  To upgrade, please run:\n",
       " $ pip install wandb --upgrade"
      ],
      "text/plain": [
       "<IPython.core.display.HTML object>"
      ]
     },
     "metadata": {},
     "output_type": "display_data"
    },
    {
     "data": {
      "text/html": [
       "Tracking run with wandb version 0.16.4"
      ],
      "text/plain": [
       "<IPython.core.display.HTML object>"
      ]
     },
     "metadata": {},
     "output_type": "display_data"
    },
    {
     "data": {
      "text/html": [
       "Run data is saved locally in <code>/net/fs-2/scale/OrionStore/Home/joteklem/Pytorch_models/wandb/run-20240419_193711-17pb29ay</code>"
      ],
      "text/plain": [
       "<IPython.core.display.HTML object>"
      ]
     },
     "metadata": {},
     "output_type": "display_data"
    },
    {
     "data": {
      "text/html": [
       "Syncing run <strong><a href='https://wandb.ai/master-2024/MiniLM/runs/17pb29ay' target=\"_blank\">trial-7</a></strong> to <a href='https://wandb.ai/master-2024/MiniLM' target=\"_blank\">Weights & Biases</a> (<a href='https://wandb.me/run' target=\"_blank\">docs</a>)<br/>"
      ],
      "text/plain": [
       "<IPython.core.display.HTML object>"
      ]
     },
     "metadata": {},
     "output_type": "display_data"
    },
    {
     "data": {
      "text/html": [
       " View project at <a href='https://wandb.ai/master-2024/MiniLM' target=\"_blank\">https://wandb.ai/master-2024/MiniLM</a>"
      ],
      "text/plain": [
       "<IPython.core.display.HTML object>"
      ]
     },
     "metadata": {},
     "output_type": "display_data"
    },
    {
     "data": {
      "text/html": [
       " View run at <a href='https://wandb.ai/master-2024/MiniLM/runs/17pb29ay' target=\"_blank\">https://wandb.ai/master-2024/MiniLM/runs/17pb29ay</a>"
      ],
      "text/plain": [
       "<IPython.core.display.HTML object>"
      ]
     },
     "metadata": {},
     "output_type": "display_data"
    },
    {
     "name": "stderr",
     "output_type": "stream",
     "text": [
      "/net/fs-2/scale/OrionStore/Scratch/joteklem/MyCondaEnvironments/Python3.11/orion_env/lib/python3.11/site-packages/accelerate/accelerator.py:432: FutureWarning: Passing the following arguments to `Accelerator` is deprecated and will be removed in version 1.0 of Accelerate: dict_keys(['dispatch_batches', 'split_batches', 'even_batches', 'use_seedable_sampler']). Please pass an `accelerate.DataLoaderConfiguration` instead: \n",
      "dataloader_config = DataLoaderConfiguration(dispatch_batches=None, split_batches=False, even_batches=True, use_seedable_sampler=True)\n",
      "  warnings.warn(\n",
      "Detected kernel version 3.10.0, which is below the recommended minimum of 5.5.0; this can cause the process to hang. It is recommended to upgrade the kernel to the minimum version or higher.\n"
     ]
    },
    {
     "name": "stdout",
     "output_type": "stream",
     "text": [
      "Starting trial 7\n"
     ]
    },
    {
     "data": {
      "text/html": [
       "\n",
       "    <div>\n",
       "      \n",
       "      <progress value='158' max='471' style='width:300px; height:20px; vertical-align: middle;'></progress>\n",
       "      [158/471 00:08 < 00:17, 17.49 it/s, Epoch 1.00/3]\n",
       "    </div>\n",
       "    <table border=\"1\" class=\"dataframe\">\n",
       "  <thead>\n",
       " <tr style=\"text-align: left;\">\n",
       "      <th>Epoch</th>\n",
       "      <th>Training Loss</th>\n",
       "      <th>Validation Loss</th>\n",
       "    </tr>\n",
       "  </thead>\n",
       "  <tbody>\n",
       "  </tbody>\n",
       "</table><p>\n",
       "    <div>\n",
       "      \n",
       "      <progress value='105' max='105' style='width:300px; height:20px; vertical-align: middle;'></progress>\n",
       "      [105/105 00:00]\n",
       "    </div>\n",
       "    "
      ],
      "text/plain": [
       "<IPython.core.display.HTML object>"
      ]
     },
     "metadata": {},
     "output_type": "display_data"
    },
    {
     "name": "stderr",
     "output_type": "stream",
     "text": [
      "[I 2024-04-19 19:37:29,612] Trial 7 pruned. \n"
     ]
    },
    {
     "data": {
      "text/html": [
       "Finishing last run (ID:17pb29ay) before initializing another..."
      ],
      "text/plain": [
       "<IPython.core.display.HTML object>"
      ]
     },
     "metadata": {},
     "output_type": "display_data"
    },
    {
     "data": {
      "text/html": [
       "<style>\n",
       "    table.wandb td:nth-child(1) { padding: 0 10px; text-align: left ; width: auto;} td:nth-child(2) {text-align: left ; width: 100%}\n",
       "    .wandb-row { display: flex; flex-direction: row; flex-wrap: wrap; justify-content: flex-start; width: 100% }\n",
       "    .wandb-col { display: flex; flex-direction: column; flex-basis: 100%; flex: 1; padding: 10px; }\n",
       "    </style>\n",
       "<div class=\"wandb-row\"><div class=\"wandb-col\"><h3>Run history:</h3><br/><table class=\"wandb\"><tr><td>eval/Accuracy</td><td>▁</td></tr><tr><td>eval/Balanced accuracy</td><td>▁</td></tr><tr><td>eval/F1 macro</td><td>▁</td></tr><tr><td>eval/F1 micro</td><td>▁</td></tr><tr><td>eval/F1 weighted</td><td>▁</td></tr><tr><td>eval/loss</td><td>▁</td></tr><tr><td>eval/runtime</td><td>▁</td></tr><tr><td>eval/samples_per_second</td><td>▁</td></tr><tr><td>eval/steps_per_second</td><td>▁</td></tr><tr><td>train/epoch</td><td>▁</td></tr><tr><td>train/global_step</td><td>▁</td></tr></table><br/></div><div class=\"wandb-col\"><h3>Run summary:</h3><br/><table class=\"wandb\"><tr><td>eval/Accuracy</td><td>0.7506</td></tr><tr><td>eval/Balanced accuracy</td><td>0.50226</td></tr><tr><td>eval/F1 macro</td><td>0.48362</td></tr><tr><td>eval/F1 micro</td><td>0.7506</td></tr><tr><td>eval/F1 weighted</td><td>0.70835</td></tr><tr><td>eval/loss</td><td>0.61959</td></tr><tr><td>eval/runtime</td><td>1.0134</td></tr><tr><td>eval/samples_per_second</td><td>3315.572</td></tr><tr><td>eval/steps_per_second</td><td>103.612</td></tr><tr><td>train/epoch</td><td>1.0</td></tr><tr><td>train/global_step</td><td>157</td></tr></table><br/></div></div>"
      ],
      "text/plain": [
       "<IPython.core.display.HTML object>"
      ]
     },
     "metadata": {},
     "output_type": "display_data"
    },
    {
     "data": {
      "text/html": [
       " View run <strong style=\"color:#cdcd00\">trial-7</strong> at: <a href='https://wandb.ai/master-2024/MiniLM/runs/17pb29ay' target=\"_blank\">https://wandb.ai/master-2024/MiniLM/runs/17pb29ay</a><br/>Synced 5 W&B file(s), 0 media file(s), 0 artifact file(s) and 0 other file(s)"
      ],
      "text/plain": [
       "<IPython.core.display.HTML object>"
      ]
     },
     "metadata": {},
     "output_type": "display_data"
    },
    {
     "data": {
      "text/html": [
       "Find logs at: <code>./wandb/run-20240419_193711-17pb29ay/logs</code>"
      ],
      "text/plain": [
       "<IPython.core.display.HTML object>"
      ]
     },
     "metadata": {},
     "output_type": "display_data"
    },
    {
     "data": {
      "text/html": [
       "Successfully finished last run (ID:17pb29ay). Initializing new run:<br/>"
      ],
      "text/plain": [
       "<IPython.core.display.HTML object>"
      ]
     },
     "metadata": {},
     "output_type": "display_data"
    },
    {
     "data": {
      "text/html": [
       "wandb version 0.16.6 is available!  To upgrade, please run:\n",
       " $ pip install wandb --upgrade"
      ],
      "text/plain": [
       "<IPython.core.display.HTML object>"
      ]
     },
     "metadata": {},
     "output_type": "display_data"
    },
    {
     "data": {
      "text/html": [
       "Tracking run with wandb version 0.16.4"
      ],
      "text/plain": [
       "<IPython.core.display.HTML object>"
      ]
     },
     "metadata": {},
     "output_type": "display_data"
    },
    {
     "data": {
      "text/html": [
       "Run data is saved locally in <code>/net/fs-2/scale/OrionStore/Home/joteklem/Pytorch_models/wandb/run-20240419_193729-pljqslyp</code>"
      ],
      "text/plain": [
       "<IPython.core.display.HTML object>"
      ]
     },
     "metadata": {},
     "output_type": "display_data"
    },
    {
     "data": {
      "text/html": [
       "Syncing run <strong><a href='https://wandb.ai/master-2024/MiniLM/runs/pljqslyp' target=\"_blank\">trial-8</a></strong> to <a href='https://wandb.ai/master-2024/MiniLM' target=\"_blank\">Weights & Biases</a> (<a href='https://wandb.me/run' target=\"_blank\">docs</a>)<br/>"
      ],
      "text/plain": [
       "<IPython.core.display.HTML object>"
      ]
     },
     "metadata": {},
     "output_type": "display_data"
    },
    {
     "data": {
      "text/html": [
       " View project at <a href='https://wandb.ai/master-2024/MiniLM' target=\"_blank\">https://wandb.ai/master-2024/MiniLM</a>"
      ],
      "text/plain": [
       "<IPython.core.display.HTML object>"
      ]
     },
     "metadata": {},
     "output_type": "display_data"
    },
    {
     "data": {
      "text/html": [
       " View run at <a href='https://wandb.ai/master-2024/MiniLM/runs/pljqslyp' target=\"_blank\">https://wandb.ai/master-2024/MiniLM/runs/pljqslyp</a>"
      ],
      "text/plain": [
       "<IPython.core.display.HTML object>"
      ]
     },
     "metadata": {},
     "output_type": "display_data"
    },
    {
     "name": "stderr",
     "output_type": "stream",
     "text": [
      "/net/fs-2/scale/OrionStore/Scratch/joteklem/MyCondaEnvironments/Python3.11/orion_env/lib/python3.11/site-packages/accelerate/accelerator.py:432: FutureWarning: Passing the following arguments to `Accelerator` is deprecated and will be removed in version 1.0 of Accelerate: dict_keys(['dispatch_batches', 'split_batches', 'even_batches', 'use_seedable_sampler']). Please pass an `accelerate.DataLoaderConfiguration` instead: \n",
      "dataloader_config = DataLoaderConfiguration(dispatch_batches=None, split_batches=False, even_batches=True, use_seedable_sampler=True)\n",
      "  warnings.warn(\n",
      "Detected kernel version 3.10.0, which is below the recommended minimum of 5.5.0; this can cause the process to hang. It is recommended to upgrade the kernel to the minimum version or higher.\n"
     ]
    },
    {
     "name": "stdout",
     "output_type": "stream",
     "text": [
      "Starting trial 8\n"
     ]
    },
    {
     "data": {
      "text/html": [
       "\n",
       "    <div>\n",
       "      \n",
       "      <progress value='631' max='3150' style='width:300px; height:20px; vertical-align: middle;'></progress>\n",
       "      [ 631/3150 00:32 < 02:10, 19.29 it/s, Epoch 1/5]\n",
       "    </div>\n",
       "    <table border=\"1\" class=\"dataframe\">\n",
       "  <thead>\n",
       " <tr style=\"text-align: left;\">\n",
       "      <th>Epoch</th>\n",
       "      <th>Training Loss</th>\n",
       "      <th>Validation Loss</th>\n",
       "    </tr>\n",
       "  </thead>\n",
       "  <tbody>\n",
       "  </tbody>\n",
       "</table><p>\n",
       "    <div>\n",
       "      \n",
       "      <progress value='420' max='420' style='width:300px; height:20px; vertical-align: middle;'></progress>\n",
       "      [420/420 00:02]\n",
       "    </div>\n",
       "    "
      ],
      "text/plain": [
       "<IPython.core.display.HTML object>"
      ]
     },
     "metadata": {},
     "output_type": "display_data"
    },
    {
     "name": "stderr",
     "output_type": "stream",
     "text": [
      "[I 2024-04-19 19:38:14,610] Trial 8 pruned. \n"
     ]
    },
    {
     "data": {
      "text/html": [
       "Finishing last run (ID:pljqslyp) before initializing another..."
      ],
      "text/plain": [
       "<IPython.core.display.HTML object>"
      ]
     },
     "metadata": {},
     "output_type": "display_data"
    },
    {
     "data": {
      "text/html": [
       "<style>\n",
       "    table.wandb td:nth-child(1) { padding: 0 10px; text-align: left ; width: auto;} td:nth-child(2) {text-align: left ; width: 100%}\n",
       "    .wandb-row { display: flex; flex-direction: row; flex-wrap: wrap; justify-content: flex-start; width: 100% }\n",
       "    .wandb-col { display: flex; flex-direction: column; flex-basis: 100%; flex: 1; padding: 10px; }\n",
       "    </style>\n",
       "<div class=\"wandb-row\"><div class=\"wandb-col\"><h3>Run history:</h3><br/><table class=\"wandb\"><tr><td>eval/Accuracy</td><td>▁</td></tr><tr><td>eval/Balanced accuracy</td><td>▁</td></tr><tr><td>eval/F1 macro</td><td>▁</td></tr><tr><td>eval/F1 micro</td><td>▁</td></tr><tr><td>eval/F1 weighted</td><td>▁</td></tr><tr><td>eval/loss</td><td>▁</td></tr><tr><td>eval/runtime</td><td>▁</td></tr><tr><td>eval/samples_per_second</td><td>▁</td></tr><tr><td>eval/steps_per_second</td><td>▁</td></tr><tr><td>train/epoch</td><td>▁</td></tr><tr><td>train/global_step</td><td>▁</td></tr></table><br/></div><div class=\"wandb-col\"><h3>Run summary:</h3><br/><table class=\"wandb\"><tr><td>eval/Accuracy</td><td>0.74464</td></tr><tr><td>eval/Balanced accuracy</td><td>0.47776</td></tr><tr><td>eval/F1 macro</td><td>0.4755</td></tr><tr><td>eval/F1 micro</td><td>0.74464</td></tr><tr><td>eval/F1 weighted</td><td>0.69163</td></tr><tr><td>eval/loss</td><td>0.74856</td></tr><tr><td>eval/runtime</td><td>2.8373</td></tr><tr><td>eval/samples_per_second</td><td>1184.232</td></tr><tr><td>eval/steps_per_second</td><td>148.029</td></tr><tr><td>train/epoch</td><td>1.0</td></tr><tr><td>train/global_step</td><td>630</td></tr></table><br/></div></div>"
      ],
      "text/plain": [
       "<IPython.core.display.HTML object>"
      ]
     },
     "metadata": {},
     "output_type": "display_data"
    },
    {
     "data": {
      "text/html": [
       " View run <strong style=\"color:#cdcd00\">trial-8</strong> at: <a href='https://wandb.ai/master-2024/MiniLM/runs/pljqslyp' target=\"_blank\">https://wandb.ai/master-2024/MiniLM/runs/pljqslyp</a><br/>Synced 5 W&B file(s), 0 media file(s), 0 artifact file(s) and 0 other file(s)"
      ],
      "text/plain": [
       "<IPython.core.display.HTML object>"
      ]
     },
     "metadata": {},
     "output_type": "display_data"
    },
    {
     "data": {
      "text/html": [
       "Find logs at: <code>./wandb/run-20240419_193729-pljqslyp/logs</code>"
      ],
      "text/plain": [
       "<IPython.core.display.HTML object>"
      ]
     },
     "metadata": {},
     "output_type": "display_data"
    },
    {
     "data": {
      "text/html": [
       "Successfully finished last run (ID:pljqslyp). Initializing new run:<br/>"
      ],
      "text/plain": [
       "<IPython.core.display.HTML object>"
      ]
     },
     "metadata": {},
     "output_type": "display_data"
    },
    {
     "data": {
      "text/html": [
       "wandb version 0.16.6 is available!  To upgrade, please run:\n",
       " $ pip install wandb --upgrade"
      ],
      "text/plain": [
       "<IPython.core.display.HTML object>"
      ]
     },
     "metadata": {},
     "output_type": "display_data"
    },
    {
     "data": {
      "text/html": [
       "Tracking run with wandb version 0.16.4"
      ],
      "text/plain": [
       "<IPython.core.display.HTML object>"
      ]
     },
     "metadata": {},
     "output_type": "display_data"
    },
    {
     "data": {
      "text/html": [
       "Run data is saved locally in <code>/net/fs-2/scale/OrionStore/Home/joteklem/Pytorch_models/wandb/run-20240419_193814-nhnmjnyg</code>"
      ],
      "text/plain": [
       "<IPython.core.display.HTML object>"
      ]
     },
     "metadata": {},
     "output_type": "display_data"
    },
    {
     "data": {
      "text/html": [
       "Syncing run <strong><a href='https://wandb.ai/master-2024/MiniLM/runs/nhnmjnyg' target=\"_blank\">trial-9</a></strong> to <a href='https://wandb.ai/master-2024/MiniLM' target=\"_blank\">Weights & Biases</a> (<a href='https://wandb.me/run' target=\"_blank\">docs</a>)<br/>"
      ],
      "text/plain": [
       "<IPython.core.display.HTML object>"
      ]
     },
     "metadata": {},
     "output_type": "display_data"
    },
    {
     "data": {
      "text/html": [
       " View project at <a href='https://wandb.ai/master-2024/MiniLM' target=\"_blank\">https://wandb.ai/master-2024/MiniLM</a>"
      ],
      "text/plain": [
       "<IPython.core.display.HTML object>"
      ]
     },
     "metadata": {},
     "output_type": "display_data"
    },
    {
     "data": {
      "text/html": [
       " View run at <a href='https://wandb.ai/master-2024/MiniLM/runs/nhnmjnyg' target=\"_blank\">https://wandb.ai/master-2024/MiniLM/runs/nhnmjnyg</a>"
      ],
      "text/plain": [
       "<IPython.core.display.HTML object>"
      ]
     },
     "metadata": {},
     "output_type": "display_data"
    },
    {
     "name": "stderr",
     "output_type": "stream",
     "text": [
      "/net/fs-2/scale/OrionStore/Scratch/joteklem/MyCondaEnvironments/Python3.11/orion_env/lib/python3.11/site-packages/accelerate/accelerator.py:432: FutureWarning: Passing the following arguments to `Accelerator` is deprecated and will be removed in version 1.0 of Accelerate: dict_keys(['dispatch_batches', 'split_batches', 'even_batches', 'use_seedable_sampler']). Please pass an `accelerate.DataLoaderConfiguration` instead: \n",
      "dataloader_config = DataLoaderConfiguration(dispatch_batches=None, split_batches=False, even_batches=True, use_seedable_sampler=True)\n",
      "  warnings.warn(\n",
      "Detected kernel version 3.10.0, which is below the recommended minimum of 5.5.0; this can cause the process to hang. It is recommended to upgrade the kernel to the minimum version or higher.\n"
     ]
    },
    {
     "name": "stdout",
     "output_type": "stream",
     "text": [
      "Starting trial 9\n"
     ]
    },
    {
     "data": {
      "text/html": [
       "\n",
       "    <div>\n",
       "      \n",
       "      <progress value='316' max='945' style='width:300px; height:20px; vertical-align: middle;'></progress>\n",
       "      [315/945 00:16 < 00:32, 19.49 it/s, Epoch 1.00/3]\n",
       "    </div>\n",
       "    <table border=\"1\" class=\"dataframe\">\n",
       "  <thead>\n",
       " <tr style=\"text-align: left;\">\n",
       "      <th>Epoch</th>\n",
       "      <th>Training Loss</th>\n",
       "      <th>Validation Loss</th>\n",
       "    </tr>\n",
       "  </thead>\n",
       "  <tbody>\n",
       "  </tbody>\n",
       "</table><p>\n",
       "    <div>\n",
       "      \n",
       "      <progress value='210' max='210' style='width:300px; height:20px; vertical-align: middle;'></progress>\n",
       "      [210/210 00:01]\n",
       "    </div>\n",
       "    "
      ],
      "text/plain": [
       "<IPython.core.display.HTML object>"
      ]
     },
     "metadata": {},
     "output_type": "display_data"
    },
    {
     "name": "stderr",
     "output_type": "stream",
     "text": [
      "[I 2024-04-19 19:38:43,053] Trial 9 pruned. \n"
     ]
    },
    {
     "data": {
      "text/html": [
       "Finishing last run (ID:nhnmjnyg) before initializing another..."
      ],
      "text/plain": [
       "<IPython.core.display.HTML object>"
      ]
     },
     "metadata": {},
     "output_type": "display_data"
    },
    {
     "data": {
      "text/html": [
       "<style>\n",
       "    table.wandb td:nth-child(1) { padding: 0 10px; text-align: left ; width: auto;} td:nth-child(2) {text-align: left ; width: 100%}\n",
       "    .wandb-row { display: flex; flex-direction: row; flex-wrap: wrap; justify-content: flex-start; width: 100% }\n",
       "    .wandb-col { display: flex; flex-direction: column; flex-basis: 100%; flex: 1; padding: 10px; }\n",
       "    </style>\n",
       "<div class=\"wandb-row\"><div class=\"wandb-col\"><h3>Run history:</h3><br/><table class=\"wandb\"><tr><td>eval/Accuracy</td><td>▁</td></tr><tr><td>eval/Balanced accuracy</td><td>▁</td></tr><tr><td>eval/F1 macro</td><td>▁</td></tr><tr><td>eval/F1 micro</td><td>▁</td></tr><tr><td>eval/F1 weighted</td><td>▁</td></tr><tr><td>eval/loss</td><td>▁</td></tr><tr><td>eval/runtime</td><td>▁</td></tr><tr><td>eval/samples_per_second</td><td>▁</td></tr><tr><td>eval/steps_per_second</td><td>▁</td></tr><tr><td>train/epoch</td><td>▁</td></tr><tr><td>train/global_step</td><td>▁</td></tr></table><br/></div><div class=\"wandb-col\"><h3>Run summary:</h3><br/><table class=\"wandb\"><tr><td>eval/Accuracy</td><td>0.77054</td></tr><tr><td>eval/Balanced accuracy</td><td>0.61669</td></tr><tr><td>eval/F1 macro</td><td>0.65312</td></tr><tr><td>eval/F1 micro</td><td>0.77054</td></tr><tr><td>eval/F1 weighted</td><td>0.74987</td></tr><tr><td>eval/loss</td><td>0.59941</td></tr><tr><td>eval/runtime</td><td>1.6053</td></tr><tr><td>eval/samples_per_second</td><td>2093.021</td></tr><tr><td>eval/steps_per_second</td><td>130.814</td></tr><tr><td>train/epoch</td><td>1.0</td></tr><tr><td>train/global_step</td><td>315</td></tr></table><br/></div></div>"
      ],
      "text/plain": [
       "<IPython.core.display.HTML object>"
      ]
     },
     "metadata": {},
     "output_type": "display_data"
    },
    {
     "data": {
      "text/html": [
       " View run <strong style=\"color:#cdcd00\">trial-9</strong> at: <a href='https://wandb.ai/master-2024/MiniLM/runs/nhnmjnyg' target=\"_blank\">https://wandb.ai/master-2024/MiniLM/runs/nhnmjnyg</a><br/>Synced 5 W&B file(s), 0 media file(s), 0 artifact file(s) and 0 other file(s)"
      ],
      "text/plain": [
       "<IPython.core.display.HTML object>"
      ]
     },
     "metadata": {},
     "output_type": "display_data"
    },
    {
     "data": {
      "text/html": [
       "Find logs at: <code>./wandb/run-20240419_193814-nhnmjnyg/logs</code>"
      ],
      "text/plain": [
       "<IPython.core.display.HTML object>"
      ]
     },
     "metadata": {},
     "output_type": "display_data"
    },
    {
     "data": {
      "text/html": [
       "Successfully finished last run (ID:nhnmjnyg). Initializing new run:<br/>"
      ],
      "text/plain": [
       "<IPython.core.display.HTML object>"
      ]
     },
     "metadata": {},
     "output_type": "display_data"
    },
    {
     "data": {
      "text/html": [
       "wandb version 0.16.6 is available!  To upgrade, please run:\n",
       " $ pip install wandb --upgrade"
      ],
      "text/plain": [
       "<IPython.core.display.HTML object>"
      ]
     },
     "metadata": {},
     "output_type": "display_data"
    },
    {
     "data": {
      "text/html": [
       "Tracking run with wandb version 0.16.4"
      ],
      "text/plain": [
       "<IPython.core.display.HTML object>"
      ]
     },
     "metadata": {},
     "output_type": "display_data"
    },
    {
     "data": {
      "text/html": [
       "Run data is saved locally in <code>/net/fs-2/scale/OrionStore/Home/joteklem/Pytorch_models/wandb/run-20240419_193843-4sambecs</code>"
      ],
      "text/plain": [
       "<IPython.core.display.HTML object>"
      ]
     },
     "metadata": {},
     "output_type": "display_data"
    },
    {
     "data": {
      "text/html": [
       "Syncing run <strong><a href='https://wandb.ai/master-2024/MiniLM/runs/4sambecs' target=\"_blank\">trial-10</a></strong> to <a href='https://wandb.ai/master-2024/MiniLM' target=\"_blank\">Weights & Biases</a> (<a href='https://wandb.me/run' target=\"_blank\">docs</a>)<br/>"
      ],
      "text/plain": [
       "<IPython.core.display.HTML object>"
      ]
     },
     "metadata": {},
     "output_type": "display_data"
    },
    {
     "data": {
      "text/html": [
       " View project at <a href='https://wandb.ai/master-2024/MiniLM' target=\"_blank\">https://wandb.ai/master-2024/MiniLM</a>"
      ],
      "text/plain": [
       "<IPython.core.display.HTML object>"
      ]
     },
     "metadata": {},
     "output_type": "display_data"
    },
    {
     "data": {
      "text/html": [
       " View run at <a href='https://wandb.ai/master-2024/MiniLM/runs/4sambecs' target=\"_blank\">https://wandb.ai/master-2024/MiniLM/runs/4sambecs</a>"
      ],
      "text/plain": [
       "<IPython.core.display.HTML object>"
      ]
     },
     "metadata": {},
     "output_type": "display_data"
    },
    {
     "name": "stderr",
     "output_type": "stream",
     "text": [
      "/net/fs-2/scale/OrionStore/Scratch/joteklem/MyCondaEnvironments/Python3.11/orion_env/lib/python3.11/site-packages/accelerate/accelerator.py:432: FutureWarning: Passing the following arguments to `Accelerator` is deprecated and will be removed in version 1.0 of Accelerate: dict_keys(['dispatch_batches', 'split_batches', 'even_batches', 'use_seedable_sampler']). Please pass an `accelerate.DataLoaderConfiguration` instead: \n",
      "dataloader_config = DataLoaderConfiguration(dispatch_batches=None, split_batches=False, even_batches=True, use_seedable_sampler=True)\n",
      "  warnings.warn(\n",
      "Detected kernel version 3.10.0, which is below the recommended minimum of 5.5.0; this can cause the process to hang. It is recommended to upgrade the kernel to the minimum version or higher.\n"
     ]
    },
    {
     "name": "stdout",
     "output_type": "stream",
     "text": [
      "Starting trial 10\n"
     ]
    },
    {
     "data": {
      "text/html": [
       "\n",
       "    <div>\n",
       "      \n",
       "      <progress value='2520' max='2520' style='width:300px; height:20px; vertical-align: middle;'></progress>\n",
       "      [2520/2520 02:19, Epoch 4/4]\n",
       "    </div>\n",
       "    <table border=\"1\" class=\"dataframe\">\n",
       "  <thead>\n",
       " <tr style=\"text-align: left;\">\n",
       "      <th>Epoch</th>\n",
       "      <th>Training Loss</th>\n",
       "      <th>Validation Loss</th>\n",
       "      <th>Accuracy</th>\n",
       "      <th>Balanced accuracy</th>\n",
       "      <th>F1 weighted</th>\n",
       "      <th>F1 macro</th>\n",
       "      <th>F1 micro</th>\n",
       "      <th>Classification report</th>\n",
       "    </tr>\n",
       "  </thead>\n",
       "  <tbody>\n",
       "    <tr>\n",
       "      <td>1</td>\n",
       "      <td>No log</td>\n",
       "      <td>0.537490</td>\n",
       "      <td>0.794643</td>\n",
       "      <td>0.638513</td>\n",
       "      <td>0.779504</td>\n",
       "      <td>0.684158</td>\n",
       "      <td>0.794643</td>\n",
       "      <td>{'0': {'precision': 0.7781155015197568, 'recall': 0.5701559020044543, 'f1-score': 0.6580976863753213, 'support': 898.0}, '1': {'precision': 0.8000787091696182, 'recall': 0.946021405304793, 'f1-score': 0.8669509594882729, 'support': 2149.0}, '2': {'precision': 0.7763975155279503, 'recall': 0.3993610223642173, 'f1-score': 0.5274261603375527, 'support': 313.0}, 'accuracy': 0.7946428571428571, 'macro avg': {'precision': 0.7848639087391085, 'recall': 0.6385127765578215, 'f1-score': 0.6841582687337157, 'support': 3360.0}, 'weighted avg': {'precision': 0.7920027645031248, 'recall': 0.7946428571428571, 'f1-score': 0.7795040840746997, 'support': 3360.0}}</td>\n",
       "    </tr>\n",
       "    <tr>\n",
       "      <td>2</td>\n",
       "      <td>0.601600</td>\n",
       "      <td>0.501827</td>\n",
       "      <td>0.815774</td>\n",
       "      <td>0.728728</td>\n",
       "      <td>0.811287</td>\n",
       "      <td>0.748343</td>\n",
       "      <td>0.815774</td>\n",
       "      <td>{'0': {'precision': 0.7538461538461538, 'recall': 0.6547884187082406, 'f1-score': 0.700834326579261, 'support': 898.0}, '1': {'precision': 0.8480519480519481, 'recall': 0.9115867845509539, 'f1-score': 0.8786723480601032, 'support': 2149.0}, '2': {'precision': 0.7185185185185186, 'recall': 0.6198083067092651, 'f1-score': 0.6655231560891938, 'support': 313.0}, 'accuracy': 0.8157738095238095, 'macro avg': {'precision': 0.7734722068055401, 'recall': 0.7287278366561533, 'f1-score': 0.7483432769095194, 'support': 3360.0}, 'weighted avg': {'precision': 0.8108076722660056, 'recall': 0.8157738095238095, 'f1-score': 0.8112871574718024, 'support': 3360.0}}</td>\n",
       "    </tr>\n",
       "    <tr>\n",
       "      <td>3</td>\n",
       "      <td>0.601600</td>\n",
       "      <td>0.512165</td>\n",
       "      <td>0.818750</td>\n",
       "      <td>0.734828</td>\n",
       "      <td>0.814462</td>\n",
       "      <td>0.752089</td>\n",
       "      <td>0.818750</td>\n",
       "      <td>{'0': {'precision': 0.7557840616966581, 'recall': 0.6547884187082406, 'f1-score': 0.7016706443914081, 'support': 898.0}, '1': {'precision': 0.8528006947459835, 'recall': 0.9139134481154025, 'f1-score': 0.8823000898472596, 'support': 2149.0}, '2': {'precision': 0.7132616487455197, 'recall': 0.6357827476038339, 'f1-score': 0.6722972972972974, 'support': 313.0}, 'accuracy': 0.81875, 'macro avg': {'precision': 0.7739488017293871, 'recall': 0.7348282048091589, 'f1-score': 0.7520893438453218, 'support': 3360.0}, 'weighted avg': {'precision': 0.8138731179970433, 'recall': 0.81875, 'f1-score': 0.8144619600593155, 'support': 3360.0}}</td>\n",
       "    </tr>\n",
       "    <tr>\n",
       "      <td>4</td>\n",
       "      <td>0.312400</td>\n",
       "      <td>0.586264</td>\n",
       "      <td>0.813988</td>\n",
       "      <td>0.734769</td>\n",
       "      <td>0.810597</td>\n",
       "      <td>0.749831</td>\n",
       "      <td>0.813988</td>\n",
       "      <td>{'0': {'precision': 0.7354758961681088, 'recall': 0.6625835189309577, 'f1-score': 0.6971294669009959, 'support': 898.0}, '1': {'precision': 0.8542492294143549, 'recall': 0.9027454630060493, 'f1-score': 0.8778280542986424, 'support': 2149.0}, '2': {'precision': 0.7142857142857143, 'recall': 0.6389776357827476, 'f1-score': 0.6745362563237773, 'support': 313.0}, 'accuracy': 0.8139880952380952, 'macro avg': {'precision': 0.7680036132893927, 'recall': 0.7347688725732514, 'f1-score': 0.7498312591744719, 'support': 3360.0}, 'weighted avg': {'precision': 0.8094673742088806, 'recall': 0.8139880952380952, 'f1-score': 0.8105966066054223, 'support': 3360.0}}</td>\n",
       "    </tr>\n",
       "  </tbody>\n",
       "</table><p>"
      ],
      "text/plain": [
       "<IPython.core.display.HTML object>"
      ]
     },
     "metadata": {},
     "output_type": "display_data"
    },
    {
     "data": {
      "text/html": [
       "\n",
       "    <div>\n",
       "      \n",
       "      <progress value='420' max='420' style='width:300px; height:20px; vertical-align: middle;'></progress>\n",
       "      [420/420 00:02]\n",
       "    </div>\n",
       "    "
      ],
      "text/plain": [
       "<IPython.core.display.HTML object>"
      ]
     },
     "metadata": {},
     "output_type": "display_data"
    },
    {
     "name": "stderr",
     "output_type": "stream",
     "text": [
      "/net/fs-2/scale/OrionStore/Scratch/joteklem/MyCondaEnvironments/Python3.11/orion_env/lib/python3.11/site-packages/optuna/trial/_trial.py:499: UserWarning: The reported value is ignored because this `step` 4.0 is already reported.\n",
      "  warnings.warn(\n"
     ]
    },
    {
     "name": "stdout",
     "output_type": "stream",
     "text": [
      "Completed trial 10\n"
     ]
    },
    {
     "data": {
      "text/html": [
       "<style>\n",
       "    table.wandb td:nth-child(1) { padding: 0 10px; text-align: left ; width: auto;} td:nth-child(2) {text-align: left ; width: 100%}\n",
       "    .wandb-row { display: flex; flex-direction: row; flex-wrap: wrap; justify-content: flex-start; width: 100% }\n",
       "    .wandb-col { display: flex; flex-direction: column; flex-basis: 100%; flex: 1; padding: 10px; }\n",
       "    </style>\n",
       "<div class=\"wandb-row\"><div class=\"wandb-col\"><h3>Run history:</h3><br/><table class=\"wandb\"><tr><td>Training loss</td><td>▁</td></tr><tr><td>Validation loss</td><td>▁</td></tr><tr><td>eval/Accuracy</td><td>▁▇█▇▇</td></tr><tr><td>eval/Balanced accuracy</td><td>▁████</td></tr><tr><td>eval/F1 macro</td><td>▁████</td></tr><tr><td>eval/F1 micro</td><td>▁▇█▇▇</td></tr><tr><td>eval/F1 weighted</td><td>▁▇█▇▇</td></tr><tr><td>eval/loss</td><td>▄▁▂██</td></tr><tr><td>eval/runtime</td><td>█▁▄▂▁</td></tr><tr><td>eval/samples_per_second</td><td>▁█▅▇█</td></tr><tr><td>eval/steps_per_second</td><td>▁█▅▇█</td></tr><tr><td>macro F1 score</td><td>▁</td></tr><tr><td>train/epoch</td><td>▁▃▃▆████</td></tr><tr><td>train/global_step</td><td>▁▃▃▆██████</td></tr><tr><td>train/grad_norm</td><td>▁█</td></tr><tr><td>train/learning_rate</td><td>█▁</td></tr><tr><td>train/loss</td><td>█▁</td></tr><tr><td>train/total_flos</td><td>▁</td></tr><tr><td>train/train_loss</td><td>▁</td></tr><tr><td>train/train_runtime</td><td>▁</td></tr><tr><td>train/train_samples_per_second</td><td>▁</td></tr><tr><td>train/train_steps_per_second</td><td>▁</td></tr></table><br/></div><div class=\"wandb-col\"><h3>Run summary:</h3><br/><table class=\"wandb\"><tr><td>Training loss</td><td>0.3124</td></tr><tr><td>Validation loss</td><td>0.51217</td></tr><tr><td>eval/Accuracy</td><td>0.81399</td></tr><tr><td>eval/Balanced accuracy</td><td>0.73477</td></tr><tr><td>eval/F1 macro</td><td>0.74983</td></tr><tr><td>eval/F1 micro</td><td>0.81399</td></tr><tr><td>eval/F1 weighted</td><td>0.8106</td></tr><tr><td>eval/loss</td><td>0.58626</td></tr><tr><td>eval/runtime</td><td>2.7802</td></tr><tr><td>eval/samples_per_second</td><td>1208.562</td></tr><tr><td>eval/steps_per_second</td><td>151.07</td></tr><tr><td>macro F1 score</td><td>0.74983</td></tr><tr><td>train/epoch</td><td>4.0</td></tr><tr><td>train/global_step</td><td>2520</td></tr><tr><td>train/grad_norm</td><td>6.74435</td></tr><tr><td>train/learning_rate</td><td>0.0</td></tr><tr><td>train/loss</td><td>0.3124</td></tr><tr><td>train/total_flos</td><td>169700341676940.0</td></tr><tr><td>train/train_loss</td><td>0.45678</td></tr><tr><td>train/train_runtime</td><td>139.4029</td></tr><tr><td>train/train_samples_per_second</td><td>289.176</td></tr><tr><td>train/train_steps_per_second</td><td>18.077</td></tr></table><br/></div></div>"
      ],
      "text/plain": [
       "<IPython.core.display.HTML object>"
      ]
     },
     "metadata": {},
     "output_type": "display_data"
    },
    {
     "data": {
      "text/html": [
       " View run <strong style=\"color:#cdcd00\">trial-10</strong> at: <a href='https://wandb.ai/master-2024/MiniLM/runs/4sambecs' target=\"_blank\">https://wandb.ai/master-2024/MiniLM/runs/4sambecs</a><br/>Synced 5 W&B file(s), 0 media file(s), 0 artifact file(s) and 0 other file(s)"
      ],
      "text/plain": [
       "<IPython.core.display.HTML object>"
      ]
     },
     "metadata": {},
     "output_type": "display_data"
    },
    {
     "data": {
      "text/html": [
       "Find logs at: <code>./wandb/run-20240419_193843-4sambecs/logs</code>"
      ],
      "text/plain": [
       "<IPython.core.display.HTML object>"
      ]
     },
     "metadata": {},
     "output_type": "display_data"
    },
    {
     "name": "stderr",
     "output_type": "stream",
     "text": [
      "[I 2024-04-19 19:41:29,167] Trial 10 finished with value: 0.7498312591744719 and parameters: {'learning_rate': 5.6098759789230884e-05, 'per_device_train_batch_size': 8, 'weight_decay': 0.0022641957948878744, 'num_train_epochs': 4, 'warmup_steps': 370}. Best is trial 0 with value: 0.7522588907564494.\n"
     ]
    },
    {
     "data": {
      "text/html": [
       "wandb version 0.16.6 is available!  To upgrade, please run:\n",
       " $ pip install wandb --upgrade"
      ],
      "text/plain": [
       "<IPython.core.display.HTML object>"
      ]
     },
     "metadata": {},
     "output_type": "display_data"
    },
    {
     "data": {
      "text/html": [
       "Tracking run with wandb version 0.16.4"
      ],
      "text/plain": [
       "<IPython.core.display.HTML object>"
      ]
     },
     "metadata": {},
     "output_type": "display_data"
    },
    {
     "data": {
      "text/html": [
       "Run data is saved locally in <code>/net/fs-2/scale/OrionStore/Home/joteklem/Pytorch_models/wandb/run-20240419_194129-3r2ohst1</code>"
      ],
      "text/plain": [
       "<IPython.core.display.HTML object>"
      ]
     },
     "metadata": {},
     "output_type": "display_data"
    },
    {
     "data": {
      "text/html": [
       "Syncing run <strong><a href='https://wandb.ai/master-2024/MiniLM/runs/3r2ohst1' target=\"_blank\">trial-11</a></strong> to <a href='https://wandb.ai/master-2024/MiniLM' target=\"_blank\">Weights & Biases</a> (<a href='https://wandb.me/run' target=\"_blank\">docs</a>)<br/>"
      ],
      "text/plain": [
       "<IPython.core.display.HTML object>"
      ]
     },
     "metadata": {},
     "output_type": "display_data"
    },
    {
     "data": {
      "text/html": [
       " View project at <a href='https://wandb.ai/master-2024/MiniLM' target=\"_blank\">https://wandb.ai/master-2024/MiniLM</a>"
      ],
      "text/plain": [
       "<IPython.core.display.HTML object>"
      ]
     },
     "metadata": {},
     "output_type": "display_data"
    },
    {
     "data": {
      "text/html": [
       " View run at <a href='https://wandb.ai/master-2024/MiniLM/runs/3r2ohst1' target=\"_blank\">https://wandb.ai/master-2024/MiniLM/runs/3r2ohst1</a>"
      ],
      "text/plain": [
       "<IPython.core.display.HTML object>"
      ]
     },
     "metadata": {},
     "output_type": "display_data"
    },
    {
     "name": "stderr",
     "output_type": "stream",
     "text": [
      "/net/fs-2/scale/OrionStore/Scratch/joteklem/MyCondaEnvironments/Python3.11/orion_env/lib/python3.11/site-packages/accelerate/accelerator.py:432: FutureWarning: Passing the following arguments to `Accelerator` is deprecated and will be removed in version 1.0 of Accelerate: dict_keys(['dispatch_batches', 'split_batches', 'even_batches', 'use_seedable_sampler']). Please pass an `accelerate.DataLoaderConfiguration` instead: \n",
      "dataloader_config = DataLoaderConfiguration(dispatch_batches=None, split_batches=False, even_batches=True, use_seedable_sampler=True)\n",
      "  warnings.warn(\n",
      "Detected kernel version 3.10.0, which is below the recommended minimum of 5.5.0; this can cause the process to hang. It is recommended to upgrade the kernel to the minimum version or higher.\n"
     ]
    },
    {
     "name": "stdout",
     "output_type": "stream",
     "text": [
      "Starting trial 11\n"
     ]
    },
    {
     "data": {
      "text/html": [
       "\n",
       "    <div>\n",
       "      \n",
       "      <progress value='1261' max='2520' style='width:300px; height:20px; vertical-align: middle;'></progress>\n",
       "      [1259/2520 01:05 < 01:05, 19.13 it/s, Epoch 2.00/4]\n",
       "    </div>\n",
       "    <table border=\"1\" class=\"dataframe\">\n",
       "  <thead>\n",
       " <tr style=\"text-align: left;\">\n",
       "      <th>Epoch</th>\n",
       "      <th>Training Loss</th>\n",
       "      <th>Validation Loss</th>\n",
       "      <th>Accuracy</th>\n",
       "      <th>Balanced accuracy</th>\n",
       "      <th>F1 weighted</th>\n",
       "      <th>F1 macro</th>\n",
       "      <th>F1 micro</th>\n",
       "      <th>Classification report</th>\n",
       "    </tr>\n",
       "  </thead>\n",
       "  <tbody>\n",
       "    <tr>\n",
       "      <td>1</td>\n",
       "      <td>No log</td>\n",
       "      <td>0.522354</td>\n",
       "      <td>0.798512</td>\n",
       "      <td>0.670793</td>\n",
       "      <td>0.789252</td>\n",
       "      <td>0.703295</td>\n",
       "      <td>0.798512</td>\n",
       "      <td>{'0': {'precision': 0.761049723756906, 'recall': 0.6135857461024499, 'f1-score': 0.6794081381011098, 'support': 898.0}, '1': {'precision': 0.81976023150062, 'recall': 0.9227547696603071, 'f1-score': 0.8682136602451839, 'support': 2149.0}, '2': {'precision': 0.6866359447004609, 'recall': 0.476038338658147, 'f1-score': 0.5622641509433962, 'support': 313.0}, 'accuracy': 0.7985119047619048, 'macro avg': {'precision': 0.7558152999859956, 'recall': 0.6707929514736346, 'f1-score': 0.7032953164298966, 'support': 3360.0}, 'weighted avg': {'precision': 0.7916679881308865, 'recall': 0.7985119047619048, 'f1-score': 0.7892524830735059, 'support': 3360.0}}</td>\n",
       "    </tr>\n",
       "  </tbody>\n",
       "</table><p>\n",
       "    <div>\n",
       "      \n",
       "      <progress value='420' max='420' style='width:300px; height:20px; vertical-align: middle;'></progress>\n",
       "      [420/420 00:02]\n",
       "    </div>\n",
       "    "
      ],
      "text/plain": [
       "<IPython.core.display.HTML object>"
      ]
     },
     "metadata": {},
     "output_type": "display_data"
    },
    {
     "name": "stderr",
     "output_type": "stream",
     "text": [
      "[I 2024-04-19 19:42:41,930] Trial 11 pruned. \n"
     ]
    },
    {
     "data": {
      "text/html": [
       "Finishing last run (ID:3r2ohst1) before initializing another..."
      ],
      "text/plain": [
       "<IPython.core.display.HTML object>"
      ]
     },
     "metadata": {},
     "output_type": "display_data"
    },
    {
     "data": {
      "text/html": [
       "<style>\n",
       "    table.wandb td:nth-child(1) { padding: 0 10px; text-align: left ; width: auto;} td:nth-child(2) {text-align: left ; width: 100%}\n",
       "    .wandb-row { display: flex; flex-direction: row; flex-wrap: wrap; justify-content: flex-start; width: 100% }\n",
       "    .wandb-col { display: flex; flex-direction: column; flex-basis: 100%; flex: 1; padding: 10px; }\n",
       "    </style>\n",
       "<div class=\"wandb-row\"><div class=\"wandb-col\"><h3>Run history:</h3><br/><table class=\"wandb\"><tr><td>eval/Accuracy</td><td>▁█</td></tr><tr><td>eval/Balanced accuracy</td><td>▁█</td></tr><tr><td>eval/F1 macro</td><td>▁█</td></tr><tr><td>eval/F1 micro</td><td>▁█</td></tr><tr><td>eval/F1 weighted</td><td>▁█</td></tr><tr><td>eval/loss</td><td>█▁</td></tr><tr><td>eval/runtime</td><td>█▁</td></tr><tr><td>eval/samples_per_second</td><td>▁█</td></tr><tr><td>eval/steps_per_second</td><td>▁█</td></tr><tr><td>train/epoch</td><td>▁██</td></tr><tr><td>train/global_step</td><td>▁██</td></tr><tr><td>train/grad_norm</td><td>▁</td></tr><tr><td>train/learning_rate</td><td>▁</td></tr><tr><td>train/loss</td><td>▁</td></tr></table><br/></div><div class=\"wandb-col\"><h3>Run summary:</h3><br/><table class=\"wandb\"><tr><td>eval/Accuracy</td><td>0.81339</td></tr><tr><td>eval/Balanced accuracy</td><td>0.73516</td></tr><tr><td>eval/F1 macro</td><td>0.74686</td></tr><tr><td>eval/F1 micro</td><td>0.81339</td></tr><tr><td>eval/F1 weighted</td><td>0.80912</td></tr><tr><td>eval/loss</td><td>0.50697</td></tr><tr><td>eval/runtime</td><td>2.7838</td></tr><tr><td>eval/samples_per_second</td><td>1206.968</td></tr><tr><td>eval/steps_per_second</td><td>150.871</td></tr><tr><td>train/epoch</td><td>2.0</td></tr><tr><td>train/global_step</td><td>1260</td></tr><tr><td>train/grad_norm</td><td>3.4742</td></tr><tr><td>train/learning_rate</td><td>3e-05</td></tr><tr><td>train/loss</td><td>0.6048</td></tr></table><br/></div></div>"
      ],
      "text/plain": [
       "<IPython.core.display.HTML object>"
      ]
     },
     "metadata": {},
     "output_type": "display_data"
    },
    {
     "data": {
      "text/html": [
       " View run <strong style=\"color:#cdcd00\">trial-11</strong> at: <a href='https://wandb.ai/master-2024/MiniLM/runs/3r2ohst1' target=\"_blank\">https://wandb.ai/master-2024/MiniLM/runs/3r2ohst1</a><br/>Synced 5 W&B file(s), 0 media file(s), 0 artifact file(s) and 0 other file(s)"
      ],
      "text/plain": [
       "<IPython.core.display.HTML object>"
      ]
     },
     "metadata": {},
     "output_type": "display_data"
    },
    {
     "data": {
      "text/html": [
       "Find logs at: <code>./wandb/run-20240419_194129-3r2ohst1/logs</code>"
      ],
      "text/plain": [
       "<IPython.core.display.HTML object>"
      ]
     },
     "metadata": {},
     "output_type": "display_data"
    },
    {
     "data": {
      "text/html": [
       "Successfully finished last run (ID:3r2ohst1). Initializing new run:<br/>"
      ],
      "text/plain": [
       "<IPython.core.display.HTML object>"
      ]
     },
     "metadata": {},
     "output_type": "display_data"
    },
    {
     "data": {
      "text/html": [
       "wandb version 0.16.6 is available!  To upgrade, please run:\n",
       " $ pip install wandb --upgrade"
      ],
      "text/plain": [
       "<IPython.core.display.HTML object>"
      ]
     },
     "metadata": {},
     "output_type": "display_data"
    },
    {
     "data": {
      "text/html": [
       "Tracking run with wandb version 0.16.4"
      ],
      "text/plain": [
       "<IPython.core.display.HTML object>"
      ]
     },
     "metadata": {},
     "output_type": "display_data"
    },
    {
     "data": {
      "text/html": [
       "Run data is saved locally in <code>/net/fs-2/scale/OrionStore/Home/joteklem/Pytorch_models/wandb/run-20240419_194241-h2utw673</code>"
      ],
      "text/plain": [
       "<IPython.core.display.HTML object>"
      ]
     },
     "metadata": {},
     "output_type": "display_data"
    },
    {
     "data": {
      "text/html": [
       "Syncing run <strong><a href='https://wandb.ai/master-2024/MiniLM/runs/h2utw673' target=\"_blank\">trial-12</a></strong> to <a href='https://wandb.ai/master-2024/MiniLM' target=\"_blank\">Weights & Biases</a> (<a href='https://wandb.me/run' target=\"_blank\">docs</a>)<br/>"
      ],
      "text/plain": [
       "<IPython.core.display.HTML object>"
      ]
     },
     "metadata": {},
     "output_type": "display_data"
    },
    {
     "data": {
      "text/html": [
       " View project at <a href='https://wandb.ai/master-2024/MiniLM' target=\"_blank\">https://wandb.ai/master-2024/MiniLM</a>"
      ],
      "text/plain": [
       "<IPython.core.display.HTML object>"
      ]
     },
     "metadata": {},
     "output_type": "display_data"
    },
    {
     "data": {
      "text/html": [
       " View run at <a href='https://wandb.ai/master-2024/MiniLM/runs/h2utw673' target=\"_blank\">https://wandb.ai/master-2024/MiniLM/runs/h2utw673</a>"
      ],
      "text/plain": [
       "<IPython.core.display.HTML object>"
      ]
     },
     "metadata": {},
     "output_type": "display_data"
    },
    {
     "name": "stderr",
     "output_type": "stream",
     "text": [
      "/net/fs-2/scale/OrionStore/Scratch/joteklem/MyCondaEnvironments/Python3.11/orion_env/lib/python3.11/site-packages/accelerate/accelerator.py:432: FutureWarning: Passing the following arguments to `Accelerator` is deprecated and will be removed in version 1.0 of Accelerate: dict_keys(['dispatch_batches', 'split_batches', 'even_batches', 'use_seedable_sampler']). Please pass an `accelerate.DataLoaderConfiguration` instead: \n",
      "dataloader_config = DataLoaderConfiguration(dispatch_batches=None, split_batches=False, even_batches=True, use_seedable_sampler=True)\n",
      "  warnings.warn(\n",
      "Detected kernel version 3.10.0, which is below the recommended minimum of 5.5.0; this can cause the process to hang. It is recommended to upgrade the kernel to the minimum version or higher.\n"
     ]
    },
    {
     "name": "stdout",
     "output_type": "stream",
     "text": [
      "Starting trial 12\n"
     ]
    },
    {
     "data": {
      "text/html": [
       "\n",
       "    <div>\n",
       "      \n",
       "      <progress value='1261' max='2520' style='width:300px; height:20px; vertical-align: middle;'></progress>\n",
       "      [1259/2520 01:06 < 01:06, 18.83 it/s, Epoch 2.00/4]\n",
       "    </div>\n",
       "    <table border=\"1\" class=\"dataframe\">\n",
       "  <thead>\n",
       " <tr style=\"text-align: left;\">\n",
       "      <th>Epoch</th>\n",
       "      <th>Training Loss</th>\n",
       "      <th>Validation Loss</th>\n",
       "      <th>Accuracy</th>\n",
       "      <th>Balanced accuracy</th>\n",
       "      <th>F1 weighted</th>\n",
       "      <th>F1 macro</th>\n",
       "      <th>F1 micro</th>\n",
       "      <th>Classification report</th>\n",
       "    </tr>\n",
       "  </thead>\n",
       "  <tbody>\n",
       "    <tr>\n",
       "      <td>1</td>\n",
       "      <td>No log</td>\n",
       "      <td>0.533477</td>\n",
       "      <td>0.795833</td>\n",
       "      <td>0.649278</td>\n",
       "      <td>0.781596</td>\n",
       "      <td>0.690909</td>\n",
       "      <td>0.795833</td>\n",
       "      <td>{'0': {'precision': 0.8, 'recall': 0.5567928730512249, 'f1-score': 0.6565988181221274, 'support': 898.0}, '1': {'precision': 0.8008658008658008, 'recall': 0.9469520707305723, 'f1-score': 0.8678038379530916, 'support': 2149.0}, '2': {'precision': 0.7164948453608248, 'recall': 0.4440894568690096, 'f1-score': 0.5483234714003945, 'support': 313.0}, 'accuracy': 0.7958333333333333, 'macro avg': {'precision': 0.7724535487422086, 'recall': 0.649278133550269, 'f1-score': 0.6909087091585379, 'support': 3360.0}, 'weighted avg': {'precision': 0.7927748490055191, 'recall': 0.7958333333333333, 'f1-score': 0.7815956645783297, 'support': 3360.0}}</td>\n",
       "    </tr>\n",
       "  </tbody>\n",
       "</table><p>\n",
       "    <div>\n",
       "      \n",
       "      <progress value='420' max='420' style='width:300px; height:20px; vertical-align: middle;'></progress>\n",
       "      [420/420 00:02]\n",
       "    </div>\n",
       "    "
      ],
      "text/plain": [
       "<IPython.core.display.HTML object>"
      ]
     },
     "metadata": {},
     "output_type": "display_data"
    },
    {
     "name": "stderr",
     "output_type": "stream",
     "text": [
      "[I 2024-04-19 19:44:00,302] Trial 12 pruned. \n"
     ]
    },
    {
     "data": {
      "text/html": [
       "Finishing last run (ID:h2utw673) before initializing another..."
      ],
      "text/plain": [
       "<IPython.core.display.HTML object>"
      ]
     },
     "metadata": {},
     "output_type": "display_data"
    },
    {
     "data": {
      "text/html": [
       "<style>\n",
       "    table.wandb td:nth-child(1) { padding: 0 10px; text-align: left ; width: auto;} td:nth-child(2) {text-align: left ; width: 100%}\n",
       "    .wandb-row { display: flex; flex-direction: row; flex-wrap: wrap; justify-content: flex-start; width: 100% }\n",
       "    .wandb-col { display: flex; flex-direction: column; flex-basis: 100%; flex: 1; padding: 10px; }\n",
       "    </style>\n",
       "<div class=\"wandb-row\"><div class=\"wandb-col\"><h3>Run history:</h3><br/><table class=\"wandb\"><tr><td>eval/Accuracy</td><td>▁█</td></tr><tr><td>eval/Balanced accuracy</td><td>▁█</td></tr><tr><td>eval/F1 macro</td><td>▁█</td></tr><tr><td>eval/F1 micro</td><td>▁█</td></tr><tr><td>eval/F1 weighted</td><td>▁█</td></tr><tr><td>eval/loss</td><td>█▁</td></tr><tr><td>eval/runtime</td><td>█▁</td></tr><tr><td>eval/samples_per_second</td><td>▁█</td></tr><tr><td>eval/steps_per_second</td><td>▁█</td></tr><tr><td>train/epoch</td><td>▁██</td></tr><tr><td>train/global_step</td><td>▁██</td></tr><tr><td>train/grad_norm</td><td>▁</td></tr><tr><td>train/learning_rate</td><td>▁</td></tr><tr><td>train/loss</td><td>▁</td></tr></table><br/></div><div class=\"wandb-col\"><h3>Run summary:</h3><br/><table class=\"wandb\"><tr><td>eval/Accuracy</td><td>0.81399</td></tr><tr><td>eval/Balanced accuracy</td><td>0.72676</td></tr><tr><td>eval/F1 macro</td><td>0.74592</td></tr><tr><td>eval/F1 micro</td><td>0.81399</td></tr><tr><td>eval/F1 weighted</td><td>0.80923</td></tr><tr><td>eval/loss</td><td>0.51468</td></tr><tr><td>eval/runtime</td><td>2.7939</td></tr><tr><td>eval/samples_per_second</td><td>1202.634</td></tr><tr><td>eval/steps_per_second</td><td>150.329</td></tr><tr><td>train/epoch</td><td>2.0</td></tr><tr><td>train/global_step</td><td>1260</td></tr><tr><td>train/grad_norm</td><td>2.67472</td></tr><tr><td>train/learning_rate</td><td>3e-05</td></tr><tr><td>train/loss</td><td>0.6075</td></tr></table><br/></div></div>"
      ],
      "text/plain": [
       "<IPython.core.display.HTML object>"
      ]
     },
     "metadata": {},
     "output_type": "display_data"
    },
    {
     "data": {
      "text/html": [
       " View run <strong style=\"color:#cdcd00\">trial-12</strong> at: <a href='https://wandb.ai/master-2024/MiniLM/runs/h2utw673' target=\"_blank\">https://wandb.ai/master-2024/MiniLM/runs/h2utw673</a><br/>Synced 5 W&B file(s), 0 media file(s), 0 artifact file(s) and 0 other file(s)"
      ],
      "text/plain": [
       "<IPython.core.display.HTML object>"
      ]
     },
     "metadata": {},
     "output_type": "display_data"
    },
    {
     "data": {
      "text/html": [
       "Find logs at: <code>./wandb/run-20240419_194241-h2utw673/logs</code>"
      ],
      "text/plain": [
       "<IPython.core.display.HTML object>"
      ]
     },
     "metadata": {},
     "output_type": "display_data"
    },
    {
     "data": {
      "text/html": [
       "Successfully finished last run (ID:h2utw673). Initializing new run:<br/>"
      ],
      "text/plain": [
       "<IPython.core.display.HTML object>"
      ]
     },
     "metadata": {},
     "output_type": "display_data"
    },
    {
     "data": {
      "text/html": [
       "wandb version 0.16.6 is available!  To upgrade, please run:\n",
       " $ pip install wandb --upgrade"
      ],
      "text/plain": [
       "<IPython.core.display.HTML object>"
      ]
     },
     "metadata": {},
     "output_type": "display_data"
    },
    {
     "data": {
      "text/html": [
       "Tracking run with wandb version 0.16.4"
      ],
      "text/plain": [
       "<IPython.core.display.HTML object>"
      ]
     },
     "metadata": {},
     "output_type": "display_data"
    },
    {
     "data": {
      "text/html": [
       "Run data is saved locally in <code>/net/fs-2/scale/OrionStore/Home/joteklem/Pytorch_models/wandb/run-20240419_194400-46hc8n0f</code>"
      ],
      "text/plain": [
       "<IPython.core.display.HTML object>"
      ]
     },
     "metadata": {},
     "output_type": "display_data"
    },
    {
     "data": {
      "text/html": [
       "Syncing run <strong><a href='https://wandb.ai/master-2024/MiniLM/runs/46hc8n0f' target=\"_blank\">trial-13</a></strong> to <a href='https://wandb.ai/master-2024/MiniLM' target=\"_blank\">Weights & Biases</a> (<a href='https://wandb.me/run' target=\"_blank\">docs</a>)<br/>"
      ],
      "text/plain": [
       "<IPython.core.display.HTML object>"
      ]
     },
     "metadata": {},
     "output_type": "display_data"
    },
    {
     "data": {
      "text/html": [
       " View project at <a href='https://wandb.ai/master-2024/MiniLM' target=\"_blank\">https://wandb.ai/master-2024/MiniLM</a>"
      ],
      "text/plain": [
       "<IPython.core.display.HTML object>"
      ]
     },
     "metadata": {},
     "output_type": "display_data"
    },
    {
     "data": {
      "text/html": [
       " View run at <a href='https://wandb.ai/master-2024/MiniLM/runs/46hc8n0f' target=\"_blank\">https://wandb.ai/master-2024/MiniLM/runs/46hc8n0f</a>"
      ],
      "text/plain": [
       "<IPython.core.display.HTML object>"
      ]
     },
     "metadata": {},
     "output_type": "display_data"
    },
    {
     "name": "stderr",
     "output_type": "stream",
     "text": [
      "/net/fs-2/scale/OrionStore/Scratch/joteklem/MyCondaEnvironments/Python3.11/orion_env/lib/python3.11/site-packages/accelerate/accelerator.py:432: FutureWarning: Passing the following arguments to `Accelerator` is deprecated and will be removed in version 1.0 of Accelerate: dict_keys(['dispatch_batches', 'split_batches', 'even_batches', 'use_seedable_sampler']). Please pass an `accelerate.DataLoaderConfiguration` instead: \n",
      "dataloader_config = DataLoaderConfiguration(dispatch_batches=None, split_batches=False, even_batches=True, use_seedable_sampler=True)\n",
      "  warnings.warn(\n",
      "Detected kernel version 3.10.0, which is below the recommended minimum of 5.5.0; this can cause the process to hang. It is recommended to upgrade the kernel to the minimum version or higher.\n"
     ]
    },
    {
     "name": "stdout",
     "output_type": "stream",
     "text": [
      "Starting trial 13\n"
     ]
    },
    {
     "data": {
      "text/html": [
       "\n",
       "    <div>\n",
       "      \n",
       "      <progress value='1891' max='2520' style='width:300px; height:20px; vertical-align: middle;'></progress>\n",
       "      [1889/2520 01:41 < 00:34, 18.53 it/s, Epoch 3.00/4]\n",
       "    </div>\n",
       "    <table border=\"1\" class=\"dataframe\">\n",
       "  <thead>\n",
       " <tr style=\"text-align: left;\">\n",
       "      <th>Epoch</th>\n",
       "      <th>Training Loss</th>\n",
       "      <th>Validation Loss</th>\n",
       "      <th>Accuracy</th>\n",
       "      <th>Balanced accuracy</th>\n",
       "      <th>F1 weighted</th>\n",
       "      <th>F1 macro</th>\n",
       "      <th>F1 micro</th>\n",
       "      <th>Classification report</th>\n",
       "    </tr>\n",
       "  </thead>\n",
       "  <tbody>\n",
       "    <tr>\n",
       "      <td>1</td>\n",
       "      <td>No log</td>\n",
       "      <td>0.541908</td>\n",
       "      <td>0.798214</td>\n",
       "      <td>0.676131</td>\n",
       "      <td>0.790253</td>\n",
       "      <td>0.708378</td>\n",
       "      <td>0.798214</td>\n",
       "      <td>{'0': {'precision': 0.7367055771725033, 'recall': 0.6325167037861915, 'f1-score': 0.6806470940683044, 'support': 898.0}, '1': {'precision': 0.825136612021858, 'recall': 0.9134481154025128, 'f1-score': 0.8670494699646644, 'support': 2149.0}, '2': {'precision': 0.719047619047619, 'recall': 0.48242811501597443, 'f1-score': 0.5774378585086042, 'support': 313.0}, 'accuracy': 0.7982142857142858, 'macro avg': {'precision': 0.7602966027473267, 'recall': 0.6761309780682262, 'f1-score': 0.708378140847191, 'support': 3360.0}, 'weighted avg': {'precision': 0.791619670326722, 'recall': 0.7982142857142858, 'f1-score': 0.790252515220415, 'support': 3360.0}}</td>\n",
       "    </tr>\n",
       "    <tr>\n",
       "      <td>2</td>\n",
       "      <td>0.589300</td>\n",
       "      <td>0.519420</td>\n",
       "      <td>0.816071</td>\n",
       "      <td>0.744396</td>\n",
       "      <td>0.812656</td>\n",
       "      <td>0.751453</td>\n",
       "      <td>0.816071</td>\n",
       "      <td>{'0': {'precision': 0.7704485488126649, 'recall': 0.6503340757238307, 'f1-score': 0.7053140096618357, 'support': 898.0}, '1': {'precision': 0.8523872098116513, 'recall': 0.9055374592833876, 'f1-score': 0.8781588447653428, 'support': 2149.0}, '2': {'precision': 0.664576802507837, 'recall': 0.6773162939297125, 'f1-score': 0.6708860759493671, 'support': 313.0}, 'accuracy': 0.8160714285714286, 'macro avg': {'precision': 0.7624708537107177, 'recall': 0.7443959429789769, 'f1-score': 0.7514529767921818, 'support': 3360.0}, 'weighted avg': {'precision': 0.8129926934237989, 'recall': 0.8160714285714286, 'f1-score': 0.8126555594789292, 'support': 3360.0}}</td>\n",
       "    </tr>\n",
       "  </tbody>\n",
       "</table><p>\n",
       "    <div>\n",
       "      \n",
       "      <progress value='420' max='420' style='width:300px; height:20px; vertical-align: middle;'></progress>\n",
       "      [420/420 00:02]\n",
       "    </div>\n",
       "    "
      ],
      "text/plain": [
       "<IPython.core.display.HTML object>"
      ]
     },
     "metadata": {},
     "output_type": "display_data"
    },
    {
     "name": "stderr",
     "output_type": "stream",
     "text": [
      "[I 2024-04-19 19:45:53,085] Trial 13 pruned. \n"
     ]
    },
    {
     "data": {
      "text/html": [
       "Finishing last run (ID:46hc8n0f) before initializing another..."
      ],
      "text/plain": [
       "<IPython.core.display.HTML object>"
      ]
     },
     "metadata": {},
     "output_type": "display_data"
    },
    {
     "data": {
      "text/html": [
       "<style>\n",
       "    table.wandb td:nth-child(1) { padding: 0 10px; text-align: left ; width: auto;} td:nth-child(2) {text-align: left ; width: 100%}\n",
       "    .wandb-row { display: flex; flex-direction: row; flex-wrap: wrap; justify-content: flex-start; width: 100% }\n",
       "    .wandb-col { display: flex; flex-direction: column; flex-basis: 100%; flex: 1; padding: 10px; }\n",
       "    </style>\n",
       "<div class=\"wandb-row\"><div class=\"wandb-col\"><h3>Run history:</h3><br/><table class=\"wandb\"><tr><td>eval/Accuracy</td><td>▁██</td></tr><tr><td>eval/Balanced accuracy</td><td>▁█▇</td></tr><tr><td>eval/F1 macro</td><td>▁██</td></tr><tr><td>eval/F1 micro</td><td>▁██</td></tr><tr><td>eval/F1 weighted</td><td>▁██</td></tr><tr><td>eval/loss</td><td>█▁▄</td></tr><tr><td>eval/runtime</td><td>█▁▇</td></tr><tr><td>eval/samples_per_second</td><td>▁█▂</td></tr><tr><td>eval/steps_per_second</td><td>▁█▂</td></tr><tr><td>train/epoch</td><td>▁▅▅█</td></tr><tr><td>train/global_step</td><td>▁▄▅█</td></tr><tr><td>train/grad_norm</td><td>▁</td></tr><tr><td>train/learning_rate</td><td>▁</td></tr><tr><td>train/loss</td><td>▁</td></tr></table><br/></div><div class=\"wandb-col\"><h3>Run summary:</h3><br/><table class=\"wandb\"><tr><td>eval/Accuracy</td><td>0.81696</td></tr><tr><td>eval/Balanced accuracy</td><td>0.7345</td></tr><tr><td>eval/F1 macro</td><td>0.75161</td></tr><tr><td>eval/F1 micro</td><td>0.81696</td></tr><tr><td>eval/F1 weighted</td><td>0.81307</td></tr><tr><td>eval/loss</td><td>0.52805</td></tr><tr><td>eval/runtime</td><td>2.8012</td></tr><tr><td>eval/samples_per_second</td><td>1199.484</td></tr><tr><td>eval/steps_per_second</td><td>149.935</td></tr><tr><td>train/epoch</td><td>3.0</td></tr><tr><td>train/global_step</td><td>1890</td></tr><tr><td>train/grad_norm</td><td>3.07624</td></tr><tr><td>train/learning_rate</td><td>5e-05</td></tr><tr><td>train/loss</td><td>0.5893</td></tr></table><br/></div></div>"
      ],
      "text/plain": [
       "<IPython.core.display.HTML object>"
      ]
     },
     "metadata": {},
     "output_type": "display_data"
    },
    {
     "data": {
      "text/html": [
       " View run <strong style=\"color:#cdcd00\">trial-13</strong> at: <a href='https://wandb.ai/master-2024/MiniLM/runs/46hc8n0f' target=\"_blank\">https://wandb.ai/master-2024/MiniLM/runs/46hc8n0f</a><br/>Synced 5 W&B file(s), 0 media file(s), 0 artifact file(s) and 0 other file(s)"
      ],
      "text/plain": [
       "<IPython.core.display.HTML object>"
      ]
     },
     "metadata": {},
     "output_type": "display_data"
    },
    {
     "data": {
      "text/html": [
       "Find logs at: <code>./wandb/run-20240419_194400-46hc8n0f/logs</code>"
      ],
      "text/plain": [
       "<IPython.core.display.HTML object>"
      ]
     },
     "metadata": {},
     "output_type": "display_data"
    },
    {
     "data": {
      "text/html": [
       "Successfully finished last run (ID:46hc8n0f). Initializing new run:<br/>"
      ],
      "text/plain": [
       "<IPython.core.display.HTML object>"
      ]
     },
     "metadata": {},
     "output_type": "display_data"
    },
    {
     "data": {
      "text/html": [
       "wandb version 0.16.6 is available!  To upgrade, please run:\n",
       " $ pip install wandb --upgrade"
      ],
      "text/plain": [
       "<IPython.core.display.HTML object>"
      ]
     },
     "metadata": {},
     "output_type": "display_data"
    },
    {
     "data": {
      "text/html": [
       "Tracking run with wandb version 0.16.4"
      ],
      "text/plain": [
       "<IPython.core.display.HTML object>"
      ]
     },
     "metadata": {},
     "output_type": "display_data"
    },
    {
     "data": {
      "text/html": [
       "Run data is saved locally in <code>/net/fs-2/scale/OrionStore/Home/joteklem/Pytorch_models/wandb/run-20240419_194553-8q7w0mv9</code>"
      ],
      "text/plain": [
       "<IPython.core.display.HTML object>"
      ]
     },
     "metadata": {},
     "output_type": "display_data"
    },
    {
     "data": {
      "text/html": [
       "Syncing run <strong><a href='https://wandb.ai/master-2024/MiniLM/runs/8q7w0mv9' target=\"_blank\">trial-14</a></strong> to <a href='https://wandb.ai/master-2024/MiniLM' target=\"_blank\">Weights & Biases</a> (<a href='https://wandb.me/run' target=\"_blank\">docs</a>)<br/>"
      ],
      "text/plain": [
       "<IPython.core.display.HTML object>"
      ]
     },
     "metadata": {},
     "output_type": "display_data"
    },
    {
     "data": {
      "text/html": [
       " View project at <a href='https://wandb.ai/master-2024/MiniLM' target=\"_blank\">https://wandb.ai/master-2024/MiniLM</a>"
      ],
      "text/plain": [
       "<IPython.core.display.HTML object>"
      ]
     },
     "metadata": {},
     "output_type": "display_data"
    },
    {
     "data": {
      "text/html": [
       " View run at <a href='https://wandb.ai/master-2024/MiniLM/runs/8q7w0mv9' target=\"_blank\">https://wandb.ai/master-2024/MiniLM/runs/8q7w0mv9</a>"
      ],
      "text/plain": [
       "<IPython.core.display.HTML object>"
      ]
     },
     "metadata": {},
     "output_type": "display_data"
    },
    {
     "name": "stderr",
     "output_type": "stream",
     "text": [
      "/net/fs-2/scale/OrionStore/Scratch/joteklem/MyCondaEnvironments/Python3.11/orion_env/lib/python3.11/site-packages/accelerate/accelerator.py:432: FutureWarning: Passing the following arguments to `Accelerator` is deprecated and will be removed in version 1.0 of Accelerate: dict_keys(['dispatch_batches', 'split_batches', 'even_batches', 'use_seedable_sampler']). Please pass an `accelerate.DataLoaderConfiguration` instead: \n",
      "dataloader_config = DataLoaderConfiguration(dispatch_batches=None, split_batches=False, even_batches=True, use_seedable_sampler=True)\n",
      "  warnings.warn(\n",
      "Detected kernel version 3.10.0, which is below the recommended minimum of 5.5.0; this can cause the process to hang. It is recommended to upgrade the kernel to the minimum version or higher.\n"
     ]
    },
    {
     "name": "stdout",
     "output_type": "stream",
     "text": [
      "Starting trial 14\n"
     ]
    },
    {
     "data": {
      "text/html": [
       "\n",
       "    <div>\n",
       "      \n",
       "      <progress value='631' max='3150' style='width:300px; height:20px; vertical-align: middle;'></progress>\n",
       "      [ 631/3150 00:32 < 02:11, 19.15 it/s, Epoch 1/5]\n",
       "    </div>\n",
       "    <table border=\"1\" class=\"dataframe\">\n",
       "  <thead>\n",
       " <tr style=\"text-align: left;\">\n",
       "      <th>Epoch</th>\n",
       "      <th>Training Loss</th>\n",
       "      <th>Validation Loss</th>\n",
       "    </tr>\n",
       "  </thead>\n",
       "  <tbody>\n",
       "  </tbody>\n",
       "</table><p>\n",
       "    <div>\n",
       "      \n",
       "      <progress value='420' max='420' style='width:300px; height:20px; vertical-align: middle;'></progress>\n",
       "      [420/420 00:02]\n",
       "    </div>\n",
       "    "
      ],
      "text/plain": [
       "<IPython.core.display.HTML object>"
      ]
     },
     "metadata": {},
     "output_type": "display_data"
    },
    {
     "name": "stderr",
     "output_type": "stream",
     "text": [
      "[I 2024-04-19 19:46:40,145] Trial 14 pruned. \n"
     ]
    },
    {
     "data": {
      "text/html": [
       "Finishing last run (ID:8q7w0mv9) before initializing another..."
      ],
      "text/plain": [
       "<IPython.core.display.HTML object>"
      ]
     },
     "metadata": {},
     "output_type": "display_data"
    },
    {
     "data": {
      "text/html": [
       "<style>\n",
       "    table.wandb td:nth-child(1) { padding: 0 10px; text-align: left ; width: auto;} td:nth-child(2) {text-align: left ; width: 100%}\n",
       "    .wandb-row { display: flex; flex-direction: row; flex-wrap: wrap; justify-content: flex-start; width: 100% }\n",
       "    .wandb-col { display: flex; flex-direction: column; flex-basis: 100%; flex: 1; padding: 10px; }\n",
       "    </style>\n",
       "<div class=\"wandb-row\"><div class=\"wandb-col\"><h3>Run history:</h3><br/><table class=\"wandb\"><tr><td>eval/Accuracy</td><td>▁</td></tr><tr><td>eval/Balanced accuracy</td><td>▁</td></tr><tr><td>eval/F1 macro</td><td>▁</td></tr><tr><td>eval/F1 micro</td><td>▁</td></tr><tr><td>eval/F1 weighted</td><td>▁</td></tr><tr><td>eval/loss</td><td>▁</td></tr><tr><td>eval/runtime</td><td>▁</td></tr><tr><td>eval/samples_per_second</td><td>▁</td></tr><tr><td>eval/steps_per_second</td><td>▁</td></tr><tr><td>train/epoch</td><td>▁</td></tr><tr><td>train/global_step</td><td>▁</td></tr></table><br/></div><div class=\"wandb-col\"><h3>Run summary:</h3><br/><table class=\"wandb\"><tr><td>eval/Accuracy</td><td>0.79167</td></tr><tr><td>eval/Balanced accuracy</td><td>0.62411</td></tr><tr><td>eval/F1 macro</td><td>0.67213</td></tr><tr><td>eval/F1 micro</td><td>0.79167</td></tr><tr><td>eval/F1 weighted</td><td>0.77321</td></tr><tr><td>eval/loss</td><td>0.55929</td></tr><tr><td>eval/runtime</td><td>2.8147</td></tr><tr><td>eval/samples_per_second</td><td>1193.75</td></tr><tr><td>eval/steps_per_second</td><td>149.219</td></tr><tr><td>train/epoch</td><td>1.0</td></tr><tr><td>train/global_step</td><td>630</td></tr></table><br/></div></div>"
      ],
      "text/plain": [
       "<IPython.core.display.HTML object>"
      ]
     },
     "metadata": {},
     "output_type": "display_data"
    },
    {
     "data": {
      "text/html": [
       " View run <strong style=\"color:#cdcd00\">trial-14</strong> at: <a href='https://wandb.ai/master-2024/MiniLM/runs/8q7w0mv9' target=\"_blank\">https://wandb.ai/master-2024/MiniLM/runs/8q7w0mv9</a><br/>Synced 5 W&B file(s), 0 media file(s), 0 artifact file(s) and 0 other file(s)"
      ],
      "text/plain": [
       "<IPython.core.display.HTML object>"
      ]
     },
     "metadata": {},
     "output_type": "display_data"
    },
    {
     "data": {
      "text/html": [
       "Find logs at: <code>./wandb/run-20240419_194553-8q7w0mv9/logs</code>"
      ],
      "text/plain": [
       "<IPython.core.display.HTML object>"
      ]
     },
     "metadata": {},
     "output_type": "display_data"
    },
    {
     "data": {
      "text/html": [
       "Successfully finished last run (ID:8q7w0mv9). Initializing new run:<br/>"
      ],
      "text/plain": [
       "<IPython.core.display.HTML object>"
      ]
     },
     "metadata": {},
     "output_type": "display_data"
    },
    {
     "data": {
      "text/html": [
       "wandb version 0.16.6 is available!  To upgrade, please run:\n",
       " $ pip install wandb --upgrade"
      ],
      "text/plain": [
       "<IPython.core.display.HTML object>"
      ]
     },
     "metadata": {},
     "output_type": "display_data"
    },
    {
     "data": {
      "text/html": [
       "Tracking run with wandb version 0.16.4"
      ],
      "text/plain": [
       "<IPython.core.display.HTML object>"
      ]
     },
     "metadata": {},
     "output_type": "display_data"
    },
    {
     "data": {
      "text/html": [
       "Run data is saved locally in <code>/net/fs-2/scale/OrionStore/Home/joteklem/Pytorch_models/wandb/run-20240419_194640-wijt8xl7</code>"
      ],
      "text/plain": [
       "<IPython.core.display.HTML object>"
      ]
     },
     "metadata": {},
     "output_type": "display_data"
    },
    {
     "data": {
      "text/html": [
       "Syncing run <strong><a href='https://wandb.ai/master-2024/MiniLM/runs/wijt8xl7' target=\"_blank\">trial-15</a></strong> to <a href='https://wandb.ai/master-2024/MiniLM' target=\"_blank\">Weights & Biases</a> (<a href='https://wandb.me/run' target=\"_blank\">docs</a>)<br/>"
      ],
      "text/plain": [
       "<IPython.core.display.HTML object>"
      ]
     },
     "metadata": {},
     "output_type": "display_data"
    },
    {
     "data": {
      "text/html": [
       " View project at <a href='https://wandb.ai/master-2024/MiniLM' target=\"_blank\">https://wandb.ai/master-2024/MiniLM</a>"
      ],
      "text/plain": [
       "<IPython.core.display.HTML object>"
      ]
     },
     "metadata": {},
     "output_type": "display_data"
    },
    {
     "data": {
      "text/html": [
       " View run at <a href='https://wandb.ai/master-2024/MiniLM/runs/wijt8xl7' target=\"_blank\">https://wandb.ai/master-2024/MiniLM/runs/wijt8xl7</a>"
      ],
      "text/plain": [
       "<IPython.core.display.HTML object>"
      ]
     },
     "metadata": {},
     "output_type": "display_data"
    },
    {
     "name": "stderr",
     "output_type": "stream",
     "text": [
      "/net/fs-2/scale/OrionStore/Scratch/joteklem/MyCondaEnvironments/Python3.11/orion_env/lib/python3.11/site-packages/accelerate/accelerator.py:432: FutureWarning: Passing the following arguments to `Accelerator` is deprecated and will be removed in version 1.0 of Accelerate: dict_keys(['dispatch_batches', 'split_batches', 'even_batches', 'use_seedable_sampler']). Please pass an `accelerate.DataLoaderConfiguration` instead: \n",
      "dataloader_config = DataLoaderConfiguration(dispatch_batches=None, split_batches=False, even_batches=True, use_seedable_sampler=True)\n",
      "  warnings.warn(\n",
      "Detected kernel version 3.10.0, which is below the recommended minimum of 5.5.0; this can cause the process to hang. It is recommended to upgrade the kernel to the minimum version or higher.\n"
     ]
    },
    {
     "name": "stdout",
     "output_type": "stream",
     "text": [
      "Starting trial 15\n"
     ]
    },
    {
     "data": {
      "text/html": [
       "\n",
       "    <div>\n",
       "      \n",
       "      <progress value='1261' max='2520' style='width:300px; height:20px; vertical-align: middle;'></progress>\n",
       "      [1259/2520 01:06 < 01:06, 19.04 it/s, Epoch 2.00/4]\n",
       "    </div>\n",
       "    <table border=\"1\" class=\"dataframe\">\n",
       "  <thead>\n",
       " <tr style=\"text-align: left;\">\n",
       "      <th>Epoch</th>\n",
       "      <th>Training Loss</th>\n",
       "      <th>Validation Loss</th>\n",
       "      <th>Accuracy</th>\n",
       "      <th>Balanced accuracy</th>\n",
       "      <th>F1 weighted</th>\n",
       "      <th>F1 macro</th>\n",
       "      <th>F1 micro</th>\n",
       "      <th>Classification report</th>\n",
       "    </tr>\n",
       "  </thead>\n",
       "  <tbody>\n",
       "    <tr>\n",
       "      <td>1</td>\n",
       "      <td>No log</td>\n",
       "      <td>0.536824</td>\n",
       "      <td>0.798512</td>\n",
       "      <td>0.661728</td>\n",
       "      <td>0.788686</td>\n",
       "      <td>0.697069</td>\n",
       "      <td>0.798512</td>\n",
       "      <td>{'0': {'precision': 0.742483660130719, 'recall': 0.6325167037861915, 'f1-score': 0.6831028262176789, 'support': 898.0}, '1': {'precision': 0.8226007478188616, 'recall': 0.9213587715216379, 'f1-score': 0.8691834942932396, 'support': 2149.0}, '2': {'precision': 0.7180851063829787, 'recall': 0.43130990415335463, 'f1-score': 0.5389221556886228, 'support': 313.0}, 'accuracy': 0.7985119047619048, 'macro avg': {'precision': 0.7610565047775197, 'recall': 0.6617284598203946, 'f1-score': 0.6970694920665137, 'support': 3360.0}, 'weighted avg': {'precision': 0.7914523726660689, 'recall': 0.7985119047619048, 'f1-score': 0.7886858041399365, 'support': 3360.0}}</td>\n",
       "    </tr>\n",
       "  </tbody>\n",
       "</table><p>\n",
       "    <div>\n",
       "      \n",
       "      <progress value='420' max='420' style='width:300px; height:20px; vertical-align: middle;'></progress>\n",
       "      [420/420 00:02]\n",
       "    </div>\n",
       "    "
      ],
      "text/plain": [
       "<IPython.core.display.HTML object>"
      ]
     },
     "metadata": {},
     "output_type": "display_data"
    },
    {
     "name": "stderr",
     "output_type": "stream",
     "text": [
      "[I 2024-04-19 19:47:57,990] Trial 15 pruned. \n"
     ]
    },
    {
     "data": {
      "text/html": [
       "Finishing last run (ID:wijt8xl7) before initializing another..."
      ],
      "text/plain": [
       "<IPython.core.display.HTML object>"
      ]
     },
     "metadata": {},
     "output_type": "display_data"
    },
    {
     "data": {
      "text/html": [
       "<style>\n",
       "    table.wandb td:nth-child(1) { padding: 0 10px; text-align: left ; width: auto;} td:nth-child(2) {text-align: left ; width: 100%}\n",
       "    .wandb-row { display: flex; flex-direction: row; flex-wrap: wrap; justify-content: flex-start; width: 100% }\n",
       "    .wandb-col { display: flex; flex-direction: column; flex-basis: 100%; flex: 1; padding: 10px; }\n",
       "    </style>\n",
       "<div class=\"wandb-row\"><div class=\"wandb-col\"><h3>Run history:</h3><br/><table class=\"wandb\"><tr><td>eval/Accuracy</td><td>▁█</td></tr><tr><td>eval/Balanced accuracy</td><td>▁█</td></tr><tr><td>eval/F1 macro</td><td>▁█</td></tr><tr><td>eval/F1 micro</td><td>▁█</td></tr><tr><td>eval/F1 weighted</td><td>▁█</td></tr><tr><td>eval/loss</td><td>█▁</td></tr><tr><td>eval/runtime</td><td>▁█</td></tr><tr><td>eval/samples_per_second</td><td>█▁</td></tr><tr><td>eval/steps_per_second</td><td>█▁</td></tr><tr><td>train/epoch</td><td>▁██</td></tr><tr><td>train/global_step</td><td>▁██</td></tr><tr><td>train/grad_norm</td><td>▁</td></tr><tr><td>train/learning_rate</td><td>▁</td></tr><tr><td>train/loss</td><td>▁</td></tr></table><br/></div><div class=\"wandb-col\"><h3>Run summary:</h3><br/><table class=\"wandb\"><tr><td>eval/Accuracy</td><td>0.81161</td></tr><tr><td>eval/Balanced accuracy</td><td>0.71377</td></tr><tr><td>eval/F1 macro</td><td>0.73934</td></tr><tr><td>eval/F1 micro</td><td>0.81161</td></tr><tr><td>eval/F1 weighted</td><td>0.80683</td></tr><tr><td>eval/loss</td><td>0.52757</td></tr><tr><td>eval/runtime</td><td>2.8199</td></tr><tr><td>eval/samples_per_second</td><td>1191.516</td></tr><tr><td>eval/steps_per_second</td><td>148.939</td></tr><tr><td>train/epoch</td><td>2.0</td></tr><tr><td>train/global_step</td><td>1260</td></tr><tr><td>train/grad_norm</td><td>3.38398</td></tr><tr><td>train/learning_rate</td><td>8e-05</td></tr><tr><td>train/loss</td><td>0.5787</td></tr></table><br/></div></div>"
      ],
      "text/plain": [
       "<IPython.core.display.HTML object>"
      ]
     },
     "metadata": {},
     "output_type": "display_data"
    },
    {
     "data": {
      "text/html": [
       " View run <strong style=\"color:#cdcd00\">trial-15</strong> at: <a href='https://wandb.ai/master-2024/MiniLM/runs/wijt8xl7' target=\"_blank\">https://wandb.ai/master-2024/MiniLM/runs/wijt8xl7</a><br/>Synced 5 W&B file(s), 0 media file(s), 0 artifact file(s) and 0 other file(s)"
      ],
      "text/plain": [
       "<IPython.core.display.HTML object>"
      ]
     },
     "metadata": {},
     "output_type": "display_data"
    },
    {
     "data": {
      "text/html": [
       "Find logs at: <code>./wandb/run-20240419_194640-wijt8xl7/logs</code>"
      ],
      "text/plain": [
       "<IPython.core.display.HTML object>"
      ]
     },
     "metadata": {},
     "output_type": "display_data"
    },
    {
     "data": {
      "text/html": [
       "Successfully finished last run (ID:wijt8xl7). Initializing new run:<br/>"
      ],
      "text/plain": [
       "<IPython.core.display.HTML object>"
      ]
     },
     "metadata": {},
     "output_type": "display_data"
    },
    {
     "data": {
      "text/html": [
       "wandb version 0.16.6 is available!  To upgrade, please run:\n",
       " $ pip install wandb --upgrade"
      ],
      "text/plain": [
       "<IPython.core.display.HTML object>"
      ]
     },
     "metadata": {},
     "output_type": "display_data"
    },
    {
     "data": {
      "text/html": [
       "Tracking run with wandb version 0.16.4"
      ],
      "text/plain": [
       "<IPython.core.display.HTML object>"
      ]
     },
     "metadata": {},
     "output_type": "display_data"
    },
    {
     "data": {
      "text/html": [
       "Run data is saved locally in <code>/net/fs-2/scale/OrionStore/Home/joteklem/Pytorch_models/wandb/run-20240419_194758-qjtnucy0</code>"
      ],
      "text/plain": [
       "<IPython.core.display.HTML object>"
      ]
     },
     "metadata": {},
     "output_type": "display_data"
    },
    {
     "data": {
      "text/html": [
       "Syncing run <strong><a href='https://wandb.ai/master-2024/MiniLM/runs/qjtnucy0' target=\"_blank\">trial-16</a></strong> to <a href='https://wandb.ai/master-2024/MiniLM' target=\"_blank\">Weights & Biases</a> (<a href='https://wandb.me/run' target=\"_blank\">docs</a>)<br/>"
      ],
      "text/plain": [
       "<IPython.core.display.HTML object>"
      ]
     },
     "metadata": {},
     "output_type": "display_data"
    },
    {
     "data": {
      "text/html": [
       " View project at <a href='https://wandb.ai/master-2024/MiniLM' target=\"_blank\">https://wandb.ai/master-2024/MiniLM</a>"
      ],
      "text/plain": [
       "<IPython.core.display.HTML object>"
      ]
     },
     "metadata": {},
     "output_type": "display_data"
    },
    {
     "data": {
      "text/html": [
       " View run at <a href='https://wandb.ai/master-2024/MiniLM/runs/qjtnucy0' target=\"_blank\">https://wandb.ai/master-2024/MiniLM/runs/qjtnucy0</a>"
      ],
      "text/plain": [
       "<IPython.core.display.HTML object>"
      ]
     },
     "metadata": {},
     "output_type": "display_data"
    },
    {
     "name": "stderr",
     "output_type": "stream",
     "text": [
      "/net/fs-2/scale/OrionStore/Scratch/joteklem/MyCondaEnvironments/Python3.11/orion_env/lib/python3.11/site-packages/accelerate/accelerator.py:432: FutureWarning: Passing the following arguments to `Accelerator` is deprecated and will be removed in version 1.0 of Accelerate: dict_keys(['dispatch_batches', 'split_batches', 'even_batches', 'use_seedable_sampler']). Please pass an `accelerate.DataLoaderConfiguration` instead: \n",
      "dataloader_config = DataLoaderConfiguration(dispatch_batches=None, split_batches=False, even_batches=True, use_seedable_sampler=True)\n",
      "  warnings.warn(\n",
      "Detected kernel version 3.10.0, which is below the recommended minimum of 5.5.0; this can cause the process to hang. It is recommended to upgrade the kernel to the minimum version or higher.\n"
     ]
    },
    {
     "name": "stdout",
     "output_type": "stream",
     "text": [
      "Starting trial 16\n"
     ]
    },
    {
     "data": {
      "text/html": [
       "\n",
       "    <div>\n",
       "      \n",
       "      <progress value='1261' max='2520' style='width:300px; height:20px; vertical-align: middle;'></progress>\n",
       "      [1259/2520 01:05 < 01:05, 19.13 it/s, Epoch 2.00/4]\n",
       "    </div>\n",
       "    <table border=\"1\" class=\"dataframe\">\n",
       "  <thead>\n",
       " <tr style=\"text-align: left;\">\n",
       "      <th>Epoch</th>\n",
       "      <th>Training Loss</th>\n",
       "      <th>Validation Loss</th>\n",
       "      <th>Accuracy</th>\n",
       "      <th>Balanced accuracy</th>\n",
       "      <th>F1 weighted</th>\n",
       "      <th>F1 macro</th>\n",
       "      <th>F1 micro</th>\n",
       "      <th>Classification report</th>\n",
       "    </tr>\n",
       "  </thead>\n",
       "  <tbody>\n",
       "    <tr>\n",
       "      <td>1</td>\n",
       "      <td>No log</td>\n",
       "      <td>0.550732</td>\n",
       "      <td>0.796429</td>\n",
       "      <td>0.647302</td>\n",
       "      <td>0.784627</td>\n",
       "      <td>0.684422</td>\n",
       "      <td>0.796429</td>\n",
       "      <td>{'0': {'precision': 0.7420634920634921, 'recall': 0.6247216035634744, 'f1-score': 0.6783555018137848, 'support': 898.0}, '1': {'precision': 0.8188167625308135, 'recall': 0.9274080967892043, 'f1-score': 0.8697359807986036, 'support': 2149.0}, '2': {'precision': 0.7176470588235294, 'recall': 0.38977635782747605, 'f1-score': 0.505175983436853, 'support': 313.0}, 'accuracy': 0.7964285714285714, 'macro avg': {'precision': 0.7595091044726118, 'recall': 0.6473020193933849, 'f1-score': 0.6844224886830804, 'support': 3360.0}, 'weighted avg': {'precision': 0.7888790976081841, 'recall': 0.7964285714285714, 'f1-score': 0.7846267696966407, 'support': 3360.0}}</td>\n",
       "    </tr>\n",
       "  </tbody>\n",
       "</table><p>\n",
       "    <div>\n",
       "      \n",
       "      <progress value='420' max='420' style='width:300px; height:20px; vertical-align: middle;'></progress>\n",
       "      [420/420 00:02]\n",
       "    </div>\n",
       "    "
      ],
      "text/plain": [
       "<IPython.core.display.HTML object>"
      ]
     },
     "metadata": {},
     "output_type": "display_data"
    },
    {
     "name": "stderr",
     "output_type": "stream",
     "text": [
      "[I 2024-04-19 19:49:15,027] Trial 16 pruned. \n"
     ]
    },
    {
     "data": {
      "text/html": [
       "Finishing last run (ID:qjtnucy0) before initializing another..."
      ],
      "text/plain": [
       "<IPython.core.display.HTML object>"
      ]
     },
     "metadata": {},
     "output_type": "display_data"
    },
    {
     "data": {
      "text/html": [
       "<style>\n",
       "    table.wandb td:nth-child(1) { padding: 0 10px; text-align: left ; width: auto;} td:nth-child(2) {text-align: left ; width: 100%}\n",
       "    .wandb-row { display: flex; flex-direction: row; flex-wrap: wrap; justify-content: flex-start; width: 100% }\n",
       "    .wandb-col { display: flex; flex-direction: column; flex-basis: 100%; flex: 1; padding: 10px; }\n",
       "    </style>\n",
       "<div class=\"wandb-row\"><div class=\"wandb-col\"><h3>Run history:</h3><br/><table class=\"wandb\"><tr><td>eval/Accuracy</td><td>▁█</td></tr><tr><td>eval/Balanced accuracy</td><td>▁█</td></tr><tr><td>eval/F1 macro</td><td>▁█</td></tr><tr><td>eval/F1 micro</td><td>▁█</td></tr><tr><td>eval/F1 weighted</td><td>▁█</td></tr><tr><td>eval/loss</td><td>█▁</td></tr><tr><td>eval/runtime</td><td>▁█</td></tr><tr><td>eval/samples_per_second</td><td>█▁</td></tr><tr><td>eval/steps_per_second</td><td>█▁</td></tr><tr><td>train/epoch</td><td>▁██</td></tr><tr><td>train/global_step</td><td>▁██</td></tr><tr><td>train/grad_norm</td><td>▁</td></tr><tr><td>train/learning_rate</td><td>▁</td></tr><tr><td>train/loss</td><td>▁</td></tr></table><br/></div><div class=\"wandb-col\"><h3>Run summary:</h3><br/><table class=\"wandb\"><tr><td>eval/Accuracy</td><td>0.81071</td></tr><tr><td>eval/Balanced accuracy</td><td>0.73094</td></tr><tr><td>eval/F1 macro</td><td>0.74399</td></tr><tr><td>eval/F1 micro</td><td>0.81071</td></tr><tr><td>eval/F1 weighted</td><td>0.80781</td></tr><tr><td>eval/loss</td><td>0.53202</td></tr><tr><td>eval/runtime</td><td>2.795</td></tr><tr><td>eval/samples_per_second</td><td>1202.128</td></tr><tr><td>eval/steps_per_second</td><td>150.266</td></tr><tr><td>train/epoch</td><td>2.0</td></tr><tr><td>train/global_step</td><td>1260</td></tr><tr><td>train/grad_norm</td><td>5.84401</td></tr><tr><td>train/learning_rate</td><td>6e-05</td></tr><tr><td>train/loss</td><td>0.5989</td></tr></table><br/></div></div>"
      ],
      "text/plain": [
       "<IPython.core.display.HTML object>"
      ]
     },
     "metadata": {},
     "output_type": "display_data"
    },
    {
     "data": {
      "text/html": [
       " View run <strong style=\"color:#cdcd00\">trial-16</strong> at: <a href='https://wandb.ai/master-2024/MiniLM/runs/qjtnucy0' target=\"_blank\">https://wandb.ai/master-2024/MiniLM/runs/qjtnucy0</a><br/>Synced 5 W&B file(s), 0 media file(s), 0 artifact file(s) and 0 other file(s)"
      ],
      "text/plain": [
       "<IPython.core.display.HTML object>"
      ]
     },
     "metadata": {},
     "output_type": "display_data"
    },
    {
     "data": {
      "text/html": [
       "Find logs at: <code>./wandb/run-20240419_194758-qjtnucy0/logs</code>"
      ],
      "text/plain": [
       "<IPython.core.display.HTML object>"
      ]
     },
     "metadata": {},
     "output_type": "display_data"
    },
    {
     "data": {
      "text/html": [
       "Successfully finished last run (ID:qjtnucy0). Initializing new run:<br/>"
      ],
      "text/plain": [
       "<IPython.core.display.HTML object>"
      ]
     },
     "metadata": {},
     "output_type": "display_data"
    },
    {
     "data": {
      "text/html": [
       "wandb version 0.16.6 is available!  To upgrade, please run:\n",
       " $ pip install wandb --upgrade"
      ],
      "text/plain": [
       "<IPython.core.display.HTML object>"
      ]
     },
     "metadata": {},
     "output_type": "display_data"
    },
    {
     "data": {
      "text/html": [
       "Tracking run with wandb version 0.16.4"
      ],
      "text/plain": [
       "<IPython.core.display.HTML object>"
      ]
     },
     "metadata": {},
     "output_type": "display_data"
    },
    {
     "data": {
      "text/html": [
       "Run data is saved locally in <code>/net/fs-2/scale/OrionStore/Home/joteklem/Pytorch_models/wandb/run-20240419_194915-o2oh4yso</code>"
      ],
      "text/plain": [
       "<IPython.core.display.HTML object>"
      ]
     },
     "metadata": {},
     "output_type": "display_data"
    },
    {
     "data": {
      "text/html": [
       "Syncing run <strong><a href='https://wandb.ai/master-2024/MiniLM/runs/o2oh4yso' target=\"_blank\">trial-17</a></strong> to <a href='https://wandb.ai/master-2024/MiniLM' target=\"_blank\">Weights & Biases</a> (<a href='https://wandb.me/run' target=\"_blank\">docs</a>)<br/>"
      ],
      "text/plain": [
       "<IPython.core.display.HTML object>"
      ]
     },
     "metadata": {},
     "output_type": "display_data"
    },
    {
     "data": {
      "text/html": [
       " View project at <a href='https://wandb.ai/master-2024/MiniLM' target=\"_blank\">https://wandb.ai/master-2024/MiniLM</a>"
      ],
      "text/plain": [
       "<IPython.core.display.HTML object>"
      ]
     },
     "metadata": {},
     "output_type": "display_data"
    },
    {
     "data": {
      "text/html": [
       " View run at <a href='https://wandb.ai/master-2024/MiniLM/runs/o2oh4yso' target=\"_blank\">https://wandb.ai/master-2024/MiniLM/runs/o2oh4yso</a>"
      ],
      "text/plain": [
       "<IPython.core.display.HTML object>"
      ]
     },
     "metadata": {},
     "output_type": "display_data"
    },
    {
     "name": "stdout",
     "output_type": "stream",
     "text": [
      "Starting trial 17\n"
     ]
    },
    {
     "name": "stderr",
     "output_type": "stream",
     "text": [
      "/net/fs-2/scale/OrionStore/Scratch/joteklem/MyCondaEnvironments/Python3.11/orion_env/lib/python3.11/site-packages/accelerate/accelerator.py:432: FutureWarning: Passing the following arguments to `Accelerator` is deprecated and will be removed in version 1.0 of Accelerate: dict_keys(['dispatch_batches', 'split_batches', 'even_batches', 'use_seedable_sampler']). Please pass an `accelerate.DataLoaderConfiguration` instead: \n",
      "dataloader_config = DataLoaderConfiguration(dispatch_batches=None, split_batches=False, even_batches=True, use_seedable_sampler=True)\n",
      "  warnings.warn(\n",
      "Detected kernel version 3.10.0, which is below the recommended minimum of 5.5.0; this can cause the process to hang. It is recommended to upgrade the kernel to the minimum version or higher.\n"
     ]
    },
    {
     "data": {
      "text/html": [
       "\n",
       "    <div>\n",
       "      \n",
       "      <progress value='631' max='2520' style='width:300px; height:20px; vertical-align: middle;'></progress>\n",
       "      [ 630/2520 00:32 < 01:39, 19.05 it/s, Epoch 1.00/4]\n",
       "    </div>\n",
       "    <table border=\"1\" class=\"dataframe\">\n",
       "  <thead>\n",
       " <tr style=\"text-align: left;\">\n",
       "      <th>Epoch</th>\n",
       "      <th>Training Loss</th>\n",
       "      <th>Validation Loss</th>\n",
       "    </tr>\n",
       "  </thead>\n",
       "  <tbody>\n",
       "  </tbody>\n",
       "</table><p>\n",
       "    <div>\n",
       "      \n",
       "      <progress value='420' max='420' style='width:300px; height:20px; vertical-align: middle;'></progress>\n",
       "      [420/420 00:02]\n",
       "    </div>\n",
       "    "
      ],
      "text/plain": [
       "<IPython.core.display.HTML object>"
      ]
     },
     "metadata": {},
     "output_type": "display_data"
    },
    {
     "name": "stderr",
     "output_type": "stream",
     "text": [
      "[I 2024-04-19 19:50:00,159] Trial 17 pruned. \n"
     ]
    },
    {
     "data": {
      "text/html": [
       "Finishing last run (ID:o2oh4yso) before initializing another..."
      ],
      "text/plain": [
       "<IPython.core.display.HTML object>"
      ]
     },
     "metadata": {},
     "output_type": "display_data"
    },
    {
     "data": {
      "text/html": [
       "<style>\n",
       "    table.wandb td:nth-child(1) { padding: 0 10px; text-align: left ; width: auto;} td:nth-child(2) {text-align: left ; width: 100%}\n",
       "    .wandb-row { display: flex; flex-direction: row; flex-wrap: wrap; justify-content: flex-start; width: 100% }\n",
       "    .wandb-col { display: flex; flex-direction: column; flex-basis: 100%; flex: 1; padding: 10px; }\n",
       "    </style>\n",
       "<div class=\"wandb-row\"><div class=\"wandb-col\"><h3>Run history:</h3><br/><table class=\"wandb\"><tr><td>eval/Accuracy</td><td>▁</td></tr><tr><td>eval/Balanced accuracy</td><td>▁</td></tr><tr><td>eval/F1 macro</td><td>▁</td></tr><tr><td>eval/F1 micro</td><td>▁</td></tr><tr><td>eval/F1 weighted</td><td>▁</td></tr><tr><td>eval/loss</td><td>▁</td></tr><tr><td>eval/runtime</td><td>▁</td></tr><tr><td>eval/samples_per_second</td><td>▁</td></tr><tr><td>eval/steps_per_second</td><td>▁</td></tr><tr><td>train/epoch</td><td>▁</td></tr><tr><td>train/global_step</td><td>▁</td></tr></table><br/></div><div class=\"wandb-col\"><h3>Run summary:</h3><br/><table class=\"wandb\"><tr><td>eval/Accuracy</td><td>0.78988</td></tr><tr><td>eval/Balanced accuracy</td><td>0.62743</td></tr><tr><td>eval/F1 macro</td><td>0.67496</td></tr><tr><td>eval/F1 micro</td><td>0.78988</td></tr><tr><td>eval/F1 weighted</td><td>0.7715</td></tr><tr><td>eval/loss</td><td>0.56021</td></tr><tr><td>eval/runtime</td><td>2.8525</td></tr><tr><td>eval/samples_per_second</td><td>1177.911</td></tr><tr><td>eval/steps_per_second</td><td>147.239</td></tr><tr><td>train/epoch</td><td>1.0</td></tr><tr><td>train/global_step</td><td>630</td></tr></table><br/></div></div>"
      ],
      "text/plain": [
       "<IPython.core.display.HTML object>"
      ]
     },
     "metadata": {},
     "output_type": "display_data"
    },
    {
     "data": {
      "text/html": [
       " View run <strong style=\"color:#cdcd00\">trial-17</strong> at: <a href='https://wandb.ai/master-2024/MiniLM/runs/o2oh4yso' target=\"_blank\">https://wandb.ai/master-2024/MiniLM/runs/o2oh4yso</a><br/>Synced 5 W&B file(s), 0 media file(s), 0 artifact file(s) and 0 other file(s)"
      ],
      "text/plain": [
       "<IPython.core.display.HTML object>"
      ]
     },
     "metadata": {},
     "output_type": "display_data"
    },
    {
     "data": {
      "text/html": [
       "Find logs at: <code>./wandb/run-20240419_194915-o2oh4yso/logs</code>"
      ],
      "text/plain": [
       "<IPython.core.display.HTML object>"
      ]
     },
     "metadata": {},
     "output_type": "display_data"
    },
    {
     "data": {
      "text/html": [
       "Successfully finished last run (ID:o2oh4yso). Initializing new run:<br/>"
      ],
      "text/plain": [
       "<IPython.core.display.HTML object>"
      ]
     },
     "metadata": {},
     "output_type": "display_data"
    },
    {
     "data": {
      "text/html": [
       "wandb version 0.16.6 is available!  To upgrade, please run:\n",
       " $ pip install wandb --upgrade"
      ],
      "text/plain": [
       "<IPython.core.display.HTML object>"
      ]
     },
     "metadata": {},
     "output_type": "display_data"
    },
    {
     "data": {
      "text/html": [
       "Tracking run with wandb version 0.16.4"
      ],
      "text/plain": [
       "<IPython.core.display.HTML object>"
      ]
     },
     "metadata": {},
     "output_type": "display_data"
    },
    {
     "data": {
      "text/html": [
       "Run data is saved locally in <code>/net/fs-2/scale/OrionStore/Home/joteklem/Pytorch_models/wandb/run-20240419_195000-q7ytvf98</code>"
      ],
      "text/plain": [
       "<IPython.core.display.HTML object>"
      ]
     },
     "metadata": {},
     "output_type": "display_data"
    },
    {
     "data": {
      "text/html": [
       "Syncing run <strong><a href='https://wandb.ai/master-2024/MiniLM/runs/q7ytvf98' target=\"_blank\">trial-18</a></strong> to <a href='https://wandb.ai/master-2024/MiniLM' target=\"_blank\">Weights & Biases</a> (<a href='https://wandb.me/run' target=\"_blank\">docs</a>)<br/>"
      ],
      "text/plain": [
       "<IPython.core.display.HTML object>"
      ]
     },
     "metadata": {},
     "output_type": "display_data"
    },
    {
     "data": {
      "text/html": [
       " View project at <a href='https://wandb.ai/master-2024/MiniLM' target=\"_blank\">https://wandb.ai/master-2024/MiniLM</a>"
      ],
      "text/plain": [
       "<IPython.core.display.HTML object>"
      ]
     },
     "metadata": {},
     "output_type": "display_data"
    },
    {
     "data": {
      "text/html": [
       " View run at <a href='https://wandb.ai/master-2024/MiniLM/runs/q7ytvf98' target=\"_blank\">https://wandb.ai/master-2024/MiniLM/runs/q7ytvf98</a>"
      ],
      "text/plain": [
       "<IPython.core.display.HTML object>"
      ]
     },
     "metadata": {},
     "output_type": "display_data"
    },
    {
     "name": "stderr",
     "output_type": "stream",
     "text": [
      "/net/fs-2/scale/OrionStore/Scratch/joteklem/MyCondaEnvironments/Python3.11/orion_env/lib/python3.11/site-packages/accelerate/accelerator.py:432: FutureWarning: Passing the following arguments to `Accelerator` is deprecated and will be removed in version 1.0 of Accelerate: dict_keys(['dispatch_batches', 'split_batches', 'even_batches', 'use_seedable_sampler']). Please pass an `accelerate.DataLoaderConfiguration` instead: \n",
      "dataloader_config = DataLoaderConfiguration(dispatch_batches=None, split_batches=False, even_batches=True, use_seedable_sampler=True)\n",
      "  warnings.warn(\n",
      "Detected kernel version 3.10.0, which is below the recommended minimum of 5.5.0; this can cause the process to hang. It is recommended to upgrade the kernel to the minimum version or higher.\n"
     ]
    },
    {
     "name": "stdout",
     "output_type": "stream",
     "text": [
      "Starting trial 18\n"
     ]
    },
    {
     "data": {
      "text/html": [
       "\n",
       "    <div>\n",
       "      \n",
       "      <progress value='631' max='1890' style='width:300px; height:20px; vertical-align: middle;'></progress>\n",
       "      [ 631/1890 00:31 < 01:02, 20.00 it/s, Epoch 1/3]\n",
       "    </div>\n",
       "    <table border=\"1\" class=\"dataframe\">\n",
       "  <thead>\n",
       " <tr style=\"text-align: left;\">\n",
       "      <th>Epoch</th>\n",
       "      <th>Training Loss</th>\n",
       "      <th>Validation Loss</th>\n",
       "    </tr>\n",
       "  </thead>\n",
       "  <tbody>\n",
       "  </tbody>\n",
       "</table><p>\n",
       "    <div>\n",
       "      \n",
       "      <progress value='420' max='420' style='width:300px; height:20px; vertical-align: middle;'></progress>\n",
       "      [420/420 00:02]\n",
       "    </div>\n",
       "    "
      ],
      "text/plain": [
       "<IPython.core.display.HTML object>"
      ]
     },
     "metadata": {},
     "output_type": "display_data"
    },
    {
     "name": "stderr",
     "output_type": "stream",
     "text": [
      "[I 2024-04-19 19:50:42,752] Trial 18 pruned. \n"
     ]
    },
    {
     "data": {
      "text/html": [
       "Finishing last run (ID:q7ytvf98) before initializing another..."
      ],
      "text/plain": [
       "<IPython.core.display.HTML object>"
      ]
     },
     "metadata": {},
     "output_type": "display_data"
    },
    {
     "data": {
      "text/html": [
       "<style>\n",
       "    table.wandb td:nth-child(1) { padding: 0 10px; text-align: left ; width: auto;} td:nth-child(2) {text-align: left ; width: 100%}\n",
       "    .wandb-row { display: flex; flex-direction: row; flex-wrap: wrap; justify-content: flex-start; width: 100% }\n",
       "    .wandb-col { display: flex; flex-direction: column; flex-basis: 100%; flex: 1; padding: 10px; }\n",
       "    </style>\n",
       "<div class=\"wandb-row\"><div class=\"wandb-col\"><h3>Run history:</h3><br/><table class=\"wandb\"><tr><td>eval/Accuracy</td><td>▁</td></tr><tr><td>eval/Balanced accuracy</td><td>▁</td></tr><tr><td>eval/F1 macro</td><td>▁</td></tr><tr><td>eval/F1 micro</td><td>▁</td></tr><tr><td>eval/F1 weighted</td><td>▁</td></tr><tr><td>eval/loss</td><td>▁</td></tr><tr><td>eval/runtime</td><td>▁</td></tr><tr><td>eval/samples_per_second</td><td>▁</td></tr><tr><td>eval/steps_per_second</td><td>▁</td></tr><tr><td>train/epoch</td><td>▁</td></tr><tr><td>train/global_step</td><td>▁</td></tr></table><br/></div><div class=\"wandb-col\"><h3>Run summary:</h3><br/><table class=\"wandb\"><tr><td>eval/Accuracy</td><td>0.76845</td></tr><tr><td>eval/Balanced accuracy</td><td>0.5838</td></tr><tr><td>eval/F1 macro</td><td>0.62878</td></tr><tr><td>eval/F1 micro</td><td>0.76845</td></tr><tr><td>eval/F1 weighted</td><td>0.74402</td></tr><tr><td>eval/loss</td><td>0.60814</td></tr><tr><td>eval/runtime</td><td>2.7508</td></tr><tr><td>eval/samples_per_second</td><td>1221.476</td></tr><tr><td>eval/steps_per_second</td><td>152.684</td></tr><tr><td>train/epoch</td><td>1.0</td></tr><tr><td>train/global_step</td><td>630</td></tr></table><br/></div></div>"
      ],
      "text/plain": [
       "<IPython.core.display.HTML object>"
      ]
     },
     "metadata": {},
     "output_type": "display_data"
    },
    {
     "data": {
      "text/html": [
       " View run <strong style=\"color:#cdcd00\">trial-18</strong> at: <a href='https://wandb.ai/master-2024/MiniLM/runs/q7ytvf98' target=\"_blank\">https://wandb.ai/master-2024/MiniLM/runs/q7ytvf98</a><br/>Synced 5 W&B file(s), 0 media file(s), 0 artifact file(s) and 0 other file(s)"
      ],
      "text/plain": [
       "<IPython.core.display.HTML object>"
      ]
     },
     "metadata": {},
     "output_type": "display_data"
    },
    {
     "data": {
      "text/html": [
       "Find logs at: <code>./wandb/run-20240419_195000-q7ytvf98/logs</code>"
      ],
      "text/plain": [
       "<IPython.core.display.HTML object>"
      ]
     },
     "metadata": {},
     "output_type": "display_data"
    },
    {
     "data": {
      "text/html": [
       "Successfully finished last run (ID:q7ytvf98). Initializing new run:<br/>"
      ],
      "text/plain": [
       "<IPython.core.display.HTML object>"
      ]
     },
     "metadata": {},
     "output_type": "display_data"
    },
    {
     "data": {
      "text/html": [
       "wandb version 0.16.6 is available!  To upgrade, please run:\n",
       " $ pip install wandb --upgrade"
      ],
      "text/plain": [
       "<IPython.core.display.HTML object>"
      ]
     },
     "metadata": {},
     "output_type": "display_data"
    },
    {
     "data": {
      "text/html": [
       "Tracking run with wandb version 0.16.4"
      ],
      "text/plain": [
       "<IPython.core.display.HTML object>"
      ]
     },
     "metadata": {},
     "output_type": "display_data"
    },
    {
     "data": {
      "text/html": [
       "Run data is saved locally in <code>/net/fs-2/scale/OrionStore/Home/joteklem/Pytorch_models/wandb/run-20240419_195042-21mqb3an</code>"
      ],
      "text/plain": [
       "<IPython.core.display.HTML object>"
      ]
     },
     "metadata": {},
     "output_type": "display_data"
    },
    {
     "data": {
      "text/html": [
       "Syncing run <strong><a href='https://wandb.ai/master-2024/MiniLM/runs/21mqb3an' target=\"_blank\">trial-19</a></strong> to <a href='https://wandb.ai/master-2024/MiniLM' target=\"_blank\">Weights & Biases</a> (<a href='https://wandb.me/run' target=\"_blank\">docs</a>)<br/>"
      ],
      "text/plain": [
       "<IPython.core.display.HTML object>"
      ]
     },
     "metadata": {},
     "output_type": "display_data"
    },
    {
     "data": {
      "text/html": [
       " View project at <a href='https://wandb.ai/master-2024/MiniLM' target=\"_blank\">https://wandb.ai/master-2024/MiniLM</a>"
      ],
      "text/plain": [
       "<IPython.core.display.HTML object>"
      ]
     },
     "metadata": {},
     "output_type": "display_data"
    },
    {
     "data": {
      "text/html": [
       " View run at <a href='https://wandb.ai/master-2024/MiniLM/runs/21mqb3an' target=\"_blank\">https://wandb.ai/master-2024/MiniLM/runs/21mqb3an</a>"
      ],
      "text/plain": [
       "<IPython.core.display.HTML object>"
      ]
     },
     "metadata": {},
     "output_type": "display_data"
    },
    {
     "name": "stdout",
     "output_type": "stream",
     "text": [
      "Starting trial 19\n"
     ]
    },
    {
     "name": "stderr",
     "output_type": "stream",
     "text": [
      "/net/fs-2/scale/OrionStore/Scratch/joteklem/MyCondaEnvironments/Python3.11/orion_env/lib/python3.11/site-packages/accelerate/accelerator.py:432: FutureWarning: Passing the following arguments to `Accelerator` is deprecated and will be removed in version 1.0 of Accelerate: dict_keys(['dispatch_batches', 'split_batches', 'even_batches', 'use_seedable_sampler']). Please pass an `accelerate.DataLoaderConfiguration` instead: \n",
      "dataloader_config = DataLoaderConfiguration(dispatch_batches=None, split_batches=False, even_batches=True, use_seedable_sampler=True)\n",
      "  warnings.warn(\n",
      "Detected kernel version 3.10.0, which is below the recommended minimum of 5.5.0; this can cause the process to hang. It is recommended to upgrade the kernel to the minimum version or higher.\n"
     ]
    },
    {
     "data": {
      "text/html": [
       "\n",
       "    <div>\n",
       "      \n",
       "      <progress value='316' max='1575' style='width:300px; height:20px; vertical-align: middle;'></progress>\n",
       "      [ 315/1575 00:15 < 01:00, 20.69 it/s, Epoch 1.00/5]\n",
       "    </div>\n",
       "    <table border=\"1\" class=\"dataframe\">\n",
       "  <thead>\n",
       " <tr style=\"text-align: left;\">\n",
       "      <th>Epoch</th>\n",
       "      <th>Training Loss</th>\n",
       "      <th>Validation Loss</th>\n",
       "    </tr>\n",
       "  </thead>\n",
       "  <tbody>\n",
       "  </tbody>\n",
       "</table><p>\n",
       "    <div>\n",
       "      \n",
       "      <progress value='210' max='210' style='width:300px; height:20px; vertical-align: middle;'></progress>\n",
       "      [210/210 00:01]\n",
       "    </div>\n",
       "    "
      ],
      "text/plain": [
       "<IPython.core.display.HTML object>"
      ]
     },
     "metadata": {},
     "output_type": "display_data"
    },
    {
     "name": "stderr",
     "output_type": "stream",
     "text": [
      "[I 2024-04-19 19:51:08,191] Trial 19 pruned. \n"
     ]
    },
    {
     "data": {
      "text/html": [
       "Finishing last run (ID:21mqb3an) before initializing another..."
      ],
      "text/plain": [
       "<IPython.core.display.HTML object>"
      ]
     },
     "metadata": {},
     "output_type": "display_data"
    },
    {
     "data": {
      "text/html": [
       "<style>\n",
       "    table.wandb td:nth-child(1) { padding: 0 10px; text-align: left ; width: auto;} td:nth-child(2) {text-align: left ; width: 100%}\n",
       "    .wandb-row { display: flex; flex-direction: row; flex-wrap: wrap; justify-content: flex-start; width: 100% }\n",
       "    .wandb-col { display: flex; flex-direction: column; flex-basis: 100%; flex: 1; padding: 10px; }\n",
       "    </style>\n",
       "<div class=\"wandb-row\"><div class=\"wandb-col\"><h3>Run history:</h3><br/><table class=\"wandb\"><tr><td>eval/Accuracy</td><td>▁</td></tr><tr><td>eval/Balanced accuracy</td><td>▁</td></tr><tr><td>eval/F1 macro</td><td>▁</td></tr><tr><td>eval/F1 micro</td><td>▁</td></tr><tr><td>eval/F1 weighted</td><td>▁</td></tr><tr><td>eval/loss</td><td>▁</td></tr><tr><td>eval/runtime</td><td>▁</td></tr><tr><td>eval/samples_per_second</td><td>▁</td></tr><tr><td>eval/steps_per_second</td><td>▁</td></tr><tr><td>train/epoch</td><td>▁</td></tr><tr><td>train/global_step</td><td>▁</td></tr></table><br/></div><div class=\"wandb-col\"><h3>Run summary:</h3><br/><table class=\"wandb\"><tr><td>eval/Accuracy</td><td>0.78482</td></tr><tr><td>eval/Balanced accuracy</td><td>0.60382</td></tr><tr><td>eval/F1 macro</td><td>0.65085</td></tr><tr><td>eval/F1 micro</td><td>0.78482</td></tr><tr><td>eval/F1 weighted</td><td>0.76362</td></tr><tr><td>eval/loss</td><td>0.56607</td></tr><tr><td>eval/runtime</td><td>1.5548</td></tr><tr><td>eval/samples_per_second</td><td>2161.049</td></tr><tr><td>eval/steps_per_second</td><td>135.066</td></tr><tr><td>train/epoch</td><td>1.0</td></tr><tr><td>train/global_step</td><td>315</td></tr></table><br/></div></div>"
      ],
      "text/plain": [
       "<IPython.core.display.HTML object>"
      ]
     },
     "metadata": {},
     "output_type": "display_data"
    },
    {
     "data": {
      "text/html": [
       " View run <strong style=\"color:#cdcd00\">trial-19</strong> at: <a href='https://wandb.ai/master-2024/MiniLM/runs/21mqb3an' target=\"_blank\">https://wandb.ai/master-2024/MiniLM/runs/21mqb3an</a><br/>Synced 5 W&B file(s), 0 media file(s), 0 artifact file(s) and 0 other file(s)"
      ],
      "text/plain": [
       "<IPython.core.display.HTML object>"
      ]
     },
     "metadata": {},
     "output_type": "display_data"
    },
    {
     "data": {
      "text/html": [
       "Find logs at: <code>./wandb/run-20240419_195042-21mqb3an/logs</code>"
      ],
      "text/plain": [
       "<IPython.core.display.HTML object>"
      ]
     },
     "metadata": {},
     "output_type": "display_data"
    },
    {
     "data": {
      "text/html": [
       "Successfully finished last run (ID:21mqb3an). Initializing new run:<br/>"
      ],
      "text/plain": [
       "<IPython.core.display.HTML object>"
      ]
     },
     "metadata": {},
     "output_type": "display_data"
    },
    {
     "data": {
      "text/html": [
       "wandb version 0.16.6 is available!  To upgrade, please run:\n",
       " $ pip install wandb --upgrade"
      ],
      "text/plain": [
       "<IPython.core.display.HTML object>"
      ]
     },
     "metadata": {},
     "output_type": "display_data"
    },
    {
     "data": {
      "text/html": [
       "Tracking run with wandb version 0.16.4"
      ],
      "text/plain": [
       "<IPython.core.display.HTML object>"
      ]
     },
     "metadata": {},
     "output_type": "display_data"
    },
    {
     "data": {
      "text/html": [
       "Run data is saved locally in <code>/net/fs-2/scale/OrionStore/Home/joteklem/Pytorch_models/wandb/run-20240419_195108-olelfkzr</code>"
      ],
      "text/plain": [
       "<IPython.core.display.HTML object>"
      ]
     },
     "metadata": {},
     "output_type": "display_data"
    },
    {
     "data": {
      "text/html": [
       "Syncing run <strong><a href='https://wandb.ai/master-2024/MiniLM/runs/olelfkzr' target=\"_blank\">trial-20</a></strong> to <a href='https://wandb.ai/master-2024/MiniLM' target=\"_blank\">Weights & Biases</a> (<a href='https://wandb.me/run' target=\"_blank\">docs</a>)<br/>"
      ],
      "text/plain": [
       "<IPython.core.display.HTML object>"
      ]
     },
     "metadata": {},
     "output_type": "display_data"
    },
    {
     "data": {
      "text/html": [
       " View project at <a href='https://wandb.ai/master-2024/MiniLM' target=\"_blank\">https://wandb.ai/master-2024/MiniLM</a>"
      ],
      "text/plain": [
       "<IPython.core.display.HTML object>"
      ]
     },
     "metadata": {},
     "output_type": "display_data"
    },
    {
     "data": {
      "text/html": [
       " View run at <a href='https://wandb.ai/master-2024/MiniLM/runs/olelfkzr' target=\"_blank\">https://wandb.ai/master-2024/MiniLM/runs/olelfkzr</a>"
      ],
      "text/plain": [
       "<IPython.core.display.HTML object>"
      ]
     },
     "metadata": {},
     "output_type": "display_data"
    },
    {
     "name": "stderr",
     "output_type": "stream",
     "text": [
      "/net/fs-2/scale/OrionStore/Scratch/joteklem/MyCondaEnvironments/Python3.11/orion_env/lib/python3.11/site-packages/accelerate/accelerator.py:432: FutureWarning: Passing the following arguments to `Accelerator` is deprecated and will be removed in version 1.0 of Accelerate: dict_keys(['dispatch_batches', 'split_batches', 'even_batches', 'use_seedable_sampler']). Please pass an `accelerate.DataLoaderConfiguration` instead: \n",
      "dataloader_config = DataLoaderConfiguration(dispatch_batches=None, split_batches=False, even_batches=True, use_seedable_sampler=True)\n",
      "  warnings.warn(\n",
      "Detected kernel version 3.10.0, which is below the recommended minimum of 5.5.0; this can cause the process to hang. It is recommended to upgrade the kernel to the minimum version or higher.\n"
     ]
    },
    {
     "name": "stdout",
     "output_type": "stream",
     "text": [
      "Starting trial 20\n"
     ]
    },
    {
     "data": {
      "text/html": [
       "\n",
       "    <div>\n",
       "      \n",
       "      <progress value='631' max='2520' style='width:300px; height:20px; vertical-align: middle;'></progress>\n",
       "      [ 629/2520 00:31 < 01:36, 19.66 it/s, Epoch 1.00/4]\n",
       "    </div>\n",
       "    <table border=\"1\" class=\"dataframe\">\n",
       "  <thead>\n",
       " <tr style=\"text-align: left;\">\n",
       "      <th>Epoch</th>\n",
       "      <th>Training Loss</th>\n",
       "      <th>Validation Loss</th>\n",
       "    </tr>\n",
       "  </thead>\n",
       "  <tbody>\n",
       "  </tbody>\n",
       "</table><p>\n",
       "    <div>\n",
       "      \n",
       "      <progress value='420' max='420' style='width:300px; height:20px; vertical-align: middle;'></progress>\n",
       "      [420/420 00:02]\n",
       "    </div>\n",
       "    "
      ],
      "text/plain": [
       "<IPython.core.display.HTML object>"
      ]
     },
     "metadata": {},
     "output_type": "display_data"
    },
    {
     "name": "stderr",
     "output_type": "stream",
     "text": [
      "[I 2024-04-19 19:51:50,966] Trial 20 pruned. \n"
     ]
    },
    {
     "data": {
      "text/html": [
       "Finishing last run (ID:olelfkzr) before initializing another..."
      ],
      "text/plain": [
       "<IPython.core.display.HTML object>"
      ]
     },
     "metadata": {},
     "output_type": "display_data"
    },
    {
     "data": {
      "text/html": [
       "<style>\n",
       "    table.wandb td:nth-child(1) { padding: 0 10px; text-align: left ; width: auto;} td:nth-child(2) {text-align: left ; width: 100%}\n",
       "    .wandb-row { display: flex; flex-direction: row; flex-wrap: wrap; justify-content: flex-start; width: 100% }\n",
       "    .wandb-col { display: flex; flex-direction: column; flex-basis: 100%; flex: 1; padding: 10px; }\n",
       "    </style>\n",
       "<div class=\"wandb-row\"><div class=\"wandb-col\"><h3>Run history:</h3><br/><table class=\"wandb\"><tr><td>eval/Accuracy</td><td>▁</td></tr><tr><td>eval/Balanced accuracy</td><td>▁</td></tr><tr><td>eval/F1 macro</td><td>▁</td></tr><tr><td>eval/F1 micro</td><td>▁</td></tr><tr><td>eval/F1 weighted</td><td>▁</td></tr><tr><td>eval/loss</td><td>▁</td></tr><tr><td>eval/runtime</td><td>▁</td></tr><tr><td>eval/samples_per_second</td><td>▁</td></tr><tr><td>eval/steps_per_second</td><td>▁</td></tr><tr><td>train/epoch</td><td>▁</td></tr><tr><td>train/global_step</td><td>▁</td></tr></table><br/></div><div class=\"wandb-col\"><h3>Run summary:</h3><br/><table class=\"wandb\"><tr><td>eval/Accuracy</td><td>0.78631</td></tr><tr><td>eval/Balanced accuracy</td><td>0.61053</td></tr><tr><td>eval/F1 macro</td><td>0.65775</td></tr><tr><td>eval/F1 micro</td><td>0.78631</td></tr><tr><td>eval/F1 weighted</td><td>0.76689</td></tr><tr><td>eval/loss</td><td>0.56061</td></tr><tr><td>eval/runtime</td><td>2.7664</td></tr><tr><td>eval/samples_per_second</td><td>1214.581</td></tr><tr><td>eval/steps_per_second</td><td>151.823</td></tr><tr><td>train/epoch</td><td>1.0</td></tr><tr><td>train/global_step</td><td>630</td></tr></table><br/></div></div>"
      ],
      "text/plain": [
       "<IPython.core.display.HTML object>"
      ]
     },
     "metadata": {},
     "output_type": "display_data"
    },
    {
     "data": {
      "text/html": [
       " View run <strong style=\"color:#cdcd00\">trial-20</strong> at: <a href='https://wandb.ai/master-2024/MiniLM/runs/olelfkzr' target=\"_blank\">https://wandb.ai/master-2024/MiniLM/runs/olelfkzr</a><br/>Synced 5 W&B file(s), 0 media file(s), 0 artifact file(s) and 0 other file(s)"
      ],
      "text/plain": [
       "<IPython.core.display.HTML object>"
      ]
     },
     "metadata": {},
     "output_type": "display_data"
    },
    {
     "data": {
      "text/html": [
       "Find logs at: <code>./wandb/run-20240419_195108-olelfkzr/logs</code>"
      ],
      "text/plain": [
       "<IPython.core.display.HTML object>"
      ]
     },
     "metadata": {},
     "output_type": "display_data"
    },
    {
     "data": {
      "text/html": [
       "Successfully finished last run (ID:olelfkzr). Initializing new run:<br/>"
      ],
      "text/plain": [
       "<IPython.core.display.HTML object>"
      ]
     },
     "metadata": {},
     "output_type": "display_data"
    },
    {
     "data": {
      "text/html": [
       "wandb version 0.16.6 is available!  To upgrade, please run:\n",
       " $ pip install wandb --upgrade"
      ],
      "text/plain": [
       "<IPython.core.display.HTML object>"
      ]
     },
     "metadata": {},
     "output_type": "display_data"
    },
    {
     "data": {
      "text/html": [
       "Tracking run with wandb version 0.16.4"
      ],
      "text/plain": [
       "<IPython.core.display.HTML object>"
      ]
     },
     "metadata": {},
     "output_type": "display_data"
    },
    {
     "data": {
      "text/html": [
       "Run data is saved locally in <code>/net/fs-2/scale/OrionStore/Home/joteklem/Pytorch_models/wandb/run-20240419_195151-q4wemsdv</code>"
      ],
      "text/plain": [
       "<IPython.core.display.HTML object>"
      ]
     },
     "metadata": {},
     "output_type": "display_data"
    },
    {
     "data": {
      "text/html": [
       "Syncing run <strong><a href='https://wandb.ai/master-2024/MiniLM/runs/q4wemsdv' target=\"_blank\">trial-21</a></strong> to <a href='https://wandb.ai/master-2024/MiniLM' target=\"_blank\">Weights & Biases</a> (<a href='https://wandb.me/run' target=\"_blank\">docs</a>)<br/>"
      ],
      "text/plain": [
       "<IPython.core.display.HTML object>"
      ]
     },
     "metadata": {},
     "output_type": "display_data"
    },
    {
     "data": {
      "text/html": [
       " View project at <a href='https://wandb.ai/master-2024/MiniLM' target=\"_blank\">https://wandb.ai/master-2024/MiniLM</a>"
      ],
      "text/plain": [
       "<IPython.core.display.HTML object>"
      ]
     },
     "metadata": {},
     "output_type": "display_data"
    },
    {
     "data": {
      "text/html": [
       " View run at <a href='https://wandb.ai/master-2024/MiniLM/runs/q4wemsdv' target=\"_blank\">https://wandb.ai/master-2024/MiniLM/runs/q4wemsdv</a>"
      ],
      "text/plain": [
       "<IPython.core.display.HTML object>"
      ]
     },
     "metadata": {},
     "output_type": "display_data"
    },
    {
     "name": "stdout",
     "output_type": "stream",
     "text": [
      "Starting trial 21\n"
     ]
    },
    {
     "name": "stderr",
     "output_type": "stream",
     "text": [
      "/net/fs-2/scale/OrionStore/Scratch/joteklem/MyCondaEnvironments/Python3.11/orion_env/lib/python3.11/site-packages/accelerate/accelerator.py:432: FutureWarning: Passing the following arguments to `Accelerator` is deprecated and will be removed in version 1.0 of Accelerate: dict_keys(['dispatch_batches', 'split_batches', 'even_batches', 'use_seedable_sampler']). Please pass an `accelerate.DataLoaderConfiguration` instead: \n",
      "dataloader_config = DataLoaderConfiguration(dispatch_batches=None, split_batches=False, even_batches=True, use_seedable_sampler=True)\n",
      "  warnings.warn(\n",
      "Detected kernel version 3.10.0, which is below the recommended minimum of 5.5.0; this can cause the process to hang. It is recommended to upgrade the kernel to the minimum version or higher.\n"
     ]
    },
    {
     "data": {
      "text/html": [
       "\n",
       "    <div>\n",
       "      \n",
       "      <progress value='158' max='314' style='width:300px; height:20px; vertical-align: middle;'></progress>\n",
       "      [158/314 00:07 < 00:07, 20.44 it/s, Epoch 1.00/2]\n",
       "    </div>\n",
       "    <table border=\"1\" class=\"dataframe\">\n",
       "  <thead>\n",
       " <tr style=\"text-align: left;\">\n",
       "      <th>Epoch</th>\n",
       "      <th>Training Loss</th>\n",
       "      <th>Validation Loss</th>\n",
       "    </tr>\n",
       "  </thead>\n",
       "  <tbody>\n",
       "  </tbody>\n",
       "</table><p>\n",
       "    <div>\n",
       "      \n",
       "      <progress value='105' max='105' style='width:300px; height:20px; vertical-align: middle;'></progress>\n",
       "      [105/105 00:00]\n",
       "    </div>\n",
       "    "
      ],
      "text/plain": [
       "<IPython.core.display.HTML object>"
      ]
     },
     "metadata": {},
     "output_type": "display_data"
    },
    {
     "name": "stderr",
     "output_type": "stream",
     "text": [
      "[I 2024-04-19 19:52:08,088] Trial 21 pruned. \n"
     ]
    },
    {
     "data": {
      "text/html": [
       "Finishing last run (ID:q4wemsdv) before initializing another..."
      ],
      "text/plain": [
       "<IPython.core.display.HTML object>"
      ]
     },
     "metadata": {},
     "output_type": "display_data"
    },
    {
     "data": {
      "text/html": [
       "<style>\n",
       "    table.wandb td:nth-child(1) { padding: 0 10px; text-align: left ; width: auto;} td:nth-child(2) {text-align: left ; width: 100%}\n",
       "    .wandb-row { display: flex; flex-direction: row; flex-wrap: wrap; justify-content: flex-start; width: 100% }\n",
       "    .wandb-col { display: flex; flex-direction: column; flex-basis: 100%; flex: 1; padding: 10px; }\n",
       "    </style>\n",
       "<div class=\"wandb-row\"><div class=\"wandb-col\"><h3>Run history:</h3><br/><table class=\"wandb\"><tr><td>eval/Accuracy</td><td>▁</td></tr><tr><td>eval/Balanced accuracy</td><td>▁</td></tr><tr><td>eval/F1 macro</td><td>▁</td></tr><tr><td>eval/F1 micro</td><td>▁</td></tr><tr><td>eval/F1 weighted</td><td>▁</td></tr><tr><td>eval/loss</td><td>▁</td></tr><tr><td>eval/runtime</td><td>▁</td></tr><tr><td>eval/samples_per_second</td><td>▁</td></tr><tr><td>eval/steps_per_second</td><td>▁</td></tr><tr><td>train/epoch</td><td>▁</td></tr><tr><td>train/global_step</td><td>▁</td></tr></table><br/></div><div class=\"wandb-col\"><h3>Run summary:</h3><br/><table class=\"wandb\"><tr><td>eval/Accuracy</td><td>0.77411</td></tr><tr><td>eval/Balanced accuracy</td><td>0.58579</td></tr><tr><td>eval/F1 macro</td><td>0.63405</td></tr><tr><td>eval/F1 micro</td><td>0.77411</td></tr><tr><td>eval/F1 weighted</td><td>0.74881</td></tr><tr><td>eval/loss</td><td>0.58835</td></tr><tr><td>eval/runtime</td><td>1.0143</td></tr><tr><td>eval/samples_per_second</td><td>3312.783</td></tr><tr><td>eval/steps_per_second</td><td>103.524</td></tr><tr><td>train/epoch</td><td>1.0</td></tr><tr><td>train/global_step</td><td>157</td></tr></table><br/></div></div>"
      ],
      "text/plain": [
       "<IPython.core.display.HTML object>"
      ]
     },
     "metadata": {},
     "output_type": "display_data"
    },
    {
     "data": {
      "text/html": [
       " View run <strong style=\"color:#cdcd00\">trial-21</strong> at: <a href='https://wandb.ai/master-2024/MiniLM/runs/q4wemsdv' target=\"_blank\">https://wandb.ai/master-2024/MiniLM/runs/q4wemsdv</a><br/>Synced 5 W&B file(s), 0 media file(s), 0 artifact file(s) and 0 other file(s)"
      ],
      "text/plain": [
       "<IPython.core.display.HTML object>"
      ]
     },
     "metadata": {},
     "output_type": "display_data"
    },
    {
     "data": {
      "text/html": [
       "Find logs at: <code>./wandb/run-20240419_195151-q4wemsdv/logs</code>"
      ],
      "text/plain": [
       "<IPython.core.display.HTML object>"
      ]
     },
     "metadata": {},
     "output_type": "display_data"
    },
    {
     "data": {
      "text/html": [
       "Successfully finished last run (ID:q4wemsdv). Initializing new run:<br/>"
      ],
      "text/plain": [
       "<IPython.core.display.HTML object>"
      ]
     },
     "metadata": {},
     "output_type": "display_data"
    },
    {
     "data": {
      "text/html": [
       "wandb version 0.16.6 is available!  To upgrade, please run:\n",
       " $ pip install wandb --upgrade"
      ],
      "text/plain": [
       "<IPython.core.display.HTML object>"
      ]
     },
     "metadata": {},
     "output_type": "display_data"
    },
    {
     "data": {
      "text/html": [
       "Tracking run with wandb version 0.16.4"
      ],
      "text/plain": [
       "<IPython.core.display.HTML object>"
      ]
     },
     "metadata": {},
     "output_type": "display_data"
    },
    {
     "data": {
      "text/html": [
       "Run data is saved locally in <code>/net/fs-2/scale/OrionStore/Home/joteklem/Pytorch_models/wandb/run-20240419_195208-yc0zpn5k</code>"
      ],
      "text/plain": [
       "<IPython.core.display.HTML object>"
      ]
     },
     "metadata": {},
     "output_type": "display_data"
    },
    {
     "data": {
      "text/html": [
       "Syncing run <strong><a href='https://wandb.ai/master-2024/MiniLM/runs/yc0zpn5k' target=\"_blank\">trial-22</a></strong> to <a href='https://wandb.ai/master-2024/MiniLM' target=\"_blank\">Weights & Biases</a> (<a href='https://wandb.me/run' target=\"_blank\">docs</a>)<br/>"
      ],
      "text/plain": [
       "<IPython.core.display.HTML object>"
      ]
     },
     "metadata": {},
     "output_type": "display_data"
    },
    {
     "data": {
      "text/html": [
       " View project at <a href='https://wandb.ai/master-2024/MiniLM' target=\"_blank\">https://wandb.ai/master-2024/MiniLM</a>"
      ],
      "text/plain": [
       "<IPython.core.display.HTML object>"
      ]
     },
     "metadata": {},
     "output_type": "display_data"
    },
    {
     "data": {
      "text/html": [
       " View run at <a href='https://wandb.ai/master-2024/MiniLM/runs/yc0zpn5k' target=\"_blank\">https://wandb.ai/master-2024/MiniLM/runs/yc0zpn5k</a>"
      ],
      "text/plain": [
       "<IPython.core.display.HTML object>"
      ]
     },
     "metadata": {},
     "output_type": "display_data"
    },
    {
     "name": "stdout",
     "output_type": "stream",
     "text": [
      "Starting trial 22\n"
     ]
    },
    {
     "name": "stderr",
     "output_type": "stream",
     "text": [
      "/net/fs-2/scale/OrionStore/Scratch/joteklem/MyCondaEnvironments/Python3.11/orion_env/lib/python3.11/site-packages/accelerate/accelerator.py:432: FutureWarning: Passing the following arguments to `Accelerator` is deprecated and will be removed in version 1.0 of Accelerate: dict_keys(['dispatch_batches', 'split_batches', 'even_batches', 'use_seedable_sampler']). Please pass an `accelerate.DataLoaderConfiguration` instead: \n",
      "dataloader_config = DataLoaderConfiguration(dispatch_batches=None, split_batches=False, even_batches=True, use_seedable_sampler=True)\n",
      "  warnings.warn(\n",
      "Detected kernel version 3.10.0, which is below the recommended minimum of 5.5.0; this can cause the process to hang. It is recommended to upgrade the kernel to the minimum version or higher.\n"
     ]
    },
    {
     "data": {
      "text/html": [
       "\n",
       "    <div>\n",
       "      \n",
       "      <progress value='158' max='314' style='width:300px; height:20px; vertical-align: middle;'></progress>\n",
       "      [157/314 00:08 < 00:08, 19.21 it/s, Epoch 0.99/2]\n",
       "    </div>\n",
       "    <table border=\"1\" class=\"dataframe\">\n",
       "  <thead>\n",
       " <tr style=\"text-align: left;\">\n",
       "      <th>Epoch</th>\n",
       "      <th>Training Loss</th>\n",
       "      <th>Validation Loss</th>\n",
       "    </tr>\n",
       "  </thead>\n",
       "  <tbody>\n",
       "  </tbody>\n",
       "</table><p>\n",
       "    <div>\n",
       "      \n",
       "      <progress value='105' max='105' style='width:300px; height:20px; vertical-align: middle;'></progress>\n",
       "      [105/105 00:00]\n",
       "    </div>\n",
       "    "
      ],
      "text/plain": [
       "<IPython.core.display.HTML object>"
      ]
     },
     "metadata": {},
     "output_type": "display_data"
    },
    {
     "name": "stderr",
     "output_type": "stream",
     "text": [
      "[I 2024-04-19 19:52:25,011] Trial 22 pruned. \n"
     ]
    },
    {
     "data": {
      "text/html": [
       "Finishing last run (ID:yc0zpn5k) before initializing another..."
      ],
      "text/plain": [
       "<IPython.core.display.HTML object>"
      ]
     },
     "metadata": {},
     "output_type": "display_data"
    },
    {
     "data": {
      "text/html": [
       "<style>\n",
       "    table.wandb td:nth-child(1) { padding: 0 10px; text-align: left ; width: auto;} td:nth-child(2) {text-align: left ; width: 100%}\n",
       "    .wandb-row { display: flex; flex-direction: row; flex-wrap: wrap; justify-content: flex-start; width: 100% }\n",
       "    .wandb-col { display: flex; flex-direction: column; flex-basis: 100%; flex: 1; padding: 10px; }\n",
       "    </style>\n",
       "<div class=\"wandb-row\"><div class=\"wandb-col\"><h3>Run history:</h3><br/><table class=\"wandb\"><tr><td>eval/Accuracy</td><td>▁</td></tr><tr><td>eval/Balanced accuracy</td><td>▁</td></tr><tr><td>eval/F1 macro</td><td>▁</td></tr><tr><td>eval/F1 micro</td><td>▁</td></tr><tr><td>eval/F1 weighted</td><td>▁</td></tr><tr><td>eval/loss</td><td>▁</td></tr><tr><td>eval/runtime</td><td>▁</td></tr><tr><td>eval/samples_per_second</td><td>▁</td></tr><tr><td>eval/steps_per_second</td><td>▁</td></tr><tr><td>train/epoch</td><td>▁</td></tr><tr><td>train/global_step</td><td>▁</td></tr></table><br/></div><div class=\"wandb-col\"><h3>Run summary:</h3><br/><table class=\"wandb\"><tr><td>eval/Accuracy</td><td>0.76905</td></tr><tr><td>eval/Balanced accuracy</td><td>0.57727</td></tr><tr><td>eval/F1 macro</td><td>0.60988</td></tr><tr><td>eval/F1 micro</td><td>0.76905</td></tr><tr><td>eval/F1 weighted</td><td>0.74756</td></tr><tr><td>eval/loss</td><td>0.5897</td></tr><tr><td>eval/runtime</td><td>1.0201</td></tr><tr><td>eval/samples_per_second</td><td>3293.824</td></tr><tr><td>eval/steps_per_second</td><td>102.932</td></tr><tr><td>train/epoch</td><td>1.0</td></tr><tr><td>train/global_step</td><td>157</td></tr></table><br/></div></div>"
      ],
      "text/plain": [
       "<IPython.core.display.HTML object>"
      ]
     },
     "metadata": {},
     "output_type": "display_data"
    },
    {
     "data": {
      "text/html": [
       " View run <strong style=\"color:#cdcd00\">trial-22</strong> at: <a href='https://wandb.ai/master-2024/MiniLM/runs/yc0zpn5k' target=\"_blank\">https://wandb.ai/master-2024/MiniLM/runs/yc0zpn5k</a><br/>Synced 5 W&B file(s), 0 media file(s), 0 artifact file(s) and 0 other file(s)"
      ],
      "text/plain": [
       "<IPython.core.display.HTML object>"
      ]
     },
     "metadata": {},
     "output_type": "display_data"
    },
    {
     "data": {
      "text/html": [
       "Find logs at: <code>./wandb/run-20240419_195208-yc0zpn5k/logs</code>"
      ],
      "text/plain": [
       "<IPython.core.display.HTML object>"
      ]
     },
     "metadata": {},
     "output_type": "display_data"
    },
    {
     "data": {
      "text/html": [
       "Successfully finished last run (ID:yc0zpn5k). Initializing new run:<br/>"
      ],
      "text/plain": [
       "<IPython.core.display.HTML object>"
      ]
     },
     "metadata": {},
     "output_type": "display_data"
    },
    {
     "data": {
      "text/html": [
       "wandb version 0.16.6 is available!  To upgrade, please run:\n",
       " $ pip install wandb --upgrade"
      ],
      "text/plain": [
       "<IPython.core.display.HTML object>"
      ]
     },
     "metadata": {},
     "output_type": "display_data"
    },
    {
     "data": {
      "text/html": [
       "Tracking run with wandb version 0.16.4"
      ],
      "text/plain": [
       "<IPython.core.display.HTML object>"
      ]
     },
     "metadata": {},
     "output_type": "display_data"
    },
    {
     "data": {
      "text/html": [
       "Run data is saved locally in <code>/net/fs-2/scale/OrionStore/Home/joteklem/Pytorch_models/wandb/run-20240419_195225-hrleqjr6</code>"
      ],
      "text/plain": [
       "<IPython.core.display.HTML object>"
      ]
     },
     "metadata": {},
     "output_type": "display_data"
    },
    {
     "data": {
      "text/html": [
       "Syncing run <strong><a href='https://wandb.ai/master-2024/MiniLM/runs/hrleqjr6' target=\"_blank\">trial-23</a></strong> to <a href='https://wandb.ai/master-2024/MiniLM' target=\"_blank\">Weights & Biases</a> (<a href='https://wandb.me/run' target=\"_blank\">docs</a>)<br/>"
      ],
      "text/plain": [
       "<IPython.core.display.HTML object>"
      ]
     },
     "metadata": {},
     "output_type": "display_data"
    },
    {
     "data": {
      "text/html": [
       " View project at <a href='https://wandb.ai/master-2024/MiniLM' target=\"_blank\">https://wandb.ai/master-2024/MiniLM</a>"
      ],
      "text/plain": [
       "<IPython.core.display.HTML object>"
      ]
     },
     "metadata": {},
     "output_type": "display_data"
    },
    {
     "data": {
      "text/html": [
       " View run at <a href='https://wandb.ai/master-2024/MiniLM/runs/hrleqjr6' target=\"_blank\">https://wandb.ai/master-2024/MiniLM/runs/hrleqjr6</a>"
      ],
      "text/plain": [
       "<IPython.core.display.HTML object>"
      ]
     },
     "metadata": {},
     "output_type": "display_data"
    },
    {
     "name": "stderr",
     "output_type": "stream",
     "text": [
      "/net/fs-2/scale/OrionStore/Scratch/joteklem/MyCondaEnvironments/Python3.11/orion_env/lib/python3.11/site-packages/accelerate/accelerator.py:432: FutureWarning: Passing the following arguments to `Accelerator` is deprecated and will be removed in version 1.0 of Accelerate: dict_keys(['dispatch_batches', 'split_batches', 'even_batches', 'use_seedable_sampler']). Please pass an `accelerate.DataLoaderConfiguration` instead: \n",
      "dataloader_config = DataLoaderConfiguration(dispatch_batches=None, split_batches=False, even_batches=True, use_seedable_sampler=True)\n",
      "  warnings.warn(\n",
      "Detected kernel version 3.10.0, which is below the recommended minimum of 5.5.0; this can cause the process to hang. It is recommended to upgrade the kernel to the minimum version or higher.\n"
     ]
    },
    {
     "name": "stdout",
     "output_type": "stream",
     "text": [
      "Starting trial 23\n"
     ]
    },
    {
     "data": {
      "text/html": [
       "\n",
       "    <div>\n",
       "      \n",
       "      <progress value='158' max='314' style='width:300px; height:20px; vertical-align: middle;'></progress>\n",
       "      [157/314 00:07 < 00:07, 19.73 it/s, Epoch 0.99/2]\n",
       "    </div>\n",
       "    <table border=\"1\" class=\"dataframe\">\n",
       "  <thead>\n",
       " <tr style=\"text-align: left;\">\n",
       "      <th>Epoch</th>\n",
       "      <th>Training Loss</th>\n",
       "      <th>Validation Loss</th>\n",
       "    </tr>\n",
       "  </thead>\n",
       "  <tbody>\n",
       "  </tbody>\n",
       "</table><p>\n",
       "    <div>\n",
       "      \n",
       "      <progress value='105' max='105' style='width:300px; height:20px; vertical-align: middle;'></progress>\n",
       "      [105/105 00:00]\n",
       "    </div>\n",
       "    "
      ],
      "text/plain": [
       "<IPython.core.display.HTML object>"
      ]
     },
     "metadata": {},
     "output_type": "display_data"
    },
    {
     "name": "stderr",
     "output_type": "stream",
     "text": [
      "[I 2024-04-19 19:52:41,595] Trial 23 pruned. \n"
     ]
    },
    {
     "data": {
      "text/html": [
       "Finishing last run (ID:hrleqjr6) before initializing another..."
      ],
      "text/plain": [
       "<IPython.core.display.HTML object>"
      ]
     },
     "metadata": {},
     "output_type": "display_data"
    },
    {
     "data": {
      "text/html": [
       "<style>\n",
       "    table.wandb td:nth-child(1) { padding: 0 10px; text-align: left ; width: auto;} td:nth-child(2) {text-align: left ; width: 100%}\n",
       "    .wandb-row { display: flex; flex-direction: row; flex-wrap: wrap; justify-content: flex-start; width: 100% }\n",
       "    .wandb-col { display: flex; flex-direction: column; flex-basis: 100%; flex: 1; padding: 10px; }\n",
       "    </style>\n",
       "<div class=\"wandb-row\"><div class=\"wandb-col\"><h3>Run history:</h3><br/><table class=\"wandb\"><tr><td>eval/Accuracy</td><td>▁</td></tr><tr><td>eval/Balanced accuracy</td><td>▁</td></tr><tr><td>eval/F1 macro</td><td>▁</td></tr><tr><td>eval/F1 micro</td><td>▁</td></tr><tr><td>eval/F1 weighted</td><td>▁</td></tr><tr><td>eval/loss</td><td>▁</td></tr><tr><td>eval/runtime</td><td>▁</td></tr><tr><td>eval/samples_per_second</td><td>▁</td></tr><tr><td>eval/steps_per_second</td><td>▁</td></tr><tr><td>train/epoch</td><td>▁</td></tr><tr><td>train/global_step</td><td>▁</td></tr></table><br/></div><div class=\"wandb-col\"><h3>Run summary:</h3><br/><table class=\"wandb\"><tr><td>eval/Accuracy</td><td>0.77857</td></tr><tr><td>eval/Balanced accuracy</td><td>0.6258</td></tr><tr><td>eval/F1 macro</td><td>0.6631</td></tr><tr><td>eval/F1 micro</td><td>0.77857</td></tr><tr><td>eval/F1 weighted</td><td>0.76004</td></tr><tr><td>eval/loss</td><td>0.60439</td></tr><tr><td>eval/runtime</td><td>1.0122</td></tr><tr><td>eval/samples_per_second</td><td>3319.399</td></tr><tr><td>eval/steps_per_second</td><td>103.731</td></tr><tr><td>train/epoch</td><td>1.0</td></tr><tr><td>train/global_step</td><td>157</td></tr></table><br/></div></div>"
      ],
      "text/plain": [
       "<IPython.core.display.HTML object>"
      ]
     },
     "metadata": {},
     "output_type": "display_data"
    },
    {
     "data": {
      "text/html": [
       " View run <strong style=\"color:#cdcd00\">trial-23</strong> at: <a href='https://wandb.ai/master-2024/MiniLM/runs/hrleqjr6' target=\"_blank\">https://wandb.ai/master-2024/MiniLM/runs/hrleqjr6</a><br/>Synced 5 W&B file(s), 0 media file(s), 0 artifact file(s) and 0 other file(s)"
      ],
      "text/plain": [
       "<IPython.core.display.HTML object>"
      ]
     },
     "metadata": {},
     "output_type": "display_data"
    },
    {
     "data": {
      "text/html": [
       "Find logs at: <code>./wandb/run-20240419_195225-hrleqjr6/logs</code>"
      ],
      "text/plain": [
       "<IPython.core.display.HTML object>"
      ]
     },
     "metadata": {},
     "output_type": "display_data"
    },
    {
     "data": {
      "text/html": [
       "Successfully finished last run (ID:hrleqjr6). Initializing new run:<br/>"
      ],
      "text/plain": [
       "<IPython.core.display.HTML object>"
      ]
     },
     "metadata": {},
     "output_type": "display_data"
    },
    {
     "data": {
      "text/html": [
       "wandb version 0.16.6 is available!  To upgrade, please run:\n",
       " $ pip install wandb --upgrade"
      ],
      "text/plain": [
       "<IPython.core.display.HTML object>"
      ]
     },
     "metadata": {},
     "output_type": "display_data"
    },
    {
     "data": {
      "text/html": [
       "Tracking run with wandb version 0.16.4"
      ],
      "text/plain": [
       "<IPython.core.display.HTML object>"
      ]
     },
     "metadata": {},
     "output_type": "display_data"
    },
    {
     "data": {
      "text/html": [
       "Run data is saved locally in <code>/net/fs-2/scale/OrionStore/Home/joteklem/Pytorch_models/wandb/run-20240419_195241-zjt7drrk</code>"
      ],
      "text/plain": [
       "<IPython.core.display.HTML object>"
      ]
     },
     "metadata": {},
     "output_type": "display_data"
    },
    {
     "data": {
      "text/html": [
       "Syncing run <strong><a href='https://wandb.ai/master-2024/MiniLM/runs/zjt7drrk' target=\"_blank\">trial-24</a></strong> to <a href='https://wandb.ai/master-2024/MiniLM' target=\"_blank\">Weights & Biases</a> (<a href='https://wandb.me/run' target=\"_blank\">docs</a>)<br/>"
      ],
      "text/plain": [
       "<IPython.core.display.HTML object>"
      ]
     },
     "metadata": {},
     "output_type": "display_data"
    },
    {
     "data": {
      "text/html": [
       " View project at <a href='https://wandb.ai/master-2024/MiniLM' target=\"_blank\">https://wandb.ai/master-2024/MiniLM</a>"
      ],
      "text/plain": [
       "<IPython.core.display.HTML object>"
      ]
     },
     "metadata": {},
     "output_type": "display_data"
    },
    {
     "data": {
      "text/html": [
       " View run at <a href='https://wandb.ai/master-2024/MiniLM/runs/zjt7drrk' target=\"_blank\">https://wandb.ai/master-2024/MiniLM/runs/zjt7drrk</a>"
      ],
      "text/plain": [
       "<IPython.core.display.HTML object>"
      ]
     },
     "metadata": {},
     "output_type": "display_data"
    },
    {
     "name": "stderr",
     "output_type": "stream",
     "text": [
      "/net/fs-2/scale/OrionStore/Scratch/joteklem/MyCondaEnvironments/Python3.11/orion_env/lib/python3.11/site-packages/accelerate/accelerator.py:432: FutureWarning: Passing the following arguments to `Accelerator` is deprecated and will be removed in version 1.0 of Accelerate: dict_keys(['dispatch_batches', 'split_batches', 'even_batches', 'use_seedable_sampler']). Please pass an `accelerate.DataLoaderConfiguration` instead: \n",
      "dataloader_config = DataLoaderConfiguration(dispatch_batches=None, split_batches=False, even_batches=True, use_seedable_sampler=True)\n",
      "  warnings.warn(\n",
      "Detected kernel version 3.10.0, which is below the recommended minimum of 5.5.0; this can cause the process to hang. It is recommended to upgrade the kernel to the minimum version or higher.\n"
     ]
    },
    {
     "name": "stdout",
     "output_type": "stream",
     "text": [
      "Starting trial 24\n"
     ]
    },
    {
     "data": {
      "text/html": [
       "\n",
       "    <div>\n",
       "      \n",
       "      <progress value='158' max='628' style='width:300px; height:20px; vertical-align: middle;'></progress>\n",
       "      [157/628 00:08 < 00:25, 18.53 it/s, Epoch 0.99/4]\n",
       "    </div>\n",
       "    <table border=\"1\" class=\"dataframe\">\n",
       "  <thead>\n",
       " <tr style=\"text-align: left;\">\n",
       "      <th>Epoch</th>\n",
       "      <th>Training Loss</th>\n",
       "      <th>Validation Loss</th>\n",
       "    </tr>\n",
       "  </thead>\n",
       "  <tbody>\n",
       "  </tbody>\n",
       "</table><p>\n",
       "    <div>\n",
       "      \n",
       "      <progress value='105' max='105' style='width:300px; height:20px; vertical-align: middle;'></progress>\n",
       "      [105/105 00:00]\n",
       "    </div>\n",
       "    "
      ],
      "text/plain": [
       "<IPython.core.display.HTML object>"
      ]
     },
     "metadata": {},
     "output_type": "display_data"
    },
    {
     "name": "stderr",
     "output_type": "stream",
     "text": [
      "[I 2024-04-19 19:52:58,746] Trial 24 pruned. \n"
     ]
    },
    {
     "data": {
      "text/html": [
       "Finishing last run (ID:zjt7drrk) before initializing another..."
      ],
      "text/plain": [
       "<IPython.core.display.HTML object>"
      ]
     },
     "metadata": {},
     "output_type": "display_data"
    },
    {
     "data": {
      "text/html": [
       "<style>\n",
       "    table.wandb td:nth-child(1) { padding: 0 10px; text-align: left ; width: auto;} td:nth-child(2) {text-align: left ; width: 100%}\n",
       "    .wandb-row { display: flex; flex-direction: row; flex-wrap: wrap; justify-content: flex-start; width: 100% }\n",
       "    .wandb-col { display: flex; flex-direction: column; flex-basis: 100%; flex: 1; padding: 10px; }\n",
       "    </style>\n",
       "<div class=\"wandb-row\"><div class=\"wandb-col\"><h3>Run history:</h3><br/><table class=\"wandb\"><tr><td>eval/Accuracy</td><td>▁</td></tr><tr><td>eval/Balanced accuracy</td><td>▁</td></tr><tr><td>eval/F1 macro</td><td>▁</td></tr><tr><td>eval/F1 micro</td><td>▁</td></tr><tr><td>eval/F1 weighted</td><td>▁</td></tr><tr><td>eval/loss</td><td>▁</td></tr><tr><td>eval/runtime</td><td>▁</td></tr><tr><td>eval/samples_per_second</td><td>▁</td></tr><tr><td>eval/steps_per_second</td><td>▁</td></tr><tr><td>train/epoch</td><td>▁</td></tr><tr><td>train/global_step</td><td>▁</td></tr></table><br/></div><div class=\"wandb-col\"><h3>Run summary:</h3><br/><table class=\"wandb\"><tr><td>eval/Accuracy</td><td>0.78244</td></tr><tr><td>eval/Balanced accuracy</td><td>0.62798</td></tr><tr><td>eval/F1 macro</td><td>0.66391</td></tr><tr><td>eval/F1 micro</td><td>0.78244</td></tr><tr><td>eval/F1 weighted</td><td>0.76568</td></tr><tr><td>eval/loss</td><td>0.59271</td></tr><tr><td>eval/runtime</td><td>1.0262</td></tr><tr><td>eval/samples_per_second</td><td>3274.063</td></tr><tr><td>eval/steps_per_second</td><td>102.314</td></tr><tr><td>train/epoch</td><td>1.0</td></tr><tr><td>train/global_step</td><td>157</td></tr></table><br/></div></div>"
      ],
      "text/plain": [
       "<IPython.core.display.HTML object>"
      ]
     },
     "metadata": {},
     "output_type": "display_data"
    },
    {
     "data": {
      "text/html": [
       " View run <strong style=\"color:#cdcd00\">trial-24</strong> at: <a href='https://wandb.ai/master-2024/MiniLM/runs/zjt7drrk' target=\"_blank\">https://wandb.ai/master-2024/MiniLM/runs/zjt7drrk</a><br/>Synced 5 W&B file(s), 0 media file(s), 0 artifact file(s) and 0 other file(s)"
      ],
      "text/plain": [
       "<IPython.core.display.HTML object>"
      ]
     },
     "metadata": {},
     "output_type": "display_data"
    },
    {
     "data": {
      "text/html": [
       "Find logs at: <code>./wandb/run-20240419_195241-zjt7drrk/logs</code>"
      ],
      "text/plain": [
       "<IPython.core.display.HTML object>"
      ]
     },
     "metadata": {},
     "output_type": "display_data"
    },
    {
     "data": {
      "text/html": [
       "Successfully finished last run (ID:zjt7drrk). Initializing new run:<br/>"
      ],
      "text/plain": [
       "<IPython.core.display.HTML object>"
      ]
     },
     "metadata": {},
     "output_type": "display_data"
    },
    {
     "data": {
      "text/html": [
       "wandb version 0.16.6 is available!  To upgrade, please run:\n",
       " $ pip install wandb --upgrade"
      ],
      "text/plain": [
       "<IPython.core.display.HTML object>"
      ]
     },
     "metadata": {},
     "output_type": "display_data"
    },
    {
     "data": {
      "text/html": [
       "Tracking run with wandb version 0.16.4"
      ],
      "text/plain": [
       "<IPython.core.display.HTML object>"
      ]
     },
     "metadata": {},
     "output_type": "display_data"
    },
    {
     "data": {
      "text/html": [
       "Run data is saved locally in <code>/net/fs-2/scale/OrionStore/Home/joteklem/Pytorch_models/wandb/run-20240419_195258-hw6u0nr5</code>"
      ],
      "text/plain": [
       "<IPython.core.display.HTML object>"
      ]
     },
     "metadata": {},
     "output_type": "display_data"
    },
    {
     "data": {
      "text/html": [
       "Syncing run <strong><a href='https://wandb.ai/master-2024/MiniLM/runs/hw6u0nr5' target=\"_blank\">trial-25</a></strong> to <a href='https://wandb.ai/master-2024/MiniLM' target=\"_blank\">Weights & Biases</a> (<a href='https://wandb.me/run' target=\"_blank\">docs</a>)<br/>"
      ],
      "text/plain": [
       "<IPython.core.display.HTML object>"
      ]
     },
     "metadata": {},
     "output_type": "display_data"
    },
    {
     "data": {
      "text/html": [
       " View project at <a href='https://wandb.ai/master-2024/MiniLM' target=\"_blank\">https://wandb.ai/master-2024/MiniLM</a>"
      ],
      "text/plain": [
       "<IPython.core.display.HTML object>"
      ]
     },
     "metadata": {},
     "output_type": "display_data"
    },
    {
     "data": {
      "text/html": [
       " View run at <a href='https://wandb.ai/master-2024/MiniLM/runs/hw6u0nr5' target=\"_blank\">https://wandb.ai/master-2024/MiniLM/runs/hw6u0nr5</a>"
      ],
      "text/plain": [
       "<IPython.core.display.HTML object>"
      ]
     },
     "metadata": {},
     "output_type": "display_data"
    },
    {
     "name": "stderr",
     "output_type": "stream",
     "text": [
      "/net/fs-2/scale/OrionStore/Scratch/joteklem/MyCondaEnvironments/Python3.11/orion_env/lib/python3.11/site-packages/accelerate/accelerator.py:432: FutureWarning: Passing the following arguments to `Accelerator` is deprecated and will be removed in version 1.0 of Accelerate: dict_keys(['dispatch_batches', 'split_batches', 'even_batches', 'use_seedable_sampler']). Please pass an `accelerate.DataLoaderConfiguration` instead: \n",
      "dataloader_config = DataLoaderConfiguration(dispatch_batches=None, split_batches=False, even_batches=True, use_seedable_sampler=True)\n",
      "  warnings.warn(\n",
      "Detected kernel version 3.10.0, which is below the recommended minimum of 5.5.0; this can cause the process to hang. It is recommended to upgrade the kernel to the minimum version or higher.\n"
     ]
    },
    {
     "name": "stdout",
     "output_type": "stream",
     "text": [
      "Starting trial 25\n"
     ]
    },
    {
     "data": {
      "text/html": [
       "\n",
       "    <div>\n",
       "      \n",
       "      <progress value='158' max='314' style='width:300px; height:20px; vertical-align: middle;'></progress>\n",
       "      [157/314 00:07 < 00:07, 19.84 it/s, Epoch 0.99/2]\n",
       "    </div>\n",
       "    <table border=\"1\" class=\"dataframe\">\n",
       "  <thead>\n",
       " <tr style=\"text-align: left;\">\n",
       "      <th>Epoch</th>\n",
       "      <th>Training Loss</th>\n",
       "      <th>Validation Loss</th>\n",
       "    </tr>\n",
       "  </thead>\n",
       "  <tbody>\n",
       "  </tbody>\n",
       "</table><p>\n",
       "    <div>\n",
       "      \n",
       "      <progress value='105' max='105' style='width:300px; height:20px; vertical-align: middle;'></progress>\n",
       "      [105/105 00:00]\n",
       "    </div>\n",
       "    "
      ],
      "text/plain": [
       "<IPython.core.display.HTML object>"
      ]
     },
     "metadata": {},
     "output_type": "display_data"
    },
    {
     "name": "stderr",
     "output_type": "stream",
     "text": [
      "[I 2024-04-19 19:53:15,193] Trial 25 pruned. \n"
     ]
    },
    {
     "data": {
      "text/html": [
       "Finishing last run (ID:hw6u0nr5) before initializing another..."
      ],
      "text/plain": [
       "<IPython.core.display.HTML object>"
      ]
     },
     "metadata": {},
     "output_type": "display_data"
    },
    {
     "data": {
      "text/html": [
       "<style>\n",
       "    table.wandb td:nth-child(1) { padding: 0 10px; text-align: left ; width: auto;} td:nth-child(2) {text-align: left ; width: 100%}\n",
       "    .wandb-row { display: flex; flex-direction: row; flex-wrap: wrap; justify-content: flex-start; width: 100% }\n",
       "    .wandb-col { display: flex; flex-direction: column; flex-basis: 100%; flex: 1; padding: 10px; }\n",
       "    </style>\n",
       "<div class=\"wandb-row\"><div class=\"wandb-col\"><h3>Run history:</h3><br/><table class=\"wandb\"><tr><td>eval/Accuracy</td><td>▁</td></tr><tr><td>eval/Balanced accuracy</td><td>▁</td></tr><tr><td>eval/F1 macro</td><td>▁</td></tr><tr><td>eval/F1 micro</td><td>▁</td></tr><tr><td>eval/F1 weighted</td><td>▁</td></tr><tr><td>eval/loss</td><td>▁</td></tr><tr><td>eval/runtime</td><td>▁</td></tr><tr><td>eval/samples_per_second</td><td>▁</td></tr><tr><td>eval/steps_per_second</td><td>▁</td></tr><tr><td>train/epoch</td><td>▁</td></tr><tr><td>train/global_step</td><td>▁</td></tr></table><br/></div><div class=\"wandb-col\"><h3>Run summary:</h3><br/><table class=\"wandb\"><tr><td>eval/Accuracy</td><td>0.63958</td></tr><tr><td>eval/Balanced accuracy</td><td>0.33333</td></tr><tr><td>eval/F1 macro</td><td>0.26006</td></tr><tr><td>eval/F1 micro</td><td>0.63958</td></tr><tr><td>eval/F1 weighted</td><td>0.49899</td></tr><tr><td>eval/loss</td><td>0.79202</td></tr><tr><td>eval/runtime</td><td>1.0076</td></tr><tr><td>eval/samples_per_second</td><td>3334.743</td></tr><tr><td>eval/steps_per_second</td><td>104.211</td></tr><tr><td>train/epoch</td><td>1.0</td></tr><tr><td>train/global_step</td><td>157</td></tr></table><br/></div></div>"
      ],
      "text/plain": [
       "<IPython.core.display.HTML object>"
      ]
     },
     "metadata": {},
     "output_type": "display_data"
    },
    {
     "data": {
      "text/html": [
       " View run <strong style=\"color:#cdcd00\">trial-25</strong> at: <a href='https://wandb.ai/master-2024/MiniLM/runs/hw6u0nr5' target=\"_blank\">https://wandb.ai/master-2024/MiniLM/runs/hw6u0nr5</a><br/>Synced 5 W&B file(s), 0 media file(s), 0 artifact file(s) and 0 other file(s)"
      ],
      "text/plain": [
       "<IPython.core.display.HTML object>"
      ]
     },
     "metadata": {},
     "output_type": "display_data"
    },
    {
     "data": {
      "text/html": [
       "Find logs at: <code>./wandb/run-20240419_195258-hw6u0nr5/logs</code>"
      ],
      "text/plain": [
       "<IPython.core.display.HTML object>"
      ]
     },
     "metadata": {},
     "output_type": "display_data"
    },
    {
     "data": {
      "text/html": [
       "Successfully finished last run (ID:hw6u0nr5). Initializing new run:<br/>"
      ],
      "text/plain": [
       "<IPython.core.display.HTML object>"
      ]
     },
     "metadata": {},
     "output_type": "display_data"
    },
    {
     "data": {
      "text/html": [
       "wandb version 0.16.6 is available!  To upgrade, please run:\n",
       " $ pip install wandb --upgrade"
      ],
      "text/plain": [
       "<IPython.core.display.HTML object>"
      ]
     },
     "metadata": {},
     "output_type": "display_data"
    },
    {
     "data": {
      "text/html": [
       "Tracking run with wandb version 0.16.4"
      ],
      "text/plain": [
       "<IPython.core.display.HTML object>"
      ]
     },
     "metadata": {},
     "output_type": "display_data"
    },
    {
     "data": {
      "text/html": [
       "Run data is saved locally in <code>/net/fs-2/scale/OrionStore/Home/joteklem/Pytorch_models/wandb/run-20240419_195315-p9zioigr</code>"
      ],
      "text/plain": [
       "<IPython.core.display.HTML object>"
      ]
     },
     "metadata": {},
     "output_type": "display_data"
    },
    {
     "data": {
      "text/html": [
       "Syncing run <strong><a href='https://wandb.ai/master-2024/MiniLM/runs/p9zioigr' target=\"_blank\">trial-26</a></strong> to <a href='https://wandb.ai/master-2024/MiniLM' target=\"_blank\">Weights & Biases</a> (<a href='https://wandb.me/run' target=\"_blank\">docs</a>)<br/>"
      ],
      "text/plain": [
       "<IPython.core.display.HTML object>"
      ]
     },
     "metadata": {},
     "output_type": "display_data"
    },
    {
     "data": {
      "text/html": [
       " View project at <a href='https://wandb.ai/master-2024/MiniLM' target=\"_blank\">https://wandb.ai/master-2024/MiniLM</a>"
      ],
      "text/plain": [
       "<IPython.core.display.HTML object>"
      ]
     },
     "metadata": {},
     "output_type": "display_data"
    },
    {
     "data": {
      "text/html": [
       " View run at <a href='https://wandb.ai/master-2024/MiniLM/runs/p9zioigr' target=\"_blank\">https://wandb.ai/master-2024/MiniLM/runs/p9zioigr</a>"
      ],
      "text/plain": [
       "<IPython.core.display.HTML object>"
      ]
     },
     "metadata": {},
     "output_type": "display_data"
    },
    {
     "name": "stdout",
     "output_type": "stream",
     "text": [
      "Starting trial 26\n"
     ]
    },
    {
     "name": "stderr",
     "output_type": "stream",
     "text": [
      "/net/fs-2/scale/OrionStore/Scratch/joteklem/MyCondaEnvironments/Python3.11/orion_env/lib/python3.11/site-packages/accelerate/accelerator.py:432: FutureWarning: Passing the following arguments to `Accelerator` is deprecated and will be removed in version 1.0 of Accelerate: dict_keys(['dispatch_batches', 'split_batches', 'even_batches', 'use_seedable_sampler']). Please pass an `accelerate.DataLoaderConfiguration` instead: \n",
      "dataloader_config = DataLoaderConfiguration(dispatch_batches=None, split_batches=False, even_batches=True, use_seedable_sampler=True)\n",
      "  warnings.warn(\n",
      "Detected kernel version 3.10.0, which is below the recommended minimum of 5.5.0; this can cause the process to hang. It is recommended to upgrade the kernel to the minimum version or higher.\n"
     ]
    },
    {
     "data": {
      "text/html": [
       "\n",
       "    <div>\n",
       "      \n",
       "      <progress value='631' max='3150' style='width:300px; height:20px; vertical-align: middle;'></progress>\n",
       "      [ 631/3150 00:31 < 02:05, 20.11 it/s, Epoch 1/5]\n",
       "    </div>\n",
       "    <table border=\"1\" class=\"dataframe\">\n",
       "  <thead>\n",
       " <tr style=\"text-align: left;\">\n",
       "      <th>Epoch</th>\n",
       "      <th>Training Loss</th>\n",
       "      <th>Validation Loss</th>\n",
       "    </tr>\n",
       "  </thead>\n",
       "  <tbody>\n",
       "  </tbody>\n",
       "</table><p>\n",
       "    <div>\n",
       "      \n",
       "      <progress value='420' max='420' style='width:300px; height:20px; vertical-align: middle;'></progress>\n",
       "      [420/420 00:02]\n",
       "    </div>\n",
       "    "
      ],
      "text/plain": [
       "<IPython.core.display.HTML object>"
      ]
     },
     "metadata": {},
     "output_type": "display_data"
    },
    {
     "name": "stderr",
     "output_type": "stream",
     "text": [
      "[I 2024-04-19 19:53:57,168] Trial 26 pruned. \n"
     ]
    },
    {
     "data": {
      "text/html": [
       "Finishing last run (ID:p9zioigr) before initializing another..."
      ],
      "text/plain": [
       "<IPython.core.display.HTML object>"
      ]
     },
     "metadata": {},
     "output_type": "display_data"
    },
    {
     "data": {
      "text/html": [
       "<style>\n",
       "    table.wandb td:nth-child(1) { padding: 0 10px; text-align: left ; width: auto;} td:nth-child(2) {text-align: left ; width: 100%}\n",
       "    .wandb-row { display: flex; flex-direction: row; flex-wrap: wrap; justify-content: flex-start; width: 100% }\n",
       "    .wandb-col { display: flex; flex-direction: column; flex-basis: 100%; flex: 1; padding: 10px; }\n",
       "    </style>\n",
       "<div class=\"wandb-row\"><div class=\"wandb-col\"><h3>Run history:</h3><br/><table class=\"wandb\"><tr><td>eval/Accuracy</td><td>▁</td></tr><tr><td>eval/Balanced accuracy</td><td>▁</td></tr><tr><td>eval/F1 macro</td><td>▁</td></tr><tr><td>eval/F1 micro</td><td>▁</td></tr><tr><td>eval/F1 weighted</td><td>▁</td></tr><tr><td>eval/loss</td><td>▁</td></tr><tr><td>eval/runtime</td><td>▁</td></tr><tr><td>eval/samples_per_second</td><td>▁</td></tr><tr><td>eval/steps_per_second</td><td>▁</td></tr><tr><td>train/epoch</td><td>▁</td></tr><tr><td>train/global_step</td><td>▁</td></tr></table><br/></div><div class=\"wandb-col\"><h3>Run summary:</h3><br/><table class=\"wandb\"><tr><td>eval/Accuracy</td><td>0.78333</td></tr><tr><td>eval/Balanced accuracy</td><td>0.62938</td></tr><tr><td>eval/F1 macro</td><td>0.6688</td></tr><tr><td>eval/F1 micro</td><td>0.78333</td></tr><tr><td>eval/F1 weighted</td><td>0.76851</td></tr><tr><td>eval/loss</td><td>0.56557</td></tr><tr><td>eval/runtime</td><td>2.801</td></tr><tr><td>eval/samples_per_second</td><td>1199.572</td></tr><tr><td>eval/steps_per_second</td><td>149.947</td></tr><tr><td>train/epoch</td><td>1.0</td></tr><tr><td>train/global_step</td><td>630</td></tr></table><br/></div></div>"
      ],
      "text/plain": [
       "<IPython.core.display.HTML object>"
      ]
     },
     "metadata": {},
     "output_type": "display_data"
    },
    {
     "data": {
      "text/html": [
       " View run <strong style=\"color:#cdcd00\">trial-26</strong> at: <a href='https://wandb.ai/master-2024/MiniLM/runs/p9zioigr' target=\"_blank\">https://wandb.ai/master-2024/MiniLM/runs/p9zioigr</a><br/>Synced 5 W&B file(s), 0 media file(s), 0 artifact file(s) and 0 other file(s)"
      ],
      "text/plain": [
       "<IPython.core.display.HTML object>"
      ]
     },
     "metadata": {},
     "output_type": "display_data"
    },
    {
     "data": {
      "text/html": [
       "Find logs at: <code>./wandb/run-20240419_195315-p9zioigr/logs</code>"
      ],
      "text/plain": [
       "<IPython.core.display.HTML object>"
      ]
     },
     "metadata": {},
     "output_type": "display_data"
    },
    {
     "data": {
      "text/html": [
       "Successfully finished last run (ID:p9zioigr). Initializing new run:<br/>"
      ],
      "text/plain": [
       "<IPython.core.display.HTML object>"
      ]
     },
     "metadata": {},
     "output_type": "display_data"
    },
    {
     "data": {
      "text/html": [
       "wandb version 0.16.6 is available!  To upgrade, please run:\n",
       " $ pip install wandb --upgrade"
      ],
      "text/plain": [
       "<IPython.core.display.HTML object>"
      ]
     },
     "metadata": {},
     "output_type": "display_data"
    },
    {
     "data": {
      "text/html": [
       "Tracking run with wandb version 0.16.4"
      ],
      "text/plain": [
       "<IPython.core.display.HTML object>"
      ]
     },
     "metadata": {},
     "output_type": "display_data"
    },
    {
     "data": {
      "text/html": [
       "Run data is saved locally in <code>/net/fs-2/scale/OrionStore/Home/joteklem/Pytorch_models/wandb/run-20240419_195357-f63gd823</code>"
      ],
      "text/plain": [
       "<IPython.core.display.HTML object>"
      ]
     },
     "metadata": {},
     "output_type": "display_data"
    },
    {
     "data": {
      "text/html": [
       "Syncing run <strong><a href='https://wandb.ai/master-2024/MiniLM/runs/f63gd823' target=\"_blank\">trial-27</a></strong> to <a href='https://wandb.ai/master-2024/MiniLM' target=\"_blank\">Weights & Biases</a> (<a href='https://wandb.me/run' target=\"_blank\">docs</a>)<br/>"
      ],
      "text/plain": [
       "<IPython.core.display.HTML object>"
      ]
     },
     "metadata": {},
     "output_type": "display_data"
    },
    {
     "data": {
      "text/html": [
       " View project at <a href='https://wandb.ai/master-2024/MiniLM' target=\"_blank\">https://wandb.ai/master-2024/MiniLM</a>"
      ],
      "text/plain": [
       "<IPython.core.display.HTML object>"
      ]
     },
     "metadata": {},
     "output_type": "display_data"
    },
    {
     "data": {
      "text/html": [
       " View run at <a href='https://wandb.ai/master-2024/MiniLM/runs/f63gd823' target=\"_blank\">https://wandb.ai/master-2024/MiniLM/runs/f63gd823</a>"
      ],
      "text/plain": [
       "<IPython.core.display.HTML object>"
      ]
     },
     "metadata": {},
     "output_type": "display_data"
    },
    {
     "name": "stdout",
     "output_type": "stream",
     "text": [
      "Starting trial 27\n"
     ]
    },
    {
     "name": "stderr",
     "output_type": "stream",
     "text": [
      "/net/fs-2/scale/OrionStore/Scratch/joteklem/MyCondaEnvironments/Python3.11/orion_env/lib/python3.11/site-packages/accelerate/accelerator.py:432: FutureWarning: Passing the following arguments to `Accelerator` is deprecated and will be removed in version 1.0 of Accelerate: dict_keys(['dispatch_batches', 'split_batches', 'even_batches', 'use_seedable_sampler']). Please pass an `accelerate.DataLoaderConfiguration` instead: \n",
      "dataloader_config = DataLoaderConfiguration(dispatch_batches=None, split_batches=False, even_batches=True, use_seedable_sampler=True)\n",
      "  warnings.warn(\n",
      "Detected kernel version 3.10.0, which is below the recommended minimum of 5.5.0; this can cause the process to hang. It is recommended to upgrade the kernel to the minimum version or higher.\n"
     ]
    },
    {
     "data": {
      "text/html": [
       "\n",
       "    <div>\n",
       "      \n",
       "      <progress value='631' max='1890' style='width:300px; height:20px; vertical-align: middle;'></progress>\n",
       "      [ 630/1890 00:31 < 01:02, 20.11 it/s, Epoch 1.00/3]\n",
       "    </div>\n",
       "    <table border=\"1\" class=\"dataframe\">\n",
       "  <thead>\n",
       " <tr style=\"text-align: left;\">\n",
       "      <th>Epoch</th>\n",
       "      <th>Training Loss</th>\n",
       "      <th>Validation Loss</th>\n",
       "    </tr>\n",
       "  </thead>\n",
       "  <tbody>\n",
       "  </tbody>\n",
       "</table><p>\n",
       "    <div>\n",
       "      \n",
       "      <progress value='420' max='420' style='width:300px; height:20px; vertical-align: middle;'></progress>\n",
       "      [420/420 00:02]\n",
       "    </div>\n",
       "    "
      ],
      "text/plain": [
       "<IPython.core.display.HTML object>"
      ]
     },
     "metadata": {},
     "output_type": "display_data"
    },
    {
     "name": "stderr",
     "output_type": "stream",
     "text": [
      "[I 2024-04-19 19:54:39,771] Trial 27 pruned. \n"
     ]
    },
    {
     "data": {
      "text/html": [
       "Finishing last run (ID:f63gd823) before initializing another..."
      ],
      "text/plain": [
       "<IPython.core.display.HTML object>"
      ]
     },
     "metadata": {},
     "output_type": "display_data"
    },
    {
     "data": {
      "text/html": [
       "<style>\n",
       "    table.wandb td:nth-child(1) { padding: 0 10px; text-align: left ; width: auto;} td:nth-child(2) {text-align: left ; width: 100%}\n",
       "    .wandb-row { display: flex; flex-direction: row; flex-wrap: wrap; justify-content: flex-start; width: 100% }\n",
       "    .wandb-col { display: flex; flex-direction: column; flex-basis: 100%; flex: 1; padding: 10px; }\n",
       "    </style>\n",
       "<div class=\"wandb-row\"><div class=\"wandb-col\"><h3>Run history:</h3><br/><table class=\"wandb\"><tr><td>eval/Accuracy</td><td>▁</td></tr><tr><td>eval/Balanced accuracy</td><td>▁</td></tr><tr><td>eval/F1 macro</td><td>▁</td></tr><tr><td>eval/F1 micro</td><td>▁</td></tr><tr><td>eval/F1 weighted</td><td>▁</td></tr><tr><td>eval/loss</td><td>▁</td></tr><tr><td>eval/runtime</td><td>▁</td></tr><tr><td>eval/samples_per_second</td><td>▁</td></tr><tr><td>eval/steps_per_second</td><td>▁</td></tr><tr><td>train/epoch</td><td>▁</td></tr><tr><td>train/global_step</td><td>▁</td></tr></table><br/></div><div class=\"wandb-col\"><h3>Run summary:</h3><br/><table class=\"wandb\"><tr><td>eval/Accuracy</td><td>0.77857</td></tr><tr><td>eval/Balanced accuracy</td><td>0.61515</td></tr><tr><td>eval/F1 macro</td><td>0.6589</td></tr><tr><td>eval/F1 micro</td><td>0.77857</td></tr><tr><td>eval/F1 weighted</td><td>0.75795</td></tr><tr><td>eval/loss</td><td>0.5802</td></tr><tr><td>eval/runtime</td><td>2.7364</td></tr><tr><td>eval/samples_per_second</td><td>1227.898</td></tr><tr><td>eval/steps_per_second</td><td>153.487</td></tr><tr><td>train/epoch</td><td>1.0</td></tr><tr><td>train/global_step</td><td>630</td></tr></table><br/></div></div>"
      ],
      "text/plain": [
       "<IPython.core.display.HTML object>"
      ]
     },
     "metadata": {},
     "output_type": "display_data"
    },
    {
     "data": {
      "text/html": [
       " View run <strong style=\"color:#cdcd00\">trial-27</strong> at: <a href='https://wandb.ai/master-2024/MiniLM/runs/f63gd823' target=\"_blank\">https://wandb.ai/master-2024/MiniLM/runs/f63gd823</a><br/>Synced 5 W&B file(s), 0 media file(s), 0 artifact file(s) and 0 other file(s)"
      ],
      "text/plain": [
       "<IPython.core.display.HTML object>"
      ]
     },
     "metadata": {},
     "output_type": "display_data"
    },
    {
     "data": {
      "text/html": [
       "Find logs at: <code>./wandb/run-20240419_195357-f63gd823/logs</code>"
      ],
      "text/plain": [
       "<IPython.core.display.HTML object>"
      ]
     },
     "metadata": {},
     "output_type": "display_data"
    },
    {
     "data": {
      "text/html": [
       "Successfully finished last run (ID:f63gd823). Initializing new run:<br/>"
      ],
      "text/plain": [
       "<IPython.core.display.HTML object>"
      ]
     },
     "metadata": {},
     "output_type": "display_data"
    },
    {
     "data": {
      "text/html": [
       "wandb version 0.16.6 is available!  To upgrade, please run:\n",
       " $ pip install wandb --upgrade"
      ],
      "text/plain": [
       "<IPython.core.display.HTML object>"
      ]
     },
     "metadata": {},
     "output_type": "display_data"
    },
    {
     "data": {
      "text/html": [
       "Tracking run with wandb version 0.16.4"
      ],
      "text/plain": [
       "<IPython.core.display.HTML object>"
      ]
     },
     "metadata": {},
     "output_type": "display_data"
    },
    {
     "data": {
      "text/html": [
       "Run data is saved locally in <code>/net/fs-2/scale/OrionStore/Home/joteklem/Pytorch_models/wandb/run-20240419_195439-tfmvsdah</code>"
      ],
      "text/plain": [
       "<IPython.core.display.HTML object>"
      ]
     },
     "metadata": {},
     "output_type": "display_data"
    },
    {
     "data": {
      "text/html": [
       "Syncing run <strong><a href='https://wandb.ai/master-2024/MiniLM/runs/tfmvsdah' target=\"_blank\">trial-28</a></strong> to <a href='https://wandb.ai/master-2024/MiniLM' target=\"_blank\">Weights & Biases</a> (<a href='https://wandb.me/run' target=\"_blank\">docs</a>)<br/>"
      ],
      "text/plain": [
       "<IPython.core.display.HTML object>"
      ]
     },
     "metadata": {},
     "output_type": "display_data"
    },
    {
     "data": {
      "text/html": [
       " View project at <a href='https://wandb.ai/master-2024/MiniLM' target=\"_blank\">https://wandb.ai/master-2024/MiniLM</a>"
      ],
      "text/plain": [
       "<IPython.core.display.HTML object>"
      ]
     },
     "metadata": {},
     "output_type": "display_data"
    },
    {
     "data": {
      "text/html": [
       " View run at <a href='https://wandb.ai/master-2024/MiniLM/runs/tfmvsdah' target=\"_blank\">https://wandb.ai/master-2024/MiniLM/runs/tfmvsdah</a>"
      ],
      "text/plain": [
       "<IPython.core.display.HTML object>"
      ]
     },
     "metadata": {},
     "output_type": "display_data"
    },
    {
     "name": "stderr",
     "output_type": "stream",
     "text": [
      "/net/fs-2/scale/OrionStore/Scratch/joteklem/MyCondaEnvironments/Python3.11/orion_env/lib/python3.11/site-packages/accelerate/accelerator.py:432: FutureWarning: Passing the following arguments to `Accelerator` is deprecated and will be removed in version 1.0 of Accelerate: dict_keys(['dispatch_batches', 'split_batches', 'even_batches', 'use_seedable_sampler']). Please pass an `accelerate.DataLoaderConfiguration` instead: \n",
      "dataloader_config = DataLoaderConfiguration(dispatch_batches=None, split_batches=False, even_batches=True, use_seedable_sampler=True)\n",
      "  warnings.warn(\n",
      "Detected kernel version 3.10.0, which is below the recommended minimum of 5.5.0; this can cause the process to hang. It is recommended to upgrade the kernel to the minimum version or higher.\n"
     ]
    },
    {
     "name": "stdout",
     "output_type": "stream",
     "text": [
      "Starting trial 28\n"
     ]
    },
    {
     "data": {
      "text/html": [
       "\n",
       "    <div>\n",
       "      \n",
       "      <progress value='316' max='1260' style='width:300px; height:20px; vertical-align: middle;'></progress>\n",
       "      [ 315/1260 00:14 < 00:44, 21.24 it/s, Epoch 1.00/4]\n",
       "    </div>\n",
       "    <table border=\"1\" class=\"dataframe\">\n",
       "  <thead>\n",
       " <tr style=\"text-align: left;\">\n",
       "      <th>Epoch</th>\n",
       "      <th>Training Loss</th>\n",
       "      <th>Validation Loss</th>\n",
       "    </tr>\n",
       "  </thead>\n",
       "  <tbody>\n",
       "  </tbody>\n",
       "</table><p>\n",
       "    <div>\n",
       "      \n",
       "      <progress value='210' max='210' style='width:300px; height:20px; vertical-align: middle;'></progress>\n",
       "      [210/210 00:01]\n",
       "    </div>\n",
       "    "
      ],
      "text/plain": [
       "<IPython.core.display.HTML object>"
      ]
     },
     "metadata": {},
     "output_type": "display_data"
    },
    {
     "name": "stderr",
     "output_type": "stream",
     "text": [
      "[I 2024-04-19 19:55:04,751] Trial 28 pruned. \n"
     ]
    },
    {
     "data": {
      "text/html": [
       "Finishing last run (ID:tfmvsdah) before initializing another..."
      ],
      "text/plain": [
       "<IPython.core.display.HTML object>"
      ]
     },
     "metadata": {},
     "output_type": "display_data"
    },
    {
     "data": {
      "text/html": [
       "<style>\n",
       "    table.wandb td:nth-child(1) { padding: 0 10px; text-align: left ; width: auto;} td:nth-child(2) {text-align: left ; width: 100%}\n",
       "    .wandb-row { display: flex; flex-direction: row; flex-wrap: wrap; justify-content: flex-start; width: 100% }\n",
       "    .wandb-col { display: flex; flex-direction: column; flex-basis: 100%; flex: 1; padding: 10px; }\n",
       "    </style>\n",
       "<div class=\"wandb-row\"><div class=\"wandb-col\"><h3>Run history:</h3><br/><table class=\"wandb\"><tr><td>eval/Accuracy</td><td>▁</td></tr><tr><td>eval/Balanced accuracy</td><td>▁</td></tr><tr><td>eval/F1 macro</td><td>▁</td></tr><tr><td>eval/F1 micro</td><td>▁</td></tr><tr><td>eval/F1 weighted</td><td>▁</td></tr><tr><td>eval/loss</td><td>▁</td></tr><tr><td>eval/runtime</td><td>▁</td></tr><tr><td>eval/samples_per_second</td><td>▁</td></tr><tr><td>eval/steps_per_second</td><td>▁</td></tr><tr><td>train/epoch</td><td>▁</td></tr><tr><td>train/global_step</td><td>▁</td></tr></table><br/></div><div class=\"wandb-col\"><h3>Run summary:</h3><br/><table class=\"wandb\"><tr><td>eval/Accuracy</td><td>0.75417</td></tr><tr><td>eval/Balanced accuracy</td><td>0.49699</td></tr><tr><td>eval/F1 macro</td><td>0.49095</td></tr><tr><td>eval/F1 micro</td><td>0.75417</td></tr><tr><td>eval/F1 weighted</td><td>0.70652</td></tr><tr><td>eval/loss</td><td>0.65852</td></tr><tr><td>eval/runtime</td><td>1.6068</td></tr><tr><td>eval/samples_per_second</td><td>2091.128</td></tr><tr><td>eval/steps_per_second</td><td>130.695</td></tr><tr><td>train/epoch</td><td>1.0</td></tr><tr><td>train/global_step</td><td>315</td></tr></table><br/></div></div>"
      ],
      "text/plain": [
       "<IPython.core.display.HTML object>"
      ]
     },
     "metadata": {},
     "output_type": "display_data"
    },
    {
     "data": {
      "text/html": [
       " View run <strong style=\"color:#cdcd00\">trial-28</strong> at: <a href='https://wandb.ai/master-2024/MiniLM/runs/tfmvsdah' target=\"_blank\">https://wandb.ai/master-2024/MiniLM/runs/tfmvsdah</a><br/>Synced 5 W&B file(s), 0 media file(s), 0 artifact file(s) and 0 other file(s)"
      ],
      "text/plain": [
       "<IPython.core.display.HTML object>"
      ]
     },
     "metadata": {},
     "output_type": "display_data"
    },
    {
     "data": {
      "text/html": [
       "Find logs at: <code>./wandb/run-20240419_195439-tfmvsdah/logs</code>"
      ],
      "text/plain": [
       "<IPython.core.display.HTML object>"
      ]
     },
     "metadata": {},
     "output_type": "display_data"
    },
    {
     "data": {
      "text/html": [
       "Successfully finished last run (ID:tfmvsdah). Initializing new run:<br/>"
      ],
      "text/plain": [
       "<IPython.core.display.HTML object>"
      ]
     },
     "metadata": {},
     "output_type": "display_data"
    },
    {
     "data": {
      "text/html": [
       "wandb version 0.16.6 is available!  To upgrade, please run:\n",
       " $ pip install wandb --upgrade"
      ],
      "text/plain": [
       "<IPython.core.display.HTML object>"
      ]
     },
     "metadata": {},
     "output_type": "display_data"
    },
    {
     "data": {
      "text/html": [
       "Tracking run with wandb version 0.16.4"
      ],
      "text/plain": [
       "<IPython.core.display.HTML object>"
      ]
     },
     "metadata": {},
     "output_type": "display_data"
    },
    {
     "data": {
      "text/html": [
       "Run data is saved locally in <code>/net/fs-2/scale/OrionStore/Home/joteklem/Pytorch_models/wandb/run-20240419_195504-12o6u54a</code>"
      ],
      "text/plain": [
       "<IPython.core.display.HTML object>"
      ]
     },
     "metadata": {},
     "output_type": "display_data"
    },
    {
     "data": {
      "text/html": [
       "Syncing run <strong><a href='https://wandb.ai/master-2024/MiniLM/runs/12o6u54a' target=\"_blank\">trial-29</a></strong> to <a href='https://wandb.ai/master-2024/MiniLM' target=\"_blank\">Weights & Biases</a> (<a href='https://wandb.me/run' target=\"_blank\">docs</a>)<br/>"
      ],
      "text/plain": [
       "<IPython.core.display.HTML object>"
      ]
     },
     "metadata": {},
     "output_type": "display_data"
    },
    {
     "data": {
      "text/html": [
       " View project at <a href='https://wandb.ai/master-2024/MiniLM' target=\"_blank\">https://wandb.ai/master-2024/MiniLM</a>"
      ],
      "text/plain": [
       "<IPython.core.display.HTML object>"
      ]
     },
     "metadata": {},
     "output_type": "display_data"
    },
    {
     "data": {
      "text/html": [
       " View run at <a href='https://wandb.ai/master-2024/MiniLM/runs/12o6u54a' target=\"_blank\">https://wandb.ai/master-2024/MiniLM/runs/12o6u54a</a>"
      ],
      "text/plain": [
       "<IPython.core.display.HTML object>"
      ]
     },
     "metadata": {},
     "output_type": "display_data"
    },
    {
     "name": "stdout",
     "output_type": "stream",
     "text": [
      "Starting trial 29\n"
     ]
    },
    {
     "name": "stderr",
     "output_type": "stream",
     "text": [
      "/net/fs-2/scale/OrionStore/Scratch/joteklem/MyCondaEnvironments/Python3.11/orion_env/lib/python3.11/site-packages/accelerate/accelerator.py:432: FutureWarning: Passing the following arguments to `Accelerator` is deprecated and will be removed in version 1.0 of Accelerate: dict_keys(['dispatch_batches', 'split_batches', 'even_batches', 'use_seedable_sampler']). Please pass an `accelerate.DataLoaderConfiguration` instead: \n",
      "dataloader_config = DataLoaderConfiguration(dispatch_batches=None, split_batches=False, even_batches=True, use_seedable_sampler=True)\n",
      "  warnings.warn(\n",
      "Detected kernel version 3.10.0, which is below the recommended minimum of 5.5.0; this can cause the process to hang. It is recommended to upgrade the kernel to the minimum version or higher.\n"
     ]
    },
    {
     "data": {
      "text/html": [
       "\n",
       "    <div>\n",
       "      \n",
       "      <progress value='158' max='628' style='width:300px; height:20px; vertical-align: middle;'></progress>\n",
       "      [157/628 00:08 < 00:25, 18.47 it/s, Epoch 0.99/4]\n",
       "    </div>\n",
       "    <table border=\"1\" class=\"dataframe\">\n",
       "  <thead>\n",
       " <tr style=\"text-align: left;\">\n",
       "      <th>Epoch</th>\n",
       "      <th>Training Loss</th>\n",
       "      <th>Validation Loss</th>\n",
       "    </tr>\n",
       "  </thead>\n",
       "  <tbody>\n",
       "  </tbody>\n",
       "</table><p>\n",
       "    <div>\n",
       "      \n",
       "      <progress value='105' max='105' style='width:300px; height:20px; vertical-align: middle;'></progress>\n",
       "      [105/105 00:00]\n",
       "    </div>\n",
       "    "
      ],
      "text/plain": [
       "<IPython.core.display.HTML object>"
      ]
     },
     "metadata": {},
     "output_type": "display_data"
    },
    {
     "name": "stderr",
     "output_type": "stream",
     "text": [
      "[I 2024-04-19 19:55:22,351] Trial 29 pruned. \n"
     ]
    },
    {
     "data": {
      "text/html": [
       "Finishing last run (ID:12o6u54a) before initializing another..."
      ],
      "text/plain": [
       "<IPython.core.display.HTML object>"
      ]
     },
     "metadata": {},
     "output_type": "display_data"
    },
    {
     "data": {
      "text/html": [
       "<style>\n",
       "    table.wandb td:nth-child(1) { padding: 0 10px; text-align: left ; width: auto;} td:nth-child(2) {text-align: left ; width: 100%}\n",
       "    .wandb-row { display: flex; flex-direction: row; flex-wrap: wrap; justify-content: flex-start; width: 100% }\n",
       "    .wandb-col { display: flex; flex-direction: column; flex-basis: 100%; flex: 1; padding: 10px; }\n",
       "    </style>\n",
       "<div class=\"wandb-row\"><div class=\"wandb-col\"><h3>Run history:</h3><br/><table class=\"wandb\"><tr><td>eval/Accuracy</td><td>▁</td></tr><tr><td>eval/Balanced accuracy</td><td>▁</td></tr><tr><td>eval/F1 macro</td><td>▁</td></tr><tr><td>eval/F1 micro</td><td>▁</td></tr><tr><td>eval/F1 weighted</td><td>▁</td></tr><tr><td>eval/loss</td><td>▁</td></tr><tr><td>eval/runtime</td><td>▁</td></tr><tr><td>eval/samples_per_second</td><td>▁</td></tr><tr><td>eval/steps_per_second</td><td>▁</td></tr><tr><td>train/epoch</td><td>▁</td></tr><tr><td>train/global_step</td><td>▁</td></tr></table><br/></div><div class=\"wandb-col\"><h3>Run summary:</h3><br/><table class=\"wandb\"><tr><td>eval/Accuracy</td><td>0.775</td></tr><tr><td>eval/Balanced accuracy</td><td>0.61064</td></tr><tr><td>eval/F1 macro</td><td>0.64959</td></tr><tr><td>eval/F1 micro</td><td>0.775</td></tr><tr><td>eval/F1 weighted</td><td>0.75572</td></tr><tr><td>eval/loss</td><td>0.61065</td></tr><tr><td>eval/runtime</td><td>1.0279</td></tr><tr><td>eval/samples_per_second</td><td>3268.793</td></tr><tr><td>eval/steps_per_second</td><td>102.15</td></tr><tr><td>train/epoch</td><td>1.0</td></tr><tr><td>train/global_step</td><td>157</td></tr></table><br/></div></div>"
      ],
      "text/plain": [
       "<IPython.core.display.HTML object>"
      ]
     },
     "metadata": {},
     "output_type": "display_data"
    },
    {
     "data": {
      "text/html": [
       " View run <strong style=\"color:#cdcd00\">trial-29</strong> at: <a href='https://wandb.ai/master-2024/MiniLM/runs/12o6u54a' target=\"_blank\">https://wandb.ai/master-2024/MiniLM/runs/12o6u54a</a><br/>Synced 5 W&B file(s), 0 media file(s), 0 artifact file(s) and 0 other file(s)"
      ],
      "text/plain": [
       "<IPython.core.display.HTML object>"
      ]
     },
     "metadata": {},
     "output_type": "display_data"
    },
    {
     "data": {
      "text/html": [
       "Find logs at: <code>./wandb/run-20240419_195504-12o6u54a/logs</code>"
      ],
      "text/plain": [
       "<IPython.core.display.HTML object>"
      ]
     },
     "metadata": {},
     "output_type": "display_data"
    },
    {
     "data": {
      "text/html": [
       "Successfully finished last run (ID:12o6u54a). Initializing new run:<br/>"
      ],
      "text/plain": [
       "<IPython.core.display.HTML object>"
      ]
     },
     "metadata": {},
     "output_type": "display_data"
    },
    {
     "data": {
      "text/html": [
       "wandb version 0.16.6 is available!  To upgrade, please run:\n",
       " $ pip install wandb --upgrade"
      ],
      "text/plain": [
       "<IPython.core.display.HTML object>"
      ]
     },
     "metadata": {},
     "output_type": "display_data"
    },
    {
     "data": {
      "text/html": [
       "Tracking run with wandb version 0.16.4"
      ],
      "text/plain": [
       "<IPython.core.display.HTML object>"
      ]
     },
     "metadata": {},
     "output_type": "display_data"
    },
    {
     "data": {
      "text/html": [
       "Run data is saved locally in <code>/net/fs-2/scale/OrionStore/Home/joteklem/Pytorch_models/wandb/run-20240419_195522-p5x1h9iu</code>"
      ],
      "text/plain": [
       "<IPython.core.display.HTML object>"
      ]
     },
     "metadata": {},
     "output_type": "display_data"
    },
    {
     "data": {
      "text/html": [
       "Syncing run <strong><a href='https://wandb.ai/master-2024/MiniLM/runs/p5x1h9iu' target=\"_blank\">trial-30</a></strong> to <a href='https://wandb.ai/master-2024/MiniLM' target=\"_blank\">Weights & Biases</a> (<a href='https://wandb.me/run' target=\"_blank\">docs</a>)<br/>"
      ],
      "text/plain": [
       "<IPython.core.display.HTML object>"
      ]
     },
     "metadata": {},
     "output_type": "display_data"
    },
    {
     "data": {
      "text/html": [
       " View project at <a href='https://wandb.ai/master-2024/MiniLM' target=\"_blank\">https://wandb.ai/master-2024/MiniLM</a>"
      ],
      "text/plain": [
       "<IPython.core.display.HTML object>"
      ]
     },
     "metadata": {},
     "output_type": "display_data"
    },
    {
     "data": {
      "text/html": [
       " View run at <a href='https://wandb.ai/master-2024/MiniLM/runs/p5x1h9iu' target=\"_blank\">https://wandb.ai/master-2024/MiniLM/runs/p5x1h9iu</a>"
      ],
      "text/plain": [
       "<IPython.core.display.HTML object>"
      ]
     },
     "metadata": {},
     "output_type": "display_data"
    },
    {
     "name": "stdout",
     "output_type": "stream",
     "text": [
      "Starting trial 30\n"
     ]
    },
    {
     "name": "stderr",
     "output_type": "stream",
     "text": [
      "/net/fs-2/scale/OrionStore/Scratch/joteklem/MyCondaEnvironments/Python3.11/orion_env/lib/python3.11/site-packages/accelerate/accelerator.py:432: FutureWarning: Passing the following arguments to `Accelerator` is deprecated and will be removed in version 1.0 of Accelerate: dict_keys(['dispatch_batches', 'split_batches', 'even_batches', 'use_seedable_sampler']). Please pass an `accelerate.DataLoaderConfiguration` instead: \n",
      "dataloader_config = DataLoaderConfiguration(dispatch_batches=None, split_batches=False, even_batches=True, use_seedable_sampler=True)\n",
      "  warnings.warn(\n",
      "Detected kernel version 3.10.0, which is below the recommended minimum of 5.5.0; this can cause the process to hang. It is recommended to upgrade the kernel to the minimum version or higher.\n"
     ]
    },
    {
     "data": {
      "text/html": [
       "\n",
       "    <div>\n",
       "      \n",
       "      <progress value='631' max='1260' style='width:300px; height:20px; vertical-align: middle;'></progress>\n",
       "      [ 630/1260 00:30 < 00:31, 20.31 it/s, Epoch 1.00/2]\n",
       "    </div>\n",
       "    <table border=\"1\" class=\"dataframe\">\n",
       "  <thead>\n",
       " <tr style=\"text-align: left;\">\n",
       "      <th>Epoch</th>\n",
       "      <th>Training Loss</th>\n",
       "      <th>Validation Loss</th>\n",
       "    </tr>\n",
       "  </thead>\n",
       "  <tbody>\n",
       "  </tbody>\n",
       "</table><p>\n",
       "    <div>\n",
       "      \n",
       "      <progress value='420' max='420' style='width:300px; height:20px; vertical-align: middle;'></progress>\n",
       "      [420/420 00:02]\n",
       "    </div>\n",
       "    "
      ],
      "text/plain": [
       "<IPython.core.display.HTML object>"
      ]
     },
     "metadata": {},
     "output_type": "display_data"
    },
    {
     "name": "stderr",
     "output_type": "stream",
     "text": [
      "[I 2024-04-19 19:56:05,256] Trial 30 pruned. \n"
     ]
    },
    {
     "data": {
      "text/html": [
       "Finishing last run (ID:p5x1h9iu) before initializing another..."
      ],
      "text/plain": [
       "<IPython.core.display.HTML object>"
      ]
     },
     "metadata": {},
     "output_type": "display_data"
    },
    {
     "data": {
      "text/html": [
       "<style>\n",
       "    table.wandb td:nth-child(1) { padding: 0 10px; text-align: left ; width: auto;} td:nth-child(2) {text-align: left ; width: 100%}\n",
       "    .wandb-row { display: flex; flex-direction: row; flex-wrap: wrap; justify-content: flex-start; width: 100% }\n",
       "    .wandb-col { display: flex; flex-direction: column; flex-basis: 100%; flex: 1; padding: 10px; }\n",
       "    </style>\n",
       "<div class=\"wandb-row\"><div class=\"wandb-col\"><h3>Run history:</h3><br/><table class=\"wandb\"><tr><td>eval/Accuracy</td><td>▁</td></tr><tr><td>eval/Balanced accuracy</td><td>▁</td></tr><tr><td>eval/F1 macro</td><td>▁</td></tr><tr><td>eval/F1 micro</td><td>▁</td></tr><tr><td>eval/F1 weighted</td><td>▁</td></tr><tr><td>eval/loss</td><td>▁</td></tr><tr><td>eval/runtime</td><td>▁</td></tr><tr><td>eval/samples_per_second</td><td>▁</td></tr><tr><td>eval/steps_per_second</td><td>▁</td></tr><tr><td>train/epoch</td><td>▁</td></tr><tr><td>train/global_step</td><td>▁</td></tr></table><br/></div><div class=\"wandb-col\"><h3>Run summary:</h3><br/><table class=\"wandb\"><tr><td>eval/Accuracy</td><td>0.7619</td></tr><tr><td>eval/Balanced accuracy</td><td>0.57272</td></tr><tr><td>eval/F1 macro</td><td>0.61503</td></tr><tr><td>eval/F1 micro</td><td>0.7619</td></tr><tr><td>eval/F1 weighted</td><td>0.73635</td></tr><tr><td>eval/loss</td><td>0.63212</td></tr><tr><td>eval/runtime</td><td>2.7689</td></tr><tr><td>eval/samples_per_second</td><td>1213.474</td></tr><tr><td>eval/steps_per_second</td><td>151.684</td></tr><tr><td>train/epoch</td><td>1.0</td></tr><tr><td>train/global_step</td><td>630</td></tr></table><br/></div></div>"
      ],
      "text/plain": [
       "<IPython.core.display.HTML object>"
      ]
     },
     "metadata": {},
     "output_type": "display_data"
    },
    {
     "data": {
      "text/html": [
       " View run <strong style=\"color:#cdcd00\">trial-30</strong> at: <a href='https://wandb.ai/master-2024/MiniLM/runs/p5x1h9iu' target=\"_blank\">https://wandb.ai/master-2024/MiniLM/runs/p5x1h9iu</a><br/>Synced 5 W&B file(s), 0 media file(s), 0 artifact file(s) and 0 other file(s)"
      ],
      "text/plain": [
       "<IPython.core.display.HTML object>"
      ]
     },
     "metadata": {},
     "output_type": "display_data"
    },
    {
     "data": {
      "text/html": [
       "Find logs at: <code>./wandb/run-20240419_195522-p5x1h9iu/logs</code>"
      ],
      "text/plain": [
       "<IPython.core.display.HTML object>"
      ]
     },
     "metadata": {},
     "output_type": "display_data"
    },
    {
     "data": {
      "text/html": [
       "Successfully finished last run (ID:p5x1h9iu). Initializing new run:<br/>"
      ],
      "text/plain": [
       "<IPython.core.display.HTML object>"
      ]
     },
     "metadata": {},
     "output_type": "display_data"
    },
    {
     "data": {
      "text/html": [
       "wandb version 0.16.6 is available!  To upgrade, please run:\n",
       " $ pip install wandb --upgrade"
      ],
      "text/plain": [
       "<IPython.core.display.HTML object>"
      ]
     },
     "metadata": {},
     "output_type": "display_data"
    },
    {
     "data": {
      "text/html": [
       "Tracking run with wandb version 0.16.4"
      ],
      "text/plain": [
       "<IPython.core.display.HTML object>"
      ]
     },
     "metadata": {},
     "output_type": "display_data"
    },
    {
     "data": {
      "text/html": [
       "Run data is saved locally in <code>/net/fs-2/scale/OrionStore/Home/joteklem/Pytorch_models/wandb/run-20240419_195605-a2tiampr</code>"
      ],
      "text/plain": [
       "<IPython.core.display.HTML object>"
      ]
     },
     "metadata": {},
     "output_type": "display_data"
    },
    {
     "data": {
      "text/html": [
       "Syncing run <strong><a href='https://wandb.ai/master-2024/MiniLM/runs/a2tiampr' target=\"_blank\">trial-31</a></strong> to <a href='https://wandb.ai/master-2024/MiniLM' target=\"_blank\">Weights & Biases</a> (<a href='https://wandb.me/run' target=\"_blank\">docs</a>)<br/>"
      ],
      "text/plain": [
       "<IPython.core.display.HTML object>"
      ]
     },
     "metadata": {},
     "output_type": "display_data"
    },
    {
     "data": {
      "text/html": [
       " View project at <a href='https://wandb.ai/master-2024/MiniLM' target=\"_blank\">https://wandb.ai/master-2024/MiniLM</a>"
      ],
      "text/plain": [
       "<IPython.core.display.HTML object>"
      ]
     },
     "metadata": {},
     "output_type": "display_data"
    },
    {
     "data": {
      "text/html": [
       " View run at <a href='https://wandb.ai/master-2024/MiniLM/runs/a2tiampr' target=\"_blank\">https://wandb.ai/master-2024/MiniLM/runs/a2tiampr</a>"
      ],
      "text/plain": [
       "<IPython.core.display.HTML object>"
      ]
     },
     "metadata": {},
     "output_type": "display_data"
    },
    {
     "name": "stdout",
     "output_type": "stream",
     "text": [
      "Starting trial 31\n"
     ]
    },
    {
     "name": "stderr",
     "output_type": "stream",
     "text": [
      "/net/fs-2/scale/OrionStore/Scratch/joteklem/MyCondaEnvironments/Python3.11/orion_env/lib/python3.11/site-packages/accelerate/accelerator.py:432: FutureWarning: Passing the following arguments to `Accelerator` is deprecated and will be removed in version 1.0 of Accelerate: dict_keys(['dispatch_batches', 'split_batches', 'even_batches', 'use_seedable_sampler']). Please pass an `accelerate.DataLoaderConfiguration` instead: \n",
      "dataloader_config = DataLoaderConfiguration(dispatch_batches=None, split_batches=False, even_batches=True, use_seedable_sampler=True)\n",
      "  warnings.warn(\n",
      "Detected kernel version 3.10.0, which is below the recommended minimum of 5.5.0; this can cause the process to hang. It is recommended to upgrade the kernel to the minimum version or higher.\n"
     ]
    },
    {
     "data": {
      "text/html": [
       "\n",
       "    <div>\n",
       "      \n",
       "      <progress value='158' max='314' style='width:300px; height:20px; vertical-align: middle;'></progress>\n",
       "      [157/314 00:08 < 00:08, 18.34 it/s, Epoch 0.99/2]\n",
       "    </div>\n",
       "    <table border=\"1\" class=\"dataframe\">\n",
       "  <thead>\n",
       " <tr style=\"text-align: left;\">\n",
       "      <th>Epoch</th>\n",
       "      <th>Training Loss</th>\n",
       "      <th>Validation Loss</th>\n",
       "    </tr>\n",
       "  </thead>\n",
       "  <tbody>\n",
       "  </tbody>\n",
       "</table><p>\n",
       "    <div>\n",
       "      \n",
       "      <progress value='105' max='105' style='width:300px; height:20px; vertical-align: middle;'></progress>\n",
       "      [105/105 00:01]\n",
       "    </div>\n",
       "    "
      ],
      "text/plain": [
       "<IPython.core.display.HTML object>"
      ]
     },
     "metadata": {},
     "output_type": "display_data"
    },
    {
     "name": "stderr",
     "output_type": "stream",
     "text": [
      "[I 2024-04-19 19:56:24,699] Trial 31 pruned. \n"
     ]
    }
   ],
   "source": [
    "# Get the objective function with your dataset included\n",
    "objective_15 = objective_closure(encoded_dataset_15)\n",
    "\n",
    "start_study_15 = time.time()\n",
    "study_15.optimize(objective_15, n_trials=32) #, timeout=600)  \n",
    "end_study_15 = time.time()\n",
    "\n",
    "model_time_study_15 = end_study_15 - start_study_15"
   ]
  },
  {
   "cell_type": "code",
   "execution_count": 25,
   "metadata": {},
   "outputs": [
    {
     "data": {
      "text/html": [
       "Finishing last run (ID:a2tiampr) before initializing another..."
      ],
      "text/plain": [
       "<IPython.core.display.HTML object>"
      ]
     },
     "metadata": {},
     "output_type": "display_data"
    },
    {
     "data": {
      "text/html": [
       "<style>\n",
       "    table.wandb td:nth-child(1) { padding: 0 10px; text-align: left ; width: auto;} td:nth-child(2) {text-align: left ; width: 100%}\n",
       "    .wandb-row { display: flex; flex-direction: row; flex-wrap: wrap; justify-content: flex-start; width: 100% }\n",
       "    .wandb-col { display: flex; flex-direction: column; flex-basis: 100%; flex: 1; padding: 10px; }\n",
       "    </style>\n",
       "<div class=\"wandb-row\"><div class=\"wandb-col\"><h3>Run history:</h3><br/><table class=\"wandb\"><tr><td>eval/Accuracy</td><td>▁</td></tr><tr><td>eval/Balanced accuracy</td><td>▁</td></tr><tr><td>eval/F1 macro</td><td>▁</td></tr><tr><td>eval/F1 micro</td><td>▁</td></tr><tr><td>eval/F1 weighted</td><td>▁</td></tr><tr><td>eval/loss</td><td>▁</td></tr><tr><td>eval/runtime</td><td>▁</td></tr><tr><td>eval/samples_per_second</td><td>▁</td></tr><tr><td>eval/steps_per_second</td><td>▁</td></tr><tr><td>train/epoch</td><td>▁</td></tr><tr><td>train/global_step</td><td>▁</td></tr></table><br/></div><div class=\"wandb-col\"><h3>Run summary:</h3><br/><table class=\"wandb\"><tr><td>eval/Accuracy</td><td>0.75476</td></tr><tr><td>eval/Balanced accuracy</td><td>0.49492</td></tr><tr><td>eval/F1 macro</td><td>0.48102</td></tr><tr><td>eval/F1 micro</td><td>0.75476</td></tr><tr><td>eval/F1 weighted</td><td>0.70719</td></tr><tr><td>eval/loss</td><td>0.61513</td></tr><tr><td>eval/runtime</td><td>1.0461</td></tr><tr><td>eval/samples_per_second</td><td>3211.884</td></tr><tr><td>eval/steps_per_second</td><td>100.371</td></tr><tr><td>train/epoch</td><td>1.0</td></tr><tr><td>train/global_step</td><td>157</td></tr></table><br/></div></div>"
      ],
      "text/plain": [
       "<IPython.core.display.HTML object>"
      ]
     },
     "metadata": {},
     "output_type": "display_data"
    },
    {
     "data": {
      "text/html": [
       " View run <strong style=\"color:#cdcd00\">trial-31</strong> at: <a href='https://wandb.ai/master-2024/MiniLM/runs/a2tiampr' target=\"_blank\">https://wandb.ai/master-2024/MiniLM/runs/a2tiampr</a><br/>Synced 5 W&B file(s), 0 media file(s), 0 artifact file(s) and 0 other file(s)"
      ],
      "text/plain": [
       "<IPython.core.display.HTML object>"
      ]
     },
     "metadata": {},
     "output_type": "display_data"
    },
    {
     "data": {
      "text/html": [
       "Find logs at: <code>./wandb/run-20240419_195605-a2tiampr/logs</code>"
      ],
      "text/plain": [
       "<IPython.core.display.HTML object>"
      ]
     },
     "metadata": {},
     "output_type": "display_data"
    },
    {
     "data": {
      "text/html": [
       "Successfully finished last run (ID:a2tiampr). Initializing new run:<br/>"
      ],
      "text/plain": [
       "<IPython.core.display.HTML object>"
      ]
     },
     "metadata": {},
     "output_type": "display_data"
    },
    {
     "data": {
      "text/html": [
       "wandb version 0.16.6 is available!  To upgrade, please run:\n",
       " $ pip install wandb --upgrade"
      ],
      "text/plain": [
       "<IPython.core.display.HTML object>"
      ]
     },
     "metadata": {},
     "output_type": "display_data"
    },
    {
     "data": {
      "text/html": [
       "Tracking run with wandb version 0.16.4"
      ],
      "text/plain": [
       "<IPython.core.display.HTML object>"
      ]
     },
     "metadata": {},
     "output_type": "display_data"
    },
    {
     "data": {
      "text/html": [
       "Run data is saved locally in <code>/net/fs-2/scale/OrionStore/Home/joteklem/Pytorch_models/wandb/run-20240419_195624-togyhj1p</code>"
      ],
      "text/plain": [
       "<IPython.core.display.HTML object>"
      ]
     },
     "metadata": {},
     "output_type": "display_data"
    },
    {
     "data": {
      "text/html": [
       "Syncing run <strong><a href='https://wandb.ai/master-2024/MiniLM/runs/togyhj1p' target=\"_blank\">trial-0</a></strong> to <a href='https://wandb.ai/master-2024/MiniLM' target=\"_blank\">Weights & Biases</a> (<a href='https://wandb.me/run' target=\"_blank\">docs</a>)<br/>"
      ],
      "text/plain": [
       "<IPython.core.display.HTML object>"
      ]
     },
     "metadata": {},
     "output_type": "display_data"
    },
    {
     "data": {
      "text/html": [
       " View project at <a href='https://wandb.ai/master-2024/MiniLM' target=\"_blank\">https://wandb.ai/master-2024/MiniLM</a>"
      ],
      "text/plain": [
       "<IPython.core.display.HTML object>"
      ]
     },
     "metadata": {},
     "output_type": "display_data"
    },
    {
     "data": {
      "text/html": [
       " View run at <a href='https://wandb.ai/master-2024/MiniLM/runs/togyhj1p' target=\"_blank\">https://wandb.ai/master-2024/MiniLM/runs/togyhj1p</a>"
      ],
      "text/plain": [
       "<IPython.core.display.HTML object>"
      ]
     },
     "metadata": {},
     "output_type": "display_data"
    },
    {
     "name": "stderr",
     "output_type": "stream",
     "text": [
      "/net/fs-2/scale/OrionStore/Scratch/joteklem/MyCondaEnvironments/Python3.11/orion_env/lib/python3.11/site-packages/accelerate/accelerator.py:432: FutureWarning: Passing the following arguments to `Accelerator` is deprecated and will be removed in version 1.0 of Accelerate: dict_keys(['dispatch_batches', 'split_batches', 'even_batches', 'use_seedable_sampler']). Please pass an `accelerate.DataLoaderConfiguration` instead: \n",
      "dataloader_config = DataLoaderConfiguration(dispatch_batches=None, split_batches=False, even_batches=True, use_seedable_sampler=True)\n",
      "  warnings.warn(\n",
      "Detected kernel version 3.10.0, which is below the recommended minimum of 5.5.0; this can cause the process to hang. It is recommended to upgrade the kernel to the minimum version or higher.\n"
     ]
    },
    {
     "name": "stdout",
     "output_type": "stream",
     "text": [
      "Starting trial 0\n"
     ]
    },
    {
     "data": {
      "text/html": [
       "\n",
       "    <div>\n",
       "      \n",
       "      <progress value='2532' max='2532' style='width:300px; height:20px; vertical-align: middle;'></progress>\n",
       "      [2532/2532 02:23, Epoch 4/4]\n",
       "    </div>\n",
       "    <table border=\"1\" class=\"dataframe\">\n",
       "  <thead>\n",
       " <tr style=\"text-align: left;\">\n",
       "      <th>Epoch</th>\n",
       "      <th>Training Loss</th>\n",
       "      <th>Validation Loss</th>\n",
       "      <th>Accuracy</th>\n",
       "      <th>Balanced accuracy</th>\n",
       "      <th>F1 weighted</th>\n",
       "      <th>F1 macro</th>\n",
       "      <th>F1 micro</th>\n",
       "      <th>Classification report</th>\n",
       "    </tr>\n",
       "  </thead>\n",
       "  <tbody>\n",
       "    <tr>\n",
       "      <td>1</td>\n",
       "      <td>No log</td>\n",
       "      <td>0.620218</td>\n",
       "      <td>0.738152</td>\n",
       "      <td>0.536411</td>\n",
       "      <td>0.712009</td>\n",
       "      <td>0.494010</td>\n",
       "      <td>0.738152</td>\n",
       "      <td>{'0': {'precision': 0.5333333333333333, 'recall': 0.7822222222222223, 'f1-score': 0.6342342342342343, 'support': 900.0}, '1': {'precision': 0.8696498054474708, 'recall': 0.8270120259019427, 'f1-score': 0.8477951635846374, 'support': 2162.0}, '2': {'precision': 0.0, 'recall': 0.0, 'f1-score': 0.0, 'support': 314.0}, 'accuracy': 0.7381516587677726, 'macro avg': {'precision': 0.467661046260268, 'recall': 0.5364114160413883, 'f1-score': 0.49400979927295724, 'support': 3376.0}, 'weighted avg': {'precision': 0.6991063031331256, 'recall': 0.7381516587677726, 'f1-score': 0.7120094651898095, 'support': 3376.0}}</td>\n",
       "    </tr>\n",
       "    <tr>\n",
       "      <td>2</td>\n",
       "      <td>0.651000</td>\n",
       "      <td>0.522391</td>\n",
       "      <td>0.819609</td>\n",
       "      <td>0.710495</td>\n",
       "      <td>0.813475</td>\n",
       "      <td>0.733930</td>\n",
       "      <td>0.819609</td>\n",
       "      <td>{'0': {'precision': 0.824438202247191, 'recall': 0.6522222222222223, 'f1-score': 0.728287841191067, 'support': 900.0}, '1': {'precision': 0.8383458646616542, 'recall': 0.9283071230342276, 'f1-score': 0.8810359964881476, 'support': 2162.0}, '2': {'precision': 0.6407407407407407, 'recall': 0.5509554140127388, 'f1-score': 0.5924657534246575, 'support': 314.0}, 'accuracy': 0.8196090047393365, 'macro avg': {'precision': 0.7678416025498619, 'recall': 0.7104949197563962, 'f1-score': 0.7339298637012908, 'support': 3376.0}, 'weighted avg': {'precision': 0.8162591036770026, 'recall': 0.8196090047393365, 'f1-score': 0.813475452622831, 'support': 3376.0}}</td>\n",
       "    </tr>\n",
       "    <tr>\n",
       "      <td>3</td>\n",
       "      <td>0.651000</td>\n",
       "      <td>0.511420</td>\n",
       "      <td>0.819609</td>\n",
       "      <td>0.714170</td>\n",
       "      <td>0.814514</td>\n",
       "      <td>0.734296</td>\n",
       "      <td>0.819609</td>\n",
       "      <td>{'0': {'precision': 0.8010610079575596, 'recall': 0.6711111111111111, 'f1-score': 0.7303506650544135, 'support': 900.0}, '1': {'precision': 0.8468085106382979, 'recall': 0.9204440333024977, 'f1-score': 0.8820921985815602, 'support': 2162.0}, '2': {'precision': 0.6360294117647058, 'recall': 0.5509554140127388, 'f1-score': 0.590443686006826, 'support': 314.0}, 'accuracy': 0.8196090047393365, 'macro avg': {'precision': 0.7612996434535212, 'recall': 0.7141701861421158, 'f1-score': 0.7342955165475998, 'support': 3376.0}, 'weighted avg': {'precision': 0.8150083360355217, 'recall': 0.8196090047393365, 'f1-score': 0.8145136994337822, 'support': 3376.0}}</td>\n",
       "    </tr>\n",
       "    <tr>\n",
       "      <td>4</td>\n",
       "      <td>0.446300</td>\n",
       "      <td>0.512202</td>\n",
       "      <td>0.817536</td>\n",
       "      <td>0.734917</td>\n",
       "      <td>0.815567</td>\n",
       "      <td>0.745034</td>\n",
       "      <td>0.817536</td>\n",
       "      <td>{'0': {'precision': 0.75, 'recall': 0.7133333333333334, 'f1-score': 0.7312072892938497, 'support': 900.0}, '1': {'precision': 0.864308105687416, 'recall': 0.8926919518963923, 'f1-score': 0.8782707622298066, 'support': 2162.0}, '2': {'precision': 0.6550522648083623, 'recall': 0.5987261146496815, 'f1-score': 0.6256239600665557, 'support': 314.0}, 'accuracy': 0.8175355450236966, 'macro avg': {'precision': 0.7564534568319261, 'recall': 0.7349171332931358, 'f1-score': 0.7450340038634039, 'support': 3376.0}, 'weighted avg': {'precision': 0.8143721965776123, 'recall': 0.8175355450236966, 'f1-score': 0.8155669051440181, 'support': 3376.0}}</td>\n",
       "    </tr>\n",
       "  </tbody>\n",
       "</table><p>"
      ],
      "text/plain": [
       "<IPython.core.display.HTML object>"
      ]
     },
     "metadata": {},
     "output_type": "display_data"
    },
    {
     "data": {
      "text/html": [
       "\n",
       "    <div>\n",
       "      \n",
       "      <progress value='422' max='422' style='width:300px; height:20px; vertical-align: middle;'></progress>\n",
       "      [422/422 00:02]\n",
       "    </div>\n",
       "    "
      ],
      "text/plain": [
       "<IPython.core.display.HTML object>"
      ]
     },
     "metadata": {},
     "output_type": "display_data"
    },
    {
     "name": "stderr",
     "output_type": "stream",
     "text": [
      "/net/fs-2/scale/OrionStore/Scratch/joteklem/MyCondaEnvironments/Python3.11/orion_env/lib/python3.11/site-packages/optuna/trial/_trial.py:499: UserWarning: The reported value is ignored because this `step` 4.0 is already reported.\n",
      "  warnings.warn(\n"
     ]
    },
    {
     "name": "stdout",
     "output_type": "stream",
     "text": [
      "Completed trial 0\n"
     ]
    },
    {
     "data": {
      "text/html": [
       "<style>\n",
       "    table.wandb td:nth-child(1) { padding: 0 10px; text-align: left ; width: auto;} td:nth-child(2) {text-align: left ; width: 100%}\n",
       "    .wandb-row { display: flex; flex-direction: row; flex-wrap: wrap; justify-content: flex-start; width: 100% }\n",
       "    .wandb-col { display: flex; flex-direction: column; flex-basis: 100%; flex: 1; padding: 10px; }\n",
       "    </style>\n",
       "<div class=\"wandb-row\"><div class=\"wandb-col\"><h3>Run history:</h3><br/><table class=\"wandb\"><tr><td>Training loss</td><td>▁</td></tr><tr><td>Validation loss</td><td>▁</td></tr><tr><td>eval/Accuracy</td><td>▁████</td></tr><tr><td>eval/Balanced accuracy</td><td>▁▇▇██</td></tr><tr><td>eval/F1 macro</td><td>▁████</td></tr><tr><td>eval/F1 micro</td><td>▁████</td></tr><tr><td>eval/F1 weighted</td><td>▁████</td></tr><tr><td>eval/loss</td><td>█▂▁▁▁</td></tr><tr><td>eval/runtime</td><td>█▄▄▁▂</td></tr><tr><td>eval/samples_per_second</td><td>▁▅▅█▇</td></tr><tr><td>eval/steps_per_second</td><td>▁▅▅█▇</td></tr><tr><td>macro F1 score</td><td>▁</td></tr><tr><td>train/epoch</td><td>▁▃▃▆████</td></tr><tr><td>train/global_step</td><td>▁▃▃▆██████</td></tr><tr><td>train/grad_norm</td><td>█▁</td></tr><tr><td>train/learning_rate</td><td>█▁</td></tr><tr><td>train/loss</td><td>█▁</td></tr><tr><td>train/total_flos</td><td>▁</td></tr><tr><td>train/train_loss</td><td>▁</td></tr><tr><td>train/train_runtime</td><td>▁</td></tr><tr><td>train/train_samples_per_second</td><td>▁</td></tr><tr><td>train/train_steps_per_second</td><td>▁</td></tr></table><br/></div><div class=\"wandb-col\"><h3>Run summary:</h3><br/><table class=\"wandb\"><tr><td>Training loss</td><td>0.4463</td></tr><tr><td>Validation loss</td><td>0.51142</td></tr><tr><td>eval/Accuracy</td><td>0.81754</td></tr><tr><td>eval/Balanced accuracy</td><td>0.73492</td></tr><tr><td>eval/F1 macro</td><td>0.74503</td></tr><tr><td>eval/F1 micro</td><td>0.81754</td></tr><tr><td>eval/F1 weighted</td><td>0.81557</td></tr><tr><td>eval/loss</td><td>0.5122</td></tr><tr><td>eval/runtime</td><td>3.0073</td></tr><tr><td>eval/samples_per_second</td><td>1122.609</td></tr><tr><td>eval/steps_per_second</td><td>140.326</td></tr><tr><td>macro F1 score</td><td>0.74503</td></tr><tr><td>train/epoch</td><td>4.0</td></tr><tr><td>train/global_step</td><td>2532</td></tr><tr><td>train/grad_norm</td><td>6.43823</td></tr><tr><td>train/learning_rate</td><td>0.0</td></tr><tr><td>train/loss</td><td>0.4463</td></tr><tr><td>train/total_flos</td><td>323644548151584.0</td></tr><tr><td>train/train_loss</td><td>0.54865</td></tr><tr><td>train/train_runtime</td><td>143.9946</td></tr><tr><td>train/train_samples_per_second</td><td>281.344</td></tr><tr><td>train/train_steps_per_second</td><td>17.584</td></tr></table><br/></div></div>"
      ],
      "text/plain": [
       "<IPython.core.display.HTML object>"
      ]
     },
     "metadata": {},
     "output_type": "display_data"
    },
    {
     "data": {
      "text/html": [
       " View run <strong style=\"color:#cdcd00\">trial-0</strong> at: <a href='https://wandb.ai/master-2024/MiniLM/runs/togyhj1p' target=\"_blank\">https://wandb.ai/master-2024/MiniLM/runs/togyhj1p</a><br/>Synced 5 W&B file(s), 0 media file(s), 0 artifact file(s) and 0 other file(s)"
      ],
      "text/plain": [
       "<IPython.core.display.HTML object>"
      ]
     },
     "metadata": {},
     "output_type": "display_data"
    },
    {
     "data": {
      "text/html": [
       "Find logs at: <code>./wandb/run-20240419_195624-togyhj1p/logs</code>"
      ],
      "text/plain": [
       "<IPython.core.display.HTML object>"
      ]
     },
     "metadata": {},
     "output_type": "display_data"
    },
    {
     "name": "stderr",
     "output_type": "stream",
     "text": [
      "[I 2024-04-19 19:59:04,959] Trial 0 finished with value: 0.7450340038634039 and parameters: {'learning_rate': 1.1557352816269867e-05, 'per_device_train_batch_size': 8, 'weight_decay': 0.2722699421778279, 'num_train_epochs': 4, 'warmup_steps': 38}. Best is trial 0 with value: 0.7450340038634039.\n"
     ]
    },
    {
     "data": {
      "text/html": [
       "wandb version 0.16.6 is available!  To upgrade, please run:\n",
       " $ pip install wandb --upgrade"
      ],
      "text/plain": [
       "<IPython.core.display.HTML object>"
      ]
     },
     "metadata": {},
     "output_type": "display_data"
    },
    {
     "data": {
      "text/html": [
       "Tracking run with wandb version 0.16.4"
      ],
      "text/plain": [
       "<IPython.core.display.HTML object>"
      ]
     },
     "metadata": {},
     "output_type": "display_data"
    },
    {
     "data": {
      "text/html": [
       "Run data is saved locally in <code>/net/fs-2/scale/OrionStore/Home/joteklem/Pytorch_models/wandb/run-20240419_195905-ywm0re7x</code>"
      ],
      "text/plain": [
       "<IPython.core.display.HTML object>"
      ]
     },
     "metadata": {},
     "output_type": "display_data"
    },
    {
     "data": {
      "text/html": [
       "Syncing run <strong><a href='https://wandb.ai/master-2024/MiniLM/runs/ywm0re7x' target=\"_blank\">trial-1</a></strong> to <a href='https://wandb.ai/master-2024/MiniLM' target=\"_blank\">Weights & Biases</a> (<a href='https://wandb.me/run' target=\"_blank\">docs</a>)<br/>"
      ],
      "text/plain": [
       "<IPython.core.display.HTML object>"
      ]
     },
     "metadata": {},
     "output_type": "display_data"
    },
    {
     "data": {
      "text/html": [
       " View project at <a href='https://wandb.ai/master-2024/MiniLM' target=\"_blank\">https://wandb.ai/master-2024/MiniLM</a>"
      ],
      "text/plain": [
       "<IPython.core.display.HTML object>"
      ]
     },
     "metadata": {},
     "output_type": "display_data"
    },
    {
     "data": {
      "text/html": [
       " View run at <a href='https://wandb.ai/master-2024/MiniLM/runs/ywm0re7x' target=\"_blank\">https://wandb.ai/master-2024/MiniLM/runs/ywm0re7x</a>"
      ],
      "text/plain": [
       "<IPython.core.display.HTML object>"
      ]
     },
     "metadata": {},
     "output_type": "display_data"
    },
    {
     "name": "stderr",
     "output_type": "stream",
     "text": [
      "/net/fs-2/scale/OrionStore/Scratch/joteklem/MyCondaEnvironments/Python3.11/orion_env/lib/python3.11/site-packages/accelerate/accelerator.py:432: FutureWarning: Passing the following arguments to `Accelerator` is deprecated and will be removed in version 1.0 of Accelerate: dict_keys(['dispatch_batches', 'split_batches', 'even_batches', 'use_seedable_sampler']). Please pass an `accelerate.DataLoaderConfiguration` instead: \n",
      "dataloader_config = DataLoaderConfiguration(dispatch_batches=None, split_batches=False, even_batches=True, use_seedable_sampler=True)\n",
      "  warnings.warn(\n",
      "Detected kernel version 3.10.0, which is below the recommended minimum of 5.5.0; this can cause the process to hang. It is recommended to upgrade the kernel to the minimum version or higher.\n"
     ]
    },
    {
     "name": "stdout",
     "output_type": "stream",
     "text": [
      "Starting trial 1\n"
     ]
    },
    {
     "data": {
      "text/html": [
       "\n",
       "    <div>\n",
       "      \n",
       "      <progress value='1580' max='1580' style='width:300px; height:20px; vertical-align: middle;'></progress>\n",
       "      [1580/1580 01:34, Epoch 4/5]\n",
       "    </div>\n",
       "    <table border=\"1\" class=\"dataframe\">\n",
       "  <thead>\n",
       " <tr style=\"text-align: left;\">\n",
       "      <th>Epoch</th>\n",
       "      <th>Training Loss</th>\n",
       "      <th>Validation Loss</th>\n",
       "      <th>Accuracy</th>\n",
       "      <th>Balanced accuracy</th>\n",
       "      <th>F1 weighted</th>\n",
       "      <th>F1 macro</th>\n",
       "      <th>F1 micro</th>\n",
       "      <th>Classification report</th>\n",
       "    </tr>\n",
       "  </thead>\n",
       "  <tbody>\n",
       "    <tr>\n",
       "      <td>0</td>\n",
       "      <td>No log</td>\n",
       "      <td>0.550867</td>\n",
       "      <td>0.807464</td>\n",
       "      <td>0.702962</td>\n",
       "      <td>0.803291</td>\n",
       "      <td>0.714195</td>\n",
       "      <td>0.807464</td>\n",
       "      <td>{'0': {'precision': 0.834061135371179, 'recall': 0.6366666666666667, 'f1-score': 0.7221172022684311, 'support': 900.0}, '1': {'precision': 0.8374259102455546, 'recall': 0.9148936170212766, 'f1-score': 0.874447391688771, 'support': 2162.0}, '2': {'precision': 0.5351681957186545, 'recall': 0.5573248407643312, 'f1-score': 0.5460218408736349, 'support': 314.0}, 'accuracy': 0.8074644549763034, 'macro avg': {'precision': 0.7355517471117959, 'recall': 0.7029617081507581, 'f1-score': 0.7141954782769456, 'support': 3376.0}, 'weighted avg': {'precision': 0.8084160702726917, 'recall': 0.8074644549763034, 'f1-score': 0.8032913509795712, 'support': 3376.0}}</td>\n",
       "    </tr>\n",
       "    <tr>\n",
       "      <td>2</td>\n",
       "      <td>0.648200</td>\n",
       "      <td>0.464743</td>\n",
       "      <td>0.829384</td>\n",
       "      <td>0.755816</td>\n",
       "      <td>0.827297</td>\n",
       "      <td>0.759708</td>\n",
       "      <td>0.829384</td>\n",
       "      <td>{'0': {'precision': 0.7984595635430038, 'recall': 0.6911111111111111, 'f1-score': 0.7409172126265634, 'support': 900.0}, '1': {'precision': 0.8685487428319365, 'recall': 0.9107308048103607, 'f1-score': 0.8891397606683226, 'support': 2162.0}, '2': {'precision': 0.6333333333333333, 'recall': 0.6656050955414012, 'f1-score': 0.6490683229813664, 'support': 314.0}, 'accuracy': 0.8293838862559242, 'macro avg': {'precision': 0.7667805465694245, 'recall': 0.7558156704876243, 'f1-score': 0.7597084320920842, 'support': 3376.0}, 'weighted avg': {'precision': 0.8279865686783225, 'recall': 0.8293838862559242, 'f1-score': 0.8272965365358321, 'support': 3376.0}}</td>\n",
       "    </tr>\n",
       "    <tr>\n",
       "      <td>4</td>\n",
       "      <td>0.360900</td>\n",
       "      <td>0.500399</td>\n",
       "      <td>0.822867</td>\n",
       "      <td>0.759689</td>\n",
       "      <td>0.822846</td>\n",
       "      <td>0.759758</td>\n",
       "      <td>0.822867</td>\n",
       "      <td>{'0': {'precision': 0.7385984427141268, 'recall': 0.7377777777777778, 'f1-score': 0.7381878821567537, 'support': 900.0}, '1': {'precision': 0.8816458622283865, 'recall': 0.8820536540240518, 'f1-score': 0.8818497109826589, 'support': 2162.0}, '2': {'precision': 0.6592356687898089, 'recall': 0.6592356687898089, 'f1-score': 0.6592356687898089, 'support': 314.0}, 'accuracy': 0.8228672985781991, 'macro avg': {'precision': 0.7598266579107741, 'recall': 0.7596890335305462, 'f1-score': 0.7597577539764071, 'support': 3376.0}, 'weighted avg': {'precision': 0.8228249267122292, 'recall': 0.8228672985781991, 'f1-score': 0.8228460216485743, 'support': 3376.0}}</td>\n",
       "    </tr>\n",
       "  </tbody>\n",
       "</table><p>"
      ],
      "text/plain": [
       "<IPython.core.display.HTML object>"
      ]
     },
     "metadata": {},
     "output_type": "display_data"
    },
    {
     "data": {
      "text/html": [
       "\n",
       "    <div>\n",
       "      \n",
       "      <progress value='211' max='211' style='width:300px; height:20px; vertical-align: middle;'></progress>\n",
       "      [211/211 00:01]\n",
       "    </div>\n",
       "    "
      ],
      "text/plain": [
       "<IPython.core.display.HTML object>"
      ]
     },
     "metadata": {},
     "output_type": "display_data"
    },
    {
     "name": "stderr",
     "output_type": "stream",
     "text": [
      "/net/fs-2/scale/OrionStore/Scratch/joteklem/MyCondaEnvironments/Python3.11/orion_env/lib/python3.11/site-packages/optuna/trial/_trial.py:499: UserWarning: The reported value is ignored because this `step` 4.992101105845181 is already reported.\n",
      "  warnings.warn(\n"
     ]
    },
    {
     "name": "stdout",
     "output_type": "stream",
     "text": [
      "Completed trial 1\n"
     ]
    },
    {
     "data": {
      "text/html": [
       "<style>\n",
       "    table.wandb td:nth-child(1) { padding: 0 10px; text-align: left ; width: auto;} td:nth-child(2) {text-align: left ; width: 100%}\n",
       "    .wandb-row { display: flex; flex-direction: row; flex-wrap: wrap; justify-content: flex-start; width: 100% }\n",
       "    .wandb-col { display: flex; flex-direction: column; flex-basis: 100%; flex: 1; padding: 10px; }\n",
       "    </style>\n",
       "<div class=\"wandb-row\"><div class=\"wandb-col\"><h3>Run history:</h3><br/><table class=\"wandb\"><tr><td>Training loss</td><td>▁</td></tr><tr><td>Validation loss</td><td>▁</td></tr><tr><td>eval/Accuracy</td><td>▁▆█▇▆▆</td></tr><tr><td>eval/Balanced accuracy</td><td>▂▁▇█▇▇</td></tr><tr><td>eval/F1 macro</td><td>▁▃▇█▇▇</td></tr><tr><td>eval/F1 micro</td><td>▁▆█▇▆▆</td></tr><tr><td>eval/F1 weighted</td><td>▁▄██▇▇</td></tr><tr><td>eval/loss</td><td>█▄▁▄▄▄</td></tr><tr><td>eval/runtime</td><td>▁▁▂▁▁█</td></tr><tr><td>eval/samples_per_second</td><td>██▇██▁</td></tr><tr><td>eval/steps_per_second</td><td>██▇██▁</td></tr><tr><td>macro F1 score</td><td>▁</td></tr><tr><td>train/epoch</td><td>▁▃▃▅▆▆███</td></tr><tr><td>train/global_step</td><td>▁▃▃▅▆▆█████</td></tr><tr><td>train/grad_norm</td><td>▁█</td></tr><tr><td>train/learning_rate</td><td>█▁</td></tr><tr><td>train/loss</td><td>█▁</td></tr><tr><td>train/total_flos</td><td>▁</td></tr><tr><td>train/train_loss</td><td>▁</td></tr><tr><td>train/train_runtime</td><td>▁</td></tr><tr><td>train/train_samples_per_second</td><td>▁</td></tr><tr><td>train/train_steps_per_second</td><td>▁</td></tr></table><br/></div><div class=\"wandb-col\"><h3>Run summary:</h3><br/><table class=\"wandb\"><tr><td>Training loss</td><td>0.3609</td></tr><tr><td>Validation loss</td><td>0.49625</td></tr><tr><td>eval/Accuracy</td><td>0.82287</td></tr><tr><td>eval/Balanced accuracy</td><td>0.75969</td></tr><tr><td>eval/F1 macro</td><td>0.75976</td></tr><tr><td>eval/F1 micro</td><td>0.82287</td></tr><tr><td>eval/F1 weighted</td><td>0.82285</td></tr><tr><td>eval/loss</td><td>0.5004</td></tr><tr><td>eval/runtime</td><td>1.9888</td></tr><tr><td>eval/samples_per_second</td><td>1697.531</td></tr><tr><td>eval/steps_per_second</td><td>106.096</td></tr><tr><td>macro F1 score</td><td>0.75976</td></tr><tr><td>train/epoch</td><td>4.99</td></tr><tr><td>train/global_step</td><td>1580</td></tr><tr><td>train/grad_norm</td><td>7.58897</td></tr><tr><td>train/learning_rate</td><td>1e-05</td></tr><tr><td>train/loss</td><td>0.3609</td></tr><tr><td>train/total_flos</td><td>450283380353280.0</td></tr><tr><td>train/train_loss</td><td>0.46026</td></tr><tr><td>train/train_runtime</td><td>94.3053</td></tr><tr><td>train/train_samples_per_second</td><td>536.979</td></tr><tr><td>train/train_steps_per_second</td><td>16.754</td></tr></table><br/></div></div>"
      ],
      "text/plain": [
       "<IPython.core.display.HTML object>"
      ]
     },
     "metadata": {},
     "output_type": "display_data"
    },
    {
     "data": {
      "text/html": [
       " View run <strong style=\"color:#cdcd00\">trial-1</strong> at: <a href='https://wandb.ai/master-2024/MiniLM/runs/ywm0re7x' target=\"_blank\">https://wandb.ai/master-2024/MiniLM/runs/ywm0re7x</a><br/>Synced 5 W&B file(s), 0 media file(s), 0 artifact file(s) and 0 other file(s)"
      ],
      "text/plain": [
       "<IPython.core.display.HTML object>"
      ]
     },
     "metadata": {},
     "output_type": "display_data"
    },
    {
     "data": {
      "text/html": [
       "Find logs at: <code>./wandb/run-20240419_195905-ywm0re7x/logs</code>"
      ],
      "text/plain": [
       "<IPython.core.display.HTML object>"
      ]
     },
     "metadata": {},
     "output_type": "display_data"
    },
    {
     "name": "stderr",
     "output_type": "stream",
     "text": [
      "[I 2024-04-19 20:00:49,993] Trial 1 finished with value: 0.7597577539764071 and parameters: {'learning_rate': 3.797544798678414e-05, 'per_device_train_batch_size': 16, 'weight_decay': 0.19002112695312703, 'num_train_epochs': 5, 'warmup_steps': 270}. Best is trial 1 with value: 0.7597577539764071.\n"
     ]
    },
    {
     "data": {
      "text/html": [
       "wandb version 0.16.6 is available!  To upgrade, please run:\n",
       " $ pip install wandb --upgrade"
      ],
      "text/plain": [
       "<IPython.core.display.HTML object>"
      ]
     },
     "metadata": {},
     "output_type": "display_data"
    },
    {
     "data": {
      "text/html": [
       "Tracking run with wandb version 0.16.4"
      ],
      "text/plain": [
       "<IPython.core.display.HTML object>"
      ]
     },
     "metadata": {},
     "output_type": "display_data"
    },
    {
     "data": {
      "text/html": [
       "Run data is saved locally in <code>/net/fs-2/scale/OrionStore/Home/joteklem/Pytorch_models/wandb/run-20240419_200050-s0zk224r</code>"
      ],
      "text/plain": [
       "<IPython.core.display.HTML object>"
      ]
     },
     "metadata": {},
     "output_type": "display_data"
    },
    {
     "data": {
      "text/html": [
       "Syncing run <strong><a href='https://wandb.ai/master-2024/MiniLM/runs/s0zk224r' target=\"_blank\">trial-2</a></strong> to <a href='https://wandb.ai/master-2024/MiniLM' target=\"_blank\">Weights & Biases</a> (<a href='https://wandb.me/run' target=\"_blank\">docs</a>)<br/>"
      ],
      "text/plain": [
       "<IPython.core.display.HTML object>"
      ]
     },
     "metadata": {},
     "output_type": "display_data"
    },
    {
     "data": {
      "text/html": [
       " View project at <a href='https://wandb.ai/master-2024/MiniLM' target=\"_blank\">https://wandb.ai/master-2024/MiniLM</a>"
      ],
      "text/plain": [
       "<IPython.core.display.HTML object>"
      ]
     },
     "metadata": {},
     "output_type": "display_data"
    },
    {
     "data": {
      "text/html": [
       " View run at <a href='https://wandb.ai/master-2024/MiniLM/runs/s0zk224r' target=\"_blank\">https://wandb.ai/master-2024/MiniLM/runs/s0zk224r</a>"
      ],
      "text/plain": [
       "<IPython.core.display.HTML object>"
      ]
     },
     "metadata": {},
     "output_type": "display_data"
    },
    {
     "name": "stderr",
     "output_type": "stream",
     "text": [
      "/net/fs-2/scale/OrionStore/Scratch/joteklem/MyCondaEnvironments/Python3.11/orion_env/lib/python3.11/site-packages/accelerate/accelerator.py:432: FutureWarning: Passing the following arguments to `Accelerator` is deprecated and will be removed in version 1.0 of Accelerate: dict_keys(['dispatch_batches', 'split_batches', 'even_batches', 'use_seedable_sampler']). Please pass an `accelerate.DataLoaderConfiguration` instead: \n",
      "dataloader_config = DataLoaderConfiguration(dispatch_batches=None, split_batches=False, even_batches=True, use_seedable_sampler=True)\n",
      "  warnings.warn(\n",
      "Detected kernel version 3.10.0, which is below the recommended minimum of 5.5.0; this can cause the process to hang. It is recommended to upgrade the kernel to the minimum version or higher.\n"
     ]
    },
    {
     "name": "stdout",
     "output_type": "stream",
     "text": [
      "Starting trial 2\n"
     ]
    },
    {
     "data": {
      "text/html": [
       "\n",
       "    <div>\n",
       "      \n",
       "      <progress value='2532' max='2532' style='width:300px; height:20px; vertical-align: middle;'></progress>\n",
       "      [2532/2532 02:18, Epoch 4/4]\n",
       "    </div>\n",
       "    <table border=\"1\" class=\"dataframe\">\n",
       "  <thead>\n",
       " <tr style=\"text-align: left;\">\n",
       "      <th>Epoch</th>\n",
       "      <th>Training Loss</th>\n",
       "      <th>Validation Loss</th>\n",
       "      <th>Accuracy</th>\n",
       "      <th>Balanced accuracy</th>\n",
       "      <th>F1 weighted</th>\n",
       "      <th>F1 macro</th>\n",
       "      <th>F1 micro</th>\n",
       "      <th>Classification report</th>\n",
       "    </tr>\n",
       "  </thead>\n",
       "  <tbody>\n",
       "    <tr>\n",
       "      <td>1</td>\n",
       "      <td>No log</td>\n",
       "      <td>0.860671</td>\n",
       "      <td>0.640403</td>\n",
       "      <td>0.333333</td>\n",
       "      <td>0.500018</td>\n",
       "      <td>0.260262</td>\n",
       "      <td>0.640403</td>\n",
       "      <td>{'0': {'precision': 0.0, 'recall': 0.0, 'f1-score': 0.0, 'support': 900.0}, '1': {'precision': 0.6404028436018957, 'recall': 1.0, 'f1-score': 0.7807872878295413, 'support': 2162.0}, '2': {'precision': 0.0, 'recall': 0.0, 'f1-score': 0.0, 'support': 314.0}, 'accuracy': 0.6404028436018957, 'macro avg': {'precision': 0.21346761453396523, 'recall': 0.3333333333333333, 'f1-score': 0.2602624292765138, 'support': 3376.0}, 'weighted avg': {'precision': 0.4101158020933941, 'recall': 0.6404028436018957, 'f1-score': 0.5000183993742501, 'support': 3376.0}}</td>\n",
       "    </tr>\n",
       "    <tr>\n",
       "      <td>2</td>\n",
       "      <td>0.720200</td>\n",
       "      <td>0.718275</td>\n",
       "      <td>0.757109</td>\n",
       "      <td>0.545673</td>\n",
       "      <td>0.725170</td>\n",
       "      <td>0.510106</td>\n",
       "      <td>0.757109</td>\n",
       "      <td>{'0': {'precision': 0.5942028985507246, 'recall': 0.7744444444444445, 'f1-score': 0.6724553786782441, 'support': 900.0}, '1': {'precision': 0.8437783832879201, 'recall': 0.8593894542090657, 'f1-score': 0.851512373968836, 'support': 2162.0}, '2': {'precision': 1.0, 'recall': 0.0031847133757961785, 'f1-score': 0.006349206349206349, 'support': 314.0}, 'accuracy': 0.7571090047393365, 'macro avg': {'precision': 0.8126604272795482, 'recall': 0.5456728706764354, 'f1-score': 0.5101056529987621, 'support': 3376.0}, 'weighted avg': {'precision': 0.7917747255225519, 'recall': 0.7571090047393365, 'f1-score': 0.7251697997999687, 'support': 3376.0}}</td>\n",
       "    </tr>\n",
       "    <tr>\n",
       "      <td>3</td>\n",
       "      <td>0.720200</td>\n",
       "      <td>0.702371</td>\n",
       "      <td>0.772216</td>\n",
       "      <td>0.546143</td>\n",
       "      <td>0.735495</td>\n",
       "      <td>0.517526</td>\n",
       "      <td>0.772216</td>\n",
       "      <td>{'0': {'precision': 0.6494644595910418, 'recall': 0.7411111111111112, 'f1-score': 0.6922677737415672, 'support': 900.0}, '1': {'precision': 0.8262350936967632, 'recall': 0.8973172987974098, 'f1-score': 0.8603104212860311, 'support': 2162.0}, '2': {'precision': 0.0, 'recall': 0.0, 'f1-score': 0.0, 'support': 314.0}, 'accuracy': 0.7722156398104265, 'macro avg': {'precision': 0.491899851095935, 'recall': 0.5461428033028404, 'f1-score': 0.5175260650091994, 'support': 3376.0}, 'weighted avg': {'precision': 0.7022625255344608, 'recall': 0.7722156398104265, 'f1-score': 0.7354952983376214, 'support': 3376.0}}</td>\n",
       "    </tr>\n",
       "    <tr>\n",
       "      <td>4</td>\n",
       "      <td>0.640400</td>\n",
       "      <td>0.666862</td>\n",
       "      <td>0.762145</td>\n",
       "      <td>0.544792</td>\n",
       "      <td>0.728147</td>\n",
       "      <td>0.510968</td>\n",
       "      <td>0.762145</td>\n",
       "      <td>{'0': {'precision': 0.6116071428571429, 'recall': 0.7611111111111111, 'f1-score': 0.6782178217821784, 'support': 900.0}, '1': {'precision': 0.8368794326241135, 'recall': 0.8732654949121184, 'f1-score': 0.8546853779990946, 'support': 2162.0}, '2': {'precision': 0.0, 'recall': 0.0, 'f1-score': 0.0, 'support': 314.0}, 'accuracy': 0.7621445497630331, 'macro avg': {'precision': 0.4828288584937521, 'recall': 0.5447922020077431, 'f1-score': 0.5109677332604243, 'support': 3376.0}, 'weighted avg': {'precision': 0.6989868962988038, 'recall': 0.7621445497630331, 'f1-score': 0.7281474605562804, 'support': 3376.0}}</td>\n",
       "    </tr>\n",
       "  </tbody>\n",
       "</table><p>"
      ],
      "text/plain": [
       "<IPython.core.display.HTML object>"
      ]
     },
     "metadata": {},
     "output_type": "display_data"
    },
    {
     "data": {
      "text/html": [
       "\n",
       "    <div>\n",
       "      \n",
       "      <progress value='422' max='422' style='width:300px; height:20px; vertical-align: middle;'></progress>\n",
       "      [422/422 00:02]\n",
       "    </div>\n",
       "    "
      ],
      "text/plain": [
       "<IPython.core.display.HTML object>"
      ]
     },
     "metadata": {},
     "output_type": "display_data"
    },
    {
     "name": "stderr",
     "output_type": "stream",
     "text": [
      "/net/fs-2/scale/OrionStore/Scratch/joteklem/MyCondaEnvironments/Python3.11/orion_env/lib/python3.11/site-packages/optuna/trial/_trial.py:499: UserWarning: The reported value is ignored because this `step` 4.0 is already reported.\n",
      "  warnings.warn(\n"
     ]
    },
    {
     "name": "stdout",
     "output_type": "stream",
     "text": [
      "Completed trial 2\n"
     ]
    },
    {
     "data": {
      "text/html": [
       "<style>\n",
       "    table.wandb td:nth-child(1) { padding: 0 10px; text-align: left ; width: auto;} td:nth-child(2) {text-align: left ; width: 100%}\n",
       "    .wandb-row { display: flex; flex-direction: row; flex-wrap: wrap; justify-content: flex-start; width: 100% }\n",
       "    .wandb-col { display: flex; flex-direction: column; flex-basis: 100%; flex: 1; padding: 10px; }\n",
       "    </style>\n",
       "<div class=\"wandb-row\"><div class=\"wandb-col\"><h3>Run history:</h3><br/><table class=\"wandb\"><tr><td>Training loss</td><td>▁</td></tr><tr><td>Validation loss</td><td>▁</td></tr><tr><td>eval/Accuracy</td><td>▁▇█▇▇</td></tr><tr><td>eval/Balanced accuracy</td><td>▁████</td></tr><tr><td>eval/F1 macro</td><td>▁████</td></tr><tr><td>eval/F1 micro</td><td>▁▇█▇▇</td></tr><tr><td>eval/F1 weighted</td><td>▁████</td></tr><tr><td>eval/loss</td><td>█▃▂▁▁</td></tr><tr><td>eval/runtime</td><td>▇█▁▁▂</td></tr><tr><td>eval/samples_per_second</td><td>▂▁██▇</td></tr><tr><td>eval/steps_per_second</td><td>▂▁██▇</td></tr><tr><td>macro F1 score</td><td>▁</td></tr><tr><td>train/epoch</td><td>▁▃▃▆████</td></tr><tr><td>train/global_step</td><td>▁▃▃▆██████</td></tr><tr><td>train/grad_norm</td><td>▁█</td></tr><tr><td>train/learning_rate</td><td>█▁</td></tr><tr><td>train/loss</td><td>█▁</td></tr><tr><td>train/total_flos</td><td>▁</td></tr><tr><td>train/train_loss</td><td>▁</td></tr><tr><td>train/train_runtime</td><td>▁</td></tr><tr><td>train/train_samples_per_second</td><td>▁</td></tr><tr><td>train/train_steps_per_second</td><td>▁</td></tr></table><br/></div><div class=\"wandb-col\"><h3>Run summary:</h3><br/><table class=\"wandb\"><tr><td>Training loss</td><td>0.6404</td></tr><tr><td>Validation loss</td><td>0.70237</td></tr><tr><td>eval/Accuracy</td><td>0.76214</td></tr><tr><td>eval/Balanced accuracy</td><td>0.54479</td></tr><tr><td>eval/F1 macro</td><td>0.51097</td></tr><tr><td>eval/F1 micro</td><td>0.76214</td></tr><tr><td>eval/F1 weighted</td><td>0.72815</td></tr><tr><td>eval/loss</td><td>0.66686</td></tr><tr><td>eval/runtime</td><td>3.0132</td></tr><tr><td>eval/samples_per_second</td><td>1120.389</td></tr><tr><td>eval/steps_per_second</td><td>140.049</td></tr><tr><td>macro F1 score</td><td>0.51097</td></tr><tr><td>train/epoch</td><td>4.0</td></tr><tr><td>train/global_step</td><td>2532</td></tr><tr><td>train/grad_norm</td><td>51.32654</td></tr><tr><td>train/learning_rate</td><td>0.0</td></tr><tr><td>train/loss</td><td>0.6404</td></tr><tr><td>train/total_flos</td><td>323644548151584.0</td></tr><tr><td>train/train_loss</td><td>0.6803</td></tr><tr><td>train/train_runtime</td><td>138.5941</td></tr><tr><td>train/train_samples_per_second</td><td>292.307</td></tr><tr><td>train/train_steps_per_second</td><td>18.269</td></tr></table><br/></div></div>"
      ],
      "text/plain": [
       "<IPython.core.display.HTML object>"
      ]
     },
     "metadata": {},
     "output_type": "display_data"
    },
    {
     "data": {
      "text/html": [
       " View run <strong style=\"color:#cdcd00\">trial-2</strong> at: <a href='https://wandb.ai/master-2024/MiniLM/runs/s0zk224r' target=\"_blank\">https://wandb.ai/master-2024/MiniLM/runs/s0zk224r</a><br/>Synced 5 W&B file(s), 0 media file(s), 0 artifact file(s) and 0 other file(s)"
      ],
      "text/plain": [
       "<IPython.core.display.HTML object>"
      ]
     },
     "metadata": {},
     "output_type": "display_data"
    },
    {
     "data": {
      "text/html": [
       "Find logs at: <code>./wandb/run-20240419_200050-s0zk224r/logs</code>"
      ],
      "text/plain": [
       "<IPython.core.display.HTML object>"
      ]
     },
     "metadata": {},
     "output_type": "display_data"
    },
    {
     "name": "stderr",
     "output_type": "stream",
     "text": [
      "[I 2024-04-19 20:03:19,806] Trial 2 finished with value: 0.5109677332604243 and parameters: {'learning_rate': 0.00041198396246051877, 'per_device_train_batch_size': 8, 'weight_decay': 0.0683805487625825, 'num_train_epochs': 4, 'warmup_steps': 255}. Best is trial 1 with value: 0.7597577539764071.\n"
     ]
    },
    {
     "data": {
      "text/html": [
       "wandb version 0.16.6 is available!  To upgrade, please run:\n",
       " $ pip install wandb --upgrade"
      ],
      "text/plain": [
       "<IPython.core.display.HTML object>"
      ]
     },
     "metadata": {},
     "output_type": "display_data"
    },
    {
     "data": {
      "text/html": [
       "Tracking run with wandb version 0.16.4"
      ],
      "text/plain": [
       "<IPython.core.display.HTML object>"
      ]
     },
     "metadata": {},
     "output_type": "display_data"
    },
    {
     "data": {
      "text/html": [
       "Run data is saved locally in <code>/net/fs-2/scale/OrionStore/Home/joteklem/Pytorch_models/wandb/run-20240419_200319-zbe36czp</code>"
      ],
      "text/plain": [
       "<IPython.core.display.HTML object>"
      ]
     },
     "metadata": {},
     "output_type": "display_data"
    },
    {
     "data": {
      "text/html": [
       "Syncing run <strong><a href='https://wandb.ai/master-2024/MiniLM/runs/zbe36czp' target=\"_blank\">trial-3</a></strong> to <a href='https://wandb.ai/master-2024/MiniLM' target=\"_blank\">Weights & Biases</a> (<a href='https://wandb.me/run' target=\"_blank\">docs</a>)<br/>"
      ],
      "text/plain": [
       "<IPython.core.display.HTML object>"
      ]
     },
     "metadata": {},
     "output_type": "display_data"
    },
    {
     "data": {
      "text/html": [
       " View project at <a href='https://wandb.ai/master-2024/MiniLM' target=\"_blank\">https://wandb.ai/master-2024/MiniLM</a>"
      ],
      "text/plain": [
       "<IPython.core.display.HTML object>"
      ]
     },
     "metadata": {},
     "output_type": "display_data"
    },
    {
     "data": {
      "text/html": [
       " View run at <a href='https://wandb.ai/master-2024/MiniLM/runs/zbe36czp' target=\"_blank\">https://wandb.ai/master-2024/MiniLM/runs/zbe36czp</a>"
      ],
      "text/plain": [
       "<IPython.core.display.HTML object>"
      ]
     },
     "metadata": {},
     "output_type": "display_data"
    },
    {
     "name": "stderr",
     "output_type": "stream",
     "text": [
      "/net/fs-2/scale/OrionStore/Scratch/joteklem/MyCondaEnvironments/Python3.11/orion_env/lib/python3.11/site-packages/accelerate/accelerator.py:432: FutureWarning: Passing the following arguments to `Accelerator` is deprecated and will be removed in version 1.0 of Accelerate: dict_keys(['dispatch_batches', 'split_batches', 'even_batches', 'use_seedable_sampler']). Please pass an `accelerate.DataLoaderConfiguration` instead: \n",
      "dataloader_config = DataLoaderConfiguration(dispatch_batches=None, split_batches=False, even_batches=True, use_seedable_sampler=True)\n",
      "  warnings.warn(\n",
      "Detected kernel version 3.10.0, which is below the recommended minimum of 5.5.0; this can cause the process to hang. It is recommended to upgrade the kernel to the minimum version or higher.\n"
     ]
    },
    {
     "name": "stdout",
     "output_type": "stream",
     "text": [
      "Starting trial 3\n"
     ]
    },
    {
     "data": {
      "text/html": [
       "\n",
       "    <div>\n",
       "      \n",
       "      <progress value='632' max='632' style='width:300px; height:20px; vertical-align: middle;'></progress>\n",
       "      [632/632 00:54, Epoch 3/4]\n",
       "    </div>\n",
       "    <table border=\"1\" class=\"dataframe\">\n",
       "  <thead>\n",
       " <tr style=\"text-align: left;\">\n",
       "      <th>Epoch</th>\n",
       "      <th>Training Loss</th>\n",
       "      <th>Validation Loss</th>\n",
       "      <th>Accuracy</th>\n",
       "      <th>Balanced accuracy</th>\n",
       "      <th>F1 weighted</th>\n",
       "      <th>F1 macro</th>\n",
       "      <th>F1 micro</th>\n",
       "      <th>Classification report</th>\n",
       "    </tr>\n",
       "  </thead>\n",
       "  <tbody>\n",
       "    <tr>\n",
       "      <td>0</td>\n",
       "      <td>No log</td>\n",
       "      <td>0.748530</td>\n",
       "      <td>0.694905</td>\n",
       "      <td>0.406454</td>\n",
       "      <td>0.614246</td>\n",
       "      <td>0.389041</td>\n",
       "      <td>0.694905</td>\n",
       "      <td>{'0': {'precision': 0.7900763358778626, 'recall': 0.23, 'f1-score': 0.35628227194492257, 'support': 900.0}, '1': {'precision': 0.6868978805394991, 'recall': 0.9893617021276596, 'f1-score': 0.8108415466262321, 'support': 2162.0}, '2': {'precision': 0.0, 'recall': 0.0, 'f1-score': 0.0, 'support': 314.0}, 'accuracy': 0.6949052132701422, 'macro avg': {'precision': 0.4923247388057872, 'recall': 0.4064539007092199, 'f1-score': 0.38904127285705153, 'support': 3376.0}, 'weighted avg': {'precision': 0.6505159715688605, 'recall': 0.6949052132701422, 'f1-score': 0.6142456956624243, 'support': 3376.0}}</td>\n",
       "    </tr>\n",
       "    <tr>\n",
       "      <td>2</td>\n",
       "      <td>0.768800</td>\n",
       "      <td>0.484157</td>\n",
       "      <td>0.824348</td>\n",
       "      <td>0.748871</td>\n",
       "      <td>0.822658</td>\n",
       "      <td>0.747232</td>\n",
       "      <td>0.824348</td>\n",
       "      <td>{'0': {'precision': 0.8235294117647058, 'recall': 0.6688888888888889, 'f1-score': 0.7381974248927039, 'support': 900.0}, '1': {'precision': 0.8649122807017544, 'recall': 0.9121184088806661, 'f1-score': 0.8878883385862225, 'support': 2162.0}, '2': {'precision': 0.5726027397260274, 'recall': 0.6656050955414012, 'f1-score': 0.6156111929307806, 'support': 314.0}, 'accuracy': 0.8243483412322274, 'macro avg': {'precision': 0.7536814773974959, 'recall': 0.7488707977703187, 'f1-score': 0.7472323188032357, 'support': 3376.0}, 'weighted avg': {'precision': 0.8266925597569316, 'recall': 0.8243483412322274, 'f1-score': 0.8226582301561349, 'support': 3376.0}}</td>\n",
       "    </tr>\n",
       "    <tr>\n",
       "      <td>3</td>\n",
       "      <td>0.423800</td>\n",
       "      <td>0.463306</td>\n",
       "      <td>0.831457</td>\n",
       "      <td>0.761048</td>\n",
       "      <td>0.830296</td>\n",
       "      <td>0.766052</td>\n",
       "      <td>0.831457</td>\n",
       "      <td>{'0': {'precision': 0.7713950762016413, 'recall': 0.7311111111111112, 'f1-score': 0.7507130633200229, 'support': 900.0}, '1': {'precision': 0.8776523702031602, 'recall': 0.8991674375578168, 'f1-score': 0.888279643591501, 'support': 2162.0}, '2': {'precision': 0.6655844155844156, 'recall': 0.6528662420382165, 'f1-score': 0.6591639871382636, 'support': 314.0}, 'accuracy': 0.831457345971564, 'macro avg': {'precision': 0.7715439539964057, 'recall': 0.7610482635690481, 'f1-score': 0.7660522313499292, 'support': 3376.0}, 'weighted avg': {'precision': 0.8296011550516043, 'recall': 0.831457345971564, 'f1-score': 0.830296160661807, 'support': 3376.0}}</td>\n",
       "    </tr>\n",
       "  </tbody>\n",
       "</table><p>"
      ],
      "text/plain": [
       "<IPython.core.display.HTML object>"
      ]
     },
     "metadata": {},
     "output_type": "display_data"
    },
    {
     "data": {
      "text/html": [
       "\n",
       "    <div>\n",
       "      \n",
       "      <progress value='106' max='106' style='width:300px; height:20px; vertical-align: middle;'></progress>\n",
       "      [106/106 00:01]\n",
       "    </div>\n",
       "    "
      ],
      "text/plain": [
       "<IPython.core.display.HTML object>"
      ]
     },
     "metadata": {},
     "output_type": "display_data"
    },
    {
     "name": "stderr",
     "output_type": "stream",
     "text": [
      "/net/fs-2/scale/OrionStore/Scratch/joteklem/MyCondaEnvironments/Python3.11/orion_env/lib/python3.11/site-packages/optuna/trial/_trial.py:499: UserWarning: The reported value is ignored because this `step` 3.9873817034700316 is already reported.\n",
      "  warnings.warn(\n"
     ]
    },
    {
     "name": "stdout",
     "output_type": "stream",
     "text": [
      "Completed trial 3\n"
     ]
    },
    {
     "data": {
      "text/html": [
       "<style>\n",
       "    table.wandb td:nth-child(1) { padding: 0 10px; text-align: left ; width: auto;} td:nth-child(2) {text-align: left ; width: 100%}\n",
       "    .wandb-row { display: flex; flex-direction: row; flex-wrap: wrap; justify-content: flex-start; width: 100% }\n",
       "    .wandb-col { display: flex; flex-direction: column; flex-basis: 100%; flex: 1; padding: 10px; }\n",
       "    </style>\n",
       "<div class=\"wandb-row\"><div class=\"wandb-col\"><h3>Run history:</h3><br/><table class=\"wandb\"><tr><td>Training loss</td><td>▁</td></tr><tr><td>Validation loss</td><td>▁</td></tr><tr><td>eval/Accuracy</td><td>▁▇███</td></tr><tr><td>eval/Balanced accuracy</td><td>▁▆███</td></tr><tr><td>eval/F1 macro</td><td>▁▇███</td></tr><tr><td>eval/F1 micro</td><td>▁▇███</td></tr><tr><td>eval/F1 weighted</td><td>▁▇███</td></tr><tr><td>eval/loss</td><td>█▃▂▁▁</td></tr><tr><td>eval/runtime</td><td>▁▂▅▄█</td></tr><tr><td>eval/samples_per_second</td><td>█▇▄▅▁</td></tr><tr><td>eval/steps_per_second</td><td>█▇▄▅▁</td></tr><tr><td>macro F1 score</td><td>▁</td></tr><tr><td>train/epoch</td><td>▁▃▃▆████</td></tr><tr><td>train/global_step</td><td>▁▃▃▆██████</td></tr><tr><td>train/grad_norm</td><td>█▁</td></tr><tr><td>train/learning_rate</td><td>█▁</td></tr><tr><td>train/loss</td><td>█▁</td></tr><tr><td>train/total_flos</td><td>▁</td></tr><tr><td>train/train_loss</td><td>▁</td></tr><tr><td>train/train_runtime</td><td>▁</td></tr><tr><td>train/train_samples_per_second</td><td>▁</td></tr><tr><td>train/train_steps_per_second</td><td>▁</td></tr></table><br/></div><div class=\"wandb-col\"><h3>Run summary:</h3><br/><table class=\"wandb\"><tr><td>Training loss</td><td>0.4238</td></tr><tr><td>Validation loss</td><td>0.48416</td></tr><tr><td>eval/Accuracy</td><td>0.83146</td></tr><tr><td>eval/Balanced accuracy</td><td>0.76105</td></tr><tr><td>eval/F1 macro</td><td>0.76605</td></tr><tr><td>eval/F1 micro</td><td>0.83146</td></tr><tr><td>eval/F1 weighted</td><td>0.8303</td></tr><tr><td>eval/loss</td><td>0.46331</td></tr><tr><td>eval/runtime</td><td>1.5112</td></tr><tr><td>eval/samples_per_second</td><td>2234.016</td></tr><tr><td>eval/steps_per_second</td><td>70.144</td></tr><tr><td>macro F1 score</td><td>0.76605</td></tr><tr><td>train/epoch</td><td>3.99</td></tr><tr><td>train/global_step</td><td>632</td></tr><tr><td>train/grad_norm</td><td>3.02725</td></tr><tr><td>train/learning_rate</td><td>0.0</td></tr><tr><td>train/loss</td><td>0.4238</td></tr><tr><td>train/total_flos</td><td>403355195535456.0</td></tr><tr><td>train/train_loss</td><td>0.59626</td></tr><tr><td>train/train_runtime</td><td>54.9185</td></tr><tr><td>train/train_samples_per_second</td><td>737.675</td></tr><tr><td>train/train_steps_per_second</td><td>11.508</td></tr></table><br/></div></div>"
      ],
      "text/plain": [
       "<IPython.core.display.HTML object>"
      ]
     },
     "metadata": {},
     "output_type": "display_data"
    },
    {
     "data": {
      "text/html": [
       " View run <strong style=\"color:#cdcd00\">trial-3</strong> at: <a href='https://wandb.ai/master-2024/MiniLM/runs/zbe36czp' target=\"_blank\">https://wandb.ai/master-2024/MiniLM/runs/zbe36czp</a><br/>Synced 5 W&B file(s), 0 media file(s), 0 artifact file(s) and 0 other file(s)"
      ],
      "text/plain": [
       "<IPython.core.display.HTML object>"
      ]
     },
     "metadata": {},
     "output_type": "display_data"
    },
    {
     "data": {
      "text/html": [
       "Find logs at: <code>./wandb/run-20240419_200319-zbe36czp/logs</code>"
      ],
      "text/plain": [
       "<IPython.core.display.HTML object>"
      ]
     },
     "metadata": {},
     "output_type": "display_data"
    },
    {
     "name": "stderr",
     "output_type": "stream",
     "text": [
      "[I 2024-04-19 20:04:25,110] Trial 3 finished with value: 0.7660522313499292 and parameters: {'learning_rate': 6.83631406502272e-05, 'per_device_train_batch_size': 32, 'weight_decay': 0.28287291117375574, 'num_train_epochs': 4, 'warmup_steps': 486}. Best is trial 3 with value: 0.7660522313499292.\n"
     ]
    },
    {
     "data": {
      "text/html": [
       "wandb version 0.16.6 is available!  To upgrade, please run:\n",
       " $ pip install wandb --upgrade"
      ],
      "text/plain": [
       "<IPython.core.display.HTML object>"
      ]
     },
     "metadata": {},
     "output_type": "display_data"
    },
    {
     "data": {
      "text/html": [
       "Tracking run with wandb version 0.16.4"
      ],
      "text/plain": [
       "<IPython.core.display.HTML object>"
      ]
     },
     "metadata": {},
     "output_type": "display_data"
    },
    {
     "data": {
      "text/html": [
       "Run data is saved locally in <code>/net/fs-2/scale/OrionStore/Home/joteklem/Pytorch_models/wandb/run-20240419_200425-ay9fz7vv</code>"
      ],
      "text/plain": [
       "<IPython.core.display.HTML object>"
      ]
     },
     "metadata": {},
     "output_type": "display_data"
    },
    {
     "data": {
      "text/html": [
       "Syncing run <strong><a href='https://wandb.ai/master-2024/MiniLM/runs/ay9fz7vv' target=\"_blank\">trial-4</a></strong> to <a href='https://wandb.ai/master-2024/MiniLM' target=\"_blank\">Weights & Biases</a> (<a href='https://wandb.me/run' target=\"_blank\">docs</a>)<br/>"
      ],
      "text/plain": [
       "<IPython.core.display.HTML object>"
      ]
     },
     "metadata": {},
     "output_type": "display_data"
    },
    {
     "data": {
      "text/html": [
       " View project at <a href='https://wandb.ai/master-2024/MiniLM' target=\"_blank\">https://wandb.ai/master-2024/MiniLM</a>"
      ],
      "text/plain": [
       "<IPython.core.display.HTML object>"
      ]
     },
     "metadata": {},
     "output_type": "display_data"
    },
    {
     "data": {
      "text/html": [
       " View run at <a href='https://wandb.ai/master-2024/MiniLM/runs/ay9fz7vv' target=\"_blank\">https://wandb.ai/master-2024/MiniLM/runs/ay9fz7vv</a>"
      ],
      "text/plain": [
       "<IPython.core.display.HTML object>"
      ]
     },
     "metadata": {},
     "output_type": "display_data"
    },
    {
     "name": "stderr",
     "output_type": "stream",
     "text": [
      "/net/fs-2/scale/OrionStore/Scratch/joteklem/MyCondaEnvironments/Python3.11/orion_env/lib/python3.11/site-packages/accelerate/accelerator.py:432: FutureWarning: Passing the following arguments to `Accelerator` is deprecated and will be removed in version 1.0 of Accelerate: dict_keys(['dispatch_batches', 'split_batches', 'even_batches', 'use_seedable_sampler']). Please pass an `accelerate.DataLoaderConfiguration` instead: \n",
      "dataloader_config = DataLoaderConfiguration(dispatch_batches=None, split_batches=False, even_batches=True, use_seedable_sampler=True)\n",
      "  warnings.warn(\n",
      "Detected kernel version 3.10.0, which is below the recommended minimum of 5.5.0; this can cause the process to hang. It is recommended to upgrade the kernel to the minimum version or higher.\n"
     ]
    },
    {
     "name": "stdout",
     "output_type": "stream",
     "text": [
      "Starting trial 4\n"
     ]
    },
    {
     "data": {
      "text/html": [
       "\n",
       "    <div>\n",
       "      \n",
       "      <progress value='948' max='948' style='width:300px; height:20px; vertical-align: middle;'></progress>\n",
       "      [948/948 00:57, Epoch 2/3]\n",
       "    </div>\n",
       "    <table border=\"1\" class=\"dataframe\">\n",
       "  <thead>\n",
       " <tr style=\"text-align: left;\">\n",
       "      <th>Epoch</th>\n",
       "      <th>Training Loss</th>\n",
       "      <th>Validation Loss</th>\n",
       "      <th>Accuracy</th>\n",
       "      <th>Balanced accuracy</th>\n",
       "      <th>F1 weighted</th>\n",
       "      <th>F1 macro</th>\n",
       "      <th>F1 micro</th>\n",
       "      <th>Classification report</th>\n",
       "    </tr>\n",
       "  </thead>\n",
       "  <tbody>\n",
       "    <tr>\n",
       "      <td>0</td>\n",
       "      <td>No log</td>\n",
       "      <td>0.876765</td>\n",
       "      <td>0.640403</td>\n",
       "      <td>0.333333</td>\n",
       "      <td>0.500109</td>\n",
       "      <td>0.260309</td>\n",
       "      <td>0.640403</td>\n",
       "      <td>{'0': {'precision': 0.0, 'recall': 0.0, 'f1-score': 0.0, 'support': 900.0}, '1': {'precision': 0.6405925925925926, 'recall': 1.0, 'f1-score': 0.7809283005237493, 'support': 2162.0}, '2': {'precision': 0.0, 'recall': 0.0, 'f1-score': 0.0, 'support': 314.0}, 'accuracy': 0.6404028436018957, 'macro avg': {'precision': 0.21353086419753087, 'recall': 0.3333333333333333, 'f1-score': 0.2603094335079164, 'support': 3376.0}, 'weighted avg': {'precision': 0.410237317886607, 'recall': 0.6404028436018957, 'f1-score': 0.5001087043046049, 'support': 3376.0}}</td>\n",
       "    </tr>\n",
       "    <tr>\n",
       "      <td>2</td>\n",
       "      <td>0.789600</td>\n",
       "      <td>0.697019</td>\n",
       "      <td>0.777547</td>\n",
       "      <td>0.527947</td>\n",
       "      <td>0.733898</td>\n",
       "      <td>0.519004</td>\n",
       "      <td>0.777547</td>\n",
       "      <td>{'0': {'precision': 0.7927677329624478, 'recall': 0.6333333333333333, 'f1-score': 0.7041383570105003, 'support': 900.0}, '1': {'precision': 0.7734286789612345, 'recall': 0.9505087881591119, 'f1-score': 0.8528740402573147, 'support': 2162.0}, '2': {'precision': 0.0, 'recall': 0.0, 'f1-score': 0.0, 'support': 314.0}, 'accuracy': 0.777547393364929, 'macro avg': {'precision': 0.5220654706412274, 'recall': 0.527947373830815, 'f1-score': 0.519004132422605, 'support': 3376.0}, 'weighted avg': {'precision': 0.7066480342358982, 'recall': 0.777547393364929, 'f1-score': 0.7338975700076318, 'support': 3376.0}}</td>\n",
       "    </tr>\n",
       "  </tbody>\n",
       "</table><p>"
      ],
      "text/plain": [
       "<IPython.core.display.HTML object>"
      ]
     },
     "metadata": {},
     "output_type": "display_data"
    },
    {
     "data": {
      "text/html": [
       "\n",
       "    <div>\n",
       "      \n",
       "      <progress value='211' max='211' style='width:300px; height:20px; vertical-align: middle;'></progress>\n",
       "      [211/211 00:01]\n",
       "    </div>\n",
       "    "
      ],
      "text/plain": [
       "<IPython.core.display.HTML object>"
      ]
     },
     "metadata": {},
     "output_type": "display_data"
    },
    {
     "name": "stderr",
     "output_type": "stream",
     "text": [
      "/net/fs-2/scale/OrionStore/Scratch/joteklem/MyCondaEnvironments/Python3.11/orion_env/lib/python3.11/site-packages/optuna/trial/_trial.py:499: UserWarning: The reported value is ignored because this `step` 2.995260663507109 is already reported.\n",
      "  warnings.warn(\n"
     ]
    },
    {
     "name": "stdout",
     "output_type": "stream",
     "text": [
      "Completed trial 4\n"
     ]
    },
    {
     "data": {
      "text/html": [
       "<style>\n",
       "    table.wandb td:nth-child(1) { padding: 0 10px; text-align: left ; width: auto;} td:nth-child(2) {text-align: left ; width: 100%}\n",
       "    .wandb-row { display: flex; flex-direction: row; flex-wrap: wrap; justify-content: flex-start; width: 100% }\n",
       "    .wandb-col { display: flex; flex-direction: column; flex-basis: 100%; flex: 1; padding: 10px; }\n",
       "    </style>\n",
       "<div class=\"wandb-row\"><div class=\"wandb-col\"><h3>Run history:</h3><br/><table class=\"wandb\"><tr><td>Training loss</td><td>▁</td></tr><tr><td>Validation loss</td><td>▁</td></tr><tr><td>eval/Accuracy</td><td>▁▁██</td></tr><tr><td>eval/Balanced accuracy</td><td>▁▁██</td></tr><tr><td>eval/F1 macro</td><td>▁▁██</td></tr><tr><td>eval/F1 micro</td><td>▁▁██</td></tr><tr><td>eval/F1 weighted</td><td>▁▁██</td></tr><tr><td>eval/loss</td><td>██▁▁</td></tr><tr><td>eval/runtime</td><td>▅▂▁█</td></tr><tr><td>eval/samples_per_second</td><td>▄▇█▁</td></tr><tr><td>eval/steps_per_second</td><td>▄▇█▁</td></tr><tr><td>macro F1 score</td><td>▁</td></tr><tr><td>train/epoch</td><td>▁▅▅███</td></tr><tr><td>train/global_step</td><td>▁▅▅█████</td></tr><tr><td>train/grad_norm</td><td>▁</td></tr><tr><td>train/learning_rate</td><td>▁</td></tr><tr><td>train/loss</td><td>▁</td></tr><tr><td>train/total_flos</td><td>▁</td></tr><tr><td>train/train_loss</td><td>▁</td></tr><tr><td>train/train_runtime</td><td>▁</td></tr><tr><td>train/train_samples_per_second</td><td>▁</td></tr><tr><td>train/train_steps_per_second</td><td>▁</td></tr></table><br/></div><div class=\"wandb-col\"><h3>Run summary:</h3><br/><table class=\"wandb\"><tr><td>Training loss</td><td>0.7896</td></tr><tr><td>Validation loss</td><td>0.87897</td></tr><tr><td>eval/Accuracy</td><td>0.77755</td></tr><tr><td>eval/Balanced accuracy</td><td>0.52795</td></tr><tr><td>eval/F1 macro</td><td>0.519</td></tr><tr><td>eval/F1 micro</td><td>0.77755</td></tr><tr><td>eval/F1 weighted</td><td>0.7339</td></tr><tr><td>eval/loss</td><td>0.69702</td></tr><tr><td>eval/runtime</td><td>1.881</td></tr><tr><td>eval/samples_per_second</td><td>1794.799</td></tr><tr><td>eval/steps_per_second</td><td>112.175</td></tr><tr><td>macro F1 score</td><td>0.519</td></tr><tr><td>train/epoch</td><td>3.0</td></tr><tr><td>train/global_step</td><td>948</td></tr><tr><td>train/grad_norm</td><td>1.01175</td></tr><tr><td>train/learning_rate</td><td>0.00033</td></tr><tr><td>train/loss</td><td>0.7896</td></tr><tr><td>train/total_flos</td><td>269591678782272.0</td></tr><tr><td>train/train_loss</td><td>0.78547</td></tr><tr><td>train/train_runtime</td><td>57.7044</td></tr><tr><td>train/train_samples_per_second</td><td>526.545</td></tr><tr><td>train/train_steps_per_second</td><td>16.429</td></tr></table><br/></div></div>"
      ],
      "text/plain": [
       "<IPython.core.display.HTML object>"
      ]
     },
     "metadata": {},
     "output_type": "display_data"
    },
    {
     "data": {
      "text/html": [
       " View run <strong style=\"color:#cdcd00\">trial-4</strong> at: <a href='https://wandb.ai/master-2024/MiniLM/runs/ay9fz7vv' target=\"_blank\">https://wandb.ai/master-2024/MiniLM/runs/ay9fz7vv</a><br/>Synced 5 W&B file(s), 0 media file(s), 0 artifact file(s) and 0 other file(s)"
      ],
      "text/plain": [
       "<IPython.core.display.HTML object>"
      ]
     },
     "metadata": {},
     "output_type": "display_data"
    },
    {
     "data": {
      "text/html": [
       "Find logs at: <code>./wandb/run-20240419_200425-ay9fz7vv/logs</code>"
      ],
      "text/plain": [
       "<IPython.core.display.HTML object>"
      ]
     },
     "metadata": {},
     "output_type": "display_data"
    },
    {
     "name": "stderr",
     "output_type": "stream",
     "text": [
      "[I 2024-04-19 20:05:34,304] Trial 4 finished with value: 0.519004132422605 and parameters: {'learning_rate': 0.0008411909465645721, 'per_device_train_batch_size': 16, 'weight_decay': 0.08545214831324029, 'num_train_epochs': 3, 'warmup_steps': 139}. Best is trial 3 with value: 0.7660522313499292.\n"
     ]
    },
    {
     "data": {
      "text/html": [
       "wandb version 0.16.6 is available!  To upgrade, please run:\n",
       " $ pip install wandb --upgrade"
      ],
      "text/plain": [
       "<IPython.core.display.HTML object>"
      ]
     },
     "metadata": {},
     "output_type": "display_data"
    },
    {
     "data": {
      "text/html": [
       "Tracking run with wandb version 0.16.4"
      ],
      "text/plain": [
       "<IPython.core.display.HTML object>"
      ]
     },
     "metadata": {},
     "output_type": "display_data"
    },
    {
     "data": {
      "text/html": [
       "Run data is saved locally in <code>/net/fs-2/scale/OrionStore/Home/joteklem/Pytorch_models/wandb/run-20240419_200534-qt5r4tvj</code>"
      ],
      "text/plain": [
       "<IPython.core.display.HTML object>"
      ]
     },
     "metadata": {},
     "output_type": "display_data"
    },
    {
     "data": {
      "text/html": [
       "Syncing run <strong><a href='https://wandb.ai/master-2024/MiniLM/runs/qt5r4tvj' target=\"_blank\">trial-5</a></strong> to <a href='https://wandb.ai/master-2024/MiniLM' target=\"_blank\">Weights & Biases</a> (<a href='https://wandb.me/run' target=\"_blank\">docs</a>)<br/>"
      ],
      "text/plain": [
       "<IPython.core.display.HTML object>"
      ]
     },
     "metadata": {},
     "output_type": "display_data"
    },
    {
     "data": {
      "text/html": [
       " View project at <a href='https://wandb.ai/master-2024/MiniLM' target=\"_blank\">https://wandb.ai/master-2024/MiniLM</a>"
      ],
      "text/plain": [
       "<IPython.core.display.HTML object>"
      ]
     },
     "metadata": {},
     "output_type": "display_data"
    },
    {
     "data": {
      "text/html": [
       " View run at <a href='https://wandb.ai/master-2024/MiniLM/runs/qt5r4tvj' target=\"_blank\">https://wandb.ai/master-2024/MiniLM/runs/qt5r4tvj</a>"
      ],
      "text/plain": [
       "<IPython.core.display.HTML object>"
      ]
     },
     "metadata": {},
     "output_type": "display_data"
    },
    {
     "name": "stderr",
     "output_type": "stream",
     "text": [
      "/net/fs-2/scale/OrionStore/Scratch/joteklem/MyCondaEnvironments/Python3.11/orion_env/lib/python3.11/site-packages/accelerate/accelerator.py:432: FutureWarning: Passing the following arguments to `Accelerator` is deprecated and will be removed in version 1.0 of Accelerate: dict_keys(['dispatch_batches', 'split_batches', 'even_batches', 'use_seedable_sampler']). Please pass an `accelerate.DataLoaderConfiguration` instead: \n",
      "dataloader_config = DataLoaderConfiguration(dispatch_batches=None, split_batches=False, even_batches=True, use_seedable_sampler=True)\n",
      "  warnings.warn(\n",
      "Detected kernel version 3.10.0, which is below the recommended minimum of 5.5.0; this can cause the process to hang. It is recommended to upgrade the kernel to the minimum version or higher.\n"
     ]
    },
    {
     "name": "stdout",
     "output_type": "stream",
     "text": [
      "Starting trial 5\n"
     ]
    },
    {
     "data": {
      "text/html": [
       "\n",
       "    <div>\n",
       "      \n",
       "      <progress value='318' max='632' style='width:300px; height:20px; vertical-align: middle;'></progress>\n",
       "      [318/632 00:24 < 00:24, 12.91 it/s, Epoch 2/4]\n",
       "    </div>\n",
       "    <table border=\"1\" class=\"dataframe\">\n",
       "  <thead>\n",
       " <tr style=\"text-align: left;\">\n",
       "      <th>Epoch</th>\n",
       "      <th>Training Loss</th>\n",
       "      <th>Validation Loss</th>\n",
       "      <th>Accuracy</th>\n",
       "      <th>Balanced accuracy</th>\n",
       "      <th>F1 weighted</th>\n",
       "      <th>F1 macro</th>\n",
       "      <th>F1 micro</th>\n",
       "      <th>Classification report</th>\n",
       "    </tr>\n",
       "  </thead>\n",
       "  <tbody>\n",
       "    <tr>\n",
       "      <td>0</td>\n",
       "      <td>No log</td>\n",
       "      <td>0.544650</td>\n",
       "      <td>0.795616</td>\n",
       "      <td>0.695890</td>\n",
       "      <td>0.793182</td>\n",
       "      <td>0.701876</td>\n",
       "      <td>0.795616</td>\n",
       "      <td>{'0': {'precision': 0.7644787644787645, 'recall': 0.66, 'f1-score': 0.708407871198569, 'support': 900.0}, '1': {'precision': 0.8449033391915641, 'recall': 0.88945420906568, 'f1-score': 0.8666065795403334, 'support': 2162.0}, '2': {'precision': 0.5232198142414861, 'recall': 0.5382165605095541, 'f1-score': 0.5306122448979592, 'support': 314.0}, 'accuracy': 0.7956161137440758, 'macro avg': {'precision': 0.7108673059706049, 'recall': 0.695890256525078, 'f1-score': 0.7018755652122871, 'support': 3376.0}, 'weighted avg': {'precision': 0.7935435216335534, 'recall': 0.7956161137440758, 'f1-score': 0.7931820953622251, 'support': 3376.0}}</td>\n",
       "    </tr>\n",
       "  </tbody>\n",
       "</table><p>\n",
       "    <div>\n",
       "      \n",
       "      <progress value='106' max='106' style='width:300px; height:20px; vertical-align: middle;'></progress>\n",
       "      [106/106 00:01]\n",
       "    </div>\n",
       "    "
      ],
      "text/plain": [
       "<IPython.core.display.HTML object>"
      ]
     },
     "metadata": {},
     "output_type": "display_data"
    },
    {
     "name": "stderr",
     "output_type": "stream",
     "text": [
      "[I 2024-04-19 20:06:04,843] Trial 5 pruned. \n"
     ]
    },
    {
     "data": {
      "text/html": [
       "Finishing last run (ID:qt5r4tvj) before initializing another..."
      ],
      "text/plain": [
       "<IPython.core.display.HTML object>"
      ]
     },
     "metadata": {},
     "output_type": "display_data"
    },
    {
     "data": {
      "text/html": [
       "<style>\n",
       "    table.wandb td:nth-child(1) { padding: 0 10px; text-align: left ; width: auto;} td:nth-child(2) {text-align: left ; width: 100%}\n",
       "    .wandb-row { display: flex; flex-direction: row; flex-wrap: wrap; justify-content: flex-start; width: 100% }\n",
       "    .wandb-col { display: flex; flex-direction: column; flex-basis: 100%; flex: 1; padding: 10px; }\n",
       "    </style>\n",
       "<div class=\"wandb-row\"><div class=\"wandb-col\"><h3>Run history:</h3><br/><table class=\"wandb\"><tr><td>eval/Accuracy</td><td>█▁</td></tr><tr><td>eval/Balanced accuracy</td><td>█▁</td></tr><tr><td>eval/F1 macro</td><td>█▁</td></tr><tr><td>eval/F1 micro</td><td>█▁</td></tr><tr><td>eval/F1 weighted</td><td>█▁</td></tr><tr><td>eval/loss</td><td>▁█</td></tr><tr><td>eval/runtime</td><td>█▁</td></tr><tr><td>eval/samples_per_second</td><td>▁█</td></tr><tr><td>eval/steps_per_second</td><td>▁█</td></tr><tr><td>train/epoch</td><td>▁██</td></tr><tr><td>train/global_step</td><td>▁██</td></tr><tr><td>train/grad_norm</td><td>▁</td></tr><tr><td>train/learning_rate</td><td>▁</td></tr><tr><td>train/loss</td><td>▁</td></tr></table><br/></div><div class=\"wandb-col\"><h3>Run summary:</h3><br/><table class=\"wandb\"><tr><td>eval/Accuracy</td><td>0.72453</td></tr><tr><td>eval/Balanced accuracy</td><td>0.59386</td></tr><tr><td>eval/F1 macro</td><td>0.57137</td></tr><tr><td>eval/F1 micro</td><td>0.72453</td></tr><tr><td>eval/F1 weighted</td><td>0.70772</td></tr><tr><td>eval/loss</td><td>0.7421</td></tr><tr><td>eval/runtime</td><td>1.5043</td></tr><tr><td>eval/samples_per_second</td><td>2244.307</td></tr><tr><td>eval/steps_per_second</td><td>70.467</td></tr><tr><td>train/epoch</td><td>2.0</td></tr><tr><td>train/global_step</td><td>317</td></tr><tr><td>train/grad_norm</td><td>6.2638</td></tr><tr><td>train/learning_rate</td><td>0.00057</td></tr><tr><td>train/loss</td><td>0.642</td></tr></table><br/></div></div>"
      ],
      "text/plain": [
       "<IPython.core.display.HTML object>"
      ]
     },
     "metadata": {},
     "output_type": "display_data"
    },
    {
     "data": {
      "text/html": [
       " View run <strong style=\"color:#cdcd00\">trial-5</strong> at: <a href='https://wandb.ai/master-2024/MiniLM/runs/qt5r4tvj' target=\"_blank\">https://wandb.ai/master-2024/MiniLM/runs/qt5r4tvj</a><br/>Synced 5 W&B file(s), 0 media file(s), 0 artifact file(s) and 0 other file(s)"
      ],
      "text/plain": [
       "<IPython.core.display.HTML object>"
      ]
     },
     "metadata": {},
     "output_type": "display_data"
    },
    {
     "data": {
      "text/html": [
       "Find logs at: <code>./wandb/run-20240419_200534-qt5r4tvj/logs</code>"
      ],
      "text/plain": [
       "<IPython.core.display.HTML object>"
      ]
     },
     "metadata": {},
     "output_type": "display_data"
    },
    {
     "data": {
      "text/html": [
       "Successfully finished last run (ID:qt5r4tvj). Initializing new run:<br/>"
      ],
      "text/plain": [
       "<IPython.core.display.HTML object>"
      ]
     },
     "metadata": {},
     "output_type": "display_data"
    },
    {
     "data": {
      "text/html": [
       "wandb version 0.16.6 is available!  To upgrade, please run:\n",
       " $ pip install wandb --upgrade"
      ],
      "text/plain": [
       "<IPython.core.display.HTML object>"
      ]
     },
     "metadata": {},
     "output_type": "display_data"
    },
    {
     "data": {
      "text/html": [
       "Tracking run with wandb version 0.16.4"
      ],
      "text/plain": [
       "<IPython.core.display.HTML object>"
      ]
     },
     "metadata": {},
     "output_type": "display_data"
    },
    {
     "data": {
      "text/html": [
       "Run data is saved locally in <code>/net/fs-2/scale/OrionStore/Home/joteklem/Pytorch_models/wandb/run-20240419_200604-5rxrinm5</code>"
      ],
      "text/plain": [
       "<IPython.core.display.HTML object>"
      ]
     },
     "metadata": {},
     "output_type": "display_data"
    },
    {
     "data": {
      "text/html": [
       "Syncing run <strong><a href='https://wandb.ai/master-2024/MiniLM/runs/5rxrinm5' target=\"_blank\">trial-6</a></strong> to <a href='https://wandb.ai/master-2024/MiniLM' target=\"_blank\">Weights & Biases</a> (<a href='https://wandb.me/run' target=\"_blank\">docs</a>)<br/>"
      ],
      "text/plain": [
       "<IPython.core.display.HTML object>"
      ]
     },
     "metadata": {},
     "output_type": "display_data"
    },
    {
     "data": {
      "text/html": [
       " View project at <a href='https://wandb.ai/master-2024/MiniLM' target=\"_blank\">https://wandb.ai/master-2024/MiniLM</a>"
      ],
      "text/plain": [
       "<IPython.core.display.HTML object>"
      ]
     },
     "metadata": {},
     "output_type": "display_data"
    },
    {
     "data": {
      "text/html": [
       " View run at <a href='https://wandb.ai/master-2024/MiniLM/runs/5rxrinm5' target=\"_blank\">https://wandb.ai/master-2024/MiniLM/runs/5rxrinm5</a>"
      ],
      "text/plain": [
       "<IPython.core.display.HTML object>"
      ]
     },
     "metadata": {},
     "output_type": "display_data"
    },
    {
     "name": "stdout",
     "output_type": "stream",
     "text": [
      "Starting trial 6\n"
     ]
    },
    {
     "name": "stderr",
     "output_type": "stream",
     "text": [
      "/net/fs-2/scale/OrionStore/Scratch/joteklem/MyCondaEnvironments/Python3.11/orion_env/lib/python3.11/site-packages/accelerate/accelerator.py:432: FutureWarning: Passing the following arguments to `Accelerator` is deprecated and will be removed in version 1.0 of Accelerate: dict_keys(['dispatch_batches', 'split_batches', 'even_batches', 'use_seedable_sampler']). Please pass an `accelerate.DataLoaderConfiguration` instead: \n",
      "dataloader_config = DataLoaderConfiguration(dispatch_batches=None, split_batches=False, even_batches=True, use_seedable_sampler=True)\n",
      "  warnings.warn(\n",
      "Detected kernel version 3.10.0, which is below the recommended minimum of 5.5.0; this can cause the process to hang. It is recommended to upgrade the kernel to the minimum version or higher.\n"
     ]
    },
    {
     "data": {
      "text/html": [
       "\n",
       "    <div>\n",
       "      \n",
       "      <progress value='632' max='632' style='width:300px; height:20px; vertical-align: middle;'></progress>\n",
       "      [632/632 00:39, Epoch 1/2]\n",
       "    </div>\n",
       "    <table border=\"1\" class=\"dataframe\">\n",
       "  <thead>\n",
       " <tr style=\"text-align: left;\">\n",
       "      <th>Epoch</th>\n",
       "      <th>Training Loss</th>\n",
       "      <th>Validation Loss</th>\n",
       "      <th>Accuracy</th>\n",
       "      <th>Balanced accuracy</th>\n",
       "      <th>F1 weighted</th>\n",
       "      <th>F1 macro</th>\n",
       "      <th>F1 micro</th>\n",
       "      <th>Classification report</th>\n",
       "    </tr>\n",
       "  </thead>\n",
       "  <tbody>\n",
       "    <tr>\n",
       "      <td>0</td>\n",
       "      <td>No log</td>\n",
       "      <td>0.540456</td>\n",
       "      <td>0.802429</td>\n",
       "      <td>0.721728</td>\n",
       "      <td>0.801492</td>\n",
       "      <td>0.715349</td>\n",
       "      <td>0.802429</td>\n",
       "      <td>{'0': {'precision': 0.8217391304347826, 'recall': 0.63, 'f1-score': 0.7132075471698114, 'support': 900.0}, '1': {'precision': 0.849890590809628, 'recall': 0.8982423681776133, 'f1-score': 0.8733977962671464, 'support': 2162.0}, '2': {'precision': 0.49875311720698257, 'recall': 0.6369426751592356, 'f1-score': 0.5594405594405595, 'support': 314.0}, 'accuracy': 0.8024289099526066, 'macro avg': {'precision': 0.7234609461504644, 'recall': 0.7217283477789497, 'f1-score': 0.7153486342925057, 'support': 3376.0}, 'weighted avg': {'precision': 0.8097266450013959, 'recall': 0.8024289099526066, 'f1-score': 0.8014920508432277, 'support': 3376.0}}</td>\n",
       "    </tr>\n",
       "    <tr>\n",
       "      <td>1</td>\n",
       "      <td>No log</td>\n",
       "      <td>0.478773</td>\n",
       "      <td>0.824052</td>\n",
       "      <td>0.725301</td>\n",
       "      <td>0.819916</td>\n",
       "      <td>0.745182</td>\n",
       "      <td>0.824052</td>\n",
       "      <td>{'0': {'precision': 0.7762669962917181, 'recall': 0.6977777777777778, 'f1-score': 0.734932709186659, 'support': 900.0}, '1': {'precision': 0.8573287077189939, 'recall': 0.9144310823311749, 'f1-score': 0.8849597135183529, 'support': 2162.0}, '2': {'precision': 0.6781609195402298, 'recall': 0.5636942675159236, 'f1-score': 0.6156521739130434, 'support': 314.0}, 'accuracy': 0.8240521327014217, 'macro avg': {'precision': 0.7705855411836473, 'recall': 0.7253010425416254, 'f1-score': 0.7451815322060185, 'support': 3376.0}, 'weighted avg': {'precision': 0.819054351743674, 'recall': 0.8240521327014217, 'f1-score': 0.8199162089761161, 'support': 3376.0}}</td>\n",
       "    </tr>\n",
       "  </tbody>\n",
       "</table><p>"
      ],
      "text/plain": [
       "<IPython.core.display.HTML object>"
      ]
     },
     "metadata": {},
     "output_type": "display_data"
    },
    {
     "data": {
      "text/html": [
       "\n",
       "    <div>\n",
       "      \n",
       "      <progress value='211' max='211' style='width:300px; height:20px; vertical-align: middle;'></progress>\n",
       "      [211/211 00:01]\n",
       "    </div>\n",
       "    "
      ],
      "text/plain": [
       "<IPython.core.display.HTML object>"
      ]
     },
     "metadata": {},
     "output_type": "display_data"
    },
    {
     "name": "stderr",
     "output_type": "stream",
     "text": [
      "/net/fs-2/scale/OrionStore/Scratch/joteklem/MyCondaEnvironments/Python3.11/orion_env/lib/python3.11/site-packages/optuna/trial/_trial.py:499: UserWarning: The reported value is ignored because this `step` 1.9968404423380726 is already reported.\n",
      "  warnings.warn(\n"
     ]
    },
    {
     "name": "stdout",
     "output_type": "stream",
     "text": [
      "Completed trial 6\n"
     ]
    },
    {
     "data": {
      "text/html": [
       "<style>\n",
       "    table.wandb td:nth-child(1) { padding: 0 10px; text-align: left ; width: auto;} td:nth-child(2) {text-align: left ; width: 100%}\n",
       "    .wandb-row { display: flex; flex-direction: row; flex-wrap: wrap; justify-content: flex-start; width: 100% }\n",
       "    .wandb-col { display: flex; flex-direction: column; flex-basis: 100%; flex: 1; padding: 10px; }\n",
       "    </style>\n",
       "<div class=\"wandb-row\"><div class=\"wandb-col\"><h3>Run history:</h3><br/><table class=\"wandb\"><tr><td>Training loss</td><td>▁</td></tr><tr><td>Validation loss</td><td>▁</td></tr><tr><td>eval/Accuracy</td><td>▁██</td></tr><tr><td>eval/Balanced accuracy</td><td>▁██</td></tr><tr><td>eval/F1 macro</td><td>▁██</td></tr><tr><td>eval/F1 micro</td><td>▁██</td></tr><tr><td>eval/F1 weighted</td><td>▁██</td></tr><tr><td>eval/loss</td><td>█▁▁</td></tr><tr><td>eval/runtime</td><td>▁▆█</td></tr><tr><td>eval/samples_per_second</td><td>█▃▁</td></tr><tr><td>eval/steps_per_second</td><td>█▃▁</td></tr><tr><td>macro F1 score</td><td>▁</td></tr><tr><td>train/epoch</td><td>▁███</td></tr><tr><td>train/global_step</td><td>▁█████</td></tr><tr><td>train/total_flos</td><td>▁</td></tr><tr><td>train/train_loss</td><td>▁</td></tr><tr><td>train/train_runtime</td><td>▁</td></tr><tr><td>train/train_samples_per_second</td><td>▁</td></tr><tr><td>train/train_steps_per_second</td><td>▁</td></tr></table><br/></div><div class=\"wandb-col\"><h3>Run summary:</h3><br/><table class=\"wandb\"><tr><td>Training loss</td><td>0.642</td></tr><tr><td>Validation loss</td><td>0.54046</td></tr><tr><td>eval/Accuracy</td><td>0.82405</td></tr><tr><td>eval/Balanced accuracy</td><td>0.7253</td></tr><tr><td>eval/F1 macro</td><td>0.74518</td></tr><tr><td>eval/F1 micro</td><td>0.82405</td></tr><tr><td>eval/F1 weighted</td><td>0.81992</td></tr><tr><td>eval/loss</td><td>0.47877</td></tr><tr><td>eval/runtime</td><td>1.877</td></tr><tr><td>eval/samples_per_second</td><td>1798.599</td></tr><tr><td>eval/steps_per_second</td><td>112.412</td></tr><tr><td>macro F1 score</td><td>0.74518</td></tr><tr><td>train/epoch</td><td>2.0</td></tr><tr><td>train/global_step</td><td>632</td></tr><tr><td>train/total_flos</td><td>179883256131648.0</td></tr><tr><td>train/train_loss</td><td>0.63083</td></tr><tr><td>train/train_runtime</td><td>39.6835</td></tr><tr><td>train/train_samples_per_second</td><td>510.439</td></tr><tr><td>train/train_steps_per_second</td><td>15.926</td></tr></table><br/></div></div>"
      ],
      "text/plain": [
       "<IPython.core.display.HTML object>"
      ]
     },
     "metadata": {},
     "output_type": "display_data"
    },
    {
     "data": {
      "text/html": [
       " View run <strong style=\"color:#cdcd00\">trial-6</strong> at: <a href='https://wandb.ai/master-2024/MiniLM/runs/5rxrinm5' target=\"_blank\">https://wandb.ai/master-2024/MiniLM/runs/5rxrinm5</a><br/>Synced 5 W&B file(s), 0 media file(s), 0 artifact file(s) and 0 other file(s)"
      ],
      "text/plain": [
       "<IPython.core.display.HTML object>"
      ]
     },
     "metadata": {},
     "output_type": "display_data"
    },
    {
     "data": {
      "text/html": [
       "Find logs at: <code>./wandb/run-20240419_200604-5rxrinm5/logs</code>"
      ],
      "text/plain": [
       "<IPython.core.display.HTML object>"
      ]
     },
     "metadata": {},
     "output_type": "display_data"
    },
    {
     "name": "stderr",
     "output_type": "stream",
     "text": [
      "[I 2024-04-19 20:06:59,896] Trial 6 finished with value: 0.7451815322060185 and parameters: {'learning_rate': 5.439591236568524e-05, 'per_device_train_batch_size': 16, 'weight_decay': 0.02708693101632249, 'num_train_epochs': 2, 'warmup_steps': 296}. Best is trial 3 with value: 0.7660522313499292.\n"
     ]
    },
    {
     "data": {
      "text/html": [
       "wandb version 0.16.6 is available!  To upgrade, please run:\n",
       " $ pip install wandb --upgrade"
      ],
      "text/plain": [
       "<IPython.core.display.HTML object>"
      ]
     },
     "metadata": {},
     "output_type": "display_data"
    },
    {
     "data": {
      "text/html": [
       "Tracking run with wandb version 0.16.4"
      ],
      "text/plain": [
       "<IPython.core.display.HTML object>"
      ]
     },
     "metadata": {},
     "output_type": "display_data"
    },
    {
     "data": {
      "text/html": [
       "Run data is saved locally in <code>/net/fs-2/scale/OrionStore/Home/joteklem/Pytorch_models/wandb/run-20240419_200659-om0ol8lj</code>"
      ],
      "text/plain": [
       "<IPython.core.display.HTML object>"
      ]
     },
     "metadata": {},
     "output_type": "display_data"
    },
    {
     "data": {
      "text/html": [
       "Syncing run <strong><a href='https://wandb.ai/master-2024/MiniLM/runs/om0ol8lj' target=\"_blank\">trial-7</a></strong> to <a href='https://wandb.ai/master-2024/MiniLM' target=\"_blank\">Weights & Biases</a> (<a href='https://wandb.me/run' target=\"_blank\">docs</a>)<br/>"
      ],
      "text/plain": [
       "<IPython.core.display.HTML object>"
      ]
     },
     "metadata": {},
     "output_type": "display_data"
    },
    {
     "data": {
      "text/html": [
       " View project at <a href='https://wandb.ai/master-2024/MiniLM' target=\"_blank\">https://wandb.ai/master-2024/MiniLM</a>"
      ],
      "text/plain": [
       "<IPython.core.display.HTML object>"
      ]
     },
     "metadata": {},
     "output_type": "display_data"
    },
    {
     "data": {
      "text/html": [
       " View run at <a href='https://wandb.ai/master-2024/MiniLM/runs/om0ol8lj' target=\"_blank\">https://wandb.ai/master-2024/MiniLM/runs/om0ol8lj</a>"
      ],
      "text/plain": [
       "<IPython.core.display.HTML object>"
      ]
     },
     "metadata": {},
     "output_type": "display_data"
    },
    {
     "name": "stderr",
     "output_type": "stream",
     "text": [
      "/net/fs-2/scale/OrionStore/Scratch/joteklem/MyCondaEnvironments/Python3.11/orion_env/lib/python3.11/site-packages/accelerate/accelerator.py:432: FutureWarning: Passing the following arguments to `Accelerator` is deprecated and will be removed in version 1.0 of Accelerate: dict_keys(['dispatch_batches', 'split_batches', 'even_batches', 'use_seedable_sampler']). Please pass an `accelerate.DataLoaderConfiguration` instead: \n",
      "dataloader_config = DataLoaderConfiguration(dispatch_batches=None, split_batches=False, even_batches=True, use_seedable_sampler=True)\n",
      "  warnings.warn(\n",
      "Detected kernel version 3.10.0, which is below the recommended minimum of 5.5.0; this can cause the process to hang. It is recommended to upgrade the kernel to the minimum version or higher.\n"
     ]
    },
    {
     "name": "stdout",
     "output_type": "stream",
     "text": [
      "Starting trial 7\n"
     ]
    },
    {
     "data": {
      "text/html": [
       "\n",
       "    <div>\n",
       "      \n",
       "      <progress value='1580' max='1580' style='width:300px; height:20px; vertical-align: middle;'></progress>\n",
       "      [1580/1580 01:39, Epoch 4/5]\n",
       "    </div>\n",
       "    <table border=\"1\" class=\"dataframe\">\n",
       "  <thead>\n",
       " <tr style=\"text-align: left;\">\n",
       "      <th>Epoch</th>\n",
       "      <th>Training Loss</th>\n",
       "      <th>Validation Loss</th>\n",
       "      <th>Accuracy</th>\n",
       "      <th>Balanced accuracy</th>\n",
       "      <th>F1 weighted</th>\n",
       "      <th>F1 macro</th>\n",
       "      <th>F1 micro</th>\n",
       "      <th>Classification report</th>\n",
       "    </tr>\n",
       "  </thead>\n",
       "  <tbody>\n",
       "    <tr>\n",
       "      <td>0</td>\n",
       "      <td>No log</td>\n",
       "      <td>0.527326</td>\n",
       "      <td>0.802133</td>\n",
       "      <td>0.731214</td>\n",
       "      <td>0.803279</td>\n",
       "      <td>0.719090</td>\n",
       "      <td>0.802133</td>\n",
       "      <td>{'0': {'precision': 0.7923280423280423, 'recall': 0.6655555555555556, 'f1-score': 0.7234299516908212, 'support': 900.0}, '1': {'precision': 0.8616636528028933, 'recall': 0.8815911193339501, 'f1-score': 0.8715134887974394, 'support': 2162.0}, '2': {'precision': 0.49754901960784315, 'recall': 0.6464968152866242, 'f1-score': 0.5623268698060941, 'support': 314.0}, 'accuracy': 0.8021327014218009, 'macro avg': {'precision': 0.7171802382462595, 'recall': 0.7312144967253765, 'f1-score': 0.7190901034314517, 'support': 3376.0}, 'weighted avg': {'precision': 0.8093135212120722, 'recall': 0.8021327014218009, 'f1-score': 0.8032789562858165, 'support': 3376.0}}</td>\n",
       "    </tr>\n",
       "    <tr>\n",
       "      <td>2</td>\n",
       "      <td>0.561500</td>\n",
       "      <td>0.532611</td>\n",
       "      <td>0.814573</td>\n",
       "      <td>0.747196</td>\n",
       "      <td>0.813263</td>\n",
       "      <td>0.743316</td>\n",
       "      <td>0.814573</td>\n",
       "      <td>{'0': {'precision': 0.7597977243994943, 'recall': 0.6677777777777778, 'f1-score': 0.7108219988172679, 'support': 900.0}, '1': {'precision': 0.8677722994173016, 'recall': 0.8954671600370028, 'f1-score': 0.8814022308217618, 'support': 2162.0}, '2': {'precision': 0.6016949152542372, 'recall': 0.678343949044586, 'f1-score': 0.6377245508982036, 'support': 314.0}, 'accuracy': 0.8145734597156398, 'macro avg': {'precision': 0.7430883130236777, 'recall': 0.7471962956197888, 'f1-score': 0.7433162601790778, 'support': 3376.0}, 'weighted avg': {'precision': 0.8142398894222694, 'recall': 0.8145734597156398, 'f1-score': 0.813263308931939, 'support': 3376.0}}</td>\n",
       "    </tr>\n",
       "    <tr>\n",
       "      <td>4</td>\n",
       "      <td>0.267300</td>\n",
       "      <td>0.735412</td>\n",
       "      <td>0.803318</td>\n",
       "      <td>0.728942</td>\n",
       "      <td>0.803190</td>\n",
       "      <td>0.732045</td>\n",
       "      <td>0.803318</td>\n",
       "      <td>{'0': {'precision': 0.6928104575163399, 'recall': 0.7066666666666667, 'f1-score': 0.6996699669966996, 'support': 900.0}, '1': {'precision': 0.8726851851851852, 'recall': 0.8718778908418131, 'f1-score': 0.8722813512262841, 'support': 2162.0}, '2': {'precision': 0.6409395973154363, 'recall': 0.60828025477707, 'f1-score': 0.6241830065359477, 'support': 314.0}, 'accuracy': 0.8033175355450237, 'macro avg': {'precision': 0.7354784133389871, 'recall': 0.7289416040951832, 'f1-score': 0.7320447749196438, 'support': 3376.0}, 'weighted avg': {'precision': 0.8031782629419797, 'recall': 0.8033175355450237, 'f1-score': 0.8031897854563221, 'support': 3376.0}}</td>\n",
       "    </tr>\n",
       "  </tbody>\n",
       "</table><p>"
      ],
      "text/plain": [
       "<IPython.core.display.HTML object>"
      ]
     },
     "metadata": {},
     "output_type": "display_data"
    },
    {
     "data": {
      "text/html": [
       "\n",
       "    <div>\n",
       "      \n",
       "      <progress value='211' max='211' style='width:300px; height:20px; vertical-align: middle;'></progress>\n",
       "      [211/211 00:01]\n",
       "    </div>\n",
       "    "
      ],
      "text/plain": [
       "<IPython.core.display.HTML object>"
      ]
     },
     "metadata": {},
     "output_type": "display_data"
    },
    {
     "name": "stderr",
     "output_type": "stream",
     "text": [
      "/net/fs-2/scale/OrionStore/Scratch/joteklem/MyCondaEnvironments/Python3.11/orion_env/lib/python3.11/site-packages/optuna/trial/_trial.py:499: UserWarning: The reported value is ignored because this `step` 4.992101105845181 is already reported.\n",
      "  warnings.warn(\n"
     ]
    },
    {
     "name": "stdout",
     "output_type": "stream",
     "text": [
      "Completed trial 7\n"
     ]
    },
    {
     "data": {
      "text/html": [
       "<style>\n",
       "    table.wandb td:nth-child(1) { padding: 0 10px; text-align: left ; width: auto;} td:nth-child(2) {text-align: left ; width: 100%}\n",
       "    .wandb-row { display: flex; flex-direction: row; flex-wrap: wrap; justify-content: flex-start; width: 100% }\n",
       "    .wandb-col { display: flex; flex-direction: column; flex-basis: 100%; flex: 1; padding: 10px; }\n",
       "    </style>\n",
       "<div class=\"wandb-row\"><div class=\"wandb-col\"><h3>Run history:</h3><br/><table class=\"wandb\"><tr><td>Training loss</td><td>▁</td></tr><tr><td>Validation loss</td><td>▁</td></tr><tr><td>eval/Accuracy</td><td>▁█▆▃▁▁</td></tr><tr><td>eval/Balanced accuracy</td><td>▄▂█▁▃▃</td></tr><tr><td>eval/F1 macro</td><td>▁▇█▅▅▅</td></tr><tr><td>eval/F1 micro</td><td>▁█▆▃▁▁</td></tr><tr><td>eval/F1 weighted</td><td>▁█▇▃▁▁</td></tr><tr><td>eval/loss</td><td>▂▁▂▆██</td></tr><tr><td>eval/runtime</td><td>▄▁▁▇▅█</td></tr><tr><td>eval/samples_per_second</td><td>▅██▂▄▁</td></tr><tr><td>eval/steps_per_second</td><td>▅██▂▄▁</td></tr><tr><td>macro F1 score</td><td>▁</td></tr><tr><td>train/epoch</td><td>▁▃▃▅▆▆███</td></tr><tr><td>train/global_step</td><td>▁▃▃▅▆▆█████</td></tr><tr><td>train/grad_norm</td><td>▁█</td></tr><tr><td>train/learning_rate</td><td>█▁</td></tr><tr><td>train/loss</td><td>█▁</td></tr><tr><td>train/total_flos</td><td>▁</td></tr><tr><td>train/train_loss</td><td>▁</td></tr><tr><td>train/train_runtime</td><td>▁</td></tr><tr><td>train/train_samples_per_second</td><td>▁</td></tr><tr><td>train/train_steps_per_second</td><td>▁</td></tr></table><br/></div><div class=\"wandb-col\"><h3>Run summary:</h3><br/><table class=\"wandb\"><tr><td>Training loss</td><td>0.2673</td></tr><tr><td>Validation loss</td><td>0.66588</td></tr><tr><td>eval/Accuracy</td><td>0.80332</td></tr><tr><td>eval/Balanced accuracy</td><td>0.72894</td></tr><tr><td>eval/F1 macro</td><td>0.73204</td></tr><tr><td>eval/F1 micro</td><td>0.80332</td></tr><tr><td>eval/F1 weighted</td><td>0.80319</td></tr><tr><td>eval/loss</td><td>0.73541</td></tr><tr><td>eval/runtime</td><td>1.8767</td></tr><tr><td>eval/samples_per_second</td><td>1798.928</td></tr><tr><td>eval/steps_per_second</td><td>112.433</td></tr><tr><td>macro F1 score</td><td>0.73204</td></tr><tr><td>train/epoch</td><td>4.99</td></tr><tr><td>train/global_step</td><td>1580</td></tr><tr><td>train/grad_norm</td><td>5.03588</td></tr><tr><td>train/learning_rate</td><td>5e-05</td></tr><tr><td>train/loss</td><td>0.2673</td></tr><tr><td>train/total_flos</td><td>450283380353280.0</td></tr><tr><td>train/train_loss</td><td>0.3599</td></tr><tr><td>train/train_runtime</td><td>99.2046</td></tr><tr><td>train/train_samples_per_second</td><td>510.46</td></tr><tr><td>train/train_steps_per_second</td><td>15.927</td></tr></table><br/></div></div>"
      ],
      "text/plain": [
       "<IPython.core.display.HTML object>"
      ]
     },
     "metadata": {},
     "output_type": "display_data"
    },
    {
     "data": {
      "text/html": [
       " View run <strong style=\"color:#cdcd00\">trial-7</strong> at: <a href='https://wandb.ai/master-2024/MiniLM/runs/om0ol8lj' target=\"_blank\">https://wandb.ai/master-2024/MiniLM/runs/om0ol8lj</a><br/>Synced 5 W&B file(s), 0 media file(s), 0 artifact file(s) and 0 other file(s)"
      ],
      "text/plain": [
       "<IPython.core.display.HTML object>"
      ]
     },
     "metadata": {},
     "output_type": "display_data"
    },
    {
     "data": {
      "text/html": [
       "Find logs at: <code>./wandb/run-20240419_200659-om0ol8lj/logs</code>"
      ],
      "text/plain": [
       "<IPython.core.display.HTML object>"
      ]
     },
     "metadata": {},
     "output_type": "display_data"
    },
    {
     "name": "stderr",
     "output_type": "stream",
     "text": [
      "[I 2024-04-19 20:08:49,601] Trial 7 finished with value: 0.7320447749196438 and parameters: {'learning_rate': 0.00022653156413948846, 'per_device_train_batch_size': 16, 'weight_decay': 0.19355183712283494, 'num_train_epochs': 5, 'warmup_steps': 68}. Best is trial 3 with value: 0.7660522313499292.\n"
     ]
    },
    {
     "data": {
      "text/html": [
       "wandb version 0.16.6 is available!  To upgrade, please run:\n",
       " $ pip install wandb --upgrade"
      ],
      "text/plain": [
       "<IPython.core.display.HTML object>"
      ]
     },
     "metadata": {},
     "output_type": "display_data"
    },
    {
     "data": {
      "text/html": [
       "Tracking run with wandb version 0.16.4"
      ],
      "text/plain": [
       "<IPython.core.display.HTML object>"
      ]
     },
     "metadata": {},
     "output_type": "display_data"
    },
    {
     "data": {
      "text/html": [
       "Run data is saved locally in <code>/net/fs-2/scale/OrionStore/Home/joteklem/Pytorch_models/wandb/run-20240419_200849-4xcr19pv</code>"
      ],
      "text/plain": [
       "<IPython.core.display.HTML object>"
      ]
     },
     "metadata": {},
     "output_type": "display_data"
    },
    {
     "data": {
      "text/html": [
       "Syncing run <strong><a href='https://wandb.ai/master-2024/MiniLM/runs/4xcr19pv' target=\"_blank\">trial-8</a></strong> to <a href='https://wandb.ai/master-2024/MiniLM' target=\"_blank\">Weights & Biases</a> (<a href='https://wandb.me/run' target=\"_blank\">docs</a>)<br/>"
      ],
      "text/plain": [
       "<IPython.core.display.HTML object>"
      ]
     },
     "metadata": {},
     "output_type": "display_data"
    },
    {
     "data": {
      "text/html": [
       " View project at <a href='https://wandb.ai/master-2024/MiniLM' target=\"_blank\">https://wandb.ai/master-2024/MiniLM</a>"
      ],
      "text/plain": [
       "<IPython.core.display.HTML object>"
      ]
     },
     "metadata": {},
     "output_type": "display_data"
    },
    {
     "data": {
      "text/html": [
       " View run at <a href='https://wandb.ai/master-2024/MiniLM/runs/4xcr19pv' target=\"_blank\">https://wandb.ai/master-2024/MiniLM/runs/4xcr19pv</a>"
      ],
      "text/plain": [
       "<IPython.core.display.HTML object>"
      ]
     },
     "metadata": {},
     "output_type": "display_data"
    },
    {
     "name": "stderr",
     "output_type": "stream",
     "text": [
      "/net/fs-2/scale/OrionStore/Scratch/joteklem/MyCondaEnvironments/Python3.11/orion_env/lib/python3.11/site-packages/accelerate/accelerator.py:432: FutureWarning: Passing the following arguments to `Accelerator` is deprecated and will be removed in version 1.0 of Accelerate: dict_keys(['dispatch_batches', 'split_batches', 'even_batches', 'use_seedable_sampler']). Please pass an `accelerate.DataLoaderConfiguration` instead: \n",
      "dataloader_config = DataLoaderConfiguration(dispatch_batches=None, split_batches=False, even_batches=True, use_seedable_sampler=True)\n",
      "  warnings.warn(\n",
      "Detected kernel version 3.10.0, which is below the recommended minimum of 5.5.0; this can cause the process to hang. It is recommended to upgrade the kernel to the minimum version or higher.\n"
     ]
    },
    {
     "name": "stdout",
     "output_type": "stream",
     "text": [
      "Starting trial 8\n"
     ]
    },
    {
     "data": {
      "text/html": [
       "\n",
       "    <div>\n",
       "      \n",
       "      <progress value='317' max='948' style='width:300px; height:20px; vertical-align: middle;'></progress>\n",
       "      [315/948 00:15 < 00:32, 19.63 it/s, Epoch 0.99/3]\n",
       "    </div>\n",
       "    <table border=\"1\" class=\"dataframe\">\n",
       "  <thead>\n",
       " <tr style=\"text-align: left;\">\n",
       "      <th>Epoch</th>\n",
       "      <th>Training Loss</th>\n",
       "      <th>Validation Loss</th>\n",
       "    </tr>\n",
       "  </thead>\n",
       "  <tbody>\n",
       "  </tbody>\n",
       "</table><p>\n",
       "    <div>\n",
       "      \n",
       "      <progress value='211' max='211' style='width:300px; height:20px; vertical-align: middle;'></progress>\n",
       "      [211/211 00:01]\n",
       "    </div>\n",
       "    "
      ],
      "text/plain": [
       "<IPython.core.display.HTML object>"
      ]
     },
     "metadata": {},
     "output_type": "display_data"
    },
    {
     "name": "stderr",
     "output_type": "stream",
     "text": [
      "[I 2024-04-19 20:09:11,669] Trial 8 pruned. \n"
     ]
    },
    {
     "data": {
      "text/html": [
       "Finishing last run (ID:4xcr19pv) before initializing another..."
      ],
      "text/plain": [
       "<IPython.core.display.HTML object>"
      ]
     },
     "metadata": {},
     "output_type": "display_data"
    },
    {
     "data": {
      "text/html": [
       "<style>\n",
       "    table.wandb td:nth-child(1) { padding: 0 10px; text-align: left ; width: auto;} td:nth-child(2) {text-align: left ; width: 100%}\n",
       "    .wandb-row { display: flex; flex-direction: row; flex-wrap: wrap; justify-content: flex-start; width: 100% }\n",
       "    .wandb-col { display: flex; flex-direction: column; flex-basis: 100%; flex: 1; padding: 10px; }\n",
       "    </style>\n",
       "<div class=\"wandb-row\"><div class=\"wandb-col\"><h3>Run history:</h3><br/><table class=\"wandb\"><tr><td>eval/Accuracy</td><td>▁</td></tr><tr><td>eval/Balanced accuracy</td><td>▁</td></tr><tr><td>eval/F1 macro</td><td>▁</td></tr><tr><td>eval/F1 micro</td><td>▁</td></tr><tr><td>eval/F1 weighted</td><td>▁</td></tr><tr><td>eval/loss</td><td>▁</td></tr><tr><td>eval/runtime</td><td>▁</td></tr><tr><td>eval/samples_per_second</td><td>▁</td></tr><tr><td>eval/steps_per_second</td><td>▁</td></tr><tr><td>train/epoch</td><td>▁</td></tr><tr><td>train/global_step</td><td>▁</td></tr></table><br/></div><div class=\"wandb-col\"><h3>Run summary:</h3><br/><table class=\"wandb\"><tr><td>eval/Accuracy</td><td>0.79562</td></tr><tr><td>eval/Balanced accuracy</td><td>0.72272</td></tr><tr><td>eval/F1 macro</td><td>0.7074</td></tr><tr><td>eval/F1 micro</td><td>0.79562</td></tr><tr><td>eval/F1 weighted</td><td>0.79613</td></tr><tr><td>eval/loss</td><td>0.53588</td></tr><tr><td>eval/runtime</td><td>1.8413</td></tr><tr><td>eval/samples_per_second</td><td>1833.491</td></tr><tr><td>eval/steps_per_second</td><td>114.593</td></tr><tr><td>train/epoch</td><td>1.0</td></tr><tr><td>train/global_step</td><td>316</td></tr></table><br/></div></div>"
      ],
      "text/plain": [
       "<IPython.core.display.HTML object>"
      ]
     },
     "metadata": {},
     "output_type": "display_data"
    },
    {
     "data": {
      "text/html": [
       " View run <strong style=\"color:#cdcd00\">trial-8</strong> at: <a href='https://wandb.ai/master-2024/MiniLM/runs/4xcr19pv' target=\"_blank\">https://wandb.ai/master-2024/MiniLM/runs/4xcr19pv</a><br/>Synced 5 W&B file(s), 0 media file(s), 0 artifact file(s) and 0 other file(s)"
      ],
      "text/plain": [
       "<IPython.core.display.HTML object>"
      ]
     },
     "metadata": {},
     "output_type": "display_data"
    },
    {
     "data": {
      "text/html": [
       "Find logs at: <code>./wandb/run-20240419_200849-4xcr19pv/logs</code>"
      ],
      "text/plain": [
       "<IPython.core.display.HTML object>"
      ]
     },
     "metadata": {},
     "output_type": "display_data"
    },
    {
     "data": {
      "text/html": [
       "Successfully finished last run (ID:4xcr19pv). Initializing new run:<br/>"
      ],
      "text/plain": [
       "<IPython.core.display.HTML object>"
      ]
     },
     "metadata": {},
     "output_type": "display_data"
    },
    {
     "data": {
      "text/html": [
       "wandb version 0.16.6 is available!  To upgrade, please run:\n",
       " $ pip install wandb --upgrade"
      ],
      "text/plain": [
       "<IPython.core.display.HTML object>"
      ]
     },
     "metadata": {},
     "output_type": "display_data"
    },
    {
     "data": {
      "text/html": [
       "Tracking run with wandb version 0.16.4"
      ],
      "text/plain": [
       "<IPython.core.display.HTML object>"
      ]
     },
     "metadata": {},
     "output_type": "display_data"
    },
    {
     "data": {
      "text/html": [
       "Run data is saved locally in <code>/net/fs-2/scale/OrionStore/Home/joteklem/Pytorch_models/wandb/run-20240419_200911-mlaiz8pm</code>"
      ],
      "text/plain": [
       "<IPython.core.display.HTML object>"
      ]
     },
     "metadata": {},
     "output_type": "display_data"
    },
    {
     "data": {
      "text/html": [
       "Syncing run <strong><a href='https://wandb.ai/master-2024/MiniLM/runs/mlaiz8pm' target=\"_blank\">trial-9</a></strong> to <a href='https://wandb.ai/master-2024/MiniLM' target=\"_blank\">Weights & Biases</a> (<a href='https://wandb.me/run' target=\"_blank\">docs</a>)<br/>"
      ],
      "text/plain": [
       "<IPython.core.display.HTML object>"
      ]
     },
     "metadata": {},
     "output_type": "display_data"
    },
    {
     "data": {
      "text/html": [
       " View project at <a href='https://wandb.ai/master-2024/MiniLM' target=\"_blank\">https://wandb.ai/master-2024/MiniLM</a>"
      ],
      "text/plain": [
       "<IPython.core.display.HTML object>"
      ]
     },
     "metadata": {},
     "output_type": "display_data"
    },
    {
     "data": {
      "text/html": [
       " View run at <a href='https://wandb.ai/master-2024/MiniLM/runs/mlaiz8pm' target=\"_blank\">https://wandb.ai/master-2024/MiniLM/runs/mlaiz8pm</a>"
      ],
      "text/plain": [
       "<IPython.core.display.HTML object>"
      ]
     },
     "metadata": {},
     "output_type": "display_data"
    },
    {
     "name": "stderr",
     "output_type": "stream",
     "text": [
      "/net/fs-2/scale/OrionStore/Scratch/joteklem/MyCondaEnvironments/Python3.11/orion_env/lib/python3.11/site-packages/accelerate/accelerator.py:432: FutureWarning: Passing the following arguments to `Accelerator` is deprecated and will be removed in version 1.0 of Accelerate: dict_keys(['dispatch_batches', 'split_batches', 'even_batches', 'use_seedable_sampler']). Please pass an `accelerate.DataLoaderConfiguration` instead: \n",
      "dataloader_config = DataLoaderConfiguration(dispatch_batches=None, split_batches=False, even_batches=True, use_seedable_sampler=True)\n",
      "  warnings.warn(\n",
      "Detected kernel version 3.10.0, which is below the recommended minimum of 5.5.0; this can cause the process to hang. It is recommended to upgrade the kernel to the minimum version or higher.\n"
     ]
    },
    {
     "name": "stdout",
     "output_type": "stream",
     "text": [
      "Starting trial 9\n"
     ]
    },
    {
     "data": {
      "text/html": [
       "\n",
       "    <div>\n",
       "      \n",
       "      <progress value='317' max='1264' style='width:300px; height:20px; vertical-align: middle;'></progress>\n",
       "      [ 317/1264 00:16 < 00:50, 18.90 it/s, Epoch 1.00/4]\n",
       "    </div>\n",
       "    <table border=\"1\" class=\"dataframe\">\n",
       "  <thead>\n",
       " <tr style=\"text-align: left;\">\n",
       "      <th>Epoch</th>\n",
       "      <th>Training Loss</th>\n",
       "      <th>Validation Loss</th>\n",
       "    </tr>\n",
       "  </thead>\n",
       "  <tbody>\n",
       "  </tbody>\n",
       "</table><p>\n",
       "    <div>\n",
       "      \n",
       "      <progress value='211' max='211' style='width:300px; height:20px; vertical-align: middle;'></progress>\n",
       "      [211/211 00:01]\n",
       "    </div>\n",
       "    "
      ],
      "text/plain": [
       "<IPython.core.display.HTML object>"
      ]
     },
     "metadata": {},
     "output_type": "display_data"
    },
    {
     "name": "stderr",
     "output_type": "stream",
     "text": [
      "[I 2024-04-19 20:09:38,827] Trial 9 pruned. \n"
     ]
    },
    {
     "data": {
      "text/html": [
       "Finishing last run (ID:mlaiz8pm) before initializing another..."
      ],
      "text/plain": [
       "<IPython.core.display.HTML object>"
      ]
     },
     "metadata": {},
     "output_type": "display_data"
    },
    {
     "data": {
      "text/html": [
       "<style>\n",
       "    table.wandb td:nth-child(1) { padding: 0 10px; text-align: left ; width: auto;} td:nth-child(2) {text-align: left ; width: 100%}\n",
       "    .wandb-row { display: flex; flex-direction: row; flex-wrap: wrap; justify-content: flex-start; width: 100% }\n",
       "    .wandb-col { display: flex; flex-direction: column; flex-basis: 100%; flex: 1; padding: 10px; }\n",
       "    </style>\n",
       "<div class=\"wandb-row\"><div class=\"wandb-col\"><h3>Run history:</h3><br/><table class=\"wandb\"><tr><td>eval/Accuracy</td><td>▁</td></tr><tr><td>eval/Balanced accuracy</td><td>▁</td></tr><tr><td>eval/F1 macro</td><td>▁</td></tr><tr><td>eval/F1 micro</td><td>▁</td></tr><tr><td>eval/F1 weighted</td><td>▁</td></tr><tr><td>eval/loss</td><td>▁</td></tr><tr><td>eval/runtime</td><td>▁</td></tr><tr><td>eval/samples_per_second</td><td>▁</td></tr><tr><td>eval/steps_per_second</td><td>▁</td></tr><tr><td>train/epoch</td><td>▁</td></tr><tr><td>train/global_step</td><td>▁</td></tr></table><br/></div><div class=\"wandb-col\"><h3>Run summary:</h3><br/><table class=\"wandb\"><tr><td>eval/Accuracy</td><td>0.64277</td></tr><tr><td>eval/Balanced accuracy</td><td>0.3363</td></tr><tr><td>eval/F1 macro</td><td>0.26659</td></tr><tr><td>eval/F1 micro</td><td>0.64277</td></tr><tr><td>eval/F1 weighted</td><td>0.50561</td></tr><tr><td>eval/loss</td><td>0.74487</td></tr><tr><td>eval/runtime</td><td>1.8652</td></tr><tr><td>eval/samples_per_second</td><td>1809.978</td></tr><tr><td>eval/steps_per_second</td><td>113.124</td></tr><tr><td>train/epoch</td><td>1.0</td></tr><tr><td>train/global_step</td><td>316</td></tr></table><br/></div></div>"
      ],
      "text/plain": [
       "<IPython.core.display.HTML object>"
      ]
     },
     "metadata": {},
     "output_type": "display_data"
    },
    {
     "data": {
      "text/html": [
       " View run <strong style=\"color:#cdcd00\">trial-9</strong> at: <a href='https://wandb.ai/master-2024/MiniLM/runs/mlaiz8pm' target=\"_blank\">https://wandb.ai/master-2024/MiniLM/runs/mlaiz8pm</a><br/>Synced 5 W&B file(s), 0 media file(s), 0 artifact file(s) and 0 other file(s)"
      ],
      "text/plain": [
       "<IPython.core.display.HTML object>"
      ]
     },
     "metadata": {},
     "output_type": "display_data"
    },
    {
     "data": {
      "text/html": [
       "Find logs at: <code>./wandb/run-20240419_200911-mlaiz8pm/logs</code>"
      ],
      "text/plain": [
       "<IPython.core.display.HTML object>"
      ]
     },
     "metadata": {},
     "output_type": "display_data"
    },
    {
     "data": {
      "text/html": [
       "Successfully finished last run (ID:mlaiz8pm). Initializing new run:<br/>"
      ],
      "text/plain": [
       "<IPython.core.display.HTML object>"
      ]
     },
     "metadata": {},
     "output_type": "display_data"
    },
    {
     "data": {
      "text/html": [
       "wandb version 0.16.6 is available!  To upgrade, please run:\n",
       " $ pip install wandb --upgrade"
      ],
      "text/plain": [
       "<IPython.core.display.HTML object>"
      ]
     },
     "metadata": {},
     "output_type": "display_data"
    },
    {
     "data": {
      "text/html": [
       "Tracking run with wandb version 0.16.4"
      ],
      "text/plain": [
       "<IPython.core.display.HTML object>"
      ]
     },
     "metadata": {},
     "output_type": "display_data"
    },
    {
     "data": {
      "text/html": [
       "Run data is saved locally in <code>/net/fs-2/scale/OrionStore/Home/joteklem/Pytorch_models/wandb/run-20240419_200938-jmwxso7a</code>"
      ],
      "text/plain": [
       "<IPython.core.display.HTML object>"
      ]
     },
     "metadata": {},
     "output_type": "display_data"
    },
    {
     "data": {
      "text/html": [
       "Syncing run <strong><a href='https://wandb.ai/master-2024/MiniLM/runs/jmwxso7a' target=\"_blank\">trial-10</a></strong> to <a href='https://wandb.ai/master-2024/MiniLM' target=\"_blank\">Weights & Biases</a> (<a href='https://wandb.me/run' target=\"_blank\">docs</a>)<br/>"
      ],
      "text/plain": [
       "<IPython.core.display.HTML object>"
      ]
     },
     "metadata": {},
     "output_type": "display_data"
    },
    {
     "data": {
      "text/html": [
       " View project at <a href='https://wandb.ai/master-2024/MiniLM' target=\"_blank\">https://wandb.ai/master-2024/MiniLM</a>"
      ],
      "text/plain": [
       "<IPython.core.display.HTML object>"
      ]
     },
     "metadata": {},
     "output_type": "display_data"
    },
    {
     "data": {
      "text/html": [
       " View run at <a href='https://wandb.ai/master-2024/MiniLM/runs/jmwxso7a' target=\"_blank\">https://wandb.ai/master-2024/MiniLM/runs/jmwxso7a</a>"
      ],
      "text/plain": [
       "<IPython.core.display.HTML object>"
      ]
     },
     "metadata": {},
     "output_type": "display_data"
    },
    {
     "name": "stderr",
     "output_type": "stream",
     "text": [
      "/net/fs-2/scale/OrionStore/Scratch/joteklem/MyCondaEnvironments/Python3.11/orion_env/lib/python3.11/site-packages/accelerate/accelerator.py:432: FutureWarning: Passing the following arguments to `Accelerator` is deprecated and will be removed in version 1.0 of Accelerate: dict_keys(['dispatch_batches', 'split_batches', 'even_batches', 'use_seedable_sampler']). Please pass an `accelerate.DataLoaderConfiguration` instead: \n",
      "dataloader_config = DataLoaderConfiguration(dispatch_batches=None, split_batches=False, even_batches=True, use_seedable_sampler=True)\n",
      "  warnings.warn(\n",
      "Detected kernel version 3.10.0, which is below the recommended minimum of 5.5.0; this can cause the process to hang. It is recommended to upgrade the kernel to the minimum version or higher.\n"
     ]
    },
    {
     "name": "stdout",
     "output_type": "stream",
     "text": [
      "Starting trial 10\n"
     ]
    },
    {
     "data": {
      "text/html": [
       "\n",
       "    <div>\n",
       "      \n",
       "      <progress value='316' max='316' style='width:300px; height:20px; vertical-align: middle;'></progress>\n",
       "      [316/316 00:26, Epoch 1/2]\n",
       "    </div>\n",
       "    <table border=\"1\" class=\"dataframe\">\n",
       "  <thead>\n",
       " <tr style=\"text-align: left;\">\n",
       "      <th>Epoch</th>\n",
       "      <th>Training Loss</th>\n",
       "      <th>Validation Loss</th>\n",
       "      <th>Accuracy</th>\n",
       "      <th>Balanced accuracy</th>\n",
       "      <th>F1 weighted</th>\n",
       "      <th>F1 macro</th>\n",
       "      <th>F1 micro</th>\n",
       "      <th>Classification report</th>\n",
       "    </tr>\n",
       "  </thead>\n",
       "  <tbody>\n",
       "    <tr>\n",
       "      <td>0</td>\n",
       "      <td>No log</td>\n",
       "      <td>0.683132</td>\n",
       "      <td>0.769254</td>\n",
       "      <td>0.533791</td>\n",
       "      <td>0.731309</td>\n",
       "      <td>0.508501</td>\n",
       "      <td>0.769254</td>\n",
       "      <td>{'0': {'precision': 0.630879345603272, 'recall': 0.6855555555555556, 'f1-score': 0.6570820021299254, 'support': 900.0}, '1': {'precision': 0.8256880733944955, 'recall': 0.9158186864014801, 'f1-score': 0.868421052631579, 'support': 2162.0}, '2': {'precision': 0.0, 'recall': 0.0, 'f1-score': 0.0, 'support': 314.0}, 'accuracy': 0.7692535545023697, 'macro avg': {'precision': 0.48552247299925577, 'recall': 0.5337914139856785, 'f1-score': 0.5085010182538348, 'support': 3376.0}, 'weighted avg': {'precision': 0.6969576497991244, 'recall': 0.7692535545023697, 'f1-score': 0.7313092765718029, 'support': 3376.0}}</td>\n",
       "    </tr>\n",
       "    <tr>\n",
       "      <td>1</td>\n",
       "      <td>0.726600</td>\n",
       "      <td>0.581882</td>\n",
       "      <td>0.790877</td>\n",
       "      <td>0.585818</td>\n",
       "      <td>0.765544</td>\n",
       "      <td>0.631611</td>\n",
       "      <td>0.790877</td>\n",
       "      <td>{'0': {'precision': 0.868421052631579, 'recall': 0.55, 'f1-score': 0.673469387755102, 'support': 900.0}, '1': {'precision': 0.7761359438492796, 'recall': 0.9717853839037928, 'f1-score': 0.8630108851920312, 'support': 2162.0}, '2': {'precision': 0.7474747474747475, 'recall': 0.2356687898089172, 'f1-score': 0.3583535108958838, 'support': 314.0}, 'accuracy': 0.7908767772511849, 'macro avg': {'precision': 0.7973439146518687, 'recall': 0.5858180579042366, 'f1-score': 0.6316112612810056, 'support': 3376.0}, 'weighted avg': {'precision': 0.7980722537552234, 'recall': 0.7908767772511849, 'f1-score': 0.7655435382660162, 'support': 3376.0}}</td>\n",
       "    </tr>\n",
       "  </tbody>\n",
       "</table><p>"
      ],
      "text/plain": [
       "<IPython.core.display.HTML object>"
      ]
     },
     "metadata": {},
     "output_type": "display_data"
    },
    {
     "data": {
      "text/html": [
       "\n",
       "    <div>\n",
       "      \n",
       "      <progress value='106' max='106' style='width:300px; height:20px; vertical-align: middle;'></progress>\n",
       "      [106/106 00:01]\n",
       "    </div>\n",
       "    "
      ],
      "text/plain": [
       "<IPython.core.display.HTML object>"
      ]
     },
     "metadata": {},
     "output_type": "display_data"
    },
    {
     "name": "stderr",
     "output_type": "stream",
     "text": [
      "/net/fs-2/scale/OrionStore/Scratch/joteklem/MyCondaEnvironments/Python3.11/orion_env/lib/python3.11/site-packages/optuna/trial/_trial.py:499: UserWarning: The reported value is ignored because this `step` 1.9936908517350158 is already reported.\n",
      "  warnings.warn(\n"
     ]
    },
    {
     "name": "stdout",
     "output_type": "stream",
     "text": [
      "Completed trial 10\n"
     ]
    },
    {
     "data": {
      "text/html": [
       "<style>\n",
       "    table.wandb td:nth-child(1) { padding: 0 10px; text-align: left ; width: auto;} td:nth-child(2) {text-align: left ; width: 100%}\n",
       "    .wandb-row { display: flex; flex-direction: row; flex-wrap: wrap; justify-content: flex-start; width: 100% }\n",
       "    .wandb-col { display: flex; flex-direction: column; flex-basis: 100%; flex: 1; padding: 10px; }\n",
       "    </style>\n",
       "<div class=\"wandb-row\"><div class=\"wandb-col\"><h3>Run history:</h3><br/><table class=\"wandb\"><tr><td>Training loss</td><td>▁</td></tr><tr><td>Validation loss</td><td>▁</td></tr><tr><td>eval/Accuracy</td><td>▁██</td></tr><tr><td>eval/Balanced accuracy</td><td>▁██</td></tr><tr><td>eval/F1 macro</td><td>▁██</td></tr><tr><td>eval/F1 micro</td><td>▁██</td></tr><tr><td>eval/F1 weighted</td><td>▁██</td></tr><tr><td>eval/loss</td><td>█▁▁</td></tr><tr><td>eval/runtime</td><td>▄▁█</td></tr><tr><td>eval/samples_per_second</td><td>▅█▁</td></tr><tr><td>eval/steps_per_second</td><td>▅█▁</td></tr><tr><td>macro F1 score</td><td>▁</td></tr><tr><td>train/epoch</td><td>▁████</td></tr><tr><td>train/global_step</td><td>▁██████</td></tr><tr><td>train/grad_norm</td><td>▁</td></tr><tr><td>train/learning_rate</td><td>▁</td></tr><tr><td>train/loss</td><td>▁</td></tr><tr><td>train/total_flos</td><td>▁</td></tr><tr><td>train/train_loss</td><td>▁</td></tr><tr><td>train/train_runtime</td><td>▁</td></tr><tr><td>train/train_samples_per_second</td><td>▁</td></tr><tr><td>train/train_steps_per_second</td><td>▁</td></tr></table><br/></div><div class=\"wandb-col\"><h3>Run summary:</h3><br/><table class=\"wandb\"><tr><td>Training loss</td><td>0.7266</td></tr><tr><td>Validation loss</td><td>0.68313</td></tr><tr><td>eval/Accuracy</td><td>0.79088</td></tr><tr><td>eval/Balanced accuracy</td><td>0.58582</td></tr><tr><td>eval/F1 macro</td><td>0.63161</td></tr><tr><td>eval/F1 micro</td><td>0.79088</td></tr><tr><td>eval/F1 weighted</td><td>0.76554</td></tr><tr><td>eval/loss</td><td>0.58188</td></tr><tr><td>eval/runtime</td><td>1.5249</td></tr><tr><td>eval/samples_per_second</td><td>2213.969</td></tr><tr><td>eval/steps_per_second</td><td>69.514</td></tr><tr><td>macro F1 score</td><td>0.63161</td></tr><tr><td>train/epoch</td><td>1.99</td></tr><tr><td>train/global_step</td><td>316</td></tr><tr><td>train/grad_norm</td><td>3.75285</td></tr><tr><td>train/learning_rate</td><td>8e-05</td></tr><tr><td>train/loss</td><td>0.7266</td></tr><tr><td>train/total_flos</td><td>201606599674656.0</td></tr><tr><td>train/train_loss</td><td>0.72658</td></tr><tr><td>train/train_runtime</td><td>26.4212</td></tr><tr><td>train/train_samples_per_second</td><td>766.658</td></tr><tr><td>train/train_steps_per_second</td><td>11.96</td></tr></table><br/></div></div>"
      ],
      "text/plain": [
       "<IPython.core.display.HTML object>"
      ]
     },
     "metadata": {},
     "output_type": "display_data"
    },
    {
     "data": {
      "text/html": [
       " View run <strong style=\"color:#cdcd00\">trial-10</strong> at: <a href='https://wandb.ai/master-2024/MiniLM/runs/jmwxso7a' target=\"_blank\">https://wandb.ai/master-2024/MiniLM/runs/jmwxso7a</a><br/>Synced 5 W&B file(s), 0 media file(s), 0 artifact file(s) and 0 other file(s)"
      ],
      "text/plain": [
       "<IPython.core.display.HTML object>"
      ]
     },
     "metadata": {},
     "output_type": "display_data"
    },
    {
     "data": {
      "text/html": [
       "Find logs at: <code>./wandb/run-20240419_200938-jmwxso7a/logs</code>"
      ],
      "text/plain": [
       "<IPython.core.display.HTML object>"
      ]
     },
     "metadata": {},
     "output_type": "display_data"
    },
    {
     "name": "stderr",
     "output_type": "stream",
     "text": [
      "[I 2024-04-19 20:10:19,429] Trial 10 finished with value: 0.6316112612810056 and parameters: {'learning_rate': 0.00011415922546183828, 'per_device_train_batch_size': 32, 'weight_decay': 0.2437971155153535, 'num_train_epochs': 2, 'warmup_steps': 462}. Best is trial 3 with value: 0.7660522313499292.\n"
     ]
    },
    {
     "data": {
      "text/html": [
       "wandb version 0.16.6 is available!  To upgrade, please run:\n",
       " $ pip install wandb --upgrade"
      ],
      "text/plain": [
       "<IPython.core.display.HTML object>"
      ]
     },
     "metadata": {},
     "output_type": "display_data"
    },
    {
     "data": {
      "text/html": [
       "Tracking run with wandb version 0.16.4"
      ],
      "text/plain": [
       "<IPython.core.display.HTML object>"
      ]
     },
     "metadata": {},
     "output_type": "display_data"
    },
    {
     "data": {
      "text/html": [
       "Run data is saved locally in <code>/net/fs-2/scale/OrionStore/Home/joteklem/Pytorch_models/wandb/run-20240419_201019-e2a31jgk</code>"
      ],
      "text/plain": [
       "<IPython.core.display.HTML object>"
      ]
     },
     "metadata": {},
     "output_type": "display_data"
    },
    {
     "data": {
      "text/html": [
       "Syncing run <strong><a href='https://wandb.ai/master-2024/MiniLM/runs/e2a31jgk' target=\"_blank\">trial-11</a></strong> to <a href='https://wandb.ai/master-2024/MiniLM' target=\"_blank\">Weights & Biases</a> (<a href='https://wandb.me/run' target=\"_blank\">docs</a>)<br/>"
      ],
      "text/plain": [
       "<IPython.core.display.HTML object>"
      ]
     },
     "metadata": {},
     "output_type": "display_data"
    },
    {
     "data": {
      "text/html": [
       " View project at <a href='https://wandb.ai/master-2024/MiniLM' target=\"_blank\">https://wandb.ai/master-2024/MiniLM</a>"
      ],
      "text/plain": [
       "<IPython.core.display.HTML object>"
      ]
     },
     "metadata": {},
     "output_type": "display_data"
    },
    {
     "data": {
      "text/html": [
       " View run at <a href='https://wandb.ai/master-2024/MiniLM/runs/e2a31jgk' target=\"_blank\">https://wandb.ai/master-2024/MiniLM/runs/e2a31jgk</a>"
      ],
      "text/plain": [
       "<IPython.core.display.HTML object>"
      ]
     },
     "metadata": {},
     "output_type": "display_data"
    },
    {
     "name": "stderr",
     "output_type": "stream",
     "text": [
      "/net/fs-2/scale/OrionStore/Scratch/joteklem/MyCondaEnvironments/Python3.11/orion_env/lib/python3.11/site-packages/accelerate/accelerator.py:432: FutureWarning: Passing the following arguments to `Accelerator` is deprecated and will be removed in version 1.0 of Accelerate: dict_keys(['dispatch_batches', 'split_batches', 'even_batches', 'use_seedable_sampler']). Please pass an `accelerate.DataLoaderConfiguration` instead: \n",
      "dataloader_config = DataLoaderConfiguration(dispatch_batches=None, split_batches=False, even_batches=True, use_seedable_sampler=True)\n",
      "  warnings.warn(\n",
      "Detected kernel version 3.10.0, which is below the recommended minimum of 5.5.0; this can cause the process to hang. It is recommended to upgrade the kernel to the minimum version or higher.\n"
     ]
    },
    {
     "name": "stdout",
     "output_type": "stream",
     "text": [
      "Starting trial 11\n"
     ]
    },
    {
     "data": {
      "text/html": [
       "\n",
       "    <div>\n",
       "      \n",
       "      <progress value='159' max='790' style='width:300px; height:20px; vertical-align: middle;'></progress>\n",
       "      [159/790 00:11 < 00:46, 13.51 it/s, Epoch 1.00/5]\n",
       "    </div>\n",
       "    <table border=\"1\" class=\"dataframe\">\n",
       "  <thead>\n",
       " <tr style=\"text-align: left;\">\n",
       "      <th>Epoch</th>\n",
       "      <th>Training Loss</th>\n",
       "      <th>Validation Loss</th>\n",
       "    </tr>\n",
       "  </thead>\n",
       "  <tbody>\n",
       "  </tbody>\n",
       "</table><p>\n",
       "    <div>\n",
       "      \n",
       "      <progress value='106' max='106' style='width:300px; height:20px; vertical-align: middle;'></progress>\n",
       "      [106/106 00:01]\n",
       "    </div>\n",
       "    "
      ],
      "text/plain": [
       "<IPython.core.display.HTML object>"
      ]
     },
     "metadata": {},
     "output_type": "display_data"
    },
    {
     "name": "stderr",
     "output_type": "stream",
     "text": [
      "[I 2024-04-19 20:10:40,255] Trial 11 pruned. \n"
     ]
    },
    {
     "data": {
      "text/html": [
       "Finishing last run (ID:e2a31jgk) before initializing another..."
      ],
      "text/plain": [
       "<IPython.core.display.HTML object>"
      ]
     },
     "metadata": {},
     "output_type": "display_data"
    },
    {
     "data": {
      "text/html": [
       "<style>\n",
       "    table.wandb td:nth-child(1) { padding: 0 10px; text-align: left ; width: auto;} td:nth-child(2) {text-align: left ; width: 100%}\n",
       "    .wandb-row { display: flex; flex-direction: row; flex-wrap: wrap; justify-content: flex-start; width: 100% }\n",
       "    .wandb-col { display: flex; flex-direction: column; flex-basis: 100%; flex: 1; padding: 10px; }\n",
       "    </style>\n",
       "<div class=\"wandb-row\"><div class=\"wandb-col\"><h3>Run history:</h3><br/><table class=\"wandb\"><tr><td>eval/Accuracy</td><td>▁</td></tr><tr><td>eval/Balanced accuracy</td><td>▁</td></tr><tr><td>eval/F1 macro</td><td>▁</td></tr><tr><td>eval/F1 micro</td><td>▁</td></tr><tr><td>eval/F1 weighted</td><td>▁</td></tr><tr><td>eval/loss</td><td>▁</td></tr><tr><td>eval/runtime</td><td>▁</td></tr><tr><td>eval/samples_per_second</td><td>▁</td></tr><tr><td>eval/steps_per_second</td><td>▁</td></tr><tr><td>train/epoch</td><td>▁</td></tr><tr><td>train/global_step</td><td>▁</td></tr></table><br/></div><div class=\"wandb-col\"><h3>Run summary:</h3><br/><table class=\"wandb\"><tr><td>eval/Accuracy</td><td>0.6404</td></tr><tr><td>eval/Balanced accuracy</td><td>0.33333</td></tr><tr><td>eval/F1 macro</td><td>0.26026</td></tr><tr><td>eval/F1 micro</td><td>0.6404</td></tr><tr><td>eval/F1 weighted</td><td>0.50002</td></tr><tr><td>eval/loss</td><td>0.85637</td></tr><tr><td>eval/runtime</td><td>1.5656</td></tr><tr><td>eval/samples_per_second</td><td>2156.344</td></tr><tr><td>eval/steps_per_second</td><td>67.705</td></tr><tr><td>train/epoch</td><td>1.0</td></tr><tr><td>train/global_step</td><td>158</td></tr></table><br/></div></div>"
      ],
      "text/plain": [
       "<IPython.core.display.HTML object>"
      ]
     },
     "metadata": {},
     "output_type": "display_data"
    },
    {
     "data": {
      "text/html": [
       " View run <strong style=\"color:#cdcd00\">trial-11</strong> at: <a href='https://wandb.ai/master-2024/MiniLM/runs/e2a31jgk' target=\"_blank\">https://wandb.ai/master-2024/MiniLM/runs/e2a31jgk</a><br/>Synced 5 W&B file(s), 0 media file(s), 0 artifact file(s) and 0 other file(s)"
      ],
      "text/plain": [
       "<IPython.core.display.HTML object>"
      ]
     },
     "metadata": {},
     "output_type": "display_data"
    },
    {
     "data": {
      "text/html": [
       "Find logs at: <code>./wandb/run-20240419_201019-e2a31jgk/logs</code>"
      ],
      "text/plain": [
       "<IPython.core.display.HTML object>"
      ]
     },
     "metadata": {},
     "output_type": "display_data"
    },
    {
     "data": {
      "text/html": [
       "Successfully finished last run (ID:e2a31jgk). Initializing new run:<br/>"
      ],
      "text/plain": [
       "<IPython.core.display.HTML object>"
      ]
     },
     "metadata": {},
     "output_type": "display_data"
    },
    {
     "data": {
      "text/html": [
       "wandb version 0.16.6 is available!  To upgrade, please run:\n",
       " $ pip install wandb --upgrade"
      ],
      "text/plain": [
       "<IPython.core.display.HTML object>"
      ]
     },
     "metadata": {},
     "output_type": "display_data"
    },
    {
     "data": {
      "text/html": [
       "Tracking run with wandb version 0.16.4"
      ],
      "text/plain": [
       "<IPython.core.display.HTML object>"
      ]
     },
     "metadata": {},
     "output_type": "display_data"
    },
    {
     "data": {
      "text/html": [
       "Run data is saved locally in <code>/net/fs-2/scale/OrionStore/Home/joteklem/Pytorch_models/wandb/run-20240419_201040-si5paf4t</code>"
      ],
      "text/plain": [
       "<IPython.core.display.HTML object>"
      ]
     },
     "metadata": {},
     "output_type": "display_data"
    },
    {
     "data": {
      "text/html": [
       "Syncing run <strong><a href='https://wandb.ai/master-2024/MiniLM/runs/si5paf4t' target=\"_blank\">trial-12</a></strong> to <a href='https://wandb.ai/master-2024/MiniLM' target=\"_blank\">Weights & Biases</a> (<a href='https://wandb.me/run' target=\"_blank\">docs</a>)<br/>"
      ],
      "text/plain": [
       "<IPython.core.display.HTML object>"
      ]
     },
     "metadata": {},
     "output_type": "display_data"
    },
    {
     "data": {
      "text/html": [
       " View project at <a href='https://wandb.ai/master-2024/MiniLM' target=\"_blank\">https://wandb.ai/master-2024/MiniLM</a>"
      ],
      "text/plain": [
       "<IPython.core.display.HTML object>"
      ]
     },
     "metadata": {},
     "output_type": "display_data"
    },
    {
     "data": {
      "text/html": [
       " View run at <a href='https://wandb.ai/master-2024/MiniLM/runs/si5paf4t' target=\"_blank\">https://wandb.ai/master-2024/MiniLM/runs/si5paf4t</a>"
      ],
      "text/plain": [
       "<IPython.core.display.HTML object>"
      ]
     },
     "metadata": {},
     "output_type": "display_data"
    },
    {
     "name": "stderr",
     "output_type": "stream",
     "text": [
      "/net/fs-2/scale/OrionStore/Scratch/joteklem/MyCondaEnvironments/Python3.11/orion_env/lib/python3.11/site-packages/accelerate/accelerator.py:432: FutureWarning: Passing the following arguments to `Accelerator` is deprecated and will be removed in version 1.0 of Accelerate: dict_keys(['dispatch_batches', 'split_batches', 'even_batches', 'use_seedable_sampler']). Please pass an `accelerate.DataLoaderConfiguration` instead: \n",
      "dataloader_config = DataLoaderConfiguration(dispatch_batches=None, split_batches=False, even_batches=True, use_seedable_sampler=True)\n",
      "  warnings.warn(\n",
      "Detected kernel version 3.10.0, which is below the recommended minimum of 5.5.0; this can cause the process to hang. It is recommended to upgrade the kernel to the minimum version or higher.\n"
     ]
    },
    {
     "name": "stdout",
     "output_type": "stream",
     "text": [
      "Starting trial 12\n"
     ]
    },
    {
     "data": {
      "text/html": [
       "\n",
       "    <div>\n",
       "      \n",
       "      <progress value='318' max='790' style='width:300px; height:20px; vertical-align: middle;'></progress>\n",
       "      [318/790 00:24 < 00:36, 12.78 it/s, Epoch 2/5]\n",
       "    </div>\n",
       "    <table border=\"1\" class=\"dataframe\">\n",
       "  <thead>\n",
       " <tr style=\"text-align: left;\">\n",
       "      <th>Epoch</th>\n",
       "      <th>Training Loss</th>\n",
       "      <th>Validation Loss</th>\n",
       "      <th>Accuracy</th>\n",
       "      <th>Balanced accuracy</th>\n",
       "      <th>F1 weighted</th>\n",
       "      <th>F1 macro</th>\n",
       "      <th>F1 micro</th>\n",
       "      <th>Classification report</th>\n",
       "    </tr>\n",
       "  </thead>\n",
       "  <tbody>\n",
       "    <tr>\n",
       "      <td>0</td>\n",
       "      <td>No log</td>\n",
       "      <td>0.572379</td>\n",
       "      <td>0.766884</td>\n",
       "      <td>0.714505</td>\n",
       "      <td>0.776975</td>\n",
       "      <td>0.678540</td>\n",
       "      <td>0.766884</td>\n",
       "      <td>{'0': {'precision': 0.7958333333333333, 'recall': 0.6366666666666667, 'f1-score': 0.7074074074074074, 'support': 900.0}, '1': {'precision': 0.8640497845859263, 'recall': 0.8348751156336726, 'f1-score': 0.8492119501293813, 'support': 2162.0}, '2': {'precision': 0.37213403880070545, 'recall': 0.6719745222929936, 'f1-score': 0.4790011350737798, 'support': 314.0}, 'accuracy': 0.7668838862559242, 'macro avg': {'precision': 0.6773390522399882, 'recall': 0.7145054348644443, 'f1-score': 0.6785401642035228, 'support': 3376.0}, 'weighted avg': {'precision': 0.8001112921973325, 'recall': 0.7668838862559242, 'f1-score': 0.7769754914868353, 'support': 3376.0}}</td>\n",
       "    </tr>\n",
       "  </tbody>\n",
       "</table><p>\n",
       "    <div>\n",
       "      \n",
       "      <progress value='106' max='106' style='width:300px; height:20px; vertical-align: middle;'></progress>\n",
       "      [106/106 00:01]\n",
       "    </div>\n",
       "    "
      ],
      "text/plain": [
       "<IPython.core.display.HTML object>"
      ]
     },
     "metadata": {},
     "output_type": "display_data"
    },
    {
     "name": "stderr",
     "output_type": "stream",
     "text": [
      "[I 2024-04-19 20:11:14,053] Trial 12 pruned. \n"
     ]
    },
    {
     "data": {
      "text/html": [
       "Finishing last run (ID:si5paf4t) before initializing another..."
      ],
      "text/plain": [
       "<IPython.core.display.HTML object>"
      ]
     },
     "metadata": {},
     "output_type": "display_data"
    },
    {
     "data": {
      "text/html": [
       "<style>\n",
       "    table.wandb td:nth-child(1) { padding: 0 10px; text-align: left ; width: auto;} td:nth-child(2) {text-align: left ; width: 100%}\n",
       "    .wandb-row { display: flex; flex-direction: row; flex-wrap: wrap; justify-content: flex-start; width: 100% }\n",
       "    .wandb-col { display: flex; flex-direction: column; flex-basis: 100%; flex: 1; padding: 10px; }\n",
       "    </style>\n",
       "<div class=\"wandb-row\"><div class=\"wandb-col\"><h3>Run history:</h3><br/><table class=\"wandb\"><tr><td>eval/Accuracy</td><td>▁█</td></tr><tr><td>eval/Balanced accuracy</td><td>█▁</td></tr><tr><td>eval/F1 macro</td><td>▁█</td></tr><tr><td>eval/F1 micro</td><td>▁█</td></tr><tr><td>eval/F1 weighted</td><td>▁█</td></tr><tr><td>eval/loss</td><td>█▁</td></tr><tr><td>eval/runtime</td><td>▁█</td></tr><tr><td>eval/samples_per_second</td><td>█▁</td></tr><tr><td>eval/steps_per_second</td><td>█▁</td></tr><tr><td>train/epoch</td><td>▁██</td></tr><tr><td>train/global_step</td><td>▁██</td></tr><tr><td>train/grad_norm</td><td>▁</td></tr><tr><td>train/learning_rate</td><td>▁</td></tr><tr><td>train/loss</td><td>▁</td></tr></table><br/></div><div class=\"wandb-col\"><h3>Run summary:</h3><br/><table class=\"wandb\"><tr><td>eval/Accuracy</td><td>0.81754</td></tr><tr><td>eval/Balanced accuracy</td><td>0.64883</td></tr><tr><td>eval/F1 macro</td><td>0.70211</td></tr><tr><td>eval/F1 micro</td><td>0.81754</td></tr><tr><td>eval/F1 weighted</td><td>0.80128</td></tr><tr><td>eval/loss</td><td>0.52125</td></tr><tr><td>eval/runtime</td><td>1.5129</td></tr><tr><td>eval/samples_per_second</td><td>2231.531</td></tr><tr><td>eval/steps_per_second</td><td>70.066</td></tr><tr><td>train/epoch</td><td>2.0</td></tr><tr><td>train/global_step</td><td>317</td></tr><tr><td>train/grad_norm</td><td>1.68728</td></tr><tr><td>train/learning_rate</td><td>9e-05</td></tr><tr><td>train/loss</td><td>0.6497</td></tr></table><br/></div></div>"
      ],
      "text/plain": [
       "<IPython.core.display.HTML object>"
      ]
     },
     "metadata": {},
     "output_type": "display_data"
    },
    {
     "data": {
      "text/html": [
       " View run <strong style=\"color:#cdcd00\">trial-12</strong> at: <a href='https://wandb.ai/master-2024/MiniLM/runs/si5paf4t' target=\"_blank\">https://wandb.ai/master-2024/MiniLM/runs/si5paf4t</a><br/>Synced 5 W&B file(s), 0 media file(s), 0 artifact file(s) and 0 other file(s)"
      ],
      "text/plain": [
       "<IPython.core.display.HTML object>"
      ]
     },
     "metadata": {},
     "output_type": "display_data"
    },
    {
     "data": {
      "text/html": [
       "Find logs at: <code>./wandb/run-20240419_201040-si5paf4t/logs</code>"
      ],
      "text/plain": [
       "<IPython.core.display.HTML object>"
      ]
     },
     "metadata": {},
     "output_type": "display_data"
    },
    {
     "data": {
      "text/html": [
       "Successfully finished last run (ID:si5paf4t). Initializing new run:<br/>"
      ],
      "text/plain": [
       "<IPython.core.display.HTML object>"
      ]
     },
     "metadata": {},
     "output_type": "display_data"
    },
    {
     "data": {
      "text/html": [
       "wandb version 0.16.6 is available!  To upgrade, please run:\n",
       " $ pip install wandb --upgrade"
      ],
      "text/plain": [
       "<IPython.core.display.HTML object>"
      ]
     },
     "metadata": {},
     "output_type": "display_data"
    },
    {
     "data": {
      "text/html": [
       "Tracking run with wandb version 0.16.4"
      ],
      "text/plain": [
       "<IPython.core.display.HTML object>"
      ]
     },
     "metadata": {},
     "output_type": "display_data"
    },
    {
     "data": {
      "text/html": [
       "Run data is saved locally in <code>/net/fs-2/scale/OrionStore/Home/joteklem/Pytorch_models/wandb/run-20240419_201114-xlqfnooq</code>"
      ],
      "text/plain": [
       "<IPython.core.display.HTML object>"
      ]
     },
     "metadata": {},
     "output_type": "display_data"
    },
    {
     "data": {
      "text/html": [
       "Syncing run <strong><a href='https://wandb.ai/master-2024/MiniLM/runs/xlqfnooq' target=\"_blank\">trial-13</a></strong> to <a href='https://wandb.ai/master-2024/MiniLM' target=\"_blank\">Weights & Biases</a> (<a href='https://wandb.me/run' target=\"_blank\">docs</a>)<br/>"
      ],
      "text/plain": [
       "<IPython.core.display.HTML object>"
      ]
     },
     "metadata": {},
     "output_type": "display_data"
    },
    {
     "data": {
      "text/html": [
       " View project at <a href='https://wandb.ai/master-2024/MiniLM' target=\"_blank\">https://wandb.ai/master-2024/MiniLM</a>"
      ],
      "text/plain": [
       "<IPython.core.display.HTML object>"
      ]
     },
     "metadata": {},
     "output_type": "display_data"
    },
    {
     "data": {
      "text/html": [
       " View run at <a href='https://wandb.ai/master-2024/MiniLM/runs/xlqfnooq' target=\"_blank\">https://wandb.ai/master-2024/MiniLM/runs/xlqfnooq</a>"
      ],
      "text/plain": [
       "<IPython.core.display.HTML object>"
      ]
     },
     "metadata": {},
     "output_type": "display_data"
    },
    {
     "name": "stderr",
     "output_type": "stream",
     "text": [
      "/net/fs-2/scale/OrionStore/Scratch/joteklem/MyCondaEnvironments/Python3.11/orion_env/lib/python3.11/site-packages/accelerate/accelerator.py:432: FutureWarning: Passing the following arguments to `Accelerator` is deprecated and will be removed in version 1.0 of Accelerate: dict_keys(['dispatch_batches', 'split_batches', 'even_batches', 'use_seedable_sampler']). Please pass an `accelerate.DataLoaderConfiguration` instead: \n",
      "dataloader_config = DataLoaderConfiguration(dispatch_batches=None, split_batches=False, even_batches=True, use_seedable_sampler=True)\n",
      "  warnings.warn(\n",
      "Detected kernel version 3.10.0, which is below the recommended minimum of 5.5.0; this can cause the process to hang. It is recommended to upgrade the kernel to the minimum version or higher.\n"
     ]
    },
    {
     "name": "stdout",
     "output_type": "stream",
     "text": [
      "Starting trial 13\n"
     ]
    },
    {
     "data": {
      "text/html": [
       "\n",
       "    <div>\n",
       "      \n",
       "      <progress value='159' max='790' style='width:300px; height:20px; vertical-align: middle;'></progress>\n",
       "      [159/790 00:11 < 00:46, 13.47 it/s, Epoch 1.00/5]\n",
       "    </div>\n",
       "    <table border=\"1\" class=\"dataframe\">\n",
       "  <thead>\n",
       " <tr style=\"text-align: left;\">\n",
       "      <th>Epoch</th>\n",
       "      <th>Training Loss</th>\n",
       "      <th>Validation Loss</th>\n",
       "    </tr>\n",
       "  </thead>\n",
       "  <tbody>\n",
       "  </tbody>\n",
       "</table><p>\n",
       "    <div>\n",
       "      \n",
       "      <progress value='106' max='106' style='width:300px; height:20px; vertical-align: middle;'></progress>\n",
       "      [106/106 00:01]\n",
       "    </div>\n",
       "    "
      ],
      "text/plain": [
       "<IPython.core.display.HTML object>"
      ]
     },
     "metadata": {},
     "output_type": "display_data"
    },
    {
     "name": "stderr",
     "output_type": "stream",
     "text": [
      "[I 2024-04-19 20:11:35,624] Trial 13 pruned. \n"
     ]
    },
    {
     "data": {
      "text/html": [
       "Finishing last run (ID:xlqfnooq) before initializing another..."
      ],
      "text/plain": [
       "<IPython.core.display.HTML object>"
      ]
     },
     "metadata": {},
     "output_type": "display_data"
    },
    {
     "data": {
      "text/html": [
       "<style>\n",
       "    table.wandb td:nth-child(1) { padding: 0 10px; text-align: left ; width: auto;} td:nth-child(2) {text-align: left ; width: 100%}\n",
       "    .wandb-row { display: flex; flex-direction: row; flex-wrap: wrap; justify-content: flex-start; width: 100% }\n",
       "    .wandb-col { display: flex; flex-direction: column; flex-basis: 100%; flex: 1; padding: 10px; }\n",
       "    </style>\n",
       "<div class=\"wandb-row\"><div class=\"wandb-col\"><h3>Run history:</h3><br/><table class=\"wandb\"><tr><td>eval/Accuracy</td><td>▁</td></tr><tr><td>eval/Balanced accuracy</td><td>▁</td></tr><tr><td>eval/F1 macro</td><td>▁</td></tr><tr><td>eval/F1 micro</td><td>▁</td></tr><tr><td>eval/F1 weighted</td><td>▁</td></tr><tr><td>eval/loss</td><td>▁</td></tr><tr><td>eval/runtime</td><td>▁</td></tr><tr><td>eval/samples_per_second</td><td>▁</td></tr><tr><td>eval/steps_per_second</td><td>▁</td></tr><tr><td>train/epoch</td><td>▁</td></tr><tr><td>train/global_step</td><td>▁</td></tr></table><br/></div><div class=\"wandb-col\"><h3>Run summary:</h3><br/><table class=\"wandb\"><tr><td>eval/Accuracy</td><td>0.6404</td></tr><tr><td>eval/Balanced accuracy</td><td>0.33333</td></tr><tr><td>eval/F1 macro</td><td>0.26026</td></tr><tr><td>eval/F1 micro</td><td>0.6404</td></tr><tr><td>eval/F1 weighted</td><td>0.50002</td></tr><tr><td>eval/loss</td><td>0.85556</td></tr><tr><td>eval/runtime</td><td>1.5207</td></tr><tr><td>eval/samples_per_second</td><td>2220.003</td></tr><tr><td>eval/steps_per_second</td><td>69.704</td></tr><tr><td>train/epoch</td><td>1.0</td></tr><tr><td>train/global_step</td><td>158</td></tr></table><br/></div></div>"
      ],
      "text/plain": [
       "<IPython.core.display.HTML object>"
      ]
     },
     "metadata": {},
     "output_type": "display_data"
    },
    {
     "data": {
      "text/html": [
       " View run <strong style=\"color:#cdcd00\">trial-13</strong> at: <a href='https://wandb.ai/master-2024/MiniLM/runs/xlqfnooq' target=\"_blank\">https://wandb.ai/master-2024/MiniLM/runs/xlqfnooq</a><br/>Synced 5 W&B file(s), 0 media file(s), 0 artifact file(s) and 0 other file(s)"
      ],
      "text/plain": [
       "<IPython.core.display.HTML object>"
      ]
     },
     "metadata": {},
     "output_type": "display_data"
    },
    {
     "data": {
      "text/html": [
       "Find logs at: <code>./wandb/run-20240419_201114-xlqfnooq/logs</code>"
      ],
      "text/plain": [
       "<IPython.core.display.HTML object>"
      ]
     },
     "metadata": {},
     "output_type": "display_data"
    },
    {
     "data": {
      "text/html": [
       "Successfully finished last run (ID:xlqfnooq). Initializing new run:<br/>"
      ],
      "text/plain": [
       "<IPython.core.display.HTML object>"
      ]
     },
     "metadata": {},
     "output_type": "display_data"
    },
    {
     "data": {
      "text/html": [
       "wandb version 0.16.6 is available!  To upgrade, please run:\n",
       " $ pip install wandb --upgrade"
      ],
      "text/plain": [
       "<IPython.core.display.HTML object>"
      ]
     },
     "metadata": {},
     "output_type": "display_data"
    },
    {
     "data": {
      "text/html": [
       "Tracking run with wandb version 0.16.4"
      ],
      "text/plain": [
       "<IPython.core.display.HTML object>"
      ]
     },
     "metadata": {},
     "output_type": "display_data"
    },
    {
     "data": {
      "text/html": [
       "Run data is saved locally in <code>/net/fs-2/scale/OrionStore/Home/joteklem/Pytorch_models/wandb/run-20240419_201135-08nj46ul</code>"
      ],
      "text/plain": [
       "<IPython.core.display.HTML object>"
      ]
     },
     "metadata": {},
     "output_type": "display_data"
    },
    {
     "data": {
      "text/html": [
       "Syncing run <strong><a href='https://wandb.ai/master-2024/MiniLM/runs/08nj46ul' target=\"_blank\">trial-14</a></strong> to <a href='https://wandb.ai/master-2024/MiniLM' target=\"_blank\">Weights & Biases</a> (<a href='https://wandb.me/run' target=\"_blank\">docs</a>)<br/>"
      ],
      "text/plain": [
       "<IPython.core.display.HTML object>"
      ]
     },
     "metadata": {},
     "output_type": "display_data"
    },
    {
     "data": {
      "text/html": [
       " View project at <a href='https://wandb.ai/master-2024/MiniLM' target=\"_blank\">https://wandb.ai/master-2024/MiniLM</a>"
      ],
      "text/plain": [
       "<IPython.core.display.HTML object>"
      ]
     },
     "metadata": {},
     "output_type": "display_data"
    },
    {
     "data": {
      "text/html": [
       " View run at <a href='https://wandb.ai/master-2024/MiniLM/runs/08nj46ul' target=\"_blank\">https://wandb.ai/master-2024/MiniLM/runs/08nj46ul</a>"
      ],
      "text/plain": [
       "<IPython.core.display.HTML object>"
      ]
     },
     "metadata": {},
     "output_type": "display_data"
    },
    {
     "name": "stderr",
     "output_type": "stream",
     "text": [
      "/net/fs-2/scale/OrionStore/Scratch/joteklem/MyCondaEnvironments/Python3.11/orion_env/lib/python3.11/site-packages/accelerate/accelerator.py:432: FutureWarning: Passing the following arguments to `Accelerator` is deprecated and will be removed in version 1.0 of Accelerate: dict_keys(['dispatch_batches', 'split_batches', 'even_batches', 'use_seedable_sampler']). Please pass an `accelerate.DataLoaderConfiguration` instead: \n",
      "dataloader_config = DataLoaderConfiguration(dispatch_batches=None, split_batches=False, even_batches=True, use_seedable_sampler=True)\n",
      "  warnings.warn(\n",
      "Detected kernel version 3.10.0, which is below the recommended minimum of 5.5.0; this can cause the process to hang. It is recommended to upgrade the kernel to the minimum version or higher.\n"
     ]
    },
    {
     "name": "stdout",
     "output_type": "stream",
     "text": [
      "Starting trial 14\n"
     ]
    },
    {
     "data": {
      "text/html": [
       "\n",
       "    <div>\n",
       "      \n",
       "      <progress value='2532' max='2532' style='width:300px; height:20px; vertical-align: middle;'></progress>\n",
       "      [2532/2532 02:29, Epoch 4/4]\n",
       "    </div>\n",
       "    <table border=\"1\" class=\"dataframe\">\n",
       "  <thead>\n",
       " <tr style=\"text-align: left;\">\n",
       "      <th>Epoch</th>\n",
       "      <th>Training Loss</th>\n",
       "      <th>Validation Loss</th>\n",
       "      <th>Accuracy</th>\n",
       "      <th>Balanced accuracy</th>\n",
       "      <th>F1 weighted</th>\n",
       "      <th>F1 macro</th>\n",
       "      <th>F1 micro</th>\n",
       "      <th>Classification report</th>\n",
       "    </tr>\n",
       "  </thead>\n",
       "  <tbody>\n",
       "    <tr>\n",
       "      <td>1</td>\n",
       "      <td>No log</td>\n",
       "      <td>0.564425</td>\n",
       "      <td>0.795912</td>\n",
       "      <td>0.604952</td>\n",
       "      <td>0.775622</td>\n",
       "      <td>0.645550</td>\n",
       "      <td>0.795912</td>\n",
       "      <td>{'0': {'precision': 0.8287461773700305, 'recall': 0.6022222222222222, 'f1-score': 0.6975546975546976, 'support': 900.0}, '1': {'precision': 0.7935409457900807, 'recall': 0.9546716003700277, 'f1-score': 0.8666806634474071, 'support': 2162.0}, '2': {'precision': 0.6694214876033058, 'recall': 0.25796178343949044, 'f1-score': 0.3724137931034483, 'support': 314.0}, 'accuracy': 0.7959123222748815, 'macro avg': {'precision': 0.7639028702544723, 'recall': 0.6049518686772468, 'f1-score': 0.6455497180351844, 'support': 3376.0}, 'weighted avg': {'precision': 0.7913819406216293, 'recall': 0.7959123222748815, 'f1-score': 0.7756222610210323, 'support': 3376.0}}</td>\n",
       "    </tr>\n",
       "    <tr>\n",
       "      <td>2</td>\n",
       "      <td>0.599200</td>\n",
       "      <td>0.479828</td>\n",
       "      <td>0.827310</td>\n",
       "      <td>0.711136</td>\n",
       "      <td>0.820399</td>\n",
       "      <td>0.742348</td>\n",
       "      <td>0.827310</td>\n",
       "      <td>{'0': {'precision': 0.8120805369127517, 'recall': 0.6722222222222223, 'f1-score': 0.7355623100303953, 'support': 900.0}, '1': {'precision': 0.8432680283451438, 'recall': 0.9357076780758556, 'f1-score': 0.8870861653146239, 'support': 2162.0}, '2': {'precision': 0.7112068965517241, 'recall': 0.5254777070063694, 'f1-score': 0.6043956043956042, 'support': 314.0}, 'accuracy': 0.8273104265402843, 'macro avg': {'precision': 0.7888518206032066, 'recall': 0.7111358691014824, 'f1-score': 0.7423480265802077, 'support': 3376.0}, 'weighted avg': {'precision': 0.82267089040904, 'recall': 0.8273104265402843, 'f1-score': 0.8203988709175926, 'support': 3376.0}}</td>\n",
       "    </tr>\n",
       "    <tr>\n",
       "      <td>3</td>\n",
       "      <td>0.599200</td>\n",
       "      <td>0.490319</td>\n",
       "      <td>0.829384</td>\n",
       "      <td>0.732354</td>\n",
       "      <td>0.825005</td>\n",
       "      <td>0.758023</td>\n",
       "      <td>0.829384</td>\n",
       "      <td>{'0': {'precision': 0.7695121951219512, 'recall': 0.7011111111111111, 'f1-score': 0.7337209302325582, 'support': 900.0}, '1': {'precision': 0.8587473002159827, 'recall': 0.9195189639222942, 'f1-score': 0.8880947062765244, 'support': 2162.0}, '2': {'precision': 0.7510373443983402, 'recall': 0.5764331210191083, 'f1-score': 0.6522522522522523, 'support': 314.0}, 'accuracy': 0.8293838862559242, 'macro avg': {'precision': 0.7930989465787581, 'recall': 0.7323543986841713, 'f1-score': 0.7580226295871116, 'support': 3376.0}, 'weighted avg': {'precision': 0.8249402739389188, 'recall': 0.8293838862559242, 'f1-score': 0.8250049761215509, 'support': 3376.0}}</td>\n",
       "    </tr>\n",
       "    <tr>\n",
       "      <td>4</td>\n",
       "      <td>0.318700</td>\n",
       "      <td>0.536357</td>\n",
       "      <td>0.826422</td>\n",
       "      <td>0.751859</td>\n",
       "      <td>0.824992</td>\n",
       "      <td>0.767020</td>\n",
       "      <td>0.826422</td>\n",
       "      <td>{'0': {'precision': 0.7267699115044248, 'recall': 0.73, 'f1-score': 0.7283813747228381, 'support': 900.0}, '1': {'precision': 0.8755656108597285, 'recall': 0.8950046253469011, 'f1-score': 0.8851784080512352, 'support': 2162.0}, '2': {'precision': 0.7557251908396947, 'recall': 0.6305732484076433, 'f1-score': 0.6875, 'support': 314.0}, 'accuracy': 0.8264218009478673, 'macro avg': {'precision': 0.786020237734616, 'recall': 0.7518592912515148, 'f1-score': 0.7670199275913578, 'support': 3376.0}, 'weighted avg': {'precision': 0.8247522159230982, 'recall': 0.8264218009478673, 'f1-score': 0.8249922853842786, 'support': 3376.0}}</td>\n",
       "    </tr>\n",
       "  </tbody>\n",
       "</table><p>"
      ],
      "text/plain": [
       "<IPython.core.display.HTML object>"
      ]
     },
     "metadata": {},
     "output_type": "display_data"
    },
    {
     "data": {
      "text/html": [
       "\n",
       "    <div>\n",
       "      \n",
       "      <progress value='422' max='422' style='width:300px; height:20px; vertical-align: middle;'></progress>\n",
       "      [422/422 00:03]\n",
       "    </div>\n",
       "    "
      ],
      "text/plain": [
       "<IPython.core.display.HTML object>"
      ]
     },
     "metadata": {},
     "output_type": "display_data"
    },
    {
     "name": "stderr",
     "output_type": "stream",
     "text": [
      "/net/fs-2/scale/OrionStore/Scratch/joteklem/MyCondaEnvironments/Python3.11/orion_env/lib/python3.11/site-packages/optuna/trial/_trial.py:499: UserWarning: The reported value is ignored because this `step` 4.0 is already reported.\n",
      "  warnings.warn(\n"
     ]
    },
    {
     "name": "stdout",
     "output_type": "stream",
     "text": [
      "Completed trial 14\n"
     ]
    },
    {
     "data": {
      "text/html": [
       "<style>\n",
       "    table.wandb td:nth-child(1) { padding: 0 10px; text-align: left ; width: auto;} td:nth-child(2) {text-align: left ; width: 100%}\n",
       "    .wandb-row { display: flex; flex-direction: row; flex-wrap: wrap; justify-content: flex-start; width: 100% }\n",
       "    .wandb-col { display: flex; flex-direction: column; flex-basis: 100%; flex: 1; padding: 10px; }\n",
       "    </style>\n",
       "<div class=\"wandb-row\"><div class=\"wandb-col\"><h3>Run history:</h3><br/><table class=\"wandb\"><tr><td>Training loss</td><td>▁</td></tr><tr><td>Validation loss</td><td>▁</td></tr><tr><td>eval/Accuracy</td><td>▁██▇▇</td></tr><tr><td>eval/Balanced accuracy</td><td>▁▆▇██</td></tr><tr><td>eval/F1 macro</td><td>▁▇▇██</td></tr><tr><td>eval/F1 micro</td><td>▁██▇▇</td></tr><tr><td>eval/F1 weighted</td><td>▁▇███</td></tr><tr><td>eval/loss</td><td>█▁▂▆▆</td></tr><tr><td>eval/runtime</td><td>█▁▆▃▇</td></tr><tr><td>eval/samples_per_second</td><td>▁█▃▆▂</td></tr><tr><td>eval/steps_per_second</td><td>▁█▃▆▂</td></tr><tr><td>macro F1 score</td><td>▁</td></tr><tr><td>train/epoch</td><td>▁▃▃▆████</td></tr><tr><td>train/global_step</td><td>▁▃▃▆██████</td></tr><tr><td>train/grad_norm</td><td>▁█</td></tr><tr><td>train/learning_rate</td><td>█▁</td></tr><tr><td>train/loss</td><td>█▁</td></tr><tr><td>train/total_flos</td><td>▁</td></tr><tr><td>train/train_loss</td><td>▁</td></tr><tr><td>train/train_runtime</td><td>▁</td></tr><tr><td>train/train_samples_per_second</td><td>▁</td></tr><tr><td>train/train_steps_per_second</td><td>▁</td></tr></table><br/></div><div class=\"wandb-col\"><h3>Run summary:</h3><br/><table class=\"wandb\"><tr><td>Training loss</td><td>0.3187</td></tr><tr><td>Validation loss</td><td>0.49032</td></tr><tr><td>eval/Accuracy</td><td>0.82642</td></tr><tr><td>eval/Balanced accuracy</td><td>0.75186</td></tr><tr><td>eval/F1 macro</td><td>0.76702</td></tr><tr><td>eval/F1 micro</td><td>0.82642</td></tr><tr><td>eval/F1 weighted</td><td>0.82499</td></tr><tr><td>eval/loss</td><td>0.53636</td></tr><tr><td>eval/runtime</td><td>3.1337</td></tr><tr><td>eval/samples_per_second</td><td>1077.333</td></tr><tr><td>eval/steps_per_second</td><td>134.667</td></tr><tr><td>macro F1 score</td><td>0.76702</td></tr><tr><td>train/epoch</td><td>4.0</td></tr><tr><td>train/global_step</td><td>2532</td></tr><tr><td>train/grad_norm</td><td>8.62359</td></tr><tr><td>train/learning_rate</td><td>0.0</td></tr><tr><td>train/loss</td><td>0.3187</td></tr><tr><td>train/total_flos</td><td>323644548151584.0</td></tr><tr><td>train/train_loss</td><td>0.45895</td></tr><tr><td>train/train_runtime</td><td>149.13</td></tr><tr><td>train/train_samples_per_second</td><td>271.656</td></tr><tr><td>train/train_steps_per_second</td><td>16.978</td></tr></table><br/></div></div>"
      ],
      "text/plain": [
       "<IPython.core.display.HTML object>"
      ]
     },
     "metadata": {},
     "output_type": "display_data"
    },
    {
     "data": {
      "text/html": [
       " View run <strong style=\"color:#cdcd00\">trial-14</strong> at: <a href='https://wandb.ai/master-2024/MiniLM/runs/08nj46ul' target=\"_blank\">https://wandb.ai/master-2024/MiniLM/runs/08nj46ul</a><br/>Synced 5 W&B file(s), 0 media file(s), 0 artifact file(s) and 0 other file(s)"
      ],
      "text/plain": [
       "<IPython.core.display.HTML object>"
      ]
     },
     "metadata": {},
     "output_type": "display_data"
    },
    {
     "data": {
      "text/html": [
       "Find logs at: <code>./wandb/run-20240419_201135-08nj46ul/logs</code>"
      ],
      "text/plain": [
       "<IPython.core.display.HTML object>"
      ]
     },
     "metadata": {},
     "output_type": "display_data"
    },
    {
     "name": "stderr",
     "output_type": "stream",
     "text": [
      "[I 2024-04-19 20:14:22,934] Trial 14 finished with value: 0.7670199275913578 and parameters: {'learning_rate': 7.406126591934746e-05, 'per_device_train_batch_size': 8, 'weight_decay': 0.2280691900416866, 'num_train_epochs': 4, 'warmup_steps': 435}. Best is trial 14 with value: 0.7670199275913578.\n"
     ]
    },
    {
     "data": {
      "text/html": [
       "wandb version 0.16.6 is available!  To upgrade, please run:\n",
       " $ pip install wandb --upgrade"
      ],
      "text/plain": [
       "<IPython.core.display.HTML object>"
      ]
     },
     "metadata": {},
     "output_type": "display_data"
    },
    {
     "data": {
      "text/html": [
       "Tracking run with wandb version 0.16.4"
      ],
      "text/plain": [
       "<IPython.core.display.HTML object>"
      ]
     },
     "metadata": {},
     "output_type": "display_data"
    },
    {
     "data": {
      "text/html": [
       "Run data is saved locally in <code>/net/fs-2/scale/OrionStore/Home/joteklem/Pytorch_models/wandb/run-20240419_201423-pzapyji2</code>"
      ],
      "text/plain": [
       "<IPython.core.display.HTML object>"
      ]
     },
     "metadata": {},
     "output_type": "display_data"
    },
    {
     "data": {
      "text/html": [
       "Syncing run <strong><a href='https://wandb.ai/master-2024/MiniLM/runs/pzapyji2' target=\"_blank\">trial-15</a></strong> to <a href='https://wandb.ai/master-2024/MiniLM' target=\"_blank\">Weights & Biases</a> (<a href='https://wandb.me/run' target=\"_blank\">docs</a>)<br/>"
      ],
      "text/plain": [
       "<IPython.core.display.HTML object>"
      ]
     },
     "metadata": {},
     "output_type": "display_data"
    },
    {
     "data": {
      "text/html": [
       " View project at <a href='https://wandb.ai/master-2024/MiniLM' target=\"_blank\">https://wandb.ai/master-2024/MiniLM</a>"
      ],
      "text/plain": [
       "<IPython.core.display.HTML object>"
      ]
     },
     "metadata": {},
     "output_type": "display_data"
    },
    {
     "data": {
      "text/html": [
       " View run at <a href='https://wandb.ai/master-2024/MiniLM/runs/pzapyji2' target=\"_blank\">https://wandb.ai/master-2024/MiniLM/runs/pzapyji2</a>"
      ],
      "text/plain": [
       "<IPython.core.display.HTML object>"
      ]
     },
     "metadata": {},
     "output_type": "display_data"
    },
    {
     "name": "stderr",
     "output_type": "stream",
     "text": [
      "/net/fs-2/scale/OrionStore/Scratch/joteklem/MyCondaEnvironments/Python3.11/orion_env/lib/python3.11/site-packages/accelerate/accelerator.py:432: FutureWarning: Passing the following arguments to `Accelerator` is deprecated and will be removed in version 1.0 of Accelerate: dict_keys(['dispatch_batches', 'split_batches', 'even_batches', 'use_seedable_sampler']). Please pass an `accelerate.DataLoaderConfiguration` instead: \n",
      "dataloader_config = DataLoaderConfiguration(dispatch_batches=None, split_batches=False, even_batches=True, use_seedable_sampler=True)\n",
      "  warnings.warn(\n",
      "Detected kernel version 3.10.0, which is below the recommended minimum of 5.5.0; this can cause the process to hang. It is recommended to upgrade the kernel to the minimum version or higher.\n"
     ]
    },
    {
     "name": "stdout",
     "output_type": "stream",
     "text": [
      "Starting trial 15\n"
     ]
    },
    {
     "data": {
      "text/html": [
       "\n",
       "    <div>\n",
       "      \n",
       "      <progress value='2532' max='2532' style='width:300px; height:20px; vertical-align: middle;'></progress>\n",
       "      [2532/2532 02:20, Epoch 4/4]\n",
       "    </div>\n",
       "    <table border=\"1\" class=\"dataframe\">\n",
       "  <thead>\n",
       " <tr style=\"text-align: left;\">\n",
       "      <th>Epoch</th>\n",
       "      <th>Training Loss</th>\n",
       "      <th>Validation Loss</th>\n",
       "      <th>Accuracy</th>\n",
       "      <th>Balanced accuracy</th>\n",
       "      <th>F1 weighted</th>\n",
       "      <th>F1 macro</th>\n",
       "      <th>F1 micro</th>\n",
       "      <th>Classification report</th>\n",
       "    </tr>\n",
       "  </thead>\n",
       "  <tbody>\n",
       "    <tr>\n",
       "      <td>1</td>\n",
       "      <td>No log</td>\n",
       "      <td>0.545594</td>\n",
       "      <td>0.802725</td>\n",
       "      <td>0.709310</td>\n",
       "      <td>0.801148</td>\n",
       "      <td>0.709454</td>\n",
       "      <td>0.802725</td>\n",
       "      <td>{'0': {'precision': 0.8193456614509246, 'recall': 0.64, 'f1-score': 0.7186525265127884, 'support': 900.0}, '1': {'precision': 0.8478260869565217, 'recall': 0.9019426456984274, 'f1-score': 0.8740475123263112, 'support': 2162.0}, '2': {'precision': 0.4932975871313673, 'recall': 0.5859872611464968, 'f1-score': 0.5356622998544396, 'support': 314.0}, 'accuracy': 0.8027251184834123, 'macro avg': {'precision': 0.7201564451796045, 'recall': 0.709309968948308, 'f1-score': 0.7094541128978463, 'support': 3376.0}, 'weighted avg': {'precision': 0.8072590455169081, 'recall': 0.8027251184834123, 'f1-score': 0.8011480917255002, 'support': 3376.0}}</td>\n",
       "    </tr>\n",
       "    <tr>\n",
       "      <td>2</td>\n",
       "      <td>0.586300</td>\n",
       "      <td>0.468814</td>\n",
       "      <td>0.830273</td>\n",
       "      <td>0.752213</td>\n",
       "      <td>0.827545</td>\n",
       "      <td>0.755386</td>\n",
       "      <td>0.830273</td>\n",
       "      <td>{'0': {'precision': 0.8389355742296919, 'recall': 0.6655555555555556, 'f1-score': 0.7422552664188352, 'support': 900.0}, '1': {'precision': 0.8624567474048442, 'recall': 0.9222941720629048, 'f1-score': 0.8913723737147966, 'support': 2162.0}, '2': {'precision': 0.6, 'recall': 0.6687898089171974, 'f1-score': 0.6325301204819277, 'support': 314.0}, 'accuracy': 0.8302725118483413, 'macro avg': {'precision': 0.7671307738781787, 'recall': 0.7522131788452193, 'f1-score': 0.7553859202051866, 'support': 3376.0}, 'weighted avg': {'precision': 0.8317753272203781, 'recall': 0.8302725118483413, 'f1-score': 0.8275448073399488, 'support': 3376.0}}</td>\n",
       "    </tr>\n",
       "    <tr>\n",
       "      <td>3</td>\n",
       "      <td>0.586300</td>\n",
       "      <td>0.483847</td>\n",
       "      <td>0.837382</td>\n",
       "      <td>0.758596</td>\n",
       "      <td>0.834039</td>\n",
       "      <td>0.772640</td>\n",
       "      <td>0.837382</td>\n",
       "      <td>{'0': {'precision': 0.8072445019404916, 'recall': 0.6933333333333334, 'f1-score': 0.7459653317393903, 'support': 900.0}, '1': {'precision': 0.8651928912006935, 'recall': 0.9232192414431082, 'f1-score': 0.8932647124636384, 'support': 2162.0}, '2': {'precision': 0.6993243243243243, 'recall': 0.6592356687898089, 'f1-score': 0.6786885245901639, 'support': 314.0}, 'accuracy': 0.8373815165876777, 'macro avg': {'precision': 0.7905872391551698, 'recall': 0.7585960811887501, 'f1-score': 0.7726395229310642, 'support': 3376.0}, 'weighted avg': {'precision': 0.8343172157464988, 'recall': 0.8373815165876777, 'f1-score': 0.8340388932562645, 'support': 3376.0}}</td>\n",
       "    </tr>\n",
       "    <tr>\n",
       "      <td>4</td>\n",
       "      <td>0.292200</td>\n",
       "      <td>0.558481</td>\n",
       "      <td>0.824941</td>\n",
       "      <td>0.753293</td>\n",
       "      <td>0.824154</td>\n",
       "      <td>0.762191</td>\n",
       "      <td>0.824941</td>\n",
       "      <td>{'0': {'precision': 0.7261774370208105, 'recall': 0.7366666666666667, 'f1-score': 0.7313844456701599, 'support': 900.0}, '1': {'precision': 0.8808978469995419, 'recall': 0.88945420906568, 'f1-score': 0.8851553509781358, 'support': 2162.0}, '2': {'precision': 0.7107142857142857, 'recall': 0.6337579617834395, 'f1-score': 0.6700336700336701, 'support': 314.0}, 'accuracy': 0.8249407582938388, 'macro avg': {'precision': 0.7725965232448794, 'recall': 0.7532929458385954, 'f1-score': 0.7621911555606552, 'support': 3376.0}, 'weighted avg': {'precision': 0.8238226078927798, 'recall': 0.8249407582938388, 'f1-score': 0.8241535670344922, 'support': 3376.0}}</td>\n",
       "    </tr>\n",
       "  </tbody>\n",
       "</table><p>"
      ],
      "text/plain": [
       "<IPython.core.display.HTML object>"
      ]
     },
     "metadata": {},
     "output_type": "display_data"
    },
    {
     "data": {
      "text/html": [
       "\n",
       "    <div>\n",
       "      \n",
       "      <progress value='422' max='422' style='width:300px; height:20px; vertical-align: middle;'></progress>\n",
       "      [422/422 00:03]\n",
       "    </div>\n",
       "    "
      ],
      "text/plain": [
       "<IPython.core.display.HTML object>"
      ]
     },
     "metadata": {},
     "output_type": "display_data"
    },
    {
     "name": "stderr",
     "output_type": "stream",
     "text": [
      "/net/fs-2/scale/OrionStore/Scratch/joteklem/MyCondaEnvironments/Python3.11/orion_env/lib/python3.11/site-packages/optuna/trial/_trial.py:499: UserWarning: The reported value is ignored because this `step` 4.0 is already reported.\n",
      "  warnings.warn(\n"
     ]
    },
    {
     "name": "stdout",
     "output_type": "stream",
     "text": [
      "Completed trial 15\n"
     ]
    },
    {
     "data": {
      "text/html": [
       "<style>\n",
       "    table.wandb td:nth-child(1) { padding: 0 10px; text-align: left ; width: auto;} td:nth-child(2) {text-align: left ; width: 100%}\n",
       "    .wandb-row { display: flex; flex-direction: row; flex-wrap: wrap; justify-content: flex-start; width: 100% }\n",
       "    .wandb-col { display: flex; flex-direction: column; flex-basis: 100%; flex: 1; padding: 10px; }\n",
       "    </style>\n",
       "<div class=\"wandb-row\"><div class=\"wandb-col\"><h3>Run history:</h3><br/><table class=\"wandb\"><tr><td>Training loss</td><td>▁</td></tr><tr><td>Validation loss</td><td>▁</td></tr><tr><td>eval/Accuracy</td><td>▁▇█▅▅</td></tr><tr><td>eval/Balanced accuracy</td><td>▁▇█▇▇</td></tr><tr><td>eval/F1 macro</td><td>▁▆█▇▇</td></tr><tr><td>eval/F1 micro</td><td>▁▇█▅▅</td></tr><tr><td>eval/F1 weighted</td><td>▁▇█▆▆</td></tr><tr><td>eval/loss</td><td>▇▁▂██</td></tr><tr><td>eval/runtime</td><td>▁▂▄▃█</td></tr><tr><td>eval/samples_per_second</td><td>█▇▅▆▁</td></tr><tr><td>eval/steps_per_second</td><td>█▇▅▆▁</td></tr><tr><td>macro F1 score</td><td>▁</td></tr><tr><td>train/epoch</td><td>▁▃▃▆████</td></tr><tr><td>train/global_step</td><td>▁▃▃▆██████</td></tr><tr><td>train/grad_norm</td><td>█▁</td></tr><tr><td>train/learning_rate</td><td>█▁</td></tr><tr><td>train/loss</td><td>█▁</td></tr><tr><td>train/total_flos</td><td>▁</td></tr><tr><td>train/train_loss</td><td>▁</td></tr><tr><td>train/train_runtime</td><td>▁</td></tr><tr><td>train/train_samples_per_second</td><td>▁</td></tr><tr><td>train/train_steps_per_second</td><td>▁</td></tr></table><br/></div><div class=\"wandb-col\"><h3>Run summary:</h3><br/><table class=\"wandb\"><tr><td>Training loss</td><td>0.2922</td></tr><tr><td>Validation loss</td><td>0.48385</td></tr><tr><td>eval/Accuracy</td><td>0.82494</td></tr><tr><td>eval/Balanced accuracy</td><td>0.75329</td></tr><tr><td>eval/F1 macro</td><td>0.76219</td></tr><tr><td>eval/F1 micro</td><td>0.82494</td></tr><tr><td>eval/F1 weighted</td><td>0.82415</td></tr><tr><td>eval/loss</td><td>0.55848</td></tr><tr><td>eval/runtime</td><td>3.0424</td></tr><tr><td>eval/samples_per_second</td><td>1109.647</td></tr><tr><td>eval/steps_per_second</td><td>138.706</td></tr><tr><td>macro F1 score</td><td>0.76219</td></tr><tr><td>train/epoch</td><td>4.0</td></tr><tr><td>train/global_step</td><td>2532</td></tr><tr><td>train/grad_norm</td><td>5.07629</td></tr><tr><td>train/learning_rate</td><td>0.0</td></tr><tr><td>train/loss</td><td>0.2922</td></tr><tr><td>train/total_flos</td><td>323644548151584.0</td></tr><tr><td>train/train_loss</td><td>0.43924</td></tr><tr><td>train/train_runtime</td><td>140.7381</td></tr><tr><td>train/train_samples_per_second</td><td>287.854</td></tr><tr><td>train/train_steps_per_second</td><td>17.991</td></tr></table><br/></div></div>"
      ],
      "text/plain": [
       "<IPython.core.display.HTML object>"
      ]
     },
     "metadata": {},
     "output_type": "display_data"
    },
    {
     "data": {
      "text/html": [
       " View run <strong style=\"color:#cdcd00\">trial-15</strong> at: <a href='https://wandb.ai/master-2024/MiniLM/runs/pzapyji2' target=\"_blank\">https://wandb.ai/master-2024/MiniLM/runs/pzapyji2</a><br/>Synced 5 W&B file(s), 0 media file(s), 0 artifact file(s) and 0 other file(s)"
      ],
      "text/plain": [
       "<IPython.core.display.HTML object>"
      ]
     },
     "metadata": {},
     "output_type": "display_data"
    },
    {
     "data": {
      "text/html": [
       "Find logs at: <code>./wandb/run-20240419_201423-pzapyji2/logs</code>"
      ],
      "text/plain": [
       "<IPython.core.display.HTML object>"
      ]
     },
     "metadata": {},
     "output_type": "display_data"
    },
    {
     "name": "stderr",
     "output_type": "stream",
     "text": [
      "[I 2024-04-19 20:16:56,125] Trial 15 finished with value: 0.7621911555606552 and parameters: {'learning_rate': 7.905274371010052e-05, 'per_device_train_batch_size': 8, 'weight_decay': 0.24715555934384467, 'num_train_epochs': 4, 'warmup_steps': 425}. Best is trial 14 with value: 0.7670199275913578.\n"
     ]
    },
    {
     "data": {
      "text/html": [
       "wandb version 0.16.6 is available!  To upgrade, please run:\n",
       " $ pip install wandb --upgrade"
      ],
      "text/plain": [
       "<IPython.core.display.HTML object>"
      ]
     },
     "metadata": {},
     "output_type": "display_data"
    },
    {
     "data": {
      "text/html": [
       "Tracking run with wandb version 0.16.4"
      ],
      "text/plain": [
       "<IPython.core.display.HTML object>"
      ]
     },
     "metadata": {},
     "output_type": "display_data"
    },
    {
     "data": {
      "text/html": [
       "Run data is saved locally in <code>/net/fs-2/scale/OrionStore/Home/joteklem/Pytorch_models/wandb/run-20240419_201656-z7g37wqi</code>"
      ],
      "text/plain": [
       "<IPython.core.display.HTML object>"
      ]
     },
     "metadata": {},
     "output_type": "display_data"
    },
    {
     "data": {
      "text/html": [
       "Syncing run <strong><a href='https://wandb.ai/master-2024/MiniLM/runs/z7g37wqi' target=\"_blank\">trial-16</a></strong> to <a href='https://wandb.ai/master-2024/MiniLM' target=\"_blank\">Weights & Biases</a> (<a href='https://wandb.me/run' target=\"_blank\">docs</a>)<br/>"
      ],
      "text/plain": [
       "<IPython.core.display.HTML object>"
      ]
     },
     "metadata": {},
     "output_type": "display_data"
    },
    {
     "data": {
      "text/html": [
       " View project at <a href='https://wandb.ai/master-2024/MiniLM' target=\"_blank\">https://wandb.ai/master-2024/MiniLM</a>"
      ],
      "text/plain": [
       "<IPython.core.display.HTML object>"
      ]
     },
     "metadata": {},
     "output_type": "display_data"
    },
    {
     "data": {
      "text/html": [
       " View run at <a href='https://wandb.ai/master-2024/MiniLM/runs/z7g37wqi' target=\"_blank\">https://wandb.ai/master-2024/MiniLM/runs/z7g37wqi</a>"
      ],
      "text/plain": [
       "<IPython.core.display.HTML object>"
      ]
     },
     "metadata": {},
     "output_type": "display_data"
    },
    {
     "name": "stderr",
     "output_type": "stream",
     "text": [
      "/net/fs-2/scale/OrionStore/Scratch/joteklem/MyCondaEnvironments/Python3.11/orion_env/lib/python3.11/site-packages/accelerate/accelerator.py:432: FutureWarning: Passing the following arguments to `Accelerator` is deprecated and will be removed in version 1.0 of Accelerate: dict_keys(['dispatch_batches', 'split_batches', 'even_batches', 'use_seedable_sampler']). Please pass an `accelerate.DataLoaderConfiguration` instead: \n",
      "dataloader_config = DataLoaderConfiguration(dispatch_batches=None, split_batches=False, even_batches=True, use_seedable_sampler=True)\n",
      "  warnings.warn(\n",
      "Detected kernel version 3.10.0, which is below the recommended minimum of 5.5.0; this can cause the process to hang. It is recommended to upgrade the kernel to the minimum version or higher.\n"
     ]
    },
    {
     "name": "stdout",
     "output_type": "stream",
     "text": [
      "Starting trial 16\n"
     ]
    },
    {
     "data": {
      "text/html": [
       "\n",
       "    <div>\n",
       "      \n",
       "      <progress value='1900' max='2532' style='width:300px; height:20px; vertical-align: middle;'></progress>\n",
       "      [1898/2532 01:45 < 00:35, 17.90 it/s, Epoch 3.00/4]\n",
       "    </div>\n",
       "    <table border=\"1\" class=\"dataframe\">\n",
       "  <thead>\n",
       " <tr style=\"text-align: left;\">\n",
       "      <th>Epoch</th>\n",
       "      <th>Training Loss</th>\n",
       "      <th>Validation Loss</th>\n",
       "      <th>Accuracy</th>\n",
       "      <th>Balanced accuracy</th>\n",
       "      <th>F1 weighted</th>\n",
       "      <th>F1 macro</th>\n",
       "      <th>F1 micro</th>\n",
       "      <th>Classification report</th>\n",
       "    </tr>\n",
       "  </thead>\n",
       "  <tbody>\n",
       "    <tr>\n",
       "      <td>1</td>\n",
       "      <td>No log</td>\n",
       "      <td>0.546520</td>\n",
       "      <td>0.783472</td>\n",
       "      <td>0.726550</td>\n",
       "      <td>0.787024</td>\n",
       "      <td>0.699353</td>\n",
       "      <td>0.783472</td>\n",
       "      <td>{'0': {'precision': 0.8126843657817109, 'recall': 0.6122222222222222, 'f1-score': 0.6983523447401775, 'support': 900.0}, '1': {'precision': 0.8529813381884388, 'recall': 0.8667900092506938, 'f1-score': 0.8598302362927277, 'support': 2162.0}, '2': {'precision': 0.43912175648702595, 'recall': 0.7006369426751592, 'f1-score': 0.5398773006134969, 'support': 314.0}, 'accuracy': 0.7834715639810427, 'macro avg': {'precision': 0.7015958201523919, 'recall': 0.726549724716025, 'f1-score': 0.6993532938821341, 'support': 3376.0}, 'weighted avg': {'precision': 0.8037457979573076, 'recall': 0.7834715639810427, 'f1-score': 0.7870235644323681, 'support': 3376.0}}</td>\n",
       "    </tr>\n",
       "    <tr>\n",
       "      <td>2</td>\n",
       "      <td>0.565900</td>\n",
       "      <td>0.491163</td>\n",
       "      <td>0.823460</td>\n",
       "      <td>0.704418</td>\n",
       "      <td>0.815994</td>\n",
       "      <td>0.731722</td>\n",
       "      <td>0.823460</td>\n",
       "      <td>{'0': {'precision': 0.8379160636758322, 'recall': 0.6433333333333333, 'f1-score': 0.7278441231929604, 'support': 900.0}, '1': {'precision': 0.838483724763082, 'recall': 0.9412580943570767, 'f1-score': 0.8869034648071475, 'support': 2162.0}, '2': {'precision': 0.6434108527131783, 'recall': 0.5286624203821656, 'f1-score': 0.5804195804195804, 'support': 314.0}, 'accuracy': 0.8234597156398105, 'macro avg': {'precision': 0.7732702137173643, 'recall': 0.7044179493575252, 'f1-score': 0.7317223894732295, 'support': 3376.0}, 'weighted avg': {'precision': 0.8201887671794936, 'recall': 0.8234597156398105, 'f1-score': 0.8159942979971758, 'support': 3376.0}}</td>\n",
       "    </tr>\n",
       "  </tbody>\n",
       "</table><p>\n",
       "    <div>\n",
       "      \n",
       "      <progress value='422' max='422' style='width:300px; height:20px; vertical-align: middle;'></progress>\n",
       "      [422/422 00:03]\n",
       "    </div>\n",
       "    "
      ],
      "text/plain": [
       "<IPython.core.display.HTML object>"
      ]
     },
     "metadata": {},
     "output_type": "display_data"
    },
    {
     "name": "stderr",
     "output_type": "stream",
     "text": [
      "[I 2024-04-19 20:18:49,388] Trial 16 pruned. \n"
     ]
    },
    {
     "data": {
      "text/html": [
       "Finishing last run (ID:z7g37wqi) before initializing another..."
      ],
      "text/plain": [
       "<IPython.core.display.HTML object>"
      ]
     },
     "metadata": {},
     "output_type": "display_data"
    },
    {
     "data": {
      "text/html": [
       "<style>\n",
       "    table.wandb td:nth-child(1) { padding: 0 10px; text-align: left ; width: auto;} td:nth-child(2) {text-align: left ; width: 100%}\n",
       "    .wandb-row { display: flex; flex-direction: row; flex-wrap: wrap; justify-content: flex-start; width: 100% }\n",
       "    .wandb-col { display: flex; flex-direction: column; flex-basis: 100%; flex: 1; padding: 10px; }\n",
       "    </style>\n",
       "<div class=\"wandb-row\"><div class=\"wandb-col\"><h3>Run history:</h3><br/><table class=\"wandb\"><tr><td>eval/Accuracy</td><td>▁█▇</td></tr><tr><td>eval/Balanced accuracy</td><td>█▁▆</td></tr><tr><td>eval/F1 macro</td><td>▁▆█</td></tr><tr><td>eval/F1 micro</td><td>▁█▇</td></tr><tr><td>eval/F1 weighted</td><td>▁██</td></tr><tr><td>eval/loss</td><td>█▁█</td></tr><tr><td>eval/runtime</td><td>█▁▄</td></tr><tr><td>eval/samples_per_second</td><td>▁█▅</td></tr><tr><td>eval/steps_per_second</td><td>▁█▅</td></tr><tr><td>train/epoch</td><td>▁▅▅█</td></tr><tr><td>train/global_step</td><td>▁▅▅█</td></tr><tr><td>train/grad_norm</td><td>▁</td></tr><tr><td>train/learning_rate</td><td>▁</td></tr><tr><td>train/loss</td><td>▁</td></tr></table><br/></div><div class=\"wandb-col\"><h3>Run summary:</h3><br/><table class=\"wandb\"><tr><td>eval/Accuracy</td><td>0.81902</td></tr><tr><td>eval/Balanced accuracy</td><td>0.71944</td></tr><tr><td>eval/F1 macro</td><td>0.74132</td></tr><tr><td>eval/F1 micro</td><td>0.81902</td></tr><tr><td>eval/F1 weighted</td><td>0.81441</td></tr><tr><td>eval/loss</td><td>0.54384</td></tr><tr><td>eval/runtime</td><td>3.0825</td></tr><tr><td>eval/samples_per_second</td><td>1095.222</td></tr><tr><td>eval/steps_per_second</td><td>136.903</td></tr><tr><td>train/epoch</td><td>3.0</td></tr><tr><td>train/global_step</td><td>1899</td></tr><tr><td>train/grad_norm</td><td>3.83018</td></tr><tr><td>train/learning_rate</td><td>0.00013</td></tr><tr><td>train/loss</td><td>0.5659</td></tr></table><br/></div></div>"
      ],
      "text/plain": [
       "<IPython.core.display.HTML object>"
      ]
     },
     "metadata": {},
     "output_type": "display_data"
    },
    {
     "data": {
      "text/html": [
       " View run <strong style=\"color:#cdcd00\">trial-16</strong> at: <a href='https://wandb.ai/master-2024/MiniLM/runs/z7g37wqi' target=\"_blank\">https://wandb.ai/master-2024/MiniLM/runs/z7g37wqi</a><br/>Synced 5 W&B file(s), 0 media file(s), 0 artifact file(s) and 0 other file(s)"
      ],
      "text/plain": [
       "<IPython.core.display.HTML object>"
      ]
     },
     "metadata": {},
     "output_type": "display_data"
    },
    {
     "data": {
      "text/html": [
       "Find logs at: <code>./wandb/run-20240419_201656-z7g37wqi/logs</code>"
      ],
      "text/plain": [
       "<IPython.core.display.HTML object>"
      ]
     },
     "metadata": {},
     "output_type": "display_data"
    },
    {
     "data": {
      "text/html": [
       "Successfully finished last run (ID:z7g37wqi). Initializing new run:<br/>"
      ],
      "text/plain": [
       "<IPython.core.display.HTML object>"
      ]
     },
     "metadata": {},
     "output_type": "display_data"
    },
    {
     "data": {
      "text/html": [
       "wandb version 0.16.6 is available!  To upgrade, please run:\n",
       " $ pip install wandb --upgrade"
      ],
      "text/plain": [
       "<IPython.core.display.HTML object>"
      ]
     },
     "metadata": {},
     "output_type": "display_data"
    },
    {
     "data": {
      "text/html": [
       "Tracking run with wandb version 0.16.4"
      ],
      "text/plain": [
       "<IPython.core.display.HTML object>"
      ]
     },
     "metadata": {},
     "output_type": "display_data"
    },
    {
     "data": {
      "text/html": [
       "Run data is saved locally in <code>/net/fs-2/scale/OrionStore/Home/joteklem/Pytorch_models/wandb/run-20240419_201849-bmd1fuow</code>"
      ],
      "text/plain": [
       "<IPython.core.display.HTML object>"
      ]
     },
     "metadata": {},
     "output_type": "display_data"
    },
    {
     "data": {
      "text/html": [
       "Syncing run <strong><a href='https://wandb.ai/master-2024/MiniLM/runs/bmd1fuow' target=\"_blank\">trial-17</a></strong> to <a href='https://wandb.ai/master-2024/MiniLM' target=\"_blank\">Weights & Biases</a> (<a href='https://wandb.me/run' target=\"_blank\">docs</a>)<br/>"
      ],
      "text/plain": [
       "<IPython.core.display.HTML object>"
      ]
     },
     "metadata": {},
     "output_type": "display_data"
    },
    {
     "data": {
      "text/html": [
       " View project at <a href='https://wandb.ai/master-2024/MiniLM' target=\"_blank\">https://wandb.ai/master-2024/MiniLM</a>"
      ],
      "text/plain": [
       "<IPython.core.display.HTML object>"
      ]
     },
     "metadata": {},
     "output_type": "display_data"
    },
    {
     "data": {
      "text/html": [
       " View run at <a href='https://wandb.ai/master-2024/MiniLM/runs/bmd1fuow' target=\"_blank\">https://wandb.ai/master-2024/MiniLM/runs/bmd1fuow</a>"
      ],
      "text/plain": [
       "<IPython.core.display.HTML object>"
      ]
     },
     "metadata": {},
     "output_type": "display_data"
    },
    {
     "name": "stderr",
     "output_type": "stream",
     "text": [
      "/net/fs-2/scale/OrionStore/Scratch/joteklem/MyCondaEnvironments/Python3.11/orion_env/lib/python3.11/site-packages/accelerate/accelerator.py:432: FutureWarning: Passing the following arguments to `Accelerator` is deprecated and will be removed in version 1.0 of Accelerate: dict_keys(['dispatch_batches', 'split_batches', 'even_batches', 'use_seedable_sampler']). Please pass an `accelerate.DataLoaderConfiguration` instead: \n",
      "dataloader_config = DataLoaderConfiguration(dispatch_batches=None, split_batches=False, even_batches=True, use_seedable_sampler=True)\n",
      "  warnings.warn(\n",
      "Detected kernel version 3.10.0, which is below the recommended minimum of 5.5.0; this can cause the process to hang. It is recommended to upgrade the kernel to the minimum version or higher.\n"
     ]
    },
    {
     "name": "stdout",
     "output_type": "stream",
     "text": [
      "Starting trial 17\n"
     ]
    },
    {
     "data": {
      "text/html": [
       "\n",
       "    <div>\n",
       "      \n",
       "      <progress value='2532' max='2532' style='width:300px; height:20px; vertical-align: middle;'></progress>\n",
       "      [2532/2532 02:27, Epoch 4/4]\n",
       "    </div>\n",
       "    <table border=\"1\" class=\"dataframe\">\n",
       "  <thead>\n",
       " <tr style=\"text-align: left;\">\n",
       "      <th>Epoch</th>\n",
       "      <th>Training Loss</th>\n",
       "      <th>Validation Loss</th>\n",
       "      <th>Accuracy</th>\n",
       "      <th>Balanced accuracy</th>\n",
       "      <th>F1 weighted</th>\n",
       "      <th>F1 macro</th>\n",
       "      <th>F1 micro</th>\n",
       "      <th>Classification report</th>\n",
       "    </tr>\n",
       "  </thead>\n",
       "  <tbody>\n",
       "    <tr>\n",
       "      <td>1</td>\n",
       "      <td>No log</td>\n",
       "      <td>0.522408</td>\n",
       "      <td>0.806576</td>\n",
       "      <td>0.671821</td>\n",
       "      <td>0.797332</td>\n",
       "      <td>0.704728</td>\n",
       "      <td>0.806576</td>\n",
       "      <td>{'0': {'precision': 0.7961432506887053, 'recall': 0.6422222222222222, 'f1-score': 0.7109471094710949, 'support': 900.0}, '1': {'precision': 0.8227328682806729, 'recall': 0.927382053654024, 'f1-score': 0.8719286801478582, 'support': 2162.0}, '2': {'precision': 0.6572769953051644, 'recall': 0.445859872611465, 'f1-score': 0.5313092979127135, 'support': 314.0}, 'accuracy': 0.8065758293838863, 'macro avg': {'precision': 0.7587177047581809, 'recall': 0.6718213828292371, 'f1-score': 0.7047283625105555, 'support': 3376.0}, 'weighted avg': {'precision': 0.8002554393863955, 'recall': 0.8065758293838863, 'f1-score': 0.7973321458969926, 'support': 3376.0}}</td>\n",
       "    </tr>\n",
       "    <tr>\n",
       "      <td>2</td>\n",
       "      <td>0.567600</td>\n",
       "      <td>0.482237</td>\n",
       "      <td>0.831161</td>\n",
       "      <td>0.720658</td>\n",
       "      <td>0.824634</td>\n",
       "      <td>0.750147</td>\n",
       "      <td>0.831161</td>\n",
       "      <td>{'0': {'precision': 0.8224043715846995, 'recall': 0.6688888888888889, 'f1-score': 0.7377450980392157, 'support': 900.0}, '1': {'precision': 0.8461859107961651, 'recall': 0.938945420906568, 'f1-score': 0.8901556676167508, 'support': 2162.0}, '2': {'precision': 0.710204081632653, 'recall': 0.554140127388535, 'f1-score': 0.6225402504472272, 'support': 314.0}, 'accuracy': 0.8311611374407583, 'macro avg': {'precision': 0.7929314546711725, 'recall': 0.7206581457279974, 'f1-score': 0.7501470053677313, 'support': 3376.0}, 'weighted avg': {'precision': 0.8271984464455544, 'recall': 0.8311611374407583, 'f1-score': 0.8246341173765221, 'support': 3376.0}}</td>\n",
       "    </tr>\n",
       "    <tr>\n",
       "      <td>3</td>\n",
       "      <td>0.567600</td>\n",
       "      <td>0.525426</td>\n",
       "      <td>0.822571</td>\n",
       "      <td>0.723583</td>\n",
       "      <td>0.818860</td>\n",
       "      <td>0.747132</td>\n",
       "      <td>0.822571</td>\n",
       "      <td>{'0': {'precision': 0.7462857142857143, 'recall': 0.7255555555555555, 'f1-score': 0.735774647887324, 'support': 900.0}, '1': {'precision': 0.8607929515418502, 'recall': 0.9037927844588344, 'f1-score': 0.8817689530685919, 'support': 2162.0}, '2': {'precision': 0.7359307359307359, 'recall': 0.5414012738853503, 'f1-score': 0.6238532110091743, 'support': 314.0}, 'accuracy': 0.8225710900473934, 'macro avg': {'precision': 0.7810031339194335, 'recall': 0.7235832046332468, 'f1-score': 0.7471322706550302, 'support': 3376.0}, 'weighted avg': {'precision': 0.8186533634990741, 'recall': 0.8225710900473934, 'f1-score': 0.8188600615787228, 'support': 3376.0}}</td>\n",
       "    </tr>\n",
       "    <tr>\n",
       "      <td>4</td>\n",
       "      <td>0.262500</td>\n",
       "      <td>0.664435</td>\n",
       "      <td>0.811315</td>\n",
       "      <td>0.726625</td>\n",
       "      <td>0.809660</td>\n",
       "      <td>0.741649</td>\n",
       "      <td>0.811315</td>\n",
       "      <td>{'0': {'precision': 0.705114254624592, 'recall': 0.72, 'f1-score': 0.7124793842770754, 'support': 900.0}, '1': {'precision': 0.8669995460735361, 'recall': 0.883441258094357, 'f1-score': 0.8751431844215349, 'support': 2162.0}, '2': {'precision': 0.7125984251968503, 'recall': 0.5764331210191083, 'f1-score': 0.6373239436619718, 'support': 314.0}, 'accuracy': 0.8113151658767772, 'macro avg': {'precision': 0.7615707419649929, 'recall': 0.7266247930378218, 'f1-score': 0.7416488374535274, 'support': 3376.0}, 'weighted avg': {'precision': 0.8094821544090429, 'recall': 0.8113151658767772, 'f1-score': 0.8096595760896285, 'support': 3376.0}}</td>\n",
       "    </tr>\n",
       "  </tbody>\n",
       "</table><p>"
      ],
      "text/plain": [
       "<IPython.core.display.HTML object>"
      ]
     },
     "metadata": {},
     "output_type": "display_data"
    },
    {
     "data": {
      "text/html": [
       "\n",
       "    <div>\n",
       "      \n",
       "      <progress value='422' max='422' style='width:300px; height:20px; vertical-align: middle;'></progress>\n",
       "      [422/422 00:03]\n",
       "    </div>\n",
       "    "
      ],
      "text/plain": [
       "<IPython.core.display.HTML object>"
      ]
     },
     "metadata": {},
     "output_type": "display_data"
    },
    {
     "name": "stderr",
     "output_type": "stream",
     "text": [
      "/net/fs-2/scale/OrionStore/Scratch/joteklem/MyCondaEnvironments/Python3.11/orion_env/lib/python3.11/site-packages/optuna/trial/_trial.py:499: UserWarning: The reported value is ignored because this `step` 4.0 is already reported.\n",
      "  warnings.warn(\n"
     ]
    },
    {
     "name": "stdout",
     "output_type": "stream",
     "text": [
      "Completed trial 17\n"
     ]
    },
    {
     "data": {
      "text/html": [
       "<style>\n",
       "    table.wandb td:nth-child(1) { padding: 0 10px; text-align: left ; width: auto;} td:nth-child(2) {text-align: left ; width: 100%}\n",
       "    .wandb-row { display: flex; flex-direction: row; flex-wrap: wrap; justify-content: flex-start; width: 100% }\n",
       "    .wandb-col { display: flex; flex-direction: column; flex-basis: 100%; flex: 1; padding: 10px; }\n",
       "    </style>\n",
       "<div class=\"wandb-row\"><div class=\"wandb-col\"><h3>Run history:</h3><br/><table class=\"wandb\"><tr><td>Training loss</td><td>▁</td></tr><tr><td>Validation loss</td><td>▁</td></tr><tr><td>eval/Accuracy</td><td>▁█▆▂▂</td></tr><tr><td>eval/Balanced accuracy</td><td>▁▇███</td></tr><tr><td>eval/F1 macro</td><td>▁██▇▇</td></tr><tr><td>eval/F1 micro</td><td>▁█▆▂▂</td></tr><tr><td>eval/F1 weighted</td><td>▁█▇▄▄</td></tr><tr><td>eval/loss</td><td>▃▁▃██</td></tr><tr><td>eval/runtime</td><td>▇▅█▁▄</td></tr><tr><td>eval/samples_per_second</td><td>▂▄▁█▅</td></tr><tr><td>eval/steps_per_second</td><td>▂▄▁█▅</td></tr><tr><td>macro F1 score</td><td>▁</td></tr><tr><td>train/epoch</td><td>▁▃▃▆████</td></tr><tr><td>train/global_step</td><td>▁▃▃▆██████</td></tr><tr><td>train/grad_norm</td><td>▁█</td></tr><tr><td>train/learning_rate</td><td>█▁</td></tr><tr><td>train/loss</td><td>█▁</td></tr><tr><td>train/total_flos</td><td>▁</td></tr><tr><td>train/train_loss</td><td>▁</td></tr><tr><td>train/train_runtime</td><td>▁</td></tr><tr><td>train/train_samples_per_second</td><td>▁</td></tr><tr><td>train/train_steps_per_second</td><td>▁</td></tr></table><br/></div><div class=\"wandb-col\"><h3>Run summary:</h3><br/><table class=\"wandb\"><tr><td>Training loss</td><td>0.2625</td></tr><tr><td>Validation loss</td><td>0.52543</td></tr><tr><td>eval/Accuracy</td><td>0.81132</td></tr><tr><td>eval/Balanced accuracy</td><td>0.72662</td></tr><tr><td>eval/F1 macro</td><td>0.74165</td></tr><tr><td>eval/F1 micro</td><td>0.81132</td></tr><tr><td>eval/F1 weighted</td><td>0.80966</td></tr><tr><td>eval/loss</td><td>0.66444</td></tr><tr><td>eval/runtime</td><td>3.0785</td></tr><tr><td>eval/samples_per_second</td><td>1096.646</td></tr><tr><td>eval/steps_per_second</td><td>137.081</td></tr><tr><td>macro F1 score</td><td>0.74165</td></tr><tr><td>train/epoch</td><td>4.0</td></tr><tr><td>train/global_step</td><td>2532</td></tr><tr><td>train/grad_norm</td><td>8.75746</td></tr><tr><td>train/learning_rate</td><td>0.0</td></tr><tr><td>train/loss</td><td>0.2625</td></tr><tr><td>train/total_flos</td><td>323644548151584.0</td></tr><tr><td>train/train_loss</td><td>0.41507</td></tr><tr><td>train/train_runtime</td><td>147.5406</td></tr><tr><td>train/train_samples_per_second</td><td>274.582</td></tr><tr><td>train/train_steps_per_second</td><td>17.161</td></tr></table><br/></div></div>"
      ],
      "text/plain": [
       "<IPython.core.display.HTML object>"
      ]
     },
     "metadata": {},
     "output_type": "display_data"
    },
    {
     "data": {
      "text/html": [
       " View run <strong style=\"color:#cdcd00\">trial-17</strong> at: <a href='https://wandb.ai/master-2024/MiniLM/runs/bmd1fuow' target=\"_blank\">https://wandb.ai/master-2024/MiniLM/runs/bmd1fuow</a><br/>Synced 5 W&B file(s), 0 media file(s), 0 artifact file(s) and 0 other file(s)"
      ],
      "text/plain": [
       "<IPython.core.display.HTML object>"
      ]
     },
     "metadata": {},
     "output_type": "display_data"
    },
    {
     "data": {
      "text/html": [
       "Find logs at: <code>./wandb/run-20240419_201849-bmd1fuow/logs</code>"
      ],
      "text/plain": [
       "<IPython.core.display.HTML object>"
      ]
     },
     "metadata": {},
     "output_type": "display_data"
    },
    {
     "name": "stderr",
     "output_type": "stream",
     "text": [
      "[I 2024-04-19 20:21:34,667] Trial 17 finished with value: 0.7416488374535274 and parameters: {'learning_rate': 0.00016020383138002996, 'per_device_train_batch_size': 8, 'weight_decay': 0.136952843397525, 'num_train_epochs': 4, 'warmup_steps': 496}. Best is trial 14 with value: 0.7670199275913578.\n"
     ]
    },
    {
     "data": {
      "text/html": [
       "wandb version 0.16.6 is available!  To upgrade, please run:\n",
       " $ pip install wandb --upgrade"
      ],
      "text/plain": [
       "<IPython.core.display.HTML object>"
      ]
     },
     "metadata": {},
     "output_type": "display_data"
    },
    {
     "data": {
      "text/html": [
       "Tracking run with wandb version 0.16.4"
      ],
      "text/plain": [
       "<IPython.core.display.HTML object>"
      ]
     },
     "metadata": {},
     "output_type": "display_data"
    },
    {
     "data": {
      "text/html": [
       "Run data is saved locally in <code>/net/fs-2/scale/OrionStore/Home/joteklem/Pytorch_models/wandb/run-20240419_202134-rqi4qyxp</code>"
      ],
      "text/plain": [
       "<IPython.core.display.HTML object>"
      ]
     },
     "metadata": {},
     "output_type": "display_data"
    },
    {
     "data": {
      "text/html": [
       "Syncing run <strong><a href='https://wandb.ai/master-2024/MiniLM/runs/rqi4qyxp' target=\"_blank\">trial-18</a></strong> to <a href='https://wandb.ai/master-2024/MiniLM' target=\"_blank\">Weights & Biases</a> (<a href='https://wandb.me/run' target=\"_blank\">docs</a>)<br/>"
      ],
      "text/plain": [
       "<IPython.core.display.HTML object>"
      ]
     },
     "metadata": {},
     "output_type": "display_data"
    },
    {
     "data": {
      "text/html": [
       " View project at <a href='https://wandb.ai/master-2024/MiniLM' target=\"_blank\">https://wandb.ai/master-2024/MiniLM</a>"
      ],
      "text/plain": [
       "<IPython.core.display.HTML object>"
      ]
     },
     "metadata": {},
     "output_type": "display_data"
    },
    {
     "data": {
      "text/html": [
       " View run at <a href='https://wandb.ai/master-2024/MiniLM/runs/rqi4qyxp' target=\"_blank\">https://wandb.ai/master-2024/MiniLM/runs/rqi4qyxp</a>"
      ],
      "text/plain": [
       "<IPython.core.display.HTML object>"
      ]
     },
     "metadata": {},
     "output_type": "display_data"
    },
    {
     "name": "stderr",
     "output_type": "stream",
     "text": [
      "/net/fs-2/scale/OrionStore/Scratch/joteklem/MyCondaEnvironments/Python3.11/orion_env/lib/python3.11/site-packages/accelerate/accelerator.py:432: FutureWarning: Passing the following arguments to `Accelerator` is deprecated and will be removed in version 1.0 of Accelerate: dict_keys(['dispatch_batches', 'split_batches', 'even_batches', 'use_seedable_sampler']). Please pass an `accelerate.DataLoaderConfiguration` instead: \n",
      "dataloader_config = DataLoaderConfiguration(dispatch_batches=None, split_batches=False, even_batches=True, use_seedable_sampler=True)\n",
      "  warnings.warn(\n",
      "Detected kernel version 3.10.0, which is below the recommended minimum of 5.5.0; this can cause the process to hang. It is recommended to upgrade the kernel to the minimum version or higher.\n"
     ]
    },
    {
     "name": "stdout",
     "output_type": "stream",
     "text": [
      "Starting trial 18\n"
     ]
    },
    {
     "data": {
      "text/html": [
       "\n",
       "    <div>\n",
       "      \n",
       "      <progress value='318' max='632' style='width:300px; height:20px; vertical-align: middle;'></progress>\n",
       "      [318/632 00:24 < 00:24, 12.71 it/s, Epoch 2/4]\n",
       "    </div>\n",
       "    <table border=\"1\" class=\"dataframe\">\n",
       "  <thead>\n",
       " <tr style=\"text-align: left;\">\n",
       "      <th>Epoch</th>\n",
       "      <th>Training Loss</th>\n",
       "      <th>Validation Loss</th>\n",
       "      <th>Accuracy</th>\n",
       "      <th>Balanced accuracy</th>\n",
       "      <th>F1 weighted</th>\n",
       "      <th>F1 macro</th>\n",
       "      <th>F1 micro</th>\n",
       "      <th>Classification report</th>\n",
       "    </tr>\n",
       "  </thead>\n",
       "  <tbody>\n",
       "    <tr>\n",
       "      <td>0</td>\n",
       "      <td>No log</td>\n",
       "      <td>0.680703</td>\n",
       "      <td>0.768957</td>\n",
       "      <td>0.536448</td>\n",
       "      <td>0.731307</td>\n",
       "      <td>0.510571</td>\n",
       "      <td>0.768957</td>\n",
       "      <td>{'0': {'precision': 0.6382978723404256, 'recall': 0.7, 'f1-score': 0.6677265500794912, 'support': 900.0}, '1': {'precision': 0.8229384679782336, 'recall': 0.9093432007400555, 'f1-score': 0.8639859371566688, 'support': 2162.0}, '2': {'precision': 0.0, 'recall': 0.0, 'f1-score': 0.0, 'support': 314.0}, 'accuracy': 0.768957345971564, 'macro avg': {'precision': 0.4870787801062197, 'recall': 0.5364477335800185, 'f1-score': 0.51057082907872, 'support': 3376.0}, 'weighted avg': {'precision': 0.6971744824867666, 'recall': 0.768957345971564, 'f1-score': 0.7313067213282761, 'support': 3376.0}}</td>\n",
       "    </tr>\n",
       "  </tbody>\n",
       "</table><p>\n",
       "    <div>\n",
       "      \n",
       "      <progress value='106' max='106' style='width:300px; height:20px; vertical-align: middle;'></progress>\n",
       "      [106/106 00:01]\n",
       "    </div>\n",
       "    "
      ],
      "text/plain": [
       "<IPython.core.display.HTML object>"
      ]
     },
     "metadata": {},
     "output_type": "display_data"
    },
    {
     "name": "stderr",
     "output_type": "stream",
     "text": [
      "[I 2024-04-19 20:22:05,013] Trial 18 pruned. \n"
     ]
    },
    {
     "data": {
      "text/html": [
       "Finishing last run (ID:rqi4qyxp) before initializing another..."
      ],
      "text/plain": [
       "<IPython.core.display.HTML object>"
      ]
     },
     "metadata": {},
     "output_type": "display_data"
    },
    {
     "data": {
      "text/html": [
       "<style>\n",
       "    table.wandb td:nth-child(1) { padding: 0 10px; text-align: left ; width: auto;} td:nth-child(2) {text-align: left ; width: 100%}\n",
       "    .wandb-row { display: flex; flex-direction: row; flex-wrap: wrap; justify-content: flex-start; width: 100% }\n",
       "    .wandb-col { display: flex; flex-direction: column; flex-basis: 100%; flex: 1; padding: 10px; }\n",
       "    </style>\n",
       "<div class=\"wandb-row\"><div class=\"wandb-col\"><h3>Run history:</h3><br/><table class=\"wandb\"><tr><td>eval/Accuracy</td><td>▁█</td></tr><tr><td>eval/Balanced accuracy</td><td>▁█</td></tr><tr><td>eval/F1 macro</td><td>▁█</td></tr><tr><td>eval/F1 micro</td><td>▁█</td></tr><tr><td>eval/F1 weighted</td><td>▁█</td></tr><tr><td>eval/loss</td><td>█▁</td></tr><tr><td>eval/runtime</td><td>█▁</td></tr><tr><td>eval/samples_per_second</td><td>▁█</td></tr><tr><td>eval/steps_per_second</td><td>▁█</td></tr><tr><td>train/epoch</td><td>▁██</td></tr><tr><td>train/global_step</td><td>▁██</td></tr><tr><td>train/grad_norm</td><td>▁</td></tr><tr><td>train/learning_rate</td><td>▁</td></tr><tr><td>train/loss</td><td>▁</td></tr></table><br/></div><div class=\"wandb-col\"><h3>Run summary:</h3><br/><table class=\"wandb\"><tr><td>eval/Accuracy</td><td>0.7965</td></tr><tr><td>eval/Balanced accuracy</td><td>0.59998</td></tr><tr><td>eval/F1 macro</td><td>0.64891</td></tr><tr><td>eval/F1 micro</td><td>0.7965</td></tr><tr><td>eval/F1 weighted</td><td>0.77349</td></tr><tr><td>eval/loss</td><td>0.56577</td></tr><tr><td>eval/runtime</td><td>1.4942</td></tr><tr><td>eval/samples_per_second</td><td>2259.336</td></tr><tr><td>eval/steps_per_second</td><td>70.939</td></tr><tr><td>train/epoch</td><td>2.0</td></tr><tr><td>train/global_step</td><td>317</td></tr><tr><td>train/grad_norm</td><td>4.81929</td></tr><tr><td>train/learning_rate</td><td>6e-05</td></tr><tr><td>train/loss</td><td>0.7387</td></tr></table><br/></div></div>"
      ],
      "text/plain": [
       "<IPython.core.display.HTML object>"
      ]
     },
     "metadata": {},
     "output_type": "display_data"
    },
    {
     "data": {
      "text/html": [
       " View run <strong style=\"color:#cdcd00\">trial-18</strong> at: <a href='https://wandb.ai/master-2024/MiniLM/runs/rqi4qyxp' target=\"_blank\">https://wandb.ai/master-2024/MiniLM/runs/rqi4qyxp</a><br/>Synced 5 W&B file(s), 0 media file(s), 0 artifact file(s) and 0 other file(s)"
      ],
      "text/plain": [
       "<IPython.core.display.HTML object>"
      ]
     },
     "metadata": {},
     "output_type": "display_data"
    },
    {
     "data": {
      "text/html": [
       "Find logs at: <code>./wandb/run-20240419_202134-rqi4qyxp/logs</code>"
      ],
      "text/plain": [
       "<IPython.core.display.HTML object>"
      ]
     },
     "metadata": {},
     "output_type": "display_data"
    },
    {
     "data": {
      "text/html": [
       "Successfully finished last run (ID:rqi4qyxp). Initializing new run:<br/>"
      ],
      "text/plain": [
       "<IPython.core.display.HTML object>"
      ]
     },
     "metadata": {},
     "output_type": "display_data"
    },
    {
     "data": {
      "text/html": [
       "wandb version 0.16.6 is available!  To upgrade, please run:\n",
       " $ pip install wandb --upgrade"
      ],
      "text/plain": [
       "<IPython.core.display.HTML object>"
      ]
     },
     "metadata": {},
     "output_type": "display_data"
    },
    {
     "data": {
      "text/html": [
       "Tracking run with wandb version 0.16.4"
      ],
      "text/plain": [
       "<IPython.core.display.HTML object>"
      ]
     },
     "metadata": {},
     "output_type": "display_data"
    },
    {
     "data": {
      "text/html": [
       "Run data is saved locally in <code>/net/fs-2/scale/OrionStore/Home/joteklem/Pytorch_models/wandb/run-20240419_202205-fw9bhdz5</code>"
      ],
      "text/plain": [
       "<IPython.core.display.HTML object>"
      ]
     },
     "metadata": {},
     "output_type": "display_data"
    },
    {
     "data": {
      "text/html": [
       "Syncing run <strong><a href='https://wandb.ai/master-2024/MiniLM/runs/fw9bhdz5' target=\"_blank\">trial-19</a></strong> to <a href='https://wandb.ai/master-2024/MiniLM' target=\"_blank\">Weights & Biases</a> (<a href='https://wandb.me/run' target=\"_blank\">docs</a>)<br/>"
      ],
      "text/plain": [
       "<IPython.core.display.HTML object>"
      ]
     },
     "metadata": {},
     "output_type": "display_data"
    },
    {
     "data": {
      "text/html": [
       " View project at <a href='https://wandb.ai/master-2024/MiniLM' target=\"_blank\">https://wandb.ai/master-2024/MiniLM</a>"
      ],
      "text/plain": [
       "<IPython.core.display.HTML object>"
      ]
     },
     "metadata": {},
     "output_type": "display_data"
    },
    {
     "data": {
      "text/html": [
       " View run at <a href='https://wandb.ai/master-2024/MiniLM/runs/fw9bhdz5' target=\"_blank\">https://wandb.ai/master-2024/MiniLM/runs/fw9bhdz5</a>"
      ],
      "text/plain": [
       "<IPython.core.display.HTML object>"
      ]
     },
     "metadata": {},
     "output_type": "display_data"
    },
    {
     "name": "stdout",
     "output_type": "stream",
     "text": [
      "Starting trial 19\n"
     ]
    },
    {
     "name": "stderr",
     "output_type": "stream",
     "text": [
      "/net/fs-2/scale/OrionStore/Scratch/joteklem/MyCondaEnvironments/Python3.11/orion_env/lib/python3.11/site-packages/accelerate/accelerator.py:432: FutureWarning: Passing the following arguments to `Accelerator` is deprecated and will be removed in version 1.0 of Accelerate: dict_keys(['dispatch_batches', 'split_batches', 'even_batches', 'use_seedable_sampler']). Please pass an `accelerate.DataLoaderConfiguration` instead: \n",
      "dataloader_config = DataLoaderConfiguration(dispatch_batches=None, split_batches=False, even_batches=True, use_seedable_sampler=True)\n",
      "  warnings.warn(\n",
      "Detected kernel version 3.10.0, which is below the recommended minimum of 5.5.0; this can cause the process to hang. It is recommended to upgrade the kernel to the minimum version or higher.\n"
     ]
    },
    {
     "data": {
      "text/html": [
       "\n",
       "    <div>\n",
       "      \n",
       "      <progress value='1266' max='1266' style='width:300px; height:20px; vertical-align: middle;'></progress>\n",
       "      [1266/1266 01:10, Epoch 2/2]\n",
       "    </div>\n",
       "    <table border=\"1\" class=\"dataframe\">\n",
       "  <thead>\n",
       " <tr style=\"text-align: left;\">\n",
       "      <th>Epoch</th>\n",
       "      <th>Training Loss</th>\n",
       "      <th>Validation Loss</th>\n",
       "      <th>Accuracy</th>\n",
       "      <th>Balanced accuracy</th>\n",
       "      <th>F1 weighted</th>\n",
       "      <th>F1 macro</th>\n",
       "      <th>F1 micro</th>\n",
       "      <th>Classification report</th>\n",
       "    </tr>\n",
       "  </thead>\n",
       "  <tbody>\n",
       "    <tr>\n",
       "      <td>1</td>\n",
       "      <td>No log</td>\n",
       "      <td>0.559091</td>\n",
       "      <td>0.794431</td>\n",
       "      <td>0.726043</td>\n",
       "      <td>0.798229</td>\n",
       "      <td>0.708200</td>\n",
       "      <td>0.794431</td>\n",
       "      <td>{'0': {'precision': 0.7739130434782608, 'recall': 0.6922222222222222, 'f1-score': 0.730791788856305, 'support': 900.0}, '1': {'precision': 0.8693420438637424, 'recall': 0.8617021276595744, 'f1-score': 0.8655052264808363, 'support': 2162.0}, '2': {'precision': 0.45794392523364486, 'recall': 0.6242038216560509, 'f1-score': 0.5283018867924528, 'support': 314.0}, 'accuracy': 0.794431279620853, 'macro avg': {'precision': 0.7003996708585495, 'recall': 0.7260427238459491, 'f1-score': 0.708199634043198, 'support': 3376.0}, 'weighted avg': {'precision': 0.805637923722515, 'recall': 0.794431279620853, 'f1-score': 0.7982291771549386, 'support': 3376.0}}</td>\n",
       "    </tr>\n",
       "    <tr>\n",
       "      <td>2</td>\n",
       "      <td>0.623800</td>\n",
       "      <td>0.501686</td>\n",
       "      <td>0.820201</td>\n",
       "      <td>0.722261</td>\n",
       "      <td>0.816890</td>\n",
       "      <td>0.737554</td>\n",
       "      <td>0.820201</td>\n",
       "      <td>{'0': {'precision': 0.7729468599033816, 'recall': 0.7111111111111111, 'f1-score': 0.7407407407407407, 'support': 900.0}, '1': {'precision': 0.859402460456942, 'recall': 0.9047178538390379, 'f1-score': 0.8814781433077962, 'support': 2162.0}, '2': {'precision': 0.6360294117647058, 'recall': 0.5509554140127388, 'f1-score': 0.590443686006826, 'support': 314.0}, 'accuracy': 0.8202014218009479, 'macro avg': {'precision': 0.7561262440416764, 'recall': 0.722261459654296, 'f1-score': 0.7375541900184542, 'support': 3376.0}, 'weighted avg': {'precision': 0.8155786518705775, 'recall': 0.8202014218009479, 'f1-score': 0.8168903228389411, 'support': 3376.0}}</td>\n",
       "    </tr>\n",
       "  </tbody>\n",
       "</table><p>"
      ],
      "text/plain": [
       "<IPython.core.display.HTML object>"
      ]
     },
     "metadata": {},
     "output_type": "display_data"
    },
    {
     "data": {
      "text/html": [
       "\n",
       "    <div>\n",
       "      \n",
       "      <progress value='422' max='422' style='width:300px; height:20px; vertical-align: middle;'></progress>\n",
       "      [422/422 00:03]\n",
       "    </div>\n",
       "    "
      ],
      "text/plain": [
       "<IPython.core.display.HTML object>"
      ]
     },
     "metadata": {},
     "output_type": "display_data"
    },
    {
     "name": "stderr",
     "output_type": "stream",
     "text": [
      "/net/fs-2/scale/OrionStore/Scratch/joteklem/MyCondaEnvironments/Python3.11/orion_env/lib/python3.11/site-packages/optuna/trial/_trial.py:499: UserWarning: The reported value is ignored because this `step` 2.0 is already reported.\n",
      "  warnings.warn(\n"
     ]
    },
    {
     "name": "stdout",
     "output_type": "stream",
     "text": [
      "Completed trial 19\n"
     ]
    },
    {
     "data": {
      "text/html": [
       "<style>\n",
       "    table.wandb td:nth-child(1) { padding: 0 10px; text-align: left ; width: auto;} td:nth-child(2) {text-align: left ; width: 100%}\n",
       "    .wandb-row { display: flex; flex-direction: row; flex-wrap: wrap; justify-content: flex-start; width: 100% }\n",
       "    .wandb-col { display: flex; flex-direction: column; flex-basis: 100%; flex: 1; padding: 10px; }\n",
       "    </style>\n",
       "<div class=\"wandb-row\"><div class=\"wandb-col\"><h3>Run history:</h3><br/><table class=\"wandb\"><tr><td>Training loss</td><td>▁</td></tr><tr><td>Validation loss</td><td>▁</td></tr><tr><td>eval/Accuracy</td><td>▁██</td></tr><tr><td>eval/Balanced accuracy</td><td>█▁▁</td></tr><tr><td>eval/F1 macro</td><td>▁██</td></tr><tr><td>eval/F1 micro</td><td>▁██</td></tr><tr><td>eval/F1 weighted</td><td>▁██</td></tr><tr><td>eval/loss</td><td>█▁▁</td></tr><tr><td>eval/runtime</td><td>▆▁█</td></tr><tr><td>eval/samples_per_second</td><td>▃█▁</td></tr><tr><td>eval/steps_per_second</td><td>▃█▁</td></tr><tr><td>macro F1 score</td><td>▁</td></tr><tr><td>train/epoch</td><td>▁████</td></tr><tr><td>train/global_step</td><td>▁██████</td></tr><tr><td>train/grad_norm</td><td>▁</td></tr><tr><td>train/learning_rate</td><td>▁</td></tr><tr><td>train/loss</td><td>▁</td></tr><tr><td>train/total_flos</td><td>▁</td></tr><tr><td>train/train_loss</td><td>▁</td></tr><tr><td>train/train_runtime</td><td>▁</td></tr><tr><td>train/train_samples_per_second</td><td>▁</td></tr><tr><td>train/train_steps_per_second</td><td>▁</td></tr></table><br/></div><div class=\"wandb-col\"><h3>Run summary:</h3><br/><table class=\"wandb\"><tr><td>Training loss</td><td>0.6238</td></tr><tr><td>Validation loss</td><td>0.55909</td></tr><tr><td>eval/Accuracy</td><td>0.8202</td></tr><tr><td>eval/Balanced accuracy</td><td>0.72226</td></tr><tr><td>eval/F1 macro</td><td>0.73755</td></tr><tr><td>eval/F1 micro</td><td>0.8202</td></tr><tr><td>eval/F1 weighted</td><td>0.81689</td></tr><tr><td>eval/loss</td><td>0.50169</td></tr><tr><td>eval/runtime</td><td>3.0941</td></tr><tr><td>eval/samples_per_second</td><td>1091.093</td></tr><tr><td>eval/steps_per_second</td><td>136.387</td></tr><tr><td>macro F1 score</td><td>0.73755</td></tr><tr><td>train/epoch</td><td>2.0</td></tr><tr><td>train/global_step</td><td>1266</td></tr><tr><td>train/grad_norm</td><td>5.32829</td></tr><tr><td>train/learning_rate</td><td>0.0</td></tr><tr><td>train/loss</td><td>0.6238</td></tr><tr><td>train/total_flos</td><td>161965306730448.0</td></tr><tr><td>train/train_loss</td><td>0.62382</td></tr><tr><td>train/train_runtime</td><td>71.0115</td></tr><tr><td>train/train_samples_per_second</td><td>285.25</td></tr><tr><td>train/train_steps_per_second</td><td>17.828</td></tr></table><br/></div></div>"
      ],
      "text/plain": [
       "<IPython.core.display.HTML object>"
      ]
     },
     "metadata": {},
     "output_type": "display_data"
    },
    {
     "data": {
      "text/html": [
       " View run <strong style=\"color:#cdcd00\">trial-19</strong> at: <a href='https://wandb.ai/master-2024/MiniLM/runs/fw9bhdz5' target=\"_blank\">https://wandb.ai/master-2024/MiniLM/runs/fw9bhdz5</a><br/>Synced 5 W&B file(s), 0 media file(s), 0 artifact file(s) and 0 other file(s)"
      ],
      "text/plain": [
       "<IPython.core.display.HTML object>"
      ]
     },
     "metadata": {},
     "output_type": "display_data"
    },
    {
     "data": {
      "text/html": [
       "Find logs at: <code>./wandb/run-20240419_202205-fw9bhdz5/logs</code>"
      ],
      "text/plain": [
       "<IPython.core.display.HTML object>"
      ]
     },
     "metadata": {},
     "output_type": "display_data"
    },
    {
     "name": "stderr",
     "output_type": "stream",
     "text": [
      "[I 2024-04-19 20:23:32,609] Trial 19 finished with value: 0.7375541900184542 and parameters: {'learning_rate': 2.4906866729118945e-05, 'per_device_train_batch_size': 8, 'weight_decay': 0.2632090576891267, 'num_train_epochs': 2, 'warmup_steps': 410}. Best is trial 14 with value: 0.7670199275913578.\n"
     ]
    },
    {
     "data": {
      "text/html": [
       "wandb version 0.16.6 is available!  To upgrade, please run:\n",
       " $ pip install wandb --upgrade"
      ],
      "text/plain": [
       "<IPython.core.display.HTML object>"
      ]
     },
     "metadata": {},
     "output_type": "display_data"
    },
    {
     "data": {
      "text/html": [
       "Tracking run with wandb version 0.16.4"
      ],
      "text/plain": [
       "<IPython.core.display.HTML object>"
      ]
     },
     "metadata": {},
     "output_type": "display_data"
    },
    {
     "data": {
      "text/html": [
       "Run data is saved locally in <code>/net/fs-2/scale/OrionStore/Home/joteklem/Pytorch_models/wandb/run-20240419_202332-6zy1icmk</code>"
      ],
      "text/plain": [
       "<IPython.core.display.HTML object>"
      ]
     },
     "metadata": {},
     "output_type": "display_data"
    },
    {
     "data": {
      "text/html": [
       "Syncing run <strong><a href='https://wandb.ai/master-2024/MiniLM/runs/6zy1icmk' target=\"_blank\">trial-20</a></strong> to <a href='https://wandb.ai/master-2024/MiniLM' target=\"_blank\">Weights & Biases</a> (<a href='https://wandb.me/run' target=\"_blank\">docs</a>)<br/>"
      ],
      "text/plain": [
       "<IPython.core.display.HTML object>"
      ]
     },
     "metadata": {},
     "output_type": "display_data"
    },
    {
     "data": {
      "text/html": [
       " View project at <a href='https://wandb.ai/master-2024/MiniLM' target=\"_blank\">https://wandb.ai/master-2024/MiniLM</a>"
      ],
      "text/plain": [
       "<IPython.core.display.HTML object>"
      ]
     },
     "metadata": {},
     "output_type": "display_data"
    },
    {
     "data": {
      "text/html": [
       " View run at <a href='https://wandb.ai/master-2024/MiniLM/runs/6zy1icmk' target=\"_blank\">https://wandb.ai/master-2024/MiniLM/runs/6zy1icmk</a>"
      ],
      "text/plain": [
       "<IPython.core.display.HTML object>"
      ]
     },
     "metadata": {},
     "output_type": "display_data"
    },
    {
     "name": "stdout",
     "output_type": "stream",
     "text": [
      "Starting trial 20\n"
     ]
    },
    {
     "name": "stderr",
     "output_type": "stream",
     "text": [
      "/net/fs-2/scale/OrionStore/Scratch/joteklem/MyCondaEnvironments/Python3.11/orion_env/lib/python3.11/site-packages/accelerate/accelerator.py:432: FutureWarning: Passing the following arguments to `Accelerator` is deprecated and will be removed in version 1.0 of Accelerate: dict_keys(['dispatch_batches', 'split_batches', 'even_batches', 'use_seedable_sampler']). Please pass an `accelerate.DataLoaderConfiguration` instead: \n",
      "dataloader_config = DataLoaderConfiguration(dispatch_batches=None, split_batches=False, even_batches=True, use_seedable_sampler=True)\n",
      "  warnings.warn(\n",
      "Detected kernel version 3.10.0, which is below the recommended minimum of 5.5.0; this can cause the process to hang. It is recommended to upgrade the kernel to the minimum version or higher.\n"
     ]
    },
    {
     "data": {
      "text/html": [
       "\n",
       "    <div>\n",
       "      \n",
       "      <progress value='318' max='474' style='width:300px; height:20px; vertical-align: middle;'></progress>\n",
       "      [318/474 00:24 < 00:12, 12.85 it/s, Epoch 2/3]\n",
       "    </div>\n",
       "    <table border=\"1\" class=\"dataframe\">\n",
       "  <thead>\n",
       " <tr style=\"text-align: left;\">\n",
       "      <th>Epoch</th>\n",
       "      <th>Training Loss</th>\n",
       "      <th>Validation Loss</th>\n",
       "      <th>Accuracy</th>\n",
       "      <th>Balanced accuracy</th>\n",
       "      <th>F1 weighted</th>\n",
       "      <th>F1 macro</th>\n",
       "      <th>F1 micro</th>\n",
       "      <th>Classification report</th>\n",
       "    </tr>\n",
       "  </thead>\n",
       "  <tbody>\n",
       "    <tr>\n",
       "      <td>0</td>\n",
       "      <td>No log</td>\n",
       "      <td>0.567696</td>\n",
       "      <td>0.807761</td>\n",
       "      <td>0.688208</td>\n",
       "      <td>0.800769</td>\n",
       "      <td>0.711513</td>\n",
       "      <td>0.807761</td>\n",
       "      <td>{'0': {'precision': 0.8338235294117647, 'recall': 0.63, 'f1-score': 0.7177215189873417, 'support': 900.0}, '1': {'precision': 0.8257638315441783, 'recall': 0.9250693802035153, 'f1-score': 0.8726003490401396, 'support': 2162.0}, '2': {'precision': 0.583941605839416, 'recall': 0.5095541401273885, 'f1-score': 0.5442176870748299, 'support': 314.0}, 'accuracy': 0.807760663507109, 'macro avg': {'precision': 0.7478429889317862, 'recall': 0.6882078401103012, 'f1-score': 0.7115131850341037, 'support': 3376.0}, 'weighted avg': {'precision': 0.8054206885375232, 'recall': 0.807760663507109, 'f1-score': 0.8007688612129401, 'support': 3376.0}}</td>\n",
       "    </tr>\n",
       "  </tbody>\n",
       "</table><p>\n",
       "    <div>\n",
       "      \n",
       "      <progress value='106' max='106' style='width:300px; height:20px; vertical-align: middle;'></progress>\n",
       "      [106/106 00:01]\n",
       "    </div>\n",
       "    "
      ],
      "text/plain": [
       "<IPython.core.display.HTML object>"
      ]
     },
     "metadata": {},
     "output_type": "display_data"
    },
    {
     "name": "stderr",
     "output_type": "stream",
     "text": [
      "[I 2024-04-19 20:24:02,840] Trial 20 pruned. \n"
     ]
    },
    {
     "data": {
      "text/html": [
       "Finishing last run (ID:6zy1icmk) before initializing another..."
      ],
      "text/plain": [
       "<IPython.core.display.HTML object>"
      ]
     },
     "metadata": {},
     "output_type": "display_data"
    },
    {
     "data": {
      "text/html": [
       "<style>\n",
       "    table.wandb td:nth-child(1) { padding: 0 10px; text-align: left ; width: auto;} td:nth-child(2) {text-align: left ; width: 100%}\n",
       "    .wandb-row { display: flex; flex-direction: row; flex-wrap: wrap; justify-content: flex-start; width: 100% }\n",
       "    .wandb-col { display: flex; flex-direction: column; flex-basis: 100%; flex: 1; padding: 10px; }\n",
       "    </style>\n",
       "<div class=\"wandb-row\"><div class=\"wandb-col\"><h3>Run history:</h3><br/><table class=\"wandb\"><tr><td>eval/Accuracy</td><td>█▁</td></tr><tr><td>eval/Balanced accuracy</td><td>█▁</td></tr><tr><td>eval/F1 macro</td><td>█▁</td></tr><tr><td>eval/F1 micro</td><td>█▁</td></tr><tr><td>eval/F1 weighted</td><td>█▁</td></tr><tr><td>eval/loss</td><td>▁█</td></tr><tr><td>eval/runtime</td><td>█▁</td></tr><tr><td>eval/samples_per_second</td><td>▁█</td></tr><tr><td>eval/steps_per_second</td><td>▁█</td></tr><tr><td>train/epoch</td><td>▁██</td></tr><tr><td>train/global_step</td><td>▁██</td></tr><tr><td>train/grad_norm</td><td>▁</td></tr><tr><td>train/learning_rate</td><td>▁</td></tr><tr><td>train/loss</td><td>▁</td></tr></table><br/></div><div class=\"wandb-col\"><h3>Run summary:</h3><br/><table class=\"wandb\"><tr><td>eval/Accuracy</td><td>0.74585</td></tr><tr><td>eval/Balanced accuracy</td><td>0.51591</td></tr><tr><td>eval/F1 macro</td><td>0.55673</td></tr><tr><td>eval/F1 micro</td><td>0.74585</td></tr><tr><td>eval/F1 weighted</td><td>0.70219</td></tr><tr><td>eval/loss</td><td>0.69824</td></tr><tr><td>eval/runtime</td><td>1.5056</td></tr><tr><td>eval/samples_per_second</td><td>2242.292</td></tr><tr><td>eval/steps_per_second</td><td>70.404</td></tr><tr><td>train/epoch</td><td>2.0</td></tr><tr><td>train/global_step</td><td>317</td></tr><tr><td>train/grad_norm</td><td>4.86289</td></tr><tr><td>train/learning_rate</td><td>0.00021</td></tr><tr><td>train/loss</td><td>0.6374</td></tr></table><br/></div></div>"
      ],
      "text/plain": [
       "<IPython.core.display.HTML object>"
      ]
     },
     "metadata": {},
     "output_type": "display_data"
    },
    {
     "data": {
      "text/html": [
       " View run <strong style=\"color:#cdcd00\">trial-20</strong> at: <a href='https://wandb.ai/master-2024/MiniLM/runs/6zy1icmk' target=\"_blank\">https://wandb.ai/master-2024/MiniLM/runs/6zy1icmk</a><br/>Synced 5 W&B file(s), 0 media file(s), 0 artifact file(s) and 0 other file(s)"
      ],
      "text/plain": [
       "<IPython.core.display.HTML object>"
      ]
     },
     "metadata": {},
     "output_type": "display_data"
    },
    {
     "data": {
      "text/html": [
       "Find logs at: <code>./wandb/run-20240419_202332-6zy1icmk/logs</code>"
      ],
      "text/plain": [
       "<IPython.core.display.HTML object>"
      ]
     },
     "metadata": {},
     "output_type": "display_data"
    },
    {
     "data": {
      "text/html": [
       "Successfully finished last run (ID:6zy1icmk). Initializing new run:<br/>"
      ],
      "text/plain": [
       "<IPython.core.display.HTML object>"
      ]
     },
     "metadata": {},
     "output_type": "display_data"
    },
    {
     "data": {
      "text/html": [
       "wandb version 0.16.6 is available!  To upgrade, please run:\n",
       " $ pip install wandb --upgrade"
      ],
      "text/plain": [
       "<IPython.core.display.HTML object>"
      ]
     },
     "metadata": {},
     "output_type": "display_data"
    },
    {
     "data": {
      "text/html": [
       "Tracking run with wandb version 0.16.4"
      ],
      "text/plain": [
       "<IPython.core.display.HTML object>"
      ]
     },
     "metadata": {},
     "output_type": "display_data"
    },
    {
     "data": {
      "text/html": [
       "Run data is saved locally in <code>/net/fs-2/scale/OrionStore/Home/joteklem/Pytorch_models/wandb/run-20240419_202402-ts7j88ph</code>"
      ],
      "text/plain": [
       "<IPython.core.display.HTML object>"
      ]
     },
     "metadata": {},
     "output_type": "display_data"
    },
    {
     "data": {
      "text/html": [
       "Syncing run <strong><a href='https://wandb.ai/master-2024/MiniLM/runs/ts7j88ph' target=\"_blank\">trial-21</a></strong> to <a href='https://wandb.ai/master-2024/MiniLM' target=\"_blank\">Weights & Biases</a> (<a href='https://wandb.me/run' target=\"_blank\">docs</a>)<br/>"
      ],
      "text/plain": [
       "<IPython.core.display.HTML object>"
      ]
     },
     "metadata": {},
     "output_type": "display_data"
    },
    {
     "data": {
      "text/html": [
       " View project at <a href='https://wandb.ai/master-2024/MiniLM' target=\"_blank\">https://wandb.ai/master-2024/MiniLM</a>"
      ],
      "text/plain": [
       "<IPython.core.display.HTML object>"
      ]
     },
     "metadata": {},
     "output_type": "display_data"
    },
    {
     "data": {
      "text/html": [
       " View run at <a href='https://wandb.ai/master-2024/MiniLM/runs/ts7j88ph' target=\"_blank\">https://wandb.ai/master-2024/MiniLM/runs/ts7j88ph</a>"
      ],
      "text/plain": [
       "<IPython.core.display.HTML object>"
      ]
     },
     "metadata": {},
     "output_type": "display_data"
    },
    {
     "name": "stderr",
     "output_type": "stream",
     "text": [
      "/net/fs-2/scale/OrionStore/Scratch/joteklem/MyCondaEnvironments/Python3.11/orion_env/lib/python3.11/site-packages/accelerate/accelerator.py:432: FutureWarning: Passing the following arguments to `Accelerator` is deprecated and will be removed in version 1.0 of Accelerate: dict_keys(['dispatch_batches', 'split_batches', 'even_batches', 'use_seedable_sampler']). Please pass an `accelerate.DataLoaderConfiguration` instead: \n",
      "dataloader_config = DataLoaderConfiguration(dispatch_batches=None, split_batches=False, even_batches=True, use_seedable_sampler=True)\n",
      "  warnings.warn(\n",
      "Detected kernel version 3.10.0, which is below the recommended minimum of 5.5.0; this can cause the process to hang. It is recommended to upgrade the kernel to the minimum version or higher.\n"
     ]
    },
    {
     "name": "stdout",
     "output_type": "stream",
     "text": [
      "Starting trial 21\n"
     ]
    },
    {
     "data": {
      "text/html": [
       "\n",
       "    <div>\n",
       "      \n",
       "      <progress value='2532' max='2532' style='width:300px; height:20px; vertical-align: middle;'></progress>\n",
       "      [2532/2532 02:17, Epoch 4/4]\n",
       "    </div>\n",
       "    <table border=\"1\" class=\"dataframe\">\n",
       "  <thead>\n",
       " <tr style=\"text-align: left;\">\n",
       "      <th>Epoch</th>\n",
       "      <th>Training Loss</th>\n",
       "      <th>Validation Loss</th>\n",
       "      <th>Accuracy</th>\n",
       "      <th>Balanced accuracy</th>\n",
       "      <th>F1 weighted</th>\n",
       "      <th>F1 macro</th>\n",
       "      <th>F1 micro</th>\n",
       "      <th>Classification report</th>\n",
       "    </tr>\n",
       "  </thead>\n",
       "  <tbody>\n",
       "    <tr>\n",
       "      <td>1</td>\n",
       "      <td>No log</td>\n",
       "      <td>0.543370</td>\n",
       "      <td>0.788507</td>\n",
       "      <td>0.737085</td>\n",
       "      <td>0.795305</td>\n",
       "      <td>0.706265</td>\n",
       "      <td>0.788507</td>\n",
       "      <td>{'0': {'precision': 0.8232044198895028, 'recall': 0.6622222222222223, 'f1-score': 0.7339901477832512, 'support': 900.0}, '1': {'precision': 0.8655737704918033, 'recall': 0.8547641073080481, 'f1-score': 0.8601349778915524, 'support': 2162.0}, '2': {'precision': 0.42166344294003866, 'recall': 0.6942675159235668, 'f1-score': 0.5246690734055355, 'support': 314.0}, 'accuracy': 0.7885071090047393, 'macro avg': {'precision': 0.7034805444404482, 'recall': 0.7370846151512791, 'f1-score': 0.7062647330267797, 'support': 3376.0}, 'weighted avg': {'precision': 0.8129907555648705, 'recall': 0.7885071090047393, 'f1-score': 0.7953048116871446, 'support': 3376.0}}</td>\n",
       "    </tr>\n",
       "    <tr>\n",
       "      <td>2</td>\n",
       "      <td>0.589000</td>\n",
       "      <td>0.488009</td>\n",
       "      <td>0.825829</td>\n",
       "      <td>0.705088</td>\n",
       "      <td>0.817453</td>\n",
       "      <td>0.736075</td>\n",
       "      <td>0.825829</td>\n",
       "      <td>{'0': {'precision': 0.8528528528528528, 'recall': 0.6311111111111111, 'f1-score': 0.7254150702426564, 'support': 900.0}, '1': {'precision': 0.8344855632370882, 'recall': 0.9491211840888066, 'f1-score': 0.8881194546634928, 'support': 2162.0}, '2': {'precision': 0.6693227091633466, 'recall': 0.535031847133758, 'f1-score': 0.5946902654867257, 'support': 314.0}, 'accuracy': 0.8258293838862559, 'macro avg': {'precision': 0.7855537084177625, 'recall': 0.7050880474445586, 'f1-score': 0.7360749301309584, 'support': 3376.0}, 'weighted avg': {'precision': 0.8240203453683186, 'recall': 0.8258293838862559, 'f1-score': 0.8174527747522791, 'support': 3376.0}}</td>\n",
       "    </tr>\n",
       "    <tr>\n",
       "      <td>3</td>\n",
       "      <td>0.589000</td>\n",
       "      <td>0.484540</td>\n",
       "      <td>0.832346</td>\n",
       "      <td>0.740504</td>\n",
       "      <td>0.827416</td>\n",
       "      <td>0.764404</td>\n",
       "      <td>0.832346</td>\n",
       "      <td>{'0': {'precision': 0.8007915567282322, 'recall': 0.6744444444444444, 'f1-score': 0.7322074788902292, 'support': 900.0}, '1': {'precision': 0.8534409515717927, 'recall': 0.9292321924144311, 'f1-score': 0.8897254207263066, 'support': 2162.0}, '2': {'precision': 0.7348484848484849, 'recall': 0.6178343949044586, 'f1-score': 0.671280276816609, 'support': 314.0}, 'accuracy': 0.832345971563981, 'macro avg': {'precision': 0.7963603310495033, 'recall': 0.7405036772544448, 'f1-score': 0.7644043921443816, 'support': 3376.0}, 'weighted avg': {'precision': 0.8283750481623366, 'recall': 0.832345971563981, 'f1-score': 0.8274156094585001, 'support': 3376.0}}</td>\n",
       "    </tr>\n",
       "    <tr>\n",
       "      <td>4</td>\n",
       "      <td>0.289600</td>\n",
       "      <td>0.550797</td>\n",
       "      <td>0.829384</td>\n",
       "      <td>0.747911</td>\n",
       "      <td>0.826685</td>\n",
       "      <td>0.766786</td>\n",
       "      <td>0.829384</td>\n",
       "      <td>{'0': {'precision': 0.7485380116959064, 'recall': 0.7111111111111111, 'f1-score': 0.7293447293447293, 'support': 900.0}, '1': {'precision': 0.8686421937195931, 'recall': 0.9084181313598519, 'f1-score': 0.88808501017409, 'support': 2162.0}, '2': {'precision': 0.7538461538461538, 'recall': 0.6242038216560509, 'f1-score': 0.6829268292682927, 'support': 314.0}, 'accuracy': 0.8293838862559242, 'macro avg': {'precision': 0.7903421197538845, 'recall': 0.7479110213756713, 'f1-score': 0.7667855229290373, 'support': 3376.0}, 'weighted avg': {'precision': 0.8259467789264717, 'recall': 0.8293838862559242, 'f1-score': 0.8266851518948114, 'support': 3376.0}}</td>\n",
       "    </tr>\n",
       "  </tbody>\n",
       "</table><p>"
      ],
      "text/plain": [
       "<IPython.core.display.HTML object>"
      ]
     },
     "metadata": {},
     "output_type": "display_data"
    },
    {
     "data": {
      "text/html": [
       "\n",
       "    <div>\n",
       "      \n",
       "      <progress value='422' max='422' style='width:300px; height:20px; vertical-align: middle;'></progress>\n",
       "      [422/422 00:03]\n",
       "    </div>\n",
       "    "
      ],
      "text/plain": [
       "<IPython.core.display.HTML object>"
      ]
     },
     "metadata": {},
     "output_type": "display_data"
    },
    {
     "name": "stderr",
     "output_type": "stream",
     "text": [
      "/net/fs-2/scale/OrionStore/Scratch/joteklem/MyCondaEnvironments/Python3.11/orion_env/lib/python3.11/site-packages/optuna/trial/_trial.py:499: UserWarning: The reported value is ignored because this `step` 4.0 is already reported.\n",
      "  warnings.warn(\n"
     ]
    },
    {
     "name": "stdout",
     "output_type": "stream",
     "text": [
      "Completed trial 21\n"
     ]
    },
    {
     "data": {
      "text/html": [
       "<style>\n",
       "    table.wandb td:nth-child(1) { padding: 0 10px; text-align: left ; width: auto;} td:nth-child(2) {text-align: left ; width: 100%}\n",
       "    .wandb-row { display: flex; flex-direction: row; flex-wrap: wrap; justify-content: flex-start; width: 100% }\n",
       "    .wandb-col { display: flex; flex-direction: column; flex-basis: 100%; flex: 1; padding: 10px; }\n",
       "    </style>\n",
       "<div class=\"wandb-row\"><div class=\"wandb-col\"><h3>Run history:</h3><br/><table class=\"wandb\"><tr><td>Training loss</td><td>▁</td></tr><tr><td>Validation loss</td><td>▁</td></tr><tr><td>eval/Accuracy</td><td>▁▇███</td></tr><tr><td>eval/Balanced accuracy</td><td>▆▁▇██</td></tr><tr><td>eval/F1 macro</td><td>▁▄███</td></tr><tr><td>eval/F1 micro</td><td>▁▇███</td></tr><tr><td>eval/F1 weighted</td><td>▁▆███</td></tr><tr><td>eval/loss</td><td>▇▁▁██</td></tr><tr><td>eval/runtime</td><td>▅▂▁▄█</td></tr><tr><td>eval/samples_per_second</td><td>▄▇█▅▁</td></tr><tr><td>eval/steps_per_second</td><td>▄▇█▅▁</td></tr><tr><td>macro F1 score</td><td>▁</td></tr><tr><td>train/epoch</td><td>▁▃▃▆████</td></tr><tr><td>train/global_step</td><td>▁▃▃▆██████</td></tr><tr><td>train/grad_norm</td><td>▁█</td></tr><tr><td>train/learning_rate</td><td>█▁</td></tr><tr><td>train/loss</td><td>█▁</td></tr><tr><td>train/total_flos</td><td>▁</td></tr><tr><td>train/train_loss</td><td>▁</td></tr><tr><td>train/train_runtime</td><td>▁</td></tr><tr><td>train/train_samples_per_second</td><td>▁</td></tr><tr><td>train/train_steps_per_second</td><td>▁</td></tr></table><br/></div><div class=\"wandb-col\"><h3>Run summary:</h3><br/><table class=\"wandb\"><tr><td>Training loss</td><td>0.2896</td></tr><tr><td>Validation loss</td><td>0.48454</td></tr><tr><td>eval/Accuracy</td><td>0.82938</td></tr><tr><td>eval/Balanced accuracy</td><td>0.74791</td></tr><tr><td>eval/F1 macro</td><td>0.76679</td></tr><tr><td>eval/F1 micro</td><td>0.82938</td></tr><tr><td>eval/F1 weighted</td><td>0.82669</td></tr><tr><td>eval/loss</td><td>0.5508</td></tr><tr><td>eval/runtime</td><td>3.0683</td></tr><tr><td>eval/samples_per_second</td><td>1100.301</td></tr><tr><td>eval/steps_per_second</td><td>137.538</td></tr><tr><td>macro F1 score</td><td>0.76679</td></tr><tr><td>train/epoch</td><td>4.0</td></tr><tr><td>train/global_step</td><td>2532</td></tr><tr><td>train/grad_norm</td><td>11.46815</td></tr><tr><td>train/learning_rate</td><td>0.0</td></tr><tr><td>train/loss</td><td>0.2896</td></tr><tr><td>train/total_flos</td><td>323644548151584.0</td></tr><tr><td>train/train_loss</td><td>0.43927</td></tr><tr><td>train/train_runtime</td><td>137.8569</td></tr><tr><td>train/train_samples_per_second</td><td>293.87</td></tr><tr><td>train/train_steps_per_second</td><td>18.367</td></tr></table><br/></div></div>"
      ],
      "text/plain": [
       "<IPython.core.display.HTML object>"
      ]
     },
     "metadata": {},
     "output_type": "display_data"
    },
    {
     "data": {
      "text/html": [
       " View run <strong style=\"color:#cdcd00\">trial-21</strong> at: <a href='https://wandb.ai/master-2024/MiniLM/runs/ts7j88ph' target=\"_blank\">https://wandb.ai/master-2024/MiniLM/runs/ts7j88ph</a><br/>Synced 5 W&B file(s), 0 media file(s), 0 artifact file(s) and 0 other file(s)"
      ],
      "text/plain": [
       "<IPython.core.display.HTML object>"
      ]
     },
     "metadata": {},
     "output_type": "display_data"
    },
    {
     "data": {
      "text/html": [
       "Find logs at: <code>./wandb/run-20240419_202402-ts7j88ph/logs</code>"
      ],
      "text/plain": [
       "<IPython.core.display.HTML object>"
      ]
     },
     "metadata": {},
     "output_type": "display_data"
    },
    {
     "name": "stderr",
     "output_type": "stream",
     "text": [
      "[I 2024-04-19 20:26:37,143] Trial 21 finished with value: 0.7667855229290373 and parameters: {'learning_rate': 6.994586551857769e-05, 'per_device_train_batch_size': 8, 'weight_decay': 0.2599995674942406, 'num_train_epochs': 4, 'warmup_steps': 433}. Best is trial 14 with value: 0.7670199275913578.\n"
     ]
    },
    {
     "data": {
      "text/html": [
       "wandb version 0.16.6 is available!  To upgrade, please run:\n",
       " $ pip install wandb --upgrade"
      ],
      "text/plain": [
       "<IPython.core.display.HTML object>"
      ]
     },
     "metadata": {},
     "output_type": "display_data"
    },
    {
     "data": {
      "text/html": [
       "Tracking run with wandb version 0.16.4"
      ],
      "text/plain": [
       "<IPython.core.display.HTML object>"
      ]
     },
     "metadata": {},
     "output_type": "display_data"
    },
    {
     "data": {
      "text/html": [
       "Run data is saved locally in <code>/net/fs-2/scale/OrionStore/Home/joteklem/Pytorch_models/wandb/run-20240419_202637-abi9huhz</code>"
      ],
      "text/plain": [
       "<IPython.core.display.HTML object>"
      ]
     },
     "metadata": {},
     "output_type": "display_data"
    },
    {
     "data": {
      "text/html": [
       "Syncing run <strong><a href='https://wandb.ai/master-2024/MiniLM/runs/abi9huhz' target=\"_blank\">trial-22</a></strong> to <a href='https://wandb.ai/master-2024/MiniLM' target=\"_blank\">Weights & Biases</a> (<a href='https://wandb.me/run' target=\"_blank\">docs</a>)<br/>"
      ],
      "text/plain": [
       "<IPython.core.display.HTML object>"
      ]
     },
     "metadata": {},
     "output_type": "display_data"
    },
    {
     "data": {
      "text/html": [
       " View project at <a href='https://wandb.ai/master-2024/MiniLM' target=\"_blank\">https://wandb.ai/master-2024/MiniLM</a>"
      ],
      "text/plain": [
       "<IPython.core.display.HTML object>"
      ]
     },
     "metadata": {},
     "output_type": "display_data"
    },
    {
     "data": {
      "text/html": [
       " View run at <a href='https://wandb.ai/master-2024/MiniLM/runs/abi9huhz' target=\"_blank\">https://wandb.ai/master-2024/MiniLM/runs/abi9huhz</a>"
      ],
      "text/plain": [
       "<IPython.core.display.HTML object>"
      ]
     },
     "metadata": {},
     "output_type": "display_data"
    },
    {
     "name": "stderr",
     "output_type": "stream",
     "text": [
      "/net/fs-2/scale/OrionStore/Scratch/joteklem/MyCondaEnvironments/Python3.11/orion_env/lib/python3.11/site-packages/accelerate/accelerator.py:432: FutureWarning: Passing the following arguments to `Accelerator` is deprecated and will be removed in version 1.0 of Accelerate: dict_keys(['dispatch_batches', 'split_batches', 'even_batches', 'use_seedable_sampler']). Please pass an `accelerate.DataLoaderConfiguration` instead: \n",
      "dataloader_config = DataLoaderConfiguration(dispatch_batches=None, split_batches=False, even_batches=True, use_seedable_sampler=True)\n",
      "  warnings.warn(\n",
      "Detected kernel version 3.10.0, which is below the recommended minimum of 5.5.0; this can cause the process to hang. It is recommended to upgrade the kernel to the minimum version or higher.\n"
     ]
    },
    {
     "name": "stdout",
     "output_type": "stream",
     "text": [
      "Starting trial 22\n"
     ]
    },
    {
     "data": {
      "text/html": [
       "\n",
       "    <div>\n",
       "      \n",
       "      <progress value='634' max='2532' style='width:300px; height:20px; vertical-align: middle;'></progress>\n",
       "      [ 634/2532 00:30 < 01:32, 20.60 it/s, Epoch 1/4]\n",
       "    </div>\n",
       "    <table border=\"1\" class=\"dataframe\">\n",
       "  <thead>\n",
       " <tr style=\"text-align: left;\">\n",
       "      <th>Epoch</th>\n",
       "      <th>Training Loss</th>\n",
       "      <th>Validation Loss</th>\n",
       "    </tr>\n",
       "  </thead>\n",
       "  <tbody>\n",
       "  </tbody>\n",
       "</table><p>\n",
       "    <div>\n",
       "      \n",
       "      <progress value='422' max='422' style='width:300px; height:20px; vertical-align: middle;'></progress>\n",
       "      [422/422 00:03]\n",
       "    </div>\n",
       "    "
      ],
      "text/plain": [
       "<IPython.core.display.HTML object>"
      ]
     },
     "metadata": {},
     "output_type": "display_data"
    },
    {
     "name": "stderr",
     "output_type": "stream",
     "text": [
      "[I 2024-04-19 20:27:15,071] Trial 22 pruned. \n"
     ]
    },
    {
     "data": {
      "text/html": [
       "Finishing last run (ID:abi9huhz) before initializing another..."
      ],
      "text/plain": [
       "<IPython.core.display.HTML object>"
      ]
     },
     "metadata": {},
     "output_type": "display_data"
    },
    {
     "data": {
      "text/html": [
       "<style>\n",
       "    table.wandb td:nth-child(1) { padding: 0 10px; text-align: left ; width: auto;} td:nth-child(2) {text-align: left ; width: 100%}\n",
       "    .wandb-row { display: flex; flex-direction: row; flex-wrap: wrap; justify-content: flex-start; width: 100% }\n",
       "    .wandb-col { display: flex; flex-direction: column; flex-basis: 100%; flex: 1; padding: 10px; }\n",
       "    </style>\n",
       "<div class=\"wandb-row\"><div class=\"wandb-col\"><h3>Run history:</h3><br/><table class=\"wandb\"><tr><td>eval/Accuracy</td><td>▁</td></tr><tr><td>eval/Balanced accuracy</td><td>▁</td></tr><tr><td>eval/F1 macro</td><td>▁</td></tr><tr><td>eval/F1 micro</td><td>▁</td></tr><tr><td>eval/F1 weighted</td><td>▁</td></tr><tr><td>eval/loss</td><td>▁</td></tr><tr><td>eval/runtime</td><td>▁</td></tr><tr><td>eval/samples_per_second</td><td>▁</td></tr><tr><td>eval/steps_per_second</td><td>▁</td></tr><tr><td>train/epoch</td><td>▁</td></tr><tr><td>train/global_step</td><td>▁</td></tr></table><br/></div><div class=\"wandb-col\"><h3>Run summary:</h3><br/><table class=\"wandb\"><tr><td>eval/Accuracy</td><td>0.78466</td></tr><tr><td>eval/Balanced accuracy</td><td>0.73638</td></tr><tr><td>eval/F1 macro</td><td>0.70258</td></tr><tr><td>eval/F1 micro</td><td>0.78466</td></tr><tr><td>eval/F1 weighted</td><td>0.79258</td></tr><tr><td>eval/loss</td><td>0.54938</td></tr><tr><td>eval/runtime</td><td>3.0359</td></tr><tr><td>eval/samples_per_second</td><td>1112.015</td></tr><tr><td>eval/steps_per_second</td><td>139.002</td></tr><tr><td>train/epoch</td><td>1.0</td></tr><tr><td>train/global_step</td><td>633</td></tr></table><br/></div></div>"
      ],
      "text/plain": [
       "<IPython.core.display.HTML object>"
      ]
     },
     "metadata": {},
     "output_type": "display_data"
    },
    {
     "data": {
      "text/html": [
       " View run <strong style=\"color:#cdcd00\">trial-22</strong> at: <a href='https://wandb.ai/master-2024/MiniLM/runs/abi9huhz' target=\"_blank\">https://wandb.ai/master-2024/MiniLM/runs/abi9huhz</a><br/>Synced 5 W&B file(s), 0 media file(s), 0 artifact file(s) and 0 other file(s)"
      ],
      "text/plain": [
       "<IPython.core.display.HTML object>"
      ]
     },
     "metadata": {},
     "output_type": "display_data"
    },
    {
     "data": {
      "text/html": [
       "Find logs at: <code>./wandb/run-20240419_202637-abi9huhz/logs</code>"
      ],
      "text/plain": [
       "<IPython.core.display.HTML object>"
      ]
     },
     "metadata": {},
     "output_type": "display_data"
    },
    {
     "data": {
      "text/html": [
       "Successfully finished last run (ID:abi9huhz). Initializing new run:<br/>"
      ],
      "text/plain": [
       "<IPython.core.display.HTML object>"
      ]
     },
     "metadata": {},
     "output_type": "display_data"
    },
    {
     "data": {
      "text/html": [
       "wandb version 0.16.6 is available!  To upgrade, please run:\n",
       " $ pip install wandb --upgrade"
      ],
      "text/plain": [
       "<IPython.core.display.HTML object>"
      ]
     },
     "metadata": {},
     "output_type": "display_data"
    },
    {
     "data": {
      "text/html": [
       "Tracking run with wandb version 0.16.4"
      ],
      "text/plain": [
       "<IPython.core.display.HTML object>"
      ]
     },
     "metadata": {},
     "output_type": "display_data"
    },
    {
     "data": {
      "text/html": [
       "Run data is saved locally in <code>/net/fs-2/scale/OrionStore/Home/joteklem/Pytorch_models/wandb/run-20240419_202715-3xam4efy</code>"
      ],
      "text/plain": [
       "<IPython.core.display.HTML object>"
      ]
     },
     "metadata": {},
     "output_type": "display_data"
    },
    {
     "data": {
      "text/html": [
       "Syncing run <strong><a href='https://wandb.ai/master-2024/MiniLM/runs/3xam4efy' target=\"_blank\">trial-23</a></strong> to <a href='https://wandb.ai/master-2024/MiniLM' target=\"_blank\">Weights & Biases</a> (<a href='https://wandb.me/run' target=\"_blank\">docs</a>)<br/>"
      ],
      "text/plain": [
       "<IPython.core.display.HTML object>"
      ]
     },
     "metadata": {},
     "output_type": "display_data"
    },
    {
     "data": {
      "text/html": [
       " View project at <a href='https://wandb.ai/master-2024/MiniLM' target=\"_blank\">https://wandb.ai/master-2024/MiniLM</a>"
      ],
      "text/plain": [
       "<IPython.core.display.HTML object>"
      ]
     },
     "metadata": {},
     "output_type": "display_data"
    },
    {
     "data": {
      "text/html": [
       " View run at <a href='https://wandb.ai/master-2024/MiniLM/runs/3xam4efy' target=\"_blank\">https://wandb.ai/master-2024/MiniLM/runs/3xam4efy</a>"
      ],
      "text/plain": [
       "<IPython.core.display.HTML object>"
      ]
     },
     "metadata": {},
     "output_type": "display_data"
    },
    {
     "name": "stderr",
     "output_type": "stream",
     "text": [
      "/net/fs-2/scale/OrionStore/Scratch/joteklem/MyCondaEnvironments/Python3.11/orion_env/lib/python3.11/site-packages/accelerate/accelerator.py:432: FutureWarning: Passing the following arguments to `Accelerator` is deprecated and will be removed in version 1.0 of Accelerate: dict_keys(['dispatch_batches', 'split_batches', 'even_batches', 'use_seedable_sampler']). Please pass an `accelerate.DataLoaderConfiguration` instead: \n",
      "dataloader_config = DataLoaderConfiguration(dispatch_batches=None, split_batches=False, even_batches=True, use_seedable_sampler=True)\n",
      "  warnings.warn(\n",
      "Detected kernel version 3.10.0, which is below the recommended minimum of 5.5.0; this can cause the process to hang. It is recommended to upgrade the kernel to the minimum version or higher.\n"
     ]
    },
    {
     "name": "stdout",
     "output_type": "stream",
     "text": [
      "Starting trial 23\n"
     ]
    },
    {
     "data": {
      "text/html": [
       "\n",
       "    <div>\n",
       "      \n",
       "      <progress value='2532' max='2532' style='width:300px; height:20px; vertical-align: middle;'></progress>\n",
       "      [2532/2532 02:20, Epoch 4/4]\n",
       "    </div>\n",
       "    <table border=\"1\" class=\"dataframe\">\n",
       "  <thead>\n",
       " <tr style=\"text-align: left;\">\n",
       "      <th>Epoch</th>\n",
       "      <th>Training Loss</th>\n",
       "      <th>Validation Loss</th>\n",
       "      <th>Accuracy</th>\n",
       "      <th>Balanced accuracy</th>\n",
       "      <th>F1 weighted</th>\n",
       "      <th>F1 macro</th>\n",
       "      <th>F1 micro</th>\n",
       "      <th>Classification report</th>\n",
       "    </tr>\n",
       "  </thead>\n",
       "  <tbody>\n",
       "    <tr>\n",
       "      <td>1</td>\n",
       "      <td>No log</td>\n",
       "      <td>0.497844</td>\n",
       "      <td>0.816055</td>\n",
       "      <td>0.701730</td>\n",
       "      <td>0.809051</td>\n",
       "      <td>0.727439</td>\n",
       "      <td>0.816055</td>\n",
       "      <td>{'0': {'precision': 0.8193456614509246, 'recall': 0.64, 'f1-score': 0.7186525265127884, 'support': 900.0}, '1': {'precision': 0.8337479270315091, 'recall': 0.9301572617946346, 'f1-score': 0.8793178836904241, 'support': 2162.0}, '2': {'precision': 0.6436781609195402, 'recall': 0.535031847133758, 'f1-score': 0.5843478260869565, 'support': 314.0}, 'accuracy': 0.8160545023696683, 'macro avg': {'precision': 0.7655905831339913, 'recall': 0.7017297029761309, 'f1-score': 0.7274394120967229, 'support': 3376.0}, 'weighted avg': {'precision': 0.8122301706388302, 'recall': 0.8160545023696683, 'f1-score': 0.8090514679477223, 'support': 3376.0}}</td>\n",
       "    </tr>\n",
       "    <tr>\n",
       "      <td>2</td>\n",
       "      <td>0.550000</td>\n",
       "      <td>0.467970</td>\n",
       "      <td>0.834419</td>\n",
       "      <td>0.741845</td>\n",
       "      <td>0.830105</td>\n",
       "      <td>0.764059</td>\n",
       "      <td>0.834419</td>\n",
       "      <td>{'0': {'precision': 0.7961783439490446, 'recall': 0.6944444444444444, 'f1-score': 0.7418397626112759, 'support': 900.0}, '1': {'precision': 0.8599656357388317, 'recall': 0.9259944495837188, 'f1-score': 0.8917594654788419, 'support': 2162.0}, '2': {'precision': 0.7224334600760456, 'recall': 0.6050955414012739, 'f1-score': 0.6585788561525131, 'support': 314.0}, 'accuracy': 0.8344194312796208, 'macro avg': {'precision': 0.7928591465879741, 'recall': 0.7418448118098123, 'f1-score': 0.7640593614142103, 'support': 3376.0}, 'weighted avg': {'precision': 0.8301689337930606, 'recall': 0.8344194312796208, 'f1-score': 0.8301047131360465, 'support': 3376.0}}</td>\n",
       "    </tr>\n",
       "    <tr>\n",
       "      <td>3</td>\n",
       "      <td>0.550000</td>\n",
       "      <td>0.523027</td>\n",
       "      <td>0.832642</td>\n",
       "      <td>0.732711</td>\n",
       "      <td>0.827782</td>\n",
       "      <td>0.760414</td>\n",
       "      <td>0.832642</td>\n",
       "      <td>{'0': {'precision': 0.7833125778331258, 'recall': 0.6988888888888889, 'f1-score': 0.738696418085731, 'support': 900.0}, '1': {'precision': 0.8573875802997859, 'recall': 0.9259944495837188, 'f1-score': 0.8903713586835669, 'support': 2162.0}, '2': {'precision': 0.7563025210084033, 'recall': 0.5732484076433121, 'f1-score': 0.6521739130434783, 'support': 314.0}, 'accuracy': 0.8326421800947867, 'macro avg': {'precision': 0.7990008930471051, 'recall': 0.7327105820386399, 'f1-score': 0.7604138966042587, 'support': 3376.0}, 'weighted avg': {'precision': 0.8282382287483971, 'recall': 0.8326421800947867, 'f1-score': 0.827782068260273, 'support': 3376.0}}</td>\n",
       "    </tr>\n",
       "    <tr>\n",
       "      <td>4</td>\n",
       "      <td>0.242400</td>\n",
       "      <td>0.652324</td>\n",
       "      <td>0.819905</td>\n",
       "      <td>0.746047</td>\n",
       "      <td>0.818697</td>\n",
       "      <td>0.760028</td>\n",
       "      <td>0.819905</td>\n",
       "      <td>{'0': {'precision': 0.7135016465422612, 'recall': 0.7222222222222222, 'f1-score': 0.7178354500276091, 'support': 900.0}, '1': {'precision': 0.8727850976828714, 'recall': 0.8885291396854764, 'f1-score': 0.880586752234701, 'support': 2162.0}, '2': {'precision': 0.7462121212121212, 'recall': 0.6273885350318471, 'f1-score': 0.6816608996539792, 'support': 314.0}, 'accuracy': 0.8199052132701422, 'macro avg': {'precision': 0.7774996218124178, 'recall': 0.7460466323131819, 'f1-score': 0.760027700638763, 'support': 3376.0}, 'weighted avg': {'precision': 0.8185496057876213, 'recall': 0.8199052132701422, 'f1-score': 0.8186972706894612, 'support': 3376.0}}</td>\n",
       "    </tr>\n",
       "  </tbody>\n",
       "</table><p>"
      ],
      "text/plain": [
       "<IPython.core.display.HTML object>"
      ]
     },
     "metadata": {},
     "output_type": "display_data"
    },
    {
     "data": {
      "text/html": [
       "\n",
       "    <div>\n",
       "      \n",
       "      <progress value='422' max='422' style='width:300px; height:20px; vertical-align: middle;'></progress>\n",
       "      [422/422 00:03]\n",
       "    </div>\n",
       "    "
      ],
      "text/plain": [
       "<IPython.core.display.HTML object>"
      ]
     },
     "metadata": {},
     "output_type": "display_data"
    },
    {
     "name": "stderr",
     "output_type": "stream",
     "text": [
      "/net/fs-2/scale/OrionStore/Scratch/joteklem/MyCondaEnvironments/Python3.11/orion_env/lib/python3.11/site-packages/optuna/trial/_trial.py:499: UserWarning: The reported value is ignored because this `step` 4.0 is already reported.\n",
      "  warnings.warn(\n"
     ]
    },
    {
     "name": "stdout",
     "output_type": "stream",
     "text": [
      "Completed trial 23\n"
     ]
    },
    {
     "data": {
      "text/html": [
       "<style>\n",
       "    table.wandb td:nth-child(1) { padding: 0 10px; text-align: left ; width: auto;} td:nth-child(2) {text-align: left ; width: 100%}\n",
       "    .wandb-row { display: flex; flex-direction: row; flex-wrap: wrap; justify-content: flex-start; width: 100% }\n",
       "    .wandb-col { display: flex; flex-direction: column; flex-basis: 100%; flex: 1; padding: 10px; }\n",
       "    </style>\n",
       "<div class=\"wandb-row\"><div class=\"wandb-col\"><h3>Run history:</h3><br/><table class=\"wandb\"><tr><td>Training loss</td><td>▁</td></tr><tr><td>Validation loss</td><td>▁</td></tr><tr><td>eval/Accuracy</td><td>▁█▇▂▂</td></tr><tr><td>eval/Balanced accuracy</td><td>▁▇▆██</td></tr><tr><td>eval/F1 macro</td><td>▁█▇▇▇</td></tr><tr><td>eval/F1 micro</td><td>▁█▇▂▂</td></tr><tr><td>eval/F1 weighted</td><td>▁█▇▄▄</td></tr><tr><td>eval/loss</td><td>▂▁▃██</td></tr><tr><td>eval/runtime</td><td>▂▁▃▅█</td></tr><tr><td>eval/samples_per_second</td><td>▇█▆▄▁</td></tr><tr><td>eval/steps_per_second</td><td>▇█▆▄▁</td></tr><tr><td>macro F1 score</td><td>▁</td></tr><tr><td>train/epoch</td><td>▁▃▃▆████</td></tr><tr><td>train/global_step</td><td>▁▃▃▆██████</td></tr><tr><td>train/grad_norm</td><td>▁█</td></tr><tr><td>train/learning_rate</td><td>█▁</td></tr><tr><td>train/loss</td><td>█▁</td></tr><tr><td>train/total_flos</td><td>▁</td></tr><tr><td>train/train_loss</td><td>▁</td></tr><tr><td>train/train_runtime</td><td>▁</td></tr><tr><td>train/train_samples_per_second</td><td>▁</td></tr><tr><td>train/train_steps_per_second</td><td>▁</td></tr></table><br/></div><div class=\"wandb-col\"><h3>Run summary:</h3><br/><table class=\"wandb\"><tr><td>Training loss</td><td>0.2424</td></tr><tr><td>Validation loss</td><td>0.52303</td></tr><tr><td>eval/Accuracy</td><td>0.81991</td></tr><tr><td>eval/Balanced accuracy</td><td>0.74605</td></tr><tr><td>eval/F1 macro</td><td>0.76003</td></tr><tr><td>eval/F1 micro</td><td>0.81991</td></tr><tr><td>eval/F1 weighted</td><td>0.8187</td></tr><tr><td>eval/loss</td><td>0.65232</td></tr><tr><td>eval/runtime</td><td>3.1195</td></tr><tr><td>eval/samples_per_second</td><td>1082.217</td></tr><tr><td>eval/steps_per_second</td><td>135.277</td></tr><tr><td>macro F1 score</td><td>0.76003</td></tr><tr><td>train/epoch</td><td>4.0</td></tr><tr><td>train/global_step</td><td>2532</td></tr><tr><td>train/grad_norm</td><td>8.04571</td></tr><tr><td>train/learning_rate</td><td>0.0</td></tr><tr><td>train/loss</td><td>0.2424</td></tr><tr><td>train/total_flos</td><td>323644548151584.0</td></tr><tr><td>train/train_loss</td><td>0.39621</td></tr><tr><td>train/train_runtime</td><td>140.5437</td></tr><tr><td>train/train_samples_per_second</td><td>288.252</td></tr><tr><td>train/train_steps_per_second</td><td>18.016</td></tr></table><br/></div></div>"
      ],
      "text/plain": [
       "<IPython.core.display.HTML object>"
      ]
     },
     "metadata": {},
     "output_type": "display_data"
    },
    {
     "data": {
      "text/html": [
       " View run <strong style=\"color:#cdcd00\">trial-23</strong> at: <a href='https://wandb.ai/master-2024/MiniLM/runs/3xam4efy' target=\"_blank\">https://wandb.ai/master-2024/MiniLM/runs/3xam4efy</a><br/>Synced 5 W&B file(s), 0 media file(s), 0 artifact file(s) and 0 other file(s)"
      ],
      "text/plain": [
       "<IPython.core.display.HTML object>"
      ]
     },
     "metadata": {},
     "output_type": "display_data"
    },
    {
     "data": {
      "text/html": [
       "Find logs at: <code>./wandb/run-20240419_202715-3xam4efy/logs</code>"
      ],
      "text/plain": [
       "<IPython.core.display.HTML object>"
      ]
     },
     "metadata": {},
     "output_type": "display_data"
    },
    {
     "name": "stderr",
     "output_type": "stream",
     "text": [
      "[I 2024-04-19 20:29:56,082] Trial 23 finished with value: 0.760027700638763 and parameters: {'learning_rate': 0.00011757613866940442, 'per_device_train_batch_size': 8, 'weight_decay': 0.21674467267156836, 'num_train_epochs': 4, 'warmup_steps': 383}. Best is trial 14 with value: 0.7670199275913578.\n"
     ]
    },
    {
     "data": {
      "text/html": [
       "wandb version 0.16.6 is available!  To upgrade, please run:\n",
       " $ pip install wandb --upgrade"
      ],
      "text/plain": [
       "<IPython.core.display.HTML object>"
      ]
     },
     "metadata": {},
     "output_type": "display_data"
    },
    {
     "data": {
      "text/html": [
       "Tracking run with wandb version 0.16.4"
      ],
      "text/plain": [
       "<IPython.core.display.HTML object>"
      ]
     },
     "metadata": {},
     "output_type": "display_data"
    },
    {
     "data": {
      "text/html": [
       "Run data is saved locally in <code>/net/fs-2/scale/OrionStore/Home/joteklem/Pytorch_models/wandb/run-20240419_202956-u6jjmw7t</code>"
      ],
      "text/plain": [
       "<IPython.core.display.HTML object>"
      ]
     },
     "metadata": {},
     "output_type": "display_data"
    },
    {
     "data": {
      "text/html": [
       "Syncing run <strong><a href='https://wandb.ai/master-2024/MiniLM/runs/u6jjmw7t' target=\"_blank\">trial-24</a></strong> to <a href='https://wandb.ai/master-2024/MiniLM' target=\"_blank\">Weights & Biases</a> (<a href='https://wandb.me/run' target=\"_blank\">docs</a>)<br/>"
      ],
      "text/plain": [
       "<IPython.core.display.HTML object>"
      ]
     },
     "metadata": {},
     "output_type": "display_data"
    },
    {
     "data": {
      "text/html": [
       " View project at <a href='https://wandb.ai/master-2024/MiniLM' target=\"_blank\">https://wandb.ai/master-2024/MiniLM</a>"
      ],
      "text/plain": [
       "<IPython.core.display.HTML object>"
      ]
     },
     "metadata": {},
     "output_type": "display_data"
    },
    {
     "data": {
      "text/html": [
       " View run at <a href='https://wandb.ai/master-2024/MiniLM/runs/u6jjmw7t' target=\"_blank\">https://wandb.ai/master-2024/MiniLM/runs/u6jjmw7t</a>"
      ],
      "text/plain": [
       "<IPython.core.display.HTML object>"
      ]
     },
     "metadata": {},
     "output_type": "display_data"
    },
    {
     "name": "stderr",
     "output_type": "stream",
     "text": [
      "/net/fs-2/scale/OrionStore/Scratch/joteklem/MyCondaEnvironments/Python3.11/orion_env/lib/python3.11/site-packages/accelerate/accelerator.py:432: FutureWarning: Passing the following arguments to `Accelerator` is deprecated and will be removed in version 1.0 of Accelerate: dict_keys(['dispatch_batches', 'split_batches', 'even_batches', 'use_seedable_sampler']). Please pass an `accelerate.DataLoaderConfiguration` instead: \n",
      "dataloader_config = DataLoaderConfiguration(dispatch_batches=None, split_batches=False, even_batches=True, use_seedable_sampler=True)\n",
      "  warnings.warn(\n",
      "Detected kernel version 3.10.0, which is below the recommended minimum of 5.5.0; this can cause the process to hang. It is recommended to upgrade the kernel to the minimum version or higher.\n"
     ]
    },
    {
     "name": "stdout",
     "output_type": "stream",
     "text": [
      "Starting trial 24\n"
     ]
    },
    {
     "data": {
      "text/html": [
       "\n",
       "    <div>\n",
       "      \n",
       "      <progress value='2532' max='2532' style='width:300px; height:20px; vertical-align: middle;'></progress>\n",
       "      [2532/2532 02:28, Epoch 4/4]\n",
       "    </div>\n",
       "    <table border=\"1\" class=\"dataframe\">\n",
       "  <thead>\n",
       " <tr style=\"text-align: left;\">\n",
       "      <th>Epoch</th>\n",
       "      <th>Training Loss</th>\n",
       "      <th>Validation Loss</th>\n",
       "      <th>Accuracy</th>\n",
       "      <th>Balanced accuracy</th>\n",
       "      <th>F1 weighted</th>\n",
       "      <th>F1 macro</th>\n",
       "      <th>F1 micro</th>\n",
       "      <th>Classification report</th>\n",
       "    </tr>\n",
       "  </thead>\n",
       "  <tbody>\n",
       "    <tr>\n",
       "      <td>1</td>\n",
       "      <td>No log</td>\n",
       "      <td>0.521980</td>\n",
       "      <td>0.805687</td>\n",
       "      <td>0.729475</td>\n",
       "      <td>0.805738</td>\n",
       "      <td>0.719817</td>\n",
       "      <td>0.805687</td>\n",
       "      <td>{'0': {'precision': 0.8367346938775511, 'recall': 0.6377777777777778, 'f1-score': 0.7238335435056747, 'support': 900.0}, '1': {'precision': 0.8543133802816901, 'recall': 0.8977798334875116, 'f1-score': 0.875507442489851, 'support': 2162.0}, '2': {'precision': 0.4904306220095694, 'recall': 0.6528662420382165, 'f1-score': 0.5601092896174864, 'support': 314.0}, 'accuracy': 0.8056872037914692, 'macro avg': {'precision': 0.7271595653896036, 'recall': 0.7294746177678353, 'f1-score': 0.7198167585376707, 'support': 3376.0}, 'weighted avg': {'precision': 0.8157825734507745, 'recall': 0.8056872037914692, 'f1-score': 0.805738032215064, 'support': 3376.0}}</td>\n",
       "    </tr>\n",
       "    <tr>\n",
       "      <td>2</td>\n",
       "      <td>0.579000</td>\n",
       "      <td>0.466784</td>\n",
       "      <td>0.829680</td>\n",
       "      <td>0.748233</td>\n",
       "      <td>0.826605</td>\n",
       "      <td>0.754766</td>\n",
       "      <td>0.829680</td>\n",
       "      <td>{'0': {'precision': 0.826027397260274, 'recall': 0.67, 'f1-score': 0.739877300613497, 'support': 900.0}, '1': {'precision': 0.8616515348032858, 'recall': 0.9218316373728029, 'f1-score': 0.8907262569832401, 'support': 2162.0}, '2': {'precision': 0.6156156156156156, 'recall': 0.6528662420382165, 'f1-score': 0.633693972179289, 'support': 314.0}, 'accuracy': 0.8296800947867299, 'macro avg': {'precision': 0.7677648492263917, 'recall': 0.7482326264703398, 'f1-score': 0.7547658432586754, 'support': 3376.0}, 'weighted avg': {'precision': 0.82927090612626, 'recall': 0.8296800947867299, 'f1-score': 0.8266053452056308, 'support': 3376.0}}</td>\n",
       "    </tr>\n",
       "    <tr>\n",
       "      <td>3</td>\n",
       "      <td>0.579000</td>\n",
       "      <td>0.472435</td>\n",
       "      <td>0.837085</td>\n",
       "      <td>0.740812</td>\n",
       "      <td>0.832095</td>\n",
       "      <td>0.766397</td>\n",
       "      <td>0.837085</td>\n",
       "      <td>{'0': {'precision': 0.8025974025974026, 'recall': 0.6866666666666666, 'f1-score': 0.7401197604790419, 'support': 900.0}, '1': {'precision': 0.8587834963845172, 'recall': 0.9338575393154487, 'f1-score': 0.894748504320851, 'support': 2162.0}, '2': {'precision': 0.7411764705882353, 'recall': 0.6019108280254777, 'f1-score': 0.664323374340949, 'support': 314.0}, 'accuracy': 0.8370853080568721, 'macro avg': {'precision': 0.8008524565233851, 'recall': 0.740811678002531, 'f1-score': 0.7663972130469473, 'support': 3376.0}, 'weighted avg': {'precision': 0.8328664079637722, 'recall': 0.8370853080568721, 'f1-score': 0.8320946653779251, 'support': 3376.0}}</td>\n",
       "    </tr>\n",
       "    <tr>\n",
       "      <td>4</td>\n",
       "      <td>0.308000</td>\n",
       "      <td>0.524655</td>\n",
       "      <td>0.828791</td>\n",
       "      <td>0.759444</td>\n",
       "      <td>0.827741</td>\n",
       "      <td>0.768048</td>\n",
       "      <td>0.828791</td>\n",
       "      <td>{'0': {'precision': 0.7382022471910112, 'recall': 0.73, 'f1-score': 0.7340782122905027, 'support': 900.0}, '1': {'precision': 0.880400181900864, 'recall': 0.8954671600370028, 'f1-score': 0.8878697546434304, 'support': 2162.0}, '2': {'precision': 0.7142857142857143, 'recall': 0.6528662420382165, 'f1-score': 0.6821963394342762, 'support': 314.0}, 'accuracy': 0.8287914691943128, 'macro avg': {'precision': 0.7776293811258631, 'recall': 0.7594444673584064, 'f1-score': 0.7680481021227364, 'support': 3376.0}, 'weighted avg': {'precision': 0.8270417446763306, 'recall': 0.8287914691943128, 'f1-score': 0.8277412473883033, 'support': 3376.0}}</td>\n",
       "    </tr>\n",
       "  </tbody>\n",
       "</table><p>"
      ],
      "text/plain": [
       "<IPython.core.display.HTML object>"
      ]
     },
     "metadata": {},
     "output_type": "display_data"
    },
    {
     "data": {
      "text/html": [
       "\n",
       "    <div>\n",
       "      \n",
       "      <progress value='422' max='422' style='width:300px; height:20px; vertical-align: middle;'></progress>\n",
       "      [422/422 00:03]\n",
       "    </div>\n",
       "    "
      ],
      "text/plain": [
       "<IPython.core.display.HTML object>"
      ]
     },
     "metadata": {},
     "output_type": "display_data"
    },
    {
     "name": "stderr",
     "output_type": "stream",
     "text": [
      "/net/fs-2/scale/OrionStore/Scratch/joteklem/MyCondaEnvironments/Python3.11/orion_env/lib/python3.11/site-packages/optuna/trial/_trial.py:499: UserWarning: The reported value is ignored because this `step` 4.0 is already reported.\n",
      "  warnings.warn(\n"
     ]
    },
    {
     "name": "stdout",
     "output_type": "stream",
     "text": [
      "Completed trial 24\n"
     ]
    },
    {
     "data": {
      "text/html": [
       "<style>\n",
       "    table.wandb td:nth-child(1) { padding: 0 10px; text-align: left ; width: auto;} td:nth-child(2) {text-align: left ; width: 100%}\n",
       "    .wandb-row { display: flex; flex-direction: row; flex-wrap: wrap; justify-content: flex-start; width: 100% }\n",
       "    .wandb-col { display: flex; flex-direction: column; flex-basis: 100%; flex: 1; padding: 10px; }\n",
       "    </style>\n",
       "<div class=\"wandb-row\"><div class=\"wandb-col\"><h3>Run history:</h3><br/><table class=\"wandb\"><tr><td>Training loss</td><td>▁</td></tr><tr><td>Validation loss</td><td>▁</td></tr><tr><td>eval/Accuracy</td><td>▁▆█▆▆</td></tr><tr><td>eval/Balanced accuracy</td><td>▁▅▄██</td></tr><tr><td>eval/F1 macro</td><td>▁▆███</td></tr><tr><td>eval/F1 micro</td><td>▁▆█▆▆</td></tr><tr><td>eval/F1 weighted</td><td>▁▇█▇▇</td></tr><tr><td>eval/loss</td><td>█▁▂██</td></tr><tr><td>eval/runtime</td><td>▃▁▅█▆</td></tr><tr><td>eval/samples_per_second</td><td>▆█▄▁▃</td></tr><tr><td>eval/steps_per_second</td><td>▆█▄▁▃</td></tr><tr><td>macro F1 score</td><td>▁</td></tr><tr><td>train/epoch</td><td>▁▃▃▆████</td></tr><tr><td>train/global_step</td><td>▁▃▃▆██████</td></tr><tr><td>train/grad_norm</td><td>█▁</td></tr><tr><td>train/learning_rate</td><td>█▁</td></tr><tr><td>train/loss</td><td>█▁</td></tr><tr><td>train/total_flos</td><td>▁</td></tr><tr><td>train/train_loss</td><td>▁</td></tr><tr><td>train/train_runtime</td><td>▁</td></tr><tr><td>train/train_samples_per_second</td><td>▁</td></tr><tr><td>train/train_steps_per_second</td><td>▁</td></tr></table><br/></div><div class=\"wandb-col\"><h3>Run summary:</h3><br/><table class=\"wandb\"><tr><td>Training loss</td><td>0.308</td></tr><tr><td>Validation loss</td><td>0.47243</td></tr><tr><td>eval/Accuracy</td><td>0.82879</td></tr><tr><td>eval/Balanced accuracy</td><td>0.75944</td></tr><tr><td>eval/F1 macro</td><td>0.76805</td></tr><tr><td>eval/F1 micro</td><td>0.82879</td></tr><tr><td>eval/F1 weighted</td><td>0.82774</td></tr><tr><td>eval/loss</td><td>0.52466</td></tr><tr><td>eval/runtime</td><td>3.0722</td></tr><tr><td>eval/samples_per_second</td><td>1098.888</td></tr><tr><td>eval/steps_per_second</td><td>137.361</td></tr><tr><td>macro F1 score</td><td>0.76805</td></tr><tr><td>train/epoch</td><td>4.0</td></tr><tr><td>train/global_step</td><td>2532</td></tr><tr><td>train/grad_norm</td><td>7.56894</td></tr><tr><td>train/learning_rate</td><td>0.0</td></tr><tr><td>train/loss</td><td>0.308</td></tr><tr><td>train/total_flos</td><td>323644548151584.0</td></tr><tr><td>train/train_loss</td><td>0.4435</td></tr><tr><td>train/train_runtime</td><td>148.3574</td></tr><tr><td>train/train_samples_per_second</td><td>273.07</td></tr><tr><td>train/train_steps_per_second</td><td>17.067</td></tr></table><br/></div></div>"
      ],
      "text/plain": [
       "<IPython.core.display.HTML object>"
      ]
     },
     "metadata": {},
     "output_type": "display_data"
    },
    {
     "data": {
      "text/html": [
       " View run <strong style=\"color:#cdcd00\">trial-24</strong> at: <a href='https://wandb.ai/master-2024/MiniLM/runs/u6jjmw7t' target=\"_blank\">https://wandb.ai/master-2024/MiniLM/runs/u6jjmw7t</a><br/>Synced 5 W&B file(s), 0 media file(s), 0 artifact file(s) and 0 other file(s)"
      ],
      "text/plain": [
       "<IPython.core.display.HTML object>"
      ]
     },
     "metadata": {},
     "output_type": "display_data"
    },
    {
     "data": {
      "text/html": [
       "Find logs at: <code>./wandb/run-20240419_202956-u6jjmw7t/logs</code>"
      ],
      "text/plain": [
       "<IPython.core.display.HTML object>"
      ]
     },
     "metadata": {},
     "output_type": "display_data"
    },
    {
     "name": "stderr",
     "output_type": "stream",
     "text": [
      "[I 2024-04-19 20:32:35,240] Trial 24 finished with value: 0.7680481021227364 and parameters: {'learning_rate': 5.1417286327885825e-05, 'per_device_train_batch_size': 8, 'weight_decay': 0.2693919671456978, 'num_train_epochs': 4, 'warmup_steps': 324}. Best is trial 24 with value: 0.7680481021227364.\n"
     ]
    },
    {
     "data": {
      "text/html": [
       "wandb version 0.16.6 is available!  To upgrade, please run:\n",
       " $ pip install wandb --upgrade"
      ],
      "text/plain": [
       "<IPython.core.display.HTML object>"
      ]
     },
     "metadata": {},
     "output_type": "display_data"
    },
    {
     "data": {
      "text/html": [
       "Tracking run with wandb version 0.16.4"
      ],
      "text/plain": [
       "<IPython.core.display.HTML object>"
      ]
     },
     "metadata": {},
     "output_type": "display_data"
    },
    {
     "data": {
      "text/html": [
       "Run data is saved locally in <code>/net/fs-2/scale/OrionStore/Home/joteklem/Pytorch_models/wandb/run-20240419_203235-jzpfdl92</code>"
      ],
      "text/plain": [
       "<IPython.core.display.HTML object>"
      ]
     },
     "metadata": {},
     "output_type": "display_data"
    },
    {
     "data": {
      "text/html": [
       "Syncing run <strong><a href='https://wandb.ai/master-2024/MiniLM/runs/jzpfdl92' target=\"_blank\">trial-25</a></strong> to <a href='https://wandb.ai/master-2024/MiniLM' target=\"_blank\">Weights & Biases</a> (<a href='https://wandb.me/run' target=\"_blank\">docs</a>)<br/>"
      ],
      "text/plain": [
       "<IPython.core.display.HTML object>"
      ]
     },
     "metadata": {},
     "output_type": "display_data"
    },
    {
     "data": {
      "text/html": [
       " View project at <a href='https://wandb.ai/master-2024/MiniLM' target=\"_blank\">https://wandb.ai/master-2024/MiniLM</a>"
      ],
      "text/plain": [
       "<IPython.core.display.HTML object>"
      ]
     },
     "metadata": {},
     "output_type": "display_data"
    },
    {
     "data": {
      "text/html": [
       " View run at <a href='https://wandb.ai/master-2024/MiniLM/runs/jzpfdl92' target=\"_blank\">https://wandb.ai/master-2024/MiniLM/runs/jzpfdl92</a>"
      ],
      "text/plain": [
       "<IPython.core.display.HTML object>"
      ]
     },
     "metadata": {},
     "output_type": "display_data"
    },
    {
     "name": "stdout",
     "output_type": "stream",
     "text": [
      "Starting trial 25\n"
     ]
    },
    {
     "name": "stderr",
     "output_type": "stream",
     "text": [
      "/net/fs-2/scale/OrionStore/Scratch/joteklem/MyCondaEnvironments/Python3.11/orion_env/lib/python3.11/site-packages/accelerate/accelerator.py:432: FutureWarning: Passing the following arguments to `Accelerator` is deprecated and will be removed in version 1.0 of Accelerate: dict_keys(['dispatch_batches', 'split_batches', 'even_batches', 'use_seedable_sampler']). Please pass an `accelerate.DataLoaderConfiguration` instead: \n",
      "dataloader_config = DataLoaderConfiguration(dispatch_batches=None, split_batches=False, even_batches=True, use_seedable_sampler=True)\n",
      "  warnings.warn(\n",
      "Detected kernel version 3.10.0, which is below the recommended minimum of 5.5.0; this can cause the process to hang. It is recommended to upgrade the kernel to the minimum version or higher.\n"
     ]
    },
    {
     "data": {
      "text/html": [
       "\n",
       "    <div>\n",
       "      \n",
       "      <progress value='2532' max='2532' style='width:300px; height:20px; vertical-align: middle;'></progress>\n",
       "      [2532/2532 02:28, Epoch 4/4]\n",
       "    </div>\n",
       "    <table border=\"1\" class=\"dataframe\">\n",
       "  <thead>\n",
       " <tr style=\"text-align: left;\">\n",
       "      <th>Epoch</th>\n",
       "      <th>Training Loss</th>\n",
       "      <th>Validation Loss</th>\n",
       "      <th>Accuracy</th>\n",
       "      <th>Balanced accuracy</th>\n",
       "      <th>F1 weighted</th>\n",
       "      <th>F1 macro</th>\n",
       "      <th>F1 micro</th>\n",
       "      <th>Classification report</th>\n",
       "    </tr>\n",
       "  </thead>\n",
       "  <tbody>\n",
       "    <tr>\n",
       "      <td>1</td>\n",
       "      <td>No log</td>\n",
       "      <td>0.544966</td>\n",
       "      <td>0.801244</td>\n",
       "      <td>0.717360</td>\n",
       "      <td>0.801617</td>\n",
       "      <td>0.713290</td>\n",
       "      <td>0.801244</td>\n",
       "      <td>{'0': {'precision': 0.7772215269086358, 'recall': 0.69, 'f1-score': 0.7310182460270747, 'support': 900.0}, '1': {'precision': 0.8590149118843199, 'recall': 0.8792784458834413, 'f1-score': 0.8690285714285714, 'support': 2162.0}, '2': {'precision': 0.5027472527472527, 'recall': 0.5828025477707006, 'f1-score': 0.5398230088495576, 'support': 314.0}, 'accuracy': 0.8012440758293838, 'macro avg': {'precision': 0.7129945638467361, 'recall': 0.7173603312180473, 'f1-score': 0.7132899421017346, 'support': 3376.0}, 'weighted avg': {'precision': 0.8040735340859921, 'recall': 0.8012440758293838, 'f1-score': 0.8016174815259773, 'support': 3376.0}}</td>\n",
       "    </tr>\n",
       "    <tr>\n",
       "      <td>2</td>\n",
       "      <td>0.617700</td>\n",
       "      <td>0.500959</td>\n",
       "      <td>0.824348</td>\n",
       "      <td>0.736295</td>\n",
       "      <td>0.820513</td>\n",
       "      <td>0.745895</td>\n",
       "      <td>0.824348</td>\n",
       "      <td>{'0': {'precision': 0.829817158931083, 'recall': 0.6555555555555556, 'f1-score': 0.7324643078833022, 'support': 900.0}, '1': {'precision': 0.8529286019666524, 'recall': 0.9227567067530065, 'f1-score': 0.8864696734059098, 'support': 2162.0}, '2': {'precision': 0.6073619631901841, 'recall': 0.6305732484076433, 'f1-score': 0.61875, 'support': 314.0}, 'accuracy': 0.8243483412322274, 'macro avg': {'precision': 0.7633692413626397, 'recall': 0.7362951702387351, 'f1-score': 0.7458946604297373, 'support': 3376.0}, 'weighted avg': {'precision': 0.8239273509868469, 'recall': 0.8243483412322274, 'f1-score': 0.820513273400044, 'support': 3376.0}}</td>\n",
       "    </tr>\n",
       "    <tr>\n",
       "      <td>3</td>\n",
       "      <td>0.617700</td>\n",
       "      <td>0.475020</td>\n",
       "      <td>0.830569</td>\n",
       "      <td>0.742520</td>\n",
       "      <td>0.827114</td>\n",
       "      <td>0.758585</td>\n",
       "      <td>0.830569</td>\n",
       "      <td>{'0': {'precision': 0.792191435768262, 'recall': 0.6988888888888889, 'f1-score': 0.7426210153482881, 'support': 900.0}, '1': {'precision': 0.8621739130434782, 'recall': 0.9172062904717854, 'f1-score': 0.8888390856118333, 'support': 2162.0}, '2': {'precision': 0.6808510638297872, 'recall': 0.6114649681528662, 'f1-score': 0.6442953020134228, 'support': 314.0}, 'accuracy': 0.830568720379147, 'macro avg': {'precision': 0.7784054708805092, 'recall': 0.7425200491711802, 'f1-score': 0.7585851343245147, 'support': 3376.0}, 'weighted avg': {'precision': 0.8266527032683617, 'recall': 0.830568720379147, 'f1-score': 0.827114259993619, 'support': 3376.0}}</td>\n",
       "    </tr>\n",
       "    <tr>\n",
       "      <td>4</td>\n",
       "      <td>0.390200</td>\n",
       "      <td>0.490014</td>\n",
       "      <td>0.829088</td>\n",
       "      <td>0.747544</td>\n",
       "      <td>0.826986</td>\n",
       "      <td>0.763045</td>\n",
       "      <td>0.829088</td>\n",
       "      <td>{'0': {'precision': 0.75, 'recall': 0.7333333333333333, 'f1-score': 0.7415730337078651, 'support': 900.0}, '1': {'precision': 0.8727598566308243, 'recall': 0.9010175763182239, 'f1-score': 0.8866636322257625, 'support': 2162.0}, '2': {'precision': 0.7234848484848485, 'recall': 0.60828025477707, 'f1-score': 0.6608996539792388, 'support': 314.0}, 'accuracy': 0.8290876777251185, 'macro avg': {'precision': 0.782081568371891, 'recall': 0.7475437214762092, 'f1-score': 0.7630454399709555, 'support': 3376.0}, 'weighted avg': {'precision': 0.8261496008471815, 'recall': 0.8290876777251185, 'f1-score': 0.8269860765872802, 'support': 3376.0}}</td>\n",
       "    </tr>\n",
       "  </tbody>\n",
       "</table><p>"
      ],
      "text/plain": [
       "<IPython.core.display.HTML object>"
      ]
     },
     "metadata": {},
     "output_type": "display_data"
    },
    {
     "data": {
      "text/html": [
       "\n",
       "    <div>\n",
       "      \n",
       "      <progress value='422' max='422' style='width:300px; height:20px; vertical-align: middle;'></progress>\n",
       "      [422/422 00:03]\n",
       "    </div>\n",
       "    "
      ],
      "text/plain": [
       "<IPython.core.display.HTML object>"
      ]
     },
     "metadata": {},
     "output_type": "display_data"
    },
    {
     "name": "stderr",
     "output_type": "stream",
     "text": [
      "/net/fs-2/scale/OrionStore/Scratch/joteklem/MyCondaEnvironments/Python3.11/orion_env/lib/python3.11/site-packages/optuna/trial/_trial.py:499: UserWarning: The reported value is ignored because this `step` 4.0 is already reported.\n",
      "  warnings.warn(\n"
     ]
    },
    {
     "name": "stdout",
     "output_type": "stream",
     "text": [
      "Completed trial 25\n"
     ]
    },
    {
     "data": {
      "text/html": [
       "<style>\n",
       "    table.wandb td:nth-child(1) { padding: 0 10px; text-align: left ; width: auto;} td:nth-child(2) {text-align: left ; width: 100%}\n",
       "    .wandb-row { display: flex; flex-direction: row; flex-wrap: wrap; justify-content: flex-start; width: 100% }\n",
       "    .wandb-col { display: flex; flex-direction: column; flex-basis: 100%; flex: 1; padding: 10px; }\n",
       "    </style>\n",
       "<div class=\"wandb-row\"><div class=\"wandb-col\"><h3>Run history:</h3><br/><table class=\"wandb\"><tr><td>Training loss</td><td>▁</td></tr><tr><td>Validation loss</td><td>▁</td></tr><tr><td>eval/Accuracy</td><td>▁▇███</td></tr><tr><td>eval/Balanced accuracy</td><td>▁▅▇██</td></tr><tr><td>eval/F1 macro</td><td>▁▆▇██</td></tr><tr><td>eval/F1 micro</td><td>▁▇███</td></tr><tr><td>eval/F1 weighted</td><td>▁▆███</td></tr><tr><td>eval/loss</td><td>█▄▁▃▃</td></tr><tr><td>eval/runtime</td><td>▁█▅█▇</td></tr><tr><td>eval/samples_per_second</td><td>█▁▄▁▂</td></tr><tr><td>eval/steps_per_second</td><td>█▁▄▁▂</td></tr><tr><td>macro F1 score</td><td>▁</td></tr><tr><td>train/epoch</td><td>▁▃▃▆████</td></tr><tr><td>train/global_step</td><td>▁▃▃▆██████</td></tr><tr><td>train/grad_norm</td><td>▁█</td></tr><tr><td>train/learning_rate</td><td>█▁</td></tr><tr><td>train/loss</td><td>█▁</td></tr><tr><td>train/total_flos</td><td>▁</td></tr><tr><td>train/train_loss</td><td>▁</td></tr><tr><td>train/train_runtime</td><td>▁</td></tr><tr><td>train/train_samples_per_second</td><td>▁</td></tr><tr><td>train/train_steps_per_second</td><td>▁</td></tr></table><br/></div><div class=\"wandb-col\"><h3>Run summary:</h3><br/><table class=\"wandb\"><tr><td>Training loss</td><td>0.3902</td></tr><tr><td>Validation loss</td><td>0.47502</td></tr><tr><td>eval/Accuracy</td><td>0.82909</td></tr><tr><td>eval/Balanced accuracy</td><td>0.74754</td></tr><tr><td>eval/F1 macro</td><td>0.76305</td></tr><tr><td>eval/F1 micro</td><td>0.82909</td></tr><tr><td>eval/F1 weighted</td><td>0.82699</td></tr><tr><td>eval/loss</td><td>0.49001</td></tr><tr><td>eval/runtime</td><td>3.0867</td></tr><tr><td>eval/samples_per_second</td><td>1093.739</td></tr><tr><td>eval/steps_per_second</td><td>136.717</td></tr><tr><td>macro F1 score</td><td>0.76305</td></tr><tr><td>train/epoch</td><td>4.0</td></tr><tr><td>train/global_step</td><td>2532</td></tr><tr><td>train/grad_norm</td><td>6.16626</td></tr><tr><td>train/learning_rate</td><td>0.0</td></tr><tr><td>train/loss</td><td>0.3902</td></tr><tr><td>train/total_flos</td><td>323644548151584.0</td></tr><tr><td>train/train_loss</td><td>0.50394</td></tr><tr><td>train/train_runtime</td><td>148.8512</td></tr><tr><td>train/train_samples_per_second</td><td>272.164</td></tr><tr><td>train/train_steps_per_second</td><td>17.01</td></tr></table><br/></div></div>"
      ],
      "text/plain": [
       "<IPython.core.display.HTML object>"
      ]
     },
     "metadata": {},
     "output_type": "display_data"
    },
    {
     "data": {
      "text/html": [
       " View run <strong style=\"color:#cdcd00\">trial-25</strong> at: <a href='https://wandb.ai/master-2024/MiniLM/runs/jzpfdl92' target=\"_blank\">https://wandb.ai/master-2024/MiniLM/runs/jzpfdl92</a><br/>Synced 5 W&B file(s), 0 media file(s), 0 artifact file(s) and 0 other file(s)"
      ],
      "text/plain": [
       "<IPython.core.display.HTML object>"
      ]
     },
     "metadata": {},
     "output_type": "display_data"
    },
    {
     "data": {
      "text/html": [
       "Find logs at: <code>./wandb/run-20240419_203235-jzpfdl92/logs</code>"
      ],
      "text/plain": [
       "<IPython.core.display.HTML object>"
      ]
     },
     "metadata": {},
     "output_type": "display_data"
    },
    {
     "name": "stderr",
     "output_type": "stream",
     "text": [
      "[I 2024-04-19 20:35:17,364] Trial 25 finished with value: 0.7630454399709555 and parameters: {'learning_rate': 2.2067200166950876e-05, 'per_device_train_batch_size': 8, 'weight_decay': 0.2546242819175082, 'num_train_epochs': 4, 'warmup_steps': 307}. Best is trial 24 with value: 0.7680481021227364.\n"
     ]
    },
    {
     "data": {
      "text/html": [
       "wandb version 0.16.6 is available!  To upgrade, please run:\n",
       " $ pip install wandb --upgrade"
      ],
      "text/plain": [
       "<IPython.core.display.HTML object>"
      ]
     },
     "metadata": {},
     "output_type": "display_data"
    },
    {
     "data": {
      "text/html": [
       "Tracking run with wandb version 0.16.4"
      ],
      "text/plain": [
       "<IPython.core.display.HTML object>"
      ]
     },
     "metadata": {},
     "output_type": "display_data"
    },
    {
     "data": {
      "text/html": [
       "Run data is saved locally in <code>/net/fs-2/scale/OrionStore/Home/joteklem/Pytorch_models/wandb/run-20240419_203517-31pcuogu</code>"
      ],
      "text/plain": [
       "<IPython.core.display.HTML object>"
      ]
     },
     "metadata": {},
     "output_type": "display_data"
    },
    {
     "data": {
      "text/html": [
       "Syncing run <strong><a href='https://wandb.ai/master-2024/MiniLM/runs/31pcuogu' target=\"_blank\">trial-26</a></strong> to <a href='https://wandb.ai/master-2024/MiniLM' target=\"_blank\">Weights & Biases</a> (<a href='https://wandb.me/run' target=\"_blank\">docs</a>)<br/>"
      ],
      "text/plain": [
       "<IPython.core.display.HTML object>"
      ]
     },
     "metadata": {},
     "output_type": "display_data"
    },
    {
     "data": {
      "text/html": [
       " View project at <a href='https://wandb.ai/master-2024/MiniLM' target=\"_blank\">https://wandb.ai/master-2024/MiniLM</a>"
      ],
      "text/plain": [
       "<IPython.core.display.HTML object>"
      ]
     },
     "metadata": {},
     "output_type": "display_data"
    },
    {
     "data": {
      "text/html": [
       " View run at <a href='https://wandb.ai/master-2024/MiniLM/runs/31pcuogu' target=\"_blank\">https://wandb.ai/master-2024/MiniLM/runs/31pcuogu</a>"
      ],
      "text/plain": [
       "<IPython.core.display.HTML object>"
      ]
     },
     "metadata": {},
     "output_type": "display_data"
    },
    {
     "name": "stdout",
     "output_type": "stream",
     "text": [
      "Starting trial 26\n"
     ]
    },
    {
     "name": "stderr",
     "output_type": "stream",
     "text": [
      "/net/fs-2/scale/OrionStore/Scratch/joteklem/MyCondaEnvironments/Python3.11/orion_env/lib/python3.11/site-packages/accelerate/accelerator.py:432: FutureWarning: Passing the following arguments to `Accelerator` is deprecated and will be removed in version 1.0 of Accelerate: dict_keys(['dispatch_batches', 'split_batches', 'even_batches', 'use_seedable_sampler']). Please pass an `accelerate.DataLoaderConfiguration` instead: \n",
      "dataloader_config = DataLoaderConfiguration(dispatch_batches=None, split_batches=False, even_batches=True, use_seedable_sampler=True)\n",
      "  warnings.warn(\n",
      "Detected kernel version 3.10.0, which is below the recommended minimum of 5.5.0; this can cause the process to hang. It is recommended to upgrade the kernel to the minimum version or higher.\n"
     ]
    },
    {
     "data": {
      "text/html": [
       "\n",
       "    <div>\n",
       "      \n",
       "      <progress value='2532' max='2532' style='width:300px; height:20px; vertical-align: middle;'></progress>\n",
       "      [2532/2532 02:25, Epoch 4/4]\n",
       "    </div>\n",
       "    <table border=\"1\" class=\"dataframe\">\n",
       "  <thead>\n",
       " <tr style=\"text-align: left;\">\n",
       "      <th>Epoch</th>\n",
       "      <th>Training Loss</th>\n",
       "      <th>Validation Loss</th>\n",
       "      <th>Accuracy</th>\n",
       "      <th>Balanced accuracy</th>\n",
       "      <th>F1 weighted</th>\n",
       "      <th>F1 macro</th>\n",
       "      <th>F1 micro</th>\n",
       "      <th>Classification report</th>\n",
       "    </tr>\n",
       "  </thead>\n",
       "  <tbody>\n",
       "    <tr>\n",
       "      <td>1</td>\n",
       "      <td>No log</td>\n",
       "      <td>0.508793</td>\n",
       "      <td>0.817239</td>\n",
       "      <td>0.725732</td>\n",
       "      <td>0.815137</td>\n",
       "      <td>0.733945</td>\n",
       "      <td>0.817239</td>\n",
       "      <td>{'0': {'precision': 0.765906362545018, 'recall': 0.7088888888888889, 'f1-score': 0.7362954414310444, 'support': 900.0}, '1': {'precision': 0.8654188948306596, 'recall': 0.8982423681776133, 'f1-score': 0.8815251929187472, 'support': 2162.0}, '2': {'precision': 0.5986622073578596, 'recall': 0.5700636942675159, 'f1-score': 0.5840130505709624, 'support': 314.0}, 'accuracy': 0.817239336492891, 'macro avg': {'precision': 0.7433291549111791, 'recall': 0.7257316504446726, 'f1-score': 0.7339445616402513, 'support': 3376.0}, 'weighted avg': {'precision': 0.8140791795097068, 'recall': 0.817239336492891, 'f1-score': 0.8151372814743939, 'support': 3376.0}}</td>\n",
       "    </tr>\n",
       "    <tr>\n",
       "      <td>2</td>\n",
       "      <td>0.604700</td>\n",
       "      <td>0.465229</td>\n",
       "      <td>0.830569</td>\n",
       "      <td>0.737892</td>\n",
       "      <td>0.825760</td>\n",
       "      <td>0.754928</td>\n",
       "      <td>0.830569</td>\n",
       "      <td>{'0': {'precision': 0.8345021037868162, 'recall': 0.6611111111111111, 'f1-score': 0.7377557346559207, 'support': 900.0}, '1': {'precision': 0.851585623678647, 'recall': 0.9315448658649399, 'f1-score': 0.8897724762535897, 'support': 2162.0}, '2': {'precision': 0.6543624161073825, 'recall': 0.6210191082802548, 'f1-score': 0.6372549019607844, 'support': 314.0}, 'accuracy': 0.830568720379147, 'macro avg': {'precision': 0.7801500478576152, 'recall': 0.7378916950854352, 'f1-score': 0.7549277042900983, 'support': 3376.0}, 'weighted avg': {'precision': 0.8286877400648955, 'recall': 0.830568720379147, 'f1-score': 0.8257601581949869, 'support': 3376.0}}</td>\n",
       "    </tr>\n",
       "    <tr>\n",
       "      <td>3</td>\n",
       "      <td>0.604700</td>\n",
       "      <td>0.464422</td>\n",
       "      <td>0.833827</td>\n",
       "      <td>0.748710</td>\n",
       "      <td>0.830414</td>\n",
       "      <td>0.766204</td>\n",
       "      <td>0.833827</td>\n",
       "      <td>{'0': {'precision': 0.7922403003754693, 'recall': 0.7033333333333334, 'f1-score': 0.7451442024720424, 'support': 900.0}, '1': {'precision': 0.8634782608695653, 'recall': 0.9185938945420906, 'f1-score': 0.8901837740923353, 'support': 2162.0}, '2': {'precision': 0.7075812274368231, 'recall': 0.6242038216560509, 'f1-score': 0.6632825719120136, 'support': 314.0}, 'accuracy': 0.8338270142180095, 'macro avg': {'precision': 0.7877665962272858, 'recall': 0.748710349843825, 'f1-score': 0.766203516158797, 'support': 3376.0}, 'weighted avg': {'precision': 0.8299871966093261, 'recall': 0.8338270142180095, 'f1-score': 0.83041404899077, 'support': 3376.0}}</td>\n",
       "    </tr>\n",
       "    <tr>\n",
       "      <td>4</td>\n",
       "      <td>0.336700</td>\n",
       "      <td>0.497268</td>\n",
       "      <td>0.829680</td>\n",
       "      <td>0.761722</td>\n",
       "      <td>0.828441</td>\n",
       "      <td>0.770059</td>\n",
       "      <td>0.829680</td>\n",
       "      <td>{'0': {'precision': 0.7525773195876289, 'recall': 0.73, 'f1-score': 0.7411167512690355, 'support': 900.0}, '1': {'precision': 0.8760741745816373, 'recall': 0.8959296947271045, 'f1-score': 0.8858906928881776, 'support': 2162.0}, '2': {'precision': 0.708904109589041, 'recall': 0.6592356687898089, 'f1-score': 0.683168316831683, 'support': 314.0}, 'accuracy': 0.8296800947867299, 'macro avg': {'precision': 0.779185201252769, 'recall': 0.7617217878389712, 'f1-score': 0.7700585869962987, 'support': 3376.0}, 'weighted avg': {'precision': 0.8276030342077384, 'recall': 0.8296800947867299, 'f1-score': 0.8284406414844551, 'support': 3376.0}}</td>\n",
       "    </tr>\n",
       "  </tbody>\n",
       "</table><p>"
      ],
      "text/plain": [
       "<IPython.core.display.HTML object>"
      ]
     },
     "metadata": {},
     "output_type": "display_data"
    },
    {
     "data": {
      "text/html": [
       "\n",
       "    <div>\n",
       "      \n",
       "      <progress value='422' max='422' style='width:300px; height:20px; vertical-align: middle;'></progress>\n",
       "      [422/422 00:03]\n",
       "    </div>\n",
       "    "
      ],
      "text/plain": [
       "<IPython.core.display.HTML object>"
      ]
     },
     "metadata": {},
     "output_type": "display_data"
    },
    {
     "name": "stderr",
     "output_type": "stream",
     "text": [
      "/net/fs-2/scale/OrionStore/Scratch/joteklem/MyCondaEnvironments/Python3.11/orion_env/lib/python3.11/site-packages/optuna/trial/_trial.py:499: UserWarning: The reported value is ignored because this `step` 4.0 is already reported.\n",
      "  warnings.warn(\n"
     ]
    },
    {
     "name": "stdout",
     "output_type": "stream",
     "text": [
      "Completed trial 26\n"
     ]
    },
    {
     "data": {
      "text/html": [
       "<style>\n",
       "    table.wandb td:nth-child(1) { padding: 0 10px; text-align: left ; width: auto;} td:nth-child(2) {text-align: left ; width: 100%}\n",
       "    .wandb-row { display: flex; flex-direction: row; flex-wrap: wrap; justify-content: flex-start; width: 100% }\n",
       "    .wandb-col { display: flex; flex-direction: column; flex-basis: 100%; flex: 1; padding: 10px; }\n",
       "    </style>\n",
       "<div class=\"wandb-row\"><div class=\"wandb-col\"><h3>Run history:</h3><br/><table class=\"wandb\"><tr><td>Training loss</td><td>▁</td></tr><tr><td>Validation loss</td><td>▁</td></tr><tr><td>eval/Accuracy</td><td>▁▇█▆▆</td></tr><tr><td>eval/Balanced accuracy</td><td>▁▃▅██</td></tr><tr><td>eval/F1 macro</td><td>▁▅▇██</td></tr><tr><td>eval/F1 micro</td><td>▁▇█▆▆</td></tr><tr><td>eval/F1 weighted</td><td>▁▆█▇▇</td></tr><tr><td>eval/loss</td><td>█▁▁▆▆</td></tr><tr><td>eval/runtime</td><td>▅█▁▄█</td></tr><tr><td>eval/samples_per_second</td><td>▄▁█▅▁</td></tr><tr><td>eval/steps_per_second</td><td>▄▁█▅▁</td></tr><tr><td>macro F1 score</td><td>▁</td></tr><tr><td>train/epoch</td><td>▁▃▃▆████</td></tr><tr><td>train/global_step</td><td>▁▃▃▆██████</td></tr><tr><td>train/grad_norm</td><td>█▁</td></tr><tr><td>train/learning_rate</td><td>█▁</td></tr><tr><td>train/loss</td><td>█▁</td></tr><tr><td>train/total_flos</td><td>▁</td></tr><tr><td>train/train_loss</td><td>▁</td></tr><tr><td>train/train_runtime</td><td>▁</td></tr><tr><td>train/train_samples_per_second</td><td>▁</td></tr><tr><td>train/train_steps_per_second</td><td>▁</td></tr></table><br/></div><div class=\"wandb-col\"><h3>Run summary:</h3><br/><table class=\"wandb\"><tr><td>Training loss</td><td>0.3367</td></tr><tr><td>Validation loss</td><td>0.46442</td></tr><tr><td>eval/Accuracy</td><td>0.82968</td></tr><tr><td>eval/Balanced accuracy</td><td>0.76172</td></tr><tr><td>eval/F1 macro</td><td>0.77006</td></tr><tr><td>eval/F1 micro</td><td>0.82968</td></tr><tr><td>eval/F1 weighted</td><td>0.82844</td></tr><tr><td>eval/loss</td><td>0.49727</td></tr><tr><td>eval/runtime</td><td>3.1223</td></tr><tr><td>eval/samples_per_second</td><td>1081.246</td></tr><tr><td>eval/steps_per_second</td><td>135.156</td></tr><tr><td>macro F1 score</td><td>0.77006</td></tr><tr><td>train/epoch</td><td>4.0</td></tr><tr><td>train/global_step</td><td>2532</td></tr><tr><td>train/grad_norm</td><td>5.5042</td></tr><tr><td>train/learning_rate</td><td>0.0</td></tr><tr><td>train/loss</td><td>0.3367</td></tr><tr><td>train/total_flos</td><td>323644548151584.0</td></tr><tr><td>train/train_loss</td><td>0.47069</td></tr><tr><td>train/train_runtime</td><td>145.8214</td></tr><tr><td>train/train_samples_per_second</td><td>277.819</td></tr><tr><td>train/train_steps_per_second</td><td>17.364</td></tr></table><br/></div></div>"
      ],
      "text/plain": [
       "<IPython.core.display.HTML object>"
      ]
     },
     "metadata": {},
     "output_type": "display_data"
    },
    {
     "data": {
      "text/html": [
       " View run <strong style=\"color:#cdcd00\">trial-26</strong> at: <a href='https://wandb.ai/master-2024/MiniLM/runs/31pcuogu' target=\"_blank\">https://wandb.ai/master-2024/MiniLM/runs/31pcuogu</a><br/>Synced 5 W&B file(s), 0 media file(s), 0 artifact file(s) and 0 other file(s)"
      ],
      "text/plain": [
       "<IPython.core.display.HTML object>"
      ]
     },
     "metadata": {},
     "output_type": "display_data"
    },
    {
     "data": {
      "text/html": [
       "Find logs at: <code>./wandb/run-20240419_203517-31pcuogu/logs</code>"
      ],
      "text/plain": [
       "<IPython.core.display.HTML object>"
      ]
     },
     "metadata": {},
     "output_type": "display_data"
    },
    {
     "name": "stderr",
     "output_type": "stream",
     "text": [
      "[I 2024-04-19 20:37:54,254] Trial 26 finished with value: 0.7700585869962987 and parameters: {'learning_rate': 3.9959252655512656e-05, 'per_device_train_batch_size': 8, 'weight_decay': 0.22129692732804296, 'num_train_epochs': 4, 'warmup_steps': 415}. Best is trial 26 with value: 0.7700585869962987.\n"
     ]
    },
    {
     "data": {
      "text/html": [
       "wandb version 0.16.6 is available!  To upgrade, please run:\n",
       " $ pip install wandb --upgrade"
      ],
      "text/plain": [
       "<IPython.core.display.HTML object>"
      ]
     },
     "metadata": {},
     "output_type": "display_data"
    },
    {
     "data": {
      "text/html": [
       "Tracking run with wandb version 0.16.4"
      ],
      "text/plain": [
       "<IPython.core.display.HTML object>"
      ]
     },
     "metadata": {},
     "output_type": "display_data"
    },
    {
     "data": {
      "text/html": [
       "Run data is saved locally in <code>/net/fs-2/scale/OrionStore/Home/joteklem/Pytorch_models/wandb/run-20240419_203754-m0b38rj7</code>"
      ],
      "text/plain": [
       "<IPython.core.display.HTML object>"
      ]
     },
     "metadata": {},
     "output_type": "display_data"
    },
    {
     "data": {
      "text/html": [
       "Syncing run <strong><a href='https://wandb.ai/master-2024/MiniLM/runs/m0b38rj7' target=\"_blank\">trial-27</a></strong> to <a href='https://wandb.ai/master-2024/MiniLM' target=\"_blank\">Weights & Biases</a> (<a href='https://wandb.me/run' target=\"_blank\">docs</a>)<br/>"
      ],
      "text/plain": [
       "<IPython.core.display.HTML object>"
      ]
     },
     "metadata": {},
     "output_type": "display_data"
    },
    {
     "data": {
      "text/html": [
       " View project at <a href='https://wandb.ai/master-2024/MiniLM' target=\"_blank\">https://wandb.ai/master-2024/MiniLM</a>"
      ],
      "text/plain": [
       "<IPython.core.display.HTML object>"
      ]
     },
     "metadata": {},
     "output_type": "display_data"
    },
    {
     "data": {
      "text/html": [
       " View run at <a href='https://wandb.ai/master-2024/MiniLM/runs/m0b38rj7' target=\"_blank\">https://wandb.ai/master-2024/MiniLM/runs/m0b38rj7</a>"
      ],
      "text/plain": [
       "<IPython.core.display.HTML object>"
      ]
     },
     "metadata": {},
     "output_type": "display_data"
    },
    {
     "name": "stdout",
     "output_type": "stream",
     "text": [
      "Starting trial 27\n"
     ]
    },
    {
     "name": "stderr",
     "output_type": "stream",
     "text": [
      "/net/fs-2/scale/OrionStore/Scratch/joteklem/MyCondaEnvironments/Python3.11/orion_env/lib/python3.11/site-packages/accelerate/accelerator.py:432: FutureWarning: Passing the following arguments to `Accelerator` is deprecated and will be removed in version 1.0 of Accelerate: dict_keys(['dispatch_batches', 'split_batches', 'even_batches', 'use_seedable_sampler']). Please pass an `accelerate.DataLoaderConfiguration` instead: \n",
      "dataloader_config = DataLoaderConfiguration(dispatch_batches=None, split_batches=False, even_batches=True, use_seedable_sampler=True)\n",
      "  warnings.warn(\n",
      "Detected kernel version 3.10.0, which is below the recommended minimum of 5.5.0; this can cause the process to hang. It is recommended to upgrade the kernel to the minimum version or higher.\n"
     ]
    },
    {
     "data": {
      "text/html": [
       "\n",
       "    <div>\n",
       "      \n",
       "      <progress value='2532' max='2532' style='width:300px; height:20px; vertical-align: middle;'></progress>\n",
       "      [2532/2532 02:25, Epoch 4/4]\n",
       "    </div>\n",
       "    <table border=\"1\" class=\"dataframe\">\n",
       "  <thead>\n",
       " <tr style=\"text-align: left;\">\n",
       "      <th>Epoch</th>\n",
       "      <th>Training Loss</th>\n",
       "      <th>Validation Loss</th>\n",
       "      <th>Accuracy</th>\n",
       "      <th>Balanced accuracy</th>\n",
       "      <th>F1 weighted</th>\n",
       "      <th>F1 macro</th>\n",
       "      <th>F1 micro</th>\n",
       "      <th>Classification report</th>\n",
       "    </tr>\n",
       "  </thead>\n",
       "  <tbody>\n",
       "    <tr>\n",
       "      <td>1</td>\n",
       "      <td>No log</td>\n",
       "      <td>0.518726</td>\n",
       "      <td>0.812500</td>\n",
       "      <td>0.677149</td>\n",
       "      <td>0.802417</td>\n",
       "      <td>0.711885</td>\n",
       "      <td>0.812500</td>\n",
       "      <td>{'0': {'precision': 0.8257016248153619, 'recall': 0.6211111111111111, 'f1-score': 0.7089410272669625, 'support': 900.0}, '1': {'precision': 0.8223657650383528, 'recall': 0.9421831637372803, 'f1-score': 0.878206510023712, 'support': 2162.0}, '2': {'precision': 0.6621621621621622, 'recall': 0.4681528662420382, 'f1-score': 0.5485074626865672, 'support': 314.0}, 'accuracy': 0.8125, 'macro avg': {'precision': 0.7700765173386257, 'recall': 0.6771490470301432, 'f1-score': 0.7118849999924138, 'support': 3376.0}, 'weighted avg': {'precision': 0.8083546105644738, 'recall': 0.8125, 'f1-score': 0.8024172815447611, 'support': 3376.0}}</td>\n",
       "    </tr>\n",
       "    <tr>\n",
       "      <td>2</td>\n",
       "      <td>0.592800</td>\n",
       "      <td>0.466895</td>\n",
       "      <td>0.829976</td>\n",
       "      <td>0.715547</td>\n",
       "      <td>0.822900</td>\n",
       "      <td>0.747608</td>\n",
       "      <td>0.829976</td>\n",
       "      <td>{'0': {'precision': 0.8282548476454293, 'recall': 0.6644444444444444, 'f1-score': 0.7373612823674477, 'support': 900.0}, '1': {'precision': 0.8415390980554406, 'recall': 0.940795559666975, 'f1-score': 0.8884035815680279, 'support': 2162.0}, '2': {'precision': 0.7172995780590717, 'recall': 0.5414012738853503, 'f1-score': 0.617059891107078, 'support': 314.0}, 'accuracy': 0.8299763033175356, 'macro avg': {'precision': 0.7956978412533139, 'recall': 0.7155470926655899, 'f1-score': 0.7476082516808512, 'support': 3376.0}, 'weighted avg': {'precision': 0.8264422276028723, 'recall': 0.8299763033175356, 'f1-score': 0.8229000305949058, 'support': 3376.0}}</td>\n",
       "    </tr>\n",
       "    <tr>\n",
       "      <td>3</td>\n",
       "      <td>0.592800</td>\n",
       "      <td>0.474654</td>\n",
       "      <td>0.834716</td>\n",
       "      <td>0.740571</td>\n",
       "      <td>0.829631</td>\n",
       "      <td>0.765554</td>\n",
       "      <td>0.834716</td>\n",
       "      <td>{'0': {'precision': 0.8122503328894807, 'recall': 0.6777777777777778, 'f1-score': 0.7389460932768019, 'support': 900.0}, '1': {'precision': 0.853152771900127, 'recall': 0.9324699352451434, 'f1-score': 0.891049723756906, 'support': 2162.0}, '2': {'precision': 0.732824427480916, 'recall': 0.6114649681528662, 'f1-score': 0.6666666666666666, 'support': 314.0}, 'accuracy': 0.8347156398104265, 'macro avg': {'precision': 0.7994091774235078, 'recall': 0.7405708937252625, 'f1-score': 0.7655541612334581, 'support': 3376.0}, 'weighted avg': {'precision': 0.8310570090869711, 'recall': 0.8347156398104265, 'f1-score': 0.8296310189706416, 'support': 3376.0}}</td>\n",
       "    </tr>\n",
       "    <tr>\n",
       "      <td>4</td>\n",
       "      <td>0.323400</td>\n",
       "      <td>0.504327</td>\n",
       "      <td>0.829088</td>\n",
       "      <td>0.750135</td>\n",
       "      <td>0.826886</td>\n",
       "      <td>0.765755</td>\n",
       "      <td>0.829088</td>\n",
       "      <td>{'0': {'precision': 0.7517321016166282, 'recall': 0.7233333333333334, 'f1-score': 0.7372593431483578, 'support': 900.0}, '1': {'precision': 0.8706512042818911, 'recall': 0.902867715078631, 'f1-score': 0.8864668483197093, 'support': 2162.0}, '2': {'precision': 0.7313432835820896, 'recall': 0.6242038216560509, 'f1-score': 0.6735395189003436, 'support': 314.0}, 'accuracy': 0.8290876777251185, 'macro avg': {'precision': 0.7845755298268696, 'recall': 0.7501349566893384, 'f1-score': 0.7657552367894702, 'support': 3376.0}, 'weighted avg': {'precision': 0.8259918797858975, 'recall': 0.8290876777251185, 'f1-score': 0.8268857061123939, 'support': 3376.0}}</td>\n",
       "    </tr>\n",
       "  </tbody>\n",
       "</table><p>"
      ],
      "text/plain": [
       "<IPython.core.display.HTML object>"
      ]
     },
     "metadata": {},
     "output_type": "display_data"
    },
    {
     "data": {
      "text/html": [
       "\n",
       "    <div>\n",
       "      \n",
       "      <progress value='422' max='422' style='width:300px; height:20px; vertical-align: middle;'></progress>\n",
       "      [422/422 00:03]\n",
       "    </div>\n",
       "    "
      ],
      "text/plain": [
       "<IPython.core.display.HTML object>"
      ]
     },
     "metadata": {},
     "output_type": "display_data"
    },
    {
     "name": "stderr",
     "output_type": "stream",
     "text": [
      "/net/fs-2/scale/OrionStore/Scratch/joteklem/MyCondaEnvironments/Python3.11/orion_env/lib/python3.11/site-packages/optuna/trial/_trial.py:499: UserWarning: The reported value is ignored because this `step` 4.0 is already reported.\n",
      "  warnings.warn(\n"
     ]
    },
    {
     "name": "stdout",
     "output_type": "stream",
     "text": [
      "Completed trial 27\n"
     ]
    },
    {
     "data": {
      "text/html": [
       "<style>\n",
       "    table.wandb td:nth-child(1) { padding: 0 10px; text-align: left ; width: auto;} td:nth-child(2) {text-align: left ; width: 100%}\n",
       "    .wandb-row { display: flex; flex-direction: row; flex-wrap: wrap; justify-content: flex-start; width: 100% }\n",
       "    .wandb-col { display: flex; flex-direction: column; flex-basis: 100%; flex: 1; padding: 10px; }\n",
       "    </style>\n",
       "<div class=\"wandb-row\"><div class=\"wandb-col\"><h3>Run history:</h3><br/><table class=\"wandb\"><tr><td>Training loss</td><td>▁</td></tr><tr><td>Validation loss</td><td>▁</td></tr><tr><td>eval/Accuracy</td><td>▁▇█▆▆</td></tr><tr><td>eval/Balanced accuracy</td><td>▁▅▇██</td></tr><tr><td>eval/F1 macro</td><td>▁▆███</td></tr><tr><td>eval/F1 micro</td><td>▁▇█▆▆</td></tr><tr><td>eval/F1 weighted</td><td>▁▆█▇▇</td></tr><tr><td>eval/loss</td><td>█▁▂▆▆</td></tr><tr><td>eval/runtime</td><td>██▆▁▅</td></tr><tr><td>eval/samples_per_second</td><td>▁▁▃█▄</td></tr><tr><td>eval/steps_per_second</td><td>▁▁▃█▄</td></tr><tr><td>macro F1 score</td><td>▁</td></tr><tr><td>train/epoch</td><td>▁▃▃▆████</td></tr><tr><td>train/global_step</td><td>▁▃▃▆██████</td></tr><tr><td>train/grad_norm</td><td>▁█</td></tr><tr><td>train/learning_rate</td><td>█▁</td></tr><tr><td>train/loss</td><td>█▁</td></tr><tr><td>train/total_flos</td><td>▁</td></tr><tr><td>train/train_loss</td><td>▁</td></tr><tr><td>train/train_runtime</td><td>▁</td></tr><tr><td>train/train_samples_per_second</td><td>▁</td></tr><tr><td>train/train_steps_per_second</td><td>▁</td></tr></table><br/></div><div class=\"wandb-col\"><h3>Run summary:</h3><br/><table class=\"wandb\"><tr><td>Training loss</td><td>0.3234</td></tr><tr><td>Validation loss</td><td>0.47465</td></tr><tr><td>eval/Accuracy</td><td>0.82909</td></tr><tr><td>eval/Balanced accuracy</td><td>0.75013</td></tr><tr><td>eval/F1 macro</td><td>0.76576</td></tr><tr><td>eval/F1 micro</td><td>0.82909</td></tr><tr><td>eval/F1 weighted</td><td>0.82689</td></tr><tr><td>eval/loss</td><td>0.50433</td></tr><tr><td>eval/runtime</td><td>3.0807</td></tr><tr><td>eval/samples_per_second</td><td>1095.86</td></tr><tr><td>eval/steps_per_second</td><td>136.983</td></tr><tr><td>macro F1 score</td><td>0.76576</td></tr><tr><td>train/epoch</td><td>4.0</td></tr><tr><td>train/global_step</td><td>2532</td></tr><tr><td>train/grad_norm</td><td>12.03132</td></tr><tr><td>train/learning_rate</td><td>0.0</td></tr><tr><td>train/loss</td><td>0.3234</td></tr><tr><td>train/total_flos</td><td>323644548151584.0</td></tr><tr><td>train/train_loss</td><td>0.45809</td></tr><tr><td>train/train_runtime</td><td>145.9386</td></tr><tr><td>train/train_samples_per_second</td><td>277.596</td></tr><tr><td>train/train_steps_per_second</td><td>17.35</td></tr></table><br/></div></div>"
      ],
      "text/plain": [
       "<IPython.core.display.HTML object>"
      ]
     },
     "metadata": {},
     "output_type": "display_data"
    },
    {
     "data": {
      "text/html": [
       " View run <strong style=\"color:#cdcd00\">trial-27</strong> at: <a href='https://wandb.ai/master-2024/MiniLM/runs/m0b38rj7' target=\"_blank\">https://wandb.ai/master-2024/MiniLM/runs/m0b38rj7</a><br/>Synced 5 W&B file(s), 0 media file(s), 0 artifact file(s) and 0 other file(s)"
      ],
      "text/plain": [
       "<IPython.core.display.HTML object>"
      ]
     },
     "metadata": {},
     "output_type": "display_data"
    },
    {
     "data": {
      "text/html": [
       "Find logs at: <code>./wandb/run-20240419_203754-m0b38rj7/logs</code>"
      ],
      "text/plain": [
       "<IPython.core.display.HTML object>"
      ]
     },
     "metadata": {},
     "output_type": "display_data"
    },
    {
     "name": "stderr",
     "output_type": "stream",
     "text": [
      "[I 2024-04-19 20:40:31,455] Trial 27 finished with value: 0.7657552367894702 and parameters: {'learning_rate': 4.2853271251791595e-05, 'per_device_train_batch_size': 8, 'weight_decay': 0.21855440786732278, 'num_train_epochs': 4, 'warmup_steps': 352}. Best is trial 26 with value: 0.7700585869962987.\n"
     ]
    },
    {
     "data": {
      "text/html": [
       "wandb version 0.16.6 is available!  To upgrade, please run:\n",
       " $ pip install wandb --upgrade"
      ],
      "text/plain": [
       "<IPython.core.display.HTML object>"
      ]
     },
     "metadata": {},
     "output_type": "display_data"
    },
    {
     "data": {
      "text/html": [
       "Tracking run with wandb version 0.16.4"
      ],
      "text/plain": [
       "<IPython.core.display.HTML object>"
      ]
     },
     "metadata": {},
     "output_type": "display_data"
    },
    {
     "data": {
      "text/html": [
       "Run data is saved locally in <code>/net/fs-2/scale/OrionStore/Home/joteklem/Pytorch_models/wandb/run-20240419_204031-ym9u1ser</code>"
      ],
      "text/plain": [
       "<IPython.core.display.HTML object>"
      ]
     },
     "metadata": {},
     "output_type": "display_data"
    },
    {
     "data": {
      "text/html": [
       "Syncing run <strong><a href='https://wandb.ai/master-2024/MiniLM/runs/ym9u1ser' target=\"_blank\">trial-28</a></strong> to <a href='https://wandb.ai/master-2024/MiniLM' target=\"_blank\">Weights & Biases</a> (<a href='https://wandb.me/run' target=\"_blank\">docs</a>)<br/>"
      ],
      "text/plain": [
       "<IPython.core.display.HTML object>"
      ]
     },
     "metadata": {},
     "output_type": "display_data"
    },
    {
     "data": {
      "text/html": [
       " View project at <a href='https://wandb.ai/master-2024/MiniLM' target=\"_blank\">https://wandb.ai/master-2024/MiniLM</a>"
      ],
      "text/plain": [
       "<IPython.core.display.HTML object>"
      ]
     },
     "metadata": {},
     "output_type": "display_data"
    },
    {
     "data": {
      "text/html": [
       " View run at <a href='https://wandb.ai/master-2024/MiniLM/runs/ym9u1ser' target=\"_blank\">https://wandb.ai/master-2024/MiniLM/runs/ym9u1ser</a>"
      ],
      "text/plain": [
       "<IPython.core.display.HTML object>"
      ]
     },
     "metadata": {},
     "output_type": "display_data"
    },
    {
     "name": "stderr",
     "output_type": "stream",
     "text": [
      "/net/fs-2/scale/OrionStore/Scratch/joteklem/MyCondaEnvironments/Python3.11/orion_env/lib/python3.11/site-packages/accelerate/accelerator.py:432: FutureWarning: Passing the following arguments to `Accelerator` is deprecated and will be removed in version 1.0 of Accelerate: dict_keys(['dispatch_batches', 'split_batches', 'even_batches', 'use_seedable_sampler']). Please pass an `accelerate.DataLoaderConfiguration` instead: \n",
      "dataloader_config = DataLoaderConfiguration(dispatch_batches=None, split_batches=False, even_batches=True, use_seedable_sampler=True)\n",
      "  warnings.warn(\n",
      "Detected kernel version 3.10.0, which is below the recommended minimum of 5.5.0; this can cause the process to hang. It is recommended to upgrade the kernel to the minimum version or higher.\n"
     ]
    },
    {
     "name": "stdout",
     "output_type": "stream",
     "text": [
      "Starting trial 28\n"
     ]
    },
    {
     "data": {
      "text/html": [
       "\n",
       "    <div>\n",
       "      \n",
       "      <progress value='1899' max='1899' style='width:300px; height:20px; vertical-align: middle;'></progress>\n",
       "      [1899/1899 01:45, Epoch 3/3]\n",
       "    </div>\n",
       "    <table border=\"1\" class=\"dataframe\">\n",
       "  <thead>\n",
       " <tr style=\"text-align: left;\">\n",
       "      <th>Epoch</th>\n",
       "      <th>Training Loss</th>\n",
       "      <th>Validation Loss</th>\n",
       "      <th>Accuracy</th>\n",
       "      <th>Balanced accuracy</th>\n",
       "      <th>F1 weighted</th>\n",
       "      <th>F1 macro</th>\n",
       "      <th>F1 micro</th>\n",
       "      <th>Classification report</th>\n",
       "    </tr>\n",
       "  </thead>\n",
       "  <tbody>\n",
       "    <tr>\n",
       "      <td>1</td>\n",
       "      <td>No log</td>\n",
       "      <td>0.536009</td>\n",
       "      <td>0.807168</td>\n",
       "      <td>0.724679</td>\n",
       "      <td>0.807390</td>\n",
       "      <td>0.720778</td>\n",
       "      <td>0.807168</td>\n",
       "      <td>{'0': {'precision': 0.7686658506731946, 'recall': 0.6977777777777778, 'f1-score': 0.7315084449621432, 'support': 900.0}, '1': {'precision': 0.867453472537449, 'recall': 0.8839037927844589, 'f1-score': 0.8756013745704467, 'support': 2162.0}, '2': {'precision': 0.5224719101123596, 'recall': 0.5923566878980892, 'f1-score': 0.5552238805970149, 'support': 314.0}, 'accuracy': 0.8071682464454977, 'macro avg': {'precision': 0.7195304111076677, 'recall': 0.7246794194867753, 'f1-score': 0.7207779000432016, 'support': 3376.0}, 'weighted avg': {'precision': 0.8090313545637206, 'recall': 0.8071682464454977, 'f1-score': 0.8073898313965336, 'support': 3376.0}}</td>\n",
       "    </tr>\n",
       "    <tr>\n",
       "      <td>2</td>\n",
       "      <td>0.613100</td>\n",
       "      <td>0.487490</td>\n",
       "      <td>0.828495</td>\n",
       "      <td>0.728299</td>\n",
       "      <td>0.822762</td>\n",
       "      <td>0.749206</td>\n",
       "      <td>0.828495</td>\n",
       "      <td>{'0': {'precision': 0.8453757225433526, 'recall': 0.65, 'f1-score': 0.7349246231155779, 'support': 900.0}, '1': {'precision': 0.8447412353923205, 'recall': 0.9361702127659575, 'f1-score': 0.8881088196577446, 'support': 2162.0}, '2': {'precision': 0.6527777777777778, 'recall': 0.5987261146496815, 'f1-score': 0.6245847176079734, 'support': 314.0}, 'accuracy': 0.8284952606635071, 'macro avg': {'precision': 0.7809649119044836, 'recall': 0.728298775805213, 'f1-score': 0.749206053460432, 'support': 3376.0}, 'weighted avg': {'precision': 0.8270559607314681, 'recall': 0.8284952606635071, 'f1-score': 0.8227615610879644, 'support': 3376.0}}</td>\n",
       "    </tr>\n",
       "    <tr>\n",
       "      <td>3</td>\n",
       "      <td>0.613100</td>\n",
       "      <td>0.481577</td>\n",
       "      <td>0.829680</td>\n",
       "      <td>0.752992</td>\n",
       "      <td>0.827764</td>\n",
       "      <td>0.762026</td>\n",
       "      <td>0.829680</td>\n",
       "      <td>{'0': {'precision': 0.7708830548926014, 'recall': 0.7177777777777777, 'f1-score': 0.7433831990794015, 'support': 900.0}, '1': {'precision': 0.8723784024988844, 'recall': 0.9042553191489362, 'f1-score': 0.888030888030888, 'support': 2162.0}, '2': {'precision': 0.6734006734006734, 'recall': 0.6369426751592356, 'f1-score': 0.6546644844517185, 'support': 314.0}, 'accuracy': 0.8296800947867299, 'macro avg': {'precision': 0.7722207102640531, 'recall': 0.7529919240286498, 'f1-score': 0.7620261905206694, 'support': 3376.0}, 'weighted avg': {'precision': 0.8268141786296627, 'recall': 0.8296800947867299, 'f1-score': 0.8277643090083178, 'support': 3376.0}}</td>\n",
       "    </tr>\n",
       "  </tbody>\n",
       "</table><p>"
      ],
      "text/plain": [
       "<IPython.core.display.HTML object>"
      ]
     },
     "metadata": {},
     "output_type": "display_data"
    },
    {
     "data": {
      "text/html": [
       "\n",
       "    <div>\n",
       "      \n",
       "      <progress value='422' max='422' style='width:300px; height:20px; vertical-align: middle;'></progress>\n",
       "      [422/422 00:03]\n",
       "    </div>\n",
       "    "
      ],
      "text/plain": [
       "<IPython.core.display.HTML object>"
      ]
     },
     "metadata": {},
     "output_type": "display_data"
    },
    {
     "name": "stderr",
     "output_type": "stream",
     "text": [
      "/net/fs-2/scale/OrionStore/Scratch/joteklem/MyCondaEnvironments/Python3.11/orion_env/lib/python3.11/site-packages/optuna/trial/_trial.py:499: UserWarning: The reported value is ignored because this `step` 3.0 is already reported.\n",
      "  warnings.warn(\n"
     ]
    },
    {
     "name": "stdout",
     "output_type": "stream",
     "text": [
      "Completed trial 28\n"
     ]
    },
    {
     "data": {
      "text/html": [
       "<style>\n",
       "    table.wandb td:nth-child(1) { padding: 0 10px; text-align: left ; width: auto;} td:nth-child(2) {text-align: left ; width: 100%}\n",
       "    .wandb-row { display: flex; flex-direction: row; flex-wrap: wrap; justify-content: flex-start; width: 100% }\n",
       "    .wandb-col { display: flex; flex-direction: column; flex-basis: 100%; flex: 1; padding: 10px; }\n",
       "    </style>\n",
       "<div class=\"wandb-row\"><div class=\"wandb-col\"><h3>Run history:</h3><br/><table class=\"wandb\"><tr><td>Training loss</td><td>▁</td></tr><tr><td>Validation loss</td><td>▁</td></tr><tr><td>eval/Accuracy</td><td>▁███</td></tr><tr><td>eval/Balanced accuracy</td><td>▁▂██</td></tr><tr><td>eval/F1 macro</td><td>▁▆██</td></tr><tr><td>eval/F1 micro</td><td>▁███</td></tr><tr><td>eval/F1 weighted</td><td>▁▆██</td></tr><tr><td>eval/loss</td><td>█▂▁▁</td></tr><tr><td>eval/runtime</td><td>▂▁▁█</td></tr><tr><td>eval/samples_per_second</td><td>▇██▁</td></tr><tr><td>eval/steps_per_second</td><td>▇██▁</td></tr><tr><td>macro F1 score</td><td>▁</td></tr><tr><td>train/epoch</td><td>▁▅▅███</td></tr><tr><td>train/global_step</td><td>▁▅▅█████</td></tr><tr><td>train/grad_norm</td><td>▁</td></tr><tr><td>train/learning_rate</td><td>▁</td></tr><tr><td>train/loss</td><td>▁</td></tr><tr><td>train/total_flos</td><td>▁</td></tr><tr><td>train/train_loss</td><td>▁</td></tr><tr><td>train/train_runtime</td><td>▁</td></tr><tr><td>train/train_samples_per_second</td><td>▁</td></tr><tr><td>train/train_steps_per_second</td><td>▁</td></tr></table><br/></div><div class=\"wandb-col\"><h3>Run summary:</h3><br/><table class=\"wandb\"><tr><td>Training loss</td><td>0.6131</td></tr><tr><td>Validation loss</td><td>0.48749</td></tr><tr><td>eval/Accuracy</td><td>0.82968</td></tr><tr><td>eval/Balanced accuracy</td><td>0.75299</td></tr><tr><td>eval/F1 macro</td><td>0.76203</td></tr><tr><td>eval/F1 micro</td><td>0.82968</td></tr><tr><td>eval/F1 weighted</td><td>0.82776</td></tr><tr><td>eval/loss</td><td>0.48158</td></tr><tr><td>eval/runtime</td><td>3.0716</td></tr><tr><td>eval/samples_per_second</td><td>1099.11</td></tr><tr><td>eval/steps_per_second</td><td>137.389</td></tr><tr><td>macro F1 score</td><td>0.76203</td></tr><tr><td>train/epoch</td><td>3.0</td></tr><tr><td>train/global_step</td><td>1899</td></tr><tr><td>train/grad_norm</td><td>4.59031</td></tr><tr><td>train/learning_rate</td><td>1e-05</td></tr><tr><td>train/loss</td><td>0.6131</td></tr><tr><td>train/total_flos</td><td>242782902485136.0</td></tr><tr><td>train/train_loss</td><td>0.53938</td></tr><tr><td>train/train_runtime</td><td>105.9986</td></tr><tr><td>train/train_samples_per_second</td><td>286.645</td></tr><tr><td>train/train_steps_per_second</td><td>17.915</td></tr></table><br/></div></div>"
      ],
      "text/plain": [
       "<IPython.core.display.HTML object>"
      ]
     },
     "metadata": {},
     "output_type": "display_data"
    },
    {
     "data": {
      "text/html": [
       " View run <strong style=\"color:#cdcd00\">trial-28</strong> at: <a href='https://wandb.ai/master-2024/MiniLM/runs/ym9u1ser' target=\"_blank\">https://wandb.ai/master-2024/MiniLM/runs/ym9u1ser</a><br/>Synced 5 W&B file(s), 0 media file(s), 0 artifact file(s) and 0 other file(s)"
      ],
      "text/plain": [
       "<IPython.core.display.HTML object>"
      ]
     },
     "metadata": {},
     "output_type": "display_data"
    },
    {
     "data": {
      "text/html": [
       "Find logs at: <code>./wandb/run-20240419_204031-ym9u1ser/logs</code>"
      ],
      "text/plain": [
       "<IPython.core.display.HTML object>"
      ]
     },
     "metadata": {},
     "output_type": "display_data"
    },
    {
     "name": "stderr",
     "output_type": "stream",
     "text": [
      "[I 2024-04-19 20:42:30,955] Trial 28 finished with value: 0.7620261905206694 and parameters: {'learning_rate': 2.9188759208230323e-05, 'per_device_train_batch_size': 8, 'weight_decay': 0.18017456847749913, 'num_train_epochs': 3, 'warmup_steps': 398}. Best is trial 26 with value: 0.7700585869962987.\n"
     ]
    },
    {
     "data": {
      "text/html": [
       "wandb version 0.16.6 is available!  To upgrade, please run:\n",
       " $ pip install wandb --upgrade"
      ],
      "text/plain": [
       "<IPython.core.display.HTML object>"
      ]
     },
     "metadata": {},
     "output_type": "display_data"
    },
    {
     "data": {
      "text/html": [
       "Tracking run with wandb version 0.16.4"
      ],
      "text/plain": [
       "<IPython.core.display.HTML object>"
      ]
     },
     "metadata": {},
     "output_type": "display_data"
    },
    {
     "data": {
      "text/html": [
       "Run data is saved locally in <code>/net/fs-2/scale/OrionStore/Home/joteklem/Pytorch_models/wandb/run-20240419_204231-l4049fvl</code>"
      ],
      "text/plain": [
       "<IPython.core.display.HTML object>"
      ]
     },
     "metadata": {},
     "output_type": "display_data"
    },
    {
     "data": {
      "text/html": [
       "Syncing run <strong><a href='https://wandb.ai/master-2024/MiniLM/runs/l4049fvl' target=\"_blank\">trial-29</a></strong> to <a href='https://wandb.ai/master-2024/MiniLM' target=\"_blank\">Weights & Biases</a> (<a href='https://wandb.me/run' target=\"_blank\">docs</a>)<br/>"
      ],
      "text/plain": [
       "<IPython.core.display.HTML object>"
      ]
     },
     "metadata": {},
     "output_type": "display_data"
    },
    {
     "data": {
      "text/html": [
       " View project at <a href='https://wandb.ai/master-2024/MiniLM' target=\"_blank\">https://wandb.ai/master-2024/MiniLM</a>"
      ],
      "text/plain": [
       "<IPython.core.display.HTML object>"
      ]
     },
     "metadata": {},
     "output_type": "display_data"
    },
    {
     "data": {
      "text/html": [
       " View run at <a href='https://wandb.ai/master-2024/MiniLM/runs/l4049fvl' target=\"_blank\">https://wandb.ai/master-2024/MiniLM/runs/l4049fvl</a>"
      ],
      "text/plain": [
       "<IPython.core.display.HTML object>"
      ]
     },
     "metadata": {},
     "output_type": "display_data"
    },
    {
     "name": "stdout",
     "output_type": "stream",
     "text": [
      "Starting trial 29\n"
     ]
    },
    {
     "name": "stderr",
     "output_type": "stream",
     "text": [
      "/net/fs-2/scale/OrionStore/Scratch/joteklem/MyCondaEnvironments/Python3.11/orion_env/lib/python3.11/site-packages/accelerate/accelerator.py:432: FutureWarning: Passing the following arguments to `Accelerator` is deprecated and will be removed in version 1.0 of Accelerate: dict_keys(['dispatch_batches', 'split_batches', 'even_batches', 'use_seedable_sampler']). Please pass an `accelerate.DataLoaderConfiguration` instead: \n",
      "dataloader_config = DataLoaderConfiguration(dispatch_batches=None, split_batches=False, even_batches=True, use_seedable_sampler=True)\n",
      "  warnings.warn(\n",
      "Detected kernel version 3.10.0, which is below the recommended minimum of 5.5.0; this can cause the process to hang. It is recommended to upgrade the kernel to the minimum version or higher.\n"
     ]
    },
    {
     "data": {
      "text/html": [
       "\n",
       "    <div>\n",
       "      \n",
       "      <progress value='634' max='2532' style='width:300px; height:20px; vertical-align: middle;'></progress>\n",
       "      [ 633/2532 00:31 < 01:34, 20.02 it/s, Epoch 1.00/4]\n",
       "    </div>\n",
       "    <table border=\"1\" class=\"dataframe\">\n",
       "  <thead>\n",
       " <tr style=\"text-align: left;\">\n",
       "      <th>Epoch</th>\n",
       "      <th>Training Loss</th>\n",
       "      <th>Validation Loss</th>\n",
       "    </tr>\n",
       "  </thead>\n",
       "  <tbody>\n",
       "  </tbody>\n",
       "</table><p>\n",
       "    <div>\n",
       "      \n",
       "      <progress value='422' max='422' style='width:300px; height:20px; vertical-align: middle;'></progress>\n",
       "      [422/422 00:03]\n",
       "    </div>\n",
       "    "
      ],
      "text/plain": [
       "<IPython.core.display.HTML object>"
      ]
     },
     "metadata": {},
     "output_type": "display_data"
    },
    {
     "name": "stderr",
     "output_type": "stream",
     "text": [
      "[I 2024-04-19 20:43:09,850] Trial 29 pruned. \n"
     ]
    },
    {
     "data": {
      "text/html": [
       "Finishing last run (ID:l4049fvl) before initializing another..."
      ],
      "text/plain": [
       "<IPython.core.display.HTML object>"
      ]
     },
     "metadata": {},
     "output_type": "display_data"
    },
    {
     "data": {
      "text/html": [
       "<style>\n",
       "    table.wandb td:nth-child(1) { padding: 0 10px; text-align: left ; width: auto;} td:nth-child(2) {text-align: left ; width: 100%}\n",
       "    .wandb-row { display: flex; flex-direction: row; flex-wrap: wrap; justify-content: flex-start; width: 100% }\n",
       "    .wandb-col { display: flex; flex-direction: column; flex-basis: 100%; flex: 1; padding: 10px; }\n",
       "    </style>\n",
       "<div class=\"wandb-row\"><div class=\"wandb-col\"><h3>Run history:</h3><br/><table class=\"wandb\"><tr><td>eval/Accuracy</td><td>▁</td></tr><tr><td>eval/Balanced accuracy</td><td>▁</td></tr><tr><td>eval/F1 macro</td><td>▁</td></tr><tr><td>eval/F1 micro</td><td>▁</td></tr><tr><td>eval/F1 weighted</td><td>▁</td></tr><tr><td>eval/loss</td><td>▁</td></tr><tr><td>eval/runtime</td><td>▁</td></tr><tr><td>eval/samples_per_second</td><td>▁</td></tr><tr><td>eval/steps_per_second</td><td>▁</td></tr><tr><td>train/epoch</td><td>▁</td></tr><tr><td>train/global_step</td><td>▁</td></tr></table><br/></div><div class=\"wandb-col\"><h3>Run summary:</h3><br/><table class=\"wandb\"><tr><td>eval/Accuracy</td><td>0.74023</td></tr><tr><td>eval/Balanced accuracy</td><td>0.53403</td></tr><tr><td>eval/F1 macro</td><td>0.49422</td></tr><tr><td>eval/F1 micro</td><td>0.74023</td></tr><tr><td>eval/F1 weighted</td><td>0.71257</td></tr><tr><td>eval/loss</td><td>0.64307</td></tr><tr><td>eval/runtime</td><td>3.0399</td></tr><tr><td>eval/samples_per_second</td><td>1110.545</td></tr><tr><td>eval/steps_per_second</td><td>138.818</td></tr><tr><td>train/epoch</td><td>1.0</td></tr><tr><td>train/global_step</td><td>633</td></tr></table><br/></div></div>"
      ],
      "text/plain": [
       "<IPython.core.display.HTML object>"
      ]
     },
     "metadata": {},
     "output_type": "display_data"
    },
    {
     "data": {
      "text/html": [
       " View run <strong style=\"color:#cdcd00\">trial-29</strong> at: <a href='https://wandb.ai/master-2024/MiniLM/runs/l4049fvl' target=\"_blank\">https://wandb.ai/master-2024/MiniLM/runs/l4049fvl</a><br/>Synced 5 W&B file(s), 0 media file(s), 0 artifact file(s) and 0 other file(s)"
      ],
      "text/plain": [
       "<IPython.core.display.HTML object>"
      ]
     },
     "metadata": {},
     "output_type": "display_data"
    },
    {
     "data": {
      "text/html": [
       "Find logs at: <code>./wandb/run-20240419_204231-l4049fvl/logs</code>"
      ],
      "text/plain": [
       "<IPython.core.display.HTML object>"
      ]
     },
     "metadata": {},
     "output_type": "display_data"
    },
    {
     "data": {
      "text/html": [
       "Successfully finished last run (ID:l4049fvl). Initializing new run:<br/>"
      ],
      "text/plain": [
       "<IPython.core.display.HTML object>"
      ]
     },
     "metadata": {},
     "output_type": "display_data"
    },
    {
     "data": {
      "text/html": [
       "wandb version 0.16.6 is available!  To upgrade, please run:\n",
       " $ pip install wandb --upgrade"
      ],
      "text/plain": [
       "<IPython.core.display.HTML object>"
      ]
     },
     "metadata": {},
     "output_type": "display_data"
    },
    {
     "data": {
      "text/html": [
       "Tracking run with wandb version 0.16.4"
      ],
      "text/plain": [
       "<IPython.core.display.HTML object>"
      ]
     },
     "metadata": {},
     "output_type": "display_data"
    },
    {
     "data": {
      "text/html": [
       "Run data is saved locally in <code>/net/fs-2/scale/OrionStore/Home/joteklem/Pytorch_models/wandb/run-20240419_204309-t7r43xcn</code>"
      ],
      "text/plain": [
       "<IPython.core.display.HTML object>"
      ]
     },
     "metadata": {},
     "output_type": "display_data"
    },
    {
     "data": {
      "text/html": [
       "Syncing run <strong><a href='https://wandb.ai/master-2024/MiniLM/runs/t7r43xcn' target=\"_blank\">trial-30</a></strong> to <a href='https://wandb.ai/master-2024/MiniLM' target=\"_blank\">Weights & Biases</a> (<a href='https://wandb.me/run' target=\"_blank\">docs</a>)<br/>"
      ],
      "text/plain": [
       "<IPython.core.display.HTML object>"
      ]
     },
     "metadata": {},
     "output_type": "display_data"
    },
    {
     "data": {
      "text/html": [
       " View project at <a href='https://wandb.ai/master-2024/MiniLM' target=\"_blank\">https://wandb.ai/master-2024/MiniLM</a>"
      ],
      "text/plain": [
       "<IPython.core.display.HTML object>"
      ]
     },
     "metadata": {},
     "output_type": "display_data"
    },
    {
     "data": {
      "text/html": [
       " View run at <a href='https://wandb.ai/master-2024/MiniLM/runs/t7r43xcn' target=\"_blank\">https://wandb.ai/master-2024/MiniLM/runs/t7r43xcn</a>"
      ],
      "text/plain": [
       "<IPython.core.display.HTML object>"
      ]
     },
     "metadata": {},
     "output_type": "display_data"
    },
    {
     "name": "stdout",
     "output_type": "stream",
     "text": [
      "Starting trial 30\n"
     ]
    },
    {
     "name": "stderr",
     "output_type": "stream",
     "text": [
      "/net/fs-2/scale/OrionStore/Scratch/joteklem/MyCondaEnvironments/Python3.11/orion_env/lib/python3.11/site-packages/accelerate/accelerator.py:432: FutureWarning: Passing the following arguments to `Accelerator` is deprecated and will be removed in version 1.0 of Accelerate: dict_keys(['dispatch_batches', 'split_batches', 'even_batches', 'use_seedable_sampler']). Please pass an `accelerate.DataLoaderConfiguration` instead: \n",
      "dataloader_config = DataLoaderConfiguration(dispatch_batches=None, split_batches=False, even_batches=True, use_seedable_sampler=True)\n",
      "  warnings.warn(\n",
      "Detected kernel version 3.10.0, which is below the recommended minimum of 5.5.0; this can cause the process to hang. It is recommended to upgrade the kernel to the minimum version or higher.\n"
     ]
    },
    {
     "data": {
      "text/html": [
       "\n",
       "    <div>\n",
       "      \n",
       "      <progress value='634' max='1266' style='width:300px; height:20px; vertical-align: middle;'></progress>\n",
       "      [ 634/1266 00:34 < 00:34, 18.29 it/s, Epoch 1/2]\n",
       "    </div>\n",
       "    <table border=\"1\" class=\"dataframe\">\n",
       "  <thead>\n",
       " <tr style=\"text-align: left;\">\n",
       "      <th>Epoch</th>\n",
       "      <th>Training Loss</th>\n",
       "      <th>Validation Loss</th>\n",
       "    </tr>\n",
       "  </thead>\n",
       "  <tbody>\n",
       "  </tbody>\n",
       "</table><p>\n",
       "    <div>\n",
       "      \n",
       "      <progress value='422' max='422' style='width:300px; height:20px; vertical-align: middle;'></progress>\n",
       "      [422/422 00:03]\n",
       "    </div>\n",
       "    "
      ],
      "text/plain": [
       "<IPython.core.display.HTML object>"
      ]
     },
     "metadata": {},
     "output_type": "display_data"
    },
    {
     "name": "stderr",
     "output_type": "stream",
     "text": [
      "[I 2024-04-19 20:43:55,411] Trial 30 pruned. \n"
     ]
    },
    {
     "data": {
      "text/html": [
       "Finishing last run (ID:t7r43xcn) before initializing another..."
      ],
      "text/plain": [
       "<IPython.core.display.HTML object>"
      ]
     },
     "metadata": {},
     "output_type": "display_data"
    },
    {
     "data": {
      "text/html": [
       "<style>\n",
       "    table.wandb td:nth-child(1) { padding: 0 10px; text-align: left ; width: auto;} td:nth-child(2) {text-align: left ; width: 100%}\n",
       "    .wandb-row { display: flex; flex-direction: row; flex-wrap: wrap; justify-content: flex-start; width: 100% }\n",
       "    .wandb-col { display: flex; flex-direction: column; flex-basis: 100%; flex: 1; padding: 10px; }\n",
       "    </style>\n",
       "<div class=\"wandb-row\"><div class=\"wandb-col\"><h3>Run history:</h3><br/><table class=\"wandb\"><tr><td>eval/Accuracy</td><td>▁</td></tr><tr><td>eval/Balanced accuracy</td><td>▁</td></tr><tr><td>eval/F1 macro</td><td>▁</td></tr><tr><td>eval/F1 micro</td><td>▁</td></tr><tr><td>eval/F1 weighted</td><td>▁</td></tr><tr><td>eval/loss</td><td>▁</td></tr><tr><td>eval/runtime</td><td>▁</td></tr><tr><td>eval/samples_per_second</td><td>▁</td></tr><tr><td>eval/steps_per_second</td><td>▁</td></tr><tr><td>train/epoch</td><td>▁</td></tr><tr><td>train/global_step</td><td>▁</td></tr></table><br/></div><div class=\"wandb-col\"><h3>Run summary:</h3><br/><table class=\"wandb\"><tr><td>eval/Accuracy</td><td>0.77251</td></tr><tr><td>eval/Balanced accuracy</td><td>0.59262</td></tr><tr><td>eval/F1 macro</td><td>0.59773</td></tr><tr><td>eval/F1 micro</td><td>0.77251</td></tr><tr><td>eval/F1 weighted</td><td>0.75733</td></tr><tr><td>eval/loss</td><td>0.58437</td></tr><tr><td>eval/runtime</td><td>3.0772</td></tr><tr><td>eval/samples_per_second</td><td>1097.102</td></tr><tr><td>eval/steps_per_second</td><td>137.138</td></tr><tr><td>train/epoch</td><td>1.0</td></tr><tr><td>train/global_step</td><td>633</td></tr></table><br/></div></div>"
      ],
      "text/plain": [
       "<IPython.core.display.HTML object>"
      ]
     },
     "metadata": {},
     "output_type": "display_data"
    },
    {
     "data": {
      "text/html": [
       " View run <strong style=\"color:#cdcd00\">trial-30</strong> at: <a href='https://wandb.ai/master-2024/MiniLM/runs/t7r43xcn' target=\"_blank\">https://wandb.ai/master-2024/MiniLM/runs/t7r43xcn</a><br/>Synced 5 W&B file(s), 0 media file(s), 0 artifact file(s) and 0 other file(s)"
      ],
      "text/plain": [
       "<IPython.core.display.HTML object>"
      ]
     },
     "metadata": {},
     "output_type": "display_data"
    },
    {
     "data": {
      "text/html": [
       "Find logs at: <code>./wandb/run-20240419_204309-t7r43xcn/logs</code>"
      ],
      "text/plain": [
       "<IPython.core.display.HTML object>"
      ]
     },
     "metadata": {},
     "output_type": "display_data"
    },
    {
     "data": {
      "text/html": [
       "Successfully finished last run (ID:t7r43xcn). Initializing new run:<br/>"
      ],
      "text/plain": [
       "<IPython.core.display.HTML object>"
      ]
     },
     "metadata": {},
     "output_type": "display_data"
    },
    {
     "data": {
      "text/html": [
       "wandb version 0.16.6 is available!  To upgrade, please run:\n",
       " $ pip install wandb --upgrade"
      ],
      "text/plain": [
       "<IPython.core.display.HTML object>"
      ]
     },
     "metadata": {},
     "output_type": "display_data"
    },
    {
     "data": {
      "text/html": [
       "Tracking run with wandb version 0.16.4"
      ],
      "text/plain": [
       "<IPython.core.display.HTML object>"
      ]
     },
     "metadata": {},
     "output_type": "display_data"
    },
    {
     "data": {
      "text/html": [
       "Run data is saved locally in <code>/net/fs-2/scale/OrionStore/Home/joteklem/Pytorch_models/wandb/run-20240419_204355-fs8qm3zm</code>"
      ],
      "text/plain": [
       "<IPython.core.display.HTML object>"
      ]
     },
     "metadata": {},
     "output_type": "display_data"
    },
    {
     "data": {
      "text/html": [
       "Syncing run <strong><a href='https://wandb.ai/master-2024/MiniLM/runs/fs8qm3zm' target=\"_blank\">trial-31</a></strong> to <a href='https://wandb.ai/master-2024/MiniLM' target=\"_blank\">Weights & Biases</a> (<a href='https://wandb.me/run' target=\"_blank\">docs</a>)<br/>"
      ],
      "text/plain": [
       "<IPython.core.display.HTML object>"
      ]
     },
     "metadata": {},
     "output_type": "display_data"
    },
    {
     "data": {
      "text/html": [
       " View project at <a href='https://wandb.ai/master-2024/MiniLM' target=\"_blank\">https://wandb.ai/master-2024/MiniLM</a>"
      ],
      "text/plain": [
       "<IPython.core.display.HTML object>"
      ]
     },
     "metadata": {},
     "output_type": "display_data"
    },
    {
     "data": {
      "text/html": [
       " View run at <a href='https://wandb.ai/master-2024/MiniLM/runs/fs8qm3zm' target=\"_blank\">https://wandb.ai/master-2024/MiniLM/runs/fs8qm3zm</a>"
      ],
      "text/plain": [
       "<IPython.core.display.HTML object>"
      ]
     },
     "metadata": {},
     "output_type": "display_data"
    },
    {
     "name": "stdout",
     "output_type": "stream",
     "text": [
      "Starting trial 31\n"
     ]
    },
    {
     "name": "stderr",
     "output_type": "stream",
     "text": [
      "/net/fs-2/scale/OrionStore/Scratch/joteklem/MyCondaEnvironments/Python3.11/orion_env/lib/python3.11/site-packages/accelerate/accelerator.py:432: FutureWarning: Passing the following arguments to `Accelerator` is deprecated and will be removed in version 1.0 of Accelerate: dict_keys(['dispatch_batches', 'split_batches', 'even_batches', 'use_seedable_sampler']). Please pass an `accelerate.DataLoaderConfiguration` instead: \n",
      "dataloader_config = DataLoaderConfiguration(dispatch_batches=None, split_batches=False, even_batches=True, use_seedable_sampler=True)\n",
      "  warnings.warn(\n",
      "Detected kernel version 3.10.0, which is below the recommended minimum of 5.5.0; this can cause the process to hang. It is recommended to upgrade the kernel to the minimum version or higher.\n"
     ]
    },
    {
     "data": {
      "text/html": [
       "\n",
       "    <div>\n",
       "      \n",
       "      <progress value='1900' max='2532' style='width:300px; height:20px; vertical-align: middle;'></progress>\n",
       "      [1898/2532 01:43 < 00:34, 18.28 it/s, Epoch 3.00/4]\n",
       "    </div>\n",
       "    <table border=\"1\" class=\"dataframe\">\n",
       "  <thead>\n",
       " <tr style=\"text-align: left;\">\n",
       "      <th>Epoch</th>\n",
       "      <th>Training Loss</th>\n",
       "      <th>Validation Loss</th>\n",
       "      <th>Accuracy</th>\n",
       "      <th>Balanced accuracy</th>\n",
       "      <th>F1 weighted</th>\n",
       "      <th>F1 macro</th>\n",
       "      <th>F1 micro</th>\n",
       "      <th>Classification report</th>\n",
       "    </tr>\n",
       "  </thead>\n",
       "  <tbody>\n",
       "    <tr>\n",
       "      <td>1</td>\n",
       "      <td>No log</td>\n",
       "      <td>0.500270</td>\n",
       "      <td>0.823460</td>\n",
       "      <td>0.709823</td>\n",
       "      <td>0.817633</td>\n",
       "      <td>0.732433</td>\n",
       "      <td>0.823460</td>\n",
       "      <td>{'0': {'precision': 0.8217687074829932, 'recall': 0.6711111111111111, 'f1-score': 0.7388379204892966, 'support': 900.0}, '1': {'precision': 0.8463157894736842, 'recall': 0.9296947271045328, 'f1-score': 0.8860480493718317, 'support': 2162.0}, '2': {'precision': 0.6240601503759399, 'recall': 0.5286624203821656, 'f1-score': 0.5724137931034483, 'support': 314.0}, 'accuracy': 0.8234597156398105, 'macro avg': {'precision': 0.7640482157775391, 'recall': 0.7098227528659365, 'f1-score': 0.7324332543215255, 'support': 3376.0}, 'weighted avg': {'precision': 0.8190999587662454, 'recall': 0.8234597156398105, 'f1-score': 0.8176326843059093, 'support': 3376.0}}</td>\n",
       "    </tr>\n",
       "    <tr>\n",
       "      <td>2</td>\n",
       "      <td>0.589600</td>\n",
       "      <td>0.468810</td>\n",
       "      <td>0.830569</td>\n",
       "      <td>0.732536</td>\n",
       "      <td>0.825911</td>\n",
       "      <td>0.750870</td>\n",
       "      <td>0.830569</td>\n",
       "      <td>{'0': {'precision': 0.8260869565217391, 'recall': 0.6755555555555556, 'f1-score': 0.7432762836185819, 'support': 900.0}, '1': {'precision': 0.8542286442838929, 'recall': 0.9296947271045328, 'f1-score': 0.8903654485049834, 'support': 2162.0}, '2': {'precision': 0.6480836236933798, 'recall': 0.5923566878980892, 'f1-score': 0.6189683860232944, 'support': 314.0}, 'accuracy': 0.830568720379147, 'macro avg': {'precision': 0.776133074833004, 'recall': 0.7325356568527259, 'f1-score': 0.7508700393822866, 'support': 3376.0}, 'weighted avg': {'precision': 0.8275529761999595, 'recall': 0.830568720379147, 'f1-score': 0.825910790324589, 'support': 3376.0}}</td>\n",
       "    </tr>\n",
       "  </tbody>\n",
       "</table><p>\n",
       "    <div>\n",
       "      \n",
       "      <progress value='422' max='422' style='width:300px; height:20px; vertical-align: middle;'></progress>\n",
       "      [422/422 00:03]\n",
       "    </div>\n",
       "    "
      ],
      "text/plain": [
       "<IPython.core.display.HTML object>"
      ]
     },
     "metadata": {},
     "output_type": "display_data"
    },
    {
     "name": "stderr",
     "output_type": "stream",
     "text": [
      "[I 2024-04-19 20:45:52,119] Trial 31 pruned. \n"
     ]
    }
   ],
   "source": [
    "# Get the objective function with your dataset included\n",
    "objective_30 = objective_closure(encoded_dataset_30)\n",
    "\n",
    "start_study_30 = time.time()\n",
    "study_30.optimize(objective_30, n_trials=32) #, timeout=600)  \n",
    "end_study_30 = time.time()\n",
    "\n",
    "model_time_study_30 = end_study_30 - start_study_30"
   ]
  },
  {
   "cell_type": "code",
   "execution_count": 26,
   "metadata": {},
   "outputs": [],
   "source": [
    "#for trial in study.trials:\n",
    "#    print(trial.value, trial.params)"
   ]
  },
  {
   "cell_type": "code",
   "execution_count": 27,
   "metadata": {},
   "outputs": [
    {
     "name": "stdout",
     "output_type": "stream",
     "text": [
      "Hyperparameter search completed in 1622.84 seconds.\n",
      "Number of trials completed: 32\n"
     ]
    }
   ],
   "source": [
    "print(f\"Hyperparameter search completed in {model_time_study_15:.2f} seconds.\")\n",
    "print(f\"Number of trials completed: {len(study_15.trials)}\")"
   ]
  },
  {
   "cell_type": "code",
   "execution_count": 28,
   "metadata": {},
   "outputs": [
    {
     "name": "stdout",
     "output_type": "stream",
     "text": [
      "Hyperparameter search completed in 2967.41 seconds.\n",
      "Number of trials completed: 32\n"
     ]
    }
   ],
   "source": [
    "print(f\"Hyperparameter search completed in {model_time_study_30:.2f} seconds.\")\n",
    "print(f\"Number of trials completed: {len(study_30.trials)}\")"
   ]
  },
  {
   "cell_type": "code",
   "execution_count": 29,
   "metadata": {
    "colab": {
     "base_uri": "https://localhost:8080/",
     "height": 1000
    },
    "id": "079RFgKuDp-r",
    "outputId": "e29ad3c9-b916-4b88-eb21-3fd0ee36fa38"
   },
   "outputs": [
    {
     "name": "stdout",
     "output_type": "stream",
     "text": [
      "Best trial:\n",
      "  Value: 0.7522588907564494\n",
      "  Params: \n",
      "    learning_rate: 5.6115164153345e-05\n",
      "    per_device_train_batch_size: 8\n",
      "    weight_decay: 0.04680559213273095\n",
      "    num_train_epochs: 4\n",
      "    warmup_steps: 354\n"
     ]
    }
   ],
   "source": [
    "best_trial_15 = study_15.best_trial\n",
    "\n",
    "best_param_15 = {}\n",
    "\n",
    "print(\"Best trial:\")\n",
    "print(f\"  Value: {best_trial_15.value}\")\n",
    "\n",
    "print(\"  Params: \")\n",
    "for key, value in best_trial_15.params.items():\n",
    "    print(f\"    {key}: {value}\")\n",
    "    best_param_15[key] = value "
   ]
  },
  {
   "cell_type": "code",
   "execution_count": 30,
   "metadata": {
    "colab": {
     "base_uri": "https://localhost:8080/",
     "height": 1000
    },
    "id": "079RFgKuDp-r",
    "outputId": "e29ad3c9-b916-4b88-eb21-3fd0ee36fa38"
   },
   "outputs": [
    {
     "name": "stdout",
     "output_type": "stream",
     "text": [
      "Best trial:\n",
      "  Value: 0.7700585869962987\n",
      "  Params: \n",
      "    learning_rate: 3.9959252655512656e-05\n",
      "    per_device_train_batch_size: 8\n",
      "    weight_decay: 0.22129692732804296\n",
      "    num_train_epochs: 4\n",
      "    warmup_steps: 415\n"
     ]
    }
   ],
   "source": [
    "best_trial_30 = study_30.best_trial\n",
    "\n",
    "best_param_30 = {}\n",
    "\n",
    "print(\"Best trial:\")\n",
    "print(f\"  Value: {best_trial_30.value}\")\n",
    "\n",
    "print(\"  Params: \")\n",
    "for key, value in best_trial_30.params.items():\n",
    "    print(f\"    {key}: {value}\")\n",
    "    best_param_30[key] = value "
   ]
  },
  {
   "cell_type": "code",
   "execution_count": 31,
   "metadata": {},
   "outputs": [
    {
     "data": {
      "text/plain": [
       "{'learning_rate': 5.6115164153345e-05,\n",
       " 'per_device_train_batch_size': 8,\n",
       " 'weight_decay': 0.04680559213273095,\n",
       " 'num_train_epochs': 4,\n",
       " 'warmup_steps': 354}"
      ]
     },
     "execution_count": 31,
     "metadata": {},
     "output_type": "execute_result"
    }
   ],
   "source": [
    "best_param_15"
   ]
  },
  {
   "cell_type": "code",
   "execution_count": 32,
   "metadata": {},
   "outputs": [
    {
     "data": {
      "text/plain": [
       "{'learning_rate': 3.9959252655512656e-05,\n",
       " 'per_device_train_batch_size': 8,\n",
       " 'weight_decay': 0.22129692732804296,\n",
       " 'num_train_epochs': 4,\n",
       " 'warmup_steps': 415}"
      ]
     },
     "execution_count": 32,
     "metadata": {},
     "output_type": "execute_result"
    }
   ],
   "source": [
    "best_param_30"
   ]
  },
  {
   "cell_type": "code",
   "execution_count": 33,
   "metadata": {},
   "outputs": [],
   "source": [
    "def eval_test(data, best_param):\n",
    "    # Setup the training arguments with the best hyperparameters\n",
    "    best_training_args = TrainingArguments(\n",
    "        output_dir=f\"{model_ckpt}-finetuned-best\",\n",
    "        num_train_epochs=best_param['num_train_epochs'],\n",
    "        learning_rate=best_param['learning_rate'],\n",
    "        per_device_train_batch_size=best_param['per_device_train_batch_size'],\n",
    "        per_device_eval_batch_size=best_param['per_device_train_batch_size'],  \n",
    "        weight_decay=best_param['weight_decay'],\n",
    "        warmup_steps=best_param['warmup_steps'],\n",
    "        evaluation_strategy=\"epoch\",\n",
    "        gradient_accumulation_steps=2,\n",
    "        fp16=True,\n",
    "        disable_tqdm=False,\n",
    "        logging_dir='./logs',\n",
    "        log_level=\"error\",\n",
    "        report_to=\"none\", \n",
    "        seed=23\n",
    "    )\n",
    "    \n",
    "    # Initialize the Trainer with the best hyperparameters\n",
    "    best_trainer = Trainer(\n",
    "        model_init=model_init,\n",
    "        args=best_training_args,\n",
    "        train_dataset=data['train'],\n",
    "        eval_dataset=data['validation'],\n",
    "        compute_metrics=compute_metrics,\n",
    "        callbacks=[loss_metric],\n",
    "        tokenizer=tokenizer,\n",
    "    )\n",
    "    \n",
    "    # Train the model\n",
    "    best_trainer.train()\n",
    "\n",
    "    return best_trainer\n"
   ]
  },
  {
   "cell_type": "code",
   "execution_count": 34,
   "metadata": {},
   "outputs": [
    {
     "name": "stderr",
     "output_type": "stream",
     "text": [
      "/net/fs-2/scale/OrionStore/Scratch/joteklem/MyCondaEnvironments/Python3.11/orion_env/lib/python3.11/site-packages/accelerate/accelerator.py:432: FutureWarning: Passing the following arguments to `Accelerator` is deprecated and will be removed in version 1.0 of Accelerate: dict_keys(['dispatch_batches', 'split_batches', 'even_batches', 'use_seedable_sampler']). Please pass an `accelerate.DataLoaderConfiguration` instead: \n",
      "dataloader_config = DataLoaderConfiguration(dispatch_batches=None, split_batches=False, even_batches=True, use_seedable_sampler=True)\n",
      "  warnings.warn(\n",
      "Detected kernel version 3.10.0, which is below the recommended minimum of 5.5.0; this can cause the process to hang. It is recommended to upgrade the kernel to the minimum version or higher.\n"
     ]
    },
    {
     "data": {
      "text/html": [
       "\n",
       "    <div>\n",
       "      \n",
       "      <progress value='2520' max='2520' style='width:300px; height:20px; vertical-align: middle;'></progress>\n",
       "      [2520/2520 02:20, Epoch 4/4]\n",
       "    </div>\n",
       "    <table border=\"1\" class=\"dataframe\">\n",
       "  <thead>\n",
       " <tr style=\"text-align: left;\">\n",
       "      <th>Epoch</th>\n",
       "      <th>Training Loss</th>\n",
       "      <th>Validation Loss</th>\n",
       "      <th>Accuracy</th>\n",
       "      <th>Balanced accuracy</th>\n",
       "      <th>F1 weighted</th>\n",
       "      <th>F1 macro</th>\n",
       "      <th>F1 micro</th>\n",
       "      <th>Classification report</th>\n",
       "    </tr>\n",
       "  </thead>\n",
       "  <tbody>\n",
       "    <tr>\n",
       "      <td>1</td>\n",
       "      <td>0.765800</td>\n",
       "      <td>0.529789</td>\n",
       "      <td>0.796726</td>\n",
       "      <td>0.661856</td>\n",
       "      <td>0.785796</td>\n",
       "      <td>0.699250</td>\n",
       "      <td>0.796726</td>\n",
       "      <td>{'0': {'precision': 0.7588652482269503, 'recall': 0.5957683741648107, 'f1-score': 0.6674984404242046, 'support': 898.0}, '1': {'precision': 0.8135179153094463, 'recall': 0.9297347603536529, 'f1-score': 0.8677524429967426, 'support': 2149.0}, '2': {'precision': 0.7236180904522613, 'recall': 0.46006389776357826, 'f1-score': 0.5625, 'support': 313.0}, 'accuracy': 0.7967261904761904, 'macro avg': {'precision': 0.7653337513295527, 'recall': 0.6618556774273473, 'f1-score': 0.6992502944736491, 'support': 3360.0}, 'weighted avg': {'precision': 0.7905367426248092, 'recall': 0.7967261904761904, 'f1-score': 0.7857964581848021, 'support': 3360.0}}</td>\n",
       "    </tr>\n",
       "    <tr>\n",
       "      <td>2</td>\n",
       "      <td>0.506700</td>\n",
       "      <td>0.500553</td>\n",
       "      <td>0.821131</td>\n",
       "      <td>0.738492</td>\n",
       "      <td>0.816941</td>\n",
       "      <td>0.758109</td>\n",
       "      <td>0.821131</td>\n",
       "      <td>{'0': {'precision': 0.7589285714285714, 'recall': 0.6625835189309577, 'f1-score': 0.7074910820451843, 'support': 898.0}, '1': {'precision': 0.852060737527115, 'recall': 0.9139134481154025, 'f1-score': 0.8819039066008083, 'support': 2149.0}, '2': {'precision': 0.7380073800738007, 'recall': 0.6389776357827476, 'f1-score': 0.684931506849315, 'support': 313.0}, 'accuracy': 0.8211309523809524, 'macro avg': {'precision': 0.7829988963431624, 'recall': 0.7384915342763693, 'f1-score': 0.7581088318317692, 'support': 3360.0}, 'weighted avg': {'precision': 0.8165454440630139, 'recall': 0.8211309523809524, 'f1-score': 0.8169410858945084, 'support': 3360.0}}</td>\n",
       "    </tr>\n",
       "    <tr>\n",
       "      <td>3</td>\n",
       "      <td>0.408800</td>\n",
       "      <td>0.517451</td>\n",
       "      <td>0.819940</td>\n",
       "      <td>0.751439</td>\n",
       "      <td>0.816230</td>\n",
       "      <td>0.760682</td>\n",
       "      <td>0.819940</td>\n",
       "      <td>{'0': {'precision': 0.762778505897772, 'recall': 0.6481069042316259, 'f1-score': 0.7007826610475617, 'support': 898.0}, '1': {'precision': 0.854831657192829, 'recall': 0.9097254536993951, 'f1-score': 0.881424706943192, 'support': 2149.0}, '2': {'precision': 0.7032258064516129, 'recall': 0.6964856230031949, 'f1-score': 0.6998394863563403, 'support': 313.0}, 'accuracy': 0.8199404761904762, 'macro avg': {'precision': 0.7736119898474046, 'recall': 0.751439326978072, 'f1-score': 0.7606822847823648, 'support': 3360.0}, 'weighted avg': {'precision': 0.8161065497092094, 'recall': 0.8199404761904762, 'f1-score': 0.8162304416878466, 'support': 3360.0}}</td>\n",
       "    </tr>\n",
       "    <tr>\n",
       "      <td>4</td>\n",
       "      <td>0.266900</td>\n",
       "      <td>0.594812</td>\n",
       "      <td>0.812798</td>\n",
       "      <td>0.737049</td>\n",
       "      <td>0.809891</td>\n",
       "      <td>0.752259</td>\n",
       "      <td>0.812798</td>\n",
       "      <td>{'0': {'precision': 0.7237635705669482, 'recall': 0.6681514476614699, 'f1-score': 0.6948465547191662, 'support': 898.0}, '1': {'precision': 0.8554323725055433, 'recall': 0.8976268031642625, 'f1-score': 0.8760217983651226, 'support': 2149.0}, '2': {'precision': 0.7318840579710145, 'recall': 0.645367412140575, 'f1-score': 0.6859083191850595, 'support': 313.0}, 'accuracy': 0.812797619047619, 'macro avg': {'precision': 0.7703600003478354, 'recall': 0.7370485543221026, 'f1-score': 0.7522588907564494, 'support': 3360.0}, 'weighted avg': {'precision': 0.8087332038775177, 'recall': 0.812797619047619, 'f1-score': 0.8098905817646975, 'support': 3360.0}}</td>\n",
       "    </tr>\n",
       "  </tbody>\n",
       "</table><p>"
      ],
      "text/plain": [
       "<IPython.core.display.HTML object>"
      ]
     },
     "metadata": {},
     "output_type": "display_data"
    }
   ],
   "source": [
    "best_trainer_15 = eval_test(encoded_dataset_15, best_param_15)"
   ]
  },
  {
   "cell_type": "code",
   "execution_count": 35,
   "metadata": {},
   "outputs": [
    {
     "name": "stderr",
     "output_type": "stream",
     "text": [
      "/net/fs-2/scale/OrionStore/Scratch/joteklem/MyCondaEnvironments/Python3.11/orion_env/lib/python3.11/site-packages/accelerate/accelerator.py:432: FutureWarning: Passing the following arguments to `Accelerator` is deprecated and will be removed in version 1.0 of Accelerate: dict_keys(['dispatch_batches', 'split_batches', 'even_batches', 'use_seedable_sampler']). Please pass an `accelerate.DataLoaderConfiguration` instead: \n",
      "dataloader_config = DataLoaderConfiguration(dispatch_batches=None, split_batches=False, even_batches=True, use_seedable_sampler=True)\n",
      "  warnings.warn(\n",
      "Detected kernel version 3.10.0, which is below the recommended minimum of 5.5.0; this can cause the process to hang. It is recommended to upgrade the kernel to the minimum version or higher.\n"
     ]
    },
    {
     "data": {
      "text/html": [
       "\n",
       "    <div>\n",
       "      \n",
       "      <progress value='2532' max='2532' style='width:300px; height:20px; vertical-align: middle;'></progress>\n",
       "      [2532/2532 02:21, Epoch 4/4]\n",
       "    </div>\n",
       "    <table border=\"1\" class=\"dataframe\">\n",
       "  <thead>\n",
       " <tr style=\"text-align: left;\">\n",
       "      <th>Epoch</th>\n",
       "      <th>Training Loss</th>\n",
       "      <th>Validation Loss</th>\n",
       "      <th>Accuracy</th>\n",
       "      <th>Balanced accuracy</th>\n",
       "      <th>F1 weighted</th>\n",
       "      <th>F1 macro</th>\n",
       "      <th>F1 micro</th>\n",
       "      <th>Classification report</th>\n",
       "    </tr>\n",
       "  </thead>\n",
       "  <tbody>\n",
       "    <tr>\n",
       "      <td>1</td>\n",
       "      <td>0.792000</td>\n",
       "      <td>0.508793</td>\n",
       "      <td>0.817239</td>\n",
       "      <td>0.725732</td>\n",
       "      <td>0.815137</td>\n",
       "      <td>0.733945</td>\n",
       "      <td>0.817239</td>\n",
       "      <td>{'0': {'precision': 0.765906362545018, 'recall': 0.7088888888888889, 'f1-score': 0.7362954414310444, 'support': 900.0}, '1': {'precision': 0.8654188948306596, 'recall': 0.8982423681776133, 'f1-score': 0.8815251929187472, 'support': 2162.0}, '2': {'precision': 0.5986622073578596, 'recall': 0.5700636942675159, 'f1-score': 0.5840130505709624, 'support': 314.0}, 'accuracy': 0.817239336492891, 'macro avg': {'precision': 0.7433291549111791, 'recall': 0.7257316504446726, 'f1-score': 0.7339445616402513, 'support': 3376.0}, 'weighted avg': {'precision': 0.8140791795097068, 'recall': 0.817239336492891, 'f1-score': 0.8151372814743939, 'support': 3376.0}}</td>\n",
       "    </tr>\n",
       "    <tr>\n",
       "      <td>2</td>\n",
       "      <td>0.503800</td>\n",
       "      <td>0.465229</td>\n",
       "      <td>0.830569</td>\n",
       "      <td>0.737892</td>\n",
       "      <td>0.825760</td>\n",
       "      <td>0.754928</td>\n",
       "      <td>0.830569</td>\n",
       "      <td>{'0': {'precision': 0.8345021037868162, 'recall': 0.6611111111111111, 'f1-score': 0.7377557346559207, 'support': 900.0}, '1': {'precision': 0.851585623678647, 'recall': 0.9315448658649399, 'f1-score': 0.8897724762535897, 'support': 2162.0}, '2': {'precision': 0.6543624161073825, 'recall': 0.6210191082802548, 'f1-score': 0.6372549019607844, 'support': 314.0}, 'accuracy': 0.830568720379147, 'macro avg': {'precision': 0.7801500478576152, 'recall': 0.7378916950854352, 'f1-score': 0.7549277042900983, 'support': 3376.0}, 'weighted avg': {'precision': 0.8286877400648955, 'recall': 0.830568720379147, 'f1-score': 0.8257601581949869, 'support': 3376.0}}</td>\n",
       "    </tr>\n",
       "    <tr>\n",
       "      <td>3</td>\n",
       "      <td>0.410100</td>\n",
       "      <td>0.464422</td>\n",
       "      <td>0.833827</td>\n",
       "      <td>0.748710</td>\n",
       "      <td>0.830414</td>\n",
       "      <td>0.766204</td>\n",
       "      <td>0.833827</td>\n",
       "      <td>{'0': {'precision': 0.7922403003754693, 'recall': 0.7033333333333334, 'f1-score': 0.7451442024720424, 'support': 900.0}, '1': {'precision': 0.8634782608695653, 'recall': 0.9185938945420906, 'f1-score': 0.8901837740923353, 'support': 2162.0}, '2': {'precision': 0.7075812274368231, 'recall': 0.6242038216560509, 'f1-score': 0.6632825719120136, 'support': 314.0}, 'accuracy': 0.8338270142180095, 'macro avg': {'precision': 0.7877665962272858, 'recall': 0.748710349843825, 'f1-score': 0.766203516158797, 'support': 3376.0}, 'weighted avg': {'precision': 0.8299871966093261, 'recall': 0.8338270142180095, 'f1-score': 0.83041404899077, 'support': 3376.0}}</td>\n",
       "    </tr>\n",
       "    <tr>\n",
       "      <td>4</td>\n",
       "      <td>0.303600</td>\n",
       "      <td>0.497268</td>\n",
       "      <td>0.829680</td>\n",
       "      <td>0.761722</td>\n",
       "      <td>0.828441</td>\n",
       "      <td>0.770059</td>\n",
       "      <td>0.829680</td>\n",
       "      <td>{'0': {'precision': 0.7525773195876289, 'recall': 0.73, 'f1-score': 0.7411167512690355, 'support': 900.0}, '1': {'precision': 0.8760741745816373, 'recall': 0.8959296947271045, 'f1-score': 0.8858906928881776, 'support': 2162.0}, '2': {'precision': 0.708904109589041, 'recall': 0.6592356687898089, 'f1-score': 0.683168316831683, 'support': 314.0}, 'accuracy': 0.8296800947867299, 'macro avg': {'precision': 0.779185201252769, 'recall': 0.7617217878389712, 'f1-score': 0.7700585869962987, 'support': 3376.0}, 'weighted avg': {'precision': 0.8276030342077384, 'recall': 0.8296800947867299, 'f1-score': 0.8284406414844551, 'support': 3376.0}}</td>\n",
       "    </tr>\n",
       "  </tbody>\n",
       "</table><p>"
      ],
      "text/plain": [
       "<IPython.core.display.HTML object>"
      ]
     },
     "metadata": {},
     "output_type": "display_data"
    }
   ],
   "source": [
    "best_trainer_30 = eval_test(encoded_dataset_30, best_param_30)"
   ]
  },
  {
   "cell_type": "code",
   "execution_count": 36,
   "metadata": {
    "colab": {
     "base_uri": "https://localhost:8080/",
     "height": 142
    },
    "id": "ydoZYZr1ZWHV",
    "outputId": "5ddee13b-e1ee-417b-9fc5-5f42d51ce3f3"
   },
   "outputs": [
    {
     "data": {
      "text/html": [],
      "text/plain": [
       "<IPython.core.display.HTML object>"
      ]
     },
     "metadata": {},
     "output_type": "display_data"
    },
    {
     "name": "stdout",
     "output_type": "stream",
     "text": [
      "{'eval_loss': 0.5556369423866272, 'eval_Accuracy': 0.8214285714285714, 'eval_Balanced accuracy': 0.7453589863941152, 'eval_F1 weighted': 0.8190356172272036, 'eval_F1 macro': 0.758790149422205, 'eval_F1 micro': 0.8214285714285714, 'eval_Classification Report': {'0': {'precision': 0.7494033412887828, 'recall': 0.7001114827201784, 'f1-score': 0.7239193083573486, 'support': 897.0}, '1': {'precision': 0.8621151271753681, 'recall': 0.8990228013029316, 'f1-score': 0.8801822323462413, 'support': 2149.0}, '2': {'precision': 0.7117437722419929, 'recall': 0.6369426751592356, 'f1-score': 0.6722689075630253, 'support': 314.0}, 'accuracy': 0.8214285714285714, 'macro avg': {'precision': 0.7744207469020479, 'recall': 0.7453589863941152, 'f1-score': 0.758790149422205, 'support': 3360.0}, 'weighted avg': {'precision': 0.8179725446190149, 'recall': 0.8214285714285714, 'f1-score': 0.8190356172272036, 'support': 3360.0}}, 'eval_runtime': 2.7999, 'eval_samples_per_second': 1200.039, 'eval_steps_per_second': 150.005, 'epoch': 4.0}\n"
     ]
    }
   ],
   "source": [
    "results_15 = best_trainer_15.evaluate(encoded_dataset_15['test'])\n",
    "print(results_15)"
   ]
  },
  {
   "cell_type": "code",
   "execution_count": 37,
   "metadata": {
    "colab": {
     "base_uri": "https://localhost:8080/",
     "height": 142
    },
    "id": "ydoZYZr1ZWHV",
    "outputId": "5ddee13b-e1ee-417b-9fc5-5f42d51ce3f3"
   },
   "outputs": [
    {
     "data": {
      "text/html": [],
      "text/plain": [
       "<IPython.core.display.HTML object>"
      ]
     },
     "metadata": {},
     "output_type": "display_data"
    },
    {
     "name": "stdout",
     "output_type": "stream",
     "text": [
      "{'eval_loss': 0.5070501565933228, 'eval_Accuracy': 0.832345971563981, 'eval_Balanced accuracy': 0.7541664064295267, 'eval_F1 weighted': 0.8306029292449126, 'eval_F1 macro': 0.7677190141998539, 'eval_F1 micro': 0.832345971563981, 'eval_Classification Report': {'0': {'precision': 0.7516930022573364, 'recall': 0.74, 'f1-score': 0.7458006718924972, 'support': 900.0}, '1': {'precision': 0.877927927927928, 'recall': 0.9014801110083256, 'f1-score': 0.8895481515289823, 'support': 2162.0}, '2': {'precision': 0.7222222222222222, 'recall': 0.6210191082802548, 'f1-score': 0.6678082191780822, 'support': 314.0}, 'accuracy': 0.832345971563981, 'macro avg': {'precision': 0.7839477174691623, 'recall': 0.7541664064295267, 'f1-score': 0.7677190141998539, 'support': 3376.0}, 'weighted avg': {'precision': 0.829793145731505, 'recall': 0.832345971563981, 'f1-score': 0.8306029292449126, 'support': 3376.0}}, 'eval_runtime': 3.098, 'eval_samples_per_second': 1089.736, 'eval_steps_per_second': 136.217, 'epoch': 4.0}\n"
     ]
    }
   ],
   "source": [
    "results_30 = best_trainer_30.evaluate(encoded_dataset_30['test'])\n",
    "print(results_30)"
   ]
  },
  {
   "cell_type": "code",
   "execution_count": 38,
   "metadata": {
    "colab": {
     "base_uri": "https://localhost:8080/",
     "height": 207
    },
    "id": "ECSU6nJJZWHV",
    "outputId": "03748afc-24dd-49cc-ac48-577c93d8a875"
   },
   "outputs": [
    {
     "data": {
      "text/plain": [
       "{'test_loss': 0.5556369423866272,\n",
       " 'test_Accuracy': 0.8214285714285714,\n",
       " 'test_Balanced accuracy': 0.7453589863941152,\n",
       " 'test_F1 weighted': 0.8190356172272036,\n",
       " 'test_F1 macro': 0.758790149422205,\n",
       " 'test_F1 micro': 0.8214285714285714,\n",
       " 'test_Classification Report': {'0': {'precision': 0.7494033412887828,\n",
       "   'recall': 0.7001114827201784,\n",
       "   'f1-score': 0.7239193083573486,\n",
       "   'support': 897.0},\n",
       "  '1': {'precision': 0.8621151271753681,\n",
       "   'recall': 0.8990228013029316,\n",
       "   'f1-score': 0.8801822323462413,\n",
       "   'support': 2149.0},\n",
       "  '2': {'precision': 0.7117437722419929,\n",
       "   'recall': 0.6369426751592356,\n",
       "   'f1-score': 0.6722689075630253,\n",
       "   'support': 314.0},\n",
       "  'accuracy': 0.8214285714285714,\n",
       "  'macro avg': {'precision': 0.7744207469020479,\n",
       "   'recall': 0.7453589863941152,\n",
       "   'f1-score': 0.758790149422205,\n",
       "   'support': 3360.0},\n",
       "  'weighted avg': {'precision': 0.8179725446190149,\n",
       "   'recall': 0.8214285714285714,\n",
       "   'f1-score': 0.8190356172272036,\n",
       "   'support': 3360.0}},\n",
       " 'test_runtime': 3.387,\n",
       " 'test_samples_per_second': 992.018,\n",
       " 'test_steps_per_second': 124.002}"
      ]
     },
     "execution_count": 38,
     "metadata": {},
     "output_type": "execute_result"
    }
   ],
   "source": [
    "pred_15 = best_trainer_15.predict(encoded_dataset_15['test'])\n",
    "pred_15.metrics"
   ]
  },
  {
   "cell_type": "code",
   "execution_count": 39,
   "metadata": {
    "colab": {
     "base_uri": "https://localhost:8080/",
     "height": 207
    },
    "id": "ECSU6nJJZWHV",
    "outputId": "03748afc-24dd-49cc-ac48-577c93d8a875"
   },
   "outputs": [
    {
     "data": {
      "text/plain": [
       "{'test_loss': 0.5070501565933228,\n",
       " 'test_Accuracy': 0.832345971563981,\n",
       " 'test_Balanced accuracy': 0.7541664064295267,\n",
       " 'test_F1 weighted': 0.8306029292449126,\n",
       " 'test_F1 macro': 0.7677190141998539,\n",
       " 'test_F1 micro': 0.832345971563981,\n",
       " 'test_Classification Report': {'0': {'precision': 0.7516930022573364,\n",
       "   'recall': 0.74,\n",
       "   'f1-score': 0.7458006718924972,\n",
       "   'support': 900.0},\n",
       "  '1': {'precision': 0.877927927927928,\n",
       "   'recall': 0.9014801110083256,\n",
       "   'f1-score': 0.8895481515289823,\n",
       "   'support': 2162.0},\n",
       "  '2': {'precision': 0.7222222222222222,\n",
       "   'recall': 0.6210191082802548,\n",
       "   'f1-score': 0.6678082191780822,\n",
       "   'support': 314.0},\n",
       "  'accuracy': 0.832345971563981,\n",
       "  'macro avg': {'precision': 0.7839477174691623,\n",
       "   'recall': 0.7541664064295267,\n",
       "   'f1-score': 0.7677190141998539,\n",
       "   'support': 3376.0},\n",
       "  'weighted avg': {'precision': 0.829793145731505,\n",
       "   'recall': 0.832345971563981,\n",
       "   'f1-score': 0.8306029292449126,\n",
       "   'support': 3376.0}},\n",
       " 'test_runtime': 3.7275,\n",
       " 'test_samples_per_second': 905.71,\n",
       " 'test_steps_per_second': 113.214}"
      ]
     },
     "execution_count": 39,
     "metadata": {},
     "output_type": "execute_result"
    }
   ],
   "source": [
    "pred_30 = best_trainer_30.predict(encoded_dataset_30['test'])\n",
    "pred_30.metrics"
   ]
  },
  {
   "cell_type": "code",
   "execution_count": 40,
   "metadata": {},
   "outputs": [
    {
     "data": {
      "text/plain": [
       "array([[ 628,  237,   32],\n",
       "       [ 168, 1932,   49],\n",
       "       [  42,   72,  200]])"
      ]
     },
     "execution_count": 40,
     "metadata": {},
     "output_type": "execute_result"
    }
   ],
   "source": [
    "predicted_labels_15 = np.argmax(pred_15.predictions, axis=1)\n",
    "\n",
    "# Generate the confusion matrix\n",
    "conf_matrix_15 = confusion_matrix(encoded_dataset_15['test']['labels'], predicted_labels_15)\n",
    "conf_matrix_15"
   ]
  },
  {
   "cell_type": "code",
   "execution_count": 41,
   "metadata": {},
   "outputs": [
    {
     "data": {
      "text/plain": [
       "array([[ 666,  197,   37],\n",
       "       [ 175, 1949,   38],\n",
       "       [  45,   74,  195]])"
      ]
     },
     "execution_count": 41,
     "metadata": {},
     "output_type": "execute_result"
    }
   ],
   "source": [
    "predicted_labels_30 = np.argmax(pred_30.predictions, axis=1)\n",
    "\n",
    "# Generate the confusion matrix\n",
    "conf_matrix_30 = confusion_matrix(encoded_dataset_30['test']['labels'], predicted_labels_30)\n",
    "conf_matrix_30"
   ]
  },
  {
   "cell_type": "code",
   "execution_count": 42,
   "metadata": {},
   "outputs": [],
   "source": [
    "def plot_confusion_matrix(y_pred, y_true, labels, filename=None):\n",
    "    cm = confusion_matrix(y_true, y_pred, normalize=\"true\")\n",
    "    _, ax = plt.subplots(figsize=(6, 6))\n",
    "    disp = ConfusionMatrixDisplay(confusion_matrix=cm, display_labels=labels)\n",
    "    disp.plot(cmap=\"Blues\", values_format=\".2f\", ax=ax, colorbar=False)\n",
    "    #plt.title(\"Normalized confusion matrix\")\n",
    "    if filename is not None:\n",
    "        plt.savefig(filename)\n",
    "    plt.show()"
   ]
  },
  {
   "cell_type": "code",
   "execution_count": 43,
   "metadata": {},
   "outputs": [
    {
     "data": {
      "image/png": "[encoded data removed]",
      "text/plain": [
       "<Figure size 600x600 with 1 Axes>"
      ]
     },
     "metadata": {},
     "output_type": "display_data"
    }
   ],
   "source": [
    "plot_confusion_matrix(predicted_labels_15,\n",
    "                      encoded_dataset_15['test']['labels'],\n",
    "                      ['Corner', 'Foul', 'Goal'],\n",
    "                     filename='conf_matrix_MiniLM_15.png')"
   ]
  },
  {
   "cell_type": "code",
   "execution_count": 44,
   "metadata": {},
   "outputs": [
    {
     "data": {
      "image/png": "[encoded data removed]",
      "text/plain": [
       "<Figure size 600x600 with 1 Axes>"
      ]
     },
     "metadata": {},
     "output_type": "display_data"
    }
   ],
   "source": [
    "plot_confusion_matrix(predicted_labels_30,\n",
    "                      encoded_dataset_30['test']['labels'],\n",
    "                      ['Corner', 'Foul', 'Goal'],\n",
    "                     filename='conf_matrix_MiniLM_30.png')"
   ]
  },
  {
   "cell_type": "code",
   "execution_count": 45,
   "metadata": {
    "id": "WKVuc-VSITZ4"
   },
   "outputs": [],
   "source": [
    "# Plotting the confusion matrix\n",
    "#sns.heatmap(conf_matrix, annot=True, fmt='g')\n",
    "#plt.xlabel('Predicted labels')\n",
    "#plt.ylabel('True labels')\n",
    "#plt.show()\n",
    "\n",
    "#print(labels_name[0],':', labels[0])\n",
    "#print(labels_name[1],':', labels[1])\n",
    "#print(labels_name[2],':', labels[2])"
   ]
  },
  {
   "cell_type": "code",
   "execution_count": 46,
   "metadata": {},
   "outputs": [],
   "source": [
    "# Learning curve \n",
    "#training_losses = loss_metric._training_losses\n",
    "#validation_losses = loss_metric._validation_losses\n",
    "\n",
    "#epochs = range(1, len(validation_losses) + 1)\n",
    "\n",
    "#plt.figure(figsize=(10, 6))\n",
    "#plt.plot(epochs, training_losses, label='Training Loss')\n",
    "#plt.plot(epochs, validation_losses, label='Validation Loss')\n",
    "#plt.title('Learning Curve')\n",
    "#plt.xlabel('Epochs')\n",
    "#plt.ylabel('Loss')\n",
    "#plt.legend()\n",
    "#plt.show()"
   ]
  },
  {
   "cell_type": "code",
   "execution_count": null,
   "metadata": {},
   "outputs": [],
   "source": []
  }
 ],
 "metadata": {
  "accelerator": "GPU",
  "colab": {
   "gpuType": "T4",
   "provenance": []
  },
  "kernelspec": {
   "display_name": "orion_env",
   "language": "python",
   "name": "orion_env"
  },
  "language_info": {
   "codemirror_mode": {
    "name": "ipython",
    "version": 3
   },
   "file_extension": ".py",
   "mimetype": "text/x-python",
   "name": "python",
   "nbconvert_exporter": "python",
   "pygments_lexer": "ipython3",
   "version": "3.11.0"
  },
  "widgets": {
   "application/vnd.jupyter.widget-state+json": {
    "01e56378e3614c63a65b17db6c76ca44": {
     "model_module": "@jupyter-widgets/controls",
     "model_module_version": "1.5.0",
     "model_name": "FloatProgressModel",
     "state": {
      "_dom_classes": [],
      "_model_module": "@jupyter-widgets/controls",
      "_model_module_version": "1.5.0",
      "_model_name": "FloatProgressModel",
      "_view_count": null,
      "_view_module": "@jupyter-widgets/controls",
      "_view_module_version": "1.5.0",
      "_view_name": "ProgressView",
      "bar_style": "success",
      "description": "",
      "description_tooltip": null,
      "layout": "IPY_MODEL_218b35fa27fb4fb48b96430ff47ee6c4",
      "max": 11758,
      "min": 0,
      "orientation": "horizontal",
      "style": "IPY_MODEL_1d859de4d9f84cdeae87fe95eab87e82",
      "value": 11758
     }
    },
    "08072fcdaefd49a9bb04c3ff669a1907": {
     "model_module": "@jupyter-widgets/controls",
     "model_module_version": "1.5.0",
     "model_name": "ProgressStyleModel",
     "state": {
      "_model_module": "@jupyter-widgets/controls",
      "_model_module_version": "1.5.0",
      "_model_name": "ProgressStyleModel",
      "_view_count": null,
      "_view_module": "@jupyter-widgets/base",
      "_view_module_version": "1.2.0",
      "_view_name": "StyleView",
      "bar_color": null,
      "description_width": ""
     }
    },
    "15741a26cc304005a8c1a7ffc381f5d0": {
     "model_module": "@jupyter-widgets/controls",
     "model_module_version": "1.5.0",
     "model_name": "DescriptionStyleModel",
     "state": {
      "_model_module": "@jupyter-widgets/controls",
      "_model_module_version": "1.5.0",
      "_model_name": "DescriptionStyleModel",
      "_view_count": null,
      "_view_module": "@jupyter-widgets/base",
      "_view_module_version": "1.2.0",
      "_view_name": "StyleView",
      "description_width": ""
     }
    },
    "16fa1db7c8c3413a809da7b4beb060c5": {
     "model_module": "@jupyter-widgets/controls",
     "model_module_version": "1.5.0",
     "model_name": "HTMLModel",
     "state": {
      "_dom_classes": [],
      "_model_module": "@jupyter-widgets/controls",
      "_model_module_version": "1.5.0",
      "_model_name": "HTMLModel",
      "_view_count": null,
      "_view_module": "@jupyter-widgets/controls",
      "_view_module_version": "1.5.0",
      "_view_name": "HTMLView",
      "description": "",
      "description_tooltip": null,
      "layout": "IPY_MODEL_6c3a89cb1ce54ffd8cad064efdc95a98",
      "placeholder": "​",
      "style": "IPY_MODEL_e155ff3d30a34086929725a2d8cb6866",
      "value": " 2520/2520 [00:00&lt;00:00, 6889.46 examples/s]"
     }
    },
    "1d859de4d9f84cdeae87fe95eab87e82": {
     "model_module": "@jupyter-widgets/controls",
     "model_module_version": "1.5.0",
     "model_name": "ProgressStyleModel",
     "state": {
      "_model_module": "@jupyter-widgets/controls",
      "_model_module_version": "1.5.0",
      "_model_name": "ProgressStyleModel",
      "_view_count": null,
      "_view_module": "@jupyter-widgets/base",
      "_view_module_version": "1.2.0",
      "_view_name": "StyleView",
      "bar_color": null,
      "description_width": ""
     }
    },
    "218b35fa27fb4fb48b96430ff47ee6c4": {
     "model_module": "@jupyter-widgets/base",
     "model_module_version": "1.2.0",
     "model_name": "LayoutModel",
     "state": {
      "_model_module": "@jupyter-widgets/base",
      "_model_module_version": "1.2.0",
      "_model_name": "LayoutModel",
      "_view_count": null,
      "_view_module": "@jupyter-widgets/base",
      "_view_module_version": "1.2.0",
      "_view_name": "LayoutView",
      "align_content": null,
      "align_items": null,
      "align_self": null,
      "border": null,
      "bottom": null,
      "display": null,
      "flex": null,
      "flex_flow": null,
      "grid_area": null,
      "grid_auto_columns": null,
      "grid_auto_flow": null,
      "grid_auto_rows": null,
      "grid_column": null,
      "grid_gap": null,
      "grid_row": null,
      "grid_template_areas": null,
      "grid_template_columns": null,
      "grid_template_rows": null,
      "height": null,
      "justify_content": null,
      "justify_items": null,
      "left": null,
      "margin": null,
      "max_height": null,
      "max_width": null,
      "min_height": null,
      "min_width": null,
      "object_fit": null,
      "object_position": null,
      "order": null,
      "overflow": null,
      "overflow_x": null,
      "overflow_y": null,
      "padding": null,
      "right": null,
      "top": null,
      "visibility": null,
      "width": null
     }
    },
    "2477a3068be849a886eb37221aaa69f6": {
     "model_module": "@jupyter-widgets/controls",
     "model_module_version": "1.5.0",
     "model_name": "DescriptionStyleModel",
     "state": {
      "_model_module": "@jupyter-widgets/controls",
      "_model_module_version": "1.5.0",
      "_model_name": "DescriptionStyleModel",
      "_view_count": null,
      "_view_module": "@jupyter-widgets/base",
      "_view_module_version": "1.2.0",
      "_view_name": "StyleView",
      "description_width": ""
     }
    },
    "3d789263f6f242d58fb0f095f646c085": {
     "model_module": "@jupyter-widgets/base",
     "model_module_version": "1.2.0",
     "model_name": "LayoutModel",
     "state": {
      "_model_module": "@jupyter-widgets/base",
      "_model_module_version": "1.2.0",
      "_model_name": "LayoutModel",
      "_view_count": null,
      "_view_module": "@jupyter-widgets/base",
      "_view_module_version": "1.2.0",
      "_view_name": "LayoutView",
      "align_content": null,
      "align_items": null,
      "align_self": null,
      "border": null,
      "bottom": null,
      "display": null,
      "flex": null,
      "flex_flow": null,
      "grid_area": null,
      "grid_auto_columns": null,
      "grid_auto_flow": null,
      "grid_auto_rows": null,
      "grid_column": null,
      "grid_gap": null,
      "grid_row": null,
      "grid_template_areas": null,
      "grid_template_columns": null,
      "grid_template_rows": null,
      "height": null,
      "justify_content": null,
      "justify_items": null,
      "left": null,
      "margin": null,
      "max_height": null,
      "max_width": null,
      "min_height": null,
      "min_width": null,
      "object_fit": null,
      "object_position": null,
      "order": null,
      "overflow": null,
      "overflow_x": null,
      "overflow_y": null,
      "padding": null,
      "right": null,
      "top": null,
      "visibility": null,
      "width": null
     }
    },
    "470731ac5a6549b9bf56c76f8c60854f": {
     "model_module": "@jupyter-widgets/controls",
     "model_module_version": "1.5.0",
     "model_name": "FloatProgressModel",
     "state": {
      "_dom_classes": [],
      "_model_module": "@jupyter-widgets/controls",
      "_model_module_version": "1.5.0",
      "_model_name": "FloatProgressModel",
      "_view_count": null,
      "_view_module": "@jupyter-widgets/controls",
      "_view_module_version": "1.5.0",
      "_view_name": "ProgressView",
      "bar_style": "success",
      "description": "",
      "description_tooltip": null,
      "layout": "IPY_MODEL_b435842110964bb2a47f18b7b7d04d39",
      "max": 2520,
      "min": 0,
      "orientation": "horizontal",
      "style": "IPY_MODEL_e3b7927de286424ea8d14dbfdc03222b",
      "value": 2520
     }
    },
    "507d112a8b1d42329213ae833b75b27a": {
     "model_module": "@jupyter-widgets/controls",
     "model_module_version": "1.5.0",
     "model_name": "HTMLModel",
     "state": {
      "_dom_classes": [],
      "_model_module": "@jupyter-widgets/controls",
      "_model_module_version": "1.5.0",
      "_model_name": "HTMLModel",
      "_view_count": null,
      "_view_module": "@jupyter-widgets/controls",
      "_view_module_version": "1.5.0",
      "_view_name": "HTMLView",
      "description": "",
      "description_tooltip": null,
      "layout": "IPY_MODEL_ff82cb86c931451797ed846166380cbb",
      "placeholder": "​",
      "style": "IPY_MODEL_9fcb8b6e92a34e2a9ec073b80e432bb8",
      "value": "Map: 100%"
     }
    },
    "59653ea68b3a4fa9a0445a6bfd2b2119": {
     "model_module": "@jupyter-widgets/controls",
     "model_module_version": "1.5.0",
     "model_name": "HTMLModel",
     "state": {
      "_dom_classes": [],
      "_model_module": "@jupyter-widgets/controls",
      "_model_module_version": "1.5.0",
      "_model_name": "HTMLModel",
      "_view_count": null,
      "_view_module": "@jupyter-widgets/controls",
      "_view_module_version": "1.5.0",
      "_view_name": "HTMLView",
      "description": "",
      "description_tooltip": null,
      "layout": "IPY_MODEL_c6da5ddb06ad4c318a9340f4a9bccc73",
      "placeholder": "​",
      "style": "IPY_MODEL_b853a13c309c4f72ad70f49d045ac44f",
      "value": " 2520/2520 [00:00&lt;00:00, 6963.90 examples/s]"
     }
    },
    "6c3a89cb1ce54ffd8cad064efdc95a98": {
     "model_module": "@jupyter-widgets/base",
     "model_module_version": "1.2.0",
     "model_name": "LayoutModel",
     "state": {
      "_model_module": "@jupyter-widgets/base",
      "_model_module_version": "1.2.0",
      "_model_name": "LayoutModel",
      "_view_count": null,
      "_view_module": "@jupyter-widgets/base",
      "_view_module_version": "1.2.0",
      "_view_name": "LayoutView",
      "align_content": null,
      "align_items": null,
      "align_self": null,
      "border": null,
      "bottom": null,
      "display": null,
      "flex": null,
      "flex_flow": null,
      "grid_area": null,
      "grid_auto_columns": null,
      "grid_auto_flow": null,
      "grid_auto_rows": null,
      "grid_column": null,
      "grid_gap": null,
      "grid_row": null,
      "grid_template_areas": null,
      "grid_template_columns": null,
      "grid_template_rows": null,
      "height": null,
      "justify_content": null,
      "justify_items": null,
      "left": null,
      "margin": null,
      "max_height": null,
      "max_width": null,
      "min_height": null,
      "min_width": null,
      "object_fit": null,
      "object_position": null,
      "order": null,
      "overflow": null,
      "overflow_x": null,
      "overflow_y": null,
      "padding": null,
      "right": null,
      "top": null,
      "visibility": null,
      "width": null
     }
    },
    "9021c75c0d5a461a914d5b6a4b8e5ae5": {
     "model_module": "@jupyter-widgets/controls",
     "model_module_version": "1.5.0",
     "model_name": "FloatProgressModel",
     "state": {
      "_dom_classes": [],
      "_model_module": "@jupyter-widgets/controls",
      "_model_module_version": "1.5.0",
      "_model_name": "FloatProgressModel",
      "_view_count": null,
      "_view_module": "@jupyter-widgets/controls",
      "_view_module_version": "1.5.0",
      "_view_name": "ProgressView",
      "bar_style": "success",
      "description": "",
      "description_tooltip": null,
      "layout": "IPY_MODEL_ed23306cbb92429296bb082440cd9309",
      "max": 2520,
      "min": 0,
      "orientation": "horizontal",
      "style": "IPY_MODEL_08072fcdaefd49a9bb04c3ff669a1907",
      "value": 2520
     }
    },
    "959dd79165c045a6a96b19aaa810989d": {
     "model_module": "@jupyter-widgets/base",
     "model_module_version": "1.2.0",
     "model_name": "LayoutModel",
     "state": {
      "_model_module": "@jupyter-widgets/base",
      "_model_module_version": "1.2.0",
      "_model_name": "LayoutModel",
      "_view_count": null,
      "_view_module": "@jupyter-widgets/base",
      "_view_module_version": "1.2.0",
      "_view_name": "LayoutView",
      "align_content": null,
      "align_items": null,
      "align_self": null,
      "border": null,
      "bottom": null,
      "display": null,
      "flex": null,
      "flex_flow": null,
      "grid_area": null,
      "grid_auto_columns": null,
      "grid_auto_flow": null,
      "grid_auto_rows": null,
      "grid_column": null,
      "grid_gap": null,
      "grid_row": null,
      "grid_template_areas": null,
      "grid_template_columns": null,
      "grid_template_rows": null,
      "height": null,
      "justify_content": null,
      "justify_items": null,
      "left": null,
      "margin": null,
      "max_height": null,
      "max_width": null,
      "min_height": null,
      "min_width": null,
      "object_fit": null,
      "object_position": null,
      "order": null,
      "overflow": null,
      "overflow_x": null,
      "overflow_y": null,
      "padding": null,
      "right": null,
      "top": null,
      "visibility": null,
      "width": null
     }
    },
    "9fcb8b6e92a34e2a9ec073b80e432bb8": {
     "model_module": "@jupyter-widgets/controls",
     "model_module_version": "1.5.0",
     "model_name": "DescriptionStyleModel",
     "state": {
      "_model_module": "@jupyter-widgets/controls",
      "_model_module_version": "1.5.0",
      "_model_name": "DescriptionStyleModel",
      "_view_count": null,
      "_view_module": "@jupyter-widgets/base",
      "_view_module_version": "1.2.0",
      "_view_name": "StyleView",
      "description_width": ""
     }
    },
    "abe03b595e254d5a875668449ac1f222": {
     "model_module": "@jupyter-widgets/base",
     "model_module_version": "1.2.0",
     "model_name": "LayoutModel",
     "state": {
      "_model_module": "@jupyter-widgets/base",
      "_model_module_version": "1.2.0",
      "_model_name": "LayoutModel",
      "_view_count": null,
      "_view_module": "@jupyter-widgets/base",
      "_view_module_version": "1.2.0",
      "_view_name": "LayoutView",
      "align_content": null,
      "align_items": null,
      "align_self": null,
      "border": null,
      "bottom": null,
      "display": null,
      "flex": null,
      "flex_flow": null,
      "grid_area": null,
      "grid_auto_columns": null,
      "grid_auto_flow": null,
      "grid_auto_rows": null,
      "grid_column": null,
      "grid_gap": null,
      "grid_row": null,
      "grid_template_areas": null,
      "grid_template_columns": null,
      "grid_template_rows": null,
      "height": null,
      "justify_content": null,
      "justify_items": null,
      "left": null,
      "margin": null,
      "max_height": null,
      "max_width": null,
      "min_height": null,
      "min_width": null,
      "object_fit": null,
      "object_position": null,
      "order": null,
      "overflow": null,
      "overflow_x": null,
      "overflow_y": null,
      "padding": null,
      "right": null,
      "top": null,
      "visibility": null,
      "width": null
     }
    },
    "adcd6cc9e61e494eb8f62192c09f3ad6": {
     "model_module": "@jupyter-widgets/controls",
     "model_module_version": "1.5.0",
     "model_name": "HTMLModel",
     "state": {
      "_dom_classes": [],
      "_model_module": "@jupyter-widgets/controls",
      "_model_module_version": "1.5.0",
      "_model_name": "HTMLModel",
      "_view_count": null,
      "_view_module": "@jupyter-widgets/controls",
      "_view_module_version": "1.5.0",
      "_view_name": "HTMLView",
      "description": "",
      "description_tooltip": null,
      "layout": "IPY_MODEL_abe03b595e254d5a875668449ac1f222",
      "placeholder": "​",
      "style": "IPY_MODEL_15741a26cc304005a8c1a7ffc381f5d0",
      "value": "Map: 100%"
     }
    },
    "b435842110964bb2a47f18b7b7d04d39": {
     "model_module": "@jupyter-widgets/base",
     "model_module_version": "1.2.0",
     "model_name": "LayoutModel",
     "state": {
      "_model_module": "@jupyter-widgets/base",
      "_model_module_version": "1.2.0",
      "_model_name": "LayoutModel",
      "_view_count": null,
      "_view_module": "@jupyter-widgets/base",
      "_view_module_version": "1.2.0",
      "_view_name": "LayoutView",
      "align_content": null,
      "align_items": null,
      "align_self": null,
      "border": null,
      "bottom": null,
      "display": null,
      "flex": null,
      "flex_flow": null,
      "grid_area": null,
      "grid_auto_columns": null,
      "grid_auto_flow": null,
      "grid_auto_rows": null,
      "grid_column": null,
      "grid_gap": null,
      "grid_row": null,
      "grid_template_areas": null,
      "grid_template_columns": null,
      "grid_template_rows": null,
      "height": null,
      "justify_content": null,
      "justify_items": null,
      "left": null,
      "margin": null,
      "max_height": null,
      "max_width": null,
      "min_height": null,
      "min_width": null,
      "object_fit": null,
      "object_position": null,
      "order": null,
      "overflow": null,
      "overflow_x": null,
      "overflow_y": null,
      "padding": null,
      "right": null,
      "top": null,
      "visibility": null,
      "width": null
     }
    },
    "b70eb7891c5a4d608793bda215a55097": {
     "model_module": "@jupyter-widgets/base",
     "model_module_version": "1.2.0",
     "model_name": "LayoutModel",
     "state": {
      "_model_module": "@jupyter-widgets/base",
      "_model_module_version": "1.2.0",
      "_model_name": "LayoutModel",
      "_view_count": null,
      "_view_module": "@jupyter-widgets/base",
      "_view_module_version": "1.2.0",
      "_view_name": "LayoutView",
      "align_content": null,
      "align_items": null,
      "align_self": null,
      "border": null,
      "bottom": null,
      "display": null,
      "flex": null,
      "flex_flow": null,
      "grid_area": null,
      "grid_auto_columns": null,
      "grid_auto_flow": null,
      "grid_auto_rows": null,
      "grid_column": null,
      "grid_gap": null,
      "grid_row": null,
      "grid_template_areas": null,
      "grid_template_columns": null,
      "grid_template_rows": null,
      "height": null,
      "justify_content": null,
      "justify_items": null,
      "left": null,
      "margin": null,
      "max_height": null,
      "max_width": null,
      "min_height": null,
      "min_width": null,
      "object_fit": null,
      "object_position": null,
      "order": null,
      "overflow": null,
      "overflow_x": null,
      "overflow_y": null,
      "padding": null,
      "right": null,
      "top": null,
      "visibility": null,
      "width": null
     }
    },
    "b853a13c309c4f72ad70f49d045ac44f": {
     "model_module": "@jupyter-widgets/controls",
     "model_module_version": "1.5.0",
     "model_name": "DescriptionStyleModel",
     "state": {
      "_model_module": "@jupyter-widgets/controls",
      "_model_module_version": "1.5.0",
      "_model_name": "DescriptionStyleModel",
      "_view_count": null,
      "_view_module": "@jupyter-widgets/base",
      "_view_module_version": "1.2.0",
      "_view_name": "StyleView",
      "description_width": ""
     }
    },
    "bf8b1d1b01e949e886fb42798da2c99c": {
     "model_module": "@jupyter-widgets/controls",
     "model_module_version": "1.5.0",
     "model_name": "HTMLModel",
     "state": {
      "_dom_classes": [],
      "_model_module": "@jupyter-widgets/controls",
      "_model_module_version": "1.5.0",
      "_model_name": "HTMLModel",
      "_view_count": null,
      "_view_module": "@jupyter-widgets/controls",
      "_view_module_version": "1.5.0",
      "_view_name": "HTMLView",
      "description": "",
      "description_tooltip": null,
      "layout": "IPY_MODEL_cde39602589e40a786f84217ff08ba8f",
      "placeholder": "​",
      "style": "IPY_MODEL_f2824675896c4d2eafa46e00dce346fa",
      "value": "Map: 100%"
     }
    },
    "c34ffa60d5b343a493e8ed2d10db3629": {
     "model_module": "@jupyter-widgets/controls",
     "model_module_version": "1.5.0",
     "model_name": "HBoxModel",
     "state": {
      "_dom_classes": [],
      "_model_module": "@jupyter-widgets/controls",
      "_model_module_version": "1.5.0",
      "_model_name": "HBoxModel",
      "_view_count": null,
      "_view_module": "@jupyter-widgets/controls",
      "_view_module_version": "1.5.0",
      "_view_name": "HBoxView",
      "box_style": "",
      "children": [
       "IPY_MODEL_507d112a8b1d42329213ae833b75b27a",
       "IPY_MODEL_01e56378e3614c63a65b17db6c76ca44",
       "IPY_MODEL_c9441b93fa4a4c44b1e82867143a7eda"
      ],
      "layout": "IPY_MODEL_b70eb7891c5a4d608793bda215a55097"
     }
    },
    "c6da5ddb06ad4c318a9340f4a9bccc73": {
     "model_module": "@jupyter-widgets/base",
     "model_module_version": "1.2.0",
     "model_name": "LayoutModel",
     "state": {
      "_model_module": "@jupyter-widgets/base",
      "_model_module_version": "1.2.0",
      "_model_name": "LayoutModel",
      "_view_count": null,
      "_view_module": "@jupyter-widgets/base",
      "_view_module_version": "1.2.0",
      "_view_name": "LayoutView",
      "align_content": null,
      "align_items": null,
      "align_self": null,
      "border": null,
      "bottom": null,
      "display": null,
      "flex": null,
      "flex_flow": null,
      "grid_area": null,
      "grid_auto_columns": null,
      "grid_auto_flow": null,
      "grid_auto_rows": null,
      "grid_column": null,
      "grid_gap": null,
      "grid_row": null,
      "grid_template_areas": null,
      "grid_template_columns": null,
      "grid_template_rows": null,
      "height": null,
      "justify_content": null,
      "justify_items": null,
      "left": null,
      "margin": null,
      "max_height": null,
      "max_width": null,
      "min_height": null,
      "min_width": null,
      "object_fit": null,
      "object_position": null,
      "order": null,
      "overflow": null,
      "overflow_x": null,
      "overflow_y": null,
      "padding": null,
      "right": null,
      "top": null,
      "visibility": null,
      "width": null
     }
    },
    "c9441b93fa4a4c44b1e82867143a7eda": {
     "model_module": "@jupyter-widgets/controls",
     "model_module_version": "1.5.0",
     "model_name": "HTMLModel",
     "state": {
      "_dom_classes": [],
      "_model_module": "@jupyter-widgets/controls",
      "_model_module_version": "1.5.0",
      "_model_name": "HTMLModel",
      "_view_count": null,
      "_view_module": "@jupyter-widgets/controls",
      "_view_module_version": "1.5.0",
      "_view_name": "HTMLView",
      "description": "",
      "description_tooltip": null,
      "layout": "IPY_MODEL_959dd79165c045a6a96b19aaa810989d",
      "placeholder": "​",
      "style": "IPY_MODEL_2477a3068be849a886eb37221aaa69f6",
      "value": " 11758/11758 [00:03&lt;00:00, 3947.68 examples/s]"
     }
    },
    "cde39602589e40a786f84217ff08ba8f": {
     "model_module": "@jupyter-widgets/base",
     "model_module_version": "1.2.0",
     "model_name": "LayoutModel",
     "state": {
      "_model_module": "@jupyter-widgets/base",
      "_model_module_version": "1.2.0",
      "_model_name": "LayoutModel",
      "_view_count": null,
      "_view_module": "@jupyter-widgets/base",
      "_view_module_version": "1.2.0",
      "_view_name": "LayoutView",
      "align_content": null,
      "align_items": null,
      "align_self": null,
      "border": null,
      "bottom": null,
      "display": null,
      "flex": null,
      "flex_flow": null,
      "grid_area": null,
      "grid_auto_columns": null,
      "grid_auto_flow": null,
      "grid_auto_rows": null,
      "grid_column": null,
      "grid_gap": null,
      "grid_row": null,
      "grid_template_areas": null,
      "grid_template_columns": null,
      "grid_template_rows": null,
      "height": null,
      "justify_content": null,
      "justify_items": null,
      "left": null,
      "margin": null,
      "max_height": null,
      "max_width": null,
      "min_height": null,
      "min_width": null,
      "object_fit": null,
      "object_position": null,
      "order": null,
      "overflow": null,
      "overflow_x": null,
      "overflow_y": null,
      "padding": null,
      "right": null,
      "top": null,
      "visibility": null,
      "width": null
     }
    },
    "e155ff3d30a34086929725a2d8cb6866": {
     "model_module": "@jupyter-widgets/controls",
     "model_module_version": "1.5.0",
     "model_name": "DescriptionStyleModel",
     "state": {
      "_model_module": "@jupyter-widgets/controls",
      "_model_module_version": "1.5.0",
      "_model_name": "DescriptionStyleModel",
      "_view_count": null,
      "_view_module": "@jupyter-widgets/base",
      "_view_module_version": "1.2.0",
      "_view_name": "StyleView",
      "description_width": ""
     }
    },
    "e3b7927de286424ea8d14dbfdc03222b": {
     "model_module": "@jupyter-widgets/controls",
     "model_module_version": "1.5.0",
     "model_name": "ProgressStyleModel",
     "state": {
      "_model_module": "@jupyter-widgets/controls",
      "_model_module_version": "1.5.0",
      "_model_name": "ProgressStyleModel",
      "_view_count": null,
      "_view_module": "@jupyter-widgets/base",
      "_view_module_version": "1.2.0",
      "_view_name": "StyleView",
      "bar_color": null,
      "description_width": ""
     }
    },
    "ec2af10498fa478da3897815faa52532": {
     "model_module": "@jupyter-widgets/controls",
     "model_module_version": "1.5.0",
     "model_name": "HBoxModel",
     "state": {
      "_dom_classes": [],
      "_model_module": "@jupyter-widgets/controls",
      "_model_module_version": "1.5.0",
      "_model_name": "HBoxModel",
      "_view_count": null,
      "_view_module": "@jupyter-widgets/controls",
      "_view_module_version": "1.5.0",
      "_view_name": "HBoxView",
      "box_style": "",
      "children": [
       "IPY_MODEL_adcd6cc9e61e494eb8f62192c09f3ad6",
       "IPY_MODEL_470731ac5a6549b9bf56c76f8c60854f",
       "IPY_MODEL_16fa1db7c8c3413a809da7b4beb060c5"
      ],
      "layout": "IPY_MODEL_3d789263f6f242d58fb0f095f646c085"
     }
    },
    "ed23306cbb92429296bb082440cd9309": {
     "model_module": "@jupyter-widgets/base",
     "model_module_version": "1.2.0",
     "model_name": "LayoutModel",
     "state": {
      "_model_module": "@jupyter-widgets/base",
      "_model_module_version": "1.2.0",
      "_model_name": "LayoutModel",
      "_view_count": null,
      "_view_module": "@jupyter-widgets/base",
      "_view_module_version": "1.2.0",
      "_view_name": "LayoutView",
      "align_content": null,
      "align_items": null,
      "align_self": null,
      "border": null,
      "bottom": null,
      "display": null,
      "flex": null,
      "flex_flow": null,
      "grid_area": null,
      "grid_auto_columns": null,
      "grid_auto_flow": null,
      "grid_auto_rows": null,
      "grid_column": null,
      "grid_gap": null,
      "grid_row": null,
      "grid_template_areas": null,
      "grid_template_columns": null,
      "grid_template_rows": null,
      "height": null,
      "justify_content": null,
      "justify_items": null,
      "left": null,
      "margin": null,
      "max_height": null,
      "max_width": null,
      "min_height": null,
      "min_width": null,
      "object_fit": null,
      "object_position": null,
      "order": null,
      "overflow": null,
      "overflow_x": null,
      "overflow_y": null,
      "padding": null,
      "right": null,
      "top": null,
      "visibility": null,
      "width": null
     }
    },
    "f2824675896c4d2eafa46e00dce346fa": {
     "model_module": "@jupyter-widgets/controls",
     "model_module_version": "1.5.0",
     "model_name": "DescriptionStyleModel",
     "state": {
      "_model_module": "@jupyter-widgets/controls",
      "_model_module_version": "1.5.0",
      "_model_name": "DescriptionStyleModel",
      "_view_count": null,
      "_view_module": "@jupyter-widgets/base",
      "_view_module_version": "1.2.0",
      "_view_name": "StyleView",
      "description_width": ""
     }
    },
    "f52080b2e3f2485e81ff9acbda80a4b4": {
     "model_module": "@jupyter-widgets/base",
     "model_module_version": "1.2.0",
     "model_name": "LayoutModel",
     "state": {
      "_model_module": "@jupyter-widgets/base",
      "_model_module_version": "1.2.0",
      "_model_name": "LayoutModel",
      "_view_count": null,
      "_view_module": "@jupyter-widgets/base",
      "_view_module_version": "1.2.0",
      "_view_name": "LayoutView",
      "align_content": null,
      "align_items": null,
      "align_self": null,
      "border": null,
      "bottom": null,
      "display": null,
      "flex": null,
      "flex_flow": null,
      "grid_area": null,
      "grid_auto_columns": null,
      "grid_auto_flow": null,
      "grid_auto_rows": null,
      "grid_column": null,
      "grid_gap": null,
      "grid_row": null,
      "grid_template_areas": null,
      "grid_template_columns": null,
      "grid_template_rows": null,
      "height": null,
      "justify_content": null,
      "justify_items": null,
      "left": null,
      "margin": null,
      "max_height": null,
      "max_width": null,
      "min_height": null,
      "min_width": null,
      "object_fit": null,
      "object_position": null,
      "order": null,
      "overflow": null,
      "overflow_x": null,
      "overflow_y": null,
      "padding": null,
      "right": null,
      "top": null,
      "visibility": null,
      "width": null
     }
    },
    "f9d6fb11f15a4ae2ae26376d47ad45f6": {
     "model_module": "@jupyter-widgets/controls",
     "model_module_version": "1.5.0",
     "model_name": "HBoxModel",
     "state": {
      "_dom_classes": [],
      "_model_module": "@jupyter-widgets/controls",
      "_model_module_version": "1.5.0",
      "_model_name": "HBoxModel",
      "_view_count": null,
      "_view_module": "@jupyter-widgets/controls",
      "_view_module_version": "1.5.0",
      "_view_name": "HBoxView",
      "box_style": "",
      "children": [
       "IPY_MODEL_bf8b1d1b01e949e886fb42798da2c99c",
       "IPY_MODEL_9021c75c0d5a461a914d5b6a4b8e5ae5",
       "IPY_MODEL_59653ea68b3a4fa9a0445a6bfd2b2119"
      ],
      "layout": "IPY_MODEL_f52080b2e3f2485e81ff9acbda80a4b4"
     }
    },
    "ff82cb86c931451797ed846166380cbb": {
     "model_module": "@jupyter-widgets/base",
     "model_module_version": "1.2.0",
     "model_name": "LayoutModel",
     "state": {
      "_model_module": "@jupyter-widgets/base",
      "_model_module_version": "1.2.0",
      "_model_name": "LayoutModel",
      "_view_count": null,
      "_view_module": "@jupyter-widgets/base",
      "_view_module_version": "1.2.0",
      "_view_name": "LayoutView",
      "align_content": null,
      "align_items": null,
      "align_self": null,
      "border": null,
      "bottom": null,
      "display": null,
      "flex": null,
      "flex_flow": null,
      "grid_area": null,
      "grid_auto_columns": null,
      "grid_auto_flow": null,
      "grid_auto_rows": null,
      "grid_column": null,
      "grid_gap": null,
      "grid_row": null,
      "grid_template_areas": null,
      "grid_template_columns": null,
      "grid_template_rows": null,
      "height": null,
      "justify_content": null,
      "justify_items": null,
      "left": null,
      "margin": null,
      "max_height": null,
      "max_width": null,
      "min_height": null,
      "min_width": null,
      "object_fit": null,
      "object_position": null,
      "order": null,
      "overflow": null,
      "overflow_x": null,
      "overflow_y": null,
      "padding": null,
      "right": null,
      "top": null,
      "visibility": null,
      "width": null
     }
    }
   }
  }
 },
 "nbformat": 4,
 "nbformat_minor": 4
}
